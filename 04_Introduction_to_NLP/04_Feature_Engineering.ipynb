{
 "cells": [
  {
   "cell_type": "markdown",
   "metadata": {},
   "source": [
    "<h1 align=\"center\"><b>Feature Engineering</b></h1>\n",
    "\n",
    "<h3><div align=\"right\">Ehtisham Sadiq</div></h3>    \n"
   ]
  },
  {
   "cell_type": "markdown",
   "metadata": {},
   "source": [
    "<img align=\"center\" width=\"900\"  src=\"images/phase3.png\"  > "
   ]
  },
  {
   "cell_type": "markdown",
   "metadata": {},
   "source": [
    "# Learning Agenda of this Notebook\n",
    "\n",
    "- **Overview of Feature Engineering and Vectorization**\n",
    "  \n",
    "- **Frequency or Statistical Based Approaches**\n",
    "  - Label Encoding\n",
    "  - One-Hot Encoding\n",
    "  - Bag of Words\n",
    "  - Bag of n-grams\n",
    "  - TF-IDF\n",
    "\n",
    "- **Prediction-Based Approaches (Embeddings)**\n",
    "  - Word2Vec — From Google\n",
    "  - FastText — From Facebook"
   ]
  },
  {
   "cell_type": "code",
   "execution_count": null,
   "metadata": {},
   "outputs": [],
   "source": []
  },
  {
   "cell_type": "code",
   "execution_count": null,
   "metadata": {},
   "outputs": [],
   "source": []
  },
  {
   "cell_type": "markdown",
   "metadata": {},
   "source": [
    "# <span style='background :lightgreen' > Overview of Feature Engineering and Text Vectorization </span>\n",
    "\n",
    "## a. What do you mean by `Feature` in Machine Learning?\n",
    "\n",
    "<!-- <img src=\"images/pca5.png\" style=\"align:center\" height=500px width=900px> -->\n",
    "<img src=\"images/pca5.png\" style=\"display: block; margin: 0 auto;\" height=\"400px\" width=\"900px\">\n",
    "\n",
    "<br/>\n",
    "\n",
    "> **Feature engineering involves identifying and transforming attributes `(features)` from raw data into a format suitable for machine learning models. Think of it as crafting the input that powers AI systems.**\n",
    "\n",
    "Imagine predicting house prices. `Features` could include:\n",
    "- The city it’s in.\n",
    "- The size of the house.\n",
    "- The number of bedrooms."
   ]
  },
  {
   "cell_type": "code",
   "execution_count": null,
   "metadata": {},
   "outputs": [],
   "source": []
  },
  {
   "cell_type": "code",
   "execution_count": null,
   "metadata": {},
   "outputs": [],
   "source": []
  },
  {
   "cell_type": "markdown",
   "metadata": {},
   "source": [
    "## b. What do you mean by `Feature` in Natural Language Processing?\n",
    "\n",
    "# <h3 align=\"center\"><div class=\"alert alert-success\" style=\"margin: 20px\">Andrew Ng Youtube Lectures are amazing.</h3>\n",
    "\n",
    "Similarly, in `NLP`:\n",
    "- A `feature` can be a single word, phrase, sentence, or even an entire document.\n",
    "- Our job is to represent these features as numbers. Why? Because machine learning models can only understand numbers, not plain text."
   ]
  },
  {
   "cell_type": "code",
   "execution_count": null,
   "metadata": {},
   "outputs": [],
   "source": []
  },
  {
   "cell_type": "code",
   "execution_count": null,
   "metadata": {},
   "outputs": [],
   "source": []
  },
  {
   "cell_type": "markdown",
   "metadata": {},
   "source": [
    "## c. What is Feature Engineering or Text Vectorization?\n",
    "\n",
    "> **It’s the process of converting text into vectors (arrays of numbers) that represent the meaning or frequency of the text.**\n",
    "\n",
    "<img src=\"images/text-rep3.png\" style=\"display: block; margin: 0 auto;\" height=\"500px\" width=\"900px\">"
   ]
  },
  {
   "cell_type": "markdown",
   "metadata": {},
   "source": [
    "####  Feature Extraction from Text (Text Representation or Text Vectorization)\n",
    "\n",
    "The process of converting text data into vectors of real numbers is called **Feature Extraction from Text** or **Text Representation/Text Vectorization**. The goal of this process is to transform textual data into numerical form, ensuring that these numbers can capture the semantic or contextual meaning of the words.\n",
    "\n",
    "In simple terms:\n",
    "- **Text Vectorization** converts words or phrases into a format that machines can process, such as vectors of numbers.\n",
    "- These numbers represent the meaning or attributes of the text in a mathematical form.\n",
    "\n",
    "\n",
    "**Example**\n",
    "The example demonstrates how different textual entities can be represented numerically based on their attributes or properties:\n",
    "1. Each vector contains numerical representations of features such as:\n",
    "   - **Person** (1 or 0, denoting if it is a person)\n",
    "   - **Healthy/Fit** (a continuous value representing fitness level)\n",
    "   - **Location** (binary representation indicating presence as a location)\n",
    "   - **Has two eyes** (binary attribute indicating presence of this feature)\n",
    "   - **Has Government** (binary attribute for governmental entities)\n",
    "\n",
    "2. The vectors in the image:\n",
    "   - Blue vector `[1, 0.8, 0, 1, 0]`: Represents a person who is healthy, not a location, has two eyes, and does not represent a government.\n",
    "   - Orange vector `[1, 0.9, 0, 1, 0]`: Another individual with similar attributes but a higher \"Healthy/Fit\" value.\n",
    "   - Green vector `[0, 0.6, 1, 0, 1]`: Represents a location entity with medium fitness value, does not have two eyes, but represents a government.\n",
    "\n",
    "This approach ensures that text entities are numerically encoded for further machine learning or natural language processing tasks.\n",
    "\n",
    "\n",
    "**Importance**\n",
    "- **Why Feature Extraction from Text?**\n",
    "   - Converts unstructured textual data into structured numerical data.\n",
    "   - Enables the use of machine learning models for text classification, clustering, and other NLP tasks.\n",
    "   - Represents textual data in a way that preserves semantic meaning and relationships."
   ]
  },
  {
   "cell_type": "code",
   "execution_count": null,
   "metadata": {},
   "outputs": [],
   "source": []
  },
  {
   "cell_type": "code",
   "execution_count": null,
   "metadata": {},
   "outputs": [],
   "source": []
  },
  {
   "cell_type": "markdown",
   "metadata": {},
   "source": [
    "## d. Why to do Text Vectorization?\n",
    "\n",
    "\n",
    "<img src=\"images/text-rep2.png\" style=\"display: block; margin: 0 auto;\" height=\"900px\" width=\"1300px\">"
   ]
  },
  {
   "cell_type": "markdown",
   "metadata": {},
   "source": [
    "1. **Convert Text to Numerical Representations**  \n",
    "   - Text vectorization transforms textual features like words, phrases, or entire documents into numerical vectors, enabling machine learning algorithms to process and analyze the data.  \n",
    "   - Example: Words like \"football\" and \"basketball\" are represented as numeric vectors `[3, 1]`.\n",
    "\n",
    "2. **Enable Mathematical and Statistical Operations**  \n",
    "   - Text vectors allow for mathematical operations such as addition, subtraction, and similarity measurement.  \n",
    "   - This enables algorithms to assess relationships between words, phrases, or documents effectively.\n",
    "\n",
    "3. **Facilitate Document Similarity Analysis**  \n",
    "   - By representing documents as vectors, their similarity can be calculated using methods like **cosine similarity**.  \n",
    "   - Example: Two documents with angles close to 0 degrees are more similar, while those with larger angles (e.g., 90 degrees) are dissimilar.\n",
    "\n",
    "4. **Handle High-Dimensional Text Features**  \n",
    "   - Although visualizing low-dimensional vectors is simple, real-world text data involves thousands of features.  \n",
    "   - Text vectorization techniques like cosine similarity enable efficient handling and comparison of such high-dimensional data.\n",
    "\n",
    "\n",
    "#### **Difference Between Cosine Similarity and Cosine Distance**\n",
    "\n",
    "##### **Cosine Similarity**\n",
    "- **Definition**: Measures the cosine of the angle between two vectors in a multidimensional space.\n",
    "- **Range**: Values range from 0 to 1:\n",
    "  - `1`: Vectors are identical (angle = 0 degrees).\n",
    "  - `0`: Vectors are orthogonal or completely different (angle = 90 degrees).\n",
    "\n",
    "##### **Cosine Distance**\n",
    "- **Definition**: Measures the dissimilarity between two vectors by subtracting the cosine similarity from 1.\n",
    "- **Range**: Values range from 0 to 1:\n",
    "  - `0`: Vectors are identical.\n",
    "  - `1`: Vectors are completely different.\n",
    "\n",
    "#### **When to Use Each**\n",
    "\n",
    "1. **Cosine Similarity**\n",
    "   - **Use Case**: When you want to **compare similarity** between text data or documents.  \n",
    "     Examples:\n",
    "       - Ranking search results based on query-document similarity.\n",
    "       - Measuring how similar two product reviews or news articles are.\n",
    "   - **Scenario**: Useful in recommendation systems, document clustering, and NLP tasks where identifying closeness in meaning is the goal.\n",
    "\n",
    "2. **Cosine Distance**\n",
    "   - **Use Case**: When you want to focus on **dissimilarity** or differences between vectors.  \n",
    "     Examples:\n",
    "       - Finding outliers in datasets.\n",
    "       - Evaluating how distinct one document is from another.\n",
    "   - **Scenario**: Useful in anomaly detection, classification tasks, or when penalizing differences is critical."
   ]
  },
  {
   "cell_type": "code",
   "execution_count": null,
   "metadata": {},
   "outputs": [],
   "source": []
  },
  {
   "cell_type": "code",
   "execution_count": null,
   "metadata": {},
   "outputs": [],
   "source": []
  },
  {
   "cell_type": "markdown",
   "metadata": {},
   "source": [
    "## e. How to do Text Vectorization?\n",
    "\n",
    "\n",
    "<img src=\"images/vec-techniques.jpg\" style=\"display: block; margin: 0 auto;\" height=\"600px\" width=\"1000px\">\n",
    "\n",
    "\n",
    "\n",
    "##### **1. Frequency or Statistical-Based Approaches**\n",
    "These methods rely on counting or transforming the frequency of words in the text.\n",
    "\n",
    "- **Label Encoding**: Assigns unique integers to each word.\n",
    "- **One-Hot Encoding**: Creates binary vectors with one \"hot\" (1) value for the presence of a word and 0 elsewhere.\n",
    "- **Bag of Words**: Represents text by the frequency of words, ignoring grammar and word order.\n",
    "- **Bag of N-Grams**: Considers combinations of words (n-grams) to capture more context.\n",
    "- **TF-IDF**: Combines term frequency (TF) and inverse document frequency (IDF) to weight words based on their importance in the document.\n",
    "\n",
    "\n",
    "\n",
    "##### **2. Prediction-Based Approaches (Embeddings)**\n",
    "These approaches rely on neural networks to generate dense vector representations of words.\n",
    "\n",
    "- **Word2Vec**: Developed by Google, uses shallow neural networks to create word embeddings.\n",
    "- **FastText**: Developed by Facebook, extends Word2Vec by capturing subword information, making embeddings useful for rare words.\n",
    "\n",
    "\n",
    "\n",
    "##### **Process Workflow for Text Vectorization**\n",
    "The process of text vectorization involves the following steps:\n",
    "\n",
    "1. **Corpus Preparation**:\n",
    "   - Start with raw textual data or a document collection.\n",
    "\n",
    "2. **Preprocessing**:\n",
    "   - **Splitting**: Split text into smaller components like sentences or words.\n",
    "   - **Noise Removal**: Remove unnecessary characters, symbols, or stopwords.\n",
    "   - **Normalization**: Standardize text (e.g., convert to lowercase).\n",
    "\n",
    "3. **Tokenization**:\n",
    "   - Split the text into individual words or tokens.\n",
    "\n",
    "4. **Token-ID Mapping**:\n",
    "   - Map tokens to their respective IDs using:\n",
    "     - Vocabulary lookup for known words.\n",
    "     - Feature hashing for unknown or rare words.\n",
    "\n",
    "5. **Vectorization Outputs**:\n",
    "   - **One-Hot Encoding**\n",
    "   - **Count Vectors (+ TF-IDF)**\n",
    "   - **Word Embeddings**"
   ]
  },
  {
   "cell_type": "markdown",
   "metadata": {},
   "source": [
    "### Example of Token-ID Mapping"
   ]
  },
  {
   "cell_type": "code",
   "execution_count": 43,
   "metadata": {},
   "outputs": [],
   "source": [
    "from sklearn.feature_extraction.text import HashingVectorizer\n",
    "\n",
    "# Vocabulary lookup for known words\n",
    "vocabulary = {\n",
    "    \"person\": 1,\n",
    "    \"healthy\": 2,\n",
    "    \"fit\": 3,\n",
    "    \"location\": 4,\n",
    "    \"government\": 5\n",
    "}"
   ]
  },
  {
   "cell_type": "code",
   "execution_count": null,
   "metadata": {},
   "outputs": [],
   "source": [
    "# Input text\n",
    "text = \"person healthy fit unknown\"\n",
    "\n",
    "# Tokenize the text\n",
    "tokens = text.split()\n",
    "\n",
    "# Token-ID Mapping using vocabulary lookup\n",
    "token_ids = [vocabulary.get(token, None) for token in tokens]\n",
    "print(\"Token IDs using vocabulary lookup:\")\n",
    "print(token_ids)  # Known tokens will have IDs, unknown will be None"
   ]
  },
  {
   "cell_type": "code",
   "execution_count": null,
   "metadata": {},
   "outputs": [],
   "source": [
    "# Feature hashing for unknown or rare words\n",
    "vectorizer = HashingVectorizer(n_features=10)  # 10 hash buckets\n",
    "hashed_features = vectorizer.transform([text])\n",
    "\n",
    "print(\"\\nFeature hashing output:\")\n",
    "print(hashed_features.toarray())"
   ]
  },
  {
   "cell_type": "code",
   "execution_count": null,
   "metadata": {},
   "outputs": [],
   "source": []
  },
  {
   "cell_type": "markdown",
   "metadata": {},
   "source": [
    "## 1. Label Encoding\n",
    "\n",
    "#### Definitions:\n",
    "- **Document**: A single text data point (e.g., a tweet, a YouTube comment, or a product review).\n",
    "- **Corpus**: A collection of all documents in the dataset.\n",
    "- **Feature**: Every unique word in the corpus.\n",
    "\n",
    "#### Example:\n",
    "- Consider the following corpus that consist of three documents:\n",
    "\n",
    "    ```boldtext\n",
    "    doc1 = [\"Ali help his students\"]\n",
    "    doc2 = [\"Ali assist his students\"]\n",
    "    doc3 = [\"Ali lectures are great\"]\n",
    "    ```\n",
    "**Vocabulary:**\n",
    "- To build a vocabulary, assign a unique number to each word in the corpus:\n",
    "\n",
    "    ```boldtext\n",
    "    vocab = {1: 'students', 2: 'assist', 3: 'his', 4: 'help', 5: 'Ali', 6: 'lectures', 7: 'great', 8: 'are'}\n",
    "    ```\n",
    "\n",
    "**Vectorized Documents:**\n",
    "- Each word in the document is replaced by its corresponding number from the vocabulary:\n",
    "\n",
    "    ```boldtext\n",
    "    doc1 = [5, 4, 3, 1]  # \"Ali help his students\"\n",
    "    doc2 = [5, 2, 3, 1]  # \"Ali assist his students\"\n",
    "    doc3 = [5, 6, 8, 7]  # \"Ali lectures are great\"\n",
    "    ```\n",
    "\n",
    "- **Limitations of Label Encoding**\n",
    "    - **Size is not Fixed**:\n",
    "    - Example: Consider a new document: `Ali students are great help`. \n",
    "        - When vectorized, this document will have a size of 5 instead of 4 (as expected by the machine learning algorithm).\n",
    "        - Machine learning algorithms often expect fixed-size input, making such cases unprocessable.\n",
    "  \n",
    "    - **Out of Vocabulary Problem (OOV)**:\n",
    "    - Example: Consider a new document: `Ali YouTube lectures are great`. \n",
    "        - The word `YouTube` is not in the vocabulary, so it cannot be encoded.\n",
    "        - This is known as the Out of Vocabulary (OOV) problem.\n",
    "\n",
    "    - **Cannot Capture Semantics/Meanings**:\n",
    "    - The words `help` and `assist` are almost similar in meaning, but they are represented completely differently in label encoding. \n",
    "        - As a result, semantic relationships are lost.\n",
    "\n",
    "    > **Conclusion:** Due to these limitations, **Label Encoding** is not suitable for transforming text data into numbers for most Natural Language Processing (NLP) applications."
   ]
  },
  {
   "cell_type": "code",
   "execution_count": null,
   "metadata": {},
   "outputs": [],
   "source": [
    "# Python Implementation\n",
    "corpus = [\n",
    "    \"Ali help his students\",\n",
    "    \"Ali assist his students\",\n",
    "    \"Ali lectures are great\"\n",
    "]\n",
    "\n",
    "# Build Vocabulary\n",
    "vocab = {'students': 1, 'assist': 2, 'his': 3, 'help': 4, 'Ali': 5, 'lectures': 6, 'great': 7, 'are': 8}\n",
    "\n",
    "# Function to encode documents\n",
    "def encode_document(doc, vocab):\n",
    "    return [vocab[word] for word in doc.split()]\n",
    "\n",
    "# Encode each document\n",
    "doc1_encoded = encode_document(\"Ali help his students\", vocab)\n",
    "doc2_encoded = encode_document(\"Ali assist his students\", vocab)\n",
    "doc3_encoded = encode_document(\"Ali lectures are great\", vocab)\n",
    "# doc4_encoded = encode_document(\"Ali lectures are not great\", vocab)\n",
    "\n",
    "print(\"Encoded Documents:\")\n",
    "print(\"doc1:\", doc1_encoded)\n",
    "print(\"doc2:\", doc2_encoded)\n",
    "print(\"doc3:\", doc3_encoded)\n",
    "# print(\"doc4:\", doc4_encoded)"
   ]
  },
  {
   "cell_type": "code",
   "execution_count": null,
   "metadata": {},
   "outputs": [],
   "source": []
  },
  {
   "cell_type": "markdown",
   "metadata": {},
   "source": [
    "## 2. One-Hot Encoding\n",
    "\n",
    "- Consider the following corpus that consists of three documents and the corresponding vocabulary of the corpus:\n",
    "\n",
    "    ```boldtext\n",
    "    doc1 = [\"Ali help his students\"]\n",
    "    doc2 = [\"Ali assist his students\"]\n",
    "    doc3 = [\"Ali lectures are great\"]\n",
    "    ```\n",
    "\n",
    "```boldtext    \n",
    "vocab = {'students', 'assist', 'his', 'help', 'Ali', 'lectures', 'great', 'are'}\n",
    "```\n",
    "\n",
    "- Encode every word as a binary vector of the same size as the number of words in the vocabulary, with only one location having a value of 1, and that is under the word.\n",
    "- The columns in the following matrix are the words in the vocabulary, while rows are the words with their vector representation:\n",
    "\n",
    "| Word      | students | assist | his | help | Ali | lectures | great | are |\n",
    "|-----------|----------|--------|-----|------|-----|----------|-------|-----|\n",
    "| Ali       | 0        | 0      | 0   | 0    | 1   | 0        | 0     | 0   |\n",
    "| help      | 0        | 0      | 0   | 1    | 0   | 0        | 0     | 0   |\n",
    "| his       | 0        | 0      | 1   | 0    | 0   | 0        | 0     | 0   |\n",
    "| students  | 1        | 0      | 0   | 0    | 0   | 0        | 0     | 0   |\n",
    "| assist    | 0        | 1      | 0   | 0    | 0   | 0        | 0     | 0   |\n",
    "| great     | 0        | 0      | 0   | 0    | 0   | 0        | 1     | 0   |\n",
    "| are       | 0        | 0      | 0   | 0    | 0   | 0        | 0     | 1   |\n",
    "| lectures  | 0        | 0      | 0   | 0    | 0   | 1        | 0     | 0   |\n",
    "\n",
    "- In One-Hot Encoding, you represent every word of a document as a vector of size ( v ), where ( v ) is the size of the vocabulary.\n",
    "- The vectorization of the three documents using one-hot encoding is shown below:\n",
    "\n",
    "    ```boldtext\n",
    "    doc1 = [\"Ali help his students\"] = [[00001000], [00010000], [00100000], [10000000]]\n",
    "    doc2 = [\"Ali assist his students\"] = [[00001000], [01000000], [00100000], [10000000]]\n",
    "    doc3 = [\"Ali lectures are great\"] = [[00001000], [00000001], [00000010], [00000100]]\n",
    "    ```"
   ]
  },
  {
   "cell_type": "markdown",
   "metadata": {},
   "source": [
    "**Limitations**:\n",
    "- **Size is not Fixed:**\n",
    "    - Consider a document (Ali students are great help) that we need to classify. Once you vectorize this document, the size of the sparse matrix representing this document will be ( (5, 8) ), i.e., 40 numbers.\n",
    "\t- Unfortunately, our machine learning algorithms expect same/fixed size input, and therefore, we will not be able to process it.\n",
    "- **Out of Vocabulary Problem (OOV)**:\n",
    "\t- Consider a document (Ali YouTube lectures are great). It has a new word `YouTube` that is not there in the vocabulary.\n",
    "\t- So we will not be able to encode it. This is called an out of vocabulary (OOV) problem.\n",
    "- **Cannot Capture Semantic Meanings:**\n",
    "\t- The word `help` and `assist` are almost similar in meaning, but these two words have completely different representations in one-hot encoding.\n",
    "- **Sparse Matrix Representation:**\n",
    "\t- This technique is memory-hungry. For example, in the above toy example, each document is represented by a sparse matrix of size ( (4, 8) ), i.e., 32 numbers, out of which 28 are zero.\n",
    "\n",
    "> **Due to these limitations, One-Hot Encoding is not used for transforming text data into numbers in any of the NLP applications.**"
   ]
  },
  {
   "cell_type": "code",
   "execution_count": null,
   "metadata": {},
   "outputs": [],
   "source": [
    "# Define the vocabulary\n",
    "vocab = ['students', 'assist', 'his', 'help', 'Ali', 'lectures', 'great', 'are']\n",
    "\n",
    "# Define the documents\n",
    "documents = [\n",
    "    \"Ali help his students\",\n",
    "    \"Ali assist his students\",\n",
    "    \"Ali lectures are great\"\n",
    "]\n",
    "\n",
    "# Create a one-hot encoding matrix\n",
    "one_hot_matrix = {word: [1 if word == token else 0 for token in vocab] for word in vocab}\n",
    "\n",
    "# Display the one-hot encoded table\n",
    "print(f\"{'Word':<10} {' '.join([f'{token:<8}' for token in vocab])}\")\n",
    "for word in vocab:\n",
    "    print(f\"{word:<10} {' '.join([str(one_hot_matrix[word][i]).ljust(8) for i in range(len(vocab))])}\")"
   ]
  },
  {
   "cell_type": "code",
   "execution_count": null,
   "metadata": {},
   "outputs": [],
   "source": []
  },
  {
   "cell_type": "code",
   "execution_count": null,
   "metadata": {},
   "outputs": [],
   "source": []
  },
  {
   "cell_type": "markdown",
   "metadata": {},
   "source": [
    "## 3. Bag of Words (BoW) Encoding\n",
    "\n",
    "### a. Conceptual Understanding\n",
    "- `Bag of Words (BoW)` is the most basic strategy for converting a text document into numbers, which specifies the presence/count of a word/n-grams in a vocabulary.\n",
    "- The most common NLP application in which we use BoW representation is text classification (e.g., classifying a collection of documents into categories like sports, entertainment, and politics).\n",
    "- Consider the following corpus that consists of three documents consisting of five, ten, and five words respectively and the corresponding vocabulary of the corpus:\n",
    "\n",
    "\t```boldtext\n",
    "\tdoc1 = [\"Ali YouTube lectures are amazing\"]\n",
    "\tdoc2 = [\"I like YouTube lectures and Khurram also like YouTube lectures\"]\n",
    "\tdoc3 = [\"Ali YouTube lectures are great\"]\n",
    "\t```\n",
    "**Vocabulary Mapping**\n",
    "\t```\n",
    "\tvocab = {'also': 0, 'amazing': 1, 'and': 2, 'are': 3, 'ali': 4, 'great': 5, 'khurram': 6, 'lectures': 7, 'like': 8, 'youtube': 9}\n",
    "\t```\n",
    "\n",
    "- Irrespective of the size, each document is converted into a `v-dimensional frequency vector`, where `v` is the size of the vocabulary.\n",
    "- The three documents are represented as `Document-Term Matrix (DTM)`, which is  mathematical matrix that describe the frequency of terms that occur in a collection of documents.\n",
    "\n",
    "**In Theory**\n",
    "| Word     | also | amazing | and | are | ali | great | khurram | lectures | like | youtube |\n",
    "|----------|------|---------|-----|-----|-----|-------|---------|----------|------|---------|\n",
    "| **doc1** | 0    | 1       | 0   | 1   | 1   | 0     | 0       | 1        | 0    | 1       |\n",
    "| **doc2** | 1    | 0       | 1   | 0   | 0   | 0     | 1       | 2        | 2    | 2       |\n",
    "| **doc3** | 0    | 0       | 0   | 1   | 1   | 1     | 0       | 1        | 0    | 1       |\n",
    "\n",
    "\n",
    "**In Practice**\n",
    "| Index | 0 | 1 | 2 | 3 | 4 | 5 | 6 | 7 | 8 | 9 |\n",
    "|-------|---|---|---|---|---|---|---|---|---|---|\n",
    "| **doc1** | 0 | 1 | 0 | 1 | 1 | 0 | 0 | 1 | 0 | 1 |\n",
    "| **doc2** | 1 | 0 | 1 | 0 | 0 | 0 | 1 | 2 | 2 | 2 |\n",
    "| **doc3** | 0 | 0 | 0 | 1 | 1 | 1 | 0 | 1 | 0 | 1 |\n",
    "\n",
    "\n",
    "- `doc1` has a total of 5 words each appearing once, and it is represented as a vector of size 10 (count of vocab), having 5 non-zero values.\n",
    "\n",
    "- `doc2` has a total of 9 words with 6 unique words (excluding single character I). The word “like”, “YouTube”, and “lectures” are coming twice, the rest of the words are appearing once. doc2 is represented as a vector of size 10.\n",
    "\n",
    "- `doc3` has a total of 5 words, each appearing once, and it is represented as a vector of size 10 (count of vocab), having 5 non-zero values.\n",
    "\n",
    "**Advantage:**\n",
    "- `Size is Fixed:` Unlike one-hot encoding, which encodes every word separately, BoW technique encodes every document as a fixed-size vector irrespective of the number of words in it. So this can now be easily fed to a machine learning algorithm.\n",
    "\n",
    "**Limitations:**\n",
    "- `Size Reduced but Still Large:` The vector representation of a document is small in size as compared to one-hot encoding.\n",
    "- `Sparsity Reduced but Still Exists:` A bit better than one-hot encoding; however, vector representation of BoW still has lots and lots of zero values.\n",
    "- `OOV Partially Solved:` In BoW, a word which is not in the vocabulary will be valued as zero.\n",
    "- `Semantic Meaning are Partially Captured:` A bit better than one-hot encoding; however, BoW does not capture the meaning of sentences accurately.\n",
    "- `Ordering of Words is Ignored:` In BoW representation, the ordering of words is not captured.\n",
    "- `Two Very Similar Vectors Convey Completely Different Meanings:` For instance, “Ali YouTube lectures are very good” and “Ali YouTube lectures are not very good” will have similar vectors in BoW but convey opposite meanings."
   ]
  },
  {
   "cell_type": "code",
   "execution_count": null,
   "metadata": {},
   "outputs": [],
   "source": [
    "# {'also': 0, 'amazing': 1, 'and': 2, 'are': 3, 'ali': 4, 'great': 5, 'khurram': 6, 'lectures': 7, 'like': 8, 'youtube': 9}"
   ]
  },
  {
   "cell_type": "code",
   "execution_count": 32,
   "metadata": {},
   "outputs": [],
   "source": [
    "    # vocab = {\n",
    "    #     'also like': 0,\n",
    "    #     'and khurram': 1,\n",
    "    #     'are amazing': 2,\n",
    "    #     'are great': 3,\n",
    "    #     'ali youtube': 4,\n",
    "    #     'khurram also': 5,\n",
    "    #     'lectures and': 6,\n",
    "    #     'lectures are': 7,\n",
    "    #     'like youtube': 8,\n",
    "    #     'youtube lectures': 9\n",
    "    # }"
   ]
  },
  {
   "cell_type": "code",
   "execution_count": 33,
   "metadata": {},
   "outputs": [],
   "source": [
    "\t# doc1 = [\"Ali YouTube lectures are amazing\"]\n",
    "\t# doc2 = [\"I like YouTube lectures and Khurram also like YouTube lectures\"]\n",
    "\t# doc3 = [\"Ali YouTube lectures are great\"]"
   ]
  },
  {
   "cell_type": "markdown",
   "metadata": {},
   "source": [
    "### b. Creating Bag of Words using `CountVectorizer`\n",
    "\n",
    "- **Steps to create a BOW representation of a corpus programmatically:**\n",
    "    - **Tokenization**: First, tokenize all the input documents.\n",
    "    - **Vocabulary creation**: Of all the obtained tokenized words, only unique words are selected to create the vocabulary and then sorted by alphabetical order.\n",
    "    - **Vector creation**: Finally, a sparse matrix is created in which each row is a document vector whose length (the columns of the matrix) is equal to the size of the vocabulary. The value of each cell in a row/document is the frequency count of the word under that column.\n",
    "\n",
    "- **Scikit-learn's `CountVectorizer`**: The `CountVectorizer` computes the frequency of occurrence of a word in a document. It converts the corpus of multiple documents (say product reviews) into a Document Term Matrix (a sparse matrix). It also allows you to:\n",
    "    - Control your n-gram size.\n",
    "    - Perform custom preprocessing.\n",
    "    - Perform custom tokenization.\n",
    "    - Eliminate stop words.\n",
    "    - Limit vocabulary size.\n",
    "\n",
    "    ```boldtext\n",
    "    cv = sklearn.feature_extraction.text.CountVectorizer(arg1, arg2, arg3,......, arg16)\n",
    "    ```"
   ]
  },
  {
   "cell_type": "code",
   "execution_count": 18,
   "metadata": {},
   "outputs": [],
   "source": [
    "# Corpus of documents\n",
    "corpus = [\n",
    "    \"Ali youTube lectures are amazing\",\n",
    "    \"I like youTube lectures and Khurram also like youTube lectures\",\n",
    "    \"Ali youTube lectures are great\"\n",
    "]"
   ]
  },
  {
   "cell_type": "code",
   "execution_count": 19,
   "metadata": {},
   "outputs": [
    {
     "data": {
      "text/plain": [
       "sklearn.feature_extraction.text.CountVectorizer"
      ]
     },
     "execution_count": 19,
     "metadata": {},
     "output_type": "execute_result"
    }
   ],
   "source": [
    "# Importing necessary libraries\n",
    "from sklearn.feature_extraction.text import CountVectorizer\n",
    "\n",
    "# Create an object of the CountVectorizer class\n",
    "cv = CountVectorizer()\n",
    "\n",
    "# Check the type of the object\n",
    "type(cv)"
   ]
  },
  {
   "cell_type": "code",
   "execution_count": 20,
   "metadata": {},
   "outputs": [],
   "source": [
    "bow = cv.fit_transform(corpus) # generates vocabulary dictionary and returns a DTM"
   ]
  },
  {
   "cell_type": "code",
   "execution_count": 30,
   "metadata": {},
   "outputs": [],
   "source": [
    "# dir(cv)"
   ]
  },
  {
   "cell_type": "code",
   "execution_count": 22,
   "metadata": {},
   "outputs": [
    {
     "name": "stdout",
     "output_type": "stream",
     "text": [
      "{'ali': 0, 'youtube': 9, 'lectures': 7, 'are': 4, 'amazing': 2, 'like': 8, 'and': 3, 'khurram': 6, 'also': 1, 'great': 5}\n"
     ]
    }
   ],
   "source": [
    "# to print the vocabulary\n",
    "print(cv.vocabulary_)"
   ]
  },
  {
   "cell_type": "code",
   "execution_count": 23,
   "metadata": {},
   "outputs": [
    {
     "name": "stdout",
     "output_type": "stream",
     "text": [
      "['ali' 'also' 'amazing' 'and' 'are' 'great' 'khurram' 'lectures' 'like'\n",
      " 'youtube']\n"
     ]
    }
   ],
   "source": [
    "print(cv.get_feature_names_out())"
   ]
  },
  {
   "cell_type": "markdown",
   "metadata": {},
   "source": [
    "> **Note that single characters are not included in the vocabulary.**"
   ]
  },
  {
   "cell_type": "code",
   "execution_count": 24,
   "metadata": {},
   "outputs": [
    {
     "data": {
      "text/plain": [
       "(3, 10)"
      ]
     },
     "execution_count": 24,
     "metadata": {},
     "output_type": "execute_result"
    }
   ],
   "source": [
    "bow.shape"
   ]
  },
  {
   "cell_type": "code",
   "execution_count": 25,
   "metadata": {},
   "outputs": [
    {
     "data": {
      "text/plain": [
       "<3x10 sparse matrix of type '<class 'numpy.int64'>'\n",
       "\twith 16 stored elements in Compressed Sparse Row format>"
      ]
     },
     "execution_count": 25,
     "metadata": {},
     "output_type": "execute_result"
    }
   ],
   "source": [
    "bow"
   ]
  },
  {
   "cell_type": "code",
   "execution_count": 26,
   "metadata": {},
   "outputs": [
    {
     "data": {
      "text/plain": [
       "array([[1, 0, 1, 0, 1, 0, 0, 1, 0, 1],\n",
       "       [0, 1, 0, 1, 0, 0, 1, 2, 2, 2],\n",
       "       [1, 0, 0, 0, 1, 1, 0, 1, 0, 1]])"
      ]
     },
     "execution_count": 26,
     "metadata": {},
     "output_type": "execute_result"
    }
   ],
   "source": [
    "# Since the bow is sparse matrix, we need to convert it to a dense matrix by using numpy toarray() or todense() method\n",
    "bow.toarray()"
   ]
  },
  {
   "cell_type": "code",
   "execution_count": null,
   "metadata": {},
   "outputs": [],
   "source": []
  },
  {
   "cell_type": "markdown",
   "metadata": {},
   "source": [
    "**Let us understand the sparsity of the matrix.**"
   ]
  },
  {
   "cell_type": "code",
   "execution_count": 27,
   "metadata": {},
   "outputs": [
    {
     "data": {
      "text/plain": [
       "(30, 16)"
      ]
     },
     "execution_count": 27,
     "metadata": {},
     "output_type": "execute_result"
    }
   ],
   "source": [
    "# Total count of values in the BOW matrix\n",
    "total_cells = bow.shape[0] * bow.shape[1]\n",
    "total_cells\n",
    "\n",
    "# Total count of non-zero cells\n",
    "nonzero_cells = bow.nnz\n",
    "nonzero_cells\n",
    "total_cells, nonzero_cells"
   ]
  },
  {
   "cell_type": "code",
   "execution_count": 28,
   "metadata": {},
   "outputs": [
    {
     "data": {
      "text/plain": [
       "53.333333333333336"
      ]
     },
     "execution_count": 28,
     "metadata": {},
     "output_type": "execute_result"
    }
   ],
   "source": [
    "# Percentage of non-zero values in the document term matrix\n",
    "percentage = (nonzero_cells / total_cells) * 100\n",
    "percentage"
   ]
  },
  {
   "cell_type": "markdown",
   "metadata": {},
   "source": [
    "- Since this is a toy example, around 47% of the cells contain zero values.\n",
    "- In real-world examples, approximately 99% of the cells contain zero values.\n",
    "- In order to save memory space and speed up algebraic operations, we use the sparse representation of matrices."
   ]
  },
  {
   "cell_type": "code",
   "execution_count": null,
   "metadata": {},
   "outputs": [],
   "source": []
  },
  {
   "cell_type": "markdown",
   "metadata": {},
   "source": [
    "**Let us save the corpus as Document Term Matrix of BoW Representation**"
   ]
  },
  {
   "cell_type": "code",
   "execution_count": 29,
   "metadata": {},
   "outputs": [
    {
     "data": {
      "text/html": [
       "<div>\n",
       "<style scoped>\n",
       "    .dataframe tbody tr th:only-of-type {\n",
       "        vertical-align: middle;\n",
       "    }\n",
       "\n",
       "    .dataframe tbody tr th {\n",
       "        vertical-align: top;\n",
       "    }\n",
       "\n",
       "    .dataframe thead th {\n",
       "        text-align: right;\n",
       "    }\n",
       "</style>\n",
       "<table border=\"1\" class=\"dataframe\">\n",
       "  <thead>\n",
       "    <tr style=\"text-align: right;\">\n",
       "      <th></th>\n",
       "      <th>ali</th>\n",
       "      <th>also</th>\n",
       "      <th>amazing</th>\n",
       "      <th>and</th>\n",
       "      <th>are</th>\n",
       "      <th>great</th>\n",
       "      <th>khurram</th>\n",
       "      <th>lectures</th>\n",
       "      <th>like</th>\n",
       "      <th>youtube</th>\n",
       "    </tr>\n",
       "  </thead>\n",
       "  <tbody>\n",
       "    <tr>\n",
       "      <th>0</th>\n",
       "      <td>1</td>\n",
       "      <td>0</td>\n",
       "      <td>1</td>\n",
       "      <td>0</td>\n",
       "      <td>1</td>\n",
       "      <td>0</td>\n",
       "      <td>0</td>\n",
       "      <td>1</td>\n",
       "      <td>0</td>\n",
       "      <td>1</td>\n",
       "    </tr>\n",
       "    <tr>\n",
       "      <th>1</th>\n",
       "      <td>0</td>\n",
       "      <td>1</td>\n",
       "      <td>0</td>\n",
       "      <td>1</td>\n",
       "      <td>0</td>\n",
       "      <td>0</td>\n",
       "      <td>1</td>\n",
       "      <td>2</td>\n",
       "      <td>2</td>\n",
       "      <td>2</td>\n",
       "    </tr>\n",
       "    <tr>\n",
       "      <th>2</th>\n",
       "      <td>1</td>\n",
       "      <td>0</td>\n",
       "      <td>0</td>\n",
       "      <td>0</td>\n",
       "      <td>1</td>\n",
       "      <td>1</td>\n",
       "      <td>0</td>\n",
       "      <td>1</td>\n",
       "      <td>0</td>\n",
       "      <td>1</td>\n",
       "    </tr>\n",
       "  </tbody>\n",
       "</table>\n",
       "</div>"
      ],
      "text/plain": [
       "   ali  also  amazing  and  are  great  khurram  lectures  like  youtube\n",
       "0    1     0        1    0    1      0        0         1     0        1\n",
       "1    0     1        0    1    0      0        1         2     2        2\n",
       "2    1     0        0    0    1      1        0         1     0        1"
      ]
     },
     "execution_count": 29,
     "metadata": {},
     "output_type": "execute_result"
    }
   ],
   "source": [
    "import pandas as pd\n",
    "dmt = pd.DataFrame(bow.toarray(), columns=cv.get_feature_names_out())\n",
    "dmt"
   ]
  },
  {
   "cell_type": "code",
   "execution_count": 31,
   "metadata": {},
   "outputs": [
    {
     "data": {
      "text/html": [
       "<div>\n",
       "<style scoped>\n",
       "    .dataframe tbody tr th:only-of-type {\n",
       "        vertical-align: middle;\n",
       "    }\n",
       "\n",
       "    .dataframe tbody tr th {\n",
       "        vertical-align: top;\n",
       "    }\n",
       "\n",
       "    .dataframe thead th {\n",
       "        text-align: right;\n",
       "    }\n",
       "</style>\n",
       "<table border=\"1\" class=\"dataframe\">\n",
       "  <thead>\n",
       "    <tr style=\"text-align: right;\">\n",
       "      <th></th>\n",
       "      <th>0</th>\n",
       "      <th>1</th>\n",
       "      <th>2</th>\n",
       "      <th>3</th>\n",
       "      <th>4</th>\n",
       "      <th>5</th>\n",
       "      <th>6</th>\n",
       "      <th>7</th>\n",
       "      <th>8</th>\n",
       "      <th>9</th>\n",
       "    </tr>\n",
       "  </thead>\n",
       "  <tbody>\n",
       "    <tr>\n",
       "      <th>0</th>\n",
       "      <td>1</td>\n",
       "      <td>0</td>\n",
       "      <td>1</td>\n",
       "      <td>0</td>\n",
       "      <td>1</td>\n",
       "      <td>0</td>\n",
       "      <td>0</td>\n",
       "      <td>1</td>\n",
       "      <td>0</td>\n",
       "      <td>1</td>\n",
       "    </tr>\n",
       "    <tr>\n",
       "      <th>1</th>\n",
       "      <td>0</td>\n",
       "      <td>1</td>\n",
       "      <td>0</td>\n",
       "      <td>1</td>\n",
       "      <td>0</td>\n",
       "      <td>0</td>\n",
       "      <td>1</td>\n",
       "      <td>2</td>\n",
       "      <td>2</td>\n",
       "      <td>2</td>\n",
       "    </tr>\n",
       "    <tr>\n",
       "      <th>2</th>\n",
       "      <td>1</td>\n",
       "      <td>0</td>\n",
       "      <td>0</td>\n",
       "      <td>0</td>\n",
       "      <td>1</td>\n",
       "      <td>1</td>\n",
       "      <td>0</td>\n",
       "      <td>1</td>\n",
       "      <td>0</td>\n",
       "      <td>1</td>\n",
       "    </tr>\n",
       "  </tbody>\n",
       "</table>\n",
       "</div>"
      ],
      "text/plain": [
       "   0  1  2  3  4  5  6  7  8  9\n",
       "0  1  0  1  0  1  0  0  1  0  1\n",
       "1  0  1  0  1  0  0  1  2  2  2\n",
       "2  1  0  0  0  1  1  0  1  0  1"
      ]
     },
     "execution_count": 31,
     "metadata": {},
     "output_type": "execute_result"
    }
   ],
   "source": [
    "dmt2 = pd.DataFrame(bow.toarray())\n",
    "dmt2"
   ]
  },
  {
   "cell_type": "code",
   "execution_count": null,
   "metadata": {},
   "outputs": [],
   "source": []
  },
  {
   "cell_type": "markdown",
   "metadata": {},
   "source": [
    "### c. **Hyper-Parameters of CountVectorizer**\n",
    "\n",
    "- To improve or fine-tune the results on your dataset, you can tweak different hyperparameters of the `CountVectorizer()` method. Some important ones are mentioned below:\n",
    "\n",
    "  ```boldtext\n",
    "  cv = sklearn.feature_extraction.text.CountVectorizer(arg1, arg2, ...)\n",
    "  ```\n",
    "\n",
    "**Where:**\n",
    "  * **vocabulary**: None is the default, created from the input documents. You can pass a Python dictionary where keys are terms and values are indices in the feature matrix.\n",
    "  * **lowercase**: True converts characters of all the documents to lowercase before tokenizing.\n",
    "  * **tokenizer**: None. The default tokenization in `CountVectorizer` removes all special characters, punctuation, and single characters. If this is not the behavior you desire, you can pass a custom tokenizer.\n",
    "  * **stop\\_words**: None. By default, it will not remove any stop words. You can pass a custom list or sklearn's built-in English stop-word list.\n",
    "  * **preprocessor**: None. If passed, a function name that performs customized pre-processing by changing to lower case, removing characters of your choice, including stemming, lemmatization.\n",
    "  * **binary**: False by default shows a frequency count from 0, 1, 2, 3, .... If you are not interested in the frequency of words, rather, just want to know whether the word exists in a document or not, set `binary=True`. It sets all non-zero counts to 1. It is recommended to set this argument to True if you are doing sentiment analysis.\n",
    "  * **max\\_features**: None. If you want to put a limit on the number of features (vocabulary size), then you pass an integer value to this argument. For example, a value of 100 will keep the top 100 most frequent words in the vocabulary and drop the rest.\n",
    "  * **ngram\\_range**: (1, 1). The lower and upper boundary of the range of n-values for different word n-grams or char n-grams to be extracted. All values of n such that `min_n <= n <= max_n` will be used. For example, an ngram\\_range of (1, 1) means only unigrams, (1, 2) means unigrams and bigrams, and (2, 2) means only bigrams. Only applies if `analyzer` is not callable.\n",
    "\n",
    "> - I strongly recommend going through all the hyper-parameters of `CountVectorizer()` at the following link:\n",
    "\n",
    "[https://scikit-learn.org/stable/modules/generated/sklearn.feature\\_extraction.text.CountVectorizer.html](https://www.google.com/url?sa=E&source=gmail&q=https://scikit-learn.org/stable/modules/generated/sklearn.feature_extraction.text.CountVectorizer.html)"
   ]
  },
  {
   "cell_type": "code",
   "execution_count": null,
   "metadata": {},
   "outputs": [],
   "source": []
  },
  {
   "cell_type": "code",
   "execution_count": null,
   "metadata": {},
   "outputs": [],
   "source": []
  },
  {
   "cell_type": "markdown",
   "metadata": {},
   "source": [
    "## 4. Bag of N-Grams Encoding\n",
    "\n",
    "### a. Conceptual Understanding\n",
    "- In the simple BoW model, the vocabulary consists of single unique words of the corpus, and its limitation is that the ordering of words is not captured.\n",
    "- A `Bag of n-grams model` is quite similar to the BoW model, and it represents a text document as an unordered collection of its n-grams (`a contiguous sequence of **n items** from a given sample of text or speech`).\n",
    "- An n-gram of size 1 is referred to as a \"unigram\"; size 2 is a \"bigram\"; size 3 is a \"trigram,\" and so on.\n",
    "- The formula to calculate the count of n-grams in a document is:\n",
    "  $\n",
    "  \\text{X} - (\\text{N} - 1)\n",
    "  $\n",
    "  where **X** is the number of words in a given document and **N** is the number of words in n-grams.\n",
    "\n",
    "### Example:\n",
    "- Using BoW representation, the two sentences:\n",
    "  - *Ali YouTube lectures are good*\n",
    "  - *Ali YouTube lectures are not good*\n",
    "  will be very similar.\n",
    "- Using bigram, the two bigrams **are good** in the first sentence and **not good** in the second sentence will make the difference."
   ]
  },
  {
   "cell_type": "markdown",
   "metadata": {},
   "source": [
    "- Consider the following corpus that consists of three documents consisting of five, ten, and five words respectively:\n",
    "\n",
    "    ```boldtext\n",
    "    doc1 = [\"Ali YouTube lectures are amazing\"]\n",
    "    doc2 = [\"I like YouTube lectures and Khurram also like YouTube lectures\"]\n",
    "    doc3 = [\"Ali YouTube lectures are great\"]\n",
    "    ```"
   ]
  },
  {
   "cell_type": "markdown",
   "metadata": {},
   "source": [
    "- The vocabulary of bi-grams in this case consists of ten words, which can be represented as a dictionary as shown below:\n",
    "    ```boldtext\n",
    "    vocab = {\n",
    "        'also like': 0,\n",
    "        'and khurram': 1,\n",
    "        'are amazing': 2,\n",
    "        'are great': 3,\n",
    "        'ali youtube': 4,\n",
    "        'khurram also': 5,\n",
    "        'lectures and': 6,\n",
    "        'lectures are': 7,\n",
    "        'like youtube': 8,\n",
    "        'youtube lectures': 9\n",
    "    }\n",
    "    ```\n",
    "\n",
    "**Bag of Bi-grams**\n",
    "| Document | also like | and khurram | are amazing | are great | ali youtube | khurram also | lectures and | lectures are | like youtube | youtube lectures |\n",
    "|----------|-----------|-------------|-------------|-----------|-------------|--------------|--------------|--------------|--------------|------------------|\n",
    "| **doc1** | 0         | 0           | 1           | 0         | 1           | 0            | 0            | 1            | 0            | 1                |\n",
    "| **doc2** | 1         | 1           | 0           | 0         | 0           | 1            | 1            | 0            | 2            | 2                |\n",
    "| **doc3** | 0         | 0           | 0           | 1         | 1           | 0            | 0            | 1            | 0            | 1                |\n",
    "\n",
    "\n",
    "- The vocabulary of tri-grams in this case consists of ten words, which can be represented as a dictionary as shown below:\n",
    "\n",
    "    ```boldtext\n",
    "    vocab = {\n",
    "        'also like youtube': 0,\n",
    "        'and khurram also': 1,\n",
    "        'ali youtube lectures': 2,\n",
    "        'khurram also like': 3,\n",
    "        'lectures and khurram': 4,\n",
    "        'lectures are amazing': 5,\n",
    "        'lectures are great': 6,\n",
    "        'like youtube lectures': 7,\n",
    "        'youtube lectures and': 8,\n",
    "        'youtube lectures are': 9\n",
    "    }\n",
    "    ```\n",
    "\n",
    "**Bag of Tri-grams**\n",
    "\n",
    "| Document | also like youtube | and khurram also | ali youtube lectures | khurram also like | lectures and khurram | lectures are amazing | lectures are great | like youtube lectures | youtube lectures and | youtube lectures are |\n",
    "|----------|-------------------|------------------|-----------------------|-------------------|----------------------|----------------------|--------------------|-----------------------|-----------------------|-----------------------|\n",
    "| **doc1** | 0                 | 0                | 1                     | 0                 | 0                    | 1                    | 0                  | 0                     | 0                     | 1                     |\n",
    "| **doc2** | 1                 | 1                | 0                     | 1                 | 1                    | 0                    | 0                  | 1                     | 0                     | 0                     |\n",
    "| **doc3** | 0                 | 0                | 1                     | 0                 | 0                    | 0                    | 1                  | 0                     | 0                     | 1                     |\n",
    "\n",
    "- **Advantages of N-Grams**\n",
    "\n",
    "    - `Captures Semantic Meaning:` As we use bi-grams or tri-grams, it takes a sequence of sentences which makes it easy for finding word relationships.\n",
    "    - `Intuitive and Easy to Implement:` Implementation of N-grams is straightforward with a little bit of modification in the Bag of Words approach.\n",
    "\n",
    "- **Disadvantages of Bag of N-Grams Encoding**\n",
    "    - As we move from unigram to N-gram, the dimension of vector formation or vocabulary increases, due to which it takes more time in computation and prediction.\n",
    "    - Still no solution for out-of-vocabulary terms – we do not have a way other than ignoring the new words in a new sentence."
   ]
  },
  {
   "cell_type": "code",
   "execution_count": null,
   "metadata": {},
   "outputs": [],
   "source": []
  },
  {
   "cell_type": "markdown",
   "metadata": {},
   "source": [
    "### b. Creating Bag of N-Grams using `CountVectorizer`\n",
    "\n",
    "- To create a Bag of N-Grams, we can use the `ngram_range` argument of the `CountVectorizer` method:\n",
    "\n",
    "    ```boldtext\n",
    "    cv = sklearn.feature_extraction.text.CountVectorizer(ngram_range=(1,1))\n",
    "    ```\n",
    "#### Explanation:\n",
    "- **Uni-grams**: Single words from the text are treated as tokens.\n",
    "- **Bi-grams**: Consecutive pairs of words are treated as tokens.\n",
    "- **Tri-grams**: Consecutive triplets of words are treated as tokens.\n",
    "- **Combined N-Grams**: Tokens are generated by combining multiple ranges of N-Grams (e.g., uni-grams, bi-grams, and tri-grams together).\n"
   ]
  },
  {
   "cell_type": "markdown",
   "metadata": {},
   "source": [
    "**Example of Bi-Grams Using CountVectorizer**"
   ]
  },
  {
   "cell_type": "code",
   "execution_count": 34,
   "metadata": {},
   "outputs": [
    {
     "name": "stdout",
     "output_type": "stream",
     "text": [
      "{'ali youtube': 0, 'youtube lectures': 9, 'lectures are': 7, 'are amazing': 3, 'like youtube': 8, 'lectures and': 6, 'and khurram': 2, 'khurram also': 5, 'also like': 1, 'are great': 4}\n",
      "\n",
      "\n",
      "\n",
      "[[1 0 0 1 0 0 0 1 0 1]\n",
      " [0 1 1 0 0 1 1 0 2 2]\n",
      " [1 0 0 0 1 0 0 1 0 1]]\n"
     ]
    }
   ],
   "source": [
    "corpus = [\n",
    "    \"Ali YouTube lectures are amazing\",\n",
    "    \"I like YouTube lectures and Khurram also like YouTube lectures\",\n",
    "    \"Ali YouTube lectures are great\"\n",
    "]\n",
    "\n",
    "# Import CountVectorizer\n",
    "from sklearn.feature_extraction.text import CountVectorizer\n",
    "\n",
    "# Create an object of CountVectorizer with ngram_range for bi-grams\n",
    "cv = CountVectorizer(ngram_range=(2, 2))\n",
    "\n",
    "# Fit and transform the corpus to create a bag-of-words representation\n",
    "bow = cv.fit_transform(corpus)\n",
    "\n",
    "# Print the vocabulary\n",
    "print(cv.vocabulary_)\n",
    "\n",
    "# Print the bag-of-words matrix as an array\n",
    "print(\"\\n\\n\")\n",
    "print(bow.toarray())"
   ]
  },
  {
   "cell_type": "code",
   "execution_count": 35,
   "metadata": {},
   "outputs": [
    {
     "data": {
      "text/html": [
       "<div>\n",
       "<style scoped>\n",
       "    .dataframe tbody tr th:only-of-type {\n",
       "        vertical-align: middle;\n",
       "    }\n",
       "\n",
       "    .dataframe tbody tr th {\n",
       "        vertical-align: top;\n",
       "    }\n",
       "\n",
       "    .dataframe thead th {\n",
       "        text-align: right;\n",
       "    }\n",
       "</style>\n",
       "<table border=\"1\" class=\"dataframe\">\n",
       "  <thead>\n",
       "    <tr style=\"text-align: right;\">\n",
       "      <th></th>\n",
       "      <th>ali youtube</th>\n",
       "      <th>also like</th>\n",
       "      <th>and khurram</th>\n",
       "      <th>are amazing</th>\n",
       "      <th>are great</th>\n",
       "      <th>khurram also</th>\n",
       "      <th>lectures and</th>\n",
       "      <th>lectures are</th>\n",
       "      <th>like youtube</th>\n",
       "      <th>youtube lectures</th>\n",
       "    </tr>\n",
       "  </thead>\n",
       "  <tbody>\n",
       "    <tr>\n",
       "      <th>0</th>\n",
       "      <td>1</td>\n",
       "      <td>0</td>\n",
       "      <td>0</td>\n",
       "      <td>1</td>\n",
       "      <td>0</td>\n",
       "      <td>0</td>\n",
       "      <td>0</td>\n",
       "      <td>1</td>\n",
       "      <td>0</td>\n",
       "      <td>1</td>\n",
       "    </tr>\n",
       "    <tr>\n",
       "      <th>1</th>\n",
       "      <td>0</td>\n",
       "      <td>1</td>\n",
       "      <td>1</td>\n",
       "      <td>0</td>\n",
       "      <td>0</td>\n",
       "      <td>1</td>\n",
       "      <td>1</td>\n",
       "      <td>0</td>\n",
       "      <td>2</td>\n",
       "      <td>2</td>\n",
       "    </tr>\n",
       "    <tr>\n",
       "      <th>2</th>\n",
       "      <td>1</td>\n",
       "      <td>0</td>\n",
       "      <td>0</td>\n",
       "      <td>0</td>\n",
       "      <td>1</td>\n",
       "      <td>0</td>\n",
       "      <td>0</td>\n",
       "      <td>1</td>\n",
       "      <td>0</td>\n",
       "      <td>1</td>\n",
       "    </tr>\n",
       "  </tbody>\n",
       "</table>\n",
       "</div>"
      ],
      "text/plain": [
       "   ali youtube  also like  and khurram  are amazing  are great  khurram also  \\\n",
       "0            1          0            0            1          0             0   \n",
       "1            0          1            1            0          0             1   \n",
       "2            1          0            0            0          1             0   \n",
       "\n",
       "   lectures and  lectures are  like youtube  youtube lectures  \n",
       "0             0             1             0                 1  \n",
       "1             1             0             2                 2  \n",
       "2             0             1             0                 1  "
      ]
     },
     "execution_count": 35,
     "metadata": {},
     "output_type": "execute_result"
    }
   ],
   "source": [
    "import pandas as pd\n",
    "\n",
    "# Convert the matrix to a DataFrame\n",
    "dtm1 = pd.DataFrame(data=bow.toarray(), columns=cv.get_feature_names_out())\n",
    "\n",
    "# Display the DataFrame\n",
    "dtm1"
   ]
  },
  {
   "cell_type": "markdown",
   "metadata": {},
   "source": [
    "**Example of Tri-Grams Using CountVectorizer**"
   ]
  },
  {
   "cell_type": "code",
   "execution_count": 36,
   "metadata": {},
   "outputs": [
    {
     "name": "stdout",
     "output_type": "stream",
     "text": [
      "{'ali youtube lectures': 0, 'youtube lectures are': 9, 'lectures are amazing': 5, 'like youtube lectures': 7, 'youtube lectures and': 8, 'lectures and khurram': 4, 'and khurram also': 2, 'khurram also like': 3, 'also like youtube': 1, 'lectures are great': 6}\n",
      "\n",
      "\n",
      "\n",
      "[[1 0 0 0 0 1 0 0 0 1]\n",
      " [0 1 1 1 1 0 0 2 1 0]\n",
      " [1 0 0 0 0 0 1 0 0 1]]\n"
     ]
    }
   ],
   "source": [
    "corpus = [\n",
    "    \"Ali YouTube lectures are amazing\",\n",
    "    \"I like YouTube lectures and Khurram also like YouTube lectures\",\n",
    "    \"Ali YouTube lectures are great\"\n",
    "]\n",
    "\n",
    "# Import CountVectorizer\n",
    "from sklearn.feature_extraction.text import CountVectorizer\n",
    "\n",
    "# Create an object of CountVectorizer with ngram_range for bi-grams\n",
    "cv = CountVectorizer(ngram_range=(3, 3))\n",
    "\n",
    "# Fit and transform the corpus to create a bag-of-words representation\n",
    "bow = cv.fit_transform(corpus)\n",
    "\n",
    "# Print the vocabulary\n",
    "print(cv.vocabulary_)\n",
    "\n",
    "# Print the bag-of-words matrix as an array\n",
    "print(\"\\n\\n\")\n",
    "print(bow.toarray())"
   ]
  },
  {
   "cell_type": "code",
   "execution_count": 37,
   "metadata": {},
   "outputs": [
    {
     "data": {
      "text/html": [
       "<div>\n",
       "<style scoped>\n",
       "    .dataframe tbody tr th:only-of-type {\n",
       "        vertical-align: middle;\n",
       "    }\n",
       "\n",
       "    .dataframe tbody tr th {\n",
       "        vertical-align: top;\n",
       "    }\n",
       "\n",
       "    .dataframe thead th {\n",
       "        text-align: right;\n",
       "    }\n",
       "</style>\n",
       "<table border=\"1\" class=\"dataframe\">\n",
       "  <thead>\n",
       "    <tr style=\"text-align: right;\">\n",
       "      <th></th>\n",
       "      <th>ali youtube lectures</th>\n",
       "      <th>also like youtube</th>\n",
       "      <th>and khurram also</th>\n",
       "      <th>khurram also like</th>\n",
       "      <th>lectures and khurram</th>\n",
       "      <th>lectures are amazing</th>\n",
       "      <th>lectures are great</th>\n",
       "      <th>like youtube lectures</th>\n",
       "      <th>youtube lectures and</th>\n",
       "      <th>youtube lectures are</th>\n",
       "    </tr>\n",
       "  </thead>\n",
       "  <tbody>\n",
       "    <tr>\n",
       "      <th>0</th>\n",
       "      <td>1</td>\n",
       "      <td>0</td>\n",
       "      <td>0</td>\n",
       "      <td>0</td>\n",
       "      <td>0</td>\n",
       "      <td>1</td>\n",
       "      <td>0</td>\n",
       "      <td>0</td>\n",
       "      <td>0</td>\n",
       "      <td>1</td>\n",
       "    </tr>\n",
       "    <tr>\n",
       "      <th>1</th>\n",
       "      <td>0</td>\n",
       "      <td>1</td>\n",
       "      <td>1</td>\n",
       "      <td>1</td>\n",
       "      <td>1</td>\n",
       "      <td>0</td>\n",
       "      <td>0</td>\n",
       "      <td>2</td>\n",
       "      <td>1</td>\n",
       "      <td>0</td>\n",
       "    </tr>\n",
       "    <tr>\n",
       "      <th>2</th>\n",
       "      <td>1</td>\n",
       "      <td>0</td>\n",
       "      <td>0</td>\n",
       "      <td>0</td>\n",
       "      <td>0</td>\n",
       "      <td>0</td>\n",
       "      <td>1</td>\n",
       "      <td>0</td>\n",
       "      <td>0</td>\n",
       "      <td>1</td>\n",
       "    </tr>\n",
       "  </tbody>\n",
       "</table>\n",
       "</div>"
      ],
      "text/plain": [
       "   ali youtube lectures  also like youtube  and khurram also  \\\n",
       "0                     1                  0                 0   \n",
       "1                     0                  1                 1   \n",
       "2                     1                  0                 0   \n",
       "\n",
       "   khurram also like  lectures and khurram  lectures are amazing  \\\n",
       "0                  0                     0                     1   \n",
       "1                  1                     1                     0   \n",
       "2                  0                     0                     0   \n",
       "\n",
       "   lectures are great  like youtube lectures  youtube lectures and  \\\n",
       "0                   0                      0                     0   \n",
       "1                   0                      2                     1   \n",
       "2                   1                      0                     0   \n",
       "\n",
       "   youtube lectures are  \n",
       "0                     1  \n",
       "1                     0  \n",
       "2                     1  "
      ]
     },
     "execution_count": 37,
     "metadata": {},
     "output_type": "execute_result"
    }
   ],
   "source": [
    "import pandas as pd\n",
    "\n",
    "# Convert the matrix to a DataFrame\n",
    "dtm1 = pd.DataFrame(data=bow.toarray(), columns=cv.get_feature_names_out())\n",
    "\n",
    "# Display the DataFrame\n",
    "dtm1"
   ]
  },
  {
   "cell_type": "code",
   "execution_count": null,
   "metadata": {},
   "outputs": [],
   "source": []
  },
  {
   "cell_type": "markdown",
   "metadata": {},
   "source": [
    "# 5. Term Frequency -inverse Document Frequency (TF-IDF)\n",
    "\n",
    "\n",
    "## a. Conceptual Understanding\n",
    "\n",
    "- In the `Bag of Words` representation of a document, the values of the vector are the number of times a particular word appears in a document, but it does not capture the importance of a word in a document.\n",
    "- In simple terms, the Bag of Words approach treats every word equally, irrespective of its actual importance.\n",
    "- So, BoW gives more importance to some unimportant words that appear more frequently in a document. For example, words like `since`, `as`, `can`, `any`, `and`, `the`, `of`, `it`, `they` can have high frequency but are not important.\n",
    "- This will take the attention of the machine learning model away from less frequent but more important words.\n",
    "- **TF-IDF** stands for **Term Frequency (TF)** times **Inverse Document Frequency (IDF)**, and it is used to address this issue:\n",
    "  - **Term Frequency (TF)**: Tells us how important a term is in a particular document by assigning more weight to a term that is appearing more frequently in a dataset.\n",
    "  - **Document Frequency (IDF)**: Tells us how important a term is in the entire corpus of documents. The intuition behind taking its inverse is that the more common a word is across all documents, the lesser its importance for the current document."
   ]
  },
  {
   "cell_type": "code",
   "execution_count": null,
   "metadata": {},
   "outputs": [],
   "source": []
  },
  {
   "cell_type": "markdown",
   "metadata": {},
   "source": [
    "### (i) Term Frequency (TF)\n",
    "\n",
    "- **Term Frequency (TF)** tells us the count of a term in a specific document and thus tells us how important a term is in a particular document.\n",
    "- In literature, there are two different formulae for computing **TF**, as shown below:\n",
    "\n",
    "$$\n",
    "TF(t, d) = \\frac{\\text{Number of times term (t) occurs in document (d)}}{\\text{Total number of terms in document (d)}}\n",
    "$$\n",
    "\n",
    "$$\n",
    "TF(t, d) = \\frac{\\text{Number of times term (t) occurs in document (d)}}{\\text{Frequency of most common term in document (d)}}\n",
    "$$\n",
    "- Consider a corpus of three documents as shown below:\n",
    "\n",
    "    ```boldtext\n",
    "    doc1 = [\"Ali YouTube lectures are amazing\"]\n",
    "    doc2 = [\"I like YouTube lectures and Khurram also like YouTube lectures\"]\n",
    "    doc3 = [\"Ali YouTube lectures are great\"]\n",
    "    ```\n",
    "\n",
    "> The `TfidfVectorizer()` method of sklearn uses the first formula.\n",
    "\n",
    "**Term Frequencies of Each Term in Each Document**\n",
    "\n",
    "| Term       | also | amazing | and | are | ali | great | khurram | lectures | like | youtube |\n",
    "|------------|------|---------|-----|-----|------|-------|---------|----------|------|---------|\n",
    "| **doc1**   | 0    | 1       | 0   | 1   | 1    | 0     | 0       | 1        | 0    | 1       |\n",
    "| **doc2**   | 1    | 0       | 1   | 0   | 0    | 0     | 1       | 2        | 2    | 2       |\n",
    "| **doc3**   | 0    | 0       | 0   | 1   | 1    | 1     | 0       | 1        | 0    | 1       |\n",
    "\n",
    "\n",
    "**Document Analysis**\n",
    "\n",
    "- **Doc1**:\n",
    "  - Contains a total of 5 words, each appearing once.\n",
    "  - Represented as a vector of size 10 (count of vocabulary), having 5 non-zero values.\n",
    "\n",
    "- **Doc2**:\n",
    "  - Contains a total of 10 words, with 6 unique words (excluding the single character \"I\").\n",
    "  - The words *like*, *YouTube*, and *lectures* appear twice, while all other words appear once.\n",
    "  - Represented as a vector of size 10 (count of vocabulary), having 6 non-zero values.\n",
    "\n",
    "- **Doc3**:\n",
    "  - Contains a total of 5 words, each appearing once.\n",
    "  - Represented as a vector of size 10 (count of vocabulary), having 5 non-zero values."
   ]
  },
  {
   "cell_type": "code",
   "execution_count": null,
   "metadata": {},
   "outputs": [],
   "source": []
  },
  {
   "cell_type": "markdown",
   "metadata": {},
   "source": [
    "### (ii) Inverse Document Frequency (IDF)\n",
    "\n",
    "- **Document Frequency** tells us how important a term is in the entire corpus of documents.\n",
    "- To penalize frequently occurring words across all the documents, we take the **Inverse of Document Frequency**.\n",
    "- This way, the IDF of rare words in the corpus will be large, while the IDF of very common words in the corpus will be close to zero.\n",
    "- In literature, the most common formula for computing IDF is:\n",
    "\n",
    "\n",
    "$$\\text{IDF}(t, D) = \\log_e \\frac{n}{df(d, t)}$$\n",
    "\n",
    "\n",
    "Where:\n",
    "- \\( n \\) = Total number of documents in the corpus.\n",
    "- \\( df(d, t) \\) = Number of documents in which term \\( t \\) appears.\n",
    "\n",
    "- If a word is appearing in only one document (large value of \\( n \\)), then the IDF value of that term will be very large. Therefore, we take the natural logarithm to dampen its effect.\n",
    "\n",
    "- **Sklearn's `TfidfVectorizer()`** uses the following formula when the argument `smooth_idf=True`:\n",
    "\n",
    "$$\\text{IDF}(t, D) = 1 + \\log_e \\frac{1 + n}{1 + df(d, t)}$$\n",
    "\n",
    "#### Why `smooth_idf=True`?\n",
    "\n",
    "- The constant \"1\" is added to the numerator and denominator to prevent zero divisions.\n",
    "- Adding \"1\" ensures terms with zero IDF (i.e., terms that occur in all documents) will not be entirely ignored.\n",
    "\n",
    "\n",
    "**Examples:**\n",
    "\n",
    "$$\\text{IDF}(\\text{Ali}, D) = 1 + \\log_e \\frac{1 + 3}{1 + 2} = 1 + \\log_e(1.333333) = 1 + 0.28768 = 1.28768$$\n",
    "\n",
    "\n",
    "$$\\text{IDF}(\\text{YouTube}, D) = 1 + \\log_e \\frac{1 + 3}{1 + 3} = 1 + \\log_e(1) = 1$$\n",
    "\n",
    "\n",
    "\n",
    "**Inverse Document Frequencies (common for all the documents)**\n",
    "\n",
    "\n",
    "| Term       | also       | amaizing   | and        | are        | ali        | great      | khurram    | lectures   | like       | youtube    |\n",
    "|------------|------------|------------|------------|------------|------------|------------|------------|------------|------------|------------|\n",
    "| Corpus     | 1.69314718 | 1.69314718 | 1.69314718 | 1.28768207 | 1.28768207 | 1.69314718 | 1.69314718 | 1          | 1.69314718 | 1          |\n",
    "\n",
    "<br/>\n",
    "<br/>\n",
    "<br/>\n",
    "\n",
    "> - The **Term Frequency (TF)** varies for each term in each document, but **Inverse Document Frequency (IDF)** values remain the same for all terms across all the documents in the corpus.\n",
    "> - A term that appears in all the documents (e.g., \"youtube\") is not given a zero IDF because of the \"+1\" added in the formula. This ensures that the term is not entirely ignored in the overall calculation of TF-IDF."
   ]
  },
  {
   "cell_type": "code",
   "execution_count": null,
   "metadata": {},
   "outputs": [],
   "source": []
  },
  {
   "cell_type": "code",
   "execution_count": null,
   "metadata": {},
   "outputs": [],
   "source": []
  },
  {
   "cell_type": "markdown",
   "metadata": {},
   "source": [
    "### (iii) Term Frequency-Inverse Document Frequency (TFIDF)\n",
    "- The **TFIDF score** can be calculated using the following formula:\n",
    "\n",
    "$$TFIDF = TF \\times IDF$$\n",
    "\n",
    "**TFIDF Table**\n",
    "\n",
    "| Term   | also       | amaizing   | and        | are        | ali        | great      | khurram    | lectures   | like       | youtube    |\n",
    "|--------|------------|------------|------------|------------|------------|------------|------------|------------|------------|------------|\n",
    "| doc1   | 0          | 1.69314718 | 0          | 1.28768207 | 1.28768207 | 0          | 0          | 1          | 0          | 1          |\n",
    "| doc2   | 1.69314718 | 0          | 1.69314718 | 0          | 0          | 0          | 1.69314718 | 2          | 3.38629436 | 2          |\n",
    "| doc3   | 0          | 0          | 0          | 1.28768207 | 1.28768207 | 1.69314718 | 0          | 1          | 0          | 1          |\n",
    "\n",
    "\n",
    "### (iv) Normalizing TFIDF Values\n",
    "- To avoid large documents in the corpus dominating smaller ones, normalization is applied to each row in the sparse matrix. This is achieved by calculating the Euclidean norm for each document.\n",
    "- The **Euclidean Norm** for the three documents is:\n",
    "  - **Doc1**: 2.86059\n",
    "  - **Doc2**: 5.29785\n",
    "  - **Doc3**: 2.86059\n",
    "\n",
    "\n",
    "$$Normalized \\, TFIDF = \\frac{TFIDF}{\\sqrt{\\sum_{i=1}^{n}(TFIDF^2)}}$$\n",
    "\n",
    "**Normalized TFIDF Table**\n",
    "\n",
    "| Term   | also       | amaizing   | and        | are        | ali        | great      | khurram    | lectures   | like       | youtube    |\n",
    "|--------|------------|------------|------------|------------|------------|------------|------------|------------|------------|------------|\n",
    "| doc1   | 0          | 0.59188659 | 0          | 0.45014501 | 0.45014501 | 0          | 0          | 0.34957775 | 0          | 0.34957775 |\n",
    "| doc2   | 0.31959128 | 0          | 0.31959128 | 0          | 0          | 0          | 0.31959128 | 0.37751152 | 0.63918256 | 0.37751152 |\n",
    "| doc3   | 0          | 0          | 0          | 0.45014501 | 0.45014501 | 0.59188659 | 0          | 0.34957775 | 0          | 0.34957775 |\n",
    "\n",
    "\n",
    "\n",
    "\n",
    "- **The higher the TFIDF score, the more relevant the term is in that document.**\n",
    "  - In **doc1**, the term **\"amaizing\"** is the most relevant term as it has the highest TFIDF value (**0.59188659**).\n",
    "  - In **doc2**, the term **\"like\"** is the most relevant term as it has the highest TFIDF value (**0.63918256**).\n",
    "  - In **doc3**, the term **\"great\"** is the most relevant term as it has the highest TFIDF value (**0.59188659**)."
   ]
  },
  {
   "cell_type": "code",
   "execution_count": null,
   "metadata": {},
   "outputs": [],
   "source": []
  },
  {
   "cell_type": "markdown",
   "metadata": {},
   "source": [
    "## b. Creating TFIDF using `TfidfVectorizer`"
   ]
  },
  {
   "cell_type": "code",
   "execution_count": 38,
   "metadata": {},
   "outputs": [],
   "source": [
    "corpus = [\n",
    "    \"Ali YouTube lectures are amazing\",\n",
    "    \"I like YouTube lectures and Khurram also like YouTube lectures\",\n",
    "    \"Ali YouTube lectures are great\"\n",
    "]"
   ]
  },
  {
   "cell_type": "code",
   "execution_count": 39,
   "metadata": {},
   "outputs": [
    {
     "data": {
      "text/plain": [
       "sklearn.feature_extraction.text.TfidfVectorizer"
      ]
     },
     "execution_count": 39,
     "metadata": {},
     "output_type": "execute_result"
    }
   ],
   "source": [
    "# Create an instance of TfidfVectorizer\n",
    "from sklearn.feature_extraction.text import TfidfVectorizer\n",
    "tfidf_vec = TfidfVectorizer()\n",
    "type(tfidf_vec)"
   ]
  },
  {
   "cell_type": "code",
   "execution_count": 48,
   "metadata": {},
   "outputs": [],
   "source": [
    "# dir(tfidf_vec)"
   ]
  },
  {
   "cell_type": "code",
   "execution_count": 40,
   "metadata": {},
   "outputs": [],
   "source": [
    "tfidf = tfidf_vec.fit_transform(corpus) # generates vocabulary dictionary and returns a DTM having TF-IDF values"
   ]
  },
  {
   "cell_type": "code",
   "execution_count": 41,
   "metadata": {},
   "outputs": [
    {
     "name": "stdout",
     "output_type": "stream",
     "text": [
      "{'ali': 0, 'youtube': 9, 'lectures': 7, 'are': 4, 'amazing': 2, 'like': 8, 'and': 3, 'khurram': 6, 'also': 1, 'great': 5}\n"
     ]
    }
   ],
   "source": [
    "# to print the vocabulary\n",
    "print(tfidf_vec.vocabulary_)"
   ]
  },
  {
   "cell_type": "code",
   "execution_count": 42,
   "metadata": {},
   "outputs": [
    {
     "name": "stdout",
     "output_type": "stream",
     "text": [
      "['ali' 'also' 'amazing' 'and' 'are' 'great' 'khurram' 'lectures' 'like'\n",
      " 'youtube']\n"
     ]
    }
   ],
   "source": [
    "print(tfidf_vec.get_feature_names_out())"
   ]
  },
  {
   "cell_type": "markdown",
   "metadata": {},
   "source": [
    "> **Note that single characters are not included in the vocabulary.**"
   ]
  },
  {
   "cell_type": "code",
   "execution_count": 43,
   "metadata": {},
   "outputs": [
    {
     "data": {
      "text/plain": [
       "(3, 10)"
      ]
     },
     "execution_count": 43,
     "metadata": {},
     "output_type": "execute_result"
    }
   ],
   "source": [
    "tfidf.shape"
   ]
  },
  {
   "cell_type": "code",
   "execution_count": 44,
   "metadata": {},
   "outputs": [
    {
     "data": {
      "text/plain": [
       "<3x10 sparse matrix of type '<class 'numpy.float64'>'\n",
       "\twith 16 stored elements in Compressed Sparse Row format>"
      ]
     },
     "execution_count": 44,
     "metadata": {},
     "output_type": "execute_result"
    }
   ],
   "source": [
    "tfidf"
   ]
  },
  {
   "cell_type": "code",
   "execution_count": 45,
   "metadata": {},
   "outputs": [
    {
     "data": {
      "text/plain": [
       "array([[0.45014501, 0.        , 0.59188659, 0.        , 0.45014501,\n",
       "        0.        , 0.        , 0.34957775, 0.        , 0.34957775],\n",
       "       [0.        , 0.31959128, 0.        , 0.31959128, 0.        ,\n",
       "        0.        , 0.31959128, 0.37751152, 0.63918256, 0.37751152],\n",
       "       [0.45014501, 0.        , 0.        , 0.        , 0.45014501,\n",
       "        0.59188659, 0.        , 0.34957775, 0.        , 0.34957775]])"
      ]
     },
     "execution_count": 45,
     "metadata": {},
     "output_type": "execute_result"
    }
   ],
   "source": [
    "# since the tfidf is sparse matrix, we need to convert it to a dense matrix by using numpy toarray() or todense() method\n",
    "tfidf.toarray()"
   ]
  },
  {
   "cell_type": "markdown",
   "metadata": {},
   "source": [
    "**Let us save the corpus as a Document Term Matrix of TF-IDF values**"
   ]
  },
  {
   "cell_type": "code",
   "execution_count": 46,
   "metadata": {},
   "outputs": [
    {
     "data": {
      "text/html": [
       "<div>\n",
       "<style scoped>\n",
       "    .dataframe tbody tr th:only-of-type {\n",
       "        vertical-align: middle;\n",
       "    }\n",
       "\n",
       "    .dataframe tbody tr th {\n",
       "        vertical-align: top;\n",
       "    }\n",
       "\n",
       "    .dataframe thead th {\n",
       "        text-align: right;\n",
       "    }\n",
       "</style>\n",
       "<table border=\"1\" class=\"dataframe\">\n",
       "  <thead>\n",
       "    <tr style=\"text-align: right;\">\n",
       "      <th></th>\n",
       "      <th>ali</th>\n",
       "      <th>also</th>\n",
       "      <th>amazing</th>\n",
       "      <th>and</th>\n",
       "      <th>are</th>\n",
       "      <th>great</th>\n",
       "      <th>khurram</th>\n",
       "      <th>lectures</th>\n",
       "      <th>like</th>\n",
       "      <th>youtube</th>\n",
       "    </tr>\n",
       "  </thead>\n",
       "  <tbody>\n",
       "    <tr>\n",
       "      <th>0</th>\n",
       "      <td>0.450145</td>\n",
       "      <td>0.000000</td>\n",
       "      <td>0.591887</td>\n",
       "      <td>0.000000</td>\n",
       "      <td>0.450145</td>\n",
       "      <td>0.000000</td>\n",
       "      <td>0.000000</td>\n",
       "      <td>0.349578</td>\n",
       "      <td>0.000000</td>\n",
       "      <td>0.349578</td>\n",
       "    </tr>\n",
       "    <tr>\n",
       "      <th>1</th>\n",
       "      <td>0.000000</td>\n",
       "      <td>0.319591</td>\n",
       "      <td>0.000000</td>\n",
       "      <td>0.319591</td>\n",
       "      <td>0.000000</td>\n",
       "      <td>0.000000</td>\n",
       "      <td>0.319591</td>\n",
       "      <td>0.377512</td>\n",
       "      <td>0.639183</td>\n",
       "      <td>0.377512</td>\n",
       "    </tr>\n",
       "    <tr>\n",
       "      <th>2</th>\n",
       "      <td>0.450145</td>\n",
       "      <td>0.000000</td>\n",
       "      <td>0.000000</td>\n",
       "      <td>0.000000</td>\n",
       "      <td>0.450145</td>\n",
       "      <td>0.591887</td>\n",
       "      <td>0.000000</td>\n",
       "      <td>0.349578</td>\n",
       "      <td>0.000000</td>\n",
       "      <td>0.349578</td>\n",
       "    </tr>\n",
       "  </tbody>\n",
       "</table>\n",
       "</div>"
      ],
      "text/plain": [
       "        ali      also   amazing       and       are     great   khurram  \\\n",
       "0  0.450145  0.000000  0.591887  0.000000  0.450145  0.000000  0.000000   \n",
       "1  0.000000  0.319591  0.000000  0.319591  0.000000  0.000000  0.319591   \n",
       "2  0.450145  0.000000  0.000000  0.000000  0.450145  0.591887  0.000000   \n",
       "\n",
       "   lectures      like   youtube  \n",
       "0  0.349578  0.000000  0.349578  \n",
       "1  0.377512  0.639183  0.377512  \n",
       "2  0.349578  0.000000  0.349578  "
      ]
     },
     "execution_count": 46,
     "metadata": {},
     "output_type": "execute_result"
    }
   ],
   "source": [
    "dtm2 = pd.DataFrame(data=tfidf.toarray(), columns=tfidf_vec.get_feature_names_out())\n",
    "dtm2"
   ]
  },
  {
   "cell_type": "markdown",
   "metadata": {},
   "source": [
    "**Advantage:**\n",
    "- The TFIDF technique of vectorization is mainly used in **Information Retrieval**, such as in Google Search Engines.\n",
    "\n",
    "**Limitations: *(Almost same as BoW)***\n",
    "- **Size of the Vector**: Depends on the overall size of the vocabulary (quite large), thus increasing the number of dimensions.\n",
    "- **Sparsity Exists**: Many entries in the vector remain zero.\n",
    "- **Out of Vocabulary Problem**: If a new word appears, it cannot be vectorized.\n",
    "- **Increased Dimensions**: The number of dimensions increases with a larger vocabulary.\n",
    "- **Semantic Meanings Are Not Completely Captured**:\n",
    "  - **Ordering of Words Is Ignored**: The sequence of words is not considered.\n",
    "  - **Two Very Similar Vectors Can Convey Completely Different Meanings**: This can lead to misrepresentation of the context."
   ]
  },
  {
   "cell_type": "code",
   "execution_count": 49,
   "metadata": {},
   "outputs": [],
   "source": [
    "# y = mx + c (Simple Linear Regression)"
   ]
  },
  {
   "cell_type": "code",
   "execution_count": null,
   "metadata": {},
   "outputs": [],
   "source": []
  },
  {
   "cell_type": "markdown",
   "metadata": {},
   "source": [
    "## 6. Word Embeddings\n",
    "\n",
    "### a. Conceptual Understanding\n",
    "- In Bag of Words and TF-IDF encodings, every word is treated as an individual entity, and semantics are completely ignored.\n",
    "- These vectorization techniques work fine for NLP tasks like **Text Generation** and **Classification**.\n",
    "- However, Bag-of-Words and TFIDF encodings won’t be as effective for other NLP tasks like **Sentiment Analysis**, **Machine Translation**, and **Question Answering**, where a deeper understanding of the context is required to achieve great results.\n",
    "- For this, we turn to **Word Embeddings**, a featurized word-level representation capable of capturing the semantic meanings of words.\n",
    "- **Word Embeddings** are techniques that map a single **word** as well as an entire **document** to a dense vector of fixed size (50 to 300 dimensions) that captures the semantic meanings of words.\n",
    "\n",
    "#### Word Embedding Techniques:\n",
    "1. **Prediction-Based (Don’t Count, Predict)**:\n",
    "   - **Word2Vec** by Google (2013): [Paper](https://arxiv.org/pdf/1301.3781.pdf)\n",
    "   - **FastText** by Facebook (2015): [Paper](https://arxiv.org/pdf/1607.01759.pdf)\n",
    "2. **Frequency/Count-Based**:\n",
    "   - **Global Vectors (GloVe)** by Stanford (2014): [Paper](https://nlp.stanford.edu/pubs/glove.pdf)"
   ]
  },
  {
   "cell_type": "markdown",
   "metadata": {},
   "source": [
    "### b. Word2Vec\n",
    "- **Word2Vec** technique was released in 2013 by Google researchers that uses the power of a simple Neural Network to generate word embeddings.\n",
    "- It is a contextually aware word embedding technique that uses a simple Neural Network to generate word embeddings.\n",
    "- It converts a word into a vector of real numbers (300 or maybe 400 dimensions).\n",
    "- **Two Approaches to Train a Word2Vec Model**:\n",
    "  - **CBOW**: Use the context words to predict the target word.\n",
    "  - **Skip-Gram**: Use a word to predict target context words.\n",
    "  \n",
    "<img align=\"right\" width=\"800\"  src=\"images/word2vec.jpeg\" >\n"
   ]
  },
  {
   "cell_type": "markdown",
   "metadata": {},
   "source": [
    "**Example:**\n",
    "\n",
    "- Bag of Words (BOW) and TFIDF treat `king`, `queen`, `woman`, and `princess` as completely different words.\n",
    "- **Word Embedding techniques** will capture the semantic meanings of these words and represent them as vectors that are quite close or similar to each other.\n",
    "\n",
    "<img align=\"right\" width=\"800\"  src=\"images/word2vectors.png\" >"
   ]
  },
  {
   "cell_type": "code",
   "execution_count": null,
   "metadata": {},
   "outputs": [],
   "source": []
  },
  {
   "cell_type": "markdown",
   "metadata": {},
   "source": [
    "### c. `word2vec` using spaCy `en_core_web_lg` Model"
   ]
  },
  {
   "cell_type": "code",
   "execution_count": 50,
   "metadata": {},
   "outputs": [],
   "source": [
    "import spacy\n",
    "nlp = spacy.load('en_core_web_lg')"
   ]
  },
  {
   "cell_type": "code",
   "execution_count": 51,
   "metadata": {},
   "outputs": [
    {
     "data": {
      "text/plain": [
       "342918"
      ]
     },
     "execution_count": 51,
     "metadata": {},
     "output_type": "execute_result"
    }
   ],
   "source": [
    "len(nlp.vocab.vectors) # number of words in the vocabulary"
   ]
  },
  {
   "cell_type": "code",
   "execution_count": 52,
   "metadata": {},
   "outputs": [
    {
     "data": {
      "text/plain": [
       "(342918, 300)"
      ]
     },
     "execution_count": 52,
     "metadata": {},
     "output_type": "execute_result"
    }
   ],
   "source": [
    "nlp.vocab.vectors.shape # dimension of the word vectors, it means that each word has 300 dimensions"
   ]
  },
  {
   "cell_type": "code",
   "execution_count": null,
   "metadata": {},
   "outputs": [],
   "source": []
  },
  {
   "cell_type": "markdown",
   "metadata": {},
   "source": [
    "**Vector Representation of Words**"
   ]
  },
  {
   "cell_type": "code",
   "execution_count": 54,
   "metadata": {},
   "outputs": [
    {
     "data": {
      "text/plain": [
       "array([ 3.1542e-01, -3.5068e-01,  4.2923e-01, -5.3825e-01, -1.8480e-01,\n",
       "       -3.1082e-01,  2.9196e-01, -7.1030e-01, -2.3867e-01,  1.8471e+00,\n",
       "       -3.6446e-01, -5.1282e-01,  1.2210e-01,  3.8909e-01, -7.3204e-02,\n",
       "        3.5462e-02,  3.3289e-01,  6.6466e-01,  2.7175e-02,  4.2021e-01,\n",
       "       -1.4520e-01,  3.7991e-01, -6.0520e-01,  1.0695e-01, -6.4716e-01,\n",
       "       -1.0739e-02, -3.9754e-01,  3.8857e-01, -2.0134e-01,  6.9813e-01,\n",
       "       -3.2411e-01,  7.3085e-01, -1.0930e-01, -2.3511e-01,  1.8482e-01,\n",
       "       -1.1595e-01, -7.1003e-01, -2.2974e-01, -4.1979e-01,  8.1004e-03,\n",
       "       -1.0504e-01, -4.4802e-01, -7.3928e-02, -4.2380e-01,  2.8482e-01,\n",
       "       -7.4517e-02,  9.8161e-02,  6.4602e-01, -2.5832e-01, -2.0452e-02,\n",
       "       -6.6863e-02,  5.1501e-01,  1.6758e-01,  1.2329e-01,  1.9636e-01,\n",
       "        1.1958e-01, -1.8296e-01, -1.4325e-01, -2.7758e-01,  5.0597e-02,\n",
       "       -6.6122e-02, -1.8920e-01,  3.3300e-01,  2.5319e-01,  6.6355e-01,\n",
       "        6.6735e-01,  4.9969e-01,  1.5481e-01, -8.4247e-02, -2.2947e-01,\n",
       "       -6.8367e-01, -2.9783e-01, -1.8651e-01, -4.7121e-01,  1.8272e-01,\n",
       "       -3.2604e-01, -6.8030e-02,  7.0073e-01,  3.3159e-01,  7.0393e-02,\n",
       "       -7.6987e-01,  5.9069e-01,  2.0592e-01,  1.7976e-01,  6.9525e-03,\n",
       "        5.7855e-02,  7.2047e-01, -7.7249e-01, -5.4188e-01, -1.2189e-01,\n",
       "       -3.1734e-03, -1.5960e-01,  1.6970e-01, -1.2546e-01,  8.7069e-01,\n",
       "       -4.6478e-01, -1.9302e-01, -4.5618e-01, -1.5419e-01,  8.1190e-01,\n",
       "       -2.0544e-01,  3.9454e-01, -3.1178e-01, -6.4318e-02, -4.4443e-02,\n",
       "       -5.8338e-01, -1.4792e-01,  1.7083e-02,  8.3239e-01, -1.1280e-01,\n",
       "        5.7826e-02,  1.7024e-01, -1.3635e-01, -2.8894e-01, -4.0590e-01,\n",
       "       -5.0685e-02,  4.9856e-01,  6.0885e-02,  1.9437e-01, -1.9811e-01,\n",
       "       -2.2335e-01, -2.5909e-02,  3.9846e-01,  4.4087e-01,  2.3195e-02,\n",
       "        9.8666e-02, -1.3004e-01, -2.0339e-01, -4.2958e-01, -7.9760e-03,\n",
       "       -3.2016e-01, -4.1094e-01, -1.0304e-01, -7.5565e-01,  1.7748e-02,\n",
       "       -2.0037e-01,  1.7185e-01,  2.1787e-01, -3.1685e-01,  2.2068e-02,\n",
       "       -2.5559e+00, -9.9115e-02,  1.8434e-01,  1.2448e-01, -5.9413e-02,\n",
       "       -4.5649e-02,  7.9018e-01,  2.4556e-01, -1.5059e-02, -7.8996e-01,\n",
       "        2.9087e-01, -3.9419e-01,  3.7617e-01,  1.5718e-01,  5.1356e-01,\n",
       "       -3.4219e-01,  5.0628e-02, -3.3254e-01, -1.4157e-01,  3.3355e-01,\n",
       "        4.4398e-01, -2.5451e-01, -3.3201e-02, -2.0958e-01,  3.8870e-01,\n",
       "       -2.4565e-01,  5.2391e-01,  4.3247e-01, -4.1701e-01,  2.9031e-01,\n",
       "       -7.8001e-01,  3.0100e-02, -6.1446e-02, -1.4029e-01, -5.5354e-01,\n",
       "       -1.9175e-01,  6.7279e-01, -1.1104e-01, -3.5486e-01, -2.8601e-01,\n",
       "        1.1720e-01, -4.5021e-01,  1.4004e-01, -5.7484e-01, -2.2531e-01,\n",
       "        4.1572e-01, -1.5950e-01, -2.7877e-01,  7.9785e-02,  1.9120e-02,\n",
       "       -9.8357e-01, -5.6998e-01, -3.4023e-02,  1.7382e-02, -1.7157e-02,\n",
       "       -2.8211e-01,  1.5573e-01, -1.3556e-01, -2.6296e-01, -7.4571e-01,\n",
       "        1.2015e-01,  5.4234e-01,  5.6783e-02, -7.5675e-02,  2.1820e-01,\n",
       "       -2.5679e-01,  2.3552e-01, -2.7111e-02, -1.9342e-01, -3.1088e-01,\n",
       "       -1.0600e-01,  4.9512e-01,  5.7932e-02,  3.8773e-01,  9.3160e-02,\n",
       "       -1.3782e-01,  2.4244e-01,  3.8098e-01,  9.1109e-04,  8.8338e-01,\n",
       "        4.3823e-01, -7.7041e-02,  1.1541e-01,  3.4702e-01,  5.9785e-01,\n",
       "        6.7012e-01, -6.0953e-02, -4.3872e-02, -4.0800e-01,  7.5721e-01,\n",
       "        2.4773e-01,  8.8926e-02, -1.8493e-01, -5.2339e-01,  8.5809e-02,\n",
       "       -6.0880e-01, -7.7463e-02, -2.6829e-01, -3.9021e-01, -1.5002e-01,\n",
       "        5.4297e-01, -4.1076e-01, -9.5215e-02, -2.9787e-01,  1.0041e-01,\n",
       "       -3.7774e-01,  7.5511e-01, -4.3910e-01, -6.1722e-01, -1.0360e+00,\n",
       "        6.9651e-01,  1.4157e-01, -4.4533e-01,  3.2702e-01,  3.8306e-02,\n",
       "        2.6765e-01,  5.4242e-02, -3.0242e-02, -4.5133e-01,  6.2505e-03,\n",
       "        2.7504e-01, -5.2413e-02, -1.9870e-01, -1.7869e-01, -2.4658e-01,\n",
       "       -3.7369e-01,  2.6174e-01,  4.1482e-01, -5.9277e-01,  6.1446e-02,\n",
       "        6.6261e-02,  1.0970e-01, -1.4388e-01, -3.2442e-01, -3.9016e-04,\n",
       "       -2.1392e-01,  3.2963e-01,  5.0402e-01,  1.3454e-01, -5.6133e-01,\n",
       "        1.0422e+00,  5.8985e-01,  1.4473e-01,  1.7745e-01,  1.6160e-01,\n",
       "        3.3230e-01,  2.2909e-01,  1.5774e-01, -3.5463e-01, -4.7642e-01,\n",
       "       -2.5822e-01,  2.3677e-01, -4.0255e-01, -3.5364e-01, -1.6697e-01,\n",
       "        7.0677e-01,  8.4272e-02,  1.1427e-01,  5.8221e-01, -1.0559e-01],\n",
       "      dtype=float32)"
      ]
     },
     "execution_count": 54,
     "metadata": {},
     "output_type": "execute_result"
    }
   ],
   "source": [
    "nlp(u\"king\").vector # here u is a Unicode character"
   ]
  },
  {
   "cell_type": "code",
   "execution_count": 55,
   "metadata": {},
   "outputs": [
    {
     "data": {
      "text/plain": [
       "array([0., 0., 0., 0., 0., 0., 0., 0., 0., 0., 0., 0., 0., 0., 0., 0., 0.,\n",
       "       0., 0., 0., 0., 0., 0., 0., 0., 0., 0., 0., 0., 0., 0., 0., 0., 0.,\n",
       "       0., 0., 0., 0., 0., 0., 0., 0., 0., 0., 0., 0., 0., 0., 0., 0., 0.,\n",
       "       0., 0., 0., 0., 0., 0., 0., 0., 0., 0., 0., 0., 0., 0., 0., 0., 0.,\n",
       "       0., 0., 0., 0., 0., 0., 0., 0., 0., 0., 0., 0., 0., 0., 0., 0., 0.,\n",
       "       0., 0., 0., 0., 0., 0., 0., 0., 0., 0., 0., 0., 0., 0., 0., 0., 0.,\n",
       "       0., 0., 0., 0., 0., 0., 0., 0., 0., 0., 0., 0., 0., 0., 0., 0., 0.,\n",
       "       0., 0., 0., 0., 0., 0., 0., 0., 0., 0., 0., 0., 0., 0., 0., 0., 0.,\n",
       "       0., 0., 0., 0., 0., 0., 0., 0., 0., 0., 0., 0., 0., 0., 0., 0., 0.,\n",
       "       0., 0., 0., 0., 0., 0., 0., 0., 0., 0., 0., 0., 0., 0., 0., 0., 0.,\n",
       "       0., 0., 0., 0., 0., 0., 0., 0., 0., 0., 0., 0., 0., 0., 0., 0., 0.,\n",
       "       0., 0., 0., 0., 0., 0., 0., 0., 0., 0., 0., 0., 0., 0., 0., 0., 0.,\n",
       "       0., 0., 0., 0., 0., 0., 0., 0., 0., 0., 0., 0., 0., 0., 0., 0., 0.,\n",
       "       0., 0., 0., 0., 0., 0., 0., 0., 0., 0., 0., 0., 0., 0., 0., 0., 0.,\n",
       "       0., 0., 0., 0., 0., 0., 0., 0., 0., 0., 0., 0., 0., 0., 0., 0., 0.,\n",
       "       0., 0., 0., 0., 0., 0., 0., 0., 0., 0., 0., 0., 0., 0., 0., 0., 0.,\n",
       "       0., 0., 0., 0., 0., 0., 0., 0., 0., 0., 0., 0., 0., 0., 0., 0., 0.,\n",
       "       0., 0., 0., 0., 0., 0., 0., 0., 0., 0., 0.], dtype=float32)"
      ]
     },
     "execution_count": 55,
     "metadata": {},
     "output_type": "execute_result"
    }
   ],
   "source": [
    "nlp(u\"ehtisham\").vector # here u is a Unicode character"
   ]
  },
  {
   "cell_type": "code",
   "execution_count": null,
   "metadata": {},
   "outputs": [],
   "source": []
  },
  {
   "cell_type": "markdown",
   "metadata": {},
   "source": [
    "**Out of Vocabulary Problem and L2 Norms**"
   ]
  },
  {
   "cell_type": "code",
   "execution_count": 56,
   "metadata": {},
   "outputs": [
    {
     "data": {
      "text/plain": [
       "['_',\n",
       " '__bytes__',\n",
       " '__class__',\n",
       " '__delattr__',\n",
       " '__dir__',\n",
       " '__doc__',\n",
       " '__eq__',\n",
       " '__format__',\n",
       " '__ge__',\n",
       " '__getattribute__',\n",
       " '__getstate__',\n",
       " '__gt__',\n",
       " '__hash__',\n",
       " '__init__',\n",
       " '__init_subclass__',\n",
       " '__le__',\n",
       " '__len__',\n",
       " '__lt__',\n",
       " '__ne__',\n",
       " '__new__',\n",
       " '__pyx_vtable__',\n",
       " '__reduce__',\n",
       " '__reduce_ex__',\n",
       " '__repr__',\n",
       " '__setattr__',\n",
       " '__sizeof__',\n",
       " '__str__',\n",
       " '__subclasshook__',\n",
       " '__unicode__',\n",
       " 'ancestors',\n",
       " 'check_flag',\n",
       " 'children',\n",
       " 'cluster',\n",
       " 'conjuncts',\n",
       " 'dep',\n",
       " 'dep_',\n",
       " 'doc',\n",
       " 'ent_id',\n",
       " 'ent_id_',\n",
       " 'ent_iob',\n",
       " 'ent_iob_',\n",
       " 'ent_kb_id',\n",
       " 'ent_kb_id_',\n",
       " 'ent_type',\n",
       " 'ent_type_',\n",
       " 'get_extension',\n",
       " 'has_dep',\n",
       " 'has_extension',\n",
       " 'has_head',\n",
       " 'has_morph',\n",
       " 'has_vector',\n",
       " 'head',\n",
       " 'i',\n",
       " 'idx',\n",
       " 'iob_strings',\n",
       " 'is_alpha',\n",
       " 'is_ancestor',\n",
       " 'is_ascii',\n",
       " 'is_bracket',\n",
       " 'is_currency',\n",
       " 'is_digit',\n",
       " 'is_left_punct',\n",
       " 'is_lower',\n",
       " 'is_oov',\n",
       " 'is_punct',\n",
       " 'is_quote',\n",
       " 'is_right_punct',\n",
       " 'is_sent_end',\n",
       " 'is_sent_start',\n",
       " 'is_space',\n",
       " 'is_stop',\n",
       " 'is_title',\n",
       " 'is_upper',\n",
       " 'lang',\n",
       " 'lang_',\n",
       " 'left_edge',\n",
       " 'lefts',\n",
       " 'lemma',\n",
       " 'lemma_',\n",
       " 'lex',\n",
       " 'lex_id',\n",
       " 'like_email',\n",
       " 'like_num',\n",
       " 'like_url',\n",
       " 'lower',\n",
       " 'lower_',\n",
       " 'morph',\n",
       " 'n_lefts',\n",
       " 'n_rights',\n",
       " 'nbor',\n",
       " 'norm',\n",
       " 'norm_',\n",
       " 'orth',\n",
       " 'orth_',\n",
       " 'pos',\n",
       " 'pos_',\n",
       " 'prefix',\n",
       " 'prefix_',\n",
       " 'prob',\n",
       " 'rank',\n",
       " 'remove_extension',\n",
       " 'right_edge',\n",
       " 'rights',\n",
       " 'sent',\n",
       " 'sent_start',\n",
       " 'sentiment',\n",
       " 'set_extension',\n",
       " 'set_morph',\n",
       " 'shape',\n",
       " 'shape_',\n",
       " 'similarity',\n",
       " 'subtree',\n",
       " 'suffix',\n",
       " 'suffix_',\n",
       " 'tag',\n",
       " 'tag_',\n",
       " 'tensor',\n",
       " 'text',\n",
       " 'text_with_ws',\n",
       " 'vector',\n",
       " 'vector_norm',\n",
       " 'vocab',\n",
       " 'whitespace_']"
      ]
     },
     "execution_count": 56,
     "metadata": {},
     "output_type": "execute_result"
    }
   ],
   "source": [
    "words = nlp(u\"lion cat ehtisham\")\n",
    "dir(words[0])"
   ]
  },
  {
   "cell_type": "code",
   "execution_count": 57,
   "metadata": {},
   "outputs": [
    {
     "name": "stdout",
     "output_type": "stream",
     "text": [
      "lion ---> True ---> 6.5120897 ---> False\n",
      "cat ---> True ---> 6.6808186 ---> False\n",
      "ehtisham ---> False ---> 0.0 ---> True\n"
     ]
    }
   ],
   "source": [
    "for word in words:\n",
    "    print(word.text, '--->', word.has_vector, '--->', word.vector_norm, '--->', word.is_oov)"
   ]
  },
  {
   "cell_type": "markdown",
   "metadata": {},
   "source": [
    "**Cosine Similarity/Cosine Distance among Vectors**"
   ]
  },
  {
   "cell_type": "code",
   "execution_count": 58,
   "metadata": {},
   "outputs": [
    {
     "name": "stdout",
     "output_type": "stream",
     "text": [
      "python ---> python ---> 1.0\n",
      "python ---> cat ---> 0.3270457983016968\n",
      "python ---> pet ---> 0.21873925626277924\n",
      "cat ---> python ---> 0.3270457983016968\n",
      "cat ---> cat ---> 1.0\n",
      "cat ---> pet ---> 0.7505456209182739\n",
      "pet ---> python ---> 0.21873925626277924\n",
      "pet ---> cat ---> 0.7505456209182739\n",
      "pet ---> pet ---> 1.0\n"
     ]
    }
   ],
   "source": [
    "words = nlp(u\"python cat pet\")\n",
    "for word1 in words:\n",
    "    for word2 in words:\n",
    "        print(word1.text, '--->', word2.text, '--->', word1.similarity(word2))"
   ]
  },
  {
   "cell_type": "code",
   "execution_count": 59,
   "metadata": {},
   "outputs": [
    {
     "name": "stdout",
     "output_type": "stream",
     "text": [
      "love ---> love ---> 1.0\n",
      "love ---> hate ---> 0.6393098831176758\n",
      "hate ---> love ---> 0.6393098831176758\n",
      "hate ---> hate ---> 1.0\n"
     ]
    }
   ],
   "source": [
    "words = nlp(u\"love hate\")\n",
    "for word1 in words:\n",
    "    for word2 in words:\n",
    "        print(word1.text, '--->', word2.text, '--->', word1.similarity(word2))"
   ]
  },
  {
   "cell_type": "markdown",
   "metadata": {},
   "source": [
    "**Compute Cosine Similarity and Cosine distance using Sklearn**"
   ]
  },
  {
   "cell_type": "code",
   "execution_count": 60,
   "metadata": {},
   "outputs": [
    {
     "name": "stdout",
     "output_type": "stream",
     "text": [
      "[[0.63931]]\n",
      "[[0.36069]]\n"
     ]
    }
   ],
   "source": [
    "from sklearn. metrics.pairwise import cosine_similarity, cosine_distances\n",
    "\n",
    "words = nlp(u\"love hate\")\n",
    "print(cosine_similarity(words[0].vector.reshape(1, -1), words[1].vector.reshape(1, -1)))\n",
    "print(cosine_distances(words[0].vector.reshape(1, -1), words[1].vector.reshape(1, -1)))"
   ]
  },
  {
   "cell_type": "code",
   "execution_count": 61,
   "metadata": {},
   "outputs": [
    {
     "name": "stdout",
     "output_type": "stream",
     "text": [
      "[[0.63931]]\n",
      "[[0.36069]]\n"
     ]
    }
   ],
   "source": [
    "print(cosine_similarity([words[0].vector], [words[1].vector]))\n",
    "print(cosine_distances([words[0].vector], [words[1].vector]))"
   ]
  },
  {
   "cell_type": "code",
   "execution_count": null,
   "metadata": {},
   "outputs": [],
   "source": []
  },
  {
   "cell_type": "code",
   "execution_count": null,
   "metadata": {},
   "outputs": [],
   "source": []
  },
  {
   "cell_type": "markdown",
   "metadata": {},
   "source": [
    "### d. `Word2Vec` using Gensim (Pre-Trained Google News Model)\n",
    "\n",
    "1. **Download Google News model**:\n",
    "   - [Google News Model Link](https://drive.google.com/u/1/uc?id=0B7XkCwpI5KDYNlNUTTlSS21pQmM&export=download)\n",
    "   - The file size is approximately 1.5GB. Save it on your disk and note the path to the binary file.\n",
    "   - It includes word vectors for a vocabulary of 3 million words and phrases trained on roughly 100 billion words from a Google News dataset.\n",
    "\n",
    "\n",
    "\n",
    "**Install gensim Library**\n",
    "```python\n",
    "!pip install -q  gensim\n",
    "```"
   ]
  },
  {
   "cell_type": "code",
   "execution_count": 62,
   "metadata": {},
   "outputs": [],
   "source": [
    "# from google.colab import drive\n",
    "# drive.mount('/content/drive')"
   ]
  },
  {
   "cell_type": "code",
   "execution_count": 63,
   "metadata": {},
   "outputs": [],
   "source": [
    "from gensim.models import Word2Vec, KeyedVectors"
   ]
  },
  {
   "cell_type": "markdown",
   "metadata": {},
   "source": [
    "**Load the Model using Gensim**"
   ]
  },
  {
   "cell_type": "code",
   "execution_count": 64,
   "metadata": {},
   "outputs": [],
   "source": [
    "# Load the Google News word2vec model that you have downloaded\n",
    "# This may take a bit of time as it’s a very heavy model\n",
    "w2v = KeyedVectors.load_word2vec_format('/Users/ehtishamsadiq/Data/Leo Behe/assets/GoogleNews-vectors-negative300.bin', binary=True)"
   ]
  },
  {
   "cell_type": "code",
   "execution_count": null,
   "metadata": {},
   "outputs": [],
   "source": []
  },
  {
   "cell_type": "code",
   "execution_count": 65,
   "metadata": {},
   "outputs": [
    {
     "name": "stdout",
     "output_type": "stream",
     "text": [
      "(300,)\n"
     ]
    },
    {
     "data": {
      "text/plain": [
       "array([ 2.12890625e-01, -4.57763672e-03, -2.36328125e-01,  4.56542969e-02,\n",
       "        1.34765625e-01, -1.36718750e-01, -1.40991211e-02, -1.22558594e-01,\n",
       "        3.80859375e-02, -2.12097168e-03, -1.57226562e-01,  5.92041016e-03,\n",
       "       -1.87500000e-01, -9.86328125e-02, -4.64843750e-01, -3.27148438e-02,\n",
       "       -2.51953125e-01,  1.50146484e-02, -2.37304688e-01, -1.05468750e-01,\n",
       "       -6.44531250e-02, -2.19726562e-01,  3.80859375e-01, -6.78710938e-02,\n",
       "        1.67968750e-01,  1.31835938e-01, -3.65234375e-01,  9.08203125e-02,\n",
       "        1.94335938e-01,  2.12097168e-03, -1.25000000e-01, -1.01074219e-01,\n",
       "       -2.05078125e-02,  1.79687500e-01, -6.29882812e-02, -1.00097656e-01,\n",
       "       -3.82812500e-01,  2.73437500e-01,  1.89453125e-01,  2.61718750e-01,\n",
       "        2.14843750e-01, -2.03125000e-01,  1.56250000e-01,  2.15820312e-01,\n",
       "        1.06933594e-01, -3.12500000e-02,  2.41210938e-01, -1.20239258e-02,\n",
       "        3.24218750e-01, -1.86523438e-01, -1.11328125e-01,  3.71093750e-02,\n",
       "        5.17578125e-02, -1.67968750e-01, -5.44433594e-02, -2.88391113e-03,\n",
       "       -2.96630859e-02, -1.20117188e-01,  3.67187500e-01, -2.91748047e-02,\n",
       "       -9.86328125e-02,  1.61132812e-02, -9.13085938e-02, -2.25585938e-01,\n",
       "        1.66992188e-01, -1.80664062e-01, -7.56835938e-02, -2.21679688e-01,\n",
       "       -2.28515625e-01,  2.18750000e-01,  2.07031250e-01,  1.40625000e-01,\n",
       "        1.46484375e-01,  1.20605469e-01,  1.31835938e-01,  3.81469727e-04,\n",
       "       -1.69677734e-02, -3.22265625e-02, -1.15234375e-01, -4.54101562e-02,\n",
       "        2.46093750e-01, -2.32421875e-01,  1.46484375e-01, -3.01513672e-02,\n",
       "       -5.74218750e-01, -1.88476562e-01, -1.80664062e-01, -9.13085938e-02,\n",
       "        3.09753418e-03, -7.95898438e-02,  1.90429688e-01,  1.57226562e-01,\n",
       "       -1.36718750e-01, -3.12500000e-02,  8.00781250e-02,  3.02734375e-02,\n",
       "       -2.46093750e-01,  1.09375000e-01,  1.62109375e-01, -2.55859375e-01,\n",
       "       -1.01074219e-01, -1.29882812e-01, -2.32421875e-01, -8.30078125e-02,\n",
       "        6.12792969e-02, -3.10546875e-01, -6.44531250e-02, -1.94091797e-02,\n",
       "        2.35351562e-01, -6.17675781e-02, -9.27734375e-03,  4.10156250e-02,\n",
       "        3.45703125e-01,  3.12500000e-01,  1.42578125e-01, -3.19824219e-02,\n",
       "       -1.43554688e-01, -2.87109375e-01, -3.41796875e-01, -6.25000000e-02,\n",
       "        6.31713867e-03, -3.61328125e-01, -1.45507812e-01, -3.10546875e-01,\n",
       "       -3.18359375e-01,  8.25195312e-02,  1.12304688e-01,  9.46044922e-04,\n",
       "       -8.05664062e-02, -1.61132812e-01, -1.30859375e-01,  4.93164062e-02,\n",
       "       -2.17773438e-01,  2.11914062e-01, -2.57568359e-02, -1.31835938e-01,\n",
       "       -2.47802734e-02,  9.08203125e-02, -5.06591797e-03,  2.09960938e-01,\n",
       "        7.08007812e-02, -1.89453125e-01,  3.93066406e-02,  1.47460938e-01,\n",
       "        8.20312500e-02, -1.48437500e-01, -1.48437500e-01,  4.78515625e-02,\n",
       "        1.31835938e-02, -7.22656250e-02,  2.47070312e-01,  2.61718750e-01,\n",
       "       -1.57226562e-01,  1.44531250e-01, -1.00585938e-01,  3.39355469e-02,\n",
       "        1.72424316e-03,  4.27246094e-02,  1.35742188e-01, -6.17675781e-02,\n",
       "        1.98974609e-02,  4.58984375e-02,  3.11279297e-02, -1.59179688e-01,\n",
       "       -2.41210938e-01,  1.49414062e-01,  2.75390625e-01,  6.64062500e-02,\n",
       "       -6.22558594e-02,  1.98242188e-01, -3.08593750e-01,  1.62109375e-01,\n",
       "        4.95605469e-02,  7.51953125e-02, -2.73437500e-01, -2.29492188e-02,\n",
       "        2.32421875e-01,  9.86328125e-02, -1.00585938e-01, -2.24609375e-01,\n",
       "       -2.98828125e-01, -1.24023438e-01,  9.76562500e-02, -2.00195312e-02,\n",
       "       -2.77343750e-01, -2.55126953e-02,  1.85546875e-01,  1.10351562e-01,\n",
       "        1.82617188e-01,  3.69140625e-01,  1.01074219e-01, -2.47070312e-01,\n",
       "       -2.81250000e-01,  8.74023438e-02, -5.78613281e-02,  1.24023438e-01,\n",
       "       -6.54296875e-02, -2.39257812e-01, -1.53320312e-01,  2.41210938e-01,\n",
       "        1.28784180e-02,  1.04980469e-01,  4.02343750e-01, -1.19628906e-01,\n",
       "        1.40991211e-02,  4.51660156e-02,  1.04492188e-01, -4.63867188e-02,\n",
       "        1.01074219e-01, -1.15234375e-01, -3.98437500e-01, -1.79443359e-02,\n",
       "       -9.08203125e-02, -1.80664062e-01, -2.28515625e-01,  1.31835938e-01,\n",
       "        2.83203125e-01,  2.77099609e-02,  1.90429688e-01, -1.59179688e-01,\n",
       "        3.32031250e-02, -2.35595703e-02, -1.05957031e-01, -2.91015625e-01,\n",
       "       -2.66113281e-02,  1.05590820e-02,  3.54003906e-02, -2.14843750e-01,\n",
       "        4.92187500e-01,  2.88085938e-02, -8.69140625e-02, -1.92382812e-01,\n",
       "       -2.61718750e-01,  2.13867188e-01, -8.10546875e-02, -7.56835938e-02,\n",
       "        7.32421875e-02, -6.49414062e-02,  4.10156250e-02, -1.91650391e-02,\n",
       "        9.27734375e-02, -1.67968750e-01, -1.77734375e-01, -5.39550781e-02,\n",
       "        3.65234375e-01, -3.06640625e-01,  3.49609375e-01, -7.42187500e-02,\n",
       "       -7.71484375e-02,  1.19628906e-01,  9.91210938e-02,  2.00195312e-01,\n",
       "       -7.66601562e-02, -2.03125000e-01,  5.51757812e-02,  1.66992188e-01,\n",
       "       -1.07421875e-01, -9.88769531e-03, -5.11718750e-01, -2.05078125e-01,\n",
       "       -1.80664062e-01,  8.30078125e-02, -1.13281250e-01,  1.78710938e-01,\n",
       "        1.29882812e-01,  2.24609375e-01, -2.71484375e-01,  2.07031250e-01,\n",
       "       -8.93554688e-02,  2.28515625e-01, -8.49609375e-02, -6.95800781e-03,\n",
       "        2.94921875e-01,  8.48388672e-03,  3.10546875e-01, -7.56835938e-02,\n",
       "       -2.53906250e-01,  1.42578125e-01, -1.06933594e-01,  3.49121094e-02,\n",
       "        2.20703125e-01,  9.08203125e-02, -1.81640625e-01,  6.73828125e-02,\n",
       "       -2.05078125e-02,  1.19140625e-01,  1.99218750e-01,  1.69921875e-01,\n",
       "        4.31640625e-01, -1.25976562e-01, -1.85546875e-02, -1.32812500e-01,\n",
       "        1.50390625e-01, -2.02148438e-01, -3.24707031e-02,  1.35742188e-01,\n",
       "        9.61914062e-02, -1.38671875e-01, -1.99218750e-01,  1.76757812e-01],\n",
       "      dtype=float32)"
      ]
     },
     "execution_count": 65,
     "metadata": {},
     "output_type": "execute_result"
    }
   ],
   "source": [
    "# Vector representation for any word, say \"lion\", can be obtained by:\n",
    "vec = w2v['lion']\n",
    "print(vec.shape)  # Output: (300,)\n",
    "vec"
   ]
  },
  {
   "cell_type": "code",
   "execution_count": null,
   "metadata": {},
   "outputs": [],
   "source": []
  },
  {
   "cell_type": "markdown",
   "metadata": {},
   "source": [
    "**The `most_similar()` Method**\n",
    "\n",
    "- The `most_similar()` method in Gensim's Word2Vec model retrieves the most similar words to a given word based on their vector representation."
   ]
  },
  {
   "cell_type": "code",
   "execution_count": 66,
   "metadata": {},
   "outputs": [],
   "source": [
    "# Finding the most similar words to \"king\"\n",
    "w2v.most_similar('king')"
   ]
  },
  {
   "cell_type": "code",
   "execution_count": null,
   "metadata": {},
   "outputs": [],
   "source": [
    "# Finding the most similar words to \"man\"\n",
    "w2v.most_similar('man')"
   ]
  },
  {
   "cell_type": "code",
   "execution_count": null,
   "metadata": {},
   "outputs": [],
   "source": [
    "# Finding the most similar words to \"snake\"\n",
    "w2v.most_similar('snake')"
   ]
  },
  {
   "cell_type": "code",
   "execution_count": null,
   "metadata": {},
   "outputs": [],
   "source": [
    "# Finding the most similar words to \"facebook\"\n",
    "w2v.most_similar('facebook')"
   ]
  },
  {
   "cell_type": "code",
   "execution_count": null,
   "metadata": {},
   "outputs": [],
   "source": []
  },
  {
   "cell_type": "markdown",
   "metadata": {},
   "source": [
    "**The `similarity()` Method**\n",
    "\n",
    "- The `similarity()` method in Gensim's Word2Vec model calculates the cosine similarity between the vector representations of two words. This value ranges between -1 and 1, where values closer to 1 indicate higher similarity."
   ]
  },
  {
   "cell_type": "code",
   "execution_count": null,
   "metadata": {},
   "outputs": [],
   "source": [
    "# Calculating similarity between \"man\" and \"woman\"\n",
    "w2v.similarity('man', 'woman')"
   ]
  },
  {
   "cell_type": "code",
   "execution_count": null,
   "metadata": {},
   "outputs": [],
   "source": [
    "# Calculating similarity between \"man\" and \"python\"\n",
    "w2v.similarity('man', 'python')"
   ]
  },
  {
   "cell_type": "code",
   "execution_count": null,
   "metadata": {},
   "outputs": [],
   "source": []
  },
  {
   "cell_type": "markdown",
   "metadata": {},
   "source": [
    "**The `doesnt_match()` Method:**\n",
    "- The `doesnt_match()` method in Gensim's Word2Vec identifies the word that is least similar to the rest in a given list. It compares the cosine similarity of vector representations of the words."
   ]
  },
  {
   "cell_type": "code",
   "execution_count": null,
   "metadata": {},
   "outputs": [],
   "source": [
    "# The doesnt_match() method identifies the odd word out\n",
    "w2v.doesnt_match(['man', 'woman', 'cat', 'boy'])"
   ]
  },
  {
   "cell_type": "code",
   "execution_count": null,
   "metadata": {},
   "outputs": [],
   "source": []
  },
  {
   "cell_type": "code",
   "execution_count": null,
   "metadata": {},
   "outputs": [],
   "source": []
  },
  {
   "cell_type": "markdown",
   "metadata": {},
   "source": [
    "**Vector Arithmetic:**\n",
    "\n",
    "- Word2Vec allows performing vector arithmetic to derive new word vectors. For instance:\n",
    "\n",
    "**new_vec = king - man + woman** gives a new vector close to `queen.`"
   ]
  },
  {
   "cell_type": "code",
   "execution_count": null,
   "metadata": {},
   "outputs": [],
   "source": [
    "# Perform vector arithmetic\n",
    "king = w2v['king']\n",
    "man = w2v['man']\n",
    "woman = w2v['woman']\n",
    "\n",
    "# Vector arithmetic to find a new vector\n",
    "new_vec = king - man + woman\n",
    "\n",
    "# Find words most similar to the new vector\n",
    "w2v.most_similar(new_vec)"
   ]
  },
  {
   "cell_type": "code",
   "execution_count": null,
   "metadata": {},
   "outputs": [],
   "source": []
  },
  {
   "cell_type": "code",
   "execution_count": null,
   "metadata": {},
   "outputs": [],
   "source": [
    "# Vector arithmetic example\n",
    "dollar = w2v['$']\n",
    "england = w2v['England']\n",
    "pakistan = w2v['Pakistan']\n",
    "\n",
    "# Derive a new vector using vector arithmetic\n",
    "new_vec = dollar - england + pakistan\n",
    "\n",
    "# Find the most similar words to the new vector\n",
    "w2v.most_similar(new_vec)"
   ]
  },
  {
   "cell_type": "code",
   "execution_count": null,
   "metadata": {},
   "outputs": [],
   "source": []
  },
  {
   "cell_type": "markdown",
   "metadata": {},
   "source": [
    "# **Bonus: Python for LLM Embeddings**\n",
    "\n",
    "- **What are Embeddings?**  \n",
    "  Embeddings are dense vector representations of data, used to capture meaningful relationships and reduce dimensionality in machine learning.\n",
    "\n",
    "- **Word Embeddings**  \n",
    "  Word embeddings represent words in a vector space, capturing semantic meanings and relationships between words.\n",
    "\n",
    "- **Document Embeddings**  \n",
    "  Document embeddings encode entire documents as vectors, summarizing their content and context for downstream tasks.\n",
    "\n",
    "- **Image Embeddings**  \n",
    "  Image embeddings convert visual data into dense vectors for tasks like image classification and retrieval.\n",
    "\n",
    "- **Creating Embeddings with TensorFlow**  \n",
    "  TensorFlow provides tools to generate and train embeddings using neural networks and pre-trained models.\n",
    "\n",
    "- **Cosine Similarity in Embeddings**  \n",
    "  Cosine similarity measures the angular distance between two embedding vectors to quantify their similarity.\n",
    "\n",
    "- **Visualizing Embeddings with t-SNE**  \n",
    "  t-SNE (t-distributed Stochastic Neighbor Embedding) reduces embedding dimensions for visualizing clusters and relationships.\n",
    "\n",
    "- **Word Analogies with Embeddings**  \n",
    "  Word embeddings enable solving analogies (e.g., \"king - man + woman = queen\") by performing vector arithmetic.\n",
    "\n",
    "- **Sentence Embeddings with BERT**  \n",
    "  BERT provides contextual embeddings for sentences, capturing their nuanced meanings and relationships.\n",
    "\n",
    "- **Fine-tuning Embeddings for Specific Tasks**  \n",
    "  Embeddings can be fine-tuned on specific datasets to enhance performance in domain-specific tasks.\n",
    "\n",
    "- **Real-life Example: Content-based Recommendation System**  \n",
    "  Embeddings are used to recommend content by comparing vector similarities between user preferences and items.\n",
    "\n",
    "- **Real-life Example: Semantic Search Engine**  \n",
    "  Search engines use embeddings to find semantically similar results rather than exact matches to queries.\n",
    "\n",
    "- **Challenges and Limitations of Embeddings**  \n",
    "  Challenges include capturing out-of-vocabulary terms, handling bias in data, and ensuring scalability.\n",
    "\n",
    "- **Future Directions in Embedding Technology**  \n",
    "  Future advancements focus on dynamic embeddings, multimodal representations, and domain-specific improvements."
   ]
  },
  {
   "cell_type": "markdown",
   "metadata": {},
   "source": [
    "### **1. What are Embeddings?**\n",
    "\n",
    "- Embeddings are dense vector representations of data that capture semantic meaning and relationships. They map high-dimensional discrete data (like words or images) into continuous low-dimensional vector spaces where similar items are closer together."
   ]
  },
  {
   "cell_type": "code",
   "execution_count": null,
   "metadata": {},
   "outputs": [],
   "source": [
    "import numpy as np\n",
    "from sklearn.feature_extraction.text import CountVectorizer\n",
    "\n",
    "# Sample sentences\n",
    "sentences = [\"I love machine learning\", \"I enjoy natural language processing\"]\n",
    "\n",
    "# Create embeddings using CountVectorizer\n",
    "vectorizer = CountVectorizer()\n",
    "embeddings = vectorizer.fit_transform(sentences).toarray()\n",
    "\n",
    "print(\"Embeddings shape:\", embeddings.shape)\n",
    "print(\"Embeddings:\\n\", embeddings)"
   ]
  },
  {
   "cell_type": "code",
   "execution_count": null,
   "metadata": {},
   "outputs": [],
   "source": [
    "vectorizer.get_feature_names_out()"
   ]
  },
  {
   "cell_type": "code",
   "execution_count": null,
   "metadata": {},
   "outputs": [],
   "source": []
  },
  {
   "cell_type": "markdown",
   "metadata": {},
   "source": [
    "### **2. Word Embeddings**\n",
    "\n",
    "- Word embeddings represent words as dense vectors in a continuous vector space. They capture semantic relationships between words, allowing for meaningful operations like finding similar words or analogies."
   ]
  },
  {
   "cell_type": "code",
   "execution_count": 4,
   "metadata": {},
   "outputs": [],
   "source": [
    "from gensim.models import Word2Vec\n",
    "\n",
    "# Sample corpus\n",
    "corpus = [[\"cat\", \"dog\", \"pet\"], [\"machine\", \"learning\", \"AI\"]]\n",
    "\n",
    "# Train Word2Vec model\n",
    "model = Word2Vec(sentences=corpus, vector_size=10, window=2, min_count=1, workers=4)"
   ]
  },
  {
   "cell_type": "code",
   "execution_count": null,
   "metadata": {},
   "outputs": [],
   "source": [
    "# Get vector for a word\n",
    "cat_vector = model.wv[\"cat\"]\n",
    "print(\"Vector for 'cat':\", cat_vector)\n",
    "\n",
    "# Find similar words\n",
    "similar_words = model.wv.most_similar(\"dog\", topn=2)\n",
    "print(\"Words similar to 'dog':\", similar_words)"
   ]
  },
  {
   "cell_type": "code",
   "execution_count": null,
   "metadata": {},
   "outputs": [],
   "source": []
  },
  {
   "cell_type": "markdown",
   "metadata": {},
   "source": [
    "### **3. Document Embeddings**\n",
    "\n",
    "- Document embeddings represent entire documents as dense vectors, capturing their overall meaning and content. They are useful for tasks like document classification and similarity comparison."
   ]
  },
  {
   "cell_type": "code",
   "execution_count": null,
   "metadata": {},
   "outputs": [],
   "source": [
    "from gensim.models.doc2vec import Doc2Vec, TaggedDocument\n",
    "\n",
    "# Sample documents\n",
    "documents = [\"I love machine learning\", \"Natural language processing is fascinating\"]\n",
    "tagged_docs = [TaggedDocument(doc.split(), [i]) for i, doc in enumerate(documents)]\n",
    "\n",
    "tagged_docs"
   ]
  },
  {
   "cell_type": "code",
   "execution_count": null,
   "metadata": {},
   "outputs": [],
   "source": [
    "# Train Doc2Vec model\n",
    "model = Doc2Vec(vector_size=10, min_count=1, epochs=20)\n",
    "model.build_vocab(tagged_docs)\n",
    "model.train(tagged_docs, total_examples=model.corpus_count, epochs=model.epochs)\n",
    "\n",
    "# display vector representation of tagged_docs\n",
    "for i in range(len(tagged_docs)):\n",
    "    print(\"Vector for document\", i, \":\", model.dv[tagged_docs[i].tags[0]])"
   ]
  },
  {
   "cell_type": "code",
   "execution_count": null,
   "metadata": {},
   "outputs": [],
   "source": [
    "# Get vector for a document\n",
    "doc_vector = model.infer_vector(\"I enjoy deep learning\".split())\n",
    "print(\"Document vector:\", doc_vector)"
   ]
  },
  {
   "cell_type": "code",
   "execution_count": null,
   "metadata": {},
   "outputs": [],
   "source": []
  },
  {
   "cell_type": "code",
   "execution_count": null,
   "metadata": {},
   "outputs": [],
   "source": []
  },
  {
   "cell_type": "markdown",
   "metadata": {},
   "source": [
    "### **4. Image Embeddings**\n",
    "\n",
    "- Image embeddings represent images as dense vectors, capturing visual features and semantic content. They are commonly used in computer vision tasks like image classification and similarity search."
   ]
  },
  {
   "cell_type": "code",
   "execution_count": null,
   "metadata": {},
   "outputs": [],
   "source": [
    "import torch\n",
    "from torchvision import models, transforms\n",
    "from PIL import Image\n",
    "\n",
    "# Load pre-trained ResNet model\n",
    "model = models.resnet50(pretrained=True)\n",
    "model.eval()\n",
    "\n",
    "# Prepare image\n",
    "transform = transforms.Compose([\n",
    "    transforms.Resize(256),\n",
    "    transforms.CenterCrop(224),\n",
    "    transforms.ToTensor(),\n",
    "    transforms.Normalize(mean=[0.485, 0.456, 0.406], std=[0.229, 0.224, 0.225]),\n",
    "])\n",
    "\n",
    "# Load and preprocess image\n",
    "image = Image.open(\"images/github.png\")\n",
    "input_tensor = transform(image).unsqueeze(0)\n",
    "\n",
    "# Generate embedding\n",
    "with torch.no_grad():\n",
    "    embedding = model(input_tensor)\n",
    "\n",
    "print(\"Image embedding shape:\", embedding.shape)"
   ]
  },
  {
   "cell_type": "code",
   "execution_count": null,
   "metadata": {},
   "outputs": [],
   "source": [
    "embedding"
   ]
  },
  {
   "cell_type": "code",
   "execution_count": null,
   "metadata": {},
   "outputs": [],
   "source": []
  },
  {
   "cell_type": "code",
   "execution_count": null,
   "metadata": {},
   "outputs": [],
   "source": []
  },
  {
   "cell_type": "markdown",
   "metadata": {},
   "source": [
    "### **5. Visualizing Embeddings with t-SNE**\n",
    "\n",
    "- t-SNE (t-Distributed Stochastic Neighbor Embedding) is a technique for visualizing high-dimensional embeddings in 2D or 3D space, preserving local relationships between data points."
   ]
  },
  {
   "cell_type": "code",
   "execution_count": null,
   "metadata": {},
   "outputs": [],
   "source": [
    "from sklearn.manifold import TSNE\n",
    "import matplotlib.pyplot as plt\n",
    "\n",
    "# Generate sample embeddings\n",
    "num_embeddings = 1000\n",
    "embedding_dim = 50\n",
    "embeddings = np.random.randn(num_embeddings, embedding_dim)\n",
    "\n",
    "# Apply t-SNE\n",
    "tsne = TSNE(n_components=2, random_state=42)\n",
    "embeddings_2d = tsne.fit_transform(embeddings)\n",
    "\n",
    "# Visualize\n",
    "plt.figure(figsize=(10, 8))\n",
    "plt.scatter(embeddings_2d[:, 0], embeddings_2d[:, 1])\n",
    "plt.title(\"t-SNE Visualization of Embeddings\")\n",
    "plt.xlabel(\"Dimension 1\")\n",
    "plt.ylabel(\"Dimension 2\")\n",
    "plt.show()"
   ]
  },
  {
   "cell_type": "code",
   "execution_count": null,
   "metadata": {},
   "outputs": [],
   "source": []
  },
  {
   "cell_type": "code",
   "execution_count": null,
   "metadata": {},
   "outputs": [],
   "source": []
  },
  {
   "cell_type": "markdown",
   "metadata": {},
   "source": [
    "### **6. Creating Embeddings with Pytorch**"
   ]
  },
  {
   "cell_type": "code",
   "execution_count": null,
   "metadata": {},
   "outputs": [],
   "source": [
    "import torch\n",
    "import torch.nn as nn\n",
    "\n",
    "# Sample vocabulary\n",
    "vocab = [\"cat\", \"dog\", \"bird\", \"fish\"]\n",
    "vocab_size = len(vocab)\n",
    "embedding_dim = 5\n",
    "\n",
    "# Create embedding layer\n",
    "embedding_layer = nn.Embedding(vocab_size, embedding_dim)\n",
    "\n",
    "# Create input indices\n",
    "input_indices = torch.tensor([0, 2, 1, 3])  # Indices of words in vocab\n",
    "\n",
    "# Get embeddings\n",
    "embeddings = embedding_layer(input_indices)\n",
    "\n",
    "print(\"Embeddings shape:\", embeddings.shape)\n",
    "print(\"Embeddings:\\n\", embeddings.detach().numpy())\n"
   ]
  },
  {
   "cell_type": "code",
   "execution_count": null,
   "metadata": {},
   "outputs": [],
   "source": []
  },
  {
   "cell_type": "code",
   "execution_count": null,
   "metadata": {},
   "outputs": [],
   "source": []
  },
  {
   "cell_type": "markdown",
   "metadata": {},
   "source": [
    "### **3. Real-life Example: Content-based Recommendation System**\n",
    "\n",
    "- Embeddings can be used to build content-based recommendation systems. Here's a simple example using movie descriptions to recommend similar movies."
   ]
  },
  {
   "cell_type": "code",
   "execution_count": 1,
   "metadata": {},
   "outputs": [
    {
     "name": "stdout",
     "output_type": "stream",
     "text": [
      "Movies similar to 'Movie A': ['Movie D', 'Movie C']\n"
     ]
    }
   ],
   "source": [
    "from sklearn.feature_extraction.text import TfidfVectorizer\n",
    "from sklearn.metrics.pairwise import cosine_similarity\n",
    "\n",
    "# Sample movie descriptions\n",
    "movies = {\n",
    "    \"Movie A\": \"A thrilling action adventure with stunning visual effects\",\n",
    "    \"Movie B\": \"A heartwarming romantic comedy set in Paris\",\n",
    "    \"Movie C\": \"An epic science fiction journey through space and time\",\n",
    "    \"Movie D\": \"A gripping thriller with unexpected plot twists\",\n",
    "}\n",
    "\n",
    "# Create TF-IDF embeddings\n",
    "vectorizer = TfidfVectorizer()\n",
    "embeddings = vectorizer.fit_transform(movies.values())\n",
    "\n",
    "# Function to get similar movies\n",
    "def get_similar_movies(movie_title, top_n=2):\n",
    "    movie_index = list(movies.keys()).index(movie_title)\n",
    "    similarities = cosine_similarity(embeddings[movie_index], embeddings).flatten()\n",
    "    similar_indices = similarities.argsort()[::-1][1:top_n+1]\n",
    "    return [list(movies.keys())[i] for i in similar_indices]\n",
    "\n",
    "# Get recommendations\n",
    "recommendations = get_similar_movies(\"Movie A\")\n",
    "print(\"Movies similar to 'Movie A':\", recommendations)\n"
   ]
  },
  {
   "cell_type": "code",
   "execution_count": null,
   "metadata": {},
   "outputs": [],
   "source": []
  },
  {
   "cell_type": "code",
   "execution_count": null,
   "metadata": {},
   "outputs": [],
   "source": []
  },
  {
   "cell_type": "code",
   "execution_count": null,
   "metadata": {},
   "outputs": [],
   "source": []
  },
  {
   "cell_type": "code",
   "execution_count": null,
   "metadata": {},
   "outputs": [],
   "source": []
  },
  {
   "cell_type": "code",
   "execution_count": null,
   "metadata": {},
   "outputs": [],
   "source": []
  },
  {
   "cell_type": "code",
   "execution_count": 17,
   "metadata": {},
   "outputs": [
    {
     "data": {
      "text/html": [
       "\n",
       "    <style>\n",
       "        body {\n",
       "            background-color: #f2fff2;\n",
       "        }\n",
       "        h1 {\n",
       "            text-align: center;\n",
       "            font-weight: bold;\n",
       "            font-size: 36px;\n",
       "            color: #4295F4;\n",
       "            text-decoration: underline;\n",
       "            padding-top: 15px;\n",
       "        }\n",
       "        \n",
       "        h2 {\n",
       "            text-align: left;\n",
       "            font-weight: bold;\n",
       "            font-size: 30px;\n",
       "            color: #4A000A;\n",
       "            text-decoration: underline;\n",
       "            padding-top: 10px;\n",
       "        }\n",
       "        \n",
       "        h3 {\n",
       "            text-align: left;\n",
       "            font-weight: bold;\n",
       "            font-size: 30px;\n",
       "            color: #f0081e;\n",
       "            text-decoration: underline;\n",
       "            padding-top: 5px;\n",
       "        }\n",
       "\n",
       "        \n",
       "        p {\n",
       "            text-align: center;\n",
       "            font-size: 12 px;\n",
       "            color: #0B9923;\n",
       "        }\n",
       "    </style>\n",
       "\n",
       "<h1>Hello</h1>\n",
       "<p>Hello World</p>\n",
       "<h2> Hello</h2>\n",
       "<h3> World </h3>\n"
      ],
      "text/plain": [
       "<IPython.core.display.HTML object>"
      ]
     },
     "execution_count": 17,
     "metadata": {},
     "output_type": "execute_result"
    }
   ],
   "source": [
    "from IPython.core.display import HTML\n",
    "\n",
    "style = \"\"\"\n",
    "    <style>\n",
    "        body {\n",
    "            background-color: #f2fff2;\n",
    "        }\n",
    "        h1 {\n",
    "            text-align: center;\n",
    "            font-weight: bold;\n",
    "            font-size: 36px;\n",
    "            color: #4295F4;\n",
    "            text-decoration: underline;\n",
    "            padding-top: 15px;\n",
    "        }\n",
    "        \n",
    "        h2 {\n",
    "            text-align: left;\n",
    "            font-weight: bold;\n",
    "            font-size: 30px;\n",
    "            color: #4A000A;\n",
    "            text-decoration: underline;\n",
    "            padding-top: 10px;\n",
    "        }\n",
    "        \n",
    "        h3 {\n",
    "            text-align: left;\n",
    "            font-weight: bold;\n",
    "            font-size: 30px;\n",
    "            color: #f0081e;\n",
    "            text-decoration: underline;\n",
    "            padding-top: 5px;\n",
    "        }\n",
    "\n",
    "        \n",
    "        p {\n",
    "            text-align: center;\n",
    "            font-size: 12 px;\n",
    "            color: #0B9923;\n",
    "        }\n",
    "    </style>\n",
    "\"\"\"\n",
    "\n",
    "html_content = \"\"\"\n",
    "<h1>Hello</h1>\n",
    "<p>Hello World</p>\n",
    "<h2> Hello</h2>\n",
    "<h3> World </h3>\n",
    "\"\"\"\n",
    "\n",
    "HTML(style + html_content)"
   ]
  },
  {
   "cell_type": "code",
   "execution_count": null,
   "metadata": {},
   "outputs": [],
   "source": []
  },
  {
   "cell_type": "code",
   "execution_count": null,
   "metadata": {},
   "outputs": [],
   "source": []
  },
  {
   "cell_type": "code",
   "execution_count": null,
   "metadata": {},
   "outputs": [],
   "source": []
  }
 ],
 "metadata": {
  "kernelspec": {
   "display_name": "myvenv",
   "language": "python",
   "name": "python3"
  },
  "language_info": {
   "codemirror_mode": {
    "name": "ipython",
    "version": 3
   },
   "file_extension": ".py",
   "mimetype": "text/x-python",
   "name": "python",
   "nbconvert_exporter": "python",
   "pygments_lexer": "ipython3",
   "version": "3.11.7"
  }
 },
 "nbformat": 4,
 "nbformat_minor": 2
}
