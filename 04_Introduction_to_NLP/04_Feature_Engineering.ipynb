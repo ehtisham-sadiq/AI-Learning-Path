{
 "cells": [
  {
   "cell_type": "markdown",
   "metadata": {},
   "source": [
    "<h1 align=\"center\">Feature Engineering</h1>\n",
    "<h3><div align=\"right\">Ehtisham Sadiq</div></h3>    \n"
   ]
  },
  {
   "cell_type": "markdown",
   "metadata": {},
   "source": [
    "<img align=\"center\" width=\"900\"  src=\"images/phase3.png\"  > "
   ]
  },
  {
   "cell_type": "markdown",
   "metadata": {},
   "source": [
    "# Learning Agenda of this Notebook\n",
    "\n",
    "- **Overview of Feature Engineering and Vectorization**\n",
    "  \n",
    "- **Frequency or Statistical Based Approaches**\n",
    "  - Label Encoding\n",
    "  - One-Hot Encoding\n",
    "  - Bag of Words\n",
    "  - Bag of n-grams\n",
    "  - TF-IDF\n",
    "\n",
    "- **Prediction-Based Approaches (Embeddings)**\n",
    "  - Word2Vec — From Google\n",
    "  - FastText — From Facebook"
   ]
  },
  {
   "cell_type": "markdown",
   "metadata": {},
   "source": []
  }
 ],
 "metadata": {
  "language_info": {
   "name": "python"
  }
 },
 "nbformat": 4,
 "nbformat_minor": 2
}
