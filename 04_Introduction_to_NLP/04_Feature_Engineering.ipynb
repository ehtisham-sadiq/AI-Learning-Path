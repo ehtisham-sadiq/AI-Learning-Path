{
 "cells": [
  {
   "cell_type": "markdown",
   "metadata": {},
   "source": [
    "<h1 align=\"center\"><b>Feature Engineering</b></h1>\n",
    "\n",
    "<h3><div align=\"right\">Ehtisham Sadiq</div></h3>    \n"
   ]
  },
  {
   "cell_type": "markdown",
   "metadata": {},
   "source": [
    "<img align=\"center\" width=\"900\"  src=\"images/phase3.png\"  > "
   ]
  },
  {
   "cell_type": "markdown",
   "metadata": {},
   "source": [
    "# Learning Agenda of this Notebook\n",
    "\n",
    "- **Overview of Feature Engineering and Vectorization**\n",
    "  \n",
    "- **Frequency or Statistical Based Approaches**\n",
    "  - Label Encoding\n",
    "  - One-Hot Encoding\n",
    "  - Bag of Words\n",
    "  - Bag of n-grams\n",
    "  - TF-IDF\n",
    "\n",
    "- **Prediction-Based Approaches (Embeddings)**\n",
    "  - Word2Vec — From Google\n",
    "  - FastText — From Facebook"
   ]
  },
  {
   "cell_type": "code",
   "execution_count": null,
   "metadata": {},
   "outputs": [],
   "source": []
  },
  {
   "cell_type": "code",
   "execution_count": null,
   "metadata": {},
   "outputs": [],
   "source": []
  },
  {
   "cell_type": "markdown",
   "metadata": {},
   "source": [
    "# <span style='background :lightgreen' > Overview of Feature Engineering and Text Vectorization </span>\n",
    "\n",
    "## a. What do you mean by `Feature` in Machine Learning?\n",
    "\n",
    "<!-- <img src=\"images/pca5.png\" style=\"align:center\" height=500px width=900px> -->\n",
    "<img src=\"images/pca5.png\" style=\"display: block; margin: 0 auto;\" height=\"400px\" width=\"900px\">\n",
    "\n",
    "<br/>\n",
    "\n",
    "> **Feature engineering involves identifying and transforming attributes `(features)` from raw data into a format suitable for machine learning models. Think of it as crafting the input that powers AI systems.**\n",
    "\n",
    "Imagine predicting house prices. `Features` could include:\n",
    "- The city it’s in.\n",
    "- The size of the house.\n",
    "- The number of bedrooms."
   ]
  },
  {
   "cell_type": "code",
   "execution_count": null,
   "metadata": {},
   "outputs": [],
   "source": []
  },
  {
   "cell_type": "code",
   "execution_count": null,
   "metadata": {},
   "outputs": [],
   "source": []
  },
  {
   "cell_type": "markdown",
   "metadata": {},
   "source": [
    "## b. What do you mean by `Feature` in Natural Language Processing?\n",
    "\n",
    "# <h3 align=\"center\"><div class=\"alert alert-success\" style=\"margin: 20px\">Andrew Ng Youtube Lectures are amazing.</h3>\n",
    "\n",
    "Similarly, in `NLP`:\n",
    "- A `feature` can be a single word, phrase, sentence, or even an entire document.\n",
    "- Our job is to represent these features as numbers. Why? Because machine learning models can only understand numbers, not plain text."
   ]
  },
  {
   "cell_type": "code",
   "execution_count": null,
   "metadata": {},
   "outputs": [],
   "source": []
  },
  {
   "cell_type": "code",
   "execution_count": null,
   "metadata": {},
   "outputs": [],
   "source": []
  },
  {
   "cell_type": "markdown",
   "metadata": {},
   "source": [
    "## c. What is Feature Engineering or Text Vectorization?\n",
    "\n",
    "> **It’s the process of converting text into vectors (arrays of numbers) that represent the meaning or frequency of the text.**\n",
    "\n",
    "<img src=\"images/text-rep3.png\" style=\"display: block; margin: 0 auto;\" height=\"500px\" width=\"900px\">"
   ]
  },
  {
   "cell_type": "markdown",
   "metadata": {},
   "source": [
    "## Feature Extraction from Text (Text Representation or Text Vectorization)\n",
    "\n",
    "The process of converting text data into vectors of real numbers is called **Feature Extraction from Text** or **Text Representation/Text Vectorization**. The goal of this process is to transform textual data into numerical form, ensuring that these numbers can capture the semantic or contextual meaning of the words.\n",
    "\n",
    "In simple terms:\n",
    "- **Text Vectorization** converts words or phrases into a format that machines can process, such as vectors of numbers.\n",
    "- These numbers represent the meaning or attributes of the text in a mathematical form.\n",
    "\n",
    "---\n",
    "\n",
    "### Example Explanation\n",
    "The example demonstrates how different textual entities can be represented numerically based on their attributes or properties:\n",
    "1. Each vector contains numerical representations of features such as:\n",
    "   - **Person** (1 or 0, denoting if it is a person)\n",
    "   - **Healthy/Fit** (a continuous value representing fitness level)\n",
    "   - **Location** (binary representation indicating presence as a location)\n",
    "   - **Has two eyes** (binary attribute indicating presence of this feature)\n",
    "   - **Has Government** (binary attribute for governmental entities)\n",
    "\n",
    "2. The vectors in the image:\n",
    "   - Blue vector `[1, 0.8, 0, 1, 0]`: Represents a person who is healthy, not a location, has two eyes, and does not represent a government.\n",
    "   - Orange vector `[1, 0.9, 0, 1, 0]`: Another individual with similar attributes but a higher \"Healthy/Fit\" value.\n",
    "   - Green vector `[0, 0.6, 1, 0, 1]`: Represents a location entity with medium fitness value, does not have two eyes, but represents a government.\n",
    "\n",
    "This approach ensures that text entities are numerically encoded for further machine learning or natural language processing tasks.\n",
    "\n",
    "---\n",
    "\n",
    "### Importance\n",
    "- **Why Feature Extraction from Text?**\n",
    "   - Converts unstructured textual data into structured numerical data.\n",
    "   - Enables the use of machine learning models for text classification, clustering, and other NLP tasks.\n",
    "   - Represents textual data in a way that preserves semantic meaning and relationships."
   ]
  },
  {
   "cell_type": "code",
   "execution_count": null,
   "metadata": {},
   "outputs": [],
   "source": []
  },
  {
   "cell_type": "code",
   "execution_count": null,
   "metadata": {},
   "outputs": [],
   "source": []
  },
  {
   "cell_type": "code",
   "execution_count": null,
   "metadata": {},
   "outputs": [],
   "source": []
  },
  {
   "cell_type": "code",
   "execution_count": null,
   "metadata": {},
   "outputs": [],
   "source": []
  },
  {
   "cell_type": "code",
   "execution_count": 3,
   "metadata": {},
   "outputs": [
    {
     "data": {
      "text/html": [
       "\n",
       "    <style>\n",
       "        body {\n",
       "            background-color: #f2fff2;\n",
       "        }\n",
       "        h1 {\n",
       "            text-align: center;\n",
       "            font-weight: bold;\n",
       "            font-size: 36px;\n",
       "            color: #4295F4;\n",
       "            text-decoration: underline;\n",
       "            padding-top: 15px;\n",
       "        }\n",
       "        \n",
       "        h2 {\n",
       "            text-align: left;\n",
       "            font-weight: bold;\n",
       "            font-size: 30px;\n",
       "            color: #4A000A;\n",
       "            text-decoration: underline;\n",
       "            padding-top: 10px;\n",
       "        }\n",
       "        \n",
       "        h3 {\n",
       "            text-align: left;\n",
       "            font-weight: bold;\n",
       "            font-size: 30px;\n",
       "            color: #f0081e;\n",
       "            text-decoration: underline;\n",
       "            padding-top: 5px;\n",
       "        }\n",
       "\n",
       "        \n",
       "        p {\n",
       "            text-align: center;\n",
       "            font-size: 12 px;\n",
       "            color: #0B9923;\n",
       "        }\n",
       "    </style>\n",
       "\n",
       "<h1>Hello</h1>\n",
       "<p>Hello World</p>\n",
       "<h2> Hello</h2>\n",
       "<h3> World </h3>\n"
      ],
      "text/plain": [
       "<IPython.core.display.HTML object>"
      ]
     },
     "execution_count": 3,
     "metadata": {},
     "output_type": "execute_result"
    }
   ],
   "source": [
    "from IPython.core.display import HTML\n",
    "\n",
    "style = \"\"\"\n",
    "    <style>\n",
    "        body {\n",
    "            background-color: #f2fff2;\n",
    "        }\n",
    "        h1 {\n",
    "            text-align: center;\n",
    "            font-weight: bold;\n",
    "            font-size: 36px;\n",
    "            color: #4295F4;\n",
    "            text-decoration: underline;\n",
    "            padding-top: 15px;\n",
    "        }\n",
    "        \n",
    "        h2 {\n",
    "            text-align: left;\n",
    "            font-weight: bold;\n",
    "            font-size: 30px;\n",
    "            color: #4A000A;\n",
    "            text-decoration: underline;\n",
    "            padding-top: 10px;\n",
    "        }\n",
    "        \n",
    "        h3 {\n",
    "            text-align: left;\n",
    "            font-weight: bold;\n",
    "            font-size: 30px;\n",
    "            color: #f0081e;\n",
    "            text-decoration: underline;\n",
    "            padding-top: 5px;\n",
    "        }\n",
    "\n",
    "        \n",
    "        p {\n",
    "            text-align: center;\n",
    "            font-size: 12 px;\n",
    "            color: #0B9923;\n",
    "        }\n",
    "    </style>\n",
    "\"\"\"\n",
    "\n",
    "html_content = \"\"\"\n",
    "<h1>Hello</h1>\n",
    "<p>Hello World</p>\n",
    "<h2> Hello</h2>\n",
    "<h3> World </h3>\n",
    "\"\"\"\n",
    "\n",
    "HTML(style + html_content)"
   ]
  },
  {
   "cell_type": "code",
   "execution_count": null,
   "metadata": {},
   "outputs": [],
   "source": []
  }
 ],
 "metadata": {
  "kernelspec": {
   "display_name": "myvenv",
   "language": "python",
   "name": "python3"
  },
  "language_info": {
   "codemirror_mode": {
    "name": "ipython",
    "version": 3
   },
   "file_extension": ".py",
   "mimetype": "text/x-python",
   "name": "python",
   "nbconvert_exporter": "python",
   "pygments_lexer": "ipython3",
   "version": "3.11.7"
  }
 },
 "nbformat": 4,
 "nbformat_minor": 2
}
