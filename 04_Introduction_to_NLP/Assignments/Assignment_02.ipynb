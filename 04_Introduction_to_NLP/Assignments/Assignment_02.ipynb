{
 "cells": [
  {
   "cell_type": "markdown",
   "id": "ec598079-4f1b-4bbc-b35e-20849da9dd49",
   "metadata": {},
   "source": [
    "# **Assignment 2: Advanced Text Pre-Processing**"
   ]
  },
  {
   "cell_type": "markdown",
   "id": "12eb7713-4477-4277-8ef0-3f298a2c0bb5",
   "metadata": {},
   "source": [
    "### **Q1: Comparing Stemming and Lemmatization**\n",
    "\n",
    "`Stemming and lemmatization` are both used to reduce words to their base forms.\n",
    "\n",
    "\n",
    "- Using NLTK's `PorterStemmer` and `WordNetLemmatizer`, process the following list of words:  \n",
    "    > [\"running\", \"flies\", \"better\", \"studying\", \"mice\"]\n",
    "\n",
    "    - Show the output for both stemming and lemmatization.  \n",
    "\n",
    "- Discuss the differences in their outputs. When would lemmatization be preferred over stemming in real-world applications?\n",
    "\n",
    "- Identify a domain-specific NLP use case where lemmatization would improve model performance. Justify your answer."
   ]
  },
  {
   "cell_type": "code",
   "execution_count": null,
   "id": "8f7fcfd8-713e-4b1a-b59d-85811b790295",
   "metadata": {},
   "outputs": [],
   "source": []
  },
  {
   "cell_type": "markdown",
   "id": "b4ba063f-8994-4488-865e-c5fa5169510c",
   "metadata": {},
   "source": [
    "### **Q2: POS Tagging in Complex Sentences**\n",
    "\n",
    "`POS tagging` identifies grammatical roles in text.\n",
    "\n",
    "- Use spaCy to perform POS tagging on the following text:  \n",
    "\n",
    "    >    **The quick brown fox jumps over the lazy dog while the cat sleeps.**\n",
    "    - List each word and its corresponding POS tag.  \n",
    "\n",
    "\n",
    "- Discuss how POS tagging can improve the performance of NLP tasks like sentiment analysis or machine translation. Provide a real-world example for each.\n",
    "- **Real-World Challenge**: \n",
    "    - Suggest a method to handle POS tagging for low-resource languages where pre-trained models are unavailable."
   ]
  },
  {
   "cell_type": "code",
   "execution_count": null,
   "id": "43ef0043-4bdf-4b9d-af79-4858bbc806f4",
   "metadata": {},
   "outputs": [],
   "source": []
  },
  {
   "cell_type": "code",
   "execution_count": null,
   "id": "3768dbb1-c3f1-488d-a8a8-ff20422f1680",
   "metadata": {},
   "outputs": [],
   "source": []
  },
  {
   "cell_type": "code",
   "execution_count": null,
   "id": "0f78b86c-baac-48a7-862e-5b3b440c9c29",
   "metadata": {},
   "outputs": [],
   "source": []
  },
  {
   "cell_type": "markdown",
   "id": "a268b874-5f07-40b6-b498-2e888a6bcb1c",
   "metadata": {},
   "source": [
    "### **Q3: Named Entity Recognition (NER) in Financial News**\n",
    "\n",
    "`NER` helps identify specific entities like people, organizations, and dates in the text.\n",
    "\n",
    "- Use spaCy's NER model to extract named entities from the following text:  \n",
    "    > **On October 5, 2023, Microsoft announced its acquisition of OpenAI for $10 billion.**\n",
    "\n",
    "    - List each entity and its label (e.g., PERSON, ORG, DATE, MONEY).  \n",
    "\n",
    "- Modify the text to include ambiguous entities (e.g., \"Apple\" could refer to the company or the fruit). Run NER again and discuss how ambiguity affects results.\n",
    "- **Optional** In financial text analysis, what additional entity categories (e.g., stock tickers, financial metrics) would you add to a NER model? Explain why these categories are critical."
   ]
  },
  {
   "cell_type": "code",
   "execution_count": null,
   "id": "f6cfe6dc-76d5-4fd0-8e36-f7f2b8bab691",
   "metadata": {},
   "outputs": [],
   "source": []
  },
  {
   "cell_type": "code",
   "execution_count": null,
   "id": "50ffe58f-d5ce-461c-b66f-380a72ab70ab",
   "metadata": {},
   "outputs": [],
   "source": []
  },
  {
   "cell_type": "markdown",
   "id": "e656ca00-d6ca-469f-84d0-77a537d74a16",
   "metadata": {},
   "source": [
    "### **Q4: Coreference Resolution in Conversational Text**\n",
    "\n",
    "`Coreference resolution` identifies when different words refer to the same entity.\n",
    "\n",
    "- Use spaCy to resolve coreferences in the following text:  \n",
    "\n",
    "    > **John went to the store. He bought milk and eggs. Later, he decided to bake a cake.**\n",
    "    - Rewrite the text with all references that are explicitly resolved.\n",
    "\n",
    "- Discuss the importance of coreference resolution in applications like chatbots and summarization tools. Provide a real-world example for each.\n",
    "\n",
    "- **Optional**: Coreference resolution often struggles with long, complex documents. Suggest one method to improve its accuracy in such cases."
   ]
  },
  {
   "cell_type": "code",
   "execution_count": null,
   "id": "8225db6b-0b21-4ee1-ab28-ceb9793c012c",
   "metadata": {},
   "outputs": [],
   "source": []
  },
  {
   "cell_type": "code",
   "execution_count": null,
   "id": "e921cabb-e970-4266-bc1d-c26d385f6e0a",
   "metadata": {},
   "outputs": [],
   "source": []
  },
  {
   "cell_type": "markdown",
   "id": "90e7dcfe-1343-4b6b-bb36-366af5dbce2f",
   "metadata": {},
   "source": [
    "### **Q5: Preprocessing for Legal Documents**\n",
    "\n",
    "Legal documents often contain long sentences, complex structures, and domain-specific terms.\n",
    "\n",
    "- Given the following legal text, perform stemming, lemmatization, and POS tagging using NLTK or spaCy:  \n",
    "    > **The agreement shall be terminated upon mutual consent of both parties.**\n",
    "\n",
    "- Reflect on the results:\n",
    "    - Which preprocessing technique is most suitable for analyzing legal text?  \n",
    "    - Discuss how domain-specific stopwords (e.g., \"agreement,\" \"parties\") can improve model performance.\n",
    "\n",
    "- Suggest one practical application of NLP in the legal industry and outline a preprocessing pipeline for it."
   ]
  },
  {
   "cell_type": "code",
   "execution_count": null,
   "id": "c65ec9cc-f100-4bfd-aa99-bd9e1fddecd4",
   "metadata": {},
   "outputs": [],
   "source": []
  },
  {
   "cell_type": "code",
   "execution_count": null,
   "id": "dd9b8e12-300d-47cc-a328-287499852ab2",
   "metadata": {},
   "outputs": [],
   "source": []
  },
  {
   "cell_type": "code",
   "execution_count": null,
   "id": "22396d10-2365-44f4-a25e-2f3cec9dfd31",
   "metadata": {},
   "outputs": [],
   "source": []
  },
  {
   "cell_type": "markdown",
   "id": "38da6ca6-a673-450f-9019-9941f452ff3c",
   "metadata": {},
   "source": [
    "### **Q6: Analyzing Customer Feedback with Advanced Preprocessing**\n",
    "\n",
    "Imagine you're tasked with analyzing customer feedback for a hotel chain.\n",
    "\n",
    "- Create a small dataset of 5 fictional reviews, such as:  \n",
    "\t> **The staff was friendly, but the rooms were unclean.**\n",
    "   \n",
    "\t> **Amazing location and excellent service, but the food quality needs improvement.**\n",
    "\n",
    "- Perform the following steps for each review:\n",
    "    - Tokenize the text into sentences and words.  \n",
    "    - Apply POS tagging to identify nouns and adjectives.  \n",
    "\n",
    "- Based on the adjectives, classify each review as positive, negative, or neutral. Explain your reasoning.\n",
    "- **Optional**: Discuss how advanced preprocessing techniques like NER and coreference resolution could enhance sentiment analysis for customer feedback."
   ]
  },
  {
   "cell_type": "code",
   "execution_count": null,
   "id": "aec048eb-b3fe-4987-9b77-56ef3a97d242",
   "metadata": {},
   "outputs": [],
   "source": []
  },
  {
   "cell_type": "markdown",
   "id": "34c0e2a4-ba28-4682-813b-26fd9d00d851",
   "metadata": {},
   "source": [
    "### **Q7: Domain-Specific NER for Healthcare**\n",
    "\n",
    "NER models often need customization for specific domains like healthcare.\n",
    "\n",
    "- Create a fictional dataset of 5 sentences related to medical reports. Example:  \n",
    "\t> **Patient John Doe, aged 45, was prescribed Amoxicillin on January 10, 2023.**\n",
    "    > **Dr. Smith diagnosed the patient with Type 2 Diabetes.**\n",
    "\n",
    "- Use spaCy's NER model to extract named entities. Identify entities like PERSON, ORG, DATE, and any other relevant labels.  \n",
    "\n",
    "- Suggest three additional entity categories (e.g., drug names, medical conditions) that would improve NER performance in the healthcare domain. Discuss how these entities could be used in real-world applications like electronic health records or medical research."
   ]
  },
  {
   "cell_type": "code",
   "execution_count": null,
   "id": "b86b610b-66a7-4dbf-a530-49a150931889",
   "metadata": {},
   "outputs": [],
   "source": []
  },
  {
   "cell_type": "code",
   "execution_count": null,
   "id": "f6dd3bfe-c482-4b1e-83c8-d6eb3cce46d2",
   "metadata": {},
   "outputs": [],
   "source": []
  },
  {
   "cell_type": "markdown",
   "id": "c757bd6d-2102-46c4-9277-a830430c280e",
   "metadata": {},
   "source": [
    "### **Q8: Preprocessing Long Documents with Multiple Challenges**\n",
    "\n",
    "Long documents such as research papers or contracts pose unique preprocessing challenges.\n",
    "\n",
    "- Suggest a strategy to preprocess the following text efficiently:  \n",
    "\n",
    "    > **Artificial Intelligence has seen tremendous growth in recent years. In 2023, OpenAI released GPT-4, a state-of-the-art language model.**\n",
    "    - Include stemming, lemmatization, and POS tagging in your strategy.  \n",
    "\n",
    "- Discuss the role of coreference resolution in summarizing such documents. Provide a step-by-step example of how it can be applied.\n",
    "- **Optional**: What are the limitations of current NLP tools when handling long documents, and how can they be addressed?"
   ]
  },
  {
   "cell_type": "code",
   "execution_count": null,
   "id": "d31d7346-1ce9-427b-997d-35cbf39a3a25",
   "metadata": {},
   "outputs": [],
   "source": []
  },
  {
   "cell_type": "code",
   "execution_count": null,
   "id": "73528e24-fda9-493f-8c10-ffb105260ea1",
   "metadata": {},
   "outputs": [],
   "source": []
  },
  {
   "cell_type": "markdown",
   "id": "f3da5873-3a91-4de0-93dc-114ce565b4ef",
   "metadata": {},
   "source": [
    "### **Q9: Medical Report Analysis**\n",
    "\n",
    "The healthcare industry generates a vast amount of unstructured textual data in the form of medical reports, patient records, and prescriptions. Your task is to preprocess and analyze medical reports to extract key information for downstream tasks like diagnosis support, patient monitoring, or research insights.\n",
    "\n",
    "**Task**\n",
    "\n",
    "- You are building an NLP pipeline to process medical reports. Your system needs to:\n",
    "    - Identify key entities like patient names, ages, diseases, and prescribed medications.\n",
    "    - Resolve coreferences to ensure accurate entity linkage (e.g., “he” or “the patient” refers to the same individual).\n",
    "    - Prepare the text for further analysis, such as classification or clustering.\n",
    "\n",
    "**Dataset**\n",
    "Here is a small sample of medical text for this task:"
   ]
  },
  {
   "cell_type": "code",
   "execution_count": null,
   "id": "7d2caa5f-df1b-4bf5-ae0c-aab664f0d6a0",
   "metadata": {},
   "outputs": [],
   "source": [
    "1. Patient John Doe, aged 45, was diagnosed with Type 2 Diabetes. He was prescribed Metformin and advised to follow a low-carb diet.\n",
    "2. Jane Smith, a 34-year-old woman, complained of severe migraines. Dr. Allen suggested a CT scan and prescribed Sumatriptan.\n",
    "3. A 60-year-old male patient was admitted for hypertension. He was treated with Amlodipine and discharged with a follow-up scheduled for next week."
   ]
  },
  {
   "cell_type": "markdown",
   "id": "49a18ccc-31d4-4003-ad11-27dec16a19a1",
   "metadata": {},
   "source": [
    "#### **Tasks**\n",
    "\n",
    "1. **Text Cleaning and Preprocessing**\n",
    "    - Write a function to clean the text by:\n",
    "    \t- Removing irrelevant characters (e.g., punctuation and extra spaces).\n",
    "    \t- Converting all text to lowercase.\n",
    "    \t- Handling common medical abbreviations (e.g., “CT scan” → “computed tomography scan”).\n",
    "\t- Apply the function to the dataset.\n",
    "2. **POS Tagging**\n",
    "\t- Use spaCy to perform POS tagging on the preprocessed text.\n",
    "\t- Extract all nouns and adjectives, as they are critical for understanding the medical context.\n",
    "\t- Reflect: Why are these POS tags particularly useful in this domain?\n",
    "\n",
    "3. **Named Entity Recognition (NER)**\n",
    "\t- Use spaCy’s NER model to extract entities like:\n",
    "    \t- PERSON (patient names and doctors)\n",
    "        - AGE (e.g., 45 years, 34 years)\n",
    "    \t- DISEASE (e.g., Type 2 Diabetes, migraines)\n",
    "    \t- DRUGS (e.g., Metformin, Sumatriptan, Amlodipine)\n",
    "\t- For each sentence, list the identified entities and their types.\n",
    "\n",
    "4. **Advanced Analysis**\n",
    "\t- Create a dictionary structure to store the following for each patient:\n",
    "        - Name\n",
    "        - Age\n",
    "        - Diagnosed Disease(s)\n",
    "        - Prescribed Medication(s)\n",
    "\t- Populate the dictionary using the extracted entities and coreference-resolved text.\n",
    "\n",
    "5. **Programming Challenge: Visualization and Insights**\n",
    "\t- Write a Python script to visualize the frequency of diseases and medications using matplotlib or seaborn.\n",
    "\t- Generate a bar chart showing:\n",
    "    \t- Top 3 most frequently diagnosed diseases.\n",
    "    \t- Top 3 most prescribed medications.\n",
    "\t- Reflect: How can these visualizations assist healthcare providers?"
   ]
  },
  {
   "cell_type": "code",
   "execution_count": null,
   "id": "5f39d388-614c-4ed5-be07-10e58b49ee77",
   "metadata": {},
   "outputs": [],
   "source": []
  }
 ],
 "metadata": {
  "kernelspec": {
   "display_name": "Python 3 (ipykernel)",
   "language": "python",
   "name": "python3"
  },
  "language_info": {
   "codemirror_mode": {
    "name": "ipython",
    "version": 3
   },
   "file_extension": ".py",
   "mimetype": "text/x-python",
   "name": "python",
   "nbconvert_exporter": "python",
   "pygments_lexer": "ipython3",
   "version": "3.11.7"
  }
 },
 "nbformat": 4,
 "nbformat_minor": 5
}
