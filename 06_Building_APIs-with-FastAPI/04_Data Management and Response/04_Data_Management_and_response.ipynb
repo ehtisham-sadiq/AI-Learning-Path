{
 "cells": [
  {
   "cell_type": "markdown",
   "metadata": {},
   "source": [
    "# Advanced FastAPI Features - Data Managmenet and Custom Headers\n",
    "\n",
    "## Overview\n",
    "In this notebook, we will explore advanced features of **FastAPI** such as handling query parameters, working with file uploads, setting custom headers, and managing cookies. We'll also cover how to handle form data, validate input using Pydantic models, and perform date-based calculations. By the end of this notebook, you'll have a solid understanding of how to build more complex APIs with FastAPI.\n",
    "\n",
    "\n",
    "## Table of Contents\n",
    "1. **Query Parameters and Optional Date Filtering**\n",
    "2. **Custom Headers and Cookies**\n",
    "3. **File Uploads and Form Handling**\n",
    "4. **Pydantic Models for Data Validation**\n",
    "5. **Assignment: Calculating Days Until Next Birthday**"
   ]
  },
  {
   "cell_type": "code",
   "execution_count": null,
   "metadata": {
    "vscode": {
     "languageId": "plaintext"
    }
   },
   "outputs": [],
   "source": []
  },
  {
   "cell_type": "markdown",
   "metadata": {},
   "source": [
    "## 1. Query Parameters and Optional Date Filtering\n",
    "\n",
    "### Definition:\n",
    "**Query Parameters** are key-value pairs appended to the URL after a `?` symbol. They allow clients to pass additional information to the server without modifying the path. In FastAPI, query parameters can be optional or required, and they can be validated using Python's type hints and optional constraints like `min_length`, `max_length`, and default values."
   ]
  },
  {
   "cell_type": "code",
   "execution_count": null,
   "metadata": {
    "vscode": {
     "languageId": "plaintext"
    }
   },
   "outputs": [],
   "source": []
  },
  {
   "cell_type": "markdown",
   "metadata": {},
   "source": [
    "### Example 1: Fetching Event Details with Optional Date Filtering\n",
    "\n",
    "```python\n",
    "from fastapi import FastAPI, HTTPException\n",
    "from datetime import date\n",
    "from typing import Optional\n",
    "\n",
    "app = FastAPI()\n",
    "\n",
    "# Initialize a list to represent a fake database of events.\n",
    "events_db = [\n",
    "    {\"event_id\": 1, \"name\": \"Tech Conference\", \"date\": \"2024-12-01\"},\n",
    "    {\"event_id\": 2, \"name\": \"Movie Premiere\", \"date\": \"2024-12-15\"},\n",
    "    {\"event_id\": 3, \"name\": \"Musical Festival\", \"date\": \"2024-12-20\"}\n",
    "]\n",
    "\n",
    "@app.get(\"/events/{event_id}\")\n",
    "async def read_event(event_id: int, start_date: Optional[date] = None):\n",
    "    \"\"\"\n",
    "    This endpoint fetches details of a specific event based on its ID and optionally filters by a start date.\n",
    "    - `event_id`: A mandatory path parameter specifying the event ID.\n",
    "    - `start_date`: An optional query parameter specifying the minimum date for filtering events.\n",
    "    \"\"\"\n",
    "    # Find the event in the 'events_db' list by matching the 'event_id'.\n",
    "    event = next((event for event in events_db if event[\"event_id\"] == event_id), None)\n",
    "    \n",
    "    # If the event is not found, raise an HTTP 404 error.\n",
    "    if not event:\n",
    "        raise HTTPException(status_code=404, detail=\"Event not found\")\n",
    "    \n",
    "    # If 'start_date' is provided, compare it with the event's date.\n",
    "    if start_date and date.fromisoformat(event[\"date\"]) < start_date:\n",
    "        return {\"message\": \"No events on or after the start date.\"}\n",
    "    \n",
    "    return event\n",
    "```\n",
    "\n",
    "#### Explanation:\n",
    "- **Route**: `/events/{event_id}`\n",
    "- **Parameters**:\n",
    "  - `event_id`: A mandatory path parameter that identifies the event.\n",
    "  - `start_date`: An optional query parameter that filters events based on their date.\n",
    "- **Functionality**:\n",
    "  - The function searches for an event in the `events_db` list by matching the `event_id`.\n",
    "  - If no event is found, it raises an HTTP 404 error.\n",
    "  - If `start_date` is provided, it checks whether the event's date is on or after the `start_date`. If not, it returns a message indicating no events match the criteria."
   ]
  },
  {
   "cell_type": "code",
   "execution_count": null,
   "metadata": {
    "vscode": {
     "languageId": "plaintext"
    }
   },
   "outputs": [],
   "source": []
  },
  {
   "cell_type": "code",
   "execution_count": null,
   "metadata": {
    "vscode": {
     "languageId": "plaintext"
    }
   },
   "outputs": [],
   "source": []
  },
  {
   "cell_type": "markdown",
   "metadata": {},
   "source": [
    "## 2. Custom Headers and Cookies\n",
    "\n",
    "### Definition:\n",
    "**Custom Headers** allow you to add additional metadata to the HTTP response, while **Cookies** store small pieces of data on the client side. In FastAPI, you can set custom headers using the `Response` object and retrieve cookies from the `Request` object. This is useful for implementing features like user preferences, authentication tokens, or tracking user behavior."
   ]
  },
  {
   "cell_type": "code",
   "execution_count": null,
   "metadata": {
    "vscode": {
     "languageId": "plaintext"
    }
   },
   "outputs": [],
   "source": []
  },
  {
   "cell_type": "markdown",
   "metadata": {},
   "source": [
    "### Example 2: Fetching Items with User Preferences via Cookies\n",
    "\n",
    "```python\n",
    "from fastapi import FastAPI, Response, Request\n",
    "\n",
    "app = FastAPI()\n",
    "\n",
    "# Initialize a list to represent a mock database of items.\n",
    "items = [\n",
    "    {\"id\": 1, \"name\": \"item1\", \"category\": \"Books\"},\n",
    "    {\"id\": 2, \"name\": \"item2\", \"category\": \"Electronics\"},\n",
    "    {\"id\": 3, \"name\": \"item3\", \"category\": \"Clothing\"}\n",
    "]\n",
    "\n",
    "@app.get(\"/items/\")\n",
    "async def read_items(request: Request, response: Response):\n",
    "    \"\"\"\n",
    "    This endpoint fetches items based on the user's preference stored in cookies.\n",
    "    - `request`: Used to retrieve cookies from the client.\n",
    "    - `response`: Used to set custom headers in the response.\n",
    "    \"\"\"\n",
    "    # Retrieve the user's preference from the request cookies.\n",
    "    user_preference = request.cookies.get('preference')\n",
    "    \n",
    "    # Set a custom header in the response.\n",
    "    response.headers[\"Custom-Header\"] = \"Value\"\n",
    "    \n",
    "    # If the user has a preference, filter the items by the user's preferred category.\n",
    "    if user_preference:\n",
    "        filtered_items = [item for item in items if item[\"category\"] == user_preference]\n",
    "        return {\"items\": filtered_items}\n",
    "    \n",
    "    # If no preference is specified, return all items.\n",
    "    return {\"items\": items}\n",
    "```\n",
    "\n",
    "#### Explanation:\n",
    "- **Route**: `/items/`\n",
    "- **Parameters**:\n",
    "  - `request`: Used to retrieve cookies from the client.\n",
    "  - `response`: Used to set custom headers in the response.\n",
    "- **Functionality**:\n",
    "  - The function retrieves the user's preference from the `preference` cookie.\n",
    "  - If a preference exists, it filters the `items` list by the user's preferred category.\n",
    "  - A custom header `\"Custom-Header\"` is added to the response.\n",
    "  - If no preference is found, all items are returned."
   ]
  },
  {
   "cell_type": "code",
   "execution_count": null,
   "metadata": {
    "vscode": {
     "languageId": "plaintext"
    }
   },
   "outputs": [],
   "source": []
  },
  {
   "cell_type": "code",
   "execution_count": null,
   "metadata": {
    "vscode": {
     "languageId": "plaintext"
    }
   },
   "outputs": [],
   "source": []
  },
  {
   "cell_type": "markdown",
   "metadata": {},
   "source": [
    "## 3. File Uploads and Form Handling\n",
    "\n",
    "### Definition:\n",
    "**File Uploads** allow users to send files to the server, while **Form Handling** processes form data submitted via HTML forms. In FastAPI, you can handle file uploads using the `UploadFile` class and form data using the `Form` class. This is commonly used in applications that require file processing, such as image uploads, document submissions, or form submissions."
   ]
  },
  {
   "cell_type": "code",
   "execution_count": null,
   "metadata": {
    "vscode": {
     "languageId": "plaintext"
    }
   },
   "outputs": [],
   "source": []
  },
  {
   "cell_type": "markdown",
   "metadata": {},
   "source": [
    "### Example 3: Handling Form Uploads with File and Notes\n",
    "\n",
    "```python\n",
    "from fastapi import FastAPI, File, UploadFile, Form \n",
    "\n",
    "app = FastAPI()\n",
    "\n",
    "@app.post(\"/submit-form\")\n",
    "async def handle_form_upload(file: UploadFile = File(...), notes: str = Form(...)):\n",
    "    \"\"\"\n",
    "    This endpoint handles form uploads containing a file and additional notes.\n",
    "    - `file`: The uploaded file (required).\n",
    "    - `notes`: Additional notes provided in the form (required).\n",
    "    \"\"\"\n",
    "    # Read the contents of the uploaded file asynchronously.\n",
    "    contents = await file.read()\n",
    "    \n",
    "    # Count the number of lines in the file's contents.\n",
    "    num_lines = contents.decode(\"utf-8\").count(\"\\n\") + 1\n",
    "    \n",
    "    # Calculate the file size by counting the number of bytes in 'contents'.\n",
    "    file_size = len(contents)\n",
    "    \n",
    "    # Reset the file's pointer to the beginning after reading.\n",
    "    await file.seek(0)\n",
    "    \n",
    "    # Return a JSON response containing details about the uploaded file and the notes.\n",
    "    return {\n",
    "        \"file_name\": file.filename,\n",
    "        \"file_size\": file_size,\n",
    "        \"number_of_lines\": num_lines,\n",
    "        \"notes\": notes\n",
    "    }\n",
    "```\n",
    "\n",
    "#### Explanation:\n",
    "- **Route**: `/submit-form`\n",
    "- **Parameters**:\n",
    "  - `file`: The uploaded file, which is required.\n",
    "  - `notes`: Additional notes provided in the form, which are also required.\n",
    "- **Functionality**:\n",
    "  - The function reads the contents of the uploaded file asynchronously.\n",
    "  - It calculates the number of lines and the file size.\n",
    "  - The file pointer is reset to the beginning after reading.\n",
    "  - The function returns a JSON response with details about the file and the notes."
   ]
  },
  {
   "cell_type": "code",
   "execution_count": null,
   "metadata": {
    "vscode": {
     "languageId": "plaintext"
    }
   },
   "outputs": [],
   "source": []
  },
  {
   "cell_type": "code",
   "execution_count": null,
   "metadata": {
    "vscode": {
     "languageId": "plaintext"
    }
   },
   "outputs": [],
   "source": []
  },
  {
   "cell_type": "markdown",
   "metadata": {},
   "source": [
    "## 4. Pydantic Models for Data Validation\n",
    "\n",
    "### Definition:\n",
    "**Pydantic Models** are used for data validation and serialization in FastAPI. They allow you to define the structure of incoming and outgoing data, enforce type constraints, and apply additional validation rules using fields like `Field`, `min_length`, `max_length`, and custom patterns. Pydantic ensures that the data conforms to the expected format before it is processed by your application."
   ]
  },
  {
   "cell_type": "code",
   "execution_count": null,
   "metadata": {
    "vscode": {
     "languageId": "plaintext"
    }
   },
   "outputs": [],
   "source": []
  },
  {
   "cell_type": "markdown",
   "metadata": {},
   "source": [
    "### Example 4: Creating and Searching Books Using Pydantic Models\n",
    "\n",
    "```python\n",
    "from fastapi import FastAPI, Query \n",
    "from typing import Optional\n",
    "from datetime import date\n",
    "from pydantic import BaseModel\n",
    "\n",
    "app = FastAPI()\n",
    "\n",
    "class Book(BaseModel):\n",
    "    title: str\n",
    "    price: float\n",
    "    publication_date: Optional[date] = None\n",
    "\n",
    "@app.post(\"/books/\")\n",
    "async def create_book(book: Book):\n",
    "    \"\"\"\n",
    "    This endpoint creates a new book using a Pydantic model for validation.\n",
    "    - `book`: A Pydantic model representing the book's data.\n",
    "    \"\"\"\n",
    "    return {\"message\": \"Book created Successfully\", \"book\": book}\n",
    "\n",
    "@app.get(\"/books/\")\n",
    "async def read_books(q: Optional[str] = Query(None, min_length=3, max_length=50)):\n",
    "    \"\"\"\n",
    "    This endpoint allows users to search for books based on a query string.\n",
    "    - `q`: An optional query parameter for searching books by title.\n",
    "    \"\"\"\n",
    "    fake_db = [{\"title\": \"Book 1\"}, {\"title\": \"Book 2\"}]\n",
    "    \n",
    "    if q:\n",
    "        result = filter(lambda book: q.lower() in book[\"title\"].lower(), fake_db)\n",
    "        return {\"search\": q, \"result\": list(result)}\n",
    "    \n",
    "    return {\"books\": fake_db}\n",
    "```\n",
    "\n",
    "#### Explanation:\n",
    "- **Pydantic Model**: `Book` defines the structure of the incoming data with fields for `title`, `price`, and `publication_date`.\n",
    "- **Routes**:\n",
    "  - `/books/` (POST): Creates a new book using the `Book` model for validation.\n",
    "  - `/books/` (GET): Searches for books based on an optional query parameter `q`.\n",
    "- **Functionality**:\n",
    "  - The POST route validates the incoming book data and returns a success message.\n",
    "  - The GET route allows users to search for books by title using the `q` parameter."
   ]
  },
  {
   "cell_type": "code",
   "execution_count": null,
   "metadata": {
    "vscode": {
     "languageId": "plaintext"
    }
   },
   "outputs": [],
   "source": []
  },
  {
   "cell_type": "markdown",
   "metadata": {
    "vscode": {
     "languageId": "plaintext"
    }
   },
   "source": [
    "\n",
    "## 5. Assignment: Calculating Days Until Next Birthday\n",
    "\n",
    "### Definition:\n",
    "This assignment involves creating an API endpoint that calculates the number of days until the next birthday based on a given date of birth. The endpoint should handle invalid date formats gracefully and return the correct number of days until the next birthday.\n",
    "\n",
    "### Example 5: Calculating Days Until Next Birthday\n",
    "\n",
    "```python\n",
    "from fastapi import FastAPI, HTTPException\n",
    "from datetime import datetime\n",
    "\n",
    "app = FastAPI()\n",
    "\n",
    "@app.get(\"/birthday/{date_of_birth}\")\n",
    "async def calculate_days(date_of_birth: str):\n",
    "    \"\"\"\n",
    "    This endpoint calculates the number of days until the next birthday.\n",
    "    - `date_of_birth`: A mandatory path parameter specifying the user's date of birth in YYYY-MM-DD format.\n",
    "    \"\"\"\n",
    "    try:\n",
    "        # Attempt to convert the 'date_of_birth' string to a datetime object.\n",
    "        dob = datetime.fromisoformat(date_of_birth).date()\n",
    "    except ValueError:\n",
    "        # If the date format is incorrect, raise an HTTP 400 error with a descriptive message.\n",
    "        raise HTTPException(status_code=400, detail=\"Invalid date format. Please use YYYY-MM-DD\")\n",
    "    \n",
    "    # Get the current date.\n",
    "    today = datetime.now().date()\n",
    "    \n",
    "    # Calculate the date of the next birthday.\n",
    "    next_birthday = dob.replace(year=today.year)\n",
    "    if today > next_birthday:\n",
    "        next_birthday = dob.replace(year=today.year + 1)\n",
    "    \n",
    "    # Calculate the number of days until the next birthday.\n",
    "    days_until = (next_birthday - today).days\n",
    "    \n",
    "    # Return the number of days in a JSON response.\n",
    "    return {\"days_until_next_birthday\": days_until}\n",
    "```\n",
    "\n",
    "#### Explanation:\n",
    "- **Route**: `/birthday/{date_of_birth}`\n",
    "- **Parameters**:\n",
    "  - `date_of_birth`: A mandatory path parameter specifying the user's date of birth in `YYYY-MM-DD` format.\n",
    "- **Functionality**:\n",
    "  - The function converts the `date_of_birth` string to a `datetime.date` object.\n",
    "  - It calculates the next birthday by comparing the current date with the user's birth month and day.\n",
    "  - If the current date is past the user's birthday this year, it calculates the next year's birthday.\n",
    "  - Finally, it returns the number of days until the next birthday."
   ]
  },
  {
   "cell_type": "code",
   "execution_count": null,
   "metadata": {
    "vscode": {
     "languageId": "plaintext"
    }
   },
   "outputs": [],
   "source": []
  },
  {
   "cell_type": "code",
   "execution_count": null,
   "metadata": {
    "vscode": {
     "languageId": "plaintext"
    }
   },
   "outputs": [],
   "source": []
  },
  {
   "cell_type": "code",
   "execution_count": null,
   "metadata": {
    "vscode": {
     "languageId": "plaintext"
    }
   },
   "outputs": [],
   "source": []
  }
 ],
 "metadata": {
  "language_info": {
   "name": "python"
  }
 },
 "nbformat": 4,
 "nbformat_minor": 2
}
