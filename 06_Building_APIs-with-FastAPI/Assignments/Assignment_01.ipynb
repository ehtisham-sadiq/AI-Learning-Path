{
 "cells": [
  {
   "cell_type": "markdown",
   "metadata": {},
   "source": [
    "# Building a Library Management System with FastAPI\n",
    "\n",
    "\n",
    "You are tasked with building a **Library Management System** using FastAPI. The system should allow users to borrow and return books, check book availability, manage user preferences, and handle custom exceptions for invalid requests. Additionally, the system should provide endpoints for listing available books, filtering books by genre, and handling file uploads for book reviews."
   ]
  },
  {
   "cell_type": "code",
   "execution_count": null,
   "metadata": {
    "vscode": {
     "languageId": "plaintext"
    }
   },
   "outputs": [],
   "source": []
  },
  {
   "cell_type": "markdown",
   "metadata": {},
   "source": [
    "## Assignment Questions:\n",
    "\n",
    "### 1. **List All Available Books**\n",
    "Create an endpoint `/books` that lists all available books in the library. Each book should have the following attributes:\n",
    "- `book_id`: A unique identifier for the book.\n",
    "- `title`: The title of the book.\n",
    "- `author`: The author of the book.\n",
    "- `genre`: The genre of the book (e.g., Fiction, Non-Fiction).\n",
    "- `available`: A boolean indicating whether the book is available for borrowing.\n",
    "\n",
    "**Task**: Implement the `/books` endpoint to return a list of all books in the library."
   ]
  },
  {
   "cell_type": "code",
   "execution_count": null,
   "metadata": {
    "vscode": {
     "languageId": "plaintext"
    }
   },
   "outputs": [],
   "source": []
  },
  {
   "cell_type": "markdown",
   "metadata": {},
   "source": [
    "### 2. **Borrow a Book**\n",
    "Create an endpoint `/borrow-book/{book_id}` that allows users to borrow a book based on its `book_id`.\n",
    "\n",
    "**Requirements**:\n",
    "- If the book is not found, raise a `404 Not Found` error with the message `\"Book not found\"`.\n",
    "- If the book is already borrowed, raise a `400 Bad Request` error with the message `\"Book is already borrowed\"`.\n",
    "- If the book is available, mark it as borrowed and return a success message: `\"You have successfully borrowed '{book_title}'\"`.\n",
    "\n",
    "**Task**: Implement the `/borrow-book/{book_id}` endpoint with proper error handling."
   ]
  },
  {
   "cell_type": "code",
   "execution_count": null,
   "metadata": {
    "vscode": {
     "languageId": "plaintext"
    }
   },
   "outputs": [],
   "source": []
  },
  {
   "cell_type": "markdown",
   "metadata": {},
   "source": [
    "### 3. **Return a Book**\n",
    "Create an endpoint `/return-book/{book_id}` that allows users to return a book based on its `book_id`.\n",
    "\n",
    "**Requirements**:\n",
    "- If the book is not found, raise a `404 Not Found` error with the message `\"Book not found\"`.\n",
    "- If the book is already available, raise a `400 Bad Request` error with the message `\"Book is already available\"`.\n",
    "- If the book is successfully returned, mark it as available and return a success message: `\"You have successfully returned '{book_title}'\"`.\n",
    "\n",
    "**Task**: Implement the `/return-book/{book_id}` endpoint with proper error handling."
   ]
  },
  {
   "cell_type": "code",
   "execution_count": null,
   "metadata": {
    "vscode": {
     "languageId": "plaintext"
    }
   },
   "outputs": [],
   "source": []
  },
  {
   "cell_type": "markdown",
   "metadata": {},
   "source": [
    "### 4. **Filter Books by Genre**\n",
    "Create an endpoint `/books-by-genre` that allows users to filter books by genre using a query parameter `genre`.\n",
    "\n",
    "**Requirements**:\n",
    "- If no `genre` is provided, return all books.\n",
    "- If the `genre` is provided, return only the books that match the specified genre.\n",
    "- If no books match the specified genre, return a message: `\"No books found for the genre '{genre}'\"`.\n",
    "\n",
    "**Task**: Implement the `/books-by-genre` endpoint with optional filtering by genre."
   ]
  },
  {
   "cell_type": "code",
   "execution_count": null,
   "metadata": {
    "vscode": {
     "languageId": "plaintext"
    }
   },
   "outputs": [],
   "source": []
  },
  {
   "cell_type": "markdown",
   "metadata": {},
   "source": [
    "### 5. **Upload Book Reviews**\n",
    "Create an endpoint `/upload-review` that allows users to upload a text file containing a review for a specific book.\n",
    "\n",
    "**Requirements**:\n",
    "- The endpoint should accept a file upload using `UploadFile`.\n",
    "- The file should be read asynchronously, and the number of lines in the review should be counted.\n",
    "- Return a JSON response containing:\n",
    "  - `file_name`: The name of the uploaded file.\n",
    "  - `number_of_lines`: The number of lines in the review.\n",
    "  - `message`: `\"Review uploaded successfully!\"`.\n",
    "\n",
    "**Task**: Implement the `/upload-review` endpoint to handle file uploads and count the number of lines in the review."
   ]
  },
  {
   "cell_type": "code",
   "execution_count": null,
   "metadata": {
    "vscode": {
     "languageId": "plaintext"
    }
   },
   "outputs": [],
   "source": []
  },
  {
   "cell_type": "markdown",
   "metadata": {},
   "source": [
    "### 6. **Custom Exception Handling**\n",
    "Create a custom exception class `LibraryException` that allows you to raise specific errors related to the library system.\n",
    "\n",
    "**Requirements**:\n",
    "- The exception should accept a `status_code` and a `message`.\n",
    "- Create an exception handler for `LibraryException` that returns a JSON response with the error message and status code.\n",
    "\n",
    "**Task**: Implement the `LibraryException` class and an exception handler for it."
   ]
  },
  {
   "cell_type": "code",
   "execution_count": null,
   "metadata": {
    "vscode": {
     "languageId": "plaintext"
    }
   },
   "outputs": [],
   "source": []
  },
  {
   "cell_type": "markdown",
   "metadata": {},
   "source": [
    "### 7. **Handle Invalid Borrow Requests**\n",
    "Modify the `/borrow-book/{book_id}` endpoint to use the `LibraryException` for invalid borrow requests.\n",
    "\n",
    "**Requirements**:\n",
    "- If the book is not found, raise a `LibraryException` with a `404` status code and the message `\"Book not found\"`.\n",
    "- If the book is already borrowed, raise a `LibraryException` with a `400` status code and the message `\"Book is already borrowed\"`.\n",
    "\n",
    "**Task**: Update the `/borrow-book/{book_id}` endpoint to use `LibraryException` for error handling."
   ]
  },
  {
   "cell_type": "code",
   "execution_count": null,
   "metadata": {
    "vscode": {
     "languageId": "plaintext"
    }
   },
   "outputs": [],
   "source": []
  },
  {
   "cell_type": "markdown",
   "metadata": {},
   "source": [
    "### 8. **User Preferences**\n",
    "Create an endpoint `/update-preferences/{user_id}` that allows users to update their reading preferences.\n",
    "\n",
    "**Requirements**:\n",
    "- Use a Pydantic model `UserPreferences` with the following fields:\n",
    "  - `favorite_genre`: Optional field for the user's favorite genre.\n",
    "  - `preferred_author`: Optional field for the user's preferred author.\n",
    "- Store the user's preferences in a dictionary `user_preferences` where the key is the `user_id`.\n",
    "- Return the updated preferences in the response.\n",
    "\n",
    "**Task**: Implement the `/update-preferences/{user_id}` endpoint using a Pydantic model for data validation."
   ]
  },
  {
   "cell_type": "code",
   "execution_count": null,
   "metadata": {
    "vscode": {
     "languageId": "plaintext"
    }
   },
   "outputs": [],
   "source": []
  },
  {
   "cell_type": "markdown",
   "metadata": {},
   "source": [
    "### 9. **Check Book Availability**\n",
    "Create an endpoint `/check-availability/{book_id}` that checks whether a book is available for borrowing.\n",
    "\n",
    "**Requirements**:\n",
    "- If the book is not found, raise a `404 Not Found` error with the message `\"Book not found\"`.\n",
    "- If the book is available, return a message: `\"The book '{book_title}' is available for borrowing\"`.\n",
    "- If the book is not available, return a message: `\"The book '{book_title}' is currently borrowed\"`.\n",
    "\n",
    "**Task**: Implement the `/check-availability/{book_id}` endpoint to check book availability."
   ]
  },
  {
   "cell_type": "code",
   "execution_count": null,
   "metadata": {
    "vscode": {
     "languageId": "plaintext"
    }
   },
   "outputs": [],
   "source": []
  },
  {
   "cell_type": "code",
   "execution_count": null,
   "metadata": {
    "vscode": {
     "languageId": "plaintext"
    }
   },
   "outputs": [],
   "source": []
  },
  {
   "cell_type": "markdown",
   "metadata": {
    "vscode": {
     "languageId": "plaintext"
    }
   },
   "source": [
    "### 10. **List Borrowed Books**\n",
    "Create an endpoint `/borrowed-books` that lists all books currently borrowed by users.\n",
    "\n",
    "**Requirements**:\n",
    "- Return a list of books where `available` is `False`.\n",
    "- If no books are borrowed, return a message: `\"No books are currently borrowed\"`.\n",
    "\n",
    "**Task**: Implement the `/borrowed-books` endpoint to list all borrowed books.\n",
    "\n",
    "\n",
    "## Submission Instructions:\n",
    "- Submit your FastAPI application as a single Python file.\n",
    "- Ensure that all endpoints are properly documented with descriptions, summaries, and tags.\n",
    "- Test each endpoint using tools like **Postman** or **Swagger UI** to ensure they work as expected.\n",
    "- Include comments in your code explaining the logic behind each endpoint.\n",
    "\n",
    "\n",
    "Good luck, and happy coding!"
   ]
  },
  {
   "cell_type": "code",
   "execution_count": null,
   "metadata": {
    "vscode": {
     "languageId": "plaintext"
    }
   },
   "outputs": [],
   "source": []
  },
  {
   "cell_type": "code",
   "execution_count": null,
   "metadata": {
    "vscode": {
     "languageId": "plaintext"
    }
   },
   "outputs": [],
   "source": []
  },
  {
   "cell_type": "code",
   "execution_count": null,
   "metadata": {
    "vscode": {
     "languageId": "plaintext"
    }
   },
   "outputs": [],
   "source": []
  },
  {
   "cell_type": "code",
   "execution_count": null,
   "metadata": {
    "vscode": {
     "languageId": "plaintext"
    }
   },
   "outputs": [],
   "source": []
  },
  {
   "cell_type": "code",
   "execution_count": null,
   "metadata": {
    "vscode": {
     "languageId": "plaintext"
    }
   },
   "outputs": [],
   "source": []
  }
 ],
 "metadata": {
  "language_info": {
   "name": "python"
  }
 },
 "nbformat": 4,
 "nbformat_minor": 2
}
