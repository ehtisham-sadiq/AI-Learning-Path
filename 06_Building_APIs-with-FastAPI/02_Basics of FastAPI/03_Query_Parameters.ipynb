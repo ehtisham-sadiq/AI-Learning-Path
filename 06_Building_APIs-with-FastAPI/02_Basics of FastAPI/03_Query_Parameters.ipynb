{
 "cells": [
  {
   "cell_type": "markdown",
   "metadata": {},
   "source": [
    "# Introduction to FastAPI - Query Parameters\n",
    "\n",
    "\n",
    "## Table of Contents\n",
    "1. **Introduction to FastAPI**\n",
    "2. **Creating Routes and Handling Parameters**\n",
    "   - Path Parameters\n",
    "   - Query Parameters\n",
    "3. **Using Pydantic Models for Data Validation**\n",
    "4. **Handling POST, PUT, and GET Requests**\n",
    "5. **Example Applications**"
   ]
  },
  {
   "cell_type": "code",
   "execution_count": null,
   "metadata": {
    "vscode": {
     "languageId": "plaintext"
    }
   },
   "outputs": [],
   "source": []
  },
  {
   "cell_type": "markdown",
   "metadata": {},
   "source": [
    "## 1. Introduction to FastAPI\n",
    "\n",
    "FastAPI is a modern web framework for building APIs with Python. It is designed to be easy to use, highly performant, and comes with built-in support for asynchronous programming. FastAPI leverages Python's type hints to provide automatic data validation, serialization, and documentation (via Swagger UI and ReDoc).\n",
    "\n",
    "Key Features:\n",
    "- **Automatic Documentation**: FastAPI generates interactive API documentation automatically.\n",
    "- **Asynchronous Support**: Built on top of Starlette for handling asynchronous requests.\n",
    "- **Data Validation**: Uses Pydantic for data validation and serialization.\n",
    "- **High Performance**: Comparable to NodeJS and Go in terms of performance."
   ]
  },
  {
   "cell_type": "code",
   "execution_count": null,
   "metadata": {
    "vscode": {
     "languageId": "plaintext"
    }
   },
   "outputs": [],
   "source": []
  },
  {
   "cell_type": "code",
   "execution_count": null,
   "metadata": {
    "vscode": {
     "languageId": "plaintext"
    }
   },
   "outputs": [],
   "source": []
  },
  {
   "cell_type": "markdown",
   "metadata": {},
   "source": [
    "## 2. Creating Routes and Handling Parameters\n",
    "\n",
    "### Example 1: Fetching Toiletries List with Query Parameters\n",
    "\n",
    "```python\n",
    "from fastapi import FastAPI\n",
    "\n",
    "app = FastAPI()\n",
    "\n",
    "# Create a mock database of products.\n",
    "products_db = [\n",
    "    {\"product_name\": \"Soap\"}, \n",
    "    {\"product_name\": \"Shampoo\"}, \n",
    "    {\"product_name\": \"Toothpaste\"}, \n",
    "    {\"product_name\": \"Toilet Paper\"}\n",
    "]\n",
    "\n",
    "# Define a route to get a list of toiletry products.\n",
    "@app.get(\"/toiletries/\")\n",
    "async def read_toiletries(offset: int = 0, range: int = 10):\n",
    "    \"\"\"\n",
    "    This endpoint returns a slice of the 'products_db' list.\n",
    "    - `offset`: Specifies the starting index from which to fetch products.\n",
    "    - `range`: Specifies the number of products to return.\n",
    "    \"\"\"\n",
    "    return products_db[offset : offset + range]\n",
    "```\n",
    "\n",
    "#### Explanation:\n",
    "- **Route**: `/toiletries/`\n",
    "- **Parameters**:\n",
    "  - `offset` (default=0): The starting index from which to fetch products.\n",
    "  - `range` (default=10): The number of products to return.\n",
    "- **Functionality**: The function slices the `products_db` list based on the provided `offset` and `range`."
   ]
  },
  {
   "cell_type": "code",
   "execution_count": null,
   "metadata": {
    "vscode": {
     "languageId": "plaintext"
    }
   },
   "outputs": [],
   "source": []
  },
  {
   "cell_type": "code",
   "execution_count": null,
   "metadata": {
    "vscode": {
     "languageId": "plaintext"
    }
   },
   "outputs": [],
   "source": []
  },
  {
   "cell_type": "markdown",
   "metadata": {},
   "source": [
    "### Example 2: Fetching Book Details with Path and Query Parameters\n",
    "\n",
    "```python\n",
    "@app.get(\"/books/{book_id}\")\n",
    "async def my_book(book_id: str, q = None):\n",
    "    \"\"\"\n",
    "    This endpoint fetches details of a specific book.\n",
    "    - `book_id`: A mandatory path parameter of type string.\n",
    "    - `q`: An optional query parameter.\n",
    "    \"\"\"\n",
    "    if q:\n",
    "        return {\"book_id\": book_id, \"q\": q}\n",
    "    else:\n",
    "        return {\"book_id\": book_id}\n",
    "```\n",
    "\n",
    "#### Explanation:\n",
    "- **Route**: `/books/{book_id}`\n",
    "- **Parameters**:\n",
    "  - `book_id`: A mandatory path parameter that identifies the book.\n",
    "  - `q`: An optional query parameter that can be used to pass additional information.\n",
    "- **Functionality**: If `q` is provided, it returns both `book_id` and `q`; otherwise, it just returns `book_id`."
   ]
  },
  {
   "cell_type": "code",
   "execution_count": null,
   "metadata": {
    "vscode": {
     "languageId": "plaintext"
    }
   },
   "outputs": [],
   "source": []
  },
  {
   "cell_type": "code",
   "execution_count": null,
   "metadata": {
    "vscode": {
     "languageId": "plaintext"
    }
   },
   "outputs": [],
   "source": []
  },
  {
   "cell_type": "markdown",
   "metadata": {},
   "source": [
    "## 3. Using Pydantic Models for Data Validation\n",
    "\n",
    "### Example 3: Registering a New Space Probe\n",
    "\n",
    "```python\n",
    "from fastapi import FastAPI, HTTPException\n",
    "from pydantic import BaseModel\n",
    "from typing import Union\n",
    "\n",
    "app = FastAPI()\n",
    "\n",
    "# Define a Pydantic model 'SpaceProbe'.\n",
    "class SpaceProbe(BaseModel):\n",
    "    identifier: str\n",
    "    mission: Union[str, None] = None\n",
    "    velocity: float\n",
    "    fuel_level: Union[float, None] = None\n",
    "\n",
    "# Create a route to register a new space probe.\n",
    "@app.post(\"/space-probes/\")\n",
    "async def register_probe(probe: SpaceProbe):\n",
    "    \"\"\"\n",
    "    This endpoint registers a new space probe.\n",
    "    - `probe`: A Pydantic model representing the space probe's data.\n",
    "    \"\"\"\n",
    "    probe_report = probe.dict()\n",
    "    if probe.fuel_level:\n",
    "        fuel_status = \"Sufficient\" if probe.fuel_level > 20 else \"Low\"\n",
    "        probe_report.update({\"fuel_status\": fuel_status})\n",
    "    return probe_report\n",
    "```\n",
    "\n",
    "#### Explanation:\n",
    "- **Pydantic Model**: `SpaceProbe` defines the structure of the incoming data.\n",
    "  - `identifier`: Mandatory string field.\n",
    "  - `mission`: Optional string field.\n",
    "  - `velocity`: Mandatory float field.\n",
    "  - `fuel_level`: Optional float field.\n",
    "- **Route**: `/space-probes/`\n",
    "- **Functionality**: The function validates the incoming data using the `SpaceProbe` model and adds a `fuel_status` based on the `fuel_level`."
   ]
  },
  {
   "cell_type": "code",
   "execution_count": null,
   "metadata": {
    "vscode": {
     "languageId": "plaintext"
    }
   },
   "outputs": [],
   "source": []
  },
  {
   "cell_type": "code",
   "execution_count": null,
   "metadata": {
    "vscode": {
     "languageId": "plaintext"
    }
   },
   "outputs": [],
   "source": []
  },
  {
   "cell_type": "markdown",
   "metadata": {},
   "source": [
    "### Example 4: Updating an Existing Space Probe\n",
    "\n",
    "```python\n",
    "@app.put(\"/space-probes/{probe_id}\")\n",
    "async def update_probe(probe_id: int, probe: SpaceProbe, q: Union[str, None] = None):\n",
    "    \"\"\"\n",
    "    This endpoint updates an existing space probe.\n",
    "    - `probe_id`: A mandatory path parameter identifying the probe.\n",
    "    - `probe`: A Pydantic model representing the updated data.\n",
    "    - `q`: An optional query parameter.\n",
    "    \"\"\"\n",
    "    response = {\"probe_id\": probe_id, **probe.dict()}\n",
    "    if q:\n",
    "        response.update({\"additional_query\": q})\n",
    "    return response\n",
    "```\n",
    "\n",
    "#### Explanation:\n",
    "- **Route**: `/space-probes/{probe_id}`\n",
    "- **Parameters**:\n",
    "  - `probe_id`: A mandatory path parameter identifying the probe.\n",
    "  - `probe`: A Pydantic model representing the updated data.\n",
    "  - `q`: An optional query parameter.\n",
    "- **Functionality**: The function updates the probe's data and optionally includes an additional query parameter in the response."
   ]
  },
  {
   "cell_type": "code",
   "execution_count": null,
   "metadata": {
    "vscode": {
     "languageId": "plaintext"
    }
   },
   "outputs": [],
   "source": []
  },
  {
   "cell_type": "code",
   "execution_count": null,
   "metadata": {
    "vscode": {
     "languageId": "plaintext"
    }
   },
   "outputs": [],
   "source": []
  },
  {
   "cell_type": "markdown",
   "metadata": {
    "vscode": {
     "languageId": "plaintext"
    }
   },
   "source": [
    "\n",
    "## 4. Handling GET Requests with Multiple Query Parameters\n",
    "\n",
    "### Example 5: Fetching Book Details with Multiple Query Parameters\n",
    "\n",
    "```python\n",
    "@app.get(\"/books/{title}\")\n",
    "def read_book(title: str, author: str = None, genre: str = None):\n",
    "    \"\"\"\n",
    "    This endpoint fetches book details based on the title.\n",
    "    - `title`: A mandatory path parameter.\n",
    "    - `author`: An optional query parameter.\n",
    "    - `genre`: An optional query parameter.\n",
    "    \"\"\"\n",
    "    return {\"title\": title, \"author\": author, \"genre\": genre}\n",
    "```\n",
    "\n",
    "#### Explanation:\n",
    "- **Route**: `/books/{title}`\n",
    "- **Parameters**:\n",
    "  - `title`: A mandatory path parameter.\n",
    "  - `author`: An optional query parameter.\n",
    "  - `genre`: An optional query parameter.\n",
    "- **Functionality**: The function returns the book's title along with optional `author` and `genre` information."
   ]
  },
  {
   "cell_type": "code",
   "execution_count": null,
   "metadata": {
    "vscode": {
     "languageId": "plaintext"
    }
   },
   "outputs": [],
   "source": []
  },
  {
   "cell_type": "code",
   "execution_count": null,
   "metadata": {
    "vscode": {
     "languageId": "plaintext"
    }
   },
   "outputs": [],
   "source": []
  },
  {
   "cell_type": "markdown",
   "metadata": {},
   "source": [
    "### Example 6: Fetching a Joke Based on Category\n",
    "\n",
    "```python\n",
    "@app.get(\"/jokes/\")\n",
    "def tell_joke(category: str):\n",
    "    \"\"\"\n",
    "    This endpoint fetches a joke based on the category.\n",
    "    - `category`: A mandatory query parameter specifying the category of the joke.\n",
    "    \"\"\"\n",
    "    return {\"joke\": \"Why did the programmer quit his job? He didn't get arrays.\"}\n",
    "```\n",
    "\n",
    "#### Explanation:\n",
    "- **Route**: `/jokes/`\n",
    "- **Parameters**:\n",
    "  - `category`: A mandatory query parameter specifying the category of the joke.\n",
    "- **Functionality**: The function returns a predefined joke regardless of the category."
   ]
  },
  {
   "cell_type": "code",
   "execution_count": null,
   "metadata": {
    "vscode": {
     "languageId": "plaintext"
    }
   },
   "outputs": [],
   "source": []
  },
  {
   "cell_type": "code",
   "execution_count": null,
   "metadata": {
    "vscode": {
     "languageId": "plaintext"
    }
   },
   "outputs": [],
   "source": []
  },
  {
   "cell_type": "code",
   "execution_count": null,
   "metadata": {
    "vscode": {
     "languageId": "plaintext"
    }
   },
   "outputs": [],
   "source": []
  },
  {
   "cell_type": "code",
   "execution_count": null,
   "metadata": {
    "vscode": {
     "languageId": "plaintext"
    }
   },
   "outputs": [],
   "source": []
  }
 ],
 "metadata": {
  "language_info": {
   "name": "python"
  }
 },
 "nbformat": 4,
 "nbformat_minor": 2
}
