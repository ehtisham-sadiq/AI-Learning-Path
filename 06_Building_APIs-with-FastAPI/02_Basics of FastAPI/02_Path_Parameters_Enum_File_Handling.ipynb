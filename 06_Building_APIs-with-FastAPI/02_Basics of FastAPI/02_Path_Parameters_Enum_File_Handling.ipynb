{
 "cells": [
  {
   "cell_type": "code",
   "execution_count": null,
   "metadata": {},
   "outputs": [],
   "source": []
  },
  {
   "cell_type": "markdown",
   "metadata": {},
   "source": [
    "# **Building a API with Path Parameters, Enums, and File Handling**\n",
    "\n",
    "\n",
    "## Table of Contents\n",
    "1. [Introduction to FastAPI](#introduction-to-fastapi)\n",
    "2. [Path Parameters](#path-parameters)\n",
    "   - [Basic Path Parameter Example](#basic-path-parameter-example)\n",
    "   - [Type Annotated Path Parameters](#type-annotated-path-parameters)\n",
    "3. [Route Ordering](#route-ordering)\n",
    "4. [Using Enums in Routes](#using-enums-in-routes)\n",
    "5. [File Handling in FastAPI](#file-handling-in-fastapi)\n",
    "6. [Conclusion](#conclusion)"
   ]
  },
  {
   "cell_type": "code",
   "execution_count": null,
   "metadata": {},
   "outputs": [],
   "source": []
  },
  {
   "cell_type": "code",
   "execution_count": null,
   "metadata": {},
   "outputs": [],
   "source": []
  },
  {
   "cell_type": "markdown",
   "metadata": {},
   "source": [
    "## **Introduction to FastAPI**\n",
    "\n",
    "**FastAPI** is a Python framework designed for building APIs quickly and efficiently. It leverages Python's type hinting system to provide automatic data validation, serialization, and documentation. This makes it easy to define complex APIs with minimal boilerplate code.\n",
    "\n",
    "To start, ensure you have FastAPI installed:\n",
    "```bash\n",
    "pip install fastapi uvicorn\n",
    "```\n",
    "\n",
    "We'll use `uvicorn` to run the application."
   ]
  },
  {
   "cell_type": "code",
   "execution_count": null,
   "metadata": {},
   "outputs": [],
   "source": []
  },
  {
   "cell_type": "code",
   "execution_count": null,
   "metadata": {},
   "outputs": [],
   "source": []
  },
  {
   "cell_type": "markdown",
   "metadata": {},
   "source": [
    "## **Path Parameters**\n",
    "\n",
    "### 1. Basic Path Parameter Example\n",
    "\n",
    "Path parameters allow you to extract values from the URL path. For example, if you want to retrieve information about a specific product, you can define a route like this:\n",
    "\n",
    "```python\n",
    "from fastapi import FastAPI\n",
    "\n",
    "app = FastAPI()\n",
    "\n",
    "@app.get(\"/products/{product_id}\")\n",
    "async def read_product(product_id):\n",
    "    return {\"product_id\": product_id}\n",
    "```\n",
    "\n",
    "#### Explanation:\n",
    "- The route `/products/{product_id}` defines a dynamic segment `{product_id}`.\n",
    "- When a GET request is made to `/products/123`, the value `123` is passed to the `read_product` function as the `product_id` parameter.\n",
    "- The function returns a JSON response containing the `product_id`."
   ]
  },
  {
   "cell_type": "code",
   "execution_count": null,
   "metadata": {},
   "outputs": [],
   "source": []
  },
  {
   "cell_type": "markdown",
   "metadata": {},
   "source": [
    "### 2. Type Annotated Path Parameters\n",
    "\n",
    "You can enforce type checking on path parameters by specifying their types. For instance, if `product_id` should always be an integer:\n",
    "\n",
    "```python\n",
    "@app.get(\"/products/{product_id}\")\n",
    "async def read_product(product_id: int):\n",
    "    return {\"product_id\": product_id}\n",
    "```\n",
    "\n",
    "#### Explanation:\n",
    "- By annotating `product_id` as `int`, FastAPI ensures that only valid integers are accepted.\n",
    "- If a non-integer value is provided (e.g., `/products/abc`), FastAPI automatically returns a 422 Unprocessable Entity error."
   ]
  },
  {
   "cell_type": "code",
   "execution_count": null,
   "metadata": {},
   "outputs": [],
   "source": []
  },
  {
   "cell_type": "code",
   "execution_count": null,
   "metadata": {},
   "outputs": [],
   "source": []
  },
  {
   "cell_type": "markdown",
   "metadata": {},
   "source": [
    "## **Route Ordering**\n",
    "\n",
    "Route ordering is crucial when defining overlapping paths. Consider the following two routes:\n",
    "\n",
    "```python\n",
    "@app.get(\"/users/me\")\n",
    "async def read_current_user():\n",
    "    return {\"user_id\": \"the data for the current user\"}\n",
    "\n",
    "@app.get(\"/users/{user_id}\")\n",
    "async def read_user(user_id: str):\n",
    "    return {\"user_id\": user_id}\n",
    "```\n",
    "\n",
    "#### Explanation:\n",
    "- The `/users/me` route must come **before** `/users/{user_id}` because FastAPI matches routes in the order they are defined.\n",
    "- If `/users/{user_id}` were defined first, the word `me` would be interpreted as a `user_id`, causing incorrect behavior."
   ]
  },
  {
   "cell_type": "code",
   "execution_count": null,
   "metadata": {},
   "outputs": [],
   "source": []
  },
  {
   "cell_type": "code",
   "execution_count": null,
   "metadata": {},
   "outputs": [],
   "source": []
  },
  {
   "cell_type": "markdown",
   "metadata": {},
   "source": [
    "## **Using Enums in Routes**\n",
    "\n",
    "Enums (Enumerations) are useful for representing a fixed set of possible values. In FastAPI, you can use them to restrict input to predefined options.\n",
    "\n",
    "### Defining an Enum\n",
    "\n",
    "```python\n",
    "from enum import Enum\n",
    "\n",
    "class DeviceType(str, Enum):\n",
    "    smartphone = \"smartphone\"\n",
    "    tablet = \"tablet\"\n",
    "    laptop = \"laptop\"\n",
    "```\n",
    "\n",
    "#### Explanation:\n",
    "- The `DeviceType` class inherits from both `str` and `Enum`. This allows it to be serialized as a string in JSON responses.\n",
    "- It defines three possible values: `smartphone`, `tablet`, and `laptop`.\n",
    "\n",
    "### Using an Enum in a Route\n",
    "\n",
    "```python\n",
    "@app.get(\"/devices/{device_type}\")\n",
    "async def get_device(device_type: DeviceType):\n",
    "    return {\"device_type\": device_type}\n",
    "```\n",
    "\n",
    "#### Explanation:\n",
    "- The `device_type` parameter is annotated with `DeviceType`.\n",
    "- Only values from the `DeviceType` enum (`smartphone`, `tablet`, or `laptop`) are accepted.\n",
    "- If an invalid value is provided, FastAPI raises a 422 error."
   ]
  },
  {
   "cell_type": "code",
   "execution_count": null,
   "metadata": {},
   "outputs": [],
   "source": []
  },
  {
   "cell_type": "code",
   "execution_count": null,
   "metadata": {},
   "outputs": [],
   "source": []
  },
  {
   "cell_type": "markdown",
   "metadata": {
    "vscode": {
     "languageId": "plaintext"
    }
   },
   "source": [
    "## **File Handling in FastAPI**\n",
    "\n",
    "FastAPI can handle file operations, such as reading files from the server's filesystem. Here's an example of serving file content:\n",
    "\n",
    "```python\n",
    "from pathlib import Path\n",
    "from fastapi import HTTPException\n",
    "\n",
    "@app.get(\"/docs/{file_path:path}\")\n",
    "async def read_document(file_path: str):\n",
    "    file_location = Path(\"docs\") / file_path\n",
    "    \n",
    "    if not file_location.exists() or not file_location.is_file():\n",
    "        raise HTTPException(status_code=404, detail=\"file not found\")\n",
    "    \n",
    "    with open(file_location, \"r\") as file:\n",
    "        content = file.read()\n",
    "    \n",
    "    return {\"content\": content}\n",
    "```\n",
    "\n",
    "#### Explanation:\n",
    "1. **Path Parameter with Colon Notation**:\n",
    "   - The `file_path:path` syntax allows the parameter to capture the entire remaining path, including slashes.\n",
    "2. **File Validation**:\n",
    "   - The `Path` object checks if the file exists and is a regular file.\n",
    "   - If the file is missing or invalid, an `HTTPException` with a 404 status code is raised.\n",
    "3. **Reading File Content**:\n",
    "   - The file is opened in read mode (`\"r\"`), and its content is returned as part of the JSON response."
   ]
  },
  {
   "cell_type": "code",
   "execution_count": null,
   "metadata": {},
   "outputs": [],
   "source": []
  },
  {
   "cell_type": "markdown",
   "metadata": {},
   "source": [
    "## **Conclusion**\n",
    "\n",
    "FastAPI simplifies the process of building robust APIs by providing powerful tools and conventions. With its strong support for type hints and automatic documentation, it's an excellent choice for modern web applications."
   ]
  },
  {
   "cell_type": "code",
   "execution_count": null,
   "metadata": {},
   "outputs": [],
   "source": []
  }
 ],
 "metadata": {
  "kernelspec": {
   "display_name": "myvenv",
   "language": "python",
   "name": "python3"
  },
  "language_info": {
   "codemirror_mode": {
    "name": "ipython",
    "version": 3
   },
   "file_extension": ".py",
   "mimetype": "text/x-python",
   "name": "python",
   "nbconvert_exporter": "python",
   "pygments_lexer": "ipython3",
   "version": "3.11.7"
  }
 },
 "nbformat": 4,
 "nbformat_minor": 2
}
