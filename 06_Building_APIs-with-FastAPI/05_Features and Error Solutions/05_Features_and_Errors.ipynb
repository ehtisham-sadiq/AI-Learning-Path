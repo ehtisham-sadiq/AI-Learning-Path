{
 "cells": [
  {
   "cell_type": "markdown",
   "metadata": {},
   "source": [
    "# Building Robust APIs with FastAPI - Error Handling, Data Validation, and Custom Exceptions\n",
    "\n",
    "## Overview\n",
    "In this notebook, we will explore how to build robust APIs using **FastAPI** by implementing error handling, data validation, and custom exceptions. We'll cover how to handle scenarios like borrowing books, booking trips, updating user preferences, and managing spacecraft details. Additionally, we'll learn how to create custom exception handlers for better error management.\n",
    "\n",
    "\n",
    "\n",
    "## Table of Contents\n",
    "1. **Borrowing Books with Error Handling**\n",
    "2. **Listing and Booking Trips**\n",
    "3. **Updating User Preferences with Pydantic Models**\n",
    "4. **Booking Trips with Advanced Error Handling**\n",
    "5. **Returning JSON-Compatible Responses**\n",
    "6. **Assignment: Custom Exception Handling for Match Tickets**"
   ]
  },
  {
   "cell_type": "code",
   "execution_count": null,
   "metadata": {
    "vscode": {
     "languageId": "plaintext"
    }
   },
   "outputs": [],
   "source": []
  },
  {
   "cell_type": "code",
   "execution_count": null,
   "metadata": {
    "vscode": {
     "languageId": "plaintext"
    }
   },
   "outputs": [],
   "source": []
  },
  {
   "cell_type": "markdown",
   "metadata": {},
   "source": [
    "## 1. Borrowing Books with Error Handling\n",
    "\n",
    "### Definition:\n",
    "**Error Handling** is the process of managing unexpected or invalid inputs in an API. In FastAPI, you can use `HTTPException` to raise HTTP errors (e.g., 404 Not Found, 400 Bad Request) when certain conditions are not met. This ensures that your API provides meaningful error messages to clients."
   ]
  },
  {
   "cell_type": "code",
   "execution_count": null,
   "metadata": {
    "vscode": {
     "languageId": "plaintext"
    }
   },
   "outputs": [],
   "source": []
  },
  {
   "cell_type": "markdown",
   "metadata": {},
   "source": [
    "### Example 1: Borrowing a Book\n",
    "\n",
    "```python\n",
    "from fastapi import FastAPI, HTTPException\n",
    "\n",
    "app = FastAPI()\n",
    "\n",
    "books = {\n",
    "    \"1\": {\"title\": \"Our Time\", \"borrowed\": False},\n",
    "    \"2\": {\"title\": \"Into the Fire\", \"borrowed\": False},\n",
    "}\n",
    "\n",
    "@app.get(\"/borrow-book/{book_id}\")\n",
    "async def borrow_book(book_id: str):\n",
    "    \"\"\"\n",
    "    This endpoint allows users to borrow a book based on its ID.\n",
    "    - `book_id`: A mandatory path parameter specifying the book's ID.\n",
    "    \"\"\"\n",
    "    book = books.get(book_id)\n",
    "    if not book:\n",
    "        raise HTTPException(status_code=404, detail=\"Book not found\")\n",
    "    if book[\"borrowed\"]:\n",
    "        raise HTTPException(status_code=400, detail=\"Book is already borrowed\")\n",
    "    book[\"borrowed\"] = True\n",
    "    return {\"message\": f\"You have successfully borrowed '{book['title']}'\"}\n",
    "```\n",
    "\n",
    "#### Explanation:\n",
    "- **Route**: `/borrow-book/{book_id}`\n",
    "- **Parameters**:\n",
    "  - `book_id`: A mandatory path parameter that identifies the book.\n",
    "- **Functionality**:\n",
    "  - The function checks if the book exists in the `books` dictionary.\n",
    "  - If the book is not found, it raises a 404 error.\n",
    "  - If the book is already borrowed, it raises a 400 error.\n",
    "  - If the book is available, it marks it as borrowed and returns a success message."
   ]
  },
  {
   "cell_type": "code",
   "execution_count": null,
   "metadata": {
    "vscode": {
     "languageId": "plaintext"
    }
   },
   "outputs": [],
   "source": []
  },
  {
   "cell_type": "code",
   "execution_count": null,
   "metadata": {
    "vscode": {
     "languageId": "plaintext"
    }
   },
   "outputs": [],
   "source": []
  },
  {
   "cell_type": "markdown",
   "metadata": {},
   "source": [
    "## 2. Listing and Booking Trips\n",
    "\n",
    "### Definition:\n",
    "**Listing and Booking Trips** involves creating endpoints to retrieve available trips and book a specific trip. These endpoints often include metadata like tags, summaries, and descriptions to improve API documentation."
   ]
  },
  {
   "cell_type": "code",
   "execution_count": null,
   "metadata": {
    "vscode": {
     "languageId": "plaintext"
    }
   },
   "outputs": [],
   "source": []
  },
  {
   "cell_type": "markdown",
   "metadata": {},
   "source": [
    "### Example 2: Listing and Booking Trips\n",
    "\n",
    "```python\n",
    "from fastapi import FastAPI\n",
    "\n",
    "app = FastAPI()\n",
    "\n",
    "trips = [\n",
    "    {\"id\": 1, \"destination\": \"Mars\", \"price\": 10000},\n",
    "    {\"id\": 2, \"destination\": \"Moon\", \"price\": 5000},\n",
    "]\n",
    "\n",
    "@app.get(\"/trips\", tags=[\"Trips\"], summary=\"List of trips\",\n",
    "         description=\"Retrieve a list of available interstellar trips with their details.\")\n",
    "async def list_trips():\n",
    "    \"\"\"\n",
    "    This endpoint lists all available trips.\n",
    "    \"\"\"\n",
    "    return trips\n",
    "\n",
    "@app.post(\"/book-trip/{trip_id}\", tags=[\"Booking\"], summary=\"Book a trip\",\n",
    "          description=\"Book an interstellar trip by providing the trip ID.\")\n",
    "async def book_trip(trip_id: int):\n",
    "    \"\"\"\n",
    "    This endpoint allows users to book a trip based on its ID.\n",
    "    - `trip_id`: A mandatory path parameter specifying the trip's ID.\n",
    "    \"\"\"\n",
    "    trip = next((trip for trip in trips if trip[\"id\"] == trip_id), None)\n",
    "    if trip is None:\n",
    "        return {\"error\": \"Trip not found\"}\n",
    "    return {\"message\": f\"Trip to {trip['destination']} booked successfully!\"}\n",
    "```\n",
    "\n",
    "#### Explanation:\n",
    "- **Routes**:\n",
    "  - `/trips`: Lists all available trips.\n",
    "  - `/book-trip/{trip_id}`: Books a specific trip based on its ID.\n",
    "- **Metadata**:\n",
    "  - Tags, summaries, and descriptions are added to improve API documentation.\n",
    "- **Functionality**:\n",
    "  - The `/trips` endpoint returns a list of all available trips.\n",
    "  - The `/book-trip/{trip_id}` endpoint checks if the trip exists and returns a success message if booked."
   ]
  },
  {
   "cell_type": "code",
   "execution_count": null,
   "metadata": {
    "vscode": {
     "languageId": "plaintext"
    }
   },
   "outputs": [],
   "source": []
  },
  {
   "cell_type": "code",
   "execution_count": null,
   "metadata": {
    "vscode": {
     "languageId": "plaintext"
    }
   },
   "outputs": [],
   "source": []
  },
  {
   "cell_type": "markdown",
   "metadata": {},
   "source": [
    "## 3. Updating User Preferences with Pydantic Models\n",
    "\n",
    "### Definition:\n",
    "**Pydantic Models** are used for data validation and serialization in FastAPI. They allow you to define the structure of incoming and outgoing data, enforce type constraints, and apply additional validation rules. This ensures that the data conforms to the expected format before it is processed."
   ]
  },
  {
   "cell_type": "code",
   "execution_count": null,
   "metadata": {
    "vscode": {
     "languageId": "plaintext"
    }
   },
   "outputs": [],
   "source": []
  },
  {
   "cell_type": "markdown",
   "metadata": {},
   "source": [
    "### Example 3: Updating Home Design Preferences\n",
    "\n",
    "```python\n",
    "from fastapi import FastAPI\n",
    "from fastapi.encoders import jsonable_encoder\n",
    "from pydantic import BaseModel, Field\n",
    "from typing import Optional\n",
    "\n",
    "app = FastAPI()\n",
    "\n",
    "class HomeDesign(BaseModel):\n",
    "    color_scheme: Optional[str] = Field(None, example=\"Warm\")\n",
    "    materials: Optional[str] = Field(None, example=\"Wood\")\n",
    "\n",
    "user_preferences = {}\n",
    "\n",
    "@app.put(\"/update-design/{user_id}\", response_model=HomeDesign)\n",
    "async def update_design(user_id: int, design: HomeDesign):\n",
    "    \"\"\"\n",
    "    This endpoint updates a user's home design preferences.\n",
    "    - `user_id`: A mandatory path parameter specifying the user's ID.\n",
    "    - `design`: A Pydantic model representing the user's design preferences.\n",
    "    \"\"\"\n",
    "    json_compatible_design = jsonable_encoder(design)\n",
    "    user_preferences[user_id] = json_compatible_design\n",
    "    return json_compatible_design\n",
    "```\n",
    "\n",
    "#### Explanation:\n",
    "- **Pydantic Model**: `HomeDesign` defines the structure of the incoming data with optional fields for `color_scheme` and `materials`.\n",
    "- **Route**: `/update-design/{user_id}`\n",
    "- **Functionality**:\n",
    "  - The function validates the incoming design data using the `HomeDesign` model.\n",
    "  - It stores the validated data in the `user_preferences` dictionary and returns it."
   ]
  },
  {
   "cell_type": "code",
   "execution_count": null,
   "metadata": {
    "vscode": {
     "languageId": "plaintext"
    }
   },
   "outputs": [],
   "source": []
  },
  {
   "cell_type": "code",
   "execution_count": null,
   "metadata": {
    "vscode": {
     "languageId": "plaintext"
    }
   },
   "outputs": [],
   "source": []
  },
  {
   "cell_type": "markdown",
   "metadata": {},
   "source": [
    "## 4. Booking Trips with Advanced Error Handling\n",
    "\n",
    "### Definition:\n",
    "**Advanced Error Handling** involves managing multiple error scenarios, such as checking for trip availability and ensuring trips are not double-booked. This ensures that your API handles edge cases gracefully."
   ]
  },
  {
   "cell_type": "code",
   "execution_count": null,
   "metadata": {
    "vscode": {
     "languageId": "plaintext"
    }
   },
   "outputs": [],
   "source": []
  },
  {
   "cell_type": "markdown",
   "metadata": {
    "vscode": {
     "languageId": "plaintext"
    }
   },
   "source": [
    "### Example 4: Booking Trips with Availability Checks\n",
    "\n",
    "```python\n",
    "from fastapi import FastAPI, HTTPException\n",
    "from typing import Dict\n",
    "\n",
    "app = FastAPI()\n",
    "\n",
    "trips = {\n",
    "    \"1\": {\"destination\": \"Mars\", \"available\": True},\n",
    "    \"2\": {\"destination\": \"Moon\", \"available\": False},\n",
    "}\n",
    "\n",
    "bookings: Dict[str, str] = {}\n",
    "\n",
    "@app.post(\"/book-trip/{trip_id}\")\n",
    "async def book_trip(trip_id: str):\n",
    "    \"\"\"\n",
    "    This endpoint allows users to book a trip based on its ID.\n",
    "    - `trip_id`: A mandatory path parameter specifying the trip's ID.\n",
    "    \"\"\"\n",
    "    if trip_id not in trips:\n",
    "        raise HTTPException(status_code=404, detail=\"Trip not found\")\n",
    "    if not trips[trip_id][\"available\"]:\n",
    "        raise HTTPException(status_code=400, detail=\"Trip is not available\")\n",
    "    if trip_id in bookings:\n",
    "        raise HTTPException(status_code=400, detail=\"Trip is already booked\")\n",
    "    bookings[trip_id] = \"booked\"\n",
    "    return {\"message\": f\"Trip to {trips[trip_id]['destination']} booked successfully!\"}\n",
    "```\n",
    "\n",
    "#### Explanation:\n",
    "- **Route**: `/book-trip/{trip_id}`\n",
    "- **Parameters**:\n",
    "  - `trip_id`: A mandatory path parameter that identifies the trip.\n",
    "- **Functionality**:\n",
    "  - The function checks if the trip exists, is available, and has not been booked.\n",
    "  - If any condition fails, it raises an appropriate HTTP error.\n",
    "  - If all conditions are met, it marks the trip as booked and returns a success message."
   ]
  },
  {
   "cell_type": "code",
   "execution_count": null,
   "metadata": {
    "vscode": {
     "languageId": "plaintext"
    }
   },
   "outputs": [],
   "source": []
  },
  {
   "cell_type": "code",
   "execution_count": null,
   "metadata": {
    "vscode": {
     "languageId": "plaintext"
    }
   },
   "outputs": [],
   "source": []
  },
  {
   "cell_type": "code",
   "execution_count": null,
   "metadata": {
    "vscode": {
     "languageId": "plaintext"
    }
   },
   "outputs": [],
   "source": []
  },
  {
   "cell_type": "markdown",
   "metadata": {},
   "source": [
    "## 5. Returning JSON-Compatible Responses\n",
    "\n",
    "### Definition:\n",
    "**JSON-Compatible Responses** ensure that the data returned by your API is serialized into a format that can be easily consumed by clients. FastAPI provides the `jsonable_encoder` utility to convert Pydantic models and other objects into JSON-compatible formats.\n",
    "\n",
    "### Example 5: Returning Spacecraft Details\n",
    "\n",
    "```python\n",
    "from fastapi import FastAPI\n",
    "from fastapi.encoders import jsonable_encoder\n",
    "from pydantic import BaseModel\n",
    "\n",
    "app = FastAPI()\n",
    "\n",
    "class SpacecraftDetails(BaseModel):\n",
    "    name: str\n",
    "    capacity: int\n",
    "\n",
    "@app.get(\"/spacecraft/{name}\")\n",
    "async def get_spacecraft(name: str):\n",
    "    \"\"\"\n",
    "    This endpoint returns details of a spacecraft.\n",
    "    - `name`: A mandatory path parameter specifying the spacecraft's name.\n",
    "    \"\"\"\n",
    "    spacecraft = SpacecraftDetails(name=name, capacity=200)\n",
    "    json_compatible_spacecraft = jsonable_encoder(spacecraft)\n",
    "    return json_compatible_spacecraft\n",
    "```\n",
    "\n",
    "#### Explanation:\n",
    "- **Pydantic Model**: `SpacecraftDetails` defines the structure of the spacecraft data.\n",
    "- **Route**: `/spacecraft/{name}`\n",
    "- **Functionality**:\n",
    "  - The function creates a `SpacecraftDetails` object and converts it into a JSON-compatible format using `jsonable_encoder`.\n",
    "  - It returns the JSON-compatible spacecraft details."
   ]
  },
  {
   "cell_type": "code",
   "execution_count": null,
   "metadata": {
    "vscode": {
     "languageId": "plaintext"
    }
   },
   "outputs": [],
   "source": []
  },
  {
   "cell_type": "code",
   "execution_count": null,
   "metadata": {
    "vscode": {
     "languageId": "plaintext"
    }
   },
   "outputs": [],
   "source": []
  },
  {
   "cell_type": "markdown",
   "metadata": {},
   "source": [
    "## 6. Assignment: Custom Exception Handling for Match Tickets\n",
    "\n",
    "### Definition:\n",
    "**Custom Exception Handling** allows you to define and handle specific error scenarios in your API. By creating custom exception classes and handlers, you can provide more meaningful error messages and responses to clients.\n",
    "\n",
    "### Example 6: Booking Match Tickets with Custom Exceptions\n",
    "\n",
    "```python\n",
    "from fastapi import FastAPI, HTTPException, Request, status\n",
    "from fastapi.responses import JSONResponse\n",
    "\n",
    "app = FastAPI()\n",
    "\n",
    "# Mock data: match tickets availability (0 = sold out)\n",
    "match_tickets = {\"Portugal vs Argentina\": 0}\n",
    "\n",
    "# Custom exception class for specific API errors\n",
    "class CustomAPIException(Exception):\n",
    "    def __init__(self, status_code: int, message: str):\n",
    "        self.status_code = status_code\n",
    "        self.message = message\n",
    "\n",
    "# Handles responses for CustomAPIException\n",
    "@app.exception_handler(CustomAPIException)\n",
    "async def custom_api_exception_handler(request: Request, exc: CustomAPIException):\n",
    "    return JSONResponse(status_code=exc.status_code, content={\"message\": exc.message})\n",
    "\n",
    "# Endpoint to book a match ticket\n",
    "@app.post(\"/book-match-ticket\")\n",
    "async def book_match_ticket(match: str):\n",
    "    \"\"\"\n",
    "    This endpoint allows users to book a match ticket.\n",
    "    - `match`: A mandatory query parameter specifying the match name.\n",
    "    \"\"\"\n",
    "    if match not in match_tickets:\n",
    "        raise CustomAPIException(status.HTTP_422_UNPROCESSABLE_ENTITY, \"Invalid booking request.\")\n",
    "    if match_tickets[match] == 0:\n",
    "        raise CustomAPIException(status.HTTP_400_BAD_REQUEST, \"Sorry, tickets for this match are sold out.\")\n",
    "    return {\"message\": f\"Ticket for {match} booked successfully!\"}\n",
    "```\n",
    "\n",
    "#### Explanation:\n",
    "- **Custom Exception Class**: `CustomAPIException` defines custom error messages and status codes.\n",
    "- **Route**: `/book-match-ticket`\n",
    "- **Parameters**:\n",
    "  - `match`: A mandatory query parameter that specifies the match name.\n",
    "- **Functionality**:\n",
    "  - The function checks if the match exists and if tickets are available.\n",
    "  - If any condition fails, it raises a `CustomAPIException`.\n",
    "  - The custom exception handler returns a JSON response with the error message and status code."
   ]
  },
  {
   "cell_type": "code",
   "execution_count": null,
   "metadata": {
    "vscode": {
     "languageId": "plaintext"
    }
   },
   "outputs": [],
   "source": []
  },
  {
   "cell_type": "code",
   "execution_count": null,
   "metadata": {
    "vscode": {
     "languageId": "plaintext"
    }
   },
   "outputs": [],
   "source": []
  },
  {
   "cell_type": "code",
   "execution_count": null,
   "metadata": {
    "vscode": {
     "languageId": "plaintext"
    }
   },
   "outputs": [],
   "source": []
  }
 ],
 "metadata": {
  "language_info": {
   "name": "python"
  }
 },
 "nbformat": 4,
 "nbformat_minor": 2
}
