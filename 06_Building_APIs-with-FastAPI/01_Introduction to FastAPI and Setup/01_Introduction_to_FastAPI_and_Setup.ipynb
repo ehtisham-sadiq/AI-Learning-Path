{
 "cells": [
  {
   "cell_type": "markdown",
   "metadata": {},
   "source": [
    "# FastAPI Tutorial: Building Your First API\n",
    "\n",
    "FastAPI is a modern, high-performance web framework for building APIs with Python. It is designed to be easy to use, fast to develop with, and highly efficient. In this tutorial, we will walk through the process of creating a simple FastAPI application, explaining the theory and concepts along the way.\n",
    "\n",
    "\n",
    "## Table of Contents\n",
    "1. **What is an API?**\n",
    "2. **What is FastAPI?**\n",
    "3. **Why Use FastAPI?**\n",
    "4. **Setting Up Your Environment**\n",
    "5. **Creating a FastAPI Application**\n",
    "   - Importing FastAPI\n",
    "   - Creating an Instance of FastAPI\n",
    "   - Defining Route Handlers\n",
    "   - Running the Application\n",
    "6. **Understanding the Code**\n",
    "   - What is an API?\n",
    "   - What is a Route?\n",
    "   - What is a JSON Response?\n",
    "7. **Exploring Automatic Documentation**\n",
    "8. **Key Concepts in FastAPI**\n",
    "   - ASGI Server\n",
    "   - Types of API Methods (GET, POST, PUT, etc.)\n",
    "   - Different Parameters in FastAPI"
   ]
  },
  {
   "cell_type": "code",
   "execution_count": null,
   "metadata": {},
   "outputs": [],
   "source": []
  },
  {
   "cell_type": "markdown",
   "metadata": {
    "vscode": {
     "languageId": "plaintext"
    }
   },
   "source": [
    "# **What is an API?**\n",
    "API stands for Application Programming Interface. An API is a software intermediary that allows two applications to talk to each other. When you use an application on your phone, the application connects to the Internet and sends data to a server. The server then processes the data and sends it back to your phone. The application on your phone then interprets the data and presents it to you in a readable way. \n",
    "\n",
    "An API is like a waiter in a restaurant. The waiter takes your order and sends it to the kitchen. The kitchen then prepares the food and sends it back to the waiter. The waiter then brings the food to you. \n",
    "\n",
    "In the same way, an API takes a request from an application and sends it to a server. The server then processes the request and sends the data back to the application. The application then interprets the data and presents it to the user.\n",
    "\n",
    "<img src=\"../images/api.avif\">"
   ]
  },
  {
   "cell_type": "code",
   "execution_count": null,
   "metadata": {},
   "outputs": [],
   "source": []
  },
  {
   "cell_type": "markdown",
   "metadata": {},
   "source": [
    "## 1. What is FastAPI?\n",
    "\n",
    "FastAPI is a Python web framework designed for building APIs (Application Programming Interfaces). It is built on top of **Starlette** (for web handling) and **Pydantic** (for data validation and serialization). FastAPI is known for its speed, ease of use, and automatic generation of interactive API documentation.\n",
    "\n",
    "Key Features:\n",
    "- **High Performance**: FastAPI is one of the fastest Python web frameworks, thanks to its asynchronous capabilities.\n",
    "- **Automatic Validation**: FastAPI uses Python type hints to validate request data automatically.\n",
    "- **Automatic Documentation**: It generates interactive API documentation using Swagger UI and ReDoc.\n",
    "- **Asynchronous Support**: FastAPI supports asynchronous programming, making it ideal for modern web applications.\n",
    "\n",
    "\n",
    "\n",
    "\n",
    "<img src=\"../images/fastapi.webp\" height=650px width=900px>\n"
   ]
  },
  {
   "cell_type": "markdown",
   "metadata": {},
   "source": [
    "### **Understanding a Layered Web Application Architecture**\n",
    "\n",
    "#### **Introduction**\n",
    "This is the architecture of a modern web application, focusing on how different layers interact to deliver a seamless user experience. We'll use a FastAPI-based application as an example, which includes a presentation layer, application layer, and data layer.\n",
    "\n",
    "### **1. Presentation Layer (UI)**\n",
    "- **Purpose**: This is the user-facing part of the application where users interact with the system.\n",
    "- **Components**:\n",
    "  - **HTML**: The structure of the web pages that users see and interact with.\n",
    "- **Functionality**: \n",
    "  - Renders the user interface.\n",
    "  - Sends user inputs to the application layer for processing.\n",
    "\n",
    "\n",
    "### **2. Application Layer**\n",
    "- **Purpose**: Handles the core logic of the application, processes requests, and returns responses.\n",
    "- **Components**:\n",
    "  - **FastAPI**: A modern Python web framework used to build APIs quickly and efficiently.\n",
    "  - **Routing Logic**: Manages how incoming HTTP requests are directed to the appropriate handlers.\n",
    "  - **Pydantic Model**: Ensures data validation and settings management using Python type annotations.\n",
    "  - **REST API**: Exposes endpoints for clients to interact with the application using standard HTTP methods (GET, POST, etc.).\n",
    "\n",
    "\n",
    "\n",
    "### **3. Data Layer**\n",
    "- **Purpose**: Manages data storage and retrieval.\n",
    "- **Components**:\n",
    "  - **SQLAlchemy ORM**: An Object-Relational Mapping tool that allows interaction with the database using Python objects.\n",
    "  - **ORM Model**: Represents database tables as Python classes.\n",
    "  - **Database**: In this case, MySQL is used as the relational database management system.\n",
    "  - **ORM Session, Engine & Connection**: Manages database connections and sessions, enabling the application to perform CRUD operations.\n",
    "\n",
    "\n",
    "\n",
    "### **4. Key Entities and Interactions**\n",
    "- **Entities**:\n",
    "  - **User**: Represents users of the application.\n",
    "  - **Topic**: Represents topics or categories within the application.\n",
    "  - **Post**: Represents individual posts or content items.\n",
    "  - **Response**: Represents responses or replies to posts.\n",
    "- **Interactions**:\n",
    "  - **HTTP Methods**: \n",
    "    - **GET**: Retrieves data (e.g., fetching a user profile).\n",
    "    - **POST**: Submits data to be processed (e.g., creating a new post).\n",
    "\n",
    "\n",
    "\n",
    "### **5. Application Structure**\n",
    "- **Files**:\n",
    "  - **main.py**: Contains the main application logic and routing.\n",
    "  - **database.py**: Handles database configuration and connection setup.\n",
    "  - **schema.py**: Defines data schemas using Pydantic for request and response validation.\n",
    "  - **model.py**: Contains the SQLAlchemy ORM models that map to database tables.\n",
    "\n",
    "\n",
    "\n",
    "### **6. Workflow**\n",
    "1. **Client Request**: A user interacts with the UI, triggering an HTTP request (e.g., GET or POST).\n",
    "2. **Web Server**: The request is received by the web server, which routes it to the appropriate handler in the application layer.\n",
    "3. **Application Logic**: FastAPI processes the request, validates data using Pydantic, and interacts with the database via SQLAlchemy ORM.\n",
    "4. **Database Interaction**: SQLAlchemy ORM translates Python objects into SQL queries, interacts with the MySQL database, and retrieves or stores data.\n",
    "5. **Response**: The application layer sends a response back to the client, which is then rendered by the presentation layer.\n",
    "\n",
    "---\n",
    "\n",
    "### **7. Benefits of This Architecture**\n",
    "- **Separation of Concerns**: Each layer has a distinct responsibility, making the application easier to manage and scale.\n",
    "- **Data Validation**: Pydantic ensures that data is valid before processing, reducing errors.\n",
    "- **Efficient Database Interaction**: SQLAlchemy ORM simplifies database operations and improves code readability.\n",
    "- **Scalability**: FastAPI's asynchronous capabilities allow the application to handle many requests efficiently.\n"
   ]
  },
  {
   "cell_type": "code",
   "execution_count": null,
   "metadata": {},
   "outputs": [],
   "source": []
  },
  {
   "cell_type": "code",
   "execution_count": null,
   "metadata": {},
   "outputs": [],
   "source": []
  },
  {
   "cell_type": "code",
   "execution_count": null,
   "metadata": {},
   "outputs": [],
   "source": []
  },
  {
   "cell_type": "code",
   "execution_count": null,
   "metadata": {},
   "outputs": [],
   "source": []
  },
  {
   "cell_type": "markdown",
   "metadata": {},
   "source": [
    "## **2. Why Use FastAPI?**\n",
    "\n",
    "Here are some reasons why FastAPI is a great choice for building APIs:\n",
    "- **Developer Productivity**: FastAPI reduces the amount of boilerplate code, allowing developers to focus on writing business logic.\n",
    "- **Type Safety**: By using Python type hints, FastAPI ensures that your API is type-safe, reducing the likelihood of runtime errors.\n",
    "- **Modern Standards**: FastAPI is built on modern Python features like `async` and `await`, making it future-proof.\n",
    "- **Interactive Documentation**: The automatically generated documentation makes it easy to test and share your API."
   ]
  },
  {
   "cell_type": "code",
   "execution_count": null,
   "metadata": {},
   "outputs": [],
   "source": []
  },
  {
   "cell_type": "markdown",
   "metadata": {},
   "source": [
    "## **3. Setting Up Your Environment**\n",
    "\n",
    "Before we start coding, let's set up the environment.\n",
    "\n",
    "### Install FastAPI and Uvicorn\n",
    "FastAPI requires an ASGI server to run. The most common choice is **Uvicorn**, a lightning-fast ASGI server.\n",
    "\n",
    "Run the following commands to install FastAPI and Uvicorn:\n",
    "\n",
    "```bash\n",
    "pip install fastapi uvicorn\n",
    "```"
   ]
  },
  {
   "cell_type": "code",
   "execution_count": null,
   "metadata": {},
   "outputs": [],
   "source": []
  },
  {
   "cell_type": "code",
   "execution_count": null,
   "metadata": {},
   "outputs": [],
   "source": []
  },
  {
   "cell_type": "markdown",
   "metadata": {},
   "source": [
    "## **4. Creating a FastAPI Application**\n",
    "\n",
    "Let's create a simple FastAPI application step by step.\n",
    "\n",
    "### Step 1: Import FastAPI\n",
    "First, import the `FastAPI` class from the `fastapi` module. This class is the core of your application.\n",
    "\n",
    "```python\n",
    "from fastapi import FastAPI\n",
    "```"
   ]
  },
  {
   "cell_type": "code",
   "execution_count": 1,
   "metadata": {},
   "outputs": [],
   "source": [
    "from fastapi import FastAPI"
   ]
  },
  {
   "cell_type": "code",
   "execution_count": 2,
   "metadata": {},
   "outputs": [
    {
     "data": {
      "text/plain": [
       "<fastapi.applications.FastAPI at 0x124c5f610>"
      ]
     },
     "execution_count": 2,
     "metadata": {},
     "output_type": "execute_result"
    }
   ],
   "source": [
    "FastAPI(version=\"01\", title=\"First App\")"
   ]
  },
  {
   "cell_type": "code",
   "execution_count": null,
   "metadata": {},
   "outputs": [],
   "source": []
  },
  {
   "cell_type": "code",
   "execution_count": null,
   "metadata": {},
   "outputs": [],
   "source": []
  },
  {
   "cell_type": "markdown",
   "metadata": {},
   "source": [
    "### Step 2: Create an Instance of FastAPI\n",
    "Next, create an instance of the `FastAPI` class. This instance will be used to define routes and handle requests.\n",
    "\n",
    "```python\n",
    "# Create an instance of the FastAPI class\n",
    "app = FastAPI()\n",
    "```"
   ]
  },
  {
   "cell_type": "code",
   "execution_count": 3,
   "metadata": {},
   "outputs": [],
   "source": [
    "app = FastAPI(version=\"01\", title=\"First App\")"
   ]
  },
  {
   "cell_type": "code",
   "execution_count": 6,
   "metadata": {},
   "outputs": [],
   "source": [
    "# dir(app)"
   ]
  },
  {
   "cell_type": "markdown",
   "metadata": {},
   "source": [
    "### Step 3: Define a Route Handler\n",
    "A **route** is a URL path that your API responds to. For example, the root URL (`/`) is a route. You can define a route handler using the `@app.get()` decorator.\n",
    "\n",
    "```python\n",
    "# Define a route handler for the root URL (\"/\")\n",
    "@app.get(\"/\")\n",
    "def read_root():\n",
    "    # This function, 'read_root', is called when a GET request is made to the root URL.\n",
    "    # It returns a JSON response containing a key-value pair.\n",
    "    return {\"hello\": \"world\"}\n",
    "```\n",
    "\n",
    "> Here, the `read_root` function is a **route handler**. It is called whenever a GET request is made to the root URL (`/`). The function returns a JSON response, which is automatically serialized by FastAPI."
   ]
  },
  {
   "cell_type": "code",
   "execution_count": 7,
   "metadata": {},
   "outputs": [],
   "source": [
    "@app.get(\"/\")\n",
    "def read_root():\n",
    "    return {\"Hello\": \"World\"}"
   ]
  },
  {
   "cell_type": "code",
   "execution_count": 10,
   "metadata": {},
   "outputs": [],
   "source": [
    "# $uvicorn app --reload"
   ]
  },
  {
   "cell_type": "markdown",
   "metadata": {},
   "source": [
    "\n",
    "\n",
    "\n",
    "\n",
    "\n",
    "### Step 4: Run the Application\n",
    "To run the application, use the following command:\n",
    "\n",
    "```bash\n",
    "uvicorn main:app --reload\n",
    "```\n",
    "\n",
    "- `main`: The name of the Python file (without the `.py` extension).\n",
    "- `app`: The instance of `FastAPI` that we created.\n",
    "- `--reload`: Enables auto-reloading, so the server restarts whenever you make changes to your code.\n",
    "\n",
    "Once the server is running, you can access the API at `http://127.0.0.1:8000/`."
   ]
  },
  {
   "cell_type": "code",
   "execution_count": null,
   "metadata": {},
   "outputs": [],
   "source": []
  },
  {
   "cell_type": "markdown",
   "metadata": {},
   "source": [
    "## **5. Understanding the Code**\n",
    "\n",
    "### What is an API?\n",
    "An **API (Application Programming Interface)** is a set of rules and protocols that allows one software application to interact with another. In this case, our FastAPI application is an API that responds to HTTP requests.\n",
    "\n",
    "### What is a Route?\n",
    "A **route** is a URL path that your API responds to. For example, the root URL (`/`) is a route. Routes are defined using decorators like `@app.get()`.\n",
    "\n",
    "### What is a JSON Response?\n",
    "**JSON (JavaScript Object Notation)** is a lightweight data format used for exchanging data between a client and a server. In our example, the route handler returns a JSON response: `{\"hello\": \"world\"}`."
   ]
  },
  {
   "cell_type": "code",
   "execution_count": null,
   "metadata": {},
   "outputs": [],
   "source": []
  },
  {
   "cell_type": "markdown",
   "metadata": {},
   "source": [
    "## **6. Exploring Automatic Documentation**\n",
    "\n",
    "One of the standout features of FastAPI is its automatic generation of interactive API documentation. FastAPI uses **Swagger UI** and **ReDoc** to provide this functionality.\n",
    "\n",
    "- **Swagger UI**: Visit `http://127.0.0.1:8000/docs` to see the Swagger UI documentation. You can test your API endpoints directly from the browser.\n",
    "- **ReDoc**: Visit `http://127.0.0.1:8000/redoc` to see the ReDoc documentation, which provides a more readable format."
   ]
  },
  {
   "cell_type": "code",
   "execution_count": null,
   "metadata": {},
   "outputs": [],
   "source": []
  },
  {
   "cell_type": "code",
   "execution_count": null,
   "metadata": {},
   "outputs": [],
   "source": []
  },
  {
   "cell_type": "code",
   "execution_count": null,
   "metadata": {},
   "outputs": [],
   "source": []
  },
  {
   "cell_type": "code",
   "execution_count": null,
   "metadata": {},
   "outputs": [],
   "source": []
  },
  {
   "cell_type": "markdown",
   "metadata": {},
   "source": [
    "## **7. Key Concepts in FastAPI**\n",
    "\n",
    "### ASGI Server\n",
    "FastAPI is built on **ASGI (Asynchronous Server Gateway Interface)**, a modern standard for Python web servers and applications. ASGI allows FastAPI to handle asynchronous requests efficiently, making it highly performant.\n",
    "\n",
    "- **Uvicorn**: The most commonly used ASGI server for FastAPI. It is lightweight, fast, and supports asynchronous programming.\n",
    "- **Why ASGI?**: ASGI enables FastAPI to handle multiple requests concurrently, making it ideal for modern web applications that require high performance and scalability."
   ]
  },
  {
   "cell_type": "code",
   "execution_count": null,
   "metadata": {},
   "outputs": [],
   "source": []
  },
  {
   "cell_type": "code",
   "execution_count": null,
   "metadata": {},
   "outputs": [],
   "source": []
  },
  {
   "cell_type": "markdown",
   "metadata": {
    "vscode": {
     "languageId": "plaintext"
    }
   },
   "source": [
    "\n",
    "### Types of API Methods\n",
    "APIs use HTTP methods to define the type of operation being performed. The most common methods are:\n",
    "\n",
    "1. **GET**: Used to retrieve data from the server. For example, fetching a list of items or a specific item by its ID.\n",
    "   ```python\n",
    "   @app.get(\"/items/{item_id}\")\n",
    "   def read_item(item_id: int):\n",
    "       return {\"item_id\": item_id}\n",
    "   ```\n",
    "\n",
    "2. **POST**: Used to send data to the server to create a new resource. For example, adding a new item to a database.\n",
    "   ```python\n",
    "   @app.post(\"/items/\")\n",
    "   def create_item(item: dict):\n",
    "       return {\"item\": item}\n",
    "   ```\n",
    "\n",
    "3. **PUT**: Used to update an existing resource on the server. For example, modifying an item's details.\n",
    "   ```python\n",
    "   @app.put(\"/items/{item_id}\")\n",
    "   def update_item(item_id: int, item: dict):\n",
    "       return {\"item_id\": item_id, \"updated_item\": item}\n",
    "   ```\n",
    "\n",
    "4. **DELETE**: Used to delete a resource from the server. For example, removing an item from a database.\n",
    "   ```python\n",
    "   @app.delete(\"/items/{item_id}\")\n",
    "   def delete_item(item_id: int):\n",
    "       return {\"message\": f\"Item {item_id} deleted\"}\n",
    "   ```\n"
   ]
  },
  {
   "cell_type": "code",
   "execution_count": null,
   "metadata": {},
   "outputs": [],
   "source": []
  },
  {
   "cell_type": "markdown",
   "metadata": {},
   "source": [
    "### Different Parameters in FastAPI\n",
    "FastAPI supports several types of parameters to handle different types of data in your API:\n",
    "\n",
    "1. **Path Parameters**: These are part of the URL path and are used to identify a specific resource. For example:\n",
    "   ```python\n",
    "   @app.get(\"/items/{item_id}\")\n",
    "   def read_item(item_id: int):\n",
    "       return {\"item_id\": item_id}\n",
    "   ```\n",
    "\n",
    "2. **Query Parameters**: These are optional parameters passed in the URL after a `?`. For example:\n",
    "   ```python\n",
    "   @app.get(\"/items/\")\n",
    "   def read_items(skip: int = 0, limit: int = 10):\n",
    "       return {\"skip\": skip, \"limit\": limit}\n",
    "   ```\n",
    "\n",
    "3. **Request Body**: Used to send data to the server, typically in POST or PUT requests. FastAPI automatically validates and parses the request body using Pydantic models.\n",
    "   ```python\n",
    "   from pydantic import BaseModel\n",
    "\n",
    "   class Item(BaseModel):\n",
    "       name: str\n",
    "       description: str = None\n",
    "       price: float\n",
    "\n",
    "   @app.post(\"/items/\")\n",
    "   def create_item(item: Item):\n",
    "       return {\"item\": item}\n",
    "   ```\n",
    "\n",
    "4. **Header Parameters**: Used to pass metadata in the HTTP headers. For example:\n",
    "   ```python\n",
    "   from fastapi import Header\n",
    "\n",
    "   @app.get(\"/headers/\")\n",
    "   def read_headers(user_agent: str = Header(None)):\n",
    "       return {\"User-Agent\": user_agent}\n",
    "   ```\n",
    "\n",
    "5. **Cookie Parameters**: Used to read data from cookies sent by the client. For example:\n",
    "   ```python\n",
    "   from fastapi import Cookie\n",
    "\n",
    "   @app.get(\"/cookies/\")\n",
    "   def read_cookies(session_id: str = Cookie(None)):\n",
    "       return {\"session_id\": session_id}\n",
    "   ```"
   ]
  },
  {
   "cell_type": "code",
   "execution_count": null,
   "metadata": {},
   "outputs": [],
   "source": []
  },
  {
   "cell_type": "code",
   "execution_count": null,
   "metadata": {},
   "outputs": [],
   "source": []
  },
  {
   "cell_type": "code",
   "execution_count": null,
   "metadata": {},
   "outputs": [],
   "source": []
  },
  {
   "cell_type": "markdown",
   "metadata": {},
   "source": [
    "## 8. Conclusion\n",
    "\n",
    "**FastAPI is a powerful and modern framework that makes it easy to build APIs with Python. With its automatic validation, serialization, and documentation, FastAPI is an excellent choice for both beginners and experienced developers.**"
   ]
  },
  {
   "cell_type": "code",
   "execution_count": null,
   "metadata": {},
   "outputs": [],
   "source": []
  }
 ],
 "metadata": {
  "kernelspec": {
   "display_name": "myvenv",
   "language": "python",
   "name": "python3"
  },
  "language_info": {
   "codemirror_mode": {
    "name": "ipython",
    "version": 3
   },
   "file_extension": ".py",
   "mimetype": "text/x-python",
   "name": "python",
   "nbconvert_exporter": "python",
   "pygments_lexer": "ipython3",
   "version": "3.11.7"
  }
 },
 "nbformat": 4,
 "nbformat_minor": 2
}
