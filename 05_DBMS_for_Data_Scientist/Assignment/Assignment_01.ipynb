{
 "cells": [
  {
   "cell_type": "markdown",
   "metadata": {},
   "source": [
    "# **Assignment: Movie Rental Database**"
   ]
  },
  {
   "cell_type": "markdown",
   "metadata": {},
   "source": [
    "**Dataset Overview:**  \n",
    "The Movie Rental database consists of 15 tables that model a Movie rental business. The tables included are:\n",
    "\n",
    "1. **actor** – Stores actors' data, including first name and last name.\n",
    "2. **film** – Stores film data such as title, release year, length, rating, etc.\n",
    "3. **film_actor** – Stores the relationships between films and actors.\n",
    "4. **category** – Stores film categories data.\n",
    "5. **film_category** – Stores the relationships between films and categories.\n",
    "6. **store** – Contains store data, including manager staff and address.\n",
    "7. **inventory** – Stores inventory data for films.\n",
    "8. **rental** – Stores rental transactions.\n",
    "9. **payment** – Stores customer payment records.\n",
    "10. **staff** – Stores staff information.\n",
    "11. **customer** – Stores customer information.\n",
    "12. **address** – Stores address data for staff and customers.\n",
    "13. **city** – Stores city names.\n",
    "14. **country** – Stores country names.\n",
    "15. **...** (any additional tables if present)\n",
    "\n",
    "**Working with the Dataset:**  \n",
    "- Ensure that the dataset directory containing these 15 tables is available in the same working directory as your Jupyter Notebook.\n",
    "- Before starting the assignment, read all the data from the dataset directory to load the tables into your SQL environment. This can typically be done by using a database client or a script that reads the CSV files (if provided as CSVs) and imports them into your database.\n",
    "- For example, if the dataset is provided in CSV format for each table, you might use SQL commands or a data import tool to load each CSV into the corresponding table in your database.\n",
    "- Verify that all 15 tables are correctly loaded and accessible before attempting to write queries.\n",
    "\n",
    "<img src=\"dataset/ERD.png\" height=600px width=600px>"
   ]
  },
  {
   "cell_type": "code",
   "execution_count": null,
   "metadata": {},
   "outputs": [],
   "source": []
  },
  {
   "cell_type": "markdown",
   "metadata": {},
   "source": [
    "**Question no 1:** The marketing team wants to find all actors whose last names start with the letter 'A'. Retrieve the first and last names of these actors.\n",
    "\n",
    "**Question no 2:** A film festival organizer needs to prepare a list of films along with all the actors who starred in them. Create a list that includes the title of each film and the corresponding actors' first and last names.\n",
    "\n",
    "**Question no 3:** The business analyst is studying genre popularity. For each film category, determine how many films belong to that category.\n",
    "\n",
    "**Question no 4:** The inventory manager wants an overview of film availability. For each store, report the number of films currently in inventory.\n",
    "\n",
    "**Question no 5:** A customer service representative is tasked with identifying all customers who have rented a film from the 'Comedy' category at least once. List those customers' details.\n",
    "\n",
    "**Question no 6:** The head of rentals needs to know the popularity of each film. For every film, report the title along with the total number of times it has been rented.\n",
    "\n",
    "**Question no 7:** The operations team is analyzing rental trends. They require a list of all rentals that occurred in the year 2005, including the rental date and the title of the rented film.\n",
    "\n",
    "**Question no 8:** A category manager wants to understand rental behaviors by genre. Calculate the average rental duration in days for films in each category.\n",
    "\n",
    "**Question no 9:** The content team wants a comprehensive view of film genres. Retrieve a list of films along with all the categories (genres) they belong to, noting that films may span multiple genres.\n",
    "\n",
    "**Question no 10:** A quality assurance analyst needs to identify films that have never been rented. Provide a list of such films.\n",
    "\n",
    "**Question no 11:** The finance department is interested in customer spending. For each customer, list their first and last name along with the total amount they have paid.\n",
    "\n",
    "**Question no 12:** The casting director wants to recognize prolific actors. Identify actors who have appeared in more than 10 films, listing their names and the count of films they've acted in.\n",
    "\n",
    "**Question no 13:** The board of directors is reviewing film performance. For each film, report its title, how many times it has been rented, and the total revenue generated from those rentals.\n",
    "\n",
    "**Question no 14:** The data scientist is exploring film ratings. Identify films that share the same rating as at least one other film.\n",
    "\n",
    "**Question no 15:** The customer relations manager seeks to reward loyal customers. Determine which customer(s) have made the highest number of rentals.\n",
    "\n",
    "**Question no 16:** The HR department wants to map out staff locations. For each staff member, provide their first and last name along with the city and country of their store location.\n",
    "\n",
    "**Question no 17:** The pricing team is investigating how film category influences rental rates. For each film category, list the category name and the average rental rate for films in that category.\n",
    "\n",
    "**Question no 18:** The analytics team wants to rank films by popularity. For each film, list the title and assign a rank based on the number of times it has been rented, with the most rented film ranked first.\n",
    "\n",
    "**Question no 19:** The regional manager is analyzing store performance. Identify the store that generated the highest total payment amount and report its details.\n",
    "\n",
    "**Question no 20:** The business strategy group is interested in customer engagement across films. List all films that have been rented by every customer at least once."
   ]
  },
  {
   "cell_type": "code",
   "execution_count": null,
   "metadata": {},
   "outputs": [],
   "source": []
  },
  {
   "cell_type": "code",
   "execution_count": null,
   "metadata": {},
   "outputs": [],
   "source": []
  },
  {
   "cell_type": "code",
   "execution_count": null,
   "metadata": {},
   "outputs": [],
   "source": []
  }
 ],
 "metadata": {
  "kernelspec": {
   "display_name": "myvenv",
   "language": "python",
   "name": "python3"
  },
  "language_info": {
   "codemirror_mode": {
    "name": "ipython",
    "version": 3
   },
   "file_extension": ".py",
   "mimetype": "text/x-python",
   "name": "python",
   "nbconvert_exporter": "python",
   "pygments_lexer": "ipython3",
   "version": "3.11.7"
  }
 },
 "nbformat": 4,
 "nbformat_minor": 2
}
