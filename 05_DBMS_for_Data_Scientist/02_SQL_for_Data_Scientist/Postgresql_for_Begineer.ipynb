{
 "cells": [
  {
   "cell_type": "markdown",
   "metadata": {},
   "source": [
    "# **PostgreSQL for Begineer**\n",
    "\n",
    "## **Part - 1: Overview**\n",
    "- How to set up a database in PostgreSQL using pgAdmin.\n",
    "- How to create tables (schema design).\n",
    "- How to import a CSV dataset into PostgreSQL (via pgAdmin).\n",
    "- How to write basic SQL queries (SELECT, WHERE, ORDER BY, GROUP BY, etc.).\n",
    "\n",
    "## **Part - 2: Basic Queries**\n",
    "- Basic SELECT Queries\n",
    "- Filtering Results with WHERE\n",
    "- Sorting and Limiting Results\n",
    "- Aggregating Data with GROUP BY and Aggregates\n",
    "- Using Aliases and Calculated Columns\n",
    "- Subqueries\n",
    "- Window Functions\n",
    "- Common Table Expressions (CTEs)\n",
    "- Intermediate Queries and Techniques\n",
    "\n",
    "## **Part - 3: Integrating PostgreSQL with Python**\n",
    "- Introduction\n",
    "- Prerequisites\n",
    "- Setting Up PostgreSQL Database\n",
    "- Creating the Iris Table and Importing Data\n",
    "- Python Environment Setup\n",
    "- Connecting Python to PostgreSQL\n",
    "- CRUD Operations Using Python\n",
    "    - Create\n",
    "    - Read\n",
    "    - Update\n",
    "    - Delete"
   ]
  },
  {
   "cell_type": "code",
   "execution_count": null,
   "metadata": {},
   "outputs": [],
   "source": []
  },
  {
   "cell_type": "code",
   "execution_count": null,
   "metadata": {},
   "outputs": [],
   "source": []
  },
  {
   "cell_type": "code",
   "execution_count": null,
   "metadata": {},
   "outputs": [],
   "source": []
  },
  {
   "cell_type": "code",
   "execution_count": null,
   "metadata": {},
   "outputs": [],
   "source": []
  },
  {
   "cell_type": "code",
   "execution_count": null,
   "metadata": {},
   "outputs": [],
   "source": []
  },
  {
   "cell_type": "code",
   "execution_count": null,
   "metadata": {},
   "outputs": [],
   "source": []
  },
  {
   "cell_type": "code",
   "execution_count": null,
   "metadata": {},
   "outputs": [],
   "source": []
  },
  {
   "cell_type": "code",
   "execution_count": null,
   "metadata": {},
   "outputs": [],
   "source": []
  }
 ],
 "metadata": {
  "kernelspec": {
   "display_name": "myvenv",
   "language": "python",
   "name": "python3"
  },
  "language_info": {
   "codemirror_mode": {
    "name": "ipython",
    "version": 3
   },
   "file_extension": ".py",
   "mimetype": "text/x-python",
   "name": "python",
   "nbconvert_exporter": "python",
   "pygments_lexer": "ipython3",
   "version": "3.11.7"
  }
 },
 "nbformat": 4,
 "nbformat_minor": 2
}
