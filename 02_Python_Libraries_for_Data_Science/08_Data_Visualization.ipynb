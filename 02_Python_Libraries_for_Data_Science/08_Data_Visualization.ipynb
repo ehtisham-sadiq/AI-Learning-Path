{
 "cells": [
  {
   "cell_type": "markdown",
   "id": "fff56b76",
   "metadata": {},
   "source": [
    "---   \n",
    "<h1 align=\"center\">Data Visualization Part 3</h1>\n",
    "\n",
    "---\n",
    "<h3><div align=\"right\">Ehtisham Sadiq</div></h3>"
   ]
  },
  {
   "cell_type": "markdown",
   "id": "117c331e",
   "metadata": {},
   "source": [
    "## _Data Visualization with Matplotlib_\n",
    "\n",
    "**Read Documentation for details:** \n",
    "https://matplotlib.org/stable/users/index.html"
   ]
  },
  {
   "cell_type": "markdown",
   "id": "10a00218",
   "metadata": {},
   "source": [
    "<img align=\"left\" width=\"500\" height=\"500\"  src=\"images/intromatlab.png\"  >\n",
    "<img align=\"right\" width=\"400\" height=\"500\"  src=\"images/matplotlibadvantages.png\"  >"
   ]
  },
  {
   "cell_type": "code",
   "execution_count": null,
   "id": "0677fbfc",
   "metadata": {},
   "outputs": [],
   "source": []
  },
  {
   "cell_type": "markdown",
   "id": "e42b820a",
   "metadata": {},
   "source": [
    "## Learning agenda of this notebook\n",
    "1. Recap:\n",
    "    - Anatomy of a Figure\n",
    "    - Line, Bar and Scatter Chart\n",
    "2. Pie Chart\n",
    "3. Histogram"
   ]
  },
  {
   "cell_type": "code",
   "execution_count": null,
   "id": "dab15048",
   "metadata": {},
   "outputs": [],
   "source": []
  },
  {
   "cell_type": "code",
   "execution_count": null,
   "id": "7e5d568a",
   "metadata": {},
   "outputs": [],
   "source": []
  },
  {
   "cell_type": "code",
   "execution_count": null,
   "id": "312404c8",
   "metadata": {},
   "outputs": [],
   "source": []
  },
  {
   "cell_type": "code",
   "execution_count": null,
   "id": "d533666d",
   "metadata": {},
   "outputs": [],
   "source": []
  },
  {
   "cell_type": "markdown",
   "id": "e6e9f900",
   "metadata": {},
   "source": [
    "## 1. Recap"
   ]
  },
  {
   "cell_type": "markdown",
   "id": "f702a78d",
   "metadata": {},
   "source": [
    "### a. Anatomy of a Figure\n",
    "<img align=\"center\" width=\"700\" height=\"500\"  src=\"images/anotomyoffig.png\"  >"
   ]
  },
  {
   "cell_type": "code",
   "execution_count": null,
   "id": "fc4e270c",
   "metadata": {},
   "outputs": [],
   "source": []
  },
  {
   "cell_type": "code",
   "execution_count": null,
   "id": "cff5e2a4",
   "metadata": {},
   "outputs": [],
   "source": []
  },
  {
   "cell_type": "markdown",
   "id": "f4696238",
   "metadata": {},
   "source": [
    "### b. Line Chart\n",
    "<img align=\"center\" width=\"700\" height=\"500\"  src=\"images/linechart.png\"  >"
   ]
  },
  {
   "cell_type": "code",
   "execution_count": null,
   "id": "1a4249da",
   "metadata": {},
   "outputs": [],
   "source": []
  },
  {
   "cell_type": "code",
   "execution_count": null,
   "id": "f58056a2",
   "metadata": {},
   "outputs": [],
   "source": []
  },
  {
   "cell_type": "code",
   "execution_count": null,
   "id": "9eb21221",
   "metadata": {},
   "outputs": [],
   "source": []
  },
  {
   "cell_type": "code",
   "execution_count": null,
   "id": "f94ece7b",
   "metadata": {},
   "outputs": [],
   "source": []
  },
  {
   "cell_type": "markdown",
   "id": "1d4c5c57",
   "metadata": {},
   "source": [
    "### c. Bar Chart\n",
    "<img align=\"left\" width=\"450\" height=\"500\"  src=\"images/vbar.png\"  >\n",
    "<img align=\"right\" width=\"450\" height=\"500\"  src=\"images/hbar.png\"  >"
   ]
  },
  {
   "cell_type": "code",
   "execution_count": null,
   "id": "3698d97a",
   "metadata": {},
   "outputs": [],
   "source": []
  },
  {
   "cell_type": "code",
   "execution_count": null,
   "id": "37376719",
   "metadata": {},
   "outputs": [],
   "source": []
  },
  {
   "cell_type": "code",
   "execution_count": null,
   "id": "ab8c4bde",
   "metadata": {},
   "outputs": [],
   "source": []
  },
  {
   "cell_type": "code",
   "execution_count": null,
   "id": "56e72710",
   "metadata": {},
   "outputs": [],
   "source": []
  },
  {
   "cell_type": "code",
   "execution_count": null,
   "id": "2d6b49c1",
   "metadata": {},
   "outputs": [],
   "source": []
  },
  {
   "cell_type": "markdown",
   "id": "f8da69b3",
   "metadata": {},
   "source": [
    "### d. Scatter Chart\n",
    "<img align=\"center\" width=\"700\" height=\"500\"  src=\"images/scatterchart.png\"  >"
   ]
  },
  {
   "cell_type": "code",
   "execution_count": null,
   "id": "edd37047",
   "metadata": {},
   "outputs": [],
   "source": []
  },
  {
   "cell_type": "code",
   "execution_count": null,
   "id": "6e80e9d6",
   "metadata": {},
   "outputs": [],
   "source": []
  },
  {
   "cell_type": "code",
   "execution_count": null,
   "id": "3cc3ac36",
   "metadata": {},
   "outputs": [],
   "source": []
  },
  {
   "cell_type": "markdown",
   "id": "dfd1b1d8",
   "metadata": {},
   "source": [
    "To begin, let's install the Matplotlib library. We'll use the `matplotlib.pyplot` module for basic plots like line & bar charts. It is often imported with the alias `plt`. "
   ]
  },
  {
   "cell_type": "code",
   "execution_count": null,
   "id": "7e6f955f",
   "metadata": {},
   "outputs": [],
   "source": [
    "# To install this library in Jupyter notebook\n",
    "import sys\n",
    "#!{sys.executable} -m pip install --upgrade pip\n",
    "!{sys.executable} -m pip install matplotlib --quiet"
   ]
  },
  {
   "cell_type": "code",
   "execution_count": null,
   "id": "e99b39c5",
   "metadata": {},
   "outputs": [],
   "source": [
    "import matplotlib\n",
    "matplotlib.__version__ , matplotlib.__path__"
   ]
  },
  {
   "cell_type": "code",
   "execution_count": null,
   "id": "475db255",
   "metadata": {},
   "outputs": [],
   "source": []
  },
  {
   "cell_type": "code",
   "execution_count": null,
   "id": "57a9a8b5",
   "metadata": {},
   "outputs": [],
   "source": []
  },
  {
   "cell_type": "code",
   "execution_count": null,
   "id": "4e12ef97",
   "metadata": {},
   "outputs": [],
   "source": []
  },
  {
   "cell_type": "code",
   "execution_count": null,
   "id": "8db10e17",
   "metadata": {},
   "outputs": [],
   "source": []
  },
  {
   "cell_type": "markdown",
   "id": "0761b3f3",
   "metadata": {},
   "source": [
    "## 2. Pie Chart\n",
    "<img align=\"right\" width=\"400\" height=\"400\"  src=\"images/piechart1.png\"  >\n",
    "\n",
    "- A pie chart is best used when trying to work out the composition of something. If you have categorical data then using a pie chart would work really well as each slice can represent a different category. \n",
    "- Pie charts are often used to highlight the proportion of categorical data in relation to the overall value of a dataset. Pie charts are shaped like a pie, and each category that takes up a part of the pie is shaped like a slice. The larger the slice, the greater the proportion of the overall values it represents.\n",
    "\n",
    "- Like with other plot types, the basic function in Matplotlib to plot a pie chart is `pie()`. Below are some of the important parameters we may need:\n",
    "\n",
    "  - `x`: The list of data we want to present for each Wedge.\n",
    "  - `labels`: A sequence of string that provides labels for each wedge.\n",
    "  - `colors`: Set as None or as a list of colors that are the same length as x.\n",
    "  - `autopct`: Set as none or as a string to label wedges with their numeric values. The label will be placed inside the wedge.\n",
    "  - `explode`: Set as None or as a list of values that are the same length as x. Each item in this list indicates how far each wedge deviates from the center of the circle\n",
    "  - `shadow`: Set as True or False. the default values is False. Setting true adds a shadow effect.\n",
    "  - `counterclock`: Set as True or False. The default value is True. Used to specify the direction of the fractions."
   ]
  },
  {
   "cell_type": "code",
   "execution_count": null,
   "id": "168cb738",
   "metadata": {},
   "outputs": [],
   "source": []
  },
  {
   "cell_type": "code",
   "execution_count": null,
   "id": "5706d951",
   "metadata": {},
   "outputs": [],
   "source": []
  },
  {
   "cell_type": "code",
   "execution_count": null,
   "id": "1b7ae504",
   "metadata": {},
   "outputs": [],
   "source": []
  },
  {
   "cell_type": "code",
   "execution_count": null,
   "id": "dfe546c8",
   "metadata": {},
   "outputs": [],
   "source": []
  },
  {
   "cell_type": "code",
   "execution_count": null,
   "id": "4ab261c6",
   "metadata": {},
   "outputs": [],
   "source": []
  },
  {
   "cell_type": "code",
   "execution_count": null,
   "id": "7dad6f94",
   "metadata": {},
   "outputs": [],
   "source": []
  },
  {
   "cell_type": "markdown",
   "id": "a8ce9fd8",
   "metadata": {},
   "source": [
    "### a. Example 1 (A Basic Pie Chart):"
   ]
  },
  {
   "cell_type": "code",
   "execution_count": null,
   "id": "f3672d02",
   "metadata": {},
   "outputs": [],
   "source": [
    "import matplotlib.pyplot as plt\n",
    "from matplotlib import pyplot as plt\n",
    "\n",
    "# Create figure and axes objects\n",
    "fig = plt.figure()\n",
    "ax = fig.add_subplot()\n",
    "\n",
    "# Data for the pie plot\n",
    "slices = [50, 150, 300 ]\n",
    "\n",
    "labels = ['One', 'Two', 'Three']\n",
    "# Create a pie chart\n",
    "ax.pie(x=slices, labels=labels)\n",
    "\n",
    "\n",
    "# add title\n",
    "plt.title(\"A Pie Chart\")\n",
    "# show plot\n",
    "plt.show()"
   ]
  },
  {
   "cell_type": "code",
   "execution_count": null,
   "id": "1741defc",
   "metadata": {},
   "outputs": [],
   "source": []
  },
  {
   "cell_type": "code",
   "execution_count": null,
   "id": "311cae55",
   "metadata": {},
   "outputs": [],
   "source": []
  },
  {
   "cell_type": "code",
   "execution_count": null,
   "id": "c735c774",
   "metadata": {},
   "outputs": [],
   "source": []
  },
  {
   "cell_type": "code",
   "execution_count": null,
   "id": "c5e666ba",
   "metadata": {},
   "outputs": [],
   "source": []
  },
  {
   "cell_type": "code",
   "execution_count": null,
   "id": "116a3906",
   "metadata": {},
   "outputs": [],
   "source": []
  },
  {
   "cell_type": "code",
   "execution_count": null,
   "id": "0171e7cb",
   "metadata": {},
   "outputs": [],
   "source": []
  },
  {
   "cell_type": "code",
   "execution_count": null,
   "id": "e8390b35",
   "metadata": {},
   "outputs": [],
   "source": []
  },
  {
   "cell_type": "code",
   "execution_count": null,
   "id": "96b40d8b",
   "metadata": {},
   "outputs": [],
   "source": []
  },
  {
   "cell_type": "markdown",
   "id": "f3c2d31f",
   "metadata": {},
   "source": [
    "### b. Example 2 (Pie Chart Showing Student Counts in Faculty of Computing and IT at PU):"
   ]
  },
  {
   "cell_type": "code",
   "execution_count": null,
   "id": "377421fa",
   "metadata": {},
   "outputs": [],
   "source": [
    "import matplotlib.pyplot as plt\n",
    "from matplotlib import pyplot as plt\n",
    "\n",
    "# Create figure and axes objects\n",
    "fig = plt.figure()\n",
    "ax = fig.add_subplot()\n",
    "\n",
    "\n",
    "\n",
    "# Data for the pie plot\n",
    "std_count = [130, 550, 250, 400]\n",
    "depts = [\"DS\", \"CS\", \"SE\", \"IT\"]\n",
    "explode = [0.2, 0, 0, 0]\n",
    "colors = ['#008fd5', '#fc4f30', '#e5ae37', '#6d904f']\n",
    "# Create a pie chart\n",
    "ax.pie(x=std_count, labels=depts, autopct='%.1f%%', colors=colors, explode=explode, shadow=True, startangle=190)\n",
    "\n",
    "\n",
    "# add title\n",
    "plt.title(\"Students Count in Faculty of IT\")\n",
    "# show plot\n",
    "plt.show()\n",
    "\n",
    "#colors = ['blue', 'red', 'yellow', 'green']\n",
    "#colors = ['#008fd5', '#fc4f30', '#e5ae37', '#6d904f']"
   ]
  },
  {
   "cell_type": "code",
   "execution_count": null,
   "id": "038be40b",
   "metadata": {},
   "outputs": [],
   "source": []
  },
  {
   "cell_type": "code",
   "execution_count": null,
   "id": "114ae32a",
   "metadata": {},
   "outputs": [],
   "source": []
  },
  {
   "cell_type": "code",
   "execution_count": null,
   "id": "88154b1b",
   "metadata": {},
   "outputs": [],
   "source": []
  },
  {
   "cell_type": "code",
   "execution_count": null,
   "id": "6ebe74b9",
   "metadata": {},
   "outputs": [],
   "source": []
  },
  {
   "cell_type": "code",
   "execution_count": null,
   "id": "bc17da60",
   "metadata": {},
   "outputs": [],
   "source": []
  },
  {
   "cell_type": "markdown",
   "id": "29015408",
   "metadata": {},
   "source": [
    "### c. Example 3 (Pie Chart Showing Popularity of Programming Languages):"
   ]
  },
  {
   "cell_type": "code",
   "execution_count": null,
   "id": "4697e3cd",
   "metadata": {},
   "outputs": [],
   "source": [
    "import pandas as pd\n",
    "df = pd.read_csv('datasets/so_survey_subset.csv')\n",
    "df.head()"
   ]
  },
  {
   "cell_type": "code",
   "execution_count": null,
   "id": "c0453c09",
   "metadata": {},
   "outputs": [],
   "source": []
  },
  {
   "cell_type": "code",
   "execution_count": null,
   "id": "d0c0d519",
   "metadata": {},
   "outputs": [],
   "source": []
  },
  {
   "cell_type": "code",
   "execution_count": null,
   "id": "8e267a45",
   "metadata": {},
   "outputs": [],
   "source": []
  },
  {
   "cell_type": "code",
   "execution_count": null,
   "id": "58d70c10",
   "metadata": {},
   "outputs": [],
   "source": [
    "import matplotlib.pyplot as plt\n",
    "from matplotlib import pyplot as plt\n",
    "\n",
    "# Create figure and axes objects\n",
    "fig = plt.figure()\n",
    "ax = fig.add_subplot()\n",
    "\n",
    "# Data for the pie plot\n",
    "languages = ['HTML/CSS', 'C', 'C++', 'C#', 'Python', 'SQL', 'Java', 'R', 'Bash/Shell/PowerShell', 'JavaScript',\n",
    "             'Ruby', 'TypeScript', 'PHP', 'VBA', 'Go']\n",
    "popularity = [32242, 7885, 9569, 16606, 20013, 28946, 19216, 2757, 19802, 35773, 4685, 12532,\n",
    "              4469, 12619, 4560]\n",
    "\n",
    "\n",
    "# Create a pie chart\n",
    "ax.pie(x=popularity, labels=languages)\n",
    "\n",
    "# add title\n",
    "plt.title(\"Popularity of Programming Languages\")\n",
    "\n",
    "# show plot\n",
    "plt.show()"
   ]
  },
  {
   "cell_type": "code",
   "execution_count": null,
   "id": "cf9a211a",
   "metadata": {},
   "outputs": [],
   "source": []
  },
  {
   "cell_type": "code",
   "execution_count": null,
   "id": "f9b40b25",
   "metadata": {},
   "outputs": [],
   "source": []
  },
  {
   "cell_type": "code",
   "execution_count": null,
   "id": "a021b0ad",
   "metadata": {},
   "outputs": [],
   "source": []
  },
  {
   "cell_type": "code",
   "execution_count": null,
   "id": "e9c47104",
   "metadata": {},
   "outputs": [],
   "source": []
  },
  {
   "cell_type": "code",
   "execution_count": null,
   "id": "44a3e751",
   "metadata": {},
   "outputs": [],
   "source": []
  },
  {
   "cell_type": "markdown",
   "id": "08c30f2d",
   "metadata": {},
   "source": [
    "### 3. Plotting Histogram\n",
    "<img align=\"left\" width=\"475\" height=\"500\"  src=\"images/mybargraph.png\"  >\n",
    "<img align=\"right\" width=\"475\" height=\"500\"  src=\"images/myhistogram.png\"  >\n",
    "<br><br><br><br><br><br><br><br><br><br><br><br><br><br><br><br><br><br>\n",
    "\n",
    "The histogram is an important graph in statistics and data analysis. It can be used to help people quickly understand the distribution of data. In order to draw a histogram, we follow the steps outlined below:\n",
    "- Step 1: Create appropriate number of bins that should cover the entire range of data.\n",
    "- Step 2: Place the data values into their corresponding bins.\n",
    "- Step 3: Count how many values fall into each different bin.\n",
    "- Step 4: Draw a bar for each bin, where the height of the bar represent the data points that resides in that bin.\n",
    "\n",
    "\n",
    "The function in Matplotlib that we can use to draw a histogram is `hist()`. Below are some of the important parameters that we may need:\n",
    "\n",
    "- `x`: Our input values, either a single list/array or multiple sequences of arrays.\n",
    "- `bins`: If bins is set with an integer, it will define the number of equal-width bins within a range. If bins is set with a sequence, it will define the bin edges, including the left edge of the first bin and the right edge of the last bin.\n",
    "- `histtype`: Sets the style of the histogram. The default value is bar. step generates a line plot that is unfilled by default. stepfilled generates a line plot that is filled by default.\n",
    "- `density`: Sets True or False. The default is set to False. If True, the histogram will be normalized to form a probability density.\n",
    "- `cumulative`: Sets True or -1. If True, then a histogram is computed where each bin gives the count in that bin plus all bins for smaller values."
   ]
  },
  {
   "cell_type": "markdown",
   "id": "392429de",
   "metadata": {},
   "source": [
    "### A Hello World"
   ]
  },
  {
   "cell_type": "code",
   "execution_count": null,
   "id": "6d6517b2",
   "metadata": {},
   "outputs": [],
   "source": [
    "fig, ax = plt.subplots()\n",
    "\n",
    "# Data for the histogram plot\n",
    "ages = [14.0, 19.0, 28.0, 22.0, 30.0, 28.0, 42.0, 24.0, 23.0, 22.0, 21.0, 28.0, 31.0, 20.0, 26.0, 29.0, 31.0, \n",
    "         38.0, 47.0, 22.0, 23.0, 22.0, 34.0, 22.0, 32.0, 28.0, 21.0, 25.0, 17.0, 35.0, 21.0, 27.0, 44.0, 42.0, \n",
    "         23.0, 30.0, 27.0, 43.0, 62.0, 37.0, 45.0, 20.0, 34.0, 23.0, 18.0, 22.0, 18.0, 37.0, 25.0, 33.0, 31.0, \n",
    "         47.0, 38.0, 27.0, 34.0, 19.0, 42.0, 25.0, 21.0, 24.0, 29.0, 18.0, 42.0, 21.0, 29.0, 36.0, 24.0, 27.0, \n",
    "         32.0, 43.0, 25.0, 20.0, 24.0, 28.0, 22.0, 26.0, 31.0, 26.0, 36.0, 16.0, 25.0, 25.0, 35.0, 32.0, 27.0, \n",
    "         30.0, 43.0, 25.0, 30.0, 21.0, 39.0, 35.0, 37.0, 29.0, 33.0, 24.0, 64.0, 41.0, 26.0, 54.0, 19.0, 49.0, \n",
    "         26.0, 21.0, 31.0, 38.0, 26.0, 28.0, 26.0, 20.0, 24.0, 27.0, 35.0, 32.0, 36.0, 30.0, 34.0, 23.0, 30.0, \n",
    "         39.0, 54.0, 32.0, 25.0, 24.0, 25.0, 21.0, 24.0, 36.0, 47.0, 47.0, 28.0, 40.0, 31.0, 34.0, 39.0, 40.0, \n",
    "         34.0, 36.0, 25.0, 29.0, 35.0, 43.0, 35.0, 32.0, 47.0, 30.0, 28.0, 32.0, 25.0, 31.0, 31.0, 24.0, 20.0, \n",
    "         31.0, 22.0, 28.0, 35.0, 32.0, 29.0, 18.0, 30.0, 29.0, 28.0, 26.0, 23.0, 28.0, 28.0, 27.0, 27.0, 28.0, \n",
    "         56.0, 29.0, 22.0, 40.0, 40.0, 30.0, 43.0, 35.0, 45.0, 29.0, 12.0, 24.0, 33.0, 34.0, 26.0, 33.0, 47.0, \n",
    "         30.0, 30.0, 41.0, 58.0, 46.0, 35.0, 36.0, 36.0, 39.0, 47.0, 59.0, 23.0, 28.0, 38.0, 33.0, 25.0, 25.0, \n",
    "         31.0, 32.0, 36.0, 45.0, 21.0, 29.0, 21.0, 31.0, 21.0, 32.0, 30.0, 17.0, 44.0, 35.0, 33.0, 33.0, 30.0, \n",
    "         24.0, 27.0, 20.0, 27.0, 28.0, 41.0, 20.0, 20.0, 43.0, 23.0, 31.0, 27.0, 24.0, 40.0, 40.0, 33.0, 23.0]\n",
    "\n",
    "#ax.hist(x=ages)\n",
    "\n",
    "#bins = [0,20,25,30,35,40,100]\n",
    "ax.hist(x=ages, bins=15, edgecolor='black', color='green', histtype='stepfilled',orientation='vertical')\n",
    "#ax.hist(x=ages, bins=bins, edgecolor='black', color='green', histtype='bar',orientation='vertical')\n",
    "\n",
    "plt.xlabel(\"Ages\")\n",
    "plt.ylabel('Count')\n",
    "plt.grid(True)\n",
    "plt.show()"
   ]
  },
  {
   "cell_type": "code",
   "execution_count": null,
   "id": "fd880cf9",
   "metadata": {},
   "outputs": [],
   "source": []
  },
  {
   "cell_type": "code",
   "execution_count": null,
   "id": "270f6ad4",
   "metadata": {},
   "outputs": [],
   "source": []
  },
  {
   "cell_type": "code",
   "execution_count": null,
   "id": "4a912bc9",
   "metadata": {},
   "outputs": [],
   "source": []
  },
  {
   "cell_type": "markdown",
   "id": "e9946b82",
   "metadata": {},
   "source": [
    "### a. Example 1 (Histogram showing ages of Respondents of Stack Overflow Survey)"
   ]
  },
  {
   "cell_type": "code",
   "execution_count": null,
   "id": "8f56a00e",
   "metadata": {},
   "outputs": [],
   "source": [
    "import pandas as pd\n",
    "df = pd.read_csv('datasets/so_survey_subset.csv')\n",
    "df"
   ]
  },
  {
   "cell_type": "code",
   "execution_count": null,
   "id": "5dedb2fe",
   "metadata": {},
   "outputs": [],
   "source": []
  },
  {
   "cell_type": "code",
   "execution_count": null,
   "id": "7b32a24c",
   "metadata": {},
   "outputs": [],
   "source": []
  },
  {
   "cell_type": "code",
   "execution_count": null,
   "id": "fddfe8a8",
   "metadata": {},
   "outputs": [],
   "source": [
    "df.info()"
   ]
  },
  {
   "cell_type": "code",
   "execution_count": null,
   "id": "17381257",
   "metadata": {},
   "outputs": [],
   "source": [
    "df.dropna(subset=['Age'], inplace=True)\n",
    "df.info()"
   ]
  },
  {
   "cell_type": "code",
   "execution_count": null,
   "id": "c5b53552",
   "metadata": {},
   "outputs": [],
   "source": [
    "df"
   ]
  },
  {
   "cell_type": "code",
   "execution_count": null,
   "id": "2937e91b",
   "metadata": {},
   "outputs": [],
   "source": [
    "ages_list = list(df['Age'])\n",
    "print(ages_list)"
   ]
  },
  {
   "cell_type": "code",
   "execution_count": null,
   "id": "9c89799c",
   "metadata": {},
   "outputs": [],
   "source": []
  },
  {
   "cell_type": "code",
   "execution_count": null,
   "id": "f90dfb62",
   "metadata": {},
   "outputs": [],
   "source": []
  },
  {
   "cell_type": "code",
   "execution_count": null,
   "id": "6b8ec787",
   "metadata": {},
   "outputs": [],
   "source": [
    "from matplotlib import pyplot as plt\n",
    "\n",
    "# Create figure and axes objects\n",
    "fig = plt.figure()\n",
    "ax = fig.add_subplot()\n",
    "\n",
    "# Data for histogram\n",
    "ages_list = list(df['Age'])\n",
    "bins = [10,20,30,40,50,60,70,80,90,100]\n",
    "\n",
    "#ax.hist(x=ages_list, bins=10, edgecolor='black')\n",
    "ax.hist(x=ages_list, bins=bins, edgecolor='black', color='green', log=True)\n",
    "\n",
    "# add title\n",
    "plt.title(\"Ages of SO Survey Respondents\")\n",
    "\n",
    "plt.xlabel(\"Ages\")\n",
    "plt.ylabel('Total Respondents')\n",
    "plt.grid(True)\n",
    "# show plot\n",
    "plt.show()"
   ]
  },
  {
   "cell_type": "code",
   "execution_count": null,
   "id": "3d95c25f",
   "metadata": {},
   "outputs": [],
   "source": []
  },
  {
   "cell_type": "code",
   "execution_count": null,
   "id": "3d441691",
   "metadata": {},
   "outputs": [],
   "source": []
  },
  {
   "cell_type": "code",
   "execution_count": null,
   "id": "051da3d1",
   "metadata": {},
   "outputs": [],
   "source": []
  },
  {
   "cell_type": "code",
   "execution_count": null,
   "id": "599edf7b",
   "metadata": {},
   "outputs": [],
   "source": []
  },
  {
   "cell_type": "markdown",
   "id": "52d7a4a7",
   "metadata": {},
   "source": [
    "**Enhance the Graph**"
   ]
  },
  {
   "cell_type": "code",
   "execution_count": null,
   "id": "b1c26a2d",
   "metadata": {},
   "outputs": [],
   "source": [
    "from matplotlib import pyplot as plt\n",
    "\n",
    "# Create figure and axes objects\n",
    "fig = plt.figure()\n",
    "ax = fig.add_subplot()\n",
    "\n",
    "# Data for the pie plot\n",
    "ages_list = list(df['Age'])\n",
    "bins = [10,20,30,40,50,60,70,80,90,100]\n",
    "\n",
    "ax.hist(x=ages_list, bins=10, edgecolor='black')\n",
    "#ax.hist(x=ages_list, bins=bins, edgecolor='black', color='green', log=True)\n",
    "\n",
    "# add title\n",
    "plt.title(\"Ages of SO Survey Respondents\")\n",
    "\n",
    "plt.xlabel(\"Ages\")\n",
    "plt.ylabel('Total Respondents')\n",
    "plt.grid(True)\n",
    "# show plot\n",
    "plt.show()"
   ]
  },
  {
   "cell_type": "code",
   "execution_count": null,
   "id": "2563dfaa",
   "metadata": {},
   "outputs": [],
   "source": []
  },
  {
   "cell_type": "code",
   "execution_count": null,
   "id": "31c16dba",
   "metadata": {},
   "outputs": [],
   "source": []
  },
  {
   "cell_type": "code",
   "execution_count": null,
   "id": "efc2ab3e",
   "metadata": {},
   "outputs": [],
   "source": []
  },
  {
   "cell_type": "code",
   "execution_count": null,
   "id": "23d6e0b8",
   "metadata": {},
   "outputs": [],
   "source": []
  },
  {
   "cell_type": "code",
   "execution_count": null,
   "id": "715c36a7",
   "metadata": {},
   "outputs": [],
   "source": []
  },
  {
   "cell_type": "code",
   "execution_count": null,
   "id": "bd87cc44",
   "metadata": {},
   "outputs": [],
   "source": []
  },
  {
   "cell_type": "markdown",
   "id": "a3d10fe4",
   "metadata": {},
   "source": [
    "**Adding additional information to the histogram (a vertical line showing median and mean of the age)**"
   ]
  },
  {
   "cell_type": "code",
   "execution_count": null,
   "id": "9e3da6ca",
   "metadata": {},
   "outputs": [],
   "source": [
    "median_age = df['Age'].median()\n",
    "median_age"
   ]
  },
  {
   "cell_type": "code",
   "execution_count": null,
   "id": "940c4881",
   "metadata": {},
   "outputs": [],
   "source": [
    "mean_age = df['Age'].mean()\n",
    "mean_age"
   ]
  },
  {
   "cell_type": "code",
   "execution_count": null,
   "id": "e6b04223",
   "metadata": {},
   "outputs": [],
   "source": [
    "from matplotlib import pyplot as plt\n",
    "\n",
    "# Create figure and axes objects\n",
    "fig = plt.figure()\n",
    "ax = fig.add_subplot()\n",
    "\n",
    "# Data for the pie plot\n",
    "ages = list(df['Age'])\n",
    "bins=[10, 20, 30, 40, 50, 60, 70, 80, 90, 100]\n",
    "\n",
    "# Create a pie chart\n",
    "ax.hist(x=ages, bins=bins, edgecolor='black', log=True)\n",
    "\n",
    "\n",
    "median_age = df['Age'].median()\n",
    "average_age = df['Age'].mean()\n",
    "\n",
    "\n",
    "plt.axvline(median_age, color='red', lw= 2, label='Median Age')\n",
    "plt.axvline(average_age, color='black', linewidth=2, label='Average Age')\n",
    "plt.legend()\n",
    "\n",
    "# add title\n",
    "plt.title(\"Ages of SO Survey Respondents\")\n",
    "\n",
    "plt.xlabel(\"Ages\")\n",
    "plt.ylabel('Total Respondents')\n",
    "plt.grid(True)\n",
    "# show plot\n",
    "plt.savefig(\"myhistogram.png\")\n",
    "\n",
    "plt.show()"
   ]
  },
  {
   "cell_type": "code",
   "execution_count": null,
   "id": "e7b97b5f",
   "metadata": {},
   "outputs": [],
   "source": []
  },
  {
   "cell_type": "code",
   "execution_count": null,
   "id": "a769f284",
   "metadata": {},
   "outputs": [],
   "source": []
  },
  {
   "cell_type": "code",
   "execution_count": null,
   "id": "bf44269f",
   "metadata": {},
   "outputs": [],
   "source": []
  },
  {
   "cell_type": "markdown",
   "id": "fdfb4b16",
   "metadata": {},
   "source": [
    "### b. Example 2 (Histogram of an Image)\n",
    ">- The histogram of a grey scale image indicate the number of times each grey level occurs in the image\n",
    ">- The histogram of an image gives the the global appearance of the image, i.e., the image appears to be on the darker side or brighter side.\n",
    ">- An image histogram doesn't tell you what the image contains, i.e., is this the image of a face, or areal view of city. So no structural information is available in histyorgram of an image"
   ]
  },
  {
   "cell_type": "code",
   "execution_count": null,
   "id": "dcaceb29",
   "metadata": {},
   "outputs": [],
   "source": [
    "from PIL import Image\n",
    "rgb_img = Image.open(\"datasets/arif1_color.jpg\")\n",
    "rgb_img"
   ]
  },
  {
   "cell_type": "code",
   "execution_count": 15,
   "id": "334bc57a",
   "metadata": {},
   "outputs": [],
   "source": [
    "grey_img = rgb_img.convert('L')"
   ]
  },
  {
   "cell_type": "code",
   "execution_count": null,
   "id": "d5533bc6",
   "metadata": {},
   "outputs": [],
   "source": [
    "grey_img"
   ]
  },
  {
   "cell_type": "code",
   "execution_count": null,
   "id": "d4504ee7",
   "metadata": {},
   "outputs": [],
   "source": [
    "import numpy as np\n",
    "grey_img_array = np.array(grey_img)\n",
    "grey_img_array"
   ]
  },
  {
   "cell_type": "code",
   "execution_count": null,
   "id": "a132df98",
   "metadata": {},
   "outputs": [],
   "source": [
    "grey_img_array.shape"
   ]
  },
  {
   "cell_type": "code",
   "execution_count": null,
   "id": "b571aa29",
   "metadata": {},
   "outputs": [],
   "source": []
  },
  {
   "cell_type": "code",
   "execution_count": null,
   "id": "9fd64c74",
   "metadata": {},
   "outputs": [],
   "source": [
    "from matplotlib import pyplot as plt\n",
    "\n",
    "# Create figure and axes objects\n",
    "fig = plt.figure()\n",
    "ax = fig.add_subplot()\n",
    "\n",
    "bins=[0,50,100,150,200,255]\n",
    "ax.hist(x=grey_img_array, bins=bins)\n",
    "\n",
    "\n",
    "# add title\n",
    "plt.title(\"Histogram of a Grey Scale Image\")\n",
    "\n",
    "plt.xlabel(\"Grey Levels\")\n",
    "plt.ylabel('Pixel Frequency')\n",
    "plt.grid(True)\n",
    "# show plot\n",
    "plt.show()"
   ]
  },
  {
   "cell_type": "code",
   "execution_count": null,
   "id": "b841d5a7",
   "metadata": {},
   "outputs": [],
   "source": []
  }
 ],
 "metadata": {
  "kernelspec": {
   "display_name": "Python 3 (ipykernel)",
   "language": "python",
   "name": "python3"
  },
  "language_info": {
   "codemirror_mode": {
    "name": "ipython",
    "version": 3
   },
   "file_extension": ".py",
   "mimetype": "text/x-python",
   "name": "python",
   "nbconvert_exporter": "python",
   "pygments_lexer": "ipython3",
   "version": "3.9.7"
  }
 },
 "nbformat": 4,
 "nbformat_minor": 5
}
