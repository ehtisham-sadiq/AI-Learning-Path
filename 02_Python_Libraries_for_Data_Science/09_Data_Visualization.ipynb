{
 "cells": [
  {
   "cell_type": "markdown",
   "id": "fff56b76",
   "metadata": {},
   "source": [
    "---   \n",
    "<h1 align=\"center\">Data Visualization Part 4</h1>\n",
    "\n",
    "---\n",
    "<h3><div align=\"right\">Ehtisham Sadiq</div></h3>"
   ]
  },
  {
   "cell_type": "markdown",
   "id": "117c331e",
   "metadata": {},
   "source": [
    "## _Data Visualization with Matplotlib_\n",
    "\n",
    "**Read Documentation for details:** \n",
    "https://matplotlib.org/stable/users/index.html"
   ]
  },
  {
   "cell_type": "markdown",
   "id": "10a00218",
   "metadata": {},
   "source": [
    "<img align=\"left\" width=\"500\" height=\"500\"  src=\"images/intromatlab.png\"  >\n",
    "<img align=\"right\" width=\"400\" height=\"500\"  src=\"images/matplotlibadvantages.png\"  >"
   ]
  },
  {
   "cell_type": "markdown",
   "id": "e42b820a",
   "metadata": {},
   "source": [
    "## Learning agenda of this notebook\n",
    "1. Recap:\n",
    "    - Anatomy of a Figure\n",
    "    - Line, Bar, Scatter, Pie Chart and Histogram\n",
    "2. Box-plot\n",
    "3. Violin plot\n",
    "4. Heatmap\n",
    "5. Subplots"
   ]
  },
  {
   "cell_type": "code",
   "execution_count": null,
   "id": "dab15048",
   "metadata": {},
   "outputs": [],
   "source": []
  },
  {
   "cell_type": "code",
   "execution_count": null,
   "id": "7e5d568a",
   "metadata": {},
   "outputs": [],
   "source": []
  },
  {
   "cell_type": "code",
   "execution_count": null,
   "id": "312404c8",
   "metadata": {},
   "outputs": [],
   "source": []
  },
  {
   "cell_type": "code",
   "execution_count": null,
   "id": "d533666d",
   "metadata": {},
   "outputs": [],
   "source": []
  },
  {
   "cell_type": "markdown",
   "id": "e6e9f900",
   "metadata": {},
   "source": [
    "## 1. Recap"
   ]
  },
  {
   "cell_type": "markdown",
   "id": "f702a78d",
   "metadata": {},
   "source": [
    "### a. Anatomy of a Figure\n",
    "<img align=\"center\" width=\"700\" height=\"500\"  src=\"images/anotomyoffig.png\"  >"
   ]
  },
  {
   "cell_type": "code",
   "execution_count": null,
   "id": "fc4e270c",
   "metadata": {},
   "outputs": [],
   "source": []
  },
  {
   "cell_type": "code",
   "execution_count": null,
   "id": "14b92ceb",
   "metadata": {},
   "outputs": [],
   "source": []
  },
  {
   "cell_type": "code",
   "execution_count": null,
   "id": "cff5e2a4",
   "metadata": {},
   "outputs": [],
   "source": []
  },
  {
   "cell_type": "markdown",
   "id": "f4696238",
   "metadata": {},
   "source": [
    "### b. Line Chart\n",
    "<img align=\"center\" width=\"700\" height=\"500\"  src=\"images/linechart.png\"  >"
   ]
  },
  {
   "cell_type": "code",
   "execution_count": null,
   "id": "e2416980",
   "metadata": {},
   "outputs": [],
   "source": []
  },
  {
   "cell_type": "code",
   "execution_count": null,
   "id": "f58056a2",
   "metadata": {},
   "outputs": [],
   "source": []
  },
  {
   "cell_type": "code",
   "execution_count": null,
   "id": "9eb21221",
   "metadata": {},
   "outputs": [],
   "source": []
  },
  {
   "cell_type": "code",
   "execution_count": null,
   "id": "f94ece7b",
   "metadata": {},
   "outputs": [],
   "source": []
  },
  {
   "cell_type": "markdown",
   "id": "1d4c5c57",
   "metadata": {},
   "source": [
    "### c. Bar Chart\n",
    "<img align=\"left\" width=\"450\" height=\"500\"  src=\"images/vbar.png\"  >\n",
    "<img align=\"right\" width=\"450\" height=\"500\"  src=\"images/hbar.png\"  >"
   ]
  },
  {
   "cell_type": "code",
   "execution_count": null,
   "id": "3698d97a",
   "metadata": {},
   "outputs": [],
   "source": []
  },
  {
   "cell_type": "code",
   "execution_count": null,
   "id": "37376719",
   "metadata": {},
   "outputs": [],
   "source": []
  },
  {
   "cell_type": "code",
   "execution_count": null,
   "id": "ab8c4bde",
   "metadata": {},
   "outputs": [],
   "source": []
  },
  {
   "cell_type": "markdown",
   "id": "4c6597ec",
   "metadata": {},
   "source": [
    "### d. Histogram\n",
    "<img align=\"left\" width=\"575\" height=\"500\"  src=\"images/myhistogram.png\"  >\n",
    "<img align=\"right\" width=\"375\" height=\"500\"  src=\"images/mybargraph.png\"  >"
   ]
  },
  {
   "cell_type": "code",
   "execution_count": null,
   "id": "56e72710",
   "metadata": {},
   "outputs": [],
   "source": []
  },
  {
   "cell_type": "code",
   "execution_count": null,
   "id": "2d6b49c1",
   "metadata": {},
   "outputs": [],
   "source": []
  },
  {
   "cell_type": "markdown",
   "id": "f8da69b3",
   "metadata": {},
   "source": [
    "### e. Scatter Chart\n",
    "<img align=\"center\" width=\"700\" height=\"500\"  src=\"images/scatterchart.png\"  >"
   ]
  },
  {
   "cell_type": "code",
   "execution_count": null,
   "id": "edd37047",
   "metadata": {},
   "outputs": [],
   "source": []
  },
  {
   "cell_type": "markdown",
   "id": "1864709a",
   "metadata": {},
   "source": [
    "### f. Pie Chart\n",
    "<img align=\"center\" width=\"700\" height=\"500\"  src=\"images/mypiechart.png\"  >"
   ]
  },
  {
   "cell_type": "code",
   "execution_count": null,
   "id": "3cc3ac36",
   "metadata": {},
   "outputs": [],
   "source": []
  },
  {
   "cell_type": "code",
   "execution_count": null,
   "id": "3f16cabb",
   "metadata": {},
   "outputs": [],
   "source": []
  },
  {
   "cell_type": "code",
   "execution_count": null,
   "id": "cfeaf6f7",
   "metadata": {},
   "outputs": [],
   "source": []
  },
  {
   "cell_type": "markdown",
   "id": "dfd1b1d8",
   "metadata": {},
   "source": [
    "To begin, let's install the Matplotlib library. We'll use the `matplotlib.pyplot` module for basic plots like line & bar charts. It is often imported with the alias `plt`. "
   ]
  },
  {
   "cell_type": "code",
   "execution_count": null,
   "id": "7e6f955f",
   "metadata": {},
   "outputs": [],
   "source": [
    "# To install this library in Jupyter notebook\n",
    "import sys\n",
    "#!{sys.executable} -m pip install --upgrade pip\n",
    "!{sys.executable} -m pip install matplotlib --quiet"
   ]
  },
  {
   "cell_type": "code",
   "execution_count": null,
   "id": "e99b39c5",
   "metadata": {},
   "outputs": [],
   "source": [
    "import matplotlib\n",
    "matplotlib.__version__ , matplotlib.__path__"
   ]
  },
  {
   "cell_type": "code",
   "execution_count": null,
   "id": "475db255",
   "metadata": {},
   "outputs": [],
   "source": []
  },
  {
   "cell_type": "code",
   "execution_count": null,
   "id": "57a9a8b5",
   "metadata": {},
   "outputs": [],
   "source": []
  },
  {
   "cell_type": "code",
   "execution_count": null,
   "id": "c095194d",
   "metadata": {},
   "outputs": [],
   "source": []
  },
  {
   "cell_type": "code",
   "execution_count": null,
   "id": "25311790",
   "metadata": {},
   "outputs": [],
   "source": []
  },
  {
   "cell_type": "code",
   "execution_count": null,
   "id": "2a95bf29",
   "metadata": {},
   "outputs": [],
   "source": []
  },
  {
   "cell_type": "markdown",
   "id": "22153286",
   "metadata": {},
   "source": [
    "## 2. Boxplot\n",
    "<img align=\"centre\" width=\"700\" height=\"750\"  src=\"images/iqr2.png\"  >\n",
    "\n",
    "\n",
    "<br><br><br><br><br>\n",
    "\n",
    "<img align=\"center\" width=\"500\" height=\"200\"  src=\"images/boxplot.png\"  >"
   ]
  },
  {
   "cell_type": "code",
   "execution_count": null,
   "id": "91d43b10",
   "metadata": {},
   "outputs": [],
   "source": [
    "from matplotlib import pyplot as plt\n",
    "import matplotlib.pyplot as plt\n",
    "import numpy as np\n",
    "\n",
    "\n",
    "mks = np.array([65, 85, 72,45, 87, 68, 61, 80, 77, 73, 66, 200])\n",
    "# Create figure and axes objects\n",
    "fig, ax = plt.subplots()\n",
    "\n",
    "ax.boxplot(x=mks, patch_artist=True)\n",
    "\n",
    "# title and axis labels\n",
    "ax.set_title('Box Plot for Subject Marks')\n",
    "ax.set_xlabel('Data Science')\n",
    "ax.set_ylabel('Marks')\n",
    "\n",
    "\n",
    "# add horizontal grid lines\n",
    "ax.yaxis.grid(True)\n",
    "\n",
    "print(\"Mean: \", np.median(mks))\n",
    "print(\"Min: \", np.max(mks))\n",
    "print(\"Min: \", np.min(mks))\n",
    "q1, q2, q3 = np.quantile(mks,[.25, .5, .75])\n",
    "print(\"Q1:\", q1)\n",
    "print(\"Q2:\", q2)\n",
    "print(\"Q3:\", q3)\n",
    "plt.show()"
   ]
  },
  {
   "cell_type": "code",
   "execution_count": null,
   "id": "cb05f353",
   "metadata": {},
   "outputs": [],
   "source": []
  },
  {
   "cell_type": "code",
   "execution_count": null,
   "id": "9b685534",
   "metadata": {},
   "outputs": [],
   "source": []
  },
  {
   "cell_type": "code",
   "execution_count": null,
   "id": "7639fae7",
   "metadata": {},
   "outputs": [],
   "source": [
    "import pandas as pd\n",
    "df = pd.read_csv(\"datasets/boxplot.csv\")\n",
    "df.head()"
   ]
  },
  {
   "cell_type": "code",
   "execution_count": null,
   "id": "a7b52b64",
   "metadata": {},
   "outputs": [],
   "source": [
    "df.shape"
   ]
  },
  {
   "cell_type": "code",
   "execution_count": null,
   "id": "14418952",
   "metadata": {},
   "outputs": [],
   "source": []
  },
  {
   "cell_type": "code",
   "execution_count": null,
   "id": "92c12b82",
   "metadata": {},
   "outputs": [],
   "source": []
  },
  {
   "cell_type": "code",
   "execution_count": null,
   "id": "7e46565d",
   "metadata": {},
   "outputs": [],
   "source": []
  },
  {
   "cell_type": "code",
   "execution_count": null,
   "id": "69437d09",
   "metadata": {},
   "outputs": [],
   "source": []
  },
  {
   "cell_type": "code",
   "execution_count": null,
   "id": "c65dd449",
   "metadata": {},
   "outputs": [],
   "source": []
  },
  {
   "cell_type": "code",
   "execution_count": null,
   "id": "5125c45e",
   "metadata": {},
   "outputs": [],
   "source": [
    "df.data_science.min()"
   ]
  },
  {
   "cell_type": "code",
   "execution_count": null,
   "id": "4a6e5137",
   "metadata": {},
   "outputs": [],
   "source": [
    "df.data_science.max()"
   ]
  },
  {
   "cell_type": "code",
   "execution_count": null,
   "id": "f9aa6a53",
   "metadata": {},
   "outputs": [],
   "source": [
    "df.data_science.median()"
   ]
  },
  {
   "cell_type": "code",
   "execution_count": null,
   "id": "58159329",
   "metadata": {},
   "outputs": [],
   "source": [
    "# measuring quantiles for Data Science\n",
    "df.data_science.quantile([.25, .5, .75])"
   ]
  },
  {
   "cell_type": "code",
   "execution_count": null,
   "id": "dbb701bb",
   "metadata": {},
   "outputs": [],
   "source": []
  },
  {
   "cell_type": "code",
   "execution_count": null,
   "id": "b19cc51e",
   "metadata": {},
   "outputs": [],
   "source": []
  },
  {
   "cell_type": "code",
   "execution_count": null,
   "id": "75e7895c",
   "metadata": {},
   "outputs": [],
   "source": []
  },
  {
   "cell_type": "code",
   "execution_count": null,
   "id": "d940aec8",
   "metadata": {},
   "outputs": [],
   "source": []
  },
  {
   "cell_type": "code",
   "execution_count": null,
   "id": "5a417d65",
   "metadata": {},
   "outputs": [],
   "source": []
  },
  {
   "cell_type": "code",
   "execution_count": null,
   "id": "45bb0310",
   "metadata": {},
   "outputs": [],
   "source": []
  },
  {
   "cell_type": "markdown",
   "id": "1b50fd9f",
   "metadata": {},
   "source": [
    "In Matplotlib, `boxplot()` is the core function to create box plot. Below are some of the important parameters of the function:\n",
    "\n",
    "- `x`: Array or a sequence of vectors. The input data.\n",
    "- `vert`: Set as True or False. The default value is True, which displays the boxes vertically.\n",
    "- `labels`: Sets the labels for each dataset.\n",
    "- `notch`: Set as True or False. the default value is False. If True, the parameter will produce a notched box plot.\n",
    "- `widths`: Sets the width of the box.\n",
    "- `patch_artist`: Set as True or False. the default value is False. If False, the parameter will produce boxes with the Line2D artist. Otherwise, the boxes will be drawn with Patch artists."
   ]
  },
  {
   "cell_type": "code",
   "execution_count": null,
   "id": "7358815f",
   "metadata": {},
   "outputs": [],
   "source": []
  },
  {
   "cell_type": "code",
   "execution_count": null,
   "id": "5e438066",
   "metadata": {},
   "outputs": [],
   "source": []
  },
  {
   "cell_type": "code",
   "execution_count": null,
   "id": "d25bb1c2",
   "metadata": {},
   "outputs": [],
   "source": []
  },
  {
   "cell_type": "code",
   "execution_count": null,
   "id": "47ffb292",
   "metadata": {},
   "outputs": [],
   "source": []
  },
  {
   "cell_type": "code",
   "execution_count": null,
   "id": "ea3caeae",
   "metadata": {},
   "outputs": [],
   "source": []
  },
  {
   "cell_type": "code",
   "execution_count": null,
   "id": "52442635",
   "metadata": {},
   "outputs": [],
   "source": [
    "from matplotlib import pyplot as plt\n",
    "import matplotlib.pyplot as plt\n",
    "\n",
    "# Create figure and axes objects\n",
    "fig = plt.figure()\n",
    "ax = fig.add_subplot()\n",
    "\n",
    "# Get the dataset(s)\n",
    "machine_learning = list(df['machine_learning'])\n",
    "data_science = list(df['data_science'])\n",
    "big_data = list(df['big_data'])\n",
    "values = [machine_learning, data_science, big_data]\n",
    "\n",
    "xlabels=[\"Machine Learning\", \"Data Science\", \"Big Data\"]\n",
    "ax.boxplot(x=values, patch_artist=True, labels = xlabels)\n",
    "\n",
    "# title and axis labels\n",
    "ax.set_title('Box Plot for Subject Marks')\n",
    "ax.set_xlabel('Subjects')\n",
    "ax.set_ylabel('Marks')\n",
    "\n",
    "\n",
    "# add horizontal grid lines\n",
    "ax.yaxis.grid(True)\n",
    "\n",
    "plt.show()"
   ]
  },
  {
   "cell_type": "code",
   "execution_count": null,
   "id": "5d057c2e",
   "metadata": {},
   "outputs": [],
   "source": []
  },
  {
   "cell_type": "code",
   "execution_count": null,
   "id": "bc6bb7cb",
   "metadata": {},
   "outputs": [],
   "source": []
  },
  {
   "cell_type": "code",
   "execution_count": null,
   "id": "b078854e",
   "metadata": {},
   "outputs": [],
   "source": []
  },
  {
   "cell_type": "code",
   "execution_count": null,
   "id": "9bb4bff2",
   "metadata": {},
   "outputs": [],
   "source": []
  },
  {
   "cell_type": "code",
   "execution_count": null,
   "id": "a6d28a73",
   "metadata": {},
   "outputs": [],
   "source": []
  },
  {
   "cell_type": "markdown",
   "id": "be237f5c",
   "metadata": {},
   "source": [
    "## 3. Violin Plot\n",
    "Violin plots are similar to box plots, except that they also show the probability density of the data at different values. These plots include a marker for the median of the data and a box indicating the interquartile range, as in the standard box plots.\n",
    "\n",
    "A violin plot is more informative than a plain box plot. In fact while a box plot only shows summary statistics such as mean/median and interquartile ranges, the violin plot shows the full distribution of the data."
   ]
  },
  {
   "cell_type": "code",
   "execution_count": null,
   "id": "25fc70f8",
   "metadata": {},
   "outputs": [],
   "source": [
    "from matplotlib import pyplot as plt\n",
    "import matplotlib.pyplot as plt\n",
    "\n",
    "# Create figure and axes objects\n",
    "fig = plt.figure()\n",
    "ax = fig.add_subplot()\n",
    "\n",
    "# Get the dataset(s)\n",
    "machine_learning = list(df['machine_learning'])\n",
    "data_science = list(df['data_science'])\n",
    "big_data = list(df['big_data'])\n",
    "values = [machine_learning, data_science, big_data]\n",
    "\n",
    "xlabels=[\"Machine Learning\", \"Data Science\", \"Big Data\"]\n",
    "\n",
    "quantiles= [[0.25,0.75], [0.25,0.75], [0.25,0.75]]\n",
    "ax.violinplot(dataset=values, showmedians=True, quantiles=quantiles)\n",
    "\n",
    "# title and axis labels\n",
    "ax.set_title('Violin Plot for Subject Marks')\n",
    "ax.set_xlabel('Subjects')\n",
    "ax.set_ylabel('Marks')\n",
    "\n",
    "ax.set_xticks([1,2,3])\n",
    "ax.set_xticklabels(xlabels)\n",
    "\n",
    "# add horizontal grid lines\n",
    "ax.yaxis.grid(True)\n",
    "\n",
    "plt.show()"
   ]
  },
  {
   "cell_type": "code",
   "execution_count": null,
   "id": "26f83472",
   "metadata": {},
   "outputs": [],
   "source": []
  },
  {
   "cell_type": "code",
   "execution_count": null,
   "id": "848658c1",
   "metadata": {},
   "outputs": [],
   "source": []
  },
  {
   "cell_type": "code",
   "execution_count": null,
   "id": "450ede25",
   "metadata": {},
   "outputs": [],
   "source": []
  },
  {
   "cell_type": "code",
   "execution_count": null,
   "id": "376b72a0",
   "metadata": {},
   "outputs": [],
   "source": []
  },
  {
   "cell_type": "code",
   "execution_count": null,
   "id": "4b0910ee",
   "metadata": {},
   "outputs": [],
   "source": []
  },
  {
   "cell_type": "markdown",
   "id": "da4a4a95",
   "metadata": {},
   "source": [
    "## 4. Heat Map\n",
    "Heat map Heat map is used to find out the correlation between different features in the dataset.High positive or negative value shows that the features have high correlation.This helps us to select the parmeters for machine learning.\n",
    ">- A heatmap is a useful chart that we can use to show the relationship between two variables. \n",
    ">- A heatmap is used to visualize 2-dimensional data like a matrix or a table using colors."
   ]
  },
  {
   "cell_type": "code",
   "execution_count": null,
   "id": "ebca070d",
   "metadata": {},
   "outputs": [],
   "source": [
    "import numpy as np\n",
    "data_set = np.random.randint(0 , 255, 250000).reshape(500,500)\n",
    "data_set"
   ]
  },
  {
   "cell_type": "code",
   "execution_count": null,
   "id": "57395744",
   "metadata": {},
   "outputs": [],
   "source": [
    "plt.imshow(X=data_set)\n",
    "plt.colorbar()\n",
    "plt.title( \"2-D Heat Map\" )\n",
    "plt.show()"
   ]
  },
  {
   "cell_type": "code",
   "execution_count": null,
   "id": "3f92d2dd",
   "metadata": {},
   "outputs": [],
   "source": [
    "plt.imshow(X=data_set, cmap='gray')\n",
    "plt.colorbar()\n",
    "plt.title( \"2-D Heat Map\" )\n",
    "plt.show()"
   ]
  },
  {
   "cell_type": "code",
   "execution_count": null,
   "id": "c61632b5",
   "metadata": {},
   "outputs": [],
   "source": [
    "plt.imshow(X=data_set, cmap='coolwarm', interpolation='nearest')\n",
    "plt.colorbar()\n",
    "plt.title( \"2-D Heat Map\" )\n",
    "plt.show()"
   ]
  },
  {
   "cell_type": "code",
   "execution_count": null,
   "id": "148e185e",
   "metadata": {},
   "outputs": [],
   "source": [
    "plt.imshow(X=data_set, cmap='coolwarm', interpolation='bicubic')\n",
    "plt.colorbar()\n",
    "plt.title( \"2-D Heat Map\" )\n",
    "plt.show()"
   ]
  },
  {
   "cell_type": "code",
   "execution_count": null,
   "id": "fb556a23",
   "metadata": {},
   "outputs": [],
   "source": [
    "from PIL import Image\n",
    "rgb_img = Image.open(\"datasets/speech.jpg\")\n",
    "grey_img = rgb_img.convert('L')\n",
    "rgb_img_array = np.array(grey_img)\n",
    "\n",
    "plt.imshow(X=rgb_img_array, cmap='gray')\n",
    "plt.colorbar()\n",
    "plt.title( \"2-D Heat Map\" )\n",
    "#grey_img.shape\n",
    "plt.show()"
   ]
  },
  {
   "cell_type": "code",
   "execution_count": null,
   "id": "438b7f81",
   "metadata": {},
   "outputs": [],
   "source": []
  },
  {
   "cell_type": "code",
   "execution_count": null,
   "id": "66ef7a33",
   "metadata": {},
   "outputs": [],
   "source": []
  },
  {
   "cell_type": "code",
   "execution_count": null,
   "id": "4932f79d",
   "metadata": {},
   "outputs": [],
   "source": []
  },
  {
   "cell_type": "code",
   "execution_count": null,
   "id": "8a832348",
   "metadata": {},
   "outputs": [],
   "source": []
  },
  {
   "cell_type": "code",
   "execution_count": null,
   "id": "decfffa4",
   "metadata": {},
   "outputs": [],
   "source": []
  },
  {
   "cell_type": "code",
   "execution_count": null,
   "id": "0bbfb2df",
   "metadata": {},
   "outputs": [],
   "source": []
  },
  {
   "cell_type": "code",
   "execution_count": null,
   "id": "6f4016ae",
   "metadata": {},
   "outputs": [],
   "source": []
  },
  {
   "cell_type": "markdown",
   "id": "c1e4ba1c",
   "metadata": {},
   "source": [
    "## 5. Creating Multiple Plots (Sub-Plots) within a Figure\n",
    "- A single matplotlib figure object may contain multiple subplots (axes objects) organized in a grid. You can use any of the three ways to do it:\n",
    "    - `plt.subplot()`\n",
    "    - `fig.add_subplot()`\n",
    "    - `plt.subplots()`\n",
    "- The best option is use the `plt.subplots()` method, and specify the number of rows and columns as shown below:\n",
    "```\n",
    "fig, <ax objects> = plt.subplots(rows, cols)\n",
    "```\n",
    "- Where rows and cols are integers that control the subplot layout. The `<ax objects>` needs to have dimensions that correspond to rows and cols.\n",
    "- Since `plt.subplots()` method unlike the other two methods return an array of axes, so you can access different axes objects using following two ways:\n",
    "    - You receive all the axes objects in one variable and later treat it as an array. In this case the first row has an index of zero and the first column has an index of one.\n",
    "    - Other option is you receive all the axes objects in tuples with one tuple for each row in the grid.\n",
    "    The index of the subplot you want to draw on, starts from 1, then left to right, and top to bottom\n",
    "- **Note** that pyplot keeps track of the currently active subplot (which you can get a reference to by calling `plt.gca()`), so when you call the `plot` function, it draws on the *active* subplot.\n",
    "\n",
    "    \n",
    "    \n",
    "If a 2 row by 2 column array of plots is created, the <ax object> must to be arrayed as shown below:\n",
    " \n",
    "```\n",
    "fig, ( (ax1,ax2), (ax3,ax4) ) = plt.subplots(2,2)\n",
    "```\n",
    "    \n",
    "If a 2 row by 3 column array of plots is created, the <ax objects> must be arrayed to correspond to these dimensions:\n",
    "```\n",
    "fig, ( (ax1,ax2,a3), (ax4,ax5,ax6) ) = plt.subplots(2, 3)   \n",
    "```\n"
   ]
  },
  {
   "cell_type": "markdown",
   "id": "a052c7d5",
   "metadata": {},
   "source": [
    "**Option 1: `plt.subplot()`**"
   ]
  },
  {
   "cell_type": "code",
   "execution_count": null,
   "id": "a7b3e887",
   "metadata": {},
   "outputs": [],
   "source": [
    "# The third argument of the `plt.subplot()` method mentions the specific axes object to create in the grid\n",
    "# It starts from 1, then left to right, and top to bottom\n",
    "fig = plt.figure()\n",
    "ax1=plt.subplot(2,2,1)\n",
    "ax2=plt.subplot(2,2,2)\n",
    "ax3=plt.subplot(2,2,3)\n",
    "ax4=plt.subplot(2,2,4)"
   ]
  },
  {
   "cell_type": "markdown",
   "id": "9b4fd38b",
   "metadata": {},
   "source": [
    "**Option 2: `fig.add_subplot()`**"
   ]
  },
  {
   "cell_type": "code",
   "execution_count": null,
   "id": "b1ccb7c5",
   "metadata": {},
   "outputs": [],
   "source": [
    "# The third argument of the `fig.add_subplot()` method mentions the specific axes object to create in the grid\n",
    "# It starts from 1, then left to right, and top to bottom\n",
    "fig = plt.figure()\n",
    "ax1=fig.add_subplot(2,2,1)\n",
    "ax2=fig.add_subplot(2,2,2)\n",
    "ax3=fig.add_subplot(2,2,3)\n",
    "ax4=fig.add_subplot(2,2,4)"
   ]
  },
  {
   "cell_type": "markdown",
   "id": "72d22b1b",
   "metadata": {},
   "source": [
    "**Option 3: `plt.subplots()`**"
   ]
  },
  {
   "cell_type": "code",
   "execution_count": null,
   "id": "8dd807f3",
   "metadata": {},
   "outputs": [],
   "source": [
    "# There is no third argument to `plt.subplots()` method, as it creates all axes objects in just one line\n",
    "# and return all the axes objects which you can receive in either an array or tupples\n",
    "fig,ax = plt.subplots(2,2)\n",
    "#Now you can access the subplots using subscript operator e.g., ax[0][0], ax[0][1], ax[1][0], and ax[1][1]"
   ]
  },
  {
   "cell_type": "code",
   "execution_count": null,
   "id": "94d3d7eb",
   "metadata": {},
   "outputs": [],
   "source": [
    "# There is no third argument to `plt.subplots()` method, as it creates all axes objects in just one line\n",
    "# and return all the axes objects which you can receive in either an array or tupples\n",
    "fig,((ax1,ax2),(ax3,ax4)) = plt.subplots(2,2)\n",
    "#Now you can access the subplots using the names ax1, ax2, ax3, ax4"
   ]
  },
  {
   "cell_type": "code",
   "execution_count": null,
   "id": "2581cd29",
   "metadata": {},
   "outputs": [],
   "source": []
  },
  {
   "cell_type": "code",
   "execution_count": null,
   "id": "c2897aca",
   "metadata": {},
   "outputs": [],
   "source": []
  },
  {
   "cell_type": "code",
   "execution_count": null,
   "id": "3b4079a1",
   "metadata": {},
   "outputs": [],
   "source": []
  },
  {
   "cell_type": "markdown",
   "id": "d66ce216",
   "metadata": {},
   "source": [
    ">**We will be using the `plt.subplots()` method to create subplots**\n",
    "\n",
    ">**So lets do a bit of more practice**"
   ]
  },
  {
   "cell_type": "code",
   "execution_count": null,
   "id": "d0b0ec90",
   "metadata": {},
   "outputs": [],
   "source": [
    "fig,ax = plt.subplots()"
   ]
  },
  {
   "cell_type": "code",
   "execution_count": null,
   "id": "a5832dd0",
   "metadata": {},
   "outputs": [],
   "source": [
    "fig, (ax1,ax2) = plt.subplots(nrows=1,ncols=2)"
   ]
  },
  {
   "cell_type": "code",
   "execution_count": null,
   "id": "aaf6ac16",
   "metadata": {},
   "outputs": [],
   "source": [
    "fig, (ax1,ax2) = plt.subplots(nrows=2,ncols=1)"
   ]
  },
  {
   "cell_type": "code",
   "execution_count": null,
   "id": "16651337",
   "metadata": {},
   "outputs": [],
   "source": [
    "fig, (ax1,ax2) = plt.subplots(nrows=1,ncols=2)"
   ]
  },
  {
   "cell_type": "code",
   "execution_count": null,
   "id": "c5323be1",
   "metadata": {},
   "outputs": [],
   "source": [
    "fig, ((ax1,ax2), (ax3,ax4)) = plt.subplots(nrows=2,ncols=2)"
   ]
  },
  {
   "cell_type": "code",
   "execution_count": null,
   "id": "60e05554",
   "metadata": {},
   "outputs": [],
   "source": [
    "fig, ( (ax1,ax2,ax3), (ax4,ax5,ax6) ) = plt.subplots(2, 3) "
   ]
  },
  {
   "cell_type": "code",
   "execution_count": null,
   "id": "79be29c5",
   "metadata": {},
   "outputs": [],
   "source": [
    "fig, ( (ax1,ax2), (ax3, ax4), (ax5,ax6) ) = plt.subplots(3, 2) "
   ]
  },
  {
   "cell_type": "code",
   "execution_count": null,
   "id": "9f881ea6",
   "metadata": {},
   "outputs": [],
   "source": [
    "# Another way is to receive all the axes in a single variable and later use it as an array of axes\n",
    "fig, ax = plt.subplots(3, 3) "
   ]
  },
  {
   "cell_type": "markdown",
   "id": "bd47d6fa",
   "metadata": {},
   "source": [
    ">- In above grid, `ax[0][2]` will represent the right most axes in the zeroth row\n",
    ">- In above grid, `ax[1][1]` will represent the middle axes object in below grid"
   ]
  },
  {
   "cell_type": "code",
   "execution_count": null,
   "id": "58ac5f97",
   "metadata": {},
   "outputs": [],
   "source": []
  },
  {
   "cell_type": "code",
   "execution_count": null,
   "id": "10aa1548",
   "metadata": {},
   "outputs": [],
   "source": []
  },
  {
   "cell_type": "code",
   "execution_count": null,
   "id": "aa0f70cd",
   "metadata": {},
   "outputs": [],
   "source": []
  },
  {
   "cell_type": "code",
   "execution_count": null,
   "id": "0d782c28",
   "metadata": {},
   "outputs": [],
   "source": []
  },
  {
   "cell_type": "code",
   "execution_count": null,
   "id": "757d7055",
   "metadata": {},
   "outputs": [],
   "source": []
  },
  {
   "cell_type": "markdown",
   "id": "324df462",
   "metadata": {},
   "source": [
    "**Example 1:**"
   ]
  },
  {
   "cell_type": "code",
   "execution_count": null,
   "id": "878b2aef",
   "metadata": {},
   "outputs": [],
   "source": [
    "import numpy as np\n",
    "x = np.linspace(-1, 1, 30)\n",
    "x"
   ]
  },
  {
   "cell_type": "code",
   "execution_count": null,
   "id": "80ed2161",
   "metadata": {},
   "outputs": [],
   "source": [
    "x = np.linspace(-1, 1, 30)\n",
    "\n",
    "fig, ((ax1, ax2), (ax3, ax4)) = plt.subplots(2, 2)\n",
    "ax1.plot(x,x)       # 1st subplot = top left\n",
    "ax2.plot(x, x**2)   # 2nd subplot = top right\n",
    "ax3.plot(x,x**3)    # 3rd subplot = bottom left\n",
    "ax4.plot(x,x**4)    # 4th subplot = bottom right\n",
    "plt.show()"
   ]
  },
  {
   "cell_type": "code",
   "execution_count": null,
   "id": "cd1bbdf3",
   "metadata": {},
   "outputs": [],
   "source": [
    "x = np.linspace(-1, 1, 30)\n",
    "\n",
    "fig, ax = plt.subplots(2, 2)\n",
    "ax[0][0].plot(x,x)       # 1st subplot = top left\n",
    "ax[0][1].plot(x, x**2)   # 2nd subplot = top right\n",
    "ax[1][0].plot(x,x**3)    # 3rd subplot = bottom left\n",
    "ax[1][1].plot(x,x**4)    # 4th subplot = bottom right\n",
    "plt.show()"
   ]
  },
  {
   "cell_type": "code",
   "execution_count": null,
   "id": "43c4168a",
   "metadata": {},
   "outputs": [],
   "source": []
  },
  {
   "cell_type": "code",
   "execution_count": null,
   "id": "5d94d99c",
   "metadata": {},
   "outputs": [],
   "source": []
  },
  {
   "cell_type": "markdown",
   "id": "e5b61e81",
   "metadata": {},
   "source": [
    "**Example 2:**"
   ]
  },
  {
   "cell_type": "code",
   "execution_count": null,
   "id": "445f3ce3",
   "metadata": {},
   "outputs": [],
   "source": [
    "from matplotlib import pyplot as plt\n",
    "chemical_exports = [0.810, 0.831, 0.895, 0.91, 0.915, 0.926, 0.945, 0.931, 0.919, 0.921, 0.920, 0.919]\n",
    "years = [2010, 2011, 2012, 2013, 2014, 2015, 2016, 2017, 2018, 2019, 2020, 2021]\n",
    "medicine_exports = [0.791, 0.818, 0.832, 0.816, 0.840, 0.833, 0.835, 0.838, 0.842, 0.910, 0.930, 0.940]\n",
    "\n",
    "\n",
    "fig, (ax1,ax2) = plt.subplots(nrows=2, ncols=1)\n",
    "\n",
    "ax1.plot(years, chemical_exports, label='Chemicals', marker='o', c='b', ls='-', lw=2) \n",
    "ax2.plot(years, medicine_exports, label='Medicines', marker='x', c='r', ls=':', lw=2) \n",
    "\n",
    "#Note the use of `set_`\n",
    "ax1.set_title(\"LCI Chemical exports in last 12 years\")\n",
    "ax1.set_xlabel(\"Years\")\n",
    "ax1.set_ylabel(\"Amount (Million Rs.)\")\n",
    "\n",
    "\n",
    "ax2.set_title(\"LCI Medicine exports in last 12 years\")\n",
    "ax2.set_xlabel(\"Years\")\n",
    "ax2.set_ylabel(\"Amount (Million Rs.)\")\n",
    "\n",
    "plt.tight_layout()\n",
    "plt.show()"
   ]
  },
  {
   "cell_type": "code",
   "execution_count": null,
   "id": "b97fff20",
   "metadata": {},
   "outputs": [],
   "source": []
  },
  {
   "cell_type": "code",
   "execution_count": null,
   "id": "2b367fa5",
   "metadata": {},
   "outputs": [],
   "source": []
  },
  {
   "cell_type": "code",
   "execution_count": null,
   "id": "7f680a32",
   "metadata": {},
   "outputs": [],
   "source": []
  },
  {
   "cell_type": "code",
   "execution_count": null,
   "id": "242f6bc9",
   "metadata": {},
   "outputs": [],
   "source": []
  },
  {
   "cell_type": "markdown",
   "id": "034358c8",
   "metadata": {},
   "source": [
    "**Example 3:**"
   ]
  },
  {
   "cell_type": "code",
   "execution_count": null,
   "id": "03d08699",
   "metadata": {},
   "outputs": [],
   "source": [
    "import matplotlib.pyplot as plt\n",
    "import numpy as np\n",
    "\n",
    "# geerating random values withing range from a univariate “normal” (Gaussian) distribution of mean 0 and variance 1.\n",
    "data = np.random.randn(2000)\n",
    "\n",
    "fig, ax = plt.subplots(nrows=2, ncols=2)\n",
    "\n",
    "# use axes object to plot histograms in subplots, for example plot histrogram on 0th row, 0th column\n",
    "ax[0][0].hist(data, bins=30)\n",
    "ax[0][0].set_title(\"set bins=30\")\n",
    "\n",
    "# plot histrogram on 0th row, 1st column, by setting density to true which normalized the histogram\n",
    "ax[0][1].hist(data, density=True, color=\"r\")\n",
    "ax[0][1].set_title(\"normalized\")\n",
    "\n",
    "# plot histrogram on 1st row, 0th column,\n",
    "ax[1][0].hist(data, color=\"orange\")\n",
    "ax[1][0].set_title(\"set color as Oranges\")\n",
    "\n",
    "# plot histrogram on 1st row, 1st column, by setting histogram type as step\n",
    "ax[1][1].hist(data, histtype='step')\n",
    "ax[1][1].set_title(\"step\")\n",
    "\n",
    "\n",
    "plt.tight_layout()\n",
    "plt.show()"
   ]
  },
  {
   "cell_type": "code",
   "execution_count": null,
   "id": "61dda086",
   "metadata": {},
   "outputs": [],
   "source": []
  },
  {
   "cell_type": "code",
   "execution_count": null,
   "id": "300a946c",
   "metadata": {},
   "outputs": [],
   "source": []
  },
  {
   "cell_type": "markdown",
   "id": "544db123",
   "metadata": {},
   "source": [
    "**Example 4:**"
   ]
  },
  {
   "cell_type": "code",
   "execution_count": null,
   "id": "c4c68a0d",
   "metadata": {},
   "outputs": [],
   "source": [
    "import numpy as np\n",
    "import matplotlib\n",
    "from matplotlib import pyplot as plt\n",
    "import seaborn as sns\n",
    "\n",
    "# import iris dataset and display in dataframe\n",
    "df_iris = sns.load_dataset('iris')\n",
    "\n",
    "fig, axes = plt.subplots(nrows=2, ncols=2, dpi=100)\n",
    "\n",
    "\n",
    "# draw line plot on iris data (between dataframe index and sepal_length column)\n",
    "axes[0][0].plot(df_iris.index, df_iris['sepal_length'], color='r')\n",
    "axes[0][0].grid(True)\n",
    "axes[0][0].set_facecolor('#FAEBD7')\n",
    "\n",
    "\n",
    "# draw bar-plot on iris data (between dataframe index and sepal_length column)\n",
    "axes[0][1].bar(df_iris.index, df_iris['sepal_length'])\n",
    "\n",
    "\n",
    "# draw scatter-plot on iris data (between sepal_length and sepal_width column)\n",
    "axes[1][0].scatter(df_iris['sepal_width'], df_iris['sepal_length'], color='orange')\n",
    "axes[1][0].grid(True)\n",
    "axes[1][0].set_facecolor('#BDEFE9')\n",
    "\n",
    "\n",
    "# draw histogram-plot on iris data (on sepal_length column)\n",
    "axes[1][1].hist(df_iris['sepal_length'], bins=20, density=True, histtype='bar', alpha=0.3, \n",
    "                color='green', edgecolor='black')\n",
    "axes[1][1].grid(True)\n",
    "plt.show()"
   ]
  },
  {
   "cell_type": "code",
   "execution_count": null,
   "id": "7255001a",
   "metadata": {},
   "outputs": [],
   "source": []
  },
  {
   "cell_type": "code",
   "execution_count": null,
   "id": "8ed81d86",
   "metadata": {},
   "outputs": [],
   "source": []
  },
  {
   "cell_type": "code",
   "execution_count": null,
   "id": "2b417f8d",
   "metadata": {},
   "outputs": [],
   "source": [
    "import numpy as np\n",
    "import matplotlib\n",
    "from matplotlib import pyplot as plt\n",
    "import seaborn as sns\n",
    "\n",
    "# import iris dataset and display in dataframe\n",
    "df_iris = sns.load_dataset('iris')\n",
    "\n",
    "fig, axes = plt.subplots(nrows=2, ncols=2, dpi=100)\n",
    "\n",
    "\n",
    "# draw line plot on iris data (between dataframe index and sepal_length column)\n",
    "axes[0][0].plot(df_iris.index, df_iris['sepal_length'], color='r')\n",
    "axes[0][0].grid(True)\n",
    "\n",
    "\n",
    "# draw bar-plot on iris data (between dataframe index and sepal_length column)\n",
    "axes[0][1].bar(df_iris.index, df_iris['sepal_length'])\n",
    "\n",
    "\n",
    "# draw scatter-plot on iris data (between sepal_length and sepal_width column)\n",
    "axes[1][0].scatter(df_iris['sepal_width'], df_iris['sepal_length'], color='orange')\n",
    "axes[1][0].grid(True)\n",
    "\n",
    "\n",
    "# draw histogram-plot on iris data (on sepal_length column)\n",
    "axes[1][1].hist(df_iris['sepal_length'], bins=20, density=True, histtype='bar', alpha=0.3, \n",
    "                color='green', edgecolor='black')\n",
    "plt.show()"
   ]
  },
  {
   "cell_type": "code",
   "execution_count": null,
   "id": "cce948d3",
   "metadata": {},
   "outputs": [],
   "source": []
  }
 ],
 "metadata": {
  "kernelspec": {
   "display_name": "Python 3 (ipykernel)",
   "language": "python",
   "name": "python3"
  },
  "language_info": {
   "codemirror_mode": {
    "name": "ipython",
    "version": 3
   },
   "file_extension": ".py",
   "mimetype": "text/x-python",
   "name": "python",
   "nbconvert_exporter": "python",
   "pygments_lexer": "ipython3",
   "version": "3.9.7"
  }
 },
 "nbformat": 4,
 "nbformat_minor": 5
}
