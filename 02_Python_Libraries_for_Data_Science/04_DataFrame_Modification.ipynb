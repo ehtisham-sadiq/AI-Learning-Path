{
 "cells": [
  {
   "cell_type": "markdown",
   "id": "16a38f6b",
   "metadata": {},
   "source": [
    "# Learning Agenda of this Notebook:\n",
    "- What is Pandas and how is it used in AI?\n",
    "- Key features of Pandas\n",
    "- Data Types in Pandas\n",
    "- What does Pandas deal with?\n",
    "\n",
    "- Creating Series in Pandas\n",
    "    - From Python List\n",
    "    - From NumPy Arrays\n",
    "    - From Python Dictionary\n",
    "    - From a scalar value\n",
    "    - Creating empty series object\n",
    "- Attributes of a Pandas Series\n",
    "- Arithmetic Operations on Series\n",
    "\n",
    "- Dataframes in Pandas\n",
    "    - Anatomy of a Dataframe\n",
    "    - Creating Dataframe\n",
    "        - An empty dataframe\n",
    "        - Two-Dimensional NumPy Array\n",
    "        - Dictionary of Python Lists\n",
    "        - Dictionary of Panda Series\n",
    "    - Attributes of a Dataframe\n",
    "    - Bonus\n",
    "- Different file formats in Pandas \n",
    "- Indexing, Subsetting and Slicing Dataframes\n",
    "    - Practice Exercise I\n",
    "- Modifying Dataframes\n",
    "- Data Handling with Pandas\n",
    "  - Practice Exercise I\n",
    "  - Practice Exercise II\n",
    "- All Statistical functions in Pandas\n",
    "- Input/Output Operations\n",
    "- Aggregation & Grouping\n",
    "  - Practice Exercise\n",
    "- Merging, Joining and Concatenation\n",
    "  - Practice Exercise\n",
    "- How To Perform Data Visualization with Pandas\n",
    "- Exercise I\n",
    "- Exercise II\n",
    "- Pandas's Assignment"
   ]
  },
  {
   "cell_type": "code",
   "execution_count": null,
   "id": "ff01c774",
   "metadata": {},
   "outputs": [],
   "source": []
  },
  {
   "cell_type": "markdown",
   "id": "03204004",
   "metadata": {},
   "source": [
    "## Outline\n",
    "1. Modifying Column labels of Dataframe\n",
    "2. Modifying Row indices of Dataframe\n",
    "3. Modifying Row(s) Data (Records) of a Dataframe\n",
    "   - Modifying a single Row\n",
    "   - Modifying multiple Rows\n",
    "       - `map()` Method\n",
    "       - `df.remove()` Method\n",
    "       - `df.apply()` Method\n",
    "       - `df.replace()` Method\n",
    "4. Add a New Column in a Dataframe\n",
    "5. Delete an Existing Column from a Dataframe\n",
    "6. Add a New Row in  a Dataframe\n",
    "7. Delete an Existing Row(s) from a Dataframe\n",
    "8. Adding a New Column with Conditional Values\n",
    "9. Deleting Row(s) Based on Specific Condition\n",
    "10. Delete a Column  Based on Specific Condition\n",
    "11. Change Datatype of a Pandas Series\n",
    "12. Sorting dataframes using `df.sort_values()`\n",
    "13. Sorting dataframes using `df.sort_index()`\n",
    "14. Practice Exercise"
   ]
  },
  {
   "cell_type": "code",
   "execution_count": null,
   "id": "05b59523",
   "metadata": {},
   "outputs": [],
   "source": []
  },
  {
   "cell_type": "markdown",
   "id": "f298e559",
   "metadata": {},
   "source": [
    "### Read a Sample File"
   ]
  },
  {
   "cell_type": "code",
   "execution_count": 2,
   "id": "410559b7",
   "metadata": {},
   "outputs": [],
   "source": [
    "import numpy as np\n",
    "import pandas as pd"
   ]
  },
  {
   "cell_type": "code",
   "execution_count": null,
   "id": "56bb3c9b",
   "metadata": {},
   "outputs": [],
   "source": [
    "!cat datasets/groupdata.csv"
   ]
  },
  {
   "cell_type": "code",
   "execution_count": null,
   "id": "a3fd192d",
   "metadata": {},
   "outputs": [],
   "source": [
    "df = pd.read_csv('datasets/groupdata.csv')\n",
    "df.head(3)"
   ]
  },
  {
   "cell_type": "code",
   "execution_count": null,
   "id": "6b905641",
   "metadata": {},
   "outputs": [],
   "source": [
    "df.tail(3)"
   ]
  },
  {
   "cell_type": "code",
   "execution_count": 6,
   "id": "44990632",
   "metadata": {},
   "outputs": [],
   "source": [
    "# df.shape\n",
    "# df.columns\n",
    "# df.dtypes\n",
    "# df.index\n",
    "# df.describe(include='all')\n",
    "# df.info()\n",
    "# df.sample(3)\n",
    "# df.isnull().sum() # or df.isna().sum()\n",
    "# df.nunique()\n",
    "# df['address'].value_counts()"
   ]
  },
  {
   "cell_type": "code",
   "execution_count": null,
   "id": "91bf2d70",
   "metadata": {},
   "outputs": [],
   "source": []
  },
  {
   "cell_type": "markdown",
   "id": "1eabca9f",
   "metadata": {},
   "source": [
    "### 1. Modifying Column Names of a Dataframe\n",
    "- Convert Columns into lowercase\n",
    "- Convert Columns into uppercase\n",
    "- Remove spaces from Columns\n",
    "- Rename Columns using `rename()`"
   ]
  },
  {
   "cell_type": "code",
   "execution_count": null,
   "id": "77e0555b",
   "metadata": {},
   "outputs": [],
   "source": [
    "df.columns"
   ]
  },
  {
   "cell_type": "markdown",
   "id": "ee994c04",
   "metadata": {},
   "source": [
    "##### Revision of str.upper()"
   ]
  },
  {
   "cell_type": "code",
   "execution_count": null,
   "id": "2ea6c6e4",
   "metadata": {},
   "outputs": [],
   "source": [
    "str1 = \"ehtisham\"\n",
    "str1"
   ]
  },
  {
   "cell_type": "code",
   "execution_count": null,
   "id": "c34d9d15-aa61-4556-aa69-a25893efdc7d",
   "metadata": {},
   "outputs": [],
   "source": [
    "# print(dir(str1))\n",
    "str1.upper()"
   ]
  },
  {
   "cell_type": "code",
   "execution_count": null,
   "id": "8114f346-a6cd-4234-b8fe-578837981148",
   "metadata": {},
   "outputs": [],
   "source": [
    "df.columns.str.upper()"
   ]
  },
  {
   "cell_type": "code",
   "execution_count": null,
   "id": "09b9adab",
   "metadata": {},
   "outputs": [],
   "source": [
    "df.columns = df.columns.str.upper()\n",
    "df.columns"
   ]
  },
  {
   "cell_type": "code",
   "execution_count": null,
   "id": "a7af5942-e67d-4b24-b6a1-a332e8227f2d",
   "metadata": {},
   "outputs": [],
   "source": [
    "df.head()"
   ]
  },
  {
   "cell_type": "code",
   "execution_count": 8,
   "id": "bbbdc013-c622-4eb0-ade1-f2e0b3950592",
   "metadata": {},
   "outputs": [],
   "source": [
    "df.columns = df.columns.str.replace(' ','_')\n",
    "df.columns = df.columns.str.replace('-','_')"
   ]
  },
  {
   "cell_type": "code",
   "execution_count": null,
   "id": "ce2867f2",
   "metadata": {},
   "outputs": [],
   "source": [
    "df.columns"
   ]
  },
  {
   "cell_type": "code",
   "execution_count": 11,
   "id": "283f20c4",
   "metadata": {},
   "outputs": [],
   "source": [
    "# df.ROLL_NO"
   ]
  },
  {
   "cell_type": "code",
   "execution_count": null,
   "id": "eb28c9e2-99be-4a50-b994-1ad7b68da862",
   "metadata": {},
   "outputs": [],
   "source": [
    "df.head()"
   ]
  },
  {
   "cell_type": "markdown",
   "id": "c5187c1e",
   "metadata": {},
   "source": [
    "> **Question: How to rename columns while reading data and after loaded data?**"
   ]
  },
  {
   "cell_type": "code",
   "execution_count": 18,
   "id": "a41c4961",
   "metadata": {},
   "outputs": [],
   "source": [
    "# df.rename(columns={'SUBJ1':'SUBJECT1'} ) # after loading data\n",
    "# pd.read_csv('datasets/groupdata.csv', names=['SUBJ1']) # before loading data"
   ]
  },
  {
   "cell_type": "code",
   "execution_count": null,
   "id": "04d555c8",
   "metadata": {},
   "outputs": [],
   "source": []
  },
  {
   "cell_type": "markdown",
   "id": "5d2a03ef",
   "metadata": {},
   "source": [
    "### 2. Modifying the Row Indices of a DataFrame\n",
    "- df.set_index('id')\n",
    "- df.reset_index(drop=True)"
   ]
  },
  {
   "cell_type": "code",
   "execution_count": null,
   "id": "b4a237ef",
   "metadata": {},
   "outputs": [],
   "source": [
    "df.set_index('ROLL_NO')"
   ]
  },
  {
   "cell_type": "code",
   "execution_count": 20,
   "id": "3bd48e33",
   "metadata": {},
   "outputs": [],
   "source": [
    "df.set_index('ROLL_NO', inplace=True)"
   ]
  },
  {
   "cell_type": "code",
   "execution_count": null,
   "id": "bf852a1f-450a-437e-bd3e-bf7c07902c24",
   "metadata": {},
   "outputs": [],
   "source": [
    "df"
   ]
  },
  {
   "cell_type": "code",
   "execution_count": null,
   "id": "60a81848",
   "metadata": {},
   "outputs": [],
   "source": [
    "df.reset_index(inplace=True)\n",
    "df"
   ]
  },
  {
   "cell_type": "code",
   "execution_count": null,
   "id": "07038b48",
   "metadata": {},
   "outputs": [],
   "source": []
  },
  {
   "cell_type": "code",
   "execution_count": null,
   "id": "14d57f1f",
   "metadata": {},
   "outputs": [],
   "source": []
  },
  {
   "cell_type": "markdown",
   "id": "095b7e2d",
   "metadata": {},
   "source": [
    "### 3. Modifying Data of a Single Row/Record of a Dataframe"
   ]
  },
  {
   "cell_type": "code",
   "execution_count": null,
   "id": "d88f91ca",
   "metadata": {},
   "outputs": [],
   "source": [
    "df = pd.read_csv('datasets/groupdata.csv')\n",
    "df.head(3)"
   ]
  },
  {
   "cell_type": "code",
   "execution_count": null,
   "id": "c7ea6024",
   "metadata": {},
   "outputs": [],
   "source": []
  },
  {
   "cell_type": "markdown",
   "id": "06e012d1",
   "metadata": {},
   "source": [
    "####   Get the row/record you want to modify\n",
    "Let us suppose we want to change the `subj1` and `subj2` marks of `Ayesha`"
   ]
  },
  {
   "cell_type": "code",
   "execution_count": null,
   "id": "f7bb3684",
   "metadata": {},
   "outputs": [],
   "source": [
    "# First Method\n",
    "# Returns a Series object\n",
    "df.loc[1,:]"
   ]
  },
  {
   "cell_type": "code",
   "execution_count": null,
   "id": "633fcf66",
   "metadata": {},
   "outputs": [],
   "source": [
    "# Second Method\n",
    "df.name # df['name']"
   ]
  },
  {
   "cell_type": "code",
   "execution_count": null,
   "id": "4e1a86f7-ece8-4587-a00b-3852fe5f20c3",
   "metadata": {},
   "outputs": [],
   "source": [
    "df.name == 'Ayesha'"
   ]
  },
  {
   "cell_type": "code",
   "execution_count": null,
   "id": "aaf66854",
   "metadata": {},
   "outputs": [],
   "source": [
    "# Returns a Dataframe object\n",
    "df.loc[df.name=='Ayesha', :]"
   ]
  },
  {
   "cell_type": "code",
   "execution_count": null,
   "id": "83bdcd34",
   "metadata": {},
   "outputs": [],
   "source": []
  },
  {
   "cell_type": "markdown",
   "id": "98d2c517",
   "metadata": {},
   "source": [
    "##### Option 1:\n",
    "- One way is to pass a new list of values and assign it to the appropriate series (row)"
   ]
  },
  {
   "cell_type": "code",
   "execution_count": null,
   "id": "e7d9f8e6",
   "metadata": {},
   "outputs": [],
   "source": [
    "# Any of the following two LOC will work\n",
    "# 1st Method\n",
    "df.loc[1,:] = ['2', 'Ayesha', 16, 'Islamabad', 'AFT', 'group A', 'Female', 99, 99, 6000.0]"
   ]
  },
  {
   "cell_type": "code",
   "execution_count": null,
   "id": "212b41f0-ef13-4ce4-9ed1-d4bcc30f7a23",
   "metadata": {},
   "outputs": [],
   "source": [
    "df"
   ]
  },
  {
   "cell_type": "code",
   "execution_count": 31,
   "id": "089948ae",
   "metadata": {},
   "outputs": [],
   "source": [
    "# 2nd Method\n",
    "df.loc[df.name=='Ayesha', :] = ['2', 'Ayesha', 16, 'Islamabad', 'AFT', 'group A', 'Female', 90, 91, 6000.0]"
   ]
  },
  {
   "cell_type": "code",
   "execution_count": null,
   "id": "3f005250",
   "metadata": {},
   "outputs": [],
   "source": [
    "df.head(3)"
   ]
  },
  {
   "cell_type": "code",
   "execution_count": null,
   "id": "9c221e77",
   "metadata": {},
   "outputs": [],
   "source": []
  },
  {
   "cell_type": "markdown",
   "id": "82668b07",
   "metadata": {},
   "source": [
    "##### Option 2:\n",
    "- A better way is to assign only those two values that we want to change instead of assigning the complete list of values in that row"
   ]
  },
  {
   "cell_type": "code",
   "execution_count": null,
   "id": "05a31499",
   "metadata": {},
   "outputs": [],
   "source": [
    "# Returns a series\n",
    "df = pd.read_csv('datasets/groupdata.csv')\n",
    "df.loc[1,:]"
   ]
  },
  {
   "cell_type": "code",
   "execution_count": null,
   "id": "01bf718c",
   "metadata": {},
   "outputs": [],
   "source": [
    "df.loc[1, ['subj1', 'subj2']] "
   ]
  },
  {
   "cell_type": "code",
   "execution_count": null,
   "id": "4f6f3ac7",
   "metadata": {},
   "outputs": [],
   "source": [
    "# Returns a dataframe\n",
    "df.loc[df.name=='Ayesha', ['subj1', 'subj2']]"
   ]
  },
  {
   "cell_type": "code",
   "execution_count": 22,
   "id": "be273302",
   "metadata": {},
   "outputs": [],
   "source": [
    "# 1st Method\n",
    "df.loc[1, ['subj1', 'subj2']] = [100, 90]"
   ]
  },
  {
   "cell_type": "code",
   "execution_count": 23,
   "id": "90487582",
   "metadata": {},
   "outputs": [],
   "source": [
    "# 2nd Method\n",
    "df.loc[df.name=='Ayesha', ['subj1', 'subj2']] = [100, 100]"
   ]
  },
  {
   "cell_type": "code",
   "execution_count": null,
   "id": "08eacf22",
   "metadata": {},
   "outputs": [],
   "source": [
    "df.head(3)"
   ]
  },
  {
   "cell_type": "markdown",
   "id": "ec96e353",
   "metadata": {},
   "source": [
    "**Note: You can also use `df.iloc[]` method instead of `df.loc[]` to change multiple or single value of a row. Other than these two you may also try using `df.at[]` method to change a single value of a row.**\n",
    "```\n",
    "df.loc[filter, 'column(s)'] = 'value(s)'\n",
    "```"
   ]
  },
  {
   "cell_type": "code",
   "execution_count": null,
   "id": "85857bb9",
   "metadata": {},
   "outputs": [],
   "source": []
  },
  {
   "cell_type": "markdown",
   "id": "3cd3a268",
   "metadata": {},
   "source": [
    "##  Modify Data of Multiple Rows and \n",
    "- Uptill now we have learnt to modify a single, multiple or all the values of a single row in a dataframe.\n",
    "- What if we want to modify multiple rows at a time?\n",
    "- The following methods will come for your rescue:\n",
    "    - `map()`\n",
    "    - `df.replace()`\n",
    "    - `df.apply()`\n",
    "    - `df.applymap()`"
   ]
  },
  {
   "cell_type": "markdown",
   "id": "c7ebd466",
   "metadata": {},
   "source": [
    "#### a. The Python Built-in `map()` Method\n",
    "- The ```map(aFunction, *iterables)``` function simply returns a map object after applying  `aFunction()` to all the elements of `iterable(s)`. \n",
    "- Later you can type cast the map object to appropriate data structure\n",
    "- The original iterable(s) remains unchanged. "
   ]
  },
  {
   "cell_type": "code",
   "execution_count": null,
   "id": "2666d788",
   "metadata": {},
   "outputs": [],
   "source": [
    "# GENDER (m, f, unkown) -> (1,0, np.nan)"
   ]
  },
  {
   "cell_type": "code",
   "execution_count": null,
   "id": "9bd71c52",
   "metadata": {},
   "outputs": [],
   "source": [
    "list1 = [3,4,5,6,7,78,76,56]\n",
    "print(list1)"
   ]
  },
  {
   "cell_type": "code",
   "execution_count": null,
   "id": "b97f9731",
   "metadata": {},
   "outputs": [],
   "source": [
    "# Function to check if a number is even then return square of that number, \n",
    "# else return cube of that number\n",
    "list1 = [3,4,5,6,7,78,76,56]\n",
    "\n",
    "def return_square_cube(x):\n",
    "    if x%2==0:\n",
    "        return x**2\n",
    "    else:\n",
    "        return x**3\n",
    "    \n",
    "obj1 = map(return_square_cube, list1) # list1 is a iterator\n",
    "print(type(obj1))\n",
    "print(list(obj1))"
   ]
  },
  {
   "cell_type": "code",
   "execution_count": null,
   "id": "c6a97957",
   "metadata": {},
   "outputs": [],
   "source": []
  },
  {
   "cell_type": "code",
   "execution_count": null,
   "id": "846ef0b9",
   "metadata": {},
   "outputs": [],
   "source": []
  },
  {
   "cell_type": "code",
   "execution_count": null,
   "id": "b82784eb",
   "metadata": {},
   "outputs": [],
   "source": []
  },
  {
   "cell_type": "markdown",
   "id": "84988a95",
   "metadata": {},
   "source": [
    "**Example:** Using built-in function with `map()`"
   ]
  },
  {
   "cell_type": "code",
   "execution_count": null,
   "id": "3f9b9f17",
   "metadata": {},
   "outputs": [],
   "source": [
    "import pandas as pd\n",
    "df = pd.read_csv('datasets/groupdata.csv')\n",
    "df.head(3)"
   ]
  },
  {
   "cell_type": "code",
   "execution_count": null,
   "id": "48b2b4a7",
   "metadata": {},
   "outputs": [],
   "source": [
    "df['name']"
   ]
  },
  {
   "cell_type": "code",
   "execution_count": null,
   "id": "5bfe7cb3",
   "metadata": {},
   "outputs": [],
   "source": [
    "len(\"Ehtisham\")"
   ]
  },
  {
   "cell_type": "code",
   "execution_count": null,
   "id": "f41e1a77",
   "metadata": {},
   "outputs": [],
   "source": [
    "# Passing a Series object (a column of dataframe) to map() as argument\n",
    "# The Python built-in `len()` function is applied to all the values of name column and return a map object\n",
    "m1 = map(len, df['name'])\n",
    "m1"
   ]
  },
  {
   "cell_type": "code",
   "execution_count": null,
   "id": "9df5ceb8-aade-462e-aaad-4709a1ae2d74",
   "metadata": {},
   "outputs": [],
   "source": [
    "pd.Series(m1)"
   ]
  },
  {
   "cell_type": "code",
   "execution_count": 32,
   "id": "572a84c8",
   "metadata": {},
   "outputs": [],
   "source": [
    "# dict1 = {\n",
    "#     'col1' : pd.Series(),\n",
    "#     'col2': pd.Series(),\n",
    "#     'col3': pd.Series()\n",
    "\n",
    "# }\n",
    "\n",
    "\n",
    "\n",
    "df['name_length_1st'] = pd.Series(map(len, df['name']))"
   ]
  },
  {
   "cell_type": "code",
   "execution_count": null,
   "id": "ff74cc84",
   "metadata": {},
   "outputs": [],
   "source": [
    "df.head(3)"
   ]
  },
  {
   "cell_type": "code",
   "execution_count": 10,
   "id": "a6ce0073",
   "metadata": {},
   "outputs": [],
   "source": [
    "# print(dir(df['name']))"
   ]
  },
  {
   "cell_type": "code",
   "execution_count": null,
   "id": "5655649c",
   "metadata": {},
   "outputs": [],
   "source": [
    "# Another way is to call the map() method by a Series object using dot notation\n",
    "df['name'].map(len)"
   ]
  },
  {
   "cell_type": "code",
   "execution_count": 12,
   "id": "89200831",
   "metadata": {},
   "outputs": [],
   "source": [
    "# Third way is to access the column name as well using dot notation\n",
    "df['name_length_2nd'] = df.name.map(len) # df['name'].map(len)"
   ]
  },
  {
   "cell_type": "code",
   "execution_count": null,
   "id": "1c049536",
   "metadata": {},
   "outputs": [],
   "source": [
    "df.sample(5)"
   ]
  },
  {
   "cell_type": "code",
   "execution_count": null,
   "id": "c101f683",
   "metadata": {},
   "outputs": [],
   "source": []
  },
  {
   "cell_type": "markdown",
   "id": "9df4233f",
   "metadata": {},
   "source": [
    "**Example:** Using a user-defined function with `map()`"
   ]
  },
  {
   "cell_type": "code",
   "execution_count": null,
   "id": "56f950c6",
   "metadata": {},
   "outputs": [],
   "source": [
    "df = pd.read_csv('datasets/groupdata.csv')\n",
    "df.head(3)"
   ]
  },
  {
   "cell_type": "code",
   "execution_count": null,
   "id": "7a6f354a",
   "metadata": {},
   "outputs": [],
   "source": [
    "# Let us pass a user-defined function\n",
    "def myfunc(x):\n",
    "    if (x > 18):\n",
    "        return \"Young\"\n",
    "    else:\n",
    "        return \"Teenager\"\n",
    "\n",
    "df['age'].map(myfunc) # map(myfunc, df['age'])"
   ]
  },
  {
   "cell_type": "code",
   "execution_count": 36,
   "id": "b2b9d4ad",
   "metadata": {},
   "outputs": [],
   "source": [
    "# If you want to save this as a new column in the dataframe you can do that\n",
    "df['newcol'] = df['age'].map(myfunc)"
   ]
  },
  {
   "cell_type": "code",
   "execution_count": null,
   "id": "4b6cce98",
   "metadata": {},
   "outputs": [],
   "source": []
  },
  {
   "cell_type": "code",
   "execution_count": null,
   "id": "320fe50d",
   "metadata": {},
   "outputs": [],
   "source": [
    "df.head(3)"
   ]
  },
  {
   "cell_type": "code",
   "execution_count": null,
   "id": "c3979dd1",
   "metadata": {},
   "outputs": [],
   "source": [
    "df['newcol'].value_counts()"
   ]
  },
  {
   "cell_type": "code",
   "execution_count": null,
   "id": "6b4ff07a-1ecb-49f5-a455-a64d1cfb157a",
   "metadata": {},
   "outputs": [],
   "source": []
  },
  {
   "cell_type": "code",
   "execution_count": null,
   "id": "cc7f959a-3bad-44ba-a530-c8f388b063f0",
   "metadata": {},
   "outputs": [],
   "source": []
  },
  {
   "cell_type": "markdown",
   "id": "ca61d9fc",
   "metadata": {},
   "source": [
    "### Bonus"
   ]
  },
  {
   "cell_type": "code",
   "execution_count": null,
   "id": "2c9443a4",
   "metadata": {},
   "outputs": [],
   "source": [
    "import seaborn as sns\n",
    "import matplotlib.pyplot as plt\n",
    "import warnings\n",
    "warnings.filterwarnings('ignore')\n",
    "\n",
    "sns.countplot(x=df['newcol'])\n",
    "plt.show()"
   ]
  },
  {
   "cell_type": "code",
   "execution_count": null,
   "id": "b8adda26",
   "metadata": {},
   "outputs": [],
   "source": []
  },
  {
   "cell_type": "code",
   "execution_count": null,
   "id": "6165ec61",
   "metadata": {},
   "outputs": [],
   "source": []
  },
  {
   "cell_type": "markdown",
   "id": "6642e89e",
   "metadata": {},
   "source": [
    "**Example:** Using a Lambda function with `map()`"
   ]
  },
  {
   "cell_type": "code",
   "execution_count": null,
   "id": "d4d873a2",
   "metadata": {},
   "outputs": [],
   "source": [
    "df['age'].map(lambda x: \"Adult\" if x > 18 else \"Child\")"
   ]
  },
  {
   "cell_type": "markdown",
   "id": "5bc92f3e",
   "metadata": {},
   "source": [
    "**Example:** Using a Lambda Function with `map()`"
   ]
  },
  {
   "cell_type": "code",
   "execution_count": 23,
   "id": "8a713e9e",
   "metadata": {},
   "outputs": [],
   "source": [
    "# You cannot pass upper to map() as we have passed len to map() \n",
    "# as upper() is not a built-in function rather is a method of string class\n",
    "#df['name'].map(upper)"
   ]
  },
  {
   "cell_type": "code",
   "execution_count": null,
   "id": "140fd99e",
   "metadata": {},
   "outputs": [],
   "source": [
    "df['name'].map(lambda x: x.upper())\n",
    "# df.name.map(lambda x:x.lower())"
   ]
  },
  {
   "cell_type": "markdown",
   "id": "28027d16",
   "metadata": {},
   "source": [
    "**Example:** Passing a Dictionary {oldval:newval} to `map()` for changing selected values of a categorical column"
   ]
  },
  {
   "cell_type": "code",
   "execution_count": null,
   "id": "8faa4abc",
   "metadata": {},
   "outputs": [],
   "source": [
    "import pandas as pd\n",
    "df = pd.read_csv('datasets/groupdata.csv')\n",
    "df.head()"
   ]
  },
  {
   "cell_type": "code",
   "execution_count": null,
   "id": "63b71ee7",
   "metadata": {},
   "outputs": [],
   "source": [
    "df.session.unique() # df['session'].unique()"
   ]
  },
  {
   "cell_type": "code",
   "execution_count": null,
   "id": "81e79035-1fb0-49f5-906b-13633c4f582f",
   "metadata": {},
   "outputs": [],
   "source": [
    "df.session.value_counts() "
   ]
  },
  {
   "cell_type": "code",
   "execution_count": null,
   "id": "931f435f",
   "metadata": {},
   "outputs": [],
   "source": [
    "# print(dir(df['session']))"
   ]
  },
  {
   "cell_type": "code",
   "execution_count": null,
   "id": "a11cdd27",
   "metadata": {},
   "outputs": [],
   "source": [
    "df['session'].map({'MORNING':'M', 'AFTERNOON':'A'})"
   ]
  },
  {
   "cell_type": "code",
   "execution_count": null,
   "id": "70b6dfc1",
   "metadata": {},
   "outputs": [],
   "source": [
    "df['session'].map({'MORNING':'M', 'AFTERNOON':'A', 'AFT':'F','MOR':'M'})"
   ]
  },
  {
   "cell_type": "markdown",
   "id": "38033e00",
   "metadata": {},
   "source": [
    ">**Limitations of `map()` Method**\n",
    ">- If there are values for which there is no match, the old values are changed and have become NaN. Solution is use `df.replace()` method\n",
    ">- You can use it on an iterable or Series object not with entire dataframe. Solution is use `df.apply()` and `df.applymap()`"
   ]
  },
  {
   "cell_type": "markdown",
   "id": "93f3251e",
   "metadata": {},
   "source": [
    "#### b. The `df.replace()` Method\n",
    "- The `df.replace()` method is used to replace values given in `to_replace` with `value`\n",
    "- The matching values in the entire dataframe are replaced with new values dynamically.\n",
    "- This differs from updating with ``.loc`` or ``.iloc``, which require you to specify a location to update with some value.\n",
    "\n",
    "```\n",
    "df.replace(to_replace, value, inplace=False)\n",
    "```"
   ]
  },
  {
   "cell_type": "code",
   "execution_count": null,
   "id": "2c2699f1",
   "metadata": {},
   "outputs": [],
   "source": [
    "df = pd.read_csv('datasets/groupdata.csv')\n",
    "df.head()"
   ]
  },
  {
   "cell_type": "code",
   "execution_count": null,
   "id": "2ed1fd7d",
   "metadata": {},
   "outputs": [],
   "source": [
    "df['session'].replace({'MORNING':'M', 'AFTERNOON':'A'})"
   ]
  },
  {
   "cell_type": "markdown",
   "id": "c0188b0a",
   "metadata": {},
   "source": [
    ">- Note that now there are no NaN values, rather the values that do not have a match remains as such\n",
    ">- Another important point is `replace()` method works equally well with dataframe"
   ]
  },
  {
   "cell_type": "code",
   "execution_count": 10,
   "id": "8709a3ed",
   "metadata": {},
   "outputs": [],
   "source": [
    "# Calling replace on entire dataframe\n",
    "df.replace({'MORNING':'M', 'AFTERNOON':'A', 'group A':'GROUP-A','Ehtisham':'Ehtisham Sadiq'}, inplace=True)"
   ]
  },
  {
   "cell_type": "code",
   "execution_count": null,
   "id": "3ed50c90",
   "metadata": {},
   "outputs": [],
   "source": [
    "# Above operation is not inplace\n",
    "df"
   ]
  },
  {
   "cell_type": "code",
   "execution_count": null,
   "id": "8e827091",
   "metadata": {},
   "outputs": [],
   "source": []
  },
  {
   "cell_type": "markdown",
   "id": "c46872bf",
   "metadata": {},
   "source": [
    "#### c. The `df.apply()` Method\n",
    "- The `df.apply()` method is used to run a function along the mentioned axis of the dataframe. \n",
    "- In simple words, `apply()` method runs a function on all the elements of a series of a dataframe\n",
    "\n",
    "```\n",
    "df.apply(func, axis=0, args)\n",
    "```\n",
    "- Where,\n",
    "    - `func`: It can be a built-in, user-defined or a lambda function that is applied to every series of the dataframe as per the axis argument. (Objects passed to the func are series objects)\n",
    "    - `axis`: The default value of axis argument is zero, so the func is applied to each column. If you want to apply the func to the values of a row, mention axis as one.\n",
    "    - `args` : If you want to pass additional arguments to `func` in addition to the element of series, you can pass them as a tuple."
   ]
  },
  {
   "cell_type": "code",
   "execution_count": null,
   "id": "88be0313",
   "metadata": {},
   "outputs": [],
   "source": [
    "import pandas as pd\n",
    "df = pd.read_csv('datasets/groupdata.csv')\n",
    "df.head(3)"
   ]
  },
  {
   "cell_type": "code",
   "execution_count": null,
   "id": "b1fa238b",
   "metadata": {},
   "outputs": [],
   "source": [
    "len(\"Ehtisham\")"
   ]
  },
  {
   "cell_type": "code",
   "execution_count": null,
   "id": "f6adbf16",
   "metadata": {},
   "outputs": [],
   "source": [
    "# Let us pass the built-in function `len()` and compute the length of each name under the name column of df\n",
    "# So now the len() method is applied to all the values of a single column and return a series object\n",
    "df['name'].apply(len)"
   ]
  },
  {
   "cell_type": "code",
   "execution_count": null,
   "id": "b391115f",
   "metadata": {},
   "outputs": [],
   "source": [
    "# Let us pass a user-defined function, with an additional argument as well. This was not possible with map() method\n",
    "def myfunc( age):\n",
    "    if age < 18:\n",
    "        return \"Young\"\n",
    "    else:\n",
    "        return \"Old\"\n",
    "\n",
    "df['age'].apply(myfunc)"
   ]
  },
  {
   "cell_type": "code",
   "execution_count": null,
   "id": "83665626",
   "metadata": {},
   "outputs": [],
   "source": []
  },
  {
   "cell_type": "code",
   "execution_count": null,
   "id": "8a4ecf5a",
   "metadata": {},
   "outputs": [],
   "source": [
    "# Let us use Lambda function to convert each name under the name column of df to upper case\n",
    "df['name'].apply(lambda x : x.upper())"
   ]
  },
  {
   "cell_type": "code",
   "execution_count": 17,
   "id": "c15fdb60",
   "metadata": {},
   "outputs": [],
   "source": [
    "# If you are satisfied with the result, you may assign it to the specific column\n",
    "df['name'] = df['name'].apply(lambda x : x.upper())"
   ]
  },
  {
   "cell_type": "code",
   "execution_count": null,
   "id": "8a722573",
   "metadata": {},
   "outputs": [],
   "source": [
    "df"
   ]
  },
  {
   "cell_type": "markdown",
   "id": "92605cde",
   "metadata": {},
   "source": [
    "**Question**: Can anyone guess what this LOC will do?\n",
    "\n",
    "```df['subj1'] = df['subj1'].apply(lambda x : x+5)```"
   ]
  },
  {
   "cell_type": "code",
   "execution_count": 19,
   "id": "01efe914",
   "metadata": {},
   "outputs": [],
   "source": [
    "df['subj1'] = df['subj1'].apply(lambda x : x+5)"
   ]
  },
  {
   "cell_type": "code",
   "execution_count": null,
   "id": "76afc62d",
   "metadata": {},
   "outputs": [],
   "source": []
  },
  {
   "cell_type": "code",
   "execution_count": null,
   "id": "17c9c24b",
   "metadata": {},
   "outputs": [],
   "source": [
    "df.head()"
   ]
  },
  {
   "cell_type": "code",
   "execution_count": null,
   "id": "5cbf4911",
   "metadata": {},
   "outputs": [],
   "source": []
  },
  {
   "cell_type": "markdown",
   "id": "79ebbbb4",
   "metadata": {},
   "source": [
    "#### b. The `df.applymap()` Method\n",
    "- The `df.applymap()` method applies a function to datafreame element wise.\n",
    "\n",
    "```\n",
    "df.applymap(func, axis=0)\n",
    "```\n",
    "- Where,\n",
    "    - `func`: A function that is passed a single value and returns a single value.\n",
    "    \n",
    "Note: A Series object do not have a `applymap()` method, so you cannot call it with a Series object"
   ]
  },
  {
   "cell_type": "code",
   "execution_count": 21,
   "id": "a05c583f",
   "metadata": {},
   "outputs": [],
   "source": [
    "df = pd.read_csv('datasets/groupdata.csv')"
   ]
  },
  {
   "cell_type": "code",
   "execution_count": 22,
   "id": "b8ef5c3c",
   "metadata": {},
   "outputs": [],
   "source": [
    "df_string = df.loc[:,['name','address','session', 'group', 'gender']]\n",
    "df_numeric = df.loc[:,['age','subj1','subj2','scholarship']]"
   ]
  },
  {
   "cell_type": "code",
   "execution_count": null,
   "id": "edfe659e-38fb-49fa-a39e-5fa7c5b9b0a1",
   "metadata": {},
   "outputs": [],
   "source": [
    "df_numeric.head()"
   ]
  },
  {
   "cell_type": "code",
   "execution_count": null,
   "id": "e8c42d9d-c2a5-407a-b297-c2f0b85dfb04",
   "metadata": {},
   "outputs": [],
   "source": [
    "df_string.head()"
   ]
  },
  {
   "cell_type": "code",
   "execution_count": null,
   "id": "72ec7270",
   "metadata": {},
   "outputs": [],
   "source": [
    "df_string.applymap(str.upper).head()"
   ]
  },
  {
   "cell_type": "code",
   "execution_count": null,
   "id": "f58800a3",
   "metadata": {},
   "outputs": [],
   "source": [
    "# The applymap() method will apply the len function on each element of dataframe \n",
    "df_numeric.applymap(lambda x : x+5).head(5)"
   ]
  },
  {
   "cell_type": "code",
   "execution_count": null,
   "id": "905c58d3",
   "metadata": {},
   "outputs": [],
   "source": []
  },
  {
   "cell_type": "markdown",
   "id": "9e3c929e",
   "metadata": {},
   "source": [
    "### Bonus"
   ]
  },
  {
   "cell_type": "code",
   "execution_count": 26,
   "id": "32fb957c",
   "metadata": {},
   "outputs": [],
   "source": [
    "import seaborn as sns\n",
    "df = sns.load_dataset('titanic')"
   ]
  },
  {
   "cell_type": "code",
   "execution_count": null,
   "id": "463aa598",
   "metadata": {},
   "outputs": [],
   "source": [
    "df.head()"
   ]
  },
  {
   "cell_type": "code",
   "execution_count": null,
   "id": "81d1f780",
   "metadata": {},
   "outputs": [],
   "source": [
    "# distribution of fare\n",
    "df.fare.describe()"
   ]
  },
  {
   "cell_type": "code",
   "execution_count": null,
   "id": "0db2d10a",
   "metadata": {},
   "outputs": [],
   "source": [
    "df['fare'].dtype"
   ]
  },
  {
   "cell_type": "code",
   "execution_count": 30,
   "id": "260bc3b6",
   "metadata": {},
   "outputs": [],
   "source": [
    "def convert_fare_into_discrete_classes(value):\n",
    "    if isinstance(value, float):\n",
    "        if value <= 7.1904 and value >= 0.0:\n",
    "            return \"Low Fare\"\n",
    "        elif value <= 31.00 and value > 7.9104:\n",
    "            return \"Normal Fare\"\n",
    "        else:\n",
    "            return \"High Fare\"\n",
    "    else:\n",
    "        return \"Irrelevent Class\""
   ]
  },
  {
   "cell_type": "code",
   "execution_count": null,
   "id": "0d74f942",
   "metadata": {},
   "outputs": [],
   "source": [
    "df['fare'].apply(convert_fare_into_discrete_classes)"
   ]
  },
  {
   "cell_type": "code",
   "execution_count": null,
   "id": "58d8a896",
   "metadata": {},
   "outputs": [],
   "source": [
    "df['fare'].apply(convert_fare_into_discrete_classes).value_counts()"
   ]
  },
  {
   "cell_type": "code",
   "execution_count": null,
   "id": "f97e4a6b-dbe2-49ff-aad2-177b0775a6b2",
   "metadata": {},
   "outputs": [],
   "source": []
  },
  {
   "cell_type": "markdown",
   "id": "9bad3f7b",
   "metadata": {},
   "source": [
    "## 4. Add a New Column in a Dataframe\n",
    "- To add a new column in a dataframe, create an appropriate series and then assign it to the dataframe\n",
    "- Every time a new series is added to a dataframe, its name automatically becomes an attribute of that dataframe.\n",
    "- It can be a series created from scratch, which can be numbersome if the dataframe has thousands of rows.\n",
    "- Another common way to add a column is construct a series from the existing data within the dataframe\n",
    "- Let us understand this with an example"
   ]
  },
  {
   "cell_type": "code",
   "execution_count": 2,
   "id": "ffac9efb-fcae-4ef2-b427-7dd8caf899c4",
   "metadata": {},
   "outputs": [],
   "source": [
    "# Recap\n",
    "# Introduction to Python\n",
    "# NumPy, Pandas(definition, features, data-structures, Series/DataFrame, Modification)"
   ]
  },
  {
   "cell_type": "code",
   "execution_count": 33,
   "id": "14817018-a795-45c1-877e-e97e0f4b1808",
   "metadata": {},
   "outputs": [],
   "source": [
    "import pandas as pd\n",
    "import numpy as np\n",
    "df = pd.read_csv(\"datasets/groupdata.csv\")"
   ]
  },
  {
   "cell_type": "code",
   "execution_count": null,
   "id": "b8cdfcf1",
   "metadata": {},
   "outputs": [],
   "source": [
    "df"
   ]
  },
  {
   "cell_type": "code",
   "execution_count": null,
   "id": "83d30509",
   "metadata": {},
   "outputs": [],
   "source": [
    "df.shape"
   ]
  },
  {
   "cell_type": "code",
   "execution_count": null,
   "id": "36fe7505",
   "metadata": {},
   "outputs": [],
   "source": [
    "np.random.randint(50,95,16) # this returns numpy array"
   ]
  },
  {
   "cell_type": "code",
   "execution_count": null,
   "id": "3ed2f4ae",
   "metadata": {},
   "outputs": [],
   "source": [
    "pd.Series(np.random.randint(50,95,16))"
   ]
  },
  {
   "cell_type": "code",
   "execution_count": null,
   "id": "64b31591",
   "metadata": {},
   "outputs": [],
   "source": [
    "# adding new column using pandas series method\n",
    "df['subj3'] = pd.Series(np.random.randint(50,95,16))\n",
    "df.head()"
   ]
  },
  {
   "cell_type": "code",
   "execution_count": null,
   "id": "e3891a32",
   "metadata": {},
   "outputs": [],
   "source": [
    "df"
   ]
  },
  {
   "cell_type": "code",
   "execution_count": 40,
   "id": "d6d0d9af",
   "metadata": {},
   "outputs": [],
   "source": [
    "# F20BINFT1M01157 -> Fall, year, BS, IT, 1, M, "
   ]
  },
  {
   "cell_type": "code",
   "execution_count": null,
   "id": "bffa4512-a14c-4c81-89be-699ca3941e44",
   "metadata": {},
   "outputs": [],
   "source": []
  },
  {
   "cell_type": "markdown",
   "id": "52825bce",
   "metadata": {},
   "source": [
    "**Question:** Create a new Column name `Eligibility` from marks of all the subjects. If marks are greater than 70%, student will be `Eligibility` for scholarship."
   ]
  },
  {
   "cell_type": "code",
   "execution_count": null,
   "id": "e742200e-642f-440d-9fa9-da02833e467c",
   "metadata": {},
   "outputs": [],
   "source": [
    "df[['subj1', 'subj2', 'subj3']]"
   ]
  },
  {
   "cell_type": "code",
   "execution_count": null,
   "id": "a3ed6b5f-f648-4d10-a7c4-d8e561b8ac1a",
   "metadata": {},
   "outputs": [],
   "source": [
    "df[['subj1', 'subj2', 'subj3']].sum()"
   ]
  },
  {
   "cell_type": "code",
   "execution_count": null,
   "id": "9b837cf0-e3c5-4053-b220-b97a2218ea08",
   "metadata": {},
   "outputs": [],
   "source": [
    "df[['subj1', 'subj2', 'subj3']].sum(axis=1)"
   ]
  },
  {
   "cell_type": "code",
   "execution_count": null,
   "id": "e9ccf85c-dada-495f-9d76-42eda2f922d8",
   "metadata": {},
   "outputs": [],
   "source": [
    "df[['subj1', 'subj2', 'subj3']].sum(axis=1) / 300 "
   ]
  },
  {
   "cell_type": "code",
   "execution_count": null,
   "id": "288210f7-f657-440c-939e-7856e2775d48",
   "metadata": {},
   "outputs": [],
   "source": [
    "(df[['subj1', 'subj2', 'subj3']].sum(axis=1) / 300 ) *100"
   ]
  },
  {
   "cell_type": "code",
   "execution_count": 18,
   "id": "c4642745",
   "metadata": {
    "scrolled": true
   },
   "outputs": [],
   "source": [
    "# (df[['subj1', 'subj2', 'subj3']].sum(axis=1) / 300)*100"
   ]
  },
  {
   "cell_type": "code",
   "execution_count": null,
   "id": "e8ccdebd",
   "metadata": {},
   "outputs": [],
   "source": [
    "((df[['subj1','subj2','subj3']].sum(axis=1)/300)*100) > 70"
   ]
  },
  {
   "cell_type": "code",
   "execution_count": null,
   "id": "c5f93122",
   "metadata": {},
   "outputs": [],
   "source": [
    "# create a new column to find the students those are eligible for scholarship\n",
    "df['Eligibility'] = ((df[['subj1','subj2','subj3']].sum(axis=1)/300)*100) > 70\n",
    "df"
   ]
  },
  {
   "cell_type": "code",
   "execution_count": 48,
   "id": "0fcaae77",
   "metadata": {},
   "outputs": [],
   "source": [
    "df.Eligibility = df.Eligibility.replace({True:'Eligible',False:'Not_Eligible'})\n"
   ]
  },
  {
   "cell_type": "code",
   "execution_count": null,
   "id": "5e4c9b3e-97c5-4d03-a4fd-9df153c13276",
   "metadata": {},
   "outputs": [],
   "source": [
    "df"
   ]
  },
  {
   "cell_type": "code",
   "execution_count": null,
   "id": "b99b4000",
   "metadata": {},
   "outputs": [],
   "source": [
    "df.Eligibility.value_counts()"
   ]
  },
  {
   "cell_type": "code",
   "execution_count": null,
   "id": "c322954f",
   "metadata": {},
   "outputs": [],
   "source": []
  },
  {
   "cell_type": "markdown",
   "id": "df1738da",
   "metadata": {},
   "source": [
    "## 5. Delete an Existing Column from a Dataframe\n",
    "- You can use any of the following ways to delete a column from a dataframe:\n",
    "    - Use `del df['colname']`, which will remove the column, but will not return it\n",
    "    - Use `df.pop('colname')` method which will remove that column as well as return the deleted column as a series\n",
    "    - Use `df.drop()` is a better method than the above two. It can delete more than one columns and is not inplace. Moreover, it can be used to delete rows as well"
   ]
  },
  {
   "cell_type": "markdown",
   "id": "c2d86ca6",
   "metadata": {},
   "source": [
    "####  Option 1: Using `del df['colname']`\n",
    "- The `del df['colname']` will remove the column without returning it. It is inplace"
   ]
  },
  {
   "cell_type": "code",
   "execution_count": null,
   "id": "5511ebd2",
   "metadata": {},
   "outputs": [],
   "source": []
  },
  {
   "cell_type": "code",
   "execution_count": 24,
   "id": "50a09bad",
   "metadata": {},
   "outputs": [],
   "source": [
    "del df['Eligibility']"
   ]
  },
  {
   "cell_type": "code",
   "execution_count": null,
   "id": "97f35191",
   "metadata": {},
   "outputs": [],
   "source": [
    "df.columns"
   ]
  },
  {
   "cell_type": "markdown",
   "id": "cc305cde",
   "metadata": {},
   "source": [
    "#### Option 2: Using `df.pop('colname')`\n",
    "- The `df.pop('colname')` method will remove the column and will return the Series that has been removed from the dataframe. It is inplace"
   ]
  },
  {
   "cell_type": "code",
   "execution_count": null,
   "id": "57de4bb0",
   "metadata": {},
   "outputs": [],
   "source": [
    "df.pop('subj3')"
   ]
  },
  {
   "cell_type": "code",
   "execution_count": null,
   "id": "631ef750",
   "metadata": {},
   "outputs": [],
   "source": []
  },
  {
   "cell_type": "code",
   "execution_count": null,
   "id": "d5a1fe0b",
   "metadata": {},
   "outputs": [],
   "source": [
    "df.columns"
   ]
  },
  {
   "cell_type": "code",
   "execution_count": null,
   "id": "7e38dcd5",
   "metadata": {},
   "outputs": [],
   "source": []
  },
  {
   "cell_type": "markdown",
   "id": "b657b118",
   "metadata": {},
   "source": [
    "####  Option 3: Using `df.drop()`\n",
    "- The `df.drop()` method is used to remove one or more columns and will return a Series or Dataframe object accordingly.\n",
    "\n",
    "```\n",
    "df.drop(columns=[---],  axis=1, inplace=False)\n",
    "```\n",
    "- If you want to drop more than one columns, pass the names of columns to be deleted as a Python List to the `columns` parameter and to the `axis` argument pass 1. (`axis` argument specifies the direction of operation, which is left to right while deleting columns)\n",
    "- By default it is not inplace. Most of Pandas methods that return a dataframe has an inplace paremeter with default value set to False. It means the operation will not effect the underlying change"
   ]
  },
  {
   "cell_type": "code",
   "execution_count": null,
   "id": "ebe2476b",
   "metadata": {},
   "outputs": [],
   "source": [
    "import pandas as pd\n",
    "df = pd.read_csv('datasets/groupdata.csv')\n",
    "df.head(3)"
   ]
  },
  {
   "cell_type": "code",
   "execution_count": null,
   "id": "90e289ee",
   "metadata": {},
   "outputs": [],
   "source": [
    "# drop just one column\n",
    "df.drop(columns = 'name')"
   ]
  },
  {
   "cell_type": "code",
   "execution_count": null,
   "id": "5cd4b4b2",
   "metadata": {},
   "outputs": [],
   "source": [
    "df"
   ]
  },
  {
   "cell_type": "code",
   "execution_count": null,
   "id": "7866e451",
   "metadata": {},
   "outputs": [],
   "source": [
    "# Remember axis is the direction of operation, and axis=1 is the column axis that goes from left to right\n",
    "df.drop(columns=['name', 'age', 'address'], axis=1)"
   ]
  },
  {
   "cell_type": "markdown",
   "id": "a5db86f5",
   "metadata": {},
   "source": [
    "> It has just returned the resulting dataframe after removing the columns. No change has made to the original dataframe"
   ]
  },
  {
   "cell_type": "markdown",
   "id": "329084fb",
   "metadata": {},
   "source": [
    "Let us repeat the operation, with `inplace=True`. Note this time it will return None. However, changes has been made to the original dataframe "
   ]
  },
  {
   "cell_type": "code",
   "execution_count": 32,
   "id": "5e273860",
   "metadata": {},
   "outputs": [],
   "source": [
    "df.drop(columns=['name', 'age', 'address'], axis=1, inplace=True)"
   ]
  },
  {
   "cell_type": "code",
   "execution_count": null,
   "id": "c9ecb51f",
   "metadata": {},
   "outputs": [],
   "source": [
    "df.head()"
   ]
  },
  {
   "cell_type": "code",
   "execution_count": null,
   "id": "d2b302e3",
   "metadata": {},
   "outputs": [],
   "source": []
  },
  {
   "cell_type": "markdown",
   "id": "86797810",
   "metadata": {},
   "source": [
    "## 6. Add a New Row in  a Dataframe\n",
    "- To add a new row in a dataframe, create an appropriate dataframe and then use `df.append()` method, which will return a new dataframe with the row added.\n",
    "```\n",
    "df.append(other, ignore_index=False)\n",
    "```\n",
    "\n"
   ]
  },
  {
   "cell_type": "code",
   "execution_count": null,
   "id": "2590c267",
   "metadata": {},
   "outputs": [],
   "source": [
    "import numpy as np\n",
    "import pandas as pd\n",
    "df = pd.read_csv('datasets/groupdata.csv')\n",
    "df.tail()"
   ]
  },
  {
   "cell_type": "code",
   "execution_count": null,
   "id": "0f3de1dc",
   "metadata": {},
   "outputs": [],
   "source": [
    "# Let us create a new dataframe having a single row\n",
    "newdf = pd.DataFrame(\n",
    "     data = [[18, 'Suleman', 28, 'Lahore','AFT', 'group D', 'Male', 75.0, 65.0, 9999]],\n",
    "     columns = ['roll no','name', 'age', 'address', 'session', 'group', 'gender','subj1', 'subj2', 'scholarship']\n",
    ")\n",
    "newdf"
   ]
  },
  {
   "cell_type": "code",
   "execution_count": null,
   "id": "055bfd94",
   "metadata": {},
   "outputs": [],
   "source": [
    "df.append(newdf, ignore_index=True)"
   ]
  },
  {
   "cell_type": "code",
   "execution_count": null,
   "id": "0c0c52b5",
   "metadata": {},
   "outputs": [],
   "source": [
    "pd.concat([df, newdf], ignore_index=True)"
   ]
  },
  {
   "cell_type": "code",
   "execution_count": 39,
   "id": "6dc31a80",
   "metadata": {},
   "outputs": [],
   "source": [
    "# # Let us create a new dataframe having a single row\n",
    "# newdf = pd.DataFrame(\n",
    "#      data = [[18, 'Suleman', 28, 'Lahore','AFT', 'group D', 'Male', 75.0, 65.0]],\n",
    "#      columns = ['roll no','name', 'age', 'address', 'session', 'group', 'gender','subj1', 'subj2']\n",
    "# )\n",
    "# newdf"
   ]
  },
  {
   "cell_type": "code",
   "execution_count": null,
   "id": "79887abd",
   "metadata": {},
   "outputs": [],
   "source": []
  },
  {
   "cell_type": "markdown",
   "id": "4ce5e528",
   "metadata": {},
   "source": [
    "> **Note:** The index associated with the only row in above dataframe is 0. Moreover, the sequence of columns is not same (name is coming before rollno)"
   ]
  },
  {
   "cell_type": "code",
   "execution_count": 40,
   "id": "09d211c5",
   "metadata": {},
   "outputs": [],
   "source": [
    "# df = df.append(newdf, ignore_index=True )\n",
    "# df.tail()"
   ]
  },
  {
   "cell_type": "markdown",
   "id": "4c089e0b",
   "metadata": {},
   "source": [
    "- Note that the due to `ignore_index=True` argument it has been assigned the next available index. Otherwise, the new row will also have row index 0.\n",
    "- Moreover, note the NaN value under the scholarship column against the new added row\n",
    "- One last thing, the `df.append()` method do not have `inplace` argument, so you always have to assign the resulting dataframe to the original `df`. \n",
    "- Please check this out as to why `df.drop()` has `inplace` argument, while **`df.append()` does not have `inplace` argument.**"
   ]
  },
  {
   "cell_type": "code",
   "execution_count": null,
   "id": "2ca492c3",
   "metadata": {},
   "outputs": [],
   "source": []
  },
  {
   "cell_type": "markdown",
   "id": "e3750104",
   "metadata": {},
   "source": [
    "## 8. Delete an Existing Row(s) from a Dataframe\n",
    "- The `df.drop()` method is used to remove one or more rows (other than columns) and will return a Series or Dataframe object accordingly.\n",
    "\n",
    "```\n",
    "df.drop(index=[---],  axis=0, inplace=False)\n",
    "```\n",
    "- If you want to drop more than one rows, pass the row indices to be deleted as a Python List to the `index` parameter and to the `axis` argument pass 0. (`axis` argument specifies the direction of operation, which is top to bottom while deleting rows)\n",
    "- By default it is not inplace. Most of Pandas methods that return a dataframe has an inplace paremeter with default value set to False. It means the operation will not effect the underlying change"
   ]
  },
  {
   "cell_type": "code",
   "execution_count": null,
   "id": "0cb29f6c",
   "metadata": {},
   "outputs": [],
   "source": [
    "import pandas as pd\n",
    "df = pd.read_csv('datasets/groupdata.csv')\n",
    "df.head()"
   ]
  },
  {
   "cell_type": "code",
   "execution_count": null,
   "id": "29168c19",
   "metadata": {},
   "outputs": [],
   "source": [
    "df.loc[[2,4],:]"
   ]
  },
  {
   "cell_type": "code",
   "execution_count": 43,
   "id": "329b700a",
   "metadata": {},
   "outputs": [],
   "source": [
    "df.drop(index=[2,4], axis=0, inplace = True)"
   ]
  },
  {
   "cell_type": "code",
   "execution_count": null,
   "id": "27e468d3",
   "metadata": {},
   "outputs": [],
   "source": [
    "df"
   ]
  },
  {
   "cell_type": "code",
   "execution_count": 47,
   "id": "6049f9eb",
   "metadata": {},
   "outputs": [],
   "source": [
    "# df.reset_index(drop=True)"
   ]
  },
  {
   "cell_type": "markdown",
   "id": "43e850ab",
   "metadata": {},
   "source": [
    "## 8. Adding a New Column with Conditional Values"
   ]
  },
  {
   "cell_type": "code",
   "execution_count": null,
   "id": "ae4c58a5",
   "metadata": {},
   "outputs": [],
   "source": [
    "import pandas as pd\n",
    "df = pd.read_csv('datasets/groupdata.csv')\n",
    "df.head()"
   ]
  },
  {
   "cell_type": "markdown",
   "id": "bdbda63f",
   "metadata": {},
   "source": [
    "**Example:** Add a new column `total` that contains sum of marks in `subj1` and `subj2`. Then add a new column that should contain string `\"Good\"` if `total>150` other wise string `\"Bad\"`"
   ]
  },
  {
   "cell_type": "code",
   "execution_count": null,
   "id": "484a89a7",
   "metadata": {},
   "outputs": [],
   "source": [
    "df[['subj1','subj2']]"
   ]
  },
  {
   "cell_type": "code",
   "execution_count": null,
   "id": "b7180857",
   "metadata": {},
   "outputs": [],
   "source": [
    "# df['total'] = \n",
    "df['subj1'] + df['subj2']\n",
    "# df['total']"
   ]
  },
  {
   "cell_type": "code",
   "execution_count": null,
   "id": "8c414aa1-b925-4061-880b-02c1b3667516",
   "metadata": {},
   "outputs": [],
   "source": [
    "df['subj1'].add(df['subj2'], fill_value=0)"
   ]
  },
  {
   "cell_type": "code",
   "execution_count": 62,
   "id": "f73fefe7",
   "metadata": {},
   "outputs": [],
   "source": [
    "df['total'] = df['subj1'].add(df['subj2'], fill_value=0)"
   ]
  },
  {
   "cell_type": "code",
   "execution_count": null,
   "id": "397e47c4",
   "metadata": {},
   "outputs": [],
   "source": [
    "df.sample(5)"
   ]
  },
  {
   "cell_type": "code",
   "execution_count": null,
   "id": "cb1b375a",
   "metadata": {},
   "outputs": [],
   "source": [
    "def add_status(value):\n",
    "    if value>150:\n",
    "        return \"Good\"\n",
    "    else:\n",
    "        return \"Bad\"\n",
    "df['total'].apply(add_status)"
   ]
  },
  {
   "cell_type": "code",
   "execution_count": 65,
   "id": "377780b1-a32a-41af-adff-90b6b5756c40",
   "metadata": {},
   "outputs": [],
   "source": [
    "df['status'] =  df['total'].apply(add_status)"
   ]
  },
  {
   "cell_type": "code",
   "execution_count": null,
   "id": "4309136f-2ef3-4455-88f7-f00ed592b4a0",
   "metadata": {},
   "outputs": [],
   "source": [
    "df"
   ]
  },
  {
   "cell_type": "markdown",
   "id": "feadbedc",
   "metadata": {},
   "source": [
    "> Try: Using Lambda Function"
   ]
  },
  {
   "cell_type": "code",
   "execution_count": null,
   "id": "7e4ee8ef",
   "metadata": {},
   "outputs": [],
   "source": []
  },
  {
   "cell_type": "code",
   "execution_count": null,
   "id": "690452ff",
   "metadata": {},
   "outputs": [],
   "source": []
  },
  {
   "cell_type": "markdown",
   "id": "bb1c22b9",
   "metadata": {},
   "source": [
    "## 9. Deleting Row(s) Based on Specific Condition"
   ]
  },
  {
   "cell_type": "code",
   "execution_count": null,
   "id": "097db715",
   "metadata": {},
   "outputs": [],
   "source": [
    "df = pd.read_csv('datasets/groupdata.csv')\n",
    "df.head()"
   ]
  },
  {
   "cell_type": "code",
   "execution_count": null,
   "id": "90c92ff2",
   "metadata": {},
   "outputs": [],
   "source": [
    "df['session'] == 'AFT'"
   ]
  },
  {
   "cell_type": "code",
   "execution_count": null,
   "id": "d2da50bd",
   "metadata": {},
   "outputs": [],
   "source": [
    "df[df['session'] == 'AFT']"
   ]
  },
  {
   "cell_type": "code",
   "execution_count": null,
   "id": "40fa33bf",
   "metadata": {},
   "outputs": [],
   "source": [
    "df[df['session'] == 'AFT'].index"
   ]
  },
  {
   "cell_type": "code",
   "execution_count": null,
   "id": "15d7d4b0",
   "metadata": {},
   "outputs": [],
   "source": [
    "# Let us drop an entire row from the data frame, in which session is 'AFT'\n",
    "# Get the indices where session == 'AFT' using the .index function\n",
    "indices = df[df['session'] == 'AFT'].index\n",
    "indices"
   ]
  },
  {
   "cell_type": "code",
   "execution_count": 72,
   "id": "edeb0f9e",
   "metadata": {},
   "outputs": [],
   "source": [
    "df.drop(index=indices, inplace=True)"
   ]
  },
  {
   "cell_type": "code",
   "execution_count": null,
   "id": "ef4825fd",
   "metadata": {},
   "outputs": [],
   "source": [
    "df"
   ]
  },
  {
   "cell_type": "code",
   "execution_count": null,
   "id": "0664252d",
   "metadata": {},
   "outputs": [],
   "source": [
    "# Complete Code\n",
    "df.drop(index = df[df['session']=='AFT'].index, inplace=True)\n",
    "df"
   ]
  },
  {
   "cell_type": "code",
   "execution_count": null,
   "id": "8f1098d8",
   "metadata": {},
   "outputs": [],
   "source": []
  },
  {
   "cell_type": "code",
   "execution_count": null,
   "id": "b61f4fc9",
   "metadata": {},
   "outputs": [],
   "source": []
  },
  {
   "cell_type": "markdown",
   "id": "d354a746",
   "metadata": {},
   "source": [
    "## 10. Delete a Column  Based on Specific Condition"
   ]
  },
  {
   "cell_type": "code",
   "execution_count": null,
   "id": "a19c885a",
   "metadata": {},
   "outputs": [],
   "source": [
    "df = pd.read_csv('datasets/groupdata.csv')\n",
    "df"
   ]
  },
  {
   "cell_type": "markdown",
   "id": "d42e093d",
   "metadata": {},
   "source": [
    "**Example:** Let us drop the column(s) from above data frame, if it has >= than 2 NaN values."
   ]
  },
  {
   "cell_type": "code",
   "execution_count": null,
   "id": "e83d1b1c",
   "metadata": {},
   "outputs": [],
   "source": [
    "# 35% missing value -> drop\n",
    "df.isna().sum()"
   ]
  },
  {
   "cell_type": "code",
   "execution_count": null,
   "id": "47f75fa7-f6f7-4a2e-9478-26b2d657801a",
   "metadata": {},
   "outputs": [],
   "source": [
    "df.isna().sum() >= 2"
   ]
  },
  {
   "cell_type": "code",
   "execution_count": null,
   "id": "205ad9ad-2833-4a97-a20c-5d6bc4b23995",
   "metadata": {},
   "outputs": [],
   "source": [
    "df.columns[df.isna().sum() >= 2]"
   ]
  },
  {
   "cell_type": "code",
   "execution_count": null,
   "id": "8405222f",
   "metadata": {},
   "outputs": [],
   "source": [
    "col_indices = df.columns[df.isna().sum() >= 2]\n",
    "col_indices"
   ]
  },
  {
   "cell_type": "code",
   "execution_count": 69,
   "id": "bcf88d99",
   "metadata": {},
   "outputs": [],
   "source": [
    "df.drop(columns = col_indices, inplace=True)"
   ]
  },
  {
   "cell_type": "code",
   "execution_count": null,
   "id": "b8b56246",
   "metadata": {},
   "outputs": [],
   "source": [
    "df"
   ]
  },
  {
   "cell_type": "markdown",
   "id": "67954517",
   "metadata": {},
   "source": [
    "> Try: Drop all the columns where missing values are greater and equal to 1 using lambda function."
   ]
  },
  {
   "cell_type": "code",
   "execution_count": null,
   "id": "cfbf6345",
   "metadata": {},
   "outputs": [],
   "source": []
  },
  {
   "cell_type": "code",
   "execution_count": null,
   "id": "70bd76a9",
   "metadata": {},
   "outputs": [],
   "source": []
  },
  {
   "cell_type": "markdown",
   "id": "bea6578a",
   "metadata": {},
   "source": [
    "## 11. Change Datatype of a Pandas Series\n",
    "- Use the `astype(dtype)` method to cast a pandas object to a specified dtype ``dtype``."
   ]
  },
  {
   "cell_type": "markdown",
   "id": "3df40db1",
   "metadata": {},
   "source": [
    "#### a. Changing Datatype from `int64` to `float64`"
   ]
  },
  {
   "cell_type": "code",
   "execution_count": null,
   "id": "f6f0b17b",
   "metadata": {},
   "outputs": [],
   "source": [
    "df = pd.read_csv('datasets/groupdata.csv')\n",
    "df.dtypes"
   ]
  },
  {
   "cell_type": "code",
   "execution_count": null,
   "id": "188a9816",
   "metadata": {},
   "outputs": [],
   "source": []
  },
  {
   "cell_type": "code",
   "execution_count": null,
   "id": "f326ae55",
   "metadata": {},
   "outputs": [],
   "source": [
    "#Suppose we want to change the datatype of `age` column to float64 dtype\n",
    "df['age'] = df['age'].astype(float)\n",
    "df.dtypes"
   ]
  },
  {
   "cell_type": "code",
   "execution_count": null,
   "id": "14e4cf07",
   "metadata": {},
   "outputs": [],
   "source": [
    "# convert a string into int if a string is only numeric.\n",
    "str1 = \"1223\"\n",
    "int(str1)"
   ]
  },
  {
   "cell_type": "code",
   "execution_count": null,
   "id": "110da7da",
   "metadata": {},
   "outputs": [],
   "source": [
    "str1 = \"ab23\"\n",
    "int(str1)"
   ]
  },
  {
   "cell_type": "code",
   "execution_count": null,
   "id": "380f2c10",
   "metadata": {},
   "outputs": [],
   "source": []
  },
  {
   "cell_type": "markdown",
   "id": "3e661526",
   "metadata": {},
   "source": [
    "#### b. Changing Datatype from `string` to `boolean`."
   ]
  },
  {
   "cell_type": "code",
   "execution_count": null,
   "id": "c7bcdf1e",
   "metadata": {},
   "outputs": [],
   "source": [
    "df = pd.read_csv('datasets/groupdata.csv')\n",
    "df.head()"
   ]
  },
  {
   "cell_type": "code",
   "execution_count": null,
   "id": "56cf0331",
   "metadata": {},
   "outputs": [],
   "source": [
    "df.gender.str.contains('Male')"
   ]
  },
  {
   "cell_type": "code",
   "execution_count": null,
   "id": "98dbef52",
   "metadata": {},
   "outputs": [],
   "source": [
    "df['gender'] = df.gender.str.contains('Male').astype(int)\n",
    "df"
   ]
  },
  {
   "cell_type": "code",
   "execution_count": null,
   "id": "67d69e1f",
   "metadata": {},
   "outputs": [],
   "source": []
  },
  {
   "cell_type": "code",
   "execution_count": null,
   "id": "9bca489a",
   "metadata": {},
   "outputs": [],
   "source": []
  },
  {
   "cell_type": "code",
   "execution_count": null,
   "id": "4cc9fde3",
   "metadata": {},
   "outputs": [],
   "source": []
  },
  {
   "cell_type": "code",
   "execution_count": null,
   "id": "8b8bcfa6",
   "metadata": {},
   "outputs": [],
   "source": []
  },
  {
   "cell_type": "markdown",
   "id": "ceddf1e4",
   "metadata": {},
   "source": [
    "## 12. Sorting dataframes using `df.sort_values()`\n",
    "\n",
    ">Pandas data frame has two useful functions. **`df.sort_values()`** to sort by values of one or more columns and **`df.sort_index()`** to sort by the index. Each of these functions come with numerous options, like sorting in specific order (ascending or descending), sorting in place, sorting with missing values, sorting by specific algorithm etc.\n",
    "- The `df.sort_values()` function sort by the values along either axis.\n",
    "```\n",
    "df.sort_values(by,axis=0,ascending=True,inplace=False,kind='quicksort',na_position='last',ignore_index=False)\n",
    "```\n",
    "Where,\n",
    "-  `by`: str or list of str to sort\n",
    "-  `axis`: If `axis` is 0 or 'index' then 'by' may contain index levels and/or column labels. If `axis` is 1 or 'columns' then 'by' may contain column levels and/or index labels.\n",
    "- `ascending`: if True then ascending and if False then descending\n",
    "- `inplace`:  If True, perform operation in-place.\n",
    "- `kind`: {'quicksort', 'mergesort', 'heapsort', 'stable'}, default 'quicksort'. This option is only applied when sorting on a single column or label.\n",
    "- `na_position`: If first then puts NaNs at the beginning. Default is last\n",
    "- `ignore_index`: If True, the resulting axis will be labeled 0, 1, …, n - 1. Default False"
   ]
  },
  {
   "cell_type": "code",
   "execution_count": null,
   "id": "7bb3d977",
   "metadata": {},
   "outputs": [],
   "source": [
    "import pandas as pd\n",
    "\n",
    "data = {\n",
    "    'roll_no': [ 102, 101, 104, 103, 105],\n",
    "    'name' : ['Ehtisham', 'Ayesha', 'Ali', 'Khubaib', 'Dua'],\n",
    "    'gender' : ['M', 'F', 'M', 'M', 'F'],\n",
    "    'grade'  : ['A', 'A', 'B', 'B', 'A'],\n",
    "    'marks'  : [ 21,  23,  12,  14,  20],\n",
    "    'city' : ['Lahore', 'Okara', 'Lahore', 'Karachi', 'Okara']\n",
    "}\n",
    "\n",
    "df = pd.DataFrame(data=data)\n",
    "df"
   ]
  },
  {
   "cell_type": "code",
   "execution_count": null,
   "id": "e4cc888d",
   "metadata": {},
   "outputs": [],
   "source": []
  },
  {
   "cell_type": "markdown",
   "id": "e74b28c4",
   "metadata": {},
   "source": [
    "#### a. Sorting by Single Column"
   ]
  },
  {
   "cell_type": "code",
   "execution_count": null,
   "id": "109e92a2",
   "metadata": {},
   "outputs": [],
   "source": [
    "# Let us sort the data by grade column\n",
    "# By default the sorting is done in ascending order and is not inplace\n",
    "df1 = df.sort_values(by=['grade'])\n",
    "df1"
   ]
  },
  {
   "cell_type": "markdown",
   "id": "fdc5ebd8",
   "metadata": {},
   "source": [
    "- Note in above output, we have sorted the data based on the `grade` column. You can observe that some of the students with higher marks are ranked lower.\n",
    "- We want to sort the data based on both grades and marks."
   ]
  },
  {
   "cell_type": "markdown",
   "id": "6c0b7d48",
   "metadata": {},
   "source": [
    "#### b. Sorting by Multiple Columns"
   ]
  },
  {
   "cell_type": "code",
   "execution_count": null,
   "id": "f08961f1",
   "metadata": {},
   "outputs": [],
   "source": [
    "# sort the dataframe\n",
    "df2 = df.sort_values(by=['grade','marks'])\n",
    "df2"
   ]
  },
  {
   "cell_type": "markdown",
   "id": "5d840654",
   "metadata": {},
   "source": [
    "- Note that the data is first sorted by grade, and then within grade it is sorted by marks\n",
    "- But still the problem is not solved. Actually we want to sort by grade in ascending order and by marks in descending order.\n"
   ]
  },
  {
   "cell_type": "code",
   "execution_count": null,
   "id": "5ce8433d",
   "metadata": {},
   "outputs": [],
   "source": [
    "df3 = df.sort_values(by=['grade','marks'], ascending=[True,False])\n",
    "df3"
   ]
  },
  {
   "cell_type": "markdown",
   "id": "2c67bc92",
   "metadata": {},
   "source": [
    "#### c. Role of NaN Values in Sorting"
   ]
  },
  {
   "cell_type": "code",
   "execution_count": null,
   "id": "899e3636",
   "metadata": {},
   "outputs": [],
   "source": [
    "df = pd.read_csv('datasets/groupdata.csv')\n",
    "df"
   ]
  },
  {
   "cell_type": "code",
   "execution_count": null,
   "id": "8a9d4fbd",
   "metadata": {},
   "outputs": [],
   "source": [
    "# If there is a missing value NaN, by default it is listed at the end when using sort_values function\n",
    "# Regardless of the sorting order (Ascending or Descending)\n",
    "df.sort_values(by='scholarship')"
   ]
  },
  {
   "cell_type": "code",
   "execution_count": null,
   "id": "8de2c991",
   "metadata": {},
   "outputs": [],
   "source": [
    "# If the argument na_position='first', it will be listed at the top.\n",
    "df.sort_values(by=['scholarship'], na_position='first')"
   ]
  },
  {
   "cell_type": "markdown",
   "id": "e1046c25",
   "metadata": {},
   "source": [
    ">- Checkout the `df.nlargest()` method which return the first `n` rows ordered by `columns` in descending order.\n",
    ">- Checkout the `df.nsmallest()` method which return the first `n` rows ordered by `columns` in ascending order."
   ]
  },
  {
   "cell_type": "code",
   "execution_count": null,
   "id": "b5f8fe49",
   "metadata": {},
   "outputs": [],
   "source": [
    "df.nsmallest(3, 'scholarship')"
   ]
  },
  {
   "cell_type": "code",
   "execution_count": null,
   "id": "e0ba7367",
   "metadata": {},
   "outputs": [],
   "source": [
    "df.nlargest(3, 'scholarship')"
   ]
  },
  {
   "cell_type": "code",
   "execution_count": null,
   "id": "e0b6bfbc",
   "metadata": {},
   "outputs": [],
   "source": [
    "# df.sort_values(by=['scholarship'], na_position='first', ascending=False)\n",
    "# df.nlargest(3, 'scholarship')\n",
    "# df.nsmallest(3, 'scholarship')"
   ]
  },
  {
   "cell_type": "code",
   "execution_count": null,
   "id": "6d183fa5",
   "metadata": {},
   "outputs": [],
   "source": []
  },
  {
   "cell_type": "markdown",
   "id": "be6a41ff",
   "metadata": {},
   "source": [
    "## 13. Sorting dataframes using `df.sort_index()`\n",
    "> We have observed while using `df.sort_values()`, by default the sorting is performed in the vertical direction. If you want to sort in the row direction, we can set the`axis` argument of  `df.sort_values()` method to 1, which is by default set to zero. However, it may cause problems when a number and a string are mixed\n",
    "\n",
    "- So to sort a dataframe in the horizontal direction, we normally use **`df.sort_index()`** method.\n",
    "```\n",
    "df.sort_index(axis=0,ascending=True,inplace=False,kind='quicksort',na_position='last',ignore_index=False)\n",
    "```\n",
    "Where,\n",
    "-  `axis`: The axis along which to sort. The value 0 identifies the rows, and 1 identifies the columns. (default is 0)\n",
    "- `ascending`: If True then ascending and If False then descending\n",
    "- `inplace`:  If True, perform operation in-place.\n",
    "- `kind`: {'quicksort', 'mergesort', 'heapsort', 'stable'}, default 'quicksort'. This option is only applied when sorting on a single column or label.\n",
    "- `na_position`: If first then puts NaNs at the beginning. Default is last\n",
    "- `ignore_index`: If True, the resulting axis will be labeled 0, 1, …, n - 1. Default False"
   ]
  },
  {
   "cell_type": "code",
   "execution_count": null,
   "id": "2d0cb826",
   "metadata": {},
   "outputs": [],
   "source": [
    "import pandas as pd\n",
    "df = pd.DataFrame({\n",
    "    'roll_no': [ 102, 101, 104, 103, 105],\n",
    "    'name' : ['Ehtisham', 'Ayesha', 'Ali', 'Khubaib', 'Dua'],\n",
    "    'gender' : ['M', 'F', 'M', 'M', 'F'],\n",
    "    'grade'  : ['A', 'A', 'B', 'B', 'A'],\n",
    "    'marks'  : [ 21,  23,  12,  14,  20],\n",
    "    'city' : ['Lahore', 'Okara', 'Lahore', 'Karachi', 'Okara']\n",
    "})\n",
    "df"
   ]
  },
  {
   "cell_type": "markdown",
   "id": "ab38d502",
   "metadata": {},
   "source": [
    "#### a. Sort by Column Labels\n",
    "- By passing the axis argument with a value 0 or 1, the sorting can be done on the column labels. By default, axis=0"
   ]
  },
  {
   "cell_type": "code",
   "execution_count": null,
   "id": "129e057e",
   "metadata": {},
   "outputs": [],
   "source": [
    "df1 = df.sort_index(axis=1)\n",
    "df1"
   ]
  },
  {
   "cell_type": "markdown",
   "id": "4b917bb9",
   "metadata": {},
   "source": [
    "#### b. Sort by Index\n",
    "- The first question that might come in your mind, is that why do we need to sort by index. We can see in above dataframe the row indices are in numeric order. And if the row indices are disturbed due to may be sorting by the values of some column, we can use `reset_index()` method to make the row indices again in increasing numeric order.\n",
    "<br><br>\n",
    "- To understand this, let us follow following three steps:\n",
    "    - Set the `roll_no` column as index\n",
    "    - Call `sort_index()` with axis=0\n",
    "    - Call `reset_index()`"
   ]
  },
  {
   "cell_type": "code",
   "execution_count": null,
   "id": "b74e60a4",
   "metadata": {},
   "outputs": [],
   "source": [
    "# Lets us set the roll_no column as index\n",
    "df1 = df.set_index([\"roll_no\"])\n",
    "df1"
   ]
  },
  {
   "cell_type": "markdown",
   "id": "35680264",
   "metadata": {},
   "source": [
    "> Note that the implicit index collumn is dropped and the roll_no column has become the index of this dataframe."
   ]
  },
  {
   "cell_type": "code",
   "execution_count": null,
   "id": "263409dd",
   "metadata": {},
   "outputs": [],
   "source": [
    "# sort the datframe by index \n",
    "df2 = df1.sort_index(axis=0)\n",
    "df2"
   ]
  },
  {
   "cell_type": "code",
   "execution_count": null,
   "id": "e81643df",
   "metadata": {},
   "outputs": [],
   "source": [
    "# After sort you can reset the index if you want\n",
    "df3 = df2.reset_index(drop=False)\n",
    "df3"
   ]
  },
  {
   "cell_type": "code",
   "execution_count": null,
   "id": "6f69c66c",
   "metadata": {},
   "outputs": [],
   "source": []
  },
  {
   "cell_type": "code",
   "execution_count": null,
   "id": "d3fbd349",
   "metadata": {},
   "outputs": [],
   "source": []
  },
  {
   "cell_type": "markdown",
   "id": "13227ab2",
   "metadata": {},
   "source": [
    "## Practice Questions Part 1: \n",
    "- Step 1. Import the necessary libraries.\n",
    "- Step 2. Import the dataset from this [address](https://raw.githubusercontent.com/ehtisham-sadiq/P0Q6R9S2-MLZone/main/Module%2004%20-%20Python%20for%20Data%20Scientists/datasets/u.user)\n",
    "- Step 3. Assign it to a variable called users and use the `user_id` as index\n",
    "- Step 4. See the first 25 entries\n",
    "- Step 5. See the last 10 entries\n",
    "- Step 6. What is the number of observations in the dataset?\n",
    "- Step 7. What is the number of columns in the dataset?\n",
    "- Step 8. Print the name of all the columns.\n",
    "- Step 9. How is the dataset indexed?\n",
    "- Step 10. What is the data type of each column?\n",
    "- Step 11. Print only the occupation column\n",
    "- Step 12. How many different occupations are in this dataset?\n",
    "- Step 13. What is the most frequent occupation?\n",
    "- Step 14. Summarize the DataFrame.\n",
    "- Step 15. Summarize all the columns\n",
    "- Step 16. Summarize only the occupation column\n",
    "- Step 17. What is the mean age of users?\n",
    "- Step 18. What is the age with least occurrence?"
   ]
  },
  {
   "cell_type": "code",
   "execution_count": null,
   "id": "bf93c25a",
   "metadata": {},
   "outputs": [],
   "source": [
    "url = \"https://raw.githubusercontent.com/ehtisham-sadiq/P0Q6R9S2-MLZone/main/Module%2004%20-%20Python%20for%20Data%20Scientists/datasets/u.user\""
   ]
  },
  {
   "cell_type": "code",
   "execution_count": null,
   "id": "2025d7ae",
   "metadata": {},
   "outputs": [],
   "source": [
    "# step 01: import all necessary libraries\n",
    "import pandas as pd\n",
    "import numpy as np"
   ]
  },
  {
   "cell_type": "code",
   "execution_count": null,
   "id": "e4e0353b",
   "metadata": {},
   "outputs": [],
   "source": [
    "# step 02: read the dataset\n",
    "users = pd.read_csv(url, sep=\"|\")\n",
    "users.head()"
   ]
  },
  {
   "cell_type": "code",
   "execution_count": null,
   "id": "8b9bb2d4",
   "metadata": {},
   "outputs": [],
   "source": [
    "users.set_index('user_id', inplace=True)"
   ]
  },
  {
   "cell_type": "code",
   "execution_count": null,
   "id": "485fad42",
   "metadata": {},
   "outputs": [],
   "source": [
    "users.head()"
   ]
  },
  {
   "cell_type": "code",
   "execution_count": null,
   "id": "be6bfd1e",
   "metadata": {},
   "outputs": [],
   "source": [
    "# step 4: See first 25 records\n",
    "users.head(25)"
   ]
  },
  {
   "cell_type": "code",
   "execution_count": null,
   "id": "494780e6",
   "metadata": {},
   "outputs": [],
   "source": [
    "# step 5: See last 10 records\n",
    "users.tail(10)"
   ]
  },
  {
   "cell_type": "code",
   "execution_count": null,
   "id": "89eebce1",
   "metadata": {},
   "outputs": [],
   "source": [
    "# step 6: How many records are there?\n",
    "users.shape"
   ]
  },
  {
   "cell_type": "code",
   "execution_count": null,
   "id": "b111516a",
   "metadata": {},
   "outputs": [],
   "source": [
    "# step 8: print the name of columns\n",
    "users.columns"
   ]
  },
  {
   "cell_type": "code",
   "execution_count": null,
   "id": "34519d05",
   "metadata": {},
   "outputs": [],
   "source": [
    "# step 9: index of dataset\n",
    "users.index"
   ]
  },
  {
   "cell_type": "code",
   "execution_count": null,
   "id": "1f02bc19",
   "metadata": {},
   "outputs": [],
   "source": [
    "# what is the datatype of each column\n",
    "users.dtypes"
   ]
  },
  {
   "cell_type": "code",
   "execution_count": null,
   "id": "008fe965",
   "metadata": {},
   "outputs": [],
   "source": [
    "# print only occupation column\n",
    "users['occupation']"
   ]
  },
  {
   "cell_type": "code",
   "execution_count": null,
   "id": "96198e0f",
   "metadata": {},
   "outputs": [],
   "source": [
    "# - Step 12. How many different occupations are in this dataset?\n",
    "# - Step 13. What is the most frequent occupation?\n",
    "# - Step 14. Summarize the DataFrame.\n",
    "# - Step 15. Summarize all the columns\n",
    "# - Step 16. Summarize only the occupation column\n",
    "# - Step 17. What is the mean age of users?\n",
    "# - Step 18. What is the age with least occurrence?\n",
    "users['occupation'].unique()"
   ]
  },
  {
   "cell_type": "code",
   "execution_count": null,
   "id": "9967e780",
   "metadata": {},
   "outputs": [],
   "source": [
    "users['occupation'].value_counts().head(1)"
   ]
  },
  {
   "cell_type": "code",
   "execution_count": null,
   "id": "1a891655",
   "metadata": {},
   "outputs": [],
   "source": [
    "users.describe(include='all')"
   ]
  },
  {
   "cell_type": "code",
   "execution_count": null,
   "id": "bec06436",
   "metadata": {},
   "outputs": [],
   "source": [
    "users['occupation'].describe()"
   ]
  },
  {
   "cell_type": "code",
   "execution_count": null,
   "id": "76d589cd",
   "metadata": {},
   "outputs": [],
   "source": [
    "users['age'].mean()"
   ]
  },
  {
   "cell_type": "code",
   "execution_count": null,
   "id": "76b1fac1",
   "metadata": {},
   "outputs": [],
   "source": [
    "users['age'].value_counts().tail(1)"
   ]
  },
  {
   "cell_type": "code",
   "execution_count": null,
   "id": "ca31f092",
   "metadata": {},
   "outputs": [],
   "source": []
  },
  {
   "cell_type": "code",
   "execution_count": null,
   "id": "398ab535",
   "metadata": {},
   "outputs": [],
   "source": [
    "# import pandas as pd\n",
    "# pd.Series([])\n",
    "# pd.DataFrame(dict)\n",
    "# shape\n",
    "# info() -> indcies of columns, columns name, total null values, datatype of each column, range of indcies\n",
    "# dtypes -> return datatype of all columns\n",
    "# describe() -> descriptive view dataset/dataframe (mean, max, min, std, count)\n",
    "# head() -> top records/rows/indcies\n",
    "# tail() -> last 5 records\n",
    "# unique()  -> all unique values in given column(it is invalid for continous data)\n",
    "# nunique() -> return count of unique values\n",
    "# value_counts() -> return unique values along with their frequency"
   ]
  },
  {
   "cell_type": "code",
   "execution_count": null,
   "id": "92facbd8",
   "metadata": {},
   "outputs": [],
   "source": []
  },
  {
   "cell_type": "code",
   "execution_count": null,
   "id": "a42a91c4",
   "metadata": {},
   "outputs": [],
   "source": []
  },
  {
   "cell_type": "code",
   "execution_count": null,
   "id": "c5aae2ec",
   "metadata": {},
   "outputs": [],
   "source": []
  },
  {
   "cell_type": "code",
   "execution_count": null,
   "id": "6bb4225b",
   "metadata": {},
   "outputs": [],
   "source": []
  },
  {
   "cell_type": "code",
   "execution_count": null,
   "id": "f380359b",
   "metadata": {},
   "outputs": [],
   "source": []
  },
  {
   "cell_type": "code",
   "execution_count": null,
   "id": "11f2c4e6",
   "metadata": {},
   "outputs": [],
   "source": []
  },
  {
   "cell_type": "code",
   "execution_count": null,
   "id": "ef6df26d",
   "metadata": {},
   "outputs": [],
   "source": [
    "from IPython.core.display import HTML\n",
    "\n",
    "style = \"\"\"\n",
    "    <style>\n",
    "        body {\n",
    "            background-color: #f2fff2;\n",
    "        }\n",
    "        h1 {\n",
    "            text-align: center;\n",
    "            font-weight: bold;\n",
    "            font-size: 36px;\n",
    "            color: #4295F4;\n",
    "            text-decoration: underline;\n",
    "            padding-top: 15px;\n",
    "        }\n",
    "        \n",
    "        h2 {\n",
    "            text-align: left;\n",
    "            font-weight: bold;\n",
    "            font-size: 30px;\n",
    "            color: #4A000A;\n",
    "            text-decoration: underline;\n",
    "            padding-top: 10px;\n",
    "        }\n",
    "        \n",
    "        h3 {\n",
    "            text-align: left;\n",
    "            font-weight: bold;\n",
    "            font-size: 30px;\n",
    "            color: #f0081e;\n",
    "            text-decoration: underline;\n",
    "            padding-top: 5px;\n",
    "        }\n",
    "\n",
    "        \n",
    "        p {\n",
    "            text-align: center;\n",
    "            font-size: 12 px;\n",
    "            color: #0B9923;\n",
    "        }\n",
    "    </style>\n",
    "\"\"\"\n",
    "\n",
    "html_content = \"\"\"\n",
    "<h1>Hello</h1>\n",
    "<p>Hello World</p>\n",
    "<h2> Hello</h2>\n",
    "<h3> World </h3>\n",
    "\"\"\"\n",
    "\n",
    "HTML(style + html_content)"
   ]
  },
  {
   "cell_type": "code",
   "execution_count": null,
   "id": "7f2c8316",
   "metadata": {},
   "outputs": [],
   "source": []
  },
  {
   "cell_type": "code",
   "execution_count": null,
   "id": "8f50cbdb",
   "metadata": {},
   "outputs": [],
   "source": []
  },
  {
   "cell_type": "code",
   "execution_count": null,
   "id": "fbc29e13",
   "metadata": {},
   "outputs": [],
   "source": []
  }
 ],
 "metadata": {
  "kernelspec": {
   "display_name": "Python 3 (ipykernel)",
   "language": "python",
   "name": "python3"
  },
  "language_info": {
   "codemirror_mode": {
    "name": "ipython",
    "version": 3
   },
   "file_extension": ".py",
   "mimetype": "text/x-python",
   "name": "python",
   "nbconvert_exporter": "python",
   "pygments_lexer": "ipython3",
   "version": "3.11.7"
  }
 },
 "nbformat": 4,
 "nbformat_minor": 5
}
