{
 "cells": [
  {
   "cell_type": "markdown",
   "id": "bee105d7",
   "metadata": {},
   "source": [
    "# Exploratory Data Analysis using Python - Stack-Overflow Developer Survey\n",
    "\n",
    "*Analyzing responses from the Stack Overflow Annual Developer Survey 2020*\n",
    "\n",
    "![](https://i.imgur.com/qXhHKqv.png)"
   ]
  },
  {
   "cell_type": "markdown",
   "id": "37c57417",
   "metadata": {},
   "source": [
    "## Learning Outline of Notebook\n",
    "The following topics are covered in this notebook:\n",
    "\n",
    "- Selecting and downloading a dataset\n",
    "- Data preparation and cleansing\n",
    "- Exploratory analysis and visualization\n",
    "- Asking and answering interesting questions\n",
    "- Summarizing inferences and drawing conclusions"
   ]
  },
  {
   "cell_type": "markdown",
   "id": "1e9280e0",
   "metadata": {},
   "source": [
    "## Introduction\n",
    "\n",
    "In this notebook, we'll analyze the StackOverflow developer survey dataset. The dataset contains responses to an annual survey conducted by StackOverflow. You can find the raw data & official analysis here: https://insights.stackoverflow.com/survey.\n",
    "\n",
    "There are several options for getting the dataset into Jupyter:\n",
    "\n",
    "- Download the CSV manually and upload it via Jupyter's GUI\n",
    "- Use the `urlretrieve` function from the `urllib.request` to download CSV files from a raw URL\n",
    "- Use a helper library, e.g., `opendatasets`, which contains a collection of curated datasets and provides a helper function for direct download.\n",
    "\n",
    "We'll use the `opendatasets` helper library to download the files."
   ]
  },
  {
   "cell_type": "code",
   "execution_count": 2,
   "id": "16b74039",
   "metadata": {},
   "outputs": [
    {
     "name": "stdout",
     "output_type": "stream",
     "text": [
      "Collecting opendatasets\n",
      "  Obtaining dependency information for opendatasets from https://files.pythonhosted.org/packages/00/e7/12300c2f886b846375c78a4f32c0ae1cd20bdcf305b5ac45b8d7eceda3ec/opendatasets-0.1.22-py3-none-any.whl.metadata\n",
      "  Downloading opendatasets-0.1.22-py3-none-any.whl.metadata (9.2 kB)\n",
      "Requirement already satisfied: tqdm in /Users/ehtishamsadiq/Data/Leo Behe/myvenv/lib/python3.11/site-packages (from opendatasets) (4.67.1)\n",
      "Collecting kaggle (from opendatasets)\n",
      "  Downloading kaggle-1.6.17.tar.gz (82 kB)\n",
      "\u001b[2K     \u001b[90m━━━━━━━━━━━━━━━━━━━━━━━━━━━━━━━━━━━━━━━\u001b[0m \u001b[32m82.7/82.7 kB\u001b[0m \u001b[31m402.9 kB/s\u001b[0m eta \u001b[36m0:00:00\u001b[0ma \u001b[36m0:00:01\u001b[0m\n",
      "\u001b[?25h  Installing build dependencies ... \u001b[?25ldone\n",
      "\u001b[?25h  Getting requirements to build wheel ... \u001b[?25ldone\n",
      "\u001b[?25h  Preparing metadata (pyproject.toml) ... \u001b[?25ldone\n",
      "\u001b[?25hRequirement already satisfied: click in /Users/ehtishamsadiq/Data/Leo Behe/myvenv/lib/python3.11/site-packages (from opendatasets) (8.1.7)\n",
      "Requirement already satisfied: six>=1.10 in /Users/ehtishamsadiq/Data/Leo Behe/myvenv/lib/python3.11/site-packages (from kaggle->opendatasets) (1.16.0)\n",
      "Requirement already satisfied: certifi>=2023.7.22 in /Users/ehtishamsadiq/Data/Leo Behe/myvenv/lib/python3.11/site-packages (from kaggle->opendatasets) (2024.8.30)\n",
      "Requirement already satisfied: python-dateutil in /Users/ehtishamsadiq/Data/Leo Behe/myvenv/lib/python3.11/site-packages (from kaggle->opendatasets) (2.9.0.post0)\n",
      "Requirement already satisfied: requests in /Users/ehtishamsadiq/Data/Leo Behe/myvenv/lib/python3.11/site-packages (from kaggle->opendatasets) (2.32.3)\n",
      "Collecting python-slugify (from kaggle->opendatasets)\n",
      "  Obtaining dependency information for python-slugify from https://files.pythonhosted.org/packages/a4/62/02da182e544a51a5c3ccf4b03ab79df279f9c60c5e82d5e8bec7ca26ac11/python_slugify-8.0.4-py2.py3-none-any.whl.metadata\n",
      "  Downloading python_slugify-8.0.4-py2.py3-none-any.whl.metadata (8.5 kB)\n",
      "Requirement already satisfied: urllib3 in /Users/ehtishamsadiq/Data/Leo Behe/myvenv/lib/python3.11/site-packages (from kaggle->opendatasets) (2.2.3)\n",
      "Collecting bleach (from kaggle->opendatasets)\n",
      "  Obtaining dependency information for bleach from https://files.pythonhosted.org/packages/fc/55/96142937f66150805c25c4d0f31ee4132fd33497753400734f9dfdcbdc66/bleach-6.2.0-py3-none-any.whl.metadata\n",
      "  Using cached bleach-6.2.0-py3-none-any.whl.metadata (30 kB)\n",
      "Collecting webencodings (from bleach->kaggle->opendatasets)\n",
      "  Obtaining dependency information for webencodings from https://files.pythonhosted.org/packages/f4/24/2a3e3df732393fed8b3ebf2ec078f05546de641fe1b667ee316ec1dcf3b7/webencodings-0.5.1-py2.py3-none-any.whl.metadata\n",
      "  Using cached webencodings-0.5.1-py2.py3-none-any.whl.metadata (2.1 kB)\n",
      "Collecting text-unidecode>=1.3 (from python-slugify->kaggle->opendatasets)\n",
      "  Obtaining dependency information for text-unidecode>=1.3 from https://files.pythonhosted.org/packages/a6/a5/c0b6468d3824fe3fde30dbb5e1f687b291608f9473681bbf7dabbf5a87d7/text_unidecode-1.3-py2.py3-none-any.whl.metadata\n",
      "  Downloading text_unidecode-1.3-py2.py3-none-any.whl.metadata (2.4 kB)\n",
      "Requirement already satisfied: charset-normalizer<4,>=2 in /Users/ehtishamsadiq/Data/Leo Behe/myvenv/lib/python3.11/site-packages (from requests->kaggle->opendatasets) (3.4.0)\n",
      "Requirement already satisfied: idna<4,>=2.5 in /Users/ehtishamsadiq/Data/Leo Behe/myvenv/lib/python3.11/site-packages (from requests->kaggle->opendatasets) (3.10)\n",
      "Downloading opendatasets-0.1.22-py3-none-any.whl (15 kB)\n",
      "Using cached bleach-6.2.0-py3-none-any.whl (163 kB)\n",
      "Using cached python_slugify-8.0.4-py2.py3-none-any.whl (10 kB)\n",
      "Using cached text_unidecode-1.3-py2.py3-none-any.whl (78 kB)\n",
      "Using cached webencodings-0.5.1-py2.py3-none-any.whl (11 kB)\n",
      "Building wheels for collected packages: kaggle\n",
      "  Building wheel for kaggle (pyproject.toml) ... \u001b[?25ldone\n",
      "\u001b[?25h  Created wheel for kaggle: filename=kaggle-1.6.17-py3-none-any.whl size=105786 sha256=0c9183fd15ae0d0c0f99e11c13d321de20b11e3c439a758769b2d09614bec390\n",
      "  Stored in directory: /Users/ehtishamsadiq/Library/Caches/pip/wheels/ff/55/fb/b27a466be754d2a06ffe0e37b248d844f090a63b51becea85d\n",
      "Successfully built kaggle\n",
      "Installing collected packages: webencodings, text-unidecode, python-slugify, bleach, kaggle, opendatasets\n",
      "Successfully installed bleach-6.2.0 kaggle-1.6.17 opendatasets-0.1.22 python-slugify-8.0.4 text-unidecode-1.3 webencodings-0.5.1\n",
      "\n",
      "\u001b[1m[\u001b[0m\u001b[34;49mnotice\u001b[0m\u001b[1;39;49m]\u001b[0m\u001b[39;49m A new release of pip is available: \u001b[0m\u001b[31;49m23.2.1\u001b[0m\u001b[39;49m -> \u001b[0m\u001b[32;49m24.3.1\u001b[0m\n",
      "\u001b[1m[\u001b[0m\u001b[34;49mnotice\u001b[0m\u001b[1;39;49m]\u001b[0m\u001b[39;49m To update, run: \u001b[0m\u001b[32;49mpip install --upgrade pip\u001b[0m\n"
     ]
    }
   ],
   "source": [
    "!pip install opendatasets"
   ]
  },
  {
   "cell_type": "code",
   "execution_count": 3,
   "id": "cfed92e5",
   "metadata": {},
   "outputs": [
    {
     "name": "stdout",
     "output_type": "stream",
     "text": [
      "Downloading https://raw.githubusercontent.com/JovianML/opendatasets/master/data/stackoverflow-developer-survey-2020/survey_results_public.csv to ./stackoverflow-developer-survey-2020/survey_results_public.csv\n"
     ]
    },
    {
     "name": "stderr",
     "output_type": "stream",
     "text": [
      "94609408it [01:54, 827724.07it/s]                               \n"
     ]
    },
    {
     "name": "stdout",
     "output_type": "stream",
     "text": [
      "Downloading https://raw.githubusercontent.com/JovianML/opendatasets/master/data/stackoverflow-developer-survey-2020/survey_results_schema.csv to ./stackoverflow-developer-survey-2020/survey_results_schema.csv\n"
     ]
    },
    {
     "name": "stderr",
     "output_type": "stream",
     "text": [
      "16384it [00:00, 18337.53it/s]           \n"
     ]
    },
    {
     "name": "stdout",
     "output_type": "stream",
     "text": [
      "Downloading https://raw.githubusercontent.com/JovianML/opendatasets/master/data/stackoverflow-developer-survey-2020/README.txt to ./stackoverflow-developer-survey-2020/README.txt\n"
     ]
    },
    {
     "name": "stderr",
     "output_type": "stream",
     "text": [
      "8192it [00:00, 11562.47it/s]            \n"
     ]
    }
   ],
   "source": [
    "import opendatasets as od\n",
    "od.download('stackoverflow-developer-survey-2020')"
   ]
  },
  {
   "cell_type": "code",
   "execution_count": 7,
   "id": "6b32ede1",
   "metadata": {},
   "outputs": [
    {
     "name": "stdout",
     "output_type": "stream",
     "text": [
      "README.txt                survey_results_public.csv survey_results_schema.csv\n"
     ]
    }
   ],
   "source": [
    "!ls stackoverflow-developer-survey-2020/"
   ]
  },
  {
   "cell_type": "markdown",
   "id": "90434bd3",
   "metadata": {},
   "source": [
    "Let's verify that the dataset was downloaded into the directory `stackoverflow-developer-survey-2022` and retrieve the list of files in the dataset."
   ]
  },
  {
   "cell_type": "code",
   "execution_count": 22,
   "id": "00763bb8",
   "metadata": {},
   "outputs": [],
   "source": [
    "import os"
   ]
  },
  {
   "cell_type": "code",
   "execution_count": 4,
   "id": "712fc909",
   "metadata": {},
   "outputs": [],
   "source": [
    "# Here write your code"
   ]
  },
  {
   "cell_type": "markdown",
   "id": "18899627",
   "metadata": {},
   "source": [
    "You can through the downloaded files using the \"File\" > \"Open\" menu option in Jupyter. It seems like the dataset contains three files:\n",
    "\n",
    "- `README.txt` - Information about the dataset\n",
    "- `survey_results_schema.csv` - The list of questions, and shortcodes for each question\n",
    "- `survey_results_public.csv` - The full list of responses to the questions \n",
    "\n",
    "Let's load the CSV files using the Pandas library. We'll use the name `survey_raw_df` for the data frame to indicate this is unprocessed data that we might clean, filter, and modify to prepare a data frame ready for analysis."
   ]
  },
  {
   "cell_type": "code",
   "execution_count": 5,
   "id": "5a00d3c4",
   "metadata": {},
   "outputs": [],
   "source": [
    "import numpy as np\n",
    "import pandas as pd\n",
    "import seaborn as sns\n",
    "import matplotlib.pyplot as plt"
   ]
  },
  {
   "cell_type": "code",
   "execution_count": 9,
   "id": "fb26a27a",
   "metadata": {},
   "outputs": [
    {
     "data": {
      "text/plain": [
       "(64461, 61)"
      ]
     },
     "execution_count": 9,
     "metadata": {},
     "output_type": "execute_result"
    }
   ],
   "source": [
    "survey_raw_df = pd.read_csv('stackoverflow-developer-survey-2020/survey_results_public.csv')\n",
    "survey_raw_df.shape"
   ]
  },
  {
   "cell_type": "markdown",
   "id": "827602c3",
   "metadata": {},
   "source": [
    "The dataset contains over 40000 responses to 61 questions (although many questions are optional). The responses have been anonymized to remove personally identifiable information, and each respondent has been assigned a randomized respondent ID.\n",
    "\n",
    "`Let's view the list of columns in the data frame.`"
   ]
  },
  {
   "cell_type": "code",
   "execution_count": 10,
   "id": "4ea366d0",
   "metadata": {},
   "outputs": [
    {
     "data": {
      "text/plain": [
       "Index(['Respondent', 'MainBranch', 'Hobbyist', 'Age', 'Age1stCode', 'CompFreq',\n",
       "       'CompTotal', 'ConvertedComp', 'Country', 'CurrencyDesc',\n",
       "       'CurrencySymbol', 'DatabaseDesireNextYear', 'DatabaseWorkedWith',\n",
       "       'DevType', 'EdLevel', 'Employment', 'Ethnicity', 'Gender', 'JobFactors',\n",
       "       'JobSat', 'JobSeek', 'LanguageDesireNextYear', 'LanguageWorkedWith',\n",
       "       'MiscTechDesireNextYear', 'MiscTechWorkedWith',\n",
       "       'NEWCollabToolsDesireNextYear', 'NEWCollabToolsWorkedWith', 'NEWDevOps',\n",
       "       'NEWDevOpsImpt', 'NEWEdImpt', 'NEWJobHunt', 'NEWJobHuntResearch',\n",
       "       'NEWLearn', 'NEWOffTopic', 'NEWOnboardGood', 'NEWOtherComms',\n",
       "       'NEWOvertime', 'NEWPurchaseResearch', 'NEWPurpleLink', 'NEWSOSites',\n",
       "       'NEWStuck', 'OpSys', 'OrgSize', 'PlatformDesireNextYear',\n",
       "       'PlatformWorkedWith', 'PurchaseWhat', 'Sexuality', 'SOAccount',\n",
       "       'SOComm', 'SOPartFreq', 'SOVisitFreq', 'SurveyEase', 'SurveyLength',\n",
       "       'Trans', 'UndergradMajor', 'WebframeDesireNextYear',\n",
       "       'WebframeWorkedWith', 'WelcomeChange', 'WorkWeekHrs', 'YearsCode',\n",
       "       'YearsCodePro'],\n",
       "      dtype='object')"
      ]
     },
     "execution_count": 10,
     "metadata": {},
     "output_type": "execute_result"
    }
   ],
   "source": [
    "# here write your code\n",
    "survey_raw_df.columns"
   ]
  },
  {
   "cell_type": "markdown",
   "id": "77b610c3",
   "metadata": {},
   "source": [
    "It appears that shortcodes for questions have been used as column names. \n",
    "\n",
    "We can refer to the schema file to see the full text of each question. The schema file contains only two columns: `Column` and `QuestionText`. We can load it as Pandas Series with `Column` as the index and the  `QuestionText` as the value."
   ]
  },
  {
   "cell_type": "code",
   "execution_count": 15,
   "id": "43aa79e5",
   "metadata": {},
   "outputs": [],
   "source": []
  },
  {
   "cell_type": "code",
   "execution_count": null,
   "id": "4ef8b015",
   "metadata": {},
   "outputs": [],
   "source": [
    "scheme_fname = \"stack-overflow-developer-survey-2020/survey_results_schema.csv\"\n",
    "scheme_raw = pd.read_csv(scheme_fname, index_col='Column').QuestionText\n",
    "scheme_raw.head(20)"
   ]
  },
  {
   "cell_type": "markdown",
   "id": "7dcbf108",
   "metadata": {},
   "source": [
    "We can now use `schema_raw` to retrieve the full question text for any column in `survey_raw_df` like this\n",
    "![](images/s1.png)"
   ]
  },
  {
   "cell_type": "code",
   "execution_count": null,
   "id": "61173200",
   "metadata": {},
   "outputs": [],
   "source": [
    "# Here write your code\n",
    "scheme_raw['Country']"
   ]
  },
  {
   "cell_type": "markdown",
   "id": "5b4a1a75",
   "metadata": {},
   "source": [
    "We've now loaded the dataset. We're ready to move on to the next step of `preprocessing` & `cleaning` the data for our analysis."
   ]
  },
  {
   "cell_type": "markdown",
   "id": "01513bc7",
   "metadata": {},
   "source": [
    "## Data Preparation & Cleaning\n",
    "\n",
    "While the survey responses contain a wealth of information, we'll limit our analysis to the following areas:\n",
    "\n",
    "- Demographics of the survey respondents and the global programming community\n",
    "- Distribution of programming skills, experience, and preferences\n",
    "- Employment-related information, preferences, and opinions\n",
    "\n",
    "Let's select a subset of columns with the relevant data for our analysis."
   ]
  },
  {
   "cell_type": "code",
   "execution_count": 37,
   "id": "ebab66e6",
   "metadata": {},
   "outputs": [],
   "source": [
    "selected_columns = [\n",
    "    # Demographics\n",
    "    'Country',\n",
    "    'Age',\n",
    "    'Gender',\n",
    "    'EdLevel',\n",
    "    'UndergradMajor',\n",
    "    # Programming experience\n",
    "    'Hobbyist',\n",
    "    'Age1stCode',\n",
    "    'YearsCode',\n",
    "    'YearsCodePro',\n",
    "    'LanguageWorkedWith',\n",
    "    'LanguageDesireNextYear',\n",
    "    'NEWLearn',\n",
    "    'NEWStuck',\n",
    "    # Employment\n",
    "    'Employment',\n",
    "    'DevType',\n",
    "    'WorkWeekHrs',\n",
    "    'JobSat',\n",
    "    'JobFactors',\n",
    "    'NEWOvertime',\n",
    "    'NEWEdImpt'\n",
    "]"
   ]
  },
  {
   "cell_type": "markdown",
   "id": "885570a2",
   "metadata": {},
   "source": [
    "Display total number of `select_columns`."
   ]
  },
  {
   "cell_type": "code",
   "execution_count": null,
   "id": "5761e0d8",
   "metadata": {},
   "outputs": [],
   "source": [
    "# Here write your code\n",
    "len(selected_columns)"
   ]
  },
  {
   "cell_type": "markdown",
   "id": "e5dec966",
   "metadata": {},
   "source": [
    "Let's extract a copy of the data from these columns into a new data frame `survey_df`. We can continue to modify further without affecting the original data frame."
   ]
  },
  {
   "cell_type": "code",
   "execution_count": null,
   "id": "834c211b",
   "metadata": {},
   "outputs": [],
   "source": [
    "# Here write your code\n",
    "survey_df = survey_raw_df[selected_columns].copy()\n",
    "survey_df"
   ]
  },
  {
   "cell_type": "markdown",
   "id": "dbcdf7b2",
   "metadata": {},
   "source": [
    "Let's view some basic information about the data frame.m"
   ]
  },
  {
   "cell_type": "markdown",
   "id": "bc06f392",
   "metadata": {},
   "source": [
    "Display total number of rows and columns in the `survey_df`"
   ]
  },
  {
   "cell_type": "code",
   "execution_count": null,
   "id": "6e860d46",
   "metadata": {},
   "outputs": [],
   "source": [
    "# Here write your code\n",
    "survey_df.shape"
   ]
  },
  {
   "cell_type": "markdown",
   "id": "0c48cde6",
   "metadata": {},
   "source": [
    "Display basic information of `survey_df`"
   ]
  },
  {
   "cell_type": "code",
   "execution_count": 41,
   "id": "6674943a",
   "metadata": {},
   "outputs": [
    {
     "name": "stdout",
     "output_type": "stream",
     "text": [
      "<class 'pandas.core.frame.DataFrame'>\n",
      "RangeIndex: 40000 entries, 0 to 39999\n",
      "Data columns (total 20 columns):\n",
      " #   Column                  Non-Null Count  Dtype  \n",
      "---  ------                  --------------  -----  \n",
      " 0   Country                 39763 non-null  object \n",
      " 1   Age                     28228 non-null  float64\n",
      " 2   Gender                  31446 non-null  object \n",
      " 3   EdLevel                 35703 non-null  object \n",
      " 4   UndergradMajor          31644 non-null  object \n",
      " 5   Hobbyist                39974 non-null  object \n",
      " 6   Age1stCode              35993 non-null  object \n",
      " 7   YearsCode               35854 non-null  object \n",
      " 8   YearsCodePro            28776 non-null  object \n",
      " 9   LanguageWorkedWith      35666 non-null  object \n",
      " 10  LanguageDesireNextYear  33625 non-null  object \n",
      " 11  NEWLearn                34892 non-null  object \n",
      " 12  NEWStuck                34163 non-null  object \n",
      " 13  Employment              39631 non-null  object \n",
      " 14  DevType                 30677 non-null  object \n",
      " 15  WorkWeekHrs             25552 non-null  float64\n",
      " 16  JobSat                  28055 non-null  object \n",
      " 17  JobFactors              30654 non-null  object \n",
      " 18  NEWOvertime             26836 non-null  object \n",
      " 19  NEWEdImpt               30086 non-null  object \n",
      "dtypes: float64(2), object(18)\n",
      "memory usage: 6.1+ MB\n"
     ]
    }
   ],
   "source": [
    "# Here write your code\n",
    "survey_df.info()"
   ]
  },
  {
   "cell_type": "markdown",
   "id": "7ad1843d",
   "metadata": {},
   "source": [
    "#### Interpretation\n",
    "- Most columns have the data type `object`, either because they contain values of different types or contain empty values (`NaN`). It appears that every column contains some empty values since the Non-Null count for every column is lower than the total number of rows (40000). We'll need to deal with empty values and manually adjust the data type for each column on a case-by-case basis. \n"
   ]
  },
  {
   "cell_type": "markdown",
   "id": "164ffb09",
   "metadata": {},
   "source": [
    "Only two of the columns were detected as numeric columns (`Age` and `WorkWeekHrs`), even though a few other columns have mostly numeric values. To make our analysis easier, let's convert some other columns into numeric data types while ignoring any non-numeric value. The non-numeric are converted to `NaN`."
   ]
  },
  {
   "cell_type": "code",
   "execution_count": 51,
   "id": "6562c079",
   "metadata": {},
   "outputs": [],
   "source": [
    "# # Here write your code\n",
    "survey_df['Age1stCode'] = pd.to_numeric(survey_df.Age1stCode, errors='coerce')\n",
    "survey_df['YearsCode'] = pd.to_numeric(survey_df.YearsCode, errors='coerce')\n",
    "survey_df['YearsCodePro'] = pd.to_numeric(survey_df.YearsCodePro, errors='coerce')"
   ]
  },
  {
   "cell_type": "markdown",
   "id": "0e8a8533",
   "metadata": {},
   "source": [
    "Let's now display some basic statistics about numeric columns."
   ]
  },
  {
   "cell_type": "code",
   "execution_count": 44,
   "id": "e706dd83",
   "metadata": {},
   "outputs": [
    {
     "data": {
      "text/html": [
       "<div>\n",
       "<style scoped>\n",
       "    .dataframe tbody tr th:only-of-type {\n",
       "        vertical-align: middle;\n",
       "    }\n",
       "\n",
       "    .dataframe tbody tr th {\n",
       "        vertical-align: top;\n",
       "    }\n",
       "\n",
       "    .dataframe thead th {\n",
       "        text-align: right;\n",
       "    }\n",
       "</style>\n",
       "<table border=\"1\" class=\"dataframe\">\n",
       "  <thead>\n",
       "    <tr style=\"text-align: right;\">\n",
       "      <th></th>\n",
       "      <th>Age</th>\n",
       "      <th>WorkWeekHrs</th>\n",
       "    </tr>\n",
       "  </thead>\n",
       "  <tbody>\n",
       "    <tr>\n",
       "      <th>count</th>\n",
       "      <td>28222.000000</td>\n",
       "      <td>25550.000000</td>\n",
       "    </tr>\n",
       "    <tr>\n",
       "      <th>mean</th>\n",
       "      <td>30.902370</td>\n",
       "      <td>40.800189</td>\n",
       "    </tr>\n",
       "    <tr>\n",
       "      <th>std</th>\n",
       "      <td>9.514331</td>\n",
       "      <td>18.199172</td>\n",
       "    </tr>\n",
       "    <tr>\n",
       "      <th>min</th>\n",
       "      <td>11.000000</td>\n",
       "      <td>1.000000</td>\n",
       "    </tr>\n",
       "    <tr>\n",
       "      <th>25%</th>\n",
       "      <td>24.000000</td>\n",
       "      <td>40.000000</td>\n",
       "    </tr>\n",
       "    <tr>\n",
       "      <th>50%</th>\n",
       "      <td>29.000000</td>\n",
       "      <td>40.000000</td>\n",
       "    </tr>\n",
       "    <tr>\n",
       "      <th>75%</th>\n",
       "      <td>35.000000</td>\n",
       "      <td>44.000000</td>\n",
       "    </tr>\n",
       "    <tr>\n",
       "      <th>max</th>\n",
       "      <td>99.000000</td>\n",
       "      <td>475.000000</td>\n",
       "    </tr>\n",
       "  </tbody>\n",
       "</table>\n",
       "</div>"
      ],
      "text/plain": [
       "                Age   WorkWeekHrs\n",
       "count  28222.000000  25550.000000\n",
       "mean      30.902370     40.800189\n",
       "std        9.514331     18.199172\n",
       "min       11.000000      1.000000\n",
       "25%       24.000000     40.000000\n",
       "50%       29.000000     40.000000\n",
       "75%       35.000000     44.000000\n",
       "max       99.000000    475.000000"
      ]
     },
     "execution_count": 44,
     "metadata": {},
     "output_type": "execute_result"
    }
   ],
   "source": [
    "# Here write your code\n",
    "survey_df.describe()"
   ]
  },
  {
   "cell_type": "code",
   "execution_count": null,
   "id": "7929c869",
   "metadata": {},
   "outputs": [],
   "source": []
  },
  {
   "cell_type": "markdown",
   "id": "b6dd5ca0",
   "metadata": {},
   "source": [
    "#### Interpretation\n",
    "There seems to be a problem with the age column, as the minimum value is 1 and the maximum is 279. This is a common issue with surveys: responses may contain invalid values due to accidental or intentional errors while responding. A simple fix would be to ignore the rows where the age is higher than 100 years or lower than 10 years as invalid survey responses. We can do this using the `.drop` method, [as explained here](https://www.geeksforgeeks.org/drop-rows-from-the-dataframe-based-on-certain-condition-applied-on-a-column/)."
   ]
  },
  {
   "cell_type": "code",
   "execution_count": 42,
   "id": "74b58b06",
   "metadata": {},
   "outputs": [],
   "source": [
    "# Here write your code \n",
    "index = survey_df[((survey_df.Age>100) | (survey_df.Age<10))].index\n",
    "survey_df.drop(index=index, inplace=True)"
   ]
  },
  {
   "cell_type": "code",
   "execution_count": 43,
   "id": "80000abf",
   "metadata": {},
   "outputs": [
    {
     "data": {
      "text/html": [
       "<div>\n",
       "<style scoped>\n",
       "    .dataframe tbody tr th:only-of-type {\n",
       "        vertical-align: middle;\n",
       "    }\n",
       "\n",
       "    .dataframe tbody tr th {\n",
       "        vertical-align: top;\n",
       "    }\n",
       "\n",
       "    .dataframe thead th {\n",
       "        text-align: right;\n",
       "    }\n",
       "</style>\n",
       "<table border=\"1\" class=\"dataframe\">\n",
       "  <thead>\n",
       "    <tr style=\"text-align: right;\">\n",
       "      <th></th>\n",
       "      <th>Age</th>\n",
       "      <th>WorkWeekHrs</th>\n",
       "    </tr>\n",
       "  </thead>\n",
       "  <tbody>\n",
       "    <tr>\n",
       "      <th>count</th>\n",
       "      <td>28222.000000</td>\n",
       "      <td>25550.000000</td>\n",
       "    </tr>\n",
       "    <tr>\n",
       "      <th>mean</th>\n",
       "      <td>30.902370</td>\n",
       "      <td>40.800189</td>\n",
       "    </tr>\n",
       "    <tr>\n",
       "      <th>std</th>\n",
       "      <td>9.514331</td>\n",
       "      <td>18.199172</td>\n",
       "    </tr>\n",
       "    <tr>\n",
       "      <th>min</th>\n",
       "      <td>11.000000</td>\n",
       "      <td>1.000000</td>\n",
       "    </tr>\n",
       "    <tr>\n",
       "      <th>25%</th>\n",
       "      <td>24.000000</td>\n",
       "      <td>40.000000</td>\n",
       "    </tr>\n",
       "    <tr>\n",
       "      <th>50%</th>\n",
       "      <td>29.000000</td>\n",
       "      <td>40.000000</td>\n",
       "    </tr>\n",
       "    <tr>\n",
       "      <th>75%</th>\n",
       "      <td>35.000000</td>\n",
       "      <td>44.000000</td>\n",
       "    </tr>\n",
       "    <tr>\n",
       "      <th>max</th>\n",
       "      <td>99.000000</td>\n",
       "      <td>475.000000</td>\n",
       "    </tr>\n",
       "  </tbody>\n",
       "</table>\n",
       "</div>"
      ],
      "text/plain": [
       "                Age   WorkWeekHrs\n",
       "count  28222.000000  25550.000000\n",
       "mean      30.902370     40.800189\n",
       "std        9.514331     18.199172\n",
       "min       11.000000      1.000000\n",
       "25%       24.000000     40.000000\n",
       "50%       29.000000     40.000000\n",
       "75%       35.000000     44.000000\n",
       "max       99.000000    475.000000"
      ]
     },
     "execution_count": 43,
     "metadata": {},
     "output_type": "execute_result"
    }
   ],
   "source": [
    "survey_df.describe()"
   ]
  },
  {
   "cell_type": "markdown",
   "id": "e47c926c",
   "metadata": {},
   "source": [
    "The same holds for `WorkWeekHrs`. Let's ignore entries where the value for the column is higher than 140 hours. (~20 hours per day)."
   ]
  },
  {
   "cell_type": "code",
   "execution_count": 45,
   "id": "d18806a0",
   "metadata": {},
   "outputs": [],
   "source": [
    "# Here write your code\n",
    "index = survey_df[survey_df.WorkWeekHrs>140].index\n",
    "survey_df.drop(index=index, inplace=True)\n",
    "# index"
   ]
  },
  {
   "cell_type": "code",
   "execution_count": 46,
   "id": "7e81947e",
   "metadata": {},
   "outputs": [
    {
     "data": {
      "text/html": [
       "<div>\n",
       "<style scoped>\n",
       "    .dataframe tbody tr th:only-of-type {\n",
       "        vertical-align: middle;\n",
       "    }\n",
       "\n",
       "    .dataframe tbody tr th {\n",
       "        vertical-align: top;\n",
       "    }\n",
       "\n",
       "    .dataframe thead th {\n",
       "        text-align: right;\n",
       "    }\n",
       "</style>\n",
       "<table border=\"1\" class=\"dataframe\">\n",
       "  <thead>\n",
       "    <tr style=\"text-align: right;\">\n",
       "      <th></th>\n",
       "      <th>Age</th>\n",
       "      <th>WorkWeekHrs</th>\n",
       "    </tr>\n",
       "  </thead>\n",
       "  <tbody>\n",
       "    <tr>\n",
       "      <th>count</th>\n",
       "      <td>28149.000000</td>\n",
       "      <td>25458.000000</td>\n",
       "    </tr>\n",
       "    <tr>\n",
       "      <th>mean</th>\n",
       "      <td>30.899133</td>\n",
       "      <td>40.004511</td>\n",
       "    </tr>\n",
       "    <tr>\n",
       "      <th>std</th>\n",
       "      <td>9.509593</td>\n",
       "      <td>10.589387</td>\n",
       "    </tr>\n",
       "    <tr>\n",
       "      <th>min</th>\n",
       "      <td>11.000000</td>\n",
       "      <td>1.000000</td>\n",
       "    </tr>\n",
       "    <tr>\n",
       "      <th>25%</th>\n",
       "      <td>24.000000</td>\n",
       "      <td>40.000000</td>\n",
       "    </tr>\n",
       "    <tr>\n",
       "      <th>50%</th>\n",
       "      <td>29.000000</td>\n",
       "      <td>40.000000</td>\n",
       "    </tr>\n",
       "    <tr>\n",
       "      <th>75%</th>\n",
       "      <td>35.000000</td>\n",
       "      <td>43.000000</td>\n",
       "    </tr>\n",
       "    <tr>\n",
       "      <th>max</th>\n",
       "      <td>99.000000</td>\n",
       "      <td>140.000000</td>\n",
       "    </tr>\n",
       "  </tbody>\n",
       "</table>\n",
       "</div>"
      ],
      "text/plain": [
       "                Age   WorkWeekHrs\n",
       "count  28149.000000  25458.000000\n",
       "mean      30.899133     40.004511\n",
       "std        9.509593     10.589387\n",
       "min       11.000000      1.000000\n",
       "25%       24.000000     40.000000\n",
       "50%       29.000000     40.000000\n",
       "75%       35.000000     43.000000\n",
       "max       99.000000    140.000000"
      ]
     },
     "execution_count": 46,
     "metadata": {},
     "output_type": "execute_result"
    }
   ],
   "source": [
    "survey_df.describe()"
   ]
  },
  {
   "cell_type": "markdown",
   "id": "149a800b",
   "metadata": {},
   "source": [
    "The gender column also allows for picking multiple options. We'll remove values containing more than one option to simplify our analysis. We just use 2 values `Man` or `Womam`"
   ]
  },
  {
   "cell_type": "code",
   "execution_count": 47,
   "id": "6987ccf8",
   "metadata": {},
   "outputs": [
    {
     "data": {
      "text/plain": [
       "Gender\n",
       "Man                                                            28577\n",
       "Woman                                                           2368\n",
       "Non-binary, genderqueer, or gender non-conforming                237\n",
       "Man;Non-binary, genderqueer, or gender non-conforming             71\n",
       "Woman;Non-binary, genderqueer, or gender non-conforming           54\n",
       "Woman;Man                                                         43\n",
       "Woman;Man;Non-binary, genderqueer, or gender non-conforming       15\n",
       "Name: count, dtype: int64"
      ]
     },
     "execution_count": 47,
     "metadata": {},
     "output_type": "execute_result"
    }
   ],
   "source": [
    "survey_df.Gender.value_counts()"
   ]
  },
  {
   "cell_type": "code",
   "execution_count": 50,
   "id": "e0415f5f",
   "metadata": {},
   "outputs": [],
   "source": [
    "# Here write your code\n",
    "# survey_df.Gender != \"Man\"\n",
    "def clean_gender(x):\n",
    "    if x=='Man':\n",
    "        return 'Man'\n",
    "    elif x=='Woman':\n",
    "        return \"Woman\"\n",
    "    elif x==np.nan:\n",
    "        return np.nan\n",
    "    else:\n",
    "        return 'Other'"
   ]
  },
  {
   "cell_type": "code",
   "execution_count": 51,
   "id": "6fe19dbb",
   "metadata": {},
   "outputs": [],
   "source": [
    "survey_df.Gender = survey_df.Gender.apply(clean_gender)\n"
   ]
  },
  {
   "cell_type": "code",
   "execution_count": 52,
   "id": "f0812806",
   "metadata": {},
   "outputs": [
    {
     "data": {
      "text/html": [
       "<div>\n",
       "<style scoped>\n",
       "    .dataframe tbody tr th:only-of-type {\n",
       "        vertical-align: middle;\n",
       "    }\n",
       "\n",
       "    .dataframe tbody tr th {\n",
       "        vertical-align: top;\n",
       "    }\n",
       "\n",
       "    .dataframe thead th {\n",
       "        text-align: right;\n",
       "    }\n",
       "</style>\n",
       "<table border=\"1\" class=\"dataframe\">\n",
       "  <thead>\n",
       "    <tr style=\"text-align: right;\">\n",
       "      <th></th>\n",
       "      <th>Country</th>\n",
       "      <th>Age</th>\n",
       "      <th>Gender</th>\n",
       "      <th>EdLevel</th>\n",
       "      <th>UndergradMajor</th>\n",
       "      <th>Hobbyist</th>\n",
       "      <th>Age1stCode</th>\n",
       "      <th>YearsCode</th>\n",
       "      <th>YearsCodePro</th>\n",
       "      <th>LanguageWorkedWith</th>\n",
       "      <th>LanguageDesireNextYear</th>\n",
       "      <th>NEWLearn</th>\n",
       "      <th>NEWStuck</th>\n",
       "      <th>Employment</th>\n",
       "      <th>DevType</th>\n",
       "      <th>WorkWeekHrs</th>\n",
       "      <th>JobSat</th>\n",
       "      <th>JobFactors</th>\n",
       "      <th>NEWOvertime</th>\n",
       "      <th>NEWEdImpt</th>\n",
       "    </tr>\n",
       "  </thead>\n",
       "  <tbody>\n",
       "    <tr>\n",
       "      <th>0</th>\n",
       "      <td>NaN</td>\n",
       "      <td>NaN</td>\n",
       "      <td>Other</td>\n",
       "      <td>NaN</td>\n",
       "      <td>NaN</td>\n",
       "      <td>No</td>\n",
       "      <td>NaN</td>\n",
       "      <td>NaN</td>\n",
       "      <td>NaN</td>\n",
       "      <td>NaN</td>\n",
       "      <td>NaN</td>\n",
       "      <td>NaN</td>\n",
       "      <td>NaN</td>\n",
       "      <td>Employed full-time</td>\n",
       "      <td>NaN</td>\n",
       "      <td>NaN</td>\n",
       "      <td>NaN</td>\n",
       "      <td>NaN</td>\n",
       "      <td>NaN</td>\n",
       "      <td>NaN</td>\n",
       "    </tr>\n",
       "    <tr>\n",
       "      <th>1</th>\n",
       "      <td>Georgia</td>\n",
       "      <td>NaN</td>\n",
       "      <td>Other</td>\n",
       "      <td>Bachelor’s degree (B.A., B.S., B.Eng., etc.)</td>\n",
       "      <td>Computer science, computer engineering, or sof...</td>\n",
       "      <td>Yes</td>\n",
       "      <td>18</td>\n",
       "      <td>4</td>\n",
       "      <td>2</td>\n",
       "      <td>NaN</td>\n",
       "      <td>NaN</td>\n",
       "      <td>NaN</td>\n",
       "      <td>NaN</td>\n",
       "      <td>Employed full-time</td>\n",
       "      <td>Developer, full-stack</td>\n",
       "      <td>NaN</td>\n",
       "      <td>Very dissatisfied</td>\n",
       "      <td>NaN</td>\n",
       "      <td>NaN</td>\n",
       "      <td>Fairly important</td>\n",
       "    </tr>\n",
       "    <tr>\n",
       "      <th>2</th>\n",
       "      <td>United States</td>\n",
       "      <td>27.0</td>\n",
       "      <td>Man</td>\n",
       "      <td>Some college/university study without earning ...</td>\n",
       "      <td>Computer science, computer engineering, or sof...</td>\n",
       "      <td>Yes</td>\n",
       "      <td>20</td>\n",
       "      <td>4</td>\n",
       "      <td>3</td>\n",
       "      <td>HTML/CSS;JavaScript;PHP;TypeScript</td>\n",
       "      <td>C++;HTML/CSS;TypeScript</td>\n",
       "      <td>Once a year</td>\n",
       "      <td>Visit Stack Overflow;Go for a walk or other ph...</td>\n",
       "      <td>Employed full-time</td>\n",
       "      <td>Developer, full-stack</td>\n",
       "      <td>35.0</td>\n",
       "      <td>Very satisfied</td>\n",
       "      <td>Languages, frameworks, and other technologies ...</td>\n",
       "      <td>Never</td>\n",
       "      <td>Not at all important/not necessary</td>\n",
       "    </tr>\n",
       "    <tr>\n",
       "      <th>3</th>\n",
       "      <td>Nigeria</td>\n",
       "      <td>25.0</td>\n",
       "      <td>Man</td>\n",
       "      <td>Bachelor’s degree (B.A., B.S., B.Eng., etc.)</td>\n",
       "      <td>Computer science, computer engineering, or sof...</td>\n",
       "      <td>Yes</td>\n",
       "      <td>22</td>\n",
       "      <td>5</td>\n",
       "      <td>2</td>\n",
       "      <td>HTML/CSS;Python;SQL</td>\n",
       "      <td>Haskell;HTML/CSS;JavaScript;Kotlin;Python</td>\n",
       "      <td>Every few months</td>\n",
       "      <td>Meditate;Call a coworker or friend;Visit Stack...</td>\n",
       "      <td>Independent contractor, freelancer, or self-em...</td>\n",
       "      <td>Designer;Developer, back-end;Developer, deskto...</td>\n",
       "      <td>NaN</td>\n",
       "      <td>NaN</td>\n",
       "      <td>Languages, frameworks, and other technologies ...</td>\n",
       "      <td>NaN</td>\n",
       "      <td>Critically important</td>\n",
       "    </tr>\n",
       "    <tr>\n",
       "      <th>4</th>\n",
       "      <td>India</td>\n",
       "      <td>36.0</td>\n",
       "      <td>Man</td>\n",
       "      <td>Master’s degree (M.A., M.S., M.Eng., MBA, etc.)</td>\n",
       "      <td>Computer science, computer engineering, or sof...</td>\n",
       "      <td>Yes</td>\n",
       "      <td>15</td>\n",
       "      <td>16</td>\n",
       "      <td>10</td>\n",
       "      <td>HTML/CSS;JavaScript;Python;SQL</td>\n",
       "      <td>HTML/CSS;Python;SQL;TypeScript</td>\n",
       "      <td>Once every few years</td>\n",
       "      <td>Visit Stack Overflow;Go for a walk or other ph...</td>\n",
       "      <td>Employed full-time</td>\n",
       "      <td>Developer, full-stack</td>\n",
       "      <td>42.0</td>\n",
       "      <td>Slightly satisfied</td>\n",
       "      <td>Specific department or team I’d be working on;...</td>\n",
       "      <td>Sometimes: 1-2 days per month but less than we...</td>\n",
       "      <td>Very important</td>\n",
       "    </tr>\n",
       "  </tbody>\n",
       "</table>\n",
       "</div>"
      ],
      "text/plain": [
       "         Country   Age Gender  \\\n",
       "0            NaN   NaN  Other   \n",
       "1        Georgia   NaN  Other   \n",
       "2  United States  27.0    Man   \n",
       "3        Nigeria  25.0    Man   \n",
       "4          India  36.0    Man   \n",
       "\n",
       "                                             EdLevel  \\\n",
       "0                                                NaN   \n",
       "1       Bachelor’s degree (B.A., B.S., B.Eng., etc.)   \n",
       "2  Some college/university study without earning ...   \n",
       "3       Bachelor’s degree (B.A., B.S., B.Eng., etc.)   \n",
       "4    Master’s degree (M.A., M.S., M.Eng., MBA, etc.)   \n",
       "\n",
       "                                      UndergradMajor Hobbyist Age1stCode  \\\n",
       "0                                                NaN       No        NaN   \n",
       "1  Computer science, computer engineering, or sof...      Yes         18   \n",
       "2  Computer science, computer engineering, or sof...      Yes         20   \n",
       "3  Computer science, computer engineering, or sof...      Yes         22   \n",
       "4  Computer science, computer engineering, or sof...      Yes         15   \n",
       "\n",
       "  YearsCode YearsCodePro                  LanguageWorkedWith  \\\n",
       "0       NaN          NaN                                 NaN   \n",
       "1         4            2                                 NaN   \n",
       "2         4            3  HTML/CSS;JavaScript;PHP;TypeScript   \n",
       "3         5            2                 HTML/CSS;Python;SQL   \n",
       "4        16           10      HTML/CSS;JavaScript;Python;SQL   \n",
       "\n",
       "                      LanguageDesireNextYear              NEWLearn  \\\n",
       "0                                        NaN                   NaN   \n",
       "1                                        NaN                   NaN   \n",
       "2                    C++;HTML/CSS;TypeScript           Once a year   \n",
       "3  Haskell;HTML/CSS;JavaScript;Kotlin;Python      Every few months   \n",
       "4             HTML/CSS;Python;SQL;TypeScript  Once every few years   \n",
       "\n",
       "                                            NEWStuck  \\\n",
       "0                                                NaN   \n",
       "1                                                NaN   \n",
       "2  Visit Stack Overflow;Go for a walk or other ph...   \n",
       "3  Meditate;Call a coworker or friend;Visit Stack...   \n",
       "4  Visit Stack Overflow;Go for a walk or other ph...   \n",
       "\n",
       "                                          Employment  \\\n",
       "0                                 Employed full-time   \n",
       "1                                 Employed full-time   \n",
       "2                                 Employed full-time   \n",
       "3  Independent contractor, freelancer, or self-em...   \n",
       "4                                 Employed full-time   \n",
       "\n",
       "                                             DevType  WorkWeekHrs  \\\n",
       "0                                                NaN          NaN   \n",
       "1                              Developer, full-stack          NaN   \n",
       "2                              Developer, full-stack         35.0   \n",
       "3  Designer;Developer, back-end;Developer, deskto...          NaN   \n",
       "4                              Developer, full-stack         42.0   \n",
       "\n",
       "               JobSat                                         JobFactors  \\\n",
       "0                 NaN                                                NaN   \n",
       "1   Very dissatisfied                                                NaN   \n",
       "2      Very satisfied  Languages, frameworks, and other technologies ...   \n",
       "3                 NaN  Languages, frameworks, and other technologies ...   \n",
       "4  Slightly satisfied  Specific department or team I’d be working on;...   \n",
       "\n",
       "                                         NEWOvertime  \\\n",
       "0                                                NaN   \n",
       "1                                                NaN   \n",
       "2                                              Never   \n",
       "3                                                NaN   \n",
       "4  Sometimes: 1-2 days per month but less than we...   \n",
       "\n",
       "                            NEWEdImpt  \n",
       "0                                 NaN  \n",
       "1                    Fairly important  \n",
       "2  Not at all important/not necessary  \n",
       "3                Critically important  \n",
       "4                      Very important  "
      ]
     },
     "execution_count": 52,
     "metadata": {},
     "output_type": "execute_result"
    }
   ],
   "source": [
    "survey_df.head()"
   ]
  },
  {
   "cell_type": "markdown",
   "id": "89a69d57",
   "metadata": {},
   "source": [
    "We've now cleaned up and prepared the dataset for analysis. Let's take a look at a sample of rows from the data frame."
   ]
  },
  {
   "cell_type": "code",
   "execution_count": 53,
   "id": "35d03d2c",
   "metadata": {},
   "outputs": [
    {
     "data": {
      "text/html": [
       "<div>\n",
       "<style scoped>\n",
       "    .dataframe tbody tr th:only-of-type {\n",
       "        vertical-align: middle;\n",
       "    }\n",
       "\n",
       "    .dataframe tbody tr th {\n",
       "        vertical-align: top;\n",
       "    }\n",
       "\n",
       "    .dataframe thead th {\n",
       "        text-align: right;\n",
       "    }\n",
       "</style>\n",
       "<table border=\"1\" class=\"dataframe\">\n",
       "  <thead>\n",
       "    <tr style=\"text-align: right;\">\n",
       "      <th></th>\n",
       "      <th>Country</th>\n",
       "      <th>Age</th>\n",
       "      <th>Gender</th>\n",
       "      <th>EdLevel</th>\n",
       "      <th>UndergradMajor</th>\n",
       "      <th>Hobbyist</th>\n",
       "      <th>Age1stCode</th>\n",
       "      <th>YearsCode</th>\n",
       "      <th>YearsCodePro</th>\n",
       "      <th>LanguageWorkedWith</th>\n",
       "      <th>LanguageDesireNextYear</th>\n",
       "      <th>NEWLearn</th>\n",
       "      <th>NEWStuck</th>\n",
       "      <th>Employment</th>\n",
       "      <th>DevType</th>\n",
       "      <th>WorkWeekHrs</th>\n",
       "      <th>JobSat</th>\n",
       "      <th>JobFactors</th>\n",
       "      <th>NEWOvertime</th>\n",
       "      <th>NEWEdImpt</th>\n",
       "    </tr>\n",
       "  </thead>\n",
       "  <tbody>\n",
       "    <tr>\n",
       "      <th>9548</th>\n",
       "      <td>Israel</td>\n",
       "      <td>63.0</td>\n",
       "      <td>Man</td>\n",
       "      <td>Bachelor’s degree (B.A., B.S., B.Eng., etc.)</td>\n",
       "      <td>Computer science, computer engineering, or sof...</td>\n",
       "      <td>No</td>\n",
       "      <td>20</td>\n",
       "      <td>8</td>\n",
       "      <td>2</td>\n",
       "      <td>Python</td>\n",
       "      <td>Python</td>\n",
       "      <td>Once every few years</td>\n",
       "      <td>Visit Stack Overflow;Watch help / tutorial vid...</td>\n",
       "      <td>Independent contractor, freelancer, or self-em...</td>\n",
       "      <td>Designer;Developer, back-end;Engineer, data</td>\n",
       "      <td>10.0</td>\n",
       "      <td>Neither satisfied nor dissatisfied</td>\n",
       "      <td>Flex time or a flexible schedule;Specific depa...</td>\n",
       "      <td>Occasionally: 1-2 days per quarter but less th...</td>\n",
       "      <td>Critically important</td>\n",
       "    </tr>\n",
       "    <tr>\n",
       "      <th>34286</th>\n",
       "      <td>Uruguay</td>\n",
       "      <td>22.0</td>\n",
       "      <td>Man</td>\n",
       "      <td>Some college/university study without earning ...</td>\n",
       "      <td>Computer science, computer engineering, or sof...</td>\n",
       "      <td>Yes</td>\n",
       "      <td>15</td>\n",
       "      <td>7</td>\n",
       "      <td>1</td>\n",
       "      <td>Java;Rust;Scala</td>\n",
       "      <td>Java;Rust</td>\n",
       "      <td>Every few months</td>\n",
       "      <td>Visit Stack Overflow;Do other work and come ba...</td>\n",
       "      <td>Employed full-time</td>\n",
       "      <td>Data or business analyst;Developer, back-end</td>\n",
       "      <td>8.0</td>\n",
       "      <td>Very satisfied</td>\n",
       "      <td>Industry that I’d be working in;Flex time or a...</td>\n",
       "      <td>Sometimes: 1-2 days per month but less than we...</td>\n",
       "      <td>Not at all important/not necessary</td>\n",
       "    </tr>\n",
       "    <tr>\n",
       "      <th>36760</th>\n",
       "      <td>Australia</td>\n",
       "      <td>35.0</td>\n",
       "      <td>Man</td>\n",
       "      <td>Bachelor’s degree (B.A., B.S., B.Eng., etc.)</td>\n",
       "      <td>A business discipline (such as accounting, fin...</td>\n",
       "      <td>Yes</td>\n",
       "      <td>10</td>\n",
       "      <td>25</td>\n",
       "      <td>8</td>\n",
       "      <td>Bash/Shell/PowerShell;HTML/CSS;JavaScript;Type...</td>\n",
       "      <td>Bash/Shell/PowerShell;HTML/CSS;JavaScript;Type...</td>\n",
       "      <td>Once every few years</td>\n",
       "      <td>Call a coworker or friend;Visit Stack Overflow...</td>\n",
       "      <td>Employed full-time</td>\n",
       "      <td>Developer, front-end;Developer, full-stack;Eng...</td>\n",
       "      <td>45.0</td>\n",
       "      <td>Very dissatisfied</td>\n",
       "      <td>Languages, frameworks, and other technologies ...</td>\n",
       "      <td>Often: 1-2 days per week or more</td>\n",
       "      <td>Fairly important</td>\n",
       "    </tr>\n",
       "    <tr>\n",
       "      <th>31773</th>\n",
       "      <td>United States</td>\n",
       "      <td>37.0</td>\n",
       "      <td>Man</td>\n",
       "      <td>Master’s degree (M.A., M.S., M.Eng., MBA, etc.)</td>\n",
       "      <td>Information systems, information technology, o...</td>\n",
       "      <td>Yes</td>\n",
       "      <td>10</td>\n",
       "      <td>27</td>\n",
       "      <td>10</td>\n",
       "      <td>Bash/Shell/PowerShell;HTML/CSS;Python;SQL</td>\n",
       "      <td>C++;Go;JavaScript;Python;TypeScript</td>\n",
       "      <td>Every few months</td>\n",
       "      <td>Visit Stack Overflow;Go for a walk or other ph...</td>\n",
       "      <td>Employed full-time</td>\n",
       "      <td>Database administrator;Developer, back-end;Dev...</td>\n",
       "      <td>35.0</td>\n",
       "      <td>Very dissatisfied</td>\n",
       "      <td>Remote work options;Office environment or comp...</td>\n",
       "      <td>Rarely: 1-2 days per year or less</td>\n",
       "      <td>Fairly important</td>\n",
       "    </tr>\n",
       "    <tr>\n",
       "      <th>15794</th>\n",
       "      <td>United States</td>\n",
       "      <td>40.0</td>\n",
       "      <td>Other</td>\n",
       "      <td>Bachelor’s degree (B.A., B.S., B.Eng., etc.)</td>\n",
       "      <td>Computer science, computer engineering, or sof...</td>\n",
       "      <td>Yes</td>\n",
       "      <td>14</td>\n",
       "      <td>26</td>\n",
       "      <td>18</td>\n",
       "      <td>Bash/Shell/PowerShell;C;C#;C++;HTML/CSS;Java;J...</td>\n",
       "      <td>C++</td>\n",
       "      <td>Once a year</td>\n",
       "      <td>Call a coworker or friend;Go for a walk or oth...</td>\n",
       "      <td>Employed full-time</td>\n",
       "      <td>Developer, front-end;Developer, full-stack</td>\n",
       "      <td>40.0</td>\n",
       "      <td>Very satisfied</td>\n",
       "      <td>Flex time or a flexible schedule;Opportunities...</td>\n",
       "      <td>Sometimes: 1-2 days per month but less than we...</td>\n",
       "      <td>Fairly important</td>\n",
       "    </tr>\n",
       "  </tbody>\n",
       "</table>\n",
       "</div>"
      ],
      "text/plain": [
       "             Country   Age Gender  \\\n",
       "9548          Israel  63.0    Man   \n",
       "34286        Uruguay  22.0    Man   \n",
       "36760      Australia  35.0    Man   \n",
       "31773  United States  37.0    Man   \n",
       "15794  United States  40.0  Other   \n",
       "\n",
       "                                                 EdLevel  \\\n",
       "9548        Bachelor’s degree (B.A., B.S., B.Eng., etc.)   \n",
       "34286  Some college/university study without earning ...   \n",
       "36760       Bachelor’s degree (B.A., B.S., B.Eng., etc.)   \n",
       "31773    Master’s degree (M.A., M.S., M.Eng., MBA, etc.)   \n",
       "15794       Bachelor’s degree (B.A., B.S., B.Eng., etc.)   \n",
       "\n",
       "                                          UndergradMajor Hobbyist Age1stCode  \\\n",
       "9548   Computer science, computer engineering, or sof...       No         20   \n",
       "34286  Computer science, computer engineering, or sof...      Yes         15   \n",
       "36760  A business discipline (such as accounting, fin...      Yes         10   \n",
       "31773  Information systems, information technology, o...      Yes         10   \n",
       "15794  Computer science, computer engineering, or sof...      Yes         14   \n",
       "\n",
       "      YearsCode YearsCodePro  \\\n",
       "9548          8            2   \n",
       "34286         7            1   \n",
       "36760        25            8   \n",
       "31773        27           10   \n",
       "15794        26           18   \n",
       "\n",
       "                                      LanguageWorkedWith  \\\n",
       "9548                                              Python   \n",
       "34286                                    Java;Rust;Scala   \n",
       "36760  Bash/Shell/PowerShell;HTML/CSS;JavaScript;Type...   \n",
       "31773          Bash/Shell/PowerShell;HTML/CSS;Python;SQL   \n",
       "15794  Bash/Shell/PowerShell;C;C#;C++;HTML/CSS;Java;J...   \n",
       "\n",
       "                                  LanguageDesireNextYear  \\\n",
       "9548                                              Python   \n",
       "34286                                          Java;Rust   \n",
       "36760  Bash/Shell/PowerShell;HTML/CSS;JavaScript;Type...   \n",
       "31773                C++;Go;JavaScript;Python;TypeScript   \n",
       "15794                                                C++   \n",
       "\n",
       "                   NEWLearn  \\\n",
       "9548   Once every few years   \n",
       "34286      Every few months   \n",
       "36760  Once every few years   \n",
       "31773      Every few months   \n",
       "15794           Once a year   \n",
       "\n",
       "                                                NEWStuck  \\\n",
       "9548   Visit Stack Overflow;Watch help / tutorial vid...   \n",
       "34286  Visit Stack Overflow;Do other work and come ba...   \n",
       "36760  Call a coworker or friend;Visit Stack Overflow...   \n",
       "31773  Visit Stack Overflow;Go for a walk or other ph...   \n",
       "15794  Call a coworker or friend;Go for a walk or oth...   \n",
       "\n",
       "                                              Employment  \\\n",
       "9548   Independent contractor, freelancer, or self-em...   \n",
       "34286                                 Employed full-time   \n",
       "36760                                 Employed full-time   \n",
       "31773                                 Employed full-time   \n",
       "15794                                 Employed full-time   \n",
       "\n",
       "                                                 DevType  WorkWeekHrs  \\\n",
       "9548         Designer;Developer, back-end;Engineer, data         10.0   \n",
       "34286       Data or business analyst;Developer, back-end          8.0   \n",
       "36760  Developer, front-end;Developer, full-stack;Eng...         45.0   \n",
       "31773  Database administrator;Developer, back-end;Dev...         35.0   \n",
       "15794         Developer, front-end;Developer, full-stack         40.0   \n",
       "\n",
       "                                   JobSat  \\\n",
       "9548   Neither satisfied nor dissatisfied   \n",
       "34286                      Very satisfied   \n",
       "36760                   Very dissatisfied   \n",
       "31773                   Very dissatisfied   \n",
       "15794                      Very satisfied   \n",
       "\n",
       "                                              JobFactors  \\\n",
       "9548   Flex time or a flexible schedule;Specific depa...   \n",
       "34286  Industry that I’d be working in;Flex time or a...   \n",
       "36760  Languages, frameworks, and other technologies ...   \n",
       "31773  Remote work options;Office environment or comp...   \n",
       "15794  Flex time or a flexible schedule;Opportunities...   \n",
       "\n",
       "                                             NEWOvertime  \\\n",
       "9548   Occasionally: 1-2 days per quarter but less th...   \n",
       "34286  Sometimes: 1-2 days per month but less than we...   \n",
       "36760                   Often: 1-2 days per week or more   \n",
       "31773                  Rarely: 1-2 days per year or less   \n",
       "15794  Sometimes: 1-2 days per month but less than we...   \n",
       "\n",
       "                                NEWEdImpt  \n",
       "9548                 Critically important  \n",
       "34286  Not at all important/not necessary  \n",
       "36760                    Fairly important  \n",
       "31773                    Fairly important  \n",
       "15794                    Fairly important  "
      ]
     },
     "execution_count": 53,
     "metadata": {},
     "output_type": "execute_result"
    }
   ],
   "source": [
    "# Here write your code\n",
    "survey_df.sample(5)"
   ]
  },
  {
   "cell_type": "markdown",
   "id": "caac05a7",
   "metadata": {},
   "source": [
    "## Exploratory Analysis and Visualization\n",
    "\n",
    "Before we ask questions about the survey responses, it would help to understand the respondents' demographics, i.e., country, age, gender, education level, employment level, etc. It's essential to explore these variables to understand how representative the survey is of the worldwide programming community. A survey of this scale generally tends to have some [selection bias](https://en.wikipedia.org/wiki/Selection_bias)."
   ]
  },
  {
   "cell_type": "code",
   "execution_count": 54,
   "id": "30bca8ee",
   "metadata": {},
   "outputs": [],
   "source": [
    "%matplotlib inline\n",
    "import matplotlib\n",
    "sns.set_style('darkgrid')\n",
    "matplotlib.rcParams['font.size'] = 14\n",
    "matplotlib.rcParams['figure.figsize'] = (9, 5)\n",
    "matplotlib.rcParams['figure.facecolor'] = '#00000000'"
   ]
  },
  {
   "cell_type": "markdown",
   "id": "e6cdf60e",
   "metadata": {},
   "source": [
    "### Country\n",
    "\n",
    "Let's look at the number of countries from which there are responses in the survey and plot the ten countries with the highest number of responses."
   ]
  },
  {
   "cell_type": "code",
   "execution_count": 55,
   "id": "01e1e803",
   "metadata": {},
   "outputs": [
    {
     "data": {
      "text/plain": [
       "'Where do you live?'"
      ]
     },
     "execution_count": 55,
     "metadata": {},
     "output_type": "execute_result"
    }
   ],
   "source": [
    "scheme_raw.Country"
   ]
  },
  {
   "cell_type": "code",
   "execution_count": 56,
   "id": "82a05e49",
   "metadata": {},
   "outputs": [
    {
     "data": {
      "image/png": "[encoded data removed]",
      "text/plain": [
       "<Figure size 900x500 with 1 Axes>"
      ]
     },
     "metadata": {
      "needs_background": "light"
     },
     "output_type": "display_data"
    }
   ],
   "source": [
    "# Here write your answer\n",
    "survey_df.Country.value_counts().head(10).plot(kind='barh');"
   ]
  },
  {
   "cell_type": "markdown",
   "id": "cf41f095",
   "metadata": {},
   "source": [
    "We can identify the countries with the highest number of respondents using the `value_counts` method."
   ]
  },
  {
   "cell_type": "code",
   "execution_count": 53,
   "id": "d672c90c",
   "metadata": {},
   "outputs": [],
   "source": [
    "# Here write your answer"
   ]
  },
  {
   "cell_type": "markdown",
   "id": "3b91f874",
   "metadata": {},
   "source": [
    "We can visualize this information using a `bar chart`."
   ]
  },
  {
   "cell_type": "code",
   "execution_count": 62,
   "id": "63e0d4ff",
   "metadata": {},
   "outputs": [],
   "source": [
    "# Here write your code"
   ]
  },
  {
   "cell_type": "markdown",
   "id": "cd79a837",
   "metadata": {},
   "source": [
    "**Interpretation:**\n",
    "It appears that a disproportionately high number of respondents are from the US and etc, probably because the survey is in English, and these countries have the highest English-speaking populations. We can already see that the survey may not be representative of the global programming community - especially from non-English speaking countries. Programmers from non-English speaking countries are almost certainly underrepresented.\n",
    "\n",
    "> **Exercise**: Try finding the percentage of responses from English-speaking vs. non-English speaking countries. You can use [this list of languages spoken in different countries](https://github.com/bsef19m521/DatasetsForProjects/blob/master/countries-languages.csv)."
   ]
  },
  {
   "cell_type": "code",
   "execution_count": null,
   "id": "1a793817",
   "metadata": {},
   "outputs": [],
   "source": []
  },
  {
   "cell_type": "markdown",
   "id": "5cde28cf",
   "metadata": {},
   "source": [
    "### Age\n",
    "\n",
    "The distribution of respondents' age is another crucial factor to look at. We can use a `histogram` to visualize it. "
   ]
  },
  {
   "cell_type": "code",
   "execution_count": null,
   "id": "c039ef16",
   "metadata": {},
   "outputs": [],
   "source": [
    "# Here write your code\n",
    "survey_df.Age.describe()"
   ]
  },
  {
   "cell_type": "code",
   "execution_count": null,
   "id": "549f7009",
   "metadata": {},
   "outputs": [],
   "source": [
    "sns.histplot(survey_df.Age);"
   ]
  },
  {
   "cell_type": "markdown",
   "id": "cf15bc0c",
   "metadata": {},
   "source": [
    "**Interpretation:**\n",
    "It appears that a large percentage of respondents are 20-45 years old. It's somewhat representative of the programming community in general. Many young people have taken up computer science as their field of study or profession in the last 20 years.\n",
    "\n",
    "> **Exercise**: You may want to filter out responses by age (or age group) if you'd like to analyze and compare the survey results for different age groups. Create a new column called AgeGroup containing values like `Less than 10 years`, `10-18 years`, `18-30 years`, `30-45 years`, `45-60 years` and `Older than 60 years`. Then, repeat the analysis in the rest of this notebook for each age group.\n"
   ]
  },
  {
   "cell_type": "code",
   "execution_count": null,
   "id": "df9be82f",
   "metadata": {},
   "outputs": [],
   "source": []
  },
  {
   "cell_type": "markdown",
   "id": "c8b32122",
   "metadata": {},
   "source": [
    "### Gender\n",
    "\n",
    "Let's look at the distribution of responses for the Gender. It's a well-known fact that women and non-binary genders are underrepresented in the programming community, so we might expect to see a skewed distribution here."
   ]
  },
  {
   "cell_type": "code",
   "execution_count": null,
   "id": "7ae9810c",
   "metadata": {},
   "outputs": [],
   "source": [
    "scheme_raw.Gender"
   ]
  },
  {
   "cell_type": "markdown",
   "id": "4fbbe04b",
   "metadata": {},
   "source": [
    "Display `Gender` distribution along with their `values`"
   ]
  },
  {
   "cell_type": "code",
   "execution_count": null,
   "id": "5f812dd0",
   "metadata": {},
   "outputs": [],
   "source": [
    "# Here write your code\n",
    "survey_df.Gender.value_counts().plot(kind='pie',)"
   ]
  },
  {
   "cell_type": "markdown",
   "id": "1bc6c34d",
   "metadata": {},
   "source": [
    "Use a `pie chart` or `countplot` to visualize the distribution."
   ]
  },
  {
   "cell_type": "code",
   "execution_count": null,
   "id": "38686eb8",
   "metadata": {},
   "outputs": [],
   "source": [
    "# Here write your code\n",
    "sns.countplot(x= survey_df.Gender);"
   ]
  },
  {
   "cell_type": "code",
   "execution_count": null,
   "id": "6acf28ae",
   "metadata": {},
   "outputs": [],
   "source": []
  },
  {
   "cell_type": "markdown",
   "id": "0443fb5c",
   "metadata": {},
   "source": [
    "> **Here write your observation about visualization**:\n",
    "    "
   ]
  },
  {
   "cell_type": "markdown",
   "id": "5cb12a1b",
   "metadata": {},
   "source": [
    "> **Exercise**: It would be interesting to compare the survey responses & preferences across genders. Repeat this analysis with these breakdowns. How do the relative education levels differ across genders? How do the salaries vary? You may find this analysis on the [Gender Divide in Data Science](https://medium.com/datadriveninvestor/exploratory-data-analysis-eda-understanding-the-gender-divide-in-data-science-roles-9faa5da44f5b) useful."
   ]
  },
  {
   "cell_type": "code",
   "execution_count": null,
   "id": "1cfa9426",
   "metadata": {},
   "outputs": [],
   "source": []
  },
  {
   "cell_type": "markdown",
   "id": "fa31749d",
   "metadata": {},
   "source": [
    "### Education Level\n",
    "\n",
    "Formal education in computer science is often considered an essential requirement for becoming a programmer. However, there are many free resources & tutorials available online to learn programming. Let's compare the education levels of respondents to gain some insight into this. We'll use a horizontal bar plot here."
   ]
  },
  {
   "cell_type": "code",
   "execution_count": null,
   "id": "1273a1da",
   "metadata": {},
   "outputs": [],
   "source": [
    "# Here write your code\n",
    "scheme_raw.EdLevel"
   ]
  },
  {
   "cell_type": "code",
   "execution_count": null,
   "id": "c1a08803",
   "metadata": {},
   "outputs": [],
   "source": [
    "survey_df.EdLevel.value_counts()"
   ]
  },
  {
   "cell_type": "code",
   "execution_count": null,
   "id": "253c7dc2",
   "metadata": {},
   "outputs": [],
   "source": [
    "survey_df.EdLevel.value_counts(normalize=True).plot(kind='barh');"
   ]
  },
  {
   "cell_type": "code",
   "execution_count": null,
   "id": "8e945d1c",
   "metadata": {},
   "outputs": [],
   "source": [
    "# plt.figure(figsize=(10,10))\n",
    "sns.set(rc={'figure.figsize':(15,10)})\n",
    "pd.crosstab(index=survey_df.EdLevel, columns=survey_df.Gender,normalize=True).plot(kind='barh');"
   ]
  },
  {
   "cell_type": "markdown",
   "id": "c59ef8f5",
   "metadata": {},
   "source": [
    "**Interpretation:**\n",
    "It appears that well over half of the respondents hold a bachelor's or master's degree, so most programmers seem to have some college education. However, it's not clear from this graph alone if they hold a degree in computer science.\n",
    "\n",
    "> **Exercises**: The graph currently shows the number of respondents for each option. Can you modify it to show the percentage instead? Further, try comparing the percentages for each degree for men vs. women. "
   ]
  },
  {
   "cell_type": "code",
   "execution_count": null,
   "id": "0ec3bb92",
   "metadata": {},
   "outputs": [],
   "source": []
  },
  {
   "cell_type": "markdown",
   "id": "fb350cb5",
   "metadata": {},
   "source": [
    "Let's also plot undergraduate majors, but this time we'll convert the numbers into percentages and sort the values to make it easier to visualize the order."
   ]
  },
  {
   "cell_type": "markdown",
   "id": "3179f48f",
   "metadata": {},
   "source": [
    "### UndergradMajor"
   ]
  },
  {
   "cell_type": "markdown",
   "id": "b61bfb05",
   "metadata": {},
   "source": [
    "Let's also plot `undergraduate majors`, but this time we'll convert the numbers into percentages and sort the values to make it easier to visualize the order."
   ]
  },
  {
   "cell_type": "code",
   "execution_count": 88,
   "id": "86da1d3e",
   "metadata": {},
   "outputs": [],
   "source": [
    "# Here write your code"
   ]
  },
  {
   "cell_type": "code",
   "execution_count": null,
   "id": "963ad758",
   "metadata": {},
   "outputs": [],
   "source": [
    "scheme_raw.UndergradMajor"
   ]
  },
  {
   "cell_type": "code",
   "execution_count": null,
   "id": "38761039",
   "metadata": {},
   "outputs": [],
   "source": [
    "survey_df.UndergradMajor.value_counts(normalize=True).plot(kind='barh')"
   ]
  },
  {
   "cell_type": "code",
   "execution_count": null,
   "id": "b04fd61f",
   "metadata": {},
   "outputs": [],
   "source": []
  },
  {
   "cell_type": "code",
   "execution_count": null,
   "id": "8c691ad5",
   "metadata": {},
   "outputs": [],
   "source": []
  },
  {
   "cell_type": "markdown",
   "id": "cb32f58f",
   "metadata": {},
   "source": [
    "**Observation:**\n",
    "It turns out that 40% of programmers holding a college degree have a field of study other than computer science - which is very encouraging. It seems to suggest that while a college education is helpful in general, you do not need to pursue a major in computer science to become a successful programmer.\n",
    "\n",
    "> **Exercises**: Analyze the `NEWEdImpt` column for respondents who hold some college degree vs. those who don't. Do you notice any difference in opinion?"
   ]
  },
  {
   "cell_type": "code",
   "execution_count": null,
   "id": "0a50c84f",
   "metadata": {},
   "outputs": [],
   "source": []
  },
  {
   "cell_type": "markdown",
   "id": "cbc1675b",
   "metadata": {},
   "source": [
    "### Employment\n",
    "\n",
    "Freelancing or contract work is a common choice among programmers, so it would be interesting to compare the breakdown between full-time, part-time, and freelance work. Let's visualize the data from the `Employment` column using `barplot` or `countplot`."
   ]
  },
  {
   "cell_type": "code",
   "execution_count": null,
   "id": "8dbc6a30",
   "metadata": {},
   "outputs": [],
   "source": [
    "scheme_raw.Employment"
   ]
  },
  {
   "cell_type": "code",
   "execution_count": 95,
   "id": "aecf3f1b",
   "metadata": {},
   "outputs": [],
   "source": [
    "# Here write your code"
   ]
  },
  {
   "cell_type": "code",
   "execution_count": null,
   "id": "cf00a4d3",
   "metadata": {},
   "outputs": [],
   "source": [
    "Emp_result = survey_df.Employment.value_counts(normalize=True, ascending=False)*100\n",
    "Emp_result.plot(kind='barh')"
   ]
  },
  {
   "cell_type": "code",
   "execution_count": null,
   "id": "2f65ad83",
   "metadata": {},
   "outputs": [],
   "source": []
  },
  {
   "cell_type": "markdown",
   "id": "e330583a",
   "metadata": {},
   "source": [
    "**Observation:**\n",
    "It appears that close to 10% of respondents are employed part time or as freelancers.\n",
    "\n",
    "> **Exercise**: Add a new column `EmploymentType` containing the values `Enthusiast` (student or not employed but looking for work), `Professional` (employed full-time, part-time or freelancing), and `Other` (not employed or retired). For each of the graphs that follow, show a comparison between `Enthusiast` and `Professional`."
   ]
  },
  {
   "cell_type": "code",
   "execution_count": null,
   "id": "54b2c26d",
   "metadata": {},
   "outputs": [],
   "source": []
  },
  {
   "cell_type": "markdown",
   "id": "b33b6306",
   "metadata": {},
   "source": [
    "### DevType"
   ]
  },
  {
   "cell_type": "markdown",
   "id": "4c256243",
   "metadata": {},
   "source": [
    "The `DevType` field contains information about the roles held by respondents. Since the question allows multiple answers, the column contains lists of values separated by a semi-colon `;`, making it a bit harder to analyze directly."
   ]
  },
  {
   "cell_type": "code",
   "execution_count": null,
   "id": "05ac46cf",
   "metadata": {},
   "outputs": [],
   "source": [
    "scheme_raw.DevType"
   ]
  },
  {
   "cell_type": "code",
   "execution_count": 115,
   "id": "680ab151",
   "metadata": {},
   "outputs": [],
   "source": [
    "# survey_df.DevType.value_counts()"
   ]
  },
  {
   "cell_type": "code",
   "execution_count": 116,
   "id": "345afb74",
   "metadata": {},
   "outputs": [],
   "source": [
    "# survey_df.DevType.str.split(\";\").value_counts()"
   ]
  },
  {
   "cell_type": "code",
   "execution_count": null,
   "id": "54584e6e",
   "metadata": {},
   "outputs": [],
   "source": [
    "s1 = survey_df.DevType\n",
    "s1"
   ]
  },
  {
   "cell_type": "code",
   "execution_count": null,
   "id": "c40be1d0",
   "metadata": {},
   "outputs": [],
   "source": [
    "s1.value_counts()"
   ]
  },
  {
   "cell_type": "code",
   "execution_count": 152,
   "id": "8b99ab5b",
   "metadata": {},
   "outputs": [],
   "source": [
    "s1.str.split(';').dropna()"
   ]
  },
  {
   "cell_type": "code",
   "execution_count": null,
   "id": "4d268759",
   "metadata": {},
   "outputs": [],
   "source": [
    "s1"
   ]
  },
  {
   "cell_type": "code",
   "execution_count": null,
   "id": "cc9e2941",
   "metadata": {},
   "outputs": [],
   "source": [
    "pd.DataFrame(data=s1.str.split(\";\"))"
   ]
  },
  {
   "cell_type": "code",
   "execution_count": 168,
   "id": "d1a03b60",
   "metadata": {},
   "outputs": [],
   "source": [
    "# survey_df.DevType.loc[survey_df.DevType.to_frame().notna()[0]]"
   ]
  },
  {
   "cell_type": "code",
   "execution_count": null,
   "id": "24ee812d",
   "metadata": {},
   "outputs": [],
   "source": []
  },
  {
   "cell_type": "code",
   "execution_count": 178,
   "id": "a40d06e9",
   "metadata": {},
   "outputs": [],
   "source": [
    "new = {}\n",
    "for x in survey_df.DevType.dropna():\n",
    "    for d in x.split(';'):\n",
    "        if d not in new:\n",
    "            new[d] = 1\n",
    "        else:\n",
    "            new[d] +=1"
   ]
  },
  {
   "cell_type": "code",
   "execution_count": null,
   "id": "8563a645",
   "metadata": {},
   "outputs": [],
   "source": [
    "new"
   ]
  },
  {
   "cell_type": "code",
   "execution_count": null,
   "id": "f0755a76",
   "metadata": {},
   "outputs": [],
   "source": [
    "{k:v for k,v in sorted(new.items(), key=lambda x:x[1])}"
   ]
  },
  {
   "cell_type": "code",
   "execution_count": null,
   "id": "893a8a34",
   "metadata": {},
   "outputs": [],
   "source": []
  }
 ],
 "metadata": {
  "kernelspec": {
   "display_name": "Python 3 (ipykernel)",
   "language": "python",
   "name": "python3"
  },
  "language_info": {
   "codemirror_mode": {
    "name": "ipython",
    "version": 3
   },
   "file_extension": ".py",
   "mimetype": "text/x-python",
   "name": "python",
   "nbconvert_exporter": "python",
   "pygments_lexer": "ipython3",
   "version": "3.11.7"
  }
 },
 "nbformat": 4,
 "nbformat_minor": 5
}
