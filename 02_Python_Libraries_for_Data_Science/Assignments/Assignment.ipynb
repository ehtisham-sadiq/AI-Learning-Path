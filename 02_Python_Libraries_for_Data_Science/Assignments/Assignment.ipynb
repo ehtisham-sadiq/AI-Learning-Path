{
 "cells": [
  {
   "cell_type": "markdown",
   "id": "bf2532f0",
   "metadata": {},
   "source": [
    "# Basic Data Analysis Project"
   ]
  },
  {
   "cell_type": "markdown",
   "id": "039073d7",
   "metadata": {},
   "source": [
    "### PART 1, Basic Python\n",
    "\n",
    "Read `long-beach.txt` file and convert all the contents similar to `long-beach-output.txt`, where only two records are processed "
   ]
  },
  {
   "cell_type": "code",
   "execution_count": 55,
   "id": "7f317872",
   "metadata": {},
   "outputs": [],
   "source": [
    "#with open(\"../datasets/long-beach.txt\",\"r\") as file:\n",
    " #   print(file.read())\n",
    "\n",
    "import pandas as pd\n",
    "import numpy as np\n",
    "import matplotlib.pyplot as plt\n",
    "\n",
    "raw_text = None\n",
    "with open(\"../datasets/long-beach.txt\", \"r\") as f:\n",
    "    raw_text = f.read().replace(\"\\n\",\"\")\n",
    "\n",
    "entries = raw_text.split(\"name\")\n",
    "with open(\"../datasets/long-beach-useroutput.txt\", \"w\") as f:\n",
    "    for e in entries:\n",
    "        f.write(f\"{e}name\\n\")\n",
    "\n"
   ]
  },
  {
   "cell_type": "code",
   "execution_count": 56,
   "id": "0fb6e848",
   "metadata": {},
   "outputs": [],
   "source": [
    "# Your code here\n"
   ]
  },
  {
   "cell_type": "code",
   "execution_count": null,
   "id": "01960973",
   "metadata": {},
   "outputs": [],
   "source": []
  },
  {
   "cell_type": "markdown",
   "id": "b25826bd",
   "metadata": {},
   "source": [
    "## Part 2, Exploratory Data Analysis using Pandas\n",
    "\n",
    "I provide you a data file named `data.csv`. You need to perform exploratory data analysis. I have also created some checkpoints in csv files like `checkpoint1.csv`, so that you can load the corresponding `.csv` file to achieve the processing done till that point."
   ]
  },
  {
   "cell_type": "code",
   "execution_count": 57,
   "id": "1c2054fe",
   "metadata": {},
   "outputs": [],
   "source": [
    "# import necessary libraries here \n",
    "import pandas as pd\n",
    "import numpy as np\n",
    "import matplotlib.pyplot as plt"
   ]
  },
  {
   "cell_type": "markdown",
   "id": "050aa61d",
   "metadata": {},
   "source": [
    "Read the `data.csv` file and display the contents as shown below\n",
    "\n",
    "<img src=\"../images/Fig1.PNG\" />"
   ]
  },
  {
   "cell_type": "code",
   "execution_count": 58,
   "id": "79b75545",
   "metadata": {},
   "outputs": [
    {
     "data": {
      "text/html": [
       "<div>\n",
       "<style scoped>\n",
       "    .dataframe tbody tr th:only-of-type {\n",
       "        vertical-align: middle;\n",
       "    }\n",
       "\n",
       "    .dataframe tbody tr th {\n",
       "        vertical-align: top;\n",
       "    }\n",
       "\n",
       "    .dataframe thead th {\n",
       "        text-align: right;\n",
       "    }\n",
       "</style>\n",
       "<table border=\"1\" class=\"dataframe\">\n",
       "  <thead>\n",
       "    <tr style=\"text-align: right;\">\n",
       "      <th></th>\n",
       "      <th>Jobclass</th>\n",
       "      <th>Job</th>\n",
       "      <th>age</th>\n",
       "      <th>Education-level</th>\n",
       "      <th>marital-status</th>\n",
       "      <th>race</th>\n",
       "      <th>gender</th>\n",
       "      <th>hours-per-week</th>\n",
       "      <th>native-country</th>\n",
       "      <th>income</th>\n",
       "    </tr>\n",
       "  </thead>\n",
       "  <tbody>\n",
       "    <tr>\n",
       "      <th>0</th>\n",
       "      <td>Private</td>\n",
       "      <td>Machine-op-inspct</td>\n",
       "      <td>25</td>\n",
       "      <td>11th</td>\n",
       "      <td>Never-married</td>\n",
       "      <td>Black</td>\n",
       "      <td>Male</td>\n",
       "      <td>40</td>\n",
       "      <td>United-States</td>\n",
       "      <td>&lt;=50K</td>\n",
       "    </tr>\n",
       "    <tr>\n",
       "      <th>1</th>\n",
       "      <td>Private</td>\n",
       "      <td>Farming-fishing</td>\n",
       "      <td>38</td>\n",
       "      <td>HS-grad</td>\n",
       "      <td>Married-A-spouse</td>\n",
       "      <td>White</td>\n",
       "      <td>Male</td>\n",
       "      <td>50</td>\n",
       "      <td>United-States</td>\n",
       "      <td>&lt;=50K</td>\n",
       "    </tr>\n",
       "    <tr>\n",
       "      <th>2</th>\n",
       "      <td>Local-gov</td>\n",
       "      <td>Protective-serv</td>\n",
       "      <td>28</td>\n",
       "      <td>Assoc-acdm</td>\n",
       "      <td>Married-A-spouse</td>\n",
       "      <td>White</td>\n",
       "      <td>Male</td>\n",
       "      <td>40</td>\n",
       "      <td>United-States</td>\n",
       "      <td>&gt;50K</td>\n",
       "    </tr>\n",
       "    <tr>\n",
       "      <th>3</th>\n",
       "      <td>Private</td>\n",
       "      <td>Machine-op-inspct</td>\n",
       "      <td>44</td>\n",
       "      <td>Some-college</td>\n",
       "      <td>Married-A-spouse</td>\n",
       "      <td>Black</td>\n",
       "      <td>Male</td>\n",
       "      <td>40</td>\n",
       "      <td>United-States</td>\n",
       "      <td>&gt;50K</td>\n",
       "    </tr>\n",
       "    <tr>\n",
       "      <th>4</th>\n",
       "      <td>?</td>\n",
       "      <td>?</td>\n",
       "      <td>18</td>\n",
       "      <td>Some-college</td>\n",
       "      <td>Never-married</td>\n",
       "      <td>White</td>\n",
       "      <td>Female</td>\n",
       "      <td>30</td>\n",
       "      <td>United-States</td>\n",
       "      <td>&lt;=50K</td>\n",
       "    </tr>\n",
       "  </tbody>\n",
       "</table>\n",
       "</div>"
      ],
      "text/plain": [
       "    Jobclass                Job  age Education-level    marital-status   race  \\\n",
       "0    Private  Machine-op-inspct   25            11th     Never-married  Black   \n",
       "1    Private    Farming-fishing   38         HS-grad  Married-A-spouse  White   \n",
       "2  Local-gov    Protective-serv   28      Assoc-acdm  Married-A-spouse  White   \n",
       "3    Private  Machine-op-inspct   44    Some-college  Married-A-spouse  Black   \n",
       "4          ?                  ?   18    Some-college     Never-married  White   \n",
       "\n",
       "   gender  hours-per-week native-country income  \n",
       "0    Male              40  United-States  <=50K  \n",
       "1    Male              50  United-States  <=50K  \n",
       "2    Male              40  United-States   >50K  \n",
       "3    Male              40  United-States   >50K  \n",
       "4  Female              30  United-States  <=50K  "
      ]
     },
     "execution_count": 58,
     "metadata": {},
     "output_type": "execute_result"
    }
   ],
   "source": [
    "# Your code here\n",
    "df = pd.read_csv(\"../datasets/data.csv\")\n",
    "df.head()"
   ]
  },
  {
   "cell_type": "code",
   "execution_count": null,
   "id": "1c109e7f",
   "metadata": {},
   "outputs": [],
   "source": []
  },
  {
   "cell_type": "markdown",
   "id": "e6cfbda2",
   "metadata": {},
   "source": [
    "How many records are there in `data.csv`?"
   ]
  },
  {
   "cell_type": "code",
   "execution_count": 59,
   "id": "ec65d785",
   "metadata": {},
   "outputs": [
    {
     "data": {
      "text/plain": [
       "48842"
      ]
     },
     "execution_count": 59,
     "metadata": {},
     "output_type": "execute_result"
    }
   ],
   "source": [
    "# Your code here \n",
    "df.shape[0]"
   ]
  },
  {
   "cell_type": "markdown",
   "id": "5ec36a6a",
   "metadata": {},
   "source": [
    "Total 48842 rows and 10 columns in the dataset"
   ]
  },
  {
   "cell_type": "markdown",
   "id": "ab66120a",
   "metadata": {},
   "source": [
    "In `data.csv`, there are some missing values, which are denoted by `?`. List down all the columns with number of missing values as shown below\n",
    "\n",
    "<img src=\"../images/Fig2.PNG\" />"
   ]
  },
  {
   "cell_type": "code",
   "execution_count": 60,
   "id": "96a54b9c",
   "metadata": {},
   "outputs": [
    {
     "data": {
      "text/plain": [
       "Jobclass           2799\n",
       "Job                2809\n",
       "age                   0\n",
       "Education-level       0\n",
       "marital-status        0\n",
       "race                  0\n",
       "gender                0\n",
       "hours-per-week        0\n",
       "native-country      857\n",
       "income                0\n",
       "dtype: int64"
      ]
     },
     "execution_count": 60,
     "metadata": {},
     "output_type": "execute_result"
    }
   ],
   "source": [
    "# Your code here \n",
    "missing_values = (df == \"?\").sum()\n",
    "missing_values"
   ]
  },
  {
   "cell_type": "code",
   "execution_count": null,
   "id": "dab5a160",
   "metadata": {},
   "outputs": [],
   "source": []
  },
  {
   "cell_type": "markdown",
   "id": "a7c1fe71",
   "metadata": {},
   "source": [
    "Interesting column `Job` and column `Jobclass` contains many missing values. How many records have both these columns missing?"
   ]
  },
  {
   "cell_type": "code",
   "execution_count": 61,
   "id": "0f1a3782",
   "metadata": {},
   "outputs": [
    {
     "name": "stdout",
     "output_type": "stream",
     "text": [
      "Job is missing 2809\n",
      "Jobclass is missing 2799\n"
     ]
    }
   ],
   "source": [
    "# Your code here \n",
    "print(f\"Job is missing {missing_values['Job']}\")\n",
    "print(f\"Jobclass is missing {missing_values['Jobclass']}\")"
   ]
  },
  {
   "cell_type": "code",
   "execution_count": null,
   "id": "d0e809f4",
   "metadata": {},
   "outputs": [],
   "source": []
  },
  {
   "cell_type": "markdown",
   "id": "7e7bbe73",
   "metadata": {},
   "source": [
    "Replace all `?` occurrences with `NaN`"
   ]
  },
  {
   "cell_type": "code",
   "execution_count": 62,
   "id": "f85ee1c6",
   "metadata": {},
   "outputs": [
    {
     "data": {
      "text/html": [
       "<div>\n",
       "<style scoped>\n",
       "    .dataframe tbody tr th:only-of-type {\n",
       "        vertical-align: middle;\n",
       "    }\n",
       "\n",
       "    .dataframe tbody tr th {\n",
       "        vertical-align: top;\n",
       "    }\n",
       "\n",
       "    .dataframe thead th {\n",
       "        text-align: right;\n",
       "    }\n",
       "</style>\n",
       "<table border=\"1\" class=\"dataframe\">\n",
       "  <thead>\n",
       "    <tr style=\"text-align: right;\">\n",
       "      <th></th>\n",
       "      <th>Jobclass</th>\n",
       "      <th>Job</th>\n",
       "      <th>age</th>\n",
       "      <th>Education-level</th>\n",
       "      <th>marital-status</th>\n",
       "      <th>race</th>\n",
       "      <th>gender</th>\n",
       "      <th>hours-per-week</th>\n",
       "      <th>native-country</th>\n",
       "      <th>income</th>\n",
       "    </tr>\n",
       "  </thead>\n",
       "  <tbody>\n",
       "    <tr>\n",
       "      <th>0</th>\n",
       "      <td>Private</td>\n",
       "      <td>Machine-op-inspct</td>\n",
       "      <td>25</td>\n",
       "      <td>11th</td>\n",
       "      <td>Never-married</td>\n",
       "      <td>Black</td>\n",
       "      <td>Male</td>\n",
       "      <td>40</td>\n",
       "      <td>United-States</td>\n",
       "      <td>&lt;=50K</td>\n",
       "    </tr>\n",
       "    <tr>\n",
       "      <th>1</th>\n",
       "      <td>Private</td>\n",
       "      <td>Farming-fishing</td>\n",
       "      <td>38</td>\n",
       "      <td>HS-grad</td>\n",
       "      <td>Married-A-spouse</td>\n",
       "      <td>White</td>\n",
       "      <td>Male</td>\n",
       "      <td>50</td>\n",
       "      <td>United-States</td>\n",
       "      <td>&lt;=50K</td>\n",
       "    </tr>\n",
       "    <tr>\n",
       "      <th>2</th>\n",
       "      <td>Local-gov</td>\n",
       "      <td>Protective-serv</td>\n",
       "      <td>28</td>\n",
       "      <td>Assoc-acdm</td>\n",
       "      <td>Married-A-spouse</td>\n",
       "      <td>White</td>\n",
       "      <td>Male</td>\n",
       "      <td>40</td>\n",
       "      <td>United-States</td>\n",
       "      <td>&gt;50K</td>\n",
       "    </tr>\n",
       "    <tr>\n",
       "      <th>3</th>\n",
       "      <td>Private</td>\n",
       "      <td>Machine-op-inspct</td>\n",
       "      <td>44</td>\n",
       "      <td>Some-college</td>\n",
       "      <td>Married-A-spouse</td>\n",
       "      <td>Black</td>\n",
       "      <td>Male</td>\n",
       "      <td>40</td>\n",
       "      <td>United-States</td>\n",
       "      <td>&gt;50K</td>\n",
       "    </tr>\n",
       "    <tr>\n",
       "      <th>4</th>\n",
       "      <td>NaN</td>\n",
       "      <td>NaN</td>\n",
       "      <td>18</td>\n",
       "      <td>Some-college</td>\n",
       "      <td>Never-married</td>\n",
       "      <td>White</td>\n",
       "      <td>Female</td>\n",
       "      <td>30</td>\n",
       "      <td>United-States</td>\n",
       "      <td>&lt;=50K</td>\n",
       "    </tr>\n",
       "    <tr>\n",
       "      <th>...</th>\n",
       "      <td>...</td>\n",
       "      <td>...</td>\n",
       "      <td>...</td>\n",
       "      <td>...</td>\n",
       "      <td>...</td>\n",
       "      <td>...</td>\n",
       "      <td>...</td>\n",
       "      <td>...</td>\n",
       "      <td>...</td>\n",
       "      <td>...</td>\n",
       "    </tr>\n",
       "    <tr>\n",
       "      <th>48837</th>\n",
       "      <td>Private</td>\n",
       "      <td>Tech-support</td>\n",
       "      <td>27</td>\n",
       "      <td>Assoc-acdm</td>\n",
       "      <td>Married-A-spouse</td>\n",
       "      <td>White</td>\n",
       "      <td>Female</td>\n",
       "      <td>38</td>\n",
       "      <td>United-States</td>\n",
       "      <td>&lt;=50K</td>\n",
       "    </tr>\n",
       "    <tr>\n",
       "      <th>48838</th>\n",
       "      <td>Private</td>\n",
       "      <td>Machine-op-inspct</td>\n",
       "      <td>40</td>\n",
       "      <td>HS-grad</td>\n",
       "      <td>Married-A-spouse</td>\n",
       "      <td>White</td>\n",
       "      <td>Male</td>\n",
       "      <td>40</td>\n",
       "      <td>United-States</td>\n",
       "      <td>&gt;50K</td>\n",
       "    </tr>\n",
       "    <tr>\n",
       "      <th>48839</th>\n",
       "      <td>Private</td>\n",
       "      <td>Adm-clerical</td>\n",
       "      <td>58</td>\n",
       "      <td>HS-grad</td>\n",
       "      <td>Widowed</td>\n",
       "      <td>White</td>\n",
       "      <td>Female</td>\n",
       "      <td>40</td>\n",
       "      <td>United-States</td>\n",
       "      <td>&lt;=50K</td>\n",
       "    </tr>\n",
       "    <tr>\n",
       "      <th>48840</th>\n",
       "      <td>Private</td>\n",
       "      <td>Adm-clerical</td>\n",
       "      <td>22</td>\n",
       "      <td>HS-grad</td>\n",
       "      <td>Never-married</td>\n",
       "      <td>White</td>\n",
       "      <td>Male</td>\n",
       "      <td>20</td>\n",
       "      <td>United-States</td>\n",
       "      <td>&lt;=50K</td>\n",
       "    </tr>\n",
       "    <tr>\n",
       "      <th>48841</th>\n",
       "      <td>Self-emp-inc</td>\n",
       "      <td>Exec-managerial</td>\n",
       "      <td>52</td>\n",
       "      <td>HS-grad</td>\n",
       "      <td>Married-A-spouse</td>\n",
       "      <td>White</td>\n",
       "      <td>Female</td>\n",
       "      <td>40</td>\n",
       "      <td>United-States</td>\n",
       "      <td>&gt;50K</td>\n",
       "    </tr>\n",
       "  </tbody>\n",
       "</table>\n",
       "<p>48842 rows × 10 columns</p>\n",
       "</div>"
      ],
      "text/plain": [
       "           Jobclass                Job  age Education-level    marital-status  \\\n",
       "0           Private  Machine-op-inspct   25            11th     Never-married   \n",
       "1           Private    Farming-fishing   38         HS-grad  Married-A-spouse   \n",
       "2         Local-gov    Protective-serv   28      Assoc-acdm  Married-A-spouse   \n",
       "3           Private  Machine-op-inspct   44    Some-college  Married-A-spouse   \n",
       "4               NaN                NaN   18    Some-college     Never-married   \n",
       "...             ...                ...  ...             ...               ...   \n",
       "48837       Private       Tech-support   27      Assoc-acdm  Married-A-spouse   \n",
       "48838       Private  Machine-op-inspct   40         HS-grad  Married-A-spouse   \n",
       "48839       Private       Adm-clerical   58         HS-grad           Widowed   \n",
       "48840       Private       Adm-clerical   22         HS-grad     Never-married   \n",
       "48841  Self-emp-inc    Exec-managerial   52         HS-grad  Married-A-spouse   \n",
       "\n",
       "        race  gender  hours-per-week native-country income  \n",
       "0      Black    Male              40  United-States  <=50K  \n",
       "1      White    Male              50  United-States  <=50K  \n",
       "2      White    Male              40  United-States   >50K  \n",
       "3      Black    Male              40  United-States   >50K  \n",
       "4      White  Female              30  United-States  <=50K  \n",
       "...      ...     ...             ...            ...    ...  \n",
       "48837  White  Female              38  United-States  <=50K  \n",
       "48838  White    Male              40  United-States   >50K  \n",
       "48839  White  Female              40  United-States  <=50K  \n",
       "48840  White    Male              20  United-States  <=50K  \n",
       "48841  White  Female              40  United-States   >50K  \n",
       "\n",
       "[48842 rows x 10 columns]"
      ]
     },
     "execution_count": 62,
     "metadata": {},
     "output_type": "execute_result"
    }
   ],
   "source": [
    "# Your code here \n",
    "df[df==\"?\"] = np.nan\n",
    "df"
   ]
  },
  {
   "cell_type": "markdown",
   "id": "dbae79b9",
   "metadata": {},
   "source": [
    "### Checkpoint1"
   ]
  },
  {
   "cell_type": "markdown",
   "id": "dfc4b794",
   "metadata": {},
   "source": [
    "List unique enteries in columns `Job`, `Jobclass` and `native-country`"
   ]
  },
  {
   "cell_type": "code",
   "execution_count": 63,
   "id": "669acacb",
   "metadata": {},
   "outputs": [
    {
     "name": "stdout",
     "output_type": "stream",
     "text": [
      "for Job: ['Machine-op-inspct' 'Farming-fishing' 'Protective-serv' nan\n",
      " 'Other-service' 'Prof-specialty' 'Craft-repair' 'Adm-clerical'\n",
      " 'Exec-managerial' 'Tech-support' 'Sales' 'Priv-house-serv'\n",
      " 'Transport-moving' 'Handlers-cleaners' 'Armed-Forces']\n",
      "\n",
      "for Jobclass: ['Private' 'Local-gov' nan 'Self-emp-not-inc' 'Federal-gov' 'State-gov'\n",
      " 'Self-emp-inc' 'Without-pay' 'Never-worked']\n",
      "\n",
      "for native-country: ['United-States' nan 'Peru' 'Guatemala' 'Mexico' 'Dominican-Republic'\n",
      " 'Ireland' 'Germany' 'Philippines' 'Thailand' 'Haiti' 'El-Salvador'\n",
      " 'Puerto-Rico' 'Vietnam' 'South' 'Columbia' 'Japan' 'India' 'Cambodia'\n",
      " 'Poland' 'Laos' 'England' 'Cuba' 'Taiwan' 'Italy' 'Canada' 'Portugal'\n",
      " 'China' 'Nicaragua' 'Honduras' 'Iran' 'Scotland' 'Jamaica' 'Ecuador'\n",
      " 'Yugoslavia' 'Hungary' 'Hong' 'Greece' 'Trinadad&Tobago'\n",
      " 'Outlying-US(Guam-USVI-etc)' 'France' 'Holand-Netherlands']\n",
      "\n"
     ]
    }
   ],
   "source": [
    "# Your code here \n",
    "print(f\"for Job: {df.Job.unique()}\\n\")\n",
    "print(f\"for Jobclass: {df.Jobclass.unique()}\\n\")\n",
    "print(f\"for native-country: {df['native-country'].unique()}\\n\")"
   ]
  },
  {
   "cell_type": "code",
   "execution_count": null,
   "id": "e8afc011",
   "metadata": {},
   "outputs": [],
   "source": []
  },
  {
   "cell_type": "markdown",
   "id": "12822454",
   "metadata": {},
   "source": [
    "Replace `NaN` in columns `Job`, `Jobclass` and `native-country` with the most frequently occurred value.\n",
    "\n",
    "Hint: Statistical function `Mode` can help in this"
   ]
  },
  {
   "cell_type": "code",
   "execution_count": 64,
   "id": "bb9c84c3",
   "metadata": {},
   "outputs": [
    {
     "data": {
      "text/html": [
       "<div>\n",
       "<style scoped>\n",
       "    .dataframe tbody tr th:only-of-type {\n",
       "        vertical-align: middle;\n",
       "    }\n",
       "\n",
       "    .dataframe tbody tr th {\n",
       "        vertical-align: top;\n",
       "    }\n",
       "\n",
       "    .dataframe thead th {\n",
       "        text-align: right;\n",
       "    }\n",
       "</style>\n",
       "<table border=\"1\" class=\"dataframe\">\n",
       "  <thead>\n",
       "    <tr style=\"text-align: right;\">\n",
       "      <th></th>\n",
       "      <th>Jobclass</th>\n",
       "      <th>Job</th>\n",
       "      <th>age</th>\n",
       "      <th>Education-level</th>\n",
       "      <th>marital-status</th>\n",
       "      <th>race</th>\n",
       "      <th>gender</th>\n",
       "      <th>hours-per-week</th>\n",
       "      <th>native-country</th>\n",
       "      <th>income</th>\n",
       "    </tr>\n",
       "  </thead>\n",
       "  <tbody>\n",
       "    <tr>\n",
       "      <th>0</th>\n",
       "      <td>Private</td>\n",
       "      <td>Machine-op-inspct</td>\n",
       "      <td>25</td>\n",
       "      <td>11th</td>\n",
       "      <td>Never-married</td>\n",
       "      <td>Black</td>\n",
       "      <td>Male</td>\n",
       "      <td>40</td>\n",
       "      <td>United-States</td>\n",
       "      <td>&lt;=50K</td>\n",
       "    </tr>\n",
       "    <tr>\n",
       "      <th>1</th>\n",
       "      <td>Private</td>\n",
       "      <td>Farming-fishing</td>\n",
       "      <td>38</td>\n",
       "      <td>HS-grad</td>\n",
       "      <td>Married-A-spouse</td>\n",
       "      <td>White</td>\n",
       "      <td>Male</td>\n",
       "      <td>50</td>\n",
       "      <td>United-States</td>\n",
       "      <td>&lt;=50K</td>\n",
       "    </tr>\n",
       "    <tr>\n",
       "      <th>2</th>\n",
       "      <td>Local-gov</td>\n",
       "      <td>Protective-serv</td>\n",
       "      <td>28</td>\n",
       "      <td>Assoc-acdm</td>\n",
       "      <td>Married-A-spouse</td>\n",
       "      <td>White</td>\n",
       "      <td>Male</td>\n",
       "      <td>40</td>\n",
       "      <td>United-States</td>\n",
       "      <td>&gt;50K</td>\n",
       "    </tr>\n",
       "    <tr>\n",
       "      <th>3</th>\n",
       "      <td>Private</td>\n",
       "      <td>Machine-op-inspct</td>\n",
       "      <td>44</td>\n",
       "      <td>Some-college</td>\n",
       "      <td>Married-A-spouse</td>\n",
       "      <td>Black</td>\n",
       "      <td>Male</td>\n",
       "      <td>40</td>\n",
       "      <td>United-States</td>\n",
       "      <td>&gt;50K</td>\n",
       "    </tr>\n",
       "    <tr>\n",
       "      <th>4</th>\n",
       "      <td>Private</td>\n",
       "      <td>Prof-specialty</td>\n",
       "      <td>18</td>\n",
       "      <td>Some-college</td>\n",
       "      <td>Never-married</td>\n",
       "      <td>White</td>\n",
       "      <td>Female</td>\n",
       "      <td>30</td>\n",
       "      <td>United-States</td>\n",
       "      <td>&lt;=50K</td>\n",
       "    </tr>\n",
       "    <tr>\n",
       "      <th>...</th>\n",
       "      <td>...</td>\n",
       "      <td>...</td>\n",
       "      <td>...</td>\n",
       "      <td>...</td>\n",
       "      <td>...</td>\n",
       "      <td>...</td>\n",
       "      <td>...</td>\n",
       "      <td>...</td>\n",
       "      <td>...</td>\n",
       "      <td>...</td>\n",
       "    </tr>\n",
       "    <tr>\n",
       "      <th>48837</th>\n",
       "      <td>Private</td>\n",
       "      <td>Tech-support</td>\n",
       "      <td>27</td>\n",
       "      <td>Assoc-acdm</td>\n",
       "      <td>Married-A-spouse</td>\n",
       "      <td>White</td>\n",
       "      <td>Female</td>\n",
       "      <td>38</td>\n",
       "      <td>United-States</td>\n",
       "      <td>&lt;=50K</td>\n",
       "    </tr>\n",
       "    <tr>\n",
       "      <th>48838</th>\n",
       "      <td>Private</td>\n",
       "      <td>Machine-op-inspct</td>\n",
       "      <td>40</td>\n",
       "      <td>HS-grad</td>\n",
       "      <td>Married-A-spouse</td>\n",
       "      <td>White</td>\n",
       "      <td>Male</td>\n",
       "      <td>40</td>\n",
       "      <td>United-States</td>\n",
       "      <td>&gt;50K</td>\n",
       "    </tr>\n",
       "    <tr>\n",
       "      <th>48839</th>\n",
       "      <td>Private</td>\n",
       "      <td>Adm-clerical</td>\n",
       "      <td>58</td>\n",
       "      <td>HS-grad</td>\n",
       "      <td>Widowed</td>\n",
       "      <td>White</td>\n",
       "      <td>Female</td>\n",
       "      <td>40</td>\n",
       "      <td>United-States</td>\n",
       "      <td>&lt;=50K</td>\n",
       "    </tr>\n",
       "    <tr>\n",
       "      <th>48840</th>\n",
       "      <td>Private</td>\n",
       "      <td>Adm-clerical</td>\n",
       "      <td>22</td>\n",
       "      <td>HS-grad</td>\n",
       "      <td>Never-married</td>\n",
       "      <td>White</td>\n",
       "      <td>Male</td>\n",
       "      <td>20</td>\n",
       "      <td>United-States</td>\n",
       "      <td>&lt;=50K</td>\n",
       "    </tr>\n",
       "    <tr>\n",
       "      <th>48841</th>\n",
       "      <td>Self-emp-inc</td>\n",
       "      <td>Exec-managerial</td>\n",
       "      <td>52</td>\n",
       "      <td>HS-grad</td>\n",
       "      <td>Married-A-spouse</td>\n",
       "      <td>White</td>\n",
       "      <td>Female</td>\n",
       "      <td>40</td>\n",
       "      <td>United-States</td>\n",
       "      <td>&gt;50K</td>\n",
       "    </tr>\n",
       "  </tbody>\n",
       "</table>\n",
       "<p>48842 rows × 10 columns</p>\n",
       "</div>"
      ],
      "text/plain": [
       "           Jobclass                Job  age Education-level    marital-status  \\\n",
       "0           Private  Machine-op-inspct   25            11th     Never-married   \n",
       "1           Private    Farming-fishing   38         HS-grad  Married-A-spouse   \n",
       "2         Local-gov    Protective-serv   28      Assoc-acdm  Married-A-spouse   \n",
       "3           Private  Machine-op-inspct   44    Some-college  Married-A-spouse   \n",
       "4           Private     Prof-specialty   18    Some-college     Never-married   \n",
       "...             ...                ...  ...             ...               ...   \n",
       "48837       Private       Tech-support   27      Assoc-acdm  Married-A-spouse   \n",
       "48838       Private  Machine-op-inspct   40         HS-grad  Married-A-spouse   \n",
       "48839       Private       Adm-clerical   58         HS-grad           Widowed   \n",
       "48840       Private       Adm-clerical   22         HS-grad     Never-married   \n",
       "48841  Self-emp-inc    Exec-managerial   52         HS-grad  Married-A-spouse   \n",
       "\n",
       "        race  gender  hours-per-week native-country income  \n",
       "0      Black    Male              40  United-States  <=50K  \n",
       "1      White    Male              50  United-States  <=50K  \n",
       "2      White    Male              40  United-States   >50K  \n",
       "3      Black    Male              40  United-States   >50K  \n",
       "4      White  Female              30  United-States  <=50K  \n",
       "...      ...     ...             ...            ...    ...  \n",
       "48837  White  Female              38  United-States  <=50K  \n",
       "48838  White    Male              40  United-States   >50K  \n",
       "48839  White  Female              40  United-States  <=50K  \n",
       "48840  White    Male              20  United-States  <=50K  \n",
       "48841  White  Female              40  United-States   >50K  \n",
       "\n",
       "[48842 rows x 10 columns]"
      ]
     },
     "execution_count": 64,
     "metadata": {},
     "output_type": "execute_result"
    }
   ],
   "source": [
    "# df_tmp[pd.isna(df_tmp[\"Job\"])][\"Job\"] = \"hello\"\n",
    "df_tmp = df[[\"Job\", \"Jobclass\", \"native-country\"]].copy()  # Create an explicit copy\n",
    "df_tmp.loc[pd.isna(df_tmp[\"Job\"]), \"Job\"] = df_tmp[\"Job\"].mode().iloc[0]\n",
    "df_tmp.loc[pd.isna(df_tmp[\"Jobclass\"]), \"Jobclass\"] = df_tmp[\"Jobclass\"].mode().iloc[0]\n",
    "df_tmp.loc[pd.isna(df_tmp[\"native-country\"]), \"native-country\"] = df_tmp[\"native-country\"].mode().iloc[0]\n",
    "df.loc[:, [\"Job\", \"Jobclass\", \"native-country\"]] = df_tmp\n",
    "\n",
    "df"
   ]
  },
  {
   "cell_type": "code",
   "execution_count": null,
   "id": "300764e3",
   "metadata": {},
   "outputs": [],
   "source": []
  },
  {
   "cell_type": "code",
   "execution_count": 65,
   "id": "c1ca979b",
   "metadata": {},
   "outputs": [],
   "source": [
    "# Second Method\n"
   ]
  },
  {
   "cell_type": "code",
   "execution_count": null,
   "id": "d10d48e4",
   "metadata": {},
   "outputs": [],
   "source": []
  },
  {
   "cell_type": "markdown",
   "id": "99908670",
   "metadata": {},
   "source": [
    "### Checkpoint2"
   ]
  },
  {
   "cell_type": "markdown",
   "id": "4c79fe44",
   "metadata": {},
   "source": [
    "`income` column contains strings `<=50K` and `>50K`. Replace with `0` and `1` respectively."
   ]
  },
  {
   "cell_type": "code",
   "execution_count": 74,
   "id": "6f2ec1ea",
   "metadata": {},
   "outputs": [],
   "source": [
    "# Your code here \n",
    "df.income = df.income.map(lambda x: 0 if \"<=50\" in str(x) else 1)"
   ]
  },
  {
   "cell_type": "code",
   "execution_count": 76,
   "id": "8852f4b6",
   "metadata": {},
   "outputs": [
    {
     "data": {
      "text/html": [
       "<div>\n",
       "<style scoped>\n",
       "    .dataframe tbody tr th:only-of-type {\n",
       "        vertical-align: middle;\n",
       "    }\n",
       "\n",
       "    .dataframe tbody tr th {\n",
       "        vertical-align: top;\n",
       "    }\n",
       "\n",
       "    .dataframe thead th {\n",
       "        text-align: right;\n",
       "    }\n",
       "</style>\n",
       "<table border=\"1\" class=\"dataframe\">\n",
       "  <thead>\n",
       "    <tr style=\"text-align: right;\">\n",
       "      <th></th>\n",
       "      <th>Jobclass</th>\n",
       "      <th>Job</th>\n",
       "      <th>age</th>\n",
       "      <th>Education-level</th>\n",
       "      <th>marital-status</th>\n",
       "      <th>race</th>\n",
       "      <th>gender</th>\n",
       "      <th>hours-per-week</th>\n",
       "      <th>native-country</th>\n",
       "      <th>income</th>\n",
       "    </tr>\n",
       "  </thead>\n",
       "  <tbody>\n",
       "    <tr>\n",
       "      <th>0</th>\n",
       "      <td>Private</td>\n",
       "      <td>Machine-op-inspct</td>\n",
       "      <td>25</td>\n",
       "      <td>11th</td>\n",
       "      <td>Never-married</td>\n",
       "      <td>Black</td>\n",
       "      <td>Male</td>\n",
       "      <td>40</td>\n",
       "      <td>United-States</td>\n",
       "      <td>0</td>\n",
       "    </tr>\n",
       "    <tr>\n",
       "      <th>1</th>\n",
       "      <td>Private</td>\n",
       "      <td>Farming-fishing</td>\n",
       "      <td>38</td>\n",
       "      <td>HS-grad</td>\n",
       "      <td>Married-A-spouse</td>\n",
       "      <td>White</td>\n",
       "      <td>Male</td>\n",
       "      <td>50</td>\n",
       "      <td>United-States</td>\n",
       "      <td>0</td>\n",
       "    </tr>\n",
       "    <tr>\n",
       "      <th>2</th>\n",
       "      <td>Local-gov</td>\n",
       "      <td>Protective-serv</td>\n",
       "      <td>28</td>\n",
       "      <td>Assoc-acdm</td>\n",
       "      <td>Married-A-spouse</td>\n",
       "      <td>White</td>\n",
       "      <td>Male</td>\n",
       "      <td>40</td>\n",
       "      <td>United-States</td>\n",
       "      <td>1</td>\n",
       "    </tr>\n",
       "    <tr>\n",
       "      <th>3</th>\n",
       "      <td>Private</td>\n",
       "      <td>Machine-op-inspct</td>\n",
       "      <td>44</td>\n",
       "      <td>Some-college</td>\n",
       "      <td>Married-A-spouse</td>\n",
       "      <td>Black</td>\n",
       "      <td>Male</td>\n",
       "      <td>40</td>\n",
       "      <td>United-States</td>\n",
       "      <td>1</td>\n",
       "    </tr>\n",
       "    <tr>\n",
       "      <th>4</th>\n",
       "      <td>Private</td>\n",
       "      <td>Prof-specialty</td>\n",
       "      <td>18</td>\n",
       "      <td>Some-college</td>\n",
       "      <td>Never-married</td>\n",
       "      <td>White</td>\n",
       "      <td>Female</td>\n",
       "      <td>30</td>\n",
       "      <td>United-States</td>\n",
       "      <td>0</td>\n",
       "    </tr>\n",
       "    <tr>\n",
       "      <th>...</th>\n",
       "      <td>...</td>\n",
       "      <td>...</td>\n",
       "      <td>...</td>\n",
       "      <td>...</td>\n",
       "      <td>...</td>\n",
       "      <td>...</td>\n",
       "      <td>...</td>\n",
       "      <td>...</td>\n",
       "      <td>...</td>\n",
       "      <td>...</td>\n",
       "    </tr>\n",
       "    <tr>\n",
       "      <th>48837</th>\n",
       "      <td>Private</td>\n",
       "      <td>Tech-support</td>\n",
       "      <td>27</td>\n",
       "      <td>Assoc-acdm</td>\n",
       "      <td>Married-A-spouse</td>\n",
       "      <td>White</td>\n",
       "      <td>Female</td>\n",
       "      <td>38</td>\n",
       "      <td>United-States</td>\n",
       "      <td>0</td>\n",
       "    </tr>\n",
       "    <tr>\n",
       "      <th>48838</th>\n",
       "      <td>Private</td>\n",
       "      <td>Machine-op-inspct</td>\n",
       "      <td>40</td>\n",
       "      <td>HS-grad</td>\n",
       "      <td>Married-A-spouse</td>\n",
       "      <td>White</td>\n",
       "      <td>Male</td>\n",
       "      <td>40</td>\n",
       "      <td>United-States</td>\n",
       "      <td>1</td>\n",
       "    </tr>\n",
       "    <tr>\n",
       "      <th>48839</th>\n",
       "      <td>Private</td>\n",
       "      <td>Adm-clerical</td>\n",
       "      <td>58</td>\n",
       "      <td>HS-grad</td>\n",
       "      <td>Widowed</td>\n",
       "      <td>White</td>\n",
       "      <td>Female</td>\n",
       "      <td>40</td>\n",
       "      <td>United-States</td>\n",
       "      <td>0</td>\n",
       "    </tr>\n",
       "    <tr>\n",
       "      <th>48840</th>\n",
       "      <td>Private</td>\n",
       "      <td>Adm-clerical</td>\n",
       "      <td>22</td>\n",
       "      <td>HS-grad</td>\n",
       "      <td>Never-married</td>\n",
       "      <td>White</td>\n",
       "      <td>Male</td>\n",
       "      <td>20</td>\n",
       "      <td>United-States</td>\n",
       "      <td>0</td>\n",
       "    </tr>\n",
       "    <tr>\n",
       "      <th>48841</th>\n",
       "      <td>Self-emp-inc</td>\n",
       "      <td>Exec-managerial</td>\n",
       "      <td>52</td>\n",
       "      <td>HS-grad</td>\n",
       "      <td>Married-A-spouse</td>\n",
       "      <td>White</td>\n",
       "      <td>Female</td>\n",
       "      <td>40</td>\n",
       "      <td>United-States</td>\n",
       "      <td>1</td>\n",
       "    </tr>\n",
       "  </tbody>\n",
       "</table>\n",
       "<p>48842 rows × 10 columns</p>\n",
       "</div>"
      ],
      "text/plain": [
       "           Jobclass                Job  age Education-level    marital-status  \\\n",
       "0           Private  Machine-op-inspct   25            11th     Never-married   \n",
       "1           Private    Farming-fishing   38         HS-grad  Married-A-spouse   \n",
       "2         Local-gov    Protective-serv   28      Assoc-acdm  Married-A-spouse   \n",
       "3           Private  Machine-op-inspct   44    Some-college  Married-A-spouse   \n",
       "4           Private     Prof-specialty   18    Some-college     Never-married   \n",
       "...             ...                ...  ...             ...               ...   \n",
       "48837       Private       Tech-support   27      Assoc-acdm  Married-A-spouse   \n",
       "48838       Private  Machine-op-inspct   40         HS-grad  Married-A-spouse   \n",
       "48839       Private       Adm-clerical   58         HS-grad           Widowed   \n",
       "48840       Private       Adm-clerical   22         HS-grad     Never-married   \n",
       "48841  Self-emp-inc    Exec-managerial   52         HS-grad  Married-A-spouse   \n",
       "\n",
       "        race  gender  hours-per-week native-country  income  \n",
       "0      Black    Male              40  United-States       0  \n",
       "1      White    Male              50  United-States       0  \n",
       "2      White    Male              40  United-States       1  \n",
       "3      Black    Male              40  United-States       1  \n",
       "4      White  Female              30  United-States       0  \n",
       "...      ...     ...             ...            ...     ...  \n",
       "48837  White  Female              38  United-States       0  \n",
       "48838  White    Male              40  United-States       1  \n",
       "48839  White  Female              40  United-States       0  \n",
       "48840  White    Male              20  United-States       0  \n",
       "48841  White  Female              40  United-States       1  \n",
       "\n",
       "[48842 rows x 10 columns]"
      ]
     },
     "execution_count": 76,
     "metadata": {},
     "output_type": "execute_result"
    }
   ],
   "source": [
    "df"
   ]
  },
  {
   "cell_type": "code",
   "execution_count": null,
   "id": "897eab28",
   "metadata": {},
   "outputs": [],
   "source": []
  },
  {
   "cell_type": "markdown",
   "id": "b77a23a5",
   "metadata": {},
   "source": [
    "List down the data types of every column"
   ]
  },
  {
   "cell_type": "code",
   "execution_count": 77,
   "id": "6fc404c8",
   "metadata": {},
   "outputs": [
    {
     "data": {
      "text/plain": [
       "Jobclass           object\n",
       "Job                object\n",
       "age                 int64\n",
       "Education-level    object\n",
       "marital-status     object\n",
       "race               object\n",
       "gender             object\n",
       "hours-per-week      int64\n",
       "native-country     object\n",
       "income              int64\n",
       "dtype: object"
      ]
     },
     "execution_count": 77,
     "metadata": {},
     "output_type": "execute_result"
    }
   ],
   "source": [
    "#Your code here\n",
    "df.dtypes"
   ]
  },
  {
   "cell_type": "markdown",
   "id": "d4b91224",
   "metadata": {},
   "source": [
    "Convert column `income` data type to `int32`"
   ]
  },
  {
   "cell_type": "code",
   "execution_count": 79,
   "id": "184d1fa3",
   "metadata": {},
   "outputs": [],
   "source": [
    "#Your code here \n",
    "df.income = df.income.astype(\"int32\")"
   ]
  },
  {
   "cell_type": "code",
   "execution_count": 81,
   "id": "0ccc2d32",
   "metadata": {},
   "outputs": [
    {
     "data": {
      "text/plain": [
       "Jobclass           object\n",
       "Job                object\n",
       "age                 int64\n",
       "Education-level    object\n",
       "marital-status     object\n",
       "race               object\n",
       "gender             object\n",
       "hours-per-week      int64\n",
       "native-country     object\n",
       "income              int32\n",
       "dtype: object"
      ]
     },
     "execution_count": 81,
     "metadata": {},
     "output_type": "execute_result"
    }
   ],
   "source": [
    "df.dtypes"
   ]
  },
  {
   "cell_type": "markdown",
   "id": "034ba77e",
   "metadata": {},
   "source": [
    "### Checkpoint3"
   ]
  },
  {
   "cell_type": "markdown",
   "id": "f08666f2",
   "metadata": {},
   "source": [
    "Plot the heat map of the corelation between all the numeric columns in the dataframe as shown below\n",
    "\n",
    "<img src=\"../images/Fig3.PNG\" />"
   ]
  },
  {
   "cell_type": "code",
   "execution_count": null,
   "id": "4e51410e",
   "metadata": {},
   "outputs": [],
   "source": [
    "# Your code here\n"
   ]
  },
  {
   "cell_type": "code",
   "execution_count": null,
   "id": "e591ce8d",
   "metadata": {},
   "outputs": [],
   "source": []
  },
  {
   "cell_type": "markdown",
   "id": "c3ffb198",
   "metadata": {},
   "source": [
    "The heatmap shows that there is a relation between the `income` and `age` column. Plot a box-plot as shows in the figure below\n",
    "\n",
    "<img src=\"../images/Fig4.PNG\" />"
   ]
  },
  {
   "cell_type": "code",
   "execution_count": null,
   "id": "a5ebe531",
   "metadata": {},
   "outputs": [],
   "source": [
    "#Your code here \n"
   ]
  },
  {
   "cell_type": "markdown",
   "id": "17afd1b6",
   "metadata": {},
   "source": [
    "The `Education-level` and `income` are usually related. Plot a bar chart that shows the count of people who have a certain level in education and have income `<=50K` and `>50K` as shows below in figure\n",
    "\n",
    "<img src=\"../images/Fig5.PNG\" />"
   ]
  },
  {
   "cell_type": "code",
   "execution_count": null,
   "id": "e016aa9d",
   "metadata": {},
   "outputs": [],
   "source": [
    "#Your code here \n"
   ]
  },
  {
   "cell_type": "code",
   "execution_count": null,
   "id": "861312bf",
   "metadata": {},
   "outputs": [],
   "source": []
  },
  {
   "cell_type": "code",
   "execution_count": null,
   "id": "5e055b06",
   "metadata": {},
   "outputs": [],
   "source": []
  },
  {
   "cell_type": "markdown",
   "id": "5b3991c5",
   "metadata": {},
   "source": [
    "#### Bonus question \n",
    "Plot a similar plot as above where instead of `count`, it gives the `percentage` as shown in figure below\n",
    "\n",
    "<img src=\"../images/Fig6.PNG\" />"
   ]
  },
  {
   "cell_type": "code",
   "execution_count": null,
   "id": "aca31840",
   "metadata": {},
   "outputs": [],
   "source": []
  },
  {
   "cell_type": "markdown",
   "id": "80cff327",
   "metadata": {},
   "source": [
    "Similar plot for `Job` and `income` as shown in figure below\n",
    "\n",
    "<img src=\"../images/Fig7.PNG\" /> "
   ]
  },
  {
   "cell_type": "code",
   "execution_count": null,
   "id": "eacba324",
   "metadata": {},
   "outputs": [],
   "source": [
    "#Your code here \n"
   ]
  },
  {
   "cell_type": "markdown",
   "id": "769770fe",
   "metadata": {},
   "source": [
    "#### Bonus question \n",
    "Plot a similar plot as above where instead of `count`, it gives the `percentage` as shown in figure below\n",
    "\n",
    "<img src=\"../images/Fig8.PNG\" />"
   ]
  },
  {
   "cell_type": "code",
   "execution_count": null,
   "id": "e13360e8",
   "metadata": {},
   "outputs": [],
   "source": [
    "#Your code here\n"
   ]
  },
  {
   "cell_type": "markdown",
   "id": "e85088cd",
   "metadata": {},
   "source": [
    "There are 3 enteries of `marital-status` where the person is married (Married-A-spouse, Married-B-spouse and Married-C-spouse). Make a new column `Married`, that is `1` where a person is married otherwise '0' as shown in figure below\n",
    "\n",
    "<img src=\"../images/Fig9.PNG\" />"
   ]
  },
  {
   "cell_type": "code",
   "execution_count": null,
   "id": "9ee60468",
   "metadata": {},
   "outputs": [],
   "source": [
    "#Your code here \n"
   ]
  },
  {
   "cell_type": "code",
   "execution_count": null,
   "id": "e17f9472",
   "metadata": {},
   "outputs": [],
   "source": []
  },
  {
   "cell_type": "markdown",
   "id": "1700e800",
   "metadata": {},
   "source": [
    "Plot a bar that counts the persons that have income `<=50K` and `>50K` and married or not as shown in figure below.\n",
    "\n",
    "<img src=\"../images/Fig10.PNG\" />\n",
    "\n",
    "Write a one line, what this plot describes"
   ]
  },
  {
   "cell_type": "code",
   "execution_count": null,
   "id": "3f16a761",
   "metadata": {},
   "outputs": [],
   "source": [
    "#Your code here \n"
   ]
  },
  {
   "cell_type": "code",
   "execution_count": null,
   "id": "75ef51bc",
   "metadata": {},
   "outputs": [],
   "source": []
  }
 ],
 "metadata": {
  "kernelspec": {
   "display_name": "Python 3",
   "language": "python",
   "name": "python3"
  },
  "language_info": {
   "codemirror_mode": {
    "name": "ipython",
    "version": 3
   },
   "file_extension": ".py",
   "mimetype": "text/x-python",
   "name": "python",
   "nbconvert_exporter": "python",
   "pygments_lexer": "ipython3",
   "version": "3.10.6"
  }
 },
 "nbformat": 4,
 "nbformat_minor": 5
}
