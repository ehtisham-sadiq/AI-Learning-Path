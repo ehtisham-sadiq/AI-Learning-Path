{
 "cells": [
  {
   "cell_type": "markdown",
   "id": "bf2532f0",
   "metadata": {},
   "source": [
    "# Basic Data Analysis Project"
   ]
  },
  {
   "cell_type": "markdown",
   "id": "039073d7",
   "metadata": {},
   "source": [
    "### PART 1, Basic Python\n",
    "\n",
    "Read `long-beach.txt` file and convert all the contents similar to `long-beach-output.txt`, where only two records are processed "
   ]
  },
  {
   "cell_type": "code",
   "execution_count": null,
   "id": "7f317872",
   "metadata": {},
   "outputs": [],
   "source": []
  },
  {
   "cell_type": "code",
   "execution_count": null,
   "id": "0fb6e848",
   "metadata": {},
   "outputs": [],
   "source": [
    "# Your code here\n"
   ]
  },
  {
   "cell_type": "code",
   "execution_count": null,
   "id": "01960973",
   "metadata": {},
   "outputs": [],
   "source": []
  },
  {
   "cell_type": "markdown",
   "id": "b25826bd",
   "metadata": {},
   "source": [
    "## Part 2, Exploratory Data Analysis using Pandas\n",
    "\n",
    "I provide you a data file named `data.csv`. You need to perform exploratory data analysis. I have also created some checkpoints in csv files like `checkpoint1.csv`, so that you can load the corresponding `.csv` file to achieve the processing done till that point."
   ]
  },
  {
   "cell_type": "code",
   "execution_count": null,
   "id": "1c2054fe",
   "metadata": {},
   "outputs": [],
   "source": [
    "# import necessary libraries here \n"
   ]
  },
  {
   "cell_type": "code",
   "execution_count": null,
   "id": "2744ba7b",
   "metadata": {},
   "outputs": [],
   "source": []
  },
  {
   "cell_type": "markdown",
   "id": "050aa61d",
   "metadata": {},
   "source": [
    "Read the `data.csv` file and display the contents as shown below\n",
    "\n",
    "<img src=\"images/Fig1.PNG\" />"
   ]
  },
  {
   "cell_type": "code",
   "execution_count": null,
   "id": "79b75545",
   "metadata": {},
   "outputs": [],
   "source": [
    "# Your code here\n"
   ]
  },
  {
   "cell_type": "code",
   "execution_count": null,
   "id": "1c109e7f",
   "metadata": {},
   "outputs": [],
   "source": []
  },
  {
   "cell_type": "markdown",
   "id": "e6cfbda2",
   "metadata": {},
   "source": [
    "How many records are there in `data.csv`?"
   ]
  },
  {
   "cell_type": "code",
   "execution_count": null,
   "id": "ec65d785",
   "metadata": {},
   "outputs": [],
   "source": [
    "# Your code here \n"
   ]
  },
  {
   "cell_type": "markdown",
   "id": "5ec36a6a",
   "metadata": {},
   "source": [
    "Total 48842 rows and 10 columns in the dataset"
   ]
  },
  {
   "cell_type": "code",
   "execution_count": null,
   "id": "a2b2aaf0",
   "metadata": {},
   "outputs": [],
   "source": []
  },
  {
   "cell_type": "markdown",
   "id": "ab66120a",
   "metadata": {},
   "source": [
    "In `data.csv`, there are some missing values, which are denoted by `?`. List down all the columns with number of missing values as shown below\n",
    "\n",
    "<img src=\"images/Fig2.PNG\" />"
   ]
  },
  {
   "cell_type": "code",
   "execution_count": null,
   "id": "dc0a6d70",
   "metadata": {},
   "outputs": [],
   "source": []
  },
  {
   "cell_type": "code",
   "execution_count": null,
   "id": "96a54b9c",
   "metadata": {},
   "outputs": [],
   "source": [
    "# Your code here \n"
   ]
  },
  {
   "cell_type": "code",
   "execution_count": null,
   "id": "dab5a160",
   "metadata": {},
   "outputs": [],
   "source": []
  },
  {
   "cell_type": "markdown",
   "id": "a7c1fe71",
   "metadata": {},
   "source": [
    "Interesting column `Job` and column `Jobclass` contains many missing values. How many records have both these columns missing?"
   ]
  },
  {
   "cell_type": "code",
   "execution_count": null,
   "id": "0f1a3782",
   "metadata": {},
   "outputs": [],
   "source": [
    "# Your code here \n"
   ]
  },
  {
   "cell_type": "code",
   "execution_count": null,
   "id": "d0e809f4",
   "metadata": {},
   "outputs": [],
   "source": []
  },
  {
   "cell_type": "markdown",
   "id": "7e7bbe73",
   "metadata": {},
   "source": [
    "Replace all `?` occurrences with `NaN`"
   ]
  },
  {
   "cell_type": "code",
   "execution_count": null,
   "id": "f85ee1c6",
   "metadata": {},
   "outputs": [],
   "source": [
    "# Your code here \n"
   ]
  },
  {
   "cell_type": "markdown",
   "id": "dbae79b9",
   "metadata": {},
   "source": [
    "### Checkpoint1"
   ]
  },
  {
   "cell_type": "markdown",
   "id": "dfc4b794",
   "metadata": {},
   "source": [
    "List unique enteries in columns `Job`, `Jobclass` and `native-country`"
   ]
  },
  {
   "cell_type": "code",
   "execution_count": null,
   "id": "669acacb",
   "metadata": {},
   "outputs": [],
   "source": [
    "# Your code here \n"
   ]
  },
  {
   "cell_type": "code",
   "execution_count": null,
   "id": "e8afc011",
   "metadata": {},
   "outputs": [],
   "source": []
  },
  {
   "cell_type": "markdown",
   "id": "12822454",
   "metadata": {},
   "source": [
    "Replace `NaN` in columns `Job`, `Jobclass` and `native-country` with the most frequently occurred value.\n",
    "\n",
    "Hint: Statistical function `Mode` can help in this"
   ]
  },
  {
   "cell_type": "code",
   "execution_count": null,
   "id": "bb9c84c3",
   "metadata": {},
   "outputs": [],
   "source": []
  },
  {
   "cell_type": "code",
   "execution_count": null,
   "id": "300764e3",
   "metadata": {},
   "outputs": [],
   "source": [
    "# Your code here\n"
   ]
  },
  {
   "cell_type": "code",
   "execution_count": null,
   "id": "c1ca979b",
   "metadata": {},
   "outputs": [],
   "source": [
    "# Second Method\n"
   ]
  },
  {
   "cell_type": "code",
   "execution_count": null,
   "id": "d10d48e4",
   "metadata": {},
   "outputs": [],
   "source": []
  },
  {
   "cell_type": "markdown",
   "id": "99908670",
   "metadata": {},
   "source": [
    "### Checkpoint2"
   ]
  },
  {
   "cell_type": "markdown",
   "id": "4c79fe44",
   "metadata": {},
   "source": [
    "`income` column contains strings `<=50K` and `>50K`. Replace with `0` and `1` respectively."
   ]
  },
  {
   "cell_type": "code",
   "execution_count": null,
   "id": "6f2ec1ea",
   "metadata": {},
   "outputs": [],
   "source": [
    "# Your code here \n"
   ]
  },
  {
   "cell_type": "code",
   "execution_count": null,
   "id": "8852f4b6",
   "metadata": {},
   "outputs": [],
   "source": []
  },
  {
   "cell_type": "code",
   "execution_count": null,
   "id": "897eab28",
   "metadata": {},
   "outputs": [],
   "source": []
  },
  {
   "cell_type": "markdown",
   "id": "b77a23a5",
   "metadata": {},
   "source": [
    "List down the data types of every column"
   ]
  },
  {
   "cell_type": "code",
   "execution_count": null,
   "id": "6fc404c8",
   "metadata": {},
   "outputs": [],
   "source": [
    "#Your code here\n"
   ]
  },
  {
   "cell_type": "markdown",
   "id": "d4b91224",
   "metadata": {},
   "source": [
    "Convert column `income` data type to `int32`"
   ]
  },
  {
   "cell_type": "code",
   "execution_count": null,
   "id": "184d1fa3",
   "metadata": {},
   "outputs": [],
   "source": [
    "#Your code here \n",
    "\n"
   ]
  },
  {
   "cell_type": "code",
   "execution_count": null,
   "id": "0ccc2d32",
   "metadata": {},
   "outputs": [],
   "source": []
  },
  {
   "cell_type": "markdown",
   "id": "034ba77e",
   "metadata": {},
   "source": [
    "### Checkpoint3"
   ]
  },
  {
   "cell_type": "markdown",
   "id": "f08666f2",
   "metadata": {},
   "source": [
    "Plot the heat map of the corelation between all the numeric columns in the dataframe as shown below\n",
    "\n",
    "<img src=\"images/Fig3.PNG\" />"
   ]
  },
  {
   "cell_type": "code",
   "execution_count": null,
   "id": "4e51410e",
   "metadata": {},
   "outputs": [],
   "source": [
    "# Your code here\n"
   ]
  },
  {
   "cell_type": "code",
   "execution_count": null,
   "id": "e591ce8d",
   "metadata": {},
   "outputs": [],
   "source": []
  },
  {
   "cell_type": "markdown",
   "id": "c3ffb198",
   "metadata": {},
   "source": [
    "The heatmap shows that there is a relation between the `income` and `age` column. Plot a box-plot as shows in the figure below\n",
    "\n",
    "<img src=\"images/Fig4.PNG\" />"
   ]
  },
  {
   "cell_type": "code",
   "execution_count": null,
   "id": "a5ebe531",
   "metadata": {},
   "outputs": [],
   "source": [
    "#Your code here \n"
   ]
  },
  {
   "cell_type": "markdown",
   "id": "17afd1b6",
   "metadata": {},
   "source": [
    "The `Education-level` and `income` are usually related. Plot a bar chart that shows the count of people who have a certain level in education and have income `<=50K` and `>50K` as shows below in figure\n",
    "\n",
    "<img src=\"images/Fig5.PNG\" />"
   ]
  },
  {
   "cell_type": "code",
   "execution_count": null,
   "id": "e016aa9d",
   "metadata": {},
   "outputs": [],
   "source": [
    "#Your code here \n"
   ]
  },
  {
   "cell_type": "code",
   "execution_count": null,
   "id": "861312bf",
   "metadata": {},
   "outputs": [],
   "source": []
  },
  {
   "cell_type": "code",
   "execution_count": null,
   "id": "5e055b06",
   "metadata": {},
   "outputs": [],
   "source": []
  },
  {
   "cell_type": "markdown",
   "id": "5b3991c5",
   "metadata": {},
   "source": [
    "#### Bonus question \n",
    "Plot a similar plot as above where instead of `count`, it gives the `percentage` as shown in figure below\n",
    "\n",
    "<img src=\"images/Fig6.PNG\" />"
   ]
  },
  {
   "cell_type": "code",
   "execution_count": null,
   "id": "aca31840",
   "metadata": {},
   "outputs": [],
   "source": []
  },
  {
   "cell_type": "markdown",
   "id": "80cff327",
   "metadata": {},
   "source": [
    "Similar plot for `Job` and `income` as shown in figure below\n",
    "\n",
    "<img src=\"images/Fig7.PNG\" /> "
   ]
  },
  {
   "cell_type": "code",
   "execution_count": null,
   "id": "eacba324",
   "metadata": {},
   "outputs": [],
   "source": [
    "#Your code here \n"
   ]
  },
  {
   "cell_type": "markdown",
   "id": "769770fe",
   "metadata": {},
   "source": [
    "#### Bonus question \n",
    "Plot a similar plot as above where instead of `count`, it gives the `percentage` as shown in figure below\n",
    "\n",
    "<img src=\"images/Fig8.PNG\" />"
   ]
  },
  {
   "cell_type": "code",
   "execution_count": null,
   "id": "e13360e8",
   "metadata": {},
   "outputs": [],
   "source": [
    "#Your code here\n"
   ]
  },
  {
   "cell_type": "markdown",
   "id": "e85088cd",
   "metadata": {},
   "source": [
    "There are 3 enteries of `marital-status` where the person is married (Married-A-spouse, Married-B-spouse and Married-C-spouse). Make a new column `Married`, that is `1` where a person is married otherwise '0' as shown in figure below\n",
    "\n",
    "<img src=\"images/Fig9.PNG\" />"
   ]
  },
  {
   "cell_type": "code",
   "execution_count": null,
   "id": "9ee60468",
   "metadata": {},
   "outputs": [],
   "source": [
    "#Your code here \n"
   ]
  },
  {
   "cell_type": "code",
   "execution_count": null,
   "id": "e17f9472",
   "metadata": {},
   "outputs": [],
   "source": []
  },
  {
   "cell_type": "markdown",
   "id": "1700e800",
   "metadata": {},
   "source": [
    "Plot a bar that counts the persons that have income `<=50K` and `>50K` and married or not as shown in figure below.\n",
    "\n",
    "<img src=\"images/Fig10.PNG\" />\n",
    "\n",
    "Write a one line, what this plot describes"
   ]
  },
  {
   "cell_type": "code",
   "execution_count": null,
   "id": "3f16a761",
   "metadata": {},
   "outputs": [],
   "source": [
    "#Your code here \n"
   ]
  },
  {
   "cell_type": "code",
   "execution_count": null,
   "id": "75ef51bc",
   "metadata": {},
   "outputs": [],
   "source": []
  }
 ],
 "metadata": {
  "kernelspec": {
   "display_name": "Python 3 (ipykernel)",
   "language": "python",
   "name": "python3"
  },
  "language_info": {
   "codemirror_mode": {
    "name": "ipython",
    "version": 3
   },
   "file_extension": ".py",
   "mimetype": "text/x-python",
   "name": "python",
   "nbconvert_exporter": "python",
   "pygments_lexer": "ipython3",
   "version": "3.8.10"
  }
 },
 "nbformat": 4,
 "nbformat_minor": 5
}
