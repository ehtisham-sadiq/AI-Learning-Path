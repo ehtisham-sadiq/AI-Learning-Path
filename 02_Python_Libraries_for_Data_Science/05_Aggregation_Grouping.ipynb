{
 "cells": [
  {
   "cell_type": "code",
   "execution_count": null,
   "id": "2b81dc35",
   "metadata": {},
   "outputs": [],
   "source": []
  },
  {
   "cell_type": "markdown",
   "id": "1455f7f0",
   "metadata": {},
   "source": [
    "# Learning Agenda of this Notebook:\n",
    "- What is Pandas and how is it used in AI?\n",
    "- Key features of Pandas\n",
    "- Data Types in Pandas\n",
    "- What does Pandas deal with?\n",
    "\n",
    "- Creating Series in Pandas\n",
    "    - From Python List\n",
    "    - From NumPy Arrays\n",
    "    - From Python Dictionary\n",
    "    - From a scalar value\n",
    "    - Creating empty series object\n",
    "- Attributes of a Pandas Series\n",
    "- Arithmetic Operations on Series\n",
    "\n",
    "- Dataframes in Pandas\n",
    "    - Anatomy of a Dataframe\n",
    "    - Creating Dataframe\n",
    "        - An empty dataframe\n",
    "        - Two-Dimensional NumPy Array\n",
    "        - Dictionary of Python Lists\n",
    "        - Dictionary of Panda Series\n",
    "    - Attributes of a Dataframe\n",
    "    - Bonus\n",
    "- Different file formats in Pandas \n",
    "- Indexing, Subsetting and Slicing Dataframes\n",
    "    - Practice Exercise I\n",
    "- Modifying Dataframes\n",
    "- Data Handling with Pandas\n",
    "  - Practice Exercise I\n",
    "  - Practice Exercise II\n",
    "- All Statistical functions in Pandas\n",
    "- Input/Output Operations\n",
    "- Aggregation & Grouping\n",
    "  - Practice Exercise\n",
    "- Merging, Joining and Concatenation\n",
    "  - Practice Exercise\n",
    "- How To Perform Data Visualization with Pandas\n",
    "- Exercise I\n",
    "- Exercise II\n",
    "- Pandas's Assignment"
   ]
  },
  {
   "cell_type": "code",
   "execution_count": null,
   "id": "20eb8693",
   "metadata": {},
   "outputs": [],
   "source": []
  },
  {
   "cell_type": "markdown",
   "id": "5fb9661c",
   "metadata": {},
   "source": [
    "### Our Main Problem :\n",
    "Here is dataset and find minimum temperature of each city in the dataset"
   ]
  },
  {
   "cell_type": "code",
   "execution_count": null,
   "id": "2e659620-eb99-49ee-8ed0-a65f740224da",
   "metadata": {},
   "outputs": [],
   "source": []
  },
  {
   "cell_type": "code",
   "execution_count": 2,
   "id": "b9db9352",
   "metadata": {},
   "outputs": [
    {
     "data": {
      "text/html": [
       "<div>\n",
       "<style scoped>\n",
       "    .dataframe tbody tr th:only-of-type {\n",
       "        vertical-align: middle;\n",
       "    }\n",
       "\n",
       "    .dataframe tbody tr th {\n",
       "        vertical-align: top;\n",
       "    }\n",
       "\n",
       "    .dataframe thead th {\n",
       "        text-align: right;\n",
       "    }\n",
       "</style>\n",
       "<table border=\"1\" class=\"dataframe\">\n",
       "  <thead>\n",
       "    <tr style=\"text-align: right;\">\n",
       "      <th></th>\n",
       "      <th>date</th>\n",
       "      <th>city</th>\n",
       "      <th>temperature</th>\n",
       "      <th>humidity</th>\n",
       "    </tr>\n",
       "  </thead>\n",
       "  <tbody>\n",
       "    <tr>\n",
       "      <th>0</th>\n",
       "      <td>01/01/2022</td>\n",
       "      <td>lahore</td>\n",
       "      <td>8</td>\n",
       "      <td>60</td>\n",
       "    </tr>\n",
       "    <tr>\n",
       "      <th>1</th>\n",
       "      <td>02/01/2022</td>\n",
       "      <td>lahore</td>\n",
       "      <td>10</td>\n",
       "      <td>58</td>\n",
       "    </tr>\n",
       "    <tr>\n",
       "      <th>2</th>\n",
       "      <td>03/01/2022</td>\n",
       "      <td>lahore</td>\n",
       "      <td>5</td>\n",
       "      <td>51</td>\n",
       "    </tr>\n",
       "    <tr>\n",
       "      <th>3</th>\n",
       "      <td>04/01/2022</td>\n",
       "      <td>lahore</td>\n",
       "      <td>6</td>\n",
       "      <td>49</td>\n",
       "    </tr>\n",
       "    <tr>\n",
       "      <th>4</th>\n",
       "      <td>05/01/2022</td>\n",
       "      <td>lahore</td>\n",
       "      <td>12</td>\n",
       "      <td>54</td>\n",
       "    </tr>\n",
       "    <tr>\n",
       "      <th>5</th>\n",
       "      <td>01/01/2022</td>\n",
       "      <td>karachi</td>\n",
       "      <td>18</td>\n",
       "      <td>74</td>\n",
       "    </tr>\n",
       "    <tr>\n",
       "      <th>6</th>\n",
       "      <td>02/01/2022</td>\n",
       "      <td>karachi</td>\n",
       "      <td>10</td>\n",
       "      <td>71</td>\n",
       "    </tr>\n",
       "    <tr>\n",
       "      <th>7</th>\n",
       "      <td>03/01/2022</td>\n",
       "      <td>karachi</td>\n",
       "      <td>12</td>\n",
       "      <td>78</td>\n",
       "    </tr>\n",
       "    <tr>\n",
       "      <th>8</th>\n",
       "      <td>04/01/2022</td>\n",
       "      <td>karachi</td>\n",
       "      <td>15</td>\n",
       "      <td>76</td>\n",
       "    </tr>\n",
       "    <tr>\n",
       "      <th>9</th>\n",
       "      <td>05/01/2022</td>\n",
       "      <td>karachi</td>\n",
       "      <td>16</td>\n",
       "      <td>70</td>\n",
       "    </tr>\n",
       "    <tr>\n",
       "      <th>10</th>\n",
       "      <td>01/01/2022</td>\n",
       "      <td>murree</td>\n",
       "      <td>-5</td>\n",
       "      <td>61</td>\n",
       "    </tr>\n",
       "    <tr>\n",
       "      <th>11</th>\n",
       "      <td>02/01/2022</td>\n",
       "      <td>murree</td>\n",
       "      <td>-3</td>\n",
       "      <td>68</td>\n",
       "    </tr>\n",
       "    <tr>\n",
       "      <th>12</th>\n",
       "      <td>03/01/2022</td>\n",
       "      <td>murree</td>\n",
       "      <td>-4</td>\n",
       "      <td>69</td>\n",
       "    </tr>\n",
       "    <tr>\n",
       "      <th>13</th>\n",
       "      <td>04/01/2022</td>\n",
       "      <td>murree</td>\n",
       "      <td>-1</td>\n",
       "      <td>63</td>\n",
       "    </tr>\n",
       "    <tr>\n",
       "      <th>14</th>\n",
       "      <td>05/01/2022</td>\n",
       "      <td>murree</td>\n",
       "      <td>-7</td>\n",
       "      <td>72</td>\n",
       "    </tr>\n",
       "  </tbody>\n",
       "</table>\n",
       "</div>"
      ],
      "text/plain": [
       "          date     city  temperature  humidity\n",
       "0   01/01/2022   lahore            8        60\n",
       "1   02/01/2022   lahore           10        58\n",
       "2   03/01/2022   lahore            5        51\n",
       "3   04/01/2022   lahore            6        49\n",
       "4   05/01/2022   lahore           12        54\n",
       "5   01/01/2022  karachi           18        74\n",
       "6   02/01/2022  karachi           10        71\n",
       "7   03/01/2022  karachi           12        78\n",
       "8   04/01/2022  karachi           15        76\n",
       "9   05/01/2022  karachi           16        70\n",
       "10  01/01/2022   murree           -5        61\n",
       "11  02/01/2022   murree           -3        68\n",
       "12  03/01/2022   murree           -4        69\n",
       "13  04/01/2022   murree           -1        63\n",
       "14  05/01/2022   murree           -7        72"
      ]
     },
     "execution_count": 2,
     "metadata": {},
     "output_type": "execute_result"
    }
   ],
   "source": [
    "import pandas as pd\n",
    "df = pd.read_csv('datasets/groupbydata2.csv')\n",
    "df"
   ]
  },
  {
   "cell_type": "code",
   "execution_count": 3,
   "id": "05ae4bd3-4d3c-43a1-8660-da9ad0b6874a",
   "metadata": {},
   "outputs": [
    {
     "data": {
      "text/plain": [
       "date           01/01/2022\n",
       "city              karachi\n",
       "temperature            -7\n",
       "humidity               49\n",
       "dtype: object"
      ]
     },
     "execution_count": 3,
     "metadata": {},
     "output_type": "execute_result"
    }
   ],
   "source": [
    "df.min()"
   ]
  },
  {
   "cell_type": "code",
   "execution_count": 4,
   "id": "1bb8c73f",
   "metadata": {},
   "outputs": [
    {
     "data": {
      "text/plain": [
       "array(['lahore', 'karachi', 'murree'], dtype=object)"
      ]
     },
     "execution_count": 4,
     "metadata": {},
     "output_type": "execute_result"
    }
   ],
   "source": [
    "df.city.unique() # or df['city'].unique()"
   ]
  },
  {
   "cell_type": "code",
   "execution_count": 5,
   "id": "28d8fda4-9a98-45d3-ada2-8a6fc314a0ac",
   "metadata": {},
   "outputs": [
    {
     "data": {
      "text/plain": [
       "np.int64(5)"
      ]
     },
     "execution_count": 5,
     "metadata": {},
     "output_type": "execute_result"
    }
   ],
   "source": [
    "df[df['city'] == 'lahore']['temperature'].min() # min() -> agg function"
   ]
  },
  {
   "cell_type": "code",
   "execution_count": null,
   "id": "a9f7b712-e832-4050-aff4-c2b0226c9981",
   "metadata": {},
   "outputs": [],
   "source": []
  },
  {
   "cell_type": "code",
   "execution_count": 6,
   "id": "3372ffd5",
   "metadata": {},
   "outputs": [
    {
     "name": "stdout",
     "output_type": "stream",
     "text": [
      "5\n",
      "10\n",
      "-7\n"
     ]
    }
   ],
   "source": [
    "# find minimum temperature for each city\n",
    "print(df[df['city'] == 'lahore']['temperature'].min())\n",
    "print(df[df['city'] == 'karachi']['temperature'].min())\n",
    "print(df[df['city'] == 'murree']['temperature'].min())"
   ]
  },
  {
   "cell_type": "code",
   "execution_count": null,
   "id": "ac86a868-fbe8-4906-96eb-74c4ae039573",
   "metadata": {},
   "outputs": [],
   "source": []
  },
  {
   "cell_type": "code",
   "execution_count": null,
   "id": "f2bfdf2e-8bfc-461c-8c49-e94eb162bade",
   "metadata": {},
   "outputs": [],
   "source": []
  },
  {
   "cell_type": "code",
   "execution_count": null,
   "id": "bd8224f5-55ca-4edb-976c-96267eecf98c",
   "metadata": {},
   "outputs": [],
   "source": []
  },
  {
   "cell_type": "code",
   "execution_count": 7,
   "id": "f02e78a6",
   "metadata": {},
   "outputs": [
    {
     "data": {
      "text/plain": [
       "city\n",
       "karachi    10\n",
       "lahore      5\n",
       "murree     -7\n",
       "Name: temperature, dtype: int64"
      ]
     },
     "execution_count": 7,
     "metadata": {},
     "output_type": "execute_result"
    }
   ],
   "source": [
    "# solution\n",
    "df.groupby('city')['temperature'].min()"
   ]
  },
  {
   "cell_type": "code",
   "execution_count": null,
   "id": "f2a42950",
   "metadata": {},
   "outputs": [],
   "source": []
  },
  {
   "cell_type": "markdown",
   "id": "12db95e1",
   "metadata": {},
   "source": [
    "## Learning agenda of this notebook\n",
    "1. Overview of Aggregation Functions and the `agg()` method\n",
    "    - Applying a Built-in Aggregation Function on Entire Dataframe Object\n",
    "    - Applying a Built-in Aggregation Function on a Series Object\n",
    "    - Applying a User-Defined/Lambda Function on a Series Object<br><br>\n",
    "2. Computing the Minimum Temperature of each City using **hard way**<br><br>\n",
    "3. Computing the Minimum Temperature of each City using **`groupby`**<br><br>\n",
    "4. Practice GroupBy on Stack Overflow Survey Dataset"
   ]
  },
  {
   "cell_type": "code",
   "execution_count": null,
   "id": "d0a2d89b",
   "metadata": {},
   "outputs": [],
   "source": []
  },
  {
   "cell_type": "markdown",
   "id": "1664cd8f",
   "metadata": {},
   "source": [
    "## 1. Overview of Aggregation Functions and the `agg()` Method\n",
    "- An aggregation function is one which takes multiple individual values and returns a result."
   ]
  },
  {
   "cell_type": "code",
   "execution_count": 8,
   "id": "298d74ce",
   "metadata": {},
   "outputs": [
    {
     "data": {
      "text/html": [
       "<div>\n",
       "<style scoped>\n",
       "    .dataframe tbody tr th:only-of-type {\n",
       "        vertical-align: middle;\n",
       "    }\n",
       "\n",
       "    .dataframe tbody tr th {\n",
       "        vertical-align: top;\n",
       "    }\n",
       "\n",
       "    .dataframe thead th {\n",
       "        text-align: right;\n",
       "    }\n",
       "</style>\n",
       "<table border=\"1\" class=\"dataframe\">\n",
       "  <thead>\n",
       "    <tr style=\"text-align: right;\">\n",
       "      <th></th>\n",
       "      <th>date</th>\n",
       "      <th>city</th>\n",
       "      <th>temperature</th>\n",
       "      <th>humidity</th>\n",
       "    </tr>\n",
       "  </thead>\n",
       "  <tbody>\n",
       "    <tr>\n",
       "      <th>0</th>\n",
       "      <td>01/01/2022</td>\n",
       "      <td>lahore</td>\n",
       "      <td>8</td>\n",
       "      <td>60</td>\n",
       "    </tr>\n",
       "    <tr>\n",
       "      <th>1</th>\n",
       "      <td>02/01/2022</td>\n",
       "      <td>lahore</td>\n",
       "      <td>10</td>\n",
       "      <td>58</td>\n",
       "    </tr>\n",
       "    <tr>\n",
       "      <th>2</th>\n",
       "      <td>03/01/2022</td>\n",
       "      <td>lahore</td>\n",
       "      <td>5</td>\n",
       "      <td>51</td>\n",
       "    </tr>\n",
       "    <tr>\n",
       "      <th>3</th>\n",
       "      <td>04/01/2022</td>\n",
       "      <td>lahore</td>\n",
       "      <td>6</td>\n",
       "      <td>49</td>\n",
       "    </tr>\n",
       "    <tr>\n",
       "      <th>4</th>\n",
       "      <td>05/01/2022</td>\n",
       "      <td>lahore</td>\n",
       "      <td>12</td>\n",
       "      <td>54</td>\n",
       "    </tr>\n",
       "    <tr>\n",
       "      <th>5</th>\n",
       "      <td>01/01/2022</td>\n",
       "      <td>karachi</td>\n",
       "      <td>18</td>\n",
       "      <td>74</td>\n",
       "    </tr>\n",
       "    <tr>\n",
       "      <th>6</th>\n",
       "      <td>02/01/2022</td>\n",
       "      <td>karachi</td>\n",
       "      <td>10</td>\n",
       "      <td>71</td>\n",
       "    </tr>\n",
       "    <tr>\n",
       "      <th>7</th>\n",
       "      <td>03/01/2022</td>\n",
       "      <td>karachi</td>\n",
       "      <td>12</td>\n",
       "      <td>78</td>\n",
       "    </tr>\n",
       "    <tr>\n",
       "      <th>8</th>\n",
       "      <td>04/01/2022</td>\n",
       "      <td>karachi</td>\n",
       "      <td>15</td>\n",
       "      <td>76</td>\n",
       "    </tr>\n",
       "    <tr>\n",
       "      <th>9</th>\n",
       "      <td>05/01/2022</td>\n",
       "      <td>karachi</td>\n",
       "      <td>16</td>\n",
       "      <td>70</td>\n",
       "    </tr>\n",
       "    <tr>\n",
       "      <th>10</th>\n",
       "      <td>01/01/2022</td>\n",
       "      <td>murree</td>\n",
       "      <td>-5</td>\n",
       "      <td>61</td>\n",
       "    </tr>\n",
       "    <tr>\n",
       "      <th>11</th>\n",
       "      <td>02/01/2022</td>\n",
       "      <td>murree</td>\n",
       "      <td>-3</td>\n",
       "      <td>68</td>\n",
       "    </tr>\n",
       "    <tr>\n",
       "      <th>12</th>\n",
       "      <td>03/01/2022</td>\n",
       "      <td>murree</td>\n",
       "      <td>-4</td>\n",
       "      <td>69</td>\n",
       "    </tr>\n",
       "    <tr>\n",
       "      <th>13</th>\n",
       "      <td>04/01/2022</td>\n",
       "      <td>murree</td>\n",
       "      <td>-1</td>\n",
       "      <td>63</td>\n",
       "    </tr>\n",
       "    <tr>\n",
       "      <th>14</th>\n",
       "      <td>05/01/2022</td>\n",
       "      <td>murree</td>\n",
       "      <td>-7</td>\n",
       "      <td>72</td>\n",
       "    </tr>\n",
       "  </tbody>\n",
       "</table>\n",
       "</div>"
      ],
      "text/plain": [
       "          date     city  temperature  humidity\n",
       "0   01/01/2022   lahore            8        60\n",
       "1   02/01/2022   lahore           10        58\n",
       "2   03/01/2022   lahore            5        51\n",
       "3   04/01/2022   lahore            6        49\n",
       "4   05/01/2022   lahore           12        54\n",
       "5   01/01/2022  karachi           18        74\n",
       "6   02/01/2022  karachi           10        71\n",
       "7   03/01/2022  karachi           12        78\n",
       "8   04/01/2022  karachi           15        76\n",
       "9   05/01/2022  karachi           16        70\n",
       "10  01/01/2022   murree           -5        61\n",
       "11  02/01/2022   murree           -3        68\n",
       "12  03/01/2022   murree           -4        69\n",
       "13  04/01/2022   murree           -1        63\n",
       "14  05/01/2022   murree           -7        72"
      ]
     },
     "execution_count": 8,
     "metadata": {},
     "output_type": "execute_result"
    }
   ],
   "source": [
    "import pandas as pd\n",
    "df = pd.read_csv('datasets/groupbydata2.csv')\n",
    "df"
   ]
  },
  {
   "cell_type": "code",
   "execution_count": 9,
   "id": "823f305a-41b2-438e-a018-ee98d7884316",
   "metadata": {},
   "outputs": [
    {
     "data": {
      "text/plain": [
       "date           object\n",
       "city           object\n",
       "temperature     int64\n",
       "humidity        int64\n",
       "dtype: object"
      ]
     },
     "execution_count": 9,
     "metadata": {},
     "output_type": "execute_result"
    }
   ],
   "source": [
    "df.dtypes"
   ]
  },
  {
   "cell_type": "markdown",
   "id": "71f119a8",
   "metadata": {},
   "source": [
    "### a. Applying a Built-in Aggregation Function on Entire Dataframe Object"
   ]
  },
  {
   "cell_type": "code",
   "execution_count": 10,
   "id": "3e9650a9",
   "metadata": {},
   "outputs": [
    {
     "data": {
      "text/plain": [
       "temperature    -7\n",
       "humidity       49\n",
       "dtype: int64"
      ]
     },
     "execution_count": 10,
     "metadata": {},
     "output_type": "execute_result"
    }
   ],
   "source": [
    "df.min(numeric_only=True)"
   ]
  },
  {
   "cell_type": "code",
   "execution_count": 11,
   "id": "7e5e6958",
   "metadata": {},
   "outputs": [
    {
     "data": {
      "text/plain": [
       "date           15\n",
       "city           15\n",
       "temperature    15\n",
       "humidity       15\n",
       "dtype: int64"
      ]
     },
     "execution_count": 11,
     "metadata": {},
     "output_type": "execute_result"
    }
   ],
   "source": [
    "df.count()"
   ]
  },
  {
   "cell_type": "code",
   "execution_count": 12,
   "id": "31839411",
   "metadata": {},
   "outputs": [
    {
     "ename": "TypeError",
     "evalue": "Cannot convert [['01/01/2022' '02/01/2022' '03/01/2022' '04/01/2022' '05/01/2022'\n  '01/01/2022' '02/01/2022' '03/01/2022' '04/01/2022' '05/01/2022'\n  '01/01/2022' '02/01/2022' '03/01/2022' '04/01/2022' '05/01/2022']\n ['lahore' 'lahore' 'lahore' 'lahore' 'lahore' 'karachi' 'karachi'\n  'karachi' 'karachi' 'karachi' 'murree' 'murree' 'murree' 'murree'\n  'murree']] to numeric",
     "output_type": "error",
     "traceback": [
      "\u001b[0;31m---------------------------------------------------------------------------\u001b[0m",
      "\u001b[0;31mTypeError\u001b[0m                                 Traceback (most recent call last)",
      "Cell \u001b[0;32mIn[12], line 2\u001b[0m\n\u001b[1;32m      1\u001b[0m \u001b[38;5;66;03m# Should be applied to numeric columns only, may raise a warning\u001b[39;00m\n\u001b[0;32m----> 2\u001b[0m \u001b[43mdf\u001b[49m\u001b[38;5;241;43m.\u001b[39;49m\u001b[43mmedian\u001b[49m\u001b[43m(\u001b[49m\u001b[43m)\u001b[49m\n",
      "File \u001b[0;32m~/Data/Leo Behe/myvenv/lib/python3.11/site-packages/pandas/core/frame.py:11706\u001b[0m, in \u001b[0;36mDataFrame.median\u001b[0;34m(self, axis, skipna, numeric_only, **kwargs)\u001b[0m\n\u001b[1;32m  11698\u001b[0m \u001b[38;5;129m@doc\u001b[39m(make_doc(\u001b[38;5;124m\"\u001b[39m\u001b[38;5;124mmedian\u001b[39m\u001b[38;5;124m\"\u001b[39m, ndim\u001b[38;5;241m=\u001b[39m\u001b[38;5;241m2\u001b[39m))\n\u001b[1;32m  11699\u001b[0m \u001b[38;5;28;01mdef\u001b[39;00m \u001b[38;5;21mmedian\u001b[39m(\n\u001b[1;32m  11700\u001b[0m     \u001b[38;5;28mself\u001b[39m,\n\u001b[0;32m   (...)\u001b[0m\n\u001b[1;32m  11704\u001b[0m     \u001b[38;5;241m*\u001b[39m\u001b[38;5;241m*\u001b[39mkwargs,\n\u001b[1;32m  11705\u001b[0m ):\n\u001b[0;32m> 11706\u001b[0m     result \u001b[38;5;241m=\u001b[39m \u001b[38;5;28;43msuper\u001b[39;49m\u001b[43m(\u001b[49m\u001b[43m)\u001b[49m\u001b[38;5;241;43m.\u001b[39;49m\u001b[43mmedian\u001b[49m\u001b[43m(\u001b[49m\u001b[43maxis\u001b[49m\u001b[43m,\u001b[49m\u001b[43m \u001b[49m\u001b[43mskipna\u001b[49m\u001b[43m,\u001b[49m\u001b[43m \u001b[49m\u001b[43mnumeric_only\u001b[49m\u001b[43m,\u001b[49m\u001b[43m \u001b[49m\u001b[38;5;241;43m*\u001b[39;49m\u001b[38;5;241;43m*\u001b[39;49m\u001b[43mkwargs\u001b[49m\u001b[43m)\u001b[49m\n\u001b[1;32m  11707\u001b[0m     \u001b[38;5;28;01mif\u001b[39;00m \u001b[38;5;28misinstance\u001b[39m(result, Series):\n\u001b[1;32m  11708\u001b[0m         result \u001b[38;5;241m=\u001b[39m result\u001b[38;5;241m.\u001b[39m__finalize__(\u001b[38;5;28mself\u001b[39m, method\u001b[38;5;241m=\u001b[39m\u001b[38;5;124m\"\u001b[39m\u001b[38;5;124mmedian\u001b[39m\u001b[38;5;124m\"\u001b[39m)\n",
      "File \u001b[0;32m~/Data/Leo Behe/myvenv/lib/python3.11/site-packages/pandas/core/generic.py:12431\u001b[0m, in \u001b[0;36mNDFrame.median\u001b[0;34m(self, axis, skipna, numeric_only, **kwargs)\u001b[0m\n\u001b[1;32m  12424\u001b[0m \u001b[38;5;28;01mdef\u001b[39;00m \u001b[38;5;21mmedian\u001b[39m(\n\u001b[1;32m  12425\u001b[0m     \u001b[38;5;28mself\u001b[39m,\n\u001b[1;32m  12426\u001b[0m     axis: Axis \u001b[38;5;241m|\u001b[39m \u001b[38;5;28;01mNone\u001b[39;00m \u001b[38;5;241m=\u001b[39m \u001b[38;5;241m0\u001b[39m,\n\u001b[0;32m   (...)\u001b[0m\n\u001b[1;32m  12429\u001b[0m     \u001b[38;5;241m*\u001b[39m\u001b[38;5;241m*\u001b[39mkwargs,\n\u001b[1;32m  12430\u001b[0m ) \u001b[38;5;241m-\u001b[39m\u001b[38;5;241m>\u001b[39m Series \u001b[38;5;241m|\u001b[39m \u001b[38;5;28mfloat\u001b[39m:\n\u001b[0;32m> 12431\u001b[0m     \u001b[38;5;28;01mreturn\u001b[39;00m \u001b[38;5;28;43mself\u001b[39;49m\u001b[38;5;241;43m.\u001b[39;49m\u001b[43m_stat_function\u001b[49m\u001b[43m(\u001b[49m\n\u001b[1;32m  12432\u001b[0m \u001b[43m        \u001b[49m\u001b[38;5;124;43m\"\u001b[39;49m\u001b[38;5;124;43mmedian\u001b[39;49m\u001b[38;5;124;43m\"\u001b[39;49m\u001b[43m,\u001b[49m\u001b[43m \u001b[49m\u001b[43mnanops\u001b[49m\u001b[38;5;241;43m.\u001b[39;49m\u001b[43mnanmedian\u001b[49m\u001b[43m,\u001b[49m\u001b[43m \u001b[49m\u001b[43maxis\u001b[49m\u001b[43m,\u001b[49m\u001b[43m \u001b[49m\u001b[43mskipna\u001b[49m\u001b[43m,\u001b[49m\u001b[43m \u001b[49m\u001b[43mnumeric_only\u001b[49m\u001b[43m,\u001b[49m\u001b[43m \u001b[49m\u001b[38;5;241;43m*\u001b[39;49m\u001b[38;5;241;43m*\u001b[39;49m\u001b[43mkwargs\u001b[49m\n\u001b[1;32m  12433\u001b[0m \u001b[43m    \u001b[49m\u001b[43m)\u001b[49m\n",
      "File \u001b[0;32m~/Data/Leo Behe/myvenv/lib/python3.11/site-packages/pandas/core/generic.py:12377\u001b[0m, in \u001b[0;36mNDFrame._stat_function\u001b[0;34m(self, name, func, axis, skipna, numeric_only, **kwargs)\u001b[0m\n\u001b[1;32m  12373\u001b[0m nv\u001b[38;5;241m.\u001b[39mvalidate_func(name, (), kwargs)\n\u001b[1;32m  12375\u001b[0m validate_bool_kwarg(skipna, \u001b[38;5;124m\"\u001b[39m\u001b[38;5;124mskipna\u001b[39m\u001b[38;5;124m\"\u001b[39m, none_allowed\u001b[38;5;241m=\u001b[39m\u001b[38;5;28;01mFalse\u001b[39;00m)\n\u001b[0;32m> 12377\u001b[0m \u001b[38;5;28;01mreturn\u001b[39;00m \u001b[38;5;28;43mself\u001b[39;49m\u001b[38;5;241;43m.\u001b[39;49m\u001b[43m_reduce\u001b[49m\u001b[43m(\u001b[49m\n\u001b[1;32m  12378\u001b[0m \u001b[43m    \u001b[49m\u001b[43mfunc\u001b[49m\u001b[43m,\u001b[49m\u001b[43m \u001b[49m\u001b[43mname\u001b[49m\u001b[38;5;241;43m=\u001b[39;49m\u001b[43mname\u001b[49m\u001b[43m,\u001b[49m\u001b[43m \u001b[49m\u001b[43maxis\u001b[49m\u001b[38;5;241;43m=\u001b[39;49m\u001b[43maxis\u001b[49m\u001b[43m,\u001b[49m\u001b[43m \u001b[49m\u001b[43mskipna\u001b[49m\u001b[38;5;241;43m=\u001b[39;49m\u001b[43mskipna\u001b[49m\u001b[43m,\u001b[49m\u001b[43m \u001b[49m\u001b[43mnumeric_only\u001b[49m\u001b[38;5;241;43m=\u001b[39;49m\u001b[43mnumeric_only\u001b[49m\n\u001b[1;32m  12379\u001b[0m \u001b[43m\u001b[49m\u001b[43m)\u001b[49m\n",
      "File \u001b[0;32m~/Data/Leo Behe/myvenv/lib/python3.11/site-packages/pandas/core/frame.py:11562\u001b[0m, in \u001b[0;36mDataFrame._reduce\u001b[0;34m(self, op, name, axis, skipna, numeric_only, filter_type, **kwds)\u001b[0m\n\u001b[1;32m  11558\u001b[0m     df \u001b[38;5;241m=\u001b[39m df\u001b[38;5;241m.\u001b[39mT\n\u001b[1;32m  11560\u001b[0m \u001b[38;5;66;03m# After possibly _get_data and transposing, we are now in the\u001b[39;00m\n\u001b[1;32m  11561\u001b[0m \u001b[38;5;66;03m#  simple case where we can use BlockManager.reduce\u001b[39;00m\n\u001b[0;32m> 11562\u001b[0m res \u001b[38;5;241m=\u001b[39m \u001b[43mdf\u001b[49m\u001b[38;5;241;43m.\u001b[39;49m\u001b[43m_mgr\u001b[49m\u001b[38;5;241;43m.\u001b[39;49m\u001b[43mreduce\u001b[49m\u001b[43m(\u001b[49m\u001b[43mblk_func\u001b[49m\u001b[43m)\u001b[49m\n\u001b[1;32m  11563\u001b[0m out \u001b[38;5;241m=\u001b[39m df\u001b[38;5;241m.\u001b[39m_constructor_from_mgr(res, axes\u001b[38;5;241m=\u001b[39mres\u001b[38;5;241m.\u001b[39maxes)\u001b[38;5;241m.\u001b[39miloc[\u001b[38;5;241m0\u001b[39m]\n\u001b[1;32m  11564\u001b[0m \u001b[38;5;28;01mif\u001b[39;00m out_dtype \u001b[38;5;129;01mis\u001b[39;00m \u001b[38;5;129;01mnot\u001b[39;00m \u001b[38;5;28;01mNone\u001b[39;00m \u001b[38;5;129;01mand\u001b[39;00m out\u001b[38;5;241m.\u001b[39mdtype \u001b[38;5;241m!=\u001b[39m \u001b[38;5;124m\"\u001b[39m\u001b[38;5;124mboolean\u001b[39m\u001b[38;5;124m\"\u001b[39m:\n",
      "File \u001b[0;32m~/Data/Leo Behe/myvenv/lib/python3.11/site-packages/pandas/core/internals/managers.py:1500\u001b[0m, in \u001b[0;36mBlockManager.reduce\u001b[0;34m(self, func)\u001b[0m\n\u001b[1;32m   1498\u001b[0m res_blocks: \u001b[38;5;28mlist\u001b[39m[Block] \u001b[38;5;241m=\u001b[39m []\n\u001b[1;32m   1499\u001b[0m \u001b[38;5;28;01mfor\u001b[39;00m blk \u001b[38;5;129;01min\u001b[39;00m \u001b[38;5;28mself\u001b[39m\u001b[38;5;241m.\u001b[39mblocks:\n\u001b[0;32m-> 1500\u001b[0m     nbs \u001b[38;5;241m=\u001b[39m \u001b[43mblk\u001b[49m\u001b[38;5;241;43m.\u001b[39;49m\u001b[43mreduce\u001b[49m\u001b[43m(\u001b[49m\u001b[43mfunc\u001b[49m\u001b[43m)\u001b[49m\n\u001b[1;32m   1501\u001b[0m     res_blocks\u001b[38;5;241m.\u001b[39mextend(nbs)\n\u001b[1;32m   1503\u001b[0m index \u001b[38;5;241m=\u001b[39m Index([\u001b[38;5;28;01mNone\u001b[39;00m])  \u001b[38;5;66;03m# placeholder\u001b[39;00m\n",
      "File \u001b[0;32m~/Data/Leo Behe/myvenv/lib/python3.11/site-packages/pandas/core/internals/blocks.py:404\u001b[0m, in \u001b[0;36mBlock.reduce\u001b[0;34m(self, func)\u001b[0m\n\u001b[1;32m    398\u001b[0m \u001b[38;5;129m@final\u001b[39m\n\u001b[1;32m    399\u001b[0m \u001b[38;5;28;01mdef\u001b[39;00m \u001b[38;5;21mreduce\u001b[39m(\u001b[38;5;28mself\u001b[39m, func) \u001b[38;5;241m-\u001b[39m\u001b[38;5;241m>\u001b[39m \u001b[38;5;28mlist\u001b[39m[Block]:\n\u001b[1;32m    400\u001b[0m     \u001b[38;5;66;03m# We will apply the function and reshape the result into a single-row\u001b[39;00m\n\u001b[1;32m    401\u001b[0m     \u001b[38;5;66;03m#  Block with the same mgr_locs; squeezing will be done at a higher level\u001b[39;00m\n\u001b[1;32m    402\u001b[0m     \u001b[38;5;28;01massert\u001b[39;00m \u001b[38;5;28mself\u001b[39m\u001b[38;5;241m.\u001b[39mndim \u001b[38;5;241m==\u001b[39m \u001b[38;5;241m2\u001b[39m\n\u001b[0;32m--> 404\u001b[0m     result \u001b[38;5;241m=\u001b[39m \u001b[43mfunc\u001b[49m\u001b[43m(\u001b[49m\u001b[38;5;28;43mself\u001b[39;49m\u001b[38;5;241;43m.\u001b[39;49m\u001b[43mvalues\u001b[49m\u001b[43m)\u001b[49m\n\u001b[1;32m    406\u001b[0m     \u001b[38;5;28;01mif\u001b[39;00m \u001b[38;5;28mself\u001b[39m\u001b[38;5;241m.\u001b[39mvalues\u001b[38;5;241m.\u001b[39mndim \u001b[38;5;241m==\u001b[39m \u001b[38;5;241m1\u001b[39m:\n\u001b[1;32m    407\u001b[0m         res_values \u001b[38;5;241m=\u001b[39m result\n",
      "File \u001b[0;32m~/Data/Leo Behe/myvenv/lib/python3.11/site-packages/pandas/core/frame.py:11481\u001b[0m, in \u001b[0;36mDataFrame._reduce.<locals>.blk_func\u001b[0;34m(values, axis)\u001b[0m\n\u001b[1;32m  11479\u001b[0m         \u001b[38;5;28;01mreturn\u001b[39;00m np\u001b[38;5;241m.\u001b[39marray([result])\n\u001b[1;32m  11480\u001b[0m \u001b[38;5;28;01melse\u001b[39;00m:\n\u001b[0;32m> 11481\u001b[0m     \u001b[38;5;28;01mreturn\u001b[39;00m \u001b[43mop\u001b[49m\u001b[43m(\u001b[49m\u001b[43mvalues\u001b[49m\u001b[43m,\u001b[49m\u001b[43m \u001b[49m\u001b[43maxis\u001b[49m\u001b[38;5;241;43m=\u001b[39;49m\u001b[43maxis\u001b[49m\u001b[43m,\u001b[49m\u001b[43m \u001b[49m\u001b[43mskipna\u001b[49m\u001b[38;5;241;43m=\u001b[39;49m\u001b[43mskipna\u001b[49m\u001b[43m,\u001b[49m\u001b[43m \u001b[49m\u001b[38;5;241;43m*\u001b[39;49m\u001b[38;5;241;43m*\u001b[39;49m\u001b[43mkwds\u001b[49m\u001b[43m)\u001b[49m\n",
      "File \u001b[0;32m~/Data/Leo Behe/myvenv/lib/python3.11/site-packages/pandas/core/nanops.py:147\u001b[0m, in \u001b[0;36mbottleneck_switch.__call__.<locals>.f\u001b[0;34m(values, axis, skipna, **kwds)\u001b[0m\n\u001b[1;32m    145\u001b[0m         result \u001b[38;5;241m=\u001b[39m alt(values, axis\u001b[38;5;241m=\u001b[39maxis, skipna\u001b[38;5;241m=\u001b[39mskipna, \u001b[38;5;241m*\u001b[39m\u001b[38;5;241m*\u001b[39mkwds)\n\u001b[1;32m    146\u001b[0m \u001b[38;5;28;01melse\u001b[39;00m:\n\u001b[0;32m--> 147\u001b[0m     result \u001b[38;5;241m=\u001b[39m \u001b[43malt\u001b[49m\u001b[43m(\u001b[49m\u001b[43mvalues\u001b[49m\u001b[43m,\u001b[49m\u001b[43m \u001b[49m\u001b[43maxis\u001b[49m\u001b[38;5;241;43m=\u001b[39;49m\u001b[43maxis\u001b[49m\u001b[43m,\u001b[49m\u001b[43m \u001b[49m\u001b[43mskipna\u001b[49m\u001b[38;5;241;43m=\u001b[39;49m\u001b[43mskipna\u001b[49m\u001b[43m,\u001b[49m\u001b[43m \u001b[49m\u001b[38;5;241;43m*\u001b[39;49m\u001b[38;5;241;43m*\u001b[39;49m\u001b[43mkwds\u001b[49m\u001b[43m)\u001b[49m\n\u001b[1;32m    149\u001b[0m \u001b[38;5;28;01mreturn\u001b[39;00m result\n",
      "File \u001b[0;32m~/Data/Leo Behe/myvenv/lib/python3.11/site-packages/pandas/core/nanops.py:787\u001b[0m, in \u001b[0;36mnanmedian\u001b[0;34m(values, axis, skipna, mask)\u001b[0m\n\u001b[1;32m    785\u001b[0m     inferred \u001b[38;5;241m=\u001b[39m lib\u001b[38;5;241m.\u001b[39minfer_dtype(values)\n\u001b[1;32m    786\u001b[0m     \u001b[38;5;28;01mif\u001b[39;00m inferred \u001b[38;5;129;01min\u001b[39;00m [\u001b[38;5;124m\"\u001b[39m\u001b[38;5;124mstring\u001b[39m\u001b[38;5;124m\"\u001b[39m, \u001b[38;5;124m\"\u001b[39m\u001b[38;5;124mmixed\u001b[39m\u001b[38;5;124m\"\u001b[39m]:\n\u001b[0;32m--> 787\u001b[0m         \u001b[38;5;28;01mraise\u001b[39;00m \u001b[38;5;167;01mTypeError\u001b[39;00m(\u001b[38;5;124mf\u001b[39m\u001b[38;5;124m\"\u001b[39m\u001b[38;5;124mCannot convert \u001b[39m\u001b[38;5;132;01m{\u001b[39;00mvalues\u001b[38;5;132;01m}\u001b[39;00m\u001b[38;5;124m to numeric\u001b[39m\u001b[38;5;124m\"\u001b[39m)\n\u001b[1;32m    788\u001b[0m \u001b[38;5;28;01mtry\u001b[39;00m:\n\u001b[1;32m    789\u001b[0m     values \u001b[38;5;241m=\u001b[39m values\u001b[38;5;241m.\u001b[39mastype(\u001b[38;5;124m\"\u001b[39m\u001b[38;5;124mf8\u001b[39m\u001b[38;5;124m\"\u001b[39m)\n",
      "\u001b[0;31mTypeError\u001b[0m: Cannot convert [['01/01/2022' '02/01/2022' '03/01/2022' '04/01/2022' '05/01/2022'\n  '01/01/2022' '02/01/2022' '03/01/2022' '04/01/2022' '05/01/2022'\n  '01/01/2022' '02/01/2022' '03/01/2022' '04/01/2022' '05/01/2022']\n ['lahore' 'lahore' 'lahore' 'lahore' 'lahore' 'karachi' 'karachi'\n  'karachi' 'karachi' 'karachi' 'murree' 'murree' 'murree' 'murree'\n  'murree']] to numeric"
     ]
    }
   ],
   "source": [
    "# Should be applied to numeric columns only, may raise a warning\n",
    "df.median()"
   ]
  },
  {
   "cell_type": "code",
   "execution_count": 13,
   "id": "fa0eb1f9",
   "metadata": {},
   "outputs": [
    {
     "data": {
      "text/plain": [
       "temperature     8.0\n",
       "humidity       68.0\n",
       "dtype: float64"
      ]
     },
     "execution_count": 13,
     "metadata": {},
     "output_type": "execute_result"
    }
   ],
   "source": [
    "df.median(numeric_only=True)"
   ]
  },
  {
   "cell_type": "code",
   "execution_count": null,
   "id": "8409ebd7",
   "metadata": {},
   "outputs": [],
   "source": []
  },
  {
   "cell_type": "markdown",
   "id": "0a80e737",
   "metadata": {},
   "source": [
    "> We can call the `agg()` method on the dataframe to apply multiple aggregation functions at a time, by passing the `agg()` function a list of aggregation functions as strings."
   ]
  },
  {
   "cell_type": "code",
   "execution_count": 14,
   "id": "875e29de",
   "metadata": {},
   "outputs": [
    {
     "data": {
      "text/html": [
       "<div>\n",
       "<style scoped>\n",
       "    .dataframe tbody tr th:only-of-type {\n",
       "        vertical-align: middle;\n",
       "    }\n",
       "\n",
       "    .dataframe tbody tr th {\n",
       "        vertical-align: top;\n",
       "    }\n",
       "\n",
       "    .dataframe thead th {\n",
       "        text-align: right;\n",
       "    }\n",
       "</style>\n",
       "<table border=\"1\" class=\"dataframe\">\n",
       "  <thead>\n",
       "    <tr style=\"text-align: right;\">\n",
       "      <th></th>\n",
       "      <th>date</th>\n",
       "      <th>city</th>\n",
       "      <th>temperature</th>\n",
       "      <th>humidity</th>\n",
       "    </tr>\n",
       "  </thead>\n",
       "  <tbody>\n",
       "    <tr>\n",
       "      <th>min</th>\n",
       "      <td>01/01/2022</td>\n",
       "      <td>karachi</td>\n",
       "      <td>-7</td>\n",
       "      <td>49</td>\n",
       "    </tr>\n",
       "    <tr>\n",
       "      <th>max</th>\n",
       "      <td>05/01/2022</td>\n",
       "      <td>murree</td>\n",
       "      <td>18</td>\n",
       "      <td>78</td>\n",
       "    </tr>\n",
       "    <tr>\n",
       "      <th>count</th>\n",
       "      <td>15</td>\n",
       "      <td>15</td>\n",
       "      <td>15</td>\n",
       "      <td>15</td>\n",
       "    </tr>\n",
       "  </tbody>\n",
       "</table>\n",
       "</div>"
      ],
      "text/plain": [
       "             date     city  temperature  humidity\n",
       "min    01/01/2022  karachi           -7        49\n",
       "max    05/01/2022   murree           18        78\n",
       "count          15       15           15        15"
      ]
     },
     "execution_count": 14,
     "metadata": {},
     "output_type": "execute_result"
    }
   ],
   "source": [
    "df.agg(['min', 'max',  'count'])"
   ]
  },
  {
   "cell_type": "code",
   "execution_count": 15,
   "id": "3ec7b538-3f84-462e-830f-2b5543c56351",
   "metadata": {},
   "outputs": [
    {
     "data": {
      "text/html": [
       "<div>\n",
       "<style scoped>\n",
       "    .dataframe tbody tr th:only-of-type {\n",
       "        vertical-align: middle;\n",
       "    }\n",
       "\n",
       "    .dataframe tbody tr th {\n",
       "        vertical-align: top;\n",
       "    }\n",
       "\n",
       "    .dataframe thead th {\n",
       "        text-align: right;\n",
       "    }\n",
       "</style>\n",
       "<table border=\"1\" class=\"dataframe\">\n",
       "  <thead>\n",
       "    <tr style=\"text-align: right;\">\n",
       "      <th></th>\n",
       "      <th>date</th>\n",
       "      <th>city</th>\n",
       "      <th>temperature</th>\n",
       "      <th>humidity</th>\n",
       "    </tr>\n",
       "  </thead>\n",
       "  <tbody>\n",
       "    <tr>\n",
       "      <th>min</th>\n",
       "      <td>01/01/2022</td>\n",
       "      <td>lahore</td>\n",
       "      <td>5</td>\n",
       "      <td>49</td>\n",
       "    </tr>\n",
       "    <tr>\n",
       "      <th>max</th>\n",
       "      <td>05/01/2022</td>\n",
       "      <td>lahore</td>\n",
       "      <td>12</td>\n",
       "      <td>60</td>\n",
       "    </tr>\n",
       "    <tr>\n",
       "      <th>count</th>\n",
       "      <td>5</td>\n",
       "      <td>5</td>\n",
       "      <td>5</td>\n",
       "      <td>5</td>\n",
       "    </tr>\n",
       "  </tbody>\n",
       "</table>\n",
       "</div>"
      ],
      "text/plain": [
       "             date    city  temperature  humidity\n",
       "min    01/01/2022  lahore            5        49\n",
       "max    05/01/2022  lahore           12        60\n",
       "count           5       5            5         5"
      ]
     },
     "execution_count": 15,
     "metadata": {},
     "output_type": "execute_result"
    }
   ],
   "source": [
    "df[df.city=='lahore'].agg(['min', 'max',  'count'])"
   ]
  },
  {
   "cell_type": "code",
   "execution_count": 16,
   "id": "a58a2e02",
   "metadata": {},
   "outputs": [
    {
     "data": {
      "text/html": [
       "<div>\n",
       "<style scoped>\n",
       "    .dataframe tbody tr th:only-of-type {\n",
       "        vertical-align: middle;\n",
       "    }\n",
       "\n",
       "    .dataframe tbody tr th {\n",
       "        vertical-align: top;\n",
       "    }\n",
       "\n",
       "    .dataframe thead th {\n",
       "        text-align: right;\n",
       "    }\n",
       "</style>\n",
       "<table border=\"1\" class=\"dataframe\">\n",
       "  <thead>\n",
       "    <tr style=\"text-align: right;\">\n",
       "      <th></th>\n",
       "      <th>temperature</th>\n",
       "    </tr>\n",
       "  </thead>\n",
       "  <tbody>\n",
       "    <tr>\n",
       "      <th>min</th>\n",
       "      <td>5</td>\n",
       "    </tr>\n",
       "    <tr>\n",
       "      <th>max</th>\n",
       "      <td>12</td>\n",
       "    </tr>\n",
       "    <tr>\n",
       "      <th>count</th>\n",
       "      <td>5</td>\n",
       "    </tr>\n",
       "  </tbody>\n",
       "</table>\n",
       "</div>"
      ],
      "text/plain": [
       "       temperature\n",
       "min              5\n",
       "max             12\n",
       "count            5"
      ]
     },
     "execution_count": 16,
     "metadata": {},
     "output_type": "execute_result"
    }
   ],
   "source": [
    "df[df.city=='lahore'].agg({'temperature':['min', 'max',  'count']})"
   ]
  },
  {
   "cell_type": "code",
   "execution_count": 17,
   "id": "f5a9cbf1",
   "metadata": {},
   "outputs": [
    {
     "data": {
      "text/html": [
       "<div>\n",
       "<style scoped>\n",
       "    .dataframe tbody tr th:only-of-type {\n",
       "        vertical-align: middle;\n",
       "    }\n",
       "\n",
       "    .dataframe tbody tr th {\n",
       "        vertical-align: top;\n",
       "    }\n",
       "\n",
       "    .dataframe thead th {\n",
       "        text-align: right;\n",
       "    }\n",
       "</style>\n",
       "<table border=\"1\" class=\"dataframe\">\n",
       "  <thead>\n",
       "    <tr style=\"text-align: right;\">\n",
       "      <th></th>\n",
       "      <th>temperature</th>\n",
       "      <th>humidity</th>\n",
       "    </tr>\n",
       "  </thead>\n",
       "  <tbody>\n",
       "    <tr>\n",
       "      <th>min</th>\n",
       "      <td>5.0</td>\n",
       "      <td>49.0</td>\n",
       "    </tr>\n",
       "    <tr>\n",
       "      <th>max</th>\n",
       "      <td>12.0</td>\n",
       "      <td>60.0</td>\n",
       "    </tr>\n",
       "    <tr>\n",
       "      <th>count</th>\n",
       "      <td>5.0</td>\n",
       "      <td>NaN</td>\n",
       "    </tr>\n",
       "    <tr>\n",
       "      <th>mean</th>\n",
       "      <td>NaN</td>\n",
       "      <td>54.4</td>\n",
       "    </tr>\n",
       "  </tbody>\n",
       "</table>\n",
       "</div>"
      ],
      "text/plain": [
       "       temperature  humidity\n",
       "min            5.0      49.0\n",
       "max           12.0      60.0\n",
       "count          5.0       NaN\n",
       "mean           NaN      54.4"
      ]
     },
     "execution_count": 17,
     "metadata": {},
     "output_type": "execute_result"
    }
   ],
   "source": [
    "df[df.city=='lahore'].agg({'temperature':['min', 'max',  'count'],\n",
    "       'humidity':['max', 'min','mean']})"
   ]
  },
  {
   "cell_type": "code",
   "execution_count": null,
   "id": "fa76cddd",
   "metadata": {},
   "outputs": [],
   "source": []
  },
  {
   "cell_type": "code",
   "execution_count": null,
   "id": "b17326f9",
   "metadata": {},
   "outputs": [],
   "source": []
  },
  {
   "cell_type": "markdown",
   "id": "f7624ba3",
   "metadata": {},
   "source": [
    "> We can call the `describe()` method on the dataframe to get descriptive statistical measures on all its numeric columns."
   ]
  },
  {
   "cell_type": "code",
   "execution_count": 18,
   "id": "a26b0208",
   "metadata": {},
   "outputs": [
    {
     "data": {
      "text/html": [
       "<div>\n",
       "<style scoped>\n",
       "    .dataframe tbody tr th:only-of-type {\n",
       "        vertical-align: middle;\n",
       "    }\n",
       "\n",
       "    .dataframe tbody tr th {\n",
       "        vertical-align: top;\n",
       "    }\n",
       "\n",
       "    .dataframe thead th {\n",
       "        text-align: right;\n",
       "    }\n",
       "</style>\n",
       "<table border=\"1\" class=\"dataframe\">\n",
       "  <thead>\n",
       "    <tr style=\"text-align: right;\">\n",
       "      <th></th>\n",
       "      <th>temperature</th>\n",
       "      <th>humidity</th>\n",
       "    </tr>\n",
       "  </thead>\n",
       "  <tbody>\n",
       "    <tr>\n",
       "      <th>count</th>\n",
       "      <td>15.000000</td>\n",
       "      <td>15.000000</td>\n",
       "    </tr>\n",
       "    <tr>\n",
       "      <th>mean</th>\n",
       "      <td>6.133333</td>\n",
       "      <td>64.933333</td>\n",
       "    </tr>\n",
       "    <tr>\n",
       "      <th>std</th>\n",
       "      <td>8.253715</td>\n",
       "      <td>9.153194</td>\n",
       "    </tr>\n",
       "    <tr>\n",
       "      <th>min</th>\n",
       "      <td>-7.000000</td>\n",
       "      <td>49.000000</td>\n",
       "    </tr>\n",
       "    <tr>\n",
       "      <th>25%</th>\n",
       "      <td>-2.000000</td>\n",
       "      <td>59.000000</td>\n",
       "    </tr>\n",
       "    <tr>\n",
       "      <th>50%</th>\n",
       "      <td>8.000000</td>\n",
       "      <td>68.000000</td>\n",
       "    </tr>\n",
       "    <tr>\n",
       "      <th>75%</th>\n",
       "      <td>12.000000</td>\n",
       "      <td>71.500000</td>\n",
       "    </tr>\n",
       "    <tr>\n",
       "      <th>max</th>\n",
       "      <td>18.000000</td>\n",
       "      <td>78.000000</td>\n",
       "    </tr>\n",
       "  </tbody>\n",
       "</table>\n",
       "</div>"
      ],
      "text/plain": [
       "       temperature   humidity\n",
       "count    15.000000  15.000000\n",
       "mean      6.133333  64.933333\n",
       "std       8.253715   9.153194\n",
       "min      -7.000000  49.000000\n",
       "25%      -2.000000  59.000000\n",
       "50%       8.000000  68.000000\n",
       "75%      12.000000  71.500000\n",
       "max      18.000000  78.000000"
      ]
     },
     "execution_count": 18,
     "metadata": {},
     "output_type": "execute_result"
    }
   ],
   "source": [
    "df.describe()"
   ]
  },
  {
   "cell_type": "code",
   "execution_count": null,
   "id": "1b6edfe8",
   "metadata": {},
   "outputs": [],
   "source": []
  },
  {
   "cell_type": "markdown",
   "id": "29818e96",
   "metadata": {},
   "source": [
    "### b. Applying a Built-in Aggregation Function on a Series Object"
   ]
  },
  {
   "cell_type": "code",
   "execution_count": 19,
   "id": "111bef4b",
   "metadata": {},
   "outputs": [
    {
     "data": {
      "text/plain": [
       "np.int64(-7)"
      ]
     },
     "execution_count": 19,
     "metadata": {},
     "output_type": "execute_result"
    }
   ],
   "source": [
    "df['temperature'].min()"
   ]
  },
  {
   "cell_type": "code",
   "execution_count": 20,
   "id": "22606fba",
   "metadata": {},
   "outputs": [
    {
     "data": {
      "text/plain": [
       "np.int64(18)"
      ]
     },
     "execution_count": 20,
     "metadata": {},
     "output_type": "execute_result"
    }
   ],
   "source": [
    "df['temperature'].max()"
   ]
  },
  {
   "cell_type": "code",
   "execution_count": 21,
   "id": "709429fa",
   "metadata": {},
   "outputs": [
    {
     "data": {
      "text/plain": [
       "np.float64(6.133333333333334)"
      ]
     },
     "execution_count": 21,
     "metadata": {},
     "output_type": "execute_result"
    }
   ],
   "source": [
    "df['temperature'].mean()"
   ]
  },
  {
   "cell_type": "markdown",
   "id": "b131b9b5",
   "metadata": {},
   "source": [
    "> We can call the `agg()` method on a series to apply multiple aggregation functions at a time, by passing the `agg()` function a list of aggregation functions as strings."
   ]
  },
  {
   "cell_type": "code",
   "execution_count": 22,
   "id": "4bea6bc9",
   "metadata": {},
   "outputs": [
    {
     "data": {
      "text/plain": [
       "min      -7.000000\n",
       "max      18.000000\n",
       "mean      6.133333\n",
       "count    15.000000\n",
       "Name: temperature, dtype: float64"
      ]
     },
     "execution_count": 22,
     "metadata": {},
     "output_type": "execute_result"
    }
   ],
   "source": [
    "df['temperature'].agg(['min', 'max', 'mean', 'count'])"
   ]
  },
  {
   "cell_type": "markdown",
   "id": "07ad4b62",
   "metadata": {},
   "source": [
    "> We can call the `describe()` method on the dataframe to get descriptive statistical measures on all its numeric columns."
   ]
  },
  {
   "cell_type": "code",
   "execution_count": null,
   "id": "80d38d82",
   "metadata": {},
   "outputs": [],
   "source": [
    "df['temperature'].describe()"
   ]
  },
  {
   "cell_type": "code",
   "execution_count": null,
   "id": "2d6f7d77",
   "metadata": {},
   "outputs": [],
   "source": []
  },
  {
   "cell_type": "markdown",
   "id": "4d354a5b",
   "metadata": {},
   "source": [
    "### c. Applying a User-Defined/Lambda Function on a Series Object using the `apply()` Method\n",
    "- We have used this `apply()` method before as well that is used to invoke function on values of Series and return a resulting series."
   ]
  },
  {
   "cell_type": "code",
   "execution_count": 23,
   "id": "8647021a",
   "metadata": {},
   "outputs": [
    {
     "data": {
      "text/plain": [
       "0      8\n",
       "1     10\n",
       "2      5\n",
       "3      6\n",
       "4     12\n",
       "5     18\n",
       "6     10\n",
       "7     12\n",
       "8     15\n",
       "9     16\n",
       "10    -5\n",
       "11    -3\n",
       "12    -4\n",
       "13    -1\n",
       "14    -7\n",
       "Name: temperature, dtype: int64"
      ]
     },
     "execution_count": 23,
     "metadata": {},
     "output_type": "execute_result"
    }
   ],
   "source": [
    "df.temperature"
   ]
  },
  {
   "cell_type": "code",
   "execution_count": 24,
   "id": "ffd978e9",
   "metadata": {},
   "outputs": [],
   "source": [
    "def ctof(x):\n",
    "    return x*9/5+32"
   ]
  },
  {
   "cell_type": "code",
   "execution_count": 25,
   "id": "f4c6948e",
   "metadata": {},
   "outputs": [
    {
     "data": {
      "text/plain": [
       "0     46.4\n",
       "1     50.0\n",
       "2     41.0\n",
       "3     42.8\n",
       "4     53.6\n",
       "5     64.4\n",
       "6     50.0\n",
       "7     53.6\n",
       "8     59.0\n",
       "9     60.8\n",
       "10    23.0\n",
       "11    26.6\n",
       "12    24.8\n",
       "13    30.2\n",
       "14    19.4\n",
       "Name: temperature, dtype: float64"
      ]
     },
     "execution_count": 25,
     "metadata": {},
     "output_type": "execute_result"
    }
   ],
   "source": [
    "df.temperature.apply(ctof)"
   ]
  },
  {
   "cell_type": "code",
   "execution_count": 26,
   "id": "b427ebcd",
   "metadata": {},
   "outputs": [
    {
     "data": {
      "text/plain": [
       "0     46.4\n",
       "1     50.0\n",
       "2     41.0\n",
       "3     42.8\n",
       "4     53.6\n",
       "5     64.4\n",
       "6     50.0\n",
       "7     53.6\n",
       "8     59.0\n",
       "9     60.8\n",
       "10    23.0\n",
       "11    26.6\n",
       "12    24.8\n",
       "13    30.2\n",
       "14    19.4\n",
       "Name: temperature, dtype: float64"
      ]
     },
     "execution_count": 26,
     "metadata": {},
     "output_type": "execute_result"
    }
   ],
   "source": [
    "df.temperature.apply(lambda x: x*9/5+32)"
   ]
  },
  {
   "cell_type": "code",
   "execution_count": null,
   "id": "d9851993",
   "metadata": {},
   "outputs": [],
   "source": []
  },
  {
   "cell_type": "markdown",
   "id": "1253cf51",
   "metadata": {},
   "source": [
    "# How to Compute the Minimum Temperature of Each City?"
   ]
  },
  {
   "cell_type": "markdown",
   "id": "c21a3258",
   "metadata": {},
   "source": [
    "## 2. Doing it the Hard Way\n",
    "<img align=\"center\" width=\"700\" height=\"500\"  src=\"images/groupbyfinal.png\"  >"
   ]
  },
  {
   "cell_type": "code",
   "execution_count": 27,
   "id": "443db1c5",
   "metadata": {},
   "outputs": [
    {
     "data": {
      "text/html": [
       "<div>\n",
       "<style scoped>\n",
       "    .dataframe tbody tr th:only-of-type {\n",
       "        vertical-align: middle;\n",
       "    }\n",
       "\n",
       "    .dataframe tbody tr th {\n",
       "        vertical-align: top;\n",
       "    }\n",
       "\n",
       "    .dataframe thead th {\n",
       "        text-align: right;\n",
       "    }\n",
       "</style>\n",
       "<table border=\"1\" class=\"dataframe\">\n",
       "  <thead>\n",
       "    <tr style=\"text-align: right;\">\n",
       "      <th></th>\n",
       "      <th>date</th>\n",
       "      <th>city</th>\n",
       "      <th>temperature</th>\n",
       "    </tr>\n",
       "  </thead>\n",
       "  <tbody>\n",
       "    <tr>\n",
       "      <th>0</th>\n",
       "      <td>01/01/2022</td>\n",
       "      <td>lahore</td>\n",
       "      <td>8</td>\n",
       "    </tr>\n",
       "    <tr>\n",
       "      <th>1</th>\n",
       "      <td>02/01/2022</td>\n",
       "      <td>lahore</td>\n",
       "      <td>10</td>\n",
       "    </tr>\n",
       "    <tr>\n",
       "      <th>2</th>\n",
       "      <td>03/01/2022</td>\n",
       "      <td>lahore</td>\n",
       "      <td>5</td>\n",
       "    </tr>\n",
       "    <tr>\n",
       "      <th>3</th>\n",
       "      <td>04/01/2022</td>\n",
       "      <td>lahore</td>\n",
       "      <td>6</td>\n",
       "    </tr>\n",
       "    <tr>\n",
       "      <th>4</th>\n",
       "      <td>05/01/2022</td>\n",
       "      <td>lahore</td>\n",
       "      <td>12</td>\n",
       "    </tr>\n",
       "    <tr>\n",
       "      <th>5</th>\n",
       "      <td>01/01/2022</td>\n",
       "      <td>karachi</td>\n",
       "      <td>18</td>\n",
       "    </tr>\n",
       "    <tr>\n",
       "      <th>6</th>\n",
       "      <td>02/01/2022</td>\n",
       "      <td>karachi</td>\n",
       "      <td>10</td>\n",
       "    </tr>\n",
       "    <tr>\n",
       "      <th>7</th>\n",
       "      <td>03/01/2022</td>\n",
       "      <td>karachi</td>\n",
       "      <td>12</td>\n",
       "    </tr>\n",
       "    <tr>\n",
       "      <th>8</th>\n",
       "      <td>04/01/2022</td>\n",
       "      <td>karachi</td>\n",
       "      <td>15</td>\n",
       "    </tr>\n",
       "    <tr>\n",
       "      <th>9</th>\n",
       "      <td>05/01/2022</td>\n",
       "      <td>karachi</td>\n",
       "      <td>16</td>\n",
       "    </tr>\n",
       "    <tr>\n",
       "      <th>10</th>\n",
       "      <td>01/01/2022</td>\n",
       "      <td>murree</td>\n",
       "      <td>-5</td>\n",
       "    </tr>\n",
       "    <tr>\n",
       "      <th>11</th>\n",
       "      <td>02/01/2022</td>\n",
       "      <td>murree</td>\n",
       "      <td>-3</td>\n",
       "    </tr>\n",
       "    <tr>\n",
       "      <th>12</th>\n",
       "      <td>03/01/2022</td>\n",
       "      <td>murree</td>\n",
       "      <td>-4</td>\n",
       "    </tr>\n",
       "    <tr>\n",
       "      <th>13</th>\n",
       "      <td>04/01/2022</td>\n",
       "      <td>murree</td>\n",
       "      <td>-1</td>\n",
       "    </tr>\n",
       "    <tr>\n",
       "      <th>14</th>\n",
       "      <td>05/01/2022</td>\n",
       "      <td>murree</td>\n",
       "      <td>-7</td>\n",
       "    </tr>\n",
       "  </tbody>\n",
       "</table>\n",
       "</div>"
      ],
      "text/plain": [
       "          date     city  temperature\n",
       "0   01/01/2022   lahore            8\n",
       "1   02/01/2022   lahore           10\n",
       "2   03/01/2022   lahore            5\n",
       "3   04/01/2022   lahore            6\n",
       "4   05/01/2022   lahore           12\n",
       "5   01/01/2022  karachi           18\n",
       "6   02/01/2022  karachi           10\n",
       "7   03/01/2022  karachi           12\n",
       "8   04/01/2022  karachi           15\n",
       "9   05/01/2022  karachi           16\n",
       "10  01/01/2022   murree           -5\n",
       "11  02/01/2022   murree           -3\n",
       "12  03/01/2022   murree           -4\n",
       "13  04/01/2022   murree           -1\n",
       "14  05/01/2022   murree           -7"
      ]
     },
     "execution_count": 27,
     "metadata": {},
     "output_type": "execute_result"
    }
   ],
   "source": [
    "import pandas as pd\n",
    "df = pd.read_csv('datasets/groupbydata1.csv')\n",
    "df"
   ]
  },
  {
   "cell_type": "markdown",
   "id": "eb304630",
   "metadata": {},
   "source": [
    "### a. Splitting the Dataframe\n",
    "- We need to use conditional selection technique, in which we pass a Boolean mask for the appropriate city column to be selected. Can do it using two ways:\n",
    "    - Using `df[]` subscript operator\n",
    "    - Using `df.loc` method"
   ]
  },
  {
   "cell_type": "code",
   "execution_count": 28,
   "id": "8bc2737e",
   "metadata": {},
   "outputs": [
    {
     "data": {
      "text/html": [
       "<div>\n",
       "<style scoped>\n",
       "    .dataframe tbody tr th:only-of-type {\n",
       "        vertical-align: middle;\n",
       "    }\n",
       "\n",
       "    .dataframe tbody tr th {\n",
       "        vertical-align: top;\n",
       "    }\n",
       "\n",
       "    .dataframe thead th {\n",
       "        text-align: right;\n",
       "    }\n",
       "</style>\n",
       "<table border=\"1\" class=\"dataframe\">\n",
       "  <thead>\n",
       "    <tr style=\"text-align: right;\">\n",
       "      <th></th>\n",
       "      <th>date</th>\n",
       "      <th>city</th>\n",
       "      <th>temperature</th>\n",
       "    </tr>\n",
       "  </thead>\n",
       "  <tbody>\n",
       "    <tr>\n",
       "      <th>5</th>\n",
       "      <td>01/01/2022</td>\n",
       "      <td>karachi</td>\n",
       "      <td>18</td>\n",
       "    </tr>\n",
       "    <tr>\n",
       "      <th>6</th>\n",
       "      <td>02/01/2022</td>\n",
       "      <td>karachi</td>\n",
       "      <td>10</td>\n",
       "    </tr>\n",
       "    <tr>\n",
       "      <th>7</th>\n",
       "      <td>03/01/2022</td>\n",
       "      <td>karachi</td>\n",
       "      <td>12</td>\n",
       "    </tr>\n",
       "    <tr>\n",
       "      <th>8</th>\n",
       "      <td>04/01/2022</td>\n",
       "      <td>karachi</td>\n",
       "      <td>15</td>\n",
       "    </tr>\n",
       "    <tr>\n",
       "      <th>9</th>\n",
       "      <td>05/01/2022</td>\n",
       "      <td>karachi</td>\n",
       "      <td>16</td>\n",
       "    </tr>\n",
       "  </tbody>\n",
       "</table>\n",
       "</div>"
      ],
      "text/plain": [
       "         date     city  temperature\n",
       "5  01/01/2022  karachi           18\n",
       "6  02/01/2022  karachi           10\n",
       "7  03/01/2022  karachi           12\n",
       "8  04/01/2022  karachi           15\n",
       "9  05/01/2022  karachi           16"
      ]
     },
     "execution_count": 28,
     "metadata": {},
     "output_type": "execute_result"
    }
   ],
   "source": [
    "df[df['city']=='karachi']"
   ]
  },
  {
   "cell_type": "code",
   "execution_count": 29,
   "id": "9d4410d9",
   "metadata": {},
   "outputs": [
    {
     "data": {
      "text/html": [
       "<div>\n",
       "<style scoped>\n",
       "    .dataframe tbody tr th:only-of-type {\n",
       "        vertical-align: middle;\n",
       "    }\n",
       "\n",
       "    .dataframe tbody tr th {\n",
       "        vertical-align: top;\n",
       "    }\n",
       "\n",
       "    .dataframe thead th {\n",
       "        text-align: right;\n",
       "    }\n",
       "</style>\n",
       "<table border=\"1\" class=\"dataframe\">\n",
       "  <thead>\n",
       "    <tr style=\"text-align: right;\">\n",
       "      <th></th>\n",
       "      <th>date</th>\n",
       "      <th>city</th>\n",
       "      <th>temperature</th>\n",
       "    </tr>\n",
       "  </thead>\n",
       "  <tbody>\n",
       "    <tr>\n",
       "      <th>0</th>\n",
       "      <td>01/01/2022</td>\n",
       "      <td>lahore</td>\n",
       "      <td>8</td>\n",
       "    </tr>\n",
       "    <tr>\n",
       "      <th>1</th>\n",
       "      <td>02/01/2022</td>\n",
       "      <td>lahore</td>\n",
       "      <td>10</td>\n",
       "    </tr>\n",
       "    <tr>\n",
       "      <th>2</th>\n",
       "      <td>03/01/2022</td>\n",
       "      <td>lahore</td>\n",
       "      <td>5</td>\n",
       "    </tr>\n",
       "    <tr>\n",
       "      <th>3</th>\n",
       "      <td>04/01/2022</td>\n",
       "      <td>lahore</td>\n",
       "      <td>6</td>\n",
       "    </tr>\n",
       "    <tr>\n",
       "      <th>4</th>\n",
       "      <td>05/01/2022</td>\n",
       "      <td>lahore</td>\n",
       "      <td>12</td>\n",
       "    </tr>\n",
       "  </tbody>\n",
       "</table>\n",
       "</div>"
      ],
      "text/plain": [
       "         date    city  temperature\n",
       "0  01/01/2022  lahore            8\n",
       "1  02/01/2022  lahore           10\n",
       "2  03/01/2022  lahore            5\n",
       "3  04/01/2022  lahore            6\n",
       "4  05/01/2022  lahore           12"
      ]
     },
     "execution_count": 29,
     "metadata": {},
     "output_type": "execute_result"
    }
   ],
   "source": [
    "# df[df['city']=='lahore']\n",
    "df.loc[df.city=='lahore', :]"
   ]
  },
  {
   "cell_type": "code",
   "execution_count": 30,
   "id": "43a90d9a",
   "metadata": {},
   "outputs": [
    {
     "data": {
      "text/html": [
       "<div>\n",
       "<style scoped>\n",
       "    .dataframe tbody tr th:only-of-type {\n",
       "        vertical-align: middle;\n",
       "    }\n",
       "\n",
       "    .dataframe tbody tr th {\n",
       "        vertical-align: top;\n",
       "    }\n",
       "\n",
       "    .dataframe thead th {\n",
       "        text-align: right;\n",
       "    }\n",
       "</style>\n",
       "<table border=\"1\" class=\"dataframe\">\n",
       "  <thead>\n",
       "    <tr style=\"text-align: right;\">\n",
       "      <th></th>\n",
       "      <th>date</th>\n",
       "      <th>city</th>\n",
       "      <th>temperature</th>\n",
       "    </tr>\n",
       "  </thead>\n",
       "  <tbody>\n",
       "    <tr>\n",
       "      <th>5</th>\n",
       "      <td>01/01/2022</td>\n",
       "      <td>karachi</td>\n",
       "      <td>18</td>\n",
       "    </tr>\n",
       "    <tr>\n",
       "      <th>6</th>\n",
       "      <td>02/01/2022</td>\n",
       "      <td>karachi</td>\n",
       "      <td>10</td>\n",
       "    </tr>\n",
       "    <tr>\n",
       "      <th>7</th>\n",
       "      <td>03/01/2022</td>\n",
       "      <td>karachi</td>\n",
       "      <td>12</td>\n",
       "    </tr>\n",
       "    <tr>\n",
       "      <th>8</th>\n",
       "      <td>04/01/2022</td>\n",
       "      <td>karachi</td>\n",
       "      <td>15</td>\n",
       "    </tr>\n",
       "    <tr>\n",
       "      <th>9</th>\n",
       "      <td>05/01/2022</td>\n",
       "      <td>karachi</td>\n",
       "      <td>16</td>\n",
       "    </tr>\n",
       "  </tbody>\n",
       "</table>\n",
       "</div>"
      ],
      "text/plain": [
       "         date     city  temperature\n",
       "5  01/01/2022  karachi           18\n",
       "6  02/01/2022  karachi           10\n",
       "7  03/01/2022  karachi           12\n",
       "8  04/01/2022  karachi           15\n",
       "9  05/01/2022  karachi           16"
      ]
     },
     "execution_count": 30,
     "metadata": {},
     "output_type": "execute_result"
    }
   ],
   "source": [
    "# df[df['city']=='karachi']\n",
    "df.loc[df.city=='karachi', :]"
   ]
  },
  {
   "cell_type": "code",
   "execution_count": 31,
   "id": "2fe134f3",
   "metadata": {},
   "outputs": [
    {
     "data": {
      "text/html": [
       "<div>\n",
       "<style scoped>\n",
       "    .dataframe tbody tr th:only-of-type {\n",
       "        vertical-align: middle;\n",
       "    }\n",
       "\n",
       "    .dataframe tbody tr th {\n",
       "        vertical-align: top;\n",
       "    }\n",
       "\n",
       "    .dataframe thead th {\n",
       "        text-align: right;\n",
       "    }\n",
       "</style>\n",
       "<table border=\"1\" class=\"dataframe\">\n",
       "  <thead>\n",
       "    <tr style=\"text-align: right;\">\n",
       "      <th></th>\n",
       "      <th>date</th>\n",
       "      <th>city</th>\n",
       "      <th>temperature</th>\n",
       "    </tr>\n",
       "  </thead>\n",
       "  <tbody>\n",
       "    <tr>\n",
       "      <th>10</th>\n",
       "      <td>01/01/2022</td>\n",
       "      <td>murree</td>\n",
       "      <td>-5</td>\n",
       "    </tr>\n",
       "    <tr>\n",
       "      <th>11</th>\n",
       "      <td>02/01/2022</td>\n",
       "      <td>murree</td>\n",
       "      <td>-3</td>\n",
       "    </tr>\n",
       "    <tr>\n",
       "      <th>12</th>\n",
       "      <td>03/01/2022</td>\n",
       "      <td>murree</td>\n",
       "      <td>-4</td>\n",
       "    </tr>\n",
       "    <tr>\n",
       "      <th>13</th>\n",
       "      <td>04/01/2022</td>\n",
       "      <td>murree</td>\n",
       "      <td>-1</td>\n",
       "    </tr>\n",
       "    <tr>\n",
       "      <th>14</th>\n",
       "      <td>05/01/2022</td>\n",
       "      <td>murree</td>\n",
       "      <td>-7</td>\n",
       "    </tr>\n",
       "  </tbody>\n",
       "</table>\n",
       "</div>"
      ],
      "text/plain": [
       "          date    city  temperature\n",
       "10  01/01/2022  murree           -5\n",
       "11  02/01/2022  murree           -3\n",
       "12  03/01/2022  murree           -4\n",
       "13  04/01/2022  murree           -1\n",
       "14  05/01/2022  murree           -7"
      ]
     },
     "execution_count": 31,
     "metadata": {},
     "output_type": "execute_result"
    }
   ],
   "source": [
    "# df[df['city']=='murree']\n",
    "df.loc[df.city=='murree', :]"
   ]
  },
  {
   "cell_type": "markdown",
   "id": "531be356",
   "metadata": {},
   "source": [
    ">**Limitation:**\n",
    ">- We have to repeat this process for every city separately.\n",
    ">- What if there are over 100 cities in the dataset?"
   ]
  },
  {
   "cell_type": "code",
   "execution_count": null,
   "id": "aafece6c",
   "metadata": {},
   "outputs": [],
   "source": []
  },
  {
   "cell_type": "markdown",
   "id": "e6a35e53",
   "metadata": {},
   "source": [
    "### b. Applying the `min()` Function\n",
    "- We need to apply the `min()` function on the temperature column of all of the above dataframes separately"
   ]
  },
  {
   "cell_type": "code",
   "execution_count": 32,
   "id": "98d13252",
   "metadata": {},
   "outputs": [
    {
     "data": {
      "text/plain": [
       "np.int64(5)"
      ]
     },
     "execution_count": 32,
     "metadata": {},
     "output_type": "execute_result"
    }
   ],
   "source": [
    "df.loc[df.city=='lahore', :].temperature.min()"
   ]
  },
  {
   "cell_type": "code",
   "execution_count": null,
   "id": "3a9b7261",
   "metadata": {},
   "outputs": [],
   "source": []
  },
  {
   "cell_type": "code",
   "execution_count": 33,
   "id": "2f36327e",
   "metadata": {},
   "outputs": [
    {
     "data": {
      "text/plain": [
       "np.int64(10)"
      ]
     },
     "execution_count": 33,
     "metadata": {},
     "output_type": "execute_result"
    }
   ],
   "source": [
    "df.loc[df.city=='karachi', :].temperature.min()"
   ]
  },
  {
   "cell_type": "code",
   "execution_count": 34,
   "id": "9e76a7dd",
   "metadata": {},
   "outputs": [
    {
     "data": {
      "text/plain": [
       "np.int64(-7)"
      ]
     },
     "execution_count": 34,
     "metadata": {},
     "output_type": "execute_result"
    }
   ],
   "source": [
    "df.loc[df.city=='murree', :].temperature.min()"
   ]
  },
  {
   "cell_type": "markdown",
   "id": "6573946e",
   "metadata": {},
   "source": [
    ">**Limitation:**\n",
    ">- We have to repeat this process for every city separately.\n",
    ">- What if there are over 100 cities in the dataset?"
   ]
  },
  {
   "cell_type": "code",
   "execution_count": null,
   "id": "3bc149d5",
   "metadata": {},
   "outputs": [],
   "source": []
  },
  {
   "cell_type": "markdown",
   "id": "8d980d9c",
   "metadata": {},
   "source": [
    "### c. Combining the Result\n",
    "- Since, we have got the minimum temperature of all the cities, we need to combine them to an appropriate series object to be used for later processing."
   ]
  },
  {
   "cell_type": "code",
   "execution_count": 35,
   "id": "67ff4a19",
   "metadata": {},
   "outputs": [
    {
     "data": {
      "text/plain": [
       "L_min     5\n",
       "K_min    10\n",
       "M_min    -7\n",
       "Name: Min Temperatures, dtype: int64"
      ]
     },
     "execution_count": 35,
     "metadata": {},
     "output_type": "execute_result"
    }
   ],
   "source": [
    "lhr = df.loc[df.city=='lahore', :].temperature.min()\n",
    "kci = df.loc[df.city=='karachi', :].temperature.min()\n",
    "murree = df.loc[df.city=='murree', :].temperature.min()\n",
    "\n",
    "s = pd.Series(data=[lhr, kci, murree], index=['L_min', 'K_min', 'M_min'] )\n",
    "s.name= 'Min Temperatures'\n",
    "s"
   ]
  },
  {
   "cell_type": "code",
   "execution_count": null,
   "id": "c2ba09af",
   "metadata": {},
   "outputs": [],
   "source": []
  },
  {
   "cell_type": "markdown",
   "id": "3f7f9891",
   "metadata": {},
   "source": [
    "# How to Compute the Minimum Temperature of Each City?"
   ]
  },
  {
   "cell_type": "markdown",
   "id": "62fb733d",
   "metadata": {},
   "source": [
    "## 3. An Elegant Way\n",
    "<img align=\"center\" width=\"700\" height=\"500\"  src=\"images/groupbyfinal.png\"  >"
   ]
  },
  {
   "cell_type": "code",
   "execution_count": null,
   "id": "08b3cae2",
   "metadata": {},
   "outputs": [],
   "source": [
    "import pandas as pd\n",
    "df = pd.read_csv('datasets/groupbydata1.csv')\n",
    "df"
   ]
  },
  {
   "cell_type": "markdown",
   "id": "93f02e73",
   "metadata": {},
   "source": [
    "### a. Step 1: Split Step\n",
    "- In the split step we divide the data inside the dataframe into multiple groups\n",
    "- Since we need to calculate the minimum temperature of each city, therefore, we will use `groupby()` method on the `city` column of the dataframe.\n",
    "- This will result a DataFrameGroupBy object, which is an iterable containing multiple small dataframes based on the `by` argument passed to the `groupby()` method"
   ]
  },
  {
   "cell_type": "code",
   "execution_count": 36,
   "id": "b0ea5d79",
   "metadata": {},
   "outputs": [
    {
     "data": {
      "text/plain": [
       "<pandas.core.groupby.generic.DataFrameGroupBy object at 0x120391850>"
      ]
     },
     "execution_count": 36,
     "metadata": {},
     "output_type": "execute_result"
    }
   ],
   "source": [
    "dfgb = df.groupby('city')\n",
    "dfgb"
   ]
  },
  {
   "cell_type": "code",
   "execution_count": 38,
   "id": "52a0e61a",
   "metadata": {},
   "outputs": [],
   "source": [
    "# dir(dfgb)"
   ]
  },
  {
   "cell_type": "markdown",
   "id": "46dd2666",
   "metadata": {},
   "source": [
    ">- Since this is an iterable, so let us iterate :)"
   ]
  },
  {
   "cell_type": "code",
   "execution_count": 39,
   "id": "cc1b1019",
   "metadata": {},
   "outputs": [
    {
     "name": "stdout",
     "output_type": "stream",
     "text": [
      "('karachi',          date     city  temperature\n",
      "5  01/01/2022  karachi           18\n",
      "6  02/01/2022  karachi           10\n",
      "7  03/01/2022  karachi           12\n",
      "8  04/01/2022  karachi           15\n",
      "9  05/01/2022  karachi           16)\n",
      "\n",
      "\n",
      "\n",
      "('lahore',          date    city  temperature\n",
      "0  01/01/2022  lahore            8\n",
      "1  02/01/2022  lahore           10\n",
      "2  03/01/2022  lahore            5\n",
      "3  04/01/2022  lahore            6\n",
      "4  05/01/2022  lahore           12)\n",
      "\n",
      "\n",
      "\n",
      "('murree',           date    city  temperature\n",
      "10  01/01/2022  murree           -5\n",
      "11  02/01/2022  murree           -3\n",
      "12  03/01/2022  murree           -4\n",
      "13  04/01/2022  murree           -1\n",
      "14  05/01/2022  murree           -7)\n",
      "\n",
      "\n",
      "\n"
     ]
    }
   ],
   "source": [
    "for mydf in dfgb:\n",
    "    print(mydf)\n",
    "    print(\"\\n\\n\")"
   ]
  },
  {
   "cell_type": "code",
   "execution_count": null,
   "id": "da049f81",
   "metadata": {},
   "outputs": [],
   "source": []
  },
  {
   "cell_type": "markdown",
   "id": "6b81eb53",
   "metadata": {},
   "source": [
    ">- To display indices of every group in the dataframe, use `groups` attribute of  `DataFrameGroupBy` object.\n",
    ">- Returns a Dictionary object (PrettyDict) with keys as the group value and value as list of corresponding row indices"
   ]
  },
  {
   "cell_type": "code",
   "execution_count": 40,
   "id": "1de745f0",
   "metadata": {},
   "outputs": [
    {
     "data": {
      "text/plain": [
       "{'karachi': [5, 6, 7, 8, 9], 'lahore': [0, 1, 2, 3, 4], 'murree': [10, 11, 12, 13, 14]}"
      ]
     },
     "execution_count": 40,
     "metadata": {},
     "output_type": "execute_result"
    }
   ],
   "source": [
    "dfgb.groups   # df.groupby('city').groups"
   ]
  },
  {
   "cell_type": "code",
   "execution_count": null,
   "id": "2fd7fc5e",
   "metadata": {},
   "outputs": [],
   "source": []
  },
  {
   "cell_type": "markdown",
   "id": "d4c2271f",
   "metadata": {},
   "source": [
    ">- To display records of a specific group, use `get_group()` method on `DataFrameGroupBy` object.\n",
    ">- Construct and return DataFrame from `DataFrameGroupBy` object  with provided name."
   ]
  },
  {
   "cell_type": "code",
   "execution_count": 41,
   "id": "cbfa0a16",
   "metadata": {},
   "outputs": [
    {
     "data": {
      "text/html": [
       "<div>\n",
       "<style scoped>\n",
       "    .dataframe tbody tr th:only-of-type {\n",
       "        vertical-align: middle;\n",
       "    }\n",
       "\n",
       "    .dataframe tbody tr th {\n",
       "        vertical-align: top;\n",
       "    }\n",
       "\n",
       "    .dataframe thead th {\n",
       "        text-align: right;\n",
       "    }\n",
       "</style>\n",
       "<table border=\"1\" class=\"dataframe\">\n",
       "  <thead>\n",
       "    <tr style=\"text-align: right;\">\n",
       "      <th></th>\n",
       "      <th>date</th>\n",
       "      <th>city</th>\n",
       "      <th>temperature</th>\n",
       "    </tr>\n",
       "  </thead>\n",
       "  <tbody>\n",
       "    <tr>\n",
       "      <th>10</th>\n",
       "      <td>01/01/2022</td>\n",
       "      <td>murree</td>\n",
       "      <td>-5</td>\n",
       "    </tr>\n",
       "    <tr>\n",
       "      <th>11</th>\n",
       "      <td>02/01/2022</td>\n",
       "      <td>murree</td>\n",
       "      <td>-3</td>\n",
       "    </tr>\n",
       "    <tr>\n",
       "      <th>12</th>\n",
       "      <td>03/01/2022</td>\n",
       "      <td>murree</td>\n",
       "      <td>-4</td>\n",
       "    </tr>\n",
       "    <tr>\n",
       "      <th>13</th>\n",
       "      <td>04/01/2022</td>\n",
       "      <td>murree</td>\n",
       "      <td>-1</td>\n",
       "    </tr>\n",
       "    <tr>\n",
       "      <th>14</th>\n",
       "      <td>05/01/2022</td>\n",
       "      <td>murree</td>\n",
       "      <td>-7</td>\n",
       "    </tr>\n",
       "  </tbody>\n",
       "</table>\n",
       "</div>"
      ],
      "text/plain": [
       "          date    city  temperature\n",
       "10  01/01/2022  murree           -5\n",
       "11  02/01/2022  murree           -3\n",
       "12  03/01/2022  murree           -4\n",
       "13  04/01/2022  murree           -1\n",
       "14  05/01/2022  murree           -7"
      ]
     },
     "execution_count": 41,
     "metadata": {},
     "output_type": "execute_result"
    }
   ],
   "source": [
    "# Display DataFrame of a specific group from groupby object by providing the specific group value\n",
    "dfgb.get_group('murree') # df.groupby('city').get_group('karachi') "
   ]
  },
  {
   "cell_type": "code",
   "execution_count": null,
   "id": "3b1f8d1c",
   "metadata": {},
   "outputs": [],
   "source": []
  },
  {
   "cell_type": "markdown",
   "id": "1c325989",
   "metadata": {},
   "source": [
    ">- To find the size of each group, use `size()` method of DataFrameGroupBy object.\n",
    ">- It return a series containing number of rows in each each group of the DataFrameGroupBy object as a Series"
   ]
  },
  {
   "cell_type": "code",
   "execution_count": 42,
   "id": "fb875cd9",
   "metadata": {},
   "outputs": [
    {
     "data": {
      "text/plain": [
       "city\n",
       "karachi    5\n",
       "lahore     5\n",
       "murree     5\n",
       "dtype: int64"
      ]
     },
     "execution_count": 42,
     "metadata": {},
     "output_type": "execute_result"
    }
   ],
   "source": [
    "dfgb.size()  #df.groupby('city').size()"
   ]
  },
  {
   "cell_type": "markdown",
   "id": "03042da0",
   "metadata": {},
   "source": [
    "> After understanding the `groupby()` method let us move to step 2, and that is `Applying a Function`"
   ]
  },
  {
   "cell_type": "code",
   "execution_count": null,
   "id": "95bc3a96",
   "metadata": {},
   "outputs": [],
   "source": []
  },
  {
   "cell_type": "markdown",
   "id": "9519e655",
   "metadata": {},
   "source": [
    "### b. Step 2: Apply Step\n",
    "- Now second step is that we apply appropriate aggregate function on all the groups inside the DataFrameGroupBy object"
   ]
  },
  {
   "cell_type": "markdown",
   "id": "729e7c98",
   "metadata": {},
   "source": [
    "**Let us first apply aggregate function on a specific column of `DataFrameGroupBy` object, which is a `SeriesGroupBy` object**"
   ]
  },
  {
   "cell_type": "code",
   "execution_count": 43,
   "id": "4b906481",
   "metadata": {},
   "outputs": [
    {
     "data": {
      "text/html": [
       "<div>\n",
       "<style scoped>\n",
       "    .dataframe tbody tr th:only-of-type {\n",
       "        vertical-align: middle;\n",
       "    }\n",
       "\n",
       "    .dataframe tbody tr th {\n",
       "        vertical-align: top;\n",
       "    }\n",
       "\n",
       "    .dataframe thead th {\n",
       "        text-align: right;\n",
       "    }\n",
       "</style>\n",
       "<table border=\"1\" class=\"dataframe\">\n",
       "  <thead>\n",
       "    <tr style=\"text-align: right;\">\n",
       "      <th></th>\n",
       "      <th>date</th>\n",
       "      <th>city</th>\n",
       "      <th>temperature</th>\n",
       "    </tr>\n",
       "  </thead>\n",
       "  <tbody>\n",
       "    <tr>\n",
       "      <th>0</th>\n",
       "      <td>01/01/2022</td>\n",
       "      <td>lahore</td>\n",
       "      <td>8</td>\n",
       "    </tr>\n",
       "    <tr>\n",
       "      <th>1</th>\n",
       "      <td>02/01/2022</td>\n",
       "      <td>lahore</td>\n",
       "      <td>10</td>\n",
       "    </tr>\n",
       "    <tr>\n",
       "      <th>2</th>\n",
       "      <td>03/01/2022</td>\n",
       "      <td>lahore</td>\n",
       "      <td>5</td>\n",
       "    </tr>\n",
       "    <tr>\n",
       "      <th>3</th>\n",
       "      <td>04/01/2022</td>\n",
       "      <td>lahore</td>\n",
       "      <td>6</td>\n",
       "    </tr>\n",
       "    <tr>\n",
       "      <th>4</th>\n",
       "      <td>05/01/2022</td>\n",
       "      <td>lahore</td>\n",
       "      <td>12</td>\n",
       "    </tr>\n",
       "    <tr>\n",
       "      <th>5</th>\n",
       "      <td>01/01/2022</td>\n",
       "      <td>karachi</td>\n",
       "      <td>18</td>\n",
       "    </tr>\n",
       "    <tr>\n",
       "      <th>6</th>\n",
       "      <td>02/01/2022</td>\n",
       "      <td>karachi</td>\n",
       "      <td>10</td>\n",
       "    </tr>\n",
       "    <tr>\n",
       "      <th>7</th>\n",
       "      <td>03/01/2022</td>\n",
       "      <td>karachi</td>\n",
       "      <td>12</td>\n",
       "    </tr>\n",
       "    <tr>\n",
       "      <th>8</th>\n",
       "      <td>04/01/2022</td>\n",
       "      <td>karachi</td>\n",
       "      <td>15</td>\n",
       "    </tr>\n",
       "    <tr>\n",
       "      <th>9</th>\n",
       "      <td>05/01/2022</td>\n",
       "      <td>karachi</td>\n",
       "      <td>16</td>\n",
       "    </tr>\n",
       "    <tr>\n",
       "      <th>10</th>\n",
       "      <td>01/01/2022</td>\n",
       "      <td>murree</td>\n",
       "      <td>-5</td>\n",
       "    </tr>\n",
       "    <tr>\n",
       "      <th>11</th>\n",
       "      <td>02/01/2022</td>\n",
       "      <td>murree</td>\n",
       "      <td>-3</td>\n",
       "    </tr>\n",
       "    <tr>\n",
       "      <th>12</th>\n",
       "      <td>03/01/2022</td>\n",
       "      <td>murree</td>\n",
       "      <td>-4</td>\n",
       "    </tr>\n",
       "    <tr>\n",
       "      <th>13</th>\n",
       "      <td>04/01/2022</td>\n",
       "      <td>murree</td>\n",
       "      <td>-1</td>\n",
       "    </tr>\n",
       "    <tr>\n",
       "      <th>14</th>\n",
       "      <td>05/01/2022</td>\n",
       "      <td>murree</td>\n",
       "      <td>-7</td>\n",
       "    </tr>\n",
       "  </tbody>\n",
       "</table>\n",
       "</div>"
      ],
      "text/plain": [
       "          date     city  temperature\n",
       "0   01/01/2022   lahore            8\n",
       "1   02/01/2022   lahore           10\n",
       "2   03/01/2022   lahore            5\n",
       "3   04/01/2022   lahore            6\n",
       "4   05/01/2022   lahore           12\n",
       "5   01/01/2022  karachi           18\n",
       "6   02/01/2022  karachi           10\n",
       "7   03/01/2022  karachi           12\n",
       "8   04/01/2022  karachi           15\n",
       "9   05/01/2022  karachi           16\n",
       "10  01/01/2022   murree           -5\n",
       "11  02/01/2022   murree           -3\n",
       "12  03/01/2022   murree           -4\n",
       "13  04/01/2022   murree           -1\n",
       "14  05/01/2022   murree           -7"
      ]
     },
     "execution_count": 43,
     "metadata": {},
     "output_type": "execute_result"
    }
   ],
   "source": [
    "df"
   ]
  },
  {
   "cell_type": "code",
   "execution_count": null,
   "id": "85bfea29",
   "metadata": {},
   "outputs": [],
   "source": []
  },
  {
   "cell_type": "code",
   "execution_count": 44,
   "id": "6f3ffb6d",
   "metadata": {},
   "outputs": [
    {
     "data": {
      "text/plain": [
       "<pandas.core.groupby.generic.DataFrameGroupBy object at 0x120827b90>"
      ]
     },
     "execution_count": 44,
     "metadata": {},
     "output_type": "execute_result"
    }
   ],
   "source": [
    "df.groupby('city')"
   ]
  },
  {
   "cell_type": "code",
   "execution_count": 45,
   "id": "4175e21e",
   "metadata": {},
   "outputs": [
    {
     "data": {
      "text/html": [
       "<div>\n",
       "<style scoped>\n",
       "    .dataframe tbody tr th:only-of-type {\n",
       "        vertical-align: middle;\n",
       "    }\n",
       "\n",
       "    .dataframe tbody tr th {\n",
       "        vertical-align: top;\n",
       "    }\n",
       "\n",
       "    .dataframe thead th {\n",
       "        text-align: right;\n",
       "    }\n",
       "</style>\n",
       "<table border=\"1\" class=\"dataframe\">\n",
       "  <thead>\n",
       "    <tr style=\"text-align: right;\">\n",
       "      <th></th>\n",
       "      <th>date</th>\n",
       "      <th>city</th>\n",
       "      <th>temperature</th>\n",
       "    </tr>\n",
       "  </thead>\n",
       "  <tbody>\n",
       "    <tr>\n",
       "      <th>0</th>\n",
       "      <td>01/01/2022</td>\n",
       "      <td>lahore</td>\n",
       "      <td>8</td>\n",
       "    </tr>\n",
       "    <tr>\n",
       "      <th>1</th>\n",
       "      <td>02/01/2022</td>\n",
       "      <td>lahore</td>\n",
       "      <td>10</td>\n",
       "    </tr>\n",
       "    <tr>\n",
       "      <th>2</th>\n",
       "      <td>03/01/2022</td>\n",
       "      <td>lahore</td>\n",
       "      <td>5</td>\n",
       "    </tr>\n",
       "    <tr>\n",
       "      <th>3</th>\n",
       "      <td>04/01/2022</td>\n",
       "      <td>lahore</td>\n",
       "      <td>6</td>\n",
       "    </tr>\n",
       "    <tr>\n",
       "      <th>4</th>\n",
       "      <td>05/01/2022</td>\n",
       "      <td>lahore</td>\n",
       "      <td>12</td>\n",
       "    </tr>\n",
       "  </tbody>\n",
       "</table>\n",
       "</div>"
      ],
      "text/plain": [
       "         date    city  temperature\n",
       "0  01/01/2022  lahore            8\n",
       "1  02/01/2022  lahore           10\n",
       "2  03/01/2022  lahore            5\n",
       "3  04/01/2022  lahore            6\n",
       "4  05/01/2022  lahore           12"
      ]
     },
     "execution_count": 45,
     "metadata": {},
     "output_type": "execute_result"
    }
   ],
   "source": [
    "df.groupby('city').get_group('lahore')"
   ]
  },
  {
   "cell_type": "code",
   "execution_count": 46,
   "id": "c7820a7d",
   "metadata": {},
   "outputs": [
    {
     "data": {
      "text/plain": [
       "0     8\n",
       "1    10\n",
       "2     5\n",
       "3     6\n",
       "4    12\n",
       "Name: temperature, dtype: int64"
      ]
     },
     "execution_count": 46,
     "metadata": {},
     "output_type": "execute_result"
    }
   ],
   "source": [
    "df.groupby('city').get_group('lahore').temperature"
   ]
  },
  {
   "cell_type": "code",
   "execution_count": 47,
   "id": "ff32ca65",
   "metadata": {},
   "outputs": [
    {
     "data": {
      "text/plain": [
       "np.int64(5)"
      ]
     },
     "execution_count": 47,
     "metadata": {},
     "output_type": "execute_result"
    }
   ],
   "source": [
    "df.groupby('city').get_group('lahore').temperature.min()"
   ]
  },
  {
   "cell_type": "code",
   "execution_count": 48,
   "id": "e1744064",
   "metadata": {},
   "outputs": [
    {
     "data": {
      "text/plain": [
       "np.int64(10)"
      ]
     },
     "execution_count": 48,
     "metadata": {},
     "output_type": "execute_result"
    }
   ],
   "source": [
    "df.groupby('city').get_group('karachi').temperature.min()"
   ]
  },
  {
   "cell_type": "code",
   "execution_count": 49,
   "id": "c4aab17c",
   "metadata": {},
   "outputs": [
    {
     "data": {
      "text/plain": [
       "np.int64(-7)"
      ]
     },
     "execution_count": 49,
     "metadata": {},
     "output_type": "execute_result"
    }
   ],
   "source": [
    "df.groupby('city').get_group('murree').temperature.min()"
   ]
  },
  {
   "cell_type": "code",
   "execution_count": null,
   "id": "4f275823",
   "metadata": {},
   "outputs": [],
   "source": []
  },
  {
   "cell_type": "markdown",
   "id": "a49a9ba0",
   "metadata": {},
   "source": [
    "### b. Step 3: Combine Step\n",
    "- Now we have got minimum temperature of all the three cities, let us combine the result into a series object"
   ]
  },
  {
   "cell_type": "code",
   "execution_count": 50,
   "id": "e37d344a",
   "metadata": {},
   "outputs": [
    {
     "data": {
      "text/plain": [
       "K_min    10\n",
       "L_min     5\n",
       "M_min    -7\n",
       "Name: Min Temperatures, dtype: int64"
      ]
     },
     "execution_count": 50,
     "metadata": {},
     "output_type": "execute_result"
    }
   ],
   "source": [
    "kci = df.groupby('city').get_group('karachi').temperature.min()\n",
    "lhr = df.groupby('city').get_group('lahore').temperature.min()\n",
    "murree = df.groupby('city').get_group('murree').temperature.min()\n",
    "\n",
    "s1 = pd.Series(data=[kci, lhr, murree], index=['K_min', 'L_min', 'M_min'] )\n",
    "s1.name= 'Min Temperatures'\n",
    "s1"
   ]
  },
  {
   "cell_type": "code",
   "execution_count": null,
   "id": "db772042",
   "metadata": {},
   "outputs": [],
   "source": []
  },
  {
   "cell_type": "markdown",
   "id": "f07d918e",
   "metadata": {},
   "source": [
    ">- **Let us perform the `apply + combine` steps in one go, by applying the `min()` function on the temperature series of all the dataframes inside the DataFrameGroupBy object.**\n",
    ">- **This saves us from the hassle of applying `min()` method explicitly as done above**"
   ]
  },
  {
   "cell_type": "code",
   "execution_count": 51,
   "id": "77db0e35",
   "metadata": {},
   "outputs": [
    {
     "data": {
      "text/plain": [
       "<pandas.core.groupby.generic.DataFrameGroupBy object at 0x120825890>"
      ]
     },
     "execution_count": 51,
     "metadata": {},
     "output_type": "execute_result"
    }
   ],
   "source": [
    "df.groupby('city')"
   ]
  },
  {
   "cell_type": "code",
   "execution_count": 52,
   "id": "2d014f0d",
   "metadata": {},
   "outputs": [
    {
     "data": {
      "text/plain": [
       "<pandas.core.groupby.generic.SeriesGroupBy object at 0x12068f190>"
      ]
     },
     "execution_count": 52,
     "metadata": {},
     "output_type": "execute_result"
    }
   ],
   "source": [
    "df.groupby('city').temperature"
   ]
  },
  {
   "cell_type": "code",
   "execution_count": 53,
   "id": "58604a90",
   "metadata": {},
   "outputs": [
    {
     "data": {
      "text/plain": [
       "city\n",
       "karachi    10\n",
       "lahore      5\n",
       "murree     -7\n",
       "Name: temperature, dtype: int64"
      ]
     },
     "execution_count": 53,
     "metadata": {},
     "output_type": "execute_result"
    }
   ],
   "source": [
    "df.groupby('city').temperature.min()"
   ]
  },
  {
   "cell_type": "code",
   "execution_count": null,
   "id": "c5511cf2",
   "metadata": {},
   "outputs": [],
   "source": [
    "df.columns"
   ]
  },
  {
   "cell_type": "code",
   "execution_count": 70,
   "id": "e3325138",
   "metadata": {},
   "outputs": [],
   "source": [
    "# df.groupby('city')['temperature','humidity'].agg(['count','max','min','mean'])"
   ]
  },
  {
   "cell_type": "markdown",
   "id": "104e0f3c",
   "metadata": {},
   "source": [
    ">- **We can also apply `agg()` method on the temperature series of all the dataframes inside the DataFrameGroupBy object**"
   ]
  },
  {
   "cell_type": "code",
   "execution_count": 54,
   "id": "fd047429",
   "metadata": {},
   "outputs": [
    {
     "data": {
      "text/html": [
       "<div>\n",
       "<style scoped>\n",
       "    .dataframe tbody tr th:only-of-type {\n",
       "        vertical-align: middle;\n",
       "    }\n",
       "\n",
       "    .dataframe tbody tr th {\n",
       "        vertical-align: top;\n",
       "    }\n",
       "\n",
       "    .dataframe thead th {\n",
       "        text-align: right;\n",
       "    }\n",
       "</style>\n",
       "<table border=\"1\" class=\"dataframe\">\n",
       "  <thead>\n",
       "    <tr style=\"text-align: right;\">\n",
       "      <th></th>\n",
       "      <th>min</th>\n",
       "      <th>max</th>\n",
       "      <th>sum</th>\n",
       "      <th>mean</th>\n",
       "    </tr>\n",
       "    <tr>\n",
       "      <th>city</th>\n",
       "      <th></th>\n",
       "      <th></th>\n",
       "      <th></th>\n",
       "      <th></th>\n",
       "    </tr>\n",
       "  </thead>\n",
       "  <tbody>\n",
       "    <tr>\n",
       "      <th>karachi</th>\n",
       "      <td>10</td>\n",
       "      <td>18</td>\n",
       "      <td>71</td>\n",
       "      <td>14.2</td>\n",
       "    </tr>\n",
       "    <tr>\n",
       "      <th>lahore</th>\n",
       "      <td>5</td>\n",
       "      <td>12</td>\n",
       "      <td>41</td>\n",
       "      <td>8.2</td>\n",
       "    </tr>\n",
       "    <tr>\n",
       "      <th>murree</th>\n",
       "      <td>-7</td>\n",
       "      <td>-1</td>\n",
       "      <td>-20</td>\n",
       "      <td>-4.0</td>\n",
       "    </tr>\n",
       "  </tbody>\n",
       "</table>\n",
       "</div>"
      ],
      "text/plain": [
       "         min  max  sum  mean\n",
       "city                        \n",
       "karachi   10   18   71  14.2\n",
       "lahore     5   12   41   8.2\n",
       "murree    -7   -1  -20  -4.0"
      ]
     },
     "execution_count": 54,
     "metadata": {},
     "output_type": "execute_result"
    }
   ],
   "source": [
    "df.groupby('city').temperature.agg(['min', 'max', 'sum', 'mean'])"
   ]
  },
  {
   "cell_type": "markdown",
   "id": "908e2c72",
   "metadata": {},
   "source": [
    ">Note that we have got a dataframe this time."
   ]
  },
  {
   "cell_type": "code",
   "execution_count": null,
   "id": "94101a3b",
   "metadata": {},
   "outputs": [],
   "source": []
  },
  {
   "cell_type": "markdown",
   "id": "b5f491f4",
   "metadata": {},
   "source": [
    "## 4. Practice GroupBy on Stack Overflow Survey Dataset\n",
    "Visit to Download Data: https://insights.stackoverflow.com/survey/"
   ]
  },
  {
   "cell_type": "code",
   "execution_count": 56,
   "id": "12fdafcf",
   "metadata": {},
   "outputs": [
    {
     "name": "stdout",
     "output_type": "stream",
     "text": [
      "Automobile_data.csv\n",
      "Euro_2012_stats_TEAM.csv\n",
      "avengers1.csv\n",
      "\u001b[31mbig_mart_sales.csv\u001b[m\u001b[m\n",
      "\u001b[31mbig_mart_sales_with_multiple_sheets.xlsx\u001b[m\u001b[m\n",
      "\u001b[31mboxplot.csv\u001b[m\u001b[m\n",
      "\u001b[31mbrain_networks.csv\u001b[m\u001b[m\n",
      "\u001b[31mcar_crashes.csv\u001b[m\u001b[m\n",
      "cardekho_dataset.csv\n",
      "checkpoint1.csv\n",
      "checkpoint2.csv\n",
      "checkpoint3.csv\n",
      "\u001b[31mclassmarks.csv\u001b[m\u001b[m\n",
      "\u001b[31mclassmarks.xlsx\u001b[m\u001b[m\n",
      "classmarksgroupB.csv\n",
      "\u001b[31mclassmarkswithoutcollabels.csv\u001b[m\u001b[m\n",
      "\u001b[31mclassmarkswithtab.csv\u001b[m\u001b[m\n",
      "\u001b[31mclassmarkswithtopcomments.csv\u001b[m\u001b[m\n",
      "data.csv\n",
      "\u001b[31mdata0.txt\u001b[m\u001b[m\n",
      "\u001b[31mdata1.txt\u001b[m\u001b[m\n",
      "datawithdelimiter.csv\n",
      "drinks.csv\n",
      "\u001b[31mgroupbydata1.csv\u001b[m\u001b[m\n",
      "\u001b[31mgroupbydata2.csv\u001b[m\u001b[m\n",
      "\u001b[31mgroupbydata3.csv\u001b[m\u001b[m\n",
      "\u001b[31mgroupdata.csv\u001b[m\u001b[m\n",
      "imdb.txt\n",
      "long-beach-output.txt\n",
      "long-beach.txt\n",
      "my_csv.csv\n",
      "\u001b[31mpeople.csv\u001b[m\u001b[m\n",
      "practice\n",
      "recent-grads.csv\n",
      "\u001b[31msimple.json\u001b[m\u001b[m\n",
      "\u001b[31msimple_records.json\u001b[m\u001b[m\n",
      "\u001b[31mso_survey_subset.csv\u001b[m\u001b[m\n",
      "\u001b[31mso_survey_subset_schema.csv\u001b[m\u001b[m\n",
      "student.csv\n",
      "temp copy.xlsx\n",
      "temp.json\n",
      "temp.xlsx\n",
      "\u001b[31mtips.csv\u001b[m\u001b[m\n",
      "u.user\n"
     ]
    }
   ],
   "source": [
    "!ls datasets"
   ]
  },
  {
   "cell_type": "markdown",
   "id": "5f02fc6d",
   "metadata": {},
   "source": [
    "### a. Understand the Data Set"
   ]
  },
  {
   "cell_type": "code",
   "execution_count": 55,
   "id": "2313a7da",
   "metadata": {},
   "outputs": [
    {
     "data": {
      "text/plain": [
       "(88883, 9)"
      ]
     },
     "execution_count": 55,
     "metadata": {},
     "output_type": "execute_result"
    }
   ],
   "source": [
    "import pandas as pd\n",
    "df = pd.read_csv('datasets/so_survey_subset.csv', index_col='Respondent')\n",
    "df.shape"
   ]
  },
  {
   "cell_type": "code",
   "execution_count": 57,
   "id": "adb21c6b",
   "metadata": {},
   "outputs": [
    {
     "data": {
      "text/html": [
       "<div>\n",
       "<style scoped>\n",
       "    .dataframe tbody tr th:only-of-type {\n",
       "        vertical-align: middle;\n",
       "    }\n",
       "\n",
       "    .dataframe tbody tr th {\n",
       "        vertical-align: top;\n",
       "    }\n",
       "\n",
       "    .dataframe thead th {\n",
       "        text-align: right;\n",
       "    }\n",
       "</style>\n",
       "<table border=\"1\" class=\"dataframe\">\n",
       "  <thead>\n",
       "    <tr style=\"text-align: right;\">\n",
       "      <th></th>\n",
       "      <th>MainBranch</th>\n",
       "      <th>Hobbyist</th>\n",
       "      <th>Country</th>\n",
       "      <th>YearsCode</th>\n",
       "      <th>ConvertedComp</th>\n",
       "      <th>LanguageWorkedWith</th>\n",
       "      <th>SocialMedia</th>\n",
       "      <th>Age</th>\n",
       "      <th>Gender</th>\n",
       "    </tr>\n",
       "    <tr>\n",
       "      <th>Respondent</th>\n",
       "      <th></th>\n",
       "      <th></th>\n",
       "      <th></th>\n",
       "      <th></th>\n",
       "      <th></th>\n",
       "      <th></th>\n",
       "      <th></th>\n",
       "      <th></th>\n",
       "      <th></th>\n",
       "    </tr>\n",
       "  </thead>\n",
       "  <tbody>\n",
       "    <tr>\n",
       "      <th>1</th>\n",
       "      <td>I am a student who is learning to code</td>\n",
       "      <td>Yes</td>\n",
       "      <td>United Kingdom</td>\n",
       "      <td>4</td>\n",
       "      <td>NaN</td>\n",
       "      <td>HTML/CSS;Java;JavaScript;Python</td>\n",
       "      <td>Twitter</td>\n",
       "      <td>14.0</td>\n",
       "      <td>Man</td>\n",
       "    </tr>\n",
       "    <tr>\n",
       "      <th>2</th>\n",
       "      <td>I am a student who is learning to code</td>\n",
       "      <td>No</td>\n",
       "      <td>Bosnia and Herzegovina</td>\n",
       "      <td>NaN</td>\n",
       "      <td>NaN</td>\n",
       "      <td>C++;HTML/CSS;Python</td>\n",
       "      <td>Instagram</td>\n",
       "      <td>19.0</td>\n",
       "      <td>Man</td>\n",
       "    </tr>\n",
       "    <tr>\n",
       "      <th>3</th>\n",
       "      <td>I am not primarily a developer, but I write co...</td>\n",
       "      <td>Yes</td>\n",
       "      <td>Thailand</td>\n",
       "      <td>3</td>\n",
       "      <td>8820.0</td>\n",
       "      <td>HTML/CSS</td>\n",
       "      <td>Reddit</td>\n",
       "      <td>28.0</td>\n",
       "      <td>Man</td>\n",
       "    </tr>\n",
       "    <tr>\n",
       "      <th>4</th>\n",
       "      <td>I am a developer by profession</td>\n",
       "      <td>No</td>\n",
       "      <td>United States</td>\n",
       "      <td>3</td>\n",
       "      <td>61000.0</td>\n",
       "      <td>C;C++;C#;Python;SQL</td>\n",
       "      <td>Reddit</td>\n",
       "      <td>22.0</td>\n",
       "      <td>Man</td>\n",
       "    </tr>\n",
       "    <tr>\n",
       "      <th>5</th>\n",
       "      <td>I am a developer by profession</td>\n",
       "      <td>Yes</td>\n",
       "      <td>Ukraine</td>\n",
       "      <td>16</td>\n",
       "      <td>NaN</td>\n",
       "      <td>C++;HTML/CSS;Java;JavaScript;Python;SQL;VBA</td>\n",
       "      <td>Facebook</td>\n",
       "      <td>30.0</td>\n",
       "      <td>Man</td>\n",
       "    </tr>\n",
       "  </tbody>\n",
       "</table>\n",
       "</div>"
      ],
      "text/plain": [
       "                                                   MainBranch Hobbyist  \\\n",
       "Respondent                                                               \n",
       "1                      I am a student who is learning to code      Yes   \n",
       "2                      I am a student who is learning to code       No   \n",
       "3           I am not primarily a developer, but I write co...      Yes   \n",
       "4                              I am a developer by profession       No   \n",
       "5                              I am a developer by profession      Yes   \n",
       "\n",
       "                           Country YearsCode  ConvertedComp  \\\n",
       "Respondent                                                    \n",
       "1                   United Kingdom         4            NaN   \n",
       "2           Bosnia and Herzegovina       NaN            NaN   \n",
       "3                         Thailand         3         8820.0   \n",
       "4                    United States         3        61000.0   \n",
       "5                          Ukraine        16            NaN   \n",
       "\n",
       "                                     LanguageWorkedWith SocialMedia   Age  \\\n",
       "Respondent                                                                  \n",
       "1                       HTML/CSS;Java;JavaScript;Python     Twitter  14.0   \n",
       "2                                   C++;HTML/CSS;Python   Instagram  19.0   \n",
       "3                                              HTML/CSS      Reddit  28.0   \n",
       "4                                   C;C++;C#;Python;SQL      Reddit  22.0   \n",
       "5           C++;HTML/CSS;Java;JavaScript;Python;SQL;VBA    Facebook  30.0   \n",
       "\n",
       "           Gender  \n",
       "Respondent         \n",
       "1             Man  \n",
       "2             Man  \n",
       "3             Man  \n",
       "4             Man  \n",
       "5             Man  "
      ]
     },
     "execution_count": 57,
     "metadata": {},
     "output_type": "execute_result"
    }
   ],
   "source": [
    "df.head()"
   ]
  },
  {
   "cell_type": "code",
   "execution_count": 58,
   "id": "28cdee5e",
   "metadata": {},
   "outputs": [
    {
     "data": {
      "text/plain": [
       "Index(['MainBranch', 'Hobbyist', 'Country', 'YearsCode', 'ConvertedComp',\n",
       "       'LanguageWorkedWith', 'SocialMedia', 'Age', 'Gender'],\n",
       "      dtype='object')"
      ]
     },
     "execution_count": 58,
     "metadata": {},
     "output_type": "execute_result"
    }
   ],
   "source": [
    "df.columns"
   ]
  },
  {
   "cell_type": "code",
   "execution_count": 59,
   "id": "ec266fd1",
   "metadata": {},
   "outputs": [
    {
     "name": "stdout",
     "output_type": "stream",
     "text": [
      "<class 'pandas.core.frame.DataFrame'>\n",
      "Index: 88883 entries, 1 to 88863\n",
      "Data columns (total 9 columns):\n",
      " #   Column              Non-Null Count  Dtype  \n",
      "---  ------              --------------  -----  \n",
      " 0   MainBranch          88331 non-null  object \n",
      " 1   Hobbyist            88883 non-null  object \n",
      " 2   Country             88751 non-null  object \n",
      " 3   YearsCode           87938 non-null  object \n",
      " 4   ConvertedComp       55823 non-null  float64\n",
      " 5   LanguageWorkedWith  87569 non-null  object \n",
      " 6   SocialMedia         84437 non-null  object \n",
      " 7   Age                 79210 non-null  float64\n",
      " 8   Gender              85406 non-null  object \n",
      "dtypes: float64(2), object(7)\n",
      "memory usage: 6.8+ MB\n"
     ]
    }
   ],
   "source": [
    "df.info()"
   ]
  },
  {
   "cell_type": "code",
   "execution_count": 60,
   "id": "f6071d60-9ef1-4ff7-81ef-3152cfe57c5d",
   "metadata": {},
   "outputs": [
    {
     "data": {
      "text/plain": [
       "MainBranch              552\n",
       "Hobbyist                  0\n",
       "Country                 132\n",
       "YearsCode               945\n",
       "ConvertedComp         33060\n",
       "LanguageWorkedWith     1314\n",
       "SocialMedia            4446\n",
       "Age                    9673\n",
       "Gender                 3477\n",
       "dtype: int64"
      ]
     },
     "execution_count": 60,
     "metadata": {},
     "output_type": "execute_result"
    }
   ],
   "source": [
    "df.isna().sum()"
   ]
  },
  {
   "cell_type": "code",
   "execution_count": 61,
   "id": "8f57232a-e1bb-4dbd-a4b2-6730840506bd",
   "metadata": {},
   "outputs": [
    {
     "data": {
      "text/plain": [
       "Respondent\n",
       "1                United Kingdom\n",
       "2        Bosnia and Herzegovina\n",
       "3                      Thailand\n",
       "4                 United States\n",
       "5                       Ukraine\n",
       "                  ...          \n",
       "88377                    Canada\n",
       "88601                       NaN\n",
       "88802                       NaN\n",
       "88816                       NaN\n",
       "88863                     Spain\n",
       "Name: Country, Length: 88883, dtype: object"
      ]
     },
     "execution_count": 61,
     "metadata": {},
     "output_type": "execute_result"
    }
   ],
   "source": [
    "df.Country"
   ]
  },
  {
   "cell_type": "code",
   "execution_count": 62,
   "id": "c34d0173",
   "metadata": {},
   "outputs": [
    {
     "data": {
      "text/html": [
       "<div>\n",
       "<style scoped>\n",
       "    .dataframe tbody tr th:only-of-type {\n",
       "        vertical-align: middle;\n",
       "    }\n",
       "\n",
       "    .dataframe tbody tr th {\n",
       "        vertical-align: top;\n",
       "    }\n",
       "\n",
       "    .dataframe thead th {\n",
       "        text-align: right;\n",
       "    }\n",
       "</style>\n",
       "<table border=\"1\" class=\"dataframe\">\n",
       "  <thead>\n",
       "    <tr style=\"text-align: right;\">\n",
       "      <th></th>\n",
       "      <th>MainBranch</th>\n",
       "      <th>Hobbyist</th>\n",
       "      <th>Country</th>\n",
       "      <th>YearsCode</th>\n",
       "      <th>ConvertedComp</th>\n",
       "      <th>LanguageWorkedWith</th>\n",
       "      <th>SocialMedia</th>\n",
       "      <th>Age</th>\n",
       "      <th>Gender</th>\n",
       "    </tr>\n",
       "    <tr>\n",
       "      <th>Respondent</th>\n",
       "      <th></th>\n",
       "      <th></th>\n",
       "      <th></th>\n",
       "      <th></th>\n",
       "      <th></th>\n",
       "      <th></th>\n",
       "      <th></th>\n",
       "      <th></th>\n",
       "      <th></th>\n",
       "    </tr>\n",
       "  </thead>\n",
       "  <tbody>\n",
       "    <tr>\n",
       "      <th>84</th>\n",
       "      <td>I am a developer by profession</td>\n",
       "      <td>No</td>\n",
       "      <td>Pakistan</td>\n",
       "      <td>3</td>\n",
       "      <td>3468.0</td>\n",
       "      <td>C;C++;C#;Java;Kotlin;PHP;SQL</td>\n",
       "      <td>WhatsApp</td>\n",
       "      <td>26.0</td>\n",
       "      <td>Man</td>\n",
       "    </tr>\n",
       "    <tr>\n",
       "      <th>119</th>\n",
       "      <td>I am a developer by profession</td>\n",
       "      <td>No</td>\n",
       "      <td>Pakistan</td>\n",
       "      <td>10</td>\n",
       "      <td>NaN</td>\n",
       "      <td>C;C++;C#;HTML/CSS;Java;JavaScript;SQL</td>\n",
       "      <td>Facebook</td>\n",
       "      <td>28.0</td>\n",
       "      <td>Man</td>\n",
       "    </tr>\n",
       "    <tr>\n",
       "      <th>298</th>\n",
       "      <td>I am a developer by profession</td>\n",
       "      <td>Yes</td>\n",
       "      <td>Pakistan</td>\n",
       "      <td>4</td>\n",
       "      <td>NaN</td>\n",
       "      <td>HTML/CSS;JavaScript;PHP;SQL;Other(s):</td>\n",
       "      <td>LinkedIn</td>\n",
       "      <td>23.0</td>\n",
       "      <td>Man</td>\n",
       "    </tr>\n",
       "    <tr>\n",
       "      <th>299</th>\n",
       "      <td>I am a developer by profession</td>\n",
       "      <td>Yes</td>\n",
       "      <td>Pakistan</td>\n",
       "      <td>19</td>\n",
       "      <td>NaN</td>\n",
       "      <td>Assembly;C;C++;Java;Python;SQL</td>\n",
       "      <td>Facebook</td>\n",
       "      <td>25.0</td>\n",
       "      <td>Man</td>\n",
       "    </tr>\n",
       "    <tr>\n",
       "      <th>311</th>\n",
       "      <td>I am a developer by profession</td>\n",
       "      <td>No</td>\n",
       "      <td>Pakistan</td>\n",
       "      <td>5</td>\n",
       "      <td>2600.0</td>\n",
       "      <td>Assembly;C;C++;C#;HTML/CSS;Java;Python;Scala;SQL</td>\n",
       "      <td>LinkedIn</td>\n",
       "      <td>24.0</td>\n",
       "      <td>Man</td>\n",
       "    </tr>\n",
       "    <tr>\n",
       "      <th>...</th>\n",
       "      <td>...</td>\n",
       "      <td>...</td>\n",
       "      <td>...</td>\n",
       "      <td>...</td>\n",
       "      <td>...</td>\n",
       "      <td>...</td>\n",
       "      <td>...</td>\n",
       "      <td>...</td>\n",
       "      <td>...</td>\n",
       "    </tr>\n",
       "    <tr>\n",
       "      <th>88862</th>\n",
       "      <td>I am a student who is learning to code</td>\n",
       "      <td>Yes</td>\n",
       "      <td>Pakistan</td>\n",
       "      <td>3</td>\n",
       "      <td>NaN</td>\n",
       "      <td>Java</td>\n",
       "      <td>WhatsApp</td>\n",
       "      <td>21.0</td>\n",
       "      <td>Man</td>\n",
       "    </tr>\n",
       "    <tr>\n",
       "      <th>5439</th>\n",
       "      <td>NaN</td>\n",
       "      <td>Yes</td>\n",
       "      <td>Pakistan</td>\n",
       "      <td>2</td>\n",
       "      <td>NaN</td>\n",
       "      <td>NaN</td>\n",
       "      <td>Instagram</td>\n",
       "      <td>24.0</td>\n",
       "      <td>Woman</td>\n",
       "    </tr>\n",
       "    <tr>\n",
       "      <th>39117</th>\n",
       "      <td>NaN</td>\n",
       "      <td>Yes</td>\n",
       "      <td>Pakistan</td>\n",
       "      <td>4</td>\n",
       "      <td>NaN</td>\n",
       "      <td>C;C++;C#;HTML/CSS;Java;JavaScript;SQL</td>\n",
       "      <td>WhatsApp</td>\n",
       "      <td>22.0</td>\n",
       "      <td>Man</td>\n",
       "    </tr>\n",
       "    <tr>\n",
       "      <th>60066</th>\n",
       "      <td>NaN</td>\n",
       "      <td>Yes</td>\n",
       "      <td>Pakistan</td>\n",
       "      <td>4</td>\n",
       "      <td>NaN</td>\n",
       "      <td>Assembly;C++;C#;HTML/CSS;Java;PHP;Python;SQL</td>\n",
       "      <td>YouTube</td>\n",
       "      <td>20.0</td>\n",
       "      <td>Man</td>\n",
       "    </tr>\n",
       "    <tr>\n",
       "      <th>88182</th>\n",
       "      <td>NaN</td>\n",
       "      <td>Yes</td>\n",
       "      <td>Pakistan</td>\n",
       "      <td>1</td>\n",
       "      <td>NaN</td>\n",
       "      <td>HTML/CSS;Java;JavaScript</td>\n",
       "      <td>Twitter</td>\n",
       "      <td>NaN</td>\n",
       "      <td>Man</td>\n",
       "    </tr>\n",
       "  </tbody>\n",
       "</table>\n",
       "<p>923 rows × 9 columns</p>\n",
       "</div>"
      ],
      "text/plain": [
       "                                        MainBranch Hobbyist   Country  \\\n",
       "Respondent                                                              \n",
       "84                  I am a developer by profession       No  Pakistan   \n",
       "119                 I am a developer by profession       No  Pakistan   \n",
       "298                 I am a developer by profession      Yes  Pakistan   \n",
       "299                 I am a developer by profession      Yes  Pakistan   \n",
       "311                 I am a developer by profession       No  Pakistan   \n",
       "...                                            ...      ...       ...   \n",
       "88862       I am a student who is learning to code      Yes  Pakistan   \n",
       "5439                                           NaN      Yes  Pakistan   \n",
       "39117                                          NaN      Yes  Pakistan   \n",
       "60066                                          NaN      Yes  Pakistan   \n",
       "88182                                          NaN      Yes  Pakistan   \n",
       "\n",
       "           YearsCode  ConvertedComp  \\\n",
       "Respondent                            \n",
       "84                 3         3468.0   \n",
       "119               10            NaN   \n",
       "298                4            NaN   \n",
       "299               19            NaN   \n",
       "311                5         2600.0   \n",
       "...              ...            ...   \n",
       "88862              3            NaN   \n",
       "5439               2            NaN   \n",
       "39117              4            NaN   \n",
       "60066              4            NaN   \n",
       "88182              1            NaN   \n",
       "\n",
       "                                          LanguageWorkedWith SocialMedia  \\\n",
       "Respondent                                                                 \n",
       "84                              C;C++;C#;Java;Kotlin;PHP;SQL    WhatsApp   \n",
       "119                    C;C++;C#;HTML/CSS;Java;JavaScript;SQL    Facebook   \n",
       "298                    HTML/CSS;JavaScript;PHP;SQL;Other(s):    LinkedIn   \n",
       "299                           Assembly;C;C++;Java;Python;SQL    Facebook   \n",
       "311         Assembly;C;C++;C#;HTML/CSS;Java;Python;Scala;SQL    LinkedIn   \n",
       "...                                                      ...         ...   \n",
       "88862                                                   Java    WhatsApp   \n",
       "5439                                                     NaN   Instagram   \n",
       "39117                  C;C++;C#;HTML/CSS;Java;JavaScript;SQL    WhatsApp   \n",
       "60066           Assembly;C++;C#;HTML/CSS;Java;PHP;Python;SQL     YouTube   \n",
       "88182                               HTML/CSS;Java;JavaScript     Twitter   \n",
       "\n",
       "             Age Gender  \n",
       "Respondent               \n",
       "84          26.0    Man  \n",
       "119         28.0    Man  \n",
       "298         23.0    Man  \n",
       "299         25.0    Man  \n",
       "311         24.0    Man  \n",
       "...          ...    ...  \n",
       "88862       21.0    Man  \n",
       "5439        24.0  Woman  \n",
       "39117       22.0    Man  \n",
       "60066       20.0    Man  \n",
       "88182        NaN    Man  \n",
       "\n",
       "[923 rows x 9 columns]"
      ]
     },
     "execution_count": 62,
     "metadata": {},
     "output_type": "execute_result"
    }
   ],
   "source": [
    "# First method\n",
    "df[df.Country =='Pakistan']"
   ]
  },
  {
   "cell_type": "code",
   "execution_count": null,
   "id": "aed11320",
   "metadata": {},
   "outputs": [],
   "source": [
    "df.loc[df['Country']=='Pakistan', :]"
   ]
  },
  {
   "cell_type": "markdown",
   "id": "e34a0538-f345-41eb-bba1-5a6bcc45626e",
   "metadata": {},
   "source": [
    "#### Question: Drop all the rows where any element is missing?"
   ]
  },
  {
   "cell_type": "code",
   "execution_count": 63,
   "id": "f2a3d79c-01fe-4a59-a1ba-9a0c9f48ddbf",
   "metadata": {},
   "outputs": [
    {
     "data": {
      "text/plain": [
       "(88883, 9)"
      ]
     },
     "execution_count": 63,
     "metadata": {},
     "output_type": "execute_result"
    }
   ],
   "source": [
    "df.shape"
   ]
  },
  {
   "cell_type": "code",
   "execution_count": 64,
   "id": "d61221b2-d814-4d58-9faa-7e42ba2441bd",
   "metadata": {},
   "outputs": [
    {
     "data": {
      "text/html": [
       "<div>\n",
       "<style scoped>\n",
       "    .dataframe tbody tr th:only-of-type {\n",
       "        vertical-align: middle;\n",
       "    }\n",
       "\n",
       "    .dataframe tbody tr th {\n",
       "        vertical-align: top;\n",
       "    }\n",
       "\n",
       "    .dataframe thead th {\n",
       "        text-align: right;\n",
       "    }\n",
       "</style>\n",
       "<table border=\"1\" class=\"dataframe\">\n",
       "  <thead>\n",
       "    <tr style=\"text-align: right;\">\n",
       "      <th></th>\n",
       "      <th>MainBranch</th>\n",
       "      <th>Hobbyist</th>\n",
       "      <th>Country</th>\n",
       "      <th>YearsCode</th>\n",
       "      <th>ConvertedComp</th>\n",
       "      <th>LanguageWorkedWith</th>\n",
       "      <th>SocialMedia</th>\n",
       "      <th>Age</th>\n",
       "      <th>Gender</th>\n",
       "    </tr>\n",
       "    <tr>\n",
       "      <th>Respondent</th>\n",
       "      <th></th>\n",
       "      <th></th>\n",
       "      <th></th>\n",
       "      <th></th>\n",
       "      <th></th>\n",
       "      <th></th>\n",
       "      <th></th>\n",
       "      <th></th>\n",
       "      <th></th>\n",
       "    </tr>\n",
       "  </thead>\n",
       "  <tbody>\n",
       "    <tr>\n",
       "      <th>3</th>\n",
       "      <td>I am not primarily a developer, but I write co...</td>\n",
       "      <td>Yes</td>\n",
       "      <td>Thailand</td>\n",
       "      <td>3</td>\n",
       "      <td>8820.0</td>\n",
       "      <td>HTML/CSS</td>\n",
       "      <td>Reddit</td>\n",
       "      <td>28.0</td>\n",
       "      <td>Man</td>\n",
       "    </tr>\n",
       "    <tr>\n",
       "      <th>4</th>\n",
       "      <td>I am a developer by profession</td>\n",
       "      <td>No</td>\n",
       "      <td>United States</td>\n",
       "      <td>3</td>\n",
       "      <td>61000.0</td>\n",
       "      <td>C;C++;C#;Python;SQL</td>\n",
       "      <td>Reddit</td>\n",
       "      <td>22.0</td>\n",
       "      <td>Man</td>\n",
       "    </tr>\n",
       "    <tr>\n",
       "      <th>6</th>\n",
       "      <td>I am not primarily a developer, but I write co...</td>\n",
       "      <td>Yes</td>\n",
       "      <td>Canada</td>\n",
       "      <td>13</td>\n",
       "      <td>366420.0</td>\n",
       "      <td>Java;R;SQL</td>\n",
       "      <td>YouTube</td>\n",
       "      <td>28.0</td>\n",
       "      <td>Man</td>\n",
       "    </tr>\n",
       "    <tr>\n",
       "      <th>9</th>\n",
       "      <td>I am a developer by profession</td>\n",
       "      <td>Yes</td>\n",
       "      <td>New Zealand</td>\n",
       "      <td>12</td>\n",
       "      <td>95179.0</td>\n",
       "      <td>Bash/Shell/PowerShell;C#;HTML/CSS;JavaScript;P...</td>\n",
       "      <td>Twitter</td>\n",
       "      <td>23.0</td>\n",
       "      <td>Man</td>\n",
       "    </tr>\n",
       "    <tr>\n",
       "      <th>13</th>\n",
       "      <td>I am a developer by profession</td>\n",
       "      <td>Yes</td>\n",
       "      <td>United States</td>\n",
       "      <td>17</td>\n",
       "      <td>90000.0</td>\n",
       "      <td>Bash/Shell/PowerShell;HTML/CSS;JavaScript;PHP;...</td>\n",
       "      <td>Twitter</td>\n",
       "      <td>28.0</td>\n",
       "      <td>Man</td>\n",
       "    </tr>\n",
       "    <tr>\n",
       "      <th>...</th>\n",
       "      <td>...</td>\n",
       "      <td>...</td>\n",
       "      <td>...</td>\n",
       "      <td>...</td>\n",
       "      <td>...</td>\n",
       "      <td>...</td>\n",
       "      <td>...</td>\n",
       "      <td>...</td>\n",
       "      <td>...</td>\n",
       "    </tr>\n",
       "    <tr>\n",
       "      <th>88876</th>\n",
       "      <td>I am a developer by profession</td>\n",
       "      <td>Yes</td>\n",
       "      <td>United States</td>\n",
       "      <td>8</td>\n",
       "      <td>180000.0</td>\n",
       "      <td>Bash/Shell/PowerShell;C#;HTML/CSS;Java;Python;...</td>\n",
       "      <td>Reddit</td>\n",
       "      <td>23.0</td>\n",
       "      <td>Man</td>\n",
       "    </tr>\n",
       "    <tr>\n",
       "      <th>88877</th>\n",
       "      <td>I am a developer by profession</td>\n",
       "      <td>Yes</td>\n",
       "      <td>United States</td>\n",
       "      <td>31</td>\n",
       "      <td>2000000.0</td>\n",
       "      <td>Bash/Shell/PowerShell;C;Clojure;HTML/CSS;Java;...</td>\n",
       "      <td>Facebook</td>\n",
       "      <td>48.0</td>\n",
       "      <td>Man</td>\n",
       "    </tr>\n",
       "    <tr>\n",
       "      <th>88878</th>\n",
       "      <td>I am a developer by profession</td>\n",
       "      <td>Yes</td>\n",
       "      <td>United States</td>\n",
       "      <td>12</td>\n",
       "      <td>130000.0</td>\n",
       "      <td>HTML/CSS;JavaScript;Scala;TypeScript</td>\n",
       "      <td>Twitter</td>\n",
       "      <td>26.0</td>\n",
       "      <td>Man</td>\n",
       "    </tr>\n",
       "    <tr>\n",
       "      <th>88879</th>\n",
       "      <td>I am a developer by profession</td>\n",
       "      <td>Yes</td>\n",
       "      <td>Finland</td>\n",
       "      <td>17</td>\n",
       "      <td>82488.0</td>\n",
       "      <td>Bash/Shell/PowerShell;C++;Python</td>\n",
       "      <td>YouTube</td>\n",
       "      <td>34.0</td>\n",
       "      <td>Man</td>\n",
       "    </tr>\n",
       "    <tr>\n",
       "      <th>88883</th>\n",
       "      <td>I am a developer by profession</td>\n",
       "      <td>Yes</td>\n",
       "      <td>Greece</td>\n",
       "      <td>9</td>\n",
       "      <td>22915.0</td>\n",
       "      <td>Go;HTML/CSS;Java;JavaScript;Other(s):</td>\n",
       "      <td>Reddit</td>\n",
       "      <td>33.0</td>\n",
       "      <td>Man</td>\n",
       "    </tr>\n",
       "  </tbody>\n",
       "</table>\n",
       "<p>50763 rows × 9 columns</p>\n",
       "</div>"
      ],
      "text/plain": [
       "                                                   MainBranch Hobbyist  \\\n",
       "Respondent                                                               \n",
       "3           I am not primarily a developer, but I write co...      Yes   \n",
       "4                              I am a developer by profession       No   \n",
       "6           I am not primarily a developer, but I write co...      Yes   \n",
       "9                              I am a developer by profession      Yes   \n",
       "13                             I am a developer by profession      Yes   \n",
       "...                                                       ...      ...   \n",
       "88876                          I am a developer by profession      Yes   \n",
       "88877                          I am a developer by profession      Yes   \n",
       "88878                          I am a developer by profession      Yes   \n",
       "88879                          I am a developer by profession      Yes   \n",
       "88883                          I am a developer by profession      Yes   \n",
       "\n",
       "                  Country YearsCode  ConvertedComp  \\\n",
       "Respondent                                           \n",
       "3                Thailand         3         8820.0   \n",
       "4           United States         3        61000.0   \n",
       "6                  Canada        13       366420.0   \n",
       "9             New Zealand        12        95179.0   \n",
       "13          United States        17        90000.0   \n",
       "...                   ...       ...            ...   \n",
       "88876       United States         8       180000.0   \n",
       "88877       United States        31      2000000.0   \n",
       "88878       United States        12       130000.0   \n",
       "88879             Finland        17        82488.0   \n",
       "88883              Greece         9        22915.0   \n",
       "\n",
       "                                           LanguageWorkedWith SocialMedia  \\\n",
       "Respondent                                                                  \n",
       "3                                                    HTML/CSS      Reddit   \n",
       "4                                         C;C++;C#;Python;SQL      Reddit   \n",
       "6                                                  Java;R;SQL     YouTube   \n",
       "9           Bash/Shell/PowerShell;C#;HTML/CSS;JavaScript;P...     Twitter   \n",
       "13          Bash/Shell/PowerShell;HTML/CSS;JavaScript;PHP;...     Twitter   \n",
       "...                                                       ...         ...   \n",
       "88876       Bash/Shell/PowerShell;C#;HTML/CSS;Java;Python;...      Reddit   \n",
       "88877       Bash/Shell/PowerShell;C;Clojure;HTML/CSS;Java;...    Facebook   \n",
       "88878                    HTML/CSS;JavaScript;Scala;TypeScript     Twitter   \n",
       "88879                        Bash/Shell/PowerShell;C++;Python     YouTube   \n",
       "88883                   Go;HTML/CSS;Java;JavaScript;Other(s):      Reddit   \n",
       "\n",
       "             Age Gender  \n",
       "Respondent               \n",
       "3           28.0    Man  \n",
       "4           22.0    Man  \n",
       "6           28.0    Man  \n",
       "9           23.0    Man  \n",
       "13          28.0    Man  \n",
       "...          ...    ...  \n",
       "88876       23.0    Man  \n",
       "88877       48.0    Man  \n",
       "88878       26.0    Man  \n",
       "88879       34.0    Man  \n",
       "88883       33.0    Man  \n",
       "\n",
       "[50763 rows x 9 columns]"
      ]
     },
     "execution_count": 64,
     "metadata": {},
     "output_type": "execute_result"
    }
   ],
   "source": [
    "# df.isna()\n",
    "import numpy as np\n",
    "# df.where(np.nan)\n",
    "# df.loc[df.isna(),:]\n",
    "df.dropna()"
   ]
  },
  {
   "cell_type": "code",
   "execution_count": null,
   "id": "8999fd3d",
   "metadata": {},
   "outputs": [],
   "source": []
  },
  {
   "cell_type": "code",
   "execution_count": 65,
   "id": "600d2e20",
   "metadata": {},
   "outputs": [
    {
     "data": {
      "text/html": [
       "<div>\n",
       "<style scoped>\n",
       "    .dataframe tbody tr th:only-of-type {\n",
       "        vertical-align: middle;\n",
       "    }\n",
       "\n",
       "    .dataframe tbody tr th {\n",
       "        vertical-align: top;\n",
       "    }\n",
       "\n",
       "    .dataframe thead th {\n",
       "        text-align: right;\n",
       "    }\n",
       "</style>\n",
       "<table border=\"1\" class=\"dataframe\">\n",
       "  <thead>\n",
       "    <tr style=\"text-align: right;\">\n",
       "      <th></th>\n",
       "      <th>QuestionText</th>\n",
       "    </tr>\n",
       "    <tr>\n",
       "      <th>Column</th>\n",
       "      <th></th>\n",
       "    </tr>\n",
       "  </thead>\n",
       "  <tbody>\n",
       "    <tr>\n",
       "      <th>Respondent</th>\n",
       "      <td>Randomized respondent ID number (not in order ...</td>\n",
       "    </tr>\n",
       "    <tr>\n",
       "      <th>MainBranch</th>\n",
       "      <td>Which of the following options best describes ...</td>\n",
       "    </tr>\n",
       "    <tr>\n",
       "      <th>Hobbyist</th>\n",
       "      <td>Do you code as a hobby?</td>\n",
       "    </tr>\n",
       "    <tr>\n",
       "      <th>Country</th>\n",
       "      <td>In which country do you currently reside?</td>\n",
       "    </tr>\n",
       "    <tr>\n",
       "      <th>YearsCode</th>\n",
       "      <td>Including any education, how many years have y...</td>\n",
       "    </tr>\n",
       "    <tr>\n",
       "      <th>ConvertedComp</th>\n",
       "      <td>Salary converted to annual USD salaries using ...</td>\n",
       "    </tr>\n",
       "    <tr>\n",
       "      <th>LanguageWorkedWith</th>\n",
       "      <td>Which of the following programming, scripting,...</td>\n",
       "    </tr>\n",
       "    <tr>\n",
       "      <th>SocialMedia</th>\n",
       "      <td>What social media site do you use the most?</td>\n",
       "    </tr>\n",
       "    <tr>\n",
       "      <th>Age</th>\n",
       "      <td>What is your age (in years)? If you prefer not...</td>\n",
       "    </tr>\n",
       "    <tr>\n",
       "      <th>Gender</th>\n",
       "      <td>Which of the following do you currently identi...</td>\n",
       "    </tr>\n",
       "  </tbody>\n",
       "</table>\n",
       "</div>"
      ],
      "text/plain": [
       "                                                         QuestionText\n",
       "Column                                                               \n",
       "Respondent          Randomized respondent ID number (not in order ...\n",
       "MainBranch          Which of the following options best describes ...\n",
       "Hobbyist                                      Do you code as a hobby?\n",
       "Country                     In which country do you currently reside?\n",
       "YearsCode           Including any education, how many years have y...\n",
       "ConvertedComp       Salary converted to annual USD salaries using ...\n",
       "LanguageWorkedWith  Which of the following programming, scripting,...\n",
       "SocialMedia               What social media site do you use the most?\n",
       "Age                 What is your age (in years)? If you prefer not...\n",
       "Gender              Which of the following do you currently identi..."
      ]
     },
     "execution_count": 65,
     "metadata": {},
     "output_type": "execute_result"
    }
   ],
   "source": [
    "import pandas as pd\n",
    "schema = pd.read_csv('datasets/so_survey_subset_schema.csv', index_col='Column')\n",
    "schema"
   ]
  },
  {
   "cell_type": "code",
   "execution_count": null,
   "id": "5429f2d0",
   "metadata": {},
   "outputs": [],
   "source": []
  },
  {
   "cell_type": "code",
   "execution_count": null,
   "id": "146eb97a",
   "metadata": {},
   "outputs": [],
   "source": [
    "schema.loc['Hobbyist']"
   ]
  },
  {
   "cell_type": "code",
   "execution_count": null,
   "id": "bf6d798f",
   "metadata": {},
   "outputs": [],
   "source": [
    "df['Hobbyist']"
   ]
  },
  {
   "cell_type": "code",
   "execution_count": null,
   "id": "28946f82",
   "metadata": {},
   "outputs": [],
   "source": []
  },
  {
   "cell_type": "code",
   "execution_count": null,
   "id": "54ddb6cf",
   "metadata": {},
   "outputs": [],
   "source": [
    "schema.loc['Country']"
   ]
  },
  {
   "cell_type": "code",
   "execution_count": null,
   "id": "55a8ee40",
   "metadata": {},
   "outputs": [],
   "source": [
    "df['Country']"
   ]
  },
  {
   "cell_type": "code",
   "execution_count": null,
   "id": "c98c33e1",
   "metadata": {},
   "outputs": [],
   "source": []
  },
  {
   "cell_type": "code",
   "execution_count": null,
   "id": "8ad3de2b",
   "metadata": {},
   "outputs": [],
   "source": [
    "schema.loc['ConvertedComp']"
   ]
  },
  {
   "cell_type": "code",
   "execution_count": null,
   "id": "40df4193",
   "metadata": {},
   "outputs": [],
   "source": [
    "df['ConvertedComp']"
   ]
  },
  {
   "cell_type": "code",
   "execution_count": null,
   "id": "f2c3819d",
   "metadata": {},
   "outputs": [],
   "source": []
  },
  {
   "cell_type": "code",
   "execution_count": null,
   "id": "6f1899a1",
   "metadata": {},
   "outputs": [],
   "source": [
    "schema.loc['LanguageWorkedWith']"
   ]
  },
  {
   "cell_type": "code",
   "execution_count": null,
   "id": "4ef88604",
   "metadata": {},
   "outputs": [],
   "source": [
    "!cat datasets/so_survey_subset_schema.csv"
   ]
  },
  {
   "cell_type": "code",
   "execution_count": null,
   "id": "7fa61427",
   "metadata": {},
   "outputs": [],
   "source": [
    "df['LanguageWorkedWith']"
   ]
  },
  {
   "cell_type": "code",
   "execution_count": null,
   "id": "dbd881f9",
   "metadata": {},
   "outputs": [],
   "source": []
  },
  {
   "cell_type": "code",
   "execution_count": null,
   "id": "7bd2f021",
   "metadata": {},
   "outputs": [],
   "source": [
    "schema.loc['SocialMedia']"
   ]
  },
  {
   "cell_type": "code",
   "execution_count": null,
   "id": "bb7d90c9",
   "metadata": {},
   "outputs": [],
   "source": [
    "df['SocialMedia']"
   ]
  },
  {
   "cell_type": "code",
   "execution_count": null,
   "id": "38ee282a",
   "metadata": {},
   "outputs": [],
   "source": [
    "df.dtypes"
   ]
  },
  {
   "cell_type": "code",
   "execution_count": null,
   "id": "da4a81c4",
   "metadata": {},
   "outputs": [],
   "source": []
  },
  {
   "cell_type": "markdown",
   "id": "bc9d4cfb",
   "metadata": {},
   "source": [
    "##### Let us perform some basic statistical analysis on the Dataset"
   ]
  },
  {
   "cell_type": "code",
   "execution_count": null,
   "id": "2096bf5e",
   "metadata": {},
   "outputs": [],
   "source": []
  },
  {
   "cell_type": "code",
   "execution_count": 66,
   "id": "35f48c5d",
   "metadata": {},
   "outputs": [
    {
     "data": {
      "text/plain": [
       "np.int64(88883)"
      ]
     },
     "execution_count": 66,
     "metadata": {},
     "output_type": "execute_result"
    }
   ],
   "source": [
    "# Returns the count of non-NA values for a series object.\n",
    "df['Hobbyist'].count()"
   ]
  },
  {
   "cell_type": "code",
   "execution_count": 67,
   "id": "fe766e4c",
   "metadata": {},
   "outputs": [
    {
     "data": {
      "text/plain": [
       "Hobbyist\n",
       "Yes    71257\n",
       "No     17626\n",
       "Name: count, dtype: int64"
      ]
     },
     "execution_count": 67,
     "metadata": {},
     "output_type": "execute_result"
    }
   ],
   "source": [
    "# Returns a Series containing counts of unique rows.\n",
    "df['Hobbyist'].value_counts()"
   ]
  },
  {
   "cell_type": "code",
   "execution_count": null,
   "id": "abac191b",
   "metadata": {},
   "outputs": [],
   "source": []
  },
  {
   "cell_type": "code",
   "execution_count": null,
   "id": "650bd519",
   "metadata": {},
   "outputs": [],
   "source": [
    "# Returns the count of non-NA values for a series object.\n",
    "df['Country'].count()"
   ]
  },
  {
   "cell_type": "code",
   "execution_count": null,
   "id": "4aaea5b1",
   "metadata": {},
   "outputs": [],
   "source": [
    "# Returns a Series containing counts of unique rows.\n",
    "df['Country'].value_counts()"
   ]
  },
  {
   "cell_type": "code",
   "execution_count": null,
   "id": "08ea6534-6b8a-4a50-bd8e-eb6aa825b3c3",
   "metadata": {},
   "outputs": [],
   "source": []
  },
  {
   "cell_type": "code",
   "execution_count": null,
   "id": "9f92e355-52b9-4ba1-974a-4837d1780b4f",
   "metadata": {},
   "outputs": [],
   "source": [
    "df['SocialMedia'].value_counts()"
   ]
  },
  {
   "cell_type": "code",
   "execution_count": null,
   "id": "d6f31ecf-8288-4ae4-bab8-716119c852b6",
   "metadata": {},
   "outputs": [],
   "source": [
    "df['Gender'].value_counts()"
   ]
  },
  {
   "cell_type": "code",
   "execution_count": null,
   "id": "097b96e7-8cb3-4e16-a516-89f9228ea43d",
   "metadata": {},
   "outputs": [],
   "source": []
  },
  {
   "cell_type": "code",
   "execution_count": null,
   "id": "148993f8-91f2-40cf-b699-a22ebbd2ec92",
   "metadata": {},
   "outputs": [],
   "source": []
  },
  {
   "cell_type": "code",
   "execution_count": null,
   "id": "cb207abc-ff01-49c3-890e-6cb9118d2b29",
   "metadata": {},
   "outputs": [],
   "source": []
  },
  {
   "cell_type": "markdown",
   "id": "65f769b4",
   "metadata": {},
   "source": [
    "### To get the count of countries whose developers participated in the survey"
   ]
  },
  {
   "cell_type": "code",
   "execution_count": 68,
   "id": "6b91f3cf",
   "metadata": {},
   "outputs": [
    {
     "data": {
      "text/plain": [
       "np.int64(179)"
      ]
     },
     "execution_count": 68,
     "metadata": {},
     "output_type": "execute_result"
    }
   ],
   "source": [
    "df['Country'].value_counts().count()"
   ]
  },
  {
   "cell_type": "code",
   "execution_count": null,
   "id": "aa4e378e",
   "metadata": {},
   "outputs": [],
   "source": []
  },
  {
   "cell_type": "code",
   "execution_count": null,
   "id": "fc48a1f7",
   "metadata": {},
   "outputs": [],
   "source": [
    "# Returns the count of non-NA values for a series object.\n",
    "df['ConvertedComp'].count()"
   ]
  },
  {
   "cell_type": "code",
   "execution_count": null,
   "id": "eb34078c",
   "metadata": {},
   "outputs": [],
   "source": [
    "# Returns a Series containing counts of unique rows.\n",
    "df['ConvertedComp'].value_counts()"
   ]
  },
  {
   "cell_type": "code",
   "execution_count": null,
   "id": "34dde858",
   "metadata": {},
   "outputs": [],
   "source": [
    "df['ConvertedComp'].mean()"
   ]
  },
  {
   "cell_type": "code",
   "execution_count": null,
   "id": "f91267c0",
   "metadata": {},
   "outputs": [],
   "source": [
    "df['ConvertedComp'].median()"
   ]
  },
  {
   "cell_type": "code",
   "execution_count": null,
   "id": "f48e6608",
   "metadata": {},
   "outputs": [],
   "source": []
  },
  {
   "cell_type": "code",
   "execution_count": null,
   "id": "755b50b5",
   "metadata": {},
   "outputs": [],
   "source": [
    "df.describe()"
   ]
  },
  {
   "cell_type": "code",
   "execution_count": null,
   "id": "0fe690a2",
   "metadata": {},
   "outputs": [],
   "source": []
  },
  {
   "cell_type": "markdown",
   "id": "94e974b1",
   "metadata": {},
   "source": [
    "<h1 align=\"center\">Let us try answering certain Questions</h1>"
   ]
  },
  {
   "cell_type": "code",
   "execution_count": null,
   "id": "f561cf90",
   "metadata": {},
   "outputs": [],
   "source": []
  },
  {
   "cell_type": "markdown",
   "id": "1e75db36",
   "metadata": {},
   "source": [
    "##  Question 1: \n",
    ">**List the most popular SocialMedia web site for every Country**"
   ]
  },
  {
   "cell_type": "markdown",
   "id": "557059b6",
   "metadata": {},
   "source": [
    "**Let us first  do the easy task, and that is to list the most popular SocialMedia website of a single country (lets say Pakistan)**"
   ]
  },
  {
   "cell_type": "code",
   "execution_count": 69,
   "id": "def1798a",
   "metadata": {},
   "outputs": [
    {
     "data": {
      "text/html": [
       "<div>\n",
       "<style scoped>\n",
       "    .dataframe tbody tr th:only-of-type {\n",
       "        vertical-align: middle;\n",
       "    }\n",
       "\n",
       "    .dataframe tbody tr th {\n",
       "        vertical-align: top;\n",
       "    }\n",
       "\n",
       "    .dataframe thead th {\n",
       "        text-align: right;\n",
       "    }\n",
       "</style>\n",
       "<table border=\"1\" class=\"dataframe\">\n",
       "  <thead>\n",
       "    <tr style=\"text-align: right;\">\n",
       "      <th></th>\n",
       "      <th>MainBranch</th>\n",
       "      <th>Hobbyist</th>\n",
       "      <th>Country</th>\n",
       "      <th>YearsCode</th>\n",
       "      <th>ConvertedComp</th>\n",
       "      <th>LanguageWorkedWith</th>\n",
       "      <th>SocialMedia</th>\n",
       "      <th>Age</th>\n",
       "      <th>Gender</th>\n",
       "    </tr>\n",
       "    <tr>\n",
       "      <th>Respondent</th>\n",
       "      <th></th>\n",
       "      <th></th>\n",
       "      <th></th>\n",
       "      <th></th>\n",
       "      <th></th>\n",
       "      <th></th>\n",
       "      <th></th>\n",
       "      <th></th>\n",
       "      <th></th>\n",
       "    </tr>\n",
       "  </thead>\n",
       "  <tbody>\n",
       "    <tr>\n",
       "      <th>84</th>\n",
       "      <td>I am a developer by profession</td>\n",
       "      <td>No</td>\n",
       "      <td>Pakistan</td>\n",
       "      <td>3</td>\n",
       "      <td>3468.0</td>\n",
       "      <td>C;C++;C#;Java;Kotlin;PHP;SQL</td>\n",
       "      <td>WhatsApp</td>\n",
       "      <td>26.0</td>\n",
       "      <td>Man</td>\n",
       "    </tr>\n",
       "    <tr>\n",
       "      <th>119</th>\n",
       "      <td>I am a developer by profession</td>\n",
       "      <td>No</td>\n",
       "      <td>Pakistan</td>\n",
       "      <td>10</td>\n",
       "      <td>NaN</td>\n",
       "      <td>C;C++;C#;HTML/CSS;Java;JavaScript;SQL</td>\n",
       "      <td>Facebook</td>\n",
       "      <td>28.0</td>\n",
       "      <td>Man</td>\n",
       "    </tr>\n",
       "    <tr>\n",
       "      <th>298</th>\n",
       "      <td>I am a developer by profession</td>\n",
       "      <td>Yes</td>\n",
       "      <td>Pakistan</td>\n",
       "      <td>4</td>\n",
       "      <td>NaN</td>\n",
       "      <td>HTML/CSS;JavaScript;PHP;SQL;Other(s):</td>\n",
       "      <td>LinkedIn</td>\n",
       "      <td>23.0</td>\n",
       "      <td>Man</td>\n",
       "    </tr>\n",
       "    <tr>\n",
       "      <th>299</th>\n",
       "      <td>I am a developer by profession</td>\n",
       "      <td>Yes</td>\n",
       "      <td>Pakistan</td>\n",
       "      <td>19</td>\n",
       "      <td>NaN</td>\n",
       "      <td>Assembly;C;C++;Java;Python;SQL</td>\n",
       "      <td>Facebook</td>\n",
       "      <td>25.0</td>\n",
       "      <td>Man</td>\n",
       "    </tr>\n",
       "    <tr>\n",
       "      <th>311</th>\n",
       "      <td>I am a developer by profession</td>\n",
       "      <td>No</td>\n",
       "      <td>Pakistan</td>\n",
       "      <td>5</td>\n",
       "      <td>2600.0</td>\n",
       "      <td>Assembly;C;C++;C#;HTML/CSS;Java;Python;Scala;SQL</td>\n",
       "      <td>LinkedIn</td>\n",
       "      <td>24.0</td>\n",
       "      <td>Man</td>\n",
       "    </tr>\n",
       "    <tr>\n",
       "      <th>...</th>\n",
       "      <td>...</td>\n",
       "      <td>...</td>\n",
       "      <td>...</td>\n",
       "      <td>...</td>\n",
       "      <td>...</td>\n",
       "      <td>...</td>\n",
       "      <td>...</td>\n",
       "      <td>...</td>\n",
       "      <td>...</td>\n",
       "    </tr>\n",
       "    <tr>\n",
       "      <th>88862</th>\n",
       "      <td>I am a student who is learning to code</td>\n",
       "      <td>Yes</td>\n",
       "      <td>Pakistan</td>\n",
       "      <td>3</td>\n",
       "      <td>NaN</td>\n",
       "      <td>Java</td>\n",
       "      <td>WhatsApp</td>\n",
       "      <td>21.0</td>\n",
       "      <td>Man</td>\n",
       "    </tr>\n",
       "    <tr>\n",
       "      <th>5439</th>\n",
       "      <td>NaN</td>\n",
       "      <td>Yes</td>\n",
       "      <td>Pakistan</td>\n",
       "      <td>2</td>\n",
       "      <td>NaN</td>\n",
       "      <td>NaN</td>\n",
       "      <td>Instagram</td>\n",
       "      <td>24.0</td>\n",
       "      <td>Woman</td>\n",
       "    </tr>\n",
       "    <tr>\n",
       "      <th>39117</th>\n",
       "      <td>NaN</td>\n",
       "      <td>Yes</td>\n",
       "      <td>Pakistan</td>\n",
       "      <td>4</td>\n",
       "      <td>NaN</td>\n",
       "      <td>C;C++;C#;HTML/CSS;Java;JavaScript;SQL</td>\n",
       "      <td>WhatsApp</td>\n",
       "      <td>22.0</td>\n",
       "      <td>Man</td>\n",
       "    </tr>\n",
       "    <tr>\n",
       "      <th>60066</th>\n",
       "      <td>NaN</td>\n",
       "      <td>Yes</td>\n",
       "      <td>Pakistan</td>\n",
       "      <td>4</td>\n",
       "      <td>NaN</td>\n",
       "      <td>Assembly;C++;C#;HTML/CSS;Java;PHP;Python;SQL</td>\n",
       "      <td>YouTube</td>\n",
       "      <td>20.0</td>\n",
       "      <td>Man</td>\n",
       "    </tr>\n",
       "    <tr>\n",
       "      <th>88182</th>\n",
       "      <td>NaN</td>\n",
       "      <td>Yes</td>\n",
       "      <td>Pakistan</td>\n",
       "      <td>1</td>\n",
       "      <td>NaN</td>\n",
       "      <td>HTML/CSS;Java;JavaScript</td>\n",
       "      <td>Twitter</td>\n",
       "      <td>NaN</td>\n",
       "      <td>Man</td>\n",
       "    </tr>\n",
       "  </tbody>\n",
       "</table>\n",
       "<p>923 rows × 9 columns</p>\n",
       "</div>"
      ],
      "text/plain": [
       "                                        MainBranch Hobbyist   Country  \\\n",
       "Respondent                                                              \n",
       "84                  I am a developer by profession       No  Pakistan   \n",
       "119                 I am a developer by profession       No  Pakistan   \n",
       "298                 I am a developer by profession      Yes  Pakistan   \n",
       "299                 I am a developer by profession      Yes  Pakistan   \n",
       "311                 I am a developer by profession       No  Pakistan   \n",
       "...                                            ...      ...       ...   \n",
       "88862       I am a student who is learning to code      Yes  Pakistan   \n",
       "5439                                           NaN      Yes  Pakistan   \n",
       "39117                                          NaN      Yes  Pakistan   \n",
       "60066                                          NaN      Yes  Pakistan   \n",
       "88182                                          NaN      Yes  Pakistan   \n",
       "\n",
       "           YearsCode  ConvertedComp  \\\n",
       "Respondent                            \n",
       "84                 3         3468.0   \n",
       "119               10            NaN   \n",
       "298                4            NaN   \n",
       "299               19            NaN   \n",
       "311                5         2600.0   \n",
       "...              ...            ...   \n",
       "88862              3            NaN   \n",
       "5439               2            NaN   \n",
       "39117              4            NaN   \n",
       "60066              4            NaN   \n",
       "88182              1            NaN   \n",
       "\n",
       "                                          LanguageWorkedWith SocialMedia  \\\n",
       "Respondent                                                                 \n",
       "84                              C;C++;C#;Java;Kotlin;PHP;SQL    WhatsApp   \n",
       "119                    C;C++;C#;HTML/CSS;Java;JavaScript;SQL    Facebook   \n",
       "298                    HTML/CSS;JavaScript;PHP;SQL;Other(s):    LinkedIn   \n",
       "299                           Assembly;C;C++;Java;Python;SQL    Facebook   \n",
       "311         Assembly;C;C++;C#;HTML/CSS;Java;Python;Scala;SQL    LinkedIn   \n",
       "...                                                      ...         ...   \n",
       "88862                                                   Java    WhatsApp   \n",
       "5439                                                     NaN   Instagram   \n",
       "39117                  C;C++;C#;HTML/CSS;Java;JavaScript;SQL    WhatsApp   \n",
       "60066           Assembly;C++;C#;HTML/CSS;Java;PHP;Python;SQL     YouTube   \n",
       "88182                               HTML/CSS;Java;JavaScript     Twitter   \n",
       "\n",
       "             Age Gender  \n",
       "Respondent               \n",
       "84          26.0    Man  \n",
       "119         28.0    Man  \n",
       "298         23.0    Man  \n",
       "299         25.0    Man  \n",
       "311         24.0    Man  \n",
       "...          ...    ...  \n",
       "88862       21.0    Man  \n",
       "5439        24.0  Woman  \n",
       "39117       22.0    Man  \n",
       "60066       20.0    Man  \n",
       "88182        NaN    Man  \n",
       "\n",
       "[923 rows x 9 columns]"
      ]
     },
     "execution_count": 69,
     "metadata": {},
     "output_type": "execute_result"
    }
   ],
   "source": [
    "df[df.Country=='Pakistan']"
   ]
  },
  {
   "cell_type": "code",
   "execution_count": 70,
   "id": "e0708fd9",
   "metadata": {},
   "outputs": [
    {
     "data": {
      "text/plain": [
       "Respondent\n",
       "84        WhatsApp\n",
       "119       Facebook\n",
       "298       LinkedIn\n",
       "299       Facebook\n",
       "311       LinkedIn\n",
       "           ...    \n",
       "88862     WhatsApp\n",
       "5439     Instagram\n",
       "39117     WhatsApp\n",
       "60066      YouTube\n",
       "88182      Twitter\n",
       "Name: SocialMedia, Length: 923, dtype: object"
      ]
     },
     "execution_count": 70,
     "metadata": {},
     "output_type": "execute_result"
    }
   ],
   "source": [
    "df.loc[df.Country=='Pakistan', 'SocialMedia']"
   ]
  },
  {
   "cell_type": "code",
   "execution_count": 71,
   "id": "ff96c957",
   "metadata": {},
   "outputs": [
    {
     "data": {
      "text/plain": [
       "SocialMedia\n",
       "WhatsApp                    266\n",
       "Facebook                    232\n",
       "YouTube                     182\n",
       "LinkedIn                     71\n",
       "Twitter                      58\n",
       "Instagram                    41\n",
       "Reddit                       28\n",
       "I don't use social media     23\n",
       "Snapchat                      5\n",
       "Hello                         1\n",
       "VK ВКонта́кте                 1\n",
       "Name: count, dtype: int64"
      ]
     },
     "execution_count": 71,
     "metadata": {},
     "output_type": "execute_result"
    }
   ],
   "source": [
    "df.loc[df.Country=='Pakistan', 'SocialMedia'].value_counts()"
   ]
  },
  {
   "cell_type": "code",
   "execution_count": null,
   "id": "c03f3c87",
   "metadata": {},
   "outputs": [],
   "source": [
    "df.columns"
   ]
  },
  {
   "cell_type": "code",
   "execution_count": 72,
   "id": "cee2784f-2f00-4d64-990a-b71dbcde539f",
   "metadata": {},
   "outputs": [
    {
     "data": {
      "text/html": [
       "<div>\n",
       "<style scoped>\n",
       "    .dataframe tbody tr th:only-of-type {\n",
       "        vertical-align: middle;\n",
       "    }\n",
       "\n",
       "    .dataframe tbody tr th {\n",
       "        vertical-align: top;\n",
       "    }\n",
       "\n",
       "    .dataframe thead th {\n",
       "        text-align: right;\n",
       "    }\n",
       "</style>\n",
       "<table border=\"1\" class=\"dataframe\">\n",
       "  <thead>\n",
       "    <tr style=\"text-align: right;\">\n",
       "      <th></th>\n",
       "      <th>MainBranch</th>\n",
       "      <th>Hobbyist</th>\n",
       "      <th>Country</th>\n",
       "      <th>YearsCode</th>\n",
       "      <th>ConvertedComp</th>\n",
       "      <th>LanguageWorkedWith</th>\n",
       "      <th>SocialMedia</th>\n",
       "      <th>Age</th>\n",
       "      <th>Gender</th>\n",
       "    </tr>\n",
       "    <tr>\n",
       "      <th>Respondent</th>\n",
       "      <th></th>\n",
       "      <th></th>\n",
       "      <th></th>\n",
       "      <th></th>\n",
       "      <th></th>\n",
       "      <th></th>\n",
       "      <th></th>\n",
       "      <th></th>\n",
       "      <th></th>\n",
       "    </tr>\n",
       "  </thead>\n",
       "  <tbody>\n",
       "    <tr>\n",
       "      <th>84</th>\n",
       "      <td>I am a developer by profession</td>\n",
       "      <td>No</td>\n",
       "      <td>Pakistan</td>\n",
       "      <td>3</td>\n",
       "      <td>3468.0</td>\n",
       "      <td>C;C++;C#;Java;Kotlin;PHP;SQL</td>\n",
       "      <td>WhatsApp</td>\n",
       "      <td>26.0</td>\n",
       "      <td>Man</td>\n",
       "    </tr>\n",
       "    <tr>\n",
       "      <th>119</th>\n",
       "      <td>I am a developer by profession</td>\n",
       "      <td>No</td>\n",
       "      <td>Pakistan</td>\n",
       "      <td>10</td>\n",
       "      <td>NaN</td>\n",
       "      <td>C;C++;C#;HTML/CSS;Java;JavaScript;SQL</td>\n",
       "      <td>Facebook</td>\n",
       "      <td>28.0</td>\n",
       "      <td>Man</td>\n",
       "    </tr>\n",
       "    <tr>\n",
       "      <th>298</th>\n",
       "      <td>I am a developer by profession</td>\n",
       "      <td>Yes</td>\n",
       "      <td>Pakistan</td>\n",
       "      <td>4</td>\n",
       "      <td>NaN</td>\n",
       "      <td>HTML/CSS;JavaScript;PHP;SQL;Other(s):</td>\n",
       "      <td>LinkedIn</td>\n",
       "      <td>23.0</td>\n",
       "      <td>Man</td>\n",
       "    </tr>\n",
       "    <tr>\n",
       "      <th>299</th>\n",
       "      <td>I am a developer by profession</td>\n",
       "      <td>Yes</td>\n",
       "      <td>Pakistan</td>\n",
       "      <td>19</td>\n",
       "      <td>NaN</td>\n",
       "      <td>Assembly;C;C++;Java;Python;SQL</td>\n",
       "      <td>Facebook</td>\n",
       "      <td>25.0</td>\n",
       "      <td>Man</td>\n",
       "    </tr>\n",
       "    <tr>\n",
       "      <th>311</th>\n",
       "      <td>I am a developer by profession</td>\n",
       "      <td>No</td>\n",
       "      <td>Pakistan</td>\n",
       "      <td>5</td>\n",
       "      <td>2600.0</td>\n",
       "      <td>Assembly;C;C++;C#;HTML/CSS;Java;Python;Scala;SQL</td>\n",
       "      <td>LinkedIn</td>\n",
       "      <td>24.0</td>\n",
       "      <td>Man</td>\n",
       "    </tr>\n",
       "    <tr>\n",
       "      <th>...</th>\n",
       "      <td>...</td>\n",
       "      <td>...</td>\n",
       "      <td>...</td>\n",
       "      <td>...</td>\n",
       "      <td>...</td>\n",
       "      <td>...</td>\n",
       "      <td>...</td>\n",
       "      <td>...</td>\n",
       "      <td>...</td>\n",
       "    </tr>\n",
       "    <tr>\n",
       "      <th>88862</th>\n",
       "      <td>I am a student who is learning to code</td>\n",
       "      <td>Yes</td>\n",
       "      <td>Pakistan</td>\n",
       "      <td>3</td>\n",
       "      <td>NaN</td>\n",
       "      <td>Java</td>\n",
       "      <td>WhatsApp</td>\n",
       "      <td>21.0</td>\n",
       "      <td>Man</td>\n",
       "    </tr>\n",
       "    <tr>\n",
       "      <th>5439</th>\n",
       "      <td>NaN</td>\n",
       "      <td>Yes</td>\n",
       "      <td>Pakistan</td>\n",
       "      <td>2</td>\n",
       "      <td>NaN</td>\n",
       "      <td>NaN</td>\n",
       "      <td>Instagram</td>\n",
       "      <td>24.0</td>\n",
       "      <td>Woman</td>\n",
       "    </tr>\n",
       "    <tr>\n",
       "      <th>39117</th>\n",
       "      <td>NaN</td>\n",
       "      <td>Yes</td>\n",
       "      <td>Pakistan</td>\n",
       "      <td>4</td>\n",
       "      <td>NaN</td>\n",
       "      <td>C;C++;C#;HTML/CSS;Java;JavaScript;SQL</td>\n",
       "      <td>WhatsApp</td>\n",
       "      <td>22.0</td>\n",
       "      <td>Man</td>\n",
       "    </tr>\n",
       "    <tr>\n",
       "      <th>60066</th>\n",
       "      <td>NaN</td>\n",
       "      <td>Yes</td>\n",
       "      <td>Pakistan</td>\n",
       "      <td>4</td>\n",
       "      <td>NaN</td>\n",
       "      <td>Assembly;C++;C#;HTML/CSS;Java;PHP;Python;SQL</td>\n",
       "      <td>YouTube</td>\n",
       "      <td>20.0</td>\n",
       "      <td>Man</td>\n",
       "    </tr>\n",
       "    <tr>\n",
       "      <th>88182</th>\n",
       "      <td>NaN</td>\n",
       "      <td>Yes</td>\n",
       "      <td>Pakistan</td>\n",
       "      <td>1</td>\n",
       "      <td>NaN</td>\n",
       "      <td>HTML/CSS;Java;JavaScript</td>\n",
       "      <td>Twitter</td>\n",
       "      <td>NaN</td>\n",
       "      <td>Man</td>\n",
       "    </tr>\n",
       "  </tbody>\n",
       "</table>\n",
       "<p>923 rows × 9 columns</p>\n",
       "</div>"
      ],
      "text/plain": [
       "                                        MainBranch Hobbyist   Country  \\\n",
       "Respondent                                                              \n",
       "84                  I am a developer by profession       No  Pakistan   \n",
       "119                 I am a developer by profession       No  Pakistan   \n",
       "298                 I am a developer by profession      Yes  Pakistan   \n",
       "299                 I am a developer by profession      Yes  Pakistan   \n",
       "311                 I am a developer by profession       No  Pakistan   \n",
       "...                                            ...      ...       ...   \n",
       "88862       I am a student who is learning to code      Yes  Pakistan   \n",
       "5439                                           NaN      Yes  Pakistan   \n",
       "39117                                          NaN      Yes  Pakistan   \n",
       "60066                                          NaN      Yes  Pakistan   \n",
       "88182                                          NaN      Yes  Pakistan   \n",
       "\n",
       "           YearsCode  ConvertedComp  \\\n",
       "Respondent                            \n",
       "84                 3         3468.0   \n",
       "119               10            NaN   \n",
       "298                4            NaN   \n",
       "299               19            NaN   \n",
       "311                5         2600.0   \n",
       "...              ...            ...   \n",
       "88862              3            NaN   \n",
       "5439               2            NaN   \n",
       "39117              4            NaN   \n",
       "60066              4            NaN   \n",
       "88182              1            NaN   \n",
       "\n",
       "                                          LanguageWorkedWith SocialMedia  \\\n",
       "Respondent                                                                 \n",
       "84                              C;C++;C#;Java;Kotlin;PHP;SQL    WhatsApp   \n",
       "119                    C;C++;C#;HTML/CSS;Java;JavaScript;SQL    Facebook   \n",
       "298                    HTML/CSS;JavaScript;PHP;SQL;Other(s):    LinkedIn   \n",
       "299                           Assembly;C;C++;Java;Python;SQL    Facebook   \n",
       "311         Assembly;C;C++;C#;HTML/CSS;Java;Python;Scala;SQL    LinkedIn   \n",
       "...                                                      ...         ...   \n",
       "88862                                                   Java    WhatsApp   \n",
       "5439                                                     NaN   Instagram   \n",
       "39117                  C;C++;C#;HTML/CSS;Java;JavaScript;SQL    WhatsApp   \n",
       "60066           Assembly;C++;C#;HTML/CSS;Java;PHP;Python;SQL     YouTube   \n",
       "88182                               HTML/CSS;Java;JavaScript     Twitter   \n",
       "\n",
       "             Age Gender  \n",
       "Respondent               \n",
       "84          26.0    Man  \n",
       "119         28.0    Man  \n",
       "298         23.0    Man  \n",
       "299         25.0    Man  \n",
       "311         24.0    Man  \n",
       "...          ...    ...  \n",
       "88862       21.0    Man  \n",
       "5439        24.0  Woman  \n",
       "39117       22.0    Man  \n",
       "60066       20.0    Man  \n",
       "88182        NaN    Man  \n",
       "\n",
       "[923 rows x 9 columns]"
      ]
     },
     "execution_count": 72,
     "metadata": {},
     "output_type": "execute_result"
    }
   ],
   "source": [
    "df.groupby('Country').get_group('Pakistan')"
   ]
  },
  {
   "cell_type": "code",
   "execution_count": 73,
   "id": "df9b825e",
   "metadata": {},
   "outputs": [
    {
     "data": {
      "text/plain": [
       "SocialMedia\n",
       "WeChat 微信                   403\n",
       "YouTube                      53\n",
       "Weibo 新浪微博                   42\n",
       "I don't use social media     27\n",
       "Twitter                      27\n",
       "Reddit                       12\n",
       "LinkedIn                     11\n",
       "Facebook                      8\n",
       "Instagram                     7\n",
       "Youku Tudou 优酷                7\n",
       "WhatsApp                      3\n",
       "VK ВКонта́кте                 1\n",
       "Name: count, dtype: int64"
      ]
     },
     "execution_count": 73,
     "metadata": {},
     "output_type": "execute_result"
    }
   ],
   "source": [
    "df.groupby('Country').get_group('China').loc[:,'SocialMedia'].value_counts()"
   ]
  },
  {
   "cell_type": "code",
   "execution_count": null,
   "id": "d54d37cb",
   "metadata": {},
   "outputs": [],
   "source": []
  },
  {
   "cell_type": "code",
   "execution_count": null,
   "id": "846ab59e",
   "metadata": {},
   "outputs": [],
   "source": []
  },
  {
   "cell_type": "code",
   "execution_count": 19,
   "id": "d65ad730",
   "metadata": {},
   "outputs": [],
   "source": [
    "# df.loc[df.Country =='Pakistan', :]\n",
    "# df.loc[df.Country =='Pakistan', 'SocialMedia'].head(10)\n",
    "# df.loc[df.Country =='Pakistan', 'SocialMedia'].value_counts()\n",
    "# df.loc[df.Country =='Pakistan', 'SocialMedia'].value_counts(normalize=True)\n",
    "# df.loc[df.Country =='Germany', 'SocialMedia'].value_counts()"
   ]
  },
  {
   "cell_type": "code",
   "execution_count": null,
   "id": "95b681b2",
   "metadata": {},
   "outputs": [],
   "source": []
  },
  {
   "cell_type": "code",
   "execution_count": null,
   "id": "54413fbf",
   "metadata": {},
   "outputs": [],
   "source": [
    "df.groupby('Country')"
   ]
  },
  {
   "cell_type": "code",
   "execution_count": null,
   "id": "a7cf5d90",
   "metadata": {},
   "outputs": [],
   "source": [
    "df.groupby('Country').get_group(\"Pakistan\").head()"
   ]
  },
  {
   "cell_type": "code",
   "execution_count": null,
   "id": "8bc1753e",
   "metadata": {},
   "outputs": [],
   "source": [
    "df.groupby('Country').get_group(\"Pakistan\").loc[:, 'SocialMedia']"
   ]
  },
  {
   "cell_type": "code",
   "execution_count": null,
   "id": "caa9a03c",
   "metadata": {},
   "outputs": [],
   "source": [
    "df.groupby('Country').get_group(\"Pakistan\").loc[:, 'SocialMedia'].value_counts()"
   ]
  },
  {
   "cell_type": "code",
   "execution_count": null,
   "id": "e57ac533-aebe-40a8-903c-2da57bb8b201",
   "metadata": {},
   "outputs": [],
   "source": []
  },
  {
   "cell_type": "code",
   "execution_count": 74,
   "id": "083d3d5f",
   "metadata": {},
   "outputs": [
    {
     "data": {
      "text/plain": [
       "Country      SocialMedia             \n",
       "Afghanistan  Facebook                    15\n",
       "             YouTube                      9\n",
       "             I don't use social media     6\n",
       "             WhatsApp                     4\n",
       "             Instagram                    1\n",
       "             LinkedIn                     1\n",
       "             Twitter                      1\n",
       "Albania      WhatsApp                    18\n",
       "             Facebook                    16\n",
       "             Instagram                   13\n",
       "             YouTube                     10\n",
       "             Twitter                      8\n",
       "             LinkedIn                     7\n",
       "             Reddit                       6\n",
       "             I don't use social media     4\n",
       "             Snapchat                     1\n",
       "             WeChat 微信                    1\n",
       "Algeria      YouTube                     42\n",
       "             Facebook                    41\n",
       "             Twitter                     14\n",
       "Name: count, dtype: int64"
      ]
     },
     "execution_count": 74,
     "metadata": {},
     "output_type": "execute_result"
    }
   ],
   "source": [
    "df.groupby('Country')['SocialMedia'].value_counts().head(20)"
   ]
  },
  {
   "cell_type": "code",
   "execution_count": 75,
   "id": "f8e521de",
   "metadata": {},
   "outputs": [
    {
     "data": {
      "text/plain": [
       "Country   SocialMedia\n",
       "Viet Nam  LinkedIn        3\n",
       "          WhatsApp        3\n",
       "          Hello           1\n",
       "Yemen     WhatsApp        8\n",
       "          Facebook        5\n",
       "          YouTube         5\n",
       "          Twitter         1\n",
       "Zambia    Facebook        4\n",
       "          Twitter         2\n",
       "          WhatsApp        2\n",
       "          YouTube         2\n",
       "          LinkedIn        1\n",
       "          Reddit          1\n",
       "Zimbabwe  WhatsApp       20\n",
       "          Twitter         8\n",
       "          Facebook        3\n",
       "          YouTube         3\n",
       "          Instagram       2\n",
       "          LinkedIn        2\n",
       "          Reddit          1\n",
       "Name: count, dtype: int64"
      ]
     },
     "execution_count": 75,
     "metadata": {},
     "output_type": "execute_result"
    }
   ],
   "source": [
    "df.groupby('Country')['SocialMedia'].value_counts().tail(20)"
   ]
  },
  {
   "cell_type": "code",
   "execution_count": null,
   "id": "4640ef13",
   "metadata": {},
   "outputs": [],
   "source": [
    "df.groupby('Country')['SocialMedia'].value_counts().head(30)"
   ]
  },
  {
   "cell_type": "code",
   "execution_count": 77,
   "id": "45db2fba",
   "metadata": {},
   "outputs": [
    {
     "data": {
      "text/plain": [
       "Country\n",
       "Tunisia                                        Facebook\n",
       "Libyan Arab Jamahiriya                         Facebook\n",
       "Egypt                                          Facebook\n",
       "Dominican Republic                             WhatsApp\n",
       "Slovakia                                       Facebook\n",
       "Sweden                                           Reddit\n",
       "Lebanon                                        WhatsApp\n",
       "Chad                           I don't use social media\n",
       "Malaysia                                       WhatsApp\n",
       "Costa Rica                                     WhatsApp\n",
       "Benin                                          WhatsApp\n",
       "Tonga                          I don't use social media\n",
       "Liberia                                        LinkedIn\n",
       "United Republic of Tanzania                    WhatsApp\n",
       "Croatia                                        WhatsApp\n",
       "Ecuador                                        WhatsApp\n",
       "Angola                                          Twitter\n",
       "Chile                                          WhatsApp\n",
       "Spain                                          WhatsApp\n",
       "Hungary                                        Facebook\n",
       "Sri Lanka                                      Facebook\n",
       "Israel                                         WhatsApp\n",
       "South Korea                                     YouTube\n",
       "Sudan                                          WhatsApp\n",
       "Turkey                                         WhatsApp\n",
       "Madagascar                                     Facebook\n",
       "Timor-Leste                                    Snapchat\n",
       "Brazil                                         WhatsApp\n",
       "Turkmenistan                                    YouTube\n",
       "Russian Federation                        VK ВКонта́кте\n",
       "Name: SocialMedia, dtype: object"
      ]
     },
     "execution_count": 77,
     "metadata": {},
     "output_type": "execute_result"
    }
   ],
   "source": [
    "df.groupby('Country')['SocialMedia'].apply(lambda x:x.value_counts().idxmax()).sample(30)"
   ]
  },
  {
   "cell_type": "code",
   "execution_count": 78,
   "id": "636dcad8-d3c2-408a-971e-89fdcbb9b64a",
   "metadata": {},
   "outputs": [
    {
     "data": {
      "text/plain": [
       "Country\n",
       "Afghanistan                                             Facebook\n",
       "Albania                                                 WhatsApp\n",
       "Algeria                                                  YouTube\n",
       "Andorra                                 I don't use social media\n",
       "Angola                                                   Twitter\n",
       "                                                  ...           \n",
       "Venezuela, Bolivarian Republic of...                    WhatsApp\n",
       "Viet Nam                                                Facebook\n",
       "Yemen                                                   WhatsApp\n",
       "Zambia                                                  Facebook\n",
       "Zimbabwe                                                WhatsApp\n",
       "Name: SocialMedia, Length: 179, dtype: object"
      ]
     },
     "execution_count": 78,
     "metadata": {},
     "output_type": "execute_result"
    }
   ],
   "source": [
    "df.groupby('Country')['SocialMedia'].apply(lambda x:x.value_counts().idxmax())"
   ]
  },
  {
   "cell_type": "markdown",
   "id": "f18c4077",
   "metadata": {},
   "source": [
    "##  Question 2: \n",
    ">**What percentage of people in each country knows Python programming?**"
   ]
  },
  {
   "cell_type": "markdown",
   "id": "128cbeb8",
   "metadata": {},
   "source": [
    "**tc** = Total count of people from each country who participated in the survey?\n",
    "\n",
    "**pc** = Python People: Count of people from each country who knows Python"
   ]
  },
  {
   "cell_type": "markdown",
   "id": "045b2e32",
   "metadata": {},
   "source": [
    "**tc (option 1):**"
   ]
  },
  {
   "cell_type": "code",
   "execution_count": 79,
   "id": "fef318d9",
   "metadata": {},
   "outputs": [
    {
     "data": {
      "text/html": [
       "<div>\n",
       "<style scoped>\n",
       "    .dataframe tbody tr th:only-of-type {\n",
       "        vertical-align: middle;\n",
       "    }\n",
       "\n",
       "    .dataframe tbody tr th {\n",
       "        vertical-align: top;\n",
       "    }\n",
       "\n",
       "    .dataframe thead th {\n",
       "        text-align: right;\n",
       "    }\n",
       "</style>\n",
       "<table border=\"1\" class=\"dataframe\">\n",
       "  <thead>\n",
       "    <tr style=\"text-align: right;\">\n",
       "      <th></th>\n",
       "      <th>MainBranch</th>\n",
       "      <th>Hobbyist</th>\n",
       "      <th>Country</th>\n",
       "      <th>YearsCode</th>\n",
       "      <th>ConvertedComp</th>\n",
       "      <th>LanguageWorkedWith</th>\n",
       "      <th>SocialMedia</th>\n",
       "      <th>Age</th>\n",
       "      <th>Gender</th>\n",
       "    </tr>\n",
       "    <tr>\n",
       "      <th>Respondent</th>\n",
       "      <th></th>\n",
       "      <th></th>\n",
       "      <th></th>\n",
       "      <th></th>\n",
       "      <th></th>\n",
       "      <th></th>\n",
       "      <th></th>\n",
       "      <th></th>\n",
       "      <th></th>\n",
       "    </tr>\n",
       "  </thead>\n",
       "  <tbody>\n",
       "    <tr>\n",
       "      <th>1</th>\n",
       "      <td>I am a student who is learning to code</td>\n",
       "      <td>Yes</td>\n",
       "      <td>United Kingdom</td>\n",
       "      <td>4</td>\n",
       "      <td>NaN</td>\n",
       "      <td>HTML/CSS;Java;JavaScript;Python</td>\n",
       "      <td>Twitter</td>\n",
       "      <td>14.0</td>\n",
       "      <td>Man</td>\n",
       "    </tr>\n",
       "    <tr>\n",
       "      <th>2</th>\n",
       "      <td>I am a student who is learning to code</td>\n",
       "      <td>No</td>\n",
       "      <td>Bosnia and Herzegovina</td>\n",
       "      <td>NaN</td>\n",
       "      <td>NaN</td>\n",
       "      <td>C++;HTML/CSS;Python</td>\n",
       "      <td>Instagram</td>\n",
       "      <td>19.0</td>\n",
       "      <td>Man</td>\n",
       "    </tr>\n",
       "    <tr>\n",
       "      <th>3</th>\n",
       "      <td>I am not primarily a developer, but I write co...</td>\n",
       "      <td>Yes</td>\n",
       "      <td>Thailand</td>\n",
       "      <td>3</td>\n",
       "      <td>8820.0</td>\n",
       "      <td>HTML/CSS</td>\n",
       "      <td>Reddit</td>\n",
       "      <td>28.0</td>\n",
       "      <td>Man</td>\n",
       "    </tr>\n",
       "    <tr>\n",
       "      <th>4</th>\n",
       "      <td>I am a developer by profession</td>\n",
       "      <td>No</td>\n",
       "      <td>United States</td>\n",
       "      <td>3</td>\n",
       "      <td>61000.0</td>\n",
       "      <td>C;C++;C#;Python;SQL</td>\n",
       "      <td>Reddit</td>\n",
       "      <td>22.0</td>\n",
       "      <td>Man</td>\n",
       "    </tr>\n",
       "    <tr>\n",
       "      <th>5</th>\n",
       "      <td>I am a developer by profession</td>\n",
       "      <td>Yes</td>\n",
       "      <td>Ukraine</td>\n",
       "      <td>16</td>\n",
       "      <td>NaN</td>\n",
       "      <td>C++;HTML/CSS;Java;JavaScript;Python;SQL;VBA</td>\n",
       "      <td>Facebook</td>\n",
       "      <td>30.0</td>\n",
       "      <td>Man</td>\n",
       "    </tr>\n",
       "    <tr>\n",
       "      <th>...</th>\n",
       "      <td>...</td>\n",
       "      <td>...</td>\n",
       "      <td>...</td>\n",
       "      <td>...</td>\n",
       "      <td>...</td>\n",
       "      <td>...</td>\n",
       "      <td>...</td>\n",
       "      <td>...</td>\n",
       "      <td>...</td>\n",
       "    </tr>\n",
       "    <tr>\n",
       "      <th>88377</th>\n",
       "      <td>NaN</td>\n",
       "      <td>Yes</td>\n",
       "      <td>Canada</td>\n",
       "      <td>NaN</td>\n",
       "      <td>NaN</td>\n",
       "      <td>HTML/CSS;JavaScript;Other(s):</td>\n",
       "      <td>YouTube</td>\n",
       "      <td>NaN</td>\n",
       "      <td>Man</td>\n",
       "    </tr>\n",
       "    <tr>\n",
       "      <th>88601</th>\n",
       "      <td>NaN</td>\n",
       "      <td>No</td>\n",
       "      <td>NaN</td>\n",
       "      <td>NaN</td>\n",
       "      <td>NaN</td>\n",
       "      <td>NaN</td>\n",
       "      <td>NaN</td>\n",
       "      <td>NaN</td>\n",
       "      <td>NaN</td>\n",
       "    </tr>\n",
       "    <tr>\n",
       "      <th>88802</th>\n",
       "      <td>NaN</td>\n",
       "      <td>No</td>\n",
       "      <td>NaN</td>\n",
       "      <td>NaN</td>\n",
       "      <td>NaN</td>\n",
       "      <td>NaN</td>\n",
       "      <td>NaN</td>\n",
       "      <td>NaN</td>\n",
       "      <td>NaN</td>\n",
       "    </tr>\n",
       "    <tr>\n",
       "      <th>88816</th>\n",
       "      <td>NaN</td>\n",
       "      <td>No</td>\n",
       "      <td>NaN</td>\n",
       "      <td>NaN</td>\n",
       "      <td>NaN</td>\n",
       "      <td>NaN</td>\n",
       "      <td>NaN</td>\n",
       "      <td>NaN</td>\n",
       "      <td>NaN</td>\n",
       "    </tr>\n",
       "    <tr>\n",
       "      <th>88863</th>\n",
       "      <td>NaN</td>\n",
       "      <td>Yes</td>\n",
       "      <td>Spain</td>\n",
       "      <td>8</td>\n",
       "      <td>NaN</td>\n",
       "      <td>Bash/Shell/PowerShell;HTML/CSS;Java;JavaScript...</td>\n",
       "      <td>WhatsApp</td>\n",
       "      <td>18.0</td>\n",
       "      <td>Man</td>\n",
       "    </tr>\n",
       "  </tbody>\n",
       "</table>\n",
       "<p>88883 rows × 9 columns</p>\n",
       "</div>"
      ],
      "text/plain": [
       "                                                   MainBranch Hobbyist  \\\n",
       "Respondent                                                               \n",
       "1                      I am a student who is learning to code      Yes   \n",
       "2                      I am a student who is learning to code       No   \n",
       "3           I am not primarily a developer, but I write co...      Yes   \n",
       "4                              I am a developer by profession       No   \n",
       "5                              I am a developer by profession      Yes   \n",
       "...                                                       ...      ...   \n",
       "88377                                                     NaN      Yes   \n",
       "88601                                                     NaN       No   \n",
       "88802                                                     NaN       No   \n",
       "88816                                                     NaN       No   \n",
       "88863                                                     NaN      Yes   \n",
       "\n",
       "                           Country YearsCode  ConvertedComp  \\\n",
       "Respondent                                                    \n",
       "1                   United Kingdom         4            NaN   \n",
       "2           Bosnia and Herzegovina       NaN            NaN   \n",
       "3                         Thailand         3         8820.0   \n",
       "4                    United States         3        61000.0   \n",
       "5                          Ukraine        16            NaN   \n",
       "...                            ...       ...            ...   \n",
       "88377                       Canada       NaN            NaN   \n",
       "88601                          NaN       NaN            NaN   \n",
       "88802                          NaN       NaN            NaN   \n",
       "88816                          NaN       NaN            NaN   \n",
       "88863                        Spain         8            NaN   \n",
       "\n",
       "                                           LanguageWorkedWith SocialMedia  \\\n",
       "Respondent                                                                  \n",
       "1                             HTML/CSS;Java;JavaScript;Python     Twitter   \n",
       "2                                         C++;HTML/CSS;Python   Instagram   \n",
       "3                                                    HTML/CSS      Reddit   \n",
       "4                                         C;C++;C#;Python;SQL      Reddit   \n",
       "5                 C++;HTML/CSS;Java;JavaScript;Python;SQL;VBA    Facebook   \n",
       "...                                                       ...         ...   \n",
       "88377                           HTML/CSS;JavaScript;Other(s):     YouTube   \n",
       "88601                                                     NaN         NaN   \n",
       "88802                                                     NaN         NaN   \n",
       "88816                                                     NaN         NaN   \n",
       "88863       Bash/Shell/PowerShell;HTML/CSS;Java;JavaScript...    WhatsApp   \n",
       "\n",
       "             Age Gender  \n",
       "Respondent               \n",
       "1           14.0    Man  \n",
       "2           19.0    Man  \n",
       "3           28.0    Man  \n",
       "4           22.0    Man  \n",
       "5           30.0    Man  \n",
       "...          ...    ...  \n",
       "88377        NaN    Man  \n",
       "88601        NaN    NaN  \n",
       "88802        NaN    NaN  \n",
       "88816        NaN    NaN  \n",
       "88863       18.0    Man  \n",
       "\n",
       "[88883 rows x 9 columns]"
      ]
     },
     "execution_count": 79,
     "metadata": {},
     "output_type": "execute_result"
    }
   ],
   "source": [
    "df"
   ]
  },
  {
   "cell_type": "code",
   "execution_count": 80,
   "id": "b61430a3",
   "metadata": {},
   "outputs": [
    {
     "data": {
      "text/plain": [
       "Respondent\n",
       "1                United Kingdom\n",
       "2        Bosnia and Herzegovina\n",
       "3                      Thailand\n",
       "4                 United States\n",
       "5                       Ukraine\n",
       "                  ...          \n",
       "88377                    Canada\n",
       "88601                       NaN\n",
       "88802                       NaN\n",
       "88816                       NaN\n",
       "88863                     Spain\n",
       "Name: Country, Length: 88883, dtype: object"
      ]
     },
     "execution_count": 80,
     "metadata": {},
     "output_type": "execute_result"
    }
   ],
   "source": [
    "df.loc[:, 'Country']"
   ]
  },
  {
   "cell_type": "code",
   "execution_count": 81,
   "id": "a61e0e18",
   "metadata": {},
   "outputs": [
    {
     "data": {
      "text/plain": [
       "Country\n",
       "United States        20949\n",
       "India                 9061\n",
       "Germany               5866\n",
       "United Kingdom        5737\n",
       "Canada                3395\n",
       "                     ...  \n",
       "Tonga                    1\n",
       "Timor-Leste              1\n",
       "North Korea              1\n",
       "Brunei Darussalam        1\n",
       "Chad                     1\n",
       "Name: Total, Length: 179, dtype: int64"
      ]
     },
     "execution_count": 81,
     "metadata": {},
     "output_type": "execute_result"
    }
   ],
   "source": [
    "tc = df['Country'].value_counts()\n",
    "tc.name = 'Total'\n",
    "tc"
   ]
  },
  {
   "cell_type": "code",
   "execution_count": 82,
   "id": "00634605",
   "metadata": {},
   "outputs": [
    {
     "data": {
      "text/plain": [
       "np.int64(923)"
      ]
     },
     "execution_count": 82,
     "metadata": {},
     "output_type": "execute_result"
    }
   ],
   "source": [
    "tc['Pakistan']"
   ]
  },
  {
   "cell_type": "code",
   "execution_count": null,
   "id": "3112db44",
   "metadata": {},
   "outputs": [],
   "source": []
  },
  {
   "cell_type": "markdown",
   "id": "36b6d5e0",
   "metadata": {},
   "source": [
    "**tc (option 2):**"
   ]
  },
  {
   "cell_type": "code",
   "execution_count": 83,
   "id": "64cf9c86",
   "metadata": {},
   "outputs": [
    {
     "data": {
      "text/plain": [
       "<pandas.core.groupby.generic.DataFrameGroupBy object at 0x12237a7d0>"
      ]
     },
     "execution_count": 83,
     "metadata": {},
     "output_type": "execute_result"
    }
   ],
   "source": [
    "dfgb = df.groupby('Country')\n",
    "dfgb"
   ]
  },
  {
   "cell_type": "code",
   "execution_count": 84,
   "id": "b2fca694",
   "metadata": {},
   "outputs": [
    {
     "data": {
      "text/plain": [
       "<pandas.core.groupby.generic.SeriesGroupBy object at 0x12235cf10>"
      ]
     },
     "execution_count": 84,
     "metadata": {},
     "output_type": "execute_result"
    }
   ],
   "source": [
    "df.groupby('Country')['Country']"
   ]
  },
  {
   "cell_type": "code",
   "execution_count": 85,
   "id": "9f6901aa",
   "metadata": {},
   "outputs": [
    {
     "data": {
      "text/plain": [
       "Country                                                           \n",
       "Niger                             Niger                                   1\n",
       "Dominica                          Dominica                                1\n",
       "Papua New Guinea                  Papua New Guinea                        1\n",
       "Saint Kitts and Nevis             Saint Kitts and Nevis                   1\n",
       "Saint Vincent and the Grenadines  Saint Vincent and the Grenadines        1\n",
       "                                                                      ...  \n",
       "Canada                            Canada                               3395\n",
       "United Kingdom                    United Kingdom                       5737\n",
       "Germany                           Germany                              5866\n",
       "India                             India                                9061\n",
       "United States                     United States                       20949\n",
       "Name: Country, Length: 179, dtype: int64"
      ]
     },
     "execution_count": 85,
     "metadata": {},
     "output_type": "execute_result"
    }
   ],
   "source": [
    "df.groupby('Country')['Country'].apply(lambda x: x.value_counts()).sort_values()"
   ]
  },
  {
   "cell_type": "code",
   "execution_count": null,
   "id": "acbcaa82",
   "metadata": {},
   "outputs": [],
   "source": []
  },
  {
   "cell_type": "code",
   "execution_count": 63,
   "id": "684d3e07",
   "metadata": {},
   "outputs": [],
   "source": [
    "df.replace(np.nan, None, inplace=True)"
   ]
  },
  {
   "cell_type": "markdown",
   "id": "aab00ae8",
   "metadata": {},
   "source": [
    "**pc:**"
   ]
  },
  {
   "cell_type": "code",
   "execution_count": 86,
   "id": "d0066ac5",
   "metadata": {},
   "outputs": [
    {
     "data": {
      "text/plain": [
       "Respondent\n",
       "1                          HTML/CSS;Java;JavaScript;Python\n",
       "2                                      C++;HTML/CSS;Python\n",
       "3                                                 HTML/CSS\n",
       "4                                      C;C++;C#;Python;SQL\n",
       "5              C++;HTML/CSS;Java;JavaScript;Python;SQL;VBA\n",
       "                               ...                        \n",
       "88377                        HTML/CSS;JavaScript;Other(s):\n",
       "88601                                                  NaN\n",
       "88802                                                  NaN\n",
       "88816                                                  NaN\n",
       "88863    Bash/Shell/PowerShell;HTML/CSS;Java;JavaScript...\n",
       "Name: LanguageWorkedWith, Length: 88883, dtype: object"
      ]
     },
     "execution_count": 86,
     "metadata": {},
     "output_type": "execute_result"
    }
   ],
   "source": [
    "df.loc[:, 'LanguageWorkedWith']"
   ]
  },
  {
   "cell_type": "code",
   "execution_count": 87,
   "id": "893b6409-5bd3-42ec-a3f9-c386d7422017",
   "metadata": {},
   "outputs": [
    {
     "data": {
      "text/plain": [
       "Respondent\n",
       "84                           C;C++;C#;Java;Kotlin;PHP;SQL\n",
       "119                 C;C++;C#;HTML/CSS;Java;JavaScript;SQL\n",
       "298                 HTML/CSS;JavaScript;PHP;SQL;Other(s):\n",
       "299                        Assembly;C;C++;Java;Python;SQL\n",
       "311      Assembly;C;C++;C#;HTML/CSS;Java;Python;Scala;SQL\n",
       "                               ...                       \n",
       "88862                                                Java\n",
       "5439                                                  NaN\n",
       "39117               C;C++;C#;HTML/CSS;Java;JavaScript;SQL\n",
       "60066        Assembly;C++;C#;HTML/CSS;Java;PHP;Python;SQL\n",
       "88182                            HTML/CSS;Java;JavaScript\n",
       "Name: LanguageWorkedWith, Length: 923, dtype: object"
      ]
     },
     "execution_count": 87,
     "metadata": {},
     "output_type": "execute_result"
    }
   ],
   "source": [
    "df.groupby('Country').get_group('Pakistan')['LanguageWorkedWith']"
   ]
  },
  {
   "cell_type": "code",
   "execution_count": 88,
   "id": "62341f4b-9ad7-4220-bc27-cb65db5c8074",
   "metadata": {},
   "outputs": [],
   "source": [
    "def return_python_count(x):\n",
    "    if x is not None and isinstance(x, str):\n",
    "        if x.contains('Python'):\n",
    "            return 1\n",
    "        "
   ]
  },
  {
   "cell_type": "code",
   "execution_count": null,
   "id": "05680b71-c4a4-4585-b528-885a044c0048",
   "metadata": {},
   "outputs": [],
   "source": [
    "text = \"Hello, World!\"\n",
    "\n",
    "print(\"Hello\" in text)\n",
    "# text.c\n",
    "print(text.contains(\"Hello\"))"
   ]
  },
  {
   "cell_type": "code",
   "execution_count": 106,
   "id": "a16978e9-3c2c-4e5b-b465-5b9f211e6e65",
   "metadata": {},
   "outputs": [],
   "source": [
    "obj = df.groupby('Country').get_group('India')"
   ]
  },
  {
   "cell_type": "code",
   "execution_count": null,
   "id": "a4d0999e-2318-45fe-9892-719f0e573fd3",
   "metadata": {},
   "outputs": [],
   "source": [
    "obj"
   ]
  },
  {
   "cell_type": "code",
   "execution_count": 109,
   "id": "cbffdd5f-f031-4fee-90c3-0752f1dc96f9",
   "metadata": {},
   "outputs": [],
   "source": [
    "# df.columns = df.columns.str.upper()\n",
    "# df.columns = df.columns.str.replace()"
   ]
  },
  {
   "cell_type": "code",
   "execution_count": null,
   "id": "7e76e8dd-2f1e-4d93-95c9-cd1dcc34a534",
   "metadata": {},
   "outputs": [],
   "source": [
    "obj['LanguageWorkedWith'].str.contains(\"Python\")"
   ]
  },
  {
   "cell_type": "code",
   "execution_count": null,
   "id": "e5fd5ced-45af-4928-ac72-61ef6075b732",
   "metadata": {},
   "outputs": [],
   "source": [
    "obj['LanguageWorkedWith'].str.contains(\"Python\").sum()"
   ]
  },
  {
   "cell_type": "code",
   "execution_count": 89,
   "id": "db814708",
   "metadata": {},
   "outputs": [
    {
     "data": {
      "text/plain": [
       "Country\n",
       "Afghanistan                              8\n",
       "Albania                                 23\n",
       "Algeria                                 40\n",
       "Andorra                                  0\n",
       "Angola                                   2\n",
       "                                        ..\n",
       "Venezuela, Bolivarian Republic of...    28\n",
       "Viet Nam                                78\n",
       "Yemen                                    3\n",
       "Zambia                                   4\n",
       "Zimbabwe                                14\n",
       "Name: LanguageWorkedWith, Length: 179, dtype: int64"
      ]
     },
     "execution_count": 89,
     "metadata": {},
     "output_type": "execute_result"
    }
   ],
   "source": [
    "df.groupby('Country')['LanguageWorkedWith'].apply(lambda x:x.str.contains('Python').sum())"
   ]
  },
  {
   "cell_type": "code",
   "execution_count": 88,
   "id": "b9823d30",
   "metadata": {},
   "outputs": [],
   "source": [
    "# df.groupby('Country')['LanguageWorkedWith'].apply(lambda x:x.str.contains('Python').sum())"
   ]
  },
  {
   "cell_type": "code",
   "execution_count": 90,
   "id": "61ef5d9b",
   "metadata": {},
   "outputs": [],
   "source": [
    "# df.groupby('Country')['LanguageWorkedWith'].apply(lambda x: x.str.contains('Python'))"
   ]
  },
  {
   "cell_type": "code",
   "execution_count": 90,
   "id": "9b3e1b22",
   "metadata": {},
   "outputs": [
    {
     "data": {
      "text/plain": [
       "Country\n",
       "Afghanistan                              8\n",
       "Albania                                 23\n",
       "Algeria                                 40\n",
       "Andorra                                  0\n",
       "Angola                                   2\n",
       "                                        ..\n",
       "Venezuela, Bolivarian Republic of...    28\n",
       "Viet Nam                                78\n",
       "Yemen                                    3\n",
       "Zambia                                   4\n",
       "Zimbabwe                                14\n",
       "Name: LanguageWorkedWith, Length: 179, dtype: int64"
      ]
     },
     "execution_count": 90,
     "metadata": {},
     "output_type": "execute_result"
    }
   ],
   "source": [
    "pp = df.groupby('Country')['LanguageWorkedWith'].apply(lambda x: x.str.contains('Python').sum())\n",
    "pp"
   ]
  },
  {
   "cell_type": "code",
   "execution_count": 91,
   "id": "26205a53",
   "metadata": {},
   "outputs": [],
   "source": [
    "pp.name = 'Knows Python'"
   ]
  },
  {
   "cell_type": "code",
   "execution_count": 92,
   "id": "09886e0f",
   "metadata": {},
   "outputs": [
    {
     "data": {
      "text/plain": [
       "(np.int64(251), np.int64(923))"
      ]
     },
     "execution_count": 92,
     "metadata": {},
     "output_type": "execute_result"
    }
   ],
   "source": [
    "# For Pakistan\n",
    "pp['Pakistan'] , tc['Pakistan']"
   ]
  },
  {
   "cell_type": "code",
   "execution_count": 93,
   "id": "6954a136",
   "metadata": {},
   "outputs": [
    {
     "data": {
      "text/plain": [
       "np.float64(27.193932827735644)"
      ]
     },
     "execution_count": 93,
     "metadata": {},
     "output_type": "execute_result"
    }
   ],
   "source": [
    "(pp['Pakistan']/ tc['Pakistan']) *100"
   ]
  },
  {
   "cell_type": "code",
   "execution_count": null,
   "id": "fa365f6f-923c-435a-8caf-589103a53593",
   "metadata": {},
   "outputs": [],
   "source": []
  },
  {
   "cell_type": "markdown",
   "id": "ced1a4b0",
   "metadata": {},
   "source": [
    "**Create a Dataframe of two series tc and pp**"
   ]
  },
  {
   "cell_type": "code",
   "execution_count": 94,
   "id": "989aec12",
   "metadata": {},
   "outputs": [
    {
     "data": {
      "text/html": [
       "<div>\n",
       "<style scoped>\n",
       "    .dataframe tbody tr th:only-of-type {\n",
       "        vertical-align: middle;\n",
       "    }\n",
       "\n",
       "    .dataframe tbody tr th {\n",
       "        vertical-align: top;\n",
       "    }\n",
       "\n",
       "    .dataframe thead th {\n",
       "        text-align: right;\n",
       "    }\n",
       "</style>\n",
       "<table border=\"1\" class=\"dataframe\">\n",
       "  <thead>\n",
       "    <tr style=\"text-align: right;\">\n",
       "      <th></th>\n",
       "      <th>Total</th>\n",
       "      <th>Knows Python</th>\n",
       "    </tr>\n",
       "    <tr>\n",
       "      <th>Country</th>\n",
       "      <th></th>\n",
       "      <th></th>\n",
       "    </tr>\n",
       "  </thead>\n",
       "  <tbody>\n",
       "    <tr>\n",
       "      <th>United States</th>\n",
       "      <td>20949</td>\n",
       "      <td>10083</td>\n",
       "    </tr>\n",
       "    <tr>\n",
       "      <th>India</th>\n",
       "      <td>9061</td>\n",
       "      <td>3105</td>\n",
       "    </tr>\n",
       "    <tr>\n",
       "      <th>Germany</th>\n",
       "      <td>5866</td>\n",
       "      <td>2451</td>\n",
       "    </tr>\n",
       "    <tr>\n",
       "      <th>United Kingdom</th>\n",
       "      <td>5737</td>\n",
       "      <td>2384</td>\n",
       "    </tr>\n",
       "    <tr>\n",
       "      <th>Canada</th>\n",
       "      <td>3395</td>\n",
       "      <td>1558</td>\n",
       "    </tr>\n",
       "    <tr>\n",
       "      <th>...</th>\n",
       "      <td>...</td>\n",
       "      <td>...</td>\n",
       "    </tr>\n",
       "    <tr>\n",
       "      <th>Tonga</th>\n",
       "      <td>1</td>\n",
       "      <td>0</td>\n",
       "    </tr>\n",
       "    <tr>\n",
       "      <th>Timor-Leste</th>\n",
       "      <td>1</td>\n",
       "      <td>1</td>\n",
       "    </tr>\n",
       "    <tr>\n",
       "      <th>North Korea</th>\n",
       "      <td>1</td>\n",
       "      <td>0</td>\n",
       "    </tr>\n",
       "    <tr>\n",
       "      <th>Brunei Darussalam</th>\n",
       "      <td>1</td>\n",
       "      <td>0</td>\n",
       "    </tr>\n",
       "    <tr>\n",
       "      <th>Chad</th>\n",
       "      <td>1</td>\n",
       "      <td>0</td>\n",
       "    </tr>\n",
       "  </tbody>\n",
       "</table>\n",
       "<p>179 rows × 2 columns</p>\n",
       "</div>"
      ],
      "text/plain": [
       "                   Total  Knows Python\n",
       "Country                               \n",
       "United States      20949         10083\n",
       "India               9061          3105\n",
       "Germany             5866          2451\n",
       "United Kingdom      5737          2384\n",
       "Canada              3395          1558\n",
       "...                  ...           ...\n",
       "Tonga                  1             0\n",
       "Timor-Leste            1             1\n",
       "North Korea            1             0\n",
       "Brunei Darussalam      1             0\n",
       "Chad                   1             0\n",
       "\n",
       "[179 rows x 2 columns]"
      ]
     },
     "execution_count": 94,
     "metadata": {},
     "output_type": "execute_result"
    }
   ],
   "source": [
    "resultdf = pd.concat([tc, pp], axis=1)\n",
    "resultdf"
   ]
  },
  {
   "cell_type": "code",
   "execution_count": 95,
   "id": "df17703c",
   "metadata": {},
   "outputs": [
    {
     "data": {
      "text/plain": [
       "Total           923\n",
       "Knows Python    251\n",
       "Name: Pakistan, dtype: int64"
      ]
     },
     "execution_count": 95,
     "metadata": {},
     "output_type": "execute_result"
    }
   ],
   "source": [
    "resultdf.loc['Pakistan']"
   ]
  },
  {
   "cell_type": "code",
   "execution_count": 96,
   "id": "c670b7e9",
   "metadata": {},
   "outputs": [
    {
     "data": {
      "text/plain": [
       "Total           9061\n",
       "Knows Python    3105\n",
       "Name: India, dtype: int64"
      ]
     },
     "execution_count": 96,
     "metadata": {},
     "output_type": "execute_result"
    }
   ],
   "source": [
    "resultdf.loc['India']"
   ]
  },
  {
   "cell_type": "code",
   "execution_count": 97,
   "id": "2891419b",
   "metadata": {},
   "outputs": [
    {
     "data": {
      "text/plain": [
       "Country\n",
       "United States         48.131176\n",
       "India                 34.267741\n",
       "Germany               41.783157\n",
       "United Kingdom        41.554820\n",
       "Canada                45.891016\n",
       "                        ...    \n",
       "Tonga                  0.000000\n",
       "Timor-Leste          100.000000\n",
       "North Korea            0.000000\n",
       "Brunei Darussalam      0.000000\n",
       "Chad                   0.000000\n",
       "Length: 179, dtype: float64"
      ]
     },
     "execution_count": 97,
     "metadata": {},
     "output_type": "execute_result"
    }
   ],
   "source": [
    "(resultdf['Knows Python']/resultdf['Total'])*100"
   ]
  },
  {
   "cell_type": "code",
   "execution_count": null,
   "id": "554505d1",
   "metadata": {},
   "outputs": [],
   "source": []
  },
  {
   "cell_type": "markdown",
   "id": "e96094bb",
   "metadata": {},
   "source": [
    "**Percentage of people in each country knows Python?**"
   ]
  },
  {
   "cell_type": "code",
   "execution_count": 98,
   "id": "d09f7a77",
   "metadata": {},
   "outputs": [
    {
     "data": {
      "text/html": [
       "<div>\n",
       "<style scoped>\n",
       "    .dataframe tbody tr th:only-of-type {\n",
       "        vertical-align: middle;\n",
       "    }\n",
       "\n",
       "    .dataframe tbody tr th {\n",
       "        vertical-align: top;\n",
       "    }\n",
       "\n",
       "    .dataframe thead th {\n",
       "        text-align: right;\n",
       "    }\n",
       "</style>\n",
       "<table border=\"1\" class=\"dataframe\">\n",
       "  <thead>\n",
       "    <tr style=\"text-align: right;\">\n",
       "      <th></th>\n",
       "      <th>Total</th>\n",
       "      <th>Knows Python</th>\n",
       "      <th>Percentage</th>\n",
       "    </tr>\n",
       "    <tr>\n",
       "      <th>Country</th>\n",
       "      <th></th>\n",
       "      <th></th>\n",
       "      <th></th>\n",
       "    </tr>\n",
       "  </thead>\n",
       "  <tbody>\n",
       "    <tr>\n",
       "      <th>United States</th>\n",
       "      <td>20949</td>\n",
       "      <td>10083</td>\n",
       "      <td>48.131176</td>\n",
       "    </tr>\n",
       "    <tr>\n",
       "      <th>India</th>\n",
       "      <td>9061</td>\n",
       "      <td>3105</td>\n",
       "      <td>34.267741</td>\n",
       "    </tr>\n",
       "    <tr>\n",
       "      <th>Germany</th>\n",
       "      <td>5866</td>\n",
       "      <td>2451</td>\n",
       "      <td>41.783157</td>\n",
       "    </tr>\n",
       "    <tr>\n",
       "      <th>United Kingdom</th>\n",
       "      <td>5737</td>\n",
       "      <td>2384</td>\n",
       "      <td>41.554820</td>\n",
       "    </tr>\n",
       "    <tr>\n",
       "      <th>Canada</th>\n",
       "      <td>3395</td>\n",
       "      <td>1558</td>\n",
       "      <td>45.891016</td>\n",
       "    </tr>\n",
       "    <tr>\n",
       "      <th>...</th>\n",
       "      <td>...</td>\n",
       "      <td>...</td>\n",
       "      <td>...</td>\n",
       "    </tr>\n",
       "    <tr>\n",
       "      <th>Tonga</th>\n",
       "      <td>1</td>\n",
       "      <td>0</td>\n",
       "      <td>0.000000</td>\n",
       "    </tr>\n",
       "    <tr>\n",
       "      <th>Timor-Leste</th>\n",
       "      <td>1</td>\n",
       "      <td>1</td>\n",
       "      <td>100.000000</td>\n",
       "    </tr>\n",
       "    <tr>\n",
       "      <th>North Korea</th>\n",
       "      <td>1</td>\n",
       "      <td>0</td>\n",
       "      <td>0.000000</td>\n",
       "    </tr>\n",
       "    <tr>\n",
       "      <th>Brunei Darussalam</th>\n",
       "      <td>1</td>\n",
       "      <td>0</td>\n",
       "      <td>0.000000</td>\n",
       "    </tr>\n",
       "    <tr>\n",
       "      <th>Chad</th>\n",
       "      <td>1</td>\n",
       "      <td>0</td>\n",
       "      <td>0.000000</td>\n",
       "    </tr>\n",
       "  </tbody>\n",
       "</table>\n",
       "<p>179 rows × 3 columns</p>\n",
       "</div>"
      ],
      "text/plain": [
       "                   Total  Knows Python  Percentage\n",
       "Country                                           \n",
       "United States      20949         10083   48.131176\n",
       "India               9061          3105   34.267741\n",
       "Germany             5866          2451   41.783157\n",
       "United Kingdom      5737          2384   41.554820\n",
       "Canada              3395          1558   45.891016\n",
       "...                  ...           ...         ...\n",
       "Tonga                  1             0    0.000000\n",
       "Timor-Leste            1             1  100.000000\n",
       "North Korea            1             0    0.000000\n",
       "Brunei Darussalam      1             0    0.000000\n",
       "Chad                   1             0    0.000000\n",
       "\n",
       "[179 rows x 3 columns]"
      ]
     },
     "execution_count": 98,
     "metadata": {},
     "output_type": "execute_result"
    }
   ],
   "source": [
    "resultdf['Percentage'] = (resultdf['Knows Python'] / resultdf['Total']) * 100\n",
    "resultdf"
   ]
  },
  {
   "cell_type": "code",
   "execution_count": null,
   "id": "7530f928",
   "metadata": {},
   "outputs": [],
   "source": [
    "resultdf.loc['Germany']"
   ]
  },
  {
   "cell_type": "code",
   "execution_count": 99,
   "id": "c8926157",
   "metadata": {},
   "outputs": [
    {
     "data": {
      "text/html": [
       "<div>\n",
       "<style scoped>\n",
       "    .dataframe tbody tr th:only-of-type {\n",
       "        vertical-align: middle;\n",
       "    }\n",
       "\n",
       "    .dataframe tbody tr th {\n",
       "        vertical-align: top;\n",
       "    }\n",
       "\n",
       "    .dataframe thead th {\n",
       "        text-align: right;\n",
       "    }\n",
       "</style>\n",
       "<table border=\"1\" class=\"dataframe\">\n",
       "  <thead>\n",
       "    <tr style=\"text-align: right;\">\n",
       "      <th></th>\n",
       "      <th>Total</th>\n",
       "      <th>Knows Python</th>\n",
       "      <th>Percentage</th>\n",
       "    </tr>\n",
       "    <tr>\n",
       "      <th>Country</th>\n",
       "      <th></th>\n",
       "      <th></th>\n",
       "      <th></th>\n",
       "    </tr>\n",
       "  </thead>\n",
       "  <tbody>\n",
       "    <tr>\n",
       "      <th>United States</th>\n",
       "      <td>20949</td>\n",
       "      <td>10083</td>\n",
       "      <td>48.131176</td>\n",
       "    </tr>\n",
       "    <tr>\n",
       "      <th>Israel</th>\n",
       "      <td>952</td>\n",
       "      <td>457</td>\n",
       "      <td>48.004202</td>\n",
       "    </tr>\n",
       "    <tr>\n",
       "      <th>Switzerland</th>\n",
       "      <td>978</td>\n",
       "      <td>460</td>\n",
       "      <td>47.034765</td>\n",
       "    </tr>\n",
       "    <tr>\n",
       "      <th>Canada</th>\n",
       "      <td>3395</td>\n",
       "      <td>1558</td>\n",
       "      <td>45.891016</td>\n",
       "    </tr>\n",
       "    <tr>\n",
       "      <th>France</th>\n",
       "      <td>2391</td>\n",
       "      <td>1054</td>\n",
       "      <td>44.081974</td>\n",
       "    </tr>\n",
       "    <tr>\n",
       "      <th>Russian Federation</th>\n",
       "      <td>1694</td>\n",
       "      <td>708</td>\n",
       "      <td>41.794569</td>\n",
       "    </tr>\n",
       "    <tr>\n",
       "      <th>Germany</th>\n",
       "      <td>5866</td>\n",
       "      <td>2451</td>\n",
       "      <td>41.783157</td>\n",
       "    </tr>\n",
       "    <tr>\n",
       "      <th>United Kingdom</th>\n",
       "      <td>5737</td>\n",
       "      <td>2384</td>\n",
       "      <td>41.554820</td>\n",
       "    </tr>\n",
       "    <tr>\n",
       "      <th>Australia</th>\n",
       "      <td>1903</td>\n",
       "      <td>790</td>\n",
       "      <td>41.513400</td>\n",
       "    </tr>\n",
       "    <tr>\n",
       "      <th>Netherlands</th>\n",
       "      <td>1852</td>\n",
       "      <td>767</td>\n",
       "      <td>41.414687</td>\n",
       "    </tr>\n",
       "    <tr>\n",
       "      <th>Austria</th>\n",
       "      <td>839</td>\n",
       "      <td>338</td>\n",
       "      <td>40.286055</td>\n",
       "    </tr>\n",
       "    <tr>\n",
       "      <th>Spain</th>\n",
       "      <td>1604</td>\n",
       "      <td>641</td>\n",
       "      <td>39.962594</td>\n",
       "    </tr>\n",
       "    <tr>\n",
       "      <th>Italy</th>\n",
       "      <td>1576</td>\n",
       "      <td>625</td>\n",
       "      <td>39.657360</td>\n",
       "    </tr>\n",
       "    <tr>\n",
       "      <th>Brazil</th>\n",
       "      <td>1948</td>\n",
       "      <td>767</td>\n",
       "      <td>39.373717</td>\n",
       "    </tr>\n",
       "    <tr>\n",
       "      <th>Turkey</th>\n",
       "      <td>949</td>\n",
       "      <td>371</td>\n",
       "      <td>39.093783</td>\n",
       "    </tr>\n",
       "    <tr>\n",
       "      <th>Poland</th>\n",
       "      <td>1922</td>\n",
       "      <td>751</td>\n",
       "      <td>39.073881</td>\n",
       "    </tr>\n",
       "    <tr>\n",
       "      <th>Sweden</th>\n",
       "      <td>1274</td>\n",
       "      <td>496</td>\n",
       "      <td>38.932496</td>\n",
       "    </tr>\n",
       "    <tr>\n",
       "      <th>India</th>\n",
       "      <td>9061</td>\n",
       "      <td>3105</td>\n",
       "      <td>34.267741</td>\n",
       "    </tr>\n",
       "    <tr>\n",
       "      <th>Ukraine</th>\n",
       "      <td>868</td>\n",
       "      <td>246</td>\n",
       "      <td>28.341014</td>\n",
       "    </tr>\n",
       "    <tr>\n",
       "      <th>Pakistan</th>\n",
       "      <td>923</td>\n",
       "      <td>251</td>\n",
       "      <td>27.193933</td>\n",
       "    </tr>\n",
       "  </tbody>\n",
       "</table>\n",
       "</div>"
      ],
      "text/plain": [
       "                    Total  Knows Python  Percentage\n",
       "Country                                            \n",
       "United States       20949         10083   48.131176\n",
       "Israel                952           457   48.004202\n",
       "Switzerland           978           460   47.034765\n",
       "Canada               3395          1558   45.891016\n",
       "France               2391          1054   44.081974\n",
       "Russian Federation   1694           708   41.794569\n",
       "Germany              5866          2451   41.783157\n",
       "United Kingdom       5737          2384   41.554820\n",
       "Australia            1903           790   41.513400\n",
       "Netherlands          1852           767   41.414687\n",
       "Austria               839           338   40.286055\n",
       "Spain                1604           641   39.962594\n",
       "Italy                1576           625   39.657360\n",
       "Brazil               1948           767   39.373717\n",
       "Turkey                949           371   39.093783\n",
       "Poland               1922           751   39.073881\n",
       "Sweden               1274           496   38.932496\n",
       "India                9061          3105   34.267741\n",
       "Ukraine               868           246   28.341014\n",
       "Pakistan              923           251   27.193933"
      ]
     },
     "execution_count": 99,
     "metadata": {},
     "output_type": "execute_result"
    }
   ],
   "source": [
    "resultdf.head(20).sort_values(by ='Percentage', ascending=False)"
   ]
  },
  {
   "cell_type": "code",
   "execution_count": 100,
   "id": "f856f7c8",
   "metadata": {},
   "outputs": [
    {
     "data": {
      "text/html": [
       "<div>\n",
       "<style scoped>\n",
       "    .dataframe tbody tr th:only-of-type {\n",
       "        vertical-align: middle;\n",
       "    }\n",
       "\n",
       "    .dataframe tbody tr th {\n",
       "        vertical-align: top;\n",
       "    }\n",
       "\n",
       "    .dataframe thead th {\n",
       "        text-align: right;\n",
       "    }\n",
       "</style>\n",
       "<table border=\"1\" class=\"dataframe\">\n",
       "  <thead>\n",
       "    <tr style=\"text-align: right;\">\n",
       "      <th></th>\n",
       "      <th>Total</th>\n",
       "      <th>Knows Python</th>\n",
       "      <th>Percentage</th>\n",
       "    </tr>\n",
       "    <tr>\n",
       "      <th>Country</th>\n",
       "      <th></th>\n",
       "      <th></th>\n",
       "      <th></th>\n",
       "    </tr>\n",
       "  </thead>\n",
       "  <tbody>\n",
       "    <tr>\n",
       "      <th>Sao Tome and Principe</th>\n",
       "      <td>1</td>\n",
       "      <td>1</td>\n",
       "      <td>100.000000</td>\n",
       "    </tr>\n",
       "    <tr>\n",
       "      <th>Timor-Leste</th>\n",
       "      <td>1</td>\n",
       "      <td>1</td>\n",
       "      <td>100.000000</td>\n",
       "    </tr>\n",
       "    <tr>\n",
       "      <th>Dominica</th>\n",
       "      <td>1</td>\n",
       "      <td>1</td>\n",
       "      <td>100.000000</td>\n",
       "    </tr>\n",
       "    <tr>\n",
       "      <th>Niger</th>\n",
       "      <td>1</td>\n",
       "      <td>1</td>\n",
       "      <td>100.000000</td>\n",
       "    </tr>\n",
       "    <tr>\n",
       "      <th>Turkmenistan</th>\n",
       "      <td>7</td>\n",
       "      <td>6</td>\n",
       "      <td>85.714286</td>\n",
       "    </tr>\n",
       "    <tr>\n",
       "      <th>Mauritania</th>\n",
       "      <td>7</td>\n",
       "      <td>5</td>\n",
       "      <td>71.428571</td>\n",
       "    </tr>\n",
       "    <tr>\n",
       "      <th>Guinea</th>\n",
       "      <td>3</td>\n",
       "      <td>2</td>\n",
       "      <td>66.666667</td>\n",
       "    </tr>\n",
       "    <tr>\n",
       "      <th>Bahamas</th>\n",
       "      <td>3</td>\n",
       "      <td>2</td>\n",
       "      <td>66.666667</td>\n",
       "    </tr>\n",
       "    <tr>\n",
       "      <th>Guyana</th>\n",
       "      <td>3</td>\n",
       "      <td>2</td>\n",
       "      <td>66.666667</td>\n",
       "    </tr>\n",
       "    <tr>\n",
       "      <th>Uganda</th>\n",
       "      <td>72</td>\n",
       "      <td>47</td>\n",
       "      <td>65.277778</td>\n",
       "    </tr>\n",
       "    <tr>\n",
       "      <th>Iceland</th>\n",
       "      <td>49</td>\n",
       "      <td>30</td>\n",
       "      <td>61.224490</td>\n",
       "    </tr>\n",
       "    <tr>\n",
       "      <th>Haiti</th>\n",
       "      <td>5</td>\n",
       "      <td>3</td>\n",
       "      <td>60.000000</td>\n",
       "    </tr>\n",
       "    <tr>\n",
       "      <th>Benin</th>\n",
       "      <td>5</td>\n",
       "      <td>3</td>\n",
       "      <td>60.000000</td>\n",
       "    </tr>\n",
       "    <tr>\n",
       "      <th>Namibia</th>\n",
       "      <td>5</td>\n",
       "      <td>3</td>\n",
       "      <td>60.000000</td>\n",
       "    </tr>\n",
       "    <tr>\n",
       "      <th>Congo, Republic of the...</th>\n",
       "      <td>7</td>\n",
       "      <td>4</td>\n",
       "      <td>57.142857</td>\n",
       "    </tr>\n",
       "    <tr>\n",
       "      <th>Oman</th>\n",
       "      <td>11</td>\n",
       "      <td>6</td>\n",
       "      <td>54.545455</td>\n",
       "    </tr>\n",
       "    <tr>\n",
       "      <th>Cuba</th>\n",
       "      <td>30</td>\n",
       "      <td>16</td>\n",
       "      <td>53.333333</td>\n",
       "    </tr>\n",
       "    <tr>\n",
       "      <th>Republic of Korea</th>\n",
       "      <td>39</td>\n",
       "      <td>20</td>\n",
       "      <td>51.282051</td>\n",
       "    </tr>\n",
       "    <tr>\n",
       "      <th>San Marino</th>\n",
       "      <td>2</td>\n",
       "      <td>1</td>\n",
       "      <td>50.000000</td>\n",
       "    </tr>\n",
       "    <tr>\n",
       "      <th>Sierra Leone</th>\n",
       "      <td>2</td>\n",
       "      <td>1</td>\n",
       "      <td>50.000000</td>\n",
       "    </tr>\n",
       "  </tbody>\n",
       "</table>\n",
       "</div>"
      ],
      "text/plain": [
       "                           Total  Knows Python  Percentage\n",
       "Country                                                   \n",
       "Sao Tome and Principe          1             1  100.000000\n",
       "Timor-Leste                    1             1  100.000000\n",
       "Dominica                       1             1  100.000000\n",
       "Niger                          1             1  100.000000\n",
       "Turkmenistan                   7             6   85.714286\n",
       "Mauritania                     7             5   71.428571\n",
       "Guinea                         3             2   66.666667\n",
       "Bahamas                        3             2   66.666667\n",
       "Guyana                         3             2   66.666667\n",
       "Uganda                        72            47   65.277778\n",
       "Iceland                       49            30   61.224490\n",
       "Haiti                          5             3   60.000000\n",
       "Benin                          5             3   60.000000\n",
       "Namibia                        5             3   60.000000\n",
       "Congo, Republic of the...      7             4   57.142857\n",
       "Oman                          11             6   54.545455\n",
       "Cuba                          30            16   53.333333\n",
       "Republic of Korea             39            20   51.282051\n",
       "San Marino                     2             1   50.000000\n",
       "Sierra Leone                   2             1   50.000000"
      ]
     },
     "execution_count": 100,
     "metadata": {},
     "output_type": "execute_result"
    }
   ],
   "source": [
    "resultdf.sort_values(by='Percentage', ascending=False).head(20)"
   ]
  },
  {
   "cell_type": "markdown",
   "id": "9716d598",
   "metadata": {},
   "source": [
    "## Let's create your own five questions and try to answer these questions."
   ]
  },
  {
   "cell_type": "code",
   "execution_count": null,
   "id": "fa5094f5",
   "metadata": {},
   "outputs": [],
   "source": [
    "# Q-01 ==???\n",
    "# Q-02 ==???\n",
    "# Q-03 ==???\n",
    "# Q-04 ==???\n",
    "# Q-05 ==???"
   ]
  },
  {
   "cell_type": "code",
   "execution_count": null,
   "id": "a8853882",
   "metadata": {},
   "outputs": [],
   "source": [
    "# columns of the dataframe\n",
    "df.columns"
   ]
  },
  {
   "cell_type": "markdown",
   "id": "e1d6c0b7",
   "metadata": {},
   "source": [
    "#### Question 03 : Average salary of each gender in each country. Analyze and Visualize"
   ]
  },
  {
   "cell_type": "code",
   "execution_count": 101,
   "id": "2d3d8b1e",
   "metadata": {},
   "outputs": [
    {
     "data": {
      "text/plain": [
       "Gender\n",
       "Man                                                            77919\n",
       "Woman                                                           6344\n",
       "Non-binary, genderqueer, or gender non-conforming                597\n",
       "Man;Non-binary, genderqueer, or gender non-conforming            181\n",
       "Woman;Non-binary, genderqueer, or gender non-conforming          163\n",
       "Woman;Man                                                        132\n",
       "Woman;Man;Non-binary, genderqueer, or gender non-conforming       70\n",
       "Name: count, dtype: int64"
      ]
     },
     "execution_count": 101,
     "metadata": {},
     "output_type": "execute_result"
    }
   ],
   "source": [
    "df.Gender.value_counts()"
   ]
  },
  {
   "cell_type": "code",
   "execution_count": 102,
   "id": "22327a9e",
   "metadata": {},
   "outputs": [
    {
     "data": {
      "text/html": [
       "<div>\n",
       "<style scoped>\n",
       "    .dataframe tbody tr th:only-of-type {\n",
       "        vertical-align: middle;\n",
       "    }\n",
       "\n",
       "    .dataframe tbody tr th {\n",
       "        vertical-align: top;\n",
       "    }\n",
       "\n",
       "    .dataframe thead th {\n",
       "        text-align: right;\n",
       "    }\n",
       "</style>\n",
       "<table border=\"1\" class=\"dataframe\">\n",
       "  <thead>\n",
       "    <tr style=\"text-align: right;\">\n",
       "      <th></th>\n",
       "      <th>MainBranch</th>\n",
       "      <th>Hobbyist</th>\n",
       "      <th>Country</th>\n",
       "      <th>YearsCode</th>\n",
       "      <th>ConvertedComp</th>\n",
       "      <th>LanguageWorkedWith</th>\n",
       "      <th>SocialMedia</th>\n",
       "      <th>Age</th>\n",
       "      <th>Gender</th>\n",
       "    </tr>\n",
       "    <tr>\n",
       "      <th>Respondent</th>\n",
       "      <th></th>\n",
       "      <th></th>\n",
       "      <th></th>\n",
       "      <th></th>\n",
       "      <th></th>\n",
       "      <th></th>\n",
       "      <th></th>\n",
       "      <th></th>\n",
       "      <th></th>\n",
       "    </tr>\n",
       "  </thead>\n",
       "  <tbody>\n",
       "    <tr>\n",
       "      <th>1</th>\n",
       "      <td>I am a student who is learning to code</td>\n",
       "      <td>Yes</td>\n",
       "      <td>United Kingdom</td>\n",
       "      <td>4</td>\n",
       "      <td>NaN</td>\n",
       "      <td>HTML/CSS;Java;JavaScript;Python</td>\n",
       "      <td>Twitter</td>\n",
       "      <td>14.0</td>\n",
       "      <td>Men</td>\n",
       "    </tr>\n",
       "    <tr>\n",
       "      <th>2</th>\n",
       "      <td>I am a student who is learning to code</td>\n",
       "      <td>No</td>\n",
       "      <td>Bosnia and Herzegovina</td>\n",
       "      <td>NaN</td>\n",
       "      <td>NaN</td>\n",
       "      <td>C++;HTML/CSS;Python</td>\n",
       "      <td>Instagram</td>\n",
       "      <td>19.0</td>\n",
       "      <td>Men</td>\n",
       "    </tr>\n",
       "    <tr>\n",
       "      <th>3</th>\n",
       "      <td>I am not primarily a developer, but I write co...</td>\n",
       "      <td>Yes</td>\n",
       "      <td>Thailand</td>\n",
       "      <td>3</td>\n",
       "      <td>8820.0</td>\n",
       "      <td>HTML/CSS</td>\n",
       "      <td>Reddit</td>\n",
       "      <td>28.0</td>\n",
       "      <td>Men</td>\n",
       "    </tr>\n",
       "    <tr>\n",
       "      <th>4</th>\n",
       "      <td>I am a developer by profession</td>\n",
       "      <td>No</td>\n",
       "      <td>United States</td>\n",
       "      <td>3</td>\n",
       "      <td>61000.0</td>\n",
       "      <td>C;C++;C#;Python;SQL</td>\n",
       "      <td>Reddit</td>\n",
       "      <td>22.0</td>\n",
       "      <td>Men</td>\n",
       "    </tr>\n",
       "    <tr>\n",
       "      <th>5</th>\n",
       "      <td>I am a developer by profession</td>\n",
       "      <td>Yes</td>\n",
       "      <td>Ukraine</td>\n",
       "      <td>16</td>\n",
       "      <td>NaN</td>\n",
       "      <td>C++;HTML/CSS;Java;JavaScript;Python;SQL;VBA</td>\n",
       "      <td>Facebook</td>\n",
       "      <td>30.0</td>\n",
       "      <td>Men</td>\n",
       "    </tr>\n",
       "  </tbody>\n",
       "</table>\n",
       "</div>"
      ],
      "text/plain": [
       "                                                   MainBranch Hobbyist  \\\n",
       "Respondent                                                               \n",
       "1                      I am a student who is learning to code      Yes   \n",
       "2                      I am a student who is learning to code       No   \n",
       "3           I am not primarily a developer, but I write co...      Yes   \n",
       "4                              I am a developer by profession       No   \n",
       "5                              I am a developer by profession      Yes   \n",
       "\n",
       "                           Country YearsCode  ConvertedComp  \\\n",
       "Respondent                                                    \n",
       "1                   United Kingdom         4            NaN   \n",
       "2           Bosnia and Herzegovina       NaN            NaN   \n",
       "3                         Thailand         3         8820.0   \n",
       "4                    United States         3        61000.0   \n",
       "5                          Ukraine        16            NaN   \n",
       "\n",
       "                                     LanguageWorkedWith SocialMedia   Age  \\\n",
       "Respondent                                                                  \n",
       "1                       HTML/CSS;Java;JavaScript;Python     Twitter  14.0   \n",
       "2                                   C++;HTML/CSS;Python   Instagram  19.0   \n",
       "3                                              HTML/CSS      Reddit  28.0   \n",
       "4                                   C;C++;C#;Python;SQL      Reddit  22.0   \n",
       "5           C++;HTML/CSS;Java;JavaScript;Python;SQL;VBA    Facebook  30.0   \n",
       "\n",
       "           Gender  \n",
       "Respondent         \n",
       "1             Men  \n",
       "2             Men  \n",
       "3             Men  \n",
       "4             Men  \n",
       "5             Men  "
      ]
     },
     "execution_count": 102,
     "metadata": {},
     "output_type": "execute_result"
    }
   ],
   "source": [
    "# clean gender column\n",
    "def clean_gender(x):\n",
    "    if x=='Man':\n",
    "        return 'Men'\n",
    "    elif x=='Woman':\n",
    "        return 'Woman'\n",
    "    else:\n",
    "        return 'other'\n",
    "df.Gender = df.Gender.apply(clean_gender)\n",
    "df.head()"
   ]
  },
  {
   "cell_type": "code",
   "execution_count": 103,
   "id": "d3180956-a96b-450d-9980-40a352cb653b",
   "metadata": {},
   "outputs": [
    {
     "data": {
      "text/plain": [
       "Gender\n",
       "Men      77919\n",
       "Woman     6344\n",
       "other     4620\n",
       "Name: count, dtype: int64"
      ]
     },
     "execution_count": 103,
     "metadata": {},
     "output_type": "execute_result"
    }
   ],
   "source": [
    "df.Gender.value_counts()"
   ]
  },
  {
   "cell_type": "code",
   "execution_count": 104,
   "id": "63fc7a89",
   "metadata": {},
   "outputs": [],
   "source": [
    "# rename ConvertedComp as salary column\n",
    "df.rename(columns={'ConvertedComp':'salary'}, inplace=True)"
   ]
  },
  {
   "cell_type": "code",
   "execution_count": 105,
   "id": "cebd5770-0a86-4379-a11d-6404736e7fe3",
   "metadata": {},
   "outputs": [
    {
     "data": {
      "text/plain": [
       "Gender\n",
       "Men      818\n",
       "Woman     44\n",
       "other     61\n",
       "Name: count, dtype: int64"
      ]
     },
     "execution_count": 105,
     "metadata": {},
     "output_type": "execute_result"
    }
   ],
   "source": [
    "df[df.Country =='Pakistan'].groupby('Gender')['Gender'].value_counts()"
   ]
  },
  {
   "cell_type": "code",
   "execution_count": 106,
   "id": "538aa28a",
   "metadata": {},
   "outputs": [
    {
     "data": {
      "text/plain": [
       "<pandas.core.groupby.generic.SeriesGroupBy object at 0x122379dd0>"
      ]
     },
     "execution_count": 106,
     "metadata": {},
     "output_type": "execute_result"
    }
   ],
   "source": [
    "df[df.Country =='Pakistan'].groupby('Gender')['salary']"
   ]
  },
  {
   "cell_type": "code",
   "execution_count": 107,
   "id": "e9653908-0178-41cf-9b53-3b3466705610",
   "metadata": {},
   "outputs": [
    {
     "data": {
      "text/html": [
       "<div>\n",
       "<style scoped>\n",
       "    .dataframe tbody tr th:only-of-type {\n",
       "        vertical-align: middle;\n",
       "    }\n",
       "\n",
       "    .dataframe tbody tr th {\n",
       "        vertical-align: top;\n",
       "    }\n",
       "\n",
       "    .dataframe thead th {\n",
       "        text-align: right;\n",
       "    }\n",
       "</style>\n",
       "<table border=\"1\" class=\"dataframe\">\n",
       "  <thead>\n",
       "    <tr style=\"text-align: right;\">\n",
       "      <th></th>\n",
       "      <th>mean</th>\n",
       "      <th>max</th>\n",
       "      <th>min</th>\n",
       "    </tr>\n",
       "    <tr>\n",
       "      <th>Gender</th>\n",
       "      <th></th>\n",
       "      <th></th>\n",
       "      <th></th>\n",
       "    </tr>\n",
       "  </thead>\n",
       "  <tbody>\n",
       "    <tr>\n",
       "      <th>Men</th>\n",
       "      <td>9917.979899</td>\n",
       "      <td>60672.0</td>\n",
       "      <td>100.0</td>\n",
       "    </tr>\n",
       "    <tr>\n",
       "      <th>Woman</th>\n",
       "      <td>8122.500000</td>\n",
       "      <td>24000.0</td>\n",
       "      <td>450.0</td>\n",
       "    </tr>\n",
       "    <tr>\n",
       "      <th>other</th>\n",
       "      <td>88982.333333</td>\n",
       "      <td>963048.0</td>\n",
       "      <td>1000.0</td>\n",
       "    </tr>\n",
       "  </tbody>\n",
       "</table>\n",
       "</div>"
      ],
      "text/plain": [
       "                mean       max     min\n",
       "Gender                                \n",
       "Men      9917.979899   60672.0   100.0\n",
       "Woman    8122.500000   24000.0   450.0\n",
       "other   88982.333333  963048.0  1000.0"
      ]
     },
     "execution_count": 107,
     "metadata": {},
     "output_type": "execute_result"
    }
   ],
   "source": [
    "df[df.Country =='Pakistan'].groupby('Gender')['salary'].agg(['mean','max','min'])"
   ]
  },
  {
   "cell_type": "code",
   "execution_count": 108,
   "id": "b5318810",
   "metadata": {},
   "outputs": [
    {
     "data": {
      "text/html": [
       "<div>\n",
       "<style scoped>\n",
       "    .dataframe tbody tr th:only-of-type {\n",
       "        vertical-align: middle;\n",
       "    }\n",
       "\n",
       "    .dataframe tbody tr th {\n",
       "        vertical-align: top;\n",
       "    }\n",
       "\n",
       "    .dataframe thead th {\n",
       "        text-align: right;\n",
       "    }\n",
       "</style>\n",
       "<table border=\"1\" class=\"dataframe\">\n",
       "  <thead>\n",
       "    <tr style=\"text-align: right;\">\n",
       "      <th></th>\n",
       "      <th></th>\n",
       "      <th>mean</th>\n",
       "      <th>max</th>\n",
       "      <th>min</th>\n",
       "    </tr>\n",
       "    <tr>\n",
       "      <th>Country</th>\n",
       "      <th>Gender</th>\n",
       "      <th></th>\n",
       "      <th></th>\n",
       "      <th></th>\n",
       "    </tr>\n",
       "  </thead>\n",
       "  <tbody>\n",
       "    <tr>\n",
       "      <th rowspan=\"3\" valign=\"top\">Afghanistan</th>\n",
       "      <th>Men</th>\n",
       "      <td>8778.000000</td>\n",
       "      <td>19152.0</td>\n",
       "      <td>1116.0</td>\n",
       "    </tr>\n",
       "    <tr>\n",
       "      <th>Woman</th>\n",
       "      <td>NaN</td>\n",
       "      <td>NaN</td>\n",
       "      <td>NaN</td>\n",
       "    </tr>\n",
       "    <tr>\n",
       "      <th>other</th>\n",
       "      <td>288304.000000</td>\n",
       "      <td>1000000.0</td>\n",
       "      <td>0.0</td>\n",
       "    </tr>\n",
       "    <tr>\n",
       "      <th rowspan=\"2\" valign=\"top\">Albania</th>\n",
       "      <th>Men</th>\n",
       "      <td>24126.214286</td>\n",
       "      <td>187668.0</td>\n",
       "      <td>1320.0</td>\n",
       "    </tr>\n",
       "    <tr>\n",
       "      <th>Woman</th>\n",
       "      <td>9798.000000</td>\n",
       "      <td>22080.0</td>\n",
       "      <td>4416.0</td>\n",
       "    </tr>\n",
       "    <tr>\n",
       "      <th>...</th>\n",
       "      <th>...</th>\n",
       "      <td>...</td>\n",
       "      <td>...</td>\n",
       "      <td>...</td>\n",
       "    </tr>\n",
       "    <tr>\n",
       "      <th>Yemen</th>\n",
       "      <th>other</th>\n",
       "      <td>NaN</td>\n",
       "      <td>NaN</td>\n",
       "      <td>NaN</td>\n",
       "    </tr>\n",
       "    <tr>\n",
       "      <th rowspan=\"2\" valign=\"top\">Zambia</th>\n",
       "      <th>Men</th>\n",
       "      <td>11190.714286</td>\n",
       "      <td>40524.0</td>\n",
       "      <td>400.0</td>\n",
       "    </tr>\n",
       "    <tr>\n",
       "      <th>Woman</th>\n",
       "      <td>2268.000000</td>\n",
       "      <td>2268.0</td>\n",
       "      <td>2268.0</td>\n",
       "    </tr>\n",
       "    <tr>\n",
       "      <th rowspan=\"2\" valign=\"top\">Zimbabwe</th>\n",
       "      <th>Men</th>\n",
       "      <td>34046.666667</td>\n",
       "      <td>180000.0</td>\n",
       "      <td>900.0</td>\n",
       "    </tr>\n",
       "    <tr>\n",
       "      <th>Woman</th>\n",
       "      <td>NaN</td>\n",
       "      <td>NaN</td>\n",
       "      <td>NaN</td>\n",
       "    </tr>\n",
       "  </tbody>\n",
       "</table>\n",
       "<p>438 rows × 3 columns</p>\n",
       "</div>"
      ],
      "text/plain": [
       "                             mean        max     min\n",
       "Country     Gender                                  \n",
       "Afghanistan Men       8778.000000    19152.0  1116.0\n",
       "            Woman             NaN        NaN     NaN\n",
       "            other   288304.000000  1000000.0     0.0\n",
       "Albania     Men      24126.214286   187668.0  1320.0\n",
       "            Woman     9798.000000    22080.0  4416.0\n",
       "...                           ...        ...     ...\n",
       "Yemen       other             NaN        NaN     NaN\n",
       "Zambia      Men      11190.714286    40524.0   400.0\n",
       "            Woman     2268.000000     2268.0  2268.0\n",
       "Zimbabwe    Men      34046.666667   180000.0   900.0\n",
       "            Woman             NaN        NaN     NaN\n",
       "\n",
       "[438 rows x 3 columns]"
      ]
     },
     "execution_count": 108,
     "metadata": {},
     "output_type": "execute_result"
    }
   ],
   "source": [
    "df.groupby(['Country','Gender'])['salary'].agg(['mean','max','min'])"
   ]
  },
  {
   "cell_type": "code",
   "execution_count": 109,
   "id": "f5695653",
   "metadata": {},
   "outputs": [
    {
     "data": {
      "text/html": [
       "<div>\n",
       "<style scoped>\n",
       "    .dataframe tbody tr th:only-of-type {\n",
       "        vertical-align: middle;\n",
       "    }\n",
       "\n",
       "    .dataframe tbody tr th {\n",
       "        vertical-align: top;\n",
       "    }\n",
       "\n",
       "    .dataframe thead th {\n",
       "        text-align: right;\n",
       "    }\n",
       "</style>\n",
       "<table border=\"1\" class=\"dataframe\">\n",
       "  <thead>\n",
       "    <tr style=\"text-align: right;\">\n",
       "      <th></th>\n",
       "      <th>Country</th>\n",
       "      <th>Gender</th>\n",
       "      <th>mean</th>\n",
       "      <th>max</th>\n",
       "      <th>min</th>\n",
       "    </tr>\n",
       "  </thead>\n",
       "  <tbody>\n",
       "    <tr>\n",
       "      <th>269</th>\n",
       "      <td>Netherlands</td>\n",
       "      <td>Woman</td>\n",
       "      <td>109061.405797</td>\n",
       "      <td>2000000.0</td>\n",
       "      <td>2850.0</td>\n",
       "    </tr>\n",
       "    <tr>\n",
       "      <th>342</th>\n",
       "      <td>Singapore</td>\n",
       "      <td>Men</td>\n",
       "      <td>121748.580420</td>\n",
       "      <td>2000000.0</td>\n",
       "      <td>3996.0</td>\n",
       "    </tr>\n",
       "    <tr>\n",
       "      <th>418</th>\n",
       "      <td>United States</td>\n",
       "      <td>Woman</td>\n",
       "      <td>187551.161157</td>\n",
       "      <td>2000000.0</td>\n",
       "      <td>0.0</td>\n",
       "    </tr>\n",
       "    <tr>\n",
       "      <th>419</th>\n",
       "      <td>United States</td>\n",
       "      <td>other</td>\n",
       "      <td>240338.536765</td>\n",
       "      <td>2000000.0</td>\n",
       "      <td>0.0</td>\n",
       "    </tr>\n",
       "    <tr>\n",
       "      <th>174</th>\n",
       "      <td>India</td>\n",
       "      <td>Men</td>\n",
       "      <td>28063.437297</td>\n",
       "      <td>2000000.0</td>\n",
       "      <td>0.0</td>\n",
       "    </tr>\n",
       "    <tr>\n",
       "      <th>...</th>\n",
       "      <td>...</td>\n",
       "      <td>...</td>\n",
       "      <td>...</td>\n",
       "      <td>...</td>\n",
       "      <td>...</td>\n",
       "    </tr>\n",
       "    <tr>\n",
       "      <th>416</th>\n",
       "      <td>United Republic of Tanzania</td>\n",
       "      <td>Woman</td>\n",
       "      <td>NaN</td>\n",
       "      <td>NaN</td>\n",
       "      <td>NaN</td>\n",
       "    </tr>\n",
       "    <tr>\n",
       "      <th>425</th>\n",
       "      <td>Uzbekistan</td>\n",
       "      <td>other</td>\n",
       "      <td>NaN</td>\n",
       "      <td>NaN</td>\n",
       "      <td>NaN</td>\n",
       "    </tr>\n",
       "    <tr>\n",
       "      <th>428</th>\n",
       "      <td>Venezuela, Bolivarian Republic of...</td>\n",
       "      <td>other</td>\n",
       "      <td>NaN</td>\n",
       "      <td>NaN</td>\n",
       "      <td>NaN</td>\n",
       "    </tr>\n",
       "    <tr>\n",
       "      <th>433</th>\n",
       "      <td>Yemen</td>\n",
       "      <td>other</td>\n",
       "      <td>NaN</td>\n",
       "      <td>NaN</td>\n",
       "      <td>NaN</td>\n",
       "    </tr>\n",
       "    <tr>\n",
       "      <th>437</th>\n",
       "      <td>Zimbabwe</td>\n",
       "      <td>Woman</td>\n",
       "      <td>NaN</td>\n",
       "      <td>NaN</td>\n",
       "      <td>NaN</td>\n",
       "    </tr>\n",
       "  </tbody>\n",
       "</table>\n",
       "<p>438 rows × 5 columns</p>\n",
       "</div>"
      ],
      "text/plain": [
       "                                  Country Gender           mean        max  \\\n",
       "269                           Netherlands  Woman  109061.405797  2000000.0   \n",
       "342                             Singapore    Men  121748.580420  2000000.0   \n",
       "418                         United States  Woman  187551.161157  2000000.0   \n",
       "419                         United States  other  240338.536765  2000000.0   \n",
       "174                                 India    Men   28063.437297  2000000.0   \n",
       "..                                    ...    ...            ...        ...   \n",
       "416           United Republic of Tanzania  Woman            NaN        NaN   \n",
       "425                            Uzbekistan  other            NaN        NaN   \n",
       "428  Venezuela, Bolivarian Republic of...  other            NaN        NaN   \n",
       "433                                 Yemen  other            NaN        NaN   \n",
       "437                              Zimbabwe  Woman            NaN        NaN   \n",
       "\n",
       "        min  \n",
       "269  2850.0  \n",
       "342  3996.0  \n",
       "418     0.0  \n",
       "419     0.0  \n",
       "174     0.0  \n",
       "..      ...  \n",
       "416     NaN  \n",
       "425     NaN  \n",
       "428     NaN  \n",
       "433     NaN  \n",
       "437     NaN  \n",
       "\n",
       "[438 rows x 5 columns]"
      ]
     },
     "execution_count": 109,
     "metadata": {},
     "output_type": "execute_result"
    }
   ],
   "source": [
    "new_df = df.groupby(['Country','Gender'])['salary'].agg(['mean','max','min']).reset_index().sort_values(by=['max'], ascending=False)\n",
    "new_df"
   ]
  },
  {
   "cell_type": "code",
   "execution_count": 110,
   "id": "e04c6dcb",
   "metadata": {},
   "outputs": [],
   "source": [
    "import seaborn as sns\n",
    "import matplotlib.pyplot as plt\n",
    "sns.set_style('darkgrid')"
   ]
  },
  {
   "cell_type": "code",
   "execution_count": 111,
   "id": "8cbfa5bd",
   "metadata": {},
   "outputs": [],
   "source": [
    "# sns.boxplot('', data=new2)"
   ]
  },
  {
   "cell_type": "code",
   "execution_count": 112,
   "id": "44eeb9ba",
   "metadata": {},
   "outputs": [
    {
     "data": {
      "text/plain": [
       "<Axes: xlabel='Gender', ylabel='mean'>"
      ]
     },
     "execution_count": 112,
     "metadata": {},
     "output_type": "execute_result"
    },
    {
     "data": {
      "image/png": "[encoded data removed]",
      "text/plain": [
       "<Figure size 640x480 with 1 Axes>"
      ]
     },
     "metadata": {},
     "output_type": "display_data"
    }
   ],
   "source": [
    "sns.barplot(x= 'Gender', y='mean', data=new_df)"
   ]
  },
  {
   "cell_type": "code",
   "execution_count": 113,
   "id": "fa8bc83f",
   "metadata": {},
   "outputs": [
    {
     "data": {
      "image/png": "[encoded data removed]",
      "text/plain": [
       "<Figure size 1500x1000 with 1 Axes>"
      ]
     },
     "metadata": {},
     "output_type": "display_data"
    }
   ],
   "source": [
    "new2 = new_df.sort_values(by='mean', ascending=False).head(10)\n",
    "plt.figure(figsize=(15,10))\n",
    "sns.barplot(x='mean', y='Country', data=new2)\n",
    "plt.xticks(rotation=90)\n",
    "plt.show()"
   ]
  },
  {
   "cell_type": "markdown",
   "id": "b5bb2d44",
   "metadata": {},
   "source": [
    "#### Question no 04 :Top ten countries salary according yearsCode"
   ]
  },
  {
   "cell_type": "code",
   "execution_count": 114,
   "id": "d202e642",
   "metadata": {},
   "outputs": [
    {
     "data": {
      "text/plain": [
       "array(['4', None, '3', '16', '13', '6', '8', '12', '2', '5', '17', '10',\n",
       "       '14', '35', '7', 'Less than 1 year', '30', '9', '26', '40', '19',\n",
       "       '15', '20', '28', '25', '1', '22', '11', '33', '50', '41', '18',\n",
       "       '34', '24', '23', '42', '27', '21', '36', '32', '39', '38', '31',\n",
       "       '37', 'More than 50 years', '29', '44', '45', '48', '46', '43',\n",
       "       '47', '49'], dtype=object)"
      ]
     },
     "execution_count": 114,
     "metadata": {},
     "output_type": "execute_result"
    }
   ],
   "source": [
    "df.replace(np.nan, None, inplace=True)\n",
    "df.YearsCode.unique()"
   ]
  },
  {
   "cell_type": "code",
   "execution_count": 136,
   "id": "c42a9440",
   "metadata": {},
   "outputs": [],
   "source": [
    "# 1-10 years beginners -> Beginners\n",
    "# 11-20 years -> Intermediate\n",
    "# 21-30 -> EXperted\n",
    "# 31-40 -> ProExperted\n",
    "# 41-50 -> MaxProExperted"
   ]
  },
  {
   "cell_type": "code",
   "execution_count": 115,
   "id": "1bc84a04",
   "metadata": {},
   "outputs": [],
   "source": [
    "def cleanYearsCode(x):\n",
    "    if x is not None:\n",
    "        if x=='Less than 1 year':\n",
    "            return float(0)\n",
    "        elif x=='More than 50 years':\n",
    "            return float(50)\n",
    "        else:\n",
    "            return float(x)\n",
    "    return None\n",
    "    \n",
    "df.YearsCode = df.YearsCode.apply(cleanYearsCode)\n"
   ]
  },
  {
   "cell_type": "code",
   "execution_count": 116,
   "id": "b6f97041-76dc-4929-8376-1bf6d47c607b",
   "metadata": {},
   "outputs": [
    {
     "data": {
      "text/html": [
       "<div>\n",
       "<style scoped>\n",
       "    .dataframe tbody tr th:only-of-type {\n",
       "        vertical-align: middle;\n",
       "    }\n",
       "\n",
       "    .dataframe tbody tr th {\n",
       "        vertical-align: top;\n",
       "    }\n",
       "\n",
       "    .dataframe thead th {\n",
       "        text-align: right;\n",
       "    }\n",
       "</style>\n",
       "<table border=\"1\" class=\"dataframe\">\n",
       "  <thead>\n",
       "    <tr style=\"text-align: right;\">\n",
       "      <th></th>\n",
       "      <th>MainBranch</th>\n",
       "      <th>Hobbyist</th>\n",
       "      <th>Country</th>\n",
       "      <th>YearsCode</th>\n",
       "      <th>salary</th>\n",
       "      <th>LanguageWorkedWith</th>\n",
       "      <th>SocialMedia</th>\n",
       "      <th>Age</th>\n",
       "      <th>Gender</th>\n",
       "    </tr>\n",
       "    <tr>\n",
       "      <th>Respondent</th>\n",
       "      <th></th>\n",
       "      <th></th>\n",
       "      <th></th>\n",
       "      <th></th>\n",
       "      <th></th>\n",
       "      <th></th>\n",
       "      <th></th>\n",
       "      <th></th>\n",
       "      <th></th>\n",
       "    </tr>\n",
       "  </thead>\n",
       "  <tbody>\n",
       "    <tr>\n",
       "      <th>22912</th>\n",
       "      <td>I am a developer by profession</td>\n",
       "      <td>Yes</td>\n",
       "      <td>United States</td>\n",
       "      <td>24.0</td>\n",
       "      <td>130000.0</td>\n",
       "      <td>C#;JavaScript;Python;TypeScript</td>\n",
       "      <td>Twitter</td>\n",
       "      <td>36.0</td>\n",
       "      <td>Men</td>\n",
       "    </tr>\n",
       "    <tr>\n",
       "      <th>14167</th>\n",
       "      <td>I am a developer by profession</td>\n",
       "      <td>Yes</td>\n",
       "      <td>Germany</td>\n",
       "      <td>6.0</td>\n",
       "      <td>48120.0</td>\n",
       "      <td>Bash/Shell/PowerShell;C#;Go;HTML/CSS;Java;Java...</td>\n",
       "      <td>Facebook</td>\n",
       "      <td>30.0</td>\n",
       "      <td>Men</td>\n",
       "    </tr>\n",
       "    <tr>\n",
       "      <th>74415</th>\n",
       "      <td>I am a developer by profession</td>\n",
       "      <td>Yes</td>\n",
       "      <td>United States</td>\n",
       "      <td>5.0</td>\n",
       "      <td>85000.0</td>\n",
       "      <td>Bash/Shell/PowerShell;C++;HTML/CSS;Java;JavaSc...</td>\n",
       "      <td>Instagram</td>\n",
       "      <td>None</td>\n",
       "      <td>Men</td>\n",
       "    </tr>\n",
       "    <tr>\n",
       "      <th>9689</th>\n",
       "      <td>I am a developer by profession</td>\n",
       "      <td>No</td>\n",
       "      <td>Israel</td>\n",
       "      <td>2.0</td>\n",
       "      <td>47832.0</td>\n",
       "      <td>HTML/CSS;JavaScript;SQL</td>\n",
       "      <td>YouTube</td>\n",
       "      <td>None</td>\n",
       "      <td>Men</td>\n",
       "    </tr>\n",
       "    <tr>\n",
       "      <th>28760</th>\n",
       "      <td>I am a developer by profession</td>\n",
       "      <td>Yes</td>\n",
       "      <td>Norway</td>\n",
       "      <td>7.0</td>\n",
       "      <td>77022.0</td>\n",
       "      <td>C#;HTML/CSS;JavaScript;PHP</td>\n",
       "      <td>Facebook</td>\n",
       "      <td>41.0</td>\n",
       "      <td>Men</td>\n",
       "    </tr>\n",
       "  </tbody>\n",
       "</table>\n",
       "</div>"
      ],
      "text/plain": [
       "                                MainBranch Hobbyist        Country  YearsCode  \\\n",
       "Respondent                                                                      \n",
       "22912       I am a developer by profession      Yes  United States       24.0   \n",
       "14167       I am a developer by profession      Yes        Germany        6.0   \n",
       "74415       I am a developer by profession      Yes  United States        5.0   \n",
       "9689        I am a developer by profession       No         Israel        2.0   \n",
       "28760       I am a developer by profession      Yes         Norway        7.0   \n",
       "\n",
       "              salary                                 LanguageWorkedWith  \\\n",
       "Respondent                                                                \n",
       "22912       130000.0                    C#;JavaScript;Python;TypeScript   \n",
       "14167        48120.0  Bash/Shell/PowerShell;C#;Go;HTML/CSS;Java;Java...   \n",
       "74415        85000.0  Bash/Shell/PowerShell;C++;HTML/CSS;Java;JavaSc...   \n",
       "9689         47832.0                            HTML/CSS;JavaScript;SQL   \n",
       "28760        77022.0                         C#;HTML/CSS;JavaScript;PHP   \n",
       "\n",
       "           SocialMedia   Age Gender  \n",
       "Respondent                           \n",
       "22912          Twitter  36.0    Men  \n",
       "14167         Facebook  30.0    Men  \n",
       "74415        Instagram  None    Men  \n",
       "9689           YouTube  None    Men  \n",
       "28760         Facebook  41.0    Men  "
      ]
     },
     "execution_count": 116,
     "metadata": {},
     "output_type": "execute_result"
    }
   ],
   "source": [
    "df.sample(5)"
   ]
  },
  {
   "cell_type": "code",
   "execution_count": 117,
   "id": "8e4ff81f",
   "metadata": {},
   "outputs": [],
   "source": [
    "def modifyYearsCode(x):\n",
    "    if (x>=0  and x<=10):\n",
    "        return \"Beginners\"\n",
    "    elif (x>=11 and x<=20):\n",
    "        return 'Intermediate'\n",
    "    elif (x>=21 and x<=30):\n",
    "        return \"Expert\"\n",
    "    elif (x>=31 and x<= 40):\n",
    "        return 'ProExpert'\n",
    "    else:\n",
    "        return \"ProMaxExpert\"\n",
    "df.YearsCode = df.YearsCode.apply(modifyYearsCode)\n"
   ]
  },
  {
   "cell_type": "code",
   "execution_count": null,
   "id": "ea285799-c8df-4f17-bad3-a2590ee69264",
   "metadata": {},
   "outputs": [],
   "source": []
  },
  {
   "cell_type": "code",
   "execution_count": 118,
   "id": "4aa2d051",
   "metadata": {},
   "outputs": [
    {
     "data": {
      "text/plain": [
       "YearsCode\n",
       "Beginners       52107\n",
       "Intermediate    23395\n",
       "Expert           7874\n",
       "ProExpert        3811\n",
       "ProMaxExpert     1696\n",
       "Name: count, dtype: int64"
      ]
     },
     "execution_count": 118,
     "metadata": {},
     "output_type": "execute_result"
    }
   ],
   "source": [
    "df.YearsCode.value_counts()"
   ]
  },
  {
   "cell_type": "code",
   "execution_count": 119,
   "id": "81253b03-8407-4d65-97d0-ca797f33ac74",
   "metadata": {},
   "outputs": [
    {
     "data": {
      "text/plain": [
       "MainBranch            object\n",
       "Hobbyist              object\n",
       "Country               object\n",
       "YearsCode             object\n",
       "salary                object\n",
       "LanguageWorkedWith    object\n",
       "SocialMedia           object\n",
       "Age                   object\n",
       "Gender                object\n",
       "dtype: object"
      ]
     },
     "execution_count": 119,
     "metadata": {},
     "output_type": "execute_result"
    }
   ],
   "source": [
    "df.dtypes"
   ]
  },
  {
   "cell_type": "code",
   "execution_count": 120,
   "id": "2ce0f9a2-67e0-42dd-af5b-5e351fa4487e",
   "metadata": {},
   "outputs": [],
   "source": [
    "df.salary = df.salary.astype(float)"
   ]
  },
  {
   "cell_type": "code",
   "execution_count": 121,
   "id": "4ee0e249",
   "metadata": {},
   "outputs": [
    {
     "data": {
      "image/png": "[encoded data removed]",
      "text/plain": [
       "<Figure size 1000x700 with 1 Axes>"
      ]
     },
     "metadata": {},
     "output_type": "display_data"
    }
   ],
   "source": [
    "plt.figure(figsize=(10,7))\n",
    "sns.barplot(x='YearsCode', y=df.salary, data=df)\n",
    "plt.show()"
   ]
  },
  {
   "cell_type": "code",
   "execution_count": null,
   "id": "d1700bd4-f0ae-4121-96fa-146813dac56d",
   "metadata": {},
   "outputs": [],
   "source": [
    "df['YearsCode']"
   ]
  },
  {
   "cell_type": "code",
   "execution_count": null,
   "id": "65131f2b",
   "metadata": {},
   "outputs": [],
   "source": [
    "sns.countplot(data=df, x=df['YearsCode'])\n",
    "plt.show()"
   ]
  },
  {
   "cell_type": "code",
   "execution_count": null,
   "id": "adcd715b",
   "metadata": {},
   "outputs": [],
   "source": [
    "# df[['Country','YearsCode','salary']].sort_values(by=df.Country.value_counts())"
   ]
  },
  {
   "cell_type": "code",
   "execution_count": null,
   "id": "45c0b08b",
   "metadata": {},
   "outputs": [],
   "source": [
    "df.Country.value_counts().head(15)"
   ]
  },
  {
   "cell_type": "code",
   "execution_count": null,
   "id": "d43dedef-9f0c-4b05-b15d-f0da4d1bdeb4",
   "metadata": {},
   "outputs": [],
   "source": [
    "df['YearsCode'].dtype"
   ]
  },
  {
   "cell_type": "code",
   "execution_count": 122,
   "id": "1f1c760a",
   "metadata": {},
   "outputs": [],
   "source": [
    "df1 = df.groupby('Country')[['YearsCode','salary']].value_counts().reset_index().sort_values(by='salary', ascending=False).head(10)"
   ]
  },
  {
   "cell_type": "code",
   "execution_count": 123,
   "id": "7426eaa5",
   "metadata": {},
   "outputs": [
    {
     "data": {
      "text/plain": [
       "Country        YearsCode     salary   \n",
       "India          Beginners     2000000.0    1\n",
       "               Expert        2000000.0    1\n",
       "Mexico         Intermediate  2000000.0    1\n",
       "Netherlands    Beginners     2000000.0    1\n",
       "Peru           Expert        2000000.0    1\n",
       "Singapore      Intermediate  2000000.0    1\n",
       "Switzerland    Intermediate  2000000.0    1\n",
       "United States  Expert        2000000.0    1\n",
       "               ProExpert     2000000.0    1\n",
       "               ProMaxExpert  2000000.0    1\n",
       "Name: count, dtype: int64"
      ]
     },
     "execution_count": 123,
     "metadata": {},
     "output_type": "execute_result"
    }
   ],
   "source": [
    "df1.groupby('Country')[['YearsCode','salary']].value_counts()"
   ]
  },
  {
   "cell_type": "code",
   "execution_count": 124,
   "id": "af9ede2c",
   "metadata": {},
   "outputs": [
    {
     "data": {
      "image/png": "[encoded data removed]",
      "text/plain": [
       "<Figure size 1000x1000 with 1 Axes>"
      ]
     },
     "metadata": {},
     "output_type": "display_data"
    }
   ],
   "source": [
    "plt.figure(figsize=(10,10))\n",
    "sns.barplot(y='Country',x='salary',hue='YearsCode', data=df1)\n",
    "plt.show()"
   ]
  },
  {
   "cell_type": "code",
   "execution_count": null,
   "id": "c8f8f3db",
   "metadata": {},
   "outputs": [],
   "source": []
  },
  {
   "cell_type": "code",
   "execution_count": null,
   "id": "c396ee76",
   "metadata": {},
   "outputs": [],
   "source": []
  },
  {
   "cell_type": "code",
   "execution_count": null,
   "id": "fedf81bd",
   "metadata": {},
   "outputs": [],
   "source": []
  },
  {
   "cell_type": "markdown",
   "id": "e2f7f861",
   "metadata": {},
   "source": [
    "## Practice Exercise 01"
   ]
  },
  {
   "cell_type": "markdown",
   "id": "98240fc4",
   "metadata": {},
   "source": [
    "#### Step 1. Import the necessary libraries"
   ]
  },
  {
   "cell_type": "markdown",
   "id": "f60f4136",
   "metadata": {},
   "source": [
    "#### Step 2. Assign it to a variable called drinks."
   ]
  },
  {
   "cell_type": "code",
   "execution_count": null,
   "id": "347a2a5b",
   "metadata": {},
   "outputs": [],
   "source": [
    "drinks = pd.read_csv('datasets/drinks.csv')\n",
    "drinks.head()"
   ]
  },
  {
   "cell_type": "code",
   "execution_count": null,
   "id": "a54cfc14",
   "metadata": {},
   "outputs": [],
   "source": [
    "drinks.info()"
   ]
  },
  {
   "cell_type": "code",
   "execution_count": null,
   "id": "81eaa1d5",
   "metadata": {},
   "outputs": [],
   "source": []
  },
  {
   "cell_type": "markdown",
   "id": "f50ebb51",
   "metadata": {},
   "source": [
    "#### Step 4. Which continent drinks more beer on average?"
   ]
  },
  {
   "cell_type": "markdown",
   "id": "772bcccf",
   "metadata": {},
   "source": [
    "List of all continets\n",
    "```\n",
    "Asia \n",
    "Africa \n",
    "Europe \n",
    "North America \n",
    "South America\n",
    "Australia/Oceania \n",
    "Antarctica\n",
    "```"
   ]
  },
  {
   "cell_type": "code",
   "execution_count": null,
   "id": "9a696435",
   "metadata": {},
   "outputs": [],
   "source": [
    "drinks.columns"
   ]
  },
  {
   "cell_type": "code",
   "execution_count": null,
   "id": "1a3961d8",
   "metadata": {},
   "outputs": [],
   "source": [
    "drinks.continent.value_counts()"
   ]
  },
  {
   "cell_type": "code",
   "execution_count": null,
   "id": "452f06a4",
   "metadata": {},
   "outputs": [],
   "source": [
    "drinks.groupby('continent').agg({'beer_servings':'mean'}).sort_values(by='beer_servings')"
   ]
  },
  {
   "cell_type": "code",
   "execution_count": null,
   "id": "2580c95b",
   "metadata": {},
   "outputs": [],
   "source": []
  },
  {
   "cell_type": "markdown",
   "id": "8d0a3253",
   "metadata": {},
   "source": [
    "#### Step 5. For each continent print the statistics for wine consumption."
   ]
  },
  {
   "cell_type": "code",
   "execution_count": null,
   "id": "b6e09f98",
   "metadata": {},
   "outputs": [],
   "source": [
    "# df.groupby('')\n",
    "drinks.columns"
   ]
  },
  {
   "cell_type": "code",
   "execution_count": null,
   "id": "5577804d",
   "metadata": {},
   "outputs": [],
   "source": [
    "# drinks[['continent','wine_servings']]\n",
    "drinks.groupby('continent')['wine_servings'].describe()"
   ]
  },
  {
   "cell_type": "code",
   "execution_count": null,
   "id": "9c9a132f",
   "metadata": {},
   "outputs": [],
   "source": []
  },
  {
   "cell_type": "code",
   "execution_count": null,
   "id": "d7ca171d",
   "metadata": {},
   "outputs": [],
   "source": []
  },
  {
   "cell_type": "markdown",
   "id": "93274d82",
   "metadata": {},
   "source": [
    "#### Step 6. Print the mean alcohol consumption per continent for every column"
   ]
  },
  {
   "cell_type": "code",
   "execution_count": null,
   "id": "38a99c50",
   "metadata": {},
   "outputs": [],
   "source": [
    "drinks.columns"
   ]
  },
  {
   "cell_type": "code",
   "execution_count": null,
   "id": "1fbc317c",
   "metadata": {},
   "outputs": [],
   "source": [
    "drinks.groupby('continent')['total_litres_of_pure_alcohol'].mean()"
   ]
  },
  {
   "cell_type": "code",
   "execution_count": null,
   "id": "84a852e0",
   "metadata": {},
   "outputs": [],
   "source": []
  },
  {
   "cell_type": "markdown",
   "id": "04bc083f",
   "metadata": {},
   "source": [
    "#### Step 7. Print the median alcohol consumption per continent for every column"
   ]
  },
  {
   "cell_type": "code",
   "execution_count": null,
   "id": "c71f3b60",
   "metadata": {},
   "outputs": [],
   "source": [
    "drinks.groupby('continent')['total_litres_of_pure_alcohol'].median()"
   ]
  },
  {
   "cell_type": "code",
   "execution_count": null,
   "id": "fe97d174",
   "metadata": {},
   "outputs": [],
   "source": [
    "drinks.columns"
   ]
  },
  {
   "cell_type": "markdown",
   "id": "e35f99f6",
   "metadata": {},
   "source": [
    "#### Step 8. Print the mean, min and max values for spirit consumption.\n",
    "#### This time output a DataFrame"
   ]
  },
  {
   "cell_type": "code",
   "execution_count": null,
   "id": "b6305d47",
   "metadata": {},
   "outputs": [],
   "source": [
    "drinks.groupby('continent').agg({'spirit_servings':['mean','min','max']})"
   ]
  },
  {
   "cell_type": "code",
   "execution_count": null,
   "id": "51773076",
   "metadata": {},
   "outputs": [],
   "source": []
  },
  {
   "cell_type": "code",
   "execution_count": null,
   "id": "4ecccf8c",
   "metadata": {},
   "outputs": [],
   "source": []
  },
  {
   "cell_type": "code",
   "execution_count": null,
   "id": "92152843",
   "metadata": {},
   "outputs": [],
   "source": []
  },
  {
   "cell_type": "code",
   "execution_count": null,
   "id": "a02d488b",
   "metadata": {},
   "outputs": [],
   "source": []
  },
  {
   "cell_type": "code",
   "execution_count": 1,
   "id": "01165b0e",
   "metadata": {},
   "outputs": [
    {
     "data": {
      "text/html": [
       "\n",
       "    <style>\n",
       "        body {\n",
       "            background-color: #f2fff2;\n",
       "        }\n",
       "        h1 {\n",
       "            text-align: center;\n",
       "            font-weight: bold;\n",
       "            font-size: 36px;\n",
       "            color: #4295F4;\n",
       "            text-decoration: underline;\n",
       "            padding-top: 15px;\n",
       "        }\n",
       "        \n",
       "        h2 {\n",
       "            text-align: left;\n",
       "            font-weight: bold;\n",
       "            font-size: 30px;\n",
       "            color: #4A000A;\n",
       "            text-decoration: underline;\n",
       "            padding-top: 10px;\n",
       "        }\n",
       "        \n",
       "        h3 {\n",
       "            text-align: left;\n",
       "            font-weight: bold;\n",
       "            font-size: 30px;\n",
       "            color: #f0081e;\n",
       "            text-decoration: underline;\n",
       "            padding-top: 5px;\n",
       "        }\n",
       "\n",
       "        \n",
       "        p {\n",
       "            text-align: center;\n",
       "            font-size: 12 px;\n",
       "            color: #0B9923;\n",
       "        }\n",
       "    </style>\n",
       "\n",
       "<h1>Hello</h1>\n",
       "<p>Hello World</p>\n",
       "<h2> Hello</h2>\n",
       "<h3> World </h3>\n"
      ],
      "text/plain": [
       "<IPython.core.display.HTML object>"
      ]
     },
     "execution_count": 1,
     "metadata": {},
     "output_type": "execute_result"
    }
   ],
   "source": [
    "from IPython.core.display import HTML\n",
    "\n",
    "style = \"\"\"\n",
    "    <style>\n",
    "        body {\n",
    "            background-color: #f2fff2;\n",
    "        }\n",
    "        h1 {\n",
    "            text-align: center;\n",
    "            font-weight: bold;\n",
    "            font-size: 36px;\n",
    "            color: #4295F4;\n",
    "            text-decoration: underline;\n",
    "            padding-top: 15px;\n",
    "        }\n",
    "        \n",
    "        h2 {\n",
    "            text-align: left;\n",
    "            font-weight: bold;\n",
    "            font-size: 30px;\n",
    "            color: #4A000A;\n",
    "            text-decoration: underline;\n",
    "            padding-top: 10px;\n",
    "        }\n",
    "        \n",
    "        h3 {\n",
    "            text-align: left;\n",
    "            font-weight: bold;\n",
    "            font-size: 30px;\n",
    "            color: #f0081e;\n",
    "            text-decoration: underline;\n",
    "            padding-top: 5px;\n",
    "        }\n",
    "\n",
    "        \n",
    "        p {\n",
    "            text-align: center;\n",
    "            font-size: 12 px;\n",
    "            color: #0B9923;\n",
    "        }\n",
    "    </style>\n",
    "\"\"\"\n",
    "\n",
    "html_content = \"\"\"\n",
    "<h1>Hello</h1>\n",
    "<p>Hello World</p>\n",
    "<h2> Hello</h2>\n",
    "<h3> World </h3>\n",
    "\"\"\"\n",
    "\n",
    "HTML(style + html_content)"
   ]
  },
  {
   "cell_type": "code",
   "execution_count": null,
   "id": "dc46f85c",
   "metadata": {},
   "outputs": [],
   "source": []
  },
  {
   "cell_type": "code",
   "execution_count": null,
   "id": "475bd16a-5b43-4ab5-b020-826051f08234",
   "metadata": {},
   "outputs": [],
   "source": []
  },
  {
   "cell_type": "code",
   "execution_count": null,
   "id": "ccff4da5-19fb-4164-ba63-10c94a92fdfa",
   "metadata": {},
   "outputs": [],
   "source": []
  }
 ],
 "metadata": {
  "kernelspec": {
   "display_name": "Python 3 (ipykernel)",
   "language": "python",
   "name": "python3"
  },
  "language_info": {
   "codemirror_mode": {
    "name": "ipython",
    "version": 3
   },
   "file_extension": ".py",
   "mimetype": "text/x-python",
   "name": "python",
   "nbconvert_exporter": "python",
   "pygments_lexer": "ipython3",
   "version": "3.11.7"
  }
 },
 "nbformat": 4,
 "nbformat_minor": 5
}
