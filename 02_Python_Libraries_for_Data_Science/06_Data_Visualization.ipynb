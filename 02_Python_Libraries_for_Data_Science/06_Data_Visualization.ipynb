{
 "cells": [
  {
   "cell_type": "markdown",
   "id": "fff56b76",
   "metadata": {},
   "source": [
    "---   \n",
    "<h1 align=\"center\">Data Visualization Part 1</h1>\n",
    "\n",
    "---\n",
    "<h3><div align=\"right\">Ehtisham Sadiq</div></h3>    "
   ]
  },
  {
   "cell_type": "markdown",
   "id": "117c331e",
   "metadata": {},
   "source": [
    "## _Data Visualization with Matplotlib_\n",
    "\n",
    "**Read Documentation for details:** \n",
    "https://matplotlib.org/stable/users/index.html"
   ]
  },
  {
   "cell_type": "markdown",
   "id": "10a00218",
   "metadata": {},
   "source": [
    "<img align=\"left\" width=\"500\" height=\"500\"  src=\"images/intromatlab.png\"  >\n",
    "<img align=\"right\" width=\"400\" height=\"500\"  src=\"images/matplotlibadvantages.png\"  >"
   ]
  },
  {
   "cell_type": "code",
   "execution_count": null,
   "id": "a39bbba6",
   "metadata": {},
   "outputs": [],
   "source": []
  },
  {
   "cell_type": "code",
   "execution_count": null,
   "id": "68e12bb3",
   "metadata": {},
   "outputs": [],
   "source": []
  },
  {
   "cell_type": "code",
   "execution_count": null,
   "id": "df3b2c9c",
   "metadata": {},
   "outputs": [],
   "source": []
  },
  {
   "cell_type": "code",
   "execution_count": null,
   "id": "9d146c83",
   "metadata": {},
   "outputs": [],
   "source": []
  },
  {
   "cell_type": "code",
   "execution_count": null,
   "id": "cb232188",
   "metadata": {},
   "outputs": [],
   "source": []
  },
  {
   "cell_type": "code",
   "execution_count": null,
   "id": "a12ab8da",
   "metadata": {},
   "outputs": [],
   "source": []
  },
  {
   "cell_type": "code",
   "execution_count": null,
   "id": "5c63473d",
   "metadata": {},
   "outputs": [],
   "source": []
  },
  {
   "cell_type": "code",
   "execution_count": null,
   "id": "0677fbfc",
   "metadata": {},
   "outputs": [],
   "source": []
  },
  {
   "cell_type": "markdown",
   "id": "f90af046",
   "metadata": {},
   "source": [
    "#  Chart Chooser\n",
    "<img align=\"center\" width=\"700\" height=\"700\"  src=\"images/chartchooser.png\"  >\n"
   ]
  },
  {
   "cell_type": "code",
   "execution_count": null,
   "id": "51aa90b0",
   "metadata": {},
   "outputs": [],
   "source": []
  },
  {
   "cell_type": "code",
   "execution_count": null,
   "id": "aeea6c61",
   "metadata": {},
   "outputs": [],
   "source": []
  },
  {
   "cell_type": "code",
   "execution_count": null,
   "id": "109cf480",
   "metadata": {},
   "outputs": [],
   "source": []
  },
  {
   "cell_type": "code",
   "execution_count": null,
   "id": "77ec2174",
   "metadata": {},
   "outputs": [],
   "source": []
  },
  {
   "cell_type": "code",
   "execution_count": null,
   "id": "5a321280",
   "metadata": {},
   "outputs": [],
   "source": []
  },
  {
   "cell_type": "markdown",
   "id": "2a1a90b7",
   "metadata": {},
   "source": [
    "# Data Visualization using Matplotlib and Seaborn\n",
    "<img align=\"center\" width=\"700\" height=\"900\"  src=\"images/graphs1.png\"  >"
   ]
  },
  {
   "cell_type": "code",
   "execution_count": null,
   "id": "484c5679",
   "metadata": {},
   "outputs": [],
   "source": []
  },
  {
   "cell_type": "code",
   "execution_count": null,
   "id": "6ab57a45",
   "metadata": {},
   "outputs": [],
   "source": []
  },
  {
   "cell_type": "code",
   "execution_count": null,
   "id": "fdfe0a72",
   "metadata": {},
   "outputs": [],
   "source": []
  },
  {
   "cell_type": "code",
   "execution_count": null,
   "id": "89d97edc",
   "metadata": {},
   "outputs": [],
   "source": []
  },
  {
   "cell_type": "code",
   "execution_count": null,
   "id": "7e8c0235",
   "metadata": {},
   "outputs": [],
   "source": []
  },
  {
   "cell_type": "code",
   "execution_count": null,
   "id": "0108b4d6",
   "metadata": {},
   "outputs": [],
   "source": []
  },
  {
   "cell_type": "markdown",
   "id": "e6e9f900",
   "metadata": {},
   "source": [
    "#  Anatomy of a Figure\n",
    "<img align=\"center\" width=\"700\" height=\"500\"  src=\"images/anotomyoffig.png\"  >"
   ]
  },
  {
   "cell_type": "code",
   "execution_count": null,
   "id": "5c1bf6c2",
   "metadata": {},
   "outputs": [],
   "source": []
  },
  {
   "cell_type": "code",
   "execution_count": null,
   "id": "e6b495cb",
   "metadata": {},
   "outputs": [],
   "source": []
  },
  {
   "cell_type": "code",
   "execution_count": null,
   "id": "535b1d48",
   "metadata": {},
   "outputs": [],
   "source": []
  },
  {
   "cell_type": "code",
   "execution_count": null,
   "id": "b41510e7",
   "metadata": {},
   "outputs": [],
   "source": []
  },
  {
   "cell_type": "code",
   "execution_count": null,
   "id": "14205092",
   "metadata": {},
   "outputs": [],
   "source": []
  },
  {
   "cell_type": "markdown",
   "id": "e42b820a",
   "metadata": {},
   "source": [
    "## Learning agenda of this notebook\n",
    "1. Introduction to Data Visualization\n",
    "2. Chart Chooser\n",
    "3. Anatomy of a Figure\n",
    "4. Download and Install Matplotlib\n",
    "5. How to draw a Line Chart\n",
    "6. Enhance the Graph Step by Step"
   ]
  },
  {
   "cell_type": "code",
   "execution_count": null,
   "id": "96654a75",
   "metadata": {},
   "outputs": [],
   "source": []
  },
  {
   "cell_type": "code",
   "execution_count": null,
   "id": "0d911492",
   "metadata": {},
   "outputs": [],
   "source": []
  },
  {
   "cell_type": "code",
   "execution_count": null,
   "id": "2ffb82b4",
   "metadata": {},
   "outputs": [],
   "source": []
  },
  {
   "cell_type": "markdown",
   "id": "b61bbe51",
   "metadata": {},
   "source": [
    "## 4. Download and Install Matplotlib"
   ]
  },
  {
   "cell_type": "markdown",
   "id": "dfd1b1d8",
   "metadata": {},
   "source": [
    "To begin, let's install the Matplotlib library. We'll use the `matplotlib.pyplot` module for basic plots like line & bar charts. It is often imported with the alias `plt`. "
   ]
  },
  {
   "cell_type": "code",
   "execution_count": null,
   "id": "7e6f955f",
   "metadata": {},
   "outputs": [],
   "source": [
    "# To install this library in Jupyter notebook\n",
    "import sys\n",
    "!{sys.executable} -m pip install matplotlib --quiet"
   ]
  },
  {
   "cell_type": "code",
   "execution_count": null,
   "id": "e99b39c5",
   "metadata": {},
   "outputs": [],
   "source": [
    "import matplotlib\n",
    "matplotlib.__version__ , matplotlib.__path__"
   ]
  },
  {
   "cell_type": "code",
   "execution_count": 2,
   "id": "a743d8cb",
   "metadata": {},
   "outputs": [],
   "source": [
    "from matplotlib import pyplot as plt"
   ]
  },
  {
   "cell_type": "code",
   "execution_count": null,
   "id": "322da3c8",
   "metadata": {},
   "outputs": [],
   "source": [
    "print(dir(plt))"
   ]
  },
  {
   "cell_type": "code",
   "execution_count": null,
   "id": "c30ec112",
   "metadata": {},
   "outputs": [],
   "source": []
  },
  {
   "cell_type": "code",
   "execution_count": null,
   "id": "1b4413a1",
   "metadata": {},
   "outputs": [],
   "source": []
  },
  {
   "cell_type": "code",
   "execution_count": null,
   "id": "17d5dfbe",
   "metadata": {},
   "outputs": [],
   "source": []
  },
  {
   "cell_type": "markdown",
   "id": "ca7c3f4c",
   "metadata": {},
   "source": [
    "## 5. Programming with Matplotlib"
   ]
  },
  {
   "cell_type": "markdown",
   "id": "1d3a0df4",
   "metadata": {},
   "source": [
    "#### Option 1: Statefull Approach"
   ]
  },
  {
   "cell_type": "code",
   "execution_count": null,
   "id": "4b639b0f",
   "metadata": {},
   "outputs": [],
   "source": [
    "import numpy as np\n",
    "x = np.linspace(-2, 2, 20)\n",
    "y = x**3\n",
    "plt.plot(x,y)\n",
    "plt.show()"
   ]
  },
  {
   "cell_type": "code",
   "execution_count": null,
   "id": "eb1181ff",
   "metadata": {},
   "outputs": [],
   "source": []
  },
  {
   "cell_type": "code",
   "execution_count": null,
   "id": "b2de57ff",
   "metadata": {},
   "outputs": [],
   "source": []
  },
  {
   "cell_type": "code",
   "execution_count": null,
   "id": "252858a6",
   "metadata": {},
   "outputs": [],
   "source": []
  },
  {
   "cell_type": "markdown",
   "id": "8c16d26b",
   "metadata": {},
   "source": [
    "#### Option 2: Stateless (Object Oriented) Approach"
   ]
  },
  {
   "cell_type": "code",
   "execution_count": null,
   "id": "66df3de0",
   "metadata": {},
   "outputs": [],
   "source": [
    "# Use plt.subplot() method to add an Axes to the current figure \n",
    "fig = plt.figure()\n",
    "ax = plt.subplot()\n",
    "ax.plot(x,y)\n",
    "plt.show()"
   ]
  },
  {
   "cell_type": "code",
   "execution_count": null,
   "id": "2405e94d",
   "metadata": {},
   "outputs": [],
   "source": [
    "# Use fig.add_subplot() method to add an Axes to the figure on which it is called\n",
    "fig = plt.figure()\n",
    "ax = fig.add_subplot()\n",
    "ax.plot(x,y)\n",
    "plt.show()"
   ]
  },
  {
   "cell_type": "code",
   "execution_count": null,
   "id": "ec9473d1",
   "metadata": {},
   "outputs": [],
   "source": [
    "# Use plt.subplots() method to create a figure and a add set of subplots in a single call\n",
    "fig, ax = plt.subplots()\n",
    "ax.plot(x,y)\n",
    "plt.show()"
   ]
  },
  {
   "cell_type": "code",
   "execution_count": null,
   "id": "c414346c",
   "metadata": {},
   "outputs": [],
   "source": []
  },
  {
   "cell_type": "code",
   "execution_count": null,
   "id": "07073e6e",
   "metadata": {},
   "outputs": [],
   "source": []
  },
  {
   "cell_type": "markdown",
   "id": "8bb54d21",
   "metadata": {},
   "source": [
    "## 6. How to Draw a Line Chart"
   ]
  },
  {
   "cell_type": "code",
   "execution_count": null,
   "id": "b1e59bd3",
   "metadata": {},
   "outputs": [],
   "source": [
    "chemical_exports = [0.810, 0.831, 0.895, 0.91, 0.915, 0.926, 0.945, 0.931, 0.919, 0.921, 0.920, 0.919]\n",
    "years = [2010, 2011, 2012, 2013, 2014, 2015, 2016, 2017, 2018, 2019, 2020, 2021]\n",
    "\n",
    "fig,ax = plt.subplots()\n",
    "ax.plot(years, chemical_exports)\n",
    "plt.show()"
   ]
  },
  {
   "cell_type": "code",
   "execution_count": null,
   "id": "07fa5ebc",
   "metadata": {},
   "outputs": [],
   "source": []
  },
  {
   "cell_type": "code",
   "execution_count": null,
   "id": "2a14dfb9",
   "metadata": {},
   "outputs": [],
   "source": []
  },
  {
   "cell_type": "code",
   "execution_count": null,
   "id": "732d699e",
   "metadata": {},
   "outputs": [],
   "source": []
  },
  {
   "cell_type": "code",
   "execution_count": null,
   "id": "367ebf57",
   "metadata": {},
   "outputs": [],
   "source": []
  },
  {
   "cell_type": "markdown",
   "id": "46c1e359",
   "metadata": {},
   "source": [
    "## 7. Enhance the Graph Step by Step"
   ]
  },
  {
   "cell_type": "markdown",
   "id": "4a594f78",
   "metadata": {},
   "source": [
    "### a. Adding Chart Title"
   ]
  },
  {
   "cell_type": "code",
   "execution_count": null,
   "id": "a86c78f3",
   "metadata": {},
   "outputs": [],
   "source": [
    "chemical_exports = [0.810, 0.831, 0.895, 0.91, 0.915, 0.926, 0.945, 0.931, 0.919, 0.921, 0.920, 0.919]\n",
    "years = [2010, 2011, 2012, 2013, 2014, 2015, 2016, 2017, 2018, 2019, 2020, 2021]\n",
    "\n",
    "fig,ax = plt.subplots()\n",
    "ax.plot(years, chemical_exports)\n",
    "plt.title(\"LCI Exports in last 12 years\")\n",
    "\n",
    "plt.show()"
   ]
  },
  {
   "cell_type": "code",
   "execution_count": null,
   "id": "a1644672",
   "metadata": {},
   "outputs": [],
   "source": []
  },
  {
   "cell_type": "code",
   "execution_count": null,
   "id": "22f09eec",
   "metadata": {},
   "outputs": [],
   "source": []
  },
  {
   "cell_type": "code",
   "execution_count": null,
   "id": "e6d55dbb",
   "metadata": {},
   "outputs": [],
   "source": []
  },
  {
   "cell_type": "code",
   "execution_count": null,
   "id": "0de28720",
   "metadata": {},
   "outputs": [],
   "source": []
  },
  {
   "cell_type": "code",
   "execution_count": null,
   "id": "a87ac1e4",
   "metadata": {},
   "outputs": [],
   "source": []
  },
  {
   "cell_type": "code",
   "execution_count": null,
   "id": "c209d2b3",
   "metadata": {},
   "outputs": [],
   "source": []
  },
  {
   "cell_type": "code",
   "execution_count": null,
   "id": "790459a8",
   "metadata": {},
   "outputs": [],
   "source": []
  },
  {
   "cell_type": "markdown",
   "id": "76f8486a",
   "metadata": {},
   "source": [
    "### b. Setting x/y-Labels"
   ]
  },
  {
   "cell_type": "code",
   "execution_count": null,
   "id": "d708211f",
   "metadata": {},
   "outputs": [],
   "source": [
    "chemical_exports = [0.810, 0.831, 0.895, 0.91, 0.915, 0.926, 0.945, 0.931, 0.919, 0.921, 0.920, 0.919]\n",
    "years = [2010, 2011, 2012, 2013, 2014, 2015, 2016, 2017, 2018, 2019, 2020, 2021]\n",
    "\n",
    "fig,ax = plt.subplots()\n",
    "\n",
    "ax.plot(years, chemical_exports)\n",
    "\n",
    "\n",
    "ax.set_xlabel(\"Years\")\n",
    "ax.set_ylabel(\"Amount (Million US$)\")\n",
    "\n",
    "\n",
    "plt.title(\"LCI Exports in last 12 years\")\n",
    "\n",
    "plt.show()"
   ]
  },
  {
   "cell_type": "markdown",
   "id": "f63201d2",
   "metadata": {},
   "source": [
    "### c. Modifying Ticks"
   ]
  },
  {
   "cell_type": "code",
   "execution_count": null,
   "id": "fff75b12",
   "metadata": {},
   "outputs": [],
   "source": [
    "chemical_exports = [0.810, 0.831, 0.895, 0.91, 0.915, 0.926, 0.945, 0.931, 0.919, 0.921, 0.920, 0.919]\n",
    "years = [2010, 2011, 2012, 2013, 2014, 2015, 2016, 2017, 2018, 2019, 2020, 2021]\n",
    "\n",
    "fig,ax = plt.subplots()\n",
    "#fig = plt.figure()\n",
    "#ax = fig.add_subplot()\n",
    "\n",
    "ax.plot(years, chemical_exports)\n",
    "\n",
    "\n",
    "ax.set_xlabel(\"Years\")\n",
    "ax.set_ylabel(\"Amount (Million US$)\")\n",
    "\n",
    "\n",
    "xvals = np.arange(2011, 2022, 2)\n",
    "yvals = np.linspace(0.80, 0.98, 10)\n",
    "ax.set_xticks(xvals)\n",
    "ax.set_yticks(yvals)\n",
    "\n",
    "\n",
    "plt.title(\"LCI Exports in last 12 years\")\n",
    "\n",
    "plt.show()"
   ]
  },
  {
   "cell_type": "code",
   "execution_count": null,
   "id": "a507c949",
   "metadata": {},
   "outputs": [],
   "source": []
  },
  {
   "cell_type": "code",
   "execution_count": null,
   "id": "5427bec2",
   "metadata": {},
   "outputs": [],
   "source": []
  },
  {
   "cell_type": "code",
   "execution_count": null,
   "id": "a4c0f47f",
   "metadata": {},
   "outputs": [],
   "source": []
  },
  {
   "cell_type": "code",
   "execution_count": null,
   "id": "ea400f3f",
   "metadata": {},
   "outputs": [],
   "source": []
  },
  {
   "cell_type": "markdown",
   "id": "2f6ec11d",
   "metadata": {},
   "source": [
    "### d. Adding Multiple Lines in a Graph"
   ]
  },
  {
   "cell_type": "code",
   "execution_count": null,
   "id": "edcac372",
   "metadata": {},
   "outputs": [],
   "source": [
    "chemical_exports = [0.810, 0.831, 0.895, 0.91, 0.915, 0.926, 0.945, 0.931, 0.919, 0.921, 0.920, 0.919]\n",
    "years = [2010, 2011, 2012, 2013, 2014, 2015, 2016, 2017, 2018, 2019, 2020, 2021]\n",
    "\n",
    "medicine_exports = [0.791, 0.818, 0.832, 0.816, 0.840, 0.833, 0.835, 0.838, 0.842, 0.910, 0.930, 0.940]\n",
    "\n",
    "\n",
    "fig = plt.figure()\n",
    "ax = fig.add_subplot()\n",
    "\n",
    "ax.plot(years, chemical_exports)\n",
    "ax.plot(years, medicine_exports)\n",
    "\n",
    "ax.set_xlabel(\"Years\")\n",
    "ax.set_ylabel(\"Amount (Million US$)\")\n",
    "\n",
    "\n",
    "xvals = np.arange(2011, 2022, 2)\n",
    "yvals = np.linspace(0.80, 0.98, 10)\n",
    "ax.set_xticks(xvals)\n",
    "ax.set_yticks(yvals)\n",
    "\n",
    "\n",
    "plt.title(\"LCI Exports in last 12 years\")\n",
    "\n",
    "plt.show()"
   ]
  },
  {
   "cell_type": "code",
   "execution_count": null,
   "id": "e3f9e9a4",
   "metadata": {},
   "outputs": [],
   "source": []
  },
  {
   "cell_type": "code",
   "execution_count": null,
   "id": "5f30d808",
   "metadata": {},
   "outputs": [],
   "source": []
  },
  {
   "cell_type": "code",
   "execution_count": null,
   "id": "ca82b8dc",
   "metadata": {},
   "outputs": [],
   "source": []
  },
  {
   "cell_type": "code",
   "execution_count": null,
   "id": "9c7a68e6",
   "metadata": {},
   "outputs": [],
   "source": []
  },
  {
   "cell_type": "code",
   "execution_count": null,
   "id": "3fb6cef9",
   "metadata": {},
   "outputs": [],
   "source": []
  },
  {
   "cell_type": "markdown",
   "id": "03388c7f",
   "metadata": {},
   "source": [
    "### e. Adding Chart Legend"
   ]
  },
  {
   "cell_type": "markdown",
   "id": "7b4c75f8",
   "metadata": {},
   "source": [
    "**Option1:**"
   ]
  },
  {
   "cell_type": "code",
   "execution_count": null,
   "id": "bc33f626",
   "metadata": {},
   "outputs": [],
   "source": [
    "chemical_exports = [0.810, 0.831, 0.895, 0.91, 0.915, 0.926, 0.945, 0.931, 0.919, 0.921, 0.920, 0.919]\n",
    "years = [2010, 2011, 2012, 2013, 2014, 2015, 2016, 2017, 2018, 2019, 2020, 2021]\n",
    "\n",
    "medicine_exports = [0.791, 0.818, 0.832, 0.816, 0.840, 0.833, 0.835, 0.838, 0.842, 0.910, 0.930, 0.940]\n",
    "\n",
    "\n",
    "fig = plt.figure()\n",
    "ax = fig.add_subplot()\n",
    "\n",
    "ax.plot(years, chemical_exports)\n",
    "ax.plot(years, medicine_exports)\n",
    "\n",
    "ax.set_xlabel(\"Years\")\n",
    "ax.set_ylabel(\"Amount (Million US$)\")\n",
    "\n",
    "\n",
    "xvals = np.arange(2011, 2022, 2)\n",
    "yvals = np.linspace(0.80, 0.98, 10)\n",
    "ax.set_xticks(xvals)\n",
    "ax.set_yticks(yvals)\n",
    "\n",
    "\n",
    "plt.title(\"LCI Exports in last 12 years\")\n",
    "\n",
    "plt.legend([\"Chemicals\", \"Medicines\"])\n",
    "\n",
    "plt.show()"
   ]
  },
  {
   "cell_type": "markdown",
   "id": "7780155e",
   "metadata": {},
   "source": [
    "**Limitations of above way of adding a Lagend to your graph:**\n",
    ">- This technique expects the sequence of arguments passed to the `plt.legend()` method to be exactly same as the sequence in which the plots are added above using the two calls to `ax.plot()` method\n",
    ">- I mean the sequence of strings/labels that you pass to the `plt.legend()` method will be assigned to the two lines in the exact sequence in which they have been added using the two `ax.plot()` methods.\n",
    ">- Solution to this problem is use `label` argument to `ax.plot()` method instead of passing a list of strings to the `plt.legend()` method."
   ]
  },
  {
   "cell_type": "code",
   "execution_count": null,
   "id": "118975ba",
   "metadata": {},
   "outputs": [],
   "source": []
  },
  {
   "cell_type": "code",
   "execution_count": null,
   "id": "c3d1f442",
   "metadata": {},
   "outputs": [],
   "source": []
  },
  {
   "cell_type": "markdown",
   "id": "ae3bc105",
   "metadata": {},
   "source": [
    "**Option2:**"
   ]
  },
  {
   "cell_type": "code",
   "execution_count": null,
   "id": "c30c1118",
   "metadata": {},
   "outputs": [],
   "source": [
    "chemical_exports = [0.810, 0.831, 0.895, 0.91, 0.915, 0.926, 0.945, 0.931, 0.919, 0.921, 0.920, 0.919]\n",
    "years = [2010, 2011, 2012, 2013, 2014, 2015, 2016, 2017, 2018, 2019, 2020, 2021]\n",
    "\n",
    "medicine_exports = [0.791, 0.818, 0.832, 0.816, 0.840, 0.833, 0.835, 0.838, 0.842, 0.910, 0.930, 0.940]\n",
    "\n",
    "\n",
    "fig = plt.figure()\n",
    "ax = fig.add_subplot()\n",
    "\n",
    "ax.plot(years, chemical_exports, label=\"Chemicals\")\n",
    "ax.plot(years, medicine_exports, label=\"Medicines\")\n",
    "\n",
    "ax.set_xlabel(\"Years\")\n",
    "ax.set_ylabel(\"Amount (Million US$)\")\n",
    "\n",
    "\n",
    "xvals = np.arange(2011, 2022, 2)\n",
    "yvals = np.linspace(0.80, 0.98, 10)\n",
    "ax.set_xticks(xvals)\n",
    "ax.set_yticks(yvals)\n",
    "\n",
    "\n",
    "plt.title(\"LCI Exports in last 12 years\")\n",
    "\n",
    "plt.legend(loc='best')\n",
    "\n",
    "plt.show()"
   ]
  },
  {
   "cell_type": "code",
   "execution_count": null,
   "id": "3ce69ae1",
   "metadata": {},
   "outputs": [],
   "source": []
  },
  {
   "cell_type": "code",
   "execution_count": null,
   "id": "a0bcb665",
   "metadata": {},
   "outputs": [],
   "source": []
  },
  {
   "cell_type": "markdown",
   "id": "a16b3d1d",
   "metadata": {},
   "source": [
    "### f. Use of Markers\n",
    "- Matplotlib provides many different markers, like a circle, cross, square, diamond, etc. You can find the full list of marker types here: https://matplotlib.org/3.1.1/api/markers_api.html .\n",
    "- The `plt.plot` function supports many arguments for markers:\n",
    "    - `markersize` or `ms`: Set the size of markers\n",
    "    - `markeredgecolor` or `mec`: Set the edge color for markers\n",
    "    - `markeredgewidth` or `mew`: Set the edge width for markers\n",
    "    - `markerfacecolor` or `mfc`: Set the fill color for markers"
   ]
  },
  {
   "cell_type": "code",
   "execution_count": null,
   "id": "81cee925",
   "metadata": {},
   "outputs": [],
   "source": [
    "chemical_exports = [0.810, 0.831, 0.895, 0.91, 0.915, 0.926, 0.945, 0.931, 0.919, 0.921, 0.920, 0.919]\n",
    "years = [2010, 2011, 2012, 2013, 2014, 2015, 2016, 2017, 2018, 2019, 2020, 2021]\n",
    "\n",
    "medicine_exports = [0.791, 0.818, 0.832, 0.816, 0.840, 0.833, 0.835, 0.838, 0.842, 0.910, 0.930, 0.940]\n",
    "\n",
    "\n",
    "fig = plt.figure()\n",
    "ax = fig.add_subplot()\n",
    "\n",
    "ax.plot(years, chemical_exports, label=\"Chemicals\", marker='o')\n",
    "ax.plot(years, medicine_exports, label=\"Medicines\", marker='x')\n",
    "\n",
    "ax.set_xlabel(\"Years\")\n",
    "ax.set_ylabel(\"Amount (Million US$)\")\n",
    "\n",
    "\n",
    "xvals = np.arange(2011, 2022, 2)\n",
    "yvals = np.linspace(0.80, 0.98, 10)\n",
    "ax.set_xticks(xvals)\n",
    "ax.set_yticks(yvals)\n",
    "\n",
    "\n",
    "plt.title(\"LCI Exports in last 12 years\")\n",
    "\n",
    "plt.legend(loc='best')\n",
    "\n",
    "plt.show()"
   ]
  },
  {
   "cell_type": "code",
   "execution_count": null,
   "id": "afda343f",
   "metadata": {},
   "outputs": [],
   "source": []
  },
  {
   "cell_type": "markdown",
   "id": "4e38184c",
   "metadata": {},
   "source": [
    "### g. Styling the Lines (Line Attributes)\n",
    "- The `plt.plot` function supports many arguments for styling lines\n",
    "    - `color` or `c`: Set the color of the line\n",
    "    - `linestyle` or `ls`: Choose between a solid or dashed line\n",
    "    - `linewidth` or `lw`: Set the width of a line\n",
    "\n",
    "\n",
    "Checkout the supported colors: https://matplotlib.org/3.1.0/tutorials/colors/colors.html\n",
    "\n",
    "Check out the documentation for `plt.plot` to learn more: [https://matplotlib.org/api/_as_gen/matplotlib.pyplot.plot.html#matplotlib.pyplot.plot]"
   ]
  },
  {
   "cell_type": "code",
   "execution_count": null,
   "id": "57c0aea8",
   "metadata": {},
   "outputs": [],
   "source": [
    "chemical_exports = [0.810, 0.831, 0.895, 0.91, 0.915, 0.926, 0.945, 0.931, 0.919, 0.921, 0.920, 0.919]\n",
    "years = [2010, 2011, 2012, 2013, 2014, 2015, 2016, 2017, 2018, 2019, 2020, 2021]\n",
    "\n",
    "medicine_exports = [0.791, 0.818, 0.832, 0.816, 0.840, 0.833, 0.835, 0.838, 0.842, 0.910, 0.930, 0.940]\n",
    "\n",
    "\n",
    "fig = plt.figure()\n",
    "ax = fig.add_subplot()\n",
    "\n",
    "ax.plot(years, chemical_exports, label=\"Chemicals\", marker='o', c='b', ls='-', lw=2)\n",
    "ax.plot(years, medicine_exports, label=\"Medicines\", marker='x', c='r', ls=':', lw=2)\n",
    "\n",
    "ax.set_xlabel(\"Years\")\n",
    "ax.set_ylabel(\"Amount (Million US$)\")\n",
    "\n",
    "\n",
    "xvals = np.arange(2011, 2022, 2)\n",
    "yvals = np.linspace(0.80, 0.98, 10)\n",
    "ax.set_xticks(xvals)\n",
    "ax.set_yticks(yvals)\n",
    "\n",
    "\n",
    "plt.title(\"LCI Exports in last 12 years\")\n",
    "\n",
    "plt.legend(loc='best')\n",
    "\n",
    "plt.show()"
   ]
  },
  {
   "cell_type": "code",
   "execution_count": null,
   "id": "ef963d6d",
   "metadata": {},
   "outputs": [],
   "source": []
  },
  {
   "cell_type": "markdown",
   "id": "5fad5dd4",
   "metadata": {},
   "source": [
    "### h. Using Format String to Style the Lines\n",
    "**Most of the time we just want to set the marker, line style, and line color. The plt.plot() method can be passed a single string for this purpose `fmt='[marker][line][color]`**\n",
    "\n",
    "```plt.plot(years, sports_export, 'o-g')```\n",
    "\n",
    "This format string cannot be passed as named argument, rather is a positional argument after the x,y arguments to plt.plot() method"
   ]
  },
  {
   "cell_type": "code",
   "execution_count": null,
   "id": "a3232013",
   "metadata": {},
   "outputs": [],
   "source": [
    "chemical_exports = [0.810, 0.831, 0.895, 0.91, 0.915, 0.926, 0.945, 0.931, 0.919, 0.921, 0.920, 0.919]\n",
    "years = [2010, 2011, 2012, 2013, 2014, 2015, 2016, 2017, 2018, 2019, 2020, 2021]\n",
    "\n",
    "medicine_exports = [0.791, 0.818, 0.832, 0.816, 0.840, 0.833, 0.835, 0.838, 0.842, 0.910, 0.930, 0.940]\n",
    "\n",
    "\n",
    "fig = plt.figure()\n",
    "ax = fig.add_subplot()\n",
    "\n",
    "ax.plot(years, chemical_exports, 'o-g', label=\"Chemicals\")\n",
    "ax.plot(years, medicine_exports, 'x-r', label=\"Medicines\")\n",
    "\n",
    "ax.set_xlabel(\"Years\")\n",
    "ax.set_ylabel(\"Amount (Million US$)\")\n",
    "\n",
    "\n",
    "xvals = np.arange(2011, 2022, 2)\n",
    "yvals = np.linspace(0.80, 0.98, 10)\n",
    "ax.set_xticks(xvals)\n",
    "ax.set_yticks(yvals)\n",
    "\n",
    "\n",
    "plt.title(\"LCI Exports in last 12 years\")\n",
    "\n",
    "plt.legend(loc='best')\n",
    "\n",
    "plt.show()"
   ]
  },
  {
   "cell_type": "code",
   "execution_count": null,
   "id": "6b100659",
   "metadata": {},
   "outputs": [],
   "source": []
  },
  {
   "cell_type": "code",
   "execution_count": null,
   "id": "5dd42e87",
   "metadata": {},
   "outputs": [],
   "source": []
  },
  {
   "cell_type": "markdown",
   "id": "d843efa1",
   "metadata": {},
   "source": [
    "### i. Changing Figure Size and Adding Grid"
   ]
  },
  {
   "cell_type": "code",
   "execution_count": null,
   "id": "027adfb0",
   "metadata": {},
   "outputs": [],
   "source": [
    "chemical_exports = [0.810, 0.831, 0.895, 0.91, 0.915, 0.926, 0.945, 0.931, 0.919, 0.921, 0.920, 0.919]\n",
    "years = [2010, 2011, 2012, 2013, 2014, 2015, 2016, 2017, 2018, 2019, 2020, 2021]\n",
    "\n",
    "medicine_exports = [0.791, 0.818, 0.832, 0.816, 0.840, 0.833, 0.835, 0.838, 0.842, 0.910, 0.930, 0.940]\n",
    "\n",
    "\n",
    "fig = plt.figure(figsize=(12,6))\n",
    "ax = fig.add_subplot()\n",
    "\n",
    "ax.plot(years, chemical_exports, label=\"Chemicals\", marker='o', c='b', ls='-', lw=2)\n",
    "ax.plot(years, medicine_exports, label=\"Medicines\", marker='x', c='r', ls=':', lw=2)\n",
    "\n",
    "ax.set_xlabel(\"Years\")\n",
    "ax.set_ylabel(\"Amount (Million US$)\")\n",
    "\n",
    "\n",
    "xvals = np.arange(2011, 2022, 2)\n",
    "yvals = np.linspace(0.80, 0.98, 10)\n",
    "ax.set_xticks(xvals)\n",
    "ax.set_yticks(yvals)\n",
    "\n",
    "\n",
    "plt.title(\"LCI Exports in last 12 years\")\n",
    "\n",
    "plt.legend(loc='best')\n",
    "plt.grid(True)\n",
    "plt.show()"
   ]
  },
  {
   "cell_type": "markdown",
   "id": "5a234940",
   "metadata": {},
   "source": [
    "### j. Using Annotation"
   ]
  },
  {
   "cell_type": "code",
   "execution_count": null,
   "id": "fa2d0465",
   "metadata": {},
   "outputs": [],
   "source": [
    "chemical_exports = [0.810, 0.831, 0.895, 0.91, 0.915, 0.926, 0.945, 0.931, 0.919, 0.921, 0.920, 0.919]\n",
    "years = [2010, 2011, 2012, 2013, 2014, 2015, 2016, 2017, 2018, 2019, 2020, 2021]\n",
    "\n",
    "medicine_exports = [0.791, 0.818, 0.832, 0.816, 0.840, 0.833, 0.835, 0.838, 0.842, 0.910, 0.930, 0.940]\n",
    "\n",
    "\n",
    "fig = plt.figure(figsize=(12,6))\n",
    "ax = fig.add_subplot()\n",
    "\n",
    "ax.plot(years, chemical_exports, label=\"Chemicals\", marker='o', c='b', ls='-', lw=2)\n",
    "ax.plot(years, medicine_exports, label=\"Medicines\", marker='x', c='r', ls=':', lw=2)\n",
    "\n",
    "ax.set_xlabel(\"Years\")\n",
    "ax.set_ylabel(\"Amount (Million US$)\")\n",
    "\n",
    "\n",
    "xvals = np.arange(2011, 2022, 2)\n",
    "yvals = np.linspace(0.80, 0.98, 10)\n",
    "ax.set_xticks(xvals)\n",
    "ax.set_yticks(yvals)\n",
    "\n",
    "\n",
    "plt.title(\"LCI Exports in last 12 years\")\n",
    "\n",
    "plt.legend(loc='best')\n",
    "\n",
    "plt.annotate(\"Peak of Chemical Exports\", xy=(2016,0.95))\n",
    "\n",
    "plt.grid(True)\n",
    "plt.show()"
   ]
  },
  {
   "cell_type": "markdown",
   "id": "d7e78122",
   "metadata": {},
   "source": [
    "### k. Using Built-in Styles"
   ]
  },
  {
   "cell_type": "code",
   "execution_count": null,
   "id": "87878138",
   "metadata": {},
   "outputs": [],
   "source": [
    "plt.style.available"
   ]
  },
  {
   "cell_type": "code",
   "execution_count": null,
   "id": "e9a8cf9a",
   "metadata": {},
   "outputs": [],
   "source": [
    "chemical_exports = [0.810, 0.831, 0.895, 0.91, 0.915, 0.926, 0.945, 0.931, 0.919, 0.921, 0.920, 0.919]\n",
    "years = [2010, 2011, 2012, 2013, 2014, 2015, 2016, 2017, 2018, 2019, 2020, 2021]\n",
    "\n",
    "medicine_exports = [0.791, 0.818, 0.832, 0.816, 0.840, 0.833, 0.835, 0.838, 0.842, 0.910, 0.930, 0.940]\n",
    "\n",
    "\n",
    "fig = plt.figure(figsize=(12,6))\n",
    "ax = fig.add_subplot()\n",
    "\n",
    "ax.plot(years, chemical_exports, label=\"Chemicals\", marker='o', c='b', ls='-', lw=2)\n",
    "ax.plot(years, medicine_exports, label=\"Medicines\", marker='x', c='r', ls=':', lw=2)\n",
    "\n",
    "ax.set_xlabel(\"Years\")\n",
    "ax.set_ylabel(\"Amount (Million US$)\")\n",
    "\n",
    "\n",
    "xvals = np.arange(2011, 2022, 2)\n",
    "yvals = np.linspace(0.80, 0.98, 10)\n",
    "ax.set_xticks(xvals)\n",
    "ax.set_yticks(yvals)\n",
    "\n",
    "\n",
    "plt.title(\"LCI Exports in last 12 years\")\n",
    "\n",
    "plt.legend(loc='best')\n",
    "\n",
    "plt.annotate(\"Peak of Chemical Exports\", xy=(2016,0.95))\n",
    "\n",
    "plt.grid(True)\n",
    "\n",
    "plt.style.use('default')\n",
    "#plt.style.use('dark_background')\n",
    "#plt.style.use('fivethirtyeight')\n",
    "#plt.style.use('ggplot')\n",
    "\n",
    "plt.show()"
   ]
  },
  {
   "cell_type": "code",
   "execution_count": null,
   "id": "c642fe8d",
   "metadata": {},
   "outputs": [],
   "source": []
  },
  {
   "cell_type": "code",
   "execution_count": null,
   "id": "366cdf70",
   "metadata": {},
   "outputs": [],
   "source": []
  },
  {
   "cell_type": "markdown",
   "id": "3f7133a1",
   "metadata": {},
   "source": [
    "### l. Saving the Graph"
   ]
  },
  {
   "cell_type": "code",
   "execution_count": null,
   "id": "d4fd2342",
   "metadata": {},
   "outputs": [],
   "source": [
    "xvals"
   ]
  },
  {
   "cell_type": "code",
   "execution_count": null,
   "id": "985650a2",
   "metadata": {},
   "outputs": [],
   "source": [
    "\n",
    "chemical_exports = [0.810, 0.831, 0.895, 0.91, 0.915, 0.926, 0.945, 0.931, 0.919, 0.921, 0.920, 0.919]\n",
    "years = [2010, 2011, 2012, 2013, 2014, 2015, 2016, 2017, 2018, 2019, 2020, 2021]\n",
    "\n",
    "medicine_exports = [0.791, 0.818, 0.832, 0.816, 0.840, 0.833, 0.835, 0.838, 0.842, 0.910, 0.930, 0.940]\n",
    "\n",
    "\n",
    "fig = plt.figure(figsize=(12,6))\n",
    "ax = fig.add_subplot()\n",
    "\n",
    "ax.plot(years,chemical_exports, label=\"Chemicals\", marker='o', c='b', ls='-', lw=2)\n",
    "ax.plot(years,medicine_exports, label=\"Medicines\", marker='x', c='r', ls=':', lw=2)\n",
    "\n",
    "ax.set_xlabel(\"Years\")\n",
    "ax.set_ylabel(\"Amount (Million US$)\")\n",
    "\n",
    "\n",
    "xvals = np.arange(2011, 2022, 2)\n",
    "yvals = np.linspace(0.80, 0.98, 10)\n",
    "ax.set_xticks(xvals)\n",
    "ax.set_yticks(yvals)\n",
    "\n",
    "\n",
    "plt.title(\"LCI Exports in last 12 years\")\n",
    "\n",
    "plt.legend(loc='best')\n",
    "\n",
    "plt.annotate(\"Peak of Chemical Exports\", xy=(2016,0.95))\n",
    "\n",
    "plt.grid(True)\n",
    "\n",
    "plt.style.use('default')\n",
    "#plt.savefig(\"mychart.png\") # can use .pdf, .ps, .eps, .svg formats\n",
    "plt.show()"
   ]
  },
  {
   "cell_type": "code",
   "execution_count": null,
   "id": "54e59300",
   "metadata": {},
   "outputs": [],
   "source": [
    "!ls -l mychart.png"
   ]
  },
  {
   "cell_type": "code",
   "execution_count": null,
   "id": "14abaaf7",
   "metadata": {},
   "outputs": [],
   "source": []
  },
  {
   "cell_type": "code",
   "execution_count": null,
   "id": "633c7f14",
   "metadata": {},
   "outputs": [],
   "source": []
  },
  {
   "cell_type": "code",
   "execution_count": null,
   "id": "d0d53b42",
   "metadata": {},
   "outputs": [],
   "source": []
  },
  {
   "cell_type": "code",
   "execution_count": null,
   "id": "a3c0d2b7",
   "metadata": {},
   "outputs": [],
   "source": []
  },
  {
   "cell_type": "code",
   "execution_count": null,
   "id": "91fd56d3",
   "metadata": {},
   "outputs": [],
   "source": []
  },
  {
   "cell_type": "code",
   "execution_count": null,
   "id": "bf0e351c",
   "metadata": {},
   "outputs": [],
   "source": []
  },
  {
   "cell_type": "markdown",
   "id": "cbdde009",
   "metadata": {},
   "source": [
    "## 7. Sub-Plots"
   ]
  },
  {
   "cell_type": "code",
   "execution_count": null,
   "id": "0e350578",
   "metadata": {},
   "outputs": [],
   "source": [
    "fig, ax = plt.subplots(nrows=3, ncols=3)\n",
    "print(ax)"
   ]
  },
  {
   "cell_type": "code",
   "execution_count": null,
   "id": "464c0f8c",
   "metadata": {},
   "outputs": [],
   "source": []
  },
  {
   "cell_type": "code",
   "execution_count": null,
   "id": "2a09854a",
   "metadata": {},
   "outputs": [],
   "source": []
  },
  {
   "cell_type": "code",
   "execution_count": null,
   "id": "86674753",
   "metadata": {},
   "outputs": [],
   "source": []
  },
  {
   "cell_type": "markdown",
   "id": "382675ca",
   "metadata": {},
   "source": [
    "### a. Multiple Axes Objects within a Figure Object"
   ]
  },
  {
   "cell_type": "code",
   "execution_count": null,
   "id": "4af95b89",
   "metadata": {},
   "outputs": [],
   "source": [
    "from matplotlib import pyplot as plt\n",
    "chemical_exports = [0.810, 0.831, 0.895, 0.91, 0.915, 0.926, 0.945, 0.931, 0.919, 0.921, 0.920, 0.919]\n",
    "years = [2010, 2011, 2012, 2013, 2014, 2015, 2016, 2017, 2018, 2019, 2020, 2021]\n",
    "medicine_exports = [0.791, 0.818, 0.832, 0.816, 0.840, 0.833, 0.835, 0.838, 0.842, 0.910, 0.930, 0.940]\n",
    "\n",
    "fig, (ax1, ax2) = plt.subplots(nrows=2, ncols=1)\n",
    "\n",
    "ax1.plot(years, chemical_exports, label='Chemicals', marker='o', c='b', ls='-', lw=2) \n",
    "ax1.set_title(\"LCI Chemical exports in last 12 years\")\n",
    "ax1.set_xlabel(\"Years\")\n",
    "ax1.set_ylabel(\"Amount (Million Rs.)\")\n",
    "\n",
    "ax2.plot(years, medicine_exports, label='Medicines', marker='x', c='r', ls=':', lw=2) \n",
    "ax2.set_title(\"LCI Medicine exports in last 12 years\")\n",
    "ax2.set_xlabel(\"Years\")\n",
    "ax2.set_ylabel(\"Amount (Million Rs.)\")\n",
    "\n",
    "plt.tight_layout()\n",
    "plt.show()"
   ]
  },
  {
   "cell_type": "code",
   "execution_count": null,
   "id": "7accd758",
   "metadata": {},
   "outputs": [],
   "source": []
  },
  {
   "cell_type": "code",
   "execution_count": null,
   "id": "15df014e",
   "metadata": {},
   "outputs": [],
   "source": []
  },
  {
   "cell_type": "code",
   "execution_count": null,
   "id": "939c4f39",
   "metadata": {},
   "outputs": [],
   "source": []
  },
  {
   "cell_type": "markdown",
   "id": "353b9e1a",
   "metadata": {},
   "source": [
    "### b. Multiple Figure Objects Having Single Axes"
   ]
  },
  {
   "cell_type": "code",
   "execution_count": null,
   "id": "643033db",
   "metadata": {},
   "outputs": [],
   "source": [
    "from matplotlib import pyplot as plt\n",
    "chemical_exports = [0.810, 0.831, 0.895, 0.91, 0.915, 0.926, 0.945, 0.931, 0.919, 0.921, 0.920, 0.919]\n",
    "years = [2010, 2011, 2012, 2013, 2014, 2015, 2016, 2017, 2018, 2019, 2020, 2021]\n",
    "medicine_exports = [0.791, 0.818, 0.832, 0.816, 0.840, 0.833, 0.835, 0.838, 0.842, 0.910, 0.930, 0.940]\n",
    "\n",
    "\n",
    "fig1, ax1 = plt.subplots()\n",
    "fig2, ax2 = plt.subplots()\n",
    "\n",
    "ax1.plot(years, chemical_exports, label='Chemicals', marker='o', c='b', ls='-', lw=2) \n",
    "ax1.set_title(\"LCI Chemical exports in last 12 years\")\n",
    "ax1.set_xlabel(\"Years\")\n",
    "ax1.set_ylabel(\"Amount (Million Rs.)\")\n",
    "\n",
    "ax2.plot(years, medicine_exports, label='Medicines', marker='x', c='r', ls=':', lw=2) \n",
    "ax2.set_title(\"LCI Medicine exports in last 12 years\")\n",
    "ax2.set_xlabel(\"Years\")\n",
    "ax2.set_ylabel(\"Amount (Million Rs.)\")\n",
    "\n",
    "plt.tight_layout()\n",
    "plt.show()"
   ]
  },
  {
   "cell_type": "code",
   "execution_count": null,
   "id": "93b60540",
   "metadata": {},
   "outputs": [],
   "source": []
  },
  {
   "cell_type": "code",
   "execution_count": null,
   "id": "4a7fd912",
   "metadata": {},
   "outputs": [],
   "source": []
  },
  {
   "cell_type": "code",
   "execution_count": null,
   "id": "eeb9f103",
   "metadata": {},
   "outputs": [],
   "source": []
  },
  {
   "cell_type": "code",
   "execution_count": null,
   "id": "d8cc0888",
   "metadata": {},
   "outputs": [],
   "source": []
  },
  {
   "cell_type": "code",
   "execution_count": null,
   "id": "4d4eaa70",
   "metadata": {},
   "outputs": [],
   "source": []
  }
 ],
 "metadata": {
  "kernelspec": {
   "display_name": "Python 3 (ipykernel)",
   "language": "python",
   "name": "python3"
  },
  "language_info": {
   "codemirror_mode": {
    "name": "ipython",
    "version": 3
   },
   "file_extension": ".py",
   "mimetype": "text/x-python",
   "name": "python",
   "nbconvert_exporter": "python",
   "pygments_lexer": "ipython3",
   "version": "3.9.7"
  }
 },
 "nbformat": 4,
 "nbformat_minor": 5
}
