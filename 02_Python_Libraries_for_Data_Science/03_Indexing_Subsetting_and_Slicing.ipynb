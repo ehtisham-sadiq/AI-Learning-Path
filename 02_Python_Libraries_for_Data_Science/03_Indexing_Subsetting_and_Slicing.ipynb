{
 "cells": [
  {
   "cell_type": "markdown",
   "id": "16a38f6b",
   "metadata": {},
   "source": [
    "# Learning Agenda of this Notebook:\n",
    "- What is Pandas and how is it used in AI?\n",
    "- Key features of Pandas\n",
    "- Data Types in Pandas\n",
    "- What does Pandas deal with?\n",
    "\n",
    "- Creating Series in Pandas\n",
    "    - From Python List\n",
    "    - From NumPy Arrays\n",
    "    - From Python Dictionary\n",
    "    - From a scalar value\n",
    "    - Creating empty series object\n",
    "- Attributes of a Pandas Series\n",
    "- Arithmetic Operations on Series\n",
    "\n",
    "- Dataframes in Pandas\n",
    "    - Anatomy of a Dataframe\n",
    "    - Creating Dataframe\n",
    "        - An empty dataframe\n",
    "        - Two-Dimensional NumPy Array\n",
    "        - Dictionary of Python Lists\n",
    "        - Dictionary of Panda Series\n",
    "    - Attributes of a Dataframe\n",
    "    - Bonus\n",
    "- Different file formats in Pandas \n",
    "- Indexing, Subsetting and Slicing Dataframes\n",
    "- Data Handling with Pandas\n",
    "  - Practice Exercise I\n",
    "  - Practice Exercise II\n",
    "- All Statistical functions in Pandas\n",
    "- Input/Output Operations\n",
    "- Aggregation & Grouping\n",
    "  - Practice Exercise\n",
    "- Merging, Joining and Concatenation\n",
    "  - Practice Exercise\n",
    "- How To Perform Data Visualization with Pandas\n",
    "- Exercise I\n",
    "- Exercise II\n",
    "- Pandas's Assignment"
   ]
  },
  {
   "cell_type": "code",
   "execution_count": null,
   "id": "9d0abc17",
   "metadata": {},
   "outputs": [],
   "source": []
  },
  {
   "cell_type": "code",
   "execution_count": null,
   "id": "27dd23ba",
   "metadata": {},
   "outputs": [],
   "source": []
  },
  {
   "cell_type": "code",
   "execution_count": null,
   "id": "fe2850e2",
   "metadata": {},
   "outputs": [],
   "source": []
  },
  {
   "cell_type": "markdown",
   "id": "c88fbec3",
   "metadata": {},
   "source": [
    "## Indexing, Subsetting and Slicing Dataframes\n",
    "\n",
    "### Motivation:\n",
    "- The ability to select specific rows and columns to access and filter data based on specific conditions are two of the key features of Pandas.\n",
    "    - **Selection** allows you to access specific rows or columns (a subset) of the data by their index and/or location in the DataFrame\n",
    "        - In large datasets, you may be required to select the first/last N records\n",
    "        - In large datasets, you may be required to select a range (n to m) of records\n",
    "        - In large datasets, you may be required to select specific columns of your interest\n",
    "        - In large datasets, you may be required to select specific range and specific columns of your interest\n",
    "    - **Filtering** allows you to access specific rows or columns (a subset) of the data based on one or more conditions\n",
    "        - In a medical dataset, you may be required to filter record of all those patients who suffer with a specific disease, or who have a specific blood group\n",
    "        - In a medical dataset, you may be required to filter pregnant women who have anemia, and compare this subset to women who don’t have anemia.\n",
    "        - In a travel dataset, you may be required to filter hotels inside Lahore city, sorted by their minimum per day cost\n",
    "        - In a client dataset, you may be required filter the clients who use a Gmail account(may require a string filter)\n",
    "        - In a client dataset, you may be required to filter the clients who belong to a specific countries (may require use of .isin() function)"
   ]
  },
  {
   "cell_type": "code",
   "execution_count": null,
   "id": "143156e2",
   "metadata": {},
   "outputs": [],
   "source": []
  },
  {
   "cell_type": "code",
   "execution_count": null,
   "id": "2ae8f6d5",
   "metadata": {},
   "outputs": [],
   "source": []
  },
  {
   "cell_type": "markdown",
   "id": "df3724bc",
   "metadata": {},
   "source": [
    "### Outline\n",
    "1. Understanding Indices of a Dataframe\n",
    "    - Understand the Dataset\n",
    "    - Changing the Column Indices of a Dataframe\n",
    "    - Changing the Row Indices of a Dataframe\n",
    "2. Selecting Row(s) and Column(s) of a Dataframe using `df[]` \n",
    "3. Selecting Rows and Columns using `iloc` Method\n",
    "4. Selecting Rows and Columns using `loc` Method\n",
    "5. Conditional Selection   \n",
    "6. Selecting columns of a specific data type\n"
   ]
  },
  {
   "cell_type": "code",
   "execution_count": null,
   "id": "7ab28f1c",
   "metadata": {},
   "outputs": [],
   "source": [
    "# df[], df.iloc[] -> work for positional indexing\n",
    "# df.loc[] -> work for label indexing"
   ]
  },
  {
   "cell_type": "markdown",
   "id": "0302c545",
   "metadata": {},
   "source": [
    "### Understanding Indices of a Dataframe\n",
    "\n",
    "<img align=\"right\" width=\"300\" height=\"300\"  src=\"images/series-anatomy.png\">\n",
    "\n",
    "<img align=\"left\" width=\"500\" height=\"500\"  src=\"images/dataframe.jpg\">"
   ]
  },
  {
   "cell_type": "markdown",
   "id": "3ba2728c",
   "metadata": {},
   "source": [
    "#### Series:\n",
    "\n",
    "- We have seen a series is a an object like a 1d array capable of holding a sequence of values of any data type.\n",
    "- Every data value of series has an explicit row index associated with it ,which can be a numeric value as well as a string. \n",
    "- We have also seen that we can use these indices for three purposes for accessing the elements ,for subsetting or slicing purposes.\n",
    "\n",
    "#### DataFrame:\n",
    "- Dataframe is a 2d labeled data structure so it has two indices. A row index that moves from top to bottom is associated with rows of a dataframe and a column index that moves from left to right is associated with the columns of a dataframe. By default the row indices starts from 0 and ends at n-1 where n is the total number of rows in a dataframe and this is actually an integer identifier for the rows similarly the column indices by default also starts from 0 and ends at n-1 where n is the total number of columns in a data frame and this is actually an integer identifier for the columns."
   ]
  },
  {
   "cell_type": "markdown",
   "id": "16e11090",
   "metadata": {},
   "source": [
    "### Understand the Dataset\n",
    "- Let us first understand the dataframe on which we are going to work in today's notebook"
   ]
  },
  {
   "cell_type": "code",
   "execution_count": null,
   "id": "cf89d3dd",
   "metadata": {},
   "outputs": [],
   "source": []
  },
  {
   "cell_type": "code",
   "execution_count": null,
   "id": "68733185",
   "metadata": {},
   "outputs": [],
   "source": [
    "import numpy as np\n",
    "import pandas as pd\n",
    "df = pd.read_csv('datasets/groupdata.csv')\n",
    "df"
   ]
  },
  {
   "cell_type": "code",
   "execution_count": null,
   "id": "40c6f941",
   "metadata": {},
   "outputs": [],
   "source": []
  },
  {
   "cell_type": "code",
   "execution_count": null,
   "id": "df40b35a",
   "metadata": {},
   "outputs": [],
   "source": []
  },
  {
   "cell_type": "markdown",
   "id": "30fd673a",
   "metadata": {},
   "source": [
    "#### All attributes of the dataframe"
   ]
  },
  {
   "cell_type": "code",
   "execution_count": null,
   "id": "ac4abda4",
   "metadata": {},
   "outputs": [],
   "source": [
    "df.shape # rows and columns of the dataframe"
   ]
  },
  {
   "cell_type": "code",
   "execution_count": null,
   "id": "567a5ddb",
   "metadata": {},
   "outputs": [],
   "source": [
    "df.dtypes # data type of each column"
   ]
  },
  {
   "cell_type": "code",
   "execution_count": null,
   "id": "966c8ae0",
   "metadata": {},
   "outputs": [],
   "source": [
    "df.isnull().sum() # number of null values in each column"
   ]
  },
  {
   "cell_type": "code",
   "execution_count": null,
   "id": "f434717f",
   "metadata": {},
   "outputs": [],
   "source": [
    "df.isna().sum() # number of null values in each column"
   ]
  },
  {
   "cell_type": "code",
   "execution_count": null,
   "id": "c0f6f5e6",
   "metadata": {},
   "outputs": [],
   "source": [
    "df.columns # column names"
   ]
  },
  {
   "cell_type": "code",
   "execution_count": null,
   "id": "919e9bfe",
   "metadata": {},
   "outputs": [],
   "source": [
    "df.index # row indexes"
   ]
  },
  {
   "cell_type": "code",
   "execution_count": null,
   "id": "40d19d97",
   "metadata": {},
   "outputs": [],
   "source": [
    "df.info() # information about the dataframe"
   ]
  },
  {
   "cell_type": "code",
   "execution_count": null,
   "id": "493712a9",
   "metadata": {},
   "outputs": [],
   "source": [
    "df.describe() # statistical summary and descriptive statistics"
   ]
  },
  {
   "cell_type": "code",
   "execution_count": null,
   "id": "c5fde435",
   "metadata": {},
   "outputs": [],
   "source": [
    "df['age'].describe()"
   ]
  },
  {
   "cell_type": "code",
   "execution_count": null,
   "id": "f052bef7",
   "metadata": {},
   "outputs": [],
   "source": [
    "df['session'].value_counts()"
   ]
  },
  {
   "cell_type": "code",
   "execution_count": null,
   "id": "e0ad6b2c-5962-4c31-967b-46b9251338d1",
   "metadata": {},
   "outputs": [],
   "source": []
  },
  {
   "cell_type": "markdown",
   "id": "072c5f34",
   "metadata": {},
   "source": [
    "#### Changing the Column Indices/Labels of a Datarame\n",
    "- Every dataframe has column labels associated with its columns\n",
    "- These by default are integer values from 0,1,2,3...\n",
    "- However, while creating a dataframe from scratch, or while reading them from a file you can set them to more meaningful string values.\n",
    "- While reading from csv file the first row in the file is taken as the column labels\n",
    "- We can change the column labels, if we want.\n",
    "\n",
    "\n",
    "**rename method**"
   ]
  },
  {
   "cell_type": "markdown",
   "id": "52e257fb",
   "metadata": {},
   "source": [
    "##### Changing the Column indices while reading the dataframe\n",
    "- `pd.read_csv('datasets/groupdata.csv', names=['roll no', 'name', 'age', 'marks'])` \n"
   ]
  },
  {
   "cell_type": "markdown",
   "id": "4ab8581d",
   "metadata": {},
   "source": [
    "##### Changing the Column indices after reading the data/dataframe\n",
    "- `df.columns = ['roll no', 'name', 'age', 'marks']`"
   ]
  },
  {
   "cell_type": "code",
   "execution_count": null,
   "id": "5e66282b",
   "metadata": {},
   "outputs": [],
   "source": []
  },
  {
   "cell_type": "code",
   "execution_count": null,
   "id": "86b13fec",
   "metadata": {},
   "outputs": [],
   "source": [
    "df.columns"
   ]
  },
  {
   "cell_type": "code",
   "execution_count": null,
   "id": "7bb53e3f",
   "metadata": {},
   "outputs": [],
   "source": [
    "df.rename(columns={'roll no': 'rollno'}).head()\n",
    "# columns parameter is a dictionary, \n",
    "# key is the old column name and value is the new column name"
   ]
  },
  {
   "cell_type": "code",
   "execution_count": null,
   "id": "dd3337a5",
   "metadata": {},
   "outputs": [],
   "source": [
    "df.rename(columns={'roll no': 'rollno', 'subj1': 'python programming', 'subj2': 'statistics'}).head()"
   ]
  },
  {
   "cell_type": "code",
   "execution_count": null,
   "id": "34e3a738",
   "metadata": {},
   "outputs": [],
   "source": []
  },
  {
   "cell_type": "code",
   "execution_count": null,
   "id": "d704e338",
   "metadata": {},
   "outputs": [],
   "source": []
  },
  {
   "cell_type": "markdown",
   "id": "1ed70983",
   "metadata": {},
   "source": [
    "### Changing the Row Indices/Labels of a  Dataframe\n",
    "- Every dataframe has row index associated with its rows\n",
    "- These by default are integer values from 0,1,2,3...\n",
    "- However, while creating a dataframe from scratch you may set them to some meaningful string values (seldom required).\n",
    "- We have already seen this in our previous session\n",
    "- Today, we will see two methods that work on row indices of a Pandas Dataframe named `df.set_index()` and `df.reset_index()`"
   ]
  },
  {
   "cell_type": "code",
   "execution_count": null,
   "id": "e36bd794",
   "metadata": {},
   "outputs": [],
   "source": [
    "# change the row indexes\n",
    "df.index "
   ]
  },
  {
   "cell_type": "code",
   "execution_count": null,
   "id": "b4f45d7a",
   "metadata": {},
   "outputs": [],
   "source": [
    "# x=2\n",
    "# x=4\n",
    "df.index = ['r1', 'r2', 'r3', 'r4', 'r5', 'r6', 'r7', 'r8', 'r9', 'r10', 'r11', 'r12', 'r13', 'r14', 'r15' , 'r16']"
   ]
  },
  {
   "cell_type": "code",
   "execution_count": null,
   "id": "2628b29a",
   "metadata": {},
   "outputs": [],
   "source": [
    "df.head()"
   ]
  },
  {
   "cell_type": "code",
   "execution_count": null,
   "id": "a0134e79",
   "metadata": {},
   "outputs": [],
   "source": [
    "# sort_values\n",
    "# sort_index\n",
    "# set_index"
   ]
  },
  {
   "cell_type": "markdown",
   "id": "95e3bc16",
   "metadata": {},
   "source": [
    "**Changing Row Indices:** The `df.set_index()` method can be used to change row index of a dataframe using an existing column(s)\n",
    "`df.set_index(keys, drop=True, append=False, inplace=False, verify_integrity=False)`\n",
    "\n",
    "- Where\n",
    "    - `keys` is the column label \n",
    "    - `drop=True`, to drop the column from data part of dataframe that is being used as column index now\n",
    "    - `append=False`, Set it to True if you want to append columns to existing index\n",
    "    - `inplace=False`, Set it to True to make changes in the original dataframe, i.e., do not create a new object\n",
    "    - `verify_integrity=False`, Set it to True to check the new index for duplicates. Default value of False will improve the performance of this method.\n",
    "\n",
    "Returns Dataframe if `inplace=False` or None if `inplace=True`"
   ]
  },
  {
   "cell_type": "code",
   "execution_count": null,
   "id": "e691eb45-5f0e-4744-8e24-5702ba5a2787",
   "metadata": {},
   "outputs": [],
   "source": [
    "df"
   ]
  },
  {
   "cell_type": "code",
   "execution_count": null,
   "id": "e25a61cb",
   "metadata": {},
   "outputs": [],
   "source": [
    "df1 = df.set_index(keys='roll no', drop=False)\n",
    "df1.head(10)"
   ]
  },
  {
   "cell_type": "code",
   "execution_count": null,
   "id": "ce9ca0bb",
   "metadata": {},
   "outputs": [],
   "source": []
  },
  {
   "cell_type": "code",
   "execution_count": null,
   "id": "65dd2e85",
   "metadata": {},
   "outputs": [],
   "source": []
  },
  {
   "cell_type": "markdown",
   "id": "b4f78b29",
   "metadata": {},
   "source": [
    "> **Note:** The rollno column still exist as part of the dataframe. To drop it set `drop=True`"
   ]
  },
  {
   "cell_type": "code",
   "execution_count": null,
   "id": "bb00d172",
   "metadata": {},
   "outputs": [],
   "source": [
    "df1 = df.set_index(keys='roll no', drop=True)\n",
    "df1.head(10)"
   ]
  },
  {
   "cell_type": "markdown",
   "id": "d9f681ce",
   "metadata": {},
   "source": [
    "Another point to note is that no change has been made to the original dataframe since `inplace` arguement is by default False. Let us verify this"
   ]
  },
  {
   "cell_type": "code",
   "execution_count": null,
   "id": "98c047b7",
   "metadata": {},
   "outputs": [],
   "source": [
    "df.head(3)"
   ]
  },
  {
   "cell_type": "code",
   "execution_count": null,
   "id": "611028f6",
   "metadata": {},
   "outputs": [],
   "source": []
  },
  {
   "cell_type": "code",
   "execution_count": null,
   "id": "ed53bb37",
   "metadata": {},
   "outputs": [],
   "source": []
  },
  {
   "cell_type": "markdown",
   "id": "cb9b2459",
   "metadata": {},
   "source": [
    "Instead of returning a dataframe, the `df.set_index()` method can change the column index inplace. Let us do that now"
   ]
  },
  {
   "cell_type": "code",
   "execution_count": null,
   "id": "23c5c75b",
   "metadata": {},
   "outputs": [],
   "source": [
    "df.set_index(keys='roll no', drop=True, inplace=True)"
   ]
  },
  {
   "cell_type": "code",
   "execution_count": null,
   "id": "10e04ce6",
   "metadata": {},
   "outputs": [],
   "source": [
    "df.head()"
   ]
  },
  {
   "cell_type": "code",
   "execution_count": null,
   "id": "d365a0c5",
   "metadata": {},
   "outputs": [],
   "source": []
  },
  {
   "cell_type": "markdown",
   "id": "3adfb9d6",
   "metadata": {},
   "source": [
    ">Note that the roll no column has become the index now, it is no more data of the dataframe"
   ]
  },
  {
   "cell_type": "markdown",
   "id": "504340e8",
   "metadata": {},
   "source": [
    "**Changing Row Indices Back to Positional:** The `df.reset_index()` method is used to reset the row index of the dataframe back to positional integer indices\n",
    "\n",
    "`df.reset_index(drop=False, inplace=False)`\n",
    "Where\n",
    "- `drop=False`, Do not try to insert index into dataframe columns. This resets the index to the default integer index.\n",
    "- `inplace=False`,  Modify the DataFrame in place (do not create a new object).\n",
    "\n",
    "Returns Dataframe if `inplace=False` or None if `inplace=True`"
   ]
  },
  {
   "cell_type": "code",
   "execution_count": null,
   "id": "d4664cac",
   "metadata": {},
   "outputs": [],
   "source": [
    "df.head()"
   ]
  },
  {
   "cell_type": "code",
   "execution_count": null,
   "id": "ce5deb09",
   "metadata": {},
   "outputs": [],
   "source": [
    "df.shape"
   ]
  },
  {
   "cell_type": "code",
   "execution_count": null,
   "id": "41659728",
   "metadata": {},
   "outputs": [],
   "source": [
    "# reset the index\n",
    "df2 = df.reset_index()\n",
    "df2"
   ]
  },
  {
   "cell_type": "code",
   "execution_count": null,
   "id": "fab9ce25",
   "metadata": {},
   "outputs": [],
   "source": [
    "df2.head(3)"
   ]
  },
  {
   "cell_type": "code",
   "execution_count": null,
   "id": "daca0521-07c0-4c67-8f4e-a84c78e5eb8c",
   "metadata": {},
   "outputs": [],
   "source": [
    "df"
   ]
  },
  {
   "cell_type": "code",
   "execution_count": null,
   "id": "55306a5e",
   "metadata": {},
   "outputs": [],
   "source": [
    "df3 = df.reset_index(drop=True)"
   ]
  },
  {
   "cell_type": "code",
   "execution_count": null,
   "id": "8d9a88ec",
   "metadata": {},
   "outputs": [],
   "source": [
    "df3.head()"
   ]
  },
  {
   "cell_type": "code",
   "execution_count": null,
   "id": "66d30f82",
   "metadata": {},
   "outputs": [],
   "source": []
  },
  {
   "cell_type": "markdown",
   "id": "942925cc",
   "metadata": {},
   "source": [
    "## Selecting Column(s) and Row(s) of a Dataframe using `df[]` \n",
    "\n",
    "\n",
    "- Consider this dataframe which is sorted by ages. Note the row indices has been randomized and they do not correspond to positional indices (which we normally visualize as 0,1,2,3...)\n",
    "- To access column(s) of a dataframe:\n",
    "    - To access single column, mention the column index/label inside `[]`, which in this case are strings, however, can be integer values as well. It will return a new Series object.\n",
    "    - To access multiple columns, pass column indices/labels as a list inside `[]`. It will return a new Dataframe object.\n",
    "- To access rows(s) of a dataframe:    \n",
    "    - Mention the **positional** row indices as a slice object `[start:stop:step]`, (In this case the positional indices do not match with the actual row indices). It will return a new Dataframe object.\n",
    "        - `start`: specifies from where the slicing should start, inclusive (default is 0) \n",
    "        - `stop`: specifies where it has to stop, exclusive (default is end of the array) \n",
    "        - `step`:  is by-default 1\n",
    "    \n",
    "    \n",
    "**Note:** \n",
    "- You cannot use two subscript operators `df[2][5]` to access a specific element of a dataframe as in case of numPy arrays.\n",
    "- You cannot get the subset of a dataframe w.r.t rows and columns at the same time using `df[]`, it can either return a subset of columns only or rows only.\n",
    "- We will soon see the `df.loc[]` and `df.iloc[]` methods that provides simpler, elegant and powerful way to subset a dataframe as compared to `df[]` syntax."
   ]
  },
  {
   "cell_type": "code",
   "execution_count": null,
   "id": "83b97679",
   "metadata": {},
   "outputs": [],
   "source": [
    "import pandas as pd"
   ]
  },
  {
   "cell_type": "code",
   "execution_count": null,
   "id": "0d8fde16",
   "metadata": {},
   "outputs": [],
   "source": [
    "# Let us read a fresh dataframe and sort it by age column to have a clear understanding about indexing\n",
    "df = pd.read_csv('datasets/groupdata.csv')\n",
    "df.head()"
   ]
  },
  {
   "cell_type": "code",
   "execution_count": null,
   "id": "bc84098d-8512-429a-9c54-830934bd58bb",
   "metadata": {},
   "outputs": [],
   "source": [
    "df['age'] # df.age"
   ]
  },
  {
   "cell_type": "code",
   "execution_count": null,
   "id": "9c1433a0",
   "metadata": {},
   "outputs": [],
   "source": [
    "df_sorted = df.sort_values('age')\n",
    "df_sorted"
   ]
  },
  {
   "cell_type": "code",
   "execution_count": null,
   "id": "df47ec08",
   "metadata": {},
   "outputs": [],
   "source": [
    "df_sorted[1:3] # works for positional indexing"
   ]
  },
  {
   "cell_type": "markdown",
   "id": "43a1b56d",
   "metadata": {},
   "source": [
    "**Example 1:** Select the data under the column `name`. Since the column labels are strings, so we mention it in single quotes."
   ]
  },
  {
   "cell_type": "code",
   "execution_count": null,
   "id": "1e3fa811",
   "metadata": {},
   "outputs": [],
   "source": [
    "s1 = df_sorted['name']\n",
    "print(s1)\n",
    "type(s1)"
   ]
  },
  {
   "cell_type": "markdown",
   "id": "c49da231",
   "metadata": {},
   "source": [
    "> The result is a new Series object. Since this is a series, so you can use many of the methods that you can use on Pandas Series and Dataframes, in a chained format, as shown below"
   ]
  },
  {
   "cell_type": "code",
   "execution_count": null,
   "id": "4a97bff5",
   "metadata": {},
   "outputs": [],
   "source": [
    "s1.head() # s1 is a series\n",
    "# or\n",
    "df['name'].head() # df is a dataframe "
   ]
  },
  {
   "cell_type": "markdown",
   "id": "fcce97d3",
   "metadata": {},
   "source": [
    "**Example 2:** To select multiple columns of a dataframe, pass a list of column names. The result is a new DataFrame object with the selected columns. "
   ]
  },
  {
   "cell_type": "code",
   "execution_count": null,
   "id": "ce251f7d",
   "metadata": {},
   "outputs": [],
   "source": [
    "# Just get the first five rows for the columns `roll no`, `gender` and `age`\n",
    "d1 = df_sorted[['roll no', 'gender', 'age']].head()\n",
    "d1"
   ]
  },
  {
   "cell_type": "markdown",
   "id": "db8630e0",
   "metadata": {},
   "source": [
    "**Example 3:** Select the data of a single row at position 1."
   ]
  },
  {
   "cell_type": "code",
   "execution_count": null,
   "id": "0f3a8185",
   "metadata": {},
   "outputs": [],
   "source": [
    "df_sorted[1:2:1]"
   ]
  },
  {
   "cell_type": "markdown",
   "id": "4750b2f5",
   "metadata": {},
   "source": [
    "**Example 4:** Select the rows from positional index 2 to 3."
   ]
  },
  {
   "cell_type": "code",
   "execution_count": null,
   "id": "95ea0ab1",
   "metadata": {},
   "outputs": [],
   "source": [
    "df_sorted[2:4]"
   ]
  },
  {
   "cell_type": "markdown",
   "id": "822f292e",
   "metadata": {},
   "source": [
    "**Example 5:** Select the rows from positional index 0, 5, 10, and 15"
   ]
  },
  {
   "cell_type": "code",
   "execution_count": null,
   "id": "f6d5a4c5",
   "metadata": {},
   "outputs": [],
   "source": [
    "df_sorted[::5]"
   ]
  },
  {
   "cell_type": "markdown",
   "id": "7fec73b5",
   "metadata": {},
   "source": [
    ">Note that the output dataframe contains a subset of original dataframe. However, the index or row labels stays with the rows. It is not renumbered. So this means that every row is identified by a row label, which remain associated wih the row or record until you decide to reset the index"
   ]
  },
  {
   "cell_type": "markdown",
   "id": "f64c0a02",
   "metadata": {},
   "source": [
    "#### Resetting the Index of Subset of a Dataframe\n",
    "- When we slice data from a datafeame, the row index of resulting dataframe may not be contiguous values.\n",
    "- You can reset it using the `df.reset_index()` method discussed above as well."
   ]
  },
  {
   "cell_type": "code",
   "execution_count": null,
   "id": "79be2906",
   "metadata": {},
   "outputs": [],
   "source": [
    "df2 = df_sorted[5:12:2]\n",
    "df2"
   ]
  },
  {
   "cell_type": "code",
   "execution_count": null,
   "id": "b5a5e02b",
   "metadata": {},
   "outputs": [],
   "source": [
    "df3 = df2.reset_index()\n",
    "df3"
   ]
  },
  {
   "cell_type": "markdown",
   "id": "754a10e1",
   "metadata": {},
   "source": [
    ">Note that the index has been reset, however, the old index is now added as a column in the dataframe. Mostly this is not required, so pass the `drop=True` argument to `reset_index()` method to avoid this."
   ]
  },
  {
   "cell_type": "code",
   "execution_count": null,
   "id": "0ab5f372",
   "metadata": {},
   "outputs": [],
   "source": [
    "df4 = df2.reset_index(drop=True)\n",
    "df4"
   ]
  },
  {
   "cell_type": "code",
   "execution_count": null,
   "id": "d8b5f0ac",
   "metadata": {},
   "outputs": [],
   "source": []
  },
  {
   "cell_type": "markdown",
   "id": "5d00e92f",
   "metadata": {},
   "source": [
    "## Selecting Rows and Columns using `iloc` Method\n",
    "\n",
    "- The **`df.iloc[]`** is more powerful than the **`df[]`**, as it allows to filter rows as well as columns of user choice at the same time.\n",
    "- It is used for filtering rows and selecting columns by **integer position** (0 to n-1) (neither by row index value/label nor by column index value/label). So you cannot mention the column names like `age` rather you need to give its positional index and that is 2.\n",
    "```\n",
    "df.iloc[rowstoselect, colstoselect]\n",
    "```\n",
    "- You can place a collon in any of the two arguments to select all rows or all columns.\n",
    "- Another point to keep in mind is that the indices are by position (0 to n-1) and not by actual values of row and column indices. \n",
    "- Allowed inputs within `[ , ]` are:\n",
    "     - A single integer, e.g. ``5`` (note that ``5`` is interpreted as an integer position along the index).\n",
    "     - A list or array of integers, e.g.  `[9, 2, 7]`.\n",
    "     - A slice object with integers, e.g. ``2:9``.\n",
    "     - Note that as with usual Python slices, **stop** index is not included\n",
    "     - **Note:** ``.iloc`` will raise ``IndexError`` if a requested indexer is out-of-bounds, except *slice* indexers which allow out-of-bounds indexing (this conforms with python/numpy *slice* semantics)."
   ]
  },
  {
   "cell_type": "code",
   "execution_count": null,
   "id": "1401cb7f",
   "metadata": {},
   "outputs": [],
   "source": [
    "# Let us read a fresh dataframe and sort it by age column to have a clear understanding about indexing\n",
    "import pandas as pd\n",
    "df = pd.read_csv('datasets/groupdata.csv')\n",
    "df_sorted = df.sort_values('age')\n",
    "df_sorted.head()"
   ]
  },
  {
   "cell_type": "markdown",
   "id": "cc6c7f35",
   "metadata": {},
   "source": [
    "### Rows Selection Only"
   ]
  },
  {
   "cell_type": "markdown",
   "id": "c039049a",
   "metadata": {},
   "source": [
    "**Example 1:** Select a single row with positional index  2 and all the columns"
   ]
  },
  {
   "cell_type": "code",
   "execution_count": null,
   "id": "2b30e438",
   "metadata": {},
   "outputs": [],
   "source": [
    "df_sorted.iloc[2:3,:]"
   ]
  },
  {
   "cell_type": "markdown",
   "id": "d3839ca4",
   "metadata": {},
   "source": [
    "> Note that the integer values are interpreted as row# (positional index) of the dataframe. Moreover a Series object is returned"
   ]
  },
  {
   "cell_type": "markdown",
   "id": "f0de333d",
   "metadata": {},
   "source": [
    "**Example 2:** Select rows with positional indices 2, 4 and 1 and all the columns."
   ]
  },
  {
   "cell_type": "code",
   "execution_count": null,
   "id": "e910799f-7589-4f3b-bd4b-5c2dd33dbfbe",
   "metadata": {},
   "outputs": [],
   "source": [
    "df_sorted"
   ]
  },
  {
   "cell_type": "code",
   "execution_count": null,
   "id": "f86112b9",
   "metadata": {},
   "outputs": [],
   "source": [
    "df_sorted.iloc[[2,4,1], :]"
   ]
  },
  {
   "cell_type": "markdown",
   "id": "59ce2138",
   "metadata": {},
   "source": [
    "**Example 3:** Select rows with positional indices from 3 to 5 (stop value is not inclusive) and all the columns"
   ]
  },
  {
   "cell_type": "code",
   "execution_count": null,
   "id": "d3a65558",
   "metadata": {},
   "outputs": [],
   "source": [
    "df_sorted.iloc[3:5, :]"
   ]
  },
  {
   "cell_type": "code",
   "execution_count": null,
   "id": "a18affa1",
   "metadata": {},
   "outputs": [],
   "source": [
    "df_sorted.iloc[3:5]"
   ]
  },
  {
   "cell_type": "markdown",
   "id": "cccf75da",
   "metadata": {},
   "source": [
    ">**In all above examples, if you omit comma and collon for the columns part, Pandas assumes it. I strongly recommend using the above style for clarity of code.**"
   ]
  },
  {
   "cell_type": "markdown",
   "id": "87b0b6a3",
   "metadata": {},
   "source": [
    "###  Selection of Columns Only"
   ]
  },
  {
   "cell_type": "code",
   "execution_count": null,
   "id": "20389167",
   "metadata": {},
   "outputs": [],
   "source": [
    "df_sorted.columns"
   ]
  },
  {
   "cell_type": "markdown",
   "id": "9dd0d1b3",
   "metadata": {},
   "source": [
    "**Example 1:** Select all the row values under the column at positional index 3"
   ]
  },
  {
   "cell_type": "code",
   "execution_count": null,
   "id": "93cddd31",
   "metadata": {},
   "outputs": [],
   "source": [
    "df_sorted.iloc[:,3]"
   ]
  },
  {
   "cell_type": "markdown",
   "id": "87849dcb",
   "metadata": {},
   "source": [
    "**Example 2:** Select all the row values under the column at positional index 1, 4, and 5"
   ]
  },
  {
   "cell_type": "code",
   "execution_count": null,
   "id": "c8fb3801",
   "metadata": {},
   "outputs": [],
   "source": [
    "df_sorted.iloc[:, [1,4,5]]"
   ]
  },
  {
   "cell_type": "code",
   "execution_count": null,
   "id": "de32a2e8",
   "metadata": {},
   "outputs": [],
   "source": []
  },
  {
   "cell_type": "markdown",
   "id": "dd84e3d7",
   "metadata": {},
   "source": [
    "###  Selection of Rows + Columns\n",
    "```\n",
    "df.iloc[whatrowsIwant, whatcolumnsIwant]\n",
    "```\n",
    "- You can use a single value, a list of multiple values, or a slice object for selecting rows\n",
    "- You can use a single value, a list of multiple values, or a slice object for selecting columns"
   ]
  },
  {
   "cell_type": "markdown",
   "id": "d6a34659",
   "metadata": {},
   "source": [
    "**Example 1:** Select only the rows at positional index 3 and 0, and from those two rows select only columns at positional index 1 and 5"
   ]
  },
  {
   "cell_type": "code",
   "execution_count": null,
   "id": "c97afacc",
   "metadata": {},
   "outputs": [],
   "source": [
    "df_sorted.iloc[[3, 0], [1, 5]]"
   ]
  },
  {
   "cell_type": "markdown",
   "id": "f471852a",
   "metadata": {},
   "source": [
    "**Example 2:** Select only the rows at positional index 0 to 4 (stop index is not inclusive), and from those two rows select only columns at positional index 2 and 3"
   ]
  },
  {
   "cell_type": "code",
   "execution_count": null,
   "id": "7435215d",
   "metadata": {},
   "outputs": [],
   "source": [
    "df_sorted.iloc[0:5, 2:4]"
   ]
  },
  {
   "cell_type": "code",
   "execution_count": null,
   "id": "4fc174bb",
   "metadata": {},
   "outputs": [],
   "source": []
  },
  {
   "cell_type": "code",
   "execution_count": null,
   "id": "f50c2360",
   "metadata": {},
   "outputs": [],
   "source": []
  },
  {
   "cell_type": "markdown",
   "id": "f2db8030",
   "metadata": {},
   "source": [
    "## Selecting Rows and Columns using `df.loc[]` Method\n",
    "\n",
    "- The **`df.loc[]`** is also used for filtering rows and selecting columns but by row index value/label or by column index value/label (NOT by position). \n",
    "```\n",
    "df.loc[rowstoselect, colstoselect]\n",
    "```\n",
    "- You can place a collon in any of the two arguments to select all rows or all columns.\n",
    "- Another point to keep in mind is that the indices are NOT by position, rather by actual values of row and column indices. \n",
    "- Allowed inputs within `[ , ]` are:\n",
    "     - A single label, e.g. `5` or `'a'`, (note that `5` is interpreted as actual index/label **NOT** as an integer position along the index).\n",
    "     - A list or array of labels, e.g. `[9, 2, 7]`\n",
    "     - A slice object with labels, e.g. `[3:6:2]` \n",
    "     - **Warning:** Note that contrary to usual Python slices, **both** the start and the stop are included"
   ]
  },
  {
   "cell_type": "code",
   "execution_count": null,
   "id": "8e3f95fc",
   "metadata": {},
   "outputs": [],
   "source": [
    "# Let us read a fresh dataframe and sort it by age column to have a clear understanding about indexing\n",
    "import pandas as pd\n",
    "df = pd.read_csv('datasets/groupdata.csv')\n",
    "df"
   ]
  },
  {
   "cell_type": "code",
   "execution_count": null,
   "id": "d6c05a58-807f-4c68-b127-5950de8913f4",
   "metadata": {},
   "outputs": [],
   "source": [
    "df_sorted = df.sort_values('age')\n",
    "df_sorted"
   ]
  },
  {
   "cell_type": "code",
   "execution_count": null,
   "id": "490e7de1-3c41-4d60-8c32-f3c6dea9be07",
   "metadata": {},
   "outputs": [],
   "source": [
    "df_sorted.loc[7,:]"
   ]
  },
  {
   "cell_type": "markdown",
   "id": "a639b667",
   "metadata": {},
   "source": [
    "**Example:** Select rows with row indices 2, 4 and 1 and all the columns"
   ]
  },
  {
   "cell_type": "code",
   "execution_count": null,
   "id": "4e62bdae",
   "metadata": {},
   "outputs": [],
   "source": [
    "df_sorted.loc[[2,4,1], :]"
   ]
  },
  {
   "cell_type": "code",
   "execution_count": null,
   "id": "09b809ba",
   "metadata": {},
   "outputs": [],
   "source": [
    "df_sorted.iloc[[2,4,1], :]"
   ]
  },
  {
   "cell_type": "markdown",
   "id": "6f160df8",
   "metadata": {},
   "source": [
    "**Example:** Select all the row values under the columns with labels `name`, `address`, and `scholarship`"
   ]
  },
  {
   "cell_type": "code",
   "execution_count": null,
   "id": "b7fda937",
   "metadata": {},
   "outputs": [],
   "source": [
    "df_sorted.loc[:, ['name', 'address', 'scholarship']]"
   ]
  },
  {
   "cell_type": "markdown",
   "id": "5a021dcd",
   "metadata": {},
   "source": [
    "**Example:** Select rows with row indices 0 to 5 (Stop index is inclusive), and from those six rows select columns `name`, `age` and `session`"
   ]
  },
  {
   "cell_type": "code",
   "execution_count": null,
   "id": "1928b057",
   "metadata": {},
   "outputs": [],
   "source": [
    "df_sorted.loc[0:5, ['name', 'age', 'session']]"
   ]
  },
  {
   "cell_type": "code",
   "execution_count": null,
   "id": "813b5b9c",
   "metadata": {},
   "outputs": [],
   "source": [
    "df_sorted.loc[4:0, ['name', 'age', 'session']]"
   ]
  },
  {
   "cell_type": "code",
   "execution_count": null,
   "id": "2fc1af9b",
   "metadata": {},
   "outputs": [],
   "source": [
    "df_sorted.loc[3:13, ['name', 'age', 'session']]"
   ]
  },
  {
   "cell_type": "markdown",
   "id": "6f9cd560",
   "metadata": {},
   "source": [
    ">**Always keep the row indices of your dataframe as 0, 1, 2, 3, 4, ... and the column indices as meaningful labels. If after a slicing or sorting operation, the row indices are a bit disturbed, use `df.reset_index()` method to adjust your row indices match the positional indices.**"
   ]
  },
  {
   "cell_type": "markdown",
   "id": "7bdc241b",
   "metadata": {},
   "source": [
    "## Conditional Selection\n",
    "- Suppose we want to select only those rows where the age value is greater than 20. Note this time the dataframe has row indices that match with the positional indices.\n"
   ]
  },
  {
   "cell_type": "code",
   "execution_count": null,
   "id": "d7e18e1f",
   "metadata": {},
   "outputs": [],
   "source": [
    "# Let us read a fresh dataframe and sort it by age column to have a clear understanding about indexing\n",
    "import pandas as pd\n",
    "df = pd.read_csv('datasets/groupdata.csv')\n",
    "df"
   ]
  },
  {
   "cell_type": "code",
   "execution_count": null,
   "id": "23fc9f52",
   "metadata": {},
   "outputs": [],
   "source": []
  },
  {
   "cell_type": "markdown",
   "id": "b95b5476",
   "metadata": {},
   "source": [
    "###  Option 1:\n",
    "- Create a Python list having Boolean values of exact same length as the rows of the dataframe \n",
    "- The value in the list need to be True for the row which we want to select\n",
    "- Convert the Python list to a Pandas series\n",
    "- Finally pass that series to the dataframe"
   ]
  },
  {
   "cell_type": "code",
   "execution_count": null,
   "id": "d2a7b68d-e5f3-4a45-b51d-1987cf047562",
   "metadata": {},
   "outputs": [],
   "source": [
    "df.age # df['age']"
   ]
  },
  {
   "cell_type": "code",
   "execution_count": null,
   "id": "7775653d",
   "metadata": {},
   "outputs": [],
   "source": [
    "list1 = []\n",
    "for length in df.age:\n",
    "    if length > 20:\n",
    "        list1.append(True)\n",
    "    else:\n",
    "        list1.append(False)\n",
    "list1"
   ]
  },
  {
   "cell_type": "code",
   "execution_count": null,
   "id": "3fb993d7-f3a3-4335-acc4-cd6c7ce048f9",
   "metadata": {},
   "outputs": [],
   "source": [
    "print(list1)\n",
    "print(f\"Length of list1 is {len(list1)}\")\n",
    "print(f\"Length of dataframe is {len(df)}\")"
   ]
  },
  {
   "cell_type": "code",
   "execution_count": null,
   "id": "9dc4bfdc",
   "metadata": {},
   "outputs": [],
   "source": [
    "df[list1] # masking of True and False"
   ]
  },
  {
   "cell_type": "code",
   "execution_count": null,
   "id": "9d5a38d0",
   "metadata": {},
   "outputs": [],
   "source": []
  },
  {
   "cell_type": "code",
   "execution_count": null,
   "id": "55cd1e10",
   "metadata": {},
   "outputs": [],
   "source": []
  },
  {
   "cell_type": "markdown",
   "id": "21bcfd1f",
   "metadata": {},
   "source": [
    "###  Option 2:\n",
    "- Instead of creating a Boolean list using the loop, use the condition inside the `df[cond]` operator, that will automatically generate the Boolean list."
   ]
  },
  {
   "cell_type": "code",
   "execution_count": null,
   "id": "fb140314-f8e5-41eb-b280-1ff54fc5a3ba",
   "metadata": {},
   "outputs": [],
   "source": [
    "df.age > 20"
   ]
  },
  {
   "cell_type": "code",
   "execution_count": null,
   "id": "a9e708f3",
   "metadata": {},
   "outputs": [],
   "source": [
    "df[df.age > 20]"
   ]
  },
  {
   "cell_type": "code",
   "execution_count": null,
   "id": "caffb8b2",
   "metadata": {},
   "outputs": [],
   "source": [
    "df[df['age'] > 20]"
   ]
  },
  {
   "cell_type": "markdown",
   "id": "f31fa304",
   "metadata": {},
   "source": [
    "### Option 3:\n",
    "- Best way is to use the **`df.loc[cond]`** method."
   ]
  },
  {
   "cell_type": "code",
   "execution_count": null,
   "id": "00037b50",
   "metadata": {},
   "outputs": [],
   "source": [
    "df.loc[df['age'] > 20, :]"
   ]
  },
  {
   "cell_type": "code",
   "execution_count": null,
   "id": "f36ead9a",
   "metadata": {},
   "outputs": [],
   "source": [
    "# Using 'loc' gives you the facility to slice the required columns as well\n",
    "df.loc[df['age'] > 20, ['name', 'age']]"
   ]
  },
  {
   "cell_type": "markdown",
   "id": "794cfacd-c47e-45f3-b895-978dfbc18c49",
   "metadata": {},
   "source": [
    "# Bonus"
   ]
  },
  {
   "cell_type": "code",
   "execution_count": null,
   "id": "8ca07171-593c-407a-bf17-76b58a3a4d77",
   "metadata": {},
   "outputs": [],
   "source": [
    "df1 = pd.read_csv(\"datasets/Euro_2012_stats_TEAM.csv\")\n",
    "df1"
   ]
  },
  {
   "cell_type": "code",
   "execution_count": null,
   "id": "20a933db-bc0d-4284-8869-806479a5f747",
   "metadata": {},
   "outputs": [],
   "source": [
    "df1.dtypes"
   ]
  },
  {
   "cell_type": "code",
   "execution_count": null,
   "id": "55012193-d811-4593-b149-f67122828eb6",
   "metadata": {},
   "outputs": [],
   "source": []
  },
  {
   "cell_type": "code",
   "execution_count": null,
   "id": "9f49a274-8e6f-4fa3-b198-cf1fea2fd648",
   "metadata": {},
   "outputs": [],
   "source": [
    "str1 = \"47.2%\"\n",
    "num1 = str1.replace(\"%\", \"\")\n",
    "num1 = float(num1)\n",
    "type(num1), type(str1), num1"
   ]
  },
  {
   "cell_type": "code",
   "execution_count": null,
   "id": "f93754b9-38dc-4b18-827a-dfff672751a3",
   "metadata": {},
   "outputs": [],
   "source": [
    "df1['Shooting Accuracy'] = df1['Shooting Accuracy'].apply(lambda x: float(x.replace(\"%\", \"\")))"
   ]
  },
  {
   "cell_type": "code",
   "execution_count": null,
   "id": "28c8373e-391d-4a10-bce9-339806435807",
   "metadata": {},
   "outputs": [],
   "source": [
    "df1[df1['Shooting Accuracy'] < 25]"
   ]
  },
  {
   "cell_type": "code",
   "execution_count": null,
   "id": "6539829a-651c-4ce4-a478-37a1fb4da8ed",
   "metadata": {},
   "outputs": [],
   "source": [
    "# map\n",
    "# apply\n",
    "# applymap\n",
    "# "
   ]
  },
  {
   "cell_type": "code",
   "execution_count": null,
   "id": "e0fb4584-39ea-4724-8374-4b384710bf5e",
   "metadata": {},
   "outputs": [],
   "source": []
  },
  {
   "cell_type": "code",
   "execution_count": null,
   "id": "f54af564-b9e0-4b9d-a982-86fef84d6f27",
   "metadata": {},
   "outputs": [],
   "source": []
  },
  {
   "cell_type": "markdown",
   "id": "61ff6856",
   "metadata": {},
   "source": [
    "### Conditional Selection based on  Multiple Conditions\n",
    "- Suppose we want to get all the records of the dataframe where the age value is greater than 20 and belong to Multan\n",
    "- For this use multiple conditions inside parenthesis and use logical operators (`&`, `|`) in between\n",
    "```\n",
    "df[(condition1) op (condition2) op (condition3)]\n",
    "```"
   ]
  },
  {
   "cell_type": "code",
   "execution_count": null,
   "id": "937cfe03",
   "metadata": {},
   "outputs": [],
   "source": [
    "df"
   ]
  },
  {
   "cell_type": "code",
   "execution_count": null,
   "id": "0d331971",
   "metadata": {},
   "outputs": [],
   "source": [
    "mask = (df.age < 20) & (df.address != 'Multan')\n",
    "mask\n",
    "# Truth Table of AND operator\n",
    "# T & T = T\n",
    "# T & F = F\n",
    "# F & T = F\n",
    "# F & F = F"
   ]
  },
  {
   "cell_type": "code",
   "execution_count": null,
   "id": "b747b48b",
   "metadata": {},
   "outputs": [],
   "source": [
    "df[mask]"
   ]
  },
  {
   "cell_type": "code",
   "execution_count": null,
   "id": "951b9770",
   "metadata": {},
   "outputs": [],
   "source": [
    "df[(df.age < 20) & (df.address != 'Multan')]"
   ]
  },
  {
   "cell_type": "code",
   "execution_count": null,
   "id": "76a1db4d",
   "metadata": {},
   "outputs": [],
   "source": [
    "df[(df.age < 20) & (df.address == 'Multan')]"
   ]
  },
  {
   "cell_type": "code",
   "execution_count": null,
   "id": "5d61acb2",
   "metadata": {},
   "outputs": [],
   "source": [
    "# Select records of group A male students only\n",
    "df1 = df[(df.group == 'group A') & (df.gender == 'Male')]  \n",
    "df1"
   ]
  },
  {
   "cell_type": "code",
   "execution_count": null,
   "id": "683a2bb4",
   "metadata": {},
   "outputs": [],
   "source": [
    "# Select the records of students who belong to Sialkot or Karachi\n",
    "df1 = df[(df.address == 'Sialkot') | (df.address == 'Karachi')]\n",
    "df1\n",
    "\n",
    "# Truth Table of OR operator\n",
    "# T | T = T\n",
    "# T | F = T\n",
    "# F | T = T\n",
    "# F | F = F"
   ]
  },
  {
   "cell_type": "code",
   "execution_count": null,
   "id": "f4ec23ab",
   "metadata": {},
   "outputs": [],
   "source": [
    "# Select records who lives outside Karachi and earn a scholarship of greater than 7000, or lives in Peshawer\n",
    "out = df[(df.address != 'Karachi') & (df.scholarship > 7000) | (df.address == 'Peshawer')]\n",
    "out"
   ]
  },
  {
   "cell_type": "markdown",
   "id": "3e0bdb57",
   "metadata": {},
   "source": [
    "**If there are many conditions connected with or operator, you can simplify it using the `series.isin()` method as shown below:**"
   ]
  },
  {
   "cell_type": "code",
   "execution_count": null,
   "id": "77eaf308",
   "metadata": {},
   "outputs": [],
   "source": [
    "df[df['address'].isin(['Sialkot', 'Karachi','Peshawer'])]"
   ]
  },
  {
   "cell_type": "markdown",
   "id": "cd89c0b9",
   "metadata": {},
   "source": [
    "##  Selecting columns of a specific data type\n",
    "- The `df.select_dtypes()` method is used to get a subset of the dataframe to select columns of a specific datatype(s) \n",
    "```\n",
    "df.select_dtypes(include, exclude)\n",
    "```\n",
    "\n",
    "- `include` and `exclude` arguments can be scalar or list-like\n",
    "- Atleast one of these parameters must be supplied"
   ]
  },
  {
   "cell_type": "code",
   "execution_count": null,
   "id": "ce34b38b",
   "metadata": {},
   "outputs": [],
   "source": [
    "# Let us first check the data types of each column\n",
    "df.dtypes"
   ]
  },
  {
   "cell_type": "code",
   "execution_count": null,
   "id": "ef2b89e6",
   "metadata": {},
   "outputs": [],
   "source": [
    "# Select the columns with object (categorical) data type\n",
    "df.select_dtypes(include=['object'])"
   ]
  },
  {
   "cell_type": "code",
   "execution_count": null,
   "id": "60a37682",
   "metadata": {},
   "outputs": [],
   "source": [
    "# Select the columns with non-object (non-categorical) data type\n",
    "df.select_dtypes(exclude=['object'])"
   ]
  },
  {
   "cell_type": "code",
   "execution_count": null,
   "id": "df5142b7",
   "metadata": {},
   "outputs": [],
   "source": [
    "# First Method: \n",
    "# Select the columns with integer (numerical) data type and float data type\n",
    "df.select_dtypes(include=['int', 'float'])"
   ]
  },
  {
   "cell_type": "code",
   "execution_count": null,
   "id": "2f1aa05c",
   "metadata": {},
   "outputs": [],
   "source": [
    "# Second Method\n",
    "# Select the columns with integer (numerical) data type USING np.number\n",
    "import numpy as np\n",
    "df.select_dtypes(include=np.number)"
   ]
  },
  {
   "cell_type": "code",
   "execution_count": null,
   "id": "dc5e4f74",
   "metadata": {},
   "outputs": [],
   "source": [
    "df['age'].select_dtypes(include=np.number)"
   ]
  },
  {
   "cell_type": "code",
   "execution_count": null,
   "id": "5740931e",
   "metadata": {},
   "outputs": [],
   "source": []
  },
  {
   "cell_type": "code",
   "execution_count": null,
   "id": "afc210e3",
   "metadata": {},
   "outputs": [],
   "source": []
  },
  {
   "cell_type": "markdown",
   "id": "db7e4e53",
   "metadata": {},
   "source": [
    "## Practice Questions"
   ]
  },
  {
   "cell_type": "markdown",
   "id": "1198aa13",
   "metadata": {},
   "source": [
    "### Regiment\n",
    "- A regiment is a military unit. Its role and size varies markedly, depending on the country, service and/or a specialisation.\n",
    "\n"
   ]
  },
  {
   "cell_type": "markdown",
   "id": "c826893b",
   "metadata": {},
   "source": [
    "#### Step 1. Import the necessary libraries"
   ]
  },
  {
   "cell_type": "code",
   "execution_count": null,
   "id": "d9821aa4",
   "metadata": {},
   "outputs": [],
   "source": [
    "import pandas as pd\n",
    "import numpy as np\n"
   ]
  },
  {
   "cell_type": "markdown",
   "id": "297c02ba",
   "metadata": {},
   "source": [
    "#### Step 2. Create the `DataFrame` with the following values and Assign it to a variable called `regiment`."
   ]
  },
  {
   "cell_type": "code",
   "execution_count": null,
   "id": "c28246a5",
   "metadata": {},
   "outputs": [],
   "source": [
    "# Create an example dataframe about a fictional army\n",
    "raw_data = {'regiment': ['Nighthawks', 'Nighthawks', 'Nighthawks', 'Nighthawks', 'Dragoons', 'Dragoons', 'Dragoons', 'Dragoons', 'Scouts', 'Scouts', 'Scouts', 'Scouts'],\n",
    "            'company': ['1st', '1st', '2nd', '2nd', '1st', '1st', '2nd', '2nd','1st', '1st', '2nd', '2nd'],\n",
    "            'deaths': [523, 52, 25, 616, 43, 234, 523, 62, 62, 73, 37, 35],\n",
    "            'battles': [5, 42, 2, 2, 4, 7, 8, 3, 4, 7, 8, 9],\n",
    "            'size': [1045, 957, 1099, 1400, 1592, 1006, 987, 849, 973, 1005, 1099, 1523],\n",
    "            'veterans': [1, 5, 62, 26, 73, 37, 949, 48, 48, 435, 63, 345],\n",
    "            'readiness': [1, 2, 3, 3, 2, 1, 2, 3, 2, 1, 2, 3],\n",
    "            'armored': [1, 0, 1, 1, 0, 1, 0, 1, 0, 0, 1, 1],\n",
    "            'deserters': [4, 24, 31, 2, 3, 4, 24, 31, 2, 3, 2, 3],\n",
    "            'origin': ['Arizona', 'California', 'Texas', 'Florida', 'Maine', 'Iowa', 'Alaska', 'Washington', 'Oregon', 'Wyoming', 'Louisana', 'Georgia']}\n",
    "raw_data"
   ]
  },
  {
   "cell_type": "code",
   "execution_count": null,
   "id": "c635b963",
   "metadata": {},
   "outputs": [],
   "source": [
    "# craete a dataframe from the raw data\n",
    "regiment = pd.DataFrame(raw_data)\n",
    "regiment.head()"
   ]
  },
  {
   "cell_type": "markdown",
   "id": "70741a7c",
   "metadata": {},
   "source": [
    "### Description of the columns in the dataframe\n",
    "- **regiment:** The name or identifier of the military unit.\n",
    "- **company:** The specific company within the regiment.\n",
    "- **deaths:** Number of soldiers who have died in battles.\n",
    "- **battles:** Number of battles the regiment has participated in.\n",
    "- **size:** Total size of the regiment, indicating the number of soldiers.\n",
    "- **veterans(retired solider):** Number of experienced and seasoned soldiers.\n",
    "- **readiness:** The state of preparedness or readiness of the regiment. (The country maintained a high level of military preparedness)\n",
    "- **armored:(Bombproof)** Presence of armored units within the regiment.\n",
    "- **deserters:** Number of soldiers who have deserted or abandoned their posts.\n",
    "- **origin:** The origin or place of hiring for the regiment."
   ]
  },
  {
   "cell_type": "markdown",
   "id": "a582ff90",
   "metadata": {},
   "source": [
    "#### Step 3. Set the `origin` column as the index of the dataframe."
   ]
  },
  {
   "cell_type": "code",
   "execution_count": null,
   "id": "88ed6cce",
   "metadata": {},
   "outputs": [],
   "source": [
    "regiment['origin'].value_counts()"
   ]
  },
  {
   "cell_type": "code",
   "execution_count": null,
   "id": "8f5c5132",
   "metadata": {},
   "outputs": [],
   "source": [
    "regiment = regiment.set_index('origin')\n",
    "regiment"
   ]
  },
  {
   "cell_type": "markdown",
   "id": "a71e481b",
   "metadata": {},
   "source": [
    "#### Step 4. Print only the column `veterans`"
   ]
  },
  {
   "cell_type": "code",
   "execution_count": null,
   "id": "79b974e3",
   "metadata": {},
   "outputs": [],
   "source": [
    "regiment.columns"
   ]
  },
  {
   "cell_type": "code",
   "execution_count": null,
   "id": "a19bb2ac-6a16-46c4-88ee-0ba2f8b67f43",
   "metadata": {},
   "outputs": [],
   "source": [
    "regiment.veterans"
   ]
  },
  {
   "cell_type": "markdown",
   "id": "af14f23d",
   "metadata": {},
   "source": [
    "#### Step 5. Print the columns 'veterans' and 'deaths'"
   ]
  },
  {
   "cell_type": "code",
   "execution_count": null,
   "id": "756d826b",
   "metadata": {},
   "outputs": [],
   "source": [
    "regiment.loc[:,['deaths', 'veterans']] # First Method"
   ]
  },
  {
   "cell_type": "code",
   "execution_count": null,
   "id": "8bdf95ef",
   "metadata": {},
   "outputs": [],
   "source": [
    "regiment[['deaths', 'veterans']] # Second Method]]"
   ]
  },
  {
   "cell_type": "code",
   "execution_count": null,
   "id": "92654011",
   "metadata": {},
   "outputs": [],
   "source": []
  },
  {
   "cell_type": "markdown",
   "id": "322a13a3",
   "metadata": {
    "scrolled": true
   },
   "source": [
    "#### Step 6. Select the `deaths`,`size` and `deserters` columns from `Texas` and `Alaska`."
   ]
  },
  {
   "cell_type": "code",
   "execution_count": null,
   "id": "0f0f5e60",
   "metadata": {},
   "outputs": [],
   "source": [
    "regiment.loc[['Texas', 'Alaska'],['deaths', 'size', 'deserters']]"
   ]
  },
  {
   "cell_type": "markdown",
   "id": "4e488f90",
   "metadata": {},
   "source": [
    "#### Step 7. Select the rows 3 to 7 and the columns 3 to 6"
   ]
  },
  {
   "cell_type": "code",
   "execution_count": null,
   "id": "292df6af",
   "metadata": {},
   "outputs": [],
   "source": [
    "regiment.iloc[3:7, 3:6]"
   ]
  },
  {
   "cell_type": "markdown",
   "id": "55760f2a",
   "metadata": {},
   "source": [
    "#### Step 8. Select every row after the fourth row and all columns"
   ]
  },
  {
   "cell_type": "code",
   "execution_count": null,
   "id": "41824adc",
   "metadata": {},
   "outputs": [],
   "source": [
    "regiment.iloc[::3, :]"
   ]
  },
  {
   "cell_type": "markdown",
   "id": "d1a783dc",
   "metadata": {},
   "source": [
    "#### Step 9. Select all the rows and the 3rd column up to the 7th column"
   ]
  },
  {
   "cell_type": "code",
   "execution_count": null,
   "id": "1071d4d9",
   "metadata": {},
   "outputs": [],
   "source": [
    "regiment.iloc[:, 3:7]"
   ]
  },
  {
   "cell_type": "markdown",
   "id": "41a2eb75",
   "metadata": {},
   "source": [
    "#### Step 10. Select rows where df.deaths is greater than 50"
   ]
  },
  {
   "cell_type": "code",
   "execution_count": null,
   "id": "3b098b4e",
   "metadata": {},
   "outputs": [],
   "source": [
    "regiment[regiment['deaths'] > 50]"
   ]
  },
  {
   "cell_type": "markdown",
   "id": "08628e45",
   "metadata": {},
   "source": [
    "#### Step 11. Select rows where `df.deaths` is greater than 500 or less than 50."
   ]
  },
  {
   "cell_type": "code",
   "execution_count": null,
   "id": "1689e372",
   "metadata": {},
   "outputs": [],
   "source": [
    "regiment[(regiment['deaths'] > 500) | (regiment['deaths'] < 50)]"
   ]
  },
  {
   "cell_type": "markdown",
   "id": "3579e93f",
   "metadata": {},
   "source": [
    "#### Step 12. Select all the regiments not named `Dragoons`."
   ]
  },
  {
   "cell_type": "code",
   "execution_count": null,
   "id": "2809816b",
   "metadata": {},
   "outputs": [],
   "source": [
    "regiment[regiment['regiment'] != 'Dragoons']"
   ]
  },
  {
   "cell_type": "markdown",
   "id": "3225e384",
   "metadata": {},
   "source": [
    "#### Step 13. Select the rows called Texas and Arizona"
   ]
  },
  {
   "cell_type": "code",
   "execution_count": null,
   "id": "82417270",
   "metadata": {},
   "outputs": [],
   "source": [
    "regiment.loc[['Texas', 'Arizona'], :]"
   ]
  },
  {
   "cell_type": "code",
   "execution_count": null,
   "id": "e7ecf02c",
   "metadata": {},
   "outputs": [],
   "source": []
  },
  {
   "cell_type": "markdown",
   "id": "4d751870",
   "metadata": {},
   "source": [
    "## Check Your Concepts:\n",
    "- What is Pandas?\n",
    "- How to iterate over rows in Pandas Dataframe \n",
    "- Different ways to iterate over rows in Pandas Dataframe \n",
    "- Selecting rows in pandas DataFrame based on conditions \n",
    "- Select any row from a Dataframe using iloc[] and iat[] in Pandas \n",
    "- Limited rows selection with given column in Pandas | Python \n",
    "- Drop rows from the dataframe based on certain condition applied on a column \n",
    "- Insert row at given position in Pandas Dataframe \n",
    "- Create a list from rows in Pandas dataframe \n",
    "- Ranking Rows of Pandas DataFrame \n",
    "- Sorting rows in pandas DataFrame \n",
    "- Select row with maximum and minimum value in Pandas dataframe \n",
    "- Get all rows in a Pandas DataFrame containing given substring \n",
    "- Convert a column to row name/index in Pandas \n",
    "- How to randomly select rows from Pandas DataFrame \n",
    " "
   ]
  },
  {
   "cell_type": "code",
   "execution_count": null,
   "id": "8a1cc617",
   "metadata": {},
   "outputs": [],
   "source": []
  },
  {
   "cell_type": "code",
   "execution_count": null,
   "id": "84d70980",
   "metadata": {},
   "outputs": [],
   "source": []
  },
  {
   "cell_type": "code",
   "execution_count": null,
   "id": "b081b0c2",
   "metadata": {},
   "outputs": [],
   "source": []
  },
  {
   "cell_type": "markdown",
   "id": "a2577f2a",
   "metadata": {},
   "source": [
    "# Pandas - Assignment No 01\n",
    "- Click here to solve [Pandas - Assignment no 01](https://www.kaggle.com/code/ehtishamsadiq/pandas-assignment-no-01)"
   ]
  },
  {
   "cell_type": "code",
   "execution_count": null,
   "id": "a5084fff",
   "metadata": {},
   "outputs": [],
   "source": []
  },
  {
   "cell_type": "code",
   "execution_count": null,
   "id": "f2f768ab",
   "metadata": {},
   "outputs": [],
   "source": []
  },
  {
   "cell_type": "code",
   "execution_count": null,
   "id": "d9953560",
   "metadata": {},
   "outputs": [],
   "source": []
  },
  {
   "cell_type": "code",
   "execution_count": null,
   "id": "3d092076",
   "metadata": {},
   "outputs": [],
   "source": []
  },
  {
   "cell_type": "code",
   "execution_count": null,
   "id": "f380359b",
   "metadata": {},
   "outputs": [],
   "source": []
  },
  {
   "cell_type": "code",
   "execution_count": null,
   "id": "11f2c4e6",
   "metadata": {},
   "outputs": [],
   "source": []
  },
  {
   "cell_type": "code",
   "execution_count": 1,
   "id": "ef6df26d",
   "metadata": {},
   "outputs": [
    {
     "data": {
      "text/html": [
       "\n",
       "    <style>\n",
       "        body {\n",
       "            background-color: #f2fff2;\n",
       "        }\n",
       "        h1 {\n",
       "            text-align: center;\n",
       "            font-weight: bold;\n",
       "            font-size: 36px;\n",
       "            color: #4295F4;\n",
       "            text-decoration: underline;\n",
       "            padding-top: 15px;\n",
       "        }\n",
       "        \n",
       "        h2 {\n",
       "            text-align: left;\n",
       "            font-weight: bold;\n",
       "            font-size: 30px;\n",
       "            color: #4A000A;\n",
       "            text-decoration: underline;\n",
       "            padding-top: 10px;\n",
       "        }\n",
       "        \n",
       "        h3 {\n",
       "            text-align: left;\n",
       "            font-weight: bold;\n",
       "            font-size: 30px;\n",
       "            color: #f0081e;\n",
       "            text-decoration: underline;\n",
       "            padding-top: 5px;\n",
       "        }\n",
       "\n",
       "        \n",
       "        p {\n",
       "            text-align: center;\n",
       "            font-size: 12 px;\n",
       "            color: #0B9923;\n",
       "        }\n",
       "    </style>\n",
       "\n",
       "<h1>Hello</h1>\n",
       "<p>Hello World</p>\n",
       "<h2> Hello</h2>\n",
       "<h3> World </h3>\n"
      ],
      "text/plain": [
       "<IPython.core.display.HTML object>"
      ]
     },
     "execution_count": 1,
     "metadata": {},
     "output_type": "execute_result"
    }
   ],
   "source": [
    "from IPython.core.display import HTML\n",
    "\n",
    "style = \"\"\"\n",
    "    <style>\n",
    "        body {\n",
    "            background-color: #f2fff2;\n",
    "        }\n",
    "        h1 {\n",
    "            text-align: center;\n",
    "            font-weight: bold;\n",
    "            font-size: 36px;\n",
    "            color: #4295F4;\n",
    "            text-decoration: underline;\n",
    "            padding-top: 15px;\n",
    "        }\n",
    "        \n",
    "        h2 {\n",
    "            text-align: left;\n",
    "            font-weight: bold;\n",
    "            font-size: 30px;\n",
    "            color: #4A000A;\n",
    "            text-decoration: underline;\n",
    "            padding-top: 10px;\n",
    "        }\n",
    "        \n",
    "        h3 {\n",
    "            text-align: left;\n",
    "            font-weight: bold;\n",
    "            font-size: 30px;\n",
    "            color: #f0081e;\n",
    "            text-decoration: underline;\n",
    "            padding-top: 5px;\n",
    "        }\n",
    "\n",
    "        \n",
    "        p {\n",
    "            text-align: center;\n",
    "            font-size: 12 px;\n",
    "            color: #0B9923;\n",
    "        }\n",
    "    </style>\n",
    "\"\"\"\n",
    "\n",
    "html_content = \"\"\"\n",
    "<h1>Hello</h1>\n",
    "<p>Hello World</p>\n",
    "<h2> Hello</h2>\n",
    "<h3> World </h3>\n",
    "\"\"\"\n",
    "\n",
    "HTML(style + html_content)"
   ]
  },
  {
   "cell_type": "code",
   "execution_count": null,
   "id": "7f2c8316",
   "metadata": {},
   "outputs": [],
   "source": []
  }
 ],
 "metadata": {
  "kernelspec": {
   "display_name": "Python 3 (ipykernel)",
   "language": "python",
   "name": "python3"
  },
  "language_info": {
   "codemirror_mode": {
    "name": "ipython",
    "version": 3
   },
   "file_extension": ".py",
   "mimetype": "text/x-python",
   "name": "python",
   "nbconvert_exporter": "python",
   "pygments_lexer": "ipython3",
   "version": "3.11.7"
  }
 },
 "nbformat": 4,
 "nbformat_minor": 5
}
