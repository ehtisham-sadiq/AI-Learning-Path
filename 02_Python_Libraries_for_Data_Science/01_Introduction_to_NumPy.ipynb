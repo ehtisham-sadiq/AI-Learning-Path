{
 "cells": [
  {
   "cell_type": "markdown",
   "id": "77b0f24e",
   "metadata": {},
   "source": [
    "# Python-Numpy-Introduction"
   ]
  },
  {
   "cell_type": "markdown",
   "id": "60a3cb0f",
   "metadata": {},
   "source": [
    "<img align=\"center\" width=\"600\" height=\"600\"  src=\"images/numpyintro.png\" > "
   ]
  },
  {
   "cell_type": "markdown",
   "id": "1239788b",
   "metadata": {},
   "source": [
    "# Learning Agenda of this Notebook\n",
    "1. **Getting Started**\n",
    "    - `What is NumPy`\n",
    "    - `Why use it?`\n",
    "    - `Installation`\n",
    "2. **Introduction to NumPy Array**\n",
    "    - `Using NumPy`\n",
    "    - `NumPy Arrays`\n",
    "    - `Creating Numpy Arrays`\n",
    "3. **Built-In Methods**\n",
    "    - `arange`\n",
    "    - `zeros and ones`\n",
    "    - `linspace`\n",
    "    - `eye`\n",
    "4. **Random**\n",
    "    - `ran`\n",
    "    - `randn`\n",
    "    - `randint`\n",
    "5. **Array Attributes and Methods**\n",
    "    - `reshape`\n",
    "    - `shape`\n",
    "    - `dtype`\n",
    "6. **Numpy Indexing and Selection**\n",
    "    - `Bracket Indexing and Selection`\n",
    "    - `Broadcasting`\n",
    "7. **Indexing 2D Array/Matrix**\n",
    "    - `Fancy Indexing`\n",
    "    - `Selection`\n",
    "8. **Numpy Operations**\n",
    "    - `Arithmetic`\n",
    "    - `Universal Array Functions`\n",
    "9. **Append, Concentrate and Stack**\n",
    "    - `append`\n",
    "    - `concatenate`\n",
    "    - `stack` "
   ]
  },
  {
   "cell_type": "code",
   "execution_count": null,
   "id": "d693ffae",
   "metadata": {},
   "outputs": [],
   "source": []
  },
  {
   "cell_type": "markdown",
   "id": "6931113f",
   "metadata": {},
   "source": [
    "## What is NumPy?\n",
    "\n",
    "- Numpy is a tool for mathematical computing and data preparation in Python. \n",
    "- It can be utilized to perform a number of mathematical operations on arrays such as trigonometric, statistical and algebraic routines. \n",
    "- This library provides many useful features including handling n-dimensional arrays, broadcasting, performing operations, data generation, etc., thus, it’s the fundamental package for scientific computing with Python. \n",
    "- It also provides a large collection of high-level mathematical functions to operate on arrays."
   ]
  },
  {
   "cell_type": "markdown",
   "id": "395f5a72",
   "metadata": {},
   "source": [
    "## Why use it?\n",
    "\n",
    "It is incredibly fast, as it has bindings to C libraries. Python list has less properties than numpy array, which is why you will use arrays over lists. It helps in data preprocessing. Numpy is surprisingly compact, fast and easy to use, so let’s dive into installation."
   ]
  },
  {
   "cell_type": "markdown",
   "id": "3b45b0ef",
   "metadata": {},
   "source": [
    "#### Look other Python Libraries for Data Science\n",
    "<img align=\"center\" width=\"600\" height=\"600\"  src=\"images/top-10-python-libraries-for-data-science.jpg\" > "
   ]
  },
  {
   "cell_type": "code",
   "execution_count": null,
   "id": "2510bbfa",
   "metadata": {},
   "outputs": [],
   "source": []
  },
  {
   "cell_type": "markdown",
   "id": "64c7eaf7",
   "metadata": {},
   "source": [
    "## Installation\n",
    "\n",
    "The terminal on your machine is often used to install/manage/delete Python packages. Numpy too, can be installed from your command line using:\n",
    "\n",
    "`pip3 install numpy` or `pip install numpy`"
   ]
  },
  {
   "cell_type": "code",
   "execution_count": null,
   "id": "bb0d46a0",
   "metadata": {},
   "outputs": [],
   "source": [
    "import sys\n",
    "sys.executable\n",
    "# This command gives path of python installation "
   ]
  },
  {
   "cell_type": "code",
   "execution_count": null,
   "id": "26911e6a",
   "metadata": {},
   "outputs": [],
   "source": []
  },
  {
   "cell_type": "code",
   "execution_count": null,
   "id": "1459eded",
   "metadata": {},
   "outputs": [],
   "source": []
  },
  {
   "cell_type": "markdown",
   "id": "010ed8f9",
   "metadata": {},
   "source": [
    "## 2. Introduction to NumPy array\n",
    "#### Using NumPy\n",
    "\n",
    "Once the installation of the Numpy package is completed, the implementation in a Python file is done using the following command:\n",
    "\n",
    "`import numpy as np`\n",
    "\n",
    "Numpy has many different built-in functions and capabilities. In this lecture, we will focus on some of the most important aspects: vectors, arrays, matrices, number generation and few more. The rest of the Numpy capabilities can be explored in detail in the upcoming lectures.\n",
    "\n",
    "\n",
    "#### NumPy Arrays\n",
    "\n",
    "What are arrays? Arrays are a reserved space in memory for a list of values. These arrays essentially come in two flavors: vectors and matrices. Vectors are strictly one dimensional and matrices are two or more dimensional arrays. They certainly take part in the root architecture of programming and give a whole lot of new possibilities, which will be explored later on.\n"
   ]
  },
  {
   "cell_type": "code",
   "execution_count": 2,
   "id": "9a309cba",
   "metadata": {},
   "outputs": [],
   "source": [
    "scalar = [1] #This is a scalar\n",
    "vector = [2,3,4,4,5,43] # This is a vector\n",
    "matrix = [[2,3,4,5],[5,42,1,1]] #This is a matrix"
   ]
  },
  {
   "cell_type": "code",
   "execution_count": 3,
   "id": "1befa543",
   "metadata": {},
   "outputs": [],
   "source": [
    "import numpy as np"
   ]
  },
  {
   "cell_type": "code",
   "execution_count": null,
   "id": "441f41df-c961-4c4d-b355-e44d409f451e",
   "metadata": {},
   "outputs": [],
   "source": [
    "# print(dir(np))"
   ]
  },
  {
   "cell_type": "code",
   "execution_count": 4,
   "id": "c0a1504c",
   "metadata": {},
   "outputs": [
    {
     "name": "stdout",
     "output_type": "stream",
     "text": [
      "Version of NumPy is :  1.26.4\n",
      "Path of NumPy is :  ['/opt/anaconda3/lib/python3.11/site-packages/numpy']\n"
     ]
    }
   ],
   "source": [
    "print(\"Version of NumPy is : \" ,np.__version__)\n",
    "print(\"Path of NumPy is : \" ,np.__path__)"
   ]
  },
  {
   "cell_type": "markdown",
   "id": "876f41eb",
   "metadata": {},
   "source": [
    "#### Creating NumPy Arrays\n",
    "\n",
    "The pre-built function `np.array` is the correct way to create an array. As you can see, first we import numpy as np, meaning that later we will access the numpy functions using the `np.functionName` format. Than we call the function `array` from it. The only required parameter for the array function is `data`, in a form of list. There are more parameters which also can be found in the numpy.array documentation. We either convert `data` into an array, or we specify the data inside the function.\n",
    "\n",
    "\n"
   ]
  },
  {
   "cell_type": "code",
   "execution_count": 5,
   "id": "aa9686eb-2e72-4132-8d92-c7ac9b10ec2a",
   "metadata": {},
   "outputs": [
    {
     "ename": "TypeError",
     "evalue": "array() missing required argument 'object' (pos 0)",
     "output_type": "error",
     "traceback": [
      "\u001b[0;31m---------------------------------------------------------------------------\u001b[0m",
      "\u001b[0;31mTypeError\u001b[0m                                 Traceback (most recent call last)",
      "Cell \u001b[0;32mIn[5], line 1\u001b[0m\n\u001b[0;32m----> 1\u001b[0m np\u001b[38;5;241m.\u001b[39marray()\n",
      "\u001b[0;31mTypeError\u001b[0m: array() missing required argument 'object' (pos 0)"
     ]
    }
   ],
   "source": [
    "np.array()"
   ]
  },
  {
   "cell_type": "code",
   "execution_count": 6,
   "id": "7c3e72c8-5708-4fd3-b6e9-cce011f84799",
   "metadata": {},
   "outputs": [
    {
     "name": "stdout",
     "output_type": "stream",
     "text": [
      "<class 'numpy.ndarray'>\n"
     ]
    }
   ],
   "source": [
    "import numpy as np\n",
    "\n",
    "data = [1,2,3]\n",
    "arr = np.array(data)\n",
    "print(type(arr))"
   ]
  },
  {
   "cell_type": "code",
   "execution_count": 7,
   "id": "e3c3d948-f147-4123-921d-152032f3a60c",
   "metadata": {},
   "outputs": [
    {
     "name": "stdout",
     "output_type": "stream",
     "text": [
      "<class 'numpy.ndarray'>\n"
     ]
    }
   ],
   "source": [
    "arr = np.array([1,2,3])\n",
    "print(type(arr))\n",
    "# These two codes produce the same output when we print their type:"
   ]
  },
  {
   "cell_type": "code",
   "execution_count": 8,
   "id": "fce80f2c-2d3d-46fb-9fa8-05d2a05eeb66",
   "metadata": {},
   "outputs": [
    {
     "data": {
      "text/plain": [
       "(array([1, 2, 3]), dtype('int64'), 24)"
      ]
     },
     "execution_count": 8,
     "metadata": {},
     "output_type": "execute_result"
    }
   ],
   "source": [
    "arr, arr.dtype, arr.nbytes"
   ]
  },
  {
   "cell_type": "code",
   "execution_count": 9,
   "id": "b4b67425",
   "metadata": {},
   "outputs": [],
   "source": [
    "a = np.array([2,3,4,5], dtype=np.uint8)"
   ]
  },
  {
   "cell_type": "code",
   "execution_count": 10,
   "id": "c7cc9ed0",
   "metadata": {},
   "outputs": [
    {
     "name": "stdout",
     "output_type": "stream",
     "text": [
      "Array :  [2 3 4 5]\n",
      "Type of a :  <class 'numpy.ndarray'>\n",
      "Dimensions of a :  1\n"
     ]
    }
   ],
   "source": [
    "print(\"Array : \", a)\n",
    "print(\"Type of a : \", type(a))\n",
    "print(\"Dimensions of a : \", np.ndim(a))"
   ]
  },
  {
   "cell_type": "code",
   "execution_count": 11,
   "id": "94002ed6",
   "metadata": {},
   "outputs": [
    {
     "data": {
      "text/plain": [
       "(dtype('uint8'), 4)"
      ]
     },
     "execution_count": 11,
     "metadata": {},
     "output_type": "execute_result"
    }
   ],
   "source": [
    "a.dtype, a.nbytes"
   ]
  },
  {
   "cell_type": "code",
   "execution_count": 12,
   "id": "6cebf1b3-59cb-4bc2-82e0-c11df04019d5",
   "metadata": {},
   "outputs": [
    {
     "data": {
      "text/plain": [
       "numpy.ndarray"
      ]
     },
     "execution_count": 12,
     "metadata": {},
     "output_type": "execute_result"
    }
   ],
   "source": [
    "# empty numpy array\n",
    "empty_arr = np.array([])\n",
    "type(empty_arr)"
   ]
  },
  {
   "cell_type": "code",
   "execution_count": 13,
   "id": "988e3612-fba6-4ff0-afea-7e28b03f1aa0",
   "metadata": {},
   "outputs": [
    {
     "data": {
      "text/plain": [
       "(array(5), numpy.ndarray, 0)"
      ]
     },
     "execution_count": 13,
     "metadata": {},
     "output_type": "execute_result"
    }
   ],
   "source": [
    "# numpy array from scalar\n",
    "scalar_arr = np.array(5)\n",
    "scalar_arr, type(scalar_arr), scalar_arr.ndim"
   ]
  },
  {
   "cell_type": "markdown",
   "id": "9331ba0c",
   "metadata": {},
   "source": [
    "#### Note:\n",
    "- Both cases work perfectly fine. Other significant parameters to be considered are dtype, copy, ndmin, etc. Every array consists of two parts, the value and the index. The value is the actual numbers the array holds and the index is the position of the value in the array. This is essential, because it allows you to access certain values just by knowing their index, or finding the index of a certain value/s. We will go deeper in indexing later on in upcoming lectures."
   ]
  },
  {
   "cell_type": "code",
   "execution_count": 14,
   "id": "456da869",
   "metadata": {},
   "outputs": [
    {
     "name": "stdout",
     "output_type": "stream",
     "text": [
      "['T', '__abs__', '__add__', '__and__', '__array__', '__array_finalize__', '__array_function__', '__array_interface__', '__array_prepare__', '__array_priority__', '__array_struct__', '__array_ufunc__', '__array_wrap__', '__bool__', '__class__', '__class_getitem__', '__complex__', '__contains__', '__copy__', '__deepcopy__', '__delattr__', '__delitem__', '__dir__', '__divmod__', '__dlpack__', '__dlpack_device__', '__doc__', '__eq__', '__float__', '__floordiv__', '__format__', '__ge__', '__getattribute__', '__getitem__', '__getstate__', '__gt__', '__hash__', '__iadd__', '__iand__', '__ifloordiv__', '__ilshift__', '__imatmul__', '__imod__', '__imul__', '__index__', '__init__', '__init_subclass__', '__int__', '__invert__', '__ior__', '__ipow__', '__irshift__', '__isub__', '__iter__', '__itruediv__', '__ixor__', '__le__', '__len__', '__lshift__', '__lt__', '__matmul__', '__mod__', '__mul__', '__ne__', '__neg__', '__new__', '__or__', '__pos__', '__pow__', '__radd__', '__rand__', '__rdivmod__', '__reduce__', '__reduce_ex__', '__repr__', '__rfloordiv__', '__rlshift__', '__rmatmul__', '__rmod__', '__rmul__', '__ror__', '__rpow__', '__rrshift__', '__rshift__', '__rsub__', '__rtruediv__', '__rxor__', '__setattr__', '__setitem__', '__setstate__', '__sizeof__', '__str__', '__sub__', '__subclasshook__', '__truediv__', '__xor__', 'all', 'any', 'argmax', 'argmin', 'argpartition', 'argsort', 'astype', 'base', 'byteswap', 'choose', 'clip', 'compress', 'conj', 'conjugate', 'copy', 'ctypes', 'cumprod', 'cumsum', 'data', 'diagonal', 'dot', 'dtype', 'dump', 'dumps', 'fill', 'flags', 'flat', 'flatten', 'getfield', 'imag', 'item', 'itemset', 'itemsize', 'max', 'mean', 'min', 'nbytes', 'ndim', 'newbyteorder', 'nonzero', 'partition', 'prod', 'ptp', 'put', 'ravel', 'real', 'repeat', 'reshape', 'resize', 'round', 'searchsorted', 'setfield', 'setflags', 'shape', 'size', 'sort', 'squeeze', 'std', 'strides', 'sum', 'swapaxes', 'take', 'tobytes', 'tofile', 'tolist', 'tostring', 'trace', 'transpose', 'var', 'view']\n"
     ]
    }
   ],
   "source": [
    "print(dir(arr))"
   ]
  },
  {
   "cell_type": "markdown",
   "id": "de8bdac4",
   "metadata": {},
   "source": [
    "## 3. Built-In Methods\n",
    "\n",
    "Numpy allows us to use many built-in methods for generating arrays.\n",
    "- `np.arange()` – array of arranged values from low to high value\n",
    "- `np.zeros()` – array of zeros with specified shape\n",
    "- `np.ones()` – similarly to zeros, array of ones with specified shape\n",
    "- `np.linspace()` – array of linearly spaced numbers, with specified size\n",
    "- `np.eye()` – two dimensional array with ones on the diagonal, zeros elsewhere"
   ]
  },
  {
   "cell_type": "markdown",
   "id": "8a447bbb",
   "metadata": {},
   "source": [
    "#### np.arange()\n",
    "\n",
    "Numpy’s arange function will return evenly spaced values within a given interval. Works similarly to Python’s `range()` function. The only required parameter is ‘stop’, while all the other parameters are optional:"
   ]
  },
  {
   "cell_type": "code",
   "execution_count": 15,
   "id": "e56d0466",
   "metadata": {},
   "outputs": [
    {
     "name": "stdout",
     "output_type": "stream",
     "text": [
      "Array :  [ 5  6  7  8  9 10 11 12 13 14 15]\n"
     ]
    }
   ],
   "source": [
    "# Another useful parameter is `step` parameter, by default its value is 1. This value represents the numeric distance \n",
    "# b/w each integer generated by the function\n",
    "print(\"Array : \",np.arange(start=5, stop=16))"
   ]
  },
  {
   "cell_type": "code",
   "execution_count": 16,
   "id": "e7186d0e-af0a-4cb4-9c84-1154fd9bf019",
   "metadata": {},
   "outputs": [
    {
     "name": "stdout",
     "output_type": "stream",
     "text": [
      "Array :  [ 5  7  9 11 13 15]\n"
     ]
    }
   ],
   "source": [
    "# with the step of '2'\n",
    "print(\"Array : \",np.arange(start=5, stop=16, step=2))"
   ]
  },
  {
   "cell_type": "code",
   "execution_count": 17,
   "id": "31399a97",
   "metadata": {},
   "outputs": [
    {
     "name": "stdout",
     "output_type": "stream",
     "text": [
      "Array :  [ 5.    6.75  8.5  10.25 12.   13.75 15.5 ]\n"
     ]
    }
   ],
   "source": [
    "# Note that step size can be float\n",
    "print(\"Array : \",np.arange(start=5, stop=16, step=1.75))"
   ]
  },
  {
   "cell_type": "code",
   "execution_count": null,
   "id": "0490523e",
   "metadata": {},
   "outputs": [],
   "source": []
  },
  {
   "cell_type": "code",
   "execution_count": 18,
   "id": "0cc17918",
   "metadata": {},
   "outputs": [
    {
     "name": "stdout",
     "output_type": "stream",
     "text": [
      "Array of Integers:  [ 5  7  9 11 13 15]\n",
      "Array of Floats:  [ 5.  7.  9. 11. 13. 15.]\n"
     ]
    }
   ],
   "source": [
    "# We can also change the data-type of each element of the array\n",
    "# By default , type is integer.\n",
    "print(\"Array of Integers: \",np.arange(start=5, stop=16, step=2))\n",
    "print(\"Array of Floats: \",np.arange(start=5, stop=16, step=2, dtype=float))"
   ]
  },
  {
   "cell_type": "code",
   "execution_count": null,
   "id": "a2978113",
   "metadata": {},
   "outputs": [],
   "source": []
  },
  {
   "cell_type": "markdown",
   "id": "bd56573f",
   "metadata": {},
   "source": [
    "#### np.zeros() and np.ones()\n",
    "Numpy provides functions that are able to create arrays of 1’s and 0’s. The required parameter for these functions is `shape`. By default, dtype of each element of array is `numpy.float64`. We can change dtype of elements of array by using parameter `dtype`."
   ]
  },
  {
   "cell_type": "code",
   "execution_count": null,
   "id": "3608ec9b",
   "metadata": {},
   "outputs": [],
   "source": []
  },
  {
   "cell_type": "code",
   "execution_count": 19,
   "id": "ef060c01",
   "metadata": {},
   "outputs": [
    {
     "data": {
      "text/plain": [
       "array([0., 0., 0., 0.])"
      ]
     },
     "execution_count": 19,
     "metadata": {},
     "output_type": "execute_result"
    }
   ],
   "source": [
    "# Create array filled with zero values\n",
    "np.zeros(shape=4)"
   ]
  },
  {
   "cell_type": "code",
   "execution_count": 20,
   "id": "0204c6b6",
   "metadata": {},
   "outputs": [
    {
     "data": {
      "text/plain": [
       "array([1., 1., 1., 1.])"
      ]
     },
     "execution_count": 20,
     "metadata": {},
     "output_type": "execute_result"
    }
   ],
   "source": [
    "# Create array filled with ones values\n",
    "np.ones(shape=4)"
   ]
  },
  {
   "cell_type": "code",
   "execution_count": 21,
   "id": "242272f8",
   "metadata": {},
   "outputs": [
    {
     "data": {
      "text/plain": [
       "array([1, 1, 1, 1])"
      ]
     },
     "execution_count": 21,
     "metadata": {},
     "output_type": "execute_result"
    }
   ],
   "source": [
    "# Create array filled with ones values having int type\n",
    "np.ones(shape=4, dtype=int)"
   ]
  },
  {
   "cell_type": "code",
   "execution_count": 22,
   "id": "758cccd1",
   "metadata": {},
   "outputs": [
    {
     "data": {
      "text/plain": [
       "array([[0., 0., 0., 0., 0.],\n",
       "       [0., 0., 0., 0., 0.],\n",
       "       [0., 0., 0., 0., 0.],\n",
       "       [0., 0., 0., 0., 0.]])"
      ]
     },
     "execution_count": 22,
     "metadata": {},
     "output_type": "execute_result"
    }
   ],
   "source": [
    "# create multi-dimensional array with zeros\n",
    "np.zeros(shape=(4,5))"
   ]
  },
  {
   "cell_type": "code",
   "execution_count": 23,
   "id": "b2e0befb",
   "metadata": {},
   "outputs": [
    {
     "data": {
      "text/plain": [
       "array([[1., 1., 1., 1., 1.],\n",
       "       [1., 1., 1., 1., 1.],\n",
       "       [1., 1., 1., 1., 1.],\n",
       "       [1., 1., 1., 1., 1.],\n",
       "       [1., 1., 1., 1., 1.],\n",
       "       [1., 1., 1., 1., 1.]])"
      ]
     },
     "execution_count": 23,
     "metadata": {},
     "output_type": "execute_result"
    }
   ],
   "source": [
    "# create multi-dimensional array with ones\n",
    "np.ones(shape=(6,5))"
   ]
  },
  {
   "cell_type": "code",
   "execution_count": 26,
   "id": "ed53fe44",
   "metadata": {},
   "outputs": [
    {
     "data": {
      "text/plain": [
       "array([[1, 1, 1, 1, 1, 1],\n",
       "       [1, 1, 1, 1, 1, 1],\n",
       "       [1, 1, 1, 1, 1, 1],\n",
       "       [1, 1, 1, 1, 1, 1],\n",
       "       [1, 1, 1, 1, 1, 1]], dtype=uint8)"
      ]
     },
     "execution_count": 26,
     "metadata": {},
     "output_type": "execute_result"
    }
   ],
   "source": [
    "# create multi-dimensional array with ones having int data type\n",
    "ones_arr = np.ones(shape= (5,6), dtype=np.uint8)\n",
    "ones_arr"
   ]
  },
  {
   "cell_type": "code",
   "execution_count": null,
   "id": "5e9f44f9-c9f0-43c0-a40a-eb2d1d5b39b8",
   "metadata": {},
   "outputs": [],
   "source": []
  },
  {
   "cell_type": "code",
   "execution_count": 27,
   "id": "46e66e2d",
   "metadata": {},
   "outputs": [
    {
     "data": {
      "text/plain": [
       "(2, dtype('uint8'), 30)"
      ]
     },
     "execution_count": 27,
     "metadata": {},
     "output_type": "execute_result"
    }
   ],
   "source": [
    "ones_arr.ndim, ones_arr.dtype, ones_arr.nbytes"
   ]
  },
  {
   "cell_type": "code",
   "execution_count": null,
   "id": "d05c067c-61f7-436a-8255-24a4ef257029",
   "metadata": {},
   "outputs": [],
   "source": []
  },
  {
   "cell_type": "markdown",
   "id": "032b81e5",
   "metadata": {},
   "source": [
    "#### np.linspace()\n",
    "\n",
    "Numpy’s linspace function will return evenly spaced numbers over a specified interval. Required parameters for this functions are `start` and `stop`. "
   ]
  },
  {
   "cell_type": "code",
   "execution_count": 29,
   "id": "de9b9fe8",
   "metadata": {},
   "outputs": [
    {
     "data": {
      "text/plain": [
       "array([   5.        ,   25.30612245,   45.6122449 ,   65.91836735,\n",
       "         86.2244898 ,  106.53061224,  126.83673469,  147.14285714,\n",
       "        167.44897959,  187.75510204,  208.06122449,  228.36734694,\n",
       "        248.67346939,  268.97959184,  289.28571429,  309.59183673,\n",
       "        329.89795918,  350.20408163,  370.51020408,  390.81632653,\n",
       "        411.12244898,  431.42857143,  451.73469388,  472.04081633,\n",
       "        492.34693878,  512.65306122,  532.95918367,  553.26530612,\n",
       "        573.57142857,  593.87755102,  614.18367347,  634.48979592,\n",
       "        654.79591837,  675.10204082,  695.40816327,  715.71428571,\n",
       "        736.02040816,  756.32653061,  776.63265306,  796.93877551,\n",
       "        817.24489796,  837.55102041,  857.85714286,  878.16326531,\n",
       "        898.46938776,  918.7755102 ,  939.08163265,  959.3877551 ,\n",
       "        979.69387755, 1000.        ])"
      ]
     },
     "execution_count": 29,
     "metadata": {},
     "output_type": "execute_result"
    }
   ],
   "source": [
    "np.linspace(start=5, stop=1000)"
   ]
  },
  {
   "cell_type": "markdown",
   "id": "ff2bfeb7",
   "metadata": {},
   "source": [
    "**The parameter `num` specifies the number of samples to generate, and the default value is 50. The value defined in the parameter `num` must be non-negative. You are able to change the data type of your values using `dtype` as parameter.**"
   ]
  },
  {
   "cell_type": "code",
   "execution_count": null,
   "id": "8b37656b",
   "metadata": {},
   "outputs": [],
   "source": []
  },
  {
   "cell_type": "code",
   "execution_count": 30,
   "id": "2c3215a9",
   "metadata": {},
   "outputs": [
    {
     "data": {
      "text/plain": [
       "array([ 5,  6,  7,  8, 10, 11, 12, 13, 15])"
      ]
     },
     "execution_count": 30,
     "metadata": {},
     "output_type": "execute_result"
    }
   ],
   "source": [
    "# we can change the data type of the each value by using dtype parameter\n",
    "np.linspace(start=5, stop=15, num=9, dtype=int)"
   ]
  },
  {
   "cell_type": "code",
   "execution_count": null,
   "id": "1922b519",
   "metadata": {},
   "outputs": [],
   "source": [
    "# np.array()\n",
    "# np.arange(start, stop, step, dtype)\n",
    "# np.zeros(shape) -> shape 1d, 2d, 3d, nd\n",
    "# np.ones(shape) -> shape 1d,2d,3d, nd\n",
    "# np.linspace(start, stop, num, dtype)"
   ]
  },
  {
   "cell_type": "markdown",
   "id": "f91fcd9a",
   "metadata": {},
   "source": [
    "#### np.eye()\n",
    "\n",
    "Numpy’s eye function will return Identity Matrix. The identity matrix is a square matrix that has 1’s along the main diagonal and 0’s for all other entries. This matrix is often written simply as `I`, and is special in that it acts like 1 in matrix multiplication. Required parameter for this function is `N`, number of rows in the output."
   ]
  },
  {
   "cell_type": "code",
   "execution_count": 31,
   "id": "6205e533",
   "metadata": {},
   "outputs": [
    {
     "data": {
      "text/plain": [
       "array([[1, 0, 0, 0, 0, 0],\n",
       "       [0, 1, 0, 0, 0, 0],\n",
       "       [0, 0, 1, 0, 0, 0],\n",
       "       [0, 0, 0, 1, 0, 0],\n",
       "       [0, 0, 0, 0, 1, 0],\n",
       "       [0, 0, 0, 0, 0, 1]])"
      ]
     },
     "execution_count": 31,
     "metadata": {},
     "output_type": "execute_result"
    }
   ],
   "source": [
    "np.eye(N=6,dtype=int)"
   ]
  },
  {
   "cell_type": "markdown",
   "id": "6c0f95ef",
   "metadata": {},
   "source": [
    "**This function can take a optional parameter `M`, which specifice the number of the columns. By default, its value is `N=M`**"
   ]
  },
  {
   "cell_type": "code",
   "execution_count": null,
   "id": "13ad1b28",
   "metadata": {},
   "outputs": [],
   "source": [
    "np.eye(N=5, M=6)"
   ]
  },
  {
   "cell_type": "markdown",
   "id": "c78c6cca",
   "metadata": {},
   "source": [
    "**This function can also take a very interesting optional parameter `k`. It is a integer and by default, its value is `0`. Index of the diagonal: 0 (the default) refers to the main diagonal. If a value of `k` is  positive, then it refers to an upper diagonal, and a negative valuerefers to a lower diagonal.**"
   ]
  },
  {
   "cell_type": "code",
   "execution_count": 32,
   "id": "d7c01c7b",
   "metadata": {},
   "outputs": [
    {
     "data": {
      "text/plain": [
       "array([[0., 0., 1., 0., 0., 0.],\n",
       "       [0., 0., 0., 1., 0., 0.],\n",
       "       [0., 0., 0., 0., 1., 0.],\n",
       "       [0., 0., 0., 0., 0., 1.],\n",
       "       [0., 0., 0., 0., 0., 0.]])"
      ]
     },
     "execution_count": 32,
     "metadata": {},
     "output_type": "execute_result"
    }
   ],
   "source": [
    "# upper diagonal\n",
    "np.eye(N=5, M=6 ,k=2)"
   ]
  },
  {
   "cell_type": "code",
   "execution_count": 33,
   "id": "f712ce85",
   "metadata": {},
   "outputs": [
    {
     "data": {
      "text/plain": [
       "array([[0, 0, 0, 0, 0, 0],\n",
       "       [1, 0, 0, 0, 0, 0],\n",
       "       [0, 1, 0, 0, 0, 0],\n",
       "       [0, 0, 1, 0, 0, 0],\n",
       "       [0, 0, 0, 1, 0, 0]], dtype=int8)"
      ]
     },
     "execution_count": 33,
     "metadata": {},
     "output_type": "execute_result"
    }
   ],
   "source": [
    "# lower diagonal\n",
    "np.eye(N=5, M=6, k=-1, dtype=np.int8)"
   ]
  },
  {
   "cell_type": "code",
   "execution_count": null,
   "id": "efd8562f",
   "metadata": {},
   "outputs": [],
   "source": [
    "# np.array()\n",
    "# np.arange(start, stop, step, dtype)\n",
    "# np.zeros(shape) -> shape 1d, 2d, 3d, nd\n",
    "# np.ones(shape) -> shape 1d,2d,3d, nd\n",
    "# np.linspace(start, stop, num, dtype)\n",
    "# np.eye(N=rows(int), M=columns(int), k=0(int), dtype=)"
   ]
  },
  {
   "cell_type": "code",
   "execution_count": null,
   "id": "4fed5bee",
   "metadata": {},
   "outputs": [],
   "source": []
  },
  {
   "cell_type": "markdown",
   "id": "6411b377",
   "metadata": {},
   "source": [
    "# 4. Random\n",
    "\n",
    "Numpy allows you to use various functions to produce arrays with random values. To access these functions, first we have to access the `random` function itself. This is done using `np.random`, after which we specify which function we need. Here is a list of the most used random functions and their purpose:\n",
    "- `np.random.rand()` – produce random values in the given shape from 0 to 1\n",
    "- `np.random.randn()` – produce random values with a ‘standard normal’ distribution, from -1 to 1\n",
    "- `np.random.randint()` – produce random numbers from low to high, specified as parameter"
   ]
  },
  {
   "cell_type": "code",
   "execution_count": null,
   "id": "6bc4b923",
   "metadata": {},
   "outputs": [],
   "source": []
  },
  {
   "cell_type": "markdown",
   "id": "f6d065c6",
   "metadata": {},
   "source": [
    "#### np.random.rand()\n",
    "The rand function uses only one parameter which is the `shape` of the output. You need to specify the output format you need, whether it is one or two dimensional array. If there is no argument passed to the function, it returns a single value. Otherwise, it produces number of numbers as specified."
   ]
  },
  {
   "cell_type": "code",
   "execution_count": 34,
   "id": "7eb591d8",
   "metadata": {},
   "outputs": [
    {
     "data": {
      "text/plain": [
       "0.7885565743884096"
      ]
     },
     "execution_count": 34,
     "metadata": {},
     "output_type": "execute_result"
    }
   ],
   "source": [
    "# This function gives a single value at a time if we don't pass value shape parameter\n",
    "np.random.rand()"
   ]
  },
  {
   "cell_type": "code",
   "execution_count": null,
   "id": "d503a84c",
   "metadata": {},
   "outputs": [],
   "source": []
  },
  {
   "cell_type": "code",
   "execution_count": 35,
   "id": "15d8f8d7",
   "metadata": {},
   "outputs": [
    {
     "data": {
      "text/plain": [
       "array([[0.78552089, 0.49939613, 0.70427601],\n",
       "       [0.50495044, 0.73796129, 0.62149634],\n",
       "       [0.13771642, 0.55827253, 0.56110332],\n",
       "       [0.50006283, 0.76209973, 0.78305355],\n",
       "       [0.66056601, 0.37645242, 0.63088283]])"
      ]
     },
     "execution_count": 35,
     "metadata": {},
     "output_type": "execute_result"
    }
   ],
   "source": [
    "# We can also generate randomly 2D array by giving values of rows and columns\n",
    "np.random.rand(5,3)"
   ]
  },
  {
   "cell_type": "code",
   "execution_count": null,
   "id": "98902958",
   "metadata": {},
   "outputs": [],
   "source": []
  },
  {
   "cell_type": "code",
   "execution_count": 36,
   "id": "4fbc9d50",
   "metadata": {},
   "outputs": [
    {
     "data": {
      "text/plain": [
       "array([[[0.73129355, 0.26070913, 0.90284331, 0.91423245, 0.79039188],\n",
       "        [0.0421461 , 0.52636379, 0.59642479, 0.05928162, 0.23962915],\n",
       "        [0.5768528 , 0.86509024, 0.52663735, 0.0088608 , 0.69726831],\n",
       "        [0.49714316, 0.82125633, 0.81857818, 0.61852459, 0.62106281]],\n",
       "\n",
       "       [[0.83006477, 0.49512085, 0.11477262, 0.434635  , 0.36854712],\n",
       "        [0.8050238 , 0.25374717, 0.78058699, 0.0198103 , 0.89934667],\n",
       "        [0.16615247, 0.24554329, 0.22896414, 0.70181782, 0.2806712 ],\n",
       "        [0.56906112, 0.53768885, 0.0304273 , 0.39434125, 0.99061527]],\n",
       "\n",
       "       [[0.83529952, 0.72941211, 0.13090679, 0.00913375, 0.40214152],\n",
       "        [0.90232145, 0.78710397, 0.92279694, 0.56481108, 0.30510369],\n",
       "        [0.53538188, 0.56522753, 0.22647933, 0.21601636, 0.1794985 ],\n",
       "        [0.58881856, 0.68071487, 0.09569676, 0.5268375 , 0.21406085]]])"
      ]
     },
     "execution_count": 36,
     "metadata": {},
     "output_type": "execute_result"
    }
   ],
   "source": [
    "# We can also generate randomly 3D array\n",
    "np.random.rand(3,4,5)"
   ]
  },
  {
   "cell_type": "code",
   "execution_count": null,
   "id": "bea2ca97",
   "metadata": {},
   "outputs": [],
   "source": []
  },
  {
   "cell_type": "markdown",
   "id": "bd342414",
   "metadata": {},
   "source": [
    "#### np.random.randn()\n",
    "The randn function is similar to the `rand` function, except it produces a number with standard normal distribution. What this means, is that it generates number with distribution of 1 and mean of 0, i.e. value from -1 to +1 by default:"
   ]
  },
  {
   "cell_type": "code",
   "execution_count": 37,
   "id": "4c1b9a16",
   "metadata": {},
   "outputs": [
    {
     "data": {
      "text/plain": [
       "0.6283247430188281"
      ]
     },
     "execution_count": 37,
     "metadata": {},
     "output_type": "execute_result"
    }
   ],
   "source": [
    "# This function gives a single value at a time if we don't pass value shape parameter\n",
    "np.random.randn()"
   ]
  },
  {
   "cell_type": "code",
   "execution_count": 38,
   "id": "b58eb4cb",
   "metadata": {},
   "outputs": [
    {
     "data": {
      "text/plain": [
       "array([-0.04702554, -0.93795284,  0.26862279])"
      ]
     },
     "execution_count": 38,
     "metadata": {},
     "output_type": "execute_result"
    }
   ],
   "source": [
    "# **We can also produce 1-D numpy array of any shape by giving shape value parameter**\n",
    "np.random.randn(3)"
   ]
  },
  {
   "cell_type": "code",
   "execution_count": 39,
   "id": "c6b28002",
   "metadata": {},
   "outputs": [
    {
     "data": {
      "text/plain": [
       "array([[-1.78942449,  1.23378729,  0.02428895],\n",
       "       [-0.86995709, -0.35988004, -0.23218747],\n",
       "       [-1.74334014, -0.12998265, -0.59951112],\n",
       "       [-0.47224314,  1.03776274,  1.43753566],\n",
       "       [ 0.01490817, -1.56532222,  0.65742642]])"
      ]
     },
     "execution_count": 39,
     "metadata": {},
     "output_type": "execute_result"
    }
   ],
   "source": [
    "# We can also generate randomly 2D array by giving values of rows and columns\n",
    "np.random.randn(5,3)"
   ]
  },
  {
   "cell_type": "code",
   "execution_count": 40,
   "id": "f8d3edb4",
   "metadata": {},
   "outputs": [
    {
     "data": {
      "text/plain": [
       "array([[[ 0.70015016, -0.59662248],\n",
       "        [-1.81687884, -0.82907438],\n",
       "        [ 1.50912275,  0.91352194],\n",
       "        [-0.52336749,  0.2105112 ]],\n",
       "\n",
       "       [[-1.03288454, -0.86890325],\n",
       "        [-0.01191241,  0.3242754 ],\n",
       "        [ 0.97672409, -0.86775067],\n",
       "        [-0.31891871,  0.00956254]],\n",
       "\n",
       "       [[ 1.21307951, -0.62120759],\n",
       "        [ 1.70837809,  1.31233036],\n",
       "        [ 2.25821376,  1.51816714],\n",
       "        [ 0.39982817, -1.74158959]]])"
      ]
     },
     "execution_count": 40,
     "metadata": {},
     "output_type": "execute_result"
    }
   ],
   "source": [
    "# We can also generate randomly 3D array\n",
    "array = np.random.randn(3,4,2)\n",
    "array"
   ]
  },
  {
   "cell_type": "code",
   "execution_count": 41,
   "id": "9b276b79",
   "metadata": {},
   "outputs": [
    {
     "data": {
      "text/plain": [
       "(0.1593647983177192, 1.0894715707173563)"
      ]
     },
     "execution_count": 41,
     "metadata": {},
     "output_type": "execute_result"
    }
   ],
   "source": [
    "array.mean(), array.std()"
   ]
  },
  {
   "cell_type": "markdown",
   "id": "47b2466f",
   "metadata": {},
   "source": [
    "**As we can see distribution is still 1, the range of the given values does not change. The distribution value can be changed with an integer value by performing some arithmetic operations like `+`,`-`,`*`,`/`.**"
   ]
  },
  {
   "cell_type": "code",
   "execution_count": 42,
   "id": "8a53d220",
   "metadata": {},
   "outputs": [
    {
     "data": {
      "text/plain": [
       "array([[ 0.61399228, -0.29530387,  0.28278237,  1.05943832],\n",
       "       [ 0.90524306, -0.09221336, -0.77167632, -0.86546231],\n",
       "       [ 0.29005991, -0.88458505,  0.85739411,  2.40217724]])"
      ]
     },
     "execution_count": 42,
     "metadata": {},
     "output_type": "execute_result"
    }
   ],
   "source": [
    "result=np.random.randn(3,4)\n",
    "result"
   ]
  },
  {
   "cell_type": "code",
   "execution_count": 43,
   "id": "8ecb43e0",
   "metadata": {},
   "outputs": [
    {
     "data": {
      "text/plain": [
       "array([[ 1.84197684, -0.8859116 ,  0.8483471 ,  3.17831495],\n",
       "       [ 2.71572919, -0.27664008, -2.31502896, -2.59638693],\n",
       "       [ 0.87017973, -2.65375514,  2.57218234,  7.20653171]])"
      ]
     },
     "execution_count": 43,
     "metadata": {},
     "output_type": "execute_result"
    }
   ],
   "source": [
    "result*3"
   ]
  },
  {
   "cell_type": "code",
   "execution_count": 44,
   "id": "6c81302d",
   "metadata": {},
   "outputs": [
    {
     "data": {
      "text/plain": [
       "array([[3.61399228, 2.70469613, 3.28278237, 4.05943832],\n",
       "       [3.90524306, 2.90778664, 2.22832368, 2.13453769],\n",
       "       [3.29005991, 2.11541495, 3.85739411, 5.40217724]])"
      ]
     },
     "execution_count": 44,
     "metadata": {},
     "output_type": "execute_result"
    }
   ],
   "source": [
    "result+3"
   ]
  },
  {
   "cell_type": "markdown",
   "id": "05ce030d",
   "metadata": {},
   "source": [
    "The distribution is now equal to 4, so the given floats vary between minus and plus 4. Other mathematical operations such as multiplication, division, subtraction are possible in order to modify the distribution, depending on the needs."
   ]
  },
  {
   "cell_type": "code",
   "execution_count": null,
   "id": "13c2a9e8",
   "metadata": {},
   "outputs": [],
   "source": []
  },
  {
   "cell_type": "markdown",
   "id": "ad9964c9",
   "metadata": {},
   "source": [
    "#### np.random.randint()\n",
    "It is one of the function for doing random sampling in numpy. It is used to generate whole random numbers, ranging between low(inclusive) and high(exclusive) value. Specifying a parameter like `(1, 100)` will create random values from 1 to 99.\n",
    "#### Syntax : numpy.random.randint(low, high=None, size=None, dtype=’l’)\n",
    "\n",
    "### Parameters :\n",
    "- low : [int] Lowest (signed) integer to be drawn from the distribution.But, it works as a highest integer in the sample if high=None.\n",
    "- high : [int, optional] Largest (signed) integer to be drawn from the distribution.\n",
    "- size : [int or tuple of ints, optional] Output shape. If the given shape is, e.g., (m, n, k), then m * n * k samples are drawn. Default is None, in which case a single value is returned.\n",
    "- dtype : [optional] Desired output data-type."
   ]
  },
  {
   "cell_type": "code",
   "execution_count": 47,
   "id": "189967d8",
   "metadata": {},
   "outputs": [
    {
     "data": {
      "text/plain": [
       "6"
      ]
     },
     "execution_count": 47,
     "metadata": {},
     "output_type": "execute_result"
    }
   ],
   "source": [
    "import numpy as np\n",
    "np.random.randint(low=10)"
   ]
  },
  {
   "cell_type": "code",
   "execution_count": null,
   "id": "9404b60a",
   "metadata": {},
   "outputs": [],
   "source": []
  },
  {
   "cell_type": "code",
   "execution_count": null,
   "id": "72b08db4",
   "metadata": {},
   "outputs": [],
   "source": []
  },
  {
   "cell_type": "code",
   "execution_count": 48,
   "id": "54dcae8f",
   "metadata": {},
   "outputs": [
    {
     "data": {
      "text/plain": [
       "18"
      ]
     },
     "execution_count": 48,
     "metadata": {},
     "output_type": "execute_result"
    }
   ],
   "source": [
    "# another parameter that we can add into randint is `high`\n",
    "np.random.randint(low=10, high=20)"
   ]
  },
  {
   "cell_type": "code",
   "execution_count": 49,
   "id": "82385460",
   "metadata": {},
   "outputs": [
    {
     "data": {
      "text/plain": [
       "array([64,  7, 56, 90, 69, 19, 30, 85, 97, 12,  9, 20,  8, 62, 12, 66, 48,\n",
       "       59, 41, 26])"
      ]
     },
     "execution_count": 49,
     "metadata": {},
     "output_type": "execute_result"
    }
   ],
   "source": [
    "# we can also a parameter `size` that defines the total number of elements in the array\n",
    "np.random.randint(low=1, high=101, size=20)"
   ]
  },
  {
   "cell_type": "code",
   "execution_count": null,
   "id": "580f861b",
   "metadata": {},
   "outputs": [],
   "source": [
    "# change the datatype of the numpy array using dtype parameter, by default , data-type is integer\n",
    "np.random.randint(low=1, high=101, size=20, dtype=np.uint8)"
   ]
  },
  {
   "cell_type": "code",
   "execution_count": 50,
   "id": "dd86aa46",
   "metadata": {},
   "outputs": [
    {
     "data": {
      "text/plain": [
       "array([[79, 35, 71],\n",
       "       [41, 96, 42],\n",
       "       [92, 37, 73],\n",
       "       [63,  2, 30],\n",
       "       [50,  5,  1]])"
      ]
     },
     "execution_count": 50,
     "metadata": {},
     "output_type": "execute_result"
    }
   ],
   "source": [
    "# create a 2- multi-dimensional array using tuple in size parameter\n",
    "np.random.randint(low=1, high=100, size=(5,3))"
   ]
  },
  {
   "cell_type": "code",
   "execution_count": null,
   "id": "7f2583fc-7f32-4b35-a7ef-9e076ccaaf7e",
   "metadata": {},
   "outputs": [],
   "source": []
  },
  {
   "cell_type": "code",
   "execution_count": 51,
   "id": "02ecd433",
   "metadata": {},
   "outputs": [
    {
     "data": {
      "text/plain": [
       "array([[[64, 82, 58],\n",
       "        [90, 48,  3],\n",
       "        [29, 95,  5],\n",
       "        [62, 66,  7],\n",
       "        [34, 91, 24]],\n",
       "\n",
       "       [[83, 73,  8],\n",
       "        [ 3, 93, 71],\n",
       "        [24, 48, 35],\n",
       "        [54, 62,  7],\n",
       "        [39, 74, 85]],\n",
       "\n",
       "       [[26, 93,  4],\n",
       "        [43, 38, 21],\n",
       "        [95,  9, 27],\n",
       "        [61, 19, 72],\n",
       "        [91, 29,  9]]])"
      ]
     },
     "execution_count": 51,
     "metadata": {},
     "output_type": "execute_result"
    }
   ],
   "source": [
    "# create a 3- multi-dimensional array using tuple in size parameter\n",
    "arr1 = np.random.randint(low=1, high=100, size=(3,5,3))\n",
    "arr1"
   ]
  },
  {
   "cell_type": "code",
   "execution_count": 52,
   "id": "5e12c3da-f34e-47e0-9261-5776b04544b6",
   "metadata": {},
   "outputs": [
    {
     "data": {
      "text/plain": [
       "(3, 5, 3)"
      ]
     },
     "execution_count": 52,
     "metadata": {},
     "output_type": "execute_result"
    }
   ],
   "source": [
    "arr1.shape"
   ]
  },
  {
   "cell_type": "code",
   "execution_count": null,
   "id": "b29f8ae1",
   "metadata": {},
   "outputs": [],
   "source": [
    "# what is numpy.\n",
    "# np.array()\n",
    "# np.arange(start, stop, step, dtype)\n",
    "# np.zeros(shape) -> shape 1d, 2d, 3d, nd\n",
    "# np.ones(shape) -> shape 1d,2d,3d, nd\n",
    "# np.linspace(start, stop, num, dtype)\n",
    "# np.eye(N=rows(int), M=columns(int), k=0(int), dtype=)\n",
    "# np.random.rand(shape/size)\n",
    "# np.random.randn(size/shape)\n",
    "# np.random.randint(low,high,size, dtype)\n",
    "# np.shape()\n",
    "# np.dtype"
   ]
  },
  {
   "cell_type": "code",
   "execution_count": null,
   "id": "a59bf087",
   "metadata": {},
   "outputs": [],
   "source": []
  },
  {
   "cell_type": "code",
   "execution_count": null,
   "id": "11129096",
   "metadata": {},
   "outputs": [],
   "source": []
  },
  {
   "cell_type": "markdown",
   "id": "8a4a790d",
   "metadata": {},
   "source": [
    "# 5. Array Attributes and Methods\n",
    "\n",
    "Now we will continue with more attributes and methods that can be used on arrays.\n",
    "\n",
    "- np.reshape() – changes the shape of an array into the desired shape\n",
    "- np.shape() – returns a tuple of the shape of the given array as parameter\n",
    "- np.dtype() – returns the data type of the values in the array\n",
    "\n",
    "These methods will improve your `trial-and-error(a finding out of the best way to reach a desired result or a correct solution by trying out one or more ways or means and by noting and eliminating errors or causes of failure)`, meaning, once you find yourself in a situation where you encounter an error, applying methods like this may help you locate the error faster, thus it will save you a lot of time in the future. Let’s dive straight in."
   ]
  },
  {
   "cell_type": "code",
   "execution_count": null,
   "id": "9cbe68ee",
   "metadata": {},
   "outputs": [],
   "source": [
    "import numpy as np"
   ]
  },
  {
   "cell_type": "code",
   "execution_count": null,
   "id": "565356a6-a3b2-4f38-bd8c-8a7ac329085b",
   "metadata": {},
   "outputs": [],
   "source": [
    "# print(dir(np))"
   ]
  },
  {
   "cell_type": "markdown",
   "id": "786a8a0e",
   "metadata": {},
   "source": [
    "### np.reshape()\n",
    "This method allows you to transform one dimensional array to more dimensional, or the other way around. Reshape will not affect your data values."
   ]
  },
  {
   "cell_type": "code",
   "execution_count": 53,
   "id": "9775695a",
   "metadata": {},
   "outputs": [
    {
     "data": {
      "text/plain": [
       "array([ 0,  1,  2,  3,  4,  5,  6,  7,  8,  9, 10, 11, 12, 13, 14, 15, 16,\n",
       "       17, 18, 19, 20, 21, 22, 23, 24])"
      ]
     },
     "execution_count": 53,
     "metadata": {},
     "output_type": "execute_result"
    }
   ],
   "source": [
    "a = np.arange(25)\n",
    "a"
   ]
  },
  {
   "cell_type": "code",
   "execution_count": 54,
   "id": "db98b4db",
   "metadata": {},
   "outputs": [
    {
     "name": "stdout",
     "output_type": "stream",
     "text": [
      "Shape of numpy array is :  (25,)\n",
      "Dimension of numpy array is :  1\n"
     ]
    }
   ],
   "source": [
    "# shape() gives the number of rows and columns of numpy array as well as dataframe\n",
    "print(\"Shape of numpy array is : \",a.shape)\n",
    "# this means that `a` numpy object has 25 rows and 0 column\n",
    "\n",
    "# ndim() gives the dimension of the numpy array, 1 means 1-d, 2-d, 3-d\n",
    "print(\"Dimension of numpy array is : \",a.ndim)"
   ]
  },
  {
   "cell_type": "code",
   "execution_count": 55,
   "id": "d1ad80dc",
   "metadata": {},
   "outputs": [
    {
     "data": {
      "text/plain": [
       "array([[ 0,  1,  2,  3,  4],\n",
       "       [ 5,  6,  7,  8,  9],\n",
       "       [10, 11, 12, 13, 14],\n",
       "       [15, 16, 17, 18, 19],\n",
       "       [20, 21, 22, 23, 24]])"
      ]
     },
     "execution_count": 55,
     "metadata": {},
     "output_type": "execute_result"
    }
   ],
   "source": [
    "b = a.reshape(5,5)\n",
    "b"
   ]
  },
  {
   "cell_type": "code",
   "execution_count": 56,
   "id": "bad29011",
   "metadata": {},
   "outputs": [
    {
     "name": "stdout",
     "output_type": "stream",
     "text": [
      "Shape of numpy array is :  (5, 5)\n",
      "Dimension of numpy array is :  2\n"
     ]
    }
   ],
   "source": [
    "# Now, this numpy object has 5 columns and 5 rows , but the data of numy remains same\n",
    "print(\"Shape of numpy array is : \",b.shape)\n",
    "\n",
    "print(\"Dimension of numpy array is : \",b.ndim)"
   ]
  },
  {
   "cell_type": "code",
   "execution_count": null,
   "id": "b25ba885",
   "metadata": {},
   "outputs": [],
   "source": []
  },
  {
   "cell_type": "markdown",
   "id": "7e73d361",
   "metadata": {},
   "source": [
    "**Key thing to notice is that the array still has all 25 elements. Reshaping it into a 4 by 5 matrix(4 rows, 5 columns), would’ve produced an error since the reshape size is not the same size as the array’s. It would’ve been possible if the array had only 20 elements. To reverse the process and return the array into it’s original shape.**"
   ]
  },
  {
   "cell_type": "code",
   "execution_count": null,
   "id": "30f95cf7",
   "metadata": {},
   "outputs": [],
   "source": []
  },
  {
   "cell_type": "code",
   "execution_count": 57,
   "id": "d94e4625",
   "metadata": {},
   "outputs": [
    {
     "ename": "ValueError",
     "evalue": "cannot reshape array of size 25 into shape (4,5)",
     "output_type": "error",
     "traceback": [
      "\u001b[0;31m---------------------------------------------------------------------------\u001b[0m",
      "\u001b[0;31mValueError\u001b[0m                                Traceback (most recent call last)",
      "Cell \u001b[0;32mIn[57], line 1\u001b[0m\n\u001b[0;32m----> 1\u001b[0m a\u001b[38;5;241m.\u001b[39mreshape(\u001b[38;5;241m4\u001b[39m,\u001b[38;5;241m5\u001b[39m)\n",
      "\u001b[0;31mValueError\u001b[0m: cannot reshape array of size 25 into shape (4,5)"
     ]
    }
   ],
   "source": [
    "a.reshape(4,5)"
   ]
  },
  {
   "cell_type": "code",
   "execution_count": 58,
   "id": "cac1276d",
   "metadata": {},
   "outputs": [
    {
     "data": {
      "text/plain": [
       "array([[ 0,  1,  2,  3,  4],\n",
       "       [ 5,  6,  7,  8,  9],\n",
       "       [10, 11, 12, 13, 14],\n",
       "       [15, 16, 17, 18, 19],\n",
       "       [20, 21, 22, 23, 24]])"
      ]
     },
     "execution_count": 58,
     "metadata": {},
     "output_type": "execute_result"
    }
   ],
   "source": [
    "b"
   ]
  },
  {
   "cell_type": "code",
   "execution_count": 59,
   "id": "3e48e91e",
   "metadata": {},
   "outputs": [
    {
     "data": {
      "text/plain": [
       "array([ 0,  1,  2,  3,  4,  5,  6,  7,  8,  9, 10, 11, 12, 13, 14, 15, 16,\n",
       "       17, 18, 19, 20, 21, 22, 23, 24])"
      ]
     },
     "execution_count": 59,
     "metadata": {},
     "output_type": "execute_result"
    }
   ],
   "source": [
    "# Reverse the `b` object into original numpy object\n",
    "b.reshape(25,)"
   ]
  },
  {
   "cell_type": "code",
   "execution_count": null,
   "id": "7a25994b",
   "metadata": {},
   "outputs": [],
   "source": []
  },
  {
   "cell_type": "markdown",
   "id": "3a598e42",
   "metadata": {},
   "source": [
    "### np.dtype()\n",
    "\n",
    "This function allows you to check the data type of the array’s values.\n",
    "\n",
    "There can be more the one data type present in an array, in the upcoming lectures we will in shaa allah discuss all `dtypes` in numpy array."
   ]
  },
  {
   "cell_type": "code",
   "execution_count": null,
   "id": "e5f69e91-db10-4d69-97bb-b1f5c22a0ffb",
   "metadata": {},
   "outputs": [],
   "source": [
    "a"
   ]
  },
  {
   "cell_type": "code",
   "execution_count": null,
   "id": "fc87dd5e",
   "metadata": {},
   "outputs": [],
   "source": [
    "a.dtype"
   ]
  },
  {
   "cell_type": "code",
   "execution_count": null,
   "id": "77d508c9",
   "metadata": {},
   "outputs": [],
   "source": [
    "c = np.linspace(start=1,stop=10)\n",
    "c"
   ]
  },
  {
   "cell_type": "code",
   "execution_count": null,
   "id": "36d4801f",
   "metadata": {},
   "outputs": [],
   "source": [
    "c.dtype"
   ]
  },
  {
   "cell_type": "code",
   "execution_count": null,
   "id": "1233e588",
   "metadata": {},
   "outputs": [],
   "source": [
    "str_array = np.array([\"ehtisham\", \"ali\", \"ayesha\", 23, 20, 17, 88.88, 90.45])"
   ]
  },
  {
   "cell_type": "code",
   "execution_count": null,
   "id": "1b928fe9",
   "metadata": {},
   "outputs": [],
   "source": [
    "str_array.dtype"
   ]
  },
  {
   "cell_type": "code",
   "execution_count": null,
   "id": "781a109a-e4bc-47c9-9401-19ebeb99cd07",
   "metadata": {},
   "outputs": [],
   "source": []
  },
  {
   "cell_type": "code",
   "execution_count": null,
   "id": "06ffd100-b519-4d88-a304-9422d334e6b3",
   "metadata": {},
   "outputs": [],
   "source": []
  },
  {
   "cell_type": "markdown",
   "id": "b554ccf2",
   "metadata": {},
   "source": [
    "# 6. Numpy Indexing and Selection\n",
    "Here, we will discuss how to select element or groups of elements from an array and change them. There are two methods are used to perform these operations\n",
    "\n",
    "- Indexing – pick one or more elements from an array\n",
    "- Broadcasting – changing values within an index range"
   ]
  },
  {
   "cell_type": "code",
   "execution_count": 63,
   "id": "725f76e6",
   "metadata": {},
   "outputs": [
    {
     "data": {
      "text/plain": [
       "array([10, 16, 11, 16, 16, 11])"
      ]
     },
     "execution_count": 63,
     "metadata": {},
     "output_type": "execute_result"
    }
   ],
   "source": [
    "array = np.random.randint(low=10, high=20, size=6)\n",
    "array"
   ]
  },
  {
   "cell_type": "code",
   "execution_count": 64,
   "id": "330d2d0b",
   "metadata": {},
   "outputs": [
    {
     "data": {
      "text/plain": [
       "10"
      ]
     },
     "execution_count": 64,
     "metadata": {},
     "output_type": "execute_result"
    }
   ],
   "source": [
    "# Select first element of the array , as we know that indexing start from zero \n",
    "array[0]"
   ]
  },
  {
   "cell_type": "code",
   "execution_count": 65,
   "id": "1705f6ae",
   "metadata": {},
   "outputs": [
    {
     "data": {
      "text/plain": [
       "(11, 11)"
      ]
     },
     "execution_count": 65,
     "metadata": {},
     "output_type": "execute_result"
    }
   ],
   "source": [
    "# select last element of the array, as we know that index of last element is denoted by -1\n",
    "array[-1] , array[len(array)-1]"
   ]
  },
  {
   "cell_type": "code",
   "execution_count": 66,
   "id": "62cf0e3b",
   "metadata": {},
   "outputs": [
    {
     "name": "stdout",
     "output_type": "stream",
     "text": [
      "Slicing from 2-4 index :  [11 16 16]\n",
      "Slicing from 2-4 index :  [16 11 16]\n"
     ]
    }
   ],
   "source": [
    "# we can also perform slicing on numpy array\n",
    "print(\"Slicing from 2-4 index : \", array[2:5])\n",
    "\n",
    "\n",
    "# we can also perform negative indexing on numpy object\n",
    "print(\"Slicing from 2-4 index : \", array[-5:-2])"
   ]
  },
  {
   "cell_type": "code",
   "execution_count": null,
   "id": "b980700b",
   "metadata": {},
   "outputs": [],
   "source": []
  },
  {
   "cell_type": "markdown",
   "id": "bf825e7b",
   "metadata": {},
   "source": [
    "## indexing from 2-dimensional numpy array is different\n"
   ]
  },
  {
   "cell_type": "code",
   "execution_count": 60,
   "id": "b2c0a7fa",
   "metadata": {},
   "outputs": [
    {
     "data": {
      "text/plain": [
       "array([ 10,  11,  12,  14,  15,  17,  18,  20,  21,  23,  24,  25,  27,\n",
       "        28,  30,  31,  33,  34,  36,  37,  39,  40,  41,  43,  44,  46,\n",
       "        47,  49,  50,  52,  53,  55,  56,  57,  59,  60,  62,  63,  65,\n",
       "        66,  68,  69,  70,  72,  73,  75,  76,  78,  79,  81,  82,  84,\n",
       "        85,  86,  88,  89,  91,  92,  94,  95,  97,  98, 100])"
      ]
     },
     "execution_count": 60,
     "metadata": {},
     "output_type": "execute_result"
    }
   ],
   "source": [
    "data = np.linspace(start=10, stop=100,num=63, dtype=int)\n",
    "data"
   ]
  },
  {
   "cell_type": "code",
   "execution_count": 61,
   "id": "23b21575",
   "metadata": {},
   "outputs": [
    {
     "data": {
      "text/plain": [
       "(63,)"
      ]
     },
     "execution_count": 61,
     "metadata": {},
     "output_type": "execute_result"
    }
   ],
   "source": [
    "# give shape of the numpy object\n",
    "data.shape"
   ]
  },
  {
   "cell_type": "code",
   "execution_count": 62,
   "id": "4234f622",
   "metadata": {},
   "outputs": [
    {
     "data": {
      "text/plain": [
       "array([[ 10,  11,  12,  14,  15,  17,  18],\n",
       "       [ 20,  21,  23,  24,  25,  27,  28],\n",
       "       [ 30,  31,  33,  34,  36,  37,  39],\n",
       "       [ 40,  41,  43,  44,  46,  47,  49],\n",
       "       [ 50,  52,  53,  55,  56,  57,  59],\n",
       "       [ 60,  62,  63,  65,  66,  68,  69],\n",
       "       [ 70,  72,  73,  75,  76,  78,  79],\n",
       "       [ 81,  82,  84,  85,  86,  88,  89],\n",
       "       [ 91,  92,  94,  95,  97,  98, 100]])"
      ]
     },
     "execution_count": 62,
     "metadata": {},
     "output_type": "execute_result"
    }
   ],
   "source": [
    "dataReshaped = data.reshape(9,7)\n",
    "dataReshaped"
   ]
  },
  {
   "cell_type": "code",
   "execution_count": 67,
   "id": "1746d822",
   "metadata": {},
   "outputs": [
    {
     "data": {
      "text/plain": [
       "(9, 7)"
      ]
     },
     "execution_count": 67,
     "metadata": {},
     "output_type": "execute_result"
    }
   ],
   "source": [
    "# give shape of the numpy object\n",
    "dataReshaped.shape"
   ]
  },
  {
   "cell_type": "code",
   "execution_count": 68,
   "id": "9f13430b",
   "metadata": {},
   "outputs": [
    {
     "data": {
      "text/plain": [
       "array([20, 21, 23, 24, 25, 27, 28])"
      ]
     },
     "execution_count": 68,
     "metadata": {},
     "output_type": "execute_result"
    }
   ],
   "source": [
    "# select element at first index\n",
    "dataReshaped[1]"
   ]
  },
  {
   "cell_type": "code",
   "execution_count": 69,
   "id": "69746ad7",
   "metadata": {},
   "outputs": [
    {
     "data": {
      "text/plain": [
       "28"
      ]
     },
     "execution_count": 69,
     "metadata": {},
     "output_type": "execute_result"
    }
   ],
   "source": [
    "# select last element of the 4th row\n",
    "dataReshaped[1][-1]"
   ]
  },
  {
   "cell_type": "code",
   "execution_count": 70,
   "id": "0b0c15b0-80a3-48ab-873a-204d618b65a0",
   "metadata": {},
   "outputs": [
    {
     "data": {
      "text/plain": [
       "55"
      ]
     },
     "execution_count": 70,
     "metadata": {},
     "output_type": "execute_result"
    }
   ],
   "source": [
    "dataReshaped[4][3]"
   ]
  },
  {
   "cell_type": "code",
   "execution_count": null,
   "id": "bab7b668-391d-44b0-98c3-53c6cc2b3f96",
   "metadata": {},
   "outputs": [],
   "source": []
  },
  {
   "cell_type": "markdown",
   "id": "fde61ac3",
   "metadata": {},
   "source": [
    "### TASK :\n",
    "Select first element of the 2nd last row"
   ]
  },
  {
   "cell_type": "code",
   "execution_count": null,
   "id": "da264eab",
   "metadata": {},
   "outputs": [],
   "source": [
    "dataReshaped"
   ]
  },
  {
   "cell_type": "code",
   "execution_count": null,
   "id": "bdaf162d-8b93-4fe9-87c0-63a7a4a82694",
   "metadata": {},
   "outputs": [],
   "source": [
    "dataReshaped[-2][0]"
   ]
  },
  {
   "cell_type": "code",
   "execution_count": null,
   "id": "27fe6420-d385-4d54-8a9e-90daeb6184f9",
   "metadata": {},
   "outputs": [],
   "source": []
  },
  {
   "cell_type": "markdown",
   "id": "5bd47427",
   "metadata": {},
   "source": [
    "## indexing from 3-dimensional numpy array is different\n"
   ]
  },
  {
   "cell_type": "code",
   "execution_count": 71,
   "id": "c9c61987",
   "metadata": {},
   "outputs": [
    {
     "data": {
      "text/plain": [
       "array([[[38, 70, 16],\n",
       "        [58, 89, 96],\n",
       "        [40, 70, 84]],\n",
       "\n",
       "       [[84, 78, 63],\n",
       "        [91, 32, 56],\n",
       "        [94, 15, 70]],\n",
       "\n",
       "       [[48, 39, 95],\n",
       "        [70, 84, 44],\n",
       "        [40, 36, 33]],\n",
       "\n",
       "       [[23, 67, 25],\n",
       "        [81, 56, 97],\n",
       "        [22, 92, 29]]])"
      ]
     },
     "execution_count": 71,
     "metadata": {},
     "output_type": "execute_result"
    }
   ],
   "source": [
    "data3d = np.random.randint(low=10, high=100, size=(4,3,3))\n",
    "data3d"
   ]
  },
  {
   "cell_type": "code",
   "execution_count": 72,
   "id": "62731f54",
   "metadata": {},
   "outputs": [
    {
     "data": {
      "text/plain": [
       "(4, 3, 3)"
      ]
     },
     "execution_count": 72,
     "metadata": {},
     "output_type": "execute_result"
    }
   ],
   "source": [
    "data3d.shape"
   ]
  },
  {
   "cell_type": "code",
   "execution_count": 73,
   "id": "a936f6a7",
   "metadata": {},
   "outputs": [
    {
     "data": {
      "text/plain": [
       "array([[84, 78, 63],\n",
       "       [91, 32, 56],\n",
       "       [94, 15, 70]])"
      ]
     },
     "execution_count": 73,
     "metadata": {},
     "output_type": "execute_result"
    }
   ],
   "source": [
    "# select matrix/array at first index\n",
    "data3d[1]"
   ]
  },
  {
   "cell_type": "code",
   "execution_count": 74,
   "id": "d5693504",
   "metadata": {},
   "outputs": [
    {
     "data": {
      "text/plain": [
       "array([91, 32, 56])"
      ]
     },
     "execution_count": 74,
     "metadata": {},
     "output_type": "execute_result"
    }
   ],
   "source": [
    "# select 2nd array from array at first index\n",
    "data3d[1][1]"
   ]
  },
  {
   "cell_type": "code",
   "execution_count": 75,
   "id": "8c7e0939",
   "metadata": {},
   "outputs": [
    {
     "data": {
      "text/plain": [
       "56"
      ]
     },
     "execution_count": 75,
     "metadata": {},
     "output_type": "execute_result"
    }
   ],
   "source": [
    "# select 3rd element of 2nd array from array at first index \n",
    "data3d[1][1][2]"
   ]
  },
  {
   "cell_type": "code",
   "execution_count": null,
   "id": "b47dfd3a",
   "metadata": {},
   "outputs": [],
   "source": []
  },
  {
   "cell_type": "markdown",
   "id": "5261a330",
   "metadata": {},
   "source": [
    "### Broadcasting\n",
    "\n",
    "Numpy arrays differ from a normal Python list because of their ability to broadcast. Below is an example of setting a value within index range (Broadcasting)."
   ]
  },
  {
   "cell_type": "code",
   "execution_count": 76,
   "id": "223ddf49",
   "metadata": {},
   "outputs": [
    {
     "data": {
      "text/plain": [
       "array([ 0,  1,  2,  3,  4,  5,  6,  7,  8,  9, 10, 11, 12, 13, 14, 15, 16,\n",
       "       17, 18, 19, 20, 21, 22, 23, 24])"
      ]
     },
     "execution_count": 76,
     "metadata": {},
     "output_type": "execute_result"
    }
   ],
   "source": [
    "a"
   ]
  },
  {
   "cell_type": "code",
   "execution_count": 77,
   "id": "1684199d",
   "metadata": {},
   "outputs": [],
   "source": [
    "d = a"
   ]
  },
  {
   "cell_type": "code",
   "execution_count": 78,
   "id": "11d84ddf",
   "metadata": {},
   "outputs": [
    {
     "name": "stdout",
     "output_type": "stream",
     "text": [
      "3\n"
     ]
    },
    {
     "data": {
      "text/plain": [
       "array([ 0,  1,  2, 88,  4,  5,  6,  7,  8,  9, 10, 11, 12, 13, 14, 15, 16,\n",
       "       17, 18, 19, 20, 21, 22, 23, 24])"
      ]
     },
     "execution_count": 78,
     "metadata": {},
     "output_type": "execute_result"
    }
   ],
   "source": [
    "print(d[3])\n",
    "d[3] = 88\n",
    "d"
   ]
  },
  {
   "cell_type": "code",
   "execution_count": 79,
   "id": "2a16a876",
   "metadata": {},
   "outputs": [
    {
     "data": {
      "text/plain": [
       "array([ 0,  1,  2, 88,  4,  5,  6,  7,  8,  9, 10, 11, 12, 13, 14, 15, 16,\n",
       "       17, 18, 19, 20, 21, 22, 23, 24])"
      ]
     },
     "execution_count": 79,
     "metadata": {},
     "output_type": "execute_result"
    }
   ],
   "source": [
    "a\n",
    "# As you can see, change occurs in both arrays"
   ]
  },
  {
   "cell_type": "code",
   "execution_count": 80,
   "id": "82f23164",
   "metadata": {},
   "outputs": [
    {
     "name": "stdout",
     "output_type": "stream",
     "text": [
      "Array d:  [-3 -3 -3 -3 -3  5  6  7  8  9 10 11 12 13 14 15 16 17 18 19 20 21 22 23\n",
      " 24]\n",
      "Array a :  [-3 -3 -3 -3 -3  5  6  7  8  9 10 11 12 13 14 15 16 17 18 19 20 21 22 23\n",
      " 24]\n"
     ]
    }
   ],
   "source": [
    "# setting value within index range\n",
    "d[:5] = -3\n",
    "print(\"Array d: \", d)\n",
    "print(\"Array a : \", a)"
   ]
  },
  {
   "cell_type": "code",
   "execution_count": 81,
   "id": "8c21284c-61ca-49d5-972a-2853249affc1",
   "metadata": {},
   "outputs": [
    {
     "ename": "TypeError",
     "evalue": "can only assign an iterable",
     "output_type": "error",
     "traceback": [
      "\u001b[0;31m---------------------------------------------------------------------------\u001b[0m",
      "\u001b[0;31mTypeError\u001b[0m                                 Traceback (most recent call last)",
      "Cell \u001b[0;32mIn[81], line 3\u001b[0m\n\u001b[1;32m      1\u001b[0m \u001b[38;5;66;03m# List does support broadcasting\u001b[39;00m\n\u001b[1;32m      2\u001b[0m list1 \u001b[38;5;241m=\u001b[39m \u001b[38;5;28mlist\u001b[39m(\u001b[38;5;28mrange\u001b[39m(\u001b[38;5;241m1\u001b[39m,\u001b[38;5;241m10\u001b[39m))\n\u001b[0;32m----> 3\u001b[0m list1[:\u001b[38;5;241m5\u001b[39m] \u001b[38;5;241m=\u001b[39m \u001b[38;5;241m-\u001b[39m\u001b[38;5;241m5\u001b[39m\n",
      "\u001b[0;31mTypeError\u001b[0m: can only assign an iterable"
     ]
    }
   ],
   "source": [
    "# List does support broadcasting\n",
    "list1 = list(range(1,10))\n",
    "list1[:5] = -5"
   ]
  },
  {
   "cell_type": "code",
   "execution_count": 82,
   "id": "6b109a69",
   "metadata": {},
   "outputs": [
    {
     "data": {
      "text/plain": [
       "array([ 0,  1,  2,  3,  4,  5,  6,  7,  8,  9, 10])"
      ]
     },
     "execution_count": 82,
     "metadata": {},
     "output_type": "execute_result"
    }
   ],
   "source": [
    "# let's create a new numpy array\n",
    "arr = np.arange(11)\n",
    "arr"
   ]
  },
  {
   "cell_type": "code",
   "execution_count": 83,
   "id": "db2ffbf8",
   "metadata": {},
   "outputs": [
    {
     "data": {
      "text/plain": [
       "array([0, 1, 2, 3, 4, 5])"
      ]
     },
     "execution_count": 83,
     "metadata": {},
     "output_type": "execute_result"
    }
   ],
   "source": [
    "# change the first six values of our array, but firstly we slice it\n",
    "slice_of_arr = arr[:6]\n",
    "slice_of_arr"
   ]
  },
  {
   "cell_type": "code",
   "execution_count": 84,
   "id": "4409733e",
   "metadata": {},
   "outputs": [
    {
     "data": {
      "text/plain": [
       "array([5, 5, 5, 5, 5, 5])"
      ]
     },
     "execution_count": 84,
     "metadata": {},
     "output_type": "execute_result"
    }
   ],
   "source": [
    "# after getting slice , we will change all the values to 5\n",
    "slice_of_arr[:] = 5\n",
    "slice_of_arr"
   ]
  },
  {
   "cell_type": "code",
   "execution_count": 85,
   "id": "821ad769",
   "metadata": {},
   "outputs": [
    {
     "data": {
      "text/plain": [
       "array([ 5,  5,  5,  5,  5,  5,  6,  7,  8,  9, 10])"
      ]
     },
     "execution_count": 85,
     "metadata": {},
     "output_type": "execute_result"
    }
   ],
   "source": [
    "# as values are also changed into original array, to avoid this we can use concept of copy function\n",
    "arr"
   ]
  },
  {
   "cell_type": "code",
   "execution_count": 86,
   "id": "8d5ce41b",
   "metadata": {},
   "outputs": [
    {
     "data": {
      "text/plain": [
       "array([ 5,  5,  5,  5,  5,  5,  6,  7,  8,  9, 10])"
      ]
     },
     "execution_count": 86,
     "metadata": {},
     "output_type": "execute_result"
    }
   ],
   "source": [
    "slice_of_arr1 = arr.copy()\n",
    "slice_of_arr1"
   ]
  },
  {
   "cell_type": "code",
   "execution_count": 87,
   "id": "ffa1a5f8-e437-4f5d-81bc-328d16a60bc3",
   "metadata": {},
   "outputs": [
    {
     "data": {
      "text/plain": [
       "array([10, 10, 10, 10, 10, 10,  6,  7,  8,  9, 10])"
      ]
     },
     "execution_count": 87,
     "metadata": {},
     "output_type": "execute_result"
    }
   ],
   "source": [
    "slice_of_arr1[:6] = 10\n",
    "slice_of_arr1"
   ]
  },
  {
   "cell_type": "code",
   "execution_count": 88,
   "id": "b2632621",
   "metadata": {},
   "outputs": [
    {
     "data": {
      "text/plain": [
       "array([ 5,  5,  5,  5,  5,  5,  6,  7,  8,  9, 10])"
      ]
     },
     "execution_count": 88,
     "metadata": {},
     "output_type": "execute_result"
    }
   ],
   "source": [
    "# now the change in original array is not occured\n",
    "arr"
   ]
  },
  {
   "cell_type": "code",
   "execution_count": null,
   "id": "3d8fd58f",
   "metadata": {},
   "outputs": [],
   "source": []
  },
  {
   "cell_type": "markdown",
   "id": "02ea0700",
   "metadata": {},
   "source": [
    "# 7. Indexing 2D Array/Matrix\n",
    "\n",
    "The main idea behind this topic is to help you get comfortable with indexing in more than 1 dimensions. Below is a list of what we will discuss.\n",
    "\n",
    "- Indexing a 2D array – Indexing matrices differs from vectors\n",
    "- Fancy indexing – Selecting entire rows or columns out of order\n",
    "- Selection – Selection based off of comparison operators"
   ]
  },
  {
   "cell_type": "markdown",
   "id": "c7a5bb81",
   "metadata": {},
   "source": [
    "### Indexing a 2D array"
   ]
  },
  {
   "cell_type": "markdown",
   "id": "9e23d318",
   "metadata": {},
   "source": [
    "The general format is `arr_2d[row][col]` or `arr_2d[row,col]`. I will recommend to use comma notation format."
   ]
  },
  {
   "cell_type": "code",
   "execution_count": 89,
   "id": "f294811b",
   "metadata": {},
   "outputs": [
    {
     "data": {
      "text/plain": [
       "array([[34,  5, 55],\n",
       "       [ 3, 44,  6],\n",
       "       [23,  5, 66]])"
      ]
     },
     "execution_count": 89,
     "metadata": {},
     "output_type": "execute_result"
    }
   ],
   "source": [
    "# I have created 2-d array\n",
    "arr_2D = np.array([[34,5,55],\n",
    "                 [3,44,6],\n",
    "                 [23,5,66]])\n",
    "arr_2D"
   ]
  },
  {
   "cell_type": "code",
   "execution_count": 90,
   "id": "d99bd1e2",
   "metadata": {},
   "outputs": [
    {
     "name": "stdout",
     "output_type": "stream",
     "text": [
      "Shape of numpy array :  (3, 3)\n",
      "Dimension of numpy array :  2\n"
     ]
    }
   ],
   "source": [
    "print(\"Shape of numpy array : \",arr_2D.shape)\n",
    "print(\"Dimension of numpy array : \",arr_2D.ndim)"
   ]
  },
  {
   "cell_type": "code",
   "execution_count": 91,
   "id": "53b3406a",
   "metadata": {},
   "outputs": [
    {
     "data": {
      "text/plain": [
       "array([34,  5, 55])"
      ]
     },
     "execution_count": 91,
     "metadata": {},
     "output_type": "execute_result"
    }
   ],
   "source": [
    "# indexing of rows is fairly simple\n",
    "arr_2D[0]"
   ]
  },
  {
   "cell_type": "code",
   "execution_count": 92,
   "id": "86cd43d0",
   "metadata": {},
   "outputs": [
    {
     "data": {
      "text/plain": [
       "34"
      ]
     },
     "execution_count": 92,
     "metadata": {},
     "output_type": "execute_result"
    }
   ],
   "source": [
    "# To get first value of arr_2d[0], we can do this\n",
    "arr_2D[0][0]"
   ]
  },
  {
   "cell_type": "code",
   "execution_count": 93,
   "id": "250b3b8b",
   "metadata": {},
   "outputs": [
    {
     "data": {
      "text/plain": [
       "34"
      ]
     },
     "execution_count": 93,
     "metadata": {},
     "output_type": "execute_result"
    }
   ],
   "source": [
    "arr_2D[0,0]"
   ]
  },
  {
   "cell_type": "code",
   "execution_count": 94,
   "id": "3ef31402",
   "metadata": {},
   "outputs": [
    {
     "data": {
      "text/plain": [
       "array([ 5, 44,  5])"
      ]
     },
     "execution_count": 94,
     "metadata": {},
     "output_type": "execute_result"
    }
   ],
   "source": [
    "# select the 2nd column with all the its values\n",
    "arr_2D[:,1]"
   ]
  },
  {
   "cell_type": "code",
   "execution_count": 95,
   "id": "125dcfa4",
   "metadata": {},
   "outputs": [
    {
     "data": {
      "text/plain": [
       "array([[34,  5],\n",
       "       [ 3, 44],\n",
       "       [23,  5]])"
      ]
     },
     "execution_count": 95,
     "metadata": {},
     "output_type": "execute_result"
    }
   ],
   "source": [
    "# It is possible to exclude the last column\n",
    "arr_2D[:,:-1]"
   ]
  },
  {
   "cell_type": "code",
   "execution_count": 96,
   "id": "97aac585",
   "metadata": {},
   "outputs": [
    {
     "data": {
      "text/plain": [
       "array([[34,  5, 55],\n",
       "       [ 3, 44,  6],\n",
       "       [23,  5, 66]])"
      ]
     },
     "execution_count": 96,
     "metadata": {},
     "output_type": "execute_result"
    }
   ],
   "source": [
    "arr_2D"
   ]
  },
  {
   "cell_type": "code",
   "execution_count": 97,
   "id": "81ace167",
   "metadata": {},
   "outputs": [
    {
     "data": {
      "text/plain": [
       "array([[ 5, 55],\n",
       "       [44,  6]])"
      ]
     },
     "execution_count": 97,
     "metadata": {},
     "output_type": "execute_result"
    }
   ],
   "source": [
    "# another example\n",
    "arr_2D[:2,1:]"
   ]
  },
  {
   "cell_type": "markdown",
   "id": "a40fb470",
   "metadata": {},
   "source": [
    "### Fancy Indexing\n",
    "Fancy indexing allows you to select entire rows or columns out of order. To show this, let’s quickly build out a numpy array of zeros"
   ]
  },
  {
   "cell_type": "code",
   "execution_count": 98,
   "id": "579b3f90",
   "metadata": {},
   "outputs": [
    {
     "data": {
      "text/plain": [
       "array([[0, 0, 0, 0, 0],\n",
       "       [0, 0, 0, 0, 0],\n",
       "       [0, 0, 0, 0, 0],\n",
       "       [0, 0, 0, 0, 0]])"
      ]
     },
     "execution_count": 98,
     "metadata": {},
     "output_type": "execute_result"
    }
   ],
   "source": [
    "arr_zeros = np.zeros((4,5), dtype=int)\n",
    "arr_zeros"
   ]
  },
  {
   "cell_type": "code",
   "execution_count": 99,
   "id": "8b7753dd",
   "metadata": {},
   "outputs": [
    {
     "data": {
      "text/plain": [
       "(4, 5)"
      ]
     },
     "execution_count": 99,
     "metadata": {},
     "output_type": "execute_result"
    }
   ],
   "source": [
    "arr_zeros.shape"
   ]
  },
  {
   "cell_type": "code",
   "execution_count": 100,
   "id": "3fcd5563-b7e3-45da-afcd-5ea105fb7c4f",
   "metadata": {},
   "outputs": [
    {
     "data": {
      "text/plain": [
       "4"
      ]
     },
     "execution_count": 100,
     "metadata": {},
     "output_type": "execute_result"
    }
   ],
   "source": [
    "# 4 rows and 5 columns \n",
    "arrRows =arr_zeros.shape[0]\n",
    "arrRows"
   ]
  },
  {
   "cell_type": "code",
   "execution_count": 101,
   "id": "3b3f872a",
   "metadata": {},
   "outputs": [
    {
     "data": {
      "text/plain": [
       "array([[0, 0, 0, 0, 0],\n",
       "       [1, 1, 1, 1, 1],\n",
       "       [2, 2, 2, 2, 2],\n",
       "       [3, 3, 3, 3, 3]])"
      ]
     },
     "execution_count": 101,
     "metadata": {},
     "output_type": "execute_result"
    }
   ],
   "source": [
    "for i in range(arrRows):\n",
    "    arr_zeros[i] = i\n",
    "arr_zeros\n",
    "\n",
    "# we changed the values of each rows corresponding to its index value"
   ]
  },
  {
   "cell_type": "code",
   "execution_count": 108,
   "id": "965498dd",
   "metadata": {},
   "outputs": [
    {
     "data": {
      "text/plain": [
       "array([[1, 1, 1, 1, 1],\n",
       "       [3, 3, 3, 3, 3]])"
      ]
     },
     "execution_count": 108,
     "metadata": {},
     "output_type": "execute_result"
    }
   ],
   "source": [
    "arr_zeros[[1,3]]"
   ]
  },
  {
   "cell_type": "code",
   "execution_count": 103,
   "id": "9e00c17a",
   "metadata": {},
   "outputs": [
    {
     "data": {
      "text/plain": [
       "array([[1, 1, 1, 1, 1],\n",
       "       [2, 2, 2, 2, 2]])"
      ]
     },
     "execution_count": 103,
     "metadata": {},
     "output_type": "execute_result"
    }
   ],
   "source": [
    "arr_zeros[[1,2]] # [2:5, :] or [[2,3,4], :]"
   ]
  },
  {
   "cell_type": "code",
   "execution_count": 109,
   "id": "603dbf9a-0368-4841-bb30-91f95a1faef4",
   "metadata": {},
   "outputs": [
    {
     "data": {
      "text/plain": [
       "array([[1, 1, 1, 1, 1],\n",
       "       [2, 2, 2, 2, 2]])"
      ]
     },
     "execution_count": 109,
     "metadata": {},
     "output_type": "execute_result"
    }
   ],
   "source": [
    "arr_zeros[1:3]"
   ]
  },
  {
   "cell_type": "markdown",
   "id": "24526c06",
   "metadata": {},
   "source": [
    "### Selection\n",
    "Selection defines how to use brackets for selection based off of comparison operators. As a result, it returns us `1-d array` of selected elements."
   ]
  },
  {
   "cell_type": "code",
   "execution_count": 110,
   "id": "5ca3195b",
   "metadata": {},
   "outputs": [
    {
     "data": {
      "text/plain": [
       "array([ 1,  2,  3,  4,  5,  6,  7,  8,  9, 10])"
      ]
     },
     "execution_count": 110,
     "metadata": {},
     "output_type": "execute_result"
    }
   ],
   "source": [
    "arr_Selection = np.arange(1,11)\n",
    "arr_Selection"
   ]
  },
  {
   "cell_type": "code",
   "execution_count": 111,
   "id": "1d959e23",
   "metadata": {},
   "outputs": [
    {
     "data": {
      "text/plain": [
       "array([False, False, False, False,  True,  True,  True,  True,  True,\n",
       "        True])"
      ]
     },
     "execution_count": 111,
     "metadata": {},
     "output_type": "execute_result"
    }
   ],
   "source": [
    "# select all the elements of the array greater than 4\n",
    "arr_Selection > 4"
   ]
  },
  {
   "cell_type": "code",
   "execution_count": 112,
   "id": "09b7d3fd",
   "metadata": {},
   "outputs": [
    {
     "data": {
      "text/plain": [
       "array([1, 2, 3])"
      ]
     },
     "execution_count": 112,
     "metadata": {},
     "output_type": "execute_result"
    }
   ],
   "source": [
    "# To get the actual values, we need to put this into following manner\n",
    "arr_Selection[arr_Selection<4]"
   ]
  },
  {
   "cell_type": "markdown",
   "id": "55f483a0",
   "metadata": {},
   "source": [
    "**We can also from selection on 2-D array.**"
   ]
  },
  {
   "cell_type": "code",
   "execution_count": 113,
   "id": "0d67b318",
   "metadata": {},
   "outputs": [
    {
     "data": {
      "text/plain": [
       "array([[34,  5, 55],\n",
       "       [ 3, 44,  6],\n",
       "       [23,  5, 66]])"
      ]
     },
     "execution_count": 113,
     "metadata": {},
     "output_type": "execute_result"
    }
   ],
   "source": [
    "arr_2D"
   ]
  },
  {
   "cell_type": "code",
   "execution_count": 114,
   "id": "64b8ac41",
   "metadata": {},
   "outputs": [
    {
     "data": {
      "text/plain": [
       "array([34, 55, 44, 23, 66])"
      ]
     },
     "execution_count": 114,
     "metadata": {},
     "output_type": "execute_result"
    }
   ],
   "source": [
    "# elements whose values are greater than 7\n",
    "# arr_2D[arr_2D>10]\n",
    "arr_2D[arr_2D>10]"
   ]
  },
  {
   "cell_type": "code",
   "execution_count": null,
   "id": "1855a6b6",
   "metadata": {},
   "outputs": [],
   "source": []
  },
  {
   "cell_type": "code",
   "execution_count": null,
   "id": "e2ba843e",
   "metadata": {},
   "outputs": [],
   "source": []
  },
  {
   "cell_type": "markdown",
   "id": "c4bec7b8",
   "metadata": {},
   "source": [
    "# 8. Numpy Operations\n",
    "We can perform different types of operations on NumPy arrays. What this means is we can sum, subtract, multiply or divide the values inside our array, even do things like taking the square root. Below is a list of what we will discuss in this lecture.\n",
    "- Arithmetic Operations – sum, subtract, multiply, divide on arrays\n",
    "- Universal Array Functions – Mathematical operations provided by NumPy"
   ]
  },
  {
   "cell_type": "markdown",
   "id": "aa02429a",
   "metadata": {},
   "source": [
    "### Arithmetic\n",
    "While performing arithmetic operations between two arrays it is important that they have the same dimensions. "
   ]
  },
  {
   "cell_type": "code",
   "execution_count": 115,
   "id": "e21deadb",
   "metadata": {},
   "outputs": [
    {
     "data": {
      "text/plain": [
       "array([ 0,  1,  2,  3,  4,  5,  6,  7,  8,  9, 10])"
      ]
     },
     "execution_count": 115,
     "metadata": {},
     "output_type": "execute_result"
    }
   ],
   "source": [
    "# create 1-d array\n",
    "ArrOperations = np.arange(11)\n",
    "ArrOperations"
   ]
  },
  {
   "cell_type": "code",
   "execution_count": 116,
   "id": "3d145ec1",
   "metadata": {},
   "outputs": [
    {
     "data": {
      "text/plain": [
       "array([ 0,  2,  4,  6,  8, 10, 12, 14, 16, 18, 20])"
      ]
     },
     "execution_count": 116,
     "metadata": {},
     "output_type": "execute_result"
    }
   ],
   "source": [
    "# addition/sum of two arrays\n",
    "ArrOperations + ArrOperations"
   ]
  },
  {
   "cell_type": "code",
   "execution_count": 117,
   "id": "726341d0",
   "metadata": {},
   "outputs": [
    {
     "data": {
      "text/plain": [
       "array([0, 0, 0, 0, 0, 0, 0, 0, 0, 0, 0])"
      ]
     },
     "execution_count": 117,
     "metadata": {},
     "output_type": "execute_result"
    }
   ],
   "source": [
    "# subtraction of two arrays\n",
    "ArrOperations-ArrOperations"
   ]
  },
  {
   "cell_type": "code",
   "execution_count": 118,
   "id": "b9e31529",
   "metadata": {},
   "outputs": [
    {
     "data": {
      "text/plain": [
       "array([  0,   1,   4,   9,  16,  25,  36,  49,  64,  81, 100])"
      ]
     },
     "execution_count": 118,
     "metadata": {},
     "output_type": "execute_result"
    }
   ],
   "source": [
    "# multilication of two arrays\n",
    "ArrOperations*ArrOperations"
   ]
  },
  {
   "cell_type": "code",
   "execution_count": 119,
   "id": "bb062bde",
   "metadata": {},
   "outputs": [
    {
     "name": "stderr",
     "output_type": "stream",
     "text": [
      "/var/folders/qb/lf_2q09x7wj115gvfnkv6tkm0000gn/T/ipykernel_30424/2324457737.py:2: RuntimeWarning: invalid value encountered in divide\n",
      "  ArrOperations/ArrOperations\n"
     ]
    },
    {
     "data": {
      "text/plain": [
       "array([nan,  1.,  1.,  1.,  1.,  1.,  1.,  1.,  1.,  1.,  1.])"
      ]
     },
     "execution_count": 119,
     "metadata": {},
     "output_type": "execute_result"
    }
   ],
   "source": [
    "# division of two arrays\n",
    "ArrOperations/ArrOperations"
   ]
  },
  {
   "cell_type": "markdown",
   "id": "3063ba52",
   "metadata": {},
   "source": [
    "**Note: Warning indicates that divison with zero was encountered and all the valued divided with zero will be None.**"
   ]
  },
  {
   "cell_type": "code",
   "execution_count": 120,
   "id": "71103d8f",
   "metadata": {},
   "outputs": [
    {
     "data": {
      "text/plain": [
       "array([   0,    1,    8,   27,   64,  125,  216,  343,  512,  729, 1000])"
      ]
     },
     "execution_count": 120,
     "metadata": {},
     "output_type": "execute_result"
    }
   ],
   "source": [
    "# Cube of array\n",
    "ArrOperations**3"
   ]
  },
  {
   "cell_type": "code",
   "execution_count": 121,
   "id": "3e51cf79",
   "metadata": {},
   "outputs": [
    {
     "data": {
      "text/plain": [
       "array([ 0,  3,  6,  9, 12, 15, 18, 21, 24, 27, 30])"
      ]
     },
     "execution_count": 121,
     "metadata": {},
     "output_type": "execute_result"
    }
   ],
   "source": [
    "# multiply array with 3\n",
    "ArrOperations*3"
   ]
  },
  {
   "cell_type": "code",
   "execution_count": 122,
   "id": "8949b501",
   "metadata": {},
   "outputs": [
    {
     "name": "stderr",
     "output_type": "stream",
     "text": [
      "/var/folders/qb/lf_2q09x7wj115gvfnkv6tkm0000gn/T/ipykernel_30424/3505209312.py:1: RuntimeWarning: divide by zero encountered in divide\n",
      "  1/ArrOperations\n"
     ]
    },
    {
     "data": {
      "text/plain": [
       "array([       inf, 1.        , 0.5       , 0.33333333, 0.25      ,\n",
       "       0.2       , 0.16666667, 0.14285714, 0.125     , 0.11111111,\n",
       "       0.1       ])"
      ]
     },
     "execution_count": 122,
     "metadata": {},
     "output_type": "execute_result"
    }
   ],
   "source": [
    "1/ArrOperations"
   ]
  },
  {
   "cell_type": "code",
   "execution_count": 123,
   "id": "032c3b7d",
   "metadata": {},
   "outputs": [
    {
     "data": {
      "text/plain": [
       "array([[34,  5, 55],\n",
       "       [ 3, 44,  6],\n",
       "       [23,  5, 66]])"
      ]
     },
     "execution_count": 123,
     "metadata": {},
     "output_type": "execute_result"
    }
   ],
   "source": [
    "# arithmetic operations on 2-D array\n",
    "arr_2D"
   ]
  },
  {
   "cell_type": "code",
   "execution_count": 124,
   "id": "7a836e61",
   "metadata": {},
   "outputs": [
    {
     "data": {
      "text/plain": [
       "array([[ 68,  10, 110],\n",
       "       [  6,  88,  12],\n",
       "       [ 46,  10, 132]])"
      ]
     },
     "execution_count": 124,
     "metadata": {},
     "output_type": "execute_result"
    }
   ],
   "source": [
    "# addition \n",
    "arr_2D+arr_2D"
   ]
  },
  {
   "cell_type": "code",
   "execution_count": 125,
   "id": "26b584ab",
   "metadata": {},
   "outputs": [
    {
     "data": {
      "text/plain": [
       "array([[0, 0, 0],\n",
       "       [0, 0, 0],\n",
       "       [0, 0, 0]])"
      ]
     },
     "execution_count": 125,
     "metadata": {},
     "output_type": "execute_result"
    }
   ],
   "source": [
    "# subtraction\n",
    "arr_2D-arr_2D"
   ]
  },
  {
   "cell_type": "code",
   "execution_count": 126,
   "id": "a097e16a",
   "metadata": {},
   "outputs": [
    {
     "data": {
      "text/plain": [
       "array([[1156,   25, 3025],\n",
       "       [   9, 1936,   36],\n",
       "       [ 529,   25, 4356]])"
      ]
     },
     "execution_count": 126,
     "metadata": {},
     "output_type": "execute_result"
    }
   ],
   "source": [
    "# multiplication\n",
    "arr_2D*arr_2D"
   ]
  },
  {
   "cell_type": "code",
   "execution_count": 127,
   "id": "c9e36ea3",
   "metadata": {},
   "outputs": [
    {
     "data": {
      "text/plain": [
       "array([[1., 1., 1.],\n",
       "       [1., 1., 1.],\n",
       "       [1., 1., 1.]])"
      ]
     },
     "execution_count": 127,
     "metadata": {},
     "output_type": "execute_result"
    }
   ],
   "source": [
    "# division\n",
    "arr_2D/arr_2D"
   ]
  },
  {
   "cell_type": "code",
   "execution_count": 128,
   "id": "496c1add-86d4-4078-ad50-d016f76e2c6d",
   "metadata": {},
   "outputs": [
    {
     "data": {
      "text/plain": [
       "array([0, 1, 2, 3, 4, 5, 6, 7, 8, 9])"
      ]
     },
     "execution_count": 128,
     "metadata": {},
     "output_type": "execute_result"
    }
   ],
   "source": [
    "arr1 = np.arange(10)\n",
    "arr1"
   ]
  },
  {
   "cell_type": "code",
   "execution_count": 129,
   "id": "310d61d1-f5b6-4ca4-9035-c6a8cfda05b5",
   "metadata": {},
   "outputs": [
    {
     "data": {
      "text/plain": [
       "array([0, 1, 2, 3, 4, 5, 6, 7])"
      ]
     },
     "execution_count": 129,
     "metadata": {},
     "output_type": "execute_result"
    }
   ],
   "source": [
    "arr2 = np.arange(8)\n",
    "arr2"
   ]
  },
  {
   "cell_type": "code",
   "execution_count": 130,
   "id": "ac760963-477f-4cf6-bce8-b471027b37a8",
   "metadata": {},
   "outputs": [
    {
     "ename": "ValueError",
     "evalue": "operands could not be broadcast together with shapes (10,) (8,) ",
     "output_type": "error",
     "traceback": [
      "\u001b[0;31m---------------------------------------------------------------------------\u001b[0m",
      "\u001b[0;31mValueError\u001b[0m                                Traceback (most recent call last)",
      "Cell \u001b[0;32mIn[130], line 1\u001b[0m\n\u001b[0;32m----> 1\u001b[0m arr1 \u001b[38;5;241m+\u001b[39m arr2\n",
      "\u001b[0;31mValueError\u001b[0m: operands could not be broadcast together with shapes (10,) (8,) "
     ]
    }
   ],
   "source": [
    "arr1 + arr2"
   ]
  },
  {
   "cell_type": "code",
   "execution_count": 132,
   "id": "6143bf15-4a88-4a25-9d5e-288b8a446f74",
   "metadata": {},
   "outputs": [
    {
     "ename": "TypeError",
     "evalue": "only integer scalar arrays can be converted to a scalar index",
     "output_type": "error",
     "traceback": [
      "\u001b[0;31m---------------------------------------------------------------------------\u001b[0m",
      "\u001b[0;31mTypeError\u001b[0m                                 Traceback (most recent call last)",
      "Cell \u001b[0;32mIn[132], line 2\u001b[0m\n\u001b[1;32m      1\u001b[0m \u001b[38;5;66;03m#arr1.sum(arr2)\u001b[39;00m\n\u001b[0;32m----> 2\u001b[0m np\u001b[38;5;241m.\u001b[39msum(arr1, arr2)\n",
      "File \u001b[0;32m/opt/anaconda3/lib/python3.11/site-packages/numpy/core/fromnumeric.py:2313\u001b[0m, in \u001b[0;36msum\u001b[0;34m(a, axis, dtype, out, keepdims, initial, where)\u001b[0m\n\u001b[1;32m   2310\u001b[0m         \u001b[38;5;28;01mreturn\u001b[39;00m out\n\u001b[1;32m   2311\u001b[0m     \u001b[38;5;28;01mreturn\u001b[39;00m res\n\u001b[0;32m-> 2313\u001b[0m \u001b[38;5;28;01mreturn\u001b[39;00m _wrapreduction(a, np\u001b[38;5;241m.\u001b[39madd, \u001b[38;5;124m'\u001b[39m\u001b[38;5;124msum\u001b[39m\u001b[38;5;124m'\u001b[39m, axis, dtype, out, keepdims\u001b[38;5;241m=\u001b[39mkeepdims,\n\u001b[1;32m   2314\u001b[0m                       initial\u001b[38;5;241m=\u001b[39minitial, where\u001b[38;5;241m=\u001b[39mwhere)\n",
      "File \u001b[0;32m/opt/anaconda3/lib/python3.11/site-packages/numpy/core/fromnumeric.py:88\u001b[0m, in \u001b[0;36m_wrapreduction\u001b[0;34m(obj, ufunc, method, axis, dtype, out, **kwargs)\u001b[0m\n\u001b[1;32m     85\u001b[0m         \u001b[38;5;28;01melse\u001b[39;00m:\n\u001b[1;32m     86\u001b[0m             \u001b[38;5;28;01mreturn\u001b[39;00m reduction(axis\u001b[38;5;241m=\u001b[39maxis, out\u001b[38;5;241m=\u001b[39mout, \u001b[38;5;241m*\u001b[39m\u001b[38;5;241m*\u001b[39mpasskwargs)\n\u001b[0;32m---> 88\u001b[0m \u001b[38;5;28;01mreturn\u001b[39;00m ufunc\u001b[38;5;241m.\u001b[39mreduce(obj, axis, dtype, out, \u001b[38;5;241m*\u001b[39m\u001b[38;5;241m*\u001b[39mpasskwargs)\n",
      "\u001b[0;31mTypeError\u001b[0m: only integer scalar arrays can be converted to a scalar index"
     ]
    }
   ],
   "source": [
    "#arr1.sum(arr2)\n",
    "np.sum(arr1, arr2)"
   ]
  },
  {
   "cell_type": "markdown",
   "id": "7a1113bc",
   "metadata": {},
   "source": [
    "### Universal Array Functions\n",
    "\n",
    "Numpy comes with many universal array functions, which are essentially just mathematical operations you can use to perform the operation across the array. Let’s show some common ones."
   ]
  },
  {
   "cell_type": "code",
   "execution_count": 133,
   "id": "9a178ee5",
   "metadata": {},
   "outputs": [
    {
     "data": {
      "text/plain": [
       "array([0.        , 1.        , 1.41421356, 1.73205081, 2.        ,\n",
       "       2.23606798, 2.44948974, 2.64575131, 2.82842712, 3.        ,\n",
       "       3.16227766])"
      ]
     },
     "execution_count": 133,
     "metadata": {},
     "output_type": "execute_result"
    }
   ],
   "source": [
    "# square root of 1-D array\n",
    "np.sqrt(ArrOperations)"
   ]
  },
  {
   "cell_type": "code",
   "execution_count": 134,
   "id": "edbf42bd",
   "metadata": {},
   "outputs": [
    {
     "data": {
      "text/plain": [
       "array([[5.83095189, 2.23606798, 7.41619849],\n",
       "       [1.73205081, 6.63324958, 2.44948974],\n",
       "       [4.79583152, 2.23606798, 8.1240384 ]])"
      ]
     },
     "execution_count": 134,
     "metadata": {},
     "output_type": "execute_result"
    }
   ],
   "source": [
    "# square root of 2-D array\n",
    "np.sqrt(arr_2D)"
   ]
  },
  {
   "cell_type": "code",
   "execution_count": 135,
   "id": "572f8515",
   "metadata": {},
   "outputs": [
    {
     "data": {
      "text/plain": [
       "array([1.00000000e+00, 2.71828183e+00, 7.38905610e+00, 2.00855369e+01,\n",
       "       5.45981500e+01, 1.48413159e+02, 4.03428793e+02, 1.09663316e+03,\n",
       "       2.98095799e+03, 8.10308393e+03, 2.20264658e+04])"
      ]
     },
     "execution_count": 135,
     "metadata": {},
     "output_type": "execute_result"
    }
   ],
   "source": [
    "# Exponential of 1-D array\n",
    "np.exp(ArrOperations)"
   ]
  },
  {
   "cell_type": "code",
   "execution_count": null,
   "id": "6c889c14",
   "metadata": {},
   "outputs": [],
   "source": [
    "# Exponential of 2-D array\n",
    "np.exp(arr_2D)"
   ]
  },
  {
   "cell_type": "code",
   "execution_count": 136,
   "id": "50998cd3",
   "metadata": {},
   "outputs": [
    {
     "name": "stdout",
     "output_type": "stream",
     "text": [
      "Max value of 1-D array is :  10\n",
      "Max value of 2-D array is: 66\n"
     ]
    }
   ],
   "source": [
    "# max and min value of array\n",
    "print(\"Max value of 1-D array is : \", np.max(ArrOperations))\n",
    "print(\"Max value of 2-D array is:\", np.max(arr_2D))"
   ]
  },
  {
   "cell_type": "code",
   "execution_count": 137,
   "id": "18826349",
   "metadata": {},
   "outputs": [
    {
     "name": "stdout",
     "output_type": "stream",
     "text": [
      "Min value of 1-D array is :  0\n",
      "Min value of 2-D array is :  3\n"
     ]
    }
   ],
   "source": [
    "# max and min value of array\n",
    "print(\"Min value of 1-D array is : \", np.min(ArrOperations))\n",
    "print(\"Min value of 2-D array is : \", np.min(arr_2D))"
   ]
  },
  {
   "cell_type": "code",
   "execution_count": 138,
   "id": "2ec93e47",
   "metadata": {},
   "outputs": [
    {
     "name": "stdout",
     "output_type": "stream",
     "text": [
      "Log of 1-D array is :  [      -inf 0.         0.69314718 1.09861229 1.38629436 1.60943791\n",
      " 1.79175947 1.94591015 2.07944154 2.19722458 2.30258509]\n",
      "\n",
      "\n",
      "\n",
      "Log of 2-D array is :  [[3.52636052 1.60943791 4.00733319]\n",
      " [1.09861229 3.78418963 1.79175947]\n",
      " [3.13549422 1.60943791 4.18965474]]\n"
     ]
    },
    {
     "name": "stderr",
     "output_type": "stream",
     "text": [
      "/var/folders/qb/lf_2q09x7wj115gvfnkv6tkm0000gn/T/ipykernel_30424/370656916.py:2: RuntimeWarning: divide by zero encountered in log\n",
      "  print(\"Log of 1-D array is : \", np.log(ArrOperations))\n"
     ]
    }
   ],
   "source": [
    "# log of array\n",
    "print(\"Log of 1-D array is : \", np.log(ArrOperations))\n",
    "print(\"\\n\\n\")\n",
    "print(\"Log of 2-D array is : \", np.log(arr_2D))"
   ]
  },
  {
   "cell_type": "markdown",
   "id": "55e3ffdf",
   "metadata": {},
   "source": [
    "**Note : When dealing with messy data you will often need to stick multiple arrays together.**"
   ]
  },
  {
   "cell_type": "markdown",
   "id": "754337a1-275f-45b7-b19a-16b4d9dd7f2b",
   "metadata": {},
   "source": [
    "### Test Yourself\n",
    "- Addition, Subtraction etc on different size of arrays\n",
    "    - Broadcasting \n",
    "    - Padding the smaller array\n",
    "    - Trimming the larger array"
   ]
  },
  {
   "cell_type": "code",
   "execution_count": null,
   "id": "bdb33b4c",
   "metadata": {},
   "outputs": [],
   "source": []
  },
  {
   "cell_type": "markdown",
   "id": "e0ab4e69",
   "metadata": {},
   "source": [
    "# 9. Append, Concatenate and Stack\n",
    "\n",
    "- np.append() – append one array to another\n",
    "- np.concatenate() – Concatenate two arrays\n",
    "- np.stack() – Stack one array to another horizontally or vertically"
   ]
  },
  {
   "cell_type": "markdown",
   "id": "adcc9568",
   "metadata": {},
   "source": [
    "### numpy.append()\n",
    "\n",
    "- The numpy.append() function is used to add or append new values to an existing numpy array. \n",
    "- This function adds the new values at the end of the array.\n",
    "- The numpy append() function is used to merge two arrays. \n",
    "- It returns a new array, and the original array remains unchanged."
   ]
  },
  {
   "cell_type": "markdown",
   "id": "c0580a22",
   "metadata": {},
   "source": [
    "### Syntax: \n",
    "**numpy.append(arr, values, axis=None)**\n",
    "- arr: array_like (This is a ndarray. The new values are appended to a copy of this array. This parameter is required and plays an important role in numpy.append() function.)\n",
    "- values: array_like (This parameter defines the values which are appended to a copy of a ndarray. One thing is to be noticed here that these values must be of the correct shape as the original ndarray, excluding the axis. If the axis is not defined, then the values can be in any shape and will flatten before use.)\n",
    "- axis: int(optional) (This parameter defines the axis along which values are appended. When the axis is not given to them, both ndarray and values are flattened before use.)"
   ]
  },
  {
   "cell_type": "code",
   "execution_count": null,
   "id": "af88a34e",
   "metadata": {},
   "outputs": [],
   "source": [
    "a = np.array([[10, 20, 30], [40, 50, 60], [70, 80, 90]])  \n",
    "b = np.array([[11, 21, 31], [42, 52, 62], [73, 83, 93]])  \n",
    "c = np.append(arr = a,values = b)  "
   ]
  },
  {
   "cell_type": "code",
   "execution_count": null,
   "id": "1156a2c2",
   "metadata": {},
   "outputs": [],
   "source": [
    "print(\"Array a is : \", a, sep=\"\\n\")\n",
    "print(\"\\n\\n\")\n",
    "print(\"Array b is : \", b, sep=\"\\n\")\n",
    "print(\"\\n\\n\")\n",
    "print(\"New array c is : \", c, sep=\"\\n\")"
   ]
  },
  {
   "cell_type": "markdown",
   "id": "b2a9d108",
   "metadata": {},
   "source": [
    "In the output, values of both arrays, i.e., `a` and `b`, have been shown in the flattened form, and the original array remained same because `axis=None`."
   ]
  },
  {
   "cell_type": "code",
   "execution_count": null,
   "id": "9503f83a",
   "metadata": {},
   "outputs": [],
   "source": [
    "# appending according rows \n",
    "a = np.array([[10, 20, 30], [40, 50, 60], [70, 80, 90]])  \n",
    "b = np.array([[11, 21, 31], [42, 52, 62], [73, 83, 93]])  \n",
    "c = np.append(arr= a,values = b, axis=0)  \n",
    "print(\"Array a is : \", a, sep=\"\\n\")\n",
    "print(\"\\n\\n\")\n",
    "print(\"Array b is : \", b, sep=\"\\n\")\n",
    "print(\"\\n\\n\")\n",
    "print(\"New array c is : \", c, sep=\"\\n\")"
   ]
  },
  {
   "cell_type": "code",
   "execution_count": null,
   "id": "4b13bcc2",
   "metadata": {},
   "outputs": [],
   "source": [
    "# appending according columns\n",
    "a = np.array([[10, 20, 30], [40, 50, 60], [70, 80, 90]])  \n",
    "b = np.array([[11, 21, 31], [42, 52, 62], [73, 83, 93]])  \n",
    "c = np.append(arr= a,values = b, axis=1)  \n",
    "print(\"Array a is : \", a, sep=\"\\n\")\n",
    "print(\"\\n\\n\")\n",
    "print(\"Array b is : \", b, sep=\"\\n\")\n",
    "print(\"\\n\\n\")\n",
    "print(\"New array c is : \", c, sep=\"\\n\")"
   ]
  },
  {
   "cell_type": "code",
   "execution_count": null,
   "id": "02bea623",
   "metadata": {},
   "outputs": [],
   "source": []
  },
  {
   "cell_type": "markdown",
   "id": "96e39209",
   "metadata": {},
   "source": [
    "### Numpy.concatenate()\n",
    "**This function is basically used for joining two or more arrays of the same shape along a specified axis.**     \n",
    "There are the following things which are essential to keep in mind:\n",
    "- Concatenate works similarly to append, but instead of ‘arr’ and ‘values’ as parameters it takes a tuple of two arrays. \n",
    "- NumPy's concatenate() is not like a traditional database join. It is like stacking NumPy arrays.\n",
    "- This function can operate both vertically and horizontally. This means we can concatenate arrays together horizontally or vertically.\n",
    "<img src=\"images/numpy-concatenate.png\">\n",
    "\n",
    "**Syntax: numpy.concatenate((a1, a2, ...), axis)**"
   ]
  },
  {
   "cell_type": "code",
   "execution_count": null,
   "id": "f654c18b",
   "metadata": {},
   "outputs": [],
   "source": [
    "# concatenate numpy arrays without passing parameter axis\n",
    "x = np.array([[1,2],[3,4]])  \n",
    "y = np.array([[12,30]])  \n",
    "x, x.shape"
   ]
  },
  {
   "cell_type": "code",
   "execution_count": null,
   "id": "0b74253c-3327-467d-8f46-b07c35c1d560",
   "metadata": {},
   "outputs": [],
   "source": [
    "y, y.shape"
   ]
  },
  {
   "cell_type": "code",
   "execution_count": null,
   "id": "3a03c16e-408b-456c-84f2-243f2d4fa089",
   "metadata": {},
   "outputs": [],
   "source": [
    "z = np.concatenate((x,y))  \n",
    "z  "
   ]
  },
  {
   "cell_type": "code",
   "execution_count": null,
   "id": "89a1c962",
   "metadata": {},
   "outputs": [],
   "source": [
    "# concatenate numpy arrays passing parameter axis=0\n",
    "x = np.array([[1,2],[3,4]])  \n",
    "y = np.array([[12,30]])  \n",
    "z = np.concatenate((x,y), axis=0)  \n",
    "z  "
   ]
  },
  {
   "cell_type": "code",
   "execution_count": null,
   "id": "0878598f",
   "metadata": {},
   "outputs": [],
   "source": [
    "# concatenate numpy arrays passing parameter axis=1\n",
    "x = np.array([[1,2],[3,4]])  \n",
    "y = np.array([[12,30]])  \n",
    "z = np.concatenate((x,y), axis=1)  \n",
    "z"
   ]
  },
  {
   "cell_type": "code",
   "execution_count": null,
   "id": "86fe4979",
   "metadata": {},
   "outputs": [],
   "source": [
    "# concatenate numpy arrays passing parameter axis=1\n",
    "x = np.array([[1,2],[3,4]])  \n",
    "y = np.array([[12,30]])  \n",
    "z = np.concatenate((x,y.T), axis=1)  \n",
    "z  "
   ]
  },
  {
   "cell_type": "code",
   "execution_count": null,
   "id": "bcf460dc",
   "metadata": {},
   "outputs": [],
   "source": [
    "# concatenate numpy arrays passing parameter axis=None\n",
    "x = np.array([[1,2],[3,4]])  \n",
    "y = np.array([[12,30]])  \n",
    "z = np.concatenate((x,y.T), axis=None)  \n",
    "z  "
   ]
  },
  {
   "cell_type": "code",
   "execution_count": null,
   "id": "6999e14b",
   "metadata": {},
   "outputs": [],
   "source": []
  },
  {
   "cell_type": "markdown",
   "id": "08a8f0b5",
   "metadata": {},
   "source": [
    "### Stack\n",
    "<img src=\"images/StackDS.jpg\" width=\"500px\" height=\"500px\">"
   ]
  },
  {
   "cell_type": "markdown",
   "id": "ac1de3ea",
   "metadata": {},
   "source": [
    "There are two ways of stacking arrays together, horizontally and vertically.\n",
    "<img src=\"images/stack.png\" height=\"600px\" width=\"600px\">"
   ]
  },
  {
   "cell_type": "code",
   "execution_count": null,
   "id": "fff4518c",
   "metadata": {},
   "outputs": [],
   "source": [
    "a = np.array([[1,2,3,4],\n",
    "             [5,6,7,8],\n",
    "             [9,10,11,12]])\n",
    "print(\"Numpy a is : \", a, sep=\"\\n\")"
   ]
  },
  {
   "cell_type": "code",
   "execution_count": null,
   "id": "5559aa1c-17e4-4ff1-816e-c71c744f9dfe",
   "metadata": {},
   "outputs": [],
   "source": [
    "\n",
    "b = np.array([[1,2,3,4],\n",
    "             [5,6,7,8]])\n",
    "print(\"Numpy b is : \", b, sep=\"\\n\")\n",
    "\n",
    "c = np.array([[1,2],\n",
    "             [3,4],\n",
    "             [5,6]])\n",
    "print(\"Numpy c is : \", c, sep=\"\\n\")"
   ]
  },
  {
   "cell_type": "code",
   "execution_count": null,
   "id": "2a3e33a4",
   "metadata": {},
   "outputs": [],
   "source": [
    "# example of vertical stack\n",
    "verticalStack = np.vstack((a,b))\n",
    "verticalStack"
   ]
  },
  {
   "cell_type": "code",
   "execution_count": null,
   "id": "ef96c897",
   "metadata": {},
   "outputs": [],
   "source": [
    "# example of horizontal stack\n",
    "horizontalStack = np.hstack((a,c))\n",
    "horizontalStack"
   ]
  },
  {
   "cell_type": "code",
   "execution_count": null,
   "id": "8641e8d0",
   "metadata": {},
   "outputs": [],
   "source": [
    "a"
   ]
  },
  {
   "cell_type": "code",
   "execution_count": null,
   "id": "bece2ce8",
   "metadata": {},
   "outputs": [],
   "source": []
  },
  {
   "cell_type": "code",
   "execution_count": null,
   "id": "68b66766",
   "metadata": {},
   "outputs": [],
   "source": []
  },
  {
   "cell_type": "markdown",
   "id": "ddbfebe6",
   "metadata": {},
   "source": [
    "# Check Concepts:\n",
    "- What is NumPy Library?\n",
    "- Why we use Numpy Library or where NumPy is used?\n",
    "- How to create 1D, 2D and 3D Array ?\n",
    "- How to get shape for 1D, 2D and 3D Array ?\n",
    "- How to identified datatyp for numpy array?\n",
    "- Print numpy array of zeros with 2 rows and 3 columns ?\n",
    "- What is difference between `np.eye()` and `np.diag()` and also give example to elaborate the difference.?\n",
    "- Print a range between 1 To 15 and show only 4 integers random numbers.\n",
    "- Print a range of random numbers having 2 row and 3 cols integers random numbers.\n",
    "- What Is The Preferred Way To Check For An Empty (zero Element) Array?\n",
    "- How many dimensions can a NumPy array have?\n",
    " > In NumPy, an array can have N-dimensions, and is called a ndarray.\n",
    "        > Ndarray is a multidimensional container which contains elements of the same type and size.\n",
    "        > The number of dimensions in a ndarray is also known as ‘rank’.\n",
    "        > A tuple of integers called ‘shape’ defines the size of the array in each dimension.\n",
    "        > The data type of elements in ndarray is defined by a ‘dtype’ object.\n",
    "- Print the last element from the 2nd dimension array.\n",
    "- Explain the operations that can be performed in NumPy.\n",
    "- What is a vector?\n",
    "- How do you represent vectors using a Python list? Give an example.\n",
    "- What is a dot product of two vectors?\n",
    "- Write a function to compute the dot product of two vectors.\n",
    "- What does it mean to import a module with an alias? Give an example.\n",
    "- What is the commonly used alias for numpy?\n",
    "- What is the type of Numpy arrays?\n",
    "- How do you access the elements of a Numpy array?\n",
    "- What happens if you try to compute the dot product of two vectors which have different sizes?"
   ]
  },
  {
   "cell_type": "code",
   "execution_count": null,
   "id": "bc326113",
   "metadata": {},
   "outputs": [],
   "source": [
    "# a = np.arange(10,17)\n",
    "# b = np.arange(1,8)\n",
    "# a,b\n",
    "# np.dot(a,b)"
   ]
  },
  {
   "cell_type": "code",
   "execution_count": null,
   "id": "329cc975",
   "metadata": {},
   "outputs": [],
   "source": []
  },
  {
   "cell_type": "code",
   "execution_count": null,
   "id": "da470109",
   "metadata": {},
   "outputs": [],
   "source": []
  },
  {
   "cell_type": "code",
   "execution_count": null,
   "id": "fed345e5",
   "metadata": {},
   "outputs": [],
   "source": []
  },
  {
   "cell_type": "code",
   "execution_count": null,
   "id": "8c41bd02",
   "metadata": {},
   "outputs": [],
   "source": []
  },
  {
   "cell_type": "code",
   "execution_count": null,
   "id": "38bd2dff",
   "metadata": {},
   "outputs": [],
   "source": []
  },
  {
   "cell_type": "code",
   "execution_count": null,
   "id": "f4c90e81",
   "metadata": {},
   "outputs": [],
   "source": []
  },
  {
   "cell_type": "code",
   "execution_count": null,
   "id": "80b7af4f",
   "metadata": {},
   "outputs": [],
   "source": []
  },
  {
   "cell_type": "code",
   "execution_count": null,
   "id": "b10e1987",
   "metadata": {},
   "outputs": [],
   "source": []
  },
  {
   "cell_type": "code",
   "execution_count": null,
   "id": "73722788",
   "metadata": {},
   "outputs": [],
   "source": []
  },
  {
   "cell_type": "code",
   "execution_count": null,
   "id": "df293d6b",
   "metadata": {},
   "outputs": [],
   "source": []
  },
  {
   "cell_type": "code",
   "execution_count": null,
   "id": "f02724ef",
   "metadata": {},
   "outputs": [],
   "source": []
  },
  {
   "cell_type": "code",
   "execution_count": null,
   "id": "2195e2bf",
   "metadata": {},
   "outputs": [],
   "source": []
  },
  {
   "cell_type": "code",
   "execution_count": null,
   "id": "708f7914",
   "metadata": {},
   "outputs": [],
   "source": []
  },
  {
   "cell_type": "markdown",
   "id": "8e18ecdf",
   "metadata": {},
   "source": [
    "# Practice Exercises"
   ]
  },
  {
   "cell_type": "markdown",
   "id": "381698c4",
   "metadata": {},
   "source": [
    "#### Exercise 1: \n",
    "Create a 4X2 integer array and Prints its attributes.    \n",
    "**Note: The element must be a type of unsigned int16. And print the following Attributes: –**\n",
    "\n",
    "- The shape of an array.\n",
    "- Array dimensions.\n",
    "- The Length of each element of the array in bytes.\n"
   ]
  },
  {
   "cell_type": "code",
   "execution_count": null,
   "id": "1e33dfc6",
   "metadata": {},
   "outputs": [],
   "source": [
    "# Here write your answer\n",
    "array = np.random.randint(10,30,size=(4,2), dtype=np.uint16)\n",
    "array"
   ]
  },
  {
   "cell_type": "code",
   "execution_count": null,
   "id": "9d743c62",
   "metadata": {},
   "outputs": [],
   "source": [
    "print(\"Array : \", array, sep=\"\\n\")\n",
    "print(\"Shape : \", array.shape)\n",
    "print(\"Dimensions : \", array.ndim)\n",
    "print(\"Size of array : \", array.size)\n",
    "print(\"Length of each element in bytes is : \", array.itemsize)\n",
    "print(\"Length of array in bytes is : \", array.nbytes)"
   ]
  },
  {
   "cell_type": "code",
   "execution_count": null,
   "id": "730e3cc1-c00b-4127-b3af-69830a912c9c",
   "metadata": {},
   "outputs": [],
   "source": []
  },
  {
   "cell_type": "markdown",
   "id": "5a45bae4",
   "metadata": {},
   "source": [
    "#### Exercise 2: \n",
    "Create a 5X2 integer array from a range between 100 to 200 such that the difference between each element is 10.    \n",
    "**Hint: Use np.arange() and reshape() function.**"
   ]
  },
  {
   "cell_type": "code",
   "execution_count": null,
   "id": "1bd870d4",
   "metadata": {
    "scrolled": true
   },
   "outputs": [],
   "source": [
    "# np.arange(100,200,10).reshape(5,2)"
   ]
  },
  {
   "cell_type": "code",
   "execution_count": null,
   "id": "b88b47c3",
   "metadata": {},
   "outputs": [],
   "source": [
    "np.linspace(100,200,num=10, dtype=int).reshape(5,2)"
   ]
  },
  {
   "cell_type": "code",
   "execution_count": null,
   "id": "3581b260",
   "metadata": {},
   "outputs": [],
   "source": [
    "# Here write your answer\n",
    "# np.arange(100,200,10).reshape(5,2)\n",
    "# np.linspace(100,200,num=10, dtype=int).reshape(5,2)"
   ]
  },
  {
   "cell_type": "code",
   "execution_count": null,
   "id": "6be08c4a",
   "metadata": {},
   "outputs": [],
   "source": []
  },
  {
   "cell_type": "markdown",
   "id": "47a0f0c6",
   "metadata": {},
   "source": [
    "#### Exercise 3: \n",
    "Following is the provided numPy array. Return array of items by taking the third column from all rows.    \n",
    "**sampleArray = numpy.array([[11 ,22, 33], [44, 55, 66], [77, 88, 99]])**"
   ]
  },
  {
   "cell_type": "code",
   "execution_count": null,
   "id": "418fb3bb",
   "metadata": {},
   "outputs": [],
   "source": [
    "# Here write your answer\n",
    "sampleArray = np.array([[11 ,22, 33], [44, 55, 66], [77, 88, 99]])\n",
    "sampleArray"
   ]
  },
  {
   "cell_type": "code",
   "execution_count": null,
   "id": "09ca1717",
   "metadata": {},
   "outputs": [],
   "source": [
    "# sampleArray[:,-1]"
   ]
  },
  {
   "cell_type": "code",
   "execution_count": null,
   "id": "f19be37c",
   "metadata": {},
   "outputs": [],
   "source": [
    "sampleArray[:,-1]"
   ]
  },
  {
   "cell_type": "code",
   "execution_count": null,
   "id": "cdcb28e0",
   "metadata": {},
   "outputs": [],
   "source": []
  },
  {
   "cell_type": "code",
   "execution_count": null,
   "id": "26c18680",
   "metadata": {},
   "outputs": [],
   "source": []
  },
  {
   "cell_type": "code",
   "execution_count": null,
   "id": "fe5891f5",
   "metadata": {},
   "outputs": [],
   "source": []
  },
  {
   "cell_type": "code",
   "execution_count": null,
   "id": "b681a4f6",
   "metadata": {},
   "outputs": [],
   "source": []
  },
  {
   "cell_type": "code",
   "execution_count": null,
   "id": "30ec5449",
   "metadata": {},
   "outputs": [],
   "source": []
  },
  {
   "cell_type": "code",
   "execution_count": null,
   "id": "ac874c4b",
   "metadata": {},
   "outputs": [],
   "source": []
  },
  {
   "cell_type": "markdown",
   "id": "d24c98a3",
   "metadata": {},
   "source": [
    "## BOUNS TASK"
   ]
  },
  {
   "cell_type": "code",
   "execution_count": null,
   "id": "30f946cc",
   "metadata": {},
   "outputs": [],
   "source": []
  },
  {
   "cell_type": "code",
   "execution_count": null,
   "id": "231eca77",
   "metadata": {},
   "outputs": [],
   "source": [
    "import numpy\n",
    "import matplotlib.pyplot as plt\n",
    "# sampleArray = numpy.array([[34,43,73],[82,22,12],[53,94,66]]) \n",
    "sampleArray = np.random.randint(10,26,(825,825))\n",
    "sampleArray\n",
    "plt.matshow(sampleArray)\n",
    "plt.show()"
   ]
  },
  {
   "cell_type": "code",
   "execution_count": null,
   "id": "11e25e67",
   "metadata": {},
   "outputs": [],
   "source": [
    "import numpy\n",
    "import matplotlib.pyplot as plt\n",
    "\n",
    "print(\"Printing Original array\")\n",
    "sampleArray = numpy.array([[34,43,73],[82,22,12],[53,94,66]]) \n",
    "print (sampleArray)\n",
    "plt.matshow(sampleArray) # ploting original array\n",
    "\n",
    "\n",
    "print(\"Array after deleting column 2 on axis 1\")\n",
    "sampleArray = numpy.delete(sampleArray , 1, axis = 1) \n",
    "print(sampleArray)\n",
    "\n",
    "arr = numpy.array([[10,10,10]])\n",
    "\n",
    "print(\"Array after inserting column 2 on axis 1\")\n",
    "sampleArray = numpy.insert(sampleArray , 1, arr, axis = 1) \n",
    "print (sampleArray)\n",
    "plt.matshow(sampleArray) # ploting after updation\n"
   ]
  },
  {
   "cell_type": "code",
   "execution_count": null,
   "id": "61ed1b8f",
   "metadata": {},
   "outputs": [],
   "source": []
  },
  {
   "cell_type": "markdown",
   "id": "df84123b",
   "metadata": {},
   "source": [
    "# NumPy - Assignment no 01\n",
    "- Here is address of [NumPy -Assignment no 01](https://www.kaggle.com/code/ehtishamsadiq/numpy-assignment-no-01)"
   ]
  },
  {
   "cell_type": "code",
   "execution_count": null,
   "id": "b98be882",
   "metadata": {},
   "outputs": [],
   "source": []
  },
  {
   "cell_type": "code",
   "execution_count": null,
   "id": "669eca27",
   "metadata": {},
   "outputs": [],
   "source": []
  },
  {
   "cell_type": "code",
   "execution_count": null,
   "id": "901c228d",
   "metadata": {},
   "outputs": [],
   "source": []
  },
  {
   "cell_type": "code",
   "execution_count": 1,
   "id": "fb383f0f",
   "metadata": {},
   "outputs": [
    {
     "data": {
      "text/html": [
       "\n",
       "    <style>\n",
       "        body {\n",
       "            background-color: #f2fff2;\n",
       "        }\n",
       "        h1 {\n",
       "            text-align: center;\n",
       "            font-weight: bold;\n",
       "            font-size: 36px;\n",
       "            color: #4295F4;\n",
       "            text-decoration: underline;\n",
       "            padding-top: 15px;\n",
       "        }\n",
       "        \n",
       "        h2 {\n",
       "            text-align: left;\n",
       "            font-weight: bold;\n",
       "            font-size: 30px;\n",
       "            color: #4A000A;\n",
       "            text-decoration: underline;\n",
       "            padding-top: 10px;\n",
       "        }\n",
       "        \n",
       "        h3 {\n",
       "            text-align: left;\n",
       "            font-weight: bold;\n",
       "            font-size: 30px;\n",
       "            color: #f0081e;\n",
       "            text-decoration: underline;\n",
       "            padding-top: 5px;\n",
       "        }\n",
       "\n",
       "        \n",
       "        p {\n",
       "            text-align: center;\n",
       "            font-size: 12 px;\n",
       "            color: #0B9923;\n",
       "        }\n",
       "    </style>\n",
       "\n",
       "<h1>Hello</h1>\n",
       "<p>Hello World</p>\n",
       "<h2> Hello</h2>\n",
       "<h3> World </h3>\n"
      ],
      "text/plain": [
       "<IPython.core.display.HTML object>"
      ]
     },
     "execution_count": 1,
     "metadata": {},
     "output_type": "execute_result"
    }
   ],
   "source": [
    "from IPython.core.display import HTML\n",
    "\n",
    "style = \"\"\"\n",
    "    <style>\n",
    "        body {\n",
    "            background-color: #f2fff2;\n",
    "        }\n",
    "        h1 {\n",
    "            text-align: center;\n",
    "            font-weight: bold;\n",
    "            font-size: 36px;\n",
    "            color: #4295F4;\n",
    "            text-decoration: underline;\n",
    "            padding-top: 15px;\n",
    "        }\n",
    "        \n",
    "        h2 {\n",
    "            text-align: left;\n",
    "            font-weight: bold;\n",
    "            font-size: 30px;\n",
    "            color: #4A000A;\n",
    "            text-decoration: underline;\n",
    "            padding-top: 10px;\n",
    "        }\n",
    "        \n",
    "        h3 {\n",
    "            text-align: left;\n",
    "            font-weight: bold;\n",
    "            font-size: 30px;\n",
    "            color: #f0081e;\n",
    "            text-decoration: underline;\n",
    "            padding-top: 5px;\n",
    "        }\n",
    "\n",
    "        \n",
    "        p {\n",
    "            text-align: center;\n",
    "            font-size: 12 px;\n",
    "            color: #0B9923;\n",
    "        }\n",
    "    </style>\n",
    "\"\"\"\n",
    "\n",
    "html_content = \"\"\"\n",
    "<h1>Hello</h1>\n",
    "<p>Hello World</p>\n",
    "<h2> Hello</h2>\n",
    "<h3> World </h3>\n",
    "\"\"\"\n",
    "\n",
    "HTML(style + html_content)"
   ]
  },
  {
   "cell_type": "code",
   "execution_count": null,
   "id": "6e353e79-711f-463e-8fa5-5612145e459a",
   "metadata": {},
   "outputs": [],
   "source": []
  }
 ],
 "metadata": {
  "kernelspec": {
   "display_name": "Python 3 (ipykernel)",
   "language": "python",
   "name": "python3"
  },
  "language_info": {
   "codemirror_mode": {
    "name": "ipython",
    "version": 3
   },
   "file_extension": ".py",
   "mimetype": "text/x-python",
   "name": "python",
   "nbconvert_exporter": "python",
   "pygments_lexer": "ipython3",
   "version": "3.11.7"
  }
 },
 "nbformat": 4,
 "nbformat_minor": 5
}
