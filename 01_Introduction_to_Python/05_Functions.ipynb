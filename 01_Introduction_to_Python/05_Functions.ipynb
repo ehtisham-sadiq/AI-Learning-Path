{
 "cells": [
  {
   "cell_type": "markdown",
   "id": "ae18f83a",
   "metadata": {},
   "source": [
    "<h1 align=\"center\" >Python-Functions </h1>"
   ]
  },
  {
   "cell_type": "code",
   "execution_count": 4,
   "id": "80f134ed",
   "metadata": {},
   "outputs": [],
   "source": [
    "# Python Introduction\n",
    "# Variables\n",
    "# Operators \n",
    "# Comments and Indentation\n",
    "# data-types: Numbers, String, List, Tuple, Dictionary \n",
    "# Control Structures: If-else, elif, Loops(for, while)\n",
    "# List and Dictionary Comprehension \n",
    "# Set (X)"
   ]
  },
  {
   "cell_type": "code",
   "execution_count": null,
   "id": "4c43f323-b7a7-4b84-844a-48d5a04bd7ae",
   "metadata": {},
   "outputs": [],
   "source": []
  },
  {
   "cell_type": "markdown",
   "id": "4377d061",
   "metadata": {},
   "source": [
    "## Learning agenda of this notebook\n",
    "\n",
    "1. What are functions in Python \n",
    "2. User Defined Functions in Python\n",
    "    - Basic Examples\n",
    "    - Docstring inside a function\n",
    "    - Passing arguments and Returning value from a function\n",
    "    - Pass by value vs Pass by reference\n",
    "3. Arguments of a Python function \n",
    "    - Positional/Required arguments\n",
    "    - Default arguments\n",
    "    - Keyword arguments\n",
    "    - Variable length arguments\n",
    "    - Arbitrary key word arguments\n",
    "4. Nested functions\n",
    "5. Understanding Scope in Python\n",
    "    - Local scope\n",
    "    - Enclosing scope\n",
    "    - Global scope\n",
    "    - Built-in Scope"
   ]
  },
  {
   "cell_type": "code",
   "execution_count": null,
   "id": "a90f98ba",
   "metadata": {},
   "outputs": [],
   "source": []
  },
  {
   "cell_type": "code",
   "execution_count": null,
   "id": "5329992b",
   "metadata": {},
   "outputs": [],
   "source": []
  },
  {
   "cell_type": "markdown",
   "id": "f7fefd5f",
   "metadata": {},
   "source": [
    "## 1. What are Functions in Python\n",
    "- A function in a programming language is group of related statements with a name that perform a specific task.\n",
    "- The code inside a function executes only when it is called, and it can be called from anywhere in the program any number of times.\n",
    "- So, functions help break our program into smaller and modular chunks, avoids repetition, makes the code reusable, organized and manageable.\n",
    "- You can pass data/parameter to a function, which carry out some operation on the data and may or may not return a result.\n",
    "- *FUNCTIONS*: Functions are created by function definitions and are called using `func(arguments)` notation\n",
    "    - *Built-in Functions*: are part of the standard Python library, e.g., `print()`, `len()`\n",
    "    - *User Defined Functions*: are defined by the programmer him/herself (can be anonymous)\n",
    "- *METHODS*: Methods are functions that are called using the attribute notation. `object.method(arguments)`\n",
    "    - *Built-in Methods*\n",
    "    - *Class Instance Methods*"
   ]
  },
  {
   "cell_type": "code",
   "execution_count": null,
   "id": "1038c5a3",
   "metadata": {},
   "outputs": [],
   "source": []
  },
  {
   "cell_type": "code",
   "execution_count": null,
   "id": "095c6dce",
   "metadata": {},
   "outputs": [],
   "source": []
  },
  {
   "cell_type": "code",
   "execution_count": 5,
   "id": "ed95e9ae",
   "metadata": {},
   "outputs": [
    {
     "name": "stdout",
     "output_type": "stream",
     "text": [
      "Functions\n",
      "*********\n",
      "\n",
      "Function objects are created by function definitions.  The only\n",
      "operation on a function object is to call it: \"func(argument-list)\".\n",
      "\n",
      "There are really two flavors of function objects: built-in functions\n",
      "and user-defined functions.  Both support the same operation (to call\n",
      "the function), but the implementation is different, hence the\n",
      "different object types.\n",
      "\n",
      "See Function definitions for more information.\n",
      "\n",
      "Related help topics: def, TYPES\n",
      "\n"
     ]
    }
   ],
   "source": [
    "help('FUNCTIONS')"
   ]
  },
  {
   "cell_type": "code",
   "execution_count": 6,
   "id": "bc07c709",
   "metadata": {},
   "outputs": [
    {
     "name": "stdout",
     "output_type": "stream",
     "text": [
      "Methods\n",
      "*******\n",
      "\n",
      "Methods are functions that are called using the attribute notation.\n",
      "There are two flavors: built-in methods (such as \"append()\" on lists)\n",
      "and class instance methods.  Built-in methods are described with the\n",
      "types that support them.\n",
      "\n",
      "If you access a method (a function defined in a class namespace)\n",
      "through an instance, you get a special object: a *bound method* (also\n",
      "called *instance method*) object. When called, it will add the \"self\"\n",
      "argument to the argument list.  Bound methods have two special read-\n",
      "only attributes: \"m.__self__\" is the object on which the method\n",
      "operates, and \"m.__func__\" is the function implementing the method.\n",
      "Calling \"m(arg-1, arg-2, ..., arg-n)\" is completely equivalent to\n",
      "calling \"m.__func__(m.__self__, arg-1, arg-2, ..., arg-n)\".\n",
      "\n",
      "Like function objects, bound method objects support getting arbitrary\n",
      "attributes.  However, since method attributes are actually stored on\n",
      "the underlying function object (\"meth.__func__\"), setting method\n",
      "attributes on bound methods is disallowed.  Attempting to set an\n",
      "attribute on a method results in an \"AttributeError\" being raised.  In\n",
      "order to set a method attribute, you need to explicitly set it on the\n",
      "underlying function object:\n",
      "\n",
      "   >>> class C:\n",
      "   ...     def method(self):\n",
      "   ...         pass\n",
      "   ...\n",
      "   >>> c = C()\n",
      "   >>> c.method.whoami = 'my name is method'  # can't set on the method\n",
      "   Traceback (most recent call last):\n",
      "     File \"<stdin>\", line 1, in <module>\n",
      "   AttributeError: 'method' object has no attribute 'whoami'\n",
      "   >>> c.method.__func__.whoami = 'my name is method'\n",
      "   >>> c.method.whoami\n",
      "   'my name is method'\n",
      "\n",
      "See The standard type hierarchy for more information.\n",
      "\n",
      "Related help topics: class, def, CLASSES, TYPES\n",
      "\n"
     ]
    }
   ],
   "source": [
    "help('METHODS')"
   ]
  },
  {
   "cell_type": "code",
   "execution_count": null,
   "id": "904cf5cd",
   "metadata": {},
   "outputs": [],
   "source": []
  },
  {
   "cell_type": "code",
   "execution_count": null,
   "id": "d4345a8f",
   "metadata": {},
   "outputs": [],
   "source": []
  },
  {
   "cell_type": "markdown",
   "id": "0ca4bb39",
   "metadata": {},
   "source": [
    "## 2. How to Create User Defined Functions in Python\n",
    "<img align=\"center\" width=\"500\" height=\"300\"  src=\"images/func1.png\" > "
   ]
  },
  {
   "cell_type": "code",
   "execution_count": null,
   "id": "8d44e376",
   "metadata": {},
   "outputs": [],
   "source": []
  },
  {
   "cell_type": "markdown",
   "id": "efe504e4",
   "metadata": {},
   "source": [
    "### a. Basic Example of a Python Function"
   ]
  },
  {
   "cell_type": "code",
   "execution_count": 7,
   "id": "c4751b3d",
   "metadata": {},
   "outputs": [],
   "source": [
    "#defining a function\n",
    "def func1():\n",
    "    print(\"This is example of a function!\")\n",
    "    print(\"Functions in Python\")\n",
    "    return 6+5"
   ]
  },
  {
   "cell_type": "code",
   "execution_count": 8,
   "id": "8e1296a3",
   "metadata": {},
   "outputs": [
    {
     "name": "stdout",
     "output_type": "stream",
     "text": [
      "This is example of a function!\n",
      "Functions in Python\n"
     ]
    },
    {
     "data": {
      "text/plain": [
       "11"
      ]
     },
     "execution_count": 8,
     "metadata": {},
     "output_type": "execute_result"
    }
   ],
   "source": [
    "#calling a function (A function must be defined before it is called)\n",
    "func1()"
   ]
  },
  {
   "cell_type": "code",
   "execution_count": null,
   "id": "51bdcc9a",
   "metadata": {},
   "outputs": [],
   "source": []
  },
  {
   "cell_type": "code",
   "execution_count": null,
   "id": "1521d402",
   "metadata": {},
   "outputs": [],
   "source": []
  },
  {
   "cell_type": "markdown",
   "id": "6b55cae4",
   "metadata": {},
   "source": [
    "### b. Docstring inside a Function\n",
    "- We can add some documentation within our function using a *docstring*. \n",
    "- A docstring is simply a string that appears as the first statement within the function body, and is used by the `help` function. \n",
    "- A good docstring describes what the function does, and provides some explanation about the arguments."
   ]
  },
  {
   "cell_type": "code",
   "execution_count": 9,
   "id": "c7865185",
   "metadata": {},
   "outputs": [
    {
     "name": "stdout",
     "output_type": "stream",
     "text": [
      "Welcome to Learning Functions in Python\n",
      "Functions are reuseable set of code!\n"
     ]
    }
   ],
   "source": [
    "#defining a function\n",
    "def func1():\n",
    "    \"\"\" This is a docstring that describes what the function do\n",
    "        It simply display a welcome message\n",
    "        \"\"\"\n",
    "    print(\"Welcome to Learning Functions in Python\")\n",
    "    print(\"Functions are reuseable set of code!\")\n",
    "\n",
    "#calling a function\n",
    "func1()"
   ]
  },
  {
   "cell_type": "code",
   "execution_count": null,
   "id": "81fc89e4",
   "metadata": {},
   "outputs": [],
   "source": []
  },
  {
   "cell_type": "code",
   "execution_count": 10,
   "id": "5d7e47da",
   "metadata": {},
   "outputs": [
    {
     "name": "stdout",
     "output_type": "stream",
     "text": [
      " This is a docstring that describes what the function do\n",
      "        It simply display a welcome message\n",
      "        \n"
     ]
    }
   ],
   "source": [
    "# We can access the docstring using the built-in command __doc__. \n",
    "# Any identifier that starts with a double underscore is a Python builtin command\n",
    "# func1.__doc__\n",
    "print(func1.__doc__)"
   ]
  },
  {
   "cell_type": "code",
   "execution_count": 12,
   "id": "d31cdf97-58d7-4be5-8cba-4163802a0079",
   "metadata": {},
   "outputs": [
    {
     "data": {
      "text/plain": [
       "['__annotations__',\n",
       " '__builtins__',\n",
       " '__call__',\n",
       " '__class__',\n",
       " '__closure__',\n",
       " '__code__',\n",
       " '__defaults__',\n",
       " '__delattr__',\n",
       " '__dict__',\n",
       " '__dir__',\n",
       " '__doc__',\n",
       " '__eq__',\n",
       " '__format__',\n",
       " '__ge__',\n",
       " '__get__',\n",
       " '__getattribute__',\n",
       " '__getstate__',\n",
       " '__globals__',\n",
       " '__gt__',\n",
       " '__hash__',\n",
       " '__init__',\n",
       " '__init_subclass__',\n",
       " '__kwdefaults__',\n",
       " '__le__',\n",
       " '__lt__',\n",
       " '__module__',\n",
       " '__name__',\n",
       " '__ne__',\n",
       " '__new__',\n",
       " '__qualname__',\n",
       " '__reduce__',\n",
       " '__reduce_ex__',\n",
       " '__repr__',\n",
       " '__setattr__',\n",
       " '__sizeof__',\n",
       " '__str__',\n",
       " '__subclasshook__']"
      ]
     },
     "execution_count": 12,
     "metadata": {},
     "output_type": "execute_result"
    }
   ],
   "source": [
    "dir(func1)"
   ]
  },
  {
   "cell_type": "code",
   "execution_count": 15,
   "id": "699c7c89",
   "metadata": {},
   "outputs": [
    {
     "name": "stdout",
     "output_type": "stream",
     "text": [
      "Help on function func1 in module __main__:\n",
      "\n",
      "func1()\n",
      "    This is a docstring that describes what the function do\n",
      "    It simply display a welcome message\n",
      "\n"
     ]
    }
   ],
   "source": [
    "help(func1)"
   ]
  },
  {
   "cell_type": "code",
   "execution_count": null,
   "id": "9b616fba",
   "metadata": {},
   "outputs": [],
   "source": []
  },
  {
   "cell_type": "code",
   "execution_count": null,
   "id": "d7efd327",
   "metadata": {},
   "outputs": [],
   "source": []
  },
  {
   "cell_type": "markdown",
   "id": "47ba9a3d",
   "metadata": {},
   "source": [
    "### c. Returning value from a Function\n",
    "* The Python `return` statement is used to end the execution of the function or method and send the function’s result back to the caller. A return statement consists of the `return` keyword followed by an optional return value.\n",
    "* The statements (if any) after the `return` statement are not executed.\n",
    "* A Python function or method can return numeric values (int, float, and complex values), collections and sequences of objects (list, tuple, dictionary, or set objects), user-defined objects, classes, functions, and even modules or packages.\n",
    "* You can use a return statement to return multiple values from a function. To do that, you just need to supply several return values separated by commas."
   ]
  },
  {
   "cell_type": "code",
   "execution_count": null,
   "id": "2316cce7",
   "metadata": {},
   "outputs": [],
   "source": []
  },
  {
   "cell_type": "code",
   "execution_count": 16,
   "id": "978b8814",
   "metadata": {},
   "outputs": [
    {
     "name": "stdout",
     "output_type": "stream",
     "text": [
      "The \"return\" statement\n",
      "**********************\n",
      "\n",
      "   return_stmt ::= \"return\" [expression_list]\n",
      "\n",
      "\"return\" may only occur syntactically nested in a function definition,\n",
      "not within a nested class definition.\n",
      "\n",
      "If an expression list is present, it is evaluated, else \"None\" is\n",
      "substituted.\n",
      "\n",
      "\"return\" leaves the current function call with the expression list (or\n",
      "\"None\") as return value.\n",
      "\n",
      "When \"return\" passes control out of a \"try\" statement with a \"finally\"\n",
      "clause, that \"finally\" clause is executed before really leaving the\n",
      "function.\n",
      "\n",
      "In a generator function, the \"return\" statement indicates that the\n",
      "generator is done and will cause \"StopIteration\" to be raised. The\n",
      "returned value (if any) is used as an argument to construct\n",
      "\"StopIteration\" and becomes the \"StopIteration.value\" attribute.\n",
      "\n",
      "In an asynchronous generator function, an empty \"return\" statement\n",
      "indicates that the asynchronous generator is done and will cause\n",
      "\"StopAsyncIteration\" to be raised.  A non-empty \"return\" statement is\n",
      "a syntax error in an asynchronous generator function.\n",
      "\n",
      "Related help topics: FUNCTIONS\n",
      "\n"
     ]
    }
   ],
   "source": [
    "help('return')"
   ]
  },
  {
   "cell_type": "code",
   "execution_count": 17,
   "id": "a370f371",
   "metadata": {},
   "outputs": [
    {
     "name": "stdout",
     "output_type": "stream",
     "text": [
      "5 + 9 =  14\n"
     ]
    }
   ],
   "source": [
    "#defining a function\n",
    "def mysum2():  \n",
    "    total = 5 + 9\n",
    "    return total\n",
    "\n",
    "#calling a function\n",
    "rv = mysum2()\n",
    "print(\"5 + 9 = \", rv)"
   ]
  },
  {
   "cell_type": "code",
   "execution_count": 18,
   "id": "74a7838e",
   "metadata": {},
   "outputs": [
    {
     "name": "stdout",
     "output_type": "stream",
     "text": [
      "('hello', 'bye')\n"
     ]
    }
   ],
   "source": [
    "#Returning multiple values from a function\n",
    "def func():  \n",
    "    str1 = \"hello\"\n",
    "    str2= \"bye\"\n",
    "    return str1, str2\n",
    "rv = func()\n",
    "print(rv)"
   ]
  },
  {
   "cell_type": "code",
   "execution_count": 19,
   "id": "4d697f4e",
   "metadata": {},
   "outputs": [
    {
     "name": "stdout",
     "output_type": "stream",
     "text": [
      "hello\n",
      "bye\n"
     ]
    }
   ],
   "source": [
    "#calling a function\n",
    "rv1, rv2 = func()\n",
    "print(rv1)\n",
    "print(rv2)"
   ]
  },
  {
   "cell_type": "code",
   "execution_count": null,
   "id": "6c71140a",
   "metadata": {},
   "outputs": [],
   "source": []
  },
  {
   "cell_type": "code",
   "execution_count": null,
   "id": "c71aefab",
   "metadata": {},
   "outputs": [],
   "source": []
  },
  {
   "cell_type": "markdown",
   "id": "ab9d1b5e",
   "metadata": {},
   "source": [
    "### d. Arguments to a Python Function\n",
    "- Functions can accept zero or more values as *inputs* (also knows as *arguments* or *parameters*). Arguments help us write flexible functions that can perform the same operations on different values. Further, functions can return a result that can be stored in a variable or used in other expressions.\n",
    "- Arguments are called **required arguments** means that if your function expects 2 arguments, you have to call the function with 2 arguments, not more, and not less.\n",
    "- Arguments are called **positional arguments** because while calling the function, the arguments must be passed in the correct positional order to get the desired result. e.g., in case of `subtract(a, b)`"
   ]
  },
  {
   "cell_type": "code",
   "execution_count": null,
   "id": "272a4ebc",
   "metadata": {},
   "outputs": [],
   "source": []
  },
  {
   "cell_type": "code",
   "execution_count": 20,
   "id": "8e8201b9",
   "metadata": {},
   "outputs": [
    {
     "name": "stdout",
     "output_type": "stream",
     "text": [
      "18  +  15  =  33\n"
     ]
    }
   ],
   "source": [
    "# A function that is passed two numbers and it returns their sum\n",
    "def mysum3(a, b):  \n",
    "    \"\"\"Calculates and return the sum of two numbers.\n",
    "    Arguments:\n",
    "       a - First number \n",
    "       b - Second number\n",
    "    \"\"\"\n",
    "    total = a + b\n",
    "    return total\n",
    "    print(\"I'm in function\")\n",
    "\n",
    "#calling a function\n",
    "x = 18\n",
    "y = 15\n",
    "rv = mysum3(x, y)\n",
    "print(x, \" + \", y, \" = \", rv)"
   ]
  },
  {
   "cell_type": "code",
   "execution_count": 21,
   "id": "eec70cae",
   "metadata": {},
   "outputs": [
    {
     "name": "stdout",
     "output_type": "stream",
     "text": [
      "Help on function mysum3 in module __main__:\n",
      "\n",
      "mysum3(a, b)\n",
      "    Calculates and return the sum of two numbers.\n",
      "    Arguments:\n",
      "       a - First number \n",
      "       b - Second number\n",
      "\n"
     ]
    }
   ],
   "source": [
    "help(mysum3)"
   ]
  },
  {
   "cell_type": "code",
   "execution_count": 22,
   "id": "cb5c9860",
   "metadata": {},
   "outputs": [
    {
     "ename": "TypeError",
     "evalue": "mysum3() takes 2 positional arguments but 3 were given",
     "output_type": "error",
     "traceback": [
      "\u001b[0;31m---------------------------------------------------------------------------\u001b[0m",
      "\u001b[0;31mTypeError\u001b[0m                                 Traceback (most recent call last)",
      "Cell \u001b[0;32mIn[22], line 1\u001b[0m\n\u001b[0;32m----> 1\u001b[0m mysum3(\u001b[38;5;241m2\u001b[39m,\u001b[38;5;241m3\u001b[39m,\u001b[38;5;241m4\u001b[39m)\n",
      "\u001b[0;31mTypeError\u001b[0m: mysum3() takes 2 positional arguments but 3 were given"
     ]
    }
   ],
   "source": [
    "mysum3(2,3,4)"
   ]
  },
  {
   "cell_type": "code",
   "execution_count": 23,
   "id": "fb89aa2a",
   "metadata": {},
   "outputs": [],
   "source": [
    "# A function that receives a list and returns a List data type containing sub-list containing even numbers\n",
    "def filter_even_odd(list1):\n",
    "    new_even = []\n",
    "    new_odd = []\n",
    "    for i in list1:\n",
    "        if i%2==0:\n",
    "            new_even.append(i)\n",
    "        else:\n",
    "            new_odd.append(i)\n",
    "            \n",
    "    print(\"List of even numbers is : \", new_even)\n",
    "    print(\"List of odd numbers is  : \", new_odd)"
   ]
  },
  {
   "cell_type": "code",
   "execution_count": 24,
   "id": "94b2929c",
   "metadata": {},
   "outputs": [
    {
     "name": "stdout",
     "output_type": "stream",
     "text": [
      "List of even numbers is :  [4, 56, 66, 34, 34, 34, 534, 54]\n",
      "List of odd numbers is  :  [3, 5, 7, 7, 65, 435, 5, 543, 5, 345]\n"
     ]
    }
   ],
   "source": [
    "list2 = [3,4,5,56,66,7,7,65,34,34,435,34,5,534,54,543,5,345]\n",
    "filter_even_odd(list2)"
   ]
  },
  {
   "cell_type": "code",
   "execution_count": null,
   "id": "9910e502",
   "metadata": {},
   "outputs": [],
   "source": []
  },
  {
   "cell_type": "markdown",
   "id": "a774b7e0",
   "metadata": {},
   "source": [
    "### e.  Pass by value vs Pass by reference\n",
    "- All arguments (less intrinsic types) in Python are passed by reference. It means if you change what a parameter refers to within a function, the change also reflects back in the calling function."
   ]
  },
  {
   "cell_type": "markdown",
   "id": "ff507c74",
   "metadata": {},
   "source": [
    "![](images/pass-by-reference-vs-pass-by-value-animation.gif)"
   ]
  },
  {
   "cell_type": "code",
   "execution_count": 25,
   "id": "db5d17ae",
   "metadata": {},
   "outputs": [
    {
     "name": "stdout",
     "output_type": "stream",
     "text": [
      "Before calling:  Ali\n",
      "After calling:  Ali\n"
     ]
    }
   ],
   "source": [
    "# Function arguments of intrinsic types like int, float, strings are passed by value\n",
    "def myfunc(nam):\n",
    "    nam = \"Ehtisham\"\n",
    "    return nam\n",
    "\n",
    "a = \"Ali\"\n",
    "print(\"Before calling: \", a)\n",
    "\n",
    "rv = myfunc(a)\n",
    "print(\"After calling: \", a)"
   ]
  },
  {
   "cell_type": "code",
   "execution_count": 29,
   "id": "d11cdf0f",
   "metadata": {},
   "outputs": [
    {
     "name": "stdout",
     "output_type": "stream",
     "text": [
      "(10, 20, 30, 11, 21, 31)\n",
      "10 20 30\n"
     ]
    }
   ],
   "source": [
    "# Function arguments of intrinsic types like int, float, strings are passed by value\n",
    "def myfunc(x, y, z):\n",
    "    a = x + 1\n",
    "    b = y + 1\n",
    "    c = z + 1\n",
    "    return x, y, z,a,b,c\n",
    "\n",
    "a = 10\n",
    "b = 20\n",
    "c = 30\n",
    "\n",
    "rv = myfunc(a, b, c)\n",
    "print(rv)\n",
    "print(a, b, c)"
   ]
  },
  {
   "cell_type": "code",
   "execution_count": 30,
   "id": "3eaec931",
   "metadata": {},
   "outputs": [
    {
     "name": "stdout",
     "output_type": "stream",
     "text": [
      "Before calling:  ['a', 'b', 'c', 'd', 'e', 'f']\n",
      "After calling:  ['a', 'b', 'x', 'd', 'e', 'f']\n"
     ]
    }
   ],
   "source": [
    "# Lists, Tuples, Sets, and Dictionary objects are passed to functions as reference\n",
    "# The changes made by the callee are visible to the caller (but not for tuples as they are immutable)\n",
    "def func1(l1):\n",
    "    l1[2] = 'x'\n",
    "    \n",
    "mylist = ['a', 'b', 'c', 'd', 'e', 'f']\n",
    "print(\"Before calling: \", mylist)\n",
    "\n",
    "func1(mylist)\n",
    "print(\"After calling: \", mylist)"
   ]
  },
  {
   "cell_type": "code",
   "execution_count": 31,
   "id": "05bd102a",
   "metadata": {},
   "outputs": [
    {
     "name": "stdout",
     "output_type": "stream",
     "text": [
      "Before calling:  ['a', 'b', 'c', 'd', 'e', 'f']\n",
      "List l3 is local to the function having:  ['x', 'c', 'd']\n",
      "After calling:  ['a', 'b', 'c', 'd', 'y', 'f']\n"
     ]
    }
   ],
   "source": [
    "# Example: \n",
    "def func1(list2):\n",
    "    list2[4]='y'\n",
    "    l3 = list2[1:4]\n",
    "    l3[0] = 'x'\n",
    "    print(\"List l3 is local to the function having: \", l3)\n",
    "    \n",
    "list1 = ['a', 'b', 'c', 'd', 'e', 'f']\n",
    "print(\"Before calling: \", list1)\n",
    "\n",
    "func1(list1)\n",
    "print(\"After calling: \", list1)"
   ]
  },
  {
   "cell_type": "code",
   "execution_count": null,
   "id": "b72ee63b",
   "metadata": {},
   "outputs": [],
   "source": []
  },
  {
   "cell_type": "code",
   "execution_count": 32,
   "id": "bffa44b9",
   "metadata": {},
   "outputs": [
    {
     "name": "stdout",
     "output_type": "stream",
     "text": [
      "Before calling list1:  ['a', 'b', 'c', 'd', 'e', 'f']\n",
      "List l3 is local to the function having:  ['b', 'c', 'd']\n",
      "After calling list1:  ['a', 'b', 'c', 'd', 'e', 'f']\n",
      "Returned list is :  ['b', 'c', 'd']\n"
     ]
    }
   ],
   "source": [
    "# Example: \n",
    "def func1(list2):\n",
    "    l3 = list2[1:4]\n",
    "    print(\"List l3 is local to the function having: \", l3)\n",
    "    return l3\n",
    "    \n",
    "list1 = ['a', 'b', 'c', 'd', 'e', 'f']\n",
    "print(\"Before calling list1: \", list1)\n",
    " \n",
    "returned_list = func1(list1)\n",
    "print(\"After calling list1: \", list1)\n",
    "print(\"Returned list is : \", returned_list)"
   ]
  },
  {
   "cell_type": "code",
   "execution_count": 33,
   "id": "85b1e826",
   "metadata": {},
   "outputs": [
    {
     "name": "stdout",
     "output_type": "stream",
     "text": [
      "Before calling:  ('a', 'b', 'c', 'd', 'e', 'f')\n"
     ]
    },
    {
     "ename": "TypeError",
     "evalue": "'tuple' object does not support item assignment",
     "output_type": "error",
     "traceback": [
      "\u001b[0;31m---------------------------------------------------------------------------\u001b[0m",
      "\u001b[0;31mTypeError\u001b[0m                                 Traceback (most recent call last)",
      "Cell \u001b[0;32mIn[33], line 8\u001b[0m\n\u001b[1;32m      5\u001b[0m mytuple \u001b[38;5;241m=\u001b[39m (\u001b[38;5;124m'\u001b[39m\u001b[38;5;124ma\u001b[39m\u001b[38;5;124m'\u001b[39m, \u001b[38;5;124m'\u001b[39m\u001b[38;5;124mb\u001b[39m\u001b[38;5;124m'\u001b[39m, \u001b[38;5;124m'\u001b[39m\u001b[38;5;124mc\u001b[39m\u001b[38;5;124m'\u001b[39m, \u001b[38;5;124m'\u001b[39m\u001b[38;5;124md\u001b[39m\u001b[38;5;124m'\u001b[39m, \u001b[38;5;124m'\u001b[39m\u001b[38;5;124me\u001b[39m\u001b[38;5;124m'\u001b[39m, \u001b[38;5;124m'\u001b[39m\u001b[38;5;124mf\u001b[39m\u001b[38;5;124m'\u001b[39m)\n\u001b[1;32m      6\u001b[0m \u001b[38;5;28mprint\u001b[39m(\u001b[38;5;124m\"\u001b[39m\u001b[38;5;124mBefore calling: \u001b[39m\u001b[38;5;124m\"\u001b[39m, mytuple)\n\u001b[0;32m----> 8\u001b[0m func1(mytuple)\n\u001b[1;32m      9\u001b[0m \u001b[38;5;28mprint\u001b[39m(\u001b[38;5;124m\"\u001b[39m\u001b[38;5;124mAfter calling: \u001b[39m\u001b[38;5;124m\"\u001b[39m, mytuple)\n",
      "Cell \u001b[0;32mIn[33], line 3\u001b[0m, in \u001b[0;36mfunc1\u001b[0;34m(t1)\u001b[0m\n\u001b[1;32m      2\u001b[0m \u001b[38;5;28;01mdef\u001b[39;00m \u001b[38;5;21mfunc1\u001b[39m(t1):\n\u001b[0;32m----> 3\u001b[0m     t1[\u001b[38;5;241m2\u001b[39m] \u001b[38;5;241m=\u001b[39m \u001b[38;5;124m'\u001b[39m\u001b[38;5;124mx\u001b[39m\u001b[38;5;124m'\u001b[39m\n",
      "\u001b[0;31mTypeError\u001b[0m: 'tuple' object does not support item assignment"
     ]
    }
   ],
   "source": [
    "# Tuples are mutable: proof of concept\n",
    "def func1(t1):\n",
    "    t1[2] = 'x'\n",
    "    \n",
    "mytuple = ('a', 'b', 'c', 'd', 'e', 'f')\n",
    "print(\"Before calling: \", mytuple)\n",
    "\n",
    "func1(mytuple)\n",
    "print(\"After calling: \", mytuple)"
   ]
  },
  {
   "cell_type": "markdown",
   "id": "bff3c86a",
   "metadata": {},
   "source": [
    "**A List sorting example to differentiate between Pass By Value and Pass by Reference**"
   ]
  },
  {
   "cell_type": "code",
   "execution_count": null,
   "id": "d7f701a5",
   "metadata": {},
   "outputs": [],
   "source": []
  },
  {
   "cell_type": "code",
   "execution_count": 34,
   "id": "d32f7b98",
   "metadata": {},
   "outputs": [
    {
     "name": "stdout",
     "output_type": "stream",
     "text": [
      "Passed list is sorted:  [-6, 2, 8, 15, 25]\n",
      "Returned value:  None\n"
     ]
    }
   ],
   "source": [
    "# Example: The function sort the list that is passed by reference (Selection Sort)\n",
    "def sel_sort1(mylist):  \n",
    "    for i in range(len(mylist)):\n",
    "        min_idx = i\n",
    "        for j in range(i+1, len(mylist)):\n",
    "            if mylist[min_idx] > mylist[j]:\n",
    "                min_idx = j  \n",
    "        mylist[i], mylist[min_idx] = mylist[min_idx], mylist[i] # Swap minimum element with the first element\n",
    "\n",
    "numbers = [25, 15, -6, 8, 2]\n",
    "rv = sel_sort1(numbers)\n",
    "print(\"Passed list is sorted: \", numbers)\n",
    "print(\"Returned value: \", rv)"
   ]
  },
  {
   "cell_type": "code",
   "execution_count": null,
   "id": "1e2db1a7",
   "metadata": {},
   "outputs": [],
   "source": []
  },
  {
   "cell_type": "code",
   "execution_count": null,
   "id": "ea8722d4",
   "metadata": {},
   "outputs": [],
   "source": []
  },
  {
   "cell_type": "code",
   "execution_count": 35,
   "id": "0dd8c748",
   "metadata": {},
   "outputs": [
    {
     "name": "stdout",
     "output_type": "stream",
     "text": [
      "Returned list:  [-6, 2, 8, 15, 25]\n",
      "Passed list is unchanged:  [25, 15, -6, 8, 2]\n"
     ]
    }
   ],
   "source": [
    "# Example: The function creates a new copy of the list that is passed by reference, sort the copy and return\n",
    "# The passed list remains unchanged\n",
    "def sel_sort2(mylist):\n",
    "    newlist = mylist[:]\n",
    "    for i in range(len(mylist)):\n",
    "        min_idx = i\n",
    "        for j in range(i+1, len(mylist)):\n",
    "            if newlist[min_idx] > newlist[j]:\n",
    "                min_idx = j  \n",
    "        newlist[i], newlist[min_idx] = newlist[min_idx], newlist[i] # Swap minimum element with the first element\n",
    "    return newlist\n",
    "\n",
    "numbers = [25, 15, -6, 8, 2]\n",
    "rv = sel_sort2(numbers)\n",
    "print(\"Returned list: \", rv)\n",
    "print(\"Passed list is unchanged: \", numbers)"
   ]
  },
  {
   "cell_type": "code",
   "execution_count": null,
   "id": "73f6dcaa",
   "metadata": {},
   "outputs": [],
   "source": []
  },
  {
   "cell_type": "code",
   "execution_count": null,
   "id": "c994160f",
   "metadata": {},
   "outputs": [],
   "source": []
  },
  {
   "cell_type": "markdown",
   "id": "929039be",
   "metadata": {},
   "source": [
    "## 3. Function Arguments in Python\n",
    "- There are following points that one needs to keep in mind while using arguments in Python functions:\n",
    "    - Required Arguments / Positional arguments\n",
    "    - Default Arguments\n",
    "    - Named/Keyword Arguments\n",
    "    - Variable length Arguments\n",
    "    - Arbitrary Keyword Arguments"
   ]
  },
  {
   "cell_type": "markdown",
   "id": "853c5dfb",
   "metadata": {},
   "source": [
    "### a. Required/Positional arguments\n",
    "- If a function expect two arguments, you have to call the function with exactly two arguments.\n",
    "- Moreover, arguments must be passed in correct positional order to get the desired result."
   ]
  },
  {
   "cell_type": "code",
   "execution_count": 36,
   "id": "9389e0ab",
   "metadata": {},
   "outputs": [],
   "source": [
    "def mysub(a, b):\n",
    "    return a - b"
   ]
  },
  {
   "cell_type": "code",
   "execution_count": 37,
   "id": "321937ce",
   "metadata": {},
   "outputs": [
    {
     "data": {
      "text/plain": [
       "5"
      ]
     },
     "execution_count": 37,
     "metadata": {},
     "output_type": "execute_result"
    }
   ],
   "source": [
    "x = 8\n",
    "y = 3\n",
    "# calling a function with both arguments (order matters)\n",
    "rv = mysub(x, y)\n",
    "rv"
   ]
  },
  {
   "cell_type": "code",
   "execution_count": 38,
   "id": "5b663c30",
   "metadata": {},
   "outputs": [
    {
     "ename": "TypeError",
     "evalue": "mysub() missing 1 required positional argument: 'b'",
     "output_type": "error",
     "traceback": [
      "\u001b[0;31m---------------------------------------------------------------------------\u001b[0m",
      "\u001b[0;31mTypeError\u001b[0m                                 Traceback (most recent call last)",
      "Cell \u001b[0;32mIn[38], line 1\u001b[0m\n\u001b[0;32m----> 1\u001b[0m mysub(x)\n",
      "\u001b[0;31mTypeError\u001b[0m: mysub() missing 1 required positional argument: 'b'"
     ]
    }
   ],
   "source": [
    "mysub(x)"
   ]
  },
  {
   "cell_type": "code",
   "execution_count": 39,
   "id": "28b3f3c7",
   "metadata": {},
   "outputs": [
    {
     "ename": "TypeError",
     "evalue": "mysub() takes 2 positional arguments but 3 were given",
     "output_type": "error",
     "traceback": [
      "\u001b[0;31m---------------------------------------------------------------------------\u001b[0m",
      "\u001b[0;31mTypeError\u001b[0m                                 Traceback (most recent call last)",
      "Cell \u001b[0;32mIn[39], line 1\u001b[0m\n\u001b[0;32m----> 1\u001b[0m mysub(\u001b[38;5;241m3\u001b[39m, \u001b[38;5;241m2\u001b[39m, \u001b[38;5;241m4\u001b[39m)\n",
      "\u001b[0;31mTypeError\u001b[0m: mysub() takes 2 positional arguments but 3 were given"
     ]
    }
   ],
   "source": [
    "mysub(3, 2, 4)"
   ]
  },
  {
   "cell_type": "code",
   "execution_count": null,
   "id": "ec417af7",
   "metadata": {},
   "outputs": [],
   "source": []
  },
  {
   "cell_type": "code",
   "execution_count": null,
   "id": "000c9263",
   "metadata": {},
   "outputs": [],
   "source": []
  },
  {
   "cell_type": "markdown",
   "id": "6360f7ac",
   "metadata": {},
   "source": [
    "### b. Default arguments\n",
    "- In a function definition, we can assign default values to arguments.\n",
    "- During function call, if a value is not passed to that argument, the function assumes the default value."
   ]
  },
  {
   "cell_type": "code",
   "execution_count": 40,
   "id": "0f05f612",
   "metadata": {},
   "outputs": [],
   "source": [
    "# Function with default arguments\n",
    "def display(name = 'Ali', age = 18):\n",
    "    print (\"Name: \", name, \", Age: \", age)\n",
    "    return;"
   ]
  },
  {
   "cell_type": "code",
   "execution_count": 41,
   "id": "af661947",
   "metadata": {},
   "outputs": [
    {
     "name": "stdout",
     "output_type": "stream",
     "text": [
      "Name:  Ali , Age:  18\n"
     ]
    }
   ],
   "source": [
    "# calling a function\n",
    "display()"
   ]
  },
  {
   "cell_type": "code",
   "execution_count": 42,
   "id": "29bed5b7",
   "metadata": {},
   "outputs": [
    {
     "name": "stdout",
     "output_type": "stream",
     "text": [
      "Name:  Ehtisham , Age:  22\n"
     ]
    }
   ],
   "source": [
    "# calling a function with both arguments (order matters)\n",
    "display(\"Ehtisham\", 22)"
   ]
  },
  {
   "cell_type": "code",
   "execution_count": 43,
   "id": "78370e34",
   "metadata": {},
   "outputs": [
    {
     "name": "stdout",
     "output_type": "stream",
     "text": [
      "Name:  Ayesha , Age:  18\n"
     ]
    }
   ],
   "source": [
    "# calling a function with one argument only (the default value of age will be printed)\n",
    "display(\"Ayesha\" )"
   ]
  },
  {
   "cell_type": "code",
   "execution_count": 44,
   "id": "68e1c341",
   "metadata": {},
   "outputs": [
    {
     "name": "stdout",
     "output_type": "stream",
     "text": [
      "Name:  51 , Age:  18\n"
     ]
    }
   ],
   "source": [
    "# You cannot skip the first default argument and give the second\n",
    "display(51 )\n",
    "#Solution is keyword arguments (discussed below)"
   ]
  },
  {
   "cell_type": "code",
   "execution_count": null,
   "id": "4cd04873",
   "metadata": {},
   "outputs": [],
   "source": []
  },
  {
   "cell_type": "markdown",
   "id": "22e9c9dd",
   "metadata": {},
   "source": [
    "### c. Keyword/Named arguments\n",
    "- If you want to bypass the positional argument rule, we can pass arguments in any order by mentioning their parameter names, which the function definition is expecting.\n",
    "- Using **keyword/named arguments**, a programmer can pass arguments in any order by mentioning their parameter names while calling the function"
   ]
  },
  {
   "cell_type": "code",
   "execution_count": 45,
   "id": "93177a85",
   "metadata": {},
   "outputs": [
    {
     "name": "stdout",
     "output_type": "stream",
     "text": [
      "Name:  22 , Age:  Ehtisham\n"
     ]
    }
   ],
   "source": [
    "# Function calling with key word arguments\n",
    "def display(name, age):\n",
    "    print (\"Name: \", name, \", Age: \", age)\n",
    "    return;\n",
    "\n",
    "# Sequence/order of arguments matter\n",
    "display(22, \"Ehtisham\")"
   ]
  },
  {
   "cell_type": "code",
   "execution_count": 46,
   "id": "71cf6ca4",
   "metadata": {},
   "outputs": [
    {
     "name": "stdout",
     "output_type": "stream",
     "text": [
      "Name:  Ehtisham , Age:  22\n"
     ]
    }
   ],
   "source": [
    "# Sequence/order of arguments DOES NOT matter now\n",
    "display(age=22, name=\"Ehtisham\") # passing parameters in any order using keyword argument "
   ]
  },
  {
   "cell_type": "code",
   "execution_count": null,
   "id": "4635625f",
   "metadata": {},
   "outputs": [],
   "source": []
  },
  {
   "cell_type": "markdown",
   "id": "2d7c5bf3",
   "metadata": {},
   "source": [
    "### d. Variable length arguments\n",
    "- Although we can pass a list to a function containing any number of elements.\n",
    "- But sometimes, we need more flexibility while defining functions like we don't know in advance the fixed number of arguments.\n",
    "- Python allows us to make function calls with variable length arguments.\n",
    "- If you want a function to receive variable number of arguments, you place an asterisk (`*`) before the variable name.\n",
    "- This way the function will receive a tuple of arguments (an iterable), and can access the items accordingly"
   ]
  },
  {
   "cell_type": "code",
   "execution_count": 47,
   "id": "f131f51f",
   "metadata": {},
   "outputs": [],
   "source": [
    "def my_function(*args):   # Whatever is passed to this function, it will create an iterable out of it\n",
    "    print(type(args))\n",
    "    for i in args:\n",
    "        print(i)"
   ]
  },
  {
   "cell_type": "code",
   "execution_count": 48,
   "id": "69e3de82",
   "metadata": {},
   "outputs": [
    {
     "name": "stdout",
     "output_type": "stream",
     "text": [
      "<class 'tuple'>\n",
      "Ehtisham\n",
      "Ali\n",
      "Dua\n",
      "Ayesha\n",
      "Adeen\n",
      "Khubaib\n",
      "\n",
      "\n"
     ]
    }
   ],
   "source": [
    "my_function('Ehtisham','Ali', 'Dua', 'Ayesha', 'Adeen', 'Khubaib')\n",
    "print(\"\\n\")"
   ]
  },
  {
   "cell_type": "code",
   "execution_count": null,
   "id": "294b9ce6",
   "metadata": {},
   "outputs": [],
   "source": []
  },
  {
   "cell_type": "code",
   "execution_count": 53,
   "id": "e98931c6",
   "metadata": {},
   "outputs": [],
   "source": [
    "# Example: Passing variable number of arguments to a function\n",
    "def my_function(*args):   # Whatever is passed to this function, it will create an iterable out of it\n",
    "    for i in args:        # We can use the iter() and next() function to iterate through the iterable\n",
    "        print(i, end=' \\n')"
   ]
  },
  {
   "cell_type": "code",
   "execution_count": 54,
   "id": "b19a449a",
   "metadata": {},
   "outputs": [],
   "source": [
    "my_function()"
   ]
  },
  {
   "cell_type": "code",
   "execution_count": 55,
   "id": "79956dfe",
   "metadata": {},
   "outputs": [
    {
     "name": "stdout",
     "output_type": "stream",
     "text": [
      "Ehtisham \n",
      "Ali \n",
      "\n",
      "\n"
     ]
    }
   ],
   "source": [
    "my_function('Ehtisham','Ali')\n",
    "print(\"\\n\")"
   ]
  },
  {
   "cell_type": "code",
   "execution_count": 56,
   "id": "be435107",
   "metadata": {},
   "outputs": [
    {
     "name": "stdout",
     "output_type": "stream",
     "text": [
      "1 \n",
      "2 \n",
      "3 \n",
      "4 \n",
      "5 \n",
      "6 \n",
      "7 \n",
      "8 \n",
      "\n",
      "\n",
      "5 \n",
      "2.5 \n",
      "9 \n"
     ]
    }
   ],
   "source": [
    "my_function(1, 2, 3, 4, 5, 6, 7, 8)\n",
    "print(\"\\n\")\n",
    "\n",
    "my_function(5, 2.5, 9)"
   ]
  },
  {
   "cell_type": "code",
   "execution_count": null,
   "id": "fb0d8987",
   "metadata": {},
   "outputs": [],
   "source": []
  },
  {
   "cell_type": "code",
   "execution_count": null,
   "id": "013842f8",
   "metadata": {},
   "outputs": [],
   "source": []
  },
  {
   "cell_type": "code",
   "execution_count": null,
   "id": "fe6e5a02",
   "metadata": {},
   "outputs": [],
   "source": []
  },
  {
   "cell_type": "markdown",
   "id": "f23e215b",
   "metadata": {},
   "source": [
    "### e. Arbitrary keyword arguments\n",
    "- Arbitrary keyword arguments (`**kwarg`) is just like variable length arguments (`*arg`). The difference is instead of accepting positional arguments, it accepts keyword (or named) arguments.\n",
    "- When using the ** parameter, the order of arguments does not matter. However, the name of the arguments must be the same.\n",
    "- This way the function will receive a dictionary of arguments, and you can access the items accordingly"
   ]
  },
  {
   "cell_type": "code",
   "execution_count": 57,
   "id": "0205f0d6",
   "metadata": {},
   "outputs": [
    {
     "name": "stdout",
     "output_type": "stream",
     "text": [
      "('a', 'Data')\n",
      "('b', 'Science')\n",
      "('c', 'using')\n",
      "('d', 'Python')\n"
     ]
    }
   ],
   "source": [
    "def myfunc(**kwargs):\n",
    "    # Iterating over the key:value pairs of kwargs dictionary\n",
    "    for arg in kwargs.items():\n",
    "        print(arg)\n",
    "\n",
    "        \n",
    "myfunc(a = \"Data\", b = 'Science', c = 'using', d ='Python')"
   ]
  },
  {
   "cell_type": "code",
   "execution_count": 58,
   "id": "3515bdbb",
   "metadata": {},
   "outputs": [
    {
     "name": "stdout",
     "output_type": "stream",
     "text": [
      "Data\n",
      "Science\n",
      "using\n",
      "Python\n"
     ]
    }
   ],
   "source": [
    "def myfunc(**kwargs):\n",
    "    result = \"\"\n",
    "    # Iterating over the values only of kwargs dictionary\n",
    "    for arg in kwargs.values():\n",
    "        print(arg)\n",
    "\n",
    "myfunc(a = \"Data\", b = 'Science', c = 'using', d ='Python')"
   ]
  },
  {
   "cell_type": "code",
   "execution_count": 59,
   "id": "9acfc7e1",
   "metadata": {},
   "outputs": [
    {
     "name": "stdout",
     "output_type": "stream",
     "text": [
      "Hello,  Muhammad Ehtisham Sadiq\n"
     ]
    }
   ],
   "source": [
    "def greet(**kwargs):\n",
    "    print('Hello, ', kwargs['fname'],  kwargs['mname'], kwargs['lname'])\n",
    "\n",
    "greet(lname='Sadiq', fname='Muhammad', mname= 'Ehtisham')\n"
   ]
  },
  {
   "cell_type": "code",
   "execution_count": null,
   "id": "dbbeb1f1",
   "metadata": {},
   "outputs": [],
   "source": []
  },
  {
   "cell_type": "code",
   "execution_count": null,
   "id": "f1c241ee",
   "metadata": {},
   "outputs": [],
   "source": []
  },
  {
   "cell_type": "code",
   "execution_count": null,
   "id": "031c7505",
   "metadata": {},
   "outputs": [],
   "source": []
  },
  {
   "cell_type": "markdown",
   "id": "31f31e66",
   "metadata": {},
   "source": [
    "## 5. Functions can be Nested in Python\n",
    "- A function that is defined inside another function is called nested or inner function.\n",
    "- Nested or inner function can access variables created in the outer function (enclosing scope)."
   ]
  },
  {
   "cell_type": "code",
   "execution_count": 2,
   "id": "fed321a2",
   "metadata": {},
   "outputs": [],
   "source": [
    "def outerFunction(): \n",
    "    name = 'Ehtisham' # Enclosing Scope\n",
    "    def innerFunction():\n",
    "        print(name)\n",
    "#     calling of inner function    \n",
    "    innerFunction() \n",
    "    "
   ]
  },
  {
   "cell_type": "code",
   "execution_count": 3,
   "id": "704b031e",
   "metadata": {},
   "outputs": [
    {
     "name": "stdout",
     "output_type": "stream",
     "text": [
      "Ehtisham\n"
     ]
    }
   ],
   "source": [
    "outerFunction() "
   ]
  },
  {
   "cell_type": "code",
   "execution_count": 4,
   "id": "aa92617c",
   "metadata": {},
   "outputs": [
    {
     "ename": "NameError",
     "evalue": "name 'innerFunction' is not defined",
     "output_type": "error",
     "traceback": [
      "\u001b[0;31m---------------------------------------------------------------------------\u001b[0m",
      "\u001b[0;31mNameError\u001b[0m                                 Traceback (most recent call last)",
      "Cell \u001b[0;32mIn[4], line 1\u001b[0m\n\u001b[0;32m----> 1\u001b[0m innerFunction()\n",
      "\u001b[0;31mNameError\u001b[0m: name 'innerFunction' is not defined"
     ]
    }
   ],
   "source": [
    "innerFunction() # This line will raise a NameErrror\n",
    "                 # because an innerFunction() can only be accessed in the outerFunction() body, and not outside it"
   ]
  },
  {
   "cell_type": "code",
   "execution_count": null,
   "id": "41fc63ef",
   "metadata": {},
   "outputs": [],
   "source": []
  },
  {
   "cell_type": "code",
   "execution_count": null,
   "id": "f11a8357",
   "metadata": {},
   "outputs": [],
   "source": []
  },
  {
   "cell_type": "markdown",
   "id": "0f49370f",
   "metadata": {},
   "source": [
    "## 6. Understanding Scope in Python\n",
    "- **Scope of Variable** means the part of program where we can access that particular variable. \n",
    "- **Lifetime of a variable** is the period throughout which the variable exists in memory. The lifetime of a variable inside a function is as long as the function executes. They are destroyed once we return from the function. Hence, a function does not remember the value of a variable from its previous calls.\n",
    "- **Symbol Table**: Python interpreter maintains a data structure called symbol table (using a dictionary object) containing information about each identifier appearing in the program's source code. \n",
    "\n",
    "<img align=\"right\" width=\"500\" height=\"300\"  src=\"images/scopes.jpeg\" > \n",
    "\n",
    "- In Python, there are 4 types of Variable Scopes\n",
    "    >- Local Scope\n",
    "    >- Nonlocal/Enclosing Scope\n",
    "    >- Global Scope\n",
    "    >- Built-in Scope\n"
   ]
  },
  {
   "cell_type": "markdown",
   "id": "d2ec5ee0",
   "metadata": {},
   "source": [
    "### a. Understanding Local  Scope\n",
    ">**Local Scope:** Python first tries to search for an identifier (variable) in Local scope. The local variable exists only within the block/function that it is declared in. When that block/function ends, the local variable has no significance, it gets destroyed. We cannot use it outside the function where it is declared."
   ]
  },
  {
   "cell_type": "code",
   "execution_count": null,
   "id": "71d78443",
   "metadata": {},
   "outputs": [],
   "source": []
  },
  {
   "cell_type": "code",
   "execution_count": null,
   "id": "ad4a8612",
   "metadata": {},
   "outputs": [],
   "source": []
  },
  {
   "cell_type": "code",
   "execution_count": 5,
   "id": "4086958d",
   "metadata": {},
   "outputs": [
    {
     "name": "stdout",
     "output_type": "stream",
     "text": [
      "Value of variable 'bb' inside function:  1234\n"
     ]
    }
   ],
   "source": [
    "# Example 1: Understanding Local Scope\n",
    "# The variable 'bb' declared inside the function is local to that function\n",
    "# When you try to access (read/write) it outside the function, Python raises a NameError\n",
    "\n",
    "def my_function():\n",
    "    bb = 1234  # a new local variable named 'a' is created\n",
    "    print(\"Value of variable 'bb' inside function: \", bb)\n",
    "\n",
    "my_function()"
   ]
  },
  {
   "cell_type": "code",
   "execution_count": 6,
   "id": "d8f60ff8",
   "metadata": {},
   "outputs": [
    {
     "ename": "NameError",
     "evalue": "name 'bb' is not defined",
     "output_type": "error",
     "traceback": [
      "\u001b[0;31m---------------------------------------------------------------------------\u001b[0m",
      "\u001b[0;31mNameError\u001b[0m                                 Traceback (most recent call last)",
      "Cell \u001b[0;32mIn[6], line 1\u001b[0m\n\u001b[0;32m----> 1\u001b[0m \u001b[38;5;28mprint\u001b[39m(\u001b[38;5;124m\"\u001b[39m\u001b[38;5;124mValue of variable \u001b[39m\u001b[38;5;124m'\u001b[39m\u001b[38;5;124mbb\u001b[39m\u001b[38;5;124m'\u001b[39m\u001b[38;5;124m outside function: \u001b[39m\u001b[38;5;124m\"\u001b[39m, bb)\n",
      "\u001b[0;31mNameError\u001b[0m: name 'bb' is not defined"
     ]
    }
   ],
   "source": [
    "print(\"Value of variable 'bb' outside function: \", bb) #Raise NameError, as the variable 'bb' no longer exists"
   ]
  },
  {
   "cell_type": "code",
   "execution_count": null,
   "id": "80767887",
   "metadata": {},
   "outputs": [],
   "source": []
  },
  {
   "cell_type": "markdown",
   "id": "4c344bbd",
   "metadata": {},
   "source": [
    "### b. Understanding Enclosing Scope\n",
    ">**Enclosing Scope:** Enclosing (or nonlocal) scope is a special scope that only exists for nested functions. If Python does not find an identifier (variable) within the local scope, it will examine the Enclosing scope to see if it can find the variable there."
   ]
  },
  {
   "cell_type": "code",
   "execution_count": 7,
   "id": "335d0e82",
   "metadata": {},
   "outputs": [
    {
     "name": "stdout",
     "output_type": "stream",
     "text": [
      "4\n",
      "4\n"
     ]
    }
   ],
   "source": [
    "# Example 1: Understanding Enclosing / Non-Local Scope\n",
    "def f1():\n",
    "    x = 4\n",
    "    def f2():\n",
    "        print(x)  #Since there is no variable 'x' defined in f2(), so it will search it in the non-local scope\n",
    "    f2()\n",
    "    print(x)     #The variable 'x' is defined in the local scope of f1() function\n",
    "\n",
    "f1()"
   ]
  },
  {
   "cell_type": "code",
   "execution_count": 8,
   "id": "bbe0301c-8ff4-454d-baf8-30fc75d09868",
   "metadata": {},
   "outputs": [
    {
     "ename": "NameError",
     "evalue": "name 'f2' is not defined",
     "output_type": "error",
     "traceback": [
      "\u001b[0;31m---------------------------------------------------------------------------\u001b[0m",
      "\u001b[0;31mNameError\u001b[0m                                 Traceback (most recent call last)",
      "Cell \u001b[0;32mIn[8], line 1\u001b[0m\n\u001b[0;32m----> 1\u001b[0m f2()\n",
      "\u001b[0;31mNameError\u001b[0m: name 'f2' is not defined"
     ]
    }
   ],
   "source": [
    "f2()"
   ]
  },
  {
   "cell_type": "code",
   "execution_count": 9,
   "id": "ebab085b-4f04-40bb-b8da-febb52101903",
   "metadata": {},
   "outputs": [
    {
     "ename": "NameError",
     "evalue": "name 'x' is not defined",
     "output_type": "error",
     "traceback": [
      "\u001b[0;31m---------------------------------------------------------------------------\u001b[0m",
      "\u001b[0;31mNameError\u001b[0m                                 Traceback (most recent call last)",
      "Cell \u001b[0;32mIn[9], line 1\u001b[0m\n\u001b[0;32m----> 1\u001b[0m x\n",
      "\u001b[0;31mNameError\u001b[0m: name 'x' is not defined"
     ]
    }
   ],
   "source": [
    "x"
   ]
  },
  {
   "cell_type": "code",
   "execution_count": 10,
   "id": "de61c550",
   "metadata": {},
   "outputs": [
    {
     "name": "stdout",
     "output_type": "stream",
     "text": [
      "Inside the f2() function: cc =  4321\n",
      "Inside the f1() function: cc =  1234\n"
     ]
    }
   ],
   "source": [
    "# Example 2: Understanding Enclosing / Non-Local Scope\n",
    "def f1():\n",
    "    cc = 1234      # cc is local variable to f1()\n",
    "    def f2():\n",
    "        cc = 4321  # cc is local variable to f2()\n",
    "        print(\"Inside the f2() function: cc = \", cc)\n",
    "    f2()\n",
    "    print(\"Inside the f1() function: cc = \", cc)\n",
    "\n",
    "\n",
    "f1()"
   ]
  },
  {
   "cell_type": "code",
   "execution_count": null,
   "id": "5ffeb028",
   "metadata": {},
   "outputs": [],
   "source": []
  },
  {
   "cell_type": "markdown",
   "id": "bdc5fee5",
   "metadata": {},
   "source": [
    "### c. Understanding Global Scope\n",
    ">- **Global Scope:** A global variable is accessible from anywhere in your script, including from within a function. It is usually defined at the top of the script or outside of the function. \n",
    ">- Python first tries to find an identifier in the local scope, then in the non-local/enclosing scope. If it cannot find it in those two scopes then it will search the identifier in the global scope."
   ]
  },
  {
   "cell_type": "code",
   "execution_count": 11,
   "id": "5dd92692",
   "metadata": {},
   "outputs": [
    {
     "name": "stdout",
     "output_type": "stream",
     "text": [
      "Value of variable 'b' inside function:  9999\n",
      "Value of global variable 'b' outside function:  9999\n"
     ]
    }
   ],
   "source": [
    "# Example 1: Understanding Global Scope\n",
    "\n",
    "b = 9999   # a global variable\n",
    "def my_function():\n",
    "    print(\"Value of variable 'b' inside function: \", b)\n",
    "\n",
    "my_function()\n",
    "print(\"Value of global variable 'b' outside function: \", b)"
   ]
  },
  {
   "cell_type": "code",
   "execution_count": 12,
   "id": "6f53cdd9",
   "metadata": {},
   "outputs": [
    {
     "name": "stdout",
     "output_type": "stream",
     "text": [
      "Value of variable 'c' inside function:  4321\n"
     ]
    }
   ],
   "source": [
    "\n",
    "# Example 2: Understanding Global Scope\n",
    "c = 1234     # a global variable named 'c'\n",
    "def my_function():\n",
    "    c = 4321  # a new local variable named 'c' is created\n",
    "    print(\"Value of variable 'c' inside function: \", c)\n",
    "my_function()"
   ]
  },
  {
   "cell_type": "code",
   "execution_count": 13,
   "id": "db2e8761",
   "metadata": {},
   "outputs": [
    {
     "name": "stdout",
     "output_type": "stream",
     "text": [
      "Value of variable 'c' outside function:  1234\n"
     ]
    }
   ],
   "source": [
    "# Over here the local variable c containing 4321 does not exist, therefore, Python interpreter will look \n",
    "# in the non-local/enclosing scope, it also doesnot contain variable c, so\n",
    "# finally the Python interpreter will look in the global scope, where it exist with value of 1234\n",
    "print(\"Value of variable 'c' outside function: \", c)"
   ]
  },
  {
   "cell_type": "markdown",
   "id": "457d6ed9",
   "metadata": {},
   "source": [
    "### d. Understanding Built-in Scope\n",
    ">- The Built-in scope has all the functions and variables that are there, when we start the Python interpreter, e.g., the `print()`, `len()` and `id()` functions are in the built-in scope.\n",
    ">- If an identifier is not found in local, enclosing and global scopes within a module, then Python will examine the built-in scope to see if it is defined there. "
   ]
  },
  {
   "cell_type": "code",
   "execution_count": 14,
   "id": "d3f36cae",
   "metadata": {},
   "outputs": [
    {
     "name": "stdout",
     "output_type": "stream",
     "text": [
      "12\n"
     ]
    }
   ],
   "source": [
    "# Example: Since the identifier `len` is not found in local, enclosing and global scopes, therefore,\n",
    "# Python would consult the Built-In scope, where it will find the len function and outputs 12\n",
    "x = len('Data Science')    \n",
    "print(x)  "
   ]
  },
  {
   "cell_type": "code",
   "execution_count": 15,
   "id": "0f15f10b",
   "metadata": {},
   "outputs": [
    {
     "name": "stdout",
     "output_type": "stream",
     "text": [
      "54\n"
     ]
    }
   ],
   "source": [
    "# Example: Since the identifier `len` is there in the local scope, therefore\n",
    "# Python would use the `len` function defined in local scope and not the Built-In scope, and outputs 54\n",
    "def len(x):\n",
    "    return 54\n",
    "\n",
    "y = len('Data Science')    \n",
    "print(y)"
   ]
  },
  {
   "cell_type": "code",
   "execution_count": 70,
   "id": "5bbcc9d4",
   "metadata": {},
   "outputs": [],
   "source": [
    "del len"
   ]
  },
  {
   "cell_type": "markdown",
   "id": "70bf759b",
   "metadata": {},
   "source": [
    "### e. Use of `global` Keyword\n",
    ">- The `global` keyword is used to tell the Python interpreter to use the globally defined variable instead of locally defining it. \n",
    ">- Let us understand this with example:"
   ]
  },
  {
   "cell_type": "markdown",
   "id": "362d6cf1",
   "metadata": {},
   "source": [
    "**We cannot update the value of a global variable inside a function (local scope). If you try to do so it will raise an error**"
   ]
  },
  {
   "cell_type": "code",
   "execution_count": 16,
   "id": "ae006ff2",
   "metadata": {},
   "outputs": [
    {
     "ename": "UnboundLocalError",
     "evalue": "cannot access local variable 'c' where it is not associated with a value",
     "output_type": "error",
     "traceback": [
      "\u001b[0;31m---------------------------------------------------------------------------\u001b[0m",
      "\u001b[0;31mUnboundLocalError\u001b[0m                         Traceback (most recent call last)",
      "Cell \u001b[0;32mIn[16], line 7\u001b[0m\n\u001b[1;32m      4\u001b[0m     c \u001b[38;5;241m=\u001b[39m c \u001b[38;5;241m+\u001b[39m \u001b[38;5;241m1\u001b[39m    \u001b[38;5;66;03m# Updating global variable inside function\u001b[39;00m\n\u001b[1;32m      5\u001b[0m     \u001b[38;5;28mprint\u001b[39m(\u001b[38;5;124m\"\u001b[39m\u001b[38;5;124mValue of variable \u001b[39m\u001b[38;5;124m'\u001b[39m\u001b[38;5;124mc\u001b[39m\u001b[38;5;124m'\u001b[39m\u001b[38;5;124m inside function: \u001b[39m\u001b[38;5;124m\"\u001b[39m, c)\n\u001b[0;32m----> 7\u001b[0m my_function()\n\u001b[1;32m      8\u001b[0m \u001b[38;5;28mprint\u001b[39m(\u001b[38;5;124m\"\u001b[39m\u001b[38;5;124mValue of variable \u001b[39m\u001b[38;5;124m'\u001b[39m\u001b[38;5;124mc\u001b[39m\u001b[38;5;124m'\u001b[39m\u001b[38;5;124m outside function: \u001b[39m\u001b[38;5;124m\"\u001b[39m, c)\n",
      "Cell \u001b[0;32mIn[16], line 4\u001b[0m, in \u001b[0;36mmy_function\u001b[0;34m()\u001b[0m\n\u001b[1;32m      3\u001b[0m \u001b[38;5;28;01mdef\u001b[39;00m \u001b[38;5;21mmy_function\u001b[39m():\n\u001b[0;32m----> 4\u001b[0m     c \u001b[38;5;241m=\u001b[39m c \u001b[38;5;241m+\u001b[39m \u001b[38;5;241m1\u001b[39m    \u001b[38;5;66;03m# Updating global variable inside function\u001b[39;00m\n\u001b[1;32m      5\u001b[0m     \u001b[38;5;28mprint\u001b[39m(\u001b[38;5;124m\"\u001b[39m\u001b[38;5;124mValue of variable \u001b[39m\u001b[38;5;124m'\u001b[39m\u001b[38;5;124mc\u001b[39m\u001b[38;5;124m'\u001b[39m\u001b[38;5;124m inside function: \u001b[39m\u001b[38;5;124m\"\u001b[39m, c)\n",
      "\u001b[0;31mUnboundLocalError\u001b[0m: cannot access local variable 'c' where it is not associated with a value"
     ]
    }
   ],
   "source": [
    "# Example:\n",
    "c = 1234         # c is a global variable\n",
    "def my_function():\n",
    "    c = c + 1    # Updating global variable inside function\n",
    "    print(\"Value of variable 'c' inside function: \", c)\n",
    "\n",
    "my_function()\n",
    "print(\"Value of variable 'c' outside function: \", c)\n"
   ]
  },
  {
   "cell_type": "code",
   "execution_count": null,
   "id": "2022ce43",
   "metadata": {},
   "outputs": [],
   "source": []
  },
  {
   "cell_type": "markdown",
   "id": "ef7d7524",
   "metadata": {},
   "source": [
    "**If you want to update the value of a global variable inside a function, simply type `global` followed by the variable name. This will tell Python interpreter to use the globally defined variable instead of locally defining it**"
   ]
  },
  {
   "cell_type": "code",
   "execution_count": 17,
   "id": "264f2875",
   "metadata": {},
   "outputs": [
    {
     "name": "stdout",
     "output_type": "stream",
     "text": [
      "Value of variable 'd' inside function:  1235\n",
      "Value of variable 'd' outside function:  1235\n"
     ]
    }
   ],
   "source": [
    "# Example: To update a global variable inside a function, you use the global keyword\n",
    "d = 1234\n",
    "def my_function():\n",
    "    global d   # global keyword does not create a new local variable, rather allows you to access the global var\n",
    "    d = d + 1  # Updating global variable inside function\n",
    "    print(\"Value of variable 'd' inside function: \", d)\n",
    "\n",
    "my_function()\n",
    "print(\"Value of variable 'd' outside function: \", d)"
   ]
  },
  {
   "cell_type": "code",
   "execution_count": null,
   "id": "fef3fd90",
   "metadata": {},
   "outputs": [],
   "source": []
  },
  {
   "cell_type": "code",
   "execution_count": null,
   "id": "1bb055e9",
   "metadata": {},
   "outputs": [],
   "source": []
  },
  {
   "cell_type": "markdown",
   "id": "82de6005",
   "metadata": {},
   "source": [
    "<h1 align=\"center\" style=\"color:red\"> Advance-Functions </h1>"
   ]
  },
  {
   "cell_type": "code",
   "execution_count": null,
   "id": "40f2d659",
   "metadata": {},
   "outputs": [],
   "source": []
  },
  {
   "cell_type": "markdown",
   "id": "c3023959",
   "metadata": {},
   "source": [
    "## Review of Python Functions\n",
    "<img align=\"center\" width=\"500\" height=\"300\"  src=\"images/func1.png\" > "
   ]
  },
  {
   "cell_type": "markdown",
   "id": "93167c18",
   "metadata": {},
   "source": [
    "## Learning agenda of this notebook\n",
    "1. Anonymous / Lambda Functions\n",
    "2. Using lambda function as argument to other functions\n",
    "3. Using Lambda Function with built-in `map()` function\n",
    "4. Using Lambda Function with built-in `filter()` function\n",
    "5. Using Lambda Function with built-in `reduce()` function\n",
    "6. Using Lambda Function with built-in `sorted()` function\n",
    "7. Bonus\n",
    "    - The `zip()` function\n",
    "    - Iterators and Generators"
   ]
  },
  {
   "cell_type": "markdown",
   "id": "79a47687",
   "metadata": {},
   "source": [
    "In Python, an anonymous function is a function that is defined without a name. While normal functions are defined using the def keyword in Python, anonymous functions are defined using the lambda keyword. Hence, anonymous functions are also called lambda functions."
   ]
  },
  {
   "cell_type": "code",
   "execution_count": null,
   "id": "d93521b8",
   "metadata": {},
   "outputs": [],
   "source": []
  },
  {
   "cell_type": "markdown",
   "id": "c32289dd",
   "metadata": {},
   "source": [
    "## 1. Lambda / Anonymous Functions\n",
    "The syntax of defining a lambda function is:**```lambda [arg1 [,arg2,.....argn]]:expression```**\n",
    "\n",
    "<img align=\"center\" width=\"800\" height=\"400\"  src=\"images/lambda.png\" > "
   ]
  },
  {
   "cell_type": "code",
   "execution_count": null,
   "id": "fe129762",
   "metadata": {},
   "outputs": [],
   "source": []
  },
  {
   "cell_type": "markdown",
   "id": "a59dbb94",
   "metadata": {},
   "source": [
    "### a. Example 1: A function that is passed one argument and it returns its square\n",
    "- Let us do this example step by step to completely understand the process of writing lambda functions"
   ]
  },
  {
   "cell_type": "code",
   "execution_count": null,
   "id": "04a5f41e",
   "metadata": {},
   "outputs": [],
   "source": []
  },
  {
   "cell_type": "code",
   "execution_count": 18,
   "id": "34ef71d0",
   "metadata": {},
   "outputs": [],
   "source": [
    "def square1(num):\n",
    "    result = num**2\n",
    "    return result"
   ]
  },
  {
   "cell_type": "code",
   "execution_count": 19,
   "id": "3f58a3a9",
   "metadata": {},
   "outputs": [
    {
     "data": {
      "text/plain": [
       "25"
      ]
     },
     "execution_count": 19,
     "metadata": {},
     "output_type": "execute_result"
    }
   ],
   "source": [
    "rv = square1(5)\n",
    "rv"
   ]
  },
  {
   "cell_type": "code",
   "execution_count": null,
   "id": "d4367ede",
   "metadata": {},
   "outputs": [],
   "source": []
  },
  {
   "cell_type": "code",
   "execution_count": null,
   "id": "bd24a45b",
   "metadata": {},
   "outputs": [],
   "source": []
  },
  {
   "cell_type": "markdown",
   "id": "1e043224",
   "metadata": {},
   "source": [
    "**Let us try to shrink the above function**"
   ]
  },
  {
   "cell_type": "code",
   "execution_count": 21,
   "id": "3adb1820",
   "metadata": {},
   "outputs": [],
   "source": [
    "def square2(num):\n",
    "    return num**2"
   ]
  },
  {
   "cell_type": "code",
   "execution_count": 22,
   "id": "5d5e8e04",
   "metadata": {},
   "outputs": [
    {
     "data": {
      "text/plain": [
       "25"
      ]
     },
     "execution_count": 22,
     "metadata": {},
     "output_type": "execute_result"
    }
   ],
   "source": [
    "rv = square2(5)\n",
    "rv"
   ]
  },
  {
   "cell_type": "code",
   "execution_count": null,
   "id": "1122e76a",
   "metadata": {},
   "outputs": [],
   "source": []
  },
  {
   "cell_type": "markdown",
   "id": "c0fbdee9",
   "metadata": {},
   "source": [
    "**Although not a good programming style, however, we can write this in a single line**"
   ]
  },
  {
   "cell_type": "code",
   "execution_count": 23,
   "id": "11b36c1c",
   "metadata": {},
   "outputs": [],
   "source": [
    "def square3(num): return num**2"
   ]
  },
  {
   "cell_type": "code",
   "execution_count": 24,
   "id": "0efd7475",
   "metadata": {},
   "outputs": [
    {
     "data": {
      "text/plain": [
       "25"
      ]
     },
     "execution_count": 24,
     "metadata": {},
     "output_type": "execute_result"
    }
   ],
   "source": [
    "rv = square3(5)\n",
    "rv"
   ]
  },
  {
   "cell_type": "code",
   "execution_count": null,
   "id": "8cf73f06",
   "metadata": {},
   "outputs": [],
   "source": []
  },
  {
   "cell_type": "markdown",
   "id": "7c920c1f",
   "metadata": {},
   "source": [
    "**This is the form a function that a lambda expression intends to replicate. A lambda expression can then be written as:**"
   ]
  },
  {
   "cell_type": "code",
   "execution_count": 25,
   "id": "3849336b",
   "metadata": {},
   "outputs": [
    {
     "data": {
      "text/plain": [
       "<function __main__.<lambda>(num)>"
      ]
     },
     "execution_count": 25,
     "metadata": {},
     "output_type": "execute_result"
    }
   ],
   "source": [
    "lambda num: num**2"
   ]
  },
  {
   "cell_type": "markdown",
   "id": "379106bb",
   "metadata": {},
   "source": [
    "Note how we get a function back. We can assign this function to a label:"
   ]
  },
  {
   "cell_type": "code",
   "execution_count": null,
   "id": "4679f827",
   "metadata": {},
   "outputs": [],
   "source": []
  },
  {
   "cell_type": "code",
   "execution_count": null,
   "id": "5808eca5",
   "metadata": {},
   "outputs": [],
   "source": []
  },
  {
   "cell_type": "code",
   "execution_count": 26,
   "id": "c65a5e05",
   "metadata": {},
   "outputs": [],
   "source": [
    "square4 = lambda num: num**2"
   ]
  },
  {
   "cell_type": "code",
   "execution_count": 27,
   "id": "4f679782",
   "metadata": {},
   "outputs": [
    {
     "name": "stdout",
     "output_type": "stream",
     "text": [
      "<function <lambda> at 0x11168aca0>\n",
      "<class 'function'>\n"
     ]
    }
   ],
   "source": [
    "print(square4)      \n",
    "print(type(square4))"
   ]
  },
  {
   "cell_type": "code",
   "execution_count": 28,
   "id": "2a09cf7e",
   "metadata": {},
   "outputs": [
    {
     "data": {
      "text/plain": [
       "36"
      ]
     },
     "execution_count": 28,
     "metadata": {},
     "output_type": "execute_result"
    }
   ],
   "source": [
    "rv = square4(6)\n",
    "rv"
   ]
  },
  {
   "cell_type": "code",
   "execution_count": null,
   "id": "e86dbdd0",
   "metadata": {},
   "outputs": [],
   "source": []
  },
  {
   "cell_type": "code",
   "execution_count": null,
   "id": "9a907b2a",
   "metadata": {},
   "outputs": [],
   "source": []
  },
  {
   "cell_type": "markdown",
   "id": "39967b54",
   "metadata": {},
   "source": [
    "### b. Example 2: A function that is passed two arguments and it returns their sum\n",
    "```\n",
    "def mysum2(a, b):\n",
    "   return a+b\n",
    "\n",
    "rv = mysum2(5, 7)\n",
    "rv\n",
    "```"
   ]
  },
  {
   "cell_type": "code",
   "execution_count": null,
   "id": "888f7968",
   "metadata": {},
   "outputs": [],
   "source": []
  },
  {
   "cell_type": "code",
   "execution_count": null,
   "id": "967ba2a5",
   "metadata": {},
   "outputs": [],
   "source": []
  },
  {
   "cell_type": "code",
   "execution_count": 29,
   "id": "dbd801c5",
   "metadata": {},
   "outputs": [
    {
     "data": {
      "text/plain": [
       "function"
      ]
     },
     "execution_count": 29,
     "metadata": {},
     "output_type": "execute_result"
    }
   ],
   "source": [
    "mysum2 = lambda a, b: a + b   \n",
    "type(mysum2)"
   ]
  },
  {
   "cell_type": "code",
   "execution_count": 31,
   "id": "0950e098",
   "metadata": {},
   "outputs": [
    {
     "data": {
      "text/plain": [
       "12.3"
      ]
     },
     "execution_count": 31,
     "metadata": {},
     "output_type": "execute_result"
    }
   ],
   "source": [
    "rv = mysum2(5.3,7)\n",
    "rv"
   ]
  },
  {
   "cell_type": "code",
   "execution_count": null,
   "id": "63554219",
   "metadata": {},
   "outputs": [],
   "source": []
  },
  {
   "cell_type": "code",
   "execution_count": null,
   "id": "9a575a6d",
   "metadata": {},
   "outputs": [],
   "source": []
  },
  {
   "cell_type": "markdown",
   "id": "a58afa45",
   "metadata": {},
   "source": [
    "### c. Example 3: A function that is passed three arguments and it returns their sum\n",
    "```\n",
    "def mysum3(a, b, c):\n",
    "   return a+b+c\n",
    "\n",
    "rv = mysum3(5, 7, 9)\n",
    "rv\n",
    "```"
   ]
  },
  {
   "cell_type": "code",
   "execution_count": 32,
   "id": "15909608",
   "metadata": {},
   "outputs": [
    {
     "data": {
      "text/plain": [
       "120"
      ]
     },
     "execution_count": 32,
     "metadata": {},
     "output_type": "execute_result"
    }
   ],
   "source": [
    "def multiply(a,b,c):\n",
    "    return a*b*c\n",
    "\n",
    "ab = multiply(4,5,6) \n",
    "ab"
   ]
  },
  {
   "cell_type": "code",
   "execution_count": null,
   "id": "3921b56f",
   "metadata": {},
   "outputs": [],
   "source": []
  },
  {
   "cell_type": "code",
   "execution_count": null,
   "id": "7bb037ba",
   "metadata": {},
   "outputs": [],
   "source": []
  },
  {
   "cell_type": "code",
   "execution_count": 33,
   "id": "ecf73362",
   "metadata": {},
   "outputs": [
    {
     "data": {
      "text/plain": [
       "14.5"
      ]
     },
     "execution_count": 33,
     "metadata": {},
     "output_type": "execute_result"
    }
   ],
   "source": [
    "mysum3 = lambda a, b, c: a + b + c  \n",
    "rv = mysum3(5.5, 6.3, 2.7)         # return type corresponds to the expression\n",
    "rv"
   ]
  },
  {
   "cell_type": "code",
   "execution_count": 34,
   "id": "630ec21c",
   "metadata": {},
   "outputs": [
    {
     "ename": "TypeError",
     "evalue": "<lambda>() missing 1 required positional argument: 'c'",
     "output_type": "error",
     "traceback": [
      "\u001b[0;31m---------------------------------------------------------------------------\u001b[0m",
      "\u001b[0;31mTypeError\u001b[0m                                 Traceback (most recent call last)",
      "Cell \u001b[0;32mIn[34], line 1\u001b[0m\n\u001b[0;32m----> 1\u001b[0m rv \u001b[38;5;241m=\u001b[39m mysum3(\u001b[38;5;241m5.5\u001b[39m, \u001b[38;5;241m6.3\u001b[39m)         \u001b[38;5;66;03m# return type corresponds to the expression\u001b[39;00m\n\u001b[1;32m      2\u001b[0m rv\n",
      "\u001b[0;31mTypeError\u001b[0m: <lambda>() missing 1 required positional argument: 'c'"
     ]
    }
   ],
   "source": [
    "rv = mysum3(5.5, 6.3)         # return type corresponds to the expression\n",
    "rv"
   ]
  },
  {
   "cell_type": "code",
   "execution_count": null,
   "id": "ed9c6866",
   "metadata": {},
   "outputs": [],
   "source": []
  },
  {
   "cell_type": "code",
   "execution_count": null,
   "id": "fb59633b",
   "metadata": {},
   "outputs": [],
   "source": []
  },
  {
   "cell_type": "markdown",
   "id": "d2f8a7b8",
   "metadata": {},
   "source": [
    "### d. Example 4: A function that is passed one argument and it returns True if it is even and False otherwise"
   ]
  },
  {
   "cell_type": "code",
   "execution_count": 35,
   "id": "e4236fb9",
   "metadata": {},
   "outputs": [
    {
     "data": {
      "text/plain": [
       "False"
      ]
     },
     "execution_count": 35,
     "metadata": {},
     "output_type": "execute_result"
    }
   ],
   "source": [
    "# Here write your code\n",
    "\n",
    "# First Method\n",
    "def check_even(num):\n",
    "    if num%2==0:\n",
    "        return True\n",
    "    else:\n",
    "        return False\n",
    "    \n",
    "    \n",
    "check_even(23)"
   ]
  },
  {
   "cell_type": "code",
   "execution_count": 36,
   "id": "41e22222",
   "metadata": {},
   "outputs": [
    {
     "data": {
      "text/plain": [
       "True"
      ]
     },
     "execution_count": 36,
     "metadata": {},
     "output_type": "execute_result"
    }
   ],
   "source": [
    "# Second Method\n",
    "def check_even(num):\n",
    "    return num%2==0\n",
    "check_even(22)"
   ]
  },
  {
   "cell_type": "code",
   "execution_count": null,
   "id": "eb5028cf",
   "metadata": {},
   "outputs": [],
   "source": []
  },
  {
   "cell_type": "code",
   "execution_count": null,
   "id": "b6cdfdf2",
   "metadata": {},
   "outputs": [],
   "source": []
  },
  {
   "cell_type": "code",
   "execution_count": 37,
   "id": "d90ddd1e",
   "metadata": {},
   "outputs": [
    {
     "data": {
      "text/plain": [
       "False"
      ]
     },
     "execution_count": 37,
     "metadata": {},
     "output_type": "execute_result"
    }
   ],
   "source": [
    "even = lambda x: x % 2 == 0\n",
    "even(5)         # return type corresponds to the expression"
   ]
  },
  {
   "cell_type": "code",
   "execution_count": null,
   "id": "b57509cc",
   "metadata": {},
   "outputs": [],
   "source": []
  },
  {
   "cell_type": "code",
   "execution_count": null,
   "id": "0f2b1c13",
   "metadata": {},
   "outputs": [],
   "source": []
  },
  {
   "cell_type": "code",
   "execution_count": null,
   "id": "b45e8624",
   "metadata": {},
   "outputs": [],
   "source": []
  },
  {
   "cell_type": "code",
   "execution_count": 38,
   "id": "e3a29b0e",
   "metadata": {},
   "outputs": [
    {
     "data": {
      "text/plain": [
       "True"
      ]
     },
     "execution_count": 38,
     "metadata": {},
     "output_type": "execute_result"
    }
   ],
   "source": [
    "even = lambda x: x % 2 == 0\n",
    "even(4)         # return type corresponds to the expression"
   ]
  },
  {
   "cell_type": "code",
   "execution_count": null,
   "id": "8ef84eae",
   "metadata": {},
   "outputs": [],
   "source": []
  },
  {
   "cell_type": "code",
   "execution_count": null,
   "id": "211139ba",
   "metadata": {},
   "outputs": [],
   "source": []
  },
  {
   "cell_type": "markdown",
   "id": "6587c070",
   "metadata": {},
   "source": [
    "### e. Example 5: A function that is passed a string and returns the first character of that string"
   ]
  },
  {
   "cell_type": "code",
   "execution_count": 39,
   "id": "c759d686",
   "metadata": {},
   "outputs": [
    {
     "data": {
      "text/plain": [
       "'E'"
      ]
     },
     "execution_count": 39,
     "metadata": {},
     "output_type": "execute_result"
    }
   ],
   "source": [
    "def first_last(string):\n",
    "    return string[0]\n",
    "\n",
    "\n",
    "rv = first_last(\"Ehtisham\")\n",
    "rv"
   ]
  },
  {
   "cell_type": "code",
   "execution_count": 40,
   "id": "251187ee",
   "metadata": {},
   "outputs": [
    {
     "data": {
      "text/plain": [
       "'A'"
      ]
     },
     "execution_count": 40,
     "metadata": {},
     "output_type": "execute_result"
    }
   ],
   "source": [
    "func = lambda s: s[0]\n",
    "func(\"ALI\")"
   ]
  },
  {
   "cell_type": "code",
   "execution_count": null,
   "id": "2c696981",
   "metadata": {},
   "outputs": [],
   "source": []
  },
  {
   "cell_type": "code",
   "execution_count": null,
   "id": "f9e49222",
   "metadata": {},
   "outputs": [],
   "source": []
  },
  {
   "cell_type": "markdown",
   "id": "e51141e7",
   "metadata": {},
   "source": [
    "### f. Example 6: A function that is passed a string, it returns the reverse of that string"
   ]
  },
  {
   "cell_type": "code",
   "execution_count": 41,
   "id": "e3dccc57",
   "metadata": {},
   "outputs": [
    {
     "data": {
      "text/plain": [
       "'mahsithE'"
      ]
     },
     "execution_count": 41,
     "metadata": {},
     "output_type": "execute_result"
    }
   ],
   "source": [
    "# method no 01\n",
    "def reverseString(string):\n",
    "    return string[::-1]\n",
    "rv = reverseString(\"Ehtisham\")\n",
    "rv"
   ]
  },
  {
   "cell_type": "code",
   "execution_count": null,
   "id": "ab3e2d82",
   "metadata": {},
   "outputs": [],
   "source": []
  },
  {
   "cell_type": "code",
   "execution_count": 42,
   "id": "fd5a4bc7",
   "metadata": {},
   "outputs": [
    {
     "data": {
      "text/plain": [
       "'dlroW olleH'"
      ]
     },
     "execution_count": 42,
     "metadata": {},
     "output_type": "execute_result"
    }
   ],
   "source": [
    "# method no 03\n",
    "func = lambda s: s[::-1]\n",
    "\n",
    "func(\"Hello World\")"
   ]
  },
  {
   "cell_type": "code",
   "execution_count": null,
   "id": "915c9233",
   "metadata": {},
   "outputs": [],
   "source": [
    "# sorted(\"Ehtisham\", reverse=True)"
   ]
  },
  {
   "cell_type": "code",
   "execution_count": null,
   "id": "613d965d",
   "metadata": {},
   "outputs": [],
   "source": []
  },
  {
   "cell_type": "markdown",
   "id": "12493fbe",
   "metadata": {},
   "source": [
    ">**The real usage of Python Lambda functions is actually passing them as arguments to other functions like `map()`,`filter()` and `reduce()`**"
   ]
  },
  {
   "cell_type": "markdown",
   "id": "3101c48e",
   "metadata": {},
   "source": [
    "## 2. Using Lambda Function as Argument to other Functions"
   ]
  },
  {
   "cell_type": "markdown",
   "id": "94d5169a",
   "metadata": {},
   "source": [
    "**Three regular function definitions and their calling convention**"
   ]
  },
  {
   "cell_type": "code",
   "execution_count": 43,
   "id": "03cb8588",
   "metadata": {},
   "outputs": [
    {
     "name": "stdout",
     "output_type": "stream",
     "text": [
      "10 6 16\n"
     ]
    }
   ],
   "source": [
    "# Some basic functions that receives two arguments and return their sum, diff, mul\n",
    "def myadd(a, b):\n",
    "    return a + b\n",
    "\n",
    "def mysub(a, b):\n",
    "    return a - b\n",
    "\n",
    "def mymul(a, b):\n",
    "    return a * b\n",
    "\n",
    "\n",
    "# Calling above functions\n",
    "rv1 = myadd(8,2)\n",
    "rv2 = mysub(8, 2)\n",
    "rv3 = mymul(8, 2)\n",
    "print(rv1, rv2, rv3)"
   ]
  },
  {
   "cell_type": "code",
   "execution_count": null,
   "id": "326653a2",
   "metadata": {},
   "outputs": [],
   "source": []
  },
  {
   "cell_type": "markdown",
   "id": "e92f4c66",
   "metadata": {},
   "source": [
    "**We can write above three functions as lambda functions**"
   ]
  },
  {
   "cell_type": "code",
   "execution_count": 44,
   "id": "7f66771e",
   "metadata": {},
   "outputs": [
    {
     "name": "stdout",
     "output_type": "stream",
     "text": [
      "10 6 16\n"
     ]
    }
   ],
   "source": [
    "myadd = lambda a,b:a+b\n",
    "mysub = lambda a,b:a-b\n",
    "mymul = lambda a,b:a*b\n",
    "print(myadd(8,2), mysub(8,2), mymul(8,2))"
   ]
  },
  {
   "cell_type": "code",
   "execution_count": null,
   "id": "c378ae15",
   "metadata": {},
   "outputs": [],
   "source": []
  },
  {
   "cell_type": "code",
   "execution_count": null,
   "id": "db4a755e",
   "metadata": {},
   "outputs": [],
   "source": []
  },
  {
   "cell_type": "markdown",
   "id": "65069f6b",
   "metadata": {},
   "source": [
    "**Now, let us write a calculator function that other than receiving two arguments, also receives a function name which specifies the operation that needs to be performed on the arguments**"
   ]
  },
  {
   "cell_type": "code",
   "execution_count": 45,
   "id": "ee10f6be",
   "metadata": {},
   "outputs": [],
   "source": [
    "def mycalc(op, a, b):\n",
    "    return op(a,b)"
   ]
  },
  {
   "cell_type": "code",
   "execution_count": 46,
   "id": "00b4bb9a-e35e-41ee-a021-86474ce39482",
   "metadata": {},
   "outputs": [],
   "source": [
    "myadd = lambda a, b: a+b\n",
    "mysub = lambda a, b: a-b\n",
    "mymul = lambda a, b: a*b"
   ]
  },
  {
   "cell_type": "code",
   "execution_count": 47,
   "id": "204fb457",
   "metadata": {},
   "outputs": [
    {
     "data": {
      "text/plain": [
       "(10, 6, 16)"
      ]
     },
     "execution_count": 47,
     "metadata": {},
     "output_type": "execute_result"
    }
   ],
   "source": [
    "rv1 = mycalc(myadd, 8, 2)\n",
    "rv2 = mycalc(mysub, 8, 2)\n",
    "rv3 = mycalc(mymul, 8, 2)\n",
    "\n",
    "rv1, rv2, rv3"
   ]
  },
  {
   "cell_type": "code",
   "execution_count": null,
   "id": "7d1886b8",
   "metadata": {},
   "outputs": [],
   "source": []
  },
  {
   "cell_type": "markdown",
   "id": "fdc1fb07",
   "metadata": {},
   "source": [
    "**A more elegant way of writing above code**"
   ]
  },
  {
   "cell_type": "code",
   "execution_count": 48,
   "id": "69a5a0b5",
   "metadata": {},
   "outputs": [
    {
     "name": "stdout",
     "output_type": "stream",
     "text": [
      "10 6 16\n"
     ]
    }
   ],
   "source": [
    "rv1 = mycalc(lambda a, b: a + b, 8, 2)\n",
    "rv2 = mycalc(lambda a, b: a - b, 8, 2)\n",
    "rv3 = mycalc(lambda a, b: a * b, 8, 2)\n",
    "\n",
    "print(rv1, rv2, rv3)"
   ]
  },
  {
   "cell_type": "code",
   "execution_count": null,
   "id": "911ec588",
   "metadata": {},
   "outputs": [],
   "source": []
  },
  {
   "cell_type": "code",
   "execution_count": null,
   "id": "cc291daa",
   "metadata": {},
   "outputs": [],
   "source": []
  },
  {
   "cell_type": "markdown",
   "id": "c0d00af9",
   "metadata": {},
   "source": [
    "## 3. Using Lambda Function as Argument to built-in `map()` Function\n",
    "- The ```map(aFunction, *iterables)``` function simply returns a map object after applying  `aFunction()` to all the elements of `iterable(s)`. Later you can type cast the map object to appropriate data structure\n",
    "- The original iterable(s) remains unchanged. "
   ]
  },
  {
   "cell_type": "markdown",
   "id": "e269f909",
   "metadata": {},
   "source": [
    "- Map in Python is a function that works as an iterator to return a result after applying a function to every item of an iterable (tuple, lists, etc.). It is used when you want to apply a single transformation function to all the iterable elements. The iterable and function are passed as arguments to the map in Python."
   ]
  },
  {
   "cell_type": "code",
   "execution_count": null,
   "id": "3b7e5317",
   "metadata": {},
   "outputs": [],
   "source": []
  },
  {
   "cell_type": "code",
   "execution_count": 49,
   "id": "8a4a3e62",
   "metadata": {},
   "outputs": [
    {
     "name": "stdout",
     "output_type": "stream",
     "text": [
      "Help on class map in module builtins:\n",
      "\n",
      "class map(object)\n",
      " |  map(func, *iterables) --> map object\n",
      " |  \n",
      " |  Make an iterator that computes the function using arguments from\n",
      " |  each of the iterables.  Stops when the shortest iterable is exhausted.\n",
      " |  \n",
      " |  Methods defined here:\n",
      " |  \n",
      " |  __getattribute__(self, name, /)\n",
      " |      Return getattr(self, name).\n",
      " |  \n",
      " |  __iter__(self, /)\n",
      " |      Implement iter(self).\n",
      " |  \n",
      " |  __next__(self, /)\n",
      " |      Implement next(self).\n",
      " |  \n",
      " |  __reduce__(...)\n",
      " |      Return state information for pickling.\n",
      " |  \n",
      " |  ----------------------------------------------------------------------\n",
      " |  Static methods defined here:\n",
      " |  \n",
      " |  __new__(*args, **kwargs) from builtins.type\n",
      " |      Create and return a new object.  See help(type) for accurate signature.\n",
      "\n"
     ]
    }
   ],
   "source": [
    "help(map)"
   ]
  },
  {
   "cell_type": "code",
   "execution_count": null,
   "id": "61fa1277",
   "metadata": {},
   "outputs": [],
   "source": []
  },
  {
   "cell_type": "markdown",
   "id": "042c3b5f",
   "metadata": {},
   "source": [
    "### a. Example 1: \n",
    "**Given a list of numbers, suppose we want to create a new list in which every element is the square every item of the given list**"
   ]
  },
  {
   "cell_type": "markdown",
   "id": "dcbd3652",
   "metadata": {},
   "source": [
    "**Option 1: We can do this using a simple loop**"
   ]
  },
  {
   "cell_type": "code",
   "execution_count": 50,
   "id": "6f1f0056",
   "metadata": {},
   "outputs": [
    {
     "name": "stdout",
     "output_type": "stream",
     "text": [
      "Original list:  [5, 7, 2, 6, 9]\n",
      "List with items squared:  [25, 49, 4, 36, 81]\n"
     ]
    }
   ],
   "source": [
    "mylist = [5, 7, 2, 6, 9]\n",
    "\n",
    "mylist_squared = []    # create an empty list\n",
    "for a in mylist:\n",
    "    mylist_squared.append(a**2)   # append new item at the end of the newly created list\n",
    "\n",
    "print(\"Original list: \", mylist)\n",
    "print(\"List with items squared: \", mylist_squared)"
   ]
  },
  {
   "cell_type": "code",
   "execution_count": null,
   "id": "983027cd",
   "metadata": {},
   "outputs": [],
   "source": []
  },
  {
   "cell_type": "markdown",
   "id": "7b287fc5",
   "metadata": {},
   "source": [
    "**Option 2: We can do this using `map()` function and passing an appropriate regular function as its first argument**"
   ]
  },
  {
   "cell_type": "code",
   "execution_count": 51,
   "id": "7800b53e",
   "metadata": {},
   "outputs": [
    {
     "name": "stdout",
     "output_type": "stream",
     "text": [
      "<map object at 0x1114eb250>\n",
      "<class 'map'>\n"
     ]
    }
   ],
   "source": [
    "mylist = [5, 7, 2, 6, 9,8]\n",
    "\n",
    "def sqr(x):\n",
    "    return x ** 2\n",
    "\n",
    "\n",
    "map_object = map(sqr, mylist)\n",
    "print(map_object)\n",
    "print(type(map_object))"
   ]
  },
  {
   "cell_type": "code",
   "execution_count": 52,
   "id": "a4fdbf67",
   "metadata": {},
   "outputs": [
    {
     "name": "stdout",
     "output_type": "stream",
     "text": [
      "Original list:  [5, 7, 2, 6, 9, 8]\n",
      "List with items squared:  [25, 49, 4, 36, 81, 64]\n"
     ]
    }
   ],
   "source": [
    "mylist_squared = list(map_object)\n",
    "print(\"Original list: \", mylist)\n",
    "print(\"List with items squared: \", mylist_squared)"
   ]
  },
  {
   "cell_type": "code",
   "execution_count": null,
   "id": "71016a2b",
   "metadata": {},
   "outputs": [],
   "source": []
  },
  {
   "cell_type": "code",
   "execution_count": null,
   "id": "496c7137",
   "metadata": {},
   "outputs": [],
   "source": []
  },
  {
   "cell_type": "markdown",
   "id": "244cd0e5",
   "metadata": {},
   "source": [
    "- We passed a user defined function `sqr(x)`, to the `map` function, along with the list of items on which to apply that function\n",
    "- `map()` function calls `sqr()` function on each list item and collects all the return values into a map object, which is type casted to a list\n",
    "- Since `map()` expects a function to be passed in, so this is where we can also use lambda functions as shown below"
   ]
  },
  {
   "cell_type": "markdown",
   "id": "cc317bfb",
   "metadata": {},
   "source": [
    "**Let us use Lambda Function as key argument to `map()` function to perform the above task**"
   ]
  },
  {
   "cell_type": "code",
   "execution_count": null,
   "id": "09a66b73",
   "metadata": {},
   "outputs": [],
   "source": []
  },
  {
   "cell_type": "code",
   "execution_count": null,
   "id": "7f56592d",
   "metadata": {},
   "outputs": [],
   "source": []
  },
  {
   "cell_type": "code",
   "execution_count": null,
   "id": "fb3e28c5",
   "metadata": {},
   "outputs": [],
   "source": []
  },
  {
   "cell_type": "code",
   "execution_count": 53,
   "id": "b8ba4b99",
   "metadata": {},
   "outputs": [],
   "source": [
    "# iterable as a list\n",
    "mylist = [5, 7, 2, 6, 9]\n",
    "\n",
    "# map function call\n",
    "map_object = map(lambda x: x ** 2 , mylist)"
   ]
  },
  {
   "cell_type": "code",
   "execution_count": 54,
   "id": "3fd1e6be",
   "metadata": {},
   "outputs": [
    {
     "name": "stdout",
     "output_type": "stream",
     "text": [
      "Original list:  [5, 7, 2, 6, 9]\n",
      "List with items squared:  [25, 49, 4, 36, 81]\n"
     ]
    }
   ],
   "source": [
    "mylist_squared = list(map_object)\n",
    "\n",
    "print(\"Original list: \", mylist)\n",
    "print(\"List with items squared: \", mylist_squared)"
   ]
  },
  {
   "cell_type": "code",
   "execution_count": null,
   "id": "d74e1f52",
   "metadata": {},
   "outputs": [],
   "source": []
  },
  {
   "cell_type": "code",
   "execution_count": null,
   "id": "fe649eb1",
   "metadata": {},
   "outputs": [],
   "source": []
  },
  {
   "cell_type": "markdown",
   "id": "a7f51bce",
   "metadata": {},
   "source": [
    "**Let us do this with List comprehension**"
   ]
  },
  {
   "cell_type": "code",
   "execution_count": 55,
   "id": "729dabcd",
   "metadata": {},
   "outputs": [
    {
     "data": {
      "text/plain": [
       "[25, 49, 4, 36, 81]"
      ]
     },
     "execution_count": 55,
     "metadata": {},
     "output_type": "execute_result"
    }
   ],
   "source": [
    "mylist = [5, 7, 2, 6, 9]\n",
    "newlist = [i**2 for i in mylist]\n",
    "newlist"
   ]
  },
  {
   "cell_type": "code",
   "execution_count": null,
   "id": "25fd1740",
   "metadata": {},
   "outputs": [],
   "source": []
  },
  {
   "cell_type": "code",
   "execution_count": null,
   "id": "f4b6f4e8",
   "metadata": {},
   "outputs": [],
   "source": []
  },
  {
   "cell_type": "code",
   "execution_count": null,
   "id": "bc84e2b1",
   "metadata": {},
   "outputs": [],
   "source": []
  },
  {
   "cell_type": "markdown",
   "id": "2fb35e15",
   "metadata": {},
   "source": [
    "### b. Example 2: \n",
    "**Given a list of numbers, suppose we want to create a new list in which every element is the remainder once the original list element is divided by 5**"
   ]
  },
  {
   "cell_type": "code",
   "execution_count": 56,
   "id": "f6851951",
   "metadata": {},
   "outputs": [
    {
     "name": "stdout",
     "output_type": "stream",
     "text": [
      "Original List :  [74, 85, 14, 23, 56, 32, 45]\n",
      "List of remainders : [4, 0, 4, 3, 1, 2, 0]\n"
     ]
    }
   ],
   "source": [
    "# 1st method using for loop\n",
    "mylist = [74, 85, 14, 23, 56, 32, 45 ]\n",
    "\n",
    "\n",
    "def remainders(list1):\n",
    "    new_remainders = []\n",
    "    for i in list1:\n",
    "        new_remainders.append(i%5)\n",
    "    return new_remainders\n",
    "\n",
    "# calling of function\n",
    "rv = remainders(mylist)\n",
    "\n",
    "\n",
    "print(\"Original List : \", mylist)\n",
    "print(\"List of remainders :\", rv)"
   ]
  },
  {
   "cell_type": "code",
   "execution_count": null,
   "id": "44b9e6f6",
   "metadata": {},
   "outputs": [],
   "source": []
  },
  {
   "cell_type": "markdown",
   "id": "b7e2c340",
   "metadata": {},
   "source": [
    "#### Second Method "
   ]
  },
  {
   "cell_type": "code",
   "execution_count": 57,
   "id": "72410ab7",
   "metadata": {},
   "outputs": [],
   "source": [
    "# 2nd method using list comphrension\n",
    "\n",
    "mylist = [74, 85, 14, 23, 56, 32, 45, 96 ]"
   ]
  },
  {
   "cell_type": "code",
   "execution_count": 58,
   "id": "5af02237",
   "metadata": {},
   "outputs": [],
   "source": [
    "# Regular Function\n",
    "def remainders(list1):\n",
    "    return [i%5 for i in list1] # List Comprehension"
   ]
  },
  {
   "cell_type": "code",
   "execution_count": 59,
   "id": "fa119871",
   "metadata": {},
   "outputs": [
    {
     "name": "stdout",
     "output_type": "stream",
     "text": [
      "Original List :  [74, 85, 14, 23, 56, 32, 45, 96]\n",
      "List of remainders : [4, 0, 4, 3, 1, 2, 0, 1]\n"
     ]
    }
   ],
   "source": [
    "rv = remainders(mylist)\n",
    "\n",
    "print(\"Original List : \", mylist)\n",
    "print(\"List of remainders :\", rv)"
   ]
  },
  {
   "cell_type": "code",
   "execution_count": null,
   "id": "578ed6ef",
   "metadata": {},
   "outputs": [],
   "source": []
  },
  {
   "cell_type": "code",
   "execution_count": 60,
   "id": "eefa34f7",
   "metadata": {},
   "outputs": [
    {
     "name": "stdout",
     "output_type": "stream",
     "text": [
      "Original list:  [74, 85, 14, 23, 56, 32, 45, 96]\n",
      "List of remainders:  [4, 0, 4, 3, 1, 2, 0, 1]\n"
     ]
    }
   ],
   "source": [
    "# 3rd method using map function\n",
    "mylist = [74, 85, 14, 23, 56, 32, 45, 96 ]\n",
    "\n",
    "\n",
    "remainders = list(map(lambda x:x%5,mylist))\n",
    "\n",
    "\n",
    "print(\"Original list: \", mylist)\n",
    "\n",
    "print(\"List of remainders: \", remainders)\n",
    "\n"
   ]
  },
  {
   "cell_type": "code",
   "execution_count": null,
   "id": "ab937bbb",
   "metadata": {},
   "outputs": [],
   "source": []
  },
  {
   "cell_type": "code",
   "execution_count": null,
   "id": "e47b575e",
   "metadata": {},
   "outputs": [],
   "source": []
  },
  {
   "cell_type": "code",
   "execution_count": null,
   "id": "47928f90",
   "metadata": {},
   "outputs": [],
   "source": []
  },
  {
   "cell_type": "markdown",
   "id": "08860906",
   "metadata": {},
   "source": [
    "### c. Example 3: \n",
    "**Suppose we want to add two lists, here we want to add each occurence of each list with its corresponding value**"
   ]
  },
  {
   "cell_type": "code",
   "execution_count": 61,
   "id": "b9993890",
   "metadata": {},
   "outputs": [],
   "source": [
    "mylist1 = [4, 8, 3, 2]\n",
    "mylist2 = [3, 1, 2, 6]"
   ]
  },
  {
   "cell_type": "code",
   "execution_count": 62,
   "id": "84adc4c9",
   "metadata": {},
   "outputs": [
    {
     "name": "stdout",
     "output_type": "stream",
     "text": [
      "[4, 8, 3, 2, 3, 1, 2, 6]\n"
     ]
    }
   ],
   "source": [
    "print(mylist1 + mylist2) #what's problem in this line of code?\n",
    "# This is simply list concatenation"
   ]
  },
  {
   "cell_type": "code",
   "execution_count": 63,
   "id": "450015b1",
   "metadata": {},
   "outputs": [
    {
     "data": {
      "text/plain": [
       "[4, 8, 3, 2, 3, 1, 2, 6]"
      ]
     },
     "execution_count": 63,
     "metadata": {},
     "output_type": "execute_result"
    }
   ],
   "source": [
    "#what's problem in this line of code?\n",
    "result = lambda a,b:a+b\n",
    "result(mylist1, mylist2)"
   ]
  },
  {
   "cell_type": "code",
   "execution_count": null,
   "id": "5c0dcd4c",
   "metadata": {},
   "outputs": [],
   "source": []
  },
  {
   "cell_type": "code",
   "execution_count": 65,
   "id": "a330e6b4",
   "metadata": {},
   "outputs": [
    {
     "name": "stdout",
     "output_type": "stream",
     "text": [
      "Sum of the two lists:  (7, 9, 5, 8)\n"
     ]
    }
   ],
   "source": [
    "# Method 01\n",
    "\n",
    "mylist1 = [4, 8, 3, 2]\n",
    "mylist2 = [3, 1, 2, 6]\n",
    "\n",
    "result = tuple(map(lambda a, b: a + b, mylist1, mylist2)) #two arguments are passed to lambda func (one from each list)\n",
    "print(\"Sum of the two lists: \", result)"
   ]
  },
  {
   "cell_type": "code",
   "execution_count": null,
   "id": "3aafe668",
   "metadata": {},
   "outputs": [],
   "source": []
  },
  {
   "cell_type": "code",
   "execution_count": null,
   "id": "48382432",
   "metadata": {},
   "outputs": [],
   "source": []
  },
  {
   "cell_type": "code",
   "execution_count": null,
   "id": "7b064f68",
   "metadata": {},
   "outputs": [],
   "source": []
  },
  {
   "cell_type": "code",
   "execution_count": null,
   "id": "e105b781",
   "metadata": {},
   "outputs": [],
   "source": [
    "# 2nd method using for loop\n",
    "def SumOfTwoList(list1, list2):\n",
    "    SUM = [] \n",
    "    for i in range(len(list1)):\n",
    "        if len(list1) == len(list2):\n",
    "            SUM.append(list1[i] + list2[i])\n",
    "        else:\n",
    "            print(\"The two lists must have the same length.\")\n",
    "    return SUM\n"
   ]
  },
  {
   "cell_type": "code",
   "execution_count": null,
   "id": "04e8eb06",
   "metadata": {},
   "outputs": [],
   "source": [
    "mylist1 = [4, 8, 3, 2]\n",
    "mylist2 = [3, 1, 2, 6]\n",
    "print(SumOfTwoList(mylist1, mylist2))"
   ]
  },
  {
   "cell_type": "code",
   "execution_count": null,
   "id": "a4d679a2",
   "metadata": {},
   "outputs": [],
   "source": []
  },
  {
   "cell_type": "code",
   "execution_count": null,
   "id": "f811a507",
   "metadata": {},
   "outputs": [],
   "source": []
  },
  {
   "cell_type": "markdown",
   "id": "8317cefe",
   "metadata": {},
   "source": [
    "### d. Example 4: \n",
    "**Given a list of strings, suppose we want to create another list that contains the length of each string in the list**"
   ]
  },
  {
   "cell_type": "code",
   "execution_count": 71,
   "id": "858579c9",
   "metadata": {},
   "outputs": [
    {
     "data": {
      "text/plain": [
       "[8, 3, 6, 3]"
      ]
     },
     "execution_count": 71,
     "metadata": {},
     "output_type": "execute_result"
    }
   ],
   "source": [
    "# First Method using user defined function and list comprehension\n",
    "\n",
    "def CalLength(List_of_String):\n",
    "    return [len(i) for i in List_of_String]\n",
    "\n",
    "\n",
    "list1 = ['Ehtisham', 'Ali', 'Ayesha', 'Dua']\n",
    "\n",
    "CalLength(list1)"
   ]
  },
  {
   "cell_type": "code",
   "execution_count": 72,
   "id": "60794047",
   "metadata": {},
   "outputs": [
    {
     "name": "stdout",
     "output_type": "stream",
     "text": [
      "Original List is :  ('Ehtisham', 'Ali', 'Ayesha', 'Dua')\n",
      "Length of each element of List :  [8, 3, 6, 3]\n"
     ]
    }
   ],
   "source": [
    "# Second Method using for loop and user defined function\n",
    "\n",
    "def CalLength(List_of_String):\n",
    "    list_of_length = []\n",
    "    \n",
    "    for i in List_of_String:\n",
    "        list_of_length.append(len(i))\n",
    "    return list_of_length\n",
    "\n",
    "\n",
    "list1 = ('Ehtisham', 'Ali', 'Ayesha', 'Dua')\n",
    "rv = CalLength(list1)\n",
    "\n",
    "print(\"Original List is : \", list1)\n",
    "print(\"Length of each element of List : \", rv)\n",
    "\n"
   ]
  },
  {
   "cell_type": "code",
   "execution_count": null,
   "id": "196a7c46",
   "metadata": {},
   "outputs": [],
   "source": []
  },
  {
   "cell_type": "code",
   "execution_count": 73,
   "id": "ff9ded98",
   "metadata": {},
   "outputs": [
    {
     "name": "stdout",
     "output_type": "stream",
     "text": [
      "Length of Strings in list1:  [8, 3, 6, 3]\n"
     ]
    }
   ],
   "source": [
    "# 3rd method using map function\n",
    "list1 = ('Ehtisham', 'Ali', 'Ayesha', 'Dua')\n",
    "result = list(map(lambda a: len(a), list1))\n",
    "print(\"Length of Strings in list1: \", result)"
   ]
  },
  {
   "cell_type": "code",
   "execution_count": null,
   "id": "874a653c",
   "metadata": {},
   "outputs": [],
   "source": []
  },
  {
   "cell_type": "code",
   "execution_count": null,
   "id": "f33df569",
   "metadata": {},
   "outputs": [],
   "source": [
    "# Python Intro\n",
    "# variables\n",
    "# operators \n",
    "# indentation and comments\n",
    "# data-types(mutable and immutable)\n",
    "# string, tuple, numbers\n",
    "# list, dictionary\n",
    "# tuple, set\n",
    "# loops, control structures\n",
    "# functions"
   ]
  },
  {
   "cell_type": "markdown",
   "id": "bd9064d1",
   "metadata": {},
   "source": [
    "# Bonus"
   ]
  },
  {
   "cell_type": "code",
   "execution_count": 2,
   "id": "7a1954b4",
   "metadata": {},
   "outputs": [],
   "source": [
    "# pandas and seaorn \n",
    "import pandas as pd\n",
    "import seaborn as sns"
   ]
  },
  {
   "cell_type": "code",
   "execution_count": 3,
   "id": "71c09c83",
   "metadata": {},
   "outputs": [],
   "source": [
    "# loading dataset\n",
    "df = sns.load_dataset('titanic')"
   ]
  },
  {
   "cell_type": "code",
   "execution_count": 4,
   "id": "d7b8357c",
   "metadata": {},
   "outputs": [
    {
     "data": {
      "text/html": [
       "<div>\n",
       "<style scoped>\n",
       "    .dataframe tbody tr th:only-of-type {\n",
       "        vertical-align: middle;\n",
       "    }\n",
       "\n",
       "    .dataframe tbody tr th {\n",
       "        vertical-align: top;\n",
       "    }\n",
       "\n",
       "    .dataframe thead th {\n",
       "        text-align: right;\n",
       "    }\n",
       "</style>\n",
       "<table border=\"1\" class=\"dataframe\">\n",
       "  <thead>\n",
       "    <tr style=\"text-align: right;\">\n",
       "      <th></th>\n",
       "      <th>survived</th>\n",
       "      <th>pclass</th>\n",
       "      <th>sex</th>\n",
       "      <th>age</th>\n",
       "      <th>sibsp</th>\n",
       "      <th>parch</th>\n",
       "      <th>fare</th>\n",
       "      <th>embarked</th>\n",
       "      <th>class</th>\n",
       "      <th>who</th>\n",
       "      <th>adult_male</th>\n",
       "      <th>deck</th>\n",
       "      <th>embark_town</th>\n",
       "      <th>alive</th>\n",
       "      <th>alone</th>\n",
       "    </tr>\n",
       "  </thead>\n",
       "  <tbody>\n",
       "    <tr>\n",
       "      <th>0</th>\n",
       "      <td>0</td>\n",
       "      <td>3</td>\n",
       "      <td>male</td>\n",
       "      <td>22.0</td>\n",
       "      <td>1</td>\n",
       "      <td>0</td>\n",
       "      <td>7.2500</td>\n",
       "      <td>S</td>\n",
       "      <td>Third</td>\n",
       "      <td>man</td>\n",
       "      <td>True</td>\n",
       "      <td>NaN</td>\n",
       "      <td>Southampton</td>\n",
       "      <td>no</td>\n",
       "      <td>False</td>\n",
       "    </tr>\n",
       "    <tr>\n",
       "      <th>1</th>\n",
       "      <td>1</td>\n",
       "      <td>1</td>\n",
       "      <td>female</td>\n",
       "      <td>38.0</td>\n",
       "      <td>1</td>\n",
       "      <td>0</td>\n",
       "      <td>71.2833</td>\n",
       "      <td>C</td>\n",
       "      <td>First</td>\n",
       "      <td>woman</td>\n",
       "      <td>False</td>\n",
       "      <td>C</td>\n",
       "      <td>Cherbourg</td>\n",
       "      <td>yes</td>\n",
       "      <td>False</td>\n",
       "    </tr>\n",
       "    <tr>\n",
       "      <th>2</th>\n",
       "      <td>1</td>\n",
       "      <td>3</td>\n",
       "      <td>female</td>\n",
       "      <td>26.0</td>\n",
       "      <td>0</td>\n",
       "      <td>0</td>\n",
       "      <td>7.9250</td>\n",
       "      <td>S</td>\n",
       "      <td>Third</td>\n",
       "      <td>woman</td>\n",
       "      <td>False</td>\n",
       "      <td>NaN</td>\n",
       "      <td>Southampton</td>\n",
       "      <td>yes</td>\n",
       "      <td>True</td>\n",
       "    </tr>\n",
       "    <tr>\n",
       "      <th>3</th>\n",
       "      <td>1</td>\n",
       "      <td>1</td>\n",
       "      <td>female</td>\n",
       "      <td>35.0</td>\n",
       "      <td>1</td>\n",
       "      <td>0</td>\n",
       "      <td>53.1000</td>\n",
       "      <td>S</td>\n",
       "      <td>First</td>\n",
       "      <td>woman</td>\n",
       "      <td>False</td>\n",
       "      <td>C</td>\n",
       "      <td>Southampton</td>\n",
       "      <td>yes</td>\n",
       "      <td>False</td>\n",
       "    </tr>\n",
       "    <tr>\n",
       "      <th>4</th>\n",
       "      <td>0</td>\n",
       "      <td>3</td>\n",
       "      <td>male</td>\n",
       "      <td>35.0</td>\n",
       "      <td>0</td>\n",
       "      <td>0</td>\n",
       "      <td>8.0500</td>\n",
       "      <td>S</td>\n",
       "      <td>Third</td>\n",
       "      <td>man</td>\n",
       "      <td>True</td>\n",
       "      <td>NaN</td>\n",
       "      <td>Southampton</td>\n",
       "      <td>no</td>\n",
       "      <td>True</td>\n",
       "    </tr>\n",
       "  </tbody>\n",
       "</table>\n",
       "</div>"
      ],
      "text/plain": [
       "   survived  pclass     sex   age  sibsp  parch     fare embarked  class  \\\n",
       "0         0       3    male  22.0      1      0   7.2500        S  Third   \n",
       "1         1       1  female  38.0      1      0  71.2833        C  First   \n",
       "2         1       3  female  26.0      0      0   7.9250        S  Third   \n",
       "3         1       1  female  35.0      1      0  53.1000        S  First   \n",
       "4         0       3    male  35.0      0      0   8.0500        S  Third   \n",
       "\n",
       "     who  adult_male deck  embark_town alive  alone  \n",
       "0    man        True  NaN  Southampton    no  False  \n",
       "1  woman       False    C    Cherbourg   yes  False  \n",
       "2  woman       False  NaN  Southampton   yes   True  \n",
       "3  woman       False    C  Southampton   yes  False  \n",
       "4    man        True  NaN  Southampton    no   True  "
      ]
     },
     "execution_count": 4,
     "metadata": {},
     "output_type": "execute_result"
    }
   ],
   "source": [
    "df.head()"
   ]
  },
  {
   "cell_type": "code",
   "execution_count": 5,
   "id": "0284cfb4",
   "metadata": {},
   "outputs": [
    {
     "data": {
      "text/plain": [
       "pclass\n",
       "3    491\n",
       "1    216\n",
       "2    184\n",
       "Name: count, dtype: int64"
      ]
     },
     "execution_count": 5,
     "metadata": {},
     "output_type": "execute_result"
    }
   ],
   "source": [
    "df.pclass.value_counts()"
   ]
  },
  {
   "cell_type": "code",
   "execution_count": null,
   "id": "1d101049",
   "metadata": {},
   "outputs": [],
   "source": []
  },
  {
   "cell_type": "code",
   "execution_count": 6,
   "id": "cd89193b",
   "metadata": {},
   "outputs": [],
   "source": [
    "# df.isna().sum()\n",
    "def modify_pclass(x):\n",
    "    if x==3:\n",
    "        return \"Third Class\"\n",
    "    elif x==2:\n",
    "        return \"Second Class\"\n",
    "    elif x==1:\n",
    "        return \"First Class\"\n",
    "    else:\n",
    "        pass"
   ]
  },
  {
   "cell_type": "code",
   "execution_count": 7,
   "id": "b8f5b510-d659-4ea4-9654-c9897f319cc8",
   "metadata": {},
   "outputs": [
    {
     "data": {
      "text/plain": [
       "0      3\n",
       "1      1\n",
       "2      3\n",
       "3      1\n",
       "4      3\n",
       "      ..\n",
       "886    2\n",
       "887    1\n",
       "888    3\n",
       "889    1\n",
       "890    3\n",
       "Name: pclass, Length: 891, dtype: int64"
      ]
     },
     "execution_count": 7,
     "metadata": {},
     "output_type": "execute_result"
    }
   ],
   "source": [
    "df.pclass"
   ]
  },
  {
   "cell_type": "code",
   "execution_count": 10,
   "id": "054be189-d1a7-4389-b478-e12e32a41c57",
   "metadata": {},
   "outputs": [],
   "source": [
    "# list(map(modify_pclass, df.pclass))"
   ]
  },
  {
   "cell_type": "code",
   "execution_count": 11,
   "id": "7b2c4414",
   "metadata": {},
   "outputs": [],
   "source": [
    "df['pclass']  = df.pclass.map(modify_pclass)"
   ]
  },
  {
   "cell_type": "code",
   "execution_count": 12,
   "id": "f8a21050",
   "metadata": {},
   "outputs": [
    {
     "data": {
      "text/html": [
       "<div>\n",
       "<style scoped>\n",
       "    .dataframe tbody tr th:only-of-type {\n",
       "        vertical-align: middle;\n",
       "    }\n",
       "\n",
       "    .dataframe tbody tr th {\n",
       "        vertical-align: top;\n",
       "    }\n",
       "\n",
       "    .dataframe thead th {\n",
       "        text-align: right;\n",
       "    }\n",
       "</style>\n",
       "<table border=\"1\" class=\"dataframe\">\n",
       "  <thead>\n",
       "    <tr style=\"text-align: right;\">\n",
       "      <th></th>\n",
       "      <th>survived</th>\n",
       "      <th>pclass</th>\n",
       "      <th>sex</th>\n",
       "      <th>age</th>\n",
       "      <th>sibsp</th>\n",
       "      <th>parch</th>\n",
       "      <th>fare</th>\n",
       "      <th>embarked</th>\n",
       "      <th>class</th>\n",
       "      <th>who</th>\n",
       "      <th>adult_male</th>\n",
       "      <th>deck</th>\n",
       "      <th>embark_town</th>\n",
       "      <th>alive</th>\n",
       "      <th>alone</th>\n",
       "    </tr>\n",
       "  </thead>\n",
       "  <tbody>\n",
       "    <tr>\n",
       "      <th>0</th>\n",
       "      <td>0</td>\n",
       "      <td>Third Class</td>\n",
       "      <td>male</td>\n",
       "      <td>22.0</td>\n",
       "      <td>1</td>\n",
       "      <td>0</td>\n",
       "      <td>7.2500</td>\n",
       "      <td>S</td>\n",
       "      <td>Third</td>\n",
       "      <td>man</td>\n",
       "      <td>True</td>\n",
       "      <td>NaN</td>\n",
       "      <td>Southampton</td>\n",
       "      <td>no</td>\n",
       "      <td>False</td>\n",
       "    </tr>\n",
       "    <tr>\n",
       "      <th>1</th>\n",
       "      <td>1</td>\n",
       "      <td>First Class</td>\n",
       "      <td>female</td>\n",
       "      <td>38.0</td>\n",
       "      <td>1</td>\n",
       "      <td>0</td>\n",
       "      <td>71.2833</td>\n",
       "      <td>C</td>\n",
       "      <td>First</td>\n",
       "      <td>woman</td>\n",
       "      <td>False</td>\n",
       "      <td>C</td>\n",
       "      <td>Cherbourg</td>\n",
       "      <td>yes</td>\n",
       "      <td>False</td>\n",
       "    </tr>\n",
       "    <tr>\n",
       "      <th>2</th>\n",
       "      <td>1</td>\n",
       "      <td>Third Class</td>\n",
       "      <td>female</td>\n",
       "      <td>26.0</td>\n",
       "      <td>0</td>\n",
       "      <td>0</td>\n",
       "      <td>7.9250</td>\n",
       "      <td>S</td>\n",
       "      <td>Third</td>\n",
       "      <td>woman</td>\n",
       "      <td>False</td>\n",
       "      <td>NaN</td>\n",
       "      <td>Southampton</td>\n",
       "      <td>yes</td>\n",
       "      <td>True</td>\n",
       "    </tr>\n",
       "    <tr>\n",
       "      <th>3</th>\n",
       "      <td>1</td>\n",
       "      <td>First Class</td>\n",
       "      <td>female</td>\n",
       "      <td>35.0</td>\n",
       "      <td>1</td>\n",
       "      <td>0</td>\n",
       "      <td>53.1000</td>\n",
       "      <td>S</td>\n",
       "      <td>First</td>\n",
       "      <td>woman</td>\n",
       "      <td>False</td>\n",
       "      <td>C</td>\n",
       "      <td>Southampton</td>\n",
       "      <td>yes</td>\n",
       "      <td>False</td>\n",
       "    </tr>\n",
       "    <tr>\n",
       "      <th>4</th>\n",
       "      <td>0</td>\n",
       "      <td>Third Class</td>\n",
       "      <td>male</td>\n",
       "      <td>35.0</td>\n",
       "      <td>0</td>\n",
       "      <td>0</td>\n",
       "      <td>8.0500</td>\n",
       "      <td>S</td>\n",
       "      <td>Third</td>\n",
       "      <td>man</td>\n",
       "      <td>True</td>\n",
       "      <td>NaN</td>\n",
       "      <td>Southampton</td>\n",
       "      <td>no</td>\n",
       "      <td>True</td>\n",
       "    </tr>\n",
       "  </tbody>\n",
       "</table>\n",
       "</div>"
      ],
      "text/plain": [
       "   survived       pclass     sex   age  sibsp  parch     fare embarked  class  \\\n",
       "0         0  Third Class    male  22.0      1      0   7.2500        S  Third   \n",
       "1         1  First Class  female  38.0      1      0  71.2833        C  First   \n",
       "2         1  Third Class  female  26.0      0      0   7.9250        S  Third   \n",
       "3         1  First Class  female  35.0      1      0  53.1000        S  First   \n",
       "4         0  Third Class    male  35.0      0      0   8.0500        S  Third   \n",
       "\n",
       "     who  adult_male deck  embark_town alive  alone  \n",
       "0    man        True  NaN  Southampton    no  False  \n",
       "1  woman       False    C    Cherbourg   yes  False  \n",
       "2  woman       False  NaN  Southampton   yes   True  \n",
       "3  woman       False    C  Southampton   yes  False  \n",
       "4    man        True  NaN  Southampton    no   True  "
      ]
     },
     "execution_count": 12,
     "metadata": {},
     "output_type": "execute_result"
    }
   ],
   "source": [
    "df.head()"
   ]
  },
  {
   "cell_type": "code",
   "execution_count": 13,
   "id": "02f30864",
   "metadata": {},
   "outputs": [
    {
     "data": {
      "text/plain": [
       "pclass\n",
       "Third Class     491\n",
       "First Class     216\n",
       "Second Class    184\n",
       "Name: count, dtype: int64"
      ]
     },
     "execution_count": 13,
     "metadata": {},
     "output_type": "execute_result"
    }
   ],
   "source": [
    "df.pclass.value_counts()"
   ]
  },
  {
   "cell_type": "code",
   "execution_count": null,
   "id": "d26da40e",
   "metadata": {},
   "outputs": [],
   "source": []
  },
  {
   "cell_type": "code",
   "execution_count": null,
   "id": "e70d717a",
   "metadata": {},
   "outputs": [],
   "source": []
  },
  {
   "cell_type": "code",
   "execution_count": null,
   "id": "c62d9a2b",
   "metadata": {},
   "outputs": [],
   "source": []
  },
  {
   "cell_type": "code",
   "execution_count": null,
   "id": "5efa6b6c",
   "metadata": {},
   "outputs": [],
   "source": []
  },
  {
   "cell_type": "markdown",
   "id": "4bb135cb",
   "metadata": {},
   "source": [
    "## 4. Using Lambda Function as Argument to built-in `filter()` Function\n",
    "```\n",
    "filter(function or None, iterable)\n",
    "```\n",
    "- The `filter()` function offers a convenient way to filter out all the elements of an iterable, for which the function returns true.\n",
    "- If function argument is None, return the items that are itself True.\n",
    "- The filter object contains only those items of iterable for which  `function(item)` returns True. \n",
    "- The original iterable remains unchanged. \n",
    "- The filter object can be converted to a list using the `list()` function"
   ]
  },
  {
   "cell_type": "markdown",
   "id": "bbbfc7f8",
   "metadata": {},
   "source": [
    "### a. Example 1: \n",
    "**A very basic usage of `filter()`, that returns the True elements of a list**\n",
    "- In Python, the following objects are considered false:\n",
    "    >- Constants like `None` and `False`\n",
    "    >- Numeric types having values: 0, 0.0, 0j\n",
    "    >- Empty sequences and collections like `\"\"`, `()`, `[]`, `{}`, `set()`, and `range(0)`"
   ]
  },
  {
   "cell_type": "code",
   "execution_count": 15,
   "id": "83a389c0-6788-4ede-b311-4656cb9779f5",
   "metadata": {},
   "outputs": [
    {
     "data": {
      "text/plain": [
       "True"
      ]
     },
     "execution_count": 15,
     "metadata": {},
     "output_type": "execute_result"
    }
   ],
   "source": [
    "bool(5)"
   ]
  },
  {
   "cell_type": "code",
   "execution_count": 14,
   "id": "1d307c7e",
   "metadata": {},
   "outputs": [
    {
     "name": "stdout",
     "output_type": "stream",
     "text": [
      "<filter object at 0x1417b20b0>\n",
      "<class 'filter'>\n",
      "[5, -3, True, 9, 8]\n"
     ]
    }
   ],
   "source": [
    "mylist = [5, 0, -3, {}, False, 0.0, True, 9, 0j, (), None, 8]\n",
    "\n",
    "result = filter(None, mylist)\n",
    "print(result)\n",
    "print(type(result))\n",
    "print(list(result))"
   ]
  },
  {
   "cell_type": "code",
   "execution_count": null,
   "id": "721241b5",
   "metadata": {},
   "outputs": [],
   "source": []
  },
  {
   "cell_type": "code",
   "execution_count": null,
   "id": "bdab3558",
   "metadata": {},
   "outputs": [],
   "source": []
  },
  {
   "cell_type": "markdown",
   "id": "fb82490b",
   "metadata": {},
   "source": [
    "### b. Example 2: \n",
    "**Suppose we want to extract even numbers from a list**"
   ]
  },
  {
   "cell_type": "markdown",
   "id": "9546b645",
   "metadata": {},
   "source": [
    "#### Use map method to do this task\n"
   ]
  },
  {
   "cell_type": "code",
   "execution_count": 16,
   "id": "bb0f0fec",
   "metadata": {},
   "outputs": [
    {
     "data": {
      "text/plain": [
       "[1, 5, 4, 6, 8, 11, 3, 12]"
      ]
     },
     "execution_count": 16,
     "metadata": {},
     "output_type": "execute_result"
    }
   ],
   "source": [
    "numbers = [1, 5, 4, 6, 8, 11, 3, 12]\n",
    "numbers"
   ]
  },
  {
   "cell_type": "code",
   "execution_count": 17,
   "id": "c7c07f6f",
   "metadata": {},
   "outputs": [
    {
     "data": {
      "text/plain": [
       "[False, False, True, True, True, False, False, True]"
      ]
     },
     "execution_count": 17,
     "metadata": {},
     "output_type": "execute_result"
    }
   ],
   "source": [
    "Object2 = list(map(lambda a:a%2==0, numbers))\n",
    "Object2\n",
    "# map function will not work for this task"
   ]
  },
  {
   "cell_type": "code",
   "execution_count": null,
   "id": "0c221813",
   "metadata": {},
   "outputs": [],
   "source": []
  },
  {
   "cell_type": "code",
   "execution_count": 18,
   "id": "6a3ddf55",
   "metadata": {},
   "outputs": [
    {
     "name": "stdout",
     "output_type": "stream",
     "text": [
      "Original List :  [1, 5, 4, 6, 8, 11, 3, 12]\n",
      "List of even numbers :  [4, 6, 8, 12]\n"
     ]
    }
   ],
   "source": [
    "# First Method using user defined Function and list comprehension\n",
    "\n",
    "def even_number(list1):\n",
    "    return [i for i in list1 if i%2==0]\n",
    "\n",
    "rv =even_number(numbers) \n",
    "\n",
    "print(\"Original List : \", numbers)\n",
    "\n",
    "print(\"List of even numbers : \", rv)"
   ]
  },
  {
   "cell_type": "code",
   "execution_count": null,
   "id": "d9fa4e9f",
   "metadata": {},
   "outputs": [],
   "source": []
  },
  {
   "cell_type": "code",
   "execution_count": 19,
   "id": "6a0e6e15",
   "metadata": {},
   "outputs": [
    {
     "name": "stdout",
     "output_type": "stream",
     "text": [
      "Original List :  [1, 5, 4, 6, 8, 11, 3, 12]\n",
      "List of even numbers :  [4, 6, 8, 12]\n"
     ]
    }
   ],
   "source": [
    "# First Method using user defined Function and for loop\n",
    "def even_number(list1):\n",
    "    even_list = []\n",
    "    for i in list1:\n",
    "        if i%2==0:\n",
    "            even_list.append(i)\n",
    "    return even_list\n",
    "\n",
    "\n",
    "rv =even_number(numbers) \n",
    "print(\"Original List : \", numbers)\n",
    "print(\"List of even numbers : \", rv)"
   ]
  },
  {
   "cell_type": "code",
   "execution_count": null,
   "id": "668b423a",
   "metadata": {},
   "outputs": [],
   "source": []
  },
  {
   "cell_type": "code",
   "execution_count": 20,
   "id": "c94c7b27",
   "metadata": {},
   "outputs": [
    {
     "name": "stdout",
     "output_type": "stream",
     "text": [
      "Even numbers in the list are:  [4, 6, 8, 12]\n"
     ]
    }
   ],
   "source": [
    "# 3rd method using lambda and filter function\n",
    "numbers = [1, 5, 4, 6, 8, 11, 3, 12]\n",
    "result = list(filter(lambda x: x%2 == 0 , numbers))\n",
    "print(\"Even numbers in the list are: \", result)"
   ]
  },
  {
   "cell_type": "code",
   "execution_count": null,
   "id": "695908eb",
   "metadata": {},
   "outputs": [],
   "source": []
  },
  {
   "cell_type": "code",
   "execution_count": null,
   "id": "268b19a6",
   "metadata": {},
   "outputs": [],
   "source": []
  },
  {
   "cell_type": "markdown",
   "id": "eb8125ee",
   "metadata": {},
   "source": [
    "### c. Example 3: \n",
    "**Suppose we want to extract negative numbers from a list**"
   ]
  },
  {
   "cell_type": "code",
   "execution_count": 21,
   "id": "80bc9914",
   "metadata": {},
   "outputs": [
    {
     "name": "stdout",
     "output_type": "stream",
     "text": [
      "Original List :  [25, -3, -8, 17, 3, 8, -3, 6, -7, 0]\n",
      "List of Negative Numbers is :  [-3, -8, -3, -7]\n"
     ]
    }
   ],
   "source": [
    "# First Method using user defined function and list comprehension\n",
    "numbers = [25, -3, -8, 17, 3, 8, -3, 6, -7, 0]\n",
    "def getNegative(list1):\n",
    "    return [i for i in list1 if i<0]\n",
    "\n",
    "\n",
    "rv = getNegative(numbers)\n",
    "print(\"Original List : \", numbers)\n",
    "print(\"List of Negative Numbers is : \", rv)"
   ]
  },
  {
   "cell_type": "code",
   "execution_count": null,
   "id": "40770bff",
   "metadata": {},
   "outputs": [],
   "source": []
  },
  {
   "cell_type": "code",
   "execution_count": 23,
   "id": "8ee830fc",
   "metadata": {},
   "outputs": [
    {
     "name": "stdout",
     "output_type": "stream",
     "text": [
      "Original List :  [25, -3, -8, 17, 3, 8, -3, 6, -7, 0]\n",
      "List of Negative Numbers is :  [-3, -8, -3, -7]\n"
     ]
    }
   ],
   "source": [
    "# Second method using user defined functions and for loop\n",
    "numbers = [25, -3, -8, 17, 3, 8, -3, 6, -7, 0]\n",
    "def getNegative(list1):\n",
    "    negativeList = []\n",
    "    for i in list1:\n",
    "        if i<0:\n",
    "            negativeList.append(i)\n",
    "    return negativeList\n",
    "\n",
    "\n",
    "rv = getNegative(numbers)\n",
    "print(\"Original List : \", numbers)\n",
    "print(\"List of Negative Numbers is : \", rv)"
   ]
  },
  {
   "cell_type": "code",
   "execution_count": null,
   "id": "6e831e13",
   "metadata": {},
   "outputs": [],
   "source": []
  },
  {
   "cell_type": "code",
   "execution_count": null,
   "id": "82503f6e",
   "metadata": {},
   "outputs": [],
   "source": []
  },
  {
   "cell_type": "code",
   "execution_count": 22,
   "id": "a63237fb",
   "metadata": {},
   "outputs": [
    {
     "name": "stdout",
     "output_type": "stream",
     "text": [
      "Negative numbers in the list are:  [-3, -8, -3, -7]\n"
     ]
    }
   ],
   "source": [
    "# 3rd method using lambda and filter function\n",
    "numbers = [25, -3, -8, 17, 3, 8, -3, 6, -7, 0]\n",
    "\n",
    "result = list(filter(lambda x: x<0, numbers))\n",
    "print(\"Negative numbers in the list are: \", result)"
   ]
  },
  {
   "cell_type": "code",
   "execution_count": null,
   "id": "36da9764",
   "metadata": {},
   "outputs": [],
   "source": []
  },
  {
   "cell_type": "code",
   "execution_count": null,
   "id": "61f143ee",
   "metadata": {},
   "outputs": [],
   "source": []
  },
  {
   "cell_type": "markdown",
   "id": "af17ee88",
   "metadata": {},
   "source": [
    "### d. Example 4: \n",
    "**Suppose we want to extract vowels from a list of alphabets**"
   ]
  },
  {
   "cell_type": "code",
   "execution_count": 24,
   "id": "3cf8791f",
   "metadata": {},
   "outputs": [
    {
     "name": "stdout",
     "output_type": "stream",
     "text": [
      "Original List :  ['i', 'z', 'b', 'a', 'd', 'f', 't', 'e', 'w', 'x']\n",
      "List of Vowels in the List of Alphabets :  ['i', 'a', 'e']\n"
     ]
    }
   ],
   "source": [
    "# First Method using user defined function and for loop\n",
    "def ExtractVowels(ListOfCharacters):\n",
    "    \n",
    "    vowels = ['a','e','i','o','u']\n",
    "    \n",
    "    ListOfVowels = []\n",
    "    \n",
    "    for i in ListOfCharacters:\n",
    "        if i in vowels:\n",
    "            ListOfVowels.append(i)\n",
    "    \n",
    "    print(\"Original List : \", ListOfCharacters)\n",
    "    \n",
    "    print(\"List of Vowels in the List of Alphabets : \", ListOfVowels)\n",
    "\n",
    "    \n",
    "characters = ['i', 'z', 'b', 'a', 'd', 'f', 't', 'e','w', 'x']\n",
    "ExtractVowels(characters)"
   ]
  },
  {
   "cell_type": "code",
   "execution_count": null,
   "id": "262016f3",
   "metadata": {},
   "outputs": [],
   "source": []
  },
  {
   "cell_type": "code",
   "execution_count": null,
   "id": "12a9ee2c",
   "metadata": {},
   "outputs": [],
   "source": []
  },
  {
   "cell_type": "code",
   "execution_count": 25,
   "id": "1dec69fc",
   "metadata": {},
   "outputs": [
    {
     "name": "stdout",
     "output_type": "stream",
     "text": [
      "Original List :  ['i', 'z', 'b', 'a', 'd', 'f', 't', 'e', 'w', 'x']\n",
      "List of Vowels in the List of Alphabets :  ['i', 'a', 'e']\n"
     ]
    }
   ],
   "source": [
    "# Second Method using user defined function and List comprehension\n",
    "\n",
    "def ExtractVowels(ListOfCharacters):\n",
    "    vowels = ['a','e','i','o','u']\n",
    "    \n",
    "    ListOfVowels =[i for i in ListOfCharacters if i in vowels]\n",
    "    \n",
    "    print(\"Original List : \", ListOfCharacters)\n",
    "    print(\"List of Vowels in the List of Alphabets : \", ListOfVowels)\n",
    "\n",
    "    \n",
    "characters = ['i', 'z', 'b', 'a', 'd', 'f', 't', 'e','w', 'x']\n",
    "ExtractVowels(characters)"
   ]
  },
  {
   "cell_type": "code",
   "execution_count": null,
   "id": "9aaf706b",
   "metadata": {},
   "outputs": [],
   "source": []
  },
  {
   "cell_type": "code",
   "execution_count": null,
   "id": "5c66e695",
   "metadata": {},
   "outputs": [],
   "source": []
  },
  {
   "cell_type": "code",
   "execution_count": 26,
   "id": "2e48544d",
   "metadata": {},
   "outputs": [
    {
     "name": "stdout",
     "output_type": "stream",
     "text": [
      "Vowels in the list are:  ['i', 'a', 'e']\n"
     ]
    }
   ],
   "source": [
    "characters = ['i', 'z', 'b', 'a', 'd', 'f', 't', 'e','w', 'x']\n",
    "vowels = ['a', 'e', 'i', 'o', 'u']\n",
    "\n",
    "\n",
    "result = filter(lambda x: x in vowels, characters)\n",
    "result = list(result)    \n",
    "print(\"Vowels in the list are: \", result)"
   ]
  },
  {
   "cell_type": "code",
   "execution_count": null,
   "id": "9f6c4cd2",
   "metadata": {},
   "outputs": [],
   "source": []
  },
  {
   "cell_type": "code",
   "execution_count": null,
   "id": "2e623ba8",
   "metadata": {},
   "outputs": [],
   "source": []
  },
  {
   "cell_type": "markdown",
   "id": "581ebe37",
   "metadata": {},
   "source": [
    "## 5. Using Lambda Function as Argument to built-in `reduce()` Function\n",
    "- Python's reduce() is a function that implements a mathematical technique called folding or reduction. reduce() is useful when you need to apply a function to an iterable and reduce it to a single cumulative value.\n",
    "- The `reduce()` works differently than `map()` and `filter()`. It does not return a new iterable based on the function and iterable we've passed. Instead, it returns a single value.\n",
    "```\n",
    "reduce(func, sequence[, initial])\n",
    "```\n",
    "<img align=\"right\" width=\"300\" height=\"300\"  src=\"images/reduce.png\" > \n",
    "\n",
    "- If seq = `[ s1, s2, s3, ... , sn ]`, then calling `reduce(func, seq)` works like this:\n",
    "    - Apply `func` argument to the first two items in the iterable and generate a partial result, i.e. `func(s1,s2)`\n",
    "    - The list on which `reduce()` works looks now like this: `[ func(s1, s2), s3, ... , sn ]`\n",
    "    - In the next step the function will be applied on the previous result and the third element of the list, i.e. `func(func(s1, s2),s3)`\n",
    "    - The list looks like this now: `[ function(function(s1, s2),s3), ... , sn ]`\n",
    "    - It continues like this until just one element is left and return this element as the result of `reduce()`\n",
    "- If initial is present, it is placed before the items of the sequence in the calculation, and serves as a default when the sequence is empty. The optional argument `initial` when provided is used as the 0th element\n",
    "- In Python 3.x, if you need to use `reduce()`, then you first have to import the function into your current scope using an import statement in one of the following ways:\n",
    "    - `import functools` and then use fully-qualified names like functools.reduce().\n",
    "    - `from functools import reduce` and then call reduce() directly.\n",
    "    "
   ]
  },
  {
   "cell_type": "code",
   "execution_count": null,
   "id": "ee9a028f",
   "metadata": {},
   "outputs": [],
   "source": [
    "# list1 = [10,3,4,5,6,7]\n",
    "# reduce(func, list1,10) # 7+5,12+6,18+7,25"
   ]
  },
  {
   "cell_type": "code",
   "execution_count": 27,
   "id": "8791aadf",
   "metadata": {},
   "outputs": [
    {
     "ename": "NameError",
     "evalue": "name 'reduce' is not defined",
     "output_type": "error",
     "traceback": [
      "\u001b[0;31m---------------------------------------------------------------------------\u001b[0m",
      "\u001b[0;31mNameError\u001b[0m                                 Traceback (most recent call last)",
      "Cell \u001b[0;32mIn[27], line 1\u001b[0m\n\u001b[0;32m----> 1\u001b[0m help(reduce)\n",
      "\u001b[0;31mNameError\u001b[0m: name 'reduce' is not defined"
     ]
    }
   ],
   "source": [
    "help(reduce)"
   ]
  },
  {
   "cell_type": "code",
   "execution_count": 28,
   "id": "0dc1a5b4",
   "metadata": {},
   "outputs": [],
   "source": [
    "import functools"
   ]
  },
  {
   "cell_type": "code",
   "execution_count": 29,
   "id": "637c8060",
   "metadata": {},
   "outputs": [
    {
     "name": "stdout",
     "output_type": "stream",
     "text": [
      "['GenericAlias', 'RLock', 'WRAPPER_ASSIGNMENTS', 'WRAPPER_UPDATES', '_CacheInfo', '_HashedSeq', '_NOT_FOUND', '__all__', '__builtins__', '__cached__', '__doc__', '__file__', '__loader__', '__name__', '__package__', '__spec__', '_c3_merge', '_c3_mro', '_compose_mro', '_convert', '_find_impl', '_ge_from_gt', '_ge_from_le', '_ge_from_lt', '_gt_from_ge', '_gt_from_le', '_gt_from_lt', '_initial_missing', '_le_from_ge', '_le_from_gt', '_le_from_lt', '_lru_cache_wrapper', '_lt_from_ge', '_lt_from_gt', '_lt_from_le', '_make_key', '_unwrap_partial', 'cache', 'cached_property', 'cmp_to_key', 'get_cache_token', 'lru_cache', 'namedtuple', 'partial', 'partialmethod', 'recursive_repr', 'reduce', 'singledispatch', 'singledispatchmethod', 'total_ordering', 'update_wrapper', 'wraps']\n"
     ]
    }
   ],
   "source": [
    "print(dir(functools))"
   ]
  },
  {
   "cell_type": "code",
   "execution_count": null,
   "id": "9688f81f",
   "metadata": {},
   "outputs": [],
   "source": []
  },
  {
   "cell_type": "code",
   "execution_count": null,
   "id": "8b30f362",
   "metadata": {},
   "outputs": [],
   "source": []
  },
  {
   "cell_type": "code",
   "execution_count": null,
   "id": "124a5a9a",
   "metadata": {},
   "outputs": [],
   "source": []
  },
  {
   "cell_type": "markdown",
   "id": "849211fc",
   "metadata": {},
   "source": [
    "### a. Example 1: \n",
    "**Suppose given a list of numbers and we want to get the accumulative sum of all the numbers in that list**"
   ]
  },
  {
   "cell_type": "markdown",
   "id": "579f0d01",
   "metadata": {},
   "source": [
    "**Option 1: We can do this using a simple loop**"
   ]
  },
  {
   "cell_type": "code",
   "execution_count": 30,
   "id": "c10e53f9",
   "metadata": {},
   "outputs": [
    {
     "name": "stdout",
     "output_type": "stream",
     "text": [
      "Sum of all the numbers of List is : 113\n"
     ]
    }
   ],
   "source": [
    "numbers = [47, 11, 42, 13]\n",
    "SUM = 0\n",
    "for i in numbers:\n",
    "    SUM = SUM + i\n",
    "print(\"Sum of all the numbers of List is :\", SUM)"
   ]
  },
  {
   "cell_type": "code",
   "execution_count": null,
   "id": "dc81a9a4",
   "metadata": {},
   "outputs": [],
   "source": []
  },
  {
   "cell_type": "code",
   "execution_count": 31,
   "id": "5540a05a",
   "metadata": {},
   "outputs": [],
   "source": [
    "# i = 0\n",
    "# total = 0\n",
    "# while i<len(numbers):\n",
    "#     total = total+numbers[i]\n",
    "#     i=i+1\n",
    "# print(\"Total is : \", total)"
   ]
  },
  {
   "cell_type": "code",
   "execution_count": null,
   "id": "cba10093",
   "metadata": {},
   "outputs": [],
   "source": []
  },
  {
   "cell_type": "code",
   "execution_count": null,
   "id": "0dfd11ac",
   "metadata": {},
   "outputs": [],
   "source": []
  },
  {
   "cell_type": "code",
   "execution_count": null,
   "id": "4d84f47f",
   "metadata": {},
   "outputs": [],
   "source": []
  },
  {
   "cell_type": "markdown",
   "id": "4b99df2c",
   "metadata": {},
   "source": [
    "**Option 2: We can do this using `reduce()` function and passing an appropriate regular function as its first argument. Remember this has to be a function that receives two arguments**"
   ]
  },
  {
   "cell_type": "code",
   "execution_count": null,
   "id": "7c8855b4",
   "metadata": {},
   "outputs": [],
   "source": []
  },
  {
   "cell_type": "code",
   "execution_count": null,
   "id": "af79a735",
   "metadata": {},
   "outputs": [],
   "source": [
    "#Example: Note the call to reduce(), \n",
    "# applies myadd() to the items in the numbers list to compute their accumulative sum    \n",
    "\n",
    "from functools import reduce\n",
    "def myadd(a,b):\n",
    "    return a+b\n",
    "\n",
    "numbers = [47, 11, 42, 13]\n",
    "\n",
    "rv = reduce(myadd, numbers)\n",
    "rv"
   ]
  },
  {
   "cell_type": "code",
   "execution_count": null,
   "id": "2271597f",
   "metadata": {},
   "outputs": [],
   "source": []
  },
  {
   "cell_type": "code",
   "execution_count": null,
   "id": "a92e18e7",
   "metadata": {},
   "outputs": [],
   "source": []
  },
  {
   "cell_type": "markdown",
   "id": "3e8193fc",
   "metadata": {},
   "source": [
    "**Option 3: Let us use Lambda Function as first argument to `reduce()` function to perform the above task**"
   ]
  },
  {
   "cell_type": "code",
   "execution_count": 32,
   "id": "6b8d8fd0",
   "metadata": {},
   "outputs": [
    {
     "data": {
      "text/plain": [
       "113"
      ]
     },
     "execution_count": 32,
     "metadata": {},
     "output_type": "execute_result"
    }
   ],
   "source": [
    "# Example: Use lambda function for above task\n",
    "from functools import reduce\n",
    "\n",
    "numbers = [47, 11, 42, 13]\n",
    "\n",
    "rv = reduce(lambda x,y: x+y, numbers)\n",
    "rv"
   ]
  },
  {
   "cell_type": "code",
   "execution_count": null,
   "id": "fb5dd9a9",
   "metadata": {},
   "outputs": [],
   "source": []
  },
  {
   "cell_type": "markdown",
   "id": "00a7f66d",
   "metadata": {},
   "source": [
    "### b. Example 2: \n",
    "**Multiplying all numeric values of a list with each other**"
   ]
  },
  {
   "cell_type": "code",
   "execution_count": null,
   "id": "cfa9b626",
   "metadata": {},
   "outputs": [],
   "source": []
  },
  {
   "cell_type": "code",
   "execution_count": 33,
   "id": "d3ec6fa4",
   "metadata": {},
   "outputs": [
    {
     "data": {
      "text/plain": [
       "120"
      ]
     },
     "execution_count": 33,
     "metadata": {},
     "output_type": "execute_result"
    }
   ],
   "source": [
    "from functools import reduce\n",
    "numbers = [1, 2, 3, 4, 5]\n",
    "\n",
    "rv = reduce(lambda x,y: x*y, numbers)\n",
    "rv"
   ]
  },
  {
   "cell_type": "code",
   "execution_count": null,
   "id": "e5361c3d",
   "metadata": {},
   "outputs": [],
   "source": []
  },
  {
   "cell_type": "markdown",
   "id": "4716bb03",
   "metadata": {},
   "source": [
    "### c. Example 3: \n",
    "**Finding minimum or maximum number from a list of numbers**"
   ]
  },
  {
   "cell_type": "code",
   "execution_count": null,
   "id": "38570569",
   "metadata": {},
   "outputs": [],
   "source": []
  },
  {
   "cell_type": "code",
   "execution_count": 34,
   "id": "0bcb4894",
   "metadata": {},
   "outputs": [
    {
     "data": {
      "text/plain": [
       "(5, -93)"
      ]
     },
     "execution_count": 34,
     "metadata": {},
     "output_type": "execute_result"
    }
   ],
   "source": [
    "from functools import reduce\n",
    "numbers = [-10, -20, -93, -4, 5]\n",
    "\n",
    "\n",
    "rv1 = reduce(lambda a, b: a if a > b else b, numbers)\n",
    "vr2 = reduce(lambda a,b: a if a<b else b, numbers )\n",
    "\n",
    "\n",
    "rv1, vr2"
   ]
  },
  {
   "cell_type": "code",
   "execution_count": null,
   "id": "344f0edf",
   "metadata": {},
   "outputs": [],
   "source": []
  },
  {
   "cell_type": "code",
   "execution_count": 35,
   "id": "64e86f49",
   "metadata": {},
   "outputs": [
    {
     "data": {
      "text/plain": [
       "(4, 93)"
      ]
     },
     "execution_count": 35,
     "metadata": {},
     "output_type": "execute_result"
    }
   ],
   "source": [
    "from functools import reduce\n",
    "numbers = [10, 20, 93, 4, 5]\n",
    "\n",
    "\n",
    "rv1 = reduce(lambda a, b: a if a < b else b, numbers)\n",
    "rv2 = reduce(lambda a, b: a if a > b else b, numbers)\n",
    "\n",
    "rv1, rv2"
   ]
  },
  {
   "cell_type": "code",
   "execution_count": null,
   "id": "578af15d",
   "metadata": {},
   "outputs": [],
   "source": []
  },
  {
   "cell_type": "code",
   "execution_count": null,
   "id": "b870e864",
   "metadata": {},
   "outputs": [],
   "source": []
  },
  {
   "cell_type": "markdown",
   "id": "77ae12c0",
   "metadata": {},
   "source": [
    "## Practice :\n",
    "#### Python Program to find the Minimum and Maximum Number in a List with their position using for loop and if statement."
   ]
  },
  {
   "cell_type": "code",
   "execution_count": 36,
   "id": "17cda562",
   "metadata": {},
   "outputs": [
    {
     "data": {
      "text/plain": [
       "[10, 20, 93, 4, 5, 54, 88, 90, 8, 2, 67, 108, 1, -1, 25]"
      ]
     },
     "execution_count": 36,
     "metadata": {},
     "output_type": "execute_result"
    }
   ],
   "source": [
    "numbers = [10, 20, 93, 4, 5, 54, 88, 90, 8, 2, 67,108,1,-1,25]\n",
    "numbers"
   ]
  },
  {
   "cell_type": "code",
   "execution_count": 38,
   "id": "ea934a08",
   "metadata": {},
   "outputs": [],
   "source": [
    "minNum = numbers[0]\n",
    "maxNum = numbers[0]\n",
    "minIndex = 0\n",
    "maxIndex = 0"
   ]
  },
  {
   "cell_type": "code",
   "execution_count": 39,
   "id": "ec506e9c",
   "metadata": {},
   "outputs": [],
   "source": [
    "for i in range(1, len(numbers)):\n",
    "    if maxNum < numbers[i]:\n",
    "        maxNum = numbers[i]\n",
    "        maxIndex = i\n",
    "    elif minNum > numbers[i]:\n",
    "        minNum = numbers[i]\n",
    "        minIndex = i\n",
    "    else:\n",
    "        pass\n",
    "        "
   ]
  },
  {
   "cell_type": "code",
   "execution_count": 40,
   "id": "7a807c55",
   "metadata": {},
   "outputs": [
    {
     "name": "stdout",
     "output_type": "stream",
     "text": [
      "-1 is minimun number in the list having index 13\n",
      "108 is maximum number in the list having index 11\n"
     ]
    }
   ],
   "source": [
    "print(f\"{minNum} is minimun number in the list having index {minIndex}\")\n",
    "print(f\"{maxNum} is maximum number in the list having index {maxIndex}\")      "
   ]
  },
  {
   "cell_type": "code",
   "execution_count": null,
   "id": "c3088707",
   "metadata": {},
   "outputs": [],
   "source": []
  },
  {
   "cell_type": "code",
   "execution_count": null,
   "id": "2e9d81fa",
   "metadata": {},
   "outputs": [],
   "source": []
  },
  {
   "cell_type": "code",
   "execution_count": null,
   "id": "8c455481",
   "metadata": {},
   "outputs": [],
   "source": []
  },
  {
   "cell_type": "markdown",
   "id": "de66bb0b",
   "metadata": {},
   "source": [
    "### d. Example 4: \n",
    "**Checking if ALL values in an iterable are true**"
   ]
  },
  {
   "cell_type": "code",
   "execution_count": 41,
   "id": "c9bfeb00",
   "metadata": {},
   "outputs": [
    {
     "data": {
      "text/plain": [
       "False"
      ]
     },
     "execution_count": 41,
     "metadata": {},
     "output_type": "execute_result"
    }
   ],
   "source": [
    "from functools import reduce\n",
    "mylist = [0, 0, 1, 0, 0]\n",
    "\n",
    "rv = reduce(lambda a, b: bool(a and b), mylist)\n",
    "rv\n"
   ]
  },
  {
   "cell_type": "markdown",
   "id": "e0e1aa39",
   "metadata": {},
   "source": [
    "### e. Example 5: \n",
    "**Checking if ANY value in an iterable is true**"
   ]
  },
  {
   "cell_type": "code",
   "execution_count": 42,
   "id": "e6039528",
   "metadata": {},
   "outputs": [
    {
     "data": {
      "text/plain": [
       "True"
      ]
     },
     "execution_count": 42,
     "metadata": {},
     "output_type": "execute_result"
    }
   ],
   "source": [
    "from functools import reduce\n",
    "mylist = [0, 1, 0, 0, 0]\n",
    "\n",
    "rv = reduce(lambda a, b: bool(a or b), mylist)\n",
    "rv\n"
   ]
  },
  {
   "cell_type": "code",
   "execution_count": null,
   "id": "ac6f5918",
   "metadata": {},
   "outputs": [],
   "source": []
  },
  {
   "cell_type": "code",
   "execution_count": null,
   "id": "15477ad8",
   "metadata": {},
   "outputs": [],
   "source": [
    "# User-define functions\n",
    "# Built-in functions \n",
    "#     - map\n",
    "#     - filter\n",
    "#     - reduce\n",
    "    "
   ]
  },
  {
   "cell_type": "code",
   "execution_count": null,
   "id": "43cde424",
   "metadata": {},
   "outputs": [],
   "source": []
  },
  {
   "cell_type": "code",
   "execution_count": null,
   "id": "72653ffb",
   "metadata": {},
   "outputs": [],
   "source": []
  },
  {
   "cell_type": "code",
   "execution_count": null,
   "id": "e8299e4f",
   "metadata": {},
   "outputs": [],
   "source": []
  },
  {
   "cell_type": "markdown",
   "id": "1a71d9db",
   "metadata": {},
   "source": [
    "## 6. Using Lambda Function as Argument to built-in `sorted()` Function\n",
    "- We have already seen the use of `sorted()` function in our previous session of Tuples.\n",
    "- The only required argument to `sorted()` function is an iterable. \n",
    "- It sorts the items of the given iterable in ascending order (by default) and returns the sorted iterable as a list, without modifying the original iterable.\n",
    "```\n",
    "sorted(iterable, key=None, reverse=False)\n",
    "```\n",
    "We also have seen the use of `key` argument, where we can pass a function that is applied once to each element of the iterable before sorting it."
   ]
  },
  {
   "cell_type": "markdown",
   "id": "e98ce7de",
   "metadata": {},
   "source": [
    "### a. Example 1: \n",
    "**Consider a tuple of strings `('abcz', 'xyza', 'bas', 'ali')`. If we pass this tuple to `sorted()` function, it will sort the list alphabatically.**"
   ]
  },
  {
   "cell_type": "code",
   "execution_count": null,
   "id": "1757058d",
   "metadata": {},
   "outputs": [],
   "source": []
  },
  {
   "cell_type": "code",
   "execution_count": null,
   "id": "eedb08fc",
   "metadata": {},
   "outputs": [],
   "source": []
  },
  {
   "cell_type": "code",
   "execution_count": null,
   "id": "8ea3d413",
   "metadata": {},
   "outputs": [],
   "source": [
    "t1 = ('abcz', 'xyza', 'bas', 'ali')\n",
    "\n",
    "rv = sorted(t1)\n",
    "\n",
    "print(\"Sorted tuple: \", rv)\n",
    "print(\"Original tuple remains as such: \", t1)"
   ]
  },
  {
   "cell_type": "code",
   "execution_count": null,
   "id": "8ab06546",
   "metadata": {},
   "outputs": [],
   "source": []
  },
  {
   "cell_type": "markdown",
   "id": "d0eac8eb",
   "metadata": {},
   "source": [
    "**Suppose, we want to sort the above tuple by last character of strings within the tuple so that the output is like : `('xyza', 'ali', 'bas', 'abcz')`. We can do this by passing an appropriate regular function to `key` argument of the `sorted()` function**"
   ]
  },
  {
   "cell_type": "code",
   "execution_count": null,
   "id": "fd98107d",
   "metadata": {},
   "outputs": [],
   "source": [
    "# First Method using user defined Function\n",
    "def last(s):\n",
    "    return s[-1]"
   ]
  },
  {
   "cell_type": "code",
   "execution_count": null,
   "id": "88f36dda",
   "metadata": {},
   "outputs": [],
   "source": [
    "t1 = ('abcz', 'xyza', 'bas', 'ali')\n",
    "rv = sorted(t1, key=last)"
   ]
  },
  {
   "cell_type": "code",
   "execution_count": null,
   "id": "db25442f",
   "metadata": {},
   "outputs": [],
   "source": [
    "print(\"Sorted tuple: \", rv)\n",
    "print(\"Original tuple remains as such: \", t1)"
   ]
  },
  {
   "cell_type": "code",
   "execution_count": null,
   "id": "d1357c9b",
   "metadata": {},
   "outputs": [],
   "source": []
  },
  {
   "cell_type": "code",
   "execution_count": null,
   "id": "bccc0511",
   "metadata": {},
   "outputs": [],
   "source": []
  },
  {
   "cell_type": "markdown",
   "id": "5d4a9753",
   "metadata": {},
   "source": [
    "**Let us use Lambda Function as `key` argument to `sorted()` function to perform the above task**"
   ]
  },
  {
   "cell_type": "code",
   "execution_count": null,
   "id": "3a6ec1e4",
   "metadata": {},
   "outputs": [],
   "source": [
    "# Second Method using Lambda function\n",
    "t1 = ('abcz', 'xyza', 'bas', 'ali')\n",
    "rv = sorted(t1, key = lambda arg : arg[-1])\n",
    "print(\"Sorted tuple: \", rv)\n",
    "print(\"Original tuple remains as such: \", t1)"
   ]
  },
  {
   "cell_type": "code",
   "execution_count": null,
   "id": "fc4fa726",
   "metadata": {},
   "outputs": [],
   "source": []
  },
  {
   "cell_type": "markdown",
   "id": "82c08ba2",
   "metadata": {},
   "source": [
    "### b. Example 2: \n",
    "**Suppose given a list in which each element is a two valued tuple `[(4, 30), (6, 15), (1, 25), (9, 8)]`. If we call `sorted()` function on this list it will sort it based on the first element of each tuple.**"
   ]
  },
  {
   "cell_type": "markdown",
   "id": "494c7ec9",
   "metadata": {},
   "source": [
    "**Simple sorting of above list using `sorted()` function, will sort by first element**"
   ]
  },
  {
   "cell_type": "code",
   "execution_count": 43,
   "id": "c1c03af1",
   "metadata": {},
   "outputs": [
    {
     "data": {
      "text/plain": [
       "[(1, 25), (4, 30), (6, 15), (9, 8)]"
      ]
     },
     "execution_count": 43,
     "metadata": {},
     "output_type": "execute_result"
    }
   ],
   "source": [
    "mylist = [(4, 30), (6, 15), (1, 25), (9, 8)]\n",
    "sorted(mylist)"
   ]
  },
  {
   "cell_type": "code",
   "execution_count": null,
   "id": "eafaf4db",
   "metadata": {},
   "outputs": [],
   "source": []
  },
  {
   "cell_type": "code",
   "execution_count": null,
   "id": "969640a2",
   "metadata": {},
   "outputs": [],
   "source": []
  },
  {
   "cell_type": "code",
   "execution_count": null,
   "id": "3f3dfc5a",
   "metadata": {},
   "outputs": [],
   "source": []
  },
  {
   "cell_type": "markdown",
   "id": "fa7c0255",
   "metadata": {},
   "source": [
    "**But we want to sort the above list based on the second element of each tuple, so that the output is like: `[(9, 8), (6, 15), (1, 25), (4, 30)]`. We can do this by passing an appropriate regular function to `key` argument of the `sorted()` function**"
   ]
  },
  {
   "cell_type": "code",
   "execution_count": 44,
   "id": "3803626b",
   "metadata": {},
   "outputs": [
    {
     "data": {
      "text/plain": [
       "[(9, 8), (6, 15), (1, 25), (4, 30)]"
      ]
     },
     "execution_count": 44,
     "metadata": {},
     "output_type": "execute_result"
    }
   ],
   "source": [
    "# First Method using user defined Function\n",
    "mylist = [(4, 30), (6, 15), (1, 25), (9, 8)]\n",
    "\n",
    "def func(item):\n",
    "    return item[1]\n",
    "\n",
    "mylist_sorted = sorted(mylist, key = func)\n",
    "mylist_sorted"
   ]
  },
  {
   "cell_type": "code",
   "execution_count": null,
   "id": "fe0b5b01",
   "metadata": {},
   "outputs": [],
   "source": []
  },
  {
   "cell_type": "markdown",
   "id": "620c5575",
   "metadata": {},
   "source": [
    "**Let us use Lambda Function as `key` argument to `sorted()` function to perform the above task**"
   ]
  },
  {
   "cell_type": "code",
   "execution_count": 45,
   "id": "2a91cd3d",
   "metadata": {},
   "outputs": [
    {
     "data": {
      "text/plain": [
       "[(9, 8), (6, 15), (1, 25), (4, 30)]"
      ]
     },
     "execution_count": 45,
     "metadata": {},
     "output_type": "execute_result"
    }
   ],
   "source": [
    "# Second method  using lambda function\n",
    "mylist = [(4, 30), (6, 15), (1, 25), (9, 8)]\n",
    "\n",
    "mylist_sorted = sorted(mylist, key = lambda element:element[1])\n",
    "mylist_sorted"
   ]
  },
  {
   "cell_type": "code",
   "execution_count": null,
   "id": "a4250b43",
   "metadata": {},
   "outputs": [],
   "source": []
  },
  {
   "cell_type": "markdown",
   "id": "ef99e51d",
   "metadata": {},
   "source": [
    "## 7.  Bonus"
   ]
  },
  {
   "cell_type": "markdown",
   "id": "4f9e2211",
   "metadata": {},
   "source": [
    "### a. The `zip()` Function\n",
    "- The `zip(*iterables)` function returns an iterator of tuples, where the i-th tuple contains the i-th element from each of the argument sequences or iterables. \n",
    "- The iterator stops when the shortest input iterable is exhausted. \n",
    "- With a single iterable argument, it returns an iterator of 1-tuples. With no arguments, it returns an empty iterator."
   ]
  },
  {
   "cell_type": "code",
   "execution_count": null,
   "id": "cee4fc15",
   "metadata": {},
   "outputs": [],
   "source": [
    "# studentName = []\n",
    "# studentMarks = []\n",
    "# zip(studentMarks, studentName) #-> List of tuple\n",
    "# I can create a dictionary from list of tuple , which contains key as student name and value as student marks"
   ]
  },
  {
   "cell_type": "code",
   "execution_count": null,
   "id": "1a4b76dc",
   "metadata": {},
   "outputs": [],
   "source": []
  },
  {
   "cell_type": "code",
   "execution_count": null,
   "id": "1fa1a3d1",
   "metadata": {},
   "outputs": [],
   "source": []
  },
  {
   "cell_type": "code",
   "execution_count": 54,
   "id": "a9d3bcfb",
   "metadata": {},
   "outputs": [
    {
     "name": "stdout",
     "output_type": "stream",
     "text": [
      "<zip object at 0x142285140>\n"
     ]
    }
   ],
   "source": [
    "x = [1,2,3]\n",
    "y = [4,5,6]\n",
    "zip_object = zip(x ,y)\n",
    "print(zip_object)"
   ]
  },
  {
   "cell_type": "code",
   "execution_count": 55,
   "id": "4c97ad69",
   "metadata": {},
   "outputs": [],
   "source": [
    "# # dir(zip_object)\n",
    "# for i in zip_object:\n",
    "#     print(i)"
   ]
  },
  {
   "cell_type": "code",
   "execution_count": 56,
   "id": "505f0656",
   "metadata": {},
   "outputs": [
    {
     "data": {
      "text/plain": [
       "[(1, 4), (2, 5), (3, 6)]"
      ]
     },
     "execution_count": 56,
     "metadata": {},
     "output_type": "execute_result"
    }
   ],
   "source": [
    "mylist = list(zip_object)\n",
    "mylist"
   ]
  },
  {
   "cell_type": "code",
   "execution_count": null,
   "id": "c5302834",
   "metadata": {},
   "outputs": [],
   "source": []
  },
  {
   "cell_type": "code",
   "execution_count": 57,
   "id": "714de2d7",
   "metadata": {},
   "outputs": [
    {
     "data": {
      "text/plain": [
       "[(1, 5, 9), (2, 6, 10), (3, 7, 11), (4, 8, 12)]"
      ]
     },
     "execution_count": 57,
     "metadata": {},
     "output_type": "execute_result"
    }
   ],
   "source": [
    "x = [1, 2, 3, 4]\n",
    "y = [5, 6, 7, 8]\n",
    "z = [9, 10, 11, 12]\n",
    "\n",
    "zip_object = zip(x,y,z)\n",
    "\n",
    "mylist = list(zip_object)\n",
    "mylist"
   ]
  },
  {
   "cell_type": "markdown",
   "id": "4de59c7f",
   "metadata": {},
   "source": [
    "**The iterator stops when the shortest input iterable is exhausted.**"
   ]
  },
  {
   "cell_type": "code",
   "execution_count": 58,
   "id": "db4cbda3",
   "metadata": {},
   "outputs": [
    {
     "data": {
      "text/plain": [
       "[(1, 4), (2, 5), (3, 6)]"
      ]
     },
     "execution_count": 58,
     "metadata": {},
     "output_type": "execute_result"
    }
   ],
   "source": [
    "x = [1,2,3]\n",
    "y = [4,5,6,7,8]\n",
    "\n",
    "zip_object = zip(x,y)\n",
    "\n",
    "mylist = list(zip_object)\n",
    "mylist"
   ]
  },
  {
   "cell_type": "markdown",
   "id": "0d864536",
   "metadata": {},
   "source": [
    "**With a single iterable argument, it returns an iterator of 1-tuples.**"
   ]
  },
  {
   "cell_type": "code",
   "execution_count": 59,
   "id": "a7ba2d62",
   "metadata": {},
   "outputs": [
    {
     "data": {
      "text/plain": [
       "[(1,), (2,), (3,), (4,)]"
      ]
     },
     "execution_count": 59,
     "metadata": {},
     "output_type": "execute_result"
    }
   ],
   "source": [
    "x = [1, 2, 3, 4]\n",
    "\n",
    "zip_object = zip(x)\n",
    "\n",
    "mylist = list(zip_object)\n",
    "mylist"
   ]
  },
  {
   "cell_type": "markdown",
   "id": "3c96cc44",
   "metadata": {},
   "source": [
    "**With no arguments, it returns an empty iterator.**"
   ]
  },
  {
   "cell_type": "code",
   "execution_count": 60,
   "id": "048d8dfb",
   "metadata": {},
   "outputs": [
    {
     "data": {
      "text/plain": [
       "[]"
      ]
     },
     "execution_count": 60,
     "metadata": {},
     "output_type": "execute_result"
    }
   ],
   "source": [
    "zip_object = zip()\n",
    "\n",
    "mylist = list(zip_object)\n",
    "mylist"
   ]
  },
  {
   "cell_type": "code",
   "execution_count": null,
   "id": "98a85eba",
   "metadata": {},
   "outputs": [],
   "source": []
  },
  {
   "cell_type": "markdown",
   "id": "1b84cba2",
   "metadata": {},
   "source": [
    "### b. Iterators and Generators\n",
    "- **Iterators**: Objects that implement the `__iter__()` and `__next__()` methods, allowing iteration over a sequence of values.\n",
    "- **Generators**: Special types of iterators defined with the yield keyword, enabling easy creation of iterators without needing to implement `__iter__()` and `__next__()` methods."
   ]
  },
  {
   "cell_type": "markdown",
   "id": "a54a3f48",
   "metadata": {},
   "source": [
    "**Example: Iterator Objects**"
   ]
  },
  {
   "cell_type": "code",
   "execution_count": 61,
   "id": "f8277e30",
   "metadata": {},
   "outputs": [
    {
     "data": {
      "text/plain": [
       "<list_iterator at 0x16326d960>"
      ]
     },
     "execution_count": 61,
     "metadata": {},
     "output_type": "execute_result"
    }
   ],
   "source": [
    "mylist = ['banana', 'mango', 'grapes']\n",
    "a = iter(mylist)\n",
    "a"
   ]
  },
  {
   "cell_type": "code",
   "execution_count": 62,
   "id": "423654a3",
   "metadata": {},
   "outputs": [
    {
     "name": "stdout",
     "output_type": "stream",
     "text": [
      "banana\n",
      "mango\n",
      "grapes\n"
     ]
    }
   ],
   "source": [
    "print(next(a))\n",
    "print(next(a))\n",
    "print(next(a))"
   ]
  },
  {
   "cell_type": "code",
   "execution_count": 63,
   "id": "dd016ecd",
   "metadata": {},
   "outputs": [
    {
     "ename": "StopIteration",
     "evalue": "",
     "output_type": "error",
     "traceback": [
      "\u001b[0;31m---------------------------------------------------------------------------\u001b[0m",
      "\u001b[0;31mStopIteration\u001b[0m                             Traceback (most recent call last)",
      "Cell \u001b[0;32mIn[63], line 1\u001b[0m\n\u001b[0;32m----> 1\u001b[0m \u001b[38;5;28mnext\u001b[39m(a)\n",
      "\u001b[0;31mStopIteration\u001b[0m: "
     ]
    }
   ],
   "source": [
    "next(a)"
   ]
  },
  {
   "cell_type": "code",
   "execution_count": null,
   "id": "471059e8",
   "metadata": {},
   "outputs": [],
   "source": []
  },
  {
   "cell_type": "markdown",
   "id": "0656e2c2",
   "metadata": {},
   "source": [
    "**Generators:**\n",
    "- Python provides a generator to create your own iterator function. A generator is a special type of function which does not return a single value, instead, it returns an iterator object with a sequence of values. \n",
    "- Today let me tell you as how to write a generator function in Python. A generator is a function that can send back a value and then later resume its execution from where it left off. \n",
    "- A generator function allows us to generate a sequence of values over time. \n",
    "- The main difference between a regular function and a generator function is that instead of using a `return` statement, the generator function uses the `yield` statement\n",
    "- So once a generator function is called, it don't actually return a value and then exit, rather it automatically suspend and resume its execution and state around the last point of value generation. "
   ]
  },
  {
   "cell_type": "markdown",
   "id": "f1ac006f",
   "metadata": {},
   "source": [
    "**Example 1: Writing a Hello World Generator Function to understand the `yield` keyword**"
   ]
  },
  {
   "cell_type": "code",
   "execution_count": 12,
   "id": "b9ddc908",
   "metadata": {},
   "outputs": [],
   "source": [
    "# def fun():\n",
    "#     return \"Ehtisham\"\n",
    "#     print(\"Ali\")\n",
    "# fun()"
   ]
  },
  {
   "cell_type": "code",
   "execution_count": null,
   "id": "3bea997e",
   "metadata": {},
   "outputs": [],
   "source": []
  },
  {
   "cell_type": "code",
   "execution_count": 64,
   "id": "2bdd044f",
   "metadata": {},
   "outputs": [],
   "source": [
    "def mygenerator():\n",
    "    print('First item')\n",
    "    yield 10\n",
    "\n",
    "    print('Second item')\n",
    "    yield 20\n",
    "\n",
    "    print('Last item')\n",
    "    yield 30"
   ]
  },
  {
   "cell_type": "code",
   "execution_count": 65,
   "id": "e46292a1",
   "metadata": {},
   "outputs": [
    {
     "data": {
      "text/plain": [
       "<generator object mygenerator at 0x142213f40>"
      ]
     },
     "execution_count": 65,
     "metadata": {},
     "output_type": "execute_result"
    }
   ],
   "source": [
    "gen = mygenerator() \n",
    "gen"
   ]
  },
  {
   "cell_type": "code",
   "execution_count": 66,
   "id": "8aad8d9c",
   "metadata": {},
   "outputs": [
    {
     "name": "stdout",
     "output_type": "stream",
     "text": [
      "First item\n",
      "10\n"
     ]
    }
   ],
   "source": [
    "print(next(gen))"
   ]
  },
  {
   "cell_type": "code",
   "execution_count": 67,
   "id": "4a3e4371",
   "metadata": {},
   "outputs": [
    {
     "name": "stdout",
     "output_type": "stream",
     "text": [
      "Second item\n",
      "20\n"
     ]
    }
   ],
   "source": [
    "print(next(gen))"
   ]
  },
  {
   "cell_type": "code",
   "execution_count": 68,
   "id": "f1e579ad",
   "metadata": {},
   "outputs": [
    {
     "name": "stdout",
     "output_type": "stream",
     "text": [
      "Last item\n",
      "30\n"
     ]
    }
   ],
   "source": [
    "print(next(gen))"
   ]
  },
  {
   "cell_type": "code",
   "execution_count": 69,
   "id": "ae155707",
   "metadata": {},
   "outputs": [
    {
     "ename": "StopIteration",
     "evalue": "",
     "output_type": "error",
     "traceback": [
      "\u001b[0;31m---------------------------------------------------------------------------\u001b[0m",
      "\u001b[0;31mStopIteration\u001b[0m                             Traceback (most recent call last)",
      "Cell \u001b[0;32mIn[69], line 1\u001b[0m\n\u001b[0;32m----> 1\u001b[0m \u001b[38;5;28mprint\u001b[39m(\u001b[38;5;28mnext\u001b[39m(gen))\n",
      "\u001b[0;31mStopIteration\u001b[0m: "
     ]
    }
   ],
   "source": [
    "print(next(gen))"
   ]
  },
  {
   "cell_type": "code",
   "execution_count": null,
   "id": "be124289",
   "metadata": {},
   "outputs": [],
   "source": []
  },
  {
   "cell_type": "markdown",
   "id": "a53d9489",
   "metadata": {},
   "source": [
    "**Example 2: Writing a Generator Function that returns cubes of numbers**"
   ]
  },
  {
   "cell_type": "code",
   "execution_count": 70,
   "id": "8a427867",
   "metadata": {},
   "outputs": [
    {
     "name": "stdout",
     "output_type": "stream",
     "text": [
      "0\n",
      "1\n",
      "8\n"
     ]
    }
   ],
   "source": [
    "def gencubes(n):\n",
    "    for num in range(n):\n",
    "        yield num**3\n",
    "a = gencubes(6)\n",
    "print(next(a))\n",
    "print(next(a))\n",
    "print(next(a))"
   ]
  },
  {
   "cell_type": "code",
   "execution_count": 71,
   "id": "550e73ec",
   "metadata": {},
   "outputs": [
    {
     "name": "stdout",
     "output_type": "stream",
     "text": [
      "27\n",
      "64\n",
      "125\n"
     ]
    }
   ],
   "source": [
    "for x in a:\n",
    "    print(x)"
   ]
  },
  {
   "cell_type": "code",
   "execution_count": null,
   "id": "695a4f6c",
   "metadata": {},
   "outputs": [],
   "source": []
  },
  {
   "cell_type": "code",
   "execution_count": null,
   "id": "72579312",
   "metadata": {},
   "outputs": [],
   "source": []
  },
  {
   "cell_type": "markdown",
   "id": "cc347d82",
   "metadata": {},
   "source": [
    ">**The main advantage of using a generator function over the iterator is that elements are generated dynamically. Since the next item is generated only after the first is consumed, it is more memory efficient than the iterator.**"
   ]
  },
  {
   "cell_type": "code",
   "execution_count": null,
   "id": "29353480",
   "metadata": {},
   "outputs": [],
   "source": [
    "# ab=lambda x,y:x+y\n",
    "# map(func, iterable)\n",
    "# filter(func, iterable )\n",
    "# reduce(func, iterable) -> return a single\n",
    "# sorted(iterable, key=func)\n",
    "# zip(iterables)\n",
    "# generator"
   ]
  },
  {
   "cell_type": "markdown",
   "id": "881b420f",
   "metadata": {},
   "source": [
    "## Check your Concepts\n",
    "\n",
    "Try answering the following questions to test your understanding of the topics covered in this notebook:\n",
    "\n",
    "1. What is a function?\n",
    "2. What are the benefits of using functions?\n",
    "3. What are some built-in functions in Python?\n",
    "4. How do you define a function in Python? Give an example.\n",
    "5. What is the body of a function?\n",
    "6. When are the statements in the body of a function executed?\n",
    "7. What is meant by calling or invoking a function? Give an example.\n",
    "8. What are function arguments? How are they useful?\n",
    "9. How do you store the result of a function in a variable?\n",
    "10. What is the purpose of the `return` keyword in Python?\n",
    "11. Can you return multiple values from a function?\n",
    "12. Can a `return` statement be used inside an `if` block or a `for` loop?\n",
    "13. Can the `return` keyword be used outside a function?\n",
    "14. What is scope in a programming region? \n",
    "15. How do you define a variable inside a function?\n",
    "16. What are local & global variables?\n",
    "17. Can you access the variables defined inside a function outside its body? Why or why not?\n",
    "18. What do you mean by the statement \"a function defines a scope within Python\"?\n",
    "19. Do for and while loops define a scope, like functions?\n",
    "20. Do if-else blocks define a scope, like functions?\n",
    "21. What are optional function arguments & default values? Give an example.\n",
    "22. Why should the required arguments appear before the optional arguments in a function definition?\n",
    "23. How do you invoke a function with named arguments? Illustrate with an example.\n",
    "24. Can you split a function invocation into multiple lines?\n",
    "25. Write a function that takes a number and rounds it up to the nearest integer.\n",
    "26. What is a docstring? Why is it useful?\n",
    "27. How do you display the docstring for a function?\n",
    "28. What are *args and **kwargs? How are they useful? Give an example.\n",
    "29. Can you define functions inside functions? \n",
    "30. What is function closure in Python? How is it useful? Give an example.\n",
    "31. What is recursion? Illustrate with an example.\n",
    "32. Can functions accept other functions as arguments? Illustrate with an example.\n",
    "33. Can functions return other functions as results? Illustrate with an example.\n",
    "37. Can you invoke a function inside the body of another function? Give an example.\n",
    "38. What is the single responsibility principle, and how does it apply while writing functions?\n",
    "39. What some characteristics of well-written functions?\n",
    "40. Can you use if statements or while loops within a function? Illustrate with an example.\n",
    "\n",
    "\n",
    "1. What is a function?\n",
    "2. What are the benefits of using functions?\n",
    "3. What are some built-in functions in Python?\n",
    "4. How do you define a function in Python? Give an example.\n",
    "5. What is the body of a function?\n",
    "6. When are the statements in the body of a function executed?\n",
    "7. What is meant by calling or invoking a function? Give an example.\n",
    "8. What are function arguments? How are they useful?\n",
    "9. How do you store the result of a function in a variable?\n",
    "10. What is the purpose of the `return` keyword in Python?\n",
    "11. Can you return multiple values from a function?\n",
    "12. Can a `return` statement be used inside an `if` block or a `for` loop?\n",
    "13. Can the `return` keyword be used outside a function?\n",
    "14. What is scope in a programming region? \n",
    "15. How do you define a variable inside a function?\n",
    "16. What are local & global variables?\n",
    "17. Can you access the variables defined inside a function outside its body? Why or why not?\n",
    "18. What do you mean by the statement \"a function defines a scope within Python\"?\n",
    "19. Do for and while loops define a scope, like functions?\n",
    "20. Do if-else blocks define a scope, like functions?\n",
    "21. What are optional function arguments & default values? Give an example.\n",
    "22. Why should the required arguments appear before the optional arguments in a function definition?\n",
    "23. How do you invoke a function with named arguments? Illustrate with an example.\n",
    "24. Can you split a function invocation into multiple lines?\n",
    "25. Write a function that takes a number and rounds it up to the nearest integer.\n",
    "26. What is a docstring? Why is it useful?\n",
    "27. How do you display the docstring for a function?\n",
    "28. What are *args and **kwargs? How are they useful? Give an example.\n",
    "29. Can you define functions inside functions? \n",
    "31. What is recursion? Illustrate with an example.\n",
    "32. Can functions accept other functions as arguments? Illustrate with an example.\n",
    "33. Can functions return other functions as results? Illustrate with an example.\n",
    "34. What are decorators? How are they useful?\n",
    "35. Implement a function decorator which prints the arguments and result of wrapped functions.\n",
    "36. What are some in-built decorators in Python?\n",
    "37. Can you invoke a function inside the body of another function? Give an example.\n",
    "38. What is the single responsibility principle, and how does it apply while writing functions?\n",
    "39. What some characteristics of well-written functions?\n",
    "40. Can you use if statements or while loops within a function? Illustrate with an example.\n",
    "41. Compare the use of lambda functions in sorted(), map(), filter(), reduce(), and accumulate() functions and their different use cases.\n",
    "43. Decorators can be thought of as functions which modify the functionality of another function. They help to make your code shorter and more \"Pythonic\". Search and write down sample code snippets to understand Decorators in Python."
   ]
  },
  {
   "cell_type": "code",
   "execution_count": null,
   "id": "ad591feb",
   "metadata": {},
   "outputs": [],
   "source": []
  },
  {
   "cell_type": "code",
   "execution_count": null,
   "id": "5e22cdc3",
   "metadata": {},
   "outputs": [],
   "source": []
  },
  {
   "cell_type": "code",
   "execution_count": null,
   "id": "2027502f",
   "metadata": {},
   "outputs": [],
   "source": []
  },
  {
   "cell_type": "code",
   "execution_count": null,
   "id": "e909ece2",
   "metadata": {},
   "outputs": [],
   "source": []
  },
  {
   "cell_type": "markdown",
   "id": "2b015beb",
   "metadata": {},
   "source": [
    "#### What is scope:\n",
    "The scope of a variable is the region of space where the value of that variable is valid. E.g: The scope of local variable is inside the function."
   ]
  },
  {
   "cell_type": "code",
   "execution_count": null,
   "id": "e4850931",
   "metadata": {},
   "outputs": [],
   "source": []
  },
  {
   "cell_type": "markdown",
   "id": "c78ac5ca",
   "metadata": {},
   "source": [
    "### What is Recursion:\n",
    "It is a process in which a function calls itself directly or indirectly.    \n"
   ]
  },
  {
   "cell_type": "markdown",
   "id": "5e510300",
   "metadata": {},
   "source": [
    "<img align=\"center\" width=\"500\" height=\"300\"  src=\"images/python_recursion.jpg\" > "
   ]
  },
  {
   "cell_type": "code",
   "execution_count": 72,
   "id": "9990646b",
   "metadata": {},
   "outputs": [],
   "source": [
    "# Program to print factorial of a number recursively.\n",
    "def factorial(n):\n",
    "    if n ==1:\n",
    "        return n\n",
    "    else:\n",
    "        return n*factorial(n-1)"
   ]
  },
  {
   "cell_type": "code",
   "execution_count": 73,
   "id": "4345e44a",
   "metadata": {},
   "outputs": [
    {
     "name": "stdin",
     "output_type": "stream",
     "text": [
      "Enter a number to calculate its Factorial :  10\n"
     ]
    },
    {
     "name": "stdout",
     "output_type": "stream",
     "text": [
      "Factorial of 10 is : 3628800\n"
     ]
    }
   ],
   "source": [
    "def Main():\n",
    "    number = int(input(\"Enter a number to calculate its Factorial : \"))\n",
    "    if number < 0:\n",
    "        print(\"Invalid Number! Please enter a positive integer number!\")\n",
    "    elif number==0:\n",
    "        print(F\"Factorial of {number} is 1.\")\n",
    "    else:\n",
    "        print(f\"Factorial of {number} is : {factorial(number)}\")\n",
    "Main()"
   ]
  },
  {
   "cell_type": "code",
   "execution_count": 74,
   "id": "300d7322-00e0-4c95-81c7-cedd21a0aee7",
   "metadata": {},
   "outputs": [
    {
     "data": {
      "text/plain": [
       "3628800"
      ]
     },
     "execution_count": 74,
     "metadata": {},
     "output_type": "execute_result"
    }
   ],
   "source": [
    "10*9*8*7*6*5*4*3*2*1"
   ]
  },
  {
   "cell_type": "code",
   "execution_count": 27,
   "id": "7845869e",
   "metadata": {},
   "outputs": [],
   "source": [
    "# 2! = 2*1\n",
    "# 3! = 3*2*1\n",
    "# 5! = 5*4*3*2*1\n"
   ]
  },
  {
   "cell_type": "code",
   "execution_count": null,
   "id": "f024a9b1",
   "metadata": {},
   "outputs": [],
   "source": []
  },
  {
   "cell_type": "markdown",
   "id": "df0603b8",
   "metadata": {},
   "source": [
    "Write a Python function that accepts a string and calculate the number of upper case letters and lower case letters.\n",
    "Sample String : `The quick Brow Fox`\n",
    "#### Expected Output :\n",
    "- No. of Upper case characters : 3\n",
    "- No. of Lower case Characters : 12\n",
    "\n"
   ]
  },
  {
   "cell_type": "code",
   "execution_count": 28,
   "id": "e96568ba",
   "metadata": {},
   "outputs": [],
   "source": [
    "def CalculateLetters(string):\n",
    "    lowercase = 0\n",
    "    uppercase = 0\n",
    "    for i in string:\n",
    "        if i.islower():\n",
    "            lowercase = lowercase+1\n",
    "        if i.isupper():\n",
    "            uppercase = uppercase+1\n",
    "    print(\"No.of Upper case characters is : \", uppercase)\n",
    "    print(\"No.of Lower case characters is : \", lowercase)"
   ]
  },
  {
   "cell_type": "code",
   "execution_count": 29,
   "id": "9db16252",
   "metadata": {},
   "outputs": [
    {
     "name": "stdout",
     "output_type": "stream",
     "text": [
      "Enter a string : The quick Brow Fox\n",
      "No.of Upper case characters is :  3\n",
      "No.of Lower case characters is :  12\n"
     ]
    }
   ],
   "source": [
    "def Main():\n",
    "    string = input(\"Enter a string : \")\n",
    "    CalculateLetters(string)\n",
    "Main()"
   ]
  },
  {
   "cell_type": "code",
   "execution_count": null,
   "id": "4daf9439",
   "metadata": {},
   "outputs": [],
   "source": []
  },
  {
   "cell_type": "code",
   "execution_count": null,
   "id": "d3777567",
   "metadata": {},
   "outputs": [],
   "source": []
  },
  {
   "cell_type": "code",
   "execution_count": null,
   "id": "9ec4aa02",
   "metadata": {},
   "outputs": [],
   "source": []
  },
  {
   "cell_type": "code",
   "execution_count": null,
   "id": "f2dedf0d",
   "metadata": {},
   "outputs": [],
   "source": []
  },
  {
   "cell_type": "code",
   "execution_count": null,
   "id": "e2f93cd9",
   "metadata": {},
   "outputs": [],
   "source": []
  },
  {
   "cell_type": "code",
   "execution_count": null,
   "id": "90e2efc0",
   "metadata": {},
   "outputs": [],
   "source": []
  },
  {
   "cell_type": "code",
   "execution_count": null,
   "id": "d804c511",
   "metadata": {},
   "outputs": [],
   "source": [
    "\n"
   ]
  },
  {
   "cell_type": "code",
   "execution_count": null,
   "id": "02a86544",
   "metadata": {},
   "outputs": [],
   "source": []
  },
  {
   "cell_type": "code",
   "execution_count": 1,
   "id": "a2ea675b",
   "metadata": {},
   "outputs": [
    {
     "data": {
      "text/html": [
       "\n",
       "    <style>\n",
       "        body {\n",
       "            background-color: #f2fff2;\n",
       "        }\n",
       "        h1 {\n",
       "            text-align: center;\n",
       "            font-weight: bold;\n",
       "            font-size: 36px;\n",
       "            color: #4295F4;\n",
       "            text-decoration: underline;\n",
       "            padding-top: 15px;\n",
       "        }\n",
       "        \n",
       "        h2 {\n",
       "            text-align: left;\n",
       "            font-weight: bold;\n",
       "            font-size: 30px;\n",
       "            color: #4A000A;\n",
       "            text-decoration: underline;\n",
       "            padding-top: 10px;\n",
       "        }\n",
       "        \n",
       "        h3 {\n",
       "            text-align: left;\n",
       "            font-weight: bold;\n",
       "            font-size: 30px;\n",
       "            color: #f0081e;\n",
       "            text-decoration: underline;\n",
       "            padding-top: 5px;\n",
       "        }\n",
       "\n",
       "        \n",
       "        p {\n",
       "            text-align: center;\n",
       "            font-size: 12 px;\n",
       "            color: #0B9923;\n",
       "        }\n",
       "    </style>\n",
       "\n",
       "<h1>Hello</h1>\n",
       "<p>Hello World</p>\n",
       "<h2> Hello</h2>\n",
       "<h3> World </h3>\n"
      ],
      "text/plain": [
       "<IPython.core.display.HTML object>"
      ]
     },
     "execution_count": 1,
     "metadata": {},
     "output_type": "execute_result"
    }
   ],
   "source": [
    "from IPython.core.display import HTML\n",
    "\n",
    "style = \"\"\"\n",
    "    <style>\n",
    "        body {\n",
    "            background-color: #f2fff2;\n",
    "        }\n",
    "        h1 {\n",
    "            text-align: center;\n",
    "            font-weight: bold;\n",
    "            font-size: 36px;\n",
    "            color: #4295F4;\n",
    "            text-decoration: underline;\n",
    "            padding-top: 15px;\n",
    "        }\n",
    "        \n",
    "        h2 {\n",
    "            text-align: left;\n",
    "            font-weight: bold;\n",
    "            font-size: 30px;\n",
    "            color: #4A000A;\n",
    "            text-decoration: underline;\n",
    "            padding-top: 10px;\n",
    "        }\n",
    "        \n",
    "        h3 {\n",
    "            text-align: left;\n",
    "            font-weight: bold;\n",
    "            font-size: 30px;\n",
    "            color: #f0081e;\n",
    "            text-decoration: underline;\n",
    "            padding-top: 5px;\n",
    "        }\n",
    "\n",
    "        \n",
    "        p {\n",
    "            text-align: center;\n",
    "            font-size: 12 px;\n",
    "            color: #0B9923;\n",
    "        }\n",
    "    </style>\n",
    "\"\"\"\n",
    "\n",
    "html_content = \"\"\"\n",
    "<h1>Hello</h1>\n",
    "<p>Hello World</p>\n",
    "<h2> Hello</h2>\n",
    "<h3> World </h3>\n",
    "\"\"\"\n",
    "\n",
    "HTML(style + html_content)"
   ]
  },
  {
   "cell_type": "code",
   "execution_count": null,
   "id": "eb54bf40-4801-4d5b-9c01-fc98b5357b45",
   "metadata": {},
   "outputs": [],
   "source": []
  }
 ],
 "metadata": {
  "kernelspec": {
   "display_name": "Python 3 (ipykernel)",
   "language": "python",
   "name": "python3"
  },
  "language_info": {
   "codemirror_mode": {
    "name": "ipython",
    "version": 3
   },
   "file_extension": ".py",
   "mimetype": "text/x-python",
   "name": "python",
   "nbconvert_exporter": "python",
   "pygments_lexer": "ipython3",
   "version": "3.11.7"
  }
 },
 "nbformat": 4,
 "nbformat_minor": 5
}
