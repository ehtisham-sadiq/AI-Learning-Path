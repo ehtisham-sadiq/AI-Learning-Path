{
 "cells": [
  {
   "cell_type": "markdown",
   "id": "4e05fbdc",
   "metadata": {},
   "source": [
    "<h1 align=\"center\"> Practical Learning Data Science and Machine Learning - Assignment 07 </h1>\n"
   ]
  },
  {
   "cell_type": "code",
   "execution_count": null,
   "id": "46b02bec",
   "metadata": {},
   "outputs": [],
   "source": []
  },
  {
   "cell_type": "markdown",
   "id": "da8912cc",
   "metadata": {},
   "source": [
    "> **Note: Solve all the questions using user-defined functions and loops. Try to avoid using built-in functions.**"
   ]
  },
  {
   "cell_type": "code",
   "execution_count": null,
   "id": "1cadb168",
   "metadata": {},
   "outputs": [],
   "source": []
  },
  {
   "cell_type": "code",
   "execution_count": null,
   "id": "c8e990c4",
   "metadata": {},
   "outputs": [],
   "source": []
  },
  {
   "cell_type": "markdown",
   "id": "afef6b06",
   "metadata": {},
   "source": [
    "## Question no 01:\n",
    "\n",
    "### Student's Record\n",
    "A file exists on the disk named `students.txt` . The file contains several records, and each record contains two fields: \n",
    "- (1) the student’s name, and \n",
    "- (2) the student’s score for the final exam.    \n",
    "\n",
    "\n",
    "Perform the following two operations on the given file.    \n",
    "\n",
    "\n",
    "- Write code that deletes the record containing “Ahmed Shakeel” as the student name.\n",
    "- Write code that changes Muhammad Salman’s score to 100.\n",
    "- After performing above two operations , display all the content of the file."
   ]
  },
  {
   "cell_type": "code",
   "execution_count": null,
   "id": "bba8e67a",
   "metadata": {},
   "outputs": [],
   "source": [
    "!cat students.txt"
   ]
  },
  {
   "cell_type": "code",
   "execution_count": null,
   "id": "ce8f3cf0",
   "metadata": {},
   "outputs": [],
   "source": [
    "# Here write your solution"
   ]
  },
  {
   "cell_type": "code",
   "execution_count": null,
   "id": "6bfa783b",
   "metadata": {},
   "outputs": [],
   "source": []
  },
  {
   "cell_type": "markdown",
   "id": "e2de94a9",
   "metadata": {},
   "source": [
    "## Question no 02:\n",
    "\n",
    "### Random Number File Writer and Reader\n",
    "Write a program that writes a series of random numbers to a file. Each random number should be in the range of 1 through 100. The application should let the user specify how many random numbers the file will hold.\n",
    "Write another program that reads the random numbers from the file, display the numbers, and then display the following data:\n",
    "- The count of the numbers\n",
    "- The total of the numbers\n",
    "- The average of the numbers\n",
    "- Maximun number of the file\n",
    "- Minimum number of the file\n",
    "- Find the square root of each number of file and store its result into a list `squaredList`\n",
    "- Find even numbers of file and store its result into a list `EvenList`"
   ]
  },
  {
   "cell_type": "markdown",
   "id": "e63bf3d0",
   "metadata": {},
   "source": [
    "#### File writer Operation"
   ]
  },
  {
   "cell_type": "code",
   "execution_count": null,
   "id": "8a869735",
   "metadata": {},
   "outputs": [],
   "source": [
    "# Here write your answer\n",
    "# part 01\n",
    "def randomNumberFile(numberCount):\n",
    "    # code\n",
    "def main():\n",
    "    num = int(input(\"How many random numbers you to store in file : \"))\n",
    "    randomNumberFile(num)\n",
    "main()"
   ]
  },
  {
   "cell_type": "markdown",
   "id": "c7e5bbbe",
   "metadata": {},
   "source": [
    "#### File reader operation"
   ]
  },
  {
   "cell_type": "code",
   "execution_count": null,
   "id": "bad4d5e6",
   "metadata": {},
   "outputs": [],
   "source": [
    "# Here write your answer"
   ]
  },
  {
   "cell_type": "code",
   "execution_count": null,
   "id": "13be2748",
   "metadata": {},
   "outputs": [],
   "source": []
  },
  {
   "cell_type": "markdown",
   "id": "fb4bf322",
   "metadata": {},
   "source": [
    "## Question no 03:\n",
    "### Average of Numbers and Exception Handing\n",
    "Assume that a file containing a series of integers is named `numbers.txt` and exists on the\n",
    "computer’s disk. Write a program that performs the following operations and handles the following exceptions:\n",
    "- calculates the average of all the numbers stored in the file.\n",
    "- Maximum number of the file.\n",
    "- Minimum number of the file.\n",
    "- It should handle any IOError exceptions that are raised when the file is opened and data is read from it.\n",
    "- It should handle any ValueError exceptions that are raised when the items that are read from the file are converted to a number."
   ]
  },
  {
   "cell_type": "code",
   "execution_count": null,
   "id": "bcc43aca",
   "metadata": {},
   "outputs": [],
   "source": [
    "# Here write your answer"
   ]
  },
  {
   "cell_type": "code",
   "execution_count": null,
   "id": "cdf5d276",
   "metadata": {},
   "outputs": [],
   "source": []
  },
  {
   "cell_type": "code",
   "execution_count": null,
   "id": "8aaab646",
   "metadata": {},
   "outputs": [],
   "source": [
    "!ls"
   ]
  },
  {
   "cell_type": "markdown",
   "id": "8211d297",
   "metadata": {},
   "source": [
    "## Question no 04:\n",
    "\n",
    "### File Head and Line Numbers Display\n",
    "\n",
    "Write a program that asks the user for the name of a file. The program should perform the following two tasks \n",
    "\n",
    "- Display only the first five lines of the file’s contents. If the file contains less than five lines, it should display the file’s entire contents.\n",
    "- Display the contents of the file with each line preceded with a line number followed by a colon. The line numbering should start at 1.\n",
    "\n",
    "#### Sample :\n",
    "\n",
    "Mary had a little lamb          \n",
    "Whose fleece was white as snow.      \n",
    "And everywhere that Mary went,   \n",
    "The lamb was sure to go!   \n",
    " \n",
    "      \n",
    "**Output**\n",
    "\n",
    "\n",
    "1: Mary had a little lamb     \n",
    "2: Whose fleece was white as snow.   \n",
    "3: And everywhere that Mary went,    \n",
    "4: The lamb was sure to go!"
   ]
  },
  {
   "cell_type": "code",
   "execution_count": null,
   "id": "1ed26f06",
   "metadata": {},
   "outputs": [],
   "source": [
    "# Here write your answer"
   ]
  },
  {
   "cell_type": "code",
   "execution_count": null,
   "id": "5961e4c0",
   "metadata": {},
   "outputs": [],
   "source": []
  },
  {
   "cell_type": "code",
   "execution_count": null,
   "id": "f38b753e",
   "metadata": {},
   "outputs": [],
   "source": []
  },
  {
   "cell_type": "code",
   "execution_count": null,
   "id": "61d3ad93",
   "metadata": {},
   "outputs": [],
   "source": []
  },
  {
   "cell_type": "code",
   "execution_count": null,
   "id": "82b41fcb",
   "metadata": {},
   "outputs": [],
   "source": []
  },
  {
   "cell_type": "markdown",
   "id": "8c218a62",
   "metadata": {},
   "source": [
    "## Question no 05: \n",
    "- Download this text file of past [World Series winners](https://raw.githubusercontent.com/ehtisham-sadiq/P0Q6R9S2-MLZone/main/Module%2002%20-%20Introduction%20to%20Python%20Programming/datasets/world-series-winners.txt?token=GHSAT0AAAAAACFWR62MNEYRPRCVTHGC5FOWZJNHAPA).\n",
    "- Read in the lines of the file to a list, so that each line is an element of the list.\n",
    "- Create a new list with just those list elements that contain `New York`; print that list, making sure there's not an extra newline character between each line. Print this list (`no` `print` command required).\n",
    "- Use the `set` class to convert the list of all World Series winners to a list of unique values. Print this list (`no` `print` command required).\n",
    "- Write the output to a new file `winners.txt`.\n"
   ]
  },
  {
   "cell_type": "code",
   "execution_count": null,
   "id": "7275c0b3",
   "metadata": {},
   "outputs": [],
   "source": [
    "# Here write your code\n",
    "import urllib"
   ]
  },
  {
   "cell_type": "code",
   "execution_count": null,
   "id": "6277df33",
   "metadata": {},
   "outputs": [],
   "source": []
  },
  {
   "cell_type": "markdown",
   "id": "e3ec1054",
   "metadata": {},
   "source": [
    "## Question no 06:\n",
    "\n",
    "####  Data Analysis for Vacation Planning\n",
    "\n",
    "You're planning a vacation, and you need to decide which city you want to visit. You have shortlisted four cities and identified the return flight cost, daily hotel cost, and weekly car rental cost. While renting a car, you need to pay for entire weeks, even if you return the car sooner.\n",
    "\n",
    "\n",
    "| City | Return Flight (`$`) | Hotel per day (`$`) | Weekly Car Rental  (`$`) | \n",
    "|------|--------------------------|------------------|------------------------|\n",
    "| Paris|       200                |       20         |          200           |\n",
    "| London|      250                |       30         |          120           |\n",
    "| Dubai|       370                |       15         |          80           |\n",
    "| Mumbai|      450                |       10         |          70           |         \n",
    "\n",
    "\n",
    "Answer the following questions using the data above:\n",
    "\n",
    "1. If you're planning a 1-week long trip, which city should you visit to spend the least amount of money?\n",
    "2. How does the answer to the previous question change if you change the trip's duration to four days, ten days or two weeks?\n",
    "3. If your total budget for the trip is `$1000`, which city should you visit to maximize the duration of your trip? Which city should you visit if you want to minimize the duration?\n",
    "4. How does the answer to the previous question change if your budget is `$600`, `$2000`, or `$1500`?\n",
    "\n",
    "*Hint: To answer these questions, it will help to define a function `cost_of_trip` with relevant inputs like flight cost, hotel rate, car rental rate, and duration of the trip. You may find the `math.ceil` function useful for calculating the total cost of car rental.*"
   ]
  },
  {
   "cell_type": "code",
   "execution_count": null,
   "id": "40b6a18b",
   "metadata": {},
   "outputs": [],
   "source": [
    "# Here write your answer"
   ]
  },
  {
   "cell_type": "code",
   "execution_count": null,
   "id": "8dd5995e",
   "metadata": {},
   "outputs": [],
   "source": []
  },
  {
   "cell_type": "markdown",
   "id": "930cff21",
   "metadata": {},
   "source": [
    "## Question no 07: \n",
    "\n",
    "### Processing CSV files using a dictionary of lists\n",
    "\n",
    "We defined the functions `read_csv` and `write_csv` above to convert a CSV file into a list of dictionaries and vice versa. In this exercise, you'll transform the CSV data into a dictionary of lists instead, with one list for each column in the file.\n",
    "\n",
    "For example, consider the following CSV file:\n",
    "\n",
    "```\n",
    "amount,duration,rate,down_payment\n",
    "828400,120,0.11,100000\n",
    "4633400,240,0.06,\n",
    "42900,90,0.08,8900\n",
    "983000,16,0.14,\n",
    "15230,48,0.07,4300\n",
    "```\n",
    "\n",
    "We'll convert it into the following dictionary of lists:\n",
    "\n",
    "```\n",
    "{\n",
    "  amount: [828400, 4633400, 42900, 983000, 15230],\n",
    "  duration: []120, 240, 90, 16, 48],\n",
    "  rate: [0.11, 0.06, 0.08, 0.14, 0.07],\n",
    "  down_payment: [100000, 0, 8900, 0, 4300]\n",
    "}\n",
    "```\n",
    "\n",
    "Complete the following tasks using the empty cells below:\n",
    "\n",
    "1. Download three CSV files to the folder `data2` using the URLs listed in the code cell below, and verify the downloaded files.\n",
    "2. Define a function `read_csv_columnar` that reads a CSV file and returns a dictionary of lists in the format shown above. \n",
    "3. Define a function `compute_emis` that adds another key `emi` into the dictionary with a list of EMIs computed for each row of data.\n",
    "4. Define a function `write_csv_columnar` that writes the data from the dictionary of lists into a correctly formatted CSV file.\n",
    "5. Process all three downloaded files and write the results by creating new files in the directory `data2`.\n",
    "\n",
    "Define helper functions wherever required."
   ]
  },
  {
   "cell_type": "code",
   "execution_count": null,
   "id": "b52bb852",
   "metadata": {},
   "outputs": [],
   "source": [
    "url1 = 'https://gist.githubusercontent.com/aakashns/257f6e6c8719c17d0e498ea287d1a386/raw/7def9ef4234ddf0bc82f855ad67dac8b971852ef/loans1.txt'\n",
    "url2 = 'https://gist.githubusercontent.com/aakashns/257f6e6c8719c17d0e498ea287d1a386/raw/7def9ef4234ddf0bc82f855ad67dac8b971852ef/loans2.txt'\n",
    "url3 = 'https://gist.githubusercontent.com/aakashns/257f6e6c8719c17d0e498ea287d1a386/raw/7def9ef4234ddf0bc82f855ad67dac8b971852ef/loans3.txt'"
   ]
  },
  {
   "cell_type": "code",
   "execution_count": null,
   "id": "5d1f2f56",
   "metadata": {},
   "outputs": [],
   "source": [
    "# Here write your answer"
   ]
  },
  {
   "cell_type": "code",
   "execution_count": null,
   "id": "5d30d07e",
   "metadata": {},
   "outputs": [],
   "source": []
  },
  {
   "cell_type": "markdown",
   "id": "62731606",
   "metadata": {},
   "source": [
    "## Question no 08:\n",
    "\n",
    "### Flying to the Bahamas\n",
    "\n",
    "**Part A: A travel company wants to fly a plane to the Bahamas. Flying the plane costs 5000 dollars. So far, 29 people have signed up for the trip. If the company charges 200 dollars per ticket, what is the profit made by the company?**\n",
    "\n",
    "Fill in values or arithmetic expressions for the variables below."
   ]
  },
  {
   "cell_type": "code",
   "execution_count": null,
   "id": "15c6fd22",
   "metadata": {},
   "outputs": [],
   "source": [
    "cost_of_flying_plane = ???\n",
    "number_of_passengers = ???\n",
    "price_of_ticket = ???\n",
    "profit = ???"
   ]
  },
  {
   "cell_type": "code",
   "execution_count": null,
   "id": "b4102dc5",
   "metadata": {},
   "outputs": [],
   "source": [
    "print('The company makes of a profit of {} dollars'.format(profit))"
   ]
  },
  {
   "cell_type": "markdown",
   "id": "9397cd98",
   "metadata": {},
   "source": [
    "**Part B: Out of the 29 people who took the flight, only 12 buy tickets to return from the Bahamas on the same plane. If the flying the plane back also costs 5000 dollars, and does the company make an overall profit or loss? The company charges the same fee of 200 dollars per ticket for the return flight.**\n",
    "\n",
    "Use an `if` statement to display the result."
   ]
  },
  {
   "cell_type": "code",
   "execution_count": null,
   "id": "57566503",
   "metadata": {},
   "outputs": [],
   "source": [
    "# Here write your answer"
   ]
  },
  {
   "cell_type": "code",
   "execution_count": null,
   "id": "e71d5e73",
   "metadata": {},
   "outputs": [],
   "source": []
  },
  {
   "cell_type": "code",
   "execution_count": null,
   "id": "f17cca3b",
   "metadata": {},
   "outputs": [],
   "source": []
  },
  {
   "cell_type": "markdown",
   "id": "4a8731f9",
   "metadata": {},
   "source": [
    "## Question no 09:\n",
    "\n",
    "### Twitter Sentiment Analysis\n",
    "\n",
    "Are your ready to perform some *Data Analysis with Python*? In this problem, we'll analyze some fictional tweets and find out whether the overall sentiment of Twitter users is happy or sad. This is a simplified version of an important real world problem called *sentiment analysis*.\n",
    "\n",
    "Before we begin, we need a list of tweets to analyze. We're picking a small number of tweets here, but the exact same analysis can also be done for thousands, or even millions of tweets. The collection of data that we perform analysis on is often called a *dataset*."
   ]
  },
  {
   "cell_type": "code",
   "execution_count": null,
   "id": "67b72697",
   "metadata": {},
   "outputs": [],
   "source": [
    "tweets = [\n",
    "    \"Wow, what a great day today!! #sunshine\",\n",
    "    \"I feel sad about the things going on around us. #covid19\",\n",
    "    \"I'm really excited to learn Python with @JovianML #zerotopandas\",\n",
    "    \"This is a really nice song. #linkinpark\",\n",
    "    \"The python programming language is useful for data science\",\n",
    "    \"Why do bad things happen to me?\",\n",
    "    \"Apple announces the release of the new iPhone 12. Fans are excited.\",\n",
    "    \"Spent my day with family!! #happy\",\n",
    "    \"Check out my blog post on common string operations in Python. #zerotopandas\",\n",
    "    \"Freecodecamp has great coding tutorials. #skillup\"\n",
    "]"
   ]
  },
  {
   "cell_type": "markdown",
   "id": "a751e4bd",
   "metadata": {},
   "source": [
    "Let's begin by answering a very simple but important question about our dataset.\n",
    "\n",
    "**Q1: How many tweets does the dataset contain?**"
   ]
  },
  {
   "cell_type": "code",
   "execution_count": null,
   "id": "0f15eb71",
   "metadata": {},
   "outputs": [],
   "source": [
    "number_of_tweets == ???"
   ]
  },
  {
   "cell_type": "markdown",
   "id": "51cd7e6a",
   "metadata": {},
   "source": [
    "Let's create two lists of words: `happy_words` and `sad_words`. We will use these to check if a tweet is happy or sad."
   ]
  },
  {
   "cell_type": "code",
   "execution_count": null,
   "id": "fe53966e",
   "metadata": {},
   "outputs": [],
   "source": [
    "happy_words = ['great', 'excited', 'happy', 'nice', 'wonderful', 'amazing', 'good', 'best']\n",
    "sad_words = ['sad', 'bad', 'tragic', 'unhappy', 'worst']"
   ]
  },
  {
   "cell_type": "code",
   "execution_count": null,
   "id": "6516c624",
   "metadata": {},
   "outputs": [],
   "source": [
    "sample_tweet = tweets[0]\n",
    "sample_tweet"
   ]
  },
  {
   "cell_type": "code",
   "execution_count": null,
   "id": "1336c53b",
   "metadata": {},
   "outputs": [],
   "source": [
    "is_tweet_happy = False\n",
    "\n",
    "# Get a word from happy_words\n",
    "for word in happy_words:\n",
    "    # Check if the tweet contains the word\n",
    "    if word in sample_tweet:\n",
    "        # Word found! Mark the tweet as happy\n",
    "        is_tweet_happy = True\n",
    "is_tweet_happy"
   ]
  },
  {
   "cell_type": "markdown",
   "id": "334eee05",
   "metadata": {},
   "source": [
    "Do you understand what we're doing above? \n",
    "\n",
    "> For each word in the list of happy words, we check if is a part of the selected tweet. If the word is indded a part of the tweet, we set the variable `is_tweet_happy` to `True`. "
   ]
  },
  {
   "cell_type": "markdown",
   "id": "faa68c3c",
   "metadata": {},
   "source": [
    "**Q2: Determine the number of tweets in the dataset that can be classified as happy.**\n",
    "\n",
    "*Hint*: You'll need to use a loop inside another loop to do this. Use the code from the example shown above."
   ]
  },
  {
   "cell_type": "code",
   "execution_count": null,
   "id": "ee3e4de2",
   "metadata": {},
   "outputs": [],
   "source": [
    "# Here write your answer"
   ]
  },
  {
   "cell_type": "code",
   "execution_count": null,
   "id": "38250aa2",
   "metadata": {},
   "outputs": [],
   "source": [
    "# print(\"Number of happy tweets:\", number_of_happy_tweets)"
   ]
  },
  {
   "cell_type": "code",
   "execution_count": null,
   "id": "eb0f0630",
   "metadata": {},
   "outputs": [],
   "source": []
  },
  {
   "cell_type": "markdown",
   "id": "8e1155f6",
   "metadata": {},
   "source": [
    "**Q3: What fraction of the total number of tweets are happy?**\n",
    "\n",
    "For example, if 2 out of 10 tweets are happy, then the answer is `2/10` i.e. `0.2`."
   ]
  },
  {
   "cell_type": "code",
   "execution_count": null,
   "id": "01e4368e",
   "metadata": {},
   "outputs": [],
   "source": [
    "# Here write your answer"
   ]
  },
  {
   "cell_type": "code",
   "execution_count": null,
   "id": "1314c438",
   "metadata": {},
   "outputs": [],
   "source": [
    "# print(\"The fraction of happy tweets is:\", happy_fraction)"
   ]
  },
  {
   "cell_type": "code",
   "execution_count": null,
   "id": "3fef4ac5",
   "metadata": {},
   "outputs": [],
   "source": []
  },
  {
   "cell_type": "markdown",
   "id": "ebe76e64",
   "metadata": {},
   "source": [
    "To identify whether a tweet is sad, we can simply check if contains any of the words from `sad_words`.\n",
    "\n",
    "**Q4: Determine the number of tweets in the dataset that can be classified as sad.**"
   ]
  },
  {
   "cell_type": "code",
   "execution_count": null,
   "id": "7eadb52f",
   "metadata": {},
   "outputs": [],
   "source": [
    "# Here write your answer"
   ]
  },
  {
   "cell_type": "code",
   "execution_count": null,
   "id": "771188b6",
   "metadata": {},
   "outputs": [],
   "source": [
    "# print(\"Number of sad tweets:\", number_of_sad_tweets)"
   ]
  },
  {
   "cell_type": "code",
   "execution_count": null,
   "id": "5052b3c9",
   "metadata": {},
   "outputs": [],
   "source": []
  },
  {
   "cell_type": "markdown",
   "id": "0aac1b52",
   "metadata": {},
   "source": [
    "**Q5: What fraction of the total number of tweets are sad?**"
   ]
  },
  {
   "cell_type": "code",
   "execution_count": null,
   "id": "f7c77a88",
   "metadata": {},
   "outputs": [],
   "source": [
    "# Here write your answer"
   ]
  },
  {
   "cell_type": "code",
   "execution_count": null,
   "id": "76674cbf",
   "metadata": {},
   "outputs": [],
   "source": [
    "# print(\"The fraction of sad tweets is:\", sad_fraction)"
   ]
  },
  {
   "cell_type": "code",
   "execution_count": null,
   "id": "975b8240",
   "metadata": {},
   "outputs": [],
   "source": []
  },
  {
   "cell_type": "markdown",
   "id": "b3149bcd",
   "metadata": {},
   "source": [
    "Great work, even with some basic analysis, we already know a lot about the sentiment of the tweets given to us. Let us now define a metric called \"sentiment score\", to summarize the overall sentiment of the tweets.\n",
    "\n",
    "**Q6: Calculate the sentiment score, which is defined as the difference betweek the fraction of happy tweets and the fraction of sad tweets.**"
   ]
  },
  {
   "cell_type": "code",
   "execution_count": null,
   "id": "4e216527",
   "metadata": {},
   "outputs": [],
   "source": [
    "# Here write your answer"
   ]
  },
  {
   "cell_type": "code",
   "execution_count": null,
   "id": "9f31c40c",
   "metadata": {},
   "outputs": [],
   "source": [
    "# print(\"The sentiment score for the given tweets is\", sentiment_score)"
   ]
  },
  {
   "cell_type": "code",
   "execution_count": null,
   "id": "f8630520",
   "metadata": {},
   "outputs": [],
   "source": []
  },
  {
   "cell_type": "markdown",
   "id": "1b4296ac",
   "metadata": {},
   "source": [
    "In a real world scenario, we could calculate & record the sentiment score for all the tweets sent out every day. This information can be used to plot a graph and study the trends in the changing sentiment of the world. The following graph was creating using the Python data visualization library `matplotlib`, which we'll cover later in the course.\n",
    "\n",
    "<img src=\"https://i.imgur.com/6CCIwCb.png\" style=\"width:400px\">\n",
    "\n",
    "What does the sentiment score represent? Based on the value of the sentiment score, can you identify if the overall sentiment of the dataset is happy or sad?\n",
    "\n",
    "**Q7: Display whether the overall sentiment of the given dataset of tweets is happy or sad, using the sentiment score.**"
   ]
  },
  {
   "cell_type": "code",
   "execution_count": null,
   "id": "574c5449",
   "metadata": {},
   "outputs": [],
   "source": [
    "if ???:\n",
    "    print(\"The overall sentiment is happy\")\n",
    "else:\n",
    "    print(\"The overall sentiment is sad\")"
   ]
  },
  {
   "cell_type": "markdown",
   "id": "17a56a0e",
   "metadata": {},
   "source": [
    "Finally, it's also important to track how many tweets are neutral i.e. neither happy nor sad. If a large fraction of tweets are marked neutral, maybe we need to improve our lists of happy and sad words. \n",
    "\n",
    "**Q8: What is the fraction of tweets that are neutral i.e. neither happy nor sad.**"
   ]
  },
  {
   "cell_type": "code",
   "execution_count": null,
   "id": "2a682474",
   "metadata": {},
   "outputs": [],
   "source": [
    "# store the final answer in this variable\n",
    "number_of_neutral_tweets = 0\n",
    "\n",
    "# perform the calculation here\n",
    "???"
   ]
  },
  {
   "cell_type": "code",
   "execution_count": null,
   "id": "c1ca4845",
   "metadata": {},
   "outputs": [],
   "source": [
    "neutral_fraction = ???\n",
    "print('The fraction of neutral tweets is', neutral_fraction)"
   ]
  },
  {
   "cell_type": "code",
   "execution_count": null,
   "id": "187de91e",
   "metadata": {},
   "outputs": [],
   "source": []
  },
  {
   "cell_type": "markdown",
   "id": "c1efb622",
   "metadata": {},
   "source": [
    "## Question no 10:\n",
    "\n",
    "#### website requires the users to input username and password to register. Write a program to check the validity of password input by users.\n",
    "\n",
    "Following are the criteria for checking the password:  \n",
    "\n",
    "1. At least 1 letter between [a-z]\n",
    "2. At least 1 number between [0-9]\n",
    "1. At least 1 letter between [A-Z]\n",
    "3. At least 1 character from [$#@]\n",
    "\n",
    "4. Minimum length of transaction password: 6\n",
    "5. Maximum length of transaction password: 12\n",
    "\n",
    "Your program should accept a sequence of comma separated passwords and will check them according to the above criteria. Passwords that match the criteria are to be printed, each separated by a comma.\n",
    "\n",
    "**Example:**  \n",
    "If the following passwords are given as input to the program: `ABd1234@1,a F1#,2w3E*,2We3345`  \n",
    "Then, the output of the program should be:`ABd1234@1`\n"
   ]
  },
  {
   "cell_type": "code",
   "execution_count": null,
   "id": "161ab3b6",
   "metadata": {},
   "outputs": [],
   "source": [
    "# Here write your answer"
   ]
  },
  {
   "cell_type": "code",
   "execution_count": null,
   "id": "3ef44738",
   "metadata": {},
   "outputs": [],
   "source": []
  },
  {
   "cell_type": "markdown",
   "id": "05e8436b",
   "metadata": {},
   "source": [
    "## Question no 11 : \n",
    "\n",
    "#### Create a function that takes three arguments a, b, c and returns the sum of the numbers that are evenly divided by c from the range a, b inclusive ?\n",
    "\n",
    "**Examples:**  \n",
    "\n",
    "1. evenly_divisible(1, 10, 20) ➞ 0\n",
    "\n",
    "`No number between 1 and 10 can be evenly divided by 20.`\n",
    "    \n",
    "2. evenly_divisible(1, 10, 2) ➞ 30\n",
    "\n",
    "`2 + 4 + 6 + 8 + 10 = 30`\n",
    "\n",
    "\n",
    "3. evenly_divisible(1, 10, 3) ➞ 18\n",
    "\n",
    "`3 + 6 + 9 = 18`"
   ]
  },
  {
   "cell_type": "code",
   "execution_count": null,
   "id": "700a0a5a",
   "metadata": {},
   "outputs": [],
   "source": [
    "# Here write your answer"
   ]
  },
  {
   "cell_type": "code",
   "execution_count": null,
   "id": "96aae003",
   "metadata": {},
   "outputs": [],
   "source": []
  },
  {
   "cell_type": "markdown",
   "id": "0988fbd8",
   "metadata": {},
   "source": [
    "## Question no 12 :\n",
    "\n",
    "#### Create a function that takes a list of numbers between 1 and 10 (excluding one number) and returns the missing number.\n",
    "\n",
    "**Examples:**  \n",
    "`missing_num([1, 2, 3, 4, 6, 7, 8, 9, 10]) ➞ 5`  \n",
    "`missing_num([7, 2, 3, 6, 5, 9, 1, 4, 8]) ➞ 10`  \n",
    "`missing_num([10, 5, 1, 2, 4, 6, 8, 3, 9]) ➞ 7`  "
   ]
  },
  {
   "cell_type": "code",
   "execution_count": null,
   "id": "80ca7d02",
   "metadata": {},
   "outputs": [],
   "source": [
    "# Here write your answer"
   ]
  },
  {
   "cell_type": "code",
   "execution_count": null,
   "id": "8732d1cd",
   "metadata": {},
   "outputs": [],
   "source": []
  },
  {
   "cell_type": "markdown",
   "id": "36c5547f",
   "metadata": {},
   "source": [
    "## Question no 13 :\n",
    "\n",
    "#### An isogram is a word that has no duplicate letters. Create a function that takes a string and returns either True or False depending on whether or not it's an \"isogram\".\n",
    "\n",
    "**Examples:**   \n",
    "`is_isogram(\"Algorism\") ➞ True`  \n",
    "`is_isogram(\"PasSword\") ➞ False`  \n",
    "    # Not case sensitive.   \n",
    "`is_isogram(\"Consecutive\") ➞ False`  \n",
    "\n",
    "**Notes:**  \n",
    "Ignore letter case (should not be case sensitive).  \n",
    "All test cases contain valid one word strings.  "
   ]
  },
  {
   "cell_type": "code",
   "execution_count": null,
   "id": "951b226a",
   "metadata": {},
   "outputs": [],
   "source": [
    "# Here write your answer"
   ]
  },
  {
   "cell_type": "code",
   "execution_count": null,
   "id": "f3ef72a6",
   "metadata": {},
   "outputs": [],
   "source": []
  },
  {
   "cell_type": "markdown",
   "id": "a4eb33b4",
   "metadata": {},
   "source": [
    "## Question no 14 :\n",
    "\n",
    "#### \"Loves me, loves me not\" is a traditional game in which a person plucks off all the petals of a flower one by one, saying the phrase \"Loves me\" and \"Loves me not\" when determining whether the one that they love, loves them back.\n",
    "\n",
    "Given a number of petals, return a string which repeats the phrases \"Loves me\" and \"Loves me not\" for every alternating petal, and return the last phrase in all caps. Remember to put a comma and space between phrases.\n",
    "\n",
    "**Examples:**   \n",
    "`loves_me(3) ➞ \"Loves me, Loves me not, LOVES ME\"`  \n",
    "`loves_me(6) ➞ \"Loves me, Loves me not, Loves me, Loves me not, Loves me, LOVES ME NOT\"`  \n",
    "`loves_me(1) ➞ \"LOVES ME\"`  "
   ]
  },
  {
   "cell_type": "code",
   "execution_count": null,
   "id": "143a08a1",
   "metadata": {},
   "outputs": [],
   "source": [
    "# Here write your answer"
   ]
  },
  {
   "cell_type": "code",
   "execution_count": null,
   "id": "ce4f6ab5",
   "metadata": {},
   "outputs": [],
   "source": []
  },
  {
   "cell_type": "code",
   "execution_count": null,
   "id": "1189c15e",
   "metadata": {},
   "outputs": [],
   "source": []
  },
  {
   "cell_type": "markdown",
   "id": "26acaa0c",
   "metadata": {},
   "source": [
    "# Challenge Exercise:"
   ]
  },
  {
   "cell_type": "markdown",
   "id": "04e7ce23",
   "metadata": {},
   "source": [
    "There are a lot to learn about Python Sets and the information presented in the lesson is limited due to its length. To learn Python Sets in depth you are strongly encouraged to review the W3Schools tutorial on [Python Sets Examples and Methods](https://www.w3schools.com/python/python_sets.asp) before you work on this lab. Some difficult questions in this lab have their solutions in the W3Schools tutorial.\n",
    "\n",
    "#### First, import the Python `random` libary"
   ]
  },
  {
   "cell_type": "code",
   "execution_count": null,
   "id": "39c1be04",
   "metadata": {},
   "outputs": [],
   "source": [
    "# Here write your code"
   ]
  },
  {
   "cell_type": "markdown",
   "id": "405a288e",
   "metadata": {},
   "source": [
    "### In the cell below, create a list named `sample_list_1` with 80 random values. \n",
    "\n",
    "Requirements:\n",
    "\n",
    "* Each value is an integer falling between 0 and 100.\n",
    "* Each value in the list is unique.\n",
    "\n",
    "Print `sample_list_1` to review its values\n",
    "\n",
    "*Hint: use `random.sample` ([reference](https://docs.python.org/3/library/random.html#random.sample)).*"
   ]
  },
  {
   "cell_type": "code",
   "execution_count": null,
   "id": "56aff25b",
   "metadata": {},
   "outputs": [],
   "source": [
    "# Here write your code"
   ]
  },
  {
   "cell_type": "markdown",
   "id": "210ace20",
   "metadata": {},
   "source": [
    "### Convert `sample_list_1` to a set called `set1`. Print the length of the set. Is its length still 80?"
   ]
  },
  {
   "cell_type": "code",
   "execution_count": null,
   "id": "dc6c71f2",
   "metadata": {},
   "outputs": [],
   "source": [
    "# Here write your code"
   ]
  },
  {
   "cell_type": "markdown",
   "id": "f7cf49ca",
   "metadata": {},
   "source": [
    "### Create another list named `sample_list_2` with 80 random values.\n",
    "\n",
    "Requirements:\n",
    "\n",
    "* Each value is an integer falling between 0 and 100.\n",
    "* The values in the list don't have to be unique.\n",
    "\n",
    "*Hint: Use a FOR loop.*"
   ]
  },
  {
   "cell_type": "code",
   "execution_count": null,
   "id": "e2c84777",
   "metadata": {},
   "outputs": [],
   "source": [
    "# here write your code\n",
    "sample_list_2 = []"
   ]
  },
  {
   "cell_type": "markdown",
   "id": "b0a27f39",
   "metadata": {},
   "source": [
    "### Convert `sample_list_2` to a set called `set2`. Print the length of the set. Is its length still 80?"
   ]
  },
  {
   "cell_type": "code",
   "execution_count": null,
   "id": "6c39219b",
   "metadata": {},
   "outputs": [],
   "source": [
    "# Here write your code"
   ]
  },
  {
   "cell_type": "markdown",
   "id": "f07ef51c",
   "metadata": {},
   "source": [
    "### Identify the elements present in `set1` but not in `set2`. Assign the elements to a new set named `set3`."
   ]
  },
  {
   "cell_type": "code",
   "execution_count": null,
   "id": "0e518700",
   "metadata": {},
   "outputs": [],
   "source": [
    "# Here write your code"
   ]
  },
  {
   "cell_type": "markdown",
   "id": "e76c3a53",
   "metadata": {},
   "source": [
    "### Identify the elements present in `set2` but not in `set1`. Assign the elements to a new set named `set4`."
   ]
  },
  {
   "cell_type": "code",
   "execution_count": null,
   "id": "10c2ce41",
   "metadata": {},
   "outputs": [],
   "source": [
    "# Here write your code"
   ]
  },
  {
   "cell_type": "markdown",
   "id": "93e5b7c8",
   "metadata": {},
   "source": [
    "### Now Identify the elements shared between `set1` and `set2`. Assign the elements to a new set named `set5`."
   ]
  },
  {
   "cell_type": "code",
   "execution_count": null,
   "id": "242fa361",
   "metadata": {},
   "outputs": [],
   "source": [
    "# Here write your code"
   ]
  },
  {
   "cell_type": "markdown",
   "id": "9463edf3",
   "metadata": {},
   "source": [
    "### What is the relationship among the following values:\n",
    "\n",
    "* len(set1)\n",
    "* len(set2)\n",
    "* len(set3)\n",
    "* len(set4)\n",
    "* len(set5)\n",
    "\n",
    "Use a math formular to represent that relationship. Test your formular with Python code.\n",
    "- len(set1) + len(set2) - len(set(5)) = this should be equal to the union of 1 and 2\n",
    "- len(set3) + len(set5) = should be equal to set 1\n",
    "- len(set4) + len(set5) = should be equal to set 2"
   ]
  },
  {
   "cell_type": "code",
   "execution_count": null,
   "id": "faed7788",
   "metadata": {},
   "outputs": [],
   "source": [
    "# Here write your code"
   ]
  },
  {
   "cell_type": "markdown",
   "id": "4614deba",
   "metadata": {},
   "source": [
    "### Create an empty set called `set6`."
   ]
  },
  {
   "cell_type": "code",
   "execution_count": null,
   "id": "213b7958",
   "metadata": {},
   "outputs": [],
   "source": [
    "# Here write your code"
   ]
  },
  {
   "cell_type": "markdown",
   "id": "a100566c",
   "metadata": {},
   "source": [
    "### Add `set3` and `set5` to `set6` using the Python Set `update` method."
   ]
  },
  {
   "cell_type": "code",
   "execution_count": null,
   "id": "7f93f401",
   "metadata": {},
   "outputs": [],
   "source": [
    "# Here write your code"
   ]
  },
  {
   "cell_type": "markdown",
   "id": "3579b253",
   "metadata": {},
   "source": [
    "### Check if `set1` and `set6` are equal."
   ]
  },
  {
   "cell_type": "code",
   "execution_count": null,
   "id": "a431c1ca",
   "metadata": {},
   "outputs": [],
   "source": [
    "# Here write your code"
   ]
  },
  {
   "cell_type": "markdown",
   "id": "4746d5f5",
   "metadata": {},
   "source": [
    "### Check if `set1` contains `set2` using the Python Set `issubset` method. Then check if `set1` contains `set3`.*"
   ]
  },
  {
   "cell_type": "code",
   "execution_count": null,
   "id": "b50d77aa",
   "metadata": {},
   "outputs": [],
   "source": [
    "# Here write your code"
   ]
  },
  {
   "cell_type": "markdown",
   "id": "1e7105ab",
   "metadata": {},
   "source": [
    "### Using the Python Set `union` method, aggregate `set3`, `set4`, and `set5`. Then aggregate `set1` and `set2`. \n",
    "\n",
    "#### Check if the aggregated values are equal."
   ]
  },
  {
   "cell_type": "code",
   "execution_count": null,
   "id": "afc4e0a6",
   "metadata": {},
   "outputs": [],
   "source": [
    "# Here write your code"
   ]
  },
  {
   "cell_type": "markdown",
   "id": "9db1b72f",
   "metadata": {},
   "source": [
    "### Using the `pop` method, remove the first element from `set1`."
   ]
  },
  {
   "cell_type": "code",
   "execution_count": null,
   "id": "7d44c61b",
   "metadata": {},
   "outputs": [],
   "source": [
    "# Here write your code"
   ]
  },
  {
   "cell_type": "markdown",
   "id": "6da1e881",
   "metadata": {},
   "source": [
    "### Remove every element in the following list from `set1` if they are present in the set. Print the remaining elements and length of `set1`.\n",
    "\n",
    "```\n",
    "list_to_remove = [1, 9, 11, 19, 21, 29, 31, 39, 41, 49, 51, 59, 61, 69, 71, 79, 81, 89, 91, 99]\n",
    "```"
   ]
  },
  {
   "cell_type": "code",
   "execution_count": null,
   "id": "0797577d",
   "metadata": {},
   "outputs": [],
   "source": [
    "# Here write your code"
   ]
  },
  {
   "cell_type": "code",
   "execution_count": null,
   "id": "afec3fdb",
   "metadata": {},
   "outputs": [],
   "source": []
  },
  {
   "cell_type": "code",
   "execution_count": null,
   "id": "c599c1c9",
   "metadata": {},
   "outputs": [],
   "source": []
  },
  {
   "cell_type": "code",
   "execution_count": null,
   "id": "14a044f1",
   "metadata": {},
   "outputs": [],
   "source": []
  }
 ],
 "metadata": {
  "kernelspec": {
   "display_name": "Python 3 (ipykernel)",
   "language": "python",
   "name": "python3"
  },
  "language_info": {
   "codemirror_mode": {
    "name": "ipython",
    "version": 3
   },
   "file_extension": ".py",
   "mimetype": "text/x-python",
   "name": "python",
   "nbconvert_exporter": "python",
   "pygments_lexer": "ipython3",
   "version": "3.11.7"
  }
 },
 "nbformat": 4,
 "nbformat_minor": 5
}
