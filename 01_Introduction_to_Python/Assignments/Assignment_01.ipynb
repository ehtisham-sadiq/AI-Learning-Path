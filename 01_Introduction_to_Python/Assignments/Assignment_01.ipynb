{
 "cells": [
  {
   "cell_type": "markdown",
   "id": "109ee454",
   "metadata": {},
   "source": [
    "<h1  align=\"center\">Practical Learning Data Science and Machine Learning - Assignment 01 </h1>"
   ]
  },
  {
   "cell_type": "code",
   "execution_count": null,
   "id": "285b5f52",
   "metadata": {},
   "outputs": [],
   "source": []
  },
  {
   "cell_type": "code",
   "execution_count": null,
   "id": "d680531f",
   "metadata": {},
   "outputs": [],
   "source": []
  },
  {
   "cell_type": "code",
   "execution_count": null,
   "id": "9e20abcc",
   "metadata": {},
   "outputs": [],
   "source": []
  },
  {
   "cell_type": "markdown",
   "id": "reliable-innocent",
   "metadata": {},
   "source": [
    "1. What is the difference between a data analyst and a data scientist?\n",
    "<br>\n",
    "2. Write a Python program to display the version of Python you are using.\n",
    "<br>\n",
    "3. Write a program in which you create five variables on the same line.\n",
    "<br>\n",
    "4. Write a program in which you declare a variable, check its type, and display its ID.\n",
    "<br>\n",
    "5. Write a program in Python that uses variables to perform a sum equal to 44.\n",
    "<br>\n",
    "6. Write a Python program to calculate the radius of a circle.\n",
    "**Sample : radius = 5**  \n",
    "**Output : 78.5**     \n",
    "<br>\n",
    "\n",
    "7. Write a Python program that prints the user's first and last name and concatenates them.\n",
    "**Sample : first_name = \"Ehtisham\"**  \n",
    "**Sample : last_name = \"Sadiq\"**   \n",
    "**Output : output = \"Ehtisham Sadiq\"** \n",
    "\n",
    "<br>\n",
    "\n",
    "<br>\n",
    "\n",
    "8. Is the variable name `Sales` the same as `sales`? Why or why not?\n",
    "\n",
    "<br>\n",
    "\n",
    "9. Is the following assignment statement valid or invalid? If it is invalid, why? `72 = amount`\n",
    "<br>\n",
    "\n",
    "10. What will be displayed by the following program?   \n",
    "    my_value = 99   \n",
    "    my_value = 0   \n",
    "    print(my_value)   \n",
    "    \n",
    "<br>\n",
    "\n",
    "11. Write a Python statement that assigns the sum of 10 and 14 to the variable `total`.\n",
    "\n",
    "<br>\n",
    "\n",
    "12. Write a Python statement that subtracts the variable `down_payment` from the variable `total` and assigns the result to the variable `due`.\n",
    "\n",
    "<br>\n",
    "\n",
    "13. Write a Python statement that multiplies the variable `subtotal` by 0.15 and assigns the result to the variable `total`."
   ]
  },
  {
   "cell_type": "code",
   "execution_count": null,
   "id": "5b1e28cc",
   "metadata": {},
   "outputs": [],
   "source": []
  },
  {
   "cell_type": "code",
   "execution_count": null,
   "id": "8e9f5b23",
   "metadata": {},
   "outputs": [],
   "source": []
  },
  {
   "cell_type": "markdown",
   "id": "aggregate-special",
   "metadata": {},
   "source": [
    "### Question no 02"
   ]
  },
  {
   "cell_type": "code",
   "execution_count": 4,
   "id": "another-attribute",
   "metadata": {},
   "outputs": [
    {
     "name": "stdout",
     "output_type": "stream",
     "text": [
      "3.10.6 (tags/v3.10.6:9c7b4bd, Aug  1 2022, 21:53:49) [MSC v.1932 64 bit (AMD64)]\n"
     ]
    }
   ],
   "source": [
    "# Here write your code\n",
    "import sys\n",
    "print(sys.version)"
   ]
  },
  {
   "cell_type": "code",
   "execution_count": null,
   "id": "7ad40fd0",
   "metadata": {},
   "outputs": [],
   "source": []
  },
  {
   "cell_type": "markdown",
   "id": "violent-ordering",
   "metadata": {},
   "source": [
    "### Question no 03"
   ]
  },
  {
   "cell_type": "code",
   "execution_count": null,
   "id": "blond-medium",
   "metadata": {},
   "outputs": [],
   "source": [
    "# Here write your code\n",
    "a, b, c, d, e = 0, 2.4, \"foo\", [0, 1, 2, 3], {\"my_key\": \"my_value\"}"
   ]
  },
  {
   "cell_type": "code",
   "execution_count": null,
   "id": "a567191d",
   "metadata": {},
   "outputs": [],
   "source": []
  },
  {
   "cell_type": "markdown",
   "id": "regulated-istanbul",
   "metadata": {},
   "source": [
    "### Question no 04"
   ]
  },
  {
   "cell_type": "code",
   "execution_count": 12,
   "id": "received-chain",
   "metadata": {},
   "outputs": [
    {
     "name": "stdout",
     "output_type": "stream",
     "text": [
      "variable type is <class 'str'>\n",
      "variable ID is 2336544184368\n"
     ]
    }
   ],
   "source": [
    "# Here write your code\n",
    "foo = \"bar\"\n",
    "print(f\"variable type is {type(foo)}\")\n",
    "print(f\"variable ID is {id(foo)}\")"
   ]
  },
  {
   "cell_type": "code",
   "execution_count": null,
   "id": "6ccce764",
   "metadata": {},
   "outputs": [],
   "source": []
  },
  {
   "cell_type": "markdown",
   "id": "fixed-bolivia",
   "metadata": {},
   "source": [
    "### Question no 05"
   ]
  },
  {
   "cell_type": "code",
   "execution_count": 13,
   "id": "spectacular-giving",
   "metadata": {},
   "outputs": [
    {
     "name": "stdout",
     "output_type": "stream",
     "text": [
      "44\n"
     ]
    }
   ],
   "source": [
    "# Here write your code\n",
    "a, b = 20, 24\n",
    "c = a + b\n",
    "print(c)"
   ]
  },
  {
   "cell_type": "code",
   "execution_count": null,
   "id": "cfdb9dc4",
   "metadata": {},
   "outputs": [],
   "source": []
  },
  {
   "cell_type": "code",
   "execution_count": null,
   "id": "c50edc42",
   "metadata": {},
   "outputs": [],
   "source": []
  },
  {
   "cell_type": "markdown",
   "id": "floppy-pricing",
   "metadata": {},
   "source": [
    "### Question no 06"
   ]
  },
  {
   "cell_type": "code",
   "execution_count": 16,
   "id": "incomplete-virgin",
   "metadata": {},
   "outputs": [
    {
     "name": "stdout",
     "output_type": "stream",
     "text": [
      "Sorry, 5.44h is not a valid number.\n"
     ]
    }
   ],
   "source": [
    "# Here write your code\n",
    "import math\n",
    "\n",
    "radius = input(\"Please input a radius\")\n",
    "try:\n",
    "    radius = float(radius)\n",
    "    print(f\"The area of a circle with radius {radius} is {math.pi*radius**2}\")\n",
    "except ValueError:\n",
    "    print(f\"Sorry, {radius} is not a valid number.\")"
   ]
  },
  {
   "cell_type": "code",
   "execution_count": null,
   "id": "b7d33b2f",
   "metadata": {},
   "outputs": [
    {
     "data": {
      "text/plain": [
       "5.0"
      ]
     },
     "execution_count": 14,
     "metadata": {},
     "output_type": "execute_result"
    }
   ],
   "source": []
  },
  {
   "cell_type": "code",
   "execution_count": null,
   "id": "0d5f5830",
   "metadata": {},
   "outputs": [],
   "source": []
  },
  {
   "cell_type": "markdown",
   "id": "recognized-dispute",
   "metadata": {},
   "source": [
    "### Question no 07"
   ]
  },
  {
   "cell_type": "code",
   "execution_count": 20,
   "id": "neither-johns",
   "metadata": {},
   "outputs": [
    {
     "data": {
      "text/plain": [
       "'leo behe'"
      ]
     },
     "execution_count": 20,
     "metadata": {},
     "output_type": "execute_result"
    }
   ],
   "source": [
    "# Here write your code\n",
    "first_name = input(\"Please input your first name: \")\n",
    "last_name = input(\"Please input your last name: \")\n",
    "full_name = first_name + \" \" + last_name\n",
    "# or:\n",
    "# full_name = f\"{first_name} {last_name}\"\n",
    "full_name"
   ]
  },
  {
   "cell_type": "code",
   "execution_count": null,
   "id": "cbb82326",
   "metadata": {},
   "outputs": [],
   "source": []
  },
  {
   "cell_type": "code",
   "execution_count": null,
   "id": "0edbe62e",
   "metadata": {},
   "outputs": [],
   "source": []
  },
  {
   "cell_type": "markdown",
   "id": "relative-permission",
   "metadata": {},
   "source": [
    "### Question no 08"
   ]
  },
  {
   "cell_type": "code",
   "execution_count": 21,
   "id": "opposite-maine",
   "metadata": {},
   "outputs": [
    {
     "data": {
      "text/plain": [
       "'\\nNo, they are not the same- Python is case sensitive, and a variable with a capitalized first letter will be treated \\ndifferently than a variable with a lowercase first letter.\\n'"
      ]
     },
     "execution_count": 21,
     "metadata": {},
     "output_type": "execute_result"
    }
   ],
   "source": [
    "# Here write your code\n",
    "\"\"\"\n",
    "No, they are not the same- Python is case sensitive, and a variable with a capitalized first letter will be treated \n",
    "differently than a variable with a lowercase first letter.\n",
    "\"\"\""
   ]
  },
  {
   "cell_type": "code",
   "execution_count": null,
   "id": "ba8c84e4",
   "metadata": {},
   "outputs": [],
   "source": []
  },
  {
   "cell_type": "code",
   "execution_count": null,
   "id": "3ee1f1f7",
   "metadata": {},
   "outputs": [],
   "source": []
  },
  {
   "cell_type": "markdown",
   "id": "acoustic-jacksonville",
   "metadata": {},
   "source": [
    "### Question no 09"
   ]
  },
  {
   "cell_type": "code",
   "execution_count": null,
   "id": "patient-research",
   "metadata": {},
   "outputs": [],
   "source": [
    "# Here write your code\n",
    "\"\"\"\n",
    "72 = amount is invalid, since the assignment operator can only assign a literal to a variable. 72 is not a valid variable name, since it starts \n",
    "with a digit, and amount is not a valid string literal, since it is not enclosed in quotation marks.\n",
    "\"\"\""
   ]
  },
  {
   "cell_type": "code",
   "execution_count": null,
   "id": "81d64c46",
   "metadata": {},
   "outputs": [],
   "source": []
  },
  {
   "cell_type": "code",
   "execution_count": null,
   "id": "9c38d6dc",
   "metadata": {},
   "outputs": [],
   "source": []
  },
  {
   "cell_type": "markdown",
   "id": "living-prophet",
   "metadata": {},
   "source": [
    "### Question no 10"
   ]
  },
  {
   "cell_type": "code",
   "execution_count": null,
   "id": "progressive-navigation",
   "metadata": {},
   "outputs": [],
   "source": [
    "# Here write your code\n",
    "\"\"\"\n",
    "This program will print 0, because the initial assignment of 99 is overwritten by the subsequent assignment of 0.\n",
    "\"\"\""
   ]
  },
  {
   "cell_type": "code",
   "execution_count": null,
   "id": "f2a45379",
   "metadata": {},
   "outputs": [],
   "source": []
  },
  {
   "cell_type": "code",
   "execution_count": null,
   "id": "2840f45b",
   "metadata": {},
   "outputs": [],
   "source": []
  },
  {
   "cell_type": "markdown",
   "id": "looking-massage",
   "metadata": {},
   "source": [
    "### Question no 11"
   ]
  },
  {
   "cell_type": "code",
   "execution_count": 22,
   "id": "champion-pontiac",
   "metadata": {},
   "outputs": [],
   "source": [
    "# Here write your code\n",
    "total = 10 + 14"
   ]
  },
  {
   "cell_type": "code",
   "execution_count": null,
   "id": "21453c76",
   "metadata": {},
   "outputs": [],
   "source": []
  },
  {
   "cell_type": "code",
   "execution_count": null,
   "id": "990d2efb",
   "metadata": {},
   "outputs": [],
   "source": []
  },
  {
   "cell_type": "markdown",
   "id": "distant-suspect",
   "metadata": {},
   "source": [
    "### Question no 12"
   ]
  },
  {
   "cell_type": "code",
   "execution_count": null,
   "id": "golden-experience",
   "metadata": {},
   "outputs": [],
   "source": [
    "# Here write your code\n",
    "due = total - down_payment"
   ]
  },
  {
   "cell_type": "code",
   "execution_count": null,
   "id": "6fe760eb",
   "metadata": {},
   "outputs": [],
   "source": []
  },
  {
   "cell_type": "code",
   "execution_count": null,
   "id": "07725aaf",
   "metadata": {},
   "outputs": [],
   "source": []
  },
  {
   "cell_type": "markdown",
   "id": "specialized-annotation",
   "metadata": {},
   "source": [
    "### Question no 13"
   ]
  },
  {
   "cell_type": "code",
   "execution_count": null,
   "id": "colonial-fleece",
   "metadata": {},
   "outputs": [],
   "source": [
    "# Here write your code\n",
    "total = subtotal * 0.15"
   ]
  },
  {
   "cell_type": "code",
   "execution_count": null,
   "id": "present-avenue",
   "metadata": {},
   "outputs": [],
   "source": []
  },
  {
   "cell_type": "code",
   "execution_count": null,
   "id": "funded-discount",
   "metadata": {},
   "outputs": [],
   "source": []
  }
 ],
 "metadata": {
  "kernelspec": {
   "display_name": "Python 3",
   "language": "python",
   "name": "python3"
  },
  "language_info": {
   "codemirror_mode": {
    "name": "ipython",
    "version": 3
   },
   "file_extension": ".py",
   "mimetype": "text/x-python",
   "name": "python",
   "nbconvert_exporter": "python",
   "pygments_lexer": "ipython3",
   "version": "3.10.6"
  }
 },
 "nbformat": 4,
 "nbformat_minor": 5
}
