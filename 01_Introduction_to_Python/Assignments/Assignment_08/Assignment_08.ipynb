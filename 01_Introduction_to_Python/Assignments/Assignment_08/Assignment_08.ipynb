{
 "cells": [
  {
   "cell_type": "markdown",
   "id": "14fa07e3",
   "metadata": {},
   "source": [
    "<h1 align=\"center\"> Practical Learning Data Science and Machine Learning - Assignment 08 </h1>"
   ]
  },
  {
   "cell_type": "code",
   "execution_count": null,
   "id": "dbee8873",
   "metadata": {},
   "outputs": [],
   "source": []
  },
  {
   "cell_type": "markdown",
   "id": "68e4adf3",
   "metadata": {},
   "source": [
    "> **Note: Solve all the questions using user-defined functions and loops. Try to avoid using built-in functions.**"
   ]
  },
  {
   "cell_type": "code",
   "execution_count": null,
   "id": "c46da283",
   "metadata": {},
   "outputs": [],
   "source": []
  },
  {
   "cell_type": "markdown",
   "id": "4751c7f1",
   "metadata": {},
   "source": [
    "# Question no 01:\n",
    "### Course information\n",
    "Write a program that creates a dictionary containing course numbers and the room num-\n",
    "bers of the rooms where the courses meet. The dictionary should have the following key-\n",
    "value pairs:\n",
    "\n",
    "|Course Number|Room Number|\n",
    "|-------------|-----------|\n",
    "|CS101        |      3004 |\n",
    "|CS102        |      4501 |\n",
    "|CS103        |      6755 |\n",
    "|NT110        |      1244 |\n",
    "|CM241        |      1411 |\n",
    "\n",
    "\n",
    "The program should also create a dictionary containing course numbers and the names of\n",
    "the instructors that teach each course. The dictionary should have the following key-value\n",
    "pairs:\n",
    "\n",
    " \n",
    "|Course Number |Instructor |\n",
    "|--------------|-----------|\n",
    "|CS101         |    Haynes |\n",
    "|CS102         |  Alvarado |\n",
    "|CS103         |      Rich |\n",
    "|NT110         |     Burke |\n",
    "|CM241         |       Lee |\n",
    "\n",
    "\n",
    "The program should also create a dictionary containing course numbers and the meeting\n",
    "times of each course. The dictionary should have the following key-value pairs:\n",
    "\n",
    "\n",
    "|Course Number | Meeting Time |\n",
    "|--------------|--------------|\n",
    "|CS101         |    8:00 a.m  |\n",
    "|CS102         |    9:00 a.m  |\n",
    "|CS103         |   10:00 a.m  |\n",
    "|NT110         |   11:00 a.m  |\n",
    "|CM241         |    1:00 p.m  |\n",
    "\n",
    "\n",
    "**The program should let the user enter a course number, and then it should display the\n",
    "course’s room number, instructor, and meeting time.**"
   ]
  },
  {
   "cell_type": "code",
   "execution_count": 2,
   "id": "0192acaf",
   "metadata": {},
   "outputs": [],
   "source": [
    "# Here write your answer"
   ]
  },
  {
   "cell_type": "code",
   "execution_count": null,
   "id": "a01fd004",
   "metadata": {},
   "outputs": [],
   "source": []
  },
  {
   "cell_type": "code",
   "execution_count": null,
   "id": "ab9005b0",
   "metadata": {},
   "outputs": [],
   "source": []
  },
  {
   "cell_type": "code",
   "execution_count": null,
   "id": "f8715388",
   "metadata": {},
   "outputs": [],
   "source": []
  },
  {
   "cell_type": "markdown",
   "id": "61b4e7a4",
   "metadata": {},
   "source": [
    "# Question no 02:\n",
    "\n",
    "#### Storing Names and Birthdays in a Dictionary\n",
    "\n",
    "In this example, we look at a program that keeps your friends’ names and birthdays in a dictionary. Each entry in the dictionary uses a friend’s name as the key and that friend’s birthday as the value. You can use the program to look up your friends’ birthdays by entering their names.\n",
    "\n",
    "The program displays a menu that allows the user to make one of the following choices:\n",
    "\n",
    "1. Look up a birthday\n",
    "2. Add a new birthday\n",
    "3. Change a birthday\n",
    "4. Delete a birthday\n",
    "5. Quit the program\n",
    "\n",
    "\n",
    "> **The program initially starts with an empty dictionary, so you have to choose item 2 from the menu to add a new entry. Once you have added a few entries, you can choose item 1 to look up a specific person’s birthday, item 3 to change an existing birthday in the dictionary, item 4 to delete a birthday from the dictionary, or item 5 to quit the program.**"
   ]
  },
  {
   "cell_type": "code",
   "execution_count": 33,
   "id": "6ec530a9",
   "metadata": {},
   "outputs": [],
   "source": [
    "# Here write your answer"
   ]
  },
  {
   "cell_type": "code",
   "execution_count": null,
   "id": "fbce915e",
   "metadata": {},
   "outputs": [],
   "source": []
  },
  {
   "cell_type": "code",
   "execution_count": null,
   "id": "545f0635",
   "metadata": {},
   "outputs": [],
   "source": []
  },
  {
   "cell_type": "code",
   "execution_count": null,
   "id": "f17aeff4",
   "metadata": {},
   "outputs": [],
   "source": []
  },
  {
   "cell_type": "code",
   "execution_count": null,
   "id": "8316ba79",
   "metadata": {},
   "outputs": [],
   "source": []
  },
  {
   "cell_type": "markdown",
   "id": "23490a19",
   "metadata": {},
   "source": [
    "# Question no 03:\n",
    "### Find Valid Phone Number\n",
    "Write a function that accepts a string and searches it for a valid phone number.\n",
    "Return the phone number if found.\n",
    "A valid phone number may be one of the following:\n",
    "\n",
    "- (xxx)-xxx-xxxx\n",
    "- xxx-xxx-xxxx"
   ]
  },
  {
   "cell_type": "code",
   "execution_count": 3,
   "id": "755145e1",
   "metadata": {},
   "outputs": [],
   "source": [
    "# Here write your answer"
   ]
  },
  {
   "cell_type": "code",
   "execution_count": null,
   "id": "0d9b9f2c",
   "metadata": {},
   "outputs": [],
   "source": []
  },
  {
   "cell_type": "markdown",
   "id": "4c0bdf6d",
   "metadata": {},
   "source": [
    "# Question no 04 :\n",
    "\n",
    "### Strong Password Detector\n",
    "\n",
    "Write a function that employs regular expressions to ensure the password given to the function is strong.\n",
    "\n",
    "A strong password is defined as follows:\n",
    "\n",
    "- At least eight characters long\n",
    "- Contains one uppercase character\n",
    "- Contains one lowercase character\n",
    "- Has at least one digit\n",
    "- Has at least one special character\n",
    "\n",
    "\n",
    "> **You may need to test the string against multiple regex patterns to validate its strength.**"
   ]
  },
  {
   "cell_type": "code",
   "execution_count": 4,
   "id": "57a0b0ef",
   "metadata": {},
   "outputs": [],
   "source": [
    "# Here write your answer"
   ]
  },
  {
   "cell_type": "code",
   "execution_count": null,
   "id": "1601debc",
   "metadata": {},
   "outputs": [],
   "source": []
  },
  {
   "cell_type": "markdown",
   "id": "2ba9a576",
   "metadata": {},
   "source": [
    "# Question no 05:\n",
    "\n",
    "\n",
    "### Working with Files\n",
    "\n",
    "Kevin is a freelance video producer who makes TV commercials for local businesses. When he makes a commercial, he usually films several short videos. Later, he puts these short videos together to make the final commercial. He has asked you to write the following two programs.   \n",
    "\n",
    "1. A program that allows him to enter the running time (in seconds) of each short video in a project. The running times are saved to a file.\n",
    "\n",
    "2. A program that reads the contents of the file, displays the running times, and then dis- plays the total running time of all the segments.\n",
    "\n",
    "\n",
    "Here is the general algorithm for the first program, in pseudocode:\n",
    "```\n",
    "    Get the number of videos in the project.\n",
    "    Open an output file.\n",
    "    For each video in the project:\n",
    "    Get the video’s running time.\n",
    "    Write the running time to the file.\n",
    "    Close the file. \n",
    "```\n",
    "\n",
    "\n",
    "Here is the general algorithm for the second program:\n",
    "```\n",
    "    Initialize an accumulator to 0.\n",
    "    Initialize a count variable to 0.\n",
    "    Open the input file.\n",
    "    For each line in the file:\n",
    "    Convert the line to a floating-point number. (This is the running time for a video.)\n",
    "    Add one to the count variable. (This keeps count of the number of videos.)\n",
    "    Display the running time for this video.\n",
    "    Add the running time to the accumulator.\n",
    "    Close the file.\n",
    "    Display the contents of the accumulator as the total running time.\n",
    "```"
   ]
  },
  {
   "cell_type": "code",
   "execution_count": null,
   "id": "c11fce23",
   "metadata": {},
   "outputs": [],
   "source": []
  },
  {
   "cell_type": "markdown",
   "id": "2dc96887",
   "metadata": {},
   "source": [
    "### Part no 01"
   ]
  },
  {
   "cell_type": "code",
   "execution_count": 3,
   "id": "0c882d97",
   "metadata": {},
   "outputs": [],
   "source": [
    "# Here write your answer"
   ]
  },
  {
   "cell_type": "markdown",
   "id": "820492f8",
   "metadata": {},
   "source": [
    "### Part no 02"
   ]
  },
  {
   "cell_type": "code",
   "execution_count": null,
   "id": "3aecd62a",
   "metadata": {},
   "outputs": [],
   "source": []
  },
  {
   "cell_type": "code",
   "execution_count": null,
   "id": "5355265e",
   "metadata": {},
   "outputs": [],
   "source": []
  },
  {
   "cell_type": "markdown",
   "id": "7a36e8cc",
   "metadata": {},
   "source": [
    "# Question no 06:\n",
    "\n",
    "\n",
    "## Part A:\n",
    "\n",
    "### `Using Random Numbers`\n",
    "\n",
    "Dr. Kimura teaches an introductory statistics class, and has asked you to write a program that he can use in class to simulate the rolling of dice. The program should randomly generate two numbers in the range of 1 through 6 and display them. In your interview with Dr.Kimura, you learn that he would like to use the program to simulate several rolls of the dice, one after the other. \n",
    "\n",
    "Here is the pseudocode for the program:\n",
    "\n",
    "```\n",
    "    While the user wants to roll the dice:\n",
    "    Display a random number in the range of 1 through 6\n",
    "    Display another random number in the range of 1 through 6\n",
    "    Ask the user if he or she wants to roll the dice again.\n",
    "```\n",
    "\n",
    "> **You will write a while loop that simulates one roll of the dice, and then asks the user if another roll should be performed. As long as the user answers “y” for yes, the loop will repeat.**\n",
    "\n",
    "\n",
    "## Part B:\n",
    "\n",
    "### `Using Random Numbers to Represent Other Values`\n",
    "\n",
    "Dr. Kimura was so happy with the dice rolling simulator that you wrote for him, he has asked you to write one more program. He would like a program that he can use to simulate ten coin tosses, one after the other. Each time the program simulates a coin toss, it should randomly display either `Heads` or `Tails`.    \n",
    "\n",
    "You decide that you can simulate the tossing of a coin by randomly generating a number in the range of 1 through 2. You will write an if statement that displays `Heads` if the random number is 1, or `Tails` otherwise. \n",
    "\n",
    "Here is the pseudocode:\n",
    "\n",
    "```\n",
    "    Repeat 10 times:\n",
    "    If a random number in the range of 1 through 2 equals 1 then:\n",
    "        Display `Heads`\n",
    "    Else:\n",
    "        Display `Tails`\n",
    "        \n",
    "``` \n",
    "> **Because the program should simulate 10 tosses of a coin you decide to use a for loop.**"
   ]
  },
  {
   "cell_type": "code",
   "execution_count": 181,
   "id": "81ac4080",
   "metadata": {},
   "outputs": [],
   "source": [
    "# Here write your code"
   ]
  },
  {
   "cell_type": "code",
   "execution_count": null,
   "id": "0016200b",
   "metadata": {},
   "outputs": [],
   "source": []
  },
  {
   "cell_type": "code",
   "execution_count": null,
   "id": "e1626751",
   "metadata": {},
   "outputs": [],
   "source": []
  },
  {
   "cell_type": "code",
   "execution_count": null,
   "id": "482fd67c",
   "metadata": {},
   "outputs": [],
   "source": []
  },
  {
   "cell_type": "code",
   "execution_count": null,
   "id": "5a84dabb",
   "metadata": {},
   "outputs": [],
   "source": []
  },
  {
   "cell_type": "code",
   "execution_count": null,
   "id": "8efb8409",
   "metadata": {},
   "outputs": [],
   "source": []
  },
  {
   "cell_type": "markdown",
   "id": "af193057",
   "metadata": {},
   "source": [
    "# Question no 07:\n",
    "\n",
    "### Modularizing with Functions\n",
    "\n",
    "Hal owns a business named Make Your Own Music, which sells guitars, drums, banjos, synthesizers, and many other musical instruments. Hal’s sales staff works strictly on commission. At the end of the month, each salesperson’s commission is calculated according to given table.\n",
    "\n",
    "#### Sales commission rates\n",
    "\n",
    "<img src=\"images/1.png\">\n",
    "\n",
    "For example, a salesperson with $\\$16,000$ in monthly sales will earn a 14 percent commission $(\\$2,240)$. Another salesperson with $\\$18,000$ in monthly sales will earn a 16 percent commission $(\\$2,880)$. A person with $\\$30,000$ in sales will earn an 18 percent commission $(\\$5,400)$.\n",
    "\n",
    "Because the staff gets paid once per month, Hal allows each employee to take up to $\\$2,000$ per month in advance. When sales commissions are calculated, the amount of each employee’s advanced pay is subtracted from the commission. If any salesperson’s commissions are less than the amount of their advance, they must reimburse Hal for the difference. \n",
    "\n",
    "\n",
    "To calculate a salesperson’s monthly pay, Hal uses the following formula:\n",
    "\n",
    "\n",
    "$$\\text{pay} =  \\text{sales} * \\text{commission rate} - \\text{advanced pay}$$\n",
    "    \n",
    "    \n",
    "Hal has asked you to write a program that makes this calculation for him. \n",
    "\n",
    "The following general algorithm outlines the steps the program must take.\n",
    "\n",
    "```\n",
    "1. Get the salesperson’s monthly sales.\n",
    "2. Get the amount of advanced pay.\n",
    "3. Use the amount of monthly sales to determine the commission rate.\n",
    "4. Calculate the salesperson’s pay using the formula previously shown. If the amount is negative, indicate that the salesperson must reimburse the company.\n",
    "\n",
    "```"
   ]
  },
  {
   "cell_type": "code",
   "execution_count": 5,
   "id": "cb1c810e",
   "metadata": {},
   "outputs": [],
   "source": [
    "# Here write your answer"
   ]
  },
  {
   "cell_type": "code",
   "execution_count": null,
   "id": "f1b94a87",
   "metadata": {},
   "outputs": [],
   "source": []
  },
  {
   "cell_type": "code",
   "execution_count": null,
   "id": "4fe2ecf4",
   "metadata": {},
   "outputs": [],
   "source": []
  },
  {
   "cell_type": "code",
   "execution_count": null,
   "id": "9158f65e",
   "metadata": {},
   "outputs": [],
   "source": []
  },
  {
   "cell_type": "markdown",
   "id": "108ee4bb",
   "metadata": {},
   "source": [
    "# Question no 08:\n",
    "\n",
    "### Ackermann’s Function\n",
    "\n",
    "Ackermann’s Function is a recursive mathematical algorithm that can be used to test how well a system optimizes its performance of recursion. Design a function ackermann(m, n) , which solves Ackermann’s function. \n",
    "\n",
    "Use the following logic in your function:\n",
    "\n",
    "```\n",
    "    If m = 0 then return n + 1\n",
    "    If n = 0 then return ackermann(m - 1, 1)\n",
    "    Otherwise, return ackermann(m - 1, ackermann(m, n - 1))\n",
    "```    \n",
    " \n",
    "> **Once you’ve designed your function, test it by calling it with small values for m and n.**"
   ]
  },
  {
   "cell_type": "code",
   "execution_count": 6,
   "id": "e8d41f22",
   "metadata": {},
   "outputs": [],
   "source": [
    "# Here write your answer"
   ]
  },
  {
   "cell_type": "code",
   "execution_count": null,
   "id": "0aa288cb",
   "metadata": {},
   "outputs": [],
   "source": []
  },
  {
   "cell_type": "code",
   "execution_count": null,
   "id": "083b05de",
   "metadata": {},
   "outputs": [],
   "source": []
  },
  {
   "cell_type": "markdown",
   "id": "3aebfcde",
   "metadata": {},
   "source": [
    "# Question no 09:\n",
    "\n",
    "### Random Password Generator\n",
    "\n",
    "For this challenge, we will use a Python script to generate a random password of 8 characters. Each time the program is run, a new password will be generated randomly. The passwords generated will be 8 characters long and will have to include the following characters in any order:\n",
    "\n",
    "- 2 uppercase letters from A to Z,\n",
    "- 2 lowercase letters from a to z,\n",
    "- 2 digits from 0 to 9,\n",
    "- 2 punctuation signs such as !, ?, “, # etc.\n",
    "\n",
    "**To solve this challenge we will have to generate random characters and to do so we will need to use the ASCII code.**\n",
    "\n",
    "To generate a random uppercase letter between A and Z we can hence use the following Python code:\n",
    "\n",
    "```\n",
    "    import random\n",
    "    uppercaseLetter=chr(random.randint(65,90)) #Generate a random Uppercase letter (based on ASCII code)\n",
    "```\n",
    "\n",
    "## Flowchart:\n",
    "\n",
    "To help you solve this challenge, we have completed the flowchart of our random password generator algorithm:\n",
    "\n",
    "<img src=\"images/random-password-generator-flowchart.png\" height=600px width=600px >\n"
   ]
  },
  {
   "cell_type": "code",
   "execution_count": 65,
   "id": "5a8ba513",
   "metadata": {},
   "outputs": [],
   "source": [
    "# Here write your code"
   ]
  },
  {
   "cell_type": "code",
   "execution_count": null,
   "id": "3da386fd",
   "metadata": {},
   "outputs": [],
   "source": []
  },
  {
   "cell_type": "code",
   "execution_count": null,
   "id": "c106fcb4",
   "metadata": {},
   "outputs": [],
   "source": []
  },
  {
   "cell_type": "markdown",
   "id": "cfef76c5",
   "metadata": {},
   "source": [
    "# Question no 10:\n",
    "### Regex Mini Challenge"
   ]
  },
  {
   "cell_type": "code",
   "execution_count": 7,
   "id": "1b46053a",
   "metadata": {},
   "outputs": [],
   "source": [
    "import re"
   ]
  },
  {
   "cell_type": "markdown",
   "id": "26c63f53",
   "metadata": {},
   "source": [
    "#### Part i: Write a Python program to check that a string contains only a certain set of characters (in this case a-z, A-Z and 0-9).\n",
    "\n"
   ]
  },
  {
   "cell_type": "code",
   "execution_count": 8,
   "id": "a98c3660",
   "metadata": {},
   "outputs": [],
   "source": [
    "# Here write your answer"
   ]
  },
  {
   "cell_type": "markdown",
   "id": "7f6e4bdf",
   "metadata": {},
   "source": [
    "#### Part ii: Write a Python program that matches a string that has an a followed by zero or more b's.\n",
    "Input:\n",
    "- \"xt\"\n",
    "- \"Abc\"\n",
    "- \"abbc\"\n",
    "\n",
    "Output:\n",
    "- Not matched!\n",
    "- Found a match!\n",
    "- Found a match!"
   ]
  },
  {
   "cell_type": "code",
   "execution_count": 20,
   "id": "8e985f37",
   "metadata": {},
   "outputs": [],
   "source": [
    "# Here write your code"
   ]
  },
  {
   "cell_type": "markdown",
   "id": "e0af9f12",
   "metadata": {},
   "source": [
    "#### Part iii: Write a Python program that matches a string that has an a followed by one or more b's."
   ]
  },
  {
   "cell_type": "code",
   "execution_count": 21,
   "id": "7823a45c",
   "metadata": {},
   "outputs": [],
   "source": [
    "# Here write your code"
   ]
  },
  {
   "cell_type": "markdown",
   "id": "9a786020",
   "metadata": {},
   "source": [
    "#### Part iv: Write a Python program that matches a string that has an a followed by three 'b'"
   ]
  },
  {
   "cell_type": "code",
   "execution_count": 26,
   "id": "c7a3849e",
   "metadata": {},
   "outputs": [],
   "source": [
    "# Here write your code"
   ]
  },
  {
   "cell_type": "markdown",
   "id": "672332f5",
   "metadata": {},
   "source": [
    "#### Part v: Write a Python program that matches a string that has an a followed by two to three 'b'."
   ]
  },
  {
   "cell_type": "code",
   "execution_count": 27,
   "id": "16a4bf0c",
   "metadata": {},
   "outputs": [],
   "source": [
    "# Here write your code"
   ]
  },
  {
   "cell_type": "markdown",
   "id": "616960d0",
   "metadata": {},
   "source": [
    "#### Part vi: Write a Python program to find sequences of lowercase letters joined with a underscore."
   ]
  },
  {
   "cell_type": "code",
   "execution_count": 30,
   "id": "a304119c",
   "metadata": {},
   "outputs": [],
   "source": [
    "# Here write your code"
   ]
  },
  {
   "cell_type": "markdown",
   "id": "48ea26e6",
   "metadata": {},
   "source": [
    "#### Part vii: Write a Python program that matches a string that has an 'a' followed by anything, ending in 'b'."
   ]
  },
  {
   "cell_type": "code",
   "execution_count": 32,
   "id": "592bf12c",
   "metadata": {},
   "outputs": [],
   "source": [
    "# Here write your code"
   ]
  },
  {
   "cell_type": "markdown",
   "id": "eb513b10",
   "metadata": {},
   "source": [
    "#### Part viii: Write a Python program that matches a word at the beginning of a string.\n",
    "Input : \n",
    "- \"The quick brown fox jumps over the lazy dog.\"\n",
    "- \" The quick brown fox jumps over the lazy dog.\"\n",
    "\n",
    "Output:\n",
    "- Found a match!\n",
    "- Not matched!"
   ]
  },
  {
   "cell_type": "code",
   "execution_count": null,
   "id": "ca3150c6",
   "metadata": {},
   "outputs": [],
   "source": [
    "# Here write your code"
   ]
  },
  {
   "cell_type": "markdown",
   "id": "f6d1828a",
   "metadata": {},
   "source": [
    "#### Part ix: Write a Python program that matches a word at the end of string, with optional punctuation.\n",
    "Input:\n",
    "- \"The quick brown fox jumps over the lazy dog.\"\n",
    "- \"The quick brown fox jumps over the lazy dog. \"\n",
    "- \"The quick brown fox jumps over the lazy dog \"\n",
    "\n",
    "Output:\n",
    "- Found a match!\n",
    "- Not matched!\n",
    "- Not matched!"
   ]
  },
  {
   "cell_type": "code",
   "execution_count": 35,
   "id": "d478220c",
   "metadata": {},
   "outputs": [],
   "source": [
    "# Here write your answer"
   ]
  },
  {
   "cell_type": "markdown",
   "id": "f65314bd",
   "metadata": {},
   "source": [
    "#### Part x: Write a Python program that matches a word containing 'z', not at the start or end of the word.\n",
    "Input :\n",
    "- \"The quick brown fox jumps over the lazy dog.\"\n",
    "- \"Python Exercises.\"\n",
    "\n",
    "Output:\n",
    "- Found a match!\n",
    "- Not matched!\n"
   ]
  },
  {
   "cell_type": "code",
   "execution_count": 38,
   "id": "f56a43d8",
   "metadata": {},
   "outputs": [],
   "source": [
    "# Here write your code"
   ]
  },
  {
   "cell_type": "markdown",
   "id": "2934fb75",
   "metadata": {},
   "source": [
    "#### Part xi: Write a Python program where a string will start with a specific number. For example number started with `5`.\n",
    "Input:\n",
    "- '5-2345861'\n",
    "- '6-2345861'\n",
    "\n",
    "Output:\n",
    "- True\n",
    "- False"
   ]
  },
  {
   "cell_type": "code",
   "execution_count": 41,
   "id": "8474d0a5",
   "metadata": {},
   "outputs": [],
   "source": [
    "# Here write your code"
   ]
  },
  {
   "cell_type": "code",
   "execution_count": null,
   "id": "ec4ac8e7",
   "metadata": {},
   "outputs": [],
   "source": []
  },
  {
   "cell_type": "markdown",
   "id": "abd042a6",
   "metadata": {},
   "source": [
    "#### Part xii: Write a Python program to remove leading zeros from an IP address.\n",
    "Input:\n",
    "- \"216.08.094.196\"\n",
    "\n",
    "Output:\n",
    "- 216.8.94.196"
   ]
  },
  {
   "cell_type": "code",
   "execution_count": null,
   "id": "f8f29c26",
   "metadata": {},
   "outputs": [],
   "source": [
    "# Here write your code"
   ]
  },
  {
   "cell_type": "markdown",
   "id": "4d25ba72",
   "metadata": {},
   "source": [
    "#### Part xiii: Write a Python program to extract year, month and date from a an url.\n",
    "Url:\n",
    "- 'https://www.washingtonpost.com/news/football-insider/wp/2016/09/02/odell-beckhams-fame-rests-on-one-stupid-little-ball-josh-norman-tells-author/'\n",
    "\n",
    "Output:\n",
    "- [('2016', '09', '02')]"
   ]
  },
  {
   "cell_type": "code",
   "execution_count": 47,
   "id": "11152955",
   "metadata": {},
   "outputs": [],
   "source": [
    "# Here write your code"
   ]
  },
  {
   "cell_type": "markdown",
   "id": "45a7947f",
   "metadata": {},
   "source": [
    "#### Part ixv: Write a Python program to find all words starting with 'a' or 'e' in a given string.\n",
    "Input: \n",
    "- 'The following example creates an ArrayList with a capacity of 50 elements. Four elements are then added to the ArrayList and the ArrayList is trimmed accordingly.'\n",
    "\n",
    "Output:\n",
    "- ['example', 'eates', 'an', 'ayList', 'apacity', 'elements', 'elements', 'are', 'en', 'added', 'ayList', 'and', 'ayList', 'ed', 'accordingly']"
   ]
  },
  {
   "cell_type": "code",
   "execution_count": 50,
   "id": "71db5ded",
   "metadata": {},
   "outputs": [],
   "source": [
    "# Here write your answer"
   ]
  },
  {
   "cell_type": "code",
   "execution_count": null,
   "id": "efda1f24",
   "metadata": {},
   "outputs": [],
   "source": []
  },
  {
   "cell_type": "code",
   "execution_count": null,
   "id": "f27daa70",
   "metadata": {},
   "outputs": [],
   "source": []
  },
  {
   "cell_type": "code",
   "execution_count": null,
   "id": "2626e7ad",
   "metadata": {},
   "outputs": [],
   "source": []
  }
 ],
 "metadata": {
  "kernelspec": {
   "display_name": "Python 3 (ipykernel)",
   "language": "python",
   "name": "python3"
  },
  "language_info": {
   "codemirror_mode": {
    "name": "ipython",
    "version": 3
   },
   "file_extension": ".py",
   "mimetype": "text/x-python",
   "name": "python",
   "nbconvert_exporter": "python",
   "pygments_lexer": "ipython3",
   "version": "3.11.7"
  }
 },
 "nbformat": 4,
 "nbformat_minor": 5
}
