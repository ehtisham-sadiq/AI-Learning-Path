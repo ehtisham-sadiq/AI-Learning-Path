{
 "cells": [
  {
   "cell_type": "markdown",
   "id": "9b0063f1",
   "metadata": {},
   "source": [
    "<h1 align=\"center\">Practical Learning Data Science and Machine Learning - Assignment 03</h1>"
   ]
  },
  {
   "cell_type": "code",
   "execution_count": null,
   "id": "9373ed07",
   "metadata": {},
   "outputs": [],
   "source": []
  },
  {
   "cell_type": "code",
   "execution_count": null,
   "id": "189ed01f",
   "metadata": {},
   "outputs": [],
   "source": []
  },
  {
   "cell_type": "code",
   "execution_count": null,
   "id": "f68a461e",
   "metadata": {},
   "outputs": [],
   "source": []
  },
  {
   "cell_type": "markdown",
   "id": "loaded-balance",
   "metadata": {},
   "source": [
    "## Question 01:\n",
    "\n",
    "**What does the following code display?**\n",
    "\n",
    "mystr = 'yes' <br>\n",
    "mystr = mystr + 'no' <br>\n",
    "mystr = mystr + 'yes' <br>\n",
    "print(mystr) <br>\n"
   ]
  },
  {
   "cell_type": "code",
   "execution_count": 1,
   "id": "substantial-absence",
   "metadata": {},
   "outputs": [],
   "source": [
    "# Here write your answer"
   ]
  },
  {
   "cell_type": "code",
   "execution_count": null,
   "id": "stupid-membrane",
   "metadata": {},
   "outputs": [],
   "source": []
  },
  {
   "cell_type": "markdown",
   "id": "compatible-donor",
   "metadata": {},
   "source": [
    "## Question 02:\n",
    "\n",
    "Given the string `mystring = \"Ehtisham Sadiq\"`:\n",
    "\n",
    "Write a slicing expression to display the first 3 characters in the string."
   ]
  },
  {
   "cell_type": "code",
   "execution_count": 1,
   "id": "practical-china",
   "metadata": {},
   "outputs": [],
   "source": [
    "# Here Write Your answer"
   ]
  },
  {
   "cell_type": "code",
   "execution_count": null,
   "id": "8aa0a6cb",
   "metadata": {},
   "outputs": [],
   "source": []
  },
  {
   "cell_type": "code",
   "execution_count": null,
   "id": "enabling-cutting",
   "metadata": {},
   "outputs": [],
   "source": []
  },
  {
   "cell_type": "markdown",
   "id": "studied-salmon",
   "metadata": {},
   "source": [
    "## Question 03:\n",
    "\n",
    "Given the string `mystring = \"Ehtisham Sadiq\"`:\n",
    "\n",
    "Write a slicing expression to display the last 3 characters in the string."
   ]
  },
  {
   "cell_type": "code",
   "execution_count": 2,
   "id": "mature-wisconsin",
   "metadata": {},
   "outputs": [],
   "source": [
    "#  Here Write your answer"
   ]
  },
  {
   "cell_type": "code",
   "execution_count": null,
   "id": "heated-ghana",
   "metadata": {},
   "outputs": [],
   "source": []
  },
  {
   "cell_type": "markdown",
   "id": "tight-indianapolis",
   "metadata": {},
   "source": [
    "## Question 04:\n",
    "\n",
    "Given the following statement:\n",
    "\n",
    "`mystring = 'cookies>milk>fudge>cake>ice cream'`\n",
    "\n",
    "\n",
    "Write a Python statement that splits this string, creating the following list:\n",
    "\n",
    "`['cookies', 'milk', 'fudge', 'cake', 'ice cream']`"
   ]
  },
  {
   "cell_type": "code",
   "execution_count": 3,
   "id": "external-metro",
   "metadata": {},
   "outputs": [],
   "source": [
    "# Here write your answer in just two lines of code"
   ]
  },
  {
   "cell_type": "code",
   "execution_count": null,
   "id": "cb675390",
   "metadata": {},
   "outputs": [],
   "source": []
  },
  {
   "cell_type": "code",
   "execution_count": null,
   "id": "expressed-palace",
   "metadata": {},
   "outputs": [],
   "source": []
  },
  {
   "cell_type": "markdown",
   "id": "elegant-fundamental",
   "metadata": {},
   "source": [
    "## Question 05:\n",
    "\n",
    "**Sum of Digits in a String**\n",
    "\n",
    "Write a program that asks the user to enter a series of single-digit numbers with nothing separating them. The program should display the sum of all the single digit numbers in the string. \n",
    "\n",
    "For example, if the user enters `2514`, the method should return `12`, which is the sum of 2, 5, 1, and 4."
   ]
  },
  {
   "cell_type": "code",
   "execution_count": 2,
   "id": "outside-virginia",
   "metadata": {},
   "outputs": [],
   "source": [
    "# Here write your code"
   ]
  },
  {
   "cell_type": "code",
   "execution_count": null,
   "id": "suspended-possession",
   "metadata": {},
   "outputs": [],
   "source": []
  },
  {
   "cell_type": "code",
   "execution_count": null,
   "id": "225b90a9",
   "metadata": {},
   "outputs": [],
   "source": []
  },
  {
   "cell_type": "code",
   "execution_count": null,
   "id": "42959499",
   "metadata": {},
   "outputs": [],
   "source": []
  },
  {
   "cell_type": "markdown",
   "id": "greatest-uruguay",
   "metadata": {},
   "source": [
    "## Question 06:\n",
    "    \n",
    "What are the values of the following expressions? In each line, assume that\n",
    "    \n",
    "    x = 2.5\n",
    "    y = -1.5\n",
    "    m = 18\n",
    "    n = 4\n",
    "\n",
    "- $x + n \\cdot y - (x + n) \\cdot y$\n",
    "- $ m÷n+m\\%n $\n",
    "- $5 \\cdot x - \\frac{n}{5}$\n",
    "- $1 - (1 - (1 - (1 - (1 - n))))$\n",
    "- $\\sqrt{\\sqrt{n}}$"
   ]
  },
  {
   "cell_type": "code",
   "execution_count": null,
   "id": "contrary-canberra",
   "metadata": {},
   "outputs": [],
   "source": [
    "# Here write your answer"
   ]
  },
  {
   "cell_type": "code",
   "execution_count": null,
   "id": "centered-steering",
   "metadata": {},
   "outputs": [],
   "source": []
  },
  {
   "cell_type": "markdown",
   "id": "failing-paintball",
   "metadata": {},
   "source": [
    "## Question 07:\n",
    "\n",
    "For the given expressions, with the following string assignments:\n",
    "\n",
    "`s = \"Hello\"`   \n",
    "`t = \"World\"`\n",
    "\n",
    "\n",
    "- a. Determine the value of `len(s) + len(t)`.\n",
    "- b. Calculate the value of `s[1] + s[2]`.\n",
    "- c. Find the character at the index `len(s) // 2` in the string `s`.\n",
    "- d. Concatenate the strings `s` and `t`.\n",
    "- e. Concatenate the strings `t` and `s`.\n",
    "- f. Evaluate the result of `s * 2`.\n",
    "\n",
    "\n",
    "**Note:** Each part of the question will provide specific results based on the provided values of `s` and `t`."
   ]
  },
  {
   "cell_type": "code",
   "execution_count": 11,
   "id": "individual-capability",
   "metadata": {},
   "outputs": [],
   "source": [
    "# Here write your answer"
   ]
  },
  {
   "cell_type": "code",
   "execution_count": null,
   "id": "sapphire-antique",
   "metadata": {},
   "outputs": [],
   "source": []
  },
  {
   "cell_type": "markdown",
   "id": "elect-metadata",
   "metadata": {},
   "source": [
    "## Question 08:\n",
    "\n",
    "Write a program that reads a number and displays the square, cube, and fourth power of the number. Use the `**` operator only for calculating the fourth power.\n",
    "\n",
    "**Test Case:**\n",
    "\n",
    "For input number 2:\n",
    "\n",
    "- Square: `2^2 = 4`\n",
    "- Cube: `2^3 = 8`\n",
    "- Fourth Power: `2^4 = 16`"
   ]
  },
  {
   "cell_type": "code",
   "execution_count": null,
   "id": "split-suffering",
   "metadata": {},
   "outputs": [],
   "source": [
    "# Here write your answer"
   ]
  },
  {
   "cell_type": "code",
   "execution_count": null,
   "id": "6cced5b2",
   "metadata": {},
   "outputs": [],
   "source": []
  },
  {
   "cell_type": "code",
   "execution_count": null,
   "id": "dcb4e2e5",
   "metadata": {},
   "outputs": [],
   "source": []
  },
  {
   "cell_type": "code",
   "execution_count": null,
   "id": "intimate-compound",
   "metadata": {},
   "outputs": [],
   "source": []
  },
  {
   "cell_type": "markdown",
   "id": "cutting-concentrate",
   "metadata": {},
   "source": [
    "## Question 09:\n",
    "\n",
    "Write a program that prompts the user for a radius and then prints:\n",
    "\n",
    "- The area and circumference of a circle with that radius.\n",
    "- The volume and surface area of a sphere with that radius.\n",
    "\n",
    "**Area of a Circle:**\n",
    "$$A = \\pi r^2$$\n",
    " \n",
    "\n",
    "**Circumference of a Circle:**\n",
    "$$ C = 2 \\pi r$$\n",
    "\n",
    "**Volume of a Sphere:**\n",
    "$$V = \\frac{4}{3} \\pi r^3$$\n",
    "\n",
    "**Surface Area of a Sphere:**\n",
    "$$ A = 4 \\pi r^2 $$\n",
    "\n",
    "**Where:**\n",
    "- `r` is the radius of the circle or sphere.\n",
    "- `π(pi)` is a constant approximately equal to 3.14159."
   ]
  },
  {
   "cell_type": "code",
   "execution_count": 12,
   "id": "authentic-lover",
   "metadata": {},
   "outputs": [],
   "source": [
    "# Here write your answer"
   ]
  },
  {
   "cell_type": "code",
   "execution_count": null,
   "id": "b7ec9769",
   "metadata": {},
   "outputs": [],
   "source": []
  },
  {
   "cell_type": "code",
   "execution_count": null,
   "id": "brilliant-science",
   "metadata": {},
   "outputs": [],
   "source": []
  },
  {
   "cell_type": "markdown",
   "id": "protected-association",
   "metadata": {},
   "source": [
    "## Question 10:\n",
    "\n",
    "Write a program that prompts the user to input the lengths of the sides of a rectangle, and then perform the following calculations:\n",
    "\n",
    "- Calculate and display the area and perimeter of the rectangle.\n",
    "- Calculate and display the length of the diagonal of the rectangle.\n",
    "\n",
    "$$ \\mathbf{ \\text{Area} = Length \\times Width }$$\n",
    "\n",
    "$$\\mathbf {\\text{Perimeter} = 2(Length + Width)}$$\n",
    "\n",
    "$$ \\mathbf {\\text{Diagonal} = \\sqrt{Length^2 + Width^2}}$$\n"
   ]
  },
  {
   "cell_type": "code",
   "execution_count": 13,
   "id": "heavy-football",
   "metadata": {},
   "outputs": [],
   "source": [
    "# Here write your answer"
   ]
  },
  {
   "cell_type": "code",
   "execution_count": null,
   "id": "b6d3b73e",
   "metadata": {},
   "outputs": [],
   "source": []
  },
  {
   "cell_type": "code",
   "execution_count": null,
   "id": "naughty-locator",
   "metadata": {},
   "outputs": [],
   "source": []
  },
  {
   "cell_type": "markdown",
   "id": "funded-special",
   "metadata": {},
   "source": [
    "## Question 11:\n",
    "\n",
    "Write a program that reads a number between 10,000 and 999,999 from the user, where the user enters a comma in the input. Then, print the number without a comma.\n",
    "\n",
    "**Input:**\n",
    "`Please enter an integer between 10,000 and 999,999: 23,456`\n",
    "\n",
    "**Output:**\n",
    "`23456`"
   ]
  },
  {
   "cell_type": "code",
   "execution_count": null,
   "id": "dominant-dakota",
   "metadata": {},
   "outputs": [],
   "source": [
    "# Here write your answer"
   ]
  },
  {
   "cell_type": "code",
   "execution_count": null,
   "id": "short-chicken",
   "metadata": {},
   "outputs": [],
   "source": []
  },
  {
   "cell_type": "markdown",
   "id": "transparent-strike",
   "metadata": {},
   "source": [
    "## Question 12:\n",
    "\n",
    "Write a program that reads a number between 1,000 and 999,999 from the user and prints it with a comma separating the thousands. \n",
    "\n",
    "**Input:**\n",
    "`Please enter an integer between 1000 and 999999: 23456`   \n",
    "\n",
    "**Output:** \n",
    "`23,456`"
   ]
  },
  {
   "cell_type": "code",
   "execution_count": 23,
   "id": "physical-florida",
   "metadata": {},
   "outputs": [],
   "source": [
    "# Here write your answer"
   ]
  },
  {
   "cell_type": "code",
   "execution_count": null,
   "id": "democratic-hawaiian",
   "metadata": {},
   "outputs": [],
   "source": []
  },
  {
   "cell_type": "markdown",
   "id": "eastern-organic",
   "metadata": {},
   "source": [
    "## Question 13:\n",
    "\n",
    "Write a program that reads a five-digit positive integer and breaks it into a sequence of individual digits.\n",
    "\n",
    "**Input:** 16384\n",
    "\n",
    "**Output :** 1 6 3 8 4"
   ]
  },
  {
   "cell_type": "code",
   "execution_count": null,
   "id": "junior-bacon",
   "metadata": {},
   "outputs": [],
   "source": [
    "# Here write your answer"
   ]
  },
  {
   "cell_type": "code",
   "execution_count": null,
   "id": "medium-helena",
   "metadata": {},
   "outputs": [],
   "source": []
  },
  {
   "cell_type": "markdown",
   "id": "excited-corruption",
   "metadata": {},
   "source": [
    "## Question 14:\n",
    "Write a program that initializes a string variable and prints the first three characters,followed by three periods, and then the last three characters. \n",
    "\n",
    "**Input:** `Ehtisham`        \n",
    "\n",
    "**Output:** `Eht...ham`"
   ]
  },
  {
   "cell_type": "code",
   "execution_count": null,
   "id": "periodic-surgery",
   "metadata": {},
   "outputs": [],
   "source": [
    "# Here write your answer"
   ]
  },
  {
   "cell_type": "code",
   "execution_count": null,
   "id": "creative-material",
   "metadata": {},
   "outputs": [],
   "source": []
  },
  {
   "cell_type": "markdown",
   "id": "growing-chess",
   "metadata": {},
   "source": [
    "## Question 15:\n",
    "\n",
    "Write a program that calculates the total amount of a meal purchased at a restaurant.  The program should ask the user to enter the charge for the food, and then calculate the  amount of a 15 percent tip and 7 percent sales tax. Display each of these amounts and  the total (sum of all three mentioned above).\n",
    "\n",
    "**Test Case:**\n",
    "Imagine a user enters a charge for the food as $ \\$50 $. The program should then calculate a 15% tip ($ \\$7 $.50) and a 7% sales tax ($ \\$3 $.50). The total amount would be $\\$50$ + $\\$7$.50 + $\\$3.50$ = $\\$61.00$. The program should display these amounts:\n",
    "\n",
    "\n",
    "**Output:**\n",
    "\n",
    "- Charge for Food: $\\$50.00$   \n",
    "- Tip (15%): $\\$7.50$     \n",
    "- Sales Tax (7%): $\\$3.50$      \n",
    "- Total Amount: $\\$61.00$   "
   ]
  },
  {
   "cell_type": "code",
   "execution_count": null,
   "id": "eligible-improvement",
   "metadata": {},
   "outputs": [],
   "source": [
    "# Here write your answer"
   ]
  },
  {
   "cell_type": "code",
   "execution_count": null,
   "id": "connected-timber",
   "metadata": {},
   "outputs": [],
   "source": []
  },
  {
   "cell_type": "code",
   "execution_count": null,
   "id": "subsequent-guarantee",
   "metadata": {},
   "outputs": [],
   "source": []
  },
  {
   "cell_type": "code",
   "execution_count": null,
   "id": "empty-impossible",
   "metadata": {},
   "outputs": [],
   "source": []
  },
  {
   "cell_type": "code",
   "execution_count": null,
   "id": "toxic-picking",
   "metadata": {},
   "outputs": [],
   "source": []
  }
 ],
 "metadata": {
  "kernelspec": {
   "display_name": "Python 3 (ipykernel)",
   "language": "python",
   "name": "python3"
  },
  "language_info": {
   "codemirror_mode": {
    "name": "ipython",
    "version": 3
   },
   "file_extension": ".py",
   "mimetype": "text/x-python",
   "name": "python",
   "nbconvert_exporter": "python",
   "pygments_lexer": "ipython3",
   "version": "3.11.7"
  }
 },
 "nbformat": 4,
 "nbformat_minor": 5
}
