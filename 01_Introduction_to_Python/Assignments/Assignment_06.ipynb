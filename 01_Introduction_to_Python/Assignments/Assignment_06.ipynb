{
 "cells": [
  {
   "cell_type": "markdown",
   "id": "c04c4f2e",
   "metadata": {},
   "source": [
    "<h1 align=\"center\"> Practical Learning Data Science and Machine Learning - Assignment 06 </h1>"
   ]
  },
  {
   "cell_type": "code",
   "execution_count": null,
   "id": "87a43ef6",
   "metadata": {},
   "outputs": [],
   "source": []
  },
  {
   "cell_type": "code",
   "execution_count": null,
   "id": "5b26edbb",
   "metadata": {},
   "outputs": [],
   "source": []
  },
  {
   "cell_type": "markdown",
   "id": "3978a454",
   "metadata": {},
   "source": [
    "> **Note: Solve all the questions using user-defined functions and loops. Try to avoid using built-in functions.**"
   ]
  },
  {
   "cell_type": "code",
   "execution_count": null,
   "id": "750740b0",
   "metadata": {},
   "outputs": [],
   "source": []
  },
  {
   "cell_type": "code",
   "execution_count": null,
   "id": "b2e1e986",
   "metadata": {},
   "outputs": [],
   "source": []
  },
  {
   "cell_type": "markdown",
   "id": "3609e66c",
   "metadata": {},
   "source": [
    "## Question No 01:\n",
    "\n",
    "**You have been given a file named `File.txt`. Perform the following operations on the file data.**\n",
    "\n",
    "- Read all the content of the file and store it in a `list`.\n",
    "- Remove `spaces` from each element of the list and also remove a period (`.`) if a word/element contains one.\n",
    "- Create a dictionary that stores the `key` as a word/element and the `value` as the occurrence/frequency of that word/element in the list.\n",
    "- Sort the dictionary according to the words/elements with higher counts/occurrences.\n",
    "- Display a dictionary containing words with values ranging between 15 and 20."
   ]
  },
  {
   "cell_type": "code",
   "execution_count": 2,
   "id": "a6b409ec",
   "metadata": {},
   "outputs": [],
   "source": [
    "# Here is a syntax to read a file\n",
    "\n",
    "with open('File.txt', 'r') as fl:\n",
    "    data = fl.read()"
   ]
  },
  {
   "cell_type": "code",
   "execution_count": 1,
   "id": "76c0517c",
   "metadata": {},
   "outputs": [
    {
     "name": "stdout",
     "output_type": "stream",
     "text": [
      "{'TO': 31, 'ABOUT': 16, 'MODELS': 23, 'THE': 47, 'ARE': 19, 'IN': 29, 'THAT': 31, 'OF': 24, 'WE': 24, 'THESE': 22, 'RANDOMLY': 15}\n"
     ]
    }
   ],
   "source": [
    "# Here write your code\n",
    "\n",
    "fdata = []\n",
    "with open(\"File.txt\", 'r') as f:\n",
    "    fdata = f.read().split()\n",
    "\n",
    "for i in range(len(fdata)):\n",
    "    fdata[i] = fdata[i].replace(\".\",\"\").strip().upper()\n",
    "\n",
    "# print(fdata)\n",
    "fdata_freq = {k: fdata.count(k) for k in fdata}\n",
    "fdata_freq\n",
    "print( {k: v for k,v in fdata_freq.items() if v > 14} )"
   ]
  },
  {
   "cell_type": "code",
   "execution_count": null,
   "id": "950a7d12",
   "metadata": {},
   "outputs": [],
   "source": []
  },
  {
   "cell_type": "markdown",
   "id": "8662f149",
   "metadata": {},
   "source": [
    "## Question no 02:"
   ]
  },
  {
   "cell_type": "markdown",
   "id": "af4df2e8",
   "metadata": {},
   "source": [
    "Write a program in which take a sentence from user containing n words/strings. Remove all duplicates words/strings which are similar to each others.\n",
    "\n",
    "#### Sample Output:\n",
    "- Input : Python is great and Java is also great\n",
    "- Output : is also Java Python and great"
   ]
  },
  {
   "cell_type": "markdown",
   "id": "b9ffccc5",
   "metadata": {},
   "source": [
    "**First Method**"
   ]
  },
  {
   "cell_type": "code",
   "execution_count": null,
   "id": "bff4bba1",
   "metadata": {},
   "outputs": [],
   "source": [
    "# Here write your answer\n",
    "input_string = input('Please enter an input string.')\n",
    "\n",
    "string_list = [s.replace(\".\", \"\").upper() for s in input_string.split()]\n",
    "string_set = set(string_list)\n",
    "print(string_list)\n",
    "print(string_set)"
   ]
  },
  {
   "cell_type": "code",
   "execution_count": null,
   "id": "49909e2c",
   "metadata": {},
   "outputs": [],
   "source": []
  },
  {
   "cell_type": "markdown",
   "id": "aa098114",
   "metadata": {},
   "source": [
    "**Second Method:**\n",
    "\n",
    "By using `for` loop and `list`."
   ]
  },
  {
   "cell_type": "code",
   "execution_count": null,
   "id": "66fb78b1",
   "metadata": {},
   "outputs": [],
   "source": []
  },
  {
   "cell_type": "code",
   "execution_count": null,
   "id": "28fe411e",
   "metadata": {},
   "outputs": [],
   "source": []
  },
  {
   "cell_type": "markdown",
   "id": "2f493e4d",
   "metadata": {},
   "source": [
    "## Question no 03:\n",
    "\n",
    "Print an inverted star pattern of the desired size.\n",
    "\n",
    "Below is an inverted star pattern of size n=5. This pattern consists of 5 horizontal lines or rows of stars:"
   ]
  },
  {
   "cell_type": "code",
   "execution_count": null,
   "id": "9fb2d709",
   "metadata": {},
   "outputs": [],
   "source": []
  },
  {
   "cell_type": "code",
   "execution_count": 11,
   "id": "c46408a0",
   "metadata": {},
   "outputs": [],
   "source": [
    "\"\"\"\n",
    "   *****\n",
    "    ****\n",
    "     ***\n",
    "      **\n",
    "       *\n",
    "       *\n",
    "      **\n",
    "     ***\n",
    "    ****\n",
    "   *****\n",
    "\"\"\""
   ]
  },
  {
   "cell_type": "code",
   "execution_count": 6,
   "id": "56fd45e6",
   "metadata": {},
   "outputs": [
    {
     "name": "stdout",
     "output_type": "stream",
     "text": [
      "*******\n",
      " ******\n",
      "  *****\n",
      "   ****\n",
      "    ***\n",
      "     **\n",
      "      *\n",
      "      *\n",
      "     **\n",
      "    ***\n",
      "   ****\n",
      "  *****\n",
      " ******\n",
      "*******\n"
     ]
    }
   ],
   "source": [
    "# Here write your answer\n",
    "star_size = 7\n",
    "star_pattern = \"\"\n",
    "star_char = \"*\"\n",
    "for i in range(size):\n",
    "    n = i+1\n",
    "    star_pattern = ( f\"{star_char*n:>{star_size}}\\n{star_pattern}\\n{star_char*n:>{star_size}}\" ) if star_pattern else ( f\"{star_char*n:>{star_size}}\\n{star_char*n:>{star_size}}\" )\n",
    "\n",
    "print(star_pattern)"
   ]
  },
  {
   "cell_type": "code",
   "execution_count": null,
   "id": "b457191d",
   "metadata": {},
   "outputs": [],
   "source": []
  },
  {
   "cell_type": "markdown",
   "id": "b3bdbf26",
   "metadata": {},
   "source": [
    "## Question no 04:"
   ]
  },
  {
   "cell_type": "markdown",
   "id": "664ec81f",
   "metadata": {},
   "source": [
    "Write a function called `half_and_half` that takes a list as input and modifies the list so that the elements of the second half are now in the first half.\n",
    "\n",
    "\n",
    "### Sample : \n",
    "##### Case 1:\n",
    "if the size of list is even and content of list is as follows :     \n",
    "my_list = [10,20,30,40,50,60]     \n",
    "The output: [40,50,60,10,20,30]    \n",
    "\n",
    "\n",
    "##### Case 2:    \n",
    "if the size of list is odd and content of list is as follows :     \n",
    "my_list = [10,20,30,40,50,60,70]    \n",
    "The output: [50,60,70,40,10,20,30]    "
   ]
  },
  {
   "cell_type": "code",
   "execution_count": 15,
   "id": "a23abd52",
   "metadata": {},
   "outputs": [
    {
     "name": "stdout",
     "output_type": "stream",
     "text": [
      "[5, 6, 7, 8, 1, 2, 3, 4]\n"
     ]
    }
   ],
   "source": [
    "# Here write your answer\n",
    "test_list = [1,2,3,4,5,6,7,8]\n",
    "\n",
    "def half_and_half(tl):\n",
    "    tl_size = len(tl)\n",
    "    tl_middle = tl_size // 2\n",
    "    if tl_size % 2:\n",
    "        tl =  tl[tl_middle+1:] + [tl[tl_middle]] + tl[:tl_middle]\n",
    "    else:\n",
    "        tl = tl[tl_middle:] + tl[:tl_middle]\n",
    "\n",
    "    return tl\n",
    "\n",
    "print(half_and_half(test_list))"
   ]
  },
  {
   "cell_type": "code",
   "execution_count": null,
   "id": "f4756273",
   "metadata": {},
   "outputs": [],
   "source": []
  },
  {
   "cell_type": "markdown",
   "id": "891f4125",
   "metadata": {},
   "source": [
    "## Question no 05:\n",
    "\n",
    "Write a function that takes a dictionary as an argument. If the dictionary contains duplicate values, return an empty dictionary; otherwise, return a new dictionary where the values become the keys, and the keys become the values.\n",
    "\n",
    "### Sample : \n",
    "- Input : {'a': 10, 'b': 20, 'c': 20}\n",
    "- Output : {}"
   ]
  },
  {
   "cell_type": "code",
   "execution_count": 17,
   "id": "2b65981f",
   "metadata": {},
   "outputs": [
    {
     "name": "stdout",
     "output_type": "stream",
     "text": [
      "{10: 'a', 20: 'b', 30: 'c'}\n"
     ]
    }
   ],
   "source": [
    "# Here write your answer\n",
    "test_dict = {'a': 10, 'b': 20, 'c': 30}\n",
    "\n",
    "def invert_dict(t_dict):\n",
    "    dict_members = set()\n",
    "    for v in t_dict.values():\n",
    "        if not v in dict_members:\n",
    "            dict_members.add(v)\n",
    "        else:\n",
    "            return {}\n",
    "    \n",
    "    return {v:k for k,v in t_dict.items()}\n",
    "\n",
    "print(invert_dict(test_dict))"
   ]
  },
  {
   "cell_type": "code",
   "execution_count": null,
   "id": "8eca84bb",
   "metadata": {},
   "outputs": [],
   "source": []
  },
  {
   "cell_type": "code",
   "execution_count": null,
   "id": "ae4d3e35",
   "metadata": {},
   "outputs": [],
   "source": []
  },
  {
   "cell_type": "markdown",
   "id": "e8c0ca4c",
   "metadata": {},
   "source": [
    "## Question no 06:"
   ]
  },
  {
   "cell_type": "markdown",
   "id": "0bd0554f",
   "metadata": {},
   "source": [
    "### Test Average and Grade\n",
    "Write a program that asks the user to enter five test scores. The program should display a letter grade for each score and the average test score. Write the following functions in the program:\n",
    "\n",
    "- `calc_average` : This function should accept five test scores as arguments and returnthe average of the scores.\n",
    "- `determine_grade` : This function should accept a test score as an argument andreturn a letter grade for the score, based on the following grading scale:"
   ]
  },
  {
   "cell_type": "markdown",
   "id": "88df4cc2",
   "metadata": {},
   "source": [
    "|Score   |       Letter Grade |\n",
    "|--------|--------------------|\n",
    "|90-100  |         A          |\n",
    "| 80-89  |         B          |\n",
    "| 70-79  |         C          |\n",
    "| 60-69  |         D          |\n",
    "|Below 60|         F          |"
   ]
  },
  {
   "cell_type": "code",
   "execution_count": 19,
   "id": "1ef3ffa8",
   "metadata": {},
   "outputs": [
    {
     "name": "stdout",
     "output_type": "stream",
     "text": [
      "77.4\n",
      "C\n"
     ]
    }
   ],
   "source": [
    "# Here write your asnwer\n",
    "# input_string = input('Please enter numbers separated by commas')\n",
    "input_list = [78,99,82,70,58]\n",
    "\n",
    "def calc_average(scores):\n",
    "    return ( sum(scores) / len(scores) )\n",
    "\n",
    "def determine_grade(score):\n",
    "    match score:\n",
    "        case _ if score >= 90:\n",
    "            return \"A\"\n",
    "        case _ if score >= 80:\n",
    "            return \"B\"\n",
    "        case _ if score >= 70:\n",
    "            return \"C\"\n",
    "        case _ if score >= 60:\n",
    "            return \"D\"\n",
    "        case _ :\n",
    "            return \"F\"\n",
    "        \n",
    "print(calc_average(input_list))\n",
    "print(determine_grade(input_list[3]))"
   ]
  },
  {
   "cell_type": "code",
   "execution_count": null,
   "id": "f007f2e8",
   "metadata": {
    "scrolled": true
   },
   "outputs": [],
   "source": []
  },
  {
   "cell_type": "code",
   "execution_count": null,
   "id": "7c8dfd45",
   "metadata": {},
   "outputs": [],
   "source": []
  },
  {
   "cell_type": "markdown",
   "id": "96740eb2",
   "metadata": {},
   "source": [
    "## Question no 07:\n",
    "#### Name and Email Addresses\n",
    "Write a program that keeps names and email addresses in a dictionary as key-value pairs.\n",
    "The program should display a menu that lets the user look up a person’s email address, add\n",
    "a new name and email address, change an existing email address, and delete an existing\n",
    "name and email address.\n",
    "-               Menu \n",
    "- 1.Check Person's Email Address\n",
    "- 2.Add new name and email\n",
    "- 3.Change an existing email\n",
    "- 4.Delete an existing email"
   ]
  },
  {
   "cell_type": "code",
   "execution_count": null,
   "id": "fa65e53c",
   "metadata": {},
   "outputs": [],
   "source": [
    "# Here write your answer\n",
    "d = {\n",
    "    \"Alice Johnson\": \"alice.johnson@example.com\",\n",
    "    \"Bob Smith\": \"bob.smith@example.com\",\n",
    "    \"Charlie Brown\": \"charlie.brown@example.com\",\n",
    "    \"David Lee\": \"david.lee@example.com\",\n",
    "    \"Emily Davis\": \"emily.davis@example.com\",\n",
    "    \"Frank Wilson\": \"frank.wilson@example.com\",\n",
    "    \"Grace Miller\": \"grace.miller@example.com\",\n",
    "    \"Henry Moore\": \"henry.moore@example.com\",\n",
    "    \"Ivy Green\": \"ivy.green@example.com\",\n",
    "    \"Jack White\": \"jack.white@example.com\"\n",
    "}\n",
    "\n",
    "option = int(input(\"Menu\\n1.Check Person's Email Address\\n2.Add new name and email\\n3.Change an existing email\\n4.Delete an existing email\"))\n",
    "\n",
    "if option == 1:\n",
    "    input_string = input('enter a name')\n",
    "    print(d[input_string])\n",
    "if option == 2:\n",
    "    input_string = input('enter a pair \"name:email\"')\n",
    "    d[input_string.split(\":\")[0]] = input_string.split(\":\")[1]\n",
    "    print(d)\n",
    "if option == 1:\n",
    "    input_string = input('enter existingname:newemail')\n",
    "    d[input_string.split(\":\")[0]] = input_string.split(\":\")[1]\n",
    "    print(d)\n",
    "if option == 1:\n",
    "    input_string = input('enter a name to delete')\n",
    "    d.pop(input_string, None)\n",
    "    print(d)"
   ]
  },
  {
   "cell_type": "code",
   "execution_count": null,
   "id": "b4487fda",
   "metadata": {},
   "outputs": [],
   "source": []
  },
  {
   "cell_type": "code",
   "execution_count": null,
   "id": "071bd534",
   "metadata": {},
   "outputs": [],
   "source": []
  },
  {
   "cell_type": "code",
   "execution_count": null,
   "id": "ec17a811",
   "metadata": {},
   "outputs": [],
   "source": []
  },
  {
   "cell_type": "markdown",
   "id": "bca83aa1",
   "metadata": {},
   "source": [
    "## Question no 08:\n",
    "\n"
   ]
  },
  {
   "cell_type": "markdown",
   "id": "ad56245d",
   "metadata": {},
   "source": [
    "### Alphabetic Telephone Number Translator\n",
    "Many companies use telephone numbers like 555-GET-FOOD so the number is easier for\n",
    "their customers to remember. On a standard telephone, the alphabetic letters are mapped\n",
    "to numbers in the following fashion:   \n",
    "A, B, and C = 2     \n",
    "D, E, and F = 3     \n",
    "G, H, and I = 4    \n",
    "J, K, and L = 5    \n",
    "M, N, and O = 6    \n",
    "P, Q, R, and S = 7    \n",
    "T, U, and V = 8    \n",
    "W, X, Y, and Z = 9    \n",
    "Write a program that asks the user to enter a 10-character telephone number in the format\n",
    "XXX-XXX-XXXX. The application should display the telephone number with any alphabetic characters that appeared in the original translated to their numeric equivalent.\n",
    "### Sample: \n",
    "- Input: 555-GET-FOOD \n",
    "- Output: 555-438-3663"
   ]
  },
  {
   "cell_type": "code",
   "execution_count": null,
   "id": "3079e9d5",
   "metadata": {},
   "outputs": [],
   "source": []
  },
  {
   "cell_type": "code",
   "execution_count": 33,
   "id": "26e58ee0",
   "metadata": {},
   "outputs": [
    {
     "name": "stdout",
     "output_type": "stream",
     "text": [
      "555-438-3663\n"
     ]
    }
   ],
   "source": [
    "# Here write your answer\n",
    "import re\n",
    "\n",
    "# instr = input(\"ENTER INPUT: \")\n",
    "instr = \"555-GET-FOOD\"\n",
    "outstr = \"\"\n",
    "for i, c in enumerate(instr):\n",
    "    match c:\n",
    "        case _ if re.match(r\"[ABC]\", c):\n",
    "            outstr = outstr + \"2\"\n",
    "        case _ if re.match(r\"[DEF]\", c):\n",
    "            outstr = outstr + \"3\"\n",
    "        case _ if re.match(r\"[GHI]\", c):\n",
    "            outstr = outstr + \"4\"\n",
    "        case _ if re.match(r\"[JKL]\", c):\n",
    "            outstr = outstr + \"5\"\n",
    "        case _ if re.match(r\"[MNO]\", c):\n",
    "            outstr = outstr + \"6\"\n",
    "        case _ if re.match(r\"[PQRS]\", c):\n",
    "            outstr = outstr + \"7\"\n",
    "        case _ if re.match(r\"[TUV]\", c):\n",
    "            outstr = outstr + \"8\"\n",
    "        case _ if re.match(r\"[WXYZ]\", c):\n",
    "            outstr = outstr + \"9\"\n",
    "        case _:\n",
    "            outstr = outstr + c\n",
    "\n",
    "print(outstr)\n"
   ]
  },
  {
   "cell_type": "code",
   "execution_count": null,
   "id": "969486b7",
   "metadata": {},
   "outputs": [],
   "source": []
  },
  {
   "cell_type": "markdown",
   "id": "9f272113",
   "metadata": {},
   "source": [
    "## Question no 09:\n",
    "### Color Mixer\n",
    "The colors red, blue, and yellow are known as the primary colors because they cannot be\n",
    "made by mixing other colors. When you mix two primary colors, you get a secondary color,\n",
    "as shown here: \n",
    "- When you mix red and blue, you get purple.\n",
    "- When you mix red and yellow, you get orange.\n",
    "- When you mix blue and yellow, you get green.    \n",
    "    \n",
    "Design a program that prompts the user to enter the names of two primary colors to mix.\n",
    "If the user enters anything other than `red`, `blue` or `yellow` the program should display an error message. Otherwise, the program should display the name of the secondary\n",
    "color that results. "
   ]
  },
  {
   "cell_type": "code",
   "execution_count": 38,
   "id": "18f53a23",
   "metadata": {},
   "outputs": [
    {
     "name": "stdout",
     "output_type": "stream",
     "text": [
      "orange\n"
     ]
    }
   ],
   "source": [
    "# Here write your answer\n",
    "# instr = input(\"ENTER INPUT: \")\n",
    "instr = \"yellow,red\"\n",
    "colorlist = instr.upper().split(\",\")\n",
    "\n",
    "if (\"YELLOW\" in colorlist and \"RED\" in colorlist):\n",
    "    print(\"orange\")\n",
    "elif (\"YELLOW\" in colorlist and \"BLUE\" in colorlist):\n",
    "    print(\"green\")\n",
    "if (\"RED\" in colorlist and \"BLUE\" in colorlist):\n",
    "    print(\"purple\")"
   ]
  },
  {
   "cell_type": "code",
   "execution_count": null,
   "id": "b62d63de",
   "metadata": {},
   "outputs": [],
   "source": []
  },
  {
   "cell_type": "code",
   "execution_count": null,
   "id": "7b0ad62a",
   "metadata": {},
   "outputs": [],
   "source": []
  },
  {
   "cell_type": "markdown",
   "id": "377deb35",
   "metadata": {},
   "source": [
    "## Question no 10:\n",
    "Write a function which takes a list of n-integers from user and display third largest element of the list without using built-in functions and also without using slicing.\n",
    "### Sample :\n",
    "- Input: [4,5,65,7,7,8,8,55,49]\n",
    "- Output: 49"
   ]
  },
  {
   "cell_type": "code",
   "execution_count": 40,
   "id": "ac3d1ba1",
   "metadata": {},
   "outputs": [
    {
     "name": "stdout",
     "output_type": "stream",
     "text": [
      "[87, 99, 586]\n",
      "87\n"
     ]
    }
   ],
   "source": [
    "# Here write your answer\n",
    "# inlist = (input(\"ENTER INPUT: \")).split(\",\")\n",
    "inlist = [3,8,87,64,2,3,586,42,99]\n",
    "\n",
    "def third_largest(inlist):\n",
    "    big_three = [inlist[0],inlist[0],inlist[0]]\n",
    "    for n in inlist:\n",
    "        if n >= big_three[2]:\n",
    "            big_three[0] = big_three[1]\n",
    "            big_three[1] = big_three[2]\n",
    "            big_three[2] = n\n",
    "        elif n >= big_three[1]:\n",
    "            big_three[0] = big_three[1]\n",
    "            big_three[1] = n\n",
    "        elif n >= big_three[0]:\n",
    "            big_three[0] = n\n",
    "\n",
    "    print(big_three)\n",
    "    print(big_three[0])\n",
    "\n",
    "third_largest(inlist)\n",
    "\n"
   ]
  },
  {
   "cell_type": "code",
   "execution_count": null,
   "id": "ca37b8af",
   "metadata": {},
   "outputs": [],
   "source": []
  },
  {
   "cell_type": "markdown",
   "id": "f8d8a9ef",
   "metadata": {},
   "source": [
    "## Question no 11:\n",
    "#### Make a function that encrypts a given input with these steps:\n",
    "Input: `\"apple\"`   \n",
    "Step 1: Reverse the input: `\"elppa\"`  \n",
    "Step 2: Replace all vowels using the following chart:    \n",
    "`a => 0`    \n",
    "`e => 1`  \n",
    "`i => 2`  \n",
    "`o => 2`  \n",
    "`u => 3`  \n",
    "`# \"1lpp0\"`  \n",
    "Step 3: Add `\"aca\"` to the end of the word: `\"1lpp0aca\"`  \n",
    "Output: `\"1lpp0aca\"`  \n",
    "**Examples:**   \n",
    "`encrypt(\"banana\") ➞ \"0n0n0baca\"`  \n",
    "`encrypt(\"karaca\") ➞ \"0c0r0kaca\"`  \n",
    "`encrypt(\"burak\") ➞ \"k0r3baca\"`  \n",
    "`encrypt(\"alpaca\") ➞ \"0c0pl0aca\"`  "
   ]
  },
  {
   "cell_type": "code",
   "execution_count": 6,
   "id": "c22750df",
   "metadata": {},
   "outputs": [
    {
     "data": {
      "text/plain": [
       "'3hc0k2paca'"
      ]
     },
     "execution_count": 6,
     "metadata": {},
     "output_type": "execute_result"
    }
   ],
   "source": [
    "# Here write your answer\n",
    "import re\n",
    "# instr = input(\"ENTER INPUT: \")\n",
    "instr = \"pikachu\"   \n",
    "\n",
    "def encrypt(word):\n",
    "    word = word[::-1]\n",
    "    word = word.replace(\"a\", \"0\").replace(\"e\", \"1\").replace(\"i\", \"2\").replace(\"o\", \"2\").replace(\"u\", \"3\")\n",
    "    word = f\"{word}aca\"\n",
    "    return word\n",
    "\n",
    "encrypt(instr)"
   ]
  },
  {
   "cell_type": "code",
   "execution_count": null,
   "id": "ab7ce2ce",
   "metadata": {},
   "outputs": [],
   "source": []
  },
  {
   "cell_type": "code",
   "execution_count": null,
   "id": "984ceda7",
   "metadata": {},
   "outputs": [],
   "source": []
  },
  {
   "cell_type": "code",
   "execution_count": null,
   "id": "64cdbbbd",
   "metadata": {},
   "outputs": [],
   "source": []
  },
  {
   "cell_type": "markdown",
   "id": "47fff417",
   "metadata": {},
   "source": [
    "## Question no 12:\n",
    "\n",
    "### Financial Institution\n",
    "\n",
    "Financial institution provides professional services to banks and claims charges from the customers based on the number of man-days provided. Internally, it has set a scheme to motivate and reward staff to meet and exceed targeted billable utilization and revenues by paying a bonus for each day claimed from customers in excess of a threshold target.\n",
    "\n",
    "This quarterly scheme is calculated with a threshold target of 32 days per quarter, and the incentive payment for each billable day in excess of such threshold target is shown as follows:\n"
   ]
  },
  {
   "cell_type": "code",
   "execution_count": 8,
   "id": "32cc5207",
   "metadata": {},
   "outputs": [
    {
     "data": {
      "text/plain": [
       "'\\n\\n| Days                | Bonus                        |\\n|---------------------|------------------------------|\\n| 0 to 32 days        | Zero                         |\\n| 33 to 40 days       | SGD$325 per billable day     |\\n| 41 to 48 days       | SGD$550 per billable day     |\\n| Greater than 48 days| SGD$600 per billable day     |\\n\\n'"
      ]
     },
     "execution_count": 8,
     "metadata": {},
     "output_type": "execute_result"
    }
   ],
   "source": [
    "\"\"\"\n",
    "\n",
    "| Days                | Bonus                        |\n",
    "|---------------------|------------------------------|\n",
    "| 0 to 32 days        | Zero                         |\n",
    "| 33 to 40 days       | SGD$325 per billable day     |\n",
    "| 41 to 48 days       | SGD$550 per billable day     |\n",
    "| Greater than 48 days| SGD$600 per billable day     |\n",
    "\n",
    "\"\"\""
   ]
  },
  {
   "cell_type": "markdown",
   "id": "b41b5eaf",
   "metadata": {},
   "source": [
    "Please note that incentive payment is calculated progressively. As an example, if an employee reached total billable days of 45 in a quarter, his/her incentive payment is computed as follows:  \n",
    "`32*0 + 8*325 + 5*550 = 5350`  \n",
    "Write a function to read the billable days of an employee and return the bonus he/she has obtained in that quarter.\n",
    "\n",
    "**Examples:**  \n",
    "`bonus(15) ➞ 0`  \n",
    "`bonus(37) ➞ 1625`  \n",
    "`bonus(50) ➞ 8200`  "
   ]
  },
  {
   "cell_type": "code",
   "execution_count": null,
   "id": "3e5d0f76",
   "metadata": {},
   "outputs": [],
   "source": []
  },
  {
   "cell_type": "code",
   "execution_count": 10,
   "id": "75ac5ced",
   "metadata": {},
   "outputs": [
    {
     "data": {
      "text/plain": [
       "6450"
      ]
     },
     "execution_count": 10,
     "metadata": {},
     "output_type": "execute_result"
    }
   ],
   "source": [
    "# Here write your answer\n",
    "def bonus():\n",
    "    days = int(input(\"ENTER INPUT: \"))\n",
    "    if days <= 32:\n",
    "        total = 0\n",
    "    elif days <= 40:\n",
    "        total = (days-32)*325\n",
    "    elif days <= 48:\n",
    "        bonus = 8*325 + (days-40)*550\n",
    "    else:\n",
    "        bonus = 8*325 + 8*550 + (days-48)*600\n",
    "\n",
    "    return bonus\n",
    "\n",
    "bonus()"
   ]
  },
  {
   "cell_type": "code",
   "execution_count": null,
   "id": "c5d9a880",
   "metadata": {},
   "outputs": [],
   "source": []
  },
  {
   "cell_type": "code",
   "execution_count": null,
   "id": "48fba9bc",
   "metadata": {},
   "outputs": [],
   "source": []
  },
  {
   "cell_type": "markdown",
   "id": "23953d84",
   "metadata": {},
   "source": [
    "## Question no 13:"
   ]
  },
  {
   "cell_type": "markdown",
   "id": "11c5725f",
   "metadata": {},
   "source": [
    "#### Implement a Python program to generate all sentences where subject is in [\"Pakistanis\", \"Indians\"] and verb is in [\"Play\", \"watch\"] and the object is in [\"Baseball\",\"cricket\"].\n",
    "#### Hint: Subject,Verb and Object should be declared in the program as shown below.\n",
    "subjects=[\"Pakistanis \",\"Indians\"]    \n",
    "verbs=[\"play\",\"watch\"]     \n",
    "objects=[\"Baseball\",\"Cricket\"]    \n",
    "#### Output should come as below:\n",
    "- Pakistanis play Baseball.\n",
    "- Pakistanis play Cricket.\n",
    "- Pakistanis watch Baseball.\n",
    "- Pakistanis watch Cricket.\n",
    "- Indians play Baseball.\n",
    "- Indians play Cricket.\n",
    "- Indians watch Baseball.\n",
    "- Indians watch Cricket."
   ]
  },
  {
   "cell_type": "code",
   "execution_count": 12,
   "id": "6f712296",
   "metadata": {},
   "outputs": [
    {
     "name": "stdout",
     "output_type": "stream",
     "text": [
      "Pakistanis play Baseball\n",
      "Pakistanis play Cricket\n",
      "Pakistanis watch Baseball\n",
      "Pakistanis watch Cricket\n",
      "Indians play Baseball\n",
      "Indians play Cricket\n",
      "Indians watch Baseball\n",
      "Indians watch Cricket\n"
     ]
    }
   ],
   "source": [
    "# Here write your answer\n",
    "subjects=[\"Pakistanis\",\"Indians\"]    \n",
    "verbs=[\"play\",\"watch\"]     \n",
    "objects=[\"Baseball\",\"Cricket\"]\n",
    "\n",
    "for s in subjects:\n",
    "    for v in verbs:\n",
    "        for o in objects:\n",
    "            print(f\"{s} {v} {o}\")"
   ]
  },
  {
   "cell_type": "code",
   "execution_count": null,
   "id": "fe6e6446",
   "metadata": {},
   "outputs": [],
   "source": []
  },
  {
   "cell_type": "markdown",
   "id": "7e0f4954",
   "metadata": {},
   "source": [
    "## Question no 14:\n",
    "A non-governmental organization needs a program to calculate the amount of finan cial assistance for needy families. The formula is as follows:\n",
    "- If the annual household income is between 30000 dollars and 40000 dollars and the household has at least three children, the amount is 1000 dollars per child.\n",
    "- If the annual household income is between 20000 dollars and 30000 dollars and the household has at least two children, the amount is 1500 dollars per child.\n",
    "- If the annual household income is less than 20000 dollars the amount is 2000 dollars per child.     \n",
    "  \n",
    "Implement a function for this computation. Write a program that asks for the \n",
    "household income and number of children for each applicant, printing the amount \n",
    "returned by your function. "
   ]
  },
  {
   "cell_type": "code",
   "execution_count": null,
   "id": "bf90cfda",
   "metadata": {},
   "outputs": [],
   "source": [
    "# Here write your answer\n",
    "def assistance():\n",
    "    # instr = input(\"ENTER INPUT: \")\n",
    "    instr = \"35000,2\"\n",
    "    income, children = instr.split(\",\")\n",
    "    amt = 0\n",
    "    if (income > 30000 and income < 40000) and children >= 3:\n",
    "        amt =  children * 1000\n",
    "    elif (income > 20000 and income < 30000) and children >= 2:\n",
    "        amt =  children * 1500\n",
    "    elif (income < 20000):\n",
    "        amt = children * 2000\n",
    "    return amt\n"
   ]
  },
  {
   "cell_type": "code",
   "execution_count": null,
   "id": "c604992a",
   "metadata": {},
   "outputs": [],
   "source": []
  },
  {
   "cell_type": "code",
   "execution_count": null,
   "id": "91eb343e",
   "metadata": {},
   "outputs": [],
   "source": []
  },
  {
   "cell_type": "code",
   "execution_count": null,
   "id": "56a4d5d1",
   "metadata": {},
   "outputs": [],
   "source": []
  },
  {
   "cell_type": "code",
   "execution_count": null,
   "id": "b5047c14",
   "metadata": {},
   "outputs": [],
   "source": []
  },
  {
   "cell_type": "code",
   "execution_count": null,
   "id": "b72210f6",
   "metadata": {},
   "outputs": [],
   "source": []
  },
  {
   "cell_type": "markdown",
   "id": "898aae11",
   "metadata": {},
   "source": [
    "## Question no 15:\n",
    "Write list functions that carry out the following tasks for a list of integers. For each \n",
    "function, provide a test program. \n",
    "- a. Swap the first and last elements in the list.\n",
    "- b. Shift all elements by one to the right and move the last element into the first position. For example, 1 4 9 16 25 would be transformed into 25 1 4 9 16.\n",
    "- c. Replace all even elements with 0.\n",
    "- d. Replace each element except the first and last by the larger of its two neighbors.\n",
    "- e. Remove the middle element if the list length is odd, or the middle two elements if the length is even.\n",
    "- f. Move all even elements to the front, otherwise preserving the order of the elements. \n",
    "- g. Return the second-largest element in the list.\n",
    "- h. Return true if the list is currently sorted in increasing order.\n",
    "- i. Return true if the list contains two adjacent duplicate elements.\n",
    "- j. Return true if the list contains duplicate elements (which need not be adjacent)."
   ]
  },
  {
   "cell_type": "code",
   "execution_count": null,
   "id": "c6f50a2e",
   "metadata": {},
   "outputs": [],
   "source": [
    "# Here write your answer\n"
   ]
  },
  {
   "cell_type": "code",
   "execution_count": 12,
   "id": "4bbc794d",
   "metadata": {},
   "outputs": [
    {
     "data": {
      "text/plain": [
       "True"
      ]
     },
     "execution_count": 12,
     "metadata": {},
     "output_type": "execute_result"
    }
   ],
   "source": [
    "list1 = [22, 18, 20, 66, 12, 4, 26, 100, 84, 94]\n",
    "\n",
    "def func1(list1):\n",
    "    list1[0], list1[-1] = list1[-1], list1[0]\n",
    "    return list1\n",
    "\n",
    "def func2(list1):\n",
    "    length = len(list1)\n",
    "    for i in range(length, 1, -1):\n",
    "        list1[i%length], list1[i-1] = list1[i-1], list1[i%length]\n",
    "    return list1\n",
    "\n",
    "def func3(list1):\n",
    "    return [x if x%2==1 else 0 for x in list1]\n",
    "\n",
    "def func4(list1):\n",
    "    for i in range(1, len(list1)-1):\n",
    "        list1[i] = (list1[i-1] if list1[i-1]>list1[i+1] else list1[i+1])\n",
    "    return list1\n",
    "\n",
    "def func5(list1):\n",
    "    length = len(list1)\n",
    "    if length % 2 == 0:\n",
    "        i1 = int(length/2)-1\n",
    "        i2 = int(length/2)+1\n",
    "        return list1[:i1] + list1[i2:]\n",
    "    else:\n",
    "        i1 = int(length/2)\n",
    "        return list1[:i1] + list1[i1+1]\n",
    "\n",
    "def func6(list1):\n",
    "    return [x for x in list1 if x%2 == 0] + [x for x in list1 if x%2 == 1]\n",
    "\n",
    "def func7(list1):\n",
    "    two_largest = (list1[0], list1[1]) if list1[0] < list1[1] else (list1[1], list1[0])\n",
    "    for n in list1:\n",
    "        if n > list1[1]:\n",
    "            list1[0] = list1[1]\n",
    "            list1[1] = n\n",
    "\n",
    "    return list1[0]\n",
    "\n",
    "\n",
    "def func8(list1):\n",
    "    for i in range(len(list1)-1):\n",
    "        if list1[i] > list1[i+1]:\n",
    "            return False\n",
    "    return True\n",
    "\n",
    "def func9(list1):\n",
    "    for i in range(len(list1)-1):\n",
    "        if list1[i] == list1[i+1]:\n",
    "            return True\n",
    "    return False\n",
    "\n",
    "def func10(list1):\n",
    "    return len(set(list1)) != len(list1)\n",
    "\n",
    "func1(list1)\n",
    "func2(list1)\n",
    "func3(list1)\n",
    "func4(list1)\n",
    "func5(list1)\n",
    "func6(list1)\n",
    "func7(list1)\n",
    "func8(list1)\n",
    "func9(list1)\n",
    "func10(list1)"
   ]
  },
  {
   "cell_type": "code",
   "execution_count": null,
   "id": "1fdae8f4",
   "metadata": {},
   "outputs": [],
   "source": []
  },
  {
   "cell_type": "code",
   "execution_count": null,
   "id": "e3f9977d",
   "metadata": {},
   "outputs": [],
   "source": []
  },
  {
   "cell_type": "code",
   "execution_count": null,
   "id": "cec79d20",
   "metadata": {},
   "outputs": [],
   "source": []
  },
  {
   "cell_type": "code",
   "execution_count": null,
   "id": "2a8c5e65",
   "metadata": {},
   "outputs": [],
   "source": []
  }
 ],
 "metadata": {
  "kernelspec": {
   "display_name": "Python 3",
   "language": "python",
   "name": "python3"
  },
  "language_info": {
   "codemirror_mode": {
    "name": "ipython",
    "version": 3
   },
   "file_extension": ".py",
   "mimetype": "text/x-python",
   "name": "python",
   "nbconvert_exporter": "python",
   "pygments_lexer": "ipython3",
   "version": "3.10.6"
  }
 },
 "nbformat": 4,
 "nbformat_minor": 5
}
