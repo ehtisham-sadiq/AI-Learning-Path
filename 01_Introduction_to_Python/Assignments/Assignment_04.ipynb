{
 "cells": [
  {
   "cell_type": "markdown",
   "id": "67610864",
   "metadata": {},
   "source": [
    "<h1 align=\"center\">Practical Learning Data Science and Machine Learning - Assignment 04</h1>"
   ]
  },
  {
   "cell_type": "code",
   "execution_count": null,
   "id": "1136fe74",
   "metadata": {},
   "outputs": [],
   "source": []
  },
  {
   "cell_type": "code",
   "execution_count": null,
   "id": "76671182",
   "metadata": {},
   "outputs": [],
   "source": []
  },
  {
   "cell_type": "code",
   "execution_count": null,
   "id": "348dbde6",
   "metadata": {},
   "outputs": [],
   "source": []
  },
  {
   "cell_type": "markdown",
   "id": "proved-tomato",
   "metadata": {},
   "source": [
    "## Question 01:\n",
    "Look at the following statement: \n",
    "\n",
    "numbers = [10, 20, 30, 40, 50]\n",
    "\n",
    "- How many elements does the list have?\n",
    "- What is the index of the first element in the list?\n",
    "- What is the index of the last element in the list?"
   ]
  },
  {
   "cell_type": "code",
   "execution_count": 3,
   "id": "leading-spell",
   "metadata": {},
   "outputs": [],
   "source": [
    "# Here write your answer"
   ]
  },
  {
   "cell_type": "code",
   "execution_count": null,
   "id": "3e864b89",
   "metadata": {},
   "outputs": [],
   "source": []
  },
  {
   "cell_type": "code",
   "execution_count": null,
   "id": "british-transaction",
   "metadata": {},
   "outputs": [],
   "source": []
  },
  {
   "cell_type": "markdown",
   "id": "equal-surface",
   "metadata": {},
   "source": [
    "## Question 02:\n",
    "Look at the following statement:    \n",
    "\n",
    "numbers = [1, 2, 3]\n",
    "\n",
    "- What value is stored in numbers[2]?\n",
    "- What value is stored in numbers[0]?\n",
    "- What value is stored in numbers[-1]?"
   ]
  },
  {
   "cell_type": "code",
   "execution_count": 4,
   "id": "raising-learning",
   "metadata": {},
   "outputs": [],
   "source": [
    "# Here write your answer"
   ]
  },
  {
   "cell_type": "code",
   "execution_count": null,
   "id": "e0e7395f",
   "metadata": {},
   "outputs": [],
   "source": []
  },
  {
   "cell_type": "code",
   "execution_count": null,
   "id": "extra-suspension",
   "metadata": {},
   "outputs": [],
   "source": []
  },
  {
   "cell_type": "markdown",
   "id": "blocked-warehouse",
   "metadata": {},
   "source": [
    "## Question 03:\n",
    "\n",
    "Assume the lists `numbers1` has 100 elements and `numbers2` is an empty list. Write\n",
    "code that copies the values in numbers1 to numbers2."
   ]
  },
  {
   "cell_type": "code",
   "execution_count": 6,
   "id": "occasional-feeling",
   "metadata": {},
   "outputs": [],
   "source": [
    "# Here write your answer\n",
    "\n",
    "numbers1 = list(range(1,101))\n",
    "numbers2 = []"
   ]
  },
  {
   "cell_type": "code",
   "execution_count": null,
   "id": "83f77873",
   "metadata": {},
   "outputs": [],
   "source": []
  },
  {
   "cell_type": "code",
   "execution_count": null,
   "id": "a5a6cea1",
   "metadata": {},
   "outputs": [],
   "source": []
  },
  {
   "cell_type": "markdown",
   "id": "coastal-orleans",
   "metadata": {},
   "source": [
    "## Question 04:\n",
    "\n",
    "### Number Analysis Program\n",
    "\n",
    "Design a program that asks the user to enter a `series of 5 numbers`. The program should\n",
    "store the numbers in a list and then display the following data:\n",
    "\n",
    "- The lowest number in the list\n",
    "- The highest number in the list\n",
    "- The total of the numbers in the list\n",
    "- The average of the numbers in the list"
   ]
  },
  {
   "cell_type": "code",
   "execution_count": 7,
   "id": "3a7ce918",
   "metadata": {},
   "outputs": [],
   "source": [
    "# Here write your answer"
   ]
  },
  {
   "cell_type": "code",
   "execution_count": null,
   "id": "9b74f69c",
   "metadata": {},
   "outputs": [],
   "source": []
  },
  {
   "cell_type": "code",
   "execution_count": null,
   "id": "fcd0aa53",
   "metadata": {},
   "outputs": [],
   "source": []
  },
  {
   "cell_type": "markdown",
   "id": "marine-attendance",
   "metadata": {},
   "source": [
    "## Question 05:"
   ]
  },
  {
   "cell_type": "markdown",
   "id": "satellite-member",
   "metadata": {},
   "source": [
    "How do you perform the following tasks with lists in Python\n",
    "\n",
    "- Test that two lists contain the same elements in the same order.\n",
    "- Copy one list to another. \n",
    "- Fill a list with zeroes, overwriting all elements in it.\n",
    "- Remove all elements from a list.\n"
   ]
  },
  {
   "cell_type": "code",
   "execution_count": 8,
   "id": "01f7bfee",
   "metadata": {},
   "outputs": [],
   "source": [
    "# part no 01"
   ]
  },
  {
   "cell_type": "code",
   "execution_count": 9,
   "id": "a19e4a2d",
   "metadata": {},
   "outputs": [],
   "source": [
    "# part no 02"
   ]
  },
  {
   "cell_type": "code",
   "execution_count": 10,
   "id": "7fba0392",
   "metadata": {},
   "outputs": [],
   "source": [
    "# part no 03"
   ]
  },
  {
   "cell_type": "code",
   "execution_count": 11,
   "id": "00f763f3",
   "metadata": {},
   "outputs": [],
   "source": [
    "# part no 04"
   ]
  },
  {
   "cell_type": "code",
   "execution_count": null,
   "id": "bf59e33f",
   "metadata": {},
   "outputs": [],
   "source": []
  },
  {
   "cell_type": "markdown",
   "id": "crazy-locking",
   "metadata": {},
   "source": [
    "## Question 06:\n",
    "\n",
    "Write a program that initializes a list with ten random integers and then prints four lines of output, each containing:\n",
    "\n",
    "- Every element at an even index.\n",
    "- Every even element.\n",
    "- All elements in reverse order.\n",
    "- Only the first and last elements."
   ]
  },
  {
   "cell_type": "code",
   "execution_count": 12,
   "id": "5726cca5",
   "metadata": {},
   "outputs": [],
   "source": [
    "# Here write your answer"
   ]
  },
  {
   "cell_type": "code",
   "execution_count": null,
   "id": "7dd10551",
   "metadata": {},
   "outputs": [],
   "source": []
  },
  {
   "cell_type": "code",
   "execution_count": null,
   "id": "quarterly-bridal",
   "metadata": {},
   "outputs": [],
   "source": []
  },
  {
   "cell_type": "markdown",
   "id": "bored-homework",
   "metadata": {},
   "source": [
    "## Question 07:\n",
    "Write a function `removeMin` that removes the minimum value from a list without using the `min` function or `remove` method. "
   ]
  },
  {
   "cell_type": "code",
   "execution_count": 13,
   "id": "e1d34eb5",
   "metadata": {},
   "outputs": [],
   "source": [
    "# 1st Method\n",
    "# Here write your answer"
   ]
  },
  {
   "cell_type": "code",
   "execution_count": 14,
   "id": "53723a71",
   "metadata": {},
   "outputs": [],
   "source": [
    "# 2nd Method using for loop and if statement"
   ]
  },
  {
   "cell_type": "code",
   "execution_count": null,
   "id": "e2836915",
   "metadata": {},
   "outputs": [],
   "source": []
  },
  {
   "cell_type": "code",
   "execution_count": null,
   "id": "1d4a485f",
   "metadata": {},
   "outputs": [],
   "source": []
  },
  {
   "cell_type": "markdown",
   "id": "abstract-liabilities",
   "metadata": {},
   "source": [
    "## Question 08:\n",
    "\n",
    "One acre of land is equivalent to `43,560` square feet. Write a program that asks the user \n",
    "to enter the total square feet in a tract of land, and then calculates and display the number of acres in the tract.\n",
    "\n",
    "\n",
    "$$ \\mathbf{Number of Acres = \\frac{Total\\ Square\\ Feet}{43,560}}$$\n"
   ]
  },
  {
   "cell_type": "code",
   "execution_count": 15,
   "id": "brown-pharmacology",
   "metadata": {},
   "outputs": [],
   "source": [
    "# Here write your answer"
   ]
  },
  {
   "cell_type": "code",
   "execution_count": null,
   "id": "90c88941",
   "metadata": {},
   "outputs": [],
   "source": []
  },
  {
   "cell_type": "code",
   "execution_count": null,
   "id": "74c73dc4",
   "metadata": {},
   "outputs": [],
   "source": []
  },
  {
   "cell_type": "markdown",
   "id": "connected-rapid",
   "metadata": {},
   "source": [
    "## Question 09:\n",
    "\n",
    "\n",
    "There are three seating categories at a stadium. For a softball game, `Class A` seats cost \n",
    "$ \\$15$, `Class  B`  seats  cost $ \\$12 $, and `Class C` seats cost $ \\$9$. Write a program that asks how many  tickets for each class of seats were sold, and then displays the amount of income \n",
    "generated from ticket sales.\n",
    ".\n"
   ]
  },
  {
   "cell_type": "code",
   "execution_count": 17,
   "id": "structural-hazard",
   "metadata": {},
   "outputs": [],
   "source": [
    "# Here write your answer"
   ]
  },
  {
   "cell_type": "code",
   "execution_count": null,
   "id": "8e63db87",
   "metadata": {},
   "outputs": [],
   "source": []
  },
  {
   "cell_type": "code",
   "execution_count": null,
   "id": "3bb73da0",
   "metadata": {},
   "outputs": [],
   "source": []
  },
  {
   "cell_type": "markdown",
   "id": "independent-manor",
   "metadata": {},
   "source": [
    "## Question 10:\n",
    "Write a program in which create a list of 10 random integers and find the product of all elements of a list."
   ]
  },
  {
   "cell_type": "markdown",
   "id": "f8e03506",
   "metadata": {},
   "source": [
    "**First Method:**\n",
    "Using Functions and Loops"
   ]
  },
  {
   "cell_type": "code",
   "execution_count": null,
   "id": "primary-cheat",
   "metadata": {},
   "outputs": [],
   "source": []
  },
  {
   "cell_type": "code",
   "execution_count": null,
   "id": "80049710",
   "metadata": {},
   "outputs": [],
   "source": []
  },
  {
   "cell_type": "markdown",
   "id": "7f4ef83f",
   "metadata": {},
   "source": [
    "**Second Method :**\n",
    "\n",
    "- Firstly, we will get a List of 10 random integers using `random` module\n",
    "- Then we use functions and loops to find product of all the numbers of the list."
   ]
  },
  {
   "cell_type": "code",
   "execution_count": null,
   "id": "precise-location",
   "metadata": {},
   "outputs": [],
   "source": []
  },
  {
   "cell_type": "code",
   "execution_count": null,
   "id": "hundred-forum",
   "metadata": {},
   "outputs": [],
   "source": []
  },
  {
   "cell_type": "markdown",
   "id": "russian-squad",
   "metadata": {},
   "source": [
    "## Question 11:"
   ]
  },
  {
   "cell_type": "markdown",
   "id": "configured-affairs",
   "metadata": {},
   "source": [
    "Given the set definitions below, answer the following questions:    \n",
    "\n",
    "set1 = { 1, 2, 3, 4, 5 }   \n",
    "set2 = { 2, 4, 6, 8 }    \n",
    "set3 = { 1, 5, 9, 13, 17 }\n",
    "\n",
    "\n",
    "- Is set1 a subset of set2?\n",
    "- Is the intersection of set1 and set3 empty?\n",
    "- What is the result of performing set union on set1 and set2?\n",
    "- What is the result of performing set intersection on set2 and set3?\n",
    "- What is the result of performing set intersection on all three sets?\n",
    "- What is the result of performing the set difference on set1 and set2 (set1 – set2)?\n",
    "- What is the result of the instruction set1.discard(5)? \n",
    "- What is the result of the instruction set2.discard(5)? "
   ]
  },
  {
   "cell_type": "code",
   "execution_count": 230,
   "id": "3801fb4c",
   "metadata": {},
   "outputs": [],
   "source": [
    "# Here write your answer\n",
    "set1 = {1,2,3,4,5}\n",
    "set2 = {2,4,6,8}\n",
    "set3 = {1,5,9,13,17}"
   ]
  },
  {
   "cell_type": "code",
   "execution_count": 18,
   "id": "accurate-brazil",
   "metadata": {},
   "outputs": [],
   "source": [
    "# part no 01\n",
    "\n",
    "# part no 02\n",
    "\n",
    "# part no 03\n",
    "\n",
    "# part no 04:\n",
    "\n",
    "# part no 05\n",
    "\n",
    "# part no 06\n",
    "\n",
    "# part no 07\n",
    "\n",
    "# part no 08"
   ]
  },
  {
   "cell_type": "code",
   "execution_count": null,
   "id": "531c55fb",
   "metadata": {},
   "outputs": [],
   "source": []
  },
  {
   "cell_type": "code",
   "execution_count": null,
   "id": "a102ea39",
   "metadata": {},
   "outputs": [],
   "source": []
  },
  {
   "cell_type": "markdown",
   "id": "qualified-basketball",
   "metadata": {},
   "source": [
    "## Question 12:\n",
    "\n",
    "Given three sets, `set1`, `set2`, and `set3`, write Python statement(s) to perform the following actions: \n",
    "\n",
    "- Create a new set of all elements that are in set1 or set2, but not both.\n",
    "- Create a new set of all elements that are in only one of the three sets set1, set2, and set3.\n",
    "- Create a new set of all elements that are in exactly two of the sets set1, set2, and set3.\n",
    "- Create a new set of all integer elements in the range 1 through 25 that are not in set1.\n",
    "- Create a new set of all integer elements in the range 1 through 25 that are not in any of the three sets set1, set2, or set3.\n",
    "- Create a new set of all integer elements in the range 1 through 25 that are not in all three sets set1, set2, and set3."
   ]
  },
  {
   "cell_type": "markdown",
   "id": "c73e4666",
   "metadata": {},
   "source": [
    "Here you can also manully add elements in the sets by using loops.     \n",
    "But in this case, use `random` module to generate all sets"
   ]
  },
  {
   "cell_type": "code",
   "execution_count": null,
   "id": "a71f3e37",
   "metadata": {},
   "outputs": [],
   "source": []
  },
  {
   "cell_type": "code",
   "execution_count": 19,
   "id": "presidential-deadline",
   "metadata": {},
   "outputs": [],
   "source": [
    "# Here write your answer\n",
    "#     part no 01\n",
    "  \n",
    "#     part no 02\n",
    " \n",
    "#     part no 03\n",
    "\n",
    "#     part no 04\n",
    "\n",
    "#     part no 05\n",
    "\n",
    "#     part no 06"
   ]
  },
  {
   "cell_type": "code",
   "execution_count": null,
   "id": "dressed-reflection",
   "metadata": {},
   "outputs": [],
   "source": []
  },
  {
   "cell_type": "markdown",
   "id": "willing-massachusetts",
   "metadata": {},
   "source": [
    "## Question 13:\n",
    "\n",
    "Write a program that prompts the user to enter `two strings` and then prints the following:\n",
    "\n",
    "- The characters that are common to both strings.\n",
    "- The characters that appear in one string but not the other.\n",
    "- The characters that do not appear in either string.\n",
    "\n",
    "You can achieve this by utilizing the `set` function to convert a string into a set of characters.\n",
    "\n",
    "\n",
    "\n",
    "**Test Case:**\n",
    "\n",
    "Imagine two strings:\n",
    "\n",
    "- String A: \"hello\"\n",
    "- String B: \"world\"\n",
    "\n",
    "The expected outputs would be:\n",
    "\n",
    "- Common characters: \"o\"\n",
    "- Unique characters in String A: \"hel\"\n",
    "- Unique characters in String B: \"wrld\""
   ]
  },
  {
   "cell_type": "code",
   "execution_count": null,
   "id": "e5cb6ab5",
   "metadata": {},
   "outputs": [],
   "source": []
  },
  {
   "cell_type": "markdown",
   "id": "a935d63d",
   "metadata": {},
   "source": [
    "**First Method:**\n",
    "\n",
    "Using built-in set functions"
   ]
  },
  {
   "cell_type": "code",
   "execution_count": null,
   "id": "5384f4f1",
   "metadata": {},
   "outputs": [],
   "source": [
    "# Here write your code"
   ]
  },
  {
   "cell_type": "markdown",
   "id": "d7223cc3",
   "metadata": {},
   "source": [
    "**Second Method :**\n",
    "\n",
    "Using Loops and if statement"
   ]
  },
  {
   "cell_type": "code",
   "execution_count": 20,
   "id": "31e28e6e",
   "metadata": {},
   "outputs": [],
   "source": [
    "# Here write your code"
   ]
  },
  {
   "cell_type": "code",
   "execution_count": null,
   "id": "df202950",
   "metadata": {},
   "outputs": [],
   "source": []
  },
  {
   "cell_type": "code",
   "execution_count": null,
   "id": "electronic-action",
   "metadata": {},
   "outputs": [],
   "source": []
  },
  {
   "cell_type": "markdown",
   "id": "renewable-lightning",
   "metadata": {},
   "source": [
    "## Question 14:\n",
    "\n",
    "\n",
    "### Rainfall Statistics\n",
    "\n",
    "Develop a program that allows the user to input the total rainfall for each of the 12 months into a list. The program should then compute and present the following information:\n",
    "\n",
    "- Total rainfall for the entire year.\n",
    "- Average monthly rainfall.\n",
    "- Months with the highest and lowest amounts of rainfall.\n",
    "\n",
    "\n",
    "**Test Case:**\n",
    "\n",
    "Imagine the following monthly rainfall data (in inches):\n",
    "\n",
    "- January: 2\n",
    "- February: 3\n",
    "- March: 4\n",
    "- April: 2\n",
    "- May: 1\n",
    "- June: 5\n",
    "- July: 6\n",
    "- August: 4\n",
    "- September: 3\n",
    "- October: 2\n",
    "- November: 1\n",
    "- December: 2\n",
    "\n",
    "**Expected Results:**\n",
    "- Total annual rainfall: 35 inches\n",
    "- Average monthly rainfall: 2.92 inches\n",
    "- Highest rainfall month: July\n",
    "- Lowest rainfall month: May"
   ]
  },
  {
   "cell_type": "code",
   "execution_count": 21,
   "id": "environmental-generator",
   "metadata": {},
   "outputs": [],
   "source": [
    "# Here write your answer\n"
   ]
  },
  {
   "cell_type": "code",
   "execution_count": null,
   "id": "polar-competition",
   "metadata": {},
   "outputs": [],
   "source": []
  },
  {
   "cell_type": "markdown",
   "id": "infectious-appliance",
   "metadata": {},
   "source": [
    "## Question 15:\n",
    "\n",
    "Given the tuple `T1 = (1, 23, 4, 5, \"A\", [\"C\", \"D\"], (23, 45), 45)`:\n",
    "\n",
    "- a. Determine the total number of elements in the given tuple.\n",
    "- b. Find the index of a specific given element.\n",
    "- c. Find the occurrence count of a specific given element.\n",
    "- d. Print the characters \"CC\" using elements from the tuple.\n",
    "- e. Display the first 5 elements of the tuple.\n",
    "- f. Display the last 5 elements of the tuple.\n",
    "- g. Demonstrate how to obtain the output `(45, ['C', 'D'], 5)` from the given tuple.\n",
    "- h. Concatenate the elements of the tuples present at index 4 and 5.\n",
    "- i. Apply the `max()` function on the given tuple and note the output."
   ]
  },
  {
   "cell_type": "code",
   "execution_count": null,
   "id": "proper-aquarium",
   "metadata": {},
   "outputs": [],
   "source": []
  },
  {
   "cell_type": "code",
   "execution_count": 22,
   "id": "printable-forestry",
   "metadata": {},
   "outputs": [],
   "source": [
    "# part no 01\n",
    "\n",
    "# part no 02\n",
    "\n",
    "# part no 03\n",
    "\n",
    "# part no 04\n",
    "\n",
    "# part no 05\n",
    "\n",
    "# part no 06\n",
    "\n",
    "# part no 07\n",
    "\n",
    "# part no 08\n",
    "\n",
    "# part no 09\n"
   ]
  },
  {
   "cell_type": "code",
   "execution_count": null,
   "id": "completed-improvement",
   "metadata": {},
   "outputs": [],
   "source": []
  },
  {
   "cell_type": "code",
   "execution_count": null,
   "id": "09f1300b",
   "metadata": {},
   "outputs": [],
   "source": []
  },
  {
   "cell_type": "code",
   "execution_count": null,
   "id": "121e5b95",
   "metadata": {},
   "outputs": [],
   "source": []
  }
 ],
 "metadata": {
  "kernelspec": {
   "display_name": "Python 3 (ipykernel)",
   "language": "python",
   "name": "python3"
  },
  "language_info": {
   "codemirror_mode": {
    "name": "ipython",
    "version": 3
   },
   "file_extension": ".py",
   "mimetype": "text/x-python",
   "name": "python",
   "nbconvert_exporter": "python",
   "pygments_lexer": "ipython3",
   "version": "3.11.7"
  }
 },
 "nbformat": 4,
 "nbformat_minor": 5
}
