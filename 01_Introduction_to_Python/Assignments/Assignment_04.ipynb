{
 "cells": [
  {
   "cell_type": "markdown",
   "id": "67610864",
   "metadata": {},
   "source": [
    "<h1 align=\"center\">Practical Learning Data Science and Machine Learning - Assignment 04</h1>"
   ]
  },
  {
   "cell_type": "code",
   "execution_count": null,
   "id": "1136fe74",
   "metadata": {},
   "outputs": [],
   "source": []
  },
  {
   "cell_type": "code",
   "execution_count": null,
   "id": "76671182",
   "metadata": {},
   "outputs": [],
   "source": []
  },
  {
   "cell_type": "code",
   "execution_count": null,
   "id": "348dbde6",
   "metadata": {},
   "outputs": [],
   "source": []
  },
  {
   "cell_type": "markdown",
   "id": "proved-tomato",
   "metadata": {},
   "source": [
    "## Question 01:\n",
    "Look at the following statement: \n",
    "\n",
    "numbers = [10, 20, 30, 40, 50]\n",
    "\n",
    "- How many elements does the list have?\n",
    "- What is the index of the first element in the list?\n",
    "- What is the index of the last element in the list?"
   ]
  },
  {
   "cell_type": "code",
   "execution_count": 8,
   "id": "leading-spell",
   "metadata": {},
   "outputs": [
    {
     "data": {
      "text/plain": [
       "'\\n5 elements,\\nfirst element is at 0,\\nlast element is at 4\\n'"
      ]
     },
     "execution_count": 8,
     "metadata": {},
     "output_type": "execute_result"
    }
   ],
   "source": [
    "# Here write your answer\n",
    "\"\"\"\n",
    "5 elements,\n",
    "first element is at 0,\n",
    "last element is at 4\n",
    "\"\"\""
   ]
  },
  {
   "cell_type": "code",
   "execution_count": null,
   "id": "3e864b89",
   "metadata": {},
   "outputs": [],
   "source": []
  },
  {
   "cell_type": "code",
   "execution_count": null,
   "id": "british-transaction",
   "metadata": {},
   "outputs": [],
   "source": []
  },
  {
   "cell_type": "markdown",
   "id": "equal-surface",
   "metadata": {},
   "source": [
    "## Question 02:\n",
    "Look at the following statement:    \n",
    "\n",
    "numbers = [1, 2, 3]\n",
    "\n",
    "- What value is stored in numbers[2]?\n",
    "- What value is stored in numbers[0]?\n",
    "- What value is stored in numbers[-1]?"
   ]
  },
  {
   "cell_type": "code",
   "execution_count": 9,
   "id": "raising-learning",
   "metadata": {},
   "outputs": [
    {
     "data": {
      "text/plain": [
       "'\\n3,\\n1,\\n3\\n'"
      ]
     },
     "execution_count": 9,
     "metadata": {},
     "output_type": "execute_result"
    }
   ],
   "source": [
    "# Here write your answer\n",
    "\"\"\"\n",
    "3,\n",
    "1,\n",
    "3\n",
    "\"\"\""
   ]
  },
  {
   "cell_type": "code",
   "execution_count": null,
   "id": "e0e7395f",
   "metadata": {},
   "outputs": [],
   "source": []
  },
  {
   "cell_type": "code",
   "execution_count": null,
   "id": "extra-suspension",
   "metadata": {},
   "outputs": [],
   "source": []
  },
  {
   "cell_type": "markdown",
   "id": "blocked-warehouse",
   "metadata": {},
   "source": [
    "## Question 03:\n",
    "\n",
    "Assume the lists `numbers1` has 100 elements and `numbers2` is an empty list. Write\n",
    "code that copies the values in numbers1 to numbers2."
   ]
  },
  {
   "cell_type": "code",
   "execution_count": 10,
   "id": "occasional-feeling",
   "metadata": {},
   "outputs": [],
   "source": [
    "# Here write your answer\n",
    "import copy\n",
    "\n",
    "numbers1 = list(range(1,101))\n",
    "numbers2 = copy.deepcopy(numbers1)\n",
    "# or if you want me to do it manually,\n",
    "numbers2 = [n for n in numbers1]"
   ]
  },
  {
   "cell_type": "code",
   "execution_count": null,
   "id": "83f77873",
   "metadata": {},
   "outputs": [],
   "source": []
  },
  {
   "cell_type": "code",
   "execution_count": null,
   "id": "a5a6cea1",
   "metadata": {},
   "outputs": [],
   "source": []
  },
  {
   "cell_type": "markdown",
   "id": "coastal-orleans",
   "metadata": {},
   "source": [
    "## Question 04:\n",
    "\n",
    "### Number Analysis Program\n",
    "\n",
    "Design a program that asks the user to enter a `series of 5 numbers`. The program should\n",
    "store the numbers in a list and then display the following data:\n",
    "\n",
    "- The lowest number in the list\n",
    "- The highest number in the list\n",
    "- The total of the numbers in the list\n",
    "- The average of the numbers in the list"
   ]
  },
  {
   "cell_type": "code",
   "execution_count": 11,
   "id": "3a7ce918",
   "metadata": {},
   "outputs": [
    {
     "ename": "ValueError",
     "evalue": "could not convert string to float: ''",
     "output_type": "error",
     "traceback": [
      "\u001b[1;31m---------------------------------------------------------------------------\u001b[0m",
      "\u001b[1;31mValueError\u001b[0m                                Traceback (most recent call last)",
      "Cell \u001b[1;32mIn[11], line 3\u001b[0m\n\u001b[0;32m      1\u001b[0m \u001b[38;5;66;03m# Here write your answer\u001b[39;00m\n\u001b[0;32m      2\u001b[0m numbers_string \u001b[38;5;241m=\u001b[39m \u001b[38;5;28minput\u001b[39m(\u001b[38;5;124m\"\u001b[39m\u001b[38;5;124mPlease enter a series of 5 numbers separated by commas.\u001b[39m\u001b[38;5;124m\"\u001b[39m)\n\u001b[1;32m----> 3\u001b[0m numbers \u001b[38;5;241m=\u001b[39m [\u001b[38;5;28mfloat\u001b[39m(n) \u001b[38;5;28;01mfor\u001b[39;00m n \u001b[38;5;129;01min\u001b[39;00m numbers_string\u001b[38;5;241m.\u001b[39msplit(\u001b[38;5;124m\"\u001b[39m\u001b[38;5;124m,\u001b[39m\u001b[38;5;124m\"\u001b[39m)]\n\u001b[0;32m      5\u001b[0m lowest \u001b[38;5;241m=\u001b[39m highest \u001b[38;5;241m=\u001b[39m numbers[\u001b[38;5;241m0\u001b[39m]\n\u001b[0;32m      6\u001b[0m \u001b[38;5;28msum\u001b[39m \u001b[38;5;241m=\u001b[39m \u001b[38;5;241m0\u001b[39m\n",
      "Cell \u001b[1;32mIn[11], line 3\u001b[0m, in \u001b[0;36m<listcomp>\u001b[1;34m(.0)\u001b[0m\n\u001b[0;32m      1\u001b[0m \u001b[38;5;66;03m# Here write your answer\u001b[39;00m\n\u001b[0;32m      2\u001b[0m numbers_string \u001b[38;5;241m=\u001b[39m \u001b[38;5;28minput\u001b[39m(\u001b[38;5;124m\"\u001b[39m\u001b[38;5;124mPlease enter a series of 5 numbers separated by commas.\u001b[39m\u001b[38;5;124m\"\u001b[39m)\n\u001b[1;32m----> 3\u001b[0m numbers \u001b[38;5;241m=\u001b[39m [\u001b[38;5;28;43mfloat\u001b[39;49m\u001b[43m(\u001b[49m\u001b[43mn\u001b[49m\u001b[43m)\u001b[49m \u001b[38;5;28;01mfor\u001b[39;00m n \u001b[38;5;129;01min\u001b[39;00m numbers_string\u001b[38;5;241m.\u001b[39msplit(\u001b[38;5;124m\"\u001b[39m\u001b[38;5;124m,\u001b[39m\u001b[38;5;124m\"\u001b[39m)]\n\u001b[0;32m      5\u001b[0m lowest \u001b[38;5;241m=\u001b[39m highest \u001b[38;5;241m=\u001b[39m numbers[\u001b[38;5;241m0\u001b[39m]\n\u001b[0;32m      6\u001b[0m \u001b[38;5;28msum\u001b[39m \u001b[38;5;241m=\u001b[39m \u001b[38;5;241m0\u001b[39m\n",
      "\u001b[1;31mValueError\u001b[0m: could not convert string to float: ''"
     ]
    }
   ],
   "source": [
    "# Here write your answer\n",
    "numbers_string = input(\"Please enter a series of 5 numbers separated by commas.\")\n",
    "numbers = [float(n) for n in numbers_string.split(\",\")]\n",
    "\n",
    "lowest = highest = numbers[0]\n",
    "sum = 0\n",
    "for n in numbers:\n",
    "    if n < lowest:\n",
    "        lowest = n\n",
    "    if n > highest:\n",
    "        highest = n\n",
    "    sum += n\n",
    "\n",
    "average = sum / len(numbers)\n",
    "\n",
    "print(f\"The lowest number is {lowest}, the highest number is {highest}, the total sum is {sum}, and the average is {average:.2f}\")"
   ]
  },
  {
   "cell_type": "code",
   "execution_count": null,
   "id": "9b74f69c",
   "metadata": {},
   "outputs": [],
   "source": []
  },
  {
   "cell_type": "code",
   "execution_count": null,
   "id": "fcd0aa53",
   "metadata": {},
   "outputs": [],
   "source": []
  },
  {
   "cell_type": "markdown",
   "id": "marine-attendance",
   "metadata": {},
   "source": [
    "## Question 05:"
   ]
  },
  {
   "cell_type": "markdown",
   "id": "satellite-member",
   "metadata": {},
   "source": [
    "How do you perform the following tasks with lists in Python\n",
    "\n",
    "- Test that two lists contain the same elements in the same order.\n",
    "- Copy one list to another. \n",
    "- Fill a list with zeroes, overwriting all elements in it.\n",
    "- Remove all elements from a list.\n"
   ]
  },
  {
   "cell_type": "code",
   "execution_count": null,
   "id": "01f7bfee",
   "metadata": {},
   "outputs": [
    {
     "data": {
      "text/plain": [
       "True"
      ]
     },
     "execution_count": 13,
     "metadata": {},
     "output_type": "execute_result"
    }
   ],
   "source": [
    "# part no 01\n",
    "l1 = [1,3,3,7]\n",
    "l2 = [1,3,3,7]\n",
    "\n",
    "# equality operator\n",
    "l1 == l2"
   ]
  },
  {
   "cell_type": "code",
   "execution_count": null,
   "id": "a19e4a2d",
   "metadata": {},
   "outputs": [
    {
     "data": {
      "text/plain": [
       "[1, 3, 3, 7]"
      ]
     },
     "execution_count": 15,
     "metadata": {},
     "output_type": "execute_result"
    }
   ],
   "source": [
    "# part no 02\n",
    "\n",
    "# list comprehension\n",
    "list_copy = [n for n in l1]\n",
    "list_copy"
   ]
  },
  {
   "cell_type": "code",
   "execution_count": null,
   "id": "7fba0392",
   "metadata": {},
   "outputs": [
    {
     "data": {
      "text/plain": [
       "[0, 0, 0, 0]"
      ]
     },
     "execution_count": 16,
     "metadata": {},
     "output_type": "execute_result"
    }
   ],
   "source": [
    "# part no 03\n",
    "list_zeroes = [0 for n in l1]\n",
    "list_zeroes"
   ]
  },
  {
   "cell_type": "code",
   "execution_count": null,
   "id": "00f763f3",
   "metadata": {},
   "outputs": [
    {
     "name": "stdout",
     "output_type": "stream",
     "text": [
      "[1, 3, 3]\n",
      "[1, 3]\n",
      "[1]\n",
      "[]\n"
     ]
    }
   ],
   "source": [
    "# part no 04\n",
    "while (list_copy):\n",
    "    list_copy.pop(-1)\n",
    "    print(list_copy)"
   ]
  },
  {
   "cell_type": "code",
   "execution_count": null,
   "id": "bf59e33f",
   "metadata": {},
   "outputs": [],
   "source": []
  },
  {
   "cell_type": "markdown",
   "id": "crazy-locking",
   "metadata": {},
   "source": [
    "## Question 06:\n",
    "\n",
    "Write a program that initializes a list with ten random integers and then prints four lines of output, each containing:\n",
    "\n",
    "- Every element at an even index.\n",
    "- Every even element.\n",
    "- All elements in reverse order.\n",
    "- Only the first and last elements."
   ]
  },
  {
   "cell_type": "code",
   "execution_count": null,
   "id": "5726cca5",
   "metadata": {},
   "outputs": [
    {
     "data": {
      "text/plain": [
       "[59, 501, 812, 959, 642, 541, 710, 47, 31, 789]"
      ]
     },
     "execution_count": 28,
     "metadata": {},
     "output_type": "execute_result"
    }
   ],
   "source": [
    "# Here write your answer\n",
    "import random\n",
    "random_list = [random.randint(1,1000) for i in range(10)]\n",
    "random_list"
   ]
  },
  {
   "cell_type": "code",
   "execution_count": null,
   "id": "7dd10551",
   "metadata": {},
   "outputs": [
    {
     "name": "stdout",
     "output_type": "stream",
     "text": [
      "59 812 642 710 31 \n",
      "812 642 710 \n",
      "789 31 47 710 541 642 959 812 501 59 \n"
     ]
    }
   ],
   "source": [
    "for i in range(len(random_list)):\n",
    "    if not i % 2:\n",
    "        print(f\"{random_list[i]} \", end=\"\")\n",
    "\n",
    "print()\n",
    "for n in random_list:\n",
    "    if not n % 2:\n",
    "        print(f\"{n} \", end=\"\")\n",
    "\n",
    "print()\n",
    "reverse_string = \"\"\n",
    "for n in random_list:\n",
    "    reverse_string = f\"{n} {reverse_string}\"\n",
    "print(reverse_string)"
   ]
  },
  {
   "cell_type": "code",
   "execution_count": null,
   "id": "quarterly-bridal",
   "metadata": {},
   "outputs": [],
   "source": []
  },
  {
   "cell_type": "markdown",
   "id": "bored-homework",
   "metadata": {},
   "source": [
    "## Question 07:\n",
    "Write a function `removeMin` that removes the minimum value from a list without using the `min` function or `remove` method. "
   ]
  },
  {
   "cell_type": "code",
   "execution_count": null,
   "id": "e1d34eb5",
   "metadata": {},
   "outputs": [
    {
     "name": "stdout",
     "output_type": "stream",
     "text": [
      "[140, 113, 998, 923, 747, 930, 535, 44, 473, 315, 813, 672, 212, 341, 709, 302, 41, 343, 291, 113]\n",
      "[140, 113, 998, 923, 747, 930, 535, 44, 473, 315, 813, 672, 212, 341, 709, 302, 343, 291, 113]\n"
     ]
    }
   ],
   "source": [
    "# 1st Method\n",
    "# Here write your answer\n",
    "random_list = [random.randint(1,1000) for i in range(20)]\n",
    "min_val = random_list[0]\n",
    "for n in random_list:\n",
    "    if n < min_val:\n",
    "        min_val = n\n",
    "\n",
    "new_list = [n for n in random_list if not n==min_val]\n",
    "print(random_list)\n",
    "print(new_list)"
   ]
  },
  {
   "cell_type": "code",
   "execution_count": null,
   "id": "53723a71",
   "metadata": {},
   "outputs": [],
   "source": [
    "# 2nd Method using for loop and if statement"
   ]
  },
  {
   "cell_type": "code",
   "execution_count": null,
   "id": "e2836915",
   "metadata": {},
   "outputs": [],
   "source": []
  },
  {
   "cell_type": "code",
   "execution_count": null,
   "id": "1d4a485f",
   "metadata": {},
   "outputs": [],
   "source": []
  },
  {
   "cell_type": "markdown",
   "id": "abstract-liabilities",
   "metadata": {},
   "source": [
    "## Question 08:\n",
    "\n",
    "One acre of land is equivalent to `43,560` square feet. Write a program that asks the user \n",
    "to enter the total square feet in a tract of land, and then calculates and display the number of acres in the tract.\n",
    "\n",
    "\n",
    "$$ \\mathbf{Number of Acres = \\frac{Total\\ Square\\ Feet}{43,560}}$$\n"
   ]
  },
  {
   "cell_type": "code",
   "execution_count": null,
   "id": "brown-pharmacology",
   "metadata": {},
   "outputs": [
    {
     "name": "stdout",
     "output_type": "stream",
     "text": [
      "This is equal to 1.2483471074380166 acres\n"
     ]
    }
   ],
   "source": [
    "# Here write your answer\n",
    "sqft = int(input(\"Please enter a number of square feet\"))\n",
    "print(f\"This is equal to {sqft/43560} acres\")"
   ]
  },
  {
   "cell_type": "code",
   "execution_count": null,
   "id": "90c88941",
   "metadata": {},
   "outputs": [],
   "source": []
  },
  {
   "cell_type": "code",
   "execution_count": null,
   "id": "74c73dc4",
   "metadata": {},
   "outputs": [],
   "source": []
  },
  {
   "cell_type": "markdown",
   "id": "connected-rapid",
   "metadata": {},
   "source": [
    "## Question 09:\n",
    "\n",
    "\n",
    "There are three seating categories at a stadium. For a softball game, `Class A` seats cost \n",
    "$ \\$15$, `Class  B`  seats  cost $ \\$12 $, and `Class C` seats cost $ \\$9$. Write a program that asks how many  tickets for each class of seats were sold, and then displays the amount of income \n",
    "generated from ticket sales.\n",
    ".\n"
   ]
  },
  {
   "cell_type": "code",
   "execution_count": null,
   "id": "structural-hazard",
   "metadata": {},
   "outputs": [],
   "source": [
    "# Here write your answer\n",
    "class_a = int(input(\"How many Class A tickets were sold?\"))\n",
    "class_b = int(input(\"How many Class B tickets were sold?\"))\n",
    "class_c = int(input(\"How many Class C tickets were sold?\"))\n",
    "\n",
    "total = class_a * 15 + class_b * 12 + class_a * 9"
   ]
  },
  {
   "cell_type": "code",
   "execution_count": null,
   "id": "8e63db87",
   "metadata": {},
   "outputs": [],
   "source": []
  },
  {
   "cell_type": "code",
   "execution_count": null,
   "id": "3bb73da0",
   "metadata": {},
   "outputs": [],
   "source": []
  },
  {
   "cell_type": "markdown",
   "id": "independent-manor",
   "metadata": {},
   "source": [
    "## Question 10:\n",
    "Write a program in which create a list of 10 random integers and find the product of all elements of a list."
   ]
  },
  {
   "cell_type": "markdown",
   "id": "f8e03506",
   "metadata": {},
   "source": [
    "**First Method:**\n",
    "Using Functions and Loops"
   ]
  },
  {
   "cell_type": "code",
   "execution_count": null,
   "id": "primary-cheat",
   "metadata": {},
   "outputs": [
    {
     "name": "stdout",
     "output_type": "stream",
     "text": [
      "174960\n"
     ]
    }
   ],
   "source": [
    "random_list = [random.randint(1,10) for i in range(10)]\n",
    "\n",
    "product = 0\n",
    "for n in random_list:\n",
    "    if not product:\n",
    "        product = n\n",
    "    else:\n",
    "        product = product * n\n",
    "\n",
    "print(product)"
   ]
  },
  {
   "cell_type": "code",
   "execution_count": null,
   "id": "80049710",
   "metadata": {},
   "outputs": [],
   "source": []
  },
  {
   "cell_type": "markdown",
   "id": "7f4ef83f",
   "metadata": {},
   "source": [
    "**Second Method :**\n",
    "\n",
    "- Firstly, we will get a List of 10 random integers using `random` module\n",
    "- Then we use functions and loops to find product of all the numbers of the list."
   ]
  },
  {
   "cell_type": "code",
   "execution_count": null,
   "id": "precise-location",
   "metadata": {},
   "outputs": [],
   "source": []
  },
  {
   "cell_type": "code",
   "execution_count": null,
   "id": "hundred-forum",
   "metadata": {},
   "outputs": [],
   "source": []
  },
  {
   "cell_type": "markdown",
   "id": "russian-squad",
   "metadata": {},
   "source": [
    "## Question 11:"
   ]
  },
  {
   "cell_type": "markdown",
   "id": "configured-affairs",
   "metadata": {},
   "source": [
    "Given the set definitions below, answer the following questions:    \n",
    "\n",
    "set1 = { 1, 2, 3, 4, 5 }   \n",
    "set2 = { 2, 4, 6, 8 }    \n",
    "set3 = { 1, 5, 9, 13, 17 }\n",
    "\n",
    "\n",
    "- Is set1 a subset of set2?\n",
    "- Is the intersection of set1 and set3 empty?\n",
    "- What is the result of performing set union on set1 and set2?\n",
    "- What is the result of performing set intersection on set2 and set3?\n",
    "- What is the result of performing set intersection on all three sets?\n",
    "- What is the result of performing the set difference on set1 and set2 (set1 – set2)?\n",
    "- What is the result of the instruction set1.discard(5)? \n",
    "- What is the result of the instruction set2.discard(5)? "
   ]
  },
  {
   "cell_type": "code",
   "execution_count": null,
   "id": "3801fb4c",
   "metadata": {},
   "outputs": [],
   "source": [
    "# Here write your answer\n",
    "set1 = {1,2,3,4,5}\n",
    "set2 = {2,4,6,8}\n",
    "set3 = {1,5,9,13,17}"
   ]
  },
  {
   "cell_type": "code",
   "execution_count": null,
   "id": "accurate-brazil",
   "metadata": {},
   "outputs": [
    {
     "name": "stdout",
     "output_type": "stream",
     "text": [
      "{1, 2, 3, 4, 6, 8}\n",
      "set()\n",
      "set()\n",
      "{1, 3}\n",
      "None\n",
      "{1, 2, 3, 4}\n",
      "None\n",
      "{8, 2, 4, 6}\n"
     ]
    }
   ],
   "source": [
    "# part no 01\n",
    "\"\"\"No\"\"\"\n",
    "\n",
    "# part no 02\n",
    "\"\"\"No\"\"\"\n",
    "\n",
    "# part no 03\n",
    "print(set1.union(set2))\n",
    "\n",
    "# part no 04:\n",
    "print(set2.intersection(set3))\n",
    "\n",
    "# part no 05\n",
    "print((set1.intersection(set2)).intersection(set3))\n",
    "\n",
    "# part no 06\n",
    "print( set1 - set2 )\n",
    "\n",
    "# part no 07\n",
    "print( set1.discard(5) )\n",
    "print( set1 )\n",
    "\n",
    "# part no 08\n",
    "print( set2.discard(5) )\n",
    "print( set2 )"
   ]
  },
  {
   "cell_type": "code",
   "execution_count": null,
   "id": "531c55fb",
   "metadata": {},
   "outputs": [],
   "source": []
  },
  {
   "cell_type": "code",
   "execution_count": null,
   "id": "a102ea39",
   "metadata": {},
   "outputs": [],
   "source": []
  },
  {
   "cell_type": "markdown",
   "id": "qualified-basketball",
   "metadata": {},
   "source": [
    "## Question 12:\n",
    "\n",
    "Given three sets, `set1`, `set2`, and `set3`, write Python statement(s) to perform the following actions: \n",
    "\n",
    "- Create a new set of all elements that are in set1 or set2, but not both.\n",
    "- Create a new set of all elements that are in only one of the three sets set1, set2, and set3.\n",
    "- Create a new set of all elements that are in exactly two of the sets set1, set2, and set3.\n",
    "- Create a new set of all integer elements in the range 1 through 25 that are not in set1.\n",
    "- Create a new set of all integer elements in the range 1 through 25 that are not in any of the three sets set1, set2, or set3.\n",
    "- Create a new set of all integer elements in the range 1 through 25 that are not in all three sets set1, set2, and set3."
   ]
  },
  {
   "cell_type": "markdown",
   "id": "c73e4666",
   "metadata": {},
   "source": [
    "Here you can also manully add elements in the sets by using loops.     \n",
    "But in this case, use `random` module to generate all sets"
   ]
  },
  {
   "cell_type": "code",
   "execution_count": 87,
   "id": "a71f3e37",
   "metadata": {},
   "outputs": [
    {
     "name": "stdout",
     "output_type": "stream",
     "text": [
      "{1, 9, 44, 14, 48, 20, 24, 27, 29, 30}\n",
      "{1, 34, 4, 7, 41, 20, 26, 29}\n",
      "{5, 6, 10, 44, 45, 46, 47, 48, 29}\n"
     ]
    }
   ],
   "source": [
    "# random\n",
    "import random\n",
    "set1 = set()\n",
    "set2 = set()\n",
    "set3 = set()\n",
    "for n in range(10):\n",
    "    set1.add(random.randint(1,50))\n",
    "    set2.add(random.randint(1,50))\n",
    "    set3.add(random.randint(1,50))\n",
    "\n",
    "print(set1)\n",
    "print(set2)\n",
    "print(set3)"
   ]
  },
  {
   "cell_type": "code",
   "execution_count": 88,
   "id": "presidential-deadline",
   "metadata": {},
   "outputs": [
    {
     "name": "stdout",
     "output_type": "stream",
     "text": [
      "{2, 3, 4, 5, 6, 7, 8, 10, 11, 12, 13, 15, 16, 17, 18, 19, 21, 22, 23, 25}\n",
      "{2, 3, 8, 11, 12, 13, 15, 16, 17, 18, 19, 21, 22, 23, 25}\n"
     ]
    }
   ],
   "source": [
    "# Here write your answer\n",
    "#     part no 01\n",
    "s1 = set1 ^ set2\n",
    "  \n",
    "#     part no 02\n",
    "s2 = s1 ^ set3\n",
    " \n",
    "#     part no 03\n",
    "i1 = set1.intersection(set2)\n",
    "i2 = set1.intersection(set3)\n",
    "i3 = set2.intersection(set3)\n",
    "\n",
    "s3 = (i1 | i2 | i3) - (set1 & set2 & set3)\n",
    "\n",
    "#     part no 04\n",
    "s4 = set()\n",
    "[s4.add(i) for i in range(1, 26) if not i in set1]\n",
    "print(s4)\n",
    "\n",
    "#     part no 05\n",
    "s5 = set()\n",
    "[s5.add(i) for i in range(1, 26) if (not i in set1) and (not i in set2) and (not i in set3)]\n",
    "print(s5)\n",
    "#     part no 06\n",
    "s6 = set() \n",
    "tmp = (set1 | set2 | set3)\n",
    "[s5.add(i) for i in range(1, 26) if not i in tmp]\n",
    "print(s6)\n"
   ]
  },
  {
   "cell_type": "code",
   "execution_count": null,
   "id": "dressed-reflection",
   "metadata": {},
   "outputs": [],
   "source": []
  },
  {
   "cell_type": "markdown",
   "id": "willing-massachusetts",
   "metadata": {},
   "source": [
    "## Question 13:\n",
    "\n",
    "Write a program that prompts the user to enter `two strings` and then prints the following:\n",
    "\n",
    "- The characters that are common to both strings.\n",
    "- The characters that appear in one string but not the other.\n",
    "- The characters that do not appear in either string.\n",
    "\n",
    "You can achieve this by utilizing the `set` function to convert a string into a set of characters.\n",
    "\n",
    "\n",
    "\n",
    "**Test Case:**\n",
    "\n",
    "Imagine two strings:\n",
    "\n",
    "- String A: \"hello\"\n",
    "- String B: \"world\"\n",
    "\n",
    "The expected outputs would be:\n",
    "\n",
    "- Common characters: \"o\"\n",
    "- Unique characters in String A: \"hel\"\n",
    "- Unique characters in String B: \"wrld\""
   ]
  },
  {
   "cell_type": "code",
   "execution_count": 92,
   "id": "e5cb6ab5",
   "metadata": {},
   "outputs": [
    {
     "name": "stdout",
     "output_type": "stream",
     "text": [
      "{'h', 'j', 'v', 'e', 'u', 'i', 'f', 't', 'o', 'k', 'g', 'y', 'n', 'a', 'r'}\n"
     ]
    }
   ],
   "source": [
    "# str1 = input(\"Please enter a string\")\n",
    "# str2 = input(\"Please enter another string\")\n",
    "str1 = \"frhiuehytgkroeo\"\n",
    "str2 = \"fjriegfrvahgrfon\"\n",
    "\n",
    "s1 = set(list(str1))\n",
    "s2 = set(list(str2))\n",
    "print( s1 | s2 )\n",
    "print( s1 ^ s2 )\n",
    "\n",
    "# > The characters that do not appear in either string.\n",
    "# What does this mean??\n"
   ]
  },
  {
   "cell_type": "markdown",
   "id": "a935d63d",
   "metadata": {},
   "source": [
    "**First Method:**\n",
    "\n",
    "Using built-in set functions"
   ]
  },
  {
   "cell_type": "code",
   "execution_count": null,
   "id": "5384f4f1",
   "metadata": {},
   "outputs": [],
   "source": [
    "# Here write your code\n"
   ]
  },
  {
   "cell_type": "markdown",
   "id": "d7223cc3",
   "metadata": {},
   "source": [
    "**Second Method :**\n",
    "\n",
    "Using Loops and if statement"
   ]
  },
  {
   "cell_type": "code",
   "execution_count": 94,
   "id": "31e28e6e",
   "metadata": {},
   "outputs": [
    {
     "name": "stdout",
     "output_type": "stream",
     "text": [
      "['f', 'r', 'h', 'i', 'e', 'h', 'g', 'r', 'o', 'e', 'o']\n",
      "['u', 'y', 't', 'k', 'j', 'v', 'a', 'n']\n"
     ]
    }
   ],
   "source": [
    "# Here write your code\n",
    "print( [c for c in str1 if c in list(str2)] )\n",
    "print( [c for c in list(str1 + str2) if not (c in str1 and c in str2) ] )"
   ]
  },
  {
   "cell_type": "code",
   "execution_count": 93,
   "id": "df202950",
   "metadata": {},
   "outputs": [
    {
     "data": {
      "text/plain": [
       "'frhiuehytgkroeofjriegfrvahgrfon'"
      ]
     },
     "execution_count": 93,
     "metadata": {},
     "output_type": "execute_result"
    }
   ],
   "source": []
  },
  {
   "cell_type": "code",
   "execution_count": null,
   "id": "electronic-action",
   "metadata": {},
   "outputs": [],
   "source": []
  },
  {
   "cell_type": "markdown",
   "id": "renewable-lightning",
   "metadata": {},
   "source": [
    "## Question 14:\n",
    "\n",
    "\n",
    "### Rainfall Statistics\n",
    "\n",
    "Develop a program that allows the user to input the total rainfall for each of the 12 months into a list. The program should then compute and present the following information:\n",
    "\n",
    "- Total rainfall for the entire year.\n",
    "- Average monthly rainfall.\n",
    "- Months with the highest and lowest amounts of rainfall.\n",
    "\n",
    "\n",
    "**Test Case:**\n",
    "\n",
    "Imagine the following monthly rainfall data (in inches):\n",
    "\n",
    "- January: 2\n",
    "- February: 3\n",
    "- March: 4\n",
    "- April: 2\n",
    "- May: 1\n",
    "- June: 5\n",
    "- July: 6\n",
    "- August: 4\n",
    "- September: 3\n",
    "- October: 2\n",
    "- November: 1\n",
    "- December: 2\n",
    "\n",
    "**Expected Results:**\n",
    "- Total annual rainfall: 35 inches\n",
    "- Average monthly rainfall: 2.92 inches\n",
    "- Highest rainfall month: July\n",
    "- Lowest rainfall month: May"
   ]
  },
  {
   "cell_type": "code",
   "execution_count": 98,
   "id": "environmental-generator",
   "metadata": {},
   "outputs": [
    {
     "name": "stdout",
     "output_type": "stream",
     "text": [
      "923.5\n",
      "76.95833333333333\n",
      "654.0\n",
      "1.0\n"
     ]
    }
   ],
   "source": [
    "# Here write your answer\n",
    "# s1 = input(\"Please enter a list of the rainfall for each month separated by commas\")\n",
    "s1 = \"43,8,1,654,2,47,54.3,76,9,13,5,11.2\"\n",
    "l1 = [float(n) for n in s1.split(\",\")]\n",
    "print(sum(l1))\n",
    "print(sum(l1) / len(l1))\n",
    "highest = l1[0]\n",
    "lowest = l1[0]\n",
    "\n",
    "for n in l1:\n",
    "    if n > highest:\n",
    "        highest = n\n",
    "    if n < lowest:\n",
    "        lowest = n\n",
    "print(highest)\n",
    "print(lowest)"
   ]
  },
  {
   "cell_type": "code",
   "execution_count": null,
   "id": "polar-competition",
   "metadata": {},
   "outputs": [],
   "source": []
  },
  {
   "cell_type": "markdown",
   "id": "infectious-appliance",
   "metadata": {},
   "source": [
    "## Question 15:\n",
    "\n",
    "Given the tuple `T1 = (1, 23, 4, 5, \"A\", [\"C\", \"D\"], (23, 45), 45)`:\n",
    "\n",
    "- a. Determine the total number of elements in the given tuple.\n",
    "- b. Find the index of a specific given element.\n",
    "- c. Find the occurrence count of a specific given element.\n",
    "- d. Print the characters \"CC\" using elements from the tuple.\n",
    "- e. Display the first 5 elements of the tuple.\n",
    "- f. Display the last 5 elements of the tuple.\n",
    "- g. Demonstrate how to obtain the output `(45, ['C', 'D'], 5)` from the given tuple.\n",
    "- h. Concatenate the elements of the tuples present at index 4 and 5.\n",
    "- i. Apply the `max()` function on the given tuple and note the output."
   ]
  },
  {
   "cell_type": "code",
   "execution_count": 99,
   "id": "proper-aquarium",
   "metadata": {},
   "outputs": [],
   "source": [
    "T1 = (1, 23, 4, 5, \"A\", [\"C\", \"D\"], (23, 45), 45)"
   ]
  },
  {
   "cell_type": "code",
   "execution_count": null,
   "id": "printable-forestry",
   "metadata": {},
   "outputs": [
    {
     "name": "stdout",
     "output_type": "stream",
     "text": [
      "10\n",
      "4\n",
      "2\n",
      "CC\n",
      "(1, 23, 4, 5, 'A')\n",
      "(5, 'A', ['C', 'D'], (23, 45), 45)\n",
      "(45, ['C', 'D'], 5)\n",
      "('A', ['C', 'D'])\n"
     ]
    },
    {
     "ename": "TypeError",
     "evalue": "'>' not supported between instances of 'str' and 'int'",
     "output_type": "error",
     "traceback": [
      "\u001b[1;31m---------------------------------------------------------------------------\u001b[0m",
      "\u001b[1;31mTypeError\u001b[0m                                 Traceback (most recent call last)",
      "Cell \u001b[1;32mIn[130], line 37\u001b[0m\n\u001b[0;32m     34\u001b[0m \u001b[38;5;28mprint\u001b[39m((   T1[\u001b[38;5;241m4\u001b[39m], T1[\u001b[38;5;241m5\u001b[39m]    ))\n\u001b[0;32m     36\u001b[0m \u001b[38;5;66;03m# part no 09\u001b[39;00m\n\u001b[1;32m---> 37\u001b[0m \u001b[38;5;28;43mmax\u001b[39;49m\u001b[43m(\u001b[49m\u001b[43mT1\u001b[49m\u001b[43m)\u001b[49m\n",
      "\u001b[1;31mTypeError\u001b[0m: '>' not supported between instances of 'str' and 'int'"
     ]
    }
   ],
   "source": [
    "# Do you want the total number of top-level elements or do you want the flattened number of elements??\n",
    "\n",
    "# part no 01\n",
    "l1 = []\n",
    "for e in T1:\n",
    "    if isinstance(e, tuple) or isinstance(e, list):\n",
    "        l1.extend(e)\n",
    "    else:\n",
    "        l1.append(e)\n",
    "\n",
    "print(len(l1))\n",
    "\n",
    "# part no 02\n",
    "print(T1.index(\"A\"))\n",
    "\n",
    "# part no 03\n",
    "print(l1.count(23))\n",
    "\n",
    "# part no 04\n",
    "# what does this mean??\n",
    "print(T1[5][0]+T1[5][0])\n",
    "\n",
    "# part no 05\n",
    "print(T1[:5])\n",
    "\n",
    "# part no 06\n",
    "print(T1[-5:])\n",
    "\n",
    "# part no 07\n",
    "print((T1[-1],)+(T1[-3],)+(T1[3],))\n",
    "\n",
    "# part no 08\n",
    "# there is no tuple present at index 4??\n",
    "print((   T1[4], T1[5]    ))\n",
    "\n",
    "# part no 09\n",
    "max(T1)\n",
    "\"\"\"appears to be unable to support different datatypes without type conversion\"\"\"\n"
   ]
  },
  {
   "cell_type": "code",
   "execution_count": null,
   "id": "completed-improvement",
   "metadata": {},
   "outputs": [
    {
     "data": {
      "text/plain": [
       "(2,)"
      ]
     },
     "execution_count": 123,
     "metadata": {},
     "output_type": "execute_result"
    }
   ],
   "source": []
  },
  {
   "cell_type": "code",
   "execution_count": null,
   "id": "09f1300b",
   "metadata": {},
   "outputs": [],
   "source": []
  },
  {
   "cell_type": "code",
   "execution_count": null,
   "id": "121e5b95",
   "metadata": {},
   "outputs": [],
   "source": []
  }
 ],
 "metadata": {
  "kernelspec": {
   "display_name": "Python 3",
   "language": "python",
   "name": "python3"
  },
  "language_info": {
   "codemirror_mode": {
    "name": "ipython",
    "version": 3
   },
   "file_extension": ".py",
   "mimetype": "text/x-python",
   "name": "python",
   "nbconvert_exporter": "python",
   "pygments_lexer": "ipython3",
   "version": "3.10.6"
  }
 },
 "nbformat": 4,
 "nbformat_minor": 5
}
