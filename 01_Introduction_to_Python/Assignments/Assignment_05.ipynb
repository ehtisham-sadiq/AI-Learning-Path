{
 "cells": [
  {
   "cell_type": "markdown",
   "id": "forbidden-astrology",
   "metadata": {},
   "source": [
    "<h1 align=\"center\">Practical Learning Data Science and Machine Learning - Assignment 05</h1>"
   ]
  },
  {
   "cell_type": "code",
   "execution_count": null,
   "id": "8e3b5b9a",
   "metadata": {},
   "outputs": [],
   "source": []
  },
  {
   "cell_type": "code",
   "execution_count": null,
   "id": "733c232e",
   "metadata": {},
   "outputs": [],
   "source": []
  },
  {
   "cell_type": "markdown",
   "id": "recorded-canal",
   "metadata": {},
   "source": [
    "## Question no 01:\n",
    "\n",
    "Suppose `x` and `y` are variables, each containing a number. Write a code fragment that assigns the value of `x` to `y` if `x` is positive, and assigns `0` to `y` otherwise."
   ]
  },
  {
   "cell_type": "code",
   "execution_count": 2,
   "id": "existing-sunglasses",
   "metadata": {},
   "outputs": [],
   "source": [
    "# Here write your answer\n",
    "x, y = 4, 5\n",
    "y = x if x > 0 else 0"
   ]
  },
  {
   "cell_type": "code",
   "execution_count": null,
   "id": "impaired-angola",
   "metadata": {},
   "outputs": [],
   "source": []
  },
  {
   "cell_type": "code",
   "execution_count": null,
   "id": "humanitarian-bibliography",
   "metadata": {},
   "outputs": [],
   "source": []
  },
  {
   "cell_type": "markdown",
   "id": "analyzed-timothy",
   "metadata": {},
   "source": [
    "## Question no 02:\n",
    "Write a Python program prints all integers that aren’t divisible by either 2 or 3 and lies between 1 and 50."
   ]
  },
  {
   "cell_type": "code",
   "execution_count": 3,
   "id": "favorite-example",
   "metadata": {},
   "outputs": [
    {
     "name": "stdout",
     "output_type": "stream",
     "text": [
      "1\n",
      "5\n",
      "7\n",
      "11\n",
      "13\n",
      "17\n",
      "19\n",
      "23\n",
      "25\n",
      "29\n",
      "31\n",
      "35\n",
      "37\n",
      "41\n",
      "43\n",
      "47\n",
      "49\n"
     ]
    }
   ],
   "source": [
    "# Here write your answer\n",
    "for i in range(1,51):\n",
    "    if (not i % 2 == 0) and (not i % 3 == 0):\n",
    "        print(i)"
   ]
  },
  {
   "cell_type": "code",
   "execution_count": null,
   "id": "amateur-sauce",
   "metadata": {},
   "outputs": [],
   "source": []
  },
  {
   "cell_type": "markdown",
   "id": "broad-medicare",
   "metadata": {},
   "source": [
    "## Question no 03:\n",
    "The program takes a number n and computes this series n+nn+nnn+nnnn+....+nnnnnnnnnn. Also store result of each term of series in a list. \n",
    "\n",
    "**Input** n = 12\n",
    "\n",
    "**Output**  `[12, 144, 1728, 20736, 248832, 2985984, 35831808, 429981696, 5159780352, 61917364224, 743008370688, 8916100448256]`"
   ]
  },
  {
   "cell_type": "code",
   "execution_count": null,
   "id": "posted-intro",
   "metadata": {},
   "outputs": [],
   "source": [
    "# Here write your answer"
   ]
  },
  {
   "cell_type": "code",
   "execution_count": 4,
   "id": "be3f3a60",
   "metadata": {},
   "outputs": [
    {
     "name": "stdout",
     "output_type": "stream",
     "text": [
      "[12, 144, 1728, 20736, 248832, 2985984, 35831808, 429981696, 5159780352, 61917364224, 743008370688, 8916100448256]\n",
      "9726655034460\n"
     ]
    }
   ],
   "source": [
    "# assuming you mean n*n + n*n*n + n*n*n*n +.... up to n^n, but it's not clear \n",
    "n = 12\n",
    "terms = []\n",
    "for i in range(n):\n",
    "    terms.append( n**(i+1) )\n",
    "\n",
    "print(terms)\n",
    "print(sum(terms))\n"
   ]
  },
  {
   "cell_type": "code",
   "execution_count": null,
   "id": "9a9d3ad3",
   "metadata": {},
   "outputs": [
    {
     "data": {
      "text/plain": [
       "432"
      ]
     },
     "execution_count": 4,
     "metadata": {},
     "output_type": "execute_result"
    }
   ],
   "source": []
  },
  {
   "cell_type": "code",
   "execution_count": null,
   "id": "f341d9da",
   "metadata": {},
   "outputs": [],
   "source": []
  },
  {
   "cell_type": "markdown",
   "id": "cutting-tender",
   "metadata": {},
   "source": [
    "## Question no 04:\n",
    "The program takes in an integer and prints the highest and smallest divisor of the given integer.\n",
    "##### Hint : use loop and list\n",
    "\n",
    "**Input**: Number = 15\n",
    "\n",
    "**Output**: \n",
    "\n",
    "`Highest Divisor of 15 is :  15` <br>\n",
    "`Smallest Divisor of 15 is :  3`"
   ]
  },
  {
   "cell_type": "code",
   "execution_count": 10,
   "id": "223bf981",
   "metadata": {},
   "outputs": [
    {
     "name": "stdout",
     "output_type": "stream",
     "text": [
      "The smallest divisor is 19 and the largest divisor is 19\n"
     ]
    }
   ],
   "source": [
    "# Here write your code\n",
    "# s1 = int(input(\"Please enter an integer\"))\n",
    "s1 = 19\n",
    "halfway = s1 // 2\n",
    "smallest_divisor = 0\n",
    "for i in range(2, halfway+1):\n",
    "    if not s1 % i:\n",
    "        smallest_divisor = i\n",
    "        break\n",
    "\n",
    "if not smallest_divisor:\n",
    "    smallest_divisor = s1\n",
    "\n",
    "print(f\"The smallest divisor is {smallest_divisor} and the largest divisor is {s1}\")\n",
    "\n"
   ]
  },
  {
   "cell_type": "code",
   "execution_count": null,
   "id": "de446fca",
   "metadata": {},
   "outputs": [],
   "source": []
  },
  {
   "cell_type": "code",
   "execution_count": null,
   "id": "arabic-topic",
   "metadata": {},
   "outputs": [],
   "source": []
  },
  {
   "cell_type": "markdown",
   "id": "suspected-hopkins",
   "metadata": {},
   "source": [
    "## Question no 05:"
   ]
  },
  {
   "cell_type": "markdown",
   "id": "about-wagon",
   "metadata": {},
   "source": [
    "### Book Club Points\n",
    "Serendipity Booksellers has a book club that awards points to its customers based on the\n",
    "number of books purchased each month. The points are awarded as follows:     \n",
    "- f a customer purchases 0 books, he or she earns 0 points.\n",
    "- If a customer purchases 1 book, he or she earns 5 points.\n",
    "- If a customer purchases 2 books, he or she earns 15 points.\n",
    "- If a customer purchases 3 books, he or she earns 30 points.\n",
    "- If a customer purchases 4 or more books, he or she earns 60 points.   \n",
    "Write a program that asks the user to enter the number of books that he or she has purchased this month and displays the number of points awarded."
   ]
  },
  {
   "cell_type": "code",
   "execution_count": 13,
   "id": "documented-daughter",
   "metadata": {},
   "outputs": [
    {
     "name": "stdout",
     "output_type": "stream",
     "text": [
      "You have earned 15 points this month.\n"
     ]
    }
   ],
   "source": [
    "# Here write your answer\n",
    "book_score = {\n",
    "    0: 0,\n",
    "    1: 5,\n",
    "    2: 15,\n",
    "    3: 30\n",
    "}\n",
    "input_int = int(input('Please enter the book number.'))\n",
    "if input_int >= 0:\n",
    "    print(f\"You have earned {book_score.get(input_int, 60)} points this month.\")"
   ]
  },
  {
   "cell_type": "code",
   "execution_count": null,
   "id": "a3a22373",
   "metadata": {},
   "outputs": [],
   "source": []
  },
  {
   "cell_type": "code",
   "execution_count": null,
   "id": "ffa83ad7",
   "metadata": {},
   "outputs": [],
   "source": []
  },
  {
   "cell_type": "markdown",
   "id": "112ac13a",
   "metadata": {},
   "source": [
    "## Question no 06:\n",
    "Create a dictionary whose keys are month name and whose values are number of days in the corresponding month:   \n",
    "- (a) Ask the user to enter the month name and use the dictionary to tell how many days are in month.\n",
    "- (b) Print out all of the keys in alphabetical order.\n",
    "- (c) Print out all of the month with 31 days.\n",
    "- (d) Print out the (key - value) pair sorted  by the number of the days in each month. \n",
    "\n",
    "\n",
    "**Sample Output**\n",
    "\n",
    "1.Enter month name and check number of days in given month :  <br>\n",
    "2.Enter to print all the keys in alpha-betical order : <br>\n",
    "3.Enter to print all the months with 31 days : <br>\n",
    "4.Enter to print sorted dictionary according to number of days in each month : <br>\n",
    "5.Enter to exit program. <br>"
   ]
  },
  {
   "cell_type": "code",
   "execution_count": null,
   "id": "norwegian-patrick",
   "metadata": {},
   "outputs": [],
   "source": []
  },
  {
   "cell_type": "code",
   "execution_count": null,
   "id": "65043760",
   "metadata": {},
   "outputs": [],
   "source": [
    "# Here write your program\n",
    "yearDict = {\n",
    "    'January':31,\n",
    "    'February':28,\n",
    "    'March' : 31,\n",
    "    'April' : 30,\n",
    "    'May' : 31,\n",
    "    'June': 30,\n",
    "    'July': 31,\n",
    "    'August' : 31,\n",
    "    'September' : 30,\n",
    "    'October' : 31,\n",
    "    'November' : 30,\n",
    "    'December': 31}"
   ]
  },
  {
   "cell_type": "code",
   "execution_count": 21,
   "id": "ea5f6e5b",
   "metadata": {},
   "outputs": [
    {
     "name": "stdout",
     "output_type": "stream",
     "text": [
      "The number of days is 31.\n",
      "The months listed in alphabetical order are ['April', 'August', 'December', 'February', 'January', 'July', 'June', 'March', 'May', 'November', 'October', 'September'].\n",
      "The months with 31 days are: ['January', 'March', 'May', 'July', 'August', 'October', 'December'].\n",
      "The months listed in order of length are {'February': 28, 'April': 30, 'June': 30, 'September': 30, 'November': 30, 'January': 31, 'March': 31, 'May': 31, 'July': 31, 'August': 31, 'October': 31, 'December': 31}.\n"
     ]
    }
   ],
   "source": [
    "input_string = input('Please enter the month name.')\n",
    "print(f\"The number of days is {yearDict[input_string.title()]}.\")\n",
    "print(f\"The months listed in alphabetical order are {sorted(yearDict.keys())}.\")\n",
    "longest_months = [k for k, v in yearDict.items() if v == 31]\n",
    "print(f\"The months with 31 days are: {longest_months}.\")\n",
    "length_order = dict(sorted(yearDict.items(), key=lambda x: x[1]))\n",
    "print(f\"The months listed in order of length are {length_order}.\")\n"
   ]
  },
  {
   "cell_type": "markdown",
   "id": "e5c9e147",
   "metadata": {},
   "source": [
    "## Question no 07:"
   ]
  },
  {
   "cell_type": "markdown",
   "id": "5ae1674b",
   "metadata": {},
   "source": [
    "### Roman Numerals\n",
    "Write a program that prompts the user to enter a number within the range of 1 through 10.\n",
    "The program should display the Roman numeral version of that number. If the number is\n",
    "outside the range of 1 through 10, the program should display an error message. The following table shows the Roman numerals for the numbers 1 through 10"
   ]
  },
  {
   "cell_type": "markdown",
   "id": "ed7334bd",
   "metadata": {},
   "source": [
    "|Number|       Roman Numeral|\n",
    "|------|--------------------|\n",
    "| 1    |         I          |\n",
    "| 2    |         II         |\n",
    "| 3    |         III        |\n",
    "| 4    |         IV         |\n",
    "| 5    |         V          |\n",
    "| 6    |         VI         |\n",
    "| 7    |         VII        |\n",
    "| 8    |         VIII       |\n",
    "| 9    |         IX         |\n",
    "| 10   |         X          |"
   ]
  },
  {
   "cell_type": "code",
   "execution_count": 41,
   "id": "74444efd",
   "metadata": {},
   "outputs": [
    {
     "name": "stdout",
     "output_type": "stream",
     "text": [
      "Error: The given value is outside the allowed range.\n"
     ]
    }
   ],
   "source": [
    "# Here write your answer\n",
    "roman_numerals = {\n",
    "    1: \"I\",\n",
    "    2: \"II\",\n",
    "    3: \"III\",\n",
    "    4: \"IV\",\n",
    "    5: \"V\",\n",
    "    6: \"VI\",\n",
    "    7: \"VII\",\n",
    "    8: \"VIII\",\n",
    "    9: \"IX\",\n",
    "    10: \"X\"\n",
    "}\n",
    "\n",
    "input_int = int(input('Please enter an input number from 1 to 10 (inclusive).'))\n",
    "if input_int in range(1,11):\n",
    "    print(f\"The value of {input_int} in Roman numerals is {roman_numerals[input_int]}.\")\n",
    "else:\n",
    "    print(\"Error: The given value is outside the allowed range.\")"
   ]
  },
  {
   "cell_type": "code",
   "execution_count": null,
   "id": "82dae1dd",
   "metadata": {},
   "outputs": [],
   "source": []
  },
  {
   "cell_type": "code",
   "execution_count": null,
   "id": "ed8a0647",
   "metadata": {},
   "outputs": [],
   "source": []
  },
  {
   "cell_type": "code",
   "execution_count": null,
   "id": "fd53ef96",
   "metadata": {},
   "outputs": [],
   "source": []
  },
  {
   "cell_type": "markdown",
   "id": "87f803e0",
   "metadata": {},
   "source": [
    "## Question no 08:\n",
    "Write a Python Program that take a string from user and count the number of vowels present in a string using sets.\n",
    "##### Sample : \"Ehtisham\"\n",
    "##### Output : 3"
   ]
  },
  {
   "cell_type": "code",
   "execution_count": 43,
   "id": "1c42d66a",
   "metadata": {},
   "outputs": [
    {
     "name": "stdout",
     "output_type": "stream",
     "text": [
      "7\n"
     ]
    }
   ],
   "source": [
    "# Here write your answer\n",
    "vowels = {'a', 'e', 'i', 'o', 'u'}\n",
    "ustr = input('Please enter an input string.')\n",
    "\n",
    "vowel_count = 0\n",
    "for c in ustr:\n",
    "    if c in vowels:\n",
    "        vowel_count += 1\n",
    "\n",
    "print(vowel_count)"
   ]
  },
  {
   "cell_type": "code",
   "execution_count": null,
   "id": "5460f09d",
   "metadata": {},
   "outputs": [],
   "source": []
  },
  {
   "cell_type": "code",
   "execution_count": null,
   "id": "c4fdfaa8",
   "metadata": {},
   "outputs": [],
   "source": []
  },
  {
   "cell_type": "markdown",
   "id": "490d6500",
   "metadata": {},
   "source": [
    "## Question no 09:"
   ]
  },
  {
   "cell_type": "markdown",
   "id": "71b743b2",
   "metadata": {},
   "source": [
    "#### Automated Teller Machine\n",
    "When you use an automated teller machine (ATM) with your bank card, you need \n",
    "to use a personal identification number (PIN) to access your account. If a user fails \n",
    "more than three times when entering the PIN, the machine will block the card. \n",
    "Assume that the user’s PIN is “1234” and write a program that asks the user for the \n",
    "PIN no more than three times, and does the following:\n",
    "- If the user enters the right number, print a message saying, “Your PIN is correct”, and end the program.\n",
    "- If the user enters a wrong number, print a message saying, “Your PIN is incorrect” and, if you have asked for the PIN less than three times, ask for it again.\n",
    "- If the user enters a wrong number three times, print a message saying “Your bank card is blocked” and end the program.\n",
    "\n",
    "\n",
    "**Input** `pin = 1234`\n",
    "\n",
    "**Output**\n",
    "\n",
    "Enter your PIN code : 2345 <br>\n",
    "Your Pin is incorrect! <br>\n",
    "Again enter your PIN code : 5432 <br>\n",
    "Your Pin is incorrect! <br>\n",
    "Again enter your PIN code : 8732 <br>\n",
    "Your bank card is blocked! <br>"
   ]
  },
  {
   "cell_type": "code",
   "execution_count": 45,
   "id": "a63524d0",
   "metadata": {},
   "outputs": [
    {
     "name": "stdout",
     "output_type": "stream",
     "text": [
      "Your PIN is incorrect.\n",
      "Your PIN is incorrect.\n",
      "Your PIN is incorrect.\n",
      "Your bank card is blocked.\n"
     ]
    }
   ],
   "source": [
    "# Here write your answer\n",
    "pin = 1234\n",
    "success = False\n",
    "for i in range(3):\n",
    "    pin_entry = int(input('Please enter your PIN.'))\n",
    "    if pin_entry == pin:\n",
    "        success = True\n",
    "        print(\"Your PIN is correct.\")\n",
    "        break\n",
    "    else:\n",
    "        print(\"Your PIN is incorrect.\")\n",
    "\n",
    "if not success:\n",
    "    print(\"Your bank card is blocked.\")\n",
    "    "
   ]
  },
  {
   "cell_type": "code",
   "execution_count": null,
   "id": "88d194da",
   "metadata": {},
   "outputs": [],
   "source": []
  },
  {
   "cell_type": "code",
   "execution_count": null,
   "id": "b19dc531",
   "metadata": {},
   "outputs": [],
   "source": []
  },
  {
   "cell_type": "markdown",
   "id": "cb97164b",
   "metadata": {},
   "source": [
    "## Question no 10:"
   ]
  },
  {
   "cell_type": "markdown",
   "id": "a72ac75d",
   "metadata": {},
   "source": [
    "Given a dictionary \n",
    "gradeCounts = { \"A\": 8, \"D\": 3, \"B\": 15, \"F\": 2, \"C\": 6 }\n",
    "write the Python statement(s) to print:\n",
    "- All the keys.\n",
    "- All the values.\n",
    "- All the key and value pairs.\n",
    "- All of the key and value pairs in key order.\n",
    "- The average value of dictionary values\n",
    "- a chart similar to the following in which each row contains a key followed by a number of asterisks equal to the key’s data value. The rows should be printed in key order, as shown below.     \n",
    "#### A: * * * * * * * *     \n",
    "#### B: * * * * * * * * * * * * * * *   \n",
    "#### C: * * * * * *    \n",
    "#### D: * * *    \n",
    "#### F: * *   "
   ]
  },
  {
   "cell_type": "code",
   "execution_count": 1,
   "id": "573aff83",
   "metadata": {},
   "outputs": [],
   "source": [
    "gradeCounts = { \n",
    "    \"A\": 8, \"D\": 3, \"B\": 15, \"F\": 2, \"C\": 6 \n",
    "}"
   ]
  },
  {
   "cell_type": "code",
   "execution_count": null,
   "id": "36559ad0",
   "metadata": {},
   "outputs": [
    {
     "name": "stdout",
     "output_type": "stream",
     "text": [
      "The key-sorted asterisk dictionary is {'A': '********', 'B': '***************', 'C': '******', 'D': '***', 'F': '**'}.\n",
      "Exiting...\n"
     ]
    }
   ],
   "source": [
    "def main():\n",
    "    while True:\n",
    "        try:\n",
    "            choice = int(input(\"\"\"\n",
    "            1: Enter to get keys of a dictionary  \\n\n",
    "            2: Enter to get values of a dictionary  \\n\n",
    "            3: Enter to get key-value pairs of a dictionary \\n\n",
    "            4: Enter to get dictionary according to sorted values \\n\n",
    "            5: Enter to get average value of all the values of dictionary \\n\n",
    "            6: Enter to get asterisks pattern of all the values of dictionary \\n\n",
    "            7: Enter to terminate program execution \\n\n",
    "            \"\"\"))\n",
    "\n",
    "            match choice:\n",
    "                case 1:\n",
    "                    print(f\"The keys are {gradeCounts.keys()}.\")\n",
    "                case 2:\n",
    "                    print(f\"The values are {gradeCounts.values()}.\")\n",
    "                case 3:\n",
    "                    print(f\"The key-value pairs are {gradeCounts.items()}.\")\n",
    "                case 4:\n",
    "                    sorted_values = sorted(gradeCounts.items(), key=lambda x: x[1])\n",
    "                    print(f\"The dictionary sorted by values is {dict(sorted_values)}.\")\n",
    "                case 5:\n",
    "                    print(f\"The average is {sum(gradeCounts.values())/len(gradeCounts.values())}.\")\n",
    "                case 6:\n",
    "                    asterisk_dict = {k: \"*\"*v for k,v in gradeCounts.items()}\n",
    "                    asterisk_dict = sorted(asterisk_dict.items(), key=lambda x: x[0])\n",
    "                    print(f\"The key-sorted asterisk dictionary is {dict(asterisk_dict)}.\")\n",
    "                case 7:\n",
    "                    print(f\"Exiting...\")\n",
    "                    return\n",
    "\n",
    "        except:\n",
    "            print(\"Please, provide valid inputs!\")\n",
    "\n",
    "if __name__ == \"__main__\":\n",
    "    main()"
   ]
  },
  {
   "cell_type": "code",
   "execution_count": null,
   "id": "98ed5c9d",
   "metadata": {},
   "outputs": [],
   "source": []
  },
  {
   "cell_type": "code",
   "execution_count": null,
   "id": "61929987",
   "metadata": {},
   "outputs": [],
   "source": []
  },
  {
   "cell_type": "code",
   "execution_count": null,
   "id": "2f5b971a",
   "metadata": {},
   "outputs": [],
   "source": []
  },
  {
   "cell_type": "code",
   "execution_count": null,
   "id": "53c90b1a",
   "metadata": {},
   "outputs": [],
   "source": []
  },
  {
   "cell_type": "markdown",
   "id": "298450ac",
   "metadata": {},
   "source": [
    "## Question no 11:\n",
    "Write a program that rotates the element of a list so that the element at the first index moves to the second index, the element in the second index moves to the third index, etc., and the element in the last index moves to the first index.\n",
    "\n",
    "\n",
    "#### Input : list1 = [32, 4, 54, 6, 65, 547, 5, 47]\n",
    "#### Output: list1 = [47, 32, 4, 54, 6, 65, 547, 5]"
   ]
  },
  {
   "cell_type": "code",
   "execution_count": 26,
   "id": "94b7c641",
   "metadata": {},
   "outputs": [],
   "source": [
    "list1 = [32, 4, 54, 6, 65, 547, 5, 47]"
   ]
  },
  {
   "cell_type": "code",
   "execution_count": 27,
   "id": "0e796c97",
   "metadata": {},
   "outputs": [
    {
     "name": "stdout",
     "output_type": "stream",
     "text": [
      "[32, 4, 54, 6, 65, 547, 5, 47]\n",
      "[47, 32, 4, 54, 6, 65, 547, 5]\n"
     ]
    }
   ],
   "source": [
    "# Here write your answer\n",
    "length = len(list1)\n",
    "print(list1)\n",
    "for i in range(length, 1, -1):\n",
    "    list1[i%length], list1[i-1] = list1[i-1], list1[i%length]\n",
    "\n",
    "print(list1)"
   ]
  },
  {
   "cell_type": "code",
   "execution_count": null,
   "id": "7dd2951e",
   "metadata": {},
   "outputs": [],
   "source": []
  },
  {
   "cell_type": "code",
   "execution_count": null,
   "id": "2f000607",
   "metadata": {},
   "outputs": [],
   "source": []
  },
  {
   "cell_type": "markdown",
   "id": "bd1b6395",
   "metadata": {},
   "source": [
    "## Question no 12:\n",
    "#### File Analysis:\n",
    "Write a program that reads the contents of two text files(File1.txt, File2.txt) and compares them in the following ways:    \n",
    "- It should display a list of all the unique words contained in both files.\n",
    "- It should display a list of the words that appear in both files.\n",
    "- It should display a list of the words that appear in the first file but not the second.\n",
    "- It should display a list of the words that appear in the second file but not the first.\n",
    "- It should display a list of the words that appear in either the first or second file but not both.\n",
    "###### Hint: Use set operations to perform these analyses and you can also use loops."
   ]
  },
  {
   "cell_type": "markdown",
   "id": "8291e522",
   "metadata": {},
   "source": [
    "To Read a data from a file you can use following syntax:"
   ]
  },
  {
   "cell_type": "markdown",
   "id": "aca5c1bc",
   "metadata": {},
   "source": [
    "### First Method:"
   ]
  },
  {
   "cell_type": "code",
   "execution_count": null,
   "id": "75450375",
   "metadata": {},
   "outputs": [],
   "source": [
    "# ipython interpreter doesn't seem to recognize powershell commands using the exclamation point syntax, eventually I just switched to using the subprocess module \n",
    "import subprocess\n",
    "file1 = subprocess.run([\"powershell\", \"-Command\", \"Get-Content File1.txt\"], capture_output=True, text=True)\n",
    "file2 = subprocess.run([\"powershell\", \"-Command\", \"Get-Content File2.txt\"], capture_output=True, text=True)"
   ]
  },
  {
   "cell_type": "code",
   "execution_count": 56,
   "id": "43aef1c8",
   "metadata": {},
   "outputs": [],
   "source": [
    "import re\n",
    "\n",
    "set1 = set( (re.sub(\"[^\\w\\s]\",\"\",file1.stdout)).lower().split() )\n",
    "set2 = set( (re.sub(\"[^\\w\\s]\",\"\",file2.stdout)).lower().split() )"
   ]
  },
  {
   "cell_type": "code",
   "execution_count": null,
   "id": "d1ef6cc3",
   "metadata": {},
   "outputs": [
    {
     "name": "stdout",
     "output_type": "stream",
     "text": [
      "The words that appear in either file are: \n",
      "{'things', 'cases', 'train', 'huge', 'for', 'time', 'unstructured', 'performance', 'day', 'predict', 'problems', 'recognition', 'top', 'have', 'machine', 'comes', 'demanding', 'every', 'providing', 'insights', 'save', 'should', 'implement', 'analytical', 'introduction', 'amazon', 'tutorial', 'most', 'meaningful', 'hadoop', 'this', 'person', 'structured', 'method', 'something', 'probability', 'algorithms', 'roles', 'using', 'efficient', 'them', 'manipulate', 'easy', 'python', 'to', 'understood', 'both', 'vast', 'a', 'intelligence', 'one', 'of', 'on', 'currently', 'so', 'automatically', 'importance', 'cost', 'hardware', 'let', 'explore', 'future', '21st', 'from', 'organization', 'processed', 'century', 'us', 'models', 'analyze', 'human', 'facebook', 'netflix', 'forest', 'deep', 'giving', 'required', 'programming', 'as', 'and', 'suggestion', 'find', 'used', 'tasks', 'uses', 'looking', 'study', 'science', 'etc', 'easily', 'build', 'increasing', 'tree', 'complex', 'extracting', 'accordingly', 'we', 'with', 'candidates', 'application', 'expert', 'technologies', 'capable', 'regression', 'also', 'who', 'involves', 'computer', 'detection', 'need', 'companies', 'decision', 'construct', 'c', 'become', 'scientific', 'its', 'some', 'can', 'multidisciplinary', 'cyber', 'selfdriving', 'amount', 'face', 'recommend', 'powerful', 'help', 'fraud', 'is', 'has', 'that', 'learning', 'algorithm', 'function', 'field', 'cars', 'here', 'random', 'skill', 'directly', 'money', 'components', 'classification', 'reason', 'product', 'determined', 'r', 'too', 'in', 'data', 'java', 'you', 'knowledge', 'cannot', 'languages', 'artificial', 'be', 'it', 'are', 'manually', 'tools', 'output', 'different', 'user', 'friend', 'make', 'limitations', 'understanding', 'doing', 'depends', 'clustering', 'behind', 'raw', 'an', 'new', 'the', 'solve', 'related', 'techniques', 'massive', 'problemsolving', 'such', 'which', 'by', 'access', 'works', 'systems', 'interest', 'statistics', 'job', 'various'}\n",
      "The words that appear only in File 1 are: \n",
      "{'things', 'cases', 'train', 'huge', 'time', 'performance', 'day', 'predict', 'recognition', 'top', 'comes', 'providing', 'save', 'implement', 'amazon', 'person', 'them', 'easy', 'understood', 'both', 'vast', 'on', 'currently', 'automatically', 'importance', 'cost', 'let', 'explore', 'us', 'models', 'analyze', 'human', 'facebook', 'netflix', 'suggestion', 'tasks', 'easily', 'build', 'increasing', 'complex', 'accordingly', 'capable', 'detection', 'need', 'companies', 'construct', 'its', 'some', 'cyber', 'selfdriving', 'face', 'recommend', 'help', 'fraud', 'algorithm', 'function', 'cars', 'here', 'directly', 'money', 'reason', 'product', 'determined', 'too', 'cannot', 'be', 'manually', 'output', 'user', 'friend', 'make', 'limitations', 'doing', 'depends', 'behind', 'by', 'access', 'interest'}\n",
      "The words that appear only in File 2 are: \n",
      "{'unstructured', 'problems', 'demanding', 'every', 'insights', 'should', 'analytical', 'introduction', 'tutorial', 'most', 'meaningful', 'hadoop', 'structured', 'method', 'something', 'probability', 'roles', 'efficient', 'manipulate', 'python', 'intelligence', 'one', 'hardware', 'future', '21st', 'from', 'organization', 'processed', 'century', 'forest', 'deep', 'giving', 'find', 'looking', 'study', 'science', 'tree', 'extracting', 'candidates', 'application', 'expert', 'technologies', 'regression', 'also', 'who', 'involves', 'decision', 'c', 'become', 'scientific', 'multidisciplinary', 'powerful', 'has', 'field', 'random', 'skill', 'components', 'classification', 'r', 'java', 'you', 'knowledge', 'languages', 'artificial', 'tools', 'different', 'understanding', 'clustering', 'raw', 'an', 'new', 'solve', 'related', 'techniques', 'massive', 'problemsolving', 'which', 'works', 'statistics', 'programming', 'job'}\n"
     ]
    }
   ],
   "source": [
    "print(f\"The words that appear in either file are: \")\n",
    "print(set1 | set2)\n",
    "\n",
    "print(f\"The words that appear in both files are: \")\n",
    "print(set1 & set2)\n",
    "\n",
    "print(f\"The words that appear only in File 1 are: \")\n",
    "print(set1 - set2)\n",
    "\n",
    "print(f\"The words that appear only in File 2 are: \")\n",
    "print(set2 - set1)\n",
    "\n",
    "print(f\"The words that appear in either File 1 or File 2 (exclusive) are: \")\n",
    "print(set2 ^ set1)"
   ]
  },
  {
   "cell_type": "code",
   "execution_count": null,
   "id": "b4ffc3be",
   "metadata": {},
   "outputs": [],
   "source": [
    "with open(\"File1.txt\", 'r') as f1:\n",
    "    data1 = f1.read()\n",
    "    data1 = data1.split()\n",
    "    print(data1[:20])\n",
    "\n",
    "with open(\"File2.txt\", 'r') as f2:\n",
    "    data2 = f2.read().split()\n",
    "    print(data2[:20])"
   ]
  },
  {
   "cell_type": "code",
   "execution_count": null,
   "id": "543695ce",
   "metadata": {},
   "outputs": [],
   "source": [
    "# I don't understand the \"first/second method\" structure. Am I supposed to pick one or do both? If I'm supposed to do both, \n",
    "# what should I do differently in the second one? I could easily just make the same sets that I did in the first one once I read the file contents. "
   ]
  },
  {
   "cell_type": "code",
   "execution_count": null,
   "id": "5f6e23ff",
   "metadata": {},
   "outputs": [],
   "source": []
  },
  {
   "cell_type": "code",
   "execution_count": null,
   "id": "968fb45e",
   "metadata": {},
   "outputs": [],
   "source": []
  },
  {
   "cell_type": "code",
   "execution_count": null,
   "id": "84831a4f",
   "metadata": {},
   "outputs": [],
   "source": []
  },
  {
   "cell_type": "markdown",
   "id": "d729582e",
   "metadata": {},
   "source": [
    "## Question no 13:"
   ]
  },
  {
   "cell_type": "markdown",
   "id": "82ca7c31",
   "metadata": {},
   "source": [
    "#### Write a program that prints a multiplication table, like this:    \n",
    " 1 2 3 4 5 6 7 8 9 10     \n",
    " 2 4 6 8 10 12 14 16 18 20     \n",
    " 3 6 9 12 15 18 21 24 27 30     \n",
    " . . .    \n",
    " 10 20 30 40 50 60 70 80 90 100   "
   ]
  },
  {
   "cell_type": "code",
   "execution_count": 84,
   "id": "cfc3e483",
   "metadata": {},
   "outputs": [
    {
     "name": "stdout",
     "output_type": "stream",
     "text": [
      "   1   2   3   4   5   6   7   8   9  10\n",
      "   2   4   6   8  10  12  14  16  18  20\n",
      "   3   6   9  12  15  18  21  24  27  30\n",
      "   4   8  12  16  20  24  28  32  36  40\n",
      "   5  10  15  20  25  30  35  40  45  50\n",
      "   6  12  18  24  30  36  42  48  54  60\n",
      "   7  14  21  28  35  42  49  56  63  70\n",
      "   8  16  24  32  40  48  56  64  72  80\n",
      "   9  18  27  36  45  54  63  72  81  90\n",
      "  10  20  30  40  50  60  70  80  90 100\n"
     ]
    }
   ],
   "source": [
    "# Here write your code\n",
    "num_list = [1,2,3,4,5,6,7,8,9,10]\n",
    "length = len(num_list)\n",
    "for i in range(length):\n",
    "    row = \"\"\n",
    "    for j in range(length):\n",
    "        row = f\"{row} {num_list[j] * (i+1):3d}\"\n",
    "    print(row)"
   ]
  },
  {
   "cell_type": "code",
   "execution_count": null,
   "id": "5348c5d8",
   "metadata": {},
   "outputs": [],
   "source": []
  },
  {
   "cell_type": "code",
   "execution_count": null,
   "id": "37449141",
   "metadata": {},
   "outputs": [],
   "source": []
  },
  {
   "cell_type": "markdown",
   "id": "307d3a53",
   "metadata": {},
   "source": [
    "## Question no 14:\n",
    "Write a program that reads a word and prints the number of vowels in the word. For \n",
    "this exercise, assume that `a e i o u`  are vowels. For example, if the user provides the \n",
    "input `ehtisham`, the program prints 3 vowels"
   ]
  },
  {
   "cell_type": "code",
   "execution_count": 85,
   "id": "25ef9455",
   "metadata": {},
   "outputs": [
    {
     "name": "stdout",
     "output_type": "stream",
     "text": [
      "Vowels in string: 4\n"
     ]
    }
   ],
   "source": [
    "# Here write your answer\n",
    "input_string = input('Please enter an input string.')\n",
    "\n",
    "\n",
    "vowel_count = len(re.findall(r'[aeiou]', input_string))\n",
    "print(f\"Vowels in string: {vowel_count}\")"
   ]
  },
  {
   "cell_type": "code",
   "execution_count": null,
   "id": "5fd1ad90",
   "metadata": {},
   "outputs": [],
   "source": []
  },
  {
   "cell_type": "markdown",
   "id": "d65603b5",
   "metadata": {},
   "source": [
    "## Question no 15:\n",
    "#### Pig Latin\n",
    "Write a program that accepts a sentence as input and converts each word to `Pig Latin.` In\n",
    "one version, to convert a word to Pig Latin you remove the first letter and place that letter at the end of the word. Then you append the string `ay` to the word. Here is an example:\n",
    "- English: I SLEPT MOST OF THE NIGHT\n",
    "- Pig Latin: IAY LEPTSAY OSTMAY FOAY HETAY IGHTNAy"
   ]
  },
  {
   "cell_type": "markdown",
   "id": "310bc218",
   "metadata": {},
   "source": [
    "### First Method"
   ]
  },
  {
   "cell_type": "code",
   "execution_count": null,
   "id": "b90f9201",
   "metadata": {},
   "outputs": [],
   "source": [
    "import re\n",
    "sentence = input('Please enter an input sentence.')\n",
    "# sentence = \"Cosmic AC, can the net amount of entropy in the universe be massively decreased?\"\n",
    "sentence = re.sub(r\"[^\\w\\s]\", \"\", sentence).upper()\n",
    "pig_latin_sentence = [s[1:]+s[0]+\"AY\" for s in sentence.split()]\n",
    "pig_latin_sentence"
   ]
  },
  {
   "cell_type": "code",
   "execution_count": null,
   "id": "4e5658b9",
   "metadata": {},
   "outputs": [],
   "source": []
  },
  {
   "cell_type": "markdown",
   "id": "f50445b2",
   "metadata": {},
   "source": [
    "### Second Method"
   ]
  },
  {
   "cell_type": "code",
   "execution_count": null,
   "id": "76a2858b",
   "metadata": {},
   "outputs": [],
   "source": []
  },
  {
   "cell_type": "code",
   "execution_count": null,
   "id": "2ba71d5d",
   "metadata": {},
   "outputs": [],
   "source": []
  }
 ],
 "metadata": {
  "kernelspec": {
   "display_name": "Python 3",
   "language": "python",
   "name": "python3"
  },
  "language_info": {
   "codemirror_mode": {
    "name": "ipython",
    "version": 3
   },
   "file_extension": ".py",
   "mimetype": "text/x-python",
   "name": "python",
   "nbconvert_exporter": "python",
   "pygments_lexer": "ipython3",
   "version": "3.10.6"
  }
 },
 "nbformat": 4,
 "nbformat_minor": 5
}
