{
 "cells": [
  {
   "cell_type": "markdown",
   "id": "404db0a3",
   "metadata": {},
   "source": [
    "<h1  align=\"center\">Practical Learning Data Science and Machine Learning - Assignment 02 </h1>"
   ]
  },
  {
   "cell_type": "code",
   "execution_count": null,
   "id": "02a29c00",
   "metadata": {},
   "outputs": [],
   "source": []
  },
  {
   "cell_type": "code",
   "execution_count": null,
   "id": "df03bac4",
   "metadata": {},
   "outputs": [],
   "source": []
  },
  {
   "cell_type": "markdown",
   "id": "protective-damage",
   "metadata": {},
   "source": [
    "## Question 01. Comments\n",
    "\n",
    "What does a professional programmer usually do first to gain an understanding of a problem?"
   ]
  },
  {
   "cell_type": "code",
   "execution_count": null,
   "id": "prompt-glenn",
   "metadata": {},
   "outputs": [],
   "source": [
    "# Here write your answer"
   ]
  },
  {
   "cell_type": "code",
   "execution_count": null,
   "id": "243d389b",
   "metadata": {},
   "outputs": [],
   "source": []
  },
  {
   "cell_type": "code",
   "execution_count": null,
   "id": "ad5f2d8f",
   "metadata": {},
   "outputs": [],
   "source": []
  },
  {
   "cell_type": "markdown",
   "id": "efficient-privilege",
   "metadata": {},
   "source": [
    "## Question 02\n",
    "\n",
    "If a math expression adds a float to an int, what will the data type of the result be?What is the difference between floating-point division and integer division?"
   ]
  },
  {
   "cell_type": "code",
   "execution_count": 1,
   "id": "organizational-israeli",
   "metadata": {},
   "outputs": [],
   "source": [
    "# Here write your answer"
   ]
  },
  {
   "cell_type": "code",
   "execution_count": null,
   "id": "b2b38984",
   "metadata": {},
   "outputs": [],
   "source": []
  },
  {
   "cell_type": "code",
   "execution_count": null,
   "id": "5777659f",
   "metadata": {},
   "outputs": [],
   "source": []
  },
  {
   "cell_type": "markdown",
   "id": "split-lewis",
   "metadata": {},
   "source": [
    "### Question 03 \n",
    "\n",
    "Write a program in which take two numbers from user by using built-in function and perform folllowing arithmetic operation\n",
    "\n",
    "- Addition    \n",
    "- Subtraction    \n",
    "- Multiplication    \n",
    "- Division   "
   ]
  },
  {
   "cell_type": "code",
   "execution_count": 2,
   "id": "later-failing",
   "metadata": {},
   "outputs": [],
   "source": [
    "# Here write your answer"
   ]
  },
  {
   "cell_type": "code",
   "execution_count": null,
   "id": "ba0b3a1d",
   "metadata": {},
   "outputs": [],
   "source": []
  },
  {
   "cell_type": "code",
   "execution_count": null,
   "id": "allied-prime",
   "metadata": {},
   "outputs": [],
   "source": []
  },
  {
   "cell_type": "markdown",
   "id": "personal-singer",
   "metadata": {},
   "source": [
    "## Question 04\n",
    "\n",
    "Write a program to calculate area of triangle by using following formula , in this program takes all input from user by using built-in function.    \n",
    "\n",
    "$$Area of a triangle = \\sqrt{s \\cdot (s-a) \\cdot (s-b) \\cdot (s-c)}$$\n"
   ]
  },
  {
   "cell_type": "code",
   "execution_count": null,
   "id": "married-direction",
   "metadata": {},
   "outputs": [],
   "source": [
    "# Here write your answer"
   ]
  },
  {
   "cell_type": "code",
   "execution_count": null,
   "id": "4f569f64",
   "metadata": {},
   "outputs": [],
   "source": []
  },
  {
   "cell_type": "code",
   "execution_count": null,
   "id": "ae820388",
   "metadata": {},
   "outputs": [],
   "source": []
  },
  {
   "cell_type": "markdown",
   "id": "gothic-shadow",
   "metadata": {},
   "source": [
    "## Question 05\n",
    "\n",
    "Write a program in which take two numbers from user and swap them."
   ]
  },
  {
   "cell_type": "code",
   "execution_count": 4,
   "id": "developmental-savings",
   "metadata": {},
   "outputs": [],
   "source": [
    "# Here write your answer"
   ]
  },
  {
   "cell_type": "code",
   "execution_count": null,
   "id": "19508221",
   "metadata": {},
   "outputs": [],
   "source": []
  },
  {
   "cell_type": "code",
   "execution_count": null,
   "id": "vanilla-float",
   "metadata": {},
   "outputs": [],
   "source": []
  },
  {
   "cell_type": "code",
   "execution_count": null,
   "id": "4f40a6bd",
   "metadata": {},
   "outputs": [],
   "source": []
  },
  {
   "cell_type": "markdown",
   "id": "impressive-upset",
   "metadata": {},
   "source": [
    "Question 06 \n",
    "\n",
    "Write a program that prompts the user to input a Celsius temperature and outputs the equivalent temperature in Fahrenheit. The formula to convert the temperature is: $$\\mathbf{F = \\frac{9}{5}C + 32}$$ where F is the Fahrenheit temperature and C is the Celsius temperature. "
   ]
  },
  {
   "cell_type": "code",
   "execution_count": 5,
   "id": "endless-gilbert",
   "metadata": {},
   "outputs": [],
   "source": [
    "# Here write your answer"
   ]
  },
  {
   "cell_type": "code",
   "execution_count": null,
   "id": "663ee478",
   "metadata": {},
   "outputs": [],
   "source": []
  },
  {
   "cell_type": "code",
   "execution_count": null,
   "id": "treated-monaco",
   "metadata": {},
   "outputs": [],
   "source": []
  },
  {
   "cell_type": "markdown",
   "id": "sixth-diana",
   "metadata": {},
   "source": [
    "## Question 07 \n",
    "\n",
    "Write a program that accepts seconds from user as integer. Your program should converts seconds in hours, minutes and seconds. "
   ]
  },
  {
   "cell_type": "code",
   "execution_count": 6,
   "id": "cellular-stomach",
   "metadata": {},
   "outputs": [],
   "source": [
    "# Here write your answer"
   ]
  },
  {
   "cell_type": "code",
   "execution_count": null,
   "id": "8ec3046f",
   "metadata": {},
   "outputs": [],
   "source": []
  },
  {
   "cell_type": "code",
   "execution_count": null,
   "id": "27cd3ed2",
   "metadata": {},
   "outputs": [],
   "source": []
  },
  {
   "cell_type": "markdown",
   "id": "official-diamond",
   "metadata": {},
   "source": [
    "## Question 08\n",
    "\n",
    "Write a program which accept principle, rate and time from user and print the simple interest. The formula to calculate simple interest is: \n",
    "\n",
    "$$\\mathbf{ \\text{Simple Interest} = \\frac{\\text{Principal} \\times \\text{Rate} \\times \\text{Time}}{100}}$$\n"
   ]
  },
  {
   "cell_type": "code",
   "execution_count": 7,
   "id": "913cbd62",
   "metadata": {},
   "outputs": [],
   "source": [
    "# Here write your answer"
   ]
  },
  {
   "cell_type": "code",
   "execution_count": null,
   "id": "9436ae11",
   "metadata": {},
   "outputs": [],
   "source": []
  },
  {
   "cell_type": "code",
   "execution_count": null,
   "id": "8c4f6efe",
   "metadata": {},
   "outputs": [],
   "source": []
  },
  {
   "cell_type": "markdown",
   "id": "driving-qualification",
   "metadata": {},
   "source": [
    "## Question 09. Distance Traveled \n",
    "Write a program to calculate the distance traveled by a car , assuming there are no accidents or delays, the distance that a car travels down the inter-state can be calculated with the following formula:\n",
    "\n",
    "$$Distance = Speed * Time$$\n",
    "\n",
    "A car is traveling at 60 miles per hour. Write a program that displays the following:  \n",
    "• The distance the car will travel in 5 hours        \n",
    "• The distance the car will travel in 8 hours     \n",
    "• The distance the car will travel in 12 hours    "
   ]
  },
  {
   "cell_type": "code",
   "execution_count": 8,
   "id": "4fd73948",
   "metadata": {},
   "outputs": [],
   "source": [
    "# Here write your answer"
   ]
  },
  {
   "cell_type": "code",
   "execution_count": null,
   "id": "8240e526",
   "metadata": {},
   "outputs": [],
   "source": []
  },
  {
   "cell_type": "code",
   "execution_count": null,
   "id": "91292e8a",
   "metadata": {},
   "outputs": [],
   "source": []
  },
  {
   "cell_type": "markdown",
   "id": "sunrise-traffic",
   "metadata": {},
   "source": [
    "## 10. Stock Transaction Program\n",
    "Last month Joe purchased some stock in Acme Software, Inc. Here are the details of the\n",
    "purchase:\n",
    "* The number of shares that Joe purchased was 1,000.    \n",
    "* When Joe purchased the stock, he paid $32.87 per share.   \n",
    "* Joe paid his stockbroker a commission that amounted to 2 percent of the amount he paid\n",
    "for the stock.   \n",
    "\n",
    "Two weeks later Joe sold the stock. Here are the details of the sale: \n",
    "* The number of shares that Joe sold was 1,000.\n",
    "* He sold the stock for $33.92 per share.\n",
    "* He paid his stockbroker another commission that amounted to 2 percent of the amount\n",
    "  he received for the stock.\n",
    "\n",
    "Write a program that displays the following information:\n",
    "* The amount of money Joe paid for the stock.\n",
    "* The amount of commission Joe paid his broker when he bought the stock.\n",
    "* The amount that Joe sold the stock for.\n",
    "* The amount of commission Joe paid his broker when he sold the stock.\n",
    "* Display the amount of money that Joe had left when he sold the stock and paid his\n",
    "  broker (both times). If this amount is positive, then Joe made a profit. If the amount is negative, then Joe lost money"
   ]
  },
  {
   "cell_type": "code",
   "execution_count": 9,
   "id": "centered-crazy",
   "metadata": {},
   "outputs": [],
   "source": [
    "# Here write your answer"
   ]
  },
  {
   "cell_type": "code",
   "execution_count": null,
   "id": "fbea02fe",
   "metadata": {},
   "outputs": [],
   "source": []
  },
  {
   "cell_type": "code",
   "execution_count": null,
   "id": "271494a6",
   "metadata": {},
   "outputs": [],
   "source": []
  },
  {
   "cell_type": "code",
   "execution_count": null,
   "id": "ac8ab8b4",
   "metadata": {},
   "outputs": [],
   "source": []
  },
  {
   "cell_type": "code",
   "execution_count": null,
   "id": "south-summit",
   "metadata": {},
   "outputs": [],
   "source": []
  }
 ],
 "metadata": {
  "kernelspec": {
   "display_name": "Python 3 (ipykernel)",
   "language": "python",
   "name": "python3"
  },
  "language_info": {
   "codemirror_mode": {
    "name": "ipython",
    "version": 3
   },
   "file_extension": ".py",
   "mimetype": "text/x-python",
   "name": "python",
   "nbconvert_exporter": "python",
   "pygments_lexer": "ipython3",
   "version": "3.11.7"
  }
 },
 "nbformat": 4,
 "nbformat_minor": 5
}
