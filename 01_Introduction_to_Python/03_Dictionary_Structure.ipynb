{
 "cells": [
  {
   "cell_type": "markdown",
   "id": "f06c412f-7047-4f2a-8327-1140f8b4fd2a",
   "metadata": {},
   "source": [
    "\n",
    "<h1> Dictionary Data structures and Control Structures </h1>"
   ]
  },
  {
   "cell_type": "markdown",
   "id": "b3b999b7-527d-452a-8366-3ca5b0d275b3",
   "metadata": {},
   "source": [
    "## Learning agenda of this notebook\n",
    "* **Motivation to use Dictionary**\n",
    "1. How to create dictionaries?\n",
    "2. Proof of concepts\n",
    "3. Accessing elements of a dictionary\n",
    "4. Adding/Modifying elements of a dictionary\n",
    "5. Removing elements from a dictionary\n",
    "6. Dictionary, tuple and list conversions\n",
    "7. Sorting Dictionary values\n",
    "8. Aliasing vs Shallow Copy vs Deep Copy"
   ]
  },
  {
   "cell_type": "code",
   "execution_count": null,
   "id": "f5f94833-290d-411a-97c4-2d6c5d45bf1c",
   "metadata": {},
   "outputs": [],
   "source": []
  },
  {
   "cell_type": "markdown",
   "id": "e3e56bcf-3262-4bc0-9de6-6be74451c39b",
   "metadata": {},
   "source": [
    "### Motivation to use Dictionary\n",
    "Let's solve a problem to see benefits of dictionary.  \n",
    "How you can get marks of a specific student by using both lists students and name.  "
   ]
  },
  {
   "cell_type": "code",
   "execution_count": null,
   "id": "f7211565-6d6d-42aa-97ef-8f959fcafe3f",
   "metadata": {},
   "outputs": [],
   "source": [
    "students = ['Ehtisham', 'Ali', 'Ayesha', 'Dua', 'Adeen']\n",
    "marks = [81, 52, 70, 74, 78]\n",
    "# add\n",
    "# phone"
   ]
  },
  {
   "cell_type": "code",
   "execution_count": null,
   "id": "8b79793d-3c44-485b-85c4-ab5233fbed33",
   "metadata": {},
   "outputs": [],
   "source": []
  },
  {
   "cell_type": "code",
   "execution_count": null,
   "id": "154d1731-70e3-4494-9972-2ddb0f7d7a6c",
   "metadata": {},
   "outputs": [],
   "source": []
  },
  {
   "cell_type": "code",
   "execution_count": null,
   "id": "95f3d10a-b28b-46fb-8329-b86c0c13d246",
   "metadata": {},
   "outputs": [],
   "source": []
  },
  {
   "cell_type": "code",
   "execution_count": null,
   "id": "395377c0-5526-49d0-90cb-1b442f51c2e8",
   "metadata": {},
   "outputs": [],
   "source": []
  },
  {
   "cell_type": "code",
   "execution_count": null,
   "id": "5aa92886-55a4-4212-88a3-3a5132ac30fd",
   "metadata": {},
   "outputs": [],
   "source": [
    "def get_marks(name):\n",
    "    index = students.index(name)\n",
    "    return marks[index]\n",
    "get_marks('Ali')"
   ]
  },
  {
   "cell_type": "code",
   "execution_count": null,
   "id": "cf1f2c48-521b-4885-9c77-ea3d6aae9480",
   "metadata": {},
   "outputs": [],
   "source": []
  },
  {
   "cell_type": "code",
   "execution_count": null,
   "id": "1ac65dfc-e5b9-4152-87c4-660ce3a81c61",
   "metadata": {},
   "outputs": [],
   "source": []
  },
  {
   "cell_type": "markdown",
   "id": "27a256b7-16e5-4c9d-9917-f6fe15812a62",
   "metadata": {},
   "source": [
    "### 1. How to create Dictionaries?\n",
    "- A Dictionary object  is created by placing comma separated `key:value` pairs in curly braces.\n",
    "- The keys of a dictionary has to be unique and can be of heterogeneous immutable types only (int, string or tuple).\n",
    "- The values can be duplicated and can be of heterogeneous types (mutable + immutable).\n",
    "\n",
    "<img align=\"center\" width=\"900\" height=\"900\"  src=\"images/dict_main.png\" > "
   ]
  },
  {
   "cell_type": "code",
   "execution_count": null,
   "id": "920e5566-a55f-41c2-940c-62e8c66b2157",
   "metadata": {},
   "outputs": [],
   "source": [
    "# A dictionary with string keys, and integer values, showing age of person\n",
    "dict1 = {\n",
    "    'Ehtisham':51, \n",
    "    'Ali':52, \n",
    "    'Dua':22,\n",
    "}"
   ]
  },
  {
   "cell_type": "code",
   "execution_count": null,
   "id": "0c06a5f0-ba26-44c3-b982-fb9fd349beca",
   "metadata": {},
   "outputs": [],
   "source": [
    "print(dict1)\n",
    "print(type(dict1))\n",
    "print(id(dict1))"
   ]
  },
  {
   "cell_type": "code",
   "execution_count": null,
   "id": "99ea5198-d4c4-4fda-ad98-76ddfc954a9d",
   "metadata": {},
   "outputs": [],
   "source": [
    "# dictionary with mixed keys (immutable types only)\n",
    "dict2 = {\n",
    "    'name': 'ali', \n",
    "    1: 10,\n",
    "    'abc':25,\n",
    "    33: 'xyz'\n",
    "}\n",
    "print(dict2)"
   ]
  },
  {
   "cell_type": "code",
   "execution_count": null,
   "id": "dc4ef864-c89d-4fa9-aba0-6855d80933ec",
   "metadata": {},
   "outputs": [],
   "source": []
  },
  {
   "cell_type": "markdown",
   "id": "8e7476ac-14a3-4cc5-b3bb-5eda91ebb099",
   "metadata": {},
   "source": [
    "### 2. Proof of concepts\n",
    "#### a. Dictionary allows Duplicate Values"
   ]
  },
  {
   "cell_type": "code",
   "execution_count": null,
   "id": "b458ff73-acd7-420e-a4dc-d1f60c86f3a6",
   "metadata": {},
   "outputs": [],
   "source": [
    "# Duplicate values are allowed\n",
    "d1 = {\n",
    "    'name1' : 'ali',\n",
    "     'name2' : 'ali'\n",
    "     }\n",
    "d1"
   ]
  },
  {
   "cell_type": "markdown",
   "id": "0f146991-8bcb-4ae5-8be3-82504dd1e724",
   "metadata": {},
   "source": [
    "#### b. Dictionary DOESNOT allows Duplicate Keys"
   ]
  },
  {
   "cell_type": "code",
   "execution_count": 2,
   "id": "345fc069-b0be-4954-85d1-bbae6f2c2ce1",
   "metadata": {},
   "outputs": [
    {
     "data": {
      "text/plain": [
       "{'name': 'AYESHA'}"
      ]
     },
     "execution_count": 2,
     "metadata": {},
     "output_type": "execute_result"
    }
   ],
   "source": [
    "# Duplicate keys are not allowed\n",
    "# This will not raise an error, but will overwrite the value corresponding to the key\n",
    "d1 = { \n",
    "     'name' : 'ali',\n",
    "     'name' : 'ehtisham',\n",
    "     'name' : 'AYESHA'\n",
    "     }\n",
    "d1"
   ]
  },
  {
   "cell_type": "markdown",
   "id": "4d8b8c67-c9b8-4181-a01a-0fa78c14b8b8",
   "metadata": {},
   "source": [
    "#### c. Keys inside Dictionaries Must be of Immutable data types\n",
    "- The keys of a dictionary has to be of immutable data type `(number, string, tuple)`"
   ]
  },
  {
   "cell_type": "code",
   "execution_count": null,
   "id": "c3cc9187-7121-46bb-bb79-739611e04b2c",
   "metadata": {},
   "outputs": [],
   "source": [
    "# Tuple being immutable can be used as a key\n",
    "d1 = {\n",
    "        'ali':'name', \n",
    "      (60, 78, 83): 'marks' \n",
    "     }\n",
    "d1"
   ]
  },
  {
   "cell_type": "code",
   "execution_count": null,
   "id": "9b8c4add-bb86-476f-b802-80880be75b6b",
   "metadata": {},
   "outputs": [],
   "source": [
    "# List being mutable cannot be used as a key\n",
    "d1 = {\n",
    "      'ali':'name', \n",
    "      [60, 78, 83]:'marks' \n",
    "     }\n",
    "d1"
   ]
  },
  {
   "cell_type": "markdown",
   "id": "a2028649-ced3-4637-98a9-00854cc68b3a",
   "metadata": {},
   "source": [
    "#### d. Values inside Dictionaies can be of mutable/immutable data type"
   ]
  },
  {
   "cell_type": "code",
   "execution_count": null,
   "id": "45d14017-cb0b-4ad2-9edc-caf2b7256609",
   "metadata": {},
   "outputs": [],
   "source": [
    "# List being mutable can be used as a value\n",
    "d1 = {\n",
    "     'name':'Ali', \n",
    "      'marks':[60,78,83] \n",
    "     }\n",
    "d1"
   ]
  },
  {
   "cell_type": "code",
   "execution_count": null,
   "id": "4c659842-2f35-4cde-9a5e-b1cbfa5d0d1d",
   "metadata": {},
   "outputs": [],
   "source": [
    "# Tuple being immutable can also be used as a value\n",
    "d1 = {\n",
    "    'name':'ali', \n",
    "      'marks': (60,78,83) \n",
    "     }\n",
    "d1"
   ]
  },
  {
   "cell_type": "code",
   "execution_count": null,
   "id": "6bdc9f5f-4ae4-4a73-8c7d-57cdec890490",
   "metadata": {},
   "outputs": [],
   "source": []
  },
  {
   "cell_type": "markdown",
   "id": "b2bc90d6-76e1-4093-b8f2-c77e5b50758a",
   "metadata": {},
   "source": [
    "#### e. Dictionaries are heterogeneous\n",
    "- The keys of a dictionary can be of integer, string, or tuple type\n",
    "- The values of a dictionary can be of any data type"
   ]
  },
  {
   "cell_type": "code",
   "execution_count": null,
   "id": "a02b21a2-addf-45b0-99d1-b66d56c9da4f",
   "metadata": {},
   "outputs": [],
   "source": [
    "# dictionary with mixed keys (immutable types only)\n",
    "dict2 = {\n",
    "    'name': 'ali', \n",
    "    1: 10,\n",
    "    'abc':25,\n",
    "    33: 'xyz'\n",
    "}\n",
    "print(dict2)"
   ]
  },
  {
   "cell_type": "code",
   "execution_count": null,
   "id": "c6259588-6125-4154-ba5d-e0ded3cac10f",
   "metadata": {},
   "outputs": [],
   "source": []
  },
  {
   "cell_type": "markdown",
   "id": "196e92d0-189a-4189-8507-bab2689ac858",
   "metadata": {},
   "source": [
    "#### f. Dictionaries can be nested to arbitrary depth"
   ]
  },
  {
   "cell_type": "code",
   "execution_count": null,
   "id": "000ccb7c-4371-4ff9-a8d4-5e1177801526",
   "metadata": {},
   "outputs": [],
   "source": [
    "# Creating a Nested Dictionary\n",
    "dict7 = {\n",
    "        'name':'ehtisham', \n",
    "         'status':'ML Engineer',\n",
    "        'address':{'house#' : 35, 'area' : 'Pak Villas Housing Society', 'city' : 'Okara'},\n",
    "         'phone': '03460000000'\n",
    "        }\n",
    "dict7"
   ]
  },
  {
   "cell_type": "code",
   "execution_count": null,
   "id": "675b0876-447d-4814-8210-779ea6ea536f",
   "metadata": {},
   "outputs": [],
   "source": []
  },
  {
   "cell_type": "markdown",
   "id": "440d6a9e-1dc1-4460-a416-0ee82a1fe805",
   "metadata": {},
   "source": [
    "### 3. Accessing Elements of a Dictionary\n",
    "#### a. Retrieving a `value`of a Dictionary given a `key`\n",
    "- Given a key, you can retrieve corresponding value from a dictionary using two ways:\n",
    "    - Use key inside `[]` operator\n",
    "    - Pass the key as argument to `dict.get(key)` method"
   ]
  },
  {
   "cell_type": "code",
   "execution_count": null,
   "id": "7f8136bd-6454-4e56-99ab-7fbb92972a96",
   "metadata": {},
   "outputs": [],
   "source": [
    "# List[5], str[4:10]"
   ]
  },
  {
   "cell_type": "code",
   "execution_count": null,
   "id": "69b4a115-51c9-432d-9949-c5b5b875df31",
   "metadata": {},
   "outputs": [],
   "source": [
    "d1 = {\n",
    "    'name':'Ehisham', \n",
    "    'age':22, \n",
    "    'address':'Pak Villas', \n",
    "    'marks':[60, 75, 80]\n",
    "}\n",
    "d1"
   ]
  },
  {
   "cell_type": "code",
   "execution_count": null,
   "id": "9adce9bb-84be-473b-9fd3-36724d1d04fc",
   "metadata": {},
   "outputs": [],
   "source": [
    "d1['address']"
   ]
  },
  {
   "cell_type": "code",
   "execution_count": null,
   "id": "eb9bb280-652d-41c1-9101-f9e6aa12d36a",
   "metadata": {},
   "outputs": [],
   "source": [
    "d1.get('marks')"
   ]
  },
  {
   "cell_type": "code",
   "execution_count": null,
   "id": "1a9ec817-a0d3-4364-a087-7265e41a23ae",
   "metadata": {},
   "outputs": [],
   "source": [
    "d1['add'] # error"
   ]
  },
  {
   "cell_type": "code",
   "execution_count": null,
   "id": "fbfe7cfb-41d4-41a7-9927-d6a89f6daf4a",
   "metadata": {},
   "outputs": [],
   "source": [
    "d1.get('mark', None)"
   ]
  },
  {
   "cell_type": "code",
   "execution_count": null,
   "id": "5a008d2a-4612-4b2c-8374-3f051ccb82cc",
   "metadata": {},
   "outputs": [],
   "source": []
  },
  {
   "cell_type": "markdown",
   "id": "7974d73d-241b-4a00-b0e7-b8b276b8a1ec",
   "metadata": {},
   "source": [
    "**To retrieve a value from a nested dictionary**"
   ]
  },
  {
   "cell_type": "code",
   "execution_count": null,
   "id": "4569e75d-ab31-4e12-b8f3-7d13387c32cb",
   "metadata": {},
   "outputs": [],
   "source": [
    "# mat1 = # list 4th row 5th value"
   ]
  },
  {
   "cell_type": "code",
   "execution_count": null,
   "id": "2f5b4b03-2a88-42a3-857d-b39d261c10a2",
   "metadata": {},
   "outputs": [],
   "source": [
    "d2 = {\n",
    "        'name':'ehtisham', \n",
    "         'status':'ML Engineer',\n",
    "        'address':{'house#' : 35, \n",
    "                   'area' : 'Pak Villas Housing Society', \n",
    "                   'city' : 'Okara'},\n",
    "         'phone': '03460000000'\n",
    "        }\n",
    "d2"
   ]
  },
  {
   "cell_type": "code",
   "execution_count": null,
   "id": "d3c7f673-28c2-4d60-92fe-0d769d20282e",
   "metadata": {},
   "outputs": [],
   "source": [
    "d2['address']"
   ]
  },
  {
   "cell_type": "code",
   "execution_count": null,
   "id": "c9b4650c-a6df-474b-8ca8-8762933c90c7",
   "metadata": {},
   "outputs": [],
   "source": [
    "d2['address']['city']"
   ]
  },
  {
   "cell_type": "code",
   "execution_count": null,
   "id": "4a1e44f7-2732-4bdb-b3e0-a5bf8ea2367f",
   "metadata": {},
   "outputs": [],
   "source": [
    "d2.get('address').get('city')"
   ]
  },
  {
   "cell_type": "code",
   "execution_count": null,
   "id": "9f9d05be-2303-4925-9eeb-63dfb4ef38e5",
   "metadata": {},
   "outputs": [],
   "source": [
    "# d2['city']"
   ]
  },
  {
   "cell_type": "markdown",
   "id": "dbffbe4b-97ae-4c43-939f-05a40cc6b75a",
   "metadata": {},
   "source": [
    "#### c. Retrieving all `key:value` pairs from a Dictionary using `dict.items()`  method\n",
    "- The `dict.items()` method returns all the key-value pairs of a dictionary as a two object tuple"
   ]
  },
  {
   "cell_type": "code",
   "execution_count": 3,
   "id": "c5ce42c1-20c7-44e5-9e19-9680789f0543",
   "metadata": {},
   "outputs": [
    {
     "data": {
      "text/plain": [
       "{'name': 'ehtisham',\n",
       " 'status': 'ML Engineer',\n",
       " 'address': {'house#': 35,\n",
       "  'area': 'Pak Villas Housing Society',\n",
       "  'city': 'Okara'},\n",
       " 'phone': '03460000000'}"
      ]
     },
     "execution_count": 3,
     "metadata": {},
     "output_type": "execute_result"
    }
   ],
   "source": [
    "# Creating a Nested Dictionary\n",
    "d1 = {\n",
    "        'name':'ehtisham', \n",
    "         'status':'ML Engineer',\n",
    "        'address':{'house#' : 35, 'area' : 'Pak Villas Housing Society', 'city' : 'Okara'},\n",
    "         'phone': '03460000000'\n",
    "        }\n",
    " \n",
    "d1"
   ]
  },
  {
   "cell_type": "code",
   "execution_count": 4,
   "id": "8845d68e-a55b-41a8-8f92-1493878018a0",
   "metadata": {},
   "outputs": [
    {
     "data": {
      "text/plain": [
       "dict_items([('name', 'ehtisham'), ('status', 'ML Engineer'), ('address', {'house#': 35, 'area': 'Pak Villas Housing Society', 'city': 'Okara'}), ('phone', '03460000000')])"
      ]
     },
     "execution_count": 4,
     "metadata": {},
     "output_type": "execute_result"
    }
   ],
   "source": [
    "l1 = d1.items()\n",
    "l1\n",
    "\n",
    "#  list -> [], tuple -> ()"
   ]
  },
  {
   "cell_type": "markdown",
   "id": "8fe31e98-1e1f-4630-ab3c-8c5222e4e713",
   "metadata": {},
   "source": [
    "#### d. Retrieving all `keys` of a Dictionary using `dict.keys()`  method\n",
    "- The `dict.keys()` method returns all the keys  of a dictionary object"
   ]
  },
  {
   "cell_type": "markdown",
   "id": "2847252c-0c4d-4906-a7e3-d1ddffe1ead0",
   "metadata": {},
   "source": [
    "#### e. Retrieving all `values` from a Dictionary using `dict.values()`  method\n",
    "- The `dict.values()` method returns all the values  of a dict object\n",
    "- If a value occurs multiple times in the dictionary, it will appear that many times"
   ]
  },
  {
   "cell_type": "code",
   "execution_count": null,
   "id": "f7f1d38e-d483-47e4-96ce-96fd7e3bb356",
   "metadata": {},
   "outputs": [],
   "source": [
    "d1.keys()"
   ]
  },
  {
   "cell_type": "code",
   "execution_count": null,
   "id": "0d8fb398-0cde-4906-bf9a-14e0acbd5fed",
   "metadata": {},
   "outputs": [],
   "source": [
    "d1.values()"
   ]
  },
  {
   "cell_type": "code",
   "execution_count": null,
   "id": "da028878-872e-4687-b20a-e24ff6755205",
   "metadata": {},
   "outputs": [],
   "source": []
  },
  {
   "cell_type": "markdown",
   "id": "505976f8-7c3f-4d8b-be91-046c22b1fb0d",
   "metadata": {},
   "source": [
    "### 4. Adding/Modifying Elements of a Dictionary\n",
    "#### a. Adding/Modifying Elements using `[]` Operator\n",
    "- You can  modify value associated with a key using `[]` operator and assignment statement\n",
    "```\n",
    "dict[key] = value\n",
    "```\n",
    "- If the key donot already exist, a new key:value is inserted in the dictionary"
   ]
  },
  {
   "cell_type": "code",
   "execution_count": null,
   "id": "198b9fd4-8987-4c34-a2ab-a2be2009f7df",
   "metadata": {},
   "outputs": [],
   "source": [
    "d1 = {\n",
    "    'name':'Ehtisham', \n",
    "    'age':22, \n",
    "    'address':'Pak Villas', \n",
    "    'marks':[60, 75, 80]\n",
    "}\n",
    "d1"
   ]
  },
  {
   "cell_type": "code",
   "execution_count": null,
   "id": "664665a9-1b24-4f61-9093-797c9b60ae3d",
   "metadata": {},
   "outputs": [],
   "source": [
    "d1['address']"
   ]
  },
  {
   "cell_type": "code",
   "execution_count": null,
   "id": "fd87d2a1-f4ea-4a2d-b30f-95948d8f7ce3",
   "metadata": {},
   "outputs": [],
   "source": [
    "# Modify value corresponding to an existing key\n",
    "d1['address'] = 'Township'\n",
    "d1"
   ]
  },
  {
   "cell_type": "code",
   "execution_count": null,
   "id": "f06b963e-1402-40f0-8243-ae9795e92ca7",
   "metadata": {},
   "outputs": [],
   "source": [
    "# Adding a new key:value pair\n",
    "d1['key1'] = 'value1'\n",
    "d1"
   ]
  },
  {
   "cell_type": "code",
   "execution_count": null,
   "id": "984b190e-e434-4667-8125-d7637dd6405d",
   "metadata": {},
   "outputs": [],
   "source": []
  },
  {
   "cell_type": "markdown",
   "id": "3b735121-5428-4f8e-a377-53cdc316aec5",
   "metadata": {},
   "source": [
    "#### b. Modifying Elements using `d1.update()` method \n",
    "- The `d1.update()` method is used to update the value corresponding to an existing key inside the dictionary\n",
    "```\n",
    "dict.update(key:value)\n",
    "```\n",
    "- If the key donot already exist, a new key:value is inserted in the dictionary"
   ]
  },
  {
   "cell_type": "code",
   "execution_count": null,
   "id": "193addc6-fafb-4f79-a42d-2fb87f226f80",
   "metadata": {},
   "outputs": [],
   "source": [
    "# Create a simple dictionary\n",
    "d1 = {\n",
    "    'name':'Ali', \n",
    "    'age':20, \n",
    "    'address':'Pak Villas', \n",
    "    'marks':[60, 75, 80]\n",
    "}\n",
    "d1"
   ]
  },
  {
   "cell_type": "code",
   "execution_count": null,
   "id": "f0d7fe11-160e-4f2f-9bd8-817f2136d277",
   "metadata": {},
   "outputs": [],
   "source": [
    "# Modify value corresponding to an existing key\n",
    "d1.update({'name':'Ehtisham Sadiq'})\n",
    "d1"
   ]
  },
  {
   "cell_type": "markdown",
   "id": "4ade9691-b88a-4c15-80ca-894abe2b61eb",
   "metadata": {},
   "source": [
    "**You can use the `dict.update()` method to merge two dictionaries**\n",
    "\n"
   ]
  },
  {
   "cell_type": "code",
   "execution_count": null,
   "id": "fd116ec0-fa8d-4e95-85a5-deb4645123ce",
   "metadata": {},
   "outputs": [],
   "source": [
    "d1 = {\n",
    "    'name':'Ehtisham Sadiq', \n",
    "    'age':22, \n",
    "}\n",
    "\n",
    "d2 = {\n",
    "    'address':'Pak Villas', \n",
    "    'marks':[60, 75, 80],\n",
    "    'age':21\n",
    "}"
   ]
  },
  {
   "cell_type": "code",
   "execution_count": null,
   "id": "1c52af03-e1c2-4e5d-b5fb-1a63f9c2af40",
   "metadata": {},
   "outputs": [],
   "source": [
    "d1.update(d2)\n",
    "d1"
   ]
  },
  {
   "cell_type": "code",
   "execution_count": null,
   "id": "dd8f9db6-2cc2-4d7a-9562-812ebb7dae6f",
   "metadata": {},
   "outputs": [],
   "source": []
  },
  {
   "cell_type": "markdown",
   "id": "246bde1a-ff99-4eb4-9055-794dd8c68b6c",
   "metadata": {},
   "source": [
    "### 5. Removing Elements from a Dictionary\n",
    "#### a. Removing Element using `[]` operator\n",
    "- To delete a dictionary element use the `del d1[key]` \n",
    "- To delete an entire dictionary from memory use `del d1` "
   ]
  },
  {
   "cell_type": "code",
   "execution_count": null,
   "id": "3da26e21-32a7-4d2b-b3e6-4fc7b31aef2f",
   "metadata": {},
   "outputs": [],
   "source": [
    "d1 = {\n",
    "    'name':'Ali', \n",
    "    'age':20, \n",
    "    'address':'Pak Villas', \n",
    "    'marks':[60, 75, 80]\n",
    "}\n",
    "d1"
   ]
  },
  {
   "cell_type": "code",
   "execution_count": null,
   "id": "c74a04da-20d5-4697-9be4-b3a48cfaf172",
   "metadata": {},
   "outputs": [],
   "source": [
    "del d1['age']\n",
    "d1"
   ]
  },
  {
   "cell_type": "code",
   "execution_count": null,
   "id": "eb09dd3b-585e-44d6-9791-ab350fb5179d",
   "metadata": {},
   "outputs": [],
   "source": [
    "# this will delete the whole directory\n",
    "del d1\n",
    "print(d1)  # will generate an error now"
   ]
  },
  {
   "cell_type": "markdown",
   "id": "cb06caae-b655-4262-8a16-429ac38cab24",
   "metadata": {},
   "source": [
    "#### b. Removing Element using `d1.popitem()` Method\n",
    "- The `d1.popitem()` removes and returns a (key,value) pair as a 2-tuple\n",
    "- Pairs are returned in LIFO order, i.e., last inserted element is returned\n",
    "- Raises KeyError if the dict is empty"
   ]
  },
  {
   "cell_type": "code",
   "execution_count": null,
   "id": "9ec7df8c-d7a9-45bf-a69d-eadcf07ef38b",
   "metadata": {},
   "outputs": [],
   "source": [
    "d1 = {\n",
    "    'name':'Ehtisham', \n",
    "    'age':22, \n",
    "    'address':'Pak Villas', \n",
    "    'marks':[60, 75, 80]\n",
    "}\n",
    "d1"
   ]
  },
  {
   "cell_type": "code",
   "execution_count": null,
   "id": "1805973b-6217-41ec-9b69-4af2955e99ba",
   "metadata": {},
   "outputs": [],
   "source": [
    "d1.popitem()"
   ]
  },
  {
   "cell_type": "markdown",
   "id": "16ba9f8e-6e4d-4139-9c2d-629de2c494b3",
   "metadata": {},
   "source": [
    "#### c. Removing Element using `d1.pop(key)` Method\n",
    "- The `d1.pop(key)` returns the value only of the key passed as its required argument\n",
    "- Moreover, the corresponding key-value pair is also removed from the dictionary\n",
    "- If key is not found a KeyError is raised"
   ]
  },
  {
   "cell_type": "code",
   "execution_count": null,
   "id": "c6394428-7dab-4fc8-b6e3-5f2406c8644e",
   "metadata": {},
   "outputs": [],
   "source": [
    "d1 = {\n",
    "    'name':'Ehtisham', \n",
    "    'age':22, \n",
    "    'address':'Pak Villas', \n",
    "    'marks':[60, 75, 80]\n",
    "}\n",
    "d1"
   ]
  },
  {
   "cell_type": "code",
   "execution_count": null,
   "id": "945c878c-3f2e-4a56-98fb-bde05c567fc9",
   "metadata": {},
   "outputs": [],
   "source": [
    "d1.pop('name')"
   ]
  },
  {
   "cell_type": "code",
   "execution_count": null,
   "id": "e86955d7-04da-4cfb-a5be-dd710e243821",
   "metadata": {},
   "outputs": [],
   "source": [
    "d1"
   ]
  },
  {
   "cell_type": "code",
   "execution_count": null,
   "id": "350c3c2e-85a8-4cf0-998a-55d8065b3ab2",
   "metadata": {},
   "outputs": [],
   "source": [
    "d1.pop('nok?ey') #This will raise an error"
   ]
  },
  {
   "cell_type": "markdown",
   "id": "747f0993-4bcd-447e-bf77-1eeaff983bc0",
   "metadata": {},
   "source": [
    "#### d. Removing Element using `d1.clear()` Method\n",
    "- The `d1.clear()` removes all items from the dictionary and returns None"
   ]
  },
  {
   "cell_type": "code",
   "execution_count": null,
   "id": "9684ccae-4bc3-4e34-b605-32ddd94facaa",
   "metadata": {},
   "outputs": [],
   "source": [
    "# Try it by yourself"
   ]
  },
  {
   "cell_type": "code",
   "execution_count": null,
   "id": "b2374c1e-5f74-49cc-b947-56dc9590d73f",
   "metadata": {},
   "outputs": [],
   "source": []
  },
  {
   "cell_type": "markdown",
   "id": "d651c54a-6734-4b6c-b4ab-0533c51a0e5e",
   "metadata": {},
   "source": [
    "### 6. Dictionary, Tuple and List conversions"
   ]
  },
  {
   "cell_type": "code",
   "execution_count": 5,
   "id": "07af5955-47d5-45d7-af02-c9d762a36d02",
   "metadata": {},
   "outputs": [
    {
     "data": {
      "text/plain": [
       "{'Name': 'Ehtisham Sadiq',\n",
       " 'Sex': 'Male',\n",
       " 'Age': 23,\n",
       " 'Height': 5.7,\n",
       " 'Profession': 'ML Engineer'}"
      ]
     },
     "execution_count": 5,
     "metadata": {},
     "output_type": "execute_result"
    }
   ],
   "source": [
    "# Create a simple dictionary for these operations\n",
    "d1 = {\n",
    "    'Name': 'Ehtisham Sadiq', \n",
    "    'Sex': 'Male', \n",
    "    'Age': 23, \n",
    "    'Height': 5.7, \n",
    "    'Profession': 'ML Engineer'\n",
    "}\n",
    "d1"
   ]
  },
  {
   "cell_type": "code",
   "execution_count": 6,
   "id": "8e4cdaf1-c41c-4eab-806a-1a30cf0627c2",
   "metadata": {},
   "outputs": [],
   "source": [
    "# The items() method, returns an object of dict_items containing two value tuples\n",
    "rv = d1.items()"
   ]
  },
  {
   "cell_type": "code",
   "execution_count": 7,
   "id": "2992c1dc-1126-4998-ac28-36fa09111506",
   "metadata": {},
   "outputs": [
    {
     "name": "stdout",
     "output_type": "stream",
     "text": [
      "dict_items([('Name', 'Ehtisham Sadiq'), ('Sex', 'Male'), ('Age', 23), ('Height', 5.7), ('Profession', 'ML Engineer')])\n",
      "\n",
      " <class 'dict_items'>\n"
     ]
    }
   ],
   "source": [
    "print(rv)\n",
    "print(\"\\n\", type(rv))"
   ]
  },
  {
   "cell_type": "code",
   "execution_count": 8,
   "id": "947079d1-0776-47a3-9d4e-04d8858cd594",
   "metadata": {},
   "outputs": [
    {
     "name": "stdout",
     "output_type": "stream",
     "text": [
      "(('Name', 'Ehtisham Sadiq'), ('Sex', 'Male'), ('Age', 23), ('Height', 5.7), ('Profession', 'ML Engineer'))\n",
      "\n",
      " <class 'tuple'>\n"
     ]
    }
   ],
   "source": [
    "# You can convert dictionary key-value pairs into a tuple containing two valued tuples\n",
    "t1 = tuple(d1.items())\n",
    "print(t1)\n",
    "print(\"\\n\", type(t1))"
   ]
  },
  {
   "cell_type": "code",
   "execution_count": null,
   "id": "21e7f6b3-0a97-46f5-b1ed-ce557a235280",
   "metadata": {},
   "outputs": [],
   "source": []
  },
  {
   "cell_type": "code",
   "execution_count": 9,
   "id": "a2f4234a-0589-4ffd-a410-671cb2bea1ee",
   "metadata": {},
   "outputs": [
    {
     "name": "stdout",
     "output_type": "stream",
     "text": [
      "('Name', 'Sex', 'Age', 'Height', 'Profession')\n",
      "\n",
      " <class 'tuple'>\n"
     ]
    }
   ],
   "source": [
    "#converting dictionary keys only into a tuple\n",
    "t1 = tuple(d1.keys())\n",
    "print(t1)\n",
    "print(\"\\n\", type(t1))"
   ]
  },
  {
   "cell_type": "code",
   "execution_count": null,
   "id": "3cd36a4d-0e75-4676-a512-23e5cb0568bb",
   "metadata": {},
   "outputs": [],
   "source": []
  },
  {
   "cell_type": "code",
   "execution_count": 10,
   "id": "0d74be8d-0a7d-4480-9825-3241865531ef",
   "metadata": {},
   "outputs": [
    {
     "name": "stdout",
     "output_type": "stream",
     "text": [
      "\n",
      " ['Ehtisham Sadiq', 'Male', 23, 5.7, 'ML Engineer']\n",
      "<class 'list'>\n"
     ]
    }
   ],
   "source": [
    "#converting dictionary values only into a list\n",
    "mylist = list(d1.values())\n",
    "print(\"\\n\", mylist)\n",
    "print(type(mylist))"
   ]
  },
  {
   "cell_type": "code",
   "execution_count": null,
   "id": "3fe87b57-da58-44d9-9b62-44c196ced45e",
   "metadata": {},
   "outputs": [],
   "source": []
  },
  {
   "cell_type": "markdown",
   "id": "d10fc9db-c731-49df-aaa4-2cb0fa58331e",
   "metadata": {},
   "source": [
    "### 7. Sorting a Dictionary by Values\n",
    "- We can use the built-in function `sorted(iterable)` to get a sorted copy of a dictionary (by value). \n",
    "- The `sorted(iterable)` returns a sorted version of the iterable, without making any change to the iterable. \n",
    "- It's syntax is quite similar to `list.sort()` method, however, the iterator to be sorted needs to be passed as a required parameteras shown below:\n",
    "```\n",
    "    sorted(iterable, key=None, reverse=False)\n",
    "```\n",
    "- By default the `reverse` argument is `False`, you override the default behavior by passing a `True` value to this argument to perform a descending sort\n",
    "- A custom key function can also be supplied to customize the sort order."
   ]
  },
  {
   "cell_type": "markdown",
   "id": "33e46fee-2e3e-4e90-b232-3cb450e7b277",
   "metadata": {},
   "source": [
    "**Consider the following dictionary having `names` as keys and `marks` as values**"
   ]
  },
  {
   "cell_type": "code",
   "execution_count": null,
   "id": "93e3f387-139c-4c98-8df2-42b8610929fe",
   "metadata": {},
   "outputs": [],
   "source": [
    "dict1 = {\n",
    "        'Ehtisham Sadiq': 81, \n",
    "        'Ayesha Sadiq':90, \n",
    "        'Ali Sadiq':76, \n",
    "        'Dua Sadiq':73,\n",
    "        'Khubaib Sadiq':93,\n",
    "        'Adeen Sadiq': 88\n",
    "        }\n",
    "dict1"
   ]
  },
  {
   "cell_type": "code",
   "execution_count": null,
   "id": "4cb79bcc-698b-4b70-ba9c-de2723df32cd",
   "metadata": {},
   "outputs": [],
   "source": [
    "sorted(dict1)"
   ]
  },
  {
   "cell_type": "code",
   "execution_count": null,
   "id": "d63abc86-00dd-40da-b015-1f6dd31e4113",
   "metadata": {},
   "outputs": [],
   "source": [
    "sorted(dict1, reverse=True)"
   ]
  },
  {
   "cell_type": "markdown",
   "id": "08c1c0b5-1c0a-48d8-918b-9d4c6826b536",
   "metadata": {},
   "source": [
    "**When you pass a dictionary object to the `sorted()` function, it will return the list of sorted dictionary keys**"
   ]
  },
  {
   "cell_type": "code",
   "execution_count": null,
   "id": "587be72f-3909-4b9b-900b-a976180e6990",
   "metadata": {},
   "outputs": [],
   "source": [
    "sorted(dict1.keys())"
   ]
  },
  {
   "cell_type": "markdown",
   "id": "d7bf0d77-622e-4826-91e7-02ccbaca47eb",
   "metadata": {},
   "source": [
    "**Similarly you can pass the values only to the `sorted()` function, and it will return the list of sorted values**"
   ]
  },
  {
   "cell_type": "code",
   "execution_count": null,
   "id": "23190a1d-016e-4df0-b890-4ba1351ddc3c",
   "metadata": {},
   "outputs": [],
   "source": [
    "d2 = sorted(dict1.values())\n",
    "d2"
   ]
  },
  {
   "cell_type": "markdown",
   "id": "7ac7ec30-7cba-4038-8c07-1a5c12a22b2d",
   "metadata": {},
   "source": [
    "**Let us do customized sorting with Python Dictionaries**"
   ]
  },
  {
   "cell_type": "markdown",
   "id": "10f603bf-cbb0-4afe-8884-166deb2608d5",
   "metadata": {},
   "source": [
    "**Example 1: Suppose we have a dictionary containing student names along with their marks and we want to sort the dictionary by highest marks of the students first**"
   ]
  },
  {
   "cell_type": "code",
   "execution_count": null,
   "id": "bb6a56d8-d2ac-4157-bf41-2633d7fe26c0",
   "metadata": {},
   "outputs": [],
   "source": [
    "dict1 = {\n",
    "        'Ehtisham Sadiq': 81, \n",
    "        'Ayesha Sadiq':90, \n",
    "        'Ali Sadiq':76, \n",
    "        'Dua Sadiq':73,\n",
    "        'Khubaib Sadiq':93,\n",
    "        'Adeen Sadiq': 88\n",
    "        }\n",
    "dict1"
   ]
  },
  {
   "cell_type": "code",
   "execution_count": null,
   "id": "bd44916a-384b-4f04-bb4a-3014b268bf99",
   "metadata": {},
   "outputs": [],
   "source": [
    "ls = list(dict1.items())\n",
    "type(ls)"
   ]
  },
  {
   "cell_type": "code",
   "execution_count": null,
   "id": "0af9a70b-64d7-4334-9a89-587d683ee1dc",
   "metadata": {},
   "outputs": [],
   "source": [
    "print(ls)"
   ]
  },
  {
   "cell_type": "code",
   "execution_count": null,
   "id": "a2b9aaca-aea9-4726-829e-00d57d66d92a",
   "metadata": {},
   "outputs": [],
   "source": [
    "ls[0][0], ls[0][1]"
   ]
  },
  {
   "cell_type": "code",
   "execution_count": null,
   "id": "22d32e6e-4da0-41dc-8f59-5be166a130fe",
   "metadata": {},
   "outputs": [],
   "source": [
    "for i in ls:\n",
    "    print(type(i))\n",
    "    print(i)\n",
    "    print(\"\\n\")"
   ]
  },
  {
   "cell_type": "code",
   "execution_count": null,
   "id": "67a7c3c9-c758-4f4c-8e5a-31589fed6a96",
   "metadata": {},
   "outputs": [],
   "source": [
    "for i in ls:\n",
    "    print(i[1])"
   ]
  },
  {
   "cell_type": "code",
   "execution_count": null,
   "id": "4098e752-a0de-4196-9f05-1447e514672c",
   "metadata": {},
   "outputs": [],
   "source": [
    "# dict1.items()\n",
    "for m in dict1.items():\n",
    "    print(m, m[1])"
   ]
  },
  {
   "cell_type": "markdown",
   "id": "4bc43488-3041-487e-9c1a-b6a957e18d1b",
   "metadata": {},
   "source": [
    "**Answer**"
   ]
  },
  {
   "cell_type": "code",
   "execution_count": null,
   "id": "4bf9836c-c041-4c98-95bc-78e066f47367",
   "metadata": {},
   "outputs": [],
   "source": [
    "# Function receives a key:value tuple (key, value) and returns the value\n",
    "def func1(item):\n",
    "    return item[1]"
   ]
  },
  {
   "cell_type": "code",
   "execution_count": null,
   "id": "3ad40897-29d3-4e61-b338-a196b44c4b42",
   "metadata": {},
   "outputs": [],
   "source": [
    "mylist = sorted(dict1.items(), key = func1, reverse=True)"
   ]
  },
  {
   "cell_type": "code",
   "execution_count": null,
   "id": "c93a5056-828b-4115-b7d4-74f88540bd98",
   "metadata": {},
   "outputs": [],
   "source": [
    "mylist"
   ]
  },
  {
   "cell_type": "markdown",
   "id": "208513c1-46ca-48fe-80fc-904a266d0114",
   "metadata": {},
   "source": [
    "Note the `sorted()` function returned a list object in which each element is a two valued tuple having (key,value) pairs. You can always typecast such lists to a dictionary object"
   ]
  },
  {
   "cell_type": "code",
   "execution_count": null,
   "id": "ca026ce0-e82f-44c6-963f-32725ecdf42c",
   "metadata": {},
   "outputs": [],
   "source": [
    "sorted_dict = dict(mylist)\n",
    "print(sorted_dict)"
   ]
  },
  {
   "cell_type": "code",
   "execution_count": null,
   "id": "8a780345-932a-4ee3-aca7-1d422e0e3e25",
   "metadata": {},
   "outputs": [],
   "source": [
    "type(sorted_dict)"
   ]
  },
  {
   "cell_type": "markdown",
   "id": "46bdd09d-a8c9-4cde-9326-44b00167d605",
   "metadata": {},
   "source": [
    "**Example 2: Suppose we have a JSON array containing name, age and grades of students. We want to sort it by the age of the students.**\n",
    "- JSON stands for JavaScript Object Notation\n",
    "- JSON is a text format for storing and transporting data\n",
    "- A JSON string has comma separated `key:value` pairs"
   ]
  },
  {
   "cell_type": "code",
   "execution_count": 11,
   "id": "9aa965df-9bc2-4b24-ba4a-0f89623e68e5",
   "metadata": {},
   "outputs": [
    {
     "data": {
      "text/plain": [
       "[{'name': 'Ehtisham Sadiq', 'age': 23, 'grade': 'B'},\n",
       " {'name': 'Ali Sadiq', 'age': 20, 'grade': 'A'},\n",
       " {'name': 'Ayesha Sadiq', 'age': 17, 'grade': 'C'},\n",
       " {'name': 'Dua Sadiq', 'age': 7, 'grade': 'D'},\n",
       " {'name': 'Adeen Sadiq', 'age': 3, 'grade': 'A'},\n",
       " {'name': 'Khubaib Sadiq', 'age': 5, 'grade': 'B'}]"
      ]
     },
     "execution_count": 11,
     "metadata": {},
     "output_type": "execute_result"
    }
   ],
   "source": [
    "# The following JSON array defines a student object with 3 properties: `name`, `age`, and `grade`\n",
    "# It is actually a list containing dictionary objects each object containing three key:value pairs\n",
    "students = [\n",
    "         {\"name\": \"Ehtisham Sadiq\", \"age\": 23, \"grade\": \"B\"},\n",
    "         {\"name\": \"Ali Sadiq\", \"age\": 20, \"grade\": \"A\"},\n",
    "         {\"name\": \"Ayesha Sadiq\", \"age\": 17, \"grade\": \"C\"},\n",
    "         {\"name\": \"Dua Sadiq\", \"age\": 7, \"grade\": \"D\"},\n",
    "         {\"name\": \"Adeen Sadiq\", \"age\": 3, \"grade\": \"A\"},\n",
    "         {\"name\": \"Khubaib Sadiq\", \"age\": 5, \"grade\": \"B\"}\n",
    "        ]\n",
    "students"
   ]
  },
  {
   "cell_type": "code",
   "execution_count": 12,
   "id": "d229c7e5-4f1a-453f-8209-3740541a6301",
   "metadata": {},
   "outputs": [
    {
     "name": "stdout",
     "output_type": "stream",
     "text": [
      "{'name': 'Ehtisham Sadiq', 'age': 23, 'grade': 'B'}\n",
      "23\n",
      "B\n",
      "\n",
      "\n",
      "{'name': 'Ali Sadiq', 'age': 20, 'grade': 'A'}\n",
      "20\n",
      "A\n",
      "\n",
      "\n",
      "{'name': 'Ayesha Sadiq', 'age': 17, 'grade': 'C'}\n",
      "17\n",
      "C\n",
      "\n",
      "\n",
      "{'name': 'Dua Sadiq', 'age': 7, 'grade': 'D'}\n",
      "7\n",
      "D\n",
      "\n",
      "\n",
      "{'name': 'Adeen Sadiq', 'age': 3, 'grade': 'A'}\n",
      "3\n",
      "A\n",
      "\n",
      "\n",
      "{'name': 'Khubaib Sadiq', 'age': 5, 'grade': 'B'}\n",
      "5\n",
      "B\n",
      "\n",
      "\n"
     ]
    }
   ],
   "source": [
    "for i in students:\n",
    "    print(i)\n",
    "    print(i.get('age'))\n",
    "    print(i.get('grade'))\n",
    "    print(\"\\n\")"
   ]
  },
  {
   "cell_type": "code",
   "execution_count": 13,
   "id": "05268539-60ad-4a9a-9c5a-04514a0d7118",
   "metadata": {},
   "outputs": [],
   "source": [
    "# Function receives a dictionary object and returns the value corresponding to key age in that dictionary\n",
    "def func2(item):\n",
    "     return item.get('age') #return item['age']"
   ]
  },
  {
   "cell_type": "code",
   "execution_count": 14,
   "id": "463a88ce-17c6-4eff-980e-5249ad83d378",
   "metadata": {},
   "outputs": [
    {
     "data": {
      "text/plain": [
       "[{'name': 'Adeen Sadiq', 'age': 3, 'grade': 'A'},\n",
       " {'name': 'Khubaib Sadiq', 'age': 5, 'grade': 'B'},\n",
       " {'name': 'Dua Sadiq', 'age': 7, 'grade': 'D'},\n",
       " {'name': 'Ayesha Sadiq', 'age': 17, 'grade': 'C'},\n",
       " {'name': 'Ali Sadiq', 'age': 20, 'grade': 'A'},\n",
       " {'name': 'Ehtisham Sadiq', 'age': 23, 'grade': 'B'}]"
      ]
     },
     "execution_count": 14,
     "metadata": {},
     "output_type": "execute_result"
    }
   ],
   "source": [
    "sorted_students = sorted(students, key = func2, reverse=False)\n",
    "\n",
    "sorted_students"
   ]
  },
  {
   "cell_type": "code",
   "execution_count": null,
   "id": "3912191d-fb44-41ca-9c3d-03178fa2803f",
   "metadata": {},
   "outputs": [],
   "source": []
  },
  {
   "cell_type": "markdown",
   "id": "6d8048e2-b234-48cf-8db4-26cdce805d6f",
   "metadata": {},
   "source": [
    "Note the `sorted()` function returned a list object in which each element is a dictionary object having three key:value pairs"
   ]
  },
  {
   "cell_type": "markdown",
   "id": "7bd94bd9-561d-4158-80fc-318f43842289",
   "metadata": {},
   "source": [
    "### 8. Simple Assignment (aliasing) vs Shallow Copy vs Deep Copy"
   ]
  },
  {
   "cell_type": "code",
   "execution_count": null,
   "id": "fc3bbdc1-968e-4143-bee6-bfd23fa086dd",
   "metadata": {},
   "outputs": [],
   "source": [
    "# Do it by yourself"
   ]
  },
  {
   "cell_type": "code",
   "execution_count": null,
   "id": "e811cffe-db6f-43b9-a79d-0e0b36cf14c0",
   "metadata": {},
   "outputs": [],
   "source": []
  },
  {
   "cell_type": "markdown",
   "id": "04130fa8-7ad8-4f90-a68a-11efc56a8647",
   "metadata": {},
   "source": [
    "![](images/dict_operations.jpg)"
   ]
  },
  {
   "cell_type": "code",
   "execution_count": null,
   "id": "ef6dfe5e-cffc-40ed-af1e-970d012061c3",
   "metadata": {},
   "outputs": [],
   "source": []
  },
  {
   "cell_type": "markdown",
   "id": "428f06af-0a15-4cda-bcd6-87e7b83489f9",
   "metadata": {},
   "source": [
    "## Check your Concepts\n",
    "\n",
    "Try answering the following questions to test your understanding of the topics covered in this notebook:\n",
    "\n",
    "\n",
    "1. What is a dictionary in Python?\n",
    "2. How do you create a dictionary?\n",
    "3. What are keys and values?\n",
    "4. How do you access the value associated with a specific key in a dictionary?\n",
    "5. What happens if you try to access the value for a key that doesn't exist in a dictionary?\n",
    "6. Can a dictionary have two keys with the same value? Two values with the same key?\n",
    "7. Define a dictionary that maps month name abbreviations to month names.\n",
    "8. Define a dictionary with five entries that maps student identification numbers to \n",
    "their full names.\n",
    "9. What is the `.get` method of a dictionary used for?\n",
    "10. How do you change the value associated with a key in a dictionary?\n",
    "11. How do you add or remove a key-value pair in a dictionary?\n",
    "12. How do you access the keys, values, and key-value pairs within a dictionary?\n",
    "13. Describe/Differentiate the concept of aliasing, shallow copy and deep copy using assignment statement, `dict.copy()`, `copy.copy()` and `copy.deepcopy()` methods\n",
    "14. Practice sorting dictionaries having different types of `key:value` combinations\n",
    "15. Create and initialize a dictionary that maps the English words `one` through `five` to the numbers 1 through 5.\n",
    "16. Which part of a dictionary element must be immutable?\n",
    "17. What is the difference between the dictionary methods pop and popitem?\n",
    "18.  What does the items method return?\n",
    "19.  What does the keys method return?\n",
    "20.  What does the values method return?"
   ]
  },
  {
   "cell_type": "code",
   "execution_count": null,
   "id": "23ddd558-3288-4b60-8a6c-590c4c69d689",
   "metadata": {},
   "outputs": [],
   "source": []
  },
  {
   "cell_type": "code",
   "execution_count": null,
   "id": "38fbc900-2b0c-4dc1-a14e-25711d17876d",
   "metadata": {},
   "outputs": [],
   "source": []
  },
  {
   "cell_type": "code",
   "execution_count": null,
   "id": "3f466580-e8a8-4485-8f19-00319ef490a4",
   "metadata": {},
   "outputs": [],
   "source": []
  },
  {
   "cell_type": "code",
   "execution_count": null,
   "id": "65b03c8a-d76a-4b34-a41e-043e8bb68608",
   "metadata": {},
   "outputs": [],
   "source": []
  },
  {
   "cell_type": "code",
   "execution_count": null,
   "id": "0e1bf999-0579-49e4-b07d-461103f39637",
   "metadata": {},
   "outputs": [],
   "source": []
  },
  {
   "cell_type": "code",
   "execution_count": null,
   "id": "5297021b-2663-492b-a1a3-fbd65d9c3275",
   "metadata": {},
   "outputs": [],
   "source": []
  },
  {
   "cell_type": "code",
   "execution_count": null,
   "id": "3111a7b7-7eb6-4269-9e2c-b9a3d8d47ace",
   "metadata": {},
   "outputs": [],
   "source": []
  },
  {
   "cell_type": "code",
   "execution_count": null,
   "id": "39b27de3-3009-422c-930c-ac7fd1269101",
   "metadata": {},
   "outputs": [],
   "source": []
  },
  {
   "cell_type": "code",
   "execution_count": null,
   "id": "5c0a6bc3-050d-40b6-ba08-6267ef5a45ce",
   "metadata": {},
   "outputs": [],
   "source": []
  },
  {
   "cell_type": "code",
   "execution_count": null,
   "id": "26897994-5c3f-49ba-bd4d-157ee817fdbb",
   "metadata": {},
   "outputs": [],
   "source": []
  },
  {
   "cell_type": "code",
   "execution_count": null,
   "id": "7f963433-32ed-4d3a-acf5-c85f47867abd",
   "metadata": {},
   "outputs": [],
   "source": []
  },
  {
   "cell_type": "code",
   "execution_count": null,
   "id": "4969f3c8-a2b3-4a74-bd8d-6286531a74ea",
   "metadata": {},
   "outputs": [],
   "source": []
  },
  {
   "cell_type": "code",
   "execution_count": null,
   "id": "22740125-e570-4a6c-a746-5e7fb450bb5d",
   "metadata": {},
   "outputs": [],
   "source": []
  },
  {
   "cell_type": "code",
   "execution_count": null,
   "id": "88340ff5-47e3-43e0-ac9f-106864d75bac",
   "metadata": {},
   "outputs": [],
   "source": []
  },
  {
   "cell_type": "code",
   "execution_count": null,
   "id": "eda21130-11a0-4265-9b34-008b6e177927",
   "metadata": {},
   "outputs": [],
   "source": []
  },
  {
   "cell_type": "code",
   "execution_count": null,
   "id": "c0986945-fd0b-4eb9-9f54-de0782de75de",
   "metadata": {},
   "outputs": [],
   "source": [
    "mylist = sorted(dict1.items(), key = func1, reverse=True)\n",
    "\n",
    "print(mylist)"
   ]
  },
  {
   "cell_type": "code",
   "execution_count": 1,
   "id": "e25c32e4-9dcc-4695-981d-e46c6cf5fd48",
   "metadata": {},
   "outputs": [
    {
     "data": {
      "text/html": [
       "\n",
       "    <style>\n",
       "        body {\n",
       "            background-color: #f2fff2;\n",
       "        }\n",
       "        h1 {\n",
       "            text-align: center;\n",
       "            font-weight: bold;\n",
       "            font-size: 36px;\n",
       "            color: #4295F4;\n",
       "            text-decoration: underline;\n",
       "            padding-top: 15px;\n",
       "        }\n",
       "        \n",
       "        h2 {\n",
       "            text-align: left;\n",
       "            font-weight: bold;\n",
       "            font-size: 30px;\n",
       "            color: #4A000A;\n",
       "            text-decoration: underline;\n",
       "            padding-top: 10px;\n",
       "        }\n",
       "        \n",
       "        h3 {\n",
       "            text-align: left;\n",
       "            font-weight: bold;\n",
       "            font-size: 30px;\n",
       "            color: #f0081e;\n",
       "            text-decoration: underline;\n",
       "            padding-top: 5px;\n",
       "        }\n",
       "\n",
       "        \n",
       "        p {\n",
       "            text-align: center;\n",
       "            font-size: 12 px;\n",
       "            color: #0B9923;\n",
       "        }\n",
       "    </style>\n",
       "\n",
       "<h1>Hello</h1>\n",
       "<p>Hello World</p>\n",
       "<h2> Hello</h2>\n",
       "<h3> World </h3>\n"
      ],
      "text/plain": [
       "<IPython.core.display.HTML object>"
      ]
     },
     "execution_count": 1,
     "metadata": {},
     "output_type": "execute_result"
    }
   ],
   "source": [
    "from IPython.core.display import HTML\n",
    "\n",
    "style = \"\"\"\n",
    "    <style>\n",
    "        body {\n",
    "            background-color: #f2fff2;\n",
    "        }\n",
    "        h1 {\n",
    "            text-align: center;\n",
    "            font-weight: bold;\n",
    "            font-size: 36px;\n",
    "            color: #4295F4;\n",
    "            text-decoration: underline;\n",
    "            padding-top: 15px;\n",
    "        }\n",
    "        \n",
    "        h2 {\n",
    "            text-align: left;\n",
    "            font-weight: bold;\n",
    "            font-size: 30px;\n",
    "            color: #4A000A;\n",
    "            text-decoration: underline;\n",
    "            padding-top: 10px;\n",
    "        }\n",
    "        \n",
    "        h3 {\n",
    "            text-align: left;\n",
    "            font-weight: bold;\n",
    "            font-size: 30px;\n",
    "            color: #f0081e;\n",
    "            text-decoration: underline;\n",
    "            padding-top: 5px;\n",
    "        }\n",
    "\n",
    "        \n",
    "        p {\n",
    "            text-align: center;\n",
    "            font-size: 12 px;\n",
    "            color: #0B9923;\n",
    "        }\n",
    "    </style>\n",
    "\"\"\"\n",
    "\n",
    "html_content = \"\"\"\n",
    "<h1>Hello</h1>\n",
    "<p>Hello World</p>\n",
    "<h2> Hello</h2>\n",
    "<h3> World </h3>\n",
    "\"\"\"\n",
    "\n",
    "HTML(style + html_content)"
   ]
  },
  {
   "cell_type": "code",
   "execution_count": null,
   "id": "fd2eaf12-7c7a-4ad5-ba7a-39ab466a0b1d",
   "metadata": {},
   "outputs": [],
   "source": []
  }
 ],
 "metadata": {
  "kernelspec": {
   "display_name": "Python 3 (ipykernel)",
   "language": "python",
   "name": "python3"
  },
  "language_info": {
   "codemirror_mode": {
    "name": "ipython",
    "version": 3
   },
   "file_extension": ".py",
   "mimetype": "text/x-python",
   "name": "python",
   "nbconvert_exporter": "python",
   "pygments_lexer": "ipython3",
   "version": "3.11.7"
  }
 },
 "nbformat": 4,
 "nbformat_minor": 5
}
