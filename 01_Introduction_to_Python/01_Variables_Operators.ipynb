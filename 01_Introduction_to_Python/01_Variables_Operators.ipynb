{
 "cells": [
  {
   "cell_type": "markdown",
   "id": "cebff409-95c6-4c42-a4c6-48c76087a333",
   "metadata": {},
   "source": [
    "### Variables in Python\n",
    "● print() Function / Built-in function   \n",
    "● What is variable   \n",
    "● Variables Names   \n",
    "● Declaring Variables and Assigning Values   \n",
    "● Object References   \n",
    "● Object Identity   \n",
    "● Multiple Assignments   \n",
    "● Python Variables Types   \n",
    "● Delete a variable   \n",
    "● The maximum possible value of an integer in Python   \n",
    "● Print single and multiple variables in Python  "
   ]
  },
  {
   "cell_type": "code",
   "execution_count": 2,
   "id": "940266ea-3563-4539-8f8d-f1e020def7e4",
   "metadata": {},
   "outputs": [],
   "source": [
    "# print() -> builtin function\n",
    "\n",
    "# "
   ]
  },
  {
   "cell_type": "code",
   "execution_count": null,
   "id": "e867f944-066c-4254-a007-7b25e8220c11",
   "metadata": {},
   "outputs": [],
   "source": [
    "print("
   ]
  },
  {
   "cell_type": "code",
   "execution_count": null,
   "id": "eb41b42f-94a6-4551-b827-338be05c147d",
   "metadata": {},
   "outputs": [],
   "source": []
  },
  {
   "cell_type": "code",
   "execution_count": null,
   "id": "20648a0b-5502-447e-b762-2d97f99b4364",
   "metadata": {},
   "outputs": [],
   "source": []
  }
 ],
 "metadata": {
  "kernelspec": {
   "display_name": "Python 3 (ipykernel)",
   "language": "python",
   "name": "python3"
  },
  "language_info": {
   "codemirror_mode": {
    "name": "ipython",
    "version": 3
   },
   "file_extension": ".py",
   "mimetype": "text/x-python",
   "name": "python",
   "nbconvert_exporter": "python",
   "pygments_lexer": "ipython3",
   "version": "3.11.7"
  }
 },
 "nbformat": 4,
 "nbformat_minor": 5
}
