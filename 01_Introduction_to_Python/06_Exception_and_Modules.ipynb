{
 "cells": [
  {
   "cell_type": "markdown",
   "id": "037b9831",
   "metadata": {},
   "source": [
    "\n",
    "<h1 align=\"center\" style=\"color:red\">Python-Exceptions </h1>"
   ]
  },
  {
   "cell_type": "code",
   "execution_count": null,
   "id": "acf0c011",
   "metadata": {},
   "outputs": [],
   "source": []
  },
  {
   "cell_type": "markdown",
   "id": "27711bd2",
   "metadata": {},
   "source": [
    "## Learning agenda of this notebook\n",
    "1. What are syntax errors?\n",
    "2. What are exceptions?\n",
    "3. How to handle exceptions?\n",
    "4. Types of exceptions in Python\n",
    "5. Multiple `except` clauses\n",
    "6. Python `else` clause and `finally` keyword\n",
    "7. Python `raise` keyword to raise an Exception"
   ]
  },
  {
   "cell_type": "code",
   "execution_count": null,
   "id": "2afd74bd-7126-430a-a7a0-ec8057c6c6e9",
   "metadata": {},
   "outputs": [],
   "source": [
    "# final vs finally keywords?"
   ]
  },
  {
   "cell_type": "markdown",
   "id": "3aa307b8",
   "metadata": {},
   "source": [
    "## 1. What are Syntax Errors??\n",
    "- **Syntax Errors or Parsing Errors:** are errors that are raised before the program/script actually starts its execution. Some common parsing errors in Python are: incorrect indentation, leaving out a symbol (e.g., collon or bracket), empty block. "
   ]
  },
  {
   "cell_type": "code",
   "execution_count": null,
   "id": "603a0030",
   "metadata": {},
   "outputs": [],
   "source": []
  },
  {
   "cell_type": "code",
   "execution_count": null,
   "id": "c7bb9b30",
   "metadata": {},
   "outputs": [],
   "source": [
    "# Example 1: An example of syntax Error (An unmatched bracket)\n",
    "print(1/0))"
   ]
  },
  {
   "cell_type": "markdown",
   "id": "1beadc90",
   "metadata": {},
   "source": [
    "**Note that in case of a syntax error in your program, none of the statement is executed**"
   ]
  },
  {
   "cell_type": "code",
   "execution_count": null,
   "id": "50d834be",
   "metadata": {},
   "outputs": [],
   "source": [
    "# Example 2: An example of syntax Error (Incorrect Indentation)\n",
    "1/0               # note this error is not raised\n",
    "print('This will not be printed')\n",
    "if True:\n",
    "print(\"Hello\")"
   ]
  },
  {
   "cell_type": "code",
   "execution_count": null,
   "id": "b7a32a8e",
   "metadata": {},
   "outputs": [],
   "source": [
    "### Syntax Error vs Logical Error vs Runtime Error"
   ]
  },
  {
   "cell_type": "markdown",
   "id": "048085d1-6523-4a89-998f-9bab4b7e755c",
   "metadata": {},
   "source": [
    "<img src=\"https://miro.medium.com/v2/resize:fit:1400/format:webp/1*Pu15kzIBscgBxb_pQXpBnA.png\">"
   ]
  },
  {
   "cell_type": "markdown",
   "id": "5bb06d31",
   "metadata": {},
   "source": [
    "## 2. What are Exceptions?\n",
    "- **Exceptions:** An exception is an error that happens during the execution of a syntactically correct program, (e.g., division by zero), that disrupts the normal flow of program execution. When an exception occurs, Python generates an appropriate exception object (representing error)"
   ]
  },
  {
   "cell_type": "code",
   "execution_count": null,
   "id": "350f4af0",
   "metadata": {},
   "outputs": [],
   "source": [
    "# Example 1: ZeroDivisionError is an exception that is raised when you perform a division by zero.\n",
    "print(\"Hello\")\n",
    "print(1/0)\n",
    "print(\"End\")"
   ]
  },
  {
   "cell_type": "code",
   "execution_count": null,
   "id": "3b9c12e7",
   "metadata": {},
   "outputs": [],
   "source": [
    "# Example 2: IndexError is an exception that is raised when trying to access a list index out of range\n",
    "print(\"Hello\")\n",
    "mylist = [5, 33, 21]\n",
    "print(mylist[8])"
   ]
  },
  {
   "cell_type": "code",
   "execution_count": null,
   "id": "b2ee38ae",
   "metadata": {},
   "outputs": [],
   "source": []
  },
  {
   "cell_type": "code",
   "execution_count": null,
   "id": "73ba5f15",
   "metadata": {},
   "outputs": [],
   "source": []
  },
  {
   "cell_type": "markdown",
   "id": "5ec1d7d2",
   "metadata": {},
   "source": [
    "## 3. How to Handle Exceptions?\n",
    "<img align=\"center\" width=\"600\" height=\"800\"  src=\"images/newexceptions1.png\" > \n",
    "\n",
    "- In Python **try** and **except** keywords are used to catch and handle exceptions respectively. \n",
    "- Instructions that can raise exceptions are kept inside the `try block` and the instructions that handle the exception are written inside `except block`. \n",
    "- The code inside the `except block` will execute only in case, when the program encounters some error in the preceding `try block`.\n",
    "- Let us handle the exception `ValueError` that is raised in above program"
   ]
  },
  {
   "cell_type": "code",
   "execution_count": null,
   "id": "c13be3a9",
   "metadata": {},
   "outputs": [],
   "source": []
  },
  {
   "cell_type": "code",
   "execution_count": null,
   "id": "32e9af8f",
   "metadata": {},
   "outputs": [],
   "source": [
    "# Example 1: Handle ValueError (if the user inputs a string instead of number)\n",
    "try:\n",
    "    print(\"Hello!\")\n",
    "    far = float(input(\"Enter Fahrenheit Temprature: \"))\n",
    "    cel = (far - 32.0) * 5.0/9.0\n",
    "    print (cel)\n",
    "    print(\"Hi\")\n",
    "\n",
    "# This block will exectue the program without any crash    \n",
    "except:\n",
    "    print(\"An error occurred\")\n",
    "    print(\"Done!\")\n",
    "\n",
    "print(\"GR8 going\")"
   ]
  },
  {
   "cell_type": "code",
   "execution_count": null,
   "id": "24ae669f",
   "metadata": {},
   "outputs": [],
   "source": [
    "# Example 2: Three errors are there in the try block: ZeroDivisionError, NameError, and TypeError\n",
    "# A try clause is executed up until the point, where the first exception is encountered\n",
    "try:\n",
    "    # z = 45 / 0\n",
    "    print(\"Hello\")\n",
    "    # print(Z)\n",
    "    print(\"Hi\")\n",
    "    a = 34 + 'hello'\n",
    "    print(\"Done!\")\n",
    "    \n",
    "# This block will exectue the program without any crash\n",
    "except Exception as e:\n",
    "    print(\"An error occurred\")\n",
    "    print(e)"
   ]
  },
  {
   "cell_type": "markdown",
   "id": "73e10931",
   "metadata": {},
   "source": [
    "**The above example of try-except statement is good as it is simple and can catch all types of exception. However, it does not help the programmer identify the root cause of the problem**"
   ]
  },
  {
   "cell_type": "markdown",
   "id": "954ccc09",
   "metadata": {},
   "source": [
    "## 4. Types of Exceptions in Python\n",
    "- There are several built-in exceptions in Python that are raised when an error occur. Some common examples of Python built-in exceptions are:\n",
    "   - **ZeroDivisionError** is raised when you perform a division by zero.\n",
    "   - **ValueError** is raised when a function or built-in operation receives an argument that has the right type but an inappropriate value.\n",
    "   - **NameError** is raised when the Python interpreter encounters a symbol that does not exist.\n",
    "   - **TypeError** is raised when you try performing an operation on unsupported types (e.g., 5 + 'hello').\n",
    "   - **IndexError** is raised when you try to refer a sequence which is out of range.\n",
    "   - **IOError** is raised when an IO operation fails, e.g.,  trying to open a file that do not exist.\n",
    "   - **EOFError** is raised when built-in function like input() hits an end of file condition, without reading any data.\n",
    "   - **ImportError** is raised when an import statement fails to find the module.\n",
    "   - **AssertionError** is raised when an assert statement fails (an assert statement allows you to create simple debug message outputs based on simple logical assertions).\n",
    ">- When an exception occurs the appropriate Exception class object is sent to the `except` clause, that we can receive as an argument.        ```except Exception as e: ```\n",
    ">- The Exception class object received contains additional information about the raised exception, so as to handle it accordingly."
   ]
  },
  {
   "cell_type": "code",
   "execution_count": null,
   "id": "fc7fff9b",
   "metadata": {},
   "outputs": [],
   "source": []
  },
  {
   "cell_type": "code",
   "execution_count": null,
   "id": "ef4a15c7",
   "metadata": {},
   "outputs": [],
   "source": [
    "# Example code that specifies the type of exception raised\n",
    "try:\n",
    "    # z = 45 / 0\n",
    "    # print(Z)\n",
    "    a = 34 + 'hello'\n",
    "except Exception as e:\n",
    "    print(\"Exception occured: \", e)"
   ]
  },
  {
   "cell_type": "code",
   "execution_count": null,
   "id": "57597f8f",
   "metadata": {},
   "outputs": [],
   "source": []
  },
  {
   "cell_type": "code",
   "execution_count": null,
   "id": "eadf68bd",
   "metadata": {},
   "outputs": [],
   "source": []
  },
  {
   "cell_type": "markdown",
   "id": "710fc4dd",
   "metadata": {},
   "source": [
    "## 5. Multiple `except` Clauses\n",
    "- Inside a try block, there may be different exceptions that can be raised.\n",
    "- Being a programmer we would like to write different handlers for different exceptions.\n",
    "- To handle this, we can have multiple except blocks for one try block.\n",
    "- The except block corresponding to the first raised exception will be executed. \n",
    "- Note: In Python there is no concept of default catch block as in C++"
   ]
  },
  {
   "cell_type": "code",
   "execution_count": null,
   "id": "d112145f",
   "metadata": {},
   "outputs": [],
   "source": [
    "try:\n",
    "    # z = 45 / 0\n",
    "    # print(Z)\n",
    "    # a = 34 + 'hello'\n",
    "    # list1 = [1, 5, 9]\n",
    "    # print(list1[3])\n",
    "    import kakamanna             #ModuleNotFounderror\n",
    "except ZeroDivisionError:\n",
    "    print(\"ZeroDivisionError Occurred and Handled\")\n",
    "except NameError:\n",
    "    print(\"NameError Occurred and Handled\")\n",
    "except TypeError:\n",
    "    print(\"TypeError Occurred and Handled\")\n",
    "except IndexError:\n",
    "    print(\"IndexError Occurred and Handled\")\n",
    "except ModuleNotFoundError:\n",
    "    print(\"ModuleNotFoundError Occurred and Handled\")"
   ]
  },
  {
   "cell_type": "code",
   "execution_count": null,
   "id": "3121031c",
   "metadata": {},
   "outputs": [],
   "source": []
  },
  {
   "cell_type": "markdown",
   "id": "1b4c8ab0",
   "metadata": {},
   "source": [
    "## 6. Python `try-except` with `else` Clause and `finally` Keyword\n",
    "<img align=\"center\" width=\"400\" height=\"600\"  src=\"images/exceptions2.png\" > "
   ]
  },
  {
   "cell_type": "code",
   "execution_count": null,
   "id": "dbc69977",
   "metadata": {},
   "outputs": [],
   "source": []
  },
  {
   "cell_type": "markdown",
   "id": "9d831a7f",
   "metadata": {},
   "source": [
    "### a. The  `else` Clause\n",
    "- The **`else clause`** is used if you want to execute a piece of code that should execute when no exception is raised.\n",
    "- The **`else clause`** in the try-except block must be placed after all the except clauses.\n",
    "- The code enters the else block only if the try clause does not raise an exception."
   ]
  },
  {
   "cell_type": "code",
   "execution_count": null,
   "id": "47ee21e1",
   "metadata": {},
   "outputs": [],
   "source": [
    "try:\n",
    "    list1 = [1, 5, 9]\n",
    "    print(\"List Elements are: \", list1)\n",
    "    print(A)\n",
    "\n",
    "except ZeroDivisionError:\n",
    "    print(\"ZeroDivisionError Occurred and Handled\")\n",
    "except NameError:\n",
    "    print(\"NameError Occurred and Handled\")\n",
    "except TypeError:\n",
    "    print(\"TypeError Occurred and Handled\")\n",
    "except IndexError:\n",
    "    print(\"IndexError Occurred and Handled\")\n",
    "else:           \n",
    "    print(\"This will execute if try clause does not raise an exception\")"
   ]
  },
  {
   "cell_type": "code",
   "execution_count": null,
   "id": "f02683d7",
   "metadata": {},
   "outputs": [],
   "source": []
  },
  {
   "cell_type": "markdown",
   "id": "4141c81b",
   "metadata": {},
   "source": [
    "### b. The `finally` Keyword\n",
    "- The **`finally clause`** is used to execute a piece of code that must execute, whether the `try-block` raise an exception or not.\n",
    "- The **`finally clause`** in the `try-except` block must be placed after all the `except` clauses, even after the `else` clause. \n",
    "- Used to define clean-up actions that must be executed under all circumstances."
   ]
  },
  {
   "cell_type": "code",
   "execution_count": null,
   "id": "d20ab9d9",
   "metadata": {},
   "outputs": [],
   "source": [
    "try:\n",
    "    list1 = [1, 5, 9]\n",
    "    print(\"List Elements are: \", list1)\n",
    "    print(Z)\n",
    "\n",
    "except ZeroDivisionError:\n",
    "    print(\"ZeroDivisionError Occurred and Handled\")\n",
    "except NameError:\n",
    "    print(\"NameError Occurred and Handled\")\n",
    "except TypeError:\n",
    "    print(\"TypeError Occurred and Handled\")\n",
    "except IndexError:\n",
    "    print(\"IndexError Occurred and Handled\")\n",
    "else:           \n",
    "    print(\"This will execute if try clause does not raise an exception\")\n",
    "finally:\n",
    "    print(\"This will always be executed\")"
   ]
  },
  {
   "cell_type": "code",
   "execution_count": null,
   "id": "c3c2b9fa",
   "metadata": {},
   "outputs": [],
   "source": []
  },
  {
   "cell_type": "markdown",
   "id": "10542042",
   "metadata": {},
   "source": [
    "## 7. Python `raise` Keword to Raise an Exception\n",
    "- The Python `raise` keyword is used to raise an exception.\n",
    "- You can define what kind of exception to raise, and the text to print to the user."
   ]
  },
  {
   "cell_type": "code",
   "execution_count": null,
   "id": "1d34ca97",
   "metadata": {},
   "outputs": [],
   "source": [
    "# Example 1: Raise an exception if x is negative and display an appropriate message to user as to what went wrong\n",
    "# age = -1\n",
    "age = 5\n",
    "if age < 0:\n",
    "    raise Exception(\"x should not be negative. The value of age was {}\".format(age))\n",
    "print(\"Program continues as age is positive\")"
   ]
  },
  {
   "cell_type": "code",
   "execution_count": null,
   "id": "a2ae1c75",
   "metadata": {},
   "outputs": [],
   "source": []
  },
  {
   "cell_type": "code",
   "execution_count": null,
   "id": "9b221010",
   "metadata": {},
   "outputs": [],
   "source": [
    "#Example 2: Raise an exception if x is not a number and display an appropriate message\n",
    "# x = \"hello\"\n",
    "x = 5\n",
    "if not type(x) is int:\n",
    "    raise TypeError(\"Only integers are allowed\")\n",
    "print(\"Program continues as x is a number\")"
   ]
  },
  {
   "cell_type": "code",
   "execution_count": null,
   "id": "5b0b352d",
   "metadata": {},
   "outputs": [],
   "source": []
  },
  {
   "cell_type": "markdown",
   "id": "1b6c472d",
   "metadata": {},
   "source": [
    ">In above examples, when we used the `raise` keyword, whenever the condition evaluated to true, the exception was raised and our program crashed midway"
   ]
  },
  {
   "cell_type": "code",
   "execution_count": null,
   "id": "9b41850e",
   "metadata": {},
   "outputs": [],
   "source": []
  },
  {
   "cell_type": "code",
   "execution_count": null,
   "id": "12e706d1",
   "metadata": {},
   "outputs": [],
   "source": []
  },
  {
   "cell_type": "markdown",
   "id": "3c7cc6ce",
   "metadata": {},
   "source": [
    "## Check your Concepts\n",
    "\n",
    "Try answering the following questions to test your understanding of the topics covered in this notebook:\n",
    "\n",
    "1. What are exceptions in Python? When do they occur?\n",
    "2. How are exceptions different from syntax errors?\n",
    "3. What are the different types of in-built exceptions in Python? Where can you learn about them?\n",
    "4. How do you prevent the termination of a program due to an exception?\n",
    "5. What is the purpose of the `try`-`except` statements in Python?\n",
    "6. What is the syntax of the `try`-`except` statements? Give an example.\n",
    "7. What happens if an exception occurs inside a `try` block?\n",
    "8. How do you handle two different types of exceptions using `except`? Can you have multiple `except` blocks under a single `try` block?\n",
    "9. How do you create an `except` block to handle any type of exception?\n",
    "10. Illustrate the usage of `try`-`except` inside a function with an example.\n",
    "11. Differentiate between checked and unchecked exceptions\n",
    "    - **Checked Exceptions** are the exceptions which occur at compile time (e.g., file not found, no such function). Since Python is not compiled, so checked exceptions don't make much sense.\n",
    "    - **Unchecked Exception** are the exceptions which are not checked by the compiler (e.g., arithmetic exception, array out of bound). If not handled by programmer properly, the program terminate at runtime. \n",
    "12. Dig out details about User-Defined Exceptions. Python also allows you to create your own exception classes by deriving them from the standard built-in Exception class. This is useful when you need to display more specific information when an exception is caught. Dig out details about user-defined exceptions from this link:https://docs.python.org/3/tutorial/errors.html#user-defined-exceptions"
   ]
  },
  {
   "cell_type": "code",
   "execution_count": null,
   "id": "e1cb9d94",
   "metadata": {},
   "outputs": [],
   "source": []
  },
  {
   "cell_type": "code",
   "execution_count": null,
   "id": "2569604b",
   "metadata": {},
   "outputs": [],
   "source": []
  },
  {
   "cell_type": "markdown",
   "id": "3f009d4a",
   "metadata": {},
   "source": [
    "\n",
    "\n",
    "<h1 align=\"center\" style=\"color:red\">Python Built-in Modules</h1>\n",
    "\n",
    "\n",
    "#### [Check out the full list of Python Built-in modules](https://docs.python.org/3/py-modindex.html)"
   ]
  },
  {
   "cell_type": "code",
   "execution_count": null,
   "id": "e649ae98",
   "metadata": {},
   "outputs": [],
   "source": []
  },
  {
   "cell_type": "markdown",
   "id": "6fb1e84f",
   "metadata": {},
   "source": [
    "## Learning agenda of this notebook\n",
    "Python has tons of Built-in modules that can be read from above link. In this notebook file, we will be discussing a short but important subset of it:\n",
    "1. What are Python Built-in Modules\n",
    "2. Different ways to import a Module in Python\n",
    "3. The Math Module \n",
    "4. The Random Module\n",
    "5. The Time Module\n",
    "6. The DateTime Module\n",
    "7. The Calendar Module\n",
    "8. The OS Module\n",
    "9. The URLLIB Module"
   ]
  },
  {
   "cell_type": "code",
   "execution_count": null,
   "id": "2e8e6829",
   "metadata": {},
   "outputs": [],
   "source": []
  },
  {
   "cell_type": "code",
   "execution_count": null,
   "id": "3e9859d2",
   "metadata": {},
   "outputs": [],
   "source": [
    "# !ls Files/"
   ]
  },
  {
   "cell_type": "code",
   "execution_count": null,
   "id": "1a0d6f2f-de9a-4937-a302-ff9cf360e303",
   "metadata": {},
   "outputs": [],
   "source": [
    "# !cat Files/atm.py"
   ]
  },
  {
   "cell_type": "code",
   "execution_count": null,
   "id": "43fcf001-8349-4914-a78b-d3989379b44e",
   "metadata": {},
   "outputs": [],
   "source": [
    "# !cat Files/file.py"
   ]
  },
  {
   "cell_type": "markdown",
   "id": "50ad5e55",
   "metadata": {},
   "source": [
    "## 1.  What are Python Built-in Modules\n",
    "- In Python, Modules are simply files with the `. py` extension containing Python code (variables, functions, classes etc) that can be imported inside another Python Program. \n",
    "- You can think of Python module like a C library, which is linked with C program during the linking phase.\n",
    "- Some advantages of Modular programming are:\n",
    ">- **Modularity:** We use modules to break down large programs into small manageable and organized files. \n",
    ">- **Simplicity:** Rather than focusing the entire problem at hand, a module typically focuses on one relatively small portion of the problem.\n",
    ">- **Maintainability:** Modules are typically designed so that they enforce logical boundries between different problem domains.\n",
    ">- **Reusability:** Functionality defined in a single module can be easily reused (through an appropriately defined interface) by other parts of the application. This eliminates the need to duplicate code. We can define our most used functions in a module and import it, instead of copying their definitions into different programs.\n",
    ">- **Scoping:** Modules typically define a separate namespace, which helps avoid collisions between identifiers in different areas of a program. The key benefit of using modules is _namespaces_: you must import the module to use its functions within a Python script or notebook. Namespaces provide encapsulation and avoid naming conflicts between your code and a module or across modules.\n",
    "\n",
    "\n",
    "> **Note**:  A module is a single file of Python code that is meant to be imported, while a Python package is a simple directory having collections of Python modules under a common namespace. "
   ]
  },
  {
   "cell_type": "code",
   "execution_count": null,
   "id": "3d688504",
   "metadata": {},
   "outputs": [],
   "source": [
    "# Modules -> Single file of code\n",
    "# Packages -> Multiple files of code"
   ]
  },
  {
   "cell_type": "markdown",
   "id": "7922ac39",
   "metadata": {},
   "source": [
    "## 2. Ways to Import a Python Module\n",
    "- Python math module contains rich set of functions, that allows you to perform mathematical tasks on numbers.\n",
    "- Since the math module comes packaged with the Python release, you don't have to install it separately. Using it is just a matter of importing the module"
   ]
  },
  {
   "cell_type": "markdown",
   "id": "41737b29",
   "metadata": {},
   "source": [
    "### a. Option 1: `import math`\n",
    ">- We can use the **`import`** keyword to import a module, and later using the module name we can access its functions using the dot . operator, like `math.ceil()`  "
   ]
  },
  {
   "cell_type": "code",
   "execution_count": null,
   "id": "unable-plasma",
   "metadata": {},
   "outputs": [],
   "source": [
    "import math"
   ]
  },
  {
   "cell_type": "code",
   "execution_count": null,
   "id": "d48f3f31",
   "metadata": {},
   "outputs": [],
   "source": [
    "# We have seen the use of dir() function. When called without argument it displays symbols of current module\n",
    "print(dir())\n",
    "# del math"
   ]
  },
  {
   "cell_type": "markdown",
   "id": "injured-arbitration",
   "metadata": {},
   "source": [
    "Python dir() function returns the list of names in the current local scope. If the object on which method is called has a method named __dir__(), this method will be called and must return the list of attributes. It takes a single object type argument."
   ]
  },
  {
   "cell_type": "code",
   "execution_count": null,
   "id": "touched-conditions",
   "metadata": {},
   "outputs": [],
   "source": [
    "print(dir(math))"
   ]
  },
  {
   "cell_type": "code",
   "execution_count": null,
   "id": "40bd84f0",
   "metadata": {},
   "outputs": [],
   "source": [
    "print(math.__doc__ , math.__name__ , math.__package__)"
   ]
  },
  {
   "cell_type": "code",
   "execution_count": null,
   "id": "eb9c6a0c",
   "metadata": {},
   "outputs": [],
   "source": [
    "math.pow(2,3)"
   ]
  },
  {
   "cell_type": "code",
   "execution_count": null,
   "id": "22cd180f",
   "metadata": {},
   "outputs": [],
   "source": [
    "print(math.ceil(2.3)) #ceil function for positive value round up our value \n",
    "# and for negative value , function round downs our value\n",
    "\n",
    "print(math.floor(-17.2)) # It is opposite of ceil function\n",
    "\n",
    "print(math.factorial(10))"
   ]
  },
  {
   "cell_type": "code",
   "execution_count": null,
   "id": "01a2098b",
   "metadata": {},
   "outputs": [],
   "source": []
  },
  {
   "cell_type": "markdown",
   "id": "front-effectiveness",
   "metadata": {},
   "source": [
    "math.ceil() function returns the smallest integral value greater than the number. If number is already integer, same number is returned."
   ]
  },
  {
   "cell_type": "markdown",
   "id": "cdf3c072",
   "metadata": {},
   "source": [
    "### b. Option 2: `import math as m`\n",
    ">- We can also import a module by using a short alias, thus saving typing time in some cases. Note that in this case, the name `math` will not be recognized in our scope. Hence, `math.ceil()` is invalid and `m.ceil()` is the correct implementation."
   ]
  },
  {
   "cell_type": "code",
   "execution_count": null,
   "id": "31e728bc",
   "metadata": {},
   "outputs": [],
   "source": [
    "import math as m"
   ]
  },
  {
   "cell_type": "code",
   "execution_count": null,
   "id": "91f766ed",
   "metadata": {},
   "outputs": [],
   "source": []
  },
  {
   "cell_type": "code",
   "execution_count": null,
   "id": "75c286be",
   "metadata": {},
   "outputs": [],
   "source": [
    "print(dir())"
   ]
  },
  {
   "cell_type": "code",
   "execution_count": null,
   "id": "d0c0fe79",
   "metadata": {},
   "outputs": [],
   "source": [
    "print(dir(m))"
   ]
  },
  {
   "cell_type": "code",
   "execution_count": null,
   "id": "7921f0a9",
   "metadata": {},
   "outputs": [],
   "source": [
    "print(m.ceil(2.3))\n",
    "print(m.floor(45.5))"
   ]
  },
  {
   "cell_type": "code",
   "execution_count": null,
   "id": "05c261ac",
   "metadata": {},
   "outputs": [],
   "source": [
    "m.pow(2,3)"
   ]
  },
  {
   "cell_type": "code",
   "execution_count": null,
   "id": "b9aa324e",
   "metadata": {},
   "outputs": [],
   "source": []
  },
  {
   "cell_type": "markdown",
   "id": "a6ace8fb",
   "metadata": {},
   "source": [
    "### c. Option 3:`from math import ceil`        OR       `from math import ceil, floor`\n",
    ">- We can use the **`from`** keyword to import specific name(s) from a module instead of importing the entire contents of a module. This way we don't have to use the dot operator and can access the function directly by its name"
   ]
  },
  {
   "cell_type": "code",
   "execution_count": null,
   "id": "b62713ff",
   "metadata": {},
   "outputs": [],
   "source": [
    "from math import ceil, floor, pow\n",
    "print(dir())"
   ]
  },
  {
   "cell_type": "code",
   "execution_count": null,
   "id": "8ff2b36b",
   "metadata": {},
   "outputs": [],
   "source": [
    "print(ceil(2.3))\n",
    "print(pow(2,3))"
   ]
  },
  {
   "cell_type": "code",
   "execution_count": null,
   "id": "e267673b",
   "metadata": {},
   "outputs": [],
   "source": []
  },
  {
   "cell_type": "markdown",
   "id": "53ef1c74",
   "metadata": {},
   "source": [
    "### d. Option 4:`from math import *`\n",
    ">- We can import all the attributes from a module using asterik `*` construct. The difference between `import math` and `from math import *` is that in the later case you can don't have to use the dot operator and can directly use the functions, e.g., `ceil()`\n"
   ]
  },
  {
   "cell_type": "code",
   "execution_count": null,
   "id": "d4b2c91d",
   "metadata": {},
   "outputs": [],
   "source": []
  },
  {
   "cell_type": "code",
   "execution_count": null,
   "id": "50342f76",
   "metadata": {},
   "outputs": [],
   "source": [
    "from math import *\n",
    "print(dir())"
   ]
  },
  {
   "cell_type": "code",
   "execution_count": null,
   "id": "7ff51934",
   "metadata": {},
   "outputs": [],
   "source": [
    "floor(5.7), pow(5,4), sin(30)"
   ]
  },
  {
   "cell_type": "code",
   "execution_count": null,
   "id": "587b4cf3",
   "metadata": {},
   "outputs": [],
   "source": []
  },
  {
   "cell_type": "code",
   "execution_count": null,
   "id": "4fb09cd6",
   "metadata": {},
   "outputs": [],
   "source": []
  },
  {
   "cell_type": "code",
   "execution_count": null,
   "id": "a1475113",
   "metadata": {},
   "outputs": [],
   "source": []
  },
  {
   "cell_type": "code",
   "execution_count": null,
   "id": "0a97850e",
   "metadata": {},
   "outputs": [],
   "source": []
  },
  {
   "cell_type": "code",
   "execution_count": null,
   "id": "17bb3f2a",
   "metadata": {},
   "outputs": [],
   "source": []
  },
  {
   "cell_type": "code",
   "execution_count": null,
   "id": "87d888f4",
   "metadata": {},
   "outputs": [],
   "source": []
  },
  {
   "cell_type": "markdown",
   "id": "e7e56f88",
   "metadata": {},
   "source": [
    "## 3. The `math` Module\n",
    "- Python math module contains rich set of functions, that allows you to perform mathematical tasks on numbers.\n",
    "- Since the math module comes packaged with the Python release, you don't have to install it separately. Using it is just a matter of importing the module\n",
    "#### [Read Python Documentation for details about `math` module](https://docs.python.org/3/library/math.html#module-math)"
   ]
  },
  {
   "cell_type": "markdown",
   "id": "08897acc",
   "metadata": {},
   "source": [
    "### a. Constants of Math Module"
   ]
  },
  {
   "cell_type": "markdown",
   "id": "d28fdb10",
   "metadata": {},
   "source": [
    "- **PI:** \n",
    "    - PI is the ratio of a circle's circumference (c) to its diameter (d).\n",
    "    - It is an irrational number, so it can be approximated to the value 22/7 = 3.141592...\n",
    "    - You can access its value since it is defined as a constant inside the math module with the name of 'pi', and is given correct upto 15 digits after the decimal point\n",
    "    - Pi has been calculated to over 50 trillion digits beyond its decimal point.  PI’s infinite nature makes it a fun challenge to memorize, and to computationally calculate more and more digits\n",
    "    - Pi Day is celebrated on March 14th (3/14) around the world. "
   ]
  },
  {
   "cell_type": "code",
   "execution_count": null,
   "id": "dated-rings",
   "metadata": {},
   "outputs": [],
   "source": [
    "# First Method\n",
    "from math import *\n",
    "# pi"
   ]
  },
  {
   "cell_type": "code",
   "execution_count": null,
   "id": "9bf94b58",
   "metadata": {},
   "outputs": [],
   "source": [
    "print(dir())"
   ]
  },
  {
   "cell_type": "code",
   "execution_count": null,
   "id": "4f63a1df",
   "metadata": {},
   "outputs": [],
   "source": [
    "pi"
   ]
  },
  {
   "cell_type": "code",
   "execution_count": null,
   "id": "471f1e31",
   "metadata": {},
   "outputs": [],
   "source": [
    "# Second Method\n",
    "import math\n",
    "math.pi"
   ]
  },
  {
   "cell_type": "code",
   "execution_count": null,
   "id": "e4ff38fd",
   "metadata": {},
   "outputs": [],
   "source": []
  },
  {
   "cell_type": "markdown",
   "id": "67d637ae",
   "metadata": {},
   "source": [
    "- **TAU:**\n",
    "    - TAU is the ratio of a circule's circumference (c) to its radius (r).\n",
    "    - This constant is equal to 2PI, or roughly 6.28\n",
    "    - Like PI, TAU is also an irrational number, and can be approximated to the value 2PI = 6.28318..."
   ]
  },
  {
   "cell_type": "code",
   "execution_count": null,
   "id": "028c43a3",
   "metadata": {},
   "outputs": [],
   "source": [
    "# First Method\n",
    "from math import *\n",
    "tau"
   ]
  },
  {
   "cell_type": "code",
   "execution_count": null,
   "id": "e0172761",
   "metadata": {},
   "outputs": [],
   "source": [
    "import math\n",
    "math.tau"
   ]
  },
  {
   "cell_type": "code",
   "execution_count": null,
   "id": "006b7b85",
   "metadata": {},
   "outputs": [],
   "source": []
  },
  {
   "cell_type": "markdown",
   "id": "18f35283",
   "metadata": {},
   "source": [
    "- **NaN (Not a Number):**\n",
    "    - Not a Number is not a mathematical concept, rather is introduced in the field of computer science as a reference to values that are not numeric\n",
    "    - `NaN` value can be due to invalid inputs, or it can indicate that a variable that should be numerical has been corrupted by text characters or symbols"
   ]
  },
  {
   "cell_type": "code",
   "execution_count": null,
   "id": "ec1c16a6",
   "metadata": {},
   "outputs": [],
   "source": [
    "math.nan"
   ]
  },
  {
   "cell_type": "code",
   "execution_count": null,
   "id": "fe15017a",
   "metadata": {},
   "outputs": [],
   "source": [
    "type(math.nan)"
   ]
  },
  {
   "cell_type": "code",
   "execution_count": null,
   "id": "bcd20fa7",
   "metadata": {},
   "outputs": [],
   "source": []
  },
  {
   "cell_type": "markdown",
   "id": "4df04cb5",
   "metadata": {},
   "source": [
    "### b. Arithmetic Functions of Math Module"
   ]
  },
  {
   "cell_type": "markdown",
   "id": "4d543f31",
   "metadata": {},
   "source": [
    "- Factorial of a number is obtained by multiplying that number and all numbers below it till one\n",
    "- Factorial is not defined for negative values as well as for decimal values. Factorial of zero is 1"
   ]
  },
  {
   "cell_type": "code",
   "execution_count": null,
   "id": "1d6edd43",
   "metadata": {},
   "outputs": [],
   "source": []
  },
  {
   "cell_type": "markdown",
   "id": "eaff58d0",
   "metadata": {},
   "source": [
    "### Code using `For` loop"
   ]
  },
  {
   "cell_type": "code",
   "execution_count": 1,
   "id": "ad2e9bd3",
   "metadata": {},
   "outputs": [
    {
     "data": {
      "text/plain": [
       "30414093201713378043612608166064768844377641568960512000000000000"
      ]
     },
     "execution_count": 1,
     "metadata": {},
     "output_type": "execute_result"
    }
   ],
   "source": [
    "def fact_loop(num):\n",
    "    if num < 0:\n",
    "        return 0\n",
    "    if num == 0:\n",
    "        return 1\n",
    "\n",
    "    factorial = 1\n",
    "    for i in range(1, num + 1):\n",
    "        factorial = factorial * i\n",
    "    return factorial\n",
    "fact_loop(50)"
   ]
  },
  {
   "cell_type": "code",
   "execution_count": null,
   "id": "medieval-river",
   "metadata": {},
   "outputs": [],
   "source": []
  },
  {
   "cell_type": "markdown",
   "id": "32daab9f",
   "metadata": {},
   "source": [
    "### Code using `recursion` loop"
   ]
  },
  {
   "cell_type": "code",
   "execution_count": 2,
   "id": "15432514",
   "metadata": {},
   "outputs": [
    {
     "data": {
      "text/plain": [
       "30414093201713378043612608166064768844377641568960512000000000000"
      ]
     },
     "execution_count": 2,
     "metadata": {},
     "output_type": "execute_result"
    }
   ],
   "source": [
    "def fact_recursion(num):\n",
    "    if num < 0:\n",
    "        return 0\n",
    "    if num == 0:\n",
    "        return 1\n",
    "    return num * fact_recursion(num - 1)\n",
    "fact_loop(50)"
   ]
  },
  {
   "cell_type": "code",
   "execution_count": null,
   "id": "ab10b2a6",
   "metadata": {},
   "outputs": [],
   "source": []
  },
  {
   "cell_type": "markdown",
   "id": "f5acd8e2",
   "metadata": {},
   "source": [
    "### Code using `Math` Module"
   ]
  },
  {
   "cell_type": "code",
   "execution_count": 3,
   "id": "95038bb8",
   "metadata": {},
   "outputs": [
    {
     "data": {
      "text/plain": [
       "30414093201713378043612608166064768844377641568960512000000000000"
      ]
     },
     "execution_count": 3,
     "metadata": {},
     "output_type": "execute_result"
    }
   ],
   "source": [
    "import math\n",
    "math.factorial(50)"
   ]
  },
  {
   "cell_type": "code",
   "execution_count": null,
   "id": "215acdd8",
   "metadata": {},
   "outputs": [],
   "source": []
  },
  {
   "cell_type": "markdown",
   "id": "9867d051",
   "metadata": {},
   "source": [
    "**Lets compare the execution time of calculating factorial using above three ways, using the `timeit()` method which returns the time taken to execute the statements a specified number of times**\n",
    "```\n",
    "timeit.timeit(stmt, setup, globals, number)\n",
    "```\n",
    "Where\n",
    "- `stmt`: Code statement(s) whose execution time is to be measured.(Use ; for multiple statements)\n",
    "- `setup`: Used to import some modules or declare some necessary variables. (Use ; for multiple statements)\n",
    "- `globals`: You can simplay pass `globals()` to the globals parameter, which will cause the code to be executed within your current global namespace\n",
    "- `number`: It specifies the number of times stmt will be executed. (Default is 1 million times)"
   ]
  },
  {
   "cell_type": "code",
   "execution_count": 4,
   "id": "09b58dbb",
   "metadata": {},
   "outputs": [
    {
     "data": {
      "text/plain": [
       "1.699849875003565"
      ]
     },
     "execution_count": 4,
     "metadata": {},
     "output_type": "execute_result"
    }
   ],
   "source": [
    "import timeit\n",
    "timeit.timeit(\"fact_loop(50)\", globals=globals(), number = 1000000)"
   ]
  },
  {
   "cell_type": "code",
   "execution_count": 5,
   "id": "b9763a00",
   "metadata": {},
   "outputs": [
    {
     "data": {
      "text/plain": [
       "3.4892523330054246"
      ]
     },
     "execution_count": 5,
     "metadata": {},
     "output_type": "execute_result"
    }
   ],
   "source": [
    "timeit.timeit(\"fact_recursion(50)\", globals=globals(), number = 1000000)"
   ]
  },
  {
   "cell_type": "code",
   "execution_count": 6,
   "id": "e004e08c",
   "metadata": {},
   "outputs": [
    {
     "data": {
      "text/plain": [
       "0.4123697920003906"
      ]
     },
     "execution_count": 6,
     "metadata": {},
     "output_type": "execute_result"
    }
   ],
   "source": [
    "timeit.timeit(\"math.factorial(50)\", setup = \"import math\", number = 1000000)"
   ]
  },
  {
   "cell_type": "code",
   "execution_count": null,
   "id": "4f94dc77",
   "metadata": {},
   "outputs": [],
   "source": []
  },
  {
   "cell_type": "code",
   "execution_count": null,
   "id": "36c8d064",
   "metadata": {},
   "outputs": [],
   "source": [
    "import math\n",
    "print(math.ceil(20.222), math.ceil(-11.85))"
   ]
  },
  {
   "cell_type": "code",
   "execution_count": null,
   "id": "c0ed10e4",
   "metadata": {},
   "outputs": [],
   "source": [
    "import math\n",
    "print(math.floor(20.99), math.floor(-13.1))"
   ]
  },
  {
   "cell_type": "code",
   "execution_count": null,
   "id": "51b4fa7d",
   "metadata": {},
   "outputs": [],
   "source": [
    "math.pow(3,4)\n",
    "math.radians(60)\n",
    "math.fsum([3,4,54,65,76,7,6])"
   ]
  },
  {
   "cell_type": "code",
   "execution_count": null,
   "id": "a2292213",
   "metadata": {},
   "outputs": [],
   "source": [
    "import math\n",
    "math.trunc(20.99), math.trunc(-13.91)"
   ]
  },
  {
   "cell_type": "markdown",
   "id": "c444686b",
   "metadata": {},
   "source": [
    "Return x with the fractional part removed, leaving the integer part. This rounds toward 0: trunc() is equivalent to floor() for positive x, and equivalent to ceil() for negative x. If x is not a float, delegates to x.__trunc__, which should return an Integral value."
   ]
  },
  {
   "cell_type": "code",
   "execution_count": null,
   "id": "27959aa1",
   "metadata": {},
   "outputs": [],
   "source": []
  },
  {
   "cell_type": "markdown",
   "id": "eeb467a3",
   "metadata": {},
   "source": [
    "### c. Power and Logarithmic Functions of Math Module"
   ]
  },
  {
   "cell_type": "code",
   "execution_count": null,
   "id": "755e5ecd",
   "metadata": {},
   "outputs": [],
   "source": [
    "# Example: The power(a,b) function returns a**b. Available in the math module as well as Python built-in function\n",
    "# The pow() function in the math module is computationally faster\n",
    "import math\n",
    "a = 2\n",
    "b = 5\n",
    "print(a**b , pow(a,b), math.pow(a,b))"
   ]
  },
  {
   "cell_type": "code",
   "execution_count": null,
   "id": "0c49c68a",
   "metadata": {},
   "outputs": [],
   "source": [
    "# Example: The sqrt(x) function returns a number y such that y² = x;\n",
    "import math\n",
    "print(math.sqrt(25), math.sqrt(34), math.sqrt(3623))"
   ]
  },
  {
   "cell_type": "code",
   "execution_count": null,
   "id": "f3d224f8",
   "metadata": {},
   "outputs": [],
   "source": [
    "# Example: The exp(x) function returns e**x, where e is Euler's number (2.718281828459045)\n",
    "import math\n",
    "x = 3\n",
    "print(math.e ** x, math.exp(x))"
   ]
  },
  {
   "cell_type": "code",
   "execution_count": null,
   "id": "d7e30bd9",
   "metadata": {},
   "outputs": [],
   "source": [
    "# Example: The log(x, base) function return the logarithm of x to the mentioned base. Default base is e\n",
    "# Logarithm is the inverse function to exponentiation \n",
    "\n",
    "print(math.log(8), math.log(8, math.e), math.log(8, 2), math.log(8, 10))\n"
   ]
  },
  {
   "cell_type": "code",
   "execution_count": null,
   "id": "0eaec94f",
   "metadata": {},
   "outputs": [],
   "source": []
  },
  {
   "cell_type": "code",
   "execution_count": null,
   "id": "0e13973b",
   "metadata": {},
   "outputs": [],
   "source": []
  },
  {
   "cell_type": "code",
   "execution_count": null,
   "id": "6af25ef6",
   "metadata": {},
   "outputs": [],
   "source": []
  },
  {
   "cell_type": "markdown",
   "id": "53435ef8",
   "metadata": {},
   "source": [
    "### d. Trigonometric and Hyperbolic Functions of Math Module\n",
    "- The word trigonometry comes from the Greek words trigonon (“triangle”) and metron (“to measure”). \n",
    "- Trigonometry is the branch of mathematics dealing with the relations of the sides and angles of triangles and with the relevant functions of any angles. \n",
    "- Trigonometric functions are used in obtaining unknown angles and distances from known or measured angles in geometric figures.\n",
    "- Note: Hyperbolic functions are analogues of the ordinary trigonometric functions, but defined using the hyperbola rather than the circle. "
   ]
  },
  {
   "cell_type": "code",
   "execution_count": null,
   "id": "80c0753f",
   "metadata": {},
   "outputs": [],
   "source": [
    "# Six functions of an angle: sin(), cos(), tan(), asin(), acos(), atan().\n",
    "# The angle given to these functions should be in radians. A circle has 360 degrees and 2pi radians\n",
    "import math\n",
    "print(math.sin(0), math.sin(3.14), math.sin(90))"
   ]
  },
  {
   "cell_type": "code",
   "execution_count": null,
   "id": "603f86b5",
   "metadata": {},
   "outputs": [],
   "source": [
    "# Examples of Hyperbolic Functions: sinh(), cosh(), tanh(), asinh(), acosh(), atanh()\n",
    "import math\n",
    "math.sinh(3.14)"
   ]
  },
  {
   "cell_type": "code",
   "execution_count": null,
   "id": "b835b598",
   "metadata": {},
   "outputs": [],
   "source": []
  },
  {
   "cell_type": "code",
   "execution_count": null,
   "id": "65283198",
   "metadata": {},
   "outputs": [],
   "source": []
  },
  {
   "cell_type": "code",
   "execution_count": null,
   "id": "bafb9fc3",
   "metadata": {},
   "outputs": [],
   "source": [
    "# 1. import math\n",
    "# 2. import math as m\n",
    "# 3. from math import func1, func2, \n",
    "# 4. from math import *"
   ]
  },
  {
   "cell_type": "code",
   "execution_count": null,
   "id": "175e66df",
   "metadata": {},
   "outputs": [],
   "source": []
  },
  {
   "cell_type": "code",
   "execution_count": null,
   "id": "9f3af462",
   "metadata": {},
   "outputs": [],
   "source": []
  },
  {
   "cell_type": "markdown",
   "id": "43637d2d",
   "metadata": {},
   "source": [
    "## 4. The `random` Module\n",
    "- The Random module is  used to perform random actions such as generating random numbers, print random value for a list or string, etc.\n",
    "#### [Read Python Documentation for details about `random` module](https://docs.python.org/3/library/random.html#module-random)"
   ]
  },
  {
   "cell_type": "code",
   "execution_count": null,
   "id": "70c6c490",
   "metadata": {},
   "outputs": [],
   "source": [
    "#import random module\n",
    "import random\n"
   ]
  },
  {
   "cell_type": "code",
   "execution_count": null,
   "id": "f139fa83",
   "metadata": {},
   "outputs": [],
   "source": [
    "# use dir() to get the list of complete functions in random module\n",
    "print(\"Existing functions in Random module: \\n\\n\", dir(random))\n",
    "print(random.__doc__)"
   ]
  },
  {
   "cell_type": "markdown",
   "id": "74f74cd2",
   "metadata": {},
   "source": [
    "### a. The `random.random()` Function\n",
    "- This function `random.random()` returns a random float value in the interval [0,1), i.e., 0 is inclusive while 1 is not"
   ]
  },
  {
   "cell_type": "code",
   "execution_count": null,
   "id": "3363347f",
   "metadata": {},
   "outputs": [],
   "source": [
    "import random\n",
    "random.random()"
   ]
  },
  {
   "cell_type": "markdown",
   "id": "f6b43887",
   "metadata": {},
   "source": [
    "#### Question:\n",
    "Create a sequence of 10 random floating point numbers between 0-30."
   ]
  },
  {
   "cell_type": "code",
   "execution_count": null,
   "id": "0f3f73d3",
   "metadata": {},
   "outputs": [],
   "source": [
    "floatSequence = []\n",
    "for i in range(1,11):\n",
    "    floatSequence.append(random.random()*30)\n",
    "print(floatSequence)"
   ]
  },
  {
   "cell_type": "code",
   "execution_count": null,
   "id": "67a64c1e",
   "metadata": {},
   "outputs": [],
   "source": []
  },
  {
   "cell_type": "code",
   "execution_count": null,
   "id": "1657f91d",
   "metadata": {},
   "outputs": [],
   "source": []
  },
  {
   "cell_type": "code",
   "execution_count": null,
   "id": "33db3a65",
   "metadata": {},
   "outputs": [],
   "source": []
  },
  {
   "cell_type": "code",
   "execution_count": null,
   "id": "bc1b4c79",
   "metadata": {},
   "outputs": [],
   "source": []
  },
  {
   "cell_type": "markdown",
   "id": "b96d3f21",
   "metadata": {},
   "source": [
    "### b. The `random.uniform()` Function\n",
    "- This function `random.uniform(a, b)` returns a random float value in the interval a and b "
   ]
  },
  {
   "cell_type": "code",
   "execution_count": null,
   "id": "3022eec8",
   "metadata": {},
   "outputs": [],
   "source": [
    "rv = random.uniform(85, 100)\n",
    "rv"
   ]
  },
  {
   "cell_type": "code",
   "execution_count": null,
   "id": "approved-african",
   "metadata": {},
   "outputs": [],
   "source": [
    "floatSequence = []\n",
    "for i in range(1,11):\n",
    "    floatSequence.append(random.uniform(0,30))\n",
    "print(floatSequence)"
   ]
  },
  {
   "cell_type": "code",
   "execution_count": null,
   "id": "90e21995",
   "metadata": {},
   "outputs": [],
   "source": []
  },
  {
   "cell_type": "markdown",
   "id": "ee23fa99",
   "metadata": {},
   "source": [
    "### c. The `random.randint()` and `random.randrange()` Functions\n",
    "- We have seen the use of the built-in `range()` function that provides a range object, using which you can generate a list of numbers in that specific range\n",
    "- The `random.randint(start, stop)` returns one random integer (with start and stop both inclusive).\n",
    "- The `random.randrange(start, stop=None, step=1)` returns one random integer (with stop NOT inclusive). "
   ]
  },
  {
   "cell_type": "code",
   "execution_count": null,
   "id": "163d70f3",
   "metadata": {},
   "outputs": [],
   "source": [
    "# Note the stop value is also inclusive, which is unlike what we expect in Python\n",
    "import random\n",
    "random.randint(0, 5)"
   ]
  },
  {
   "cell_type": "code",
   "execution_count": null,
   "id": "appropriate-portuguese",
   "metadata": {},
   "outputs": [],
   "source": [
    "random.randint(10001,99999)"
   ]
  },
  {
   "cell_type": "code",
   "execution_count": null,
   "id": "78f5a0da",
   "metadata": {},
   "outputs": [],
   "source": []
  },
  {
   "cell_type": "code",
   "execution_count": null,
   "id": "2433e606",
   "metadata": {},
   "outputs": [],
   "source": [
    "# This fixes the problem and does not include the endpoint\n",
    "random.randrange(0, 15,2)\n",
    "# 0,2,4"
   ]
  },
  {
   "cell_type": "code",
   "execution_count": null,
   "id": "531c6b72",
   "metadata": {},
   "outputs": [],
   "source": []
  },
  {
   "cell_type": "markdown",
   "id": "9c923557",
   "metadata": {},
   "source": [
    "### d. The `random.choice()` Function\n",
    "- This function is passed a non-empty sequence and returns a random element from that sequence\n",
    "```\n",
    "random.choice(seq)\n",
    "```"
   ]
  },
  {
   "cell_type": "code",
   "execution_count": null,
   "id": "033d79e1",
   "metadata": {},
   "outputs": [],
   "source": [
    "import random\n",
    "\n",
    "# select a random element from a list\n",
    "list1 = ['Ehtisham','Ali', 'Ayesha', 'Dua','Adeen', 'Ahmed',]\n",
    "print(\"Random element from list: \", random.choice(list1))"
   ]
  },
  {
   "cell_type": "code",
   "execution_count": null,
   "id": "a7c942ec",
   "metadata": {},
   "outputs": [],
   "source": [
    "  \n",
    "# select a random character from a string\n",
    "string = \"HappyLearning\"\n",
    "print(\"Fetching Random item from string: \", random.choice(string))"
   ]
  },
  {
   "cell_type": "code",
   "execution_count": null,
   "id": "7ce9daa8",
   "metadata": {},
   "outputs": [],
   "source": []
  },
  {
   "cell_type": "code",
   "execution_count": null,
   "id": "62ac0657",
   "metadata": {},
   "outputs": [],
   "source": [
    "# select a random item from a tuple\n",
    "tuple1 = (1, 2, 3, 4, 5)\n",
    "print(\"Fetching Random element from Tuple: \",random.choice(tuple1))"
   ]
  },
  {
   "cell_type": "code",
   "execution_count": null,
   "id": "e735a447",
   "metadata": {},
   "outputs": [],
   "source": []
  },
  {
   "cell_type": "markdown",
   "id": "f3716f78",
   "metadata": {},
   "source": [
    "**With this background, one should be able explore other methods as and when required**"
   ]
  },
  {
   "cell_type": "code",
   "execution_count": null,
   "id": "b217032e",
   "metadata": {},
   "outputs": [],
   "source": [
    "# random.random() -> float value between [0,1]\n",
    "# random.uniform(a,b) -> float value between [a,b]\n",
    "# random.randint(a,b) -> integer value between [a,b]\n",
    "# random.randrange(a,b) -> integer value\n",
    "# random.choice(sequence) -> return random item from sequence"
   ]
  },
  {
   "cell_type": "code",
   "execution_count": null,
   "id": "bc9eccb3",
   "metadata": {},
   "outputs": [],
   "source": []
  },
  {
   "cell_type": "code",
   "execution_count": null,
   "id": "0fab8214",
   "metadata": {},
   "outputs": [],
   "source": []
  },
  {
   "cell_type": "markdown",
   "id": "c5a57ae0",
   "metadata": {},
   "source": [
    "## Bonus Info:\n",
    "- Before, we discuss Python's `time`, `datetime`, and `calendar` modules, let me put the stage right by having a brief discussion on the concept of time and time zones:\n",
    "\n",
    "### Calendar Time:\n",
    "- The time measured from some fixed/reference point is called real time and once category of it is calendar time. Some famous reference points and their corresponding calendars are:\n",
    "    - **Hijri Calendar** (AH), measures time from the year of Hijrat, when prophet Muhammad (Peace be upon Him) migrated from Mecca to Madina\n",
    "    - **Gregorian Calendar** (AD), measures time from birth year of Jesus Christ. AD stands for Anno Domini in Latin, means \"In the year of Jesus Christ\"\n",
    "    - **UNIX Calendar**, measures time from birth year of UNIX called UNIX epoch (00:00:00 UTC on 1 January 1970)\n"
   ]
  },
  {
   "cell_type": "markdown",
   "id": "1f01b786",
   "metadata": {},
   "source": [
    "#### Time Zones:\n",
    "- Since noon happens at different times in different parts of the world, therefore, we have divided the world in different time zones.\n",
    "- On Mac, Linux, and Windows operating systems, the information about these time zones is kept in files.\n",
    "- Let me show you the contents of these files on my `Linux` system"
   ]
  },
  {
   "cell_type": "code",
   "execution_count": 7,
   "id": "positive-diagram",
   "metadata": {},
   "outputs": [
    {
     "name": "stdout",
     "output_type": "stream",
     "text": [
      "\u001b[35m/usr/share/zoneinfo/\u001b[m\u001b[m\n"
     ]
    }
   ],
   "source": [
    "!ls /usr/share/zoneinfo/"
   ]
  },
  {
   "cell_type": "code",
   "execution_count": 8,
   "id": "cad8e2ec",
   "metadata": {},
   "outputs": [
    {
     "name": "stdout",
     "output_type": "stream",
     "text": [
      "Aden          Chongqing     Jerusalem     Novokuznetsk  Tashkent\n",
      "Almaty        Chungking     Kabul         Novosibirsk   Tbilisi\n",
      "Amman         Colombo       Kamchatka     Omsk          Tehran\n",
      "Anadyr        Dacca         Karachi       Oral          Tel_Aviv\n",
      "Aqtau         Damascus      Kashgar       Phnom_Penh    Thimbu\n",
      "Aqtobe        Dhaka         Kathmandu     Pontianak     Thimphu\n",
      "Ashgabat      Dili          Katmandu      Pyongyang     Tokyo\n",
      "Ashkhabad     Dubai         Khandyga      Qatar         Tomsk\n",
      "Atyrau        Dushanbe      Kolkata       Qostanay      Ujung_Pandang\n",
      "Baghdad       Famagusta     Krasnoyarsk   Qyzylorda     Ulaanbaatar\n",
      "Bahrain       Gaza          Kuala_Lumpur  Rangoon       Ulan_Bator\n",
      "Baku          Harbin        Kuching       Riyadh        Urumqi\n",
      "Bangkok       Hebron        Kuwait        Saigon        Ust-Nera\n",
      "Barnaul       Ho_Chi_Minh   Macao         Sakhalin      Vientiane\n",
      "Beirut        Hong_Kong     Macau         Samarkand     Vladivostok\n",
      "Bishkek       Hovd          Magadan       Seoul         Yakutsk\n",
      "Brunei        Irkutsk       Makassar      Shanghai      Yangon\n",
      "Calcutta      Istanbul      Manila        Singapore     Yekaterinburg\n",
      "Chita         Jakarta       Muscat        Srednekolymsk Yerevan\n",
      "Choibalsan    Jayapura      Nicosia       Taipei\n"
     ]
    }
   ],
   "source": [
    "!ls /usr/share/zoneinfo/Asia"
   ]
  },
  {
   "cell_type": "markdown",
   "id": "a961b9b6",
   "metadata": {},
   "source": [
    "> On all UNIX based systems (Mac, Linux), **TZ** is an environment variable that can be set to any of the above files to get the date of that appropriate zone. By default the system is configured to set it to the local time of the country"
   ]
  },
  {
   "cell_type": "code",
   "execution_count": 9,
   "id": "c17413cf",
   "metadata": {},
   "outputs": [
    {
     "name": "stdout",
     "output_type": "stream",
     "text": [
      "Thu Nov 21 21:36:22 PKT 2024\n"
     ]
    }
   ],
   "source": [
    "! date"
   ]
  },
  {
   "cell_type": "code",
   "execution_count": 10,
   "id": "d522809d",
   "metadata": {},
   "outputs": [
    {
     "name": "stdout",
     "output_type": "stream",
     "text": [
      "Thu Nov 21 21:36:25 PKT 2024\n"
     ]
    }
   ],
   "source": [
    "! TZ=Asia/Karachi    date"
   ]
  },
  {
   "cell_type": "code",
   "execution_count": 11,
   "id": "6bdefd87",
   "metadata": {},
   "outputs": [
    {
     "name": "stdout",
     "output_type": "stream",
     "text": [
      "Thu Nov 21 20:36:32 +04 2024\n"
     ]
    }
   ],
   "source": [
    "! TZ=Asia/Dubai   date"
   ]
  },
  {
   "cell_type": "code",
   "execution_count": 12,
   "id": "705eaf74",
   "metadata": {},
   "outputs": [
    {
     "name": "stdout",
     "output_type": "stream",
     "text": [
      "Thu Nov 21 16:36:36 UTC 2024\n"
     ]
    }
   ],
   "source": [
    "! TZ=America/Los-Angeles   date"
   ]
  },
  {
   "cell_type": "code",
   "execution_count": null,
   "id": "eade9942",
   "metadata": {},
   "outputs": [],
   "source": []
  },
  {
   "cell_type": "code",
   "execution_count": null,
   "id": "64a13665",
   "metadata": {},
   "outputs": [],
   "source": [
    "import time\n",
    "\n",
    "# use dir() to get the list of complete functions in time module\n",
    "print(\"Existing functions in time module: \\n\\n\", dir(time))"
   ]
  },
  {
   "cell_type": "markdown",
   "id": "e3e2f52f",
   "metadata": {},
   "source": [
    "##  Getting the Local Time\n",
    "- To get the current time in Python in a more perceivable Python Date Time format, we use the localtime() method. It returns the Python time according to the area you’re in."
   ]
  },
  {
   "cell_type": "code",
   "execution_count": null,
   "id": "9281f84a",
   "metadata": {},
   "outputs": [],
   "source": [
    "import time\n",
    "local_time = time.localtime()\n",
    "print(\"Time:\",local_time)\n",
    "type(local_time)"
   ]
  },
  {
   "cell_type": "code",
   "execution_count": null,
   "id": "b7142ae6",
   "metadata": {},
   "outputs": [],
   "source": [
    "print(\"Current year:\", local_time.tm_year)\n",
    "print(\"Current hour:\", local_time.tm_hour)\n",
    "print(\"Current minute:\", local_time.tm_min)\n",
    "print(\"Current second:\", local_time.tm_sec)"
   ]
  },
  {
   "cell_type": "code",
   "execution_count": null,
   "id": "1621d43e",
   "metadata": {},
   "outputs": [],
   "source": []
  },
  {
   "cell_type": "markdown",
   "id": "b5b2d536",
   "metadata": {},
   "source": [
    "## Getting the Formatted Time\n",
    "- When we use the `asctime()` method, we get something much more readable."
   ]
  },
  {
   "cell_type": "code",
   "execution_count": null,
   "id": "75eeafdc",
   "metadata": {},
   "outputs": [],
   "source": [
    "time.asctime()"
   ]
  },
  {
   "cell_type": "code",
   "execution_count": null,
   "id": "011c6251",
   "metadata": {},
   "outputs": [],
   "source": [
    "# You can also provide a tuple or a struct_time structure as an argument.\n",
    "time.asctime(time.localtime())"
   ]
  },
  {
   "cell_type": "code",
   "execution_count": null,
   "id": "acae783c",
   "metadata": {},
   "outputs": [],
   "source": []
  },
  {
   "cell_type": "markdown",
   "id": "31f713ec",
   "metadata": {},
   "source": [
    "**(i) The `time.sleep(seconds)` method is used to delay execution for a given number of seconds. The argument may be a floating point number for subsecond precision.**"
   ]
  },
  {
   "cell_type": "code",
   "execution_count": null,
   "id": "efe8425d",
   "metadata": {},
   "outputs": [],
   "source": [
    "import time\n",
    "print(\"This is printed immediately.\")\n",
    "time.sleep(2)\n",
    "print(\"This is printed after 2 seconds.\")"
   ]
  },
  {
   "cell_type": "code",
   "execution_count": null,
   "id": "32bda51c",
   "metadata": {},
   "outputs": [],
   "source": []
  },
  {
   "cell_type": "code",
   "execution_count": null,
   "id": "70465c76",
   "metadata": {},
   "outputs": [],
   "source": []
  },
  {
   "cell_type": "markdown",
   "id": "37f6391e",
   "metadata": {},
   "source": [
    "**(ii) The `time.time()` method returns the current time in seconds since UNIX Epoch (00:00:00 UTC on 1 January 1970).**"
   ]
  },
  {
   "cell_type": "code",
   "execution_count": null,
   "id": "d0fa8a98",
   "metadata": {},
   "outputs": [],
   "source": [
    "import time\n",
    "seconds = time.time()\n",
    "seconds"
   ]
  },
  {
   "cell_type": "code",
   "execution_count": null,
   "id": "3d29bea9",
   "metadata": {},
   "outputs": [],
   "source": []
  },
  {
   "cell_type": "code",
   "execution_count": null,
   "id": "8275559a",
   "metadata": {},
   "outputs": [],
   "source": []
  },
  {
   "cell_type": "markdown",
   "id": "8c1d1bb6",
   "metadata": {},
   "source": [
    "**(iii) The `time.ctime(seconds)` method takes seconds passed since epoch as argument and returns a string representing local time.**"
   ]
  },
  {
   "cell_type": "code",
   "execution_count": null,
   "id": "7b0c0f8a",
   "metadata": {},
   "outputs": [],
   "source": [
    "import time\n",
    "gettime = time.time()\n",
    "print(f\"Time in seconds : {gettime}\")"
   ]
  },
  {
   "cell_type": "code",
   "execution_count": null,
   "id": "7b34a5e3",
   "metadata": {},
   "outputs": [],
   "source": [
    "tm = time.ctime(gettime)\n",
    "print(tm)"
   ]
  },
  {
   "cell_type": "code",
   "execution_count": null,
   "id": "70d0bb12",
   "metadata": {},
   "outputs": [],
   "source": [
    "import time\n",
    "dtg1 = time.ctime(0)\n",
    "dtg1"
   ]
  },
  {
   "cell_type": "code",
   "execution_count": null,
   "id": "3e3bb56a",
   "metadata": {},
   "outputs": [],
   "source": [
    "import time\n",
    "seconds = time.time()\n",
    "dtg2 = time.ctime(seconds)\n",
    "dtg2"
   ]
  },
  {
   "cell_type": "code",
   "execution_count": null,
   "id": "846302b0",
   "metadata": {},
   "outputs": [],
   "source": [
    "import time\n",
    "dtg2 = time.ctime(3460430565.34554)\n",
    "dtg2"
   ]
  },
  {
   "cell_type": "code",
   "execution_count": null,
   "id": "40fab0e9",
   "metadata": {},
   "outputs": [],
   "source": []
  },
  {
   "cell_type": "markdown",
   "id": "932503c0",
   "metadata": {},
   "source": [
    "**With this background, one should be able explore other methods as and when required**"
   ]
  },
  {
   "cell_type": "code",
   "execution_count": null,
   "id": "707fe243",
   "metadata": {},
   "outputs": [],
   "source": [
    "# time.localtime -> cuurent time of laptop , return in struct_time format\n",
    "# time.asctime() -> current time but in string format\n",
    "# time.sleep(second) -> execution delay for that seconds\n",
    "# time.time() -> return current time but in seconds\n",
    "# time.ctime(seconds) -> return time in string format according seconds passed"
   ]
  },
  {
   "cell_type": "code",
   "execution_count": null,
   "id": "2df896a0",
   "metadata": {},
   "outputs": [],
   "source": []
  },
  {
   "cell_type": "code",
   "execution_count": null,
   "id": "9202f9ed",
   "metadata": {},
   "outputs": [],
   "source": []
  },
  {
   "cell_type": "code",
   "execution_count": null,
   "id": "19cc43a2",
   "metadata": {},
   "outputs": [],
   "source": []
  },
  {
   "cell_type": "code",
   "execution_count": null,
   "id": "22be4c3d",
   "metadata": {},
   "outputs": [],
   "source": []
  },
  {
   "cell_type": "markdown",
   "id": "9445c4b5",
   "metadata": {},
   "source": [
    "## 6. The `datetime` Module\n",
    "- The Python datetime module offers functions and classes for working with date and time parsing, formatting, and arithmetic. \n",
    "- The `datetime` module can support many of the same operations as `time` module, but provides a more object oriented set of types, and also has some limited support for time zones.\n",
    "#### [Read Python Documentation for details about `datetime` module](https://docs.python.org/3/library/datetime.html#module-datetime)"
   ]
  },
  {
   "cell_type": "code",
   "execution_count": null,
   "id": "8d44417f",
   "metadata": {},
   "outputs": [],
   "source": [
    "# import datetime module\n",
    "import datetime\n",
    "\n",
    "# use dir() to get the list of complete functions in datetime module\n",
    "print(\"Existing functions in datetime module: \\n\\n\", dir(datetime))"
   ]
  },
  {
   "cell_type": "code",
   "execution_count": null,
   "id": "0e9a16a8",
   "metadata": {},
   "outputs": [],
   "source": [
    "#The smallest year number allowed in a date or datetime object. MINYEAR is 1.\n",
    "datetime.MINYEAR"
   ]
  },
  {
   "cell_type": "code",
   "execution_count": null,
   "id": "2783e15c",
   "metadata": {},
   "outputs": [],
   "source": [
    "#The largest year number allowed in a date or datetime object. MAXYEAR is 9999.\n",
    "datetime.MAXYEAR\n",
    "# current year -> 2022"
   ]
  },
  {
   "cell_type": "code",
   "execution_count": null,
   "id": "0b5d6348",
   "metadata": {},
   "outputs": [],
   "source": []
  },
  {
   "cell_type": "markdown",
   "id": "f4485572",
   "metadata": {},
   "source": [
    "**(i) The `datetime.datetime.today()` and `datetime.datetime.now()` methods return a datetime object as per the time zone of the system**"
   ]
  },
  {
   "cell_type": "code",
   "execution_count": null,
   "id": "a4b34e92",
   "metadata": {},
   "outputs": [],
   "source": [
    "dtg = datetime.datetime.today()\n",
    "dtg"
   ]
  },
  {
   "cell_type": "code",
   "execution_count": null,
   "id": "79569129",
   "metadata": {},
   "outputs": [],
   "source": [
    "dtg = datetime.datetime.now()\n",
    "print(dtg)\n",
    "print(type(dtg))"
   ]
  },
  {
   "cell_type": "code",
   "execution_count": null,
   "id": "assisted-graphic",
   "metadata": {},
   "outputs": [],
   "source": []
  },
  {
   "cell_type": "markdown",
   "id": "0b16005d",
   "metadata": {},
   "source": [
    "**(ii) Let us explore some commonly used attributes related with the `datetime` object.**\n",
    "- `dtg.year:` returns the year\n",
    "- `dtg.month:` returns the month\n",
    "- `dtg.day:` returns the date\n",
    "- `dtg.hour:` returns the hour\n",
    "- `dtg.minute:` returns the minutes\n",
    "- `dtg.second:` returns the seconds\n",
    "- `dtg.microsecond:` returns the microseconds"
   ]
  },
  {
   "cell_type": "code",
   "execution_count": null,
   "id": "d96d7c8a",
   "metadata": {},
   "outputs": [],
   "source": [
    "dtg.year"
   ]
  },
  {
   "cell_type": "code",
   "execution_count": null,
   "id": "d4801e8a",
   "metadata": {},
   "outputs": [],
   "source": [
    "dtg.day"
   ]
  },
  {
   "cell_type": "code",
   "execution_count": null,
   "id": "90c34166",
   "metadata": {},
   "outputs": [],
   "source": [
    "dtg.month"
   ]
  },
  {
   "cell_type": "code",
   "execution_count": null,
   "id": "71504a3f",
   "metadata": {},
   "outputs": [],
   "source": [
    "dtg.hour"
   ]
  },
  {
   "cell_type": "code",
   "execution_count": null,
   "id": "a13162ec",
   "metadata": {},
   "outputs": [],
   "source": [
    "dtg.microsecond"
   ]
  },
  {
   "cell_type": "code",
   "execution_count": null,
   "id": "2b62edb9",
   "metadata": {},
   "outputs": [],
   "source": []
  },
  {
   "cell_type": "markdown",
   "id": "4889c135",
   "metadata": {},
   "source": [
    "**(iii) The `datetime.datetime(year, month, day[, hour[, minute[, second[, microsecond[,tzinfo]]]]])` method is used to create a `datetime` object**"
   ]
  },
  {
   "cell_type": "code",
   "execution_count": null,
   "id": "d309a238",
   "metadata": {},
   "outputs": [],
   "source": [
    "import datetime\n",
    "dtg = datetime.datetime(2021,12,31)\n",
    "print(dtg)\n",
    "print(type(dtg))"
   ]
  },
  {
   "cell_type": "code",
   "execution_count": null,
   "id": "772d1470",
   "metadata": {},
   "outputs": [],
   "source": [
    "dtg = datetime.datetime(2021, 12, 31, 4, 30, 54, 678)\n",
    "print(dtg)"
   ]
  },
  {
   "cell_type": "markdown",
   "id": "cbf3ed6c",
   "metadata": {},
   "source": [
    "**(iv)  The `datetime.time([hour[, minute[, second[, microsecond[, tzinfo]]]]]) ` methods returns a `time` object.**"
   ]
  },
  {
   "cell_type": "code",
   "execution_count": null,
   "id": "f7922e9b",
   "metadata": {},
   "outputs": [],
   "source": [
    "t1 = datetime.time(10, 15, 54, 247)\n",
    "print(t1)\n",
    "print(type(t1))"
   ]
  },
  {
   "cell_type": "code",
   "execution_count": null,
   "id": "bed950cb",
   "metadata": {},
   "outputs": [],
   "source": []
  },
  {
   "cell_type": "markdown",
   "id": "4d2112b0",
   "metadata": {},
   "source": [
    "**With this background, one should be able explore other methods as and when required**"
   ]
  },
  {
   "cell_type": "markdown",
   "id": "1922fe85",
   "metadata": {},
   "source": [
    "### What is Timedelta in Python?\n",
    "- A `timedelta represents a duration` which is the difference between two dates, time, or datetime instances, to the microsecond resolution.\n",
    "- Use the `timedelta` to add or subtract weeks, days, hours, minutes, seconds, microseconds, and milliseconds from a given date and time."
   ]
  },
  {
   "cell_type": "markdown",
   "id": "e384b74b",
   "metadata": {},
   "source": [
    "<img src=\"images/14.png\">"
   ]
  },
  {
   "cell_type": "code",
   "execution_count": null,
   "id": "da8561f6",
   "metadata": {},
   "outputs": [],
   "source": [
    "from datetime import datetime, timedelta\n",
    "print(f\"Current Date and time : {datetime.now()}\")"
   ]
  },
  {
   "cell_type": "code",
   "execution_count": null,
   "id": "12be5f07",
   "metadata": {},
   "outputs": [],
   "source": [
    "# adding  3 weeks and 4 days and 5 hours\n",
    "newDateTime = datetime.now() + timedelta(weeks=3, days=4, hours=5)\n",
    "newDateTime"
   ]
  },
  {
   "cell_type": "code",
   "execution_count": null,
   "id": "e1e15f2f",
   "metadata": {},
   "outputs": [],
   "source": []
  },
  {
   "cell_type": "markdown",
   "id": "70b0d72b",
   "metadata": {},
   "source": [
    "#### Example 1: Calculate the difference between two dates"
   ]
  },
  {
   "cell_type": "code",
   "execution_count": null,
   "id": "fb26d36a",
   "metadata": {},
   "outputs": [],
   "source": [
    "import datetime\n",
    "current_date = datetime.datetime.now()\n",
    "current_date"
   ]
  },
  {
   "cell_type": "code",
   "execution_count": null,
   "id": "e85cfea4",
   "metadata": {},
   "outputs": [],
   "source": [
    "givenDate = datetime.datetime(year=2020,month=3,day=23)\n",
    "givenDate"
   ]
  },
  {
   "cell_type": "code",
   "execution_count": null,
   "id": "0dfdc167",
   "metadata": {},
   "outputs": [],
   "source": [
    "date = current_date-givenDate\n",
    "print(date)\n",
    "print(type(date))"
   ]
  },
  {
   "cell_type": "code",
   "execution_count": null,
   "id": "a721bbc8",
   "metadata": {},
   "outputs": [],
   "source": []
  },
  {
   "cell_type": "markdown",
   "id": "29e446de",
   "metadata": {},
   "source": [
    "#### Example 2: Calculate Future Datetime\n",
    "Let’s see how to use timedelta class to calculate future dates by `adding four weeks` to a given date."
   ]
  },
  {
   "cell_type": "code",
   "execution_count": null,
   "id": "89926ca5",
   "metadata": {},
   "outputs": [],
   "source": [
    "from datetime import datetime, timedelta\n",
    "currentDate = datetime.now()\n",
    "print(f\"Current Date : {currentDate}\")"
   ]
  },
  {
   "cell_type": "code",
   "execution_count": null,
   "id": "05b02c45",
   "metadata": {},
   "outputs": [],
   "source": [
    "# adding four weeks to the current date\n",
    "FutureDate = currentDate+timedelta(weeks=4)\n",
    "print(f\"Future Date : {FutureDate}\")"
   ]
  },
  {
   "cell_type": "code",
   "execution_count": null,
   "id": "2c50be1e",
   "metadata": {},
   "outputs": [],
   "source": []
  },
  {
   "cell_type": "code",
   "execution_count": null,
   "id": "3d741d47",
   "metadata": {},
   "outputs": [],
   "source": [
    "# datetime.datetime.now()/today() -> return current date and time in datetime format\n",
    "# datetime.datetime(years, months, days, hours, mintues,seconds) -> return a object of datetime type\n",
    "# datetime.time() -> return  a object of datetime.time \n",
    "# datetime.timedelta(weeks, days, hours, mintues)"
   ]
  },
  {
   "cell_type": "code",
   "execution_count": null,
   "id": "24ce3cff",
   "metadata": {},
   "outputs": [],
   "source": []
  },
  {
   "cell_type": "code",
   "execution_count": null,
   "id": "9a4e2a52",
   "metadata": {},
   "outputs": [],
   "source": []
  },
  {
   "cell_type": "markdown",
   "id": "39d5f5d6",
   "metadata": {},
   "source": [
    "## 7. The `calendar` Module\n",
    "- This module allows you to output calendars like the Unix `cal` program, and provides additional useful functions related to the calendar. By default, these calendars have Monday as the first day of the week, and Sunday as the last\n",
    "#### [Read Python Documentation for details about `calendar` module](https://docs.python.org/3/library/calendar.html#module-calendar)"
   ]
  },
  {
   "cell_type": "code",
   "execution_count": 13,
   "id": "00c616ba",
   "metadata": {},
   "outputs": [
    {
     "name": "stdout",
     "output_type": "stream",
     "text": [
      "Existing functions in calendar module: \n",
      "\n",
      " ['Calendar', 'EPOCH', 'FRIDAY', 'February', 'HTMLCalendar', 'IllegalMonthError', 'IllegalWeekdayError', 'January', 'LocaleHTMLCalendar', 'LocaleTextCalendar', 'MONDAY', 'SATURDAY', 'SUNDAY', 'THURSDAY', 'TUESDAY', 'TextCalendar', 'WEDNESDAY', '_EPOCH_ORD', '__all__', '__builtins__', '__cached__', '__doc__', '__file__', '__loader__', '__name__', '__package__', '__spec__', '_colwidth', '_get_default_locale', '_locale', '_localized_day', '_localized_month', '_monthlen', '_nextmonth', '_prevmonth', '_spacing', 'c', 'calendar', 'datetime', 'day_abbr', 'day_name', 'different_locale', 'error', 'firstweekday', 'format', 'formatstring', 'isleap', 'leapdays', 'main', 'mdays', 'month', 'month_abbr', 'month_name', 'monthcalendar', 'monthrange', 'prcal', 'prmonth', 'prweek', 'repeat', 'setfirstweekday', 'sys', 'timegm', 'week', 'weekday', 'weekheader']\n"
     ]
    }
   ],
   "source": [
    "import calendar\n",
    "\n",
    "# use dir() to get the list of complete functions in calendar module\n",
    "print(\"Existing functions in calendar module: \\n\\n\", dir(calendar))"
   ]
  },
  {
   "cell_type": "code",
   "execution_count": 14,
   "id": "5205f543",
   "metadata": {},
   "outputs": [
    {
     "name": "stdout",
     "output_type": "stream",
     "text": [
      "                                  2030\n",
      "\n",
      "      January                   February                   March\n",
      "Mo Tu We Th Fr Sa Su      Mo Tu We Th Fr Sa Su      Mo Tu We Th Fr Sa Su\n",
      "    1  2  3  4  5  6                   1  2  3                   1  2  3\n",
      " 7  8  9 10 11 12 13       4  5  6  7  8  9 10       4  5  6  7  8  9 10\n",
      "14 15 16 17 18 19 20      11 12 13 14 15 16 17      11 12 13 14 15 16 17\n",
      "21 22 23 24 25 26 27      18 19 20 21 22 23 24      18 19 20 21 22 23 24\n",
      "28 29 30 31               25 26 27 28               25 26 27 28 29 30 31\n",
      "\n",
      "       April                      May                       June\n",
      "Mo Tu We Th Fr Sa Su      Mo Tu We Th Fr Sa Su      Mo Tu We Th Fr Sa Su\n",
      " 1  2  3  4  5  6  7             1  2  3  4  5                      1  2\n",
      " 8  9 10 11 12 13 14       6  7  8  9 10 11 12       3  4  5  6  7  8  9\n",
      "15 16 17 18 19 20 21      13 14 15 16 17 18 19      10 11 12 13 14 15 16\n",
      "22 23 24 25 26 27 28      20 21 22 23 24 25 26      17 18 19 20 21 22 23\n",
      "29 30                     27 28 29 30 31            24 25 26 27 28 29 30\n",
      "\n",
      "        July                     August                  September\n",
      "Mo Tu We Th Fr Sa Su      Mo Tu We Th Fr Sa Su      Mo Tu We Th Fr Sa Su\n",
      " 1  2  3  4  5  6  7                1  2  3  4                         1\n",
      " 8  9 10 11 12 13 14       5  6  7  8  9 10 11       2  3  4  5  6  7  8\n",
      "15 16 17 18 19 20 21      12 13 14 15 16 17 18       9 10 11 12 13 14 15\n",
      "22 23 24 25 26 27 28      19 20 21 22 23 24 25      16 17 18 19 20 21 22\n",
      "29 30 31                  26 27 28 29 30 31         23 24 25 26 27 28 29\n",
      "                                                    30\n",
      "\n",
      "      October                   November                  December\n",
      "Mo Tu We Th Fr Sa Su      Mo Tu We Th Fr Sa Su      Mo Tu We Th Fr Sa Su\n",
      "    1  2  3  4  5  6                   1  2  3                         1\n",
      " 7  8  9 10 11 12 13       4  5  6  7  8  9 10       2  3  4  5  6  7  8\n",
      "14 15 16 17 18 19 20      11 12 13 14 15 16 17       9 10 11 12 13 14 15\n",
      "21 22 23 24 25 26 27      18 19 20 21 22 23 24      16 17 18 19 20 21 22\n",
      "28 29 30 31               25 26 27 28 29 30         23 24 25 26 27 28 29\n",
      "                                                    30 31\n",
      "\n"
     ]
    }
   ],
   "source": [
    "# calendar() method to print the calendar of whole year\n",
    "import calendar\n",
    "cy = calendar.calendar(2030) \n",
    "print(cy)"
   ]
  },
  {
   "cell_type": "code",
   "execution_count": null,
   "id": "0a684776-613a-422a-8af4-9745b459d5b2",
   "metadata": {},
   "outputs": [],
   "source": []
  },
  {
   "cell_type": "code",
   "execution_count": null,
   "id": "internal-palestine",
   "metadata": {},
   "outputs": [],
   "source": []
  },
  {
   "cell_type": "code",
   "execution_count": 15,
   "id": "04121b7c",
   "metadata": {},
   "outputs": [
    {
     "name": "stdout",
     "output_type": "stream",
     "text": [
      "     April 2022\n",
      "Mo Tu We Th Fr Sa Su\n",
      "             1  2  3\n",
      " 4  5  6  7  8  9 10\n",
      "11 12 13 14 15 16 17\n",
      "18 19 20 21 22 23 24\n",
      "25 26 27 28 29 30\n",
      "\n"
     ]
    }
   ],
   "source": [
    "import calendar\n",
    "# month() method is used to print calendar of specific month\n",
    "\n",
    "#print calendar of November 2021\n",
    "c = calendar.month(2022,4) \n",
    "print(c)"
   ]
  },
  {
   "cell_type": "code",
   "execution_count": 16,
   "id": "c46a0b6e",
   "metadata": {},
   "outputs": [
    {
     "name": "stdout",
     "output_type": "stream",
     "text": [
      "    January 1970\n",
      "Mo Tu We Th Fr Sa Su\n",
      "          1  2  3  4\n",
      " 5  6  7  8  9 10 11\n",
      "12 13 14 15 16 17 18\n",
      "19 20 21 22 23 24 25\n",
      "26 27 28 29 30 31\n",
      "\n"
     ]
    }
   ],
   "source": [
    "import calendar\n",
    "# month() method is used to print calendar of specific month\n",
    "\n",
    "#print calendar of November 2021\n",
    "c = calendar.month(1970,1) \n",
    "print(c)"
   ]
  },
  {
   "cell_type": "code",
   "execution_count": null,
   "id": "48d3e53f",
   "metadata": {},
   "outputs": [],
   "source": [
    "import calendar\n",
    "# can check wether the year is leap year or not\n",
    "print(\"2021 is leap year: \", calendar.isleap(2021))\n",
    "\n",
    "print(\"2020 was be leap year: \", calendar.isleap(2020))"
   ]
  },
  {
   "cell_type": "markdown",
   "id": "d746cb9f",
   "metadata": {},
   "source": [
    "**With this background, one should be able explore other methods as and when required**"
   ]
  },
  {
   "cell_type": "code",
   "execution_count": null,
   "id": "5d481de2",
   "metadata": {},
   "outputs": [],
   "source": [
    "# calendar.calendar(year) -> return a calendar of complete year\n",
    "# calendar.month(year, months) -> return a month of specific year"
   ]
  },
  {
   "cell_type": "code",
   "execution_count": null,
   "id": "8f879163",
   "metadata": {},
   "outputs": [],
   "source": []
  },
  {
   "cell_type": "code",
   "execution_count": null,
   "id": "26acc9aa",
   "metadata": {},
   "outputs": [],
   "source": []
  },
  {
   "cell_type": "markdown",
   "id": "b07f1899",
   "metadata": {},
   "source": [
    "## 8. The `os` Module\n",
    "- Python OS module provides the facility to establish the interaction between the user and the operating system. It offers many useful OS functions that are used to perform OS-based tasks and get related information about operating system.\n",
    "- This module provides a portable way of using operating system dependent functionality and provides dozens of functions for interacting with the operating system\n",
    "#### [Read Python Documentation for details about `os` module](https://docs.python.org/3/library/os.html#module-os)"
   ]
  },
  {
   "cell_type": "code",
   "execution_count": null,
   "id": "f02e0918",
   "metadata": {},
   "outputs": [],
   "source": [
    "import os\n",
    "# to get the list of complete functions in OS module\n",
    "print(\"Existing functions in OS module: \\n\\n\", dir(os))\n"
   ]
  },
  {
   "cell_type": "code",
   "execution_count": null,
   "id": "d023958a",
   "metadata": {},
   "outputs": [],
   "source": []
  },
  {
   "cell_type": "markdown",
   "id": "acc846b9",
   "metadata": {},
   "source": [
    "## **1- os.name()**\n",
    "- This function provides the name of the operating system module that it imports.\n",
    "- Currently, it registers 'posix', 'nt', 'os2', 'ce', 'java' and 'riscos'."
   ]
  },
  {
   "cell_type": "code",
   "execution_count": 17,
   "id": "4847870e",
   "metadata": {},
   "outputs": [],
   "source": [
    "import os"
   ]
  },
  {
   "cell_type": "code",
   "execution_count": 18,
   "id": "fbb7bbe3",
   "metadata": {},
   "outputs": [
    {
     "data": {
      "text/plain": [
       "'posix'"
      ]
     },
     "execution_count": 18,
     "metadata": {},
     "output_type": "execute_result"
    }
   ],
   "source": [
    "os.name"
   ]
  },
  {
   "cell_type": "code",
   "execution_count": null,
   "id": "7c20f213",
   "metadata": {},
   "outputs": [],
   "source": []
  },
  {
   "cell_type": "code",
   "execution_count": null,
   "id": "1bdeb867",
   "metadata": {},
   "outputs": [],
   "source": []
  },
  {
   "cell_type": "markdown",
   "id": "fb5b11e7",
   "metadata": {},
   "source": [
    "Windows NT is a family of operating systems developed by Microsoft that featured multi-processing capabilities, processor independence and multi-user support. The first version was released in 1993 as Windows NT 3.1, which was produced for servers and workstations."
   ]
  },
  {
   "cell_type": "code",
   "execution_count": null,
   "id": "1d3d7c96",
   "metadata": {},
   "outputs": [],
   "source": []
  },
  {
   "cell_type": "code",
   "execution_count": null,
   "id": "9d8f9a23",
   "metadata": {},
   "outputs": [],
   "source": [
    "# os module\n",
    "import os"
   ]
  },
  {
   "cell_type": "code",
   "execution_count": null,
   "id": "9092184a",
   "metadata": {},
   "outputs": [],
   "source": []
  },
  {
   "cell_type": "code",
   "execution_count": null,
   "id": "6e3b52dd",
   "metadata": {},
   "outputs": [],
   "source": []
  },
  {
   "cell_type": "markdown",
   "id": "6352299e",
   "metadata": {},
   "source": [
    "### a. The `os.getcwd()`  and `os.listdir()` Function\n",
    "- The `os.getcwd()` return a unicode string representing the current working directory.\n",
    "- The `os.listdir(path=None)` return a list containing the names of the files in the pwd in arbitrary order. Does not display '.' and '..' directories. An optional path can be specified\n",
    "- `os.listdir(path=None)` method returns a list of all the files and folders present inside the specified directory. If no directory is specified then the list of files and folders inside the CWD is returned.\n"
   ]
  },
  {
   "cell_type": "code",
   "execution_count": null,
   "id": "70c024c7",
   "metadata": {},
   "outputs": [],
   "source": [
    "import os\n",
    "\n",
    "# getcwd() function is used to return the current working directory\n",
    "cwd = os.getcwd()\n",
    "print(\"Current working directory:\\n\", cwd )"
   ]
  },
  {
   "cell_type": "code",
   "execution_count": null,
   "id": "09141d6c",
   "metadata": {},
   "outputs": [],
   "source": []
  },
  {
   "cell_type": "code",
   "execution_count": null,
   "id": "df43b322",
   "metadata": {},
   "outputs": [],
   "source": [
    "# lisdir() function is used to return the contents of current working directory\n",
    "mylist = os.listdir()\n",
    "print(\"\\nContents of directory: \\n\", mylist )"
   ]
  },
  {
   "cell_type": "code",
   "execution_count": null,
   "id": "07be3bdd",
   "metadata": {},
   "outputs": [],
   "source": []
  },
  {
   "cell_type": "code",
   "execution_count": null,
   "id": "ec6faac9",
   "metadata": {},
   "outputs": [],
   "source": [
    "\n",
    "# lisdir() function is used to return the contents of current working directory\n",
    "mylist = os.listdir(os.getcwd())\n",
    "print(\"\\nContents of directory: \\n\", mylist )"
   ]
  },
  {
   "cell_type": "code",
   "execution_count": null,
   "id": "dfa6ebfc",
   "metadata": {},
   "outputs": [],
   "source": []
  },
  {
   "cell_type": "code",
   "execution_count": null,
   "id": "843543d9",
   "metadata": {},
   "outputs": [],
   "source": []
  },
  {
   "cell_type": "code",
   "execution_count": null,
   "id": "ac69c964",
   "metadata": {},
   "outputs": [],
   "source": [
    "path = \"/Users/ehtishamsadiq/Data/\"\n",
    "mylist = os.listdir(path)\n",
    "print(\"\\nContents of directory: \\n\", mylist )"
   ]
  },
  {
   "cell_type": "code",
   "execution_count": null,
   "id": "2ad24ca6",
   "metadata": {},
   "outputs": [],
   "source": []
  },
  {
   "cell_type": "code",
   "execution_count": null,
   "id": "dirty-collapse",
   "metadata": {},
   "outputs": [],
   "source": []
  },
  {
   "cell_type": "markdown",
   "id": "7b6c18e2",
   "metadata": {},
   "source": [
    "### b. The `os.chdir()` Function\n",
    "- The `os.chdir(path)` function is used to change the current working directory to the specified path."
   ]
  },
  {
   "cell_type": "code",
   "execution_count": null,
   "id": "967c1537",
   "metadata": {},
   "outputs": [],
   "source": [
    "import os\n",
    "\n",
    "print(\"Get current working directory:\\n\\n\\n\", os.getcwd())"
   ]
  },
  {
   "cell_type": "code",
   "execution_count": null,
   "id": "121b8266",
   "metadata": {},
   "outputs": [],
   "source": [
    "path = \"/Users/ehtishamsadiq/Data\"\n",
    "path"
   ]
  },
  {
   "cell_type": "code",
   "execution_count": null,
   "id": "ca117592",
   "metadata": {},
   "outputs": [],
   "source": [
    "os.chdir(path)\n",
    "# os.chdir(\"F:\\Python Programs\")"
   ]
  },
  {
   "cell_type": "code",
   "execution_count": null,
   "id": "3e6ad489",
   "metadata": {},
   "outputs": [],
   "source": [
    "os.getcwd()"
   ]
  },
  {
   "cell_type": "code",
   "execution_count": null,
   "id": "f3ba5661",
   "metadata": {},
   "outputs": [],
   "source": [
    "print(\"\\nGet current working directory again:\\n\\n\\n\", os.getcwd())\n",
    "os.listdir()"
   ]
  },
  {
   "cell_type": "code",
   "execution_count": null,
   "id": "6ed3a0c9",
   "metadata": {},
   "outputs": [],
   "source": []
  },
  {
   "cell_type": "code",
   "execution_count": null,
   "id": "3f877588",
   "metadata": {},
   "outputs": [],
   "source": []
  },
  {
   "cell_type": "code",
   "execution_count": null,
   "id": "25a738ce",
   "metadata": {},
   "outputs": [],
   "source": []
  },
  {
   "cell_type": "markdown",
   "id": "881ddaca",
   "metadata": {},
   "source": [
    "### c. The   `os.mkdir()` and `os.rmdir()`Function\n",
    "- The `os.mkdir(path)` function creates a new directory\n",
    "- The `os.rmdir(path)` function removes a directory\n"
   ]
  },
  {
   "cell_type": "code",
   "execution_count": null,
   "id": "427a8ca3",
   "metadata": {},
   "outputs": [],
   "source": [
    "import os\n",
    "\n",
    "print(f\"Current working directory : {os.getcwd()}\")"
   ]
  },
  {
   "cell_type": "code",
   "execution_count": null,
   "id": "16b6427f",
   "metadata": {},
   "outputs": [],
   "source": [
    "list1 = os.listdir(os.getcwd())\n",
    "print(\"Contents of directory: \", list1)"
   ]
  },
  {
   "cell_type": "code",
   "execution_count": null,
   "id": "03de6d58",
   "metadata": {},
   "outputs": [],
   "source": [
    "os.mkdir(\"ANewDir\")"
   ]
  },
  {
   "cell_type": "code",
   "execution_count": null,
   "id": "cda22130",
   "metadata": {},
   "outputs": [],
   "source": [
    "list2 = os.listdir(os.getcwd())\n",
    "print(\"Contents of directory: \", list2)"
   ]
  },
  {
   "cell_type": "code",
   "execution_count": null,
   "id": "genetic-antibody",
   "metadata": {},
   "outputs": [],
   "source": []
  },
  {
   "cell_type": "code",
   "execution_count": null,
   "id": "89d5a13f",
   "metadata": {},
   "outputs": [],
   "source": [
    "os.rmdir(\"ANewDir\")\n",
    "print(f\"Content of directory : {os.listdir(os.getcwd())}\")"
   ]
  },
  {
   "cell_type": "code",
   "execution_count": null,
   "id": "83afaec8",
   "metadata": {},
   "outputs": [],
   "source": []
  },
  {
   "cell_type": "code",
   "execution_count": null,
   "id": "a78708e6-2964-473a-a41d-e8dc67c7a6f5",
   "metadata": {},
   "outputs": [],
   "source": [
    "# Introduction to Python\n",
    "# Variables \n",
    "# Operators\n",
    "# Comments & Indentation\n",
    "# Data-Types (Mutable vs Immutable)\n",
    "# Type-Conversion (int(), float(), list(), dictionary())\n",
    "# If-Else, nested, break, continue, pass\n",
    "# For, while , nested , for-else, break\n",
    "# Functions(user-define, builtin functions)(Lambda, map, reduce, filter, sorted(key))\n",
    "# Exceptional Handling (try, except, multiple excepts, types, arise, assert)\n",
    "# Builtin Modules(math, random(random, uniform, randint, randrange, choice)\n",
    "# Time, datetime, calender(timedelta)\n",
    "# OS(getcwd(), listdir(), mkdir(), rmdir(), chdir()\n"
   ]
  },
  {
   "cell_type": "code",
   "execution_count": null,
   "id": "2b5d7585-1448-4710-b494-a9fa240e9dde",
   "metadata": {},
   "outputs": [],
   "source": []
  },
  {
   "cell_type": "code",
   "execution_count": null,
   "id": "2282937f-d0ba-46eb-aecd-f7313a800d3b",
   "metadata": {},
   "outputs": [],
   "source": []
  },
  {
   "cell_type": "markdown",
   "id": "44f42f0e",
   "metadata": {},
   "source": [
    "## os.rename()\n",
    "A file or directory can be renamed by using the function os.rename(). A user can rename the file if it has privilege to change the file."
   ]
  },
  {
   "cell_type": "code",
   "execution_count": null,
   "id": "9cbd5b0e",
   "metadata": {},
   "outputs": [],
   "source": [
    "!ls # dir"
   ]
  },
  {
   "cell_type": "code",
   "execution_count": null,
   "id": "019659ba",
   "metadata": {},
   "outputs": [],
   "source": [
    "import os\n",
    "os.getcwd()"
   ]
  },
  {
   "cell_type": "code",
   "execution_count": null,
   "id": "0e84840d",
   "metadata": {},
   "outputs": [],
   "source": [
    "os.mkdir(\"Data-Science\")"
   ]
  },
  {
   "cell_type": "code",
   "execution_count": null,
   "id": "96ffc65d",
   "metadata": {},
   "outputs": [],
   "source": [
    "print(os.listdir())"
   ]
  },
  {
   "cell_type": "code",
   "execution_count": null,
   "id": "f593d054",
   "metadata": {},
   "outputs": [],
   "source": [
    "filename = \"Data-Science\"\n",
    "renameFile = os.rename(filename, \"Machine-Learning\")"
   ]
  },
  {
   "cell_type": "code",
   "execution_count": null,
   "id": "13825aa3-cd39-4a40-82fc-04e8a49af697",
   "metadata": {},
   "outputs": [],
   "source": [
    "renameFile"
   ]
  },
  {
   "cell_type": "code",
   "execution_count": null,
   "id": "12bed419",
   "metadata": {},
   "outputs": [],
   "source": [
    "print(os.listdir())"
   ]
  },
  {
   "cell_type": "code",
   "execution_count": null,
   "id": "06637392",
   "metadata": {},
   "outputs": [],
   "source": []
  },
  {
   "cell_type": "code",
   "execution_count": null,
   "id": "b8bd018d",
   "metadata": {},
   "outputs": [],
   "source": []
  },
  {
   "cell_type": "code",
   "execution_count": null,
   "id": "5c2e9db6",
   "metadata": {},
   "outputs": [],
   "source": []
  },
  {
   "cell_type": "markdown",
   "id": "591547b1",
   "metadata": {},
   "source": [
    "### d. The   `os.system()` Function\n",
    "- The `os.system(command)` method is used to execute the command in a subshell"
   ]
  },
  {
   "cell_type": "code",
   "execution_count": null,
   "id": "ce938430",
   "metadata": {},
   "outputs": [],
   "source": [
    "help(os.system)"
   ]
  },
  {
   "cell_type": "code",
   "execution_count": 19,
   "id": "64fd97a4",
   "metadata": {},
   "outputs": [
    {
     "name": "stdout",
     "output_type": "stream",
     "text": [
      "\n",
      "\n",
      "This is getting more and more interesting\n"
     ]
    },
    {
     "data": {
      "text/plain": [
       "0"
      ]
     },
     "execution_count": 19,
     "metadata": {},
     "output_type": "execute_result"
    }
   ],
   "source": [
    "import os\n",
    "\n",
    "\n",
    "print(\"\\n\")\n",
    "os.system('echo \"This is getting more and more interesting\"')"
   ]
  },
  {
   "cell_type": "code",
   "execution_count": 20,
   "id": "066b931e",
   "metadata": {},
   "outputs": [
    {
     "name": "stdout",
     "output_type": "stream",
     "text": [
      "\n",
      "\n",
      "Thu Nov 21 21:43:44 PKT 2024\n"
     ]
    },
    {
     "data": {
      "text/plain": [
       "0"
      ]
     },
     "execution_count": 20,
     "metadata": {},
     "output_type": "execute_result"
    }
   ],
   "source": [
    "print(\"\\n\")\n",
    "os.system('date')"
   ]
  },
  {
   "cell_type": "code",
   "execution_count": null,
   "id": "42179e50",
   "metadata": {},
   "outputs": [],
   "source": [
    "!date"
   ]
  },
  {
   "cell_type": "code",
   "execution_count": null,
   "id": "a16211b8",
   "metadata": {},
   "outputs": [],
   "source": [
    "print(os.system('ls'))"
   ]
  },
  {
   "cell_type": "code",
   "execution_count": null,
   "id": "41e6003e",
   "metadata": {},
   "outputs": [],
   "source": [
    "!ls"
   ]
  },
  {
   "cell_type": "code",
   "execution_count": null,
   "id": "amateur-salon",
   "metadata": {},
   "outputs": [],
   "source": [
    "import os\n",
    "cmd = 'date'\n",
    "os.system(cmd)"
   ]
  },
  {
   "cell_type": "code",
   "execution_count": null,
   "id": "83e3763b",
   "metadata": {},
   "outputs": [],
   "source": []
  },
  {
   "cell_type": "markdown",
   "id": "76b29ad9",
   "metadata": {},
   "source": [
    "**Students should explore other functions like `chmod()`, `chown()`, `fstat()`, `getpid()`, `getuid()`**"
   ]
  },
  {
   "cell_type": "markdown",
   "id": "subject-effort",
   "metadata": {},
   "source": [
    "os.getuid() method in Python is used to get the current process’s real user id while os.setuid() method is used to set the current process’s real user id."
   ]
  },
  {
   "cell_type": "markdown",
   "id": "african-diameter",
   "metadata": {},
   "source": [
    "os.getpid() method in Python is used to get the process ID of the current process."
   ]
  },
  {
   "cell_type": "code",
   "execution_count": null,
   "id": "aa32c200",
   "metadata": {},
   "outputs": [],
   "source": [
    "# os.name -> current operating system\n",
    "# os.getcwd() -> current directory present/working\n",
    "# os.listdir() -> return all the files and folders/directories in cwd\n",
    "# os.chdir(path) -> return our cwd to given path\n",
    "# os.mkdir() -> used to create a new directory in cwd\n",
    "# os.rmdir() ->  cwd , remove specific folder/file\n",
    "# os.rename() -> to remane any file and folder in cwd"
   ]
  },
  {
   "cell_type": "code",
   "execution_count": null,
   "id": "1b021e19",
   "metadata": {},
   "outputs": [],
   "source": []
  },
  {
   "cell_type": "code",
   "execution_count": null,
   "id": "4f6c6ef2",
   "metadata": {},
   "outputs": [],
   "source": []
  },
  {
   "cell_type": "code",
   "execution_count": null,
   "id": "0d4d6287",
   "metadata": {},
   "outputs": [],
   "source": []
  },
  {
   "cell_type": "code",
   "execution_count": null,
   "id": "0224edbd",
   "metadata": {},
   "outputs": [],
   "source": []
  },
  {
   "cell_type": "markdown",
   "id": "87567943",
   "metadata": {},
   "source": [
    "## 10. The `urllib` Package\n",
    "- The `urllib` package in Python 3 is a collection of following Python modules used for working with Uniform Resource Locators:\n",
    "    - `urllib.request` for opening and reading URLs, using variety of protocols\n",
    "    - `urllib.error` containing the exceptions raised by urllib.request\n",
    "    - `urllib.parse` for parsing URLs\n",
    "    - `urllib.robotparser` for parsing robots.txt files\n",
    "\n",
    "#### [Read Python Documentation for details about `urllib` package](https://docs.python.org/3/library/urllib.html#module-urllib)"
   ]
  },
  {
   "cell_type": "code",
   "execution_count": 21,
   "id": "30925dca",
   "metadata": {},
   "outputs": [],
   "source": [
    "import os"
   ]
  },
  {
   "cell_type": "code",
   "execution_count": 22,
   "id": "463d26b5",
   "metadata": {},
   "outputs": [
    {
     "data": {
      "text/plain": [
       "'/Users/ehtishamsadiq/Data/Leo Behe/01_Introduction_to_Python'"
      ]
     },
     "execution_count": 22,
     "metadata": {},
     "output_type": "execute_result"
    }
   ],
   "source": [
    "os.getcwd()"
   ]
  },
  {
   "cell_type": "code",
   "execution_count": 23,
   "id": "3b01aadf",
   "metadata": {},
   "outputs": [
    {
     "name": "stdout",
     "output_type": "stream",
     "text": [
      "['__builtins__', '__cached__', '__doc__', '__file__', '__loader__', '__name__', '__package__', '__path__', '__spec__', 'error', 'parse', 'request', 'response']\n"
     ]
    }
   ],
   "source": [
    "import urllib\n",
    "print(dir(urllib))"
   ]
  },
  {
   "cell_type": "code",
   "execution_count": 24,
   "id": "d61ea2d6",
   "metadata": {},
   "outputs": [
    {
     "name": "stdout",
     "output_type": "stream",
     "text": [
      "https://pucit.edu.pk/\n"
     ]
    }
   ],
   "source": [
    "link = \"https://pucit.edu.pk/\"\n",
    "print(link)"
   ]
  },
  {
   "cell_type": "code",
   "execution_count": null,
   "id": "6cfd0f13",
   "metadata": {},
   "outputs": [],
   "source": [
    "# dir(urllib.request)"
   ]
  },
  {
   "cell_type": "code",
   "execution_count": 27,
   "id": "8bab92b9",
   "metadata": {},
   "outputs": [
    {
     "data": {
      "text/plain": [
       "<http.client.HTTPResponse at 0x10a072e30>"
      ]
     },
     "execution_count": 27,
     "metadata": {},
     "output_type": "execute_result"
    }
   ],
   "source": [
    "req_url = urllib.request.urlopen(link)\n",
    "req_url"
   ]
  },
  {
   "cell_type": "code",
   "execution_count": 28,
   "id": "57c5644e",
   "metadata": {},
   "outputs": [
    {
     "data": {
      "text/plain": [
       "http.client.HTTPResponse"
      ]
     },
     "execution_count": 28,
     "metadata": {},
     "output_type": "execute_result"
    }
   ],
   "source": [
    "type(req_url)"
   ]
  },
  {
   "cell_type": "code",
   "execution_count": 30,
   "id": "341a27b5",
   "metadata": {},
   "outputs": [
    {
     "name": "stdout",
     "output_type": "stream",
     "text": [
      "['__abstractmethods__', '__class__', '__del__', '__delattr__', '__dict__', '__dir__', '__doc__', '__enter__', '__eq__', '__exit__', '__format__', '__ge__', '__getattribute__', '__getstate__', '__gt__', '__hash__', '__init__', '__init_subclass__', '__iter__', '__le__', '__lt__', '__module__', '__ne__', '__new__', '__next__', '__reduce__', '__reduce_ex__', '__repr__', '__setattr__', '__sizeof__', '__str__', '__subclasshook__', '_abc_impl', '_checkClosed', '_checkReadable', '_checkSeekable', '_checkWritable', '_check_close', '_close_conn', '_get_chunk_left', '_method', '_peek_chunked', '_read1_chunked', '_read_and_discard_trailer', '_read_chunked', '_read_next_chunk_size', '_read_status', '_readinto_chunked', '_safe_read', '_safe_readinto', 'begin', 'chunk_left', 'chunked', 'close', 'closed', 'code', 'debuglevel', 'detach', 'fileno', 'flush', 'fp', 'getcode', 'getheader', 'getheaders', 'geturl', 'headers', 'info', 'isatty', 'isclosed', 'length', 'msg', 'peek', 'read', 'read1', 'readable', 'readinto', 'readinto1', 'readline', 'readlines', 'reason', 'seek', 'seekable', 'status', 'tell', 'truncate', 'url', 'version', 'will_close', 'writable', 'write', 'writelines']\n"
     ]
    }
   ],
   "source": [
    "print(dir(req_url))"
   ]
  },
  {
   "cell_type": "code",
   "execution_count": 31,
   "id": "61b1f0ba",
   "metadata": {},
   "outputs": [
    {
     "data": {
      "text/plain": [
       "200"
      ]
     },
     "execution_count": 31,
     "metadata": {},
     "output_type": "execute_result"
    }
   ],
   "source": [
    "req_url.status"
   ]
  },
  {
   "cell_type": "code",
   "execution_count": 33,
   "id": "ec1f8b39",
   "metadata": {},
   "outputs": [
    {
     "name": "stdout",
     "output_type": "stream",
     "text": [
      "<class 'http.client.HTTPResponse'>\n",
      "b'\\t<!DOCTYPE html>\\r\\n<html lang=\"en-US\">\\r\\n<head>\\r\\n\\t<meta charset=\"UTF-8\" />\\r\\n\\r\\n    \\t\\r\\n\\t<title>FCIT  | | Faculty of Computing and Information Technology</title>\\n<link rel=\\'dns-prefetch\\' href=\\'//fonts.googleapis.com\\' />\\n<link rel=\\'dns-prefetch\\' href=\\'//s.w.org\\' />\\n<link rel=\"alternate\" type=\"application/rss+xml\" title=\"FCIT  | &raquo; Feed\" href=\"https://pucit.edu.pk/feed/\" />\\n<link rel=\"alternate\" type=\"application/rss+xml\" title=\"FCIT  | &raquo; Comments Feed\" href=\"https://pucit.edu.pk/comments/feed/\" />\\n<link rel=\"alternate\" type=\"application/rss+xml\" title=\"FCIT  | &raquo; Classic Home Comments Feed\" href=\"https://pucit.edu.pk/classic-home/feed/\" />\\n\\t\\t<script type=\"text/javascript\">\\n\\t\\t\\twindow._wpemojiSettings = {\"baseUrl\":\"https:\\\\/\\\\/s.w.org\\\\/images\\\\/core\\\\/emoji\\\\/11.2.0\\\\/72x72\\\\/\",\"ext\":\".png\",\"svgUrl\":\"https:\\\\/\\\\/s.w.org\\\\/images\\\\/core\\\\/emoji\\\\/11.2.0\\\\/svg\\\\/\",\"svgExt\":\".svg\",\"source\":{\"concatemoji\":\"https:\\\\/\\\\/pucit.edu.pk\\\\/wp-includes\\\\/js\\\\/wp-emoji-release.min.js?ver=5.1.1\"}};\\n\\t\\t\\t!function(a,b,c){function d(a,b){var c=String.fromCharCode;l.clearRect(0,0,k.width,k.height),l.fillText(c.apply(this,a),0,0);var d=k.toDataURL();l.clearRect(0,0,k.width,k.height),l.fillText(c.apply(this,b),0,0);var e=k.toDataURL();return d===e}function e(a){var b;if(!l||!l.fillText)return!1;switch(l.textBaseline=\"top\",l.font=\"600 32px Arial\",a){case\"flag\":return!(b=d([55356,56826,55356,56819],[55356,56826,8203,55356,56819]))&&(b=d([55356,57332,56128,56423,56128,56418,56128,56421,56128,56430,56128,56423,56128,56447],[55356,57332,8203,56128,56423,8203,56128,56418,8203,56128,56421,8203,56128,56430,8203,56128,56423,8203,56128,56447]),!b);case\"emoji\":return b=d([55358,56760,9792,65039],[55358,56760,8203,9792,65039]),!b}return!1}function f(a){var c=b.createElement(\"script\");c.src=a,c.defer=c.type=\"text/javascript\",b.getElementsByTagName(\"head\")[0].appendChild(c)}var g,h,i,j,k=b.createElement(\"canvas\"),l=k.getContext&&k.getContext(\"2d\");for(j=Array(\"flag\",\"emoji\"),c.supports={everything:!0,everythingExceptFlag:!0},i=0;i<j.length;i++)c.supports[j[i]]=e(j[i]),c.supports.everything=c.supports.everything&&c.supports[j[i]],\"flag\"!==j[i]&&(c.supports.everythingExceptFlag=c.supports.everythingExceptFlag&&c.supports[j[i]]);c.supports.everythingExceptFlag=c.supports.everythingExceptFlag&&!c.supports.flag,c.DOMReady=!1,c.readyCallback=function(){c.DOMReady=!0},c.supports.everything||(h=function(){c.readyCallback()},b.addEventListener?(b.addEventListener(\"DOMContentLoaded\",h,!1),a.addEventListener(\"load\",h,!1)):(a.attachEvent(\"onload\",h),b.attachEvent(\"onreadystatechange\",function(){\"complete\"===b.readyState&&c.readyCallback()})),g=c.source||{},g.concatemoji?f(g.concatemoji):g.wpemoji&&g.twemoji&&(f(g.twemoji),f(g.wpemoji)))}(window,document,window._wpemojiSettings);\\n\\t\\t</script>\\n\\t\\t<style type=\"text/css\">\\nimg.wp-smiley,\\nimg.emoji {\\n\\tdisplay: inline !important;\\n\\tborder: none !important;\\n\\tbox-shadow: none !important;\\n\\theight: 1em !important;\\n\\twidth: 1em !important;\\n\\tmargin: 0 .07em !important;\\n\\tvertical-align: -0.1em !important;\\n\\tbackground: none !important;\\n\\tpadding: 0 !important;\\n}\\n</style>\\n\\t<link rel=\\'stylesheet\\' id=\\'layerslider-css\\'  href=\\'https://pucit.edu.pk/wp-content/plugins/LayerSlider/static/layerslider/css/layerslider.css?ver=6.8.2\\' type=\\'text/css\\' media=\\'all\\' />\\n<link rel=\\'stylesheet\\' id=\\'wp-block-library-css\\'  href=\\'https://pucit.edu.pk/wp-includes/css/dist/block-library/style.min.css?ver=5.1.1\\' type=\\'text/css\\' media=\\'all\\' />\\n<link rel=\\'stylesheet\\' id=\\'extp-google-fonts-css\\'  href=\\'//fonts.googleapis.com/css?family=Source+Sans+Pro&#038;ver=1.0.0\\' type=\\'text/css\\' media=\\'all\\' />\\n<link rel=\\'stylesheet\\' id=\\'moose-elated-default-style-css\\'  href=\\'https://pucit.edu.pk/wp-content/themes/moose/style.css?ver=5.1.1\\' type=\\'text/css\\' media=\\'all\\' />\\n<link rel=\\'stylesheet\\' id=\\'mediaelement-css\\'  href=\\'https://pucit.edu.pk/wp-includes/js/mediaelement/mediaelementplayer-legacy.min.css?ver=4.2.6-78496d1\\' type=\\'text/css\\' media=\\'all\\' />\\n<link rel=\\'stylesheet\\' id=\\'wp-mediaelement-css\\'  href=\\'https://pucit.edu.pk/wp-includes/js/mediaelement/wp-mediaelement.min.css?ver=5.1.1\\' type=\\'text/css\\' media=\\'all\\' />\\n<link rel=\\'stylesheet\\' id=\\'moose-elated-stylesheet-css\\'  href=\\'https://pucit.edu.pk/wp-content/themes/moose/css/stylesheet.css?ver=5.1.1\\' type=\\'text/css\\' media=\\'all\\' />\\n<link rel=\\'stylesheet\\' id=\\'moose-elated-print-stylesheet-css\\'  href=\\'https://pucit.edu.pk/wp-content/themes/moose/css/print.css?ver=5.1.1\\' type=\\'text/css\\' media=\\'all\\' />\\n<link rel=\\'stylesheet\\' id=\\'moose-elated-blog-css\\'  href=\\'https://pucit.edu.pk/wp-content/themes/moose/css/blog.css?ver=5.1.1\\' type=\\'text/css\\' media=\\'all\\' />\\n<link rel=\\'stylesheet\\' id=\\'moose-elated-font_awesome-css\\'  href=\\'https://pucit.edu.pk/wp-content/themes/moose/css/font-awesome/css/font-awesome.min.css?ver=5.1.1\\' type=\\'text/css\\' media=\\'all\\' />\\n<link rel=\\'stylesheet\\' id=\\'moose-elated-font_elegant-css\\'  href=\\'https://pucit.edu.pk/wp-content/themes/moose/css/elegant-icons/style.min.css?ver=5.1.1\\' type=\\'text/css\\' media=\\'all\\' />\\n<link rel=\\'stylesheet\\' id=\\'moose-elated-ion_icons-css\\'  href=\\'https://pucit.edu.pk/wp-content/themes/moose/css/ion-icons/css/ionicons.min.css?ver=5.1.1\\' type=\\'text/css\\' media=\\'all\\' />\\n<link rel=\\'stylesheet\\' id=\\'moose-elated-linea_icons-css\\'  href=\\'https://pucit.edu.pk/wp-content/themes/moose/css/linea-icons/style.css?ver=5.1.1\\' type=\\'text/css\\' media=\\'all\\' />\\n<link rel=\\'stylesheet\\' id=\\'moose-elated-simple_line_icons-css\\'  href=\\'https://pucit.edu.pk/wp-content/themes/moose/css/simple-line-icons/simple-line-icons.css?ver=5.1.1\\' type=\\'text/css\\' media=\\'all\\' />\\n<link rel=\\'stylesheet\\' id=\\'moose-elated-dripicons-css\\'  href=\\'https://pucit.edu.pk/wp-content/themes/moose/css/dripicons/dripicons.css?ver=5.1.1\\' type=\\'text/css\\' media=\\'all\\' />\\n<link rel=\\'stylesheet\\' id=\\'moose-elated-responsive-css\\'  href=\\'https://pucit.edu.pk/wp-content/themes/moose/css/responsive.min.css?ver=5.1.1\\' type=\\'text/css\\' media=\\'all\\' />\\n<link rel=\\'stylesheet\\' id=\\'moose-elated-style-dynamic-responsive-css\\'  href=\\'https://pucit.edu.pk/wp-content/themes/moose/css/style_dynamic_responsive.css?ver=1556606065\\' type=\\'text/css\\' media=\\'all\\' />\\n<link rel=\\'stylesheet\\' id=\\'moose-elated-style-dynamic-css\\'  href=\\'https://pucit.edu.pk/wp-content/themes/moose/css/style_dynamic.css?ver=1645092340\\' type=\\'text/css\\' media=\\'all\\' />\\n<link rel=\\'stylesheet\\' id=\\'js_composer_front-css\\'  href=\\'https://pucit.edu.pk/wp-content/plugins/js_composer/assets/css/js_composer.min.css?ver=5.7\\' type=\\'text/css\\' media=\\'all\\' />\\n<link rel=\\'stylesheet\\' id=\\'moose_elated_google_fonts-css\\'  href=\\'https://fonts.googleapis.com/css?family=Raleway%3A100%2C100italic%2C200%2C200italic%2C300%2C300italic%2C400%2C400italic%2C500%2C500italic%2C600%2C600italic%2C700%2C700italic%2C800%2C800italic%2C900%2C900italic%7CMarck+Script%3A100%2C100italic%2C200%2C200italic%2C300%2C300italic%2C400%2C400italic%2C500%2C500italic%2C600%2C600italic%2C700%2C700italic%2C800%2C800italic%2C900%2C900italic%7CMontserrat%3A100%2C100italic%2C200%2C200italic%2C300%2C300italic%2C400%2C400italic%2C500%2C500italic%2C600%2C600italic%2C700%2C700italic%2C800%2C800italic%2C900%2C900italic%7CRaleway%3A100%2C100italic%2C200%2C200italic%2C300%2C300italic%2C400%2C400italic%2C500%2C500italic%2C600%2C600italic%2C700%2C700italic%2C800%2C800italic%2C900%2C900italic&#038;subset=latin%2Clatin-ext&#038;ver=1.0.0\\' type=\\'text/css\\' media=\\'all\\' />\\n<link rel=\\'stylesheet\\' id=\\'socicon-css\\'  href=\\'https://pucit.edu.pk/wp-content/plugins/social-icons-widget-by-wpzoom/assets/css/socicon.css?ver=20181009\\' type=\\'text/css\\' media=\\'all\\' />\\n<link rel=\\'stylesheet\\' id=\\'genericons-css\\'  href=\\'https://pucit.edu.pk/wp-content/plugins/social-icons-widget-by-wpzoom/assets/css/genericons.css?ver=20180625\\' type=\\'text/css\\' media=\\'all\\' />\\n<link rel=\\'stylesheet\\' id=\\'academicons-css\\'  href=\\'https://pucit.edu.pk/wp-content/plugins/social-icons-widget-by-wpzoom/assets/css/academicons.min.css?ver=20190406\\' type=\\'text/css\\' media=\\'all\\' />\\n<link rel=\\'stylesheet\\' id=\\'fontawesome-css\\'  href=\\'https://pucit.edu.pk/wp-content/plugins/social-icons-widget-by-wpzoom/assets/css/font-awesome.min.css?ver=20180625\\' type=\\'text/css\\' media=\\'all\\' />\\n<link rel=\\'stylesheet\\' id=\\'dashicons-css\\'  href=\\'https://pucit.edu.pk/wp-includes/css/dashicons.min.css?ver=5.1.1\\' type=\\'text/css\\' media=\\'all\\' />\\n<link rel=\\'stylesheet\\' id=\\'extp-font-awesome-css\\'  href=\\'https://pucit.edu.pk/wp-content/plugins/teampress/css/font-awesome/css/fontawesome-all.min.css?ver=5.1.1\\' type=\\'text/css\\' media=\\'all\\' />\\n<link rel=\\'stylesheet\\' id=\\'extp-lightbox-css\\'  href=\\'https://pucit.edu.pk/wp-content/plugins/teampress/css/glightbox.css?ver=5.1.1\\' type=\\'text/css\\' media=\\'all\\' />\\n<link rel=\\'stylesheet\\' id=\\'extp-teampress-css\\'  href=\\'https://pucit.edu.pk/wp-content/plugins/teampress/css/style.css?ver=5.1.1\\' type=\\'text/css\\' media=\\'all\\' />\\n<link rel=\\'stylesheet\\' id=\\'extp-teampress-imghover-css\\'  href=\\'https://pucit.edu.pk/wp-content/plugins/teampress/css/imghover-style.css?ver=5.1.1\\' type=\\'text/css\\' media=\\'all\\' />\\n<link rel=\\'stylesheet\\' id=\\'extp-teampress-list-css\\'  href=\\'https://pucit.edu.pk/wp-content/plugins/teampress/css/style-list.css?ver=5.1.1\\' type=\\'text/css\\' media=\\'all\\' />\\n<link rel=\\'stylesheet\\' id=\\'extp-teampress-tablecss-css\\'  href=\\'https://pucit.edu.pk/wp-content/plugins/teampress/css/style-table.css?ver=5.1.1\\' type=\\'text/css\\' media=\\'all\\' />\\n<link rel=\\'stylesheet\\' id=\\'extp-teampress-expand-css\\'  href=\\'https://pucit.edu.pk/wp-content/plugins/teampress/css/collapse.css?ver=5.1.1\\' type=\\'text/css\\' media=\\'all\\' />\\n<link rel=\\'stylesheet\\' id=\\'extp-teampress-modal-css\\'  href=\\'https://pucit.edu.pk/wp-content/plugins/teampress/css/modal.css?ver=5.1.1\\' type=\\'text/css\\' media=\\'all\\' />\\n<script type=\\'text/javascript\\'>\\n/* <![CDATA[ */\\nvar LS_Meta = {\"v\":\"6.8.2\"};\\n/* ]]> */\\n</script>\\n<script type=\\'text/javascript\\' src=\\'https://pucit.edu.pk/wp-content/plugins/LayerSlider/static/layerslider/js/greensock.js?ver=1.19.0\\'></script>\\n<script type=\\'text/javascript\\' src=\\'https://pucit.edu.pk/wp-includes/js/jquery/jquery.js?ver=1.12.4\\'></script>\\n<script type=\\'text/javascript\\' src=\\'https://pucit.edu.pk/wp-includes/js/jquery/jquery-migrate.min.js?ver=1.4.1\\'></script>\\n<script type=\\'text/javascript\\' src=\\'https://pucit.edu.pk/wp-content/plugins/LayerSlider/static/layerslider/js/layerslider.kreaturamedia.jquery.js?ver=6.8.2\\'></script>\\n<script type=\\'text/javascript\\' src=\\'https://pucit.edu.pk/wp-content/plugins/LayerSlider/static/layerslider/js/layerslider.transitions.js?ver=6.8.2\\'></script>\\n<script type=\\'text/javascript\\'>\\nvar mejsL10n = {\"language\":\"en\",\"strings\":{\"mejs.install-flash\":\"You are using a browser that does not have Flash player enabled or installed. Please turn on your Flash player plugin or download the latest version from https:\\\\/\\\\/get.adobe.com\\\\/flashplayer\\\\/\",\"mejs.fullscreen-off\":\"Turn off Fullscreen\",\"mejs.fullscreen-on\":\"Go Fullscreen\",\"mejs.download-video\":\"Download Video\",\"mejs.fullscreen\":\"Fullscreen\",\"mejs.time-jump-forward\":[\"Jump forward 1 second\",\"Jump forward %1 seconds\"],\"mejs.loop\":\"Toggle Loop\",\"mejs.play\":\"Play\",\"mejs.pause\":\"Pause\",\"mejs.close\":\"Close\",\"mejs.time-slider\":\"Time Slider\",\"mejs.time-help-text\":\"Use Left\\\\/Right Arrow keys to advance one second, Up\\\\/Down arrows to advance ten seconds.\",\"mejs.time-skip-back\":[\"Skip back 1 second\",\"Skip back %1 seconds\"],\"mejs.captions-subtitles\":\"Captions\\\\/Subtitles\",\"mejs.captions-chapters\":\"Chapters\",\"mejs.none\":\"None\",\"mejs.mute-toggle\":\"Mute Toggle\",\"mejs.volume-help-text\":\"Use Up\\\\/Down Arrow keys to increase or decrease volume.\",\"mejs.unmute\":\"Unmute\",\"mejs.mute\":\"Mute\",\"mejs.volume-slider\":\"Volume Slider\",\"mejs.video-player\":\"Video Player\",\"mejs.audio-player\":\"Audio Player\",\"mejs.ad-skip\":\"Skip ad\",\"mejs.ad-skip-info\":[\"Skip in 1 second\",\"Skip in %1 seconds\"],\"mejs.source-chooser\":\"Source Chooser\",\"mejs.stop\":\"Stop\",\"mejs.speed-rate\":\"Speed Rate\",\"mejs.live-broadcast\":\"Live Broadcast\",\"mejs.afrikaans\":\"Afrikaans\",\"mejs.albanian\":\"Albanian\",\"mejs.arabic\":\"Arabic\",\"mejs.belarusian\":\"Belarusian\",\"mejs.bulgarian\":\"Bulgarian\",\"mejs.catalan\":\"Catalan\",\"mejs.chinese\":\"Chinese\",\"mejs.chinese-simplified\":\"Chinese (Simplified)\",\"mejs.chinese-traditional\":\"Chinese (Traditional)\",\"mejs.croatian\":\"Croatian\",\"mejs.czech\":\"Czech\",\"mejs.danish\":\"Danish\",\"mejs.dutch\":\"Dutch\",\"mejs.english\":\"English\",\"mejs.estonian\":\"Estonian\",\"mejs.filipino\":\"Filipino\",\"mejs.finnish\":\"Finnish\",\"mejs.french\":\"French\",\"mejs.galician\":\"Galician\",\"mejs.german\":\"German\",\"mejs.greek\":\"Greek\",\"mejs.haitian-creole\":\"Haitian Creole\",\"mejs.hebrew\":\"Hebrew\",\"mejs.hindi\":\"Hindi\",\"mejs.hungarian\":\"Hungarian\",\"mejs.icelandic\":\"Icelandic\",\"mejs.indonesian\":\"Indonesian\",\"mejs.irish\":\"Irish\",\"mejs.italian\":\"Italian\",\"mejs.japanese\":\"Japanese\",\"mejs.korean\":\"Korean\",\"mejs.latvian\":\"Latvian\",\"mejs.lithuanian\":\"Lithuanian\",\"mejs.macedonian\":\"Macedonian\",\"mejs.malay\":\"Malay\",\"mejs.maltese\":\"Maltese\",\"mejs.norwegian\":\"Norwegian\",\"mejs.persian\":\"Persian\",\"mejs.polish\":\"Polish\",\"mejs.portuguese\":\"Portuguese\",\"mejs.romanian\":\"Romanian\",\"mejs.russian\":\"Russian\",\"mejs.serbian\":\"Serbian\",\"mejs.slovak\":\"Slovak\",\"mejs.slovenian\":\"Slovenian\",\"mejs.spanish\":\"Spanish\",\"mejs.swahili\":\"Swahili\",\"mejs.swedish\":\"Swedish\",\"mejs.tagalog\":\"Tagalog\",\"mejs.thai\":\"Thai\",\"mejs.turkish\":\"Turkish\",\"mejs.ukrainian\":\"Ukrainian\",\"mejs.vietnamese\":\"Vietnamese\",\"mejs.welsh\":\"Welsh\",\"mejs.yiddish\":\"Yiddish\"}};\\n</script>\\n<script type=\\'text/javascript\\' src=\\'https://pucit.edu.pk/wp-includes/js/mediaelement/mediaelement-and-player.min.js?ver=4.2.6-78496d1\\'></script>\\n<script type=\\'text/javascript\\' src=\\'https://pucit.edu.pk/wp-includes/js/mediaelement/mediaelement-migrate.min.js?ver=5.1.1\\'></script>\\n<script type=\\'text/javascript\\'>\\n/* <![CDATA[ */\\nvar _wpmejsSettings = {\"pluginPath\":\"\\\\/wp-includes\\\\/js\\\\/mediaelement\\\\/\",\"classPrefix\":\"mejs-\",\"stretching\":\"responsive\"};\\n/* ]]> */\\n</script>\\n<script type=\\'text/javascript\\' src=\\'https://pucit.edu.pk/wp-content/plugins/teampress/js/teampress.js?ver=1.0\\'></script>\\n<meta name=\"generator\" content=\"Powered by LayerSlider 6.8.2 - Multi-Purpose, Responsive, Parallax, Mobile-Friendly Slider Plugin for WordPress.\" />\\r\\n<!-- LayerSlider updates and docs at: https://layerslider.kreaturamedia.com -->\\r\\n<link rel=\\'https://api.w.org/\\' href=\\'https://pucit.edu.pk/wp-json/\\' />\\n<link rel=\"EditURI\" type=\"application/rsd+xml\" title=\"RSD\" href=\"https://pucit.edu.pk/xmlrpc.php?rsd\" />\\n<link rel=\"wlwmanifest\" type=\"application/wlwmanifest+xml\" href=\"https://pucit.edu.pk/wp-includes/wlwmanifest.xml\" /> \\n<meta name=\"generator\" content=\"WordPress 5.1.1\" />\\n<link rel=\"canonical\" href=\"https://pucit.edu.pk/\" />\\n<link rel=\\'shortlink\\' href=\\'https://pucit.edu.pk/\\' />\\n<link rel=\"alternate\" type=\"application/json+oembed\" href=\"https://pucit.edu.pk/wp-json/oembed/1.0/embed?url=https%3A%2F%2Fpucit.edu.pk%2F\" />\\n<link rel=\"alternate\" type=\"text/xml+oembed\" href=\"https://pucit.edu.pk/wp-json/oembed/1.0/embed?url=https%3A%2F%2Fpucit.edu.pk%2F&#038;format=xml\" />\\n<!-- <meta name=\"NextGEN\" version=\"3.1.17\" /> -->\\n<meta name=\"generator\" content=\"Powered by WPBakery Page Builder - drag and drop page builder for WordPress.\"/>\\n<!--[if lte IE 9]><link rel=\"stylesheet\" type=\"text/css\" href=\"https://pucit.edu.pk/wp-content/plugins/js_composer/assets/css/vc_lte_ie9.min.css\" media=\"screen\"><![endif]--><style type=\"text/css\">\\t.ex-tplist h3 a,\\r\\n    .ex-tplist .ex-hidden .exp-modal-info h3 a,\\r\\n    .extp-member-single .member-info h3,\\r\\n    .exteam-lb .gslide-description.description-right h3{\\r\\n        font-family: \"\", sans-serif;\\r\\n    }\\r\\n\\t\\t.ex-tplist .exp-expand .exp-expand-meta h5,\\r\\n    .ex-tplist .ex-hidden .exp-modal-info h5,\\r\\n    .exteam-lb .gslide-description.description-right h5,\\r\\n    .extp-member-single .mb-meta,\\r\\n    .ex-tplist h5{\\r\\n        font-family: \"\", sans-serif;\\r\\n    }\\r\\n\\t</style><noscript><style type=\"text/css\"> .wpb_animate_when_almost_visible { opacity: 1; }</style></noscript></head>\\r\\n\\r\\n<body class=\"home page-template page-template-full_width page-template-full_width-php page page-id-344030 eltd-cpt-2.1  moose-ver-3.0.1  vertical_menu_with_scroll smooth_scroll blog_installed wpb-js-composer js-comp-ver-5.7 vc_responsive\">\\r\\n\\r\\n\\r\\n\\r\\n\\n\\n<div class=\"wrapper\">\\r\\n\\t<div class=\"wrapper_inner\">\\r\\n\\t\\t\\t\\t\\t\\t\\t\\n\\t\\t\\t<header class=\"page_header centered_logo has_header_fixed_right dark header_style_on_scroll regular\">\\n\\t\\t\\t<div class=\"header_inner clearfix\">\\n\\t\\t\\t\\t\\t\\t\\t\\t\\n\\t\\t\\t\\t\\n\\t\\t\\t\\t<div class=\"header_top_bottom_holder\">\\n\\t\\t\\t\\t\\t\\t\\t\\t\\t\\t<div class=\"header_bottom  header_in_grid clearfix \" style=\"background-color:rgba(47, 157, 198, 1);\" >\\n\\t\\t\\t\\t\\t\\t\\t\\t\\t\\t\\t\\t<div class=\"container\">\\n\\t\\t\\t\\t\\t\\t\\t<div class=\"container_inner clearfix\" >\\n\\t\\t\\t\\t\\t\\t\\t\\t\\t\\t\\t\\t\\t\\t\\t\\t\\t\\t\\t\\t\\t\\t\\t\\t\\t\\t\\t\\t\\t\\t\\t\\t\\t\\t\\t<div class=\"header_inner_left\">\\n\\t\\t\\t\\t\\t\\t\\t\\t\\t\\t\\t\\t\\t\\t\\t\\t\\t\\t\\t\\t\\t\\t\\t\\t\\t\\t\\t\\t\\t\\t\\t<div class=\"mobile_menu_button\">\\n\\t\\t\\t\\t\\t\\t\\t\\t\\t\\t<span>\\n\\t\\t\\t\\t\\t\\t\\t\\t\\t\\t\\t<i class=\"eltd_icon_font_awesome fa fa-bars \"></i>\\t\\t\\t\\t\\t\\t\\t\\t\\t\\t</span>\\n\\t\\t\\t\\t\\t\\t\\t\\t\\t\\t\\t</div>\\n\\t\\t\\t\\t\\t\\t\\t\\t\\t\\t\\t\\t\\t\\t\\t\\t\\t\\t\\t\\t\\n\\t\\t\\t\\t\\t\\t\\t\\t\\t\\t\\n\\t\\t\\t\\t\\t\\t\\t\\t\\t\\t\\n\\t\\t\\t\\t\\t\\t\\t\\t\\t\\t\\t\\t\\t\\t\\t\\t\\t\\t\\t\\t\\t<div class=\"logo_wrapper\" style=\"height:73.5px;\">\\n\\t\\t\\t\\t\\t\\t\\t\\t\\t\\t\\t\\t\\t\\t\\t\\t\\t\\t\\t\\t\\t\\t\\t\\t<div class=\"eltd_logo\"><a style=\"height:73.5px;\" href=\"https://pucit.edu.pk/\"><img class=\"normal\" src=\"https://pucit.edu.pk/wp-content/uploads/2021/05/logo-responsivenewcenter.png\" alt=\"Logo\"/><img class=\"light\" src=\"https://pucit.edu.pk/wp-content/uploads/2021/05/logo-responsivenewcenter.png\" alt=\"Logo\"/><img class=\"dark\" src=\"https://pucit.edu.pk/wp-content/uploads/2021/05/logo-responsivenewcenter.png\" alt=\"Logo\"/><img class=\"sticky\" src=\"https://pucit.edu.pk/wp-content/uploads/2021/03/logo-new.png\" alt=\"Logo\"/><img class=\"mobile\" src=\"https://pucit.edu.pk/wp-content/uploads/2021/03/logo-new.png\" alt=\"Logo\"/></a></div>\\n\\t\\t\\t\\t\\t\\t\\t\\t\\t\\t\\t\\t\\t\\t\\t\\t\\t\\t\\t\\t\\t\\t\\t</div>\\n\\t\\t\\t\\t\\t\\t\\t\\t\\t\\t\\t\\t\\t\\t\\t\\t\\t\\t\\t\\t\\n\\t\\t\\t\\t\\t\\t\\t\\t\\t\\t\\n\\t\\t\\t\\t\\t\\t\\t\\t\\t\\t\\t\\t\\t\\t\\t\\t\\t\\t\\t\\t\\t\\t\\t\\t\\t\\t\\t\\t\\t</div>\\n\\t\\t\\t\\t\\t\\t\\t\\t\\t\\t\\t\\t\\t\\t\\t\\t\\t\\t\\t\\t\\t\\t\\t\\t\\t\\t\\t\\t\\t\\t\\t\\t\\t\\t\\t\\t\\t\\t\\t\\t\\t\\t\\t\\t\\t\\t\\t\\t\\t\\t\\t\\t\\t\\t\\t\\t\\t\\t\\t\\t\\t\\t\\t\\t\\t\\t\\t\\t<nav class=\"main_menu drop_down   \">\\n\\t\\t\\t\\t\\t\\t\\t\\t\\t\\t\\t<ul id=\"menu-main-menu\" class=\"\"><li id=\"nav-menu-item-348701\" class=\"menu-item menu-item-type-post_type menu-item-object-page menu-item-home current-menu-item page_item page-item-344030 current_page_item menu-item-has-children active has_sub narrow left_position\"><a href=\"https://pucit.edu.pk/\" class=\" current \"><span class=\"item_inner\"><span class=\"menu_icon_wrapper\"><i class=\"menu_icon null fa\"></i></span><span class=\"item_text\">Home</span></span><span class=\"plus\"></span></a>\\n<div class=\"second\" ><div class=\"inner\"><ul >\\n\\t<li id=\"nav-menu-item-348902\" class=\"menu-item menu-item-type-post_type menu-item-object-page menu-item-has-children sub\"><a href=\"https://pucit.edu.pk/vice-chancellors-message/\" class=\"\"><span class=\"item_inner\"><span class=\"menu_icon_wrapper\"><i class=\"menu_icon null fa\"></i></span><span class=\"item_text\">University Of the Punjab</span></span><span class=\"plus\"></span><i class=\"eltd_menu_arrow fa fa-angle-right\"></i></a>\\n\\t<ul >\\n\\t\\t<li id=\"nav-menu-item-365179\" class=\"menu-item menu-item-type-post_type menu-item-object-page \"><a href=\"https://pucit.edu.pk/book-fair/\" class=\"\"><span class=\"item_inner\"><span class=\"menu_icon_wrapper\"><i class=\"menu_icon blank fa\"></i></span><span class=\"item_text\">BOOK FAIR</span></span><span class=\"plus\"></span></a></li>\\n\\t</ul>\\n</li>\\n\\t<li id=\"nav-menu-item-353141\" class=\"menu-item menu-item-type-post_type menu-item-object-page \"><a href=\"https://pucit.edu.pk/dean-and-chairperson-messages/\" class=\"\"><span class=\"item_inner\"><span class=\"menu_icon_wrapper\"><i class=\"menu_icon null fa\"></i></span><span class=\"item_text\">Dean&#8217;s and Chairperson&#8217;s Messages</span></span><span class=\"plus\"></span></a></li>\\n\\t<li id=\"nav-menu-item-348903\" class=\"menu-item menu-item-type-post_type menu-item-object-page \"><a href=\"https://pucit.edu.pk/fcit-history/\" class=\"\"><span class=\"item_inner\"><span class=\"menu_icon_wrapper\"><i class=\"menu_icon null fa\"></i></span><span class=\"item_text\">History Of FCIT</span></span><span class=\"plus\"></span></a></li>\\n\\t<li id=\"nav-menu-item-363192\" class=\"menu-item menu-item-type-post_type menu-item-object-page \"><a href=\"https://pucit.edu.pk/348223-2/\" class=\"\"><span class=\"item_inner\"><span class=\"menu_icon_wrapper\"><i class=\"menu_icon null fa\"></i></span><span class=\"item_text\">Faculty Members</span></span><span class=\"plus\"></span></a></li>\\n\\t<li id=\"nav-menu-item-357178\" class=\"menu-item menu-item-type-post_type menu-item-object-page \"><a href=\"https://pucit.edu.pk/publications-of-fcit-faculty/\" class=\"\"><span class=\"item_inner\"><span class=\"menu_icon_wrapper\"><i class=\"menu_icon icon-bubbles fa\"></i></span><span class=\"item_text\">Publications Of FCIT Faculty</span></span><span class=\"plus\"></span><span class=\" featured_icon icon_star\" aria-hidden=\"true\"></span></a></li>\\n\\t<li id=\"nav-menu-item-354233\" class=\"menu-item menu-item-type-post_type menu-item-object-page \"><a href=\"https://pucit.edu.pk/faculty-development-programs/\" class=\"\"><span class=\"item_inner\"><span class=\"menu_icon_wrapper\"><i class=\"menu_icon icon-bubbles fa\"></i></span><span class=\"item_text\">Faculty Development Programs</span></span><span class=\"plus\"></span><span class=\" featured_icon icon_star\" aria-hidden=\"true\"></span></a></li>\\n\\t<li id=\"nav-menu-item-354290\" class=\"menu-item menu-item-type-post_type menu-item-object-page \"><a href=\"https://pucit.edu.pk/funded-research-programes-frp/\" class=\"\"><span class=\"item_inner\"><span class=\"menu_icon_wrapper\"><i class=\"menu_icon icon-bubbles fa\"></i></span><span class=\"item_text\">Funded Research Programs (FRP)</span></span><span class=\"plus\"></span><span class=\" featured_icon icon_star\" aria-hidden=\"true\"></span></a></li>\\n\\t<li id=\"nav-menu-item-363309\" class=\"menu-item menu-item-type-post_type menu-item-object-page \"><a href=\"https://pucit.edu.pk/media-converage/\" class=\"\"><span class=\"item_inner\"><span class=\"menu_icon_wrapper\"><i class=\"menu_icon null fa\"></i></span><span class=\"item_text\">National Media Coverage</span></span><span class=\"plus\"></span></a></li>\\n\\t<li id=\"nav-menu-item-364908\" class=\"menu-item menu-item-type-post_type menu-item-object-page \"><a href=\"https://pucit.edu.pk/mentionable-performance-of-fcit-in-international-and-national-programming-contests-2009-2023/\" class=\"\"><span class=\"item_inner\"><span class=\"menu_icon_wrapper\"><i class=\"menu_icon blank fa\"></i></span><span class=\"item_text\">MENTIONABLE PERFORMANCE OF FCIT</span></span><span class=\"plus\"></span></a></li>\\n\\t<li id=\"nav-menu-item-364907\" class=\"menu-item menu-item-type-post_type menu-item-object-page \"><a href=\"https://pucit.edu.pk/fcit-events-2023/\" class=\"\"><span class=\"item_inner\"><span class=\"menu_icon_wrapper\"><i class=\"menu_icon blank fa\"></i></span><span class=\"item_text\">FCIT Events (2023)</span></span><span class=\"plus\"></span></a></li>\\n\\t<li id=\"nav-menu-item-364972\" class=\"menu-item menu-item-type-post_type menu-item-object-page \"><a href=\"https://pucit.edu.pk/faculty-books/\" class=\"\"><span class=\"item_inner\"><span class=\"menu_icon_wrapper\"><i class=\"menu_icon blank fa\"></i></span><span class=\"item_text\">Faculty Books</span></span><span class=\"plus\"></span></a></li>\\n\\t<li id=\"nav-menu-item-366146\" class=\"menu-item menu-item-type-post_type menu-item-object-page \"><a href=\"https://pucit.edu.pk/internal-incentives/\" class=\"\"><span class=\"item_inner\"><span class=\"menu_icon_wrapper\"><i class=\"menu_icon blank fa\"></i></span><span class=\"item_text\">Internal Incentives</span></span><span class=\"plus\"></span></a></li>\\n</ul></div></div>\\n</li>\\n<li id=\"nav-menu-item-352939\" class=\"menu-item menu-item-type-custom menu-item-object-custom menu-item-has-children  has_sub narrow\"><a href=\"\" class=\" no_link\" style=\"cursor: default;\" onclick=\"JavaScript: return false;\"><span class=\"item_inner\"><span class=\"menu_icon_wrapper\"><i class=\"menu_icon null fa\"></i></span><span class=\"item_text\">Departments</span></span><span class=\"plus\"></span></a>\\n<div class=\"second\" ><div class=\"inner\"><ul >\\n\\t<li id=\"nav-menu-item-352943\" class=\"menu-item menu-item-type-post_type menu-item-object-page \"><a href=\"https://pucit.edu.pk/department-of-computer-science/\" class=\"\"><span class=\"item_inner\"><span class=\"menu_icon_wrapper\"><i class=\"menu_icon null fa\"></i></span><span class=\"item_text\">Department of Computer Science</span></span><span class=\"plus\"></span></a></li>\\n\\t<li id=\"nav-menu-item-352942\" class=\"menu-item menu-item-type-post_type menu-item-object-page \"><a href=\"https://pucit.edu.pk/department-of-software-engineering/\" class=\"\"><span class=\"item_inner\"><span class=\"menu_icon_wrapper\"><i class=\"menu_icon null fa\"></i></span><span class=\"item_text\">Department of Software Engineering</span></span><span class=\"plus\"></span></a></li>\\n\\t<li id=\"nav-menu-item-352941\" class=\"menu-item menu-item-type-post_type menu-item-object-page \"><a href=\"https://pucit.edu.pk/department-of-information-technology/\" class=\"\"><span class=\"item_inner\"><span class=\"menu_icon_wrapper\"><i class=\"menu_icon null fa\"></i></span><span class=\"item_text\">Department of Information Technology</span></span><span class=\"plus\"></span></a></li>\\n\\t<li id=\"nav-menu-item-352940\" class=\"menu-item menu-item-type-post_type menu-item-object-page \"><a href=\"https://pucit.edu.pk/department-of-data-science/\" class=\"\"><span class=\"item_inner\"><span class=\"menu_icon_wrapper\"><i class=\"menu_icon null fa\"></i></span><span class=\"item_text\">Department of Data Science</span></span><span class=\"plus\"></span></a></li>\\n</ul></div></div>\\n</li>\\n<li id=\"nav-menu-item-348950\" class=\"menu-item menu-item-type-post_type menu-item-object-page menu-item-has-children  has_sub narrow\"><a href=\"https://pucit.edu.pk/academic-regulations/\" class=\"\"><span class=\"item_inner\"><span class=\"menu_icon_wrapper\"><i class=\"menu_icon null fa\"></i></span><span class=\"item_text\">Academics</span></span><span class=\"plus\"></span></a>\\n<div class=\"second\" ><div class=\"inner\"><ul >\\n\\t<li id=\"nav-menu-item-365451\" class=\"menu-item menu-item-type-post_type menu-item-object-page \"><a href=\"https://pucit.edu.pk/accreditation/\" class=\"\"><span class=\"item_inner\"><span class=\"menu_icon_wrapper\"><i class=\"menu_icon blank fa\"></i></span><span class=\"item_text\">ACCREDITATION</span></span><span class=\"plus\"></span></a></li>\\n\\t<li id=\"nav-menu-item-349087\" class=\"menu-item menu-item-type-post_type menu-item-object-page menu-item-has-children sub\"><a href=\"https://pucit.edu.pk/academic-programs/\" class=\"\"><span class=\"item_inner\"><span class=\"menu_icon_wrapper\"><i class=\"menu_icon null fa\"></i></span><span class=\"item_text\">Academic Programs</span></span><span class=\"plus\"></span><i class=\"eltd_menu_arrow fa fa-angle-right\"></i></a>\\n\\t<ul >\\n\\t\\t<li id=\"nav-menu-item-349088\" class=\"menu-item menu-item-type-post_type menu-item-object-page \"><a href=\"https://pucit.edu.pk/bs-computer-science/\" class=\"\"><span class=\"item_inner\"><span class=\"menu_icon_wrapper\"><i class=\"menu_icon null fa\"></i></span><span class=\"item_text\">BS Computer Science</span></span><span class=\"plus\"></span></a></li>\\n\\t\\t<li id=\"nav-menu-item-349090\" class=\"menu-item menu-item-type-post_type menu-item-object-page \"><a href=\"https://pucit.edu.pk/bs-software-engineering/\" class=\"\"><span class=\"item_inner\"><span class=\"menu_icon_wrapper\"><i class=\"menu_icon null fa\"></i></span><span class=\"item_text\">BS Software Engineering</span></span><span class=\"plus\"></span></a></li>\\n\\t\\t<li id=\"nav-menu-item-349089\" class=\"menu-item menu-item-type-post_type menu-item-object-page \"><a href=\"https://pucit.edu.pk/bs-information-technology/\" class=\"\"><span class=\"item_inner\"><span class=\"menu_icon_wrapper\"><i class=\"menu_icon null fa\"></i></span><span class=\"item_text\">BS Information Technology</span></span><span class=\"plus\"></span></a></li>\\n\\t\\t<li id=\"nav-menu-item-364385\" class=\"menu-item menu-item-type-post_type menu-item-object-page \"><a href=\"https://pucit.edu.pk/bs-data-science/\" class=\"\"><span class=\"item_inner\"><span class=\"menu_icon_wrapper\"><i class=\"menu_icon null fa\"></i></span><span class=\"item_text\">BS Data Science</span></span><span class=\"plus\"></span></a></li>\\n\\t\\t<li id=\"nav-menu-item-349098\" class=\"menu-item menu-item-type-post_type menu-item-object-page \"><a href=\"https://pucit.edu.pk/m-phil-cs/\" class=\"\"><span class=\"item_inner\"><span class=\"menu_icon_wrapper\"><i class=\"menu_icon null fa\"></i></span><span class=\"item_text\">M.Phil (CS,AI,DS)</span></span><span class=\"plus\"></span></a></li>\\n\\t\\t<li id=\"nav-menu-item-349092\" class=\"menu-item menu-item-type-post_type menu-item-object-page \"><a href=\"https://pucit.edu.pk/phd/\" class=\"\"><span class=\"item_inner\"><span class=\"menu_icon_wrapper\"><i class=\"menu_icon null fa\"></i></span><span class=\"item_text\">PhD (CS,DS,AI)</span></span><span class=\"plus\"></span></a></li>\\n\\t</ul>\\n</li>\\n\\t<li id=\"nav-menu-item-354043\" class=\"menu-item menu-item-type-post_type menu-item-object-page \"><a href=\"https://pucit.edu.pk/approved-curriculum/\" class=\"\"><span class=\"item_inner\"><span class=\"menu_icon_wrapper\"><i class=\"menu_icon null fa\"></i></span><span class=\"item_text\">Approved HEC Curriculum</span></span><span class=\"plus\"></span></a></li>\\n\\t<li id=\"nav-menu-item-348908\" class=\"menu-item menu-item-type-post_type menu-item-object-page \"><a href=\"https://pucit.edu.pk/academic-calender/\" class=\"\"><span class=\"item_inner\"><span class=\"menu_icon_wrapper\"><i class=\"menu_icon null fa\"></i></span><span class=\"item_text\">Academic Calender</span></span><span class=\"plus\"></span></a></li>\\n\\t<li id=\"nav-menu-item-348909\" class=\"menu-item menu-item-type-post_type menu-item-object-page \"><a href=\"https://pucit.edu.pk/timetable/\" class=\"\"><span class=\"item_inner\"><span class=\"menu_icon_wrapper\"><i class=\"menu_icon null fa\"></i></span><span class=\"item_text\">Timetable</span></span><span class=\"plus\"></span></a></li>\\n\\t<li id=\"nav-menu-item-348907\" class=\"menu-item menu-item-type-post_type menu-item-object-page \"><a href=\"https://pucit.edu.pk/academic-regulations/\" class=\"\"><span class=\"item_inner\"><span class=\"menu_icon_wrapper\"><i class=\"menu_icon null fa\"></i></span><span class=\"item_text\">Semester Rules &#038; Regulations</span></span><span class=\"plus\"></span></a></li>\\n\\t<li id=\"nav-menu-item-350203\" class=\"menu-item menu-item-type-post_type menu-item-object-page menu-item-has-children sub\"><a href=\"https://pucit.edu.pk/virtual-classes/\" class=\"\"><span class=\"item_inner\"><span class=\"menu_icon_wrapper\"><i class=\"menu_icon null fa\"></i></span><span class=\"item_text\">Virtual Classes</span></span><span class=\"plus\"></span><i class=\"eltd_menu_arrow fa fa-angle-right\"></i></a>\\n\\t<ul >\\n\\t\\t<li id=\"nav-menu-item-350450\" class=\"menu-item menu-item-type-post_type menu-item-object-page \"><a href=\"https://pucit.edu.pk/online-examination/\" class=\"\"><span class=\"item_inner\"><span class=\"menu_icon_wrapper\"><i class=\"menu_icon null fa\"></i></span><span class=\"item_text\">Online Examination</span></span><span class=\"plus\"></span></a></li>\\n\\t\\t<li id=\"nav-menu-item-350237\" class=\"menu-item menu-item-type-post_type menu-item-object-page \"><a href=\"https://pucit.edu.pk/online-courses-offered/\" class=\"\"><span class=\"item_inner\"><span class=\"menu_icon_wrapper\"><i class=\"menu_icon null fa\"></i></span><span class=\"item_text\">Online Courses Offered</span></span><span class=\"plus\"></span></a></li>\\n\\t</ul>\\n</li>\\n\\t<li id=\"nav-menu-item-348920\" class=\"menu-item menu-item-type-post_type menu-item-object-page menu-item-has-children sub\"><a href=\"https://pucit.edu.pk/vice-chancellor-list-spring-2017/\" class=\"\"><span class=\"item_inner\"><span class=\"menu_icon_wrapper\"><i class=\"menu_icon null fa\"></i></span><span class=\"item_text\">Vice Chancellor List</span></span><span class=\"plus\"></span><i class=\"eltd_menu_arrow fa fa-angle-right\"></i></a>\\n\\t<ul >\\n\\t\\t<li id=\"nav-menu-item-348924\" class=\"menu-item menu-item-type-post_type menu-item-object-page \"><a href=\"https://pucit.edu.pk/msc-cs/\" class=\"\"><span class=\"item_inner\"><span class=\"menu_icon_wrapper\"><i class=\"menu_icon null fa\"></i></span><span class=\"item_text\">MSc CS</span></span><span class=\"plus\"></span></a></li>\\n\\t\\t<li id=\"nav-menu-item-348923\" class=\"menu-item menu-item-type-post_type menu-item-object-page \"><a href=\"https://pucit.edu.pk/bs-software-engineering-3/\" class=\"\"><span class=\"item_inner\"><span class=\"menu_icon_wrapper\"><i class=\"menu_icon null fa\"></i></span><span class=\"item_text\">BS (Software Engineering)</span></span><span class=\"plus\"></span></a></li>\\n\\t\\t<li id=\"nav-menu-item-348922\" class=\"menu-item menu-item-type-post_type menu-item-object-page \"><a href=\"https://pucit.edu.pk/bs-information-technology-3/\" class=\"\"><span class=\"item_inner\"><span class=\"menu_icon_wrapper\"><i class=\"menu_icon null fa\"></i></span><span class=\"item_text\">BS (Information Technology)</span></span><span class=\"plus\"></span></a></li>\\n\\t\\t<li id=\"nav-menu-item-348921\" class=\"menu-item menu-item-type-post_type menu-item-object-page \"><a href=\"https://pucit.edu.pk/bs-computer-science-3/\" class=\"\"><span class=\"item_inner\"><span class=\"menu_icon_wrapper\"><i class=\"menu_icon null fa\"></i></span><span class=\"item_text\">BS (Computer Science)</span></span><span class=\"plus\"></span></a></li>\\n\\t</ul>\\n</li>\\n\\t<li id=\"nav-menu-item-348912\" class=\"menu-item menu-item-type-post_type menu-item-object-page menu-item-has-children sub\"><a href=\"https://pucit.edu.pk/principals-list-fall-2017/\" class=\"\"><span class=\"item_inner\"><span class=\"menu_icon_wrapper\"><i class=\"menu_icon null fa\"></i></span><span class=\"item_text\">Principal&#8217;s List</span></span><span class=\"plus\"></span><i class=\"eltd_menu_arrow fa fa-angle-right\"></i></a>\\n\\t<ul >\\n\\t\\t<li id=\"nav-menu-item-348915\" class=\"menu-item menu-item-type-post_type menu-item-object-page \"><a href=\"https://pucit.edu.pk/bs-computer-science-2/\" class=\"\"><span class=\"item_inner\"><span class=\"menu_icon_wrapper\"><i class=\"menu_icon null fa\"></i></span><span class=\"item_text\">BS (Computer Science)</span></span><span class=\"plus\"></span></a></li>\\n\\t\\t<li id=\"nav-menu-item-348918\" class=\"menu-item menu-item-type-post_type menu-item-object-page \"><a href=\"https://pucit.edu.pk/msc-in-computer-science/\" class=\"\"><span class=\"item_inner\"><span class=\"menu_icon_wrapper\"><i class=\"menu_icon null fa\"></i></span><span class=\"item_text\">MSc in Computer Science</span></span><span class=\"plus\"></span></a></li>\\n\\t\\t<li id=\"nav-menu-item-348917\" class=\"menu-item menu-item-type-post_type menu-item-object-page \"><a href=\"https://pucit.edu.pk/bs-software-engineering-2/\" class=\"\"><span class=\"item_inner\"><span class=\"menu_icon_wrapper\"><i class=\"menu_icon null fa\"></i></span><span class=\"item_text\">BS (Software Engineering)</span></span><span class=\"plus\"></span></a></li>\\n\\t\\t<li id=\"nav-menu-item-348916\" class=\"menu-item menu-item-type-post_type menu-item-object-page \"><a href=\"https://pucit.edu.pk/bs-information-technology-2/\" class=\"\"><span class=\"item_inner\"><span class=\"menu_icon_wrapper\"><i class=\"menu_icon null fa\"></i></span><span class=\"item_text\">BS (Information Technology)</span></span><span class=\"plus\"></span></a></li>\\n\\t</ul>\\n</li>\\n\\t<li id=\"nav-menu-item-348941\" class=\"menu-item menu-item-type-post_type menu-item-object-page \"><a href=\"https://pucit.edu.pk/language-proficiency/\" class=\"\"><span class=\"item_inner\"><span class=\"menu_icon_wrapper\"><i class=\"menu_icon null fa\"></i></span><span class=\"item_text\">Language Proficiency</span></span><span class=\"plus\"></span></a></li>\\n\\t<li id=\"nav-menu-item-349180\" class=\"menu-item menu-item-type-post_type menu-item-object-page \"><a href=\"https://pucit.edu.pk/download/\" class=\"\"><span class=\"item_inner\"><span class=\"menu_icon_wrapper\"><i class=\"menu_icon null fa\"></i></span><span class=\"item_text\">Download</span></span><span class=\"plus\"></span></a></li>\\n\\t<li id=\"nav-menu-item-366044\" class=\"menu-item menu-item-type-post_type menu-item-object-page \"><a href=\"https://pucit.edu.pk/bs-orientation/\" class=\"\"><span class=\"item_inner\"><span class=\"menu_icon_wrapper\"><i class=\"menu_icon blank fa\"></i></span><span class=\"item_text\">Bs Orientation</span></span><span class=\"plus\"></span></a></li>\\n</ul></div></div>\\n</li>\\n<li id=\"nav-menu-item-348925\" class=\"menu-item menu-item-type-post_type menu-item-object-page menu-item-has-children  has_sub narrow\"><a href=\"https://pucit.edu.pk/programs/\" class=\" no_link\" style=\"cursor: default;\" onclick=\"JavaScript: return false;\"><span class=\"item_inner\"><span class=\"menu_icon_wrapper\"><i class=\"menu_icon null fa\"></i></span><span class=\"item_text\">Admissions</span></span><span class=\"plus\"></span></a>\\n<div class=\"second\" ><div class=\"inner\"><ul >\\n\\t<li id=\"nav-menu-item-363418\" class=\"menu-item menu-item-type-custom menu-item-object-custom menu-item-has-children sub\"><a href=\"#\" class=\"\"><span class=\"item_inner\"><span class=\"menu_icon_wrapper\"><i class=\"menu_icon null fa\"></i></span><span class=\"item_text\">Admission Criteria</span></span><span class=\"plus\"></span><i class=\"eltd_menu_arrow fa fa-angle-right\"></i></a>\\n\\t<ul >\\n\\t\\t<li id=\"nav-menu-item-348931\" class=\"menu-item menu-item-type-post_type menu-item-object-page \"><a href=\"https://pucit.edu.pk/admission-criteria/\" class=\"\"><span class=\"item_inner\"><span class=\"menu_icon_wrapper\"><i class=\"menu_icon null fa\"></i></span><span class=\"item_text\">BS Admission Criteria</span></span><span class=\"plus\"></span></a></li>\\n\\t\\t<li id=\"nav-menu-item-363422\" class=\"menu-item menu-item-type-post_type menu-item-object-page \"><a href=\"https://pucit.edu.pk/ms-mphil-phd-admission-criteria/\" class=\"\"><span class=\"item_inner\"><span class=\"menu_icon_wrapper\"><i class=\"menu_icon null fa\"></i></span><span class=\"item_text\">Mphil/Phd Admission Criteria</span></span><span class=\"plus\"></span></a></li>\\n\\t</ul>\\n</li>\\n\\t<li id=\"nav-menu-item-349031\" class=\"menu-item menu-item-type-post_type menu-item-object-page \"><a href=\"https://pucit.edu.pk/fee-structure/\" class=\"\"><span class=\"item_inner\"><span class=\"menu_icon_wrapper\"><i class=\"menu_icon null fa\"></i></span><span class=\"item_text\">Fee Structure and Available Scholarships</span></span><span class=\"plus\"></span></a></li>\\n\\t<li id=\"nav-menu-item-349029\" class=\"menu-item menu-item-type-post_type menu-item-object-page \"><a href=\"https://pucit.edu.pk/faq-2/\" class=\"\"><span class=\"item_inner\"><span class=\"menu_icon_wrapper\"><i class=\"menu_icon null fa\"></i></span><span class=\"item_text\">FAQ</span></span><span class=\"plus\"></span></a></li>\\n</ul></div></div>\\n</li>\\n<li id=\"nav-menu-item-352530\" class=\"menu-item menu-item-type-post_type menu-item-object-page menu-item-has-children  has_sub narrow\"><a href=\"https://pucit.edu.pk/student-societies/\" class=\"\"><span class=\"item_inner\"><span class=\"menu_icon_wrapper\"><i class=\"menu_icon null fa\"></i></span><span class=\"item_text\">Student Societies</span></span><span class=\"plus\"></span></a>\\n<div class=\"second\" ><div class=\"inner\"><ul >\\n\\t<li id=\"nav-menu-item-354913\" class=\"menu-item menu-item-type-post_type menu-item-object-page \"><a href=\"https://pucit.edu.pk/google-developer-student-clubs-pucit/\" class=\"\"><span class=\"item_inner\"><span class=\"menu_icon_wrapper\"><i class=\"menu_icon null fa\"></i></span><span class=\"item_text\">Google Developer Student Clubs PUCIT</span></span><span class=\"plus\"></span></a></li>\\n\\t<li id=\"nav-menu-item-349045\" class=\"menu-item menu-item-type-post_type menu-item-object-page \"><a href=\"https://pucit.edu.pk/sports-society/\" class=\"\"><span class=\"item_inner\"><span class=\"menu_icon_wrapper\"><i class=\"menu_icon null fa\"></i></span><span class=\"item_text\">Sports Society</span></span><span class=\"plus\"></span></a></li>\\n\\t<li id=\"nav-menu-item-349046\" class=\"menu-item menu-item-type-post_type menu-item-object-page \"><a href=\"https://pucit.edu.pk/literary-society/\" class=\"\"><span class=\"item_inner\"><span class=\"menu_icon_wrapper\"><i class=\"menu_icon null fa\"></i></span><span class=\"item_text\">Literary Society</span></span><span class=\"plus\"></span></a></li>\\n\\t<li id=\"nav-menu-item-349047\" class=\"menu-item menu-item-type-post_type menu-item-object-page \"><a href=\"https://pucit.edu.pk/event-management-society/\" class=\"\"><span class=\"item_inner\"><span class=\"menu_icon_wrapper\"><i class=\"menu_icon null fa\"></i></span><span class=\"item_text\">Event Management Society</span></span><span class=\"plus\"></span></a></li>\\n\\t<li id=\"nav-menu-item-349044\" class=\"menu-item menu-item-type-post_type menu-item-object-page \"><a href=\"https://pucit.edu.pk/computer-society/\" class=\"\"><span class=\"item_inner\"><span class=\"menu_icon_wrapper\"><i class=\"menu_icon null fa\"></i></span><span class=\"item_text\">Computer Society</span></span><span class=\"plus\"></span></a></li>\\n\\t<li id=\"nav-menu-item-349043\" class=\"menu-item menu-item-type-post_type menu-item-object-page \"><a href=\"https://pucit.edu.pk/health-welfare-and-safety-hws/\" class=\"\"><span class=\"item_inner\"><span class=\"menu_icon_wrapper\"><i class=\"menu_icon null fa\"></i></span><span class=\"item_text\">Health welfare and safety (HWS)</span></span><span class=\"plus\"></span></a></li>\\n\\t<li id=\"nav-menu-item-349048\" class=\"menu-item menu-item-type-post_type menu-item-object-page \"><a href=\"https://pucit.edu.pk/pucit-media-society/\" class=\"\"><span class=\"item_inner\"><span class=\"menu_icon_wrapper\"><i class=\"menu_icon null fa\"></i></span><span class=\"item_text\">PUCIT Media Society</span></span><span class=\"plus\"></span></a></li>\\n</ul></div></div>\\n</li>\\n<li id=\"nav-menu-item-349135\" class=\"menu-item menu-item-type-post_type menu-item-object-page menu-item-has-children  has_sub narrow\"><a href=\"https://pucit.edu.pk/placement-office/\" class=\"\"><span class=\"item_inner\"><span class=\"menu_icon_wrapper\"><i class=\"menu_icon null fa\"></i></span><span class=\"item_text\">Placement and Alumni Office</span></span><span class=\"plus\"></span></a>\\n<div class=\"second\" ><div class=\"inner\"><ul >\\n\\t<li id=\"nav-menu-item-350940\" class=\"menu-item menu-item-type-post_type menu-item-object-page menu-item-has-children sub\"><a href=\"https://pucit.edu.pk/career-opportunities/\" class=\"\"><span class=\"item_inner\"><span class=\"menu_icon_wrapper\"><i class=\"menu_icon null fa\"></i></span><span class=\"item_text\">Career Opportunities</span></span><span class=\"plus\"></span><i class=\"eltd_menu_arrow fa fa-angle-right\"></i></a>\\n\\t<ul >\\n\\t\\t<li id=\"nav-menu-item-351251\" class=\"menu-item menu-item-type-post_type menu-item-object-page \"><a href=\"https://pucit.edu.pk/private-sector-software-houses/\" class=\"\"><span class=\"item_inner\"><span class=\"menu_icon_wrapper\"><i class=\"menu_icon null fa\"></i></span><span class=\"item_text\">Private Sector (Software Houses)</span></span><span class=\"plus\"></span></a></li>\\n\\t\\t<li id=\"nav-menu-item-350942\" class=\"menu-item menu-item-type-post_type menu-item-object-page \"><a href=\"https://pucit.edu.pk/government-jobs/\" class=\"\"><span class=\"item_inner\"><span class=\"menu_icon_wrapper\"><i class=\"menu_icon null fa\"></i></span><span class=\"item_text\">Government Jobs</span></span><span class=\"plus\"></span></a></li>\\n\\t</ul>\\n</li>\\n\\t<li id=\"nav-menu-item-350939\" class=\"menu-item menu-item-type-post_type menu-item-object-page menu-item-has-children sub\"><a href=\"https://pucit.edu.pk/higher-education-scholarships/\" class=\"\"><span class=\"item_inner\"><span class=\"menu_icon_wrapper\"><i class=\"menu_icon null fa\"></i></span><span class=\"item_text\">Scholarships</span></span><span class=\"plus\"></span><i class=\"eltd_menu_arrow fa fa-angle-right\"></i></a>\\n\\t<ul >\\n\\t\\t<li id=\"nav-menu-item-365023\" class=\"menu-item menu-item-type-post_type menu-item-object-page \"><a href=\"https://pucit.edu.pk/pef-and-sponsors/\" class=\"\"><span class=\"item_inner\"><span class=\"menu_icon_wrapper\"><i class=\"menu_icon blank fa\"></i></span><span class=\"item_text\">PEF and Sponsors</span></span><span class=\"plus\"></span></a></li>\\n\\t</ul>\\n</li>\\n\\t<li id=\"nav-menu-item-350979\" class=\"menu-item menu-item-type-post_type menu-item-object-page \"><a href=\"https://pucit.edu.pk/entrepreneurship/\" class=\"\"><span class=\"item_inner\"><span class=\"menu_icon_wrapper\"><i class=\"menu_icon null fa\"></i></span><span class=\"item_text\">Entrepreneurship</span></span><span class=\"plus\"></span></a></li>\\n\\t<li id=\"nav-menu-item-357598\" class=\"menu-item menu-item-type-post_type menu-item-object-page \"><a href=\"https://pucit.edu.pk/startups/\" class=\"\"><span class=\"item_inner\"><span class=\"menu_icon_wrapper\"><i class=\"menu_icon null fa\"></i></span><span class=\"item_text\">Startups</span></span><span class=\"plus\"></span></a></li>\\n\\t<li id=\"nav-menu-item-353272\" class=\"menu-item menu-item-type-post_type menu-item-object-page \"><a href=\"https://pucit.edu.pk/trainings/\" class=\"\"><span class=\"item_inner\"><span class=\"menu_icon_wrapper\"><i class=\"menu_icon null fa\"></i></span><span class=\"item_text\">Internship and Trainings</span></span><span class=\"plus\"></span></a></li>\\n\\t<li id=\"nav-menu-item-357561\" class=\"menu-item menu-item-type-post_type menu-item-object-page \"><a href=\"https://pucit.edu.pk/role-models/\" class=\"\"><span class=\"item_inner\"><span class=\"menu_icon_wrapper\"><i class=\"menu_icon null fa\"></i></span><span class=\"item_text\">Role Models</span></span><span class=\"plus\"></span></a></li>\\n\\t<li id=\"nav-menu-item-364647\" class=\"menu-item menu-item-type-post_type menu-item-object-page \"><a href=\"https://pucit.edu.pk/employer-feedback/\" class=\"\"><span class=\"item_inner\"><span class=\"menu_icon_wrapper\"><i class=\"menu_icon null fa\"></i></span><span class=\"item_text\">Industry Feedback</span></span><span class=\"plus\"></span></a></li>\\n\\t<li id=\"nav-menu-item-364783\" class=\"menu-item menu-item-type-custom menu-item-object-custom \"><a href=\"http://alumni.pu.edu.pk/\" class=\"\"><span class=\"item_inner\"><span class=\"menu_icon_wrapper\"><i class=\"menu_icon blank fa\"></i></span><span class=\"item_text\">PU Alumni Portal</span></span><span class=\"plus\"></span></a></li>\\n</ul></div></div>\\n</li>\\n<li id=\"nav-menu-item-350941\" class=\"menu-item menu-item-type-post_type menu-item-object-page menu-item-has-children  has_sub narrow\"><a href=\"https://pucit.edu.pk/notice-board/\" class=\"\"><span class=\"item_inner\"><span class=\"menu_icon_wrapper\"><i class=\"menu_icon null fa\"></i></span><span class=\"item_text\">Notice Board</span></span><span class=\"plus\"></span></a>\\n<div class=\"second\" ><div class=\"inner\"><ul >\\n\\t<li id=\"nav-menu-item-359912\" class=\"menu-item menu-item-type-post_type menu-item-object-page \"><a href=\"https://pucit.edu.pk/useful-links/\" class=\"\"><span class=\"item_inner\"><span class=\"menu_icon_wrapper\"><i class=\"menu_icon null fa\"></i></span><span class=\"item_text\">useful links</span></span><span class=\"plus\"></span></a></li>\\n\\t<li id=\"nav-menu-item-363694\" class=\"menu-item menu-item-type-post_type menu-item-object-page menu-item-has-children sub\"><a href=\"https://pucit.edu.pk/hec-policies/\" class=\"\"><span class=\"item_inner\"><span class=\"menu_icon_wrapper\"><i class=\"menu_icon null fa\"></i></span><span class=\"item_text\">HEC Policies</span></span><span class=\"plus\"></span><i class=\"eltd_menu_arrow fa fa-angle-right\"></i></a>\\n\\t<ul >\\n\\t\\t<li id=\"nav-menu-item-365004\" class=\"menu-item menu-item-type-post_type menu-item-object-page \"><a href=\"https://pucit.edu.pk/centralized-test-for-it-graduates/\" class=\"\"><span class=\"item_inner\"><span class=\"menu_icon_wrapper\"><i class=\"menu_icon blank fa\"></i></span><span class=\"item_text\">Centralized Test for IT Graduates</span></span><span class=\"plus\"></span></a></li>\\n\\t</ul>\\n</li>\\n\\t<li id=\"nav-menu-item-356809\" class=\"menu-item menu-item-type-post_type menu-item-object-page \"><a href=\"https://pucit.edu.pk/achievements/\" class=\"\"><span class=\"item_inner\"><span class=\"menu_icon_wrapper\"><i class=\"menu_icon null fa\"></i></span><span class=\"item_text\">Achievements</span></span><span class=\"plus\"></span></a></li>\\n\\t<li id=\"nav-menu-item-356810\" class=\"menu-item menu-item-type-post_type menu-item-object-page \"><a href=\"https://pucit.edu.pk/events/\" class=\"\"><span class=\"item_inner\"><span class=\"menu_icon_wrapper\"><i class=\"menu_icon null fa\"></i></span><span class=\"item_text\">Events</span></span><span class=\"plus\"></span></a></li>\\n\\t<li id=\"nav-menu-item-362139\" class=\"menu-item menu-item-type-post_type menu-item-object-page \"><a href=\"https://pucit.edu.pk/pucit-dress-code/\" class=\"\"><span class=\"item_inner\"><span class=\"menu_icon_wrapper\"><i class=\"menu_icon null fa\"></i></span><span class=\"item_text\">PUCIT Dress Code</span></span><span class=\"plus\"></span></a></li>\\n</ul></div></div>\\n</li>\\n<li id=\"nav-menu-item-349130\" class=\"menu-item menu-item-type-custom menu-item-object-custom menu-item-has-children  has_sub narrow\"><a href=\"\" class=\" no_link\" style=\"cursor: default;\" onclick=\"JavaScript: return false;\"><span class=\"item_inner\"><span class=\"menu_icon_wrapper\"><i class=\"menu_icon null fa\"></i></span><span class=\"item_text\">FCIT Offices</span></span><span class=\"plus\"></span></a>\\n<div class=\"second\" ><div class=\"inner\"><ul >\\n\\t<li id=\"nav-menu-item-356143\" class=\"menu-item menu-item-type-post_type menu-item-object-page \"><a href=\"https://pucit.edu.pk/account-office/\" class=\"\"><span class=\"item_inner\"><span class=\"menu_icon_wrapper\"><i class=\"menu_icon null fa\"></i></span><span class=\"item_text\">Account Office</span></span><span class=\"plus\"></span></a></li>\\n\\t<li id=\"nav-menu-item-352620\" class=\"menu-item menu-item-type-post_type menu-item-object-page \"><a href=\"https://pucit.edu.pk/computer-labs-online-services/\" class=\"\"><span class=\"item_inner\"><span class=\"menu_icon_wrapper\"><i class=\"menu_icon null fa\"></i></span><span class=\"item_text\">Computer Labs/ Online Services</span></span><span class=\"plus\"></span></a></li>\\n\\t<li id=\"nav-menu-item-349131\" class=\"menu-item menu-item-type-post_type menu-item-object-page \"><a href=\"https://pucit.edu.pk/project-office/\" class=\"\"><span class=\"item_inner\"><span class=\"menu_icon_wrapper\"><i class=\"menu_icon null fa\"></i></span><span class=\"item_text\">Project Office</span></span><span class=\"plus\"></span></a></li>\\n\\t<li id=\"nav-menu-item-358583\" class=\"menu-item menu-item-type-post_type menu-item-object-page \"><a href=\"https://pucit.edu.pk/oss/\" class=\"\"><span class=\"item_inner\"><span class=\"menu_icon_wrapper\"><i class=\"menu_icon null fa\"></i></span><span class=\"item_text\">Online Software Services (OSS)</span></span><span class=\"plus\"></span></a></li>\\n\\t<li id=\"nav-menu-item-352859\" class=\"menu-item menu-item-type-post_type menu-item-object-page \"><a href=\"https://pucit.edu.pk/student-affairs-office/\" class=\"\"><span class=\"item_inner\"><span class=\"menu_icon_wrapper\"><i class=\"menu_icon null fa\"></i></span><span class=\"item_text\">Student Affairs office</span></span><span class=\"plus\"></span></a></li>\\n\\t<li id=\"nav-menu-item-349114\" class=\"menu-item menu-item-type-post_type menu-item-object-page \"><a href=\"https://pucit.edu.pk/agile-technologies/\" class=\"\"><span class=\"item_inner\"><span class=\"menu_icon_wrapper\"><i class=\"menu_icon null fa\"></i></span><span class=\"item_text\">Agile Technologies</span></span><span class=\"plus\"></span></a></li>\\n</ul></div></div>\\n</li>\\n<li id=\"nav-menu-item-349132\" class=\"menu-item menu-item-type-post_type menu-item-object-page  narrow\"><a href=\"https://pucit.edu.pk/library/\" class=\"\"><span class=\"item_inner\"><span class=\"menu_icon_wrapper\"><i class=\"menu_icon null fa\"></i></span><span class=\"item_text\">Library</span></span><span class=\"plus\"></span></a></li>\\n</ul>\\t\\t\\t\\t\\t\\t\\t\\t\\t\\t</nav>\\n\\t\\t\\t\\t\\t\\t\\t\\t\\t\\t\\t\\t\\t\\t\\t\\t\\t\\t\\t\\t\\t<div class=\"header_inner_right\">\\n\\t\\t\\t\\t\\t\\t\\t\\t\\t\\t\\t\\t<div class=\"side_menu_button_wrapper right\">\\n\\t\\t\\t\\t\\t\\t\\t\\t\\t\\t\\t\\t\\t\\t\\t\\t\\t\\t\\t\\t\\t\\t\\t\\t\\t\\t<div class=\"side_menu_button\">\\n\\t\\t\\t\\t\\t\\t\\t\\t\\t\\t\\t\\t\\t\\t\\t\\t\\t\\t\\t\\t\\t\\t\\t\\t\\t\\t\\t\\t\\t\\t\\t\\t\\t\\t\\t\\t\\t\\t\\t\\t\\t\\t\\t\\t\\t\\t\\t\\t\\t\\t\\t\\t\\t\\t\\t\\n\\t\\t\\t\\t\\t\\t\\t\\t\\t\\t\\t\\t\\t</div>\\n\\t\\t\\t\\t\\t\\t\\t\\t\\t\\t\\t\\t</div>\\n\\t\\t\\t\\t\\t\\t\\t\\t\\t\\t\\t</div>\\n\\t\\t\\t\\t\\t\\t\\t\\t\\t\\t\\t\\t\\t\\t\\t\\t\\t\\t\\t\\t\\t\\t\\t\\t\\t\\t\\t\\t\\t\\t\\t\\t\\t\\t\\t\\t\\t\\t\\t\\t\\t\\t\\t\\t\\t\\t\\t\\t\\t<nav class=\"mobile_menu\">\\n\\t\\t\\t\\t\\t\\t\\t\\t\\t\\t\\t<ul id=\"menu-main-menu-1\" class=\"\"><li id=\"mobile-menu-item-349132\" class=\"menu-item menu-item-type-post_type menu-item-object-page  level0\"><a href=\"https://pucit.edu.pk/library/\" class=\"\"><span>Library</span></a><span class=\"mobile_arrow\"><i class=\"fa fa-angle-right\"></i><i class=\"fa fa-angle-down\"></i></span></li>\\n<li id=\"mobile-menu-item-349130\" class=\"menu-item menu-item-type-custom menu-item-object-custom menu-item-has-children  has_sub level0\"><h4><span>FCIT Offices</span></h4><span class=\"mobile_arrow\"><i class=\"fa fa-angle-right\"></i><i class=\"fa fa-angle-down\"></i></span>\\n<ul class=\"sub_menu\">\\n\\t<li id=\"mobile-menu-item-349114\" class=\"menu-item menu-item-type-post_type menu-item-object-page  level1\"><a href=\"https://pucit.edu.pk/agile-technologies/\" class=\"\"><span>Agile Technologies</span></a><span class=\"mobile_arrow\"><i class=\"fa fa-angle-right\"></i><i class=\"fa fa-angle-down\"></i></span></li>\\n\\t<li id=\"mobile-menu-item-352859\" class=\"menu-item menu-item-type-post_type menu-item-object-page  level1\"><a href=\"https://pucit.edu.pk/student-affairs-office/\" class=\"\"><span>Student Affairs office</span></a><span class=\"mobile_arrow\"><i class=\"fa fa-angle-right\"></i><i class=\"fa fa-angle-down\"></i></span></li>\\n\\t<li id=\"mobile-menu-item-358583\" class=\"menu-item menu-item-type-post_type menu-item-object-page  level1\"><a href=\"https://pucit.edu.pk/oss/\" class=\"\"><span>Online Software Services (OSS)</span></a><span class=\"mobile_arrow\"><i class=\"fa fa-angle-right\"></i><i class=\"fa fa-angle-down\"></i></span></li>\\n\\t<li id=\"mobile-menu-item-349131\" class=\"menu-item menu-item-type-post_type menu-item-object-page  level1\"><a href=\"https://pucit.edu.pk/project-office/\" class=\"\"><span>Project Office</span></a><span class=\"mobile_arrow\"><i class=\"fa fa-angle-right\"></i><i class=\"fa fa-angle-down\"></i></span></li>\\n\\t<li id=\"mobile-menu-item-352620\" class=\"menu-item menu-item-type-post_type menu-item-object-page  level1\"><a href=\"https://pucit.edu.pk/computer-labs-online-services/\" class=\"\"><span>Computer Labs/ Online Services</span></a><span class=\"mobile_arrow\"><i class=\"fa fa-angle-right\"></i><i class=\"fa fa-angle-down\"></i></span></li>\\n\\t<li id=\"mobile-menu-item-356143\" class=\"menu-item menu-item-type-post_type menu-item-object-page  level1\"><a href=\"https://pucit.edu.pk/account-office/\" class=\"\"><span>Account Office</span></a><span class=\"mobile_arrow\"><i class=\"fa fa-angle-right\"></i><i class=\"fa fa-angle-down\"></i></span></li>\\n</ul>\\n</li>\\n<li id=\"mobile-menu-item-350941\" class=\"menu-item menu-item-type-post_type menu-item-object-page menu-item-has-children  has_sub level0\"><a href=\"https://pucit.edu.pk/notice-board/\" class=\"\"><span>Notice Board</span></a><span class=\"mobile_arrow\"><i class=\"fa fa-angle-right\"></i><i class=\"fa fa-angle-down\"></i></span>\\n<ul class=\"sub_menu\">\\n\\t<li id=\"mobile-menu-item-362139\" class=\"menu-item menu-item-type-post_type menu-item-object-page  level1\"><a href=\"https://pucit.edu.pk/pucit-dress-code/\" class=\"\"><span>PUCIT Dress Code</span></a><span class=\"mobile_arrow\"><i class=\"fa fa-angle-right\"></i><i class=\"fa fa-angle-down\"></i></span></li>\\n\\t<li id=\"mobile-menu-item-356810\" class=\"menu-item menu-item-type-post_type menu-item-object-page  level1\"><a href=\"https://pucit.edu.pk/events/\" class=\"\"><span>Events</span></a><span class=\"mobile_arrow\"><i class=\"fa fa-angle-right\"></i><i class=\"fa fa-angle-down\"></i></span></li>\\n\\t<li id=\"mobile-menu-item-356809\" class=\"menu-item menu-item-type-post_type menu-item-object-page  level1\"><a href=\"https://pucit.edu.pk/achievements/\" class=\"\"><span>Achievements</span></a><span class=\"mobile_arrow\"><i class=\"fa fa-angle-right\"></i><i class=\"fa fa-angle-down\"></i></span></li>\\n\\t<li id=\"mobile-menu-item-363694\" class=\"menu-item menu-item-type-post_type menu-item-object-page menu-item-has-children  has_sub level1\"><a href=\"https://pucit.edu.pk/hec-policies/\" class=\"\"><span>HEC Policies</span></a><span class=\"mobile_arrow\"><i class=\"fa fa-angle-right\"></i><i class=\"fa fa-angle-down\"></i></span>\\n\\t<ul class=\"sub_menu\">\\n\\t\\t<li id=\"mobile-menu-item-365004\" class=\"menu-item menu-item-type-post_type menu-item-object-page  level2\"><a href=\"https://pucit.edu.pk/centralized-test-for-it-graduates/\" class=\"\"><span>Centralized Test for IT Graduates</span></a><span class=\"mobile_arrow\"><i class=\"fa fa-angle-right\"></i><i class=\"fa fa-angle-down\"></i></span></li>\\n\\t</ul>\\n</li>\\n\\t<li id=\"mobile-menu-item-359912\" class=\"menu-item menu-item-type-post_type menu-item-object-page  level1\"><a href=\"https://pucit.edu.pk/useful-links/\" class=\"\"><span>useful links</span></a><span class=\"mobile_arrow\"><i class=\"fa fa-angle-right\"></i><i class=\"fa fa-angle-down\"></i></span></li>\\n</ul>\\n</li>\\n<li id=\"mobile-menu-item-349135\" class=\"menu-item menu-item-type-post_type menu-item-object-page menu-item-has-children  has_sub level0\"><a href=\"https://pucit.edu.pk/placement-office/\" class=\"\"><span>Placement and Alumni Office</span></a><span class=\"mobile_arrow\"><i class=\"fa fa-angle-right\"></i><i class=\"fa fa-angle-down\"></i></span>\\n<ul class=\"sub_menu\">\\n\\t<li id=\"mobile-menu-item-364783\" class=\"menu-item menu-item-type-custom menu-item-object-custom  level1\"><a href=\"http://alumni.pu.edu.pk/\" class=\"\"><span>PU Alumni Portal</span></a><span class=\"mobile_arrow\"><i class=\"fa fa-angle-right\"></i><i class=\"fa fa-angle-down\"></i></span></li>\\n\\t<li id=\"mobile-menu-item-364647\" class=\"menu-item menu-item-type-post_type menu-item-object-page  level1\"><a href=\"https://pucit.edu.pk/employer-feedback/\" class=\"\"><span>Industry Feedback</span></a><span class=\"mobile_arrow\"><i class=\"fa fa-angle-right\"></i><i class=\"fa fa-angle-down\"></i></span></li>\\n\\t<li id=\"mobile-menu-item-357561\" class=\"menu-item menu-item-type-post_type menu-item-object-page  level1\"><a href=\"https://pucit.edu.pk/role-models/\" class=\"\"><span>Role Models</span></a><span class=\"mobile_arrow\"><i class=\"fa fa-angle-right\"></i><i class=\"fa fa-angle-down\"></i></span></li>\\n\\t<li id=\"mobile-menu-item-353272\" class=\"menu-item menu-item-type-post_type menu-item-object-page  level1\"><a href=\"https://pucit.edu.pk/trainings/\" class=\"\"><span>Internship and Trainings</span></a><span class=\"mobile_arrow\"><i class=\"fa fa-angle-right\"></i><i class=\"fa fa-angle-down\"></i></span></li>\\n\\t<li id=\"mobile-menu-item-357598\" class=\"menu-item menu-item-type-post_type menu-item-object-page  level1\"><a href=\"https://pucit.edu.pk/startups/\" class=\"\"><span>Startups</span></a><span class=\"mobile_arrow\"><i class=\"fa fa-angle-right\"></i><i class=\"fa fa-angle-down\"></i></span></li>\\n\\t<li id=\"mobile-menu-item-350979\" class=\"menu-item menu-item-type-post_type menu-item-object-page  level1\"><a href=\"https://pucit.edu.pk/entrepreneurship/\" class=\"\"><span>Entrepreneurship</span></a><span class=\"mobile_arrow\"><i class=\"fa fa-angle-right\"></i><i class=\"fa fa-angle-down\"></i></span></li>\\n\\t<li id=\"mobile-menu-item-350939\" class=\"menu-item menu-item-type-post_type menu-item-object-page menu-item-has-children  has_sub level1\"><a href=\"https://pucit.edu.pk/higher-education-scholarships/\" class=\"\"><span>Scholarships</span></a><span class=\"mobile_arrow\"><i class=\"fa fa-angle-right\"></i><i class=\"fa fa-angle-down\"></i></span>\\n\\t<ul class=\"sub_menu\">\\n\\t\\t<li id=\"mobile-menu-item-365023\" class=\"menu-item menu-item-type-post_type menu-item-object-page  level2\"><a href=\"https://pucit.edu.pk/pef-and-sponsors/\" class=\"\"><span>PEF and Sponsors</span></a><span class=\"mobile_arrow\"><i class=\"fa fa-angle-right\"></i><i class=\"fa fa-angle-down\"></i></span></li>\\n\\t</ul>\\n</li>\\n\\t<li id=\"mobile-menu-item-350940\" class=\"menu-item menu-item-type-post_type menu-item-object-page menu-item-has-children  has_sub level1\"><a href=\"https://pucit.edu.pk/career-opportunities/\" class=\"\"><span>Career Opportunities</span></a><span class=\"mobile_arrow\"><i class=\"fa fa-angle-right\"></i><i class=\"fa fa-angle-down\"></i></span>\\n\\t<ul class=\"sub_menu\">\\n\\t\\t<li id=\"mobile-menu-item-350942\" class=\"menu-item menu-item-type-post_type menu-item-object-page  level2\"><a href=\"https://pucit.edu.pk/government-jobs/\" class=\"\"><span>Government Jobs</span></a><span class=\"mobile_arrow\"><i class=\"fa fa-angle-right\"></i><i class=\"fa fa-angle-down\"></i></span></li>\\n\\t\\t<li id=\"mobile-menu-item-351251\" class=\"menu-item menu-item-type-post_type menu-item-object-page  level2\"><a href=\"https://pucit.edu.pk/private-sector-software-houses/\" class=\"\"><span>Private Sector (Software Houses)</span></a><span class=\"mobile_arrow\"><i class=\"fa fa-angle-right\"></i><i class=\"fa fa-angle-down\"></i></span></li>\\n\\t</ul>\\n</li>\\n</ul>\\n</li>\\n<li id=\"mobile-menu-item-352530\" class=\"menu-item menu-item-type-post_type menu-item-object-page menu-item-has-children  has_sub level0\"><a href=\"https://pucit.edu.pk/student-societies/\" class=\"\"><span>Student Societies</span></a><span class=\"mobile_arrow\"><i class=\"fa fa-angle-right\"></i><i class=\"fa fa-angle-down\"></i></span>\\n<ul class=\"sub_menu\">\\n\\t<li id=\"mobile-menu-item-349048\" class=\"menu-item menu-item-type-post_type menu-item-object-page  level1\"><a href=\"https://pucit.edu.pk/pucit-media-society/\" class=\"\"><span>PUCIT Media Society</span></a><span class=\"mobile_arrow\"><i class=\"fa fa-angle-right\"></i><i class=\"fa fa-angle-down\"></i></span></li>\\n\\t<li id=\"mobile-menu-item-349043\" class=\"menu-item menu-item-type-post_type menu-item-object-page  level1\"><a href=\"https://pucit.edu.pk/health-welfare-and-safety-hws/\" class=\"\"><span>Health welfare and safety (HWS)</span></a><span class=\"mobile_arrow\"><i class=\"fa fa-angle-right\"></i><i class=\"fa fa-angle-down\"></i></span></li>\\n\\t<li id=\"mobile-menu-item-349044\" class=\"menu-item menu-item-type-post_type menu-item-object-page  level1\"><a href=\"https://pucit.edu.pk/computer-society/\" class=\"\"><span>Computer Society</span></a><span class=\"mobile_arrow\"><i class=\"fa fa-angle-right\"></i><i class=\"fa fa-angle-down\"></i></span></li>\\n\\t<li id=\"mobile-menu-item-349047\" class=\"menu-item menu-item-type-post_type menu-item-object-page  level1\"><a href=\"https://pucit.edu.pk/event-management-society/\" class=\"\"><span>Event Management Society</span></a><span class=\"mobile_arrow\"><i class=\"fa fa-angle-right\"></i><i class=\"fa fa-angle-down\"></i></span></li>\\n\\t<li id=\"mobile-menu-item-349046\" class=\"menu-item menu-item-type-post_type menu-item-object-page  level1\"><a href=\"https://pucit.edu.pk/literary-society/\" class=\"\"><span>Literary Society</span></a><span class=\"mobile_arrow\"><i class=\"fa fa-angle-right\"></i><i class=\"fa fa-angle-down\"></i></span></li>\\n\\t<li id=\"mobile-menu-item-349045\" class=\"menu-item menu-item-type-post_type menu-item-object-page  level1\"><a href=\"https://pucit.edu.pk/sports-society/\" class=\"\"><span>Sports Society</span></a><span class=\"mobile_arrow\"><i class=\"fa fa-angle-right\"></i><i class=\"fa fa-angle-down\"></i></span></li>\\n\\t<li id=\"mobile-menu-item-354913\" class=\"menu-item menu-item-type-post_type menu-item-object-page  level1\"><a href=\"https://pucit.edu.pk/google-developer-student-clubs-pucit/\" class=\"\"><span>Google Developer Student Clubs PUCIT</span></a><span class=\"mobile_arrow\"><i class=\"fa fa-angle-right\"></i><i class=\"fa fa-angle-down\"></i></span></li>\\n</ul>\\n</li>\\n<li id=\"mobile-menu-item-348925\" class=\"menu-item menu-item-type-post_type menu-item-object-page menu-item-has-children  has_sub level0\"><h4><span>Admissions</span></h4><span class=\"mobile_arrow\"><i class=\"fa fa-angle-right\"></i><i class=\"fa fa-angle-down\"></i></span>\\n<ul class=\"sub_menu\">\\n\\t<li id=\"mobile-menu-item-349029\" class=\"menu-item menu-item-type-post_type menu-item-object-page  level1\"><a href=\"https://pucit.edu.pk/faq-2/\" class=\"\"><span>FAQ</span></a><span class=\"mobile_arrow\"><i class=\"fa fa-angle-right\"></i><i class=\"fa fa-angle-down\"></i></span></li>\\n\\t<li id=\"mobile-menu-item-349031\" class=\"menu-item menu-item-type-post_type menu-item-object-page  level1\"><a href=\"https://pucit.edu.pk/fee-structure/\" class=\"\"><span>Fee Structure and Available Scholarships</span></a><span class=\"mobile_arrow\"><i class=\"fa fa-angle-right\"></i><i class=\"fa fa-angle-down\"></i></span></li>\\n\\t<li id=\"mobile-menu-item-363418\" class=\"menu-item menu-item-type-custom menu-item-object-custom menu-item-has-children  has_sub level1\"><a href=\"#\" class=\"\"><span>Admission Criteria</span></a><span class=\"mobile_arrow\"><i class=\"fa fa-angle-right\"></i><i class=\"fa fa-angle-down\"></i></span>\\n\\t<ul class=\"sub_menu\">\\n\\t\\t<li id=\"mobile-menu-item-363422\" class=\"menu-item menu-item-type-post_type menu-item-object-page  level2\"><a href=\"https://pucit.edu.pk/ms-mphil-phd-admission-criteria/\" class=\"\"><span>Mphil/Phd Admission Criteria</span></a><span class=\"mobile_arrow\"><i class=\"fa fa-angle-right\"></i><i class=\"fa fa-angle-down\"></i></span></li>\\n\\t\\t<li id=\"mobile-menu-item-348931\" class=\"menu-item menu-item-type-post_type menu-item-object-page  level2\"><a href=\"https://pucit.edu.pk/admission-criteria/\" class=\"\"><span>BS Admission Criteria</span></a><span class=\"mobile_arrow\"><i class=\"fa fa-angle-right\"></i><i class=\"fa fa-angle-down\"></i></span></li>\\n\\t</ul>\\n</li>\\n</ul>\\n</li>\\n<li id=\"mobile-menu-item-348950\" class=\"menu-item menu-item-type-post_type menu-item-object-page menu-item-has-children  has_sub level0\"><a href=\"https://pucit.edu.pk/academic-regulations/\" class=\"\"><span>Academics</span></a><span class=\"mobile_arrow\"><i class=\"fa fa-angle-right\"></i><i class=\"fa fa-angle-down\"></i></span>\\n<ul class=\"sub_menu\">\\n\\t<li id=\"mobile-menu-item-366044\" class=\"menu-item menu-item-type-post_type menu-item-object-page  level1\"><a href=\"https://pucit.edu.pk/bs-orientation/\" class=\"\"><span>Bs Orientation</span></a><span class=\"mobile_arrow\"><i class=\"fa fa-angle-right\"></i><i class=\"fa fa-angle-down\"></i></span></li>\\n\\t<li id=\"mobile-menu-item-349180\" class=\"menu-item menu-item-type-post_type menu-item-object-page  level1\"><a href=\"https://pucit.edu.pk/download/\" class=\"\"><span>Download</span></a><span class=\"mobile_arrow\"><i class=\"fa fa-angle-right\"></i><i class=\"fa fa-angle-down\"></i></span></li>\\n\\t<li id=\"mobile-menu-item-348941\" class=\"menu-item menu-item-type-post_type menu-item-object-page  level1\"><a href=\"https://pucit.edu.pk/language-proficiency/\" class=\"\"><span>Language Proficiency</span></a><span class=\"mobile_arrow\"><i class=\"fa fa-angle-right\"></i><i class=\"fa fa-angle-down\"></i></span></li>\\n\\t<li id=\"mobile-menu-item-348912\" class=\"menu-item menu-item-type-post_type menu-item-object-page menu-item-has-children  has_sub level1\"><a href=\"https://pucit.edu.pk/principals-list-fall-2017/\" class=\"\"><span>Principal&#8217;s List</span></a><span class=\"mobile_arrow\"><i class=\"fa fa-angle-right\"></i><i class=\"fa fa-angle-down\"></i></span>\\n\\t<ul class=\"sub_menu\">\\n\\t\\t<li id=\"mobile-menu-item-348916\" class=\"menu-item menu-item-type-post_type menu-item-object-page  level2\"><a href=\"https://pucit.edu.pk/bs-information-technology-2/\" class=\"\"><span>BS (Information Technology)</span></a><span class=\"mobile_arrow\"><i class=\"fa fa-angle-right\"></i><i class=\"fa fa-angle-down\"></i></span></li>\\n\\t\\t<li id=\"mobile-menu-item-348917\" class=\"menu-item menu-item-type-post_type menu-item-object-page  level2\"><a href=\"https://pucit.edu.pk/bs-software-engineering-2/\" class=\"\"><span>BS (Software Engineering)</span></a><span class=\"mobile_arrow\"><i class=\"fa fa-angle-right\"></i><i class=\"fa fa-angle-down\"></i></span></li>\\n\\t\\t<li id=\"mobile-menu-item-348918\" class=\"menu-item menu-item-type-post_type menu-item-object-page  level2\"><a href=\"https://pucit.edu.pk/msc-in-computer-science/\" class=\"\"><span>MSc in Computer Science</span></a><span class=\"mobile_arrow\"><i class=\"fa fa-angle-right\"></i><i class=\"fa fa-angle-down\"></i></span></li>\\n\\t\\t<li id=\"mobile-menu-item-348915\" class=\"menu-item menu-item-type-post_type menu-item-object-page  level2\"><a href=\"https://pucit.edu.pk/bs-computer-science-2/\" class=\"\"><span>BS (Computer Science)</span></a><span class=\"mobile_arrow\"><i class=\"fa fa-angle-right\"></i><i class=\"fa fa-angle-down\"></i></span></li>\\n\\t</ul>\\n</li>\\n\\t<li id=\"mobile-menu-item-348920\" class=\"menu-item menu-item-type-post_type menu-item-object-page menu-item-has-children  has_sub level1\"><a href=\"https://pucit.edu.pk/vice-chancellor-list-spring-2017/\" class=\"\"><span>Vice Chancellor List</span></a><span class=\"mobile_arrow\"><i class=\"fa fa-angle-right\"></i><i class=\"fa fa-angle-down\"></i></span>\\n\\t<ul class=\"sub_menu\">\\n\\t\\t<li id=\"mobile-menu-item-348921\" class=\"menu-item menu-item-type-post_type menu-item-object-page  level2\"><a href=\"https://pucit.edu.pk/bs-computer-science-3/\" class=\"\"><span>BS (Computer Science)</span></a><span class=\"mobile_arrow\"><i class=\"fa fa-angle-right\"></i><i class=\"fa fa-angle-down\"></i></span></li>\\n\\t\\t<li id=\"mobile-menu-item-348922\" class=\"menu-item menu-item-type-post_type menu-item-object-page  level2\"><a href=\"https://pucit.edu.pk/bs-information-technology-3/\" class=\"\"><span>BS (Information Technology)</span></a><span class=\"mobile_arrow\"><i class=\"fa fa-angle-right\"></i><i class=\"fa fa-angle-down\"></i></span></li>\\n\\t\\t<li id=\"mobile-menu-item-348923\" class=\"menu-item menu-item-type-post_type menu-item-object-page  level2\"><a href=\"https://pucit.edu.pk/bs-software-engineering-3/\" class=\"\"><span>BS (Software Engineering)</span></a><span class=\"mobile_arrow\"><i class=\"fa fa-angle-right\"></i><i class=\"fa fa-angle-down\"></i></span></li>\\n\\t\\t<li id=\"mobile-menu-item-348924\" class=\"menu-item menu-item-type-post_type menu-item-object-page  level2\"><a href=\"https://pucit.edu.pk/msc-cs/\" class=\"\"><span>MSc CS</span></a><span class=\"mobile_arrow\"><i class=\"fa fa-angle-right\"></i><i class=\"fa fa-angle-down\"></i></span></li>\\n\\t</ul>\\n</li>\\n\\t<li id=\"mobile-menu-item-350203\" class=\"menu-item menu-item-type-post_type menu-item-object-page menu-item-has-children  has_sub level1\"><a href=\"https://pucit.edu.pk/virtual-classes/\" class=\"\"><span>Virtual Classes</span></a><span class=\"mobile_arrow\"><i class=\"fa fa-angle-right\"></i><i class=\"fa fa-angle-down\"></i></span>\\n\\t<ul class=\"sub_menu\">\\n\\t\\t<li id=\"mobile-menu-item-350237\" class=\"menu-item menu-item-type-post_type menu-item-object-page  level2\"><a href=\"https://pucit.edu.pk/online-courses-offered/\" class=\"\"><span>Online Courses Offered</span></a><span class=\"mobile_arrow\"><i class=\"fa fa-angle-right\"></i><i class=\"fa fa-angle-down\"></i></span></li>\\n\\t\\t<li id=\"mobile-menu-item-350450\" class=\"menu-item menu-item-type-post_type menu-item-object-page  level2\"><a href=\"https://pucit.edu.pk/online-examination/\" class=\"\"><span>Online Examination</span></a><span class=\"mobile_arrow\"><i class=\"fa fa-angle-right\"></i><i class=\"fa fa-angle-down\"></i></span></li>\\n\\t</ul>\\n</li>\\n\\t<li id=\"mobile-menu-item-348907\" class=\"menu-item menu-item-type-post_type menu-item-object-page  level1\"><a href=\"https://pucit.edu.pk/academic-regulations/\" class=\"\"><span>Semester Rules &#038; Regulations</span></a><span class=\"mobile_arrow\"><i class=\"fa fa-angle-right\"></i><i class=\"fa fa-angle-down\"></i></span></li>\\n\\t<li id=\"mobile-menu-item-348909\" class=\"menu-item menu-item-type-post_type menu-item-object-page  level1\"><a href=\"https://pucit.edu.pk/timetable/\" class=\"\"><span>Timetable</span></a><span class=\"mobile_arrow\"><i class=\"fa fa-angle-right\"></i><i class=\"fa fa-angle-down\"></i></span></li>\\n\\t<li id=\"mobile-menu-item-348908\" class=\"menu-item menu-item-type-post_type menu-item-object-page  level1\"><a href=\"https://pucit.edu.pk/academic-calender/\" class=\"\"><span>Academic Calender</span></a><span class=\"mobile_arrow\"><i class=\"fa fa-angle-right\"></i><i class=\"fa fa-angle-down\"></i></span></li>\\n\\t<li id=\"mobile-menu-item-354043\" class=\"menu-item menu-item-type-post_type menu-item-object-page  level1\"><a href=\"https://pucit.edu.pk/approved-curriculum/\" class=\"\"><span>Approved HEC Curriculum</span></a><span class=\"mobile_arrow\"><i class=\"fa fa-angle-right\"></i><i class=\"fa fa-angle-down\"></i></span></li>\\n\\t<li id=\"mobile-menu-item-349087\" class=\"menu-item menu-item-type-post_type menu-item-object-page menu-item-has-children  has_sub level1\"><a href=\"https://pucit.edu.pk/academic-programs/\" class=\"\"><span>Academic Programs</span></a><span class=\"mobile_arrow\"><i class=\"fa fa-angle-right\"></i><i class=\"fa fa-angle-down\"></i></span>\\n\\t<ul class=\"sub_menu\">\\n\\t\\t<li id=\"mobile-menu-item-349092\" class=\"menu-item menu-item-type-post_type menu-item-object-page  level2\"><a href=\"https://pucit.edu.pk/phd/\" class=\"\"><span>PhD (CS,DS,AI)</span></a><span class=\"mobile_arrow\"><i class=\"fa fa-angle-right\"></i><i class=\"fa fa-angle-down\"></i></span></li>\\n\\t\\t<li id=\"mobile-menu-item-349098\" class=\"menu-item menu-item-type-post_type menu-item-object-page  level2\"><a href=\"https://pucit.edu.pk/m-phil-cs/\" class=\"\"><span>M.Phil (CS,AI,DS)</span></a><span class=\"mobile_arrow\"><i class=\"fa fa-angle-right\"></i><i class=\"fa fa-angle-down\"></i></span></li>\\n\\t\\t<li id=\"mobile-menu-item-364385\" class=\"menu-item menu-item-type-post_type menu-item-object-page  level2\"><a href=\"https://pucit.edu.pk/bs-data-science/\" class=\"\"><span>BS Data Science</span></a><span class=\"mobile_arrow\"><i class=\"fa fa-angle-right\"></i><i class=\"fa fa-angle-down\"></i></span></li>\\n\\t\\t<li id=\"mobile-menu-item-349089\" class=\"menu-item menu-item-type-post_type menu-item-object-page  level2\"><a href=\"https://pucit.edu.pk/bs-information-technology/\" class=\"\"><span>BS Information Technology</span></a><span class=\"mobile_arrow\"><i class=\"fa fa-angle-right\"></i><i class=\"fa fa-angle-down\"></i></span></li>\\n\\t\\t<li id=\"mobile-menu-item-349090\" class=\"menu-item menu-item-type-post_type menu-item-object-page  level2\"><a href=\"https://pucit.edu.pk/bs-software-engineering/\" class=\"\"><span>BS Software Engineering</span></a><span class=\"mobile_arrow\"><i class=\"fa fa-angle-right\"></i><i class=\"fa fa-angle-down\"></i></span></li>\\n\\t\\t<li id=\"mobile-menu-item-349088\" class=\"menu-item menu-item-type-post_type menu-item-object-page  level2\"><a href=\"https://pucit.edu.pk/bs-computer-science/\" class=\"\"><span>BS Computer Science</span></a><span class=\"mobile_arrow\"><i class=\"fa fa-angle-right\"></i><i class=\"fa fa-angle-down\"></i></span></li>\\n\\t</ul>\\n</li>\\n\\t<li id=\"mobile-menu-item-365451\" class=\"menu-item menu-item-type-post_type menu-item-object-page  level1\"><a href=\"https://pucit.edu.pk/accreditation/\" class=\"\"><span>ACCREDITATION</span></a><span class=\"mobile_arrow\"><i class=\"fa fa-angle-right\"></i><i class=\"fa fa-angle-down\"></i></span></li>\\n</ul>\\n</li>\\n<li id=\"mobile-menu-item-352939\" class=\"menu-item menu-item-type-custom menu-item-object-custom menu-item-has-children  has_sub level0\"><h4><span>Departments</span></h4><span class=\"mobile_arrow\"><i class=\"fa fa-angle-right\"></i><i class=\"fa fa-angle-down\"></i></span>\\n<ul class=\"sub_menu\">\\n\\t<li id=\"mobile-menu-item-352940\" class=\"menu-item menu-item-type-post_type menu-item-object-page  level1\"><a href=\"https://pucit.edu.pk/department-of-data-science/\" class=\"\"><span>Department of Data Science</span></a><span class=\"mobile_arrow\"><i class=\"fa fa-angle-right\"></i><i class=\"fa fa-angle-down\"></i></span></li>\\n\\t<li id=\"mobile-menu-item-352941\" class=\"menu-item menu-item-type-post_type menu-item-object-page  level1\"><a href=\"https://pucit.edu.pk/department-of-information-technology/\" class=\"\"><span>Department of Information Technology</span></a><span class=\"mobile_arrow\"><i class=\"fa fa-angle-right\"></i><i class=\"fa fa-angle-down\"></i></span></li>\\n\\t<li id=\"mobile-menu-item-352942\" class=\"menu-item menu-item-type-post_type menu-item-object-page  level1\"><a href=\"https://pucit.edu.pk/department-of-software-engineering/\" class=\"\"><span>Department of Software Engineering</span></a><span class=\"mobile_arrow\"><i class=\"fa fa-angle-right\"></i><i class=\"fa fa-angle-down\"></i></span></li>\\n\\t<li id=\"mobile-menu-item-352943\" class=\"menu-item menu-item-type-post_type menu-item-object-page  level1\"><a href=\"https://pucit.edu.pk/department-of-computer-science/\" class=\"\"><span>Department of Computer Science</span></a><span class=\"mobile_arrow\"><i class=\"fa fa-angle-right\"></i><i class=\"fa fa-angle-down\"></i></span></li>\\n</ul>\\n</li>\\n<li id=\"mobile-menu-item-348701\" class=\"menu-item menu-item-type-post_type menu-item-object-page menu-item-home current-menu-item page_item page-item-344030 current_page_item menu-item-has-children active has_sub level0\"><a href=\"https://pucit.edu.pk/\" class=\" current \"><span>Home</span></a><span class=\"mobile_arrow\"><i class=\"fa fa-angle-right\"></i><i class=\"fa fa-angle-down\"></i></span>\\n<ul class=\"sub_menu\">\\n\\t<li id=\"mobile-menu-item-366146\" class=\"menu-item menu-item-type-post_type menu-item-object-page  level1\"><a href=\"https://pucit.edu.pk/internal-incentives/\" class=\"\"><span>Internal Incentives</span></a><span class=\"mobile_arrow\"><i class=\"fa fa-angle-right\"></i><i class=\"fa fa-angle-down\"></i></span></li>\\n\\t<li id=\"mobile-menu-item-364972\" class=\"menu-item menu-item-type-post_type menu-item-object-page  level1\"><a href=\"https://pucit.edu.pk/faculty-books/\" class=\"\"><span>Faculty Books</span></a><span class=\"mobile_arrow\"><i class=\"fa fa-angle-right\"></i><i class=\"fa fa-angle-down\"></i></span></li>\\n\\t<li id=\"mobile-menu-item-364907\" class=\"menu-item menu-item-type-post_type menu-item-object-page  level1\"><a href=\"https://pucit.edu.pk/fcit-events-2023/\" class=\"\"><span>FCIT Events (2023)</span></a><span class=\"mobile_arrow\"><i class=\"fa fa-angle-right\"></i><i class=\"fa fa-angle-down\"></i></span></li>\\n\\t<li id=\"mobile-menu-item-364908\" class=\"menu-item menu-item-type-post_type menu-item-object-page  level1\"><a href=\"https://pucit.edu.pk/mentionable-performance-of-fcit-in-international-and-national-programming-contests-2009-2023/\" class=\"\"><span>MENTIONABLE PERFORMANCE OF FCIT</span></a><span class=\"mobile_arrow\"><i class=\"fa fa-angle-right\"></i><i class=\"fa fa-angle-down\"></i></span></li>\\n\\t<li id=\"mobile-menu-item-363309\" class=\"menu-item menu-item-type-post_type menu-item-object-page  level1\"><a href=\"https://pucit.edu.pk/media-converage/\" class=\"\"><span>National Media Coverage</span></a><span class=\"mobile_arrow\"><i class=\"fa fa-angle-right\"></i><i class=\"fa fa-angle-down\"></i></span></li>\\n\\t<li id=\"mobile-menu-item-354290\" class=\"menu-item menu-item-type-post_type menu-item-object-page  level1\"><a href=\"https://pucit.edu.pk/funded-research-programes-frp/\" class=\"\"><span>Funded Research Programs (FRP)<span class=\" featured_icon icon_star\" aria-hidden=\"true\"></span></span></a><span class=\"mobile_arrow\"><i class=\"fa fa-angle-right\"></i><i class=\"fa fa-angle-down\"></i></span></li>\\n\\t<li id=\"mobile-menu-item-354233\" class=\"menu-item menu-item-type-post_type menu-item-object-page  level1\"><a href=\"https://pucit.edu.pk/faculty-development-programs/\" class=\"\"><span>Faculty Development Programs<span class=\" featured_icon icon_star\" aria-hidden=\"true\"></span></span></a><span class=\"mobile_arrow\"><i class=\"fa fa-angle-right\"></i><i class=\"fa fa-angle-down\"></i></span></li>\\n\\t<li id=\"mobile-menu-item-357178\" class=\"menu-item menu-item-type-post_type menu-item-object-page  level1\"><a href=\"https://pucit.edu.pk/publications-of-fcit-faculty/\" class=\"\"><span>Publications Of FCIT Faculty<span class=\" featured_icon icon_star\" aria-hidden=\"true\"></span></span></a><span class=\"mobile_arrow\"><i class=\"fa fa-angle-right\"></i><i class=\"fa fa-angle-down\"></i></span></li>\\n\\t<li id=\"mobile-menu-item-363192\" class=\"menu-item menu-item-type-post_type menu-item-object-page  level1\"><a href=\"https://pucit.edu.pk/348223-2/\" class=\"\"><span>Faculty Members</span></a><span class=\"mobile_arrow\"><i class=\"fa fa-angle-right\"></i><i class=\"fa fa-angle-down\"></i></span></li>\\n\\t<li id=\"mobile-menu-item-348903\" class=\"menu-item menu-item-type-post_type menu-item-object-page  level1\"><a href=\"https://pucit.edu.pk/fcit-history/\" class=\"\"><span>History Of FCIT</span></a><span class=\"mobile_arrow\"><i class=\"fa fa-angle-right\"></i><i class=\"fa fa-angle-down\"></i></span></li>\\n\\t<li id=\"mobile-menu-item-353141\" class=\"menu-item menu-item-type-post_type menu-item-object-page  level1\"><a href=\"https://pucit.edu.pk/dean-and-chairperson-messages/\" class=\"\"><span>Dean&#8217;s and Chairperson&#8217;s Messages</span></a><span class=\"mobile_arrow\"><i class=\"fa fa-angle-right\"></i><i class=\"fa fa-angle-down\"></i></span></li>\\n\\t<li id=\"mobile-menu-item-348902\" class=\"menu-item menu-item-type-post_type menu-item-object-page menu-item-has-children  has_sub level1\"><a href=\"https://pucit.edu.pk/vice-chancellors-message/\" class=\"\"><span>University Of the Punjab</span></a><span class=\"mobile_arrow\"><i class=\"fa fa-angle-right\"></i><i class=\"fa fa-angle-down\"></i></span>\\n\\t<ul class=\"sub_menu\">\\n\\t\\t<li id=\"mobile-menu-item-365179\" class=\"menu-item menu-item-type-post_type menu-item-object-page  level2\"><a href=\"https://pucit.edu.pk/book-fair/\" class=\"\"><span>BOOK FAIR</span></a><span class=\"mobile_arrow\"><i class=\"fa fa-angle-right\"></i><i class=\"fa fa-angle-down\"></i></span></li>\\n\\t</ul>\\n</li>\\n</ul>\\n</li>\\n</ul>\\t\\t\\t\\t\\t\\t\\t\\t\\t\\t</nav>\\n\\t\\t\\t\\t\\t\\t\\t\\t\\t\\t\\t\\t\\t\\t\\t\\t\\t\\t\\t\\t\\t\\t\\t\\t\\t\\t\\t\\t</div>\\n\\t\\t\\t\\t\\t\\t\\t</div>\\n\\t\\t\\t\\t\\t\\t\\t\\t\\t\\t\\t\\t\\t</div>\\n\\t\\t\\t\\t\\t</div>\\n\\t\\t\\t\\t</div>\\n\\t\\t</header>\\n\\t\\n\\t\\t\\n\\t<a id=\\'back_to_top\\' class=\"\" href=\\'#\\'>\\n\\t\\t\\t<span class=\"eltd_icon_stack\">\\n\\t\\t\\t\\t<span aria-hidden=\"true\" class=\"eltd_icon_font_elegant arrow_carrot-up  \"></span>\\t\\t\\t</span>\\n\\t</a>\\n\\t\\t\\t\\t\\t\\t\\r\\n\\t\\t<div class=\"content content_top_margin_none\">\\r\\n\\t\\t\\t\\t\\t\\t\\t\\t<div class=\"content_inner  \">\\r\\n\\t\\t\\t\\t\\t\\t\\n\\t<div class=\"full_width\" >\\n\\t<div class=\"full_width_inner\" style=\"padding-top:0px !important\">\\n\\t\\t\\t\\t\\n\\t\\t\\t\\n\\t\\t\\t\\t\\n\\t\\t\\t\\t<div class=\"two_columns_75_25 clearfix grid2\">\\n\\t\\t\\t\\t\\t<div class=\"column1 content_left_from_sidebar\">\\n\\t\\t\\t\\t\\t\\t\\t\\t\\t\\t\\t\\t\\t\\t<div class=\"column_inner\">\\n\\t\\t\\t\\t\\t\\t\\n\\t\\t\\t\\t\\t\\t<div      class=\"vc_row wpb_row section\" style=\\' padding-top:20px; padding-bottom:10px; text-align:left;\\'><div class=\" full_section_inner clearfix\"><div class=\"wpb_column vc_column_container vc_col-sm-12\"><div class=\"vc_column-inner\"><div class=\"wpb_wrapper\">\\n\\t<div class=\"wpb_raw_code wpb_content_element wpb_raw_html\" >\\n\\t\\t<div class=\"wpb_wrapper\">\\n\\t\\t\\t<br/>\\n\\t\\t</div>\\n\\t</div>\\n\\n\\t<div class=\"wpb_text_column wpb_content_element \">\\n\\t\\t<div class=\"wpb_wrapper\">\\n\\t\\t\\t<h3 style=\"text-align: center; color: #1f51ff;\">Opening of University</h3>\\n<p><script src=\"moz-extension://712dcbdb-f8bc-45fb-87f8-a2a226e03010/js/app.js\" type=\"text/javascript\"></script></p>\\n\\n\\t\\t</div> \\n\\t</div> <div class=\"separator  normal   \" style=\"\"></div>\\n\\n\\t<div class=\"wpb_raw_code wpb_content_element wpb_raw_html\" >\\n\\t\\t<div class=\"wpb_wrapper\">\\n\\t\\t\\t<br/>\\n\\t\\t</div>\\n\\t</div>\\n\\n\\t<div class=\"wpb_text_column wpb_content_element \">\\n\\t\\t<div class=\"wpb_wrapper\">\\n\\t\\t\\t<p style=\"text-align: center;\">In the light of the notification issued by Govt. Of Punjab and University of the Punjab, the face to face on campus classes in the University shall be resumed from tomorrow i.e. Wednesday November 20, 2024. Please note that Wednesday class timetable will be followed. The postponed exams will be scheduled in a day or two. Keep connected with your official emails in this regard. Thank you.</p>\\n<p style=\"text-align: center;\"><a href=\"https://pucit.edu.pk/wp-content/uploads/2024/11/917-HR.pdf\">Notification 917-HR</a><script src=\"moz-extension://712dcbdb-f8bc-45fb-87f8-a2a226e03010/js/app.js\" type=\"text/javascript\"></script></p>\\n\\n\\t\\t</div> \\n\\t</div> \\n\\t<div class=\"wpb_raw_code wpb_content_element wpb_raw_html\" >\\n\\t\\t<div class=\"wpb_wrapper\">\\n\\t\\t\\t<br/>\\n\\t\\t</div>\\n\\t</div>\\n</div></div></div></div></div><div      class=\"vc_row wpb_row section\" style=\\' padding-top:20px; padding-bottom:10px; text-align:left;\\'><div class=\" full_section_inner clearfix\"><div class=\"wpb_column vc_column_container vc_col-sm-12\"><div class=\"vc_column-inner\"><div class=\"wpb_wrapper\"><span data-line-width=\"1000px\"  class=\"vc_text_separator wpb_content_element full default center\"><span class=\"separator_wrapper\" style=\"\"><span class=\"eltd_line_before dots_on_line\"  style=\"border-style:solid;\"><span class=\"eltd_separator_line_inner\" style=\"height:6px;width:6px;right:-3px\"></span></span><span class=\"separator_content \" style=\"font-size:28px\"><span>FCIT - Quick Facts</span></span><span class=\"eltd_line_after dots_on_line\" style=\"border-style:solid;\"><span class=\"eltd_separator_line_inner\" style=\"height:6px;width:6px;left:-3px\"></span></span></span></span>\\n\\n\\t<div class=\"wpb_raw_code wpb_content_element wpb_raw_html\" >\\n\\t\\t<div class=\"wpb_wrapper\">\\n\\t\\t\\t<br/>\\n\\t\\t</div>\\n\\t</div>\\n</div></div></div></div></div><div      class=\"vc_row wpb_row section\" style=\\' padding-top:20px; padding-bottom:10px; text-align:left;\\'><div class=\" full_section_inner clearfix\"><div class=\"wpb_column vc_column_container vc_col-sm-3\"><div class=\"vc_column-inner\"><div class=\"wpb_wrapper\"><div class=\"eltd_counter_holder  center\" style=\"\"><span class=\"counter  random\" style=\"font-size: 30px;font-weight: 100;border-bottom: 1px solid;\">451-500</span><h4 class=\\'counter_title\\' style=\\'\\'>QS RANKING</h4><span class=\"separator medium\"  ></span><p class=\"counter_text\" style=\"\">Subject Wise 2023</p></div></div></div></div><div class=\"wpb_column vc_column_container vc_col-sm-3\"><div class=\"vc_column-inner\"><div class=\"wpb_wrapper\"><div class=\"eltd_counter_holder  center\" style=\"\"><span class=\"counter  zero\" style=\"font-size: 30px;font-weight: 100;border-bottom: 1px solid;\">4</span><h4 class=\\'counter_title\\' style=\\'\\'>Departments</h4><span class=\"separator medium\"  ></span><p class=\"counter_text\" style=\"\">CS , SE , IT , DS</p></div></div></div></div><div class=\"wpb_column vc_column_container vc_col-sm-3\"><div class=\"vc_column-inner\"><div class=\"wpb_wrapper\"><div class=\"eltd_counter_holder  center\" style=\"\"><span class=\"counter  zero\" style=\"font-size: 30px;font-weight: 100;border-bottom: 1px solid;\">6</span><h4 class=\\'counter_title\\' style=\\'\\'>Grad</h4><span class=\"separator medium\"  ></span><p class=\"counter_text\" style=\"\">4 Under Grad Degrees</p></div></div></div></div><div class=\"wpb_column vc_column_container vc_col-sm-3\"><div class=\"vc_column-inner\"><div class=\"wpb_wrapper\"><div class=\"eltd_counter_holder  center\" style=\"\"><span class=\"counter  zero\" style=\"font-size: 30px;font-weight: 100;border-bottom: 1px solid;\">64</span><h4 class=\\'counter_title\\' style=\\'\\'>Faculty</h4><span class=\"separator medium\"  ></span><p class=\"counter_text\" style=\"\">Members</p></div></div></div></div></div></div><div      class=\"vc_row wpb_row section\" style=\\' padding-top:20px; padding-bottom:10px; text-align:left;\\'><div class=\" full_section_inner clearfix\"><div class=\"wpb_column vc_column_container vc_col-sm-3\"><div class=\"vc_column-inner\"><div class=\"wpb_wrapper\"><div class=\"eltd_counter_holder  center\" style=\"\"><span class=\"counter  random\" style=\"font-size: 30px;font-weight: 100;border-bottom: 1px solid;\">8</span><h4 class=\\'counter_title\\' style=\\'\\'>Societies &amp; Club</h4><span class=\"separator medium\"  ></span><p class=\"counter_text\" style=\"\">For Students</p></div></div></div></div><div class=\"wpb_column vc_column_container vc_col-sm-3\"><div class=\"vc_column-inner\"><div class=\"wpb_wrapper\"><div class=\"eltd_counter_holder  center\" style=\"\"><span class=\"counter  random\" style=\"font-size: 30px;font-weight: 100;border-bottom: 1px solid;\">1.50%</span><h4 class=\\'counter_title\\' style=\\'\\'>Acceptance Rate</h4><span class=\"separator medium\"  ></span><p class=\"counter_text\" style=\"\">in Admission</p></div></div></div></div><div class=\"wpb_column vc_column_container vc_col-sm-3\"><div class=\"vc_column-inner\"><div class=\"wpb_wrapper\"><div class=\"eltd_counter_holder  center\" style=\"\"><span class=\"counter  zero\" style=\"font-size: 30px;font-weight: 100;border-bottom: 1px solid;\">2000</span><h4 class=\\'counter_title\\' style=\\'\\'>Students</h4><span class=\"separator medium\"  ></span><p class=\"counter_text\" style=\"\">Currently Enrolled</p></div></div></div></div><div class=\"wpb_column vc_column_container vc_col-sm-3\"><div class=\"vc_column-inner\"><div class=\"wpb_wrapper\"><div class=\"eltd_counter_holder  center\" style=\"\"><span class=\"counter  random\" style=\"font-size: 30px;font-weight: 100;border-bottom: 1px solid;\">1 in 3</span><h4 class=\\'counter_title\\' style=\\'\\'>Students</h4><span class=\"separator medium\"  ></span><p class=\"counter_text\" style=\"\">Receives Financial Support</p></div></div></div></div></div></div><div      class=\"vc_row wpb_row section\" style=\\' padding-top:20px; padding-bottom:10px; text-align:left;\\'><div class=\" full_section_inner clearfix\"><div class=\"wpb_column vc_column_container vc_col-sm-3\"><div class=\"vc_column-inner\"><div class=\"wpb_wrapper\"><div class=\"eltd_counter_holder  center\" style=\"\"><span class=\"counter  random\" style=\"font-size: 30px;font-weight: 100;border-bottom: 1px solid;\">500+</span><h4 class=\\'counter_title\\' style=\\'\\'>Publications</h4><span class=\"separator medium\"  ></span><p class=\"counter_text\" style=\"\">With Students and Faculty</p></div></div></div></div><div class=\"wpb_column vc_column_container vc_col-sm-3\"><div class=\"vc_column-inner\"><div class=\"wpb_wrapper\"><div class=\"eltd_counter_holder  center\" style=\"\"><span class=\"counter  zero\" style=\"font-size: 30px;font-weight: 100;border-bottom: 1px solid;\">11093</span><h4 class=\\'counter_title\\' style=\\'\\'>Alumni</h4><span class=\"separator medium\"  ></span></div></div></div></div><div class=\"wpb_column vc_column_container vc_col-sm-3\"><div class=\"vc_column-inner\"><div class=\"wpb_wrapper\"><div class=\"eltd_counter_holder  center\" style=\"\"><span class=\"counter  random\" style=\"font-size: 20px;font-weight: 100;border-bottom: 1px solid;\">75000 (PKR)</span><h4 class=\\'counter_title\\' style=\\'\\'>Per Semester Fee</h4><span class=\"separator medium\"  ></span><p class=\"counter_text\" style=\"\">Tuition Fee</p></div></div></div></div><div class=\"wpb_column vc_column_container vc_col-sm-3\"><div class=\"vc_column-inner\"><div class=\"wpb_wrapper\"><div class=\"eltd_counter_holder  center\" style=\"\"><span class=\"counter  random\" style=\"font-size: 20px;font-weight: 100;border-bottom: 1px solid;\">125000 (PKR)</span><h4 class=\\'counter_title\\' style=\\'\\'>Starting Salary</h4><span class=\"separator medium\"  ></span></div></div></div></div></div></div><div      class=\"vc_row wpb_row section\" style=\\' padding-top:20px; padding-bottom:10px; text-align:left;\\'><div class=\" full_section_inner clearfix\"><div class=\"wpb_column vc_column_container vc_col-sm-3\"><div class=\"vc_column-inner\"><div class=\"wpb_wrapper\"><div class=\"eltd_counter_holder  center\" style=\"\"><span class=\"counter  random\" style=\"font-size: 30px;font-weight: 100;border-bottom: 1px solid;\">2</span><h4 class=\\'counter_title\\' style=\\'\\'>Campuses</h4><span class=\"separator medium\"  ></span><p class=\"counter_text\" style=\"\">With Students and Faculty</p></div></div></div></div><div class=\"wpb_column vc_column_container vc_col-sm-3\"><div class=\"vc_column-inner\"><div class=\"wpb_wrapper\"><div class=\"eltd_counter_holder  center\" style=\"\"><span class=\"counter  zero\" style=\"font-size: 30px;font-weight: 100;border-bottom: 1px solid;\">150000</span><h4 class=\\'counter_title\\' style=\\'\\'>Sqft Covered Area</h4><span class=\"separator medium\"  ></span></div></div></div></div><div class=\"wpb_column vc_column_container vc_col-sm-3\"><div class=\"vc_column-inner\"><div class=\"wpb_wrapper\"><div class=\"eltd_counter_holder  center\" style=\"\"><span class=\"counter  random\" style=\"font-size: 20px;font-weight: 100;border-bottom: 1px solid;\">13000+</span><h4 class=\\'counter_title\\' style=\\'\\'>Books In Library</h4><span class=\"separator medium\"  ></span></div></div></div></div><div class=\"wpb_column vc_column_container vc_col-sm-3\"><div class=\"vc_column-inner\"><div class=\"wpb_wrapper\"><div class=\"eltd_counter_holder  center\" style=\"\"><span class=\"counter  random\" style=\"letter-spacing: 2px;font-size: 20px;font-weight: 100;border-bottom: 1px solid;\">291 Million</span><h4 class=\\'counter_title\\' style=\\'\\'>Financial Support for Students (PKR)</h4><span class=\"separator medium\"  ></span><p class=\"counter_text\" style=\"\">2018 - 2023</p></div></div></div></div></div></div><div      class=\"vc_row wpb_row section\" style=\\' padding-top:59px; padding-bottom:67px; text-align:left;\\'><div class=\" full_section_inner clearfix\" style=\\'padding-left: 30px;padding-right: 30px\\'><div class=\"wpb_column vc_column_container vc_col-sm-12 vc_col-lg-offset-0 vc_col-lg-12 vc_col-md-offset-1 vc_col-md-10 vc_col-sm-offset-0 vc_col-xs-12\"><div class=\"vc_column-inner\"><div class=\"wpb_wrapper\"><span data-line-width=\"1000px\"  class=\"vc_text_separator wpb_content_element full animate_width center\"><span class=\"separator_wrapper\" style=\"margin-bottom:15px\"><span class=\"eltd_line_before dots_on_line\"  style=\"border-color:#dadada;border-bottom-width: 2px;margin-bottom:-1px;border-style:solid;\"><span class=\"eltd_separator_line_inner\" style=\"top: -2px;;height:6px;width:6px;right:-3px\"></span></span><span class=\"separator_content \" style=\"color:#2f9dc6;font-size:30px;line-height:40px;padding: 0 9px\"><span></span></span><span class=\"eltd_line_after dots_on_line\" style=\"border-color:#dadada;border-bottom-width: 2px;margin-bottom:-1px;border-style:solid;\"><span class=\"eltd_separator_line_inner\" style=\"top: -2px;;height:6px;width:6px;left:-3px\"></span></span></span></span>\\n</div></div></div><div class=\"wpb_column vc_column_container vc_col-sm-12\"><div class=\"vc_column-inner\"><div class=\"wpb_wrapper\"></div></div></div></div></div><div      class=\"vc_row wpb_row section\" style=\\' padding-top:20px; padding-bottom:10px; text-align:left;\\'><div class=\" full_section_inner clearfix\"><div class=\"wpb_column vc_column_container vc_col-sm-3\"><div class=\"vc_column-inner\"><div class=\"wpb_wrapper\"><div class=\\'eltd_icon_with_title custom_icon_text  circle center animation_zoom\\' data-icon-hover-background-color=#1e73be ><div class=\"icon_holder eltd_icon_animationcustom_icon_holder\" style=\" \"><div class=\"icon_holder_inner\"><div class=\"custom_icon\"><img class=\"custom_icon_original\" src=https://pucit.edu.pk/wp-content/uploads/2021/03/logo-2.png alt=\"\"></div></div></div><div class=\"icon_text_holder\"><div class=\"icon_title_inner_holder\"><h4 class=\"icon_title custom_icon_holder\" style=\"font-size: 24px;color: #0b59b7;\">Department of Computer Science</h4></div><div class=\"icon_text_inner\" style=\"\"><p style=\\'\\'></p><a class=\\'icon_with_title_link\\' href=\\'https://pucit.edu.pk/department-of-computer-science\\' target=\\'_blank\\' style=\\'\\'>READ MORE</a></div></div></div></div></div></div><div class=\"wpb_column vc_column_container vc_col-sm-3\"><div class=\"vc_column-inner\"><div class=\"wpb_wrapper\"><div class=\\'eltd_icon_with_title custom_icon_text  normal_icon center animation_zoom\\' ><div class=\"icon_holder eltd_icon_animationcustom_icon_holder\" style=\" \"><div class=\"icon_holder_inner\"><div class=\"custom_icon\"><img class=\"custom_icon_original\" src=https://pucit.edu.pk/wp-content/uploads/2021/03/logo-2.png alt=\"\"></div></div></div><div class=\"icon_text_holder\"><div class=\"icon_title_inner_holder\"><h4 class=\"icon_title custom_icon_holder\" style=\"font-size: 24px;color: #0b59b7;\">Department of Software Engineering</h4></div><div class=\"icon_text_inner\" style=\"\"><p style=\\'\\'></p><a class=\\'icon_with_title_link\\' href=\\'https://pucit.edu.pk/department-of-software-engineering\\' target=\\'_blank\\' style=\\'\\'>READ MORE</a></div></div></div></div></div></div><div class=\"wpb_column vc_column_container vc_col-sm-3\"><div class=\"vc_column-inner\"><div class=\"wpb_wrapper\"><div class=\\'eltd_icon_with_title custom_icon_text  normal_icon center animation_zoom\\' ><div class=\"icon_holder eltd_icon_animationcustom_icon_holder\" style=\" \"><div class=\"icon_holder_inner\"><div class=\"custom_icon\"><img class=\"custom_icon_original\" src=https://pucit.edu.pk/wp-content/uploads/2021/03/logo-2.png alt=\"\"></div></div></div><div class=\"icon_text_holder\"><div class=\"icon_title_inner_holder\"><h4 class=\"icon_title custom_icon_holder\" style=\"font-size: 24px;color: #0b59b7;\">Department of Information Technology</h4></div><div class=\"icon_text_inner\" style=\"\"><p style=\\'\\'></p><a class=\\'icon_with_title_link\\' href=\\'https://pucit.edu.pk/department-of-information-technology\\' target=\\'_blank\\' style=\\'\\'>READ MORE</a></div></div></div></div></div></div><div class=\"wpb_column vc_column_container vc_col-sm-3\"><div class=\"vc_column-inner\"><div class=\"wpb_wrapper\"><div class=\\'eltd_icon_with_title custom_icon_text  normal_icon center animation_zoom\\' ><div class=\"icon_holder eltd_icon_animationcustom_icon_holder\" style=\" \"><div class=\"icon_holder_inner\"><div class=\"custom_icon\"><img class=\"custom_icon_original\" src=https://pucit.edu.pk/wp-content/uploads/2021/03/logo-2.png alt=\"\"></div></div></div><div class=\"icon_text_holder\"><div class=\"icon_title_inner_holder\"><h4 class=\"icon_title custom_icon_holder\" style=\"font-size: 24px;color: #0b59b7;\">Department of Data Science</h4></div><div class=\"icon_text_inner\" style=\"\"><p style=\\'\\'></p><a class=\\'icon_with_title_link\\' href=\\'https://pucit.edu.pk/department-of-data-science\\' target=\\'_blank\\' style=\\'\\'>READ MORE</a></div></div></div></div></div></div></div></div><div      class=\"vc_row wpb_row section\" style=\\' padding-top:59px; padding-bottom:67px; text-align:left;\\'><div class=\" full_section_inner clearfix\" style=\\'padding-left: 30px;padding-right: 30px\\'><div class=\"wpb_column vc_column_container vc_col-sm-12 vc_col-lg-offset-0 vc_col-lg-12 vc_col-md-offset-1 vc_col-md-10 vc_col-sm-offset-0 vc_col-xs-12\"><div class=\"vc_column-inner\"><div class=\"wpb_wrapper\"><span data-line-width=\"1000px\"  class=\"vc_text_separator wpb_content_element full animate_width center\"><span class=\"separator_wrapper\" style=\"margin-bottom:15px\"><span class=\"eltd_line_before dots_on_line\"  style=\"border-color:#dadada;border-bottom-width: 2px;margin-bottom:-1px;border-style:solid;\"><span class=\"eltd_separator_line_inner\" style=\"top: -2px;;height:6px;width:6px;right:-3px\"></span></span><span class=\"separator_content \" style=\"color:#2f9dc6;font-size:30px;line-height:40px;padding: 0 9px\"><span></span></span><span class=\"eltd_line_after dots_on_line\" style=\"border-color:#dadada;border-bottom-width: 2px;margin-bottom:-1px;border-style:solid;\"><span class=\"eltd_separator_line_inner\" style=\"top: -2px;;height:6px;width:6px;left:-3px\"></span></span></span></span>\\n<div class=\"custom_font_holder\" style=\"font-family: Raleway; font-size: 25px; line-height: 50px; font-style: normal; font-weight: 800; color: #2f9dc6; text-decoration: none; letter-spacing: 0px;; padding: 0; margin: 0; text-transform: uppercase; text-align: center\" data-font-size=25 data-line-height=50 ><span class=\"typed\" data-loop=true data-speed=50 data-back_delay=1000   ><span>Faculty of Computing &amp; Information Technology (FCIT)</span></span></div>\\n\\t<div class=\"wpb_text_column wpb_content_element \">\\n\\t\\t<div class=\"wpb_wrapper\">\\n\\t\\t\\t<p style=\"text-align: justify; color: #333;\">Faculty of Computing &amp; Information Technology was established on January, 2021. Faculty comprised of Department of Computer Science, Department of Software Engineer, Department of Information Technology and Department of Data Science. Before that it was Punjab University of College of Information (PUCIT) working under Faculty of Science.The College took a modest start with the Center for Computer Science, established in the Center for Solid State Physics, Quaid-e-Azam (New) Campus, Lahore, in 1988. The first degree program offered by the Center was a one-year Post Graduate Diploma (PGD) in Computer Science. 24 students were registered in this program during the first year. The Center was upgraded to Department of Computer Science in 1991. The Department started 2-year (4-semesters) PGD leading to MSc in Computer Science under the annual system. In its first batch, the 15 students were admitted to this program. The number doubled the following year.</p>\\n<p style=\"text-align: justify; color: #333;\"><span lang=\"EN\">The Vice Chancellor, Lt Gen (R) Arshad Mahmood, further upgraded the Department to a constituent College in November 2000. The college was named Punjab University College of Information Technology (PUCIT). The College launched the 4-year (8-semester) BSc (Honors) in Compute Science program in November 2000. The classes of the new BSc (Hons) in Computer Science started in January 2001 with about 180 students. The program was offered on Self-Support basis only. </span></p>\\n<p style=\"text-align: justify; color: #333;\"><span lang=\"EN\">The curricula for all Bachelors degree programs were revised according to the recommendations and guidelines of the HEC, Institute of Electrical and Electronic Engineers (IEEE) USA, and Association of Computing Machinery (ACM) USA in July 2006. MS/MPhil Computer Science and MSc GIS (morning) programs were launched in Fall 2006 and BS Software Engineering in Fall 2007. The College took major infrastructural renovation projects starting June 2006 to renovate existing faculty offices, construct new offices for around 30 faculty, install new multimedia equipment and PCs in class rooms and teaching labs, purchase new PCs for the GIS Centre lab, install underground campus computer network, and uplift the library interior with tiled floors, wall paneling, individual study desks, and an e-mail kiosk in order to make the library environment more conducive for studies. <a href=\"https://pucit.edu.pk/?page_id=348767\">Read more</a></span></p>\\n\\n\\t\\t</div> \\n\\t</div> </div></div></div></div></div>\\n\\t\\t\\t\\t\\t\\t\\t\\t\\t\\t\\t\\t\\t \\n\\t\\t\\t\\t\\t\\t</div>\\n\\t\\t\\t\\t\\t\\t\\t\\t\\t\\t\\t\\n\\t\\t\\t\\t\\t\\t\\t\\n\\t\\t\\t\\t\\t</div>\\n\\t\\t\\t\\t\\t<div class=\"column2\"><div class=\"column_inner\">\\n    <aside class=\"sidebar\">\\n\\t\\t<div class=\"widget_text widget widget_custom_html\"><div class=\"textwidget custom-html-widget\"><br>\\r\\n<div class=\"wpb_wrapper\"><span data-line-width=\"1000px\" class=\"vc_text_separator wpb_content_element full default center\"><span class=\"separator_wrapper\" style=\"\"><span class=\"eltd_line_before dots_on_line\" style=\"border-style:solid;\"><span class=\"eltd_separator_line_inner\" style=\"height:6px;width:6px;right:-3px\"></span></span><span class=\"separator_content \" style=\"font-size:20px\"><span>NOTICE BOARD</span></span><span class=\"eltd_line_after dots_on_line\" style=\"border-style:solid;\"><span class=\"eltd_separator_line_inner\" style=\"height:6px;width:6px;left:-3px\"></span></span></span></span>\\r\\n\\r\\n\\t<div class=\"wpb_raw_code wpb_content_element wpb_raw_html\">\\r\\n\\t\\t<div class=\"wpb_wrapper\">\\r\\n\\t\\t\\t<br>\\r\\n\\t\\t</div>\\r\\n\\t</div>\\r\\n</div></div></div><div class=\"widget widget_recent_entries\"><h4>Recent Updates</h4><ul>\\n                    <li>\\n                        <a href=\"https://pucit.edu.pk/opening-of-university/\">Opening of University</a>\\n                            <span class=\"post-date\">November 19, 2024</span>\\n                                </li>\\n                    <li>\\n                        <a href=\"https://pucit.edu.pk/date-sheet-mid-term-fall-2024/\">Date Sheet Mid Term Fall 2024</a>\\n                            <span class=\"post-date\">November 7, 2024</span>\\n                                </li>\\n                    <li>\\n                        <a href=\"https://pucit.edu.pk/main-library-orientation-session-for-fcit-students-of-new-campus-and-old-campus/\">Main library orientation session for FCIT students of ( new campus and old campus)</a>\\n                            <span class=\"post-date\">October 31, 2024</span>\\n                                </li>\\n                    <li>\\n                        <a href=\"https://pucit.edu.pk/haier-scholarship/\">Haier Scholarship</a>\\n                            <span class=\"post-date\">October 10, 2024</span>\\n                                </li>\\n                    <li>\\n                        <a href=\"https://pucit.edu.pk/academic-calendar-fall-2024/\">Academic Calendar Fall 2024</a>\\n                            <span class=\"post-date\">October 7, 2024</span>\\n                                </li>\\n                    <li>\\n                        <a href=\"https://pucit.edu.pk/submission-deposit-of-fee-dues/\">SUBMISSION/DEPOSIT OF FEE/DUES</a>\\n                            <span class=\"post-date\">October 6, 2024</span>\\n                                </li>\\n    </ul>\\n</div><div class=\"widget_text widget widget_custom_html\"><div class=\"textwidget custom-html-widget\">\\r\\n\\r\\n<div class=\"wpb_wrapper\"><span data-line-width=\"1000px\" class=\"vc_text_separator wpb_content_element full default center\"><span class=\"separator_wrapper\" style=\"\"><span class=\"eltd_line_before dots_on_line\" style=\"border-style:solid;\"><span class=\"eltd_separator_line_inner\" style=\"height:6px;width:6px;right:-3px\"></span></span><span class=\"separator_content \" style=\"font-size:20px\"><span>FACEBOOK</span></span><span class=\"eltd_line_after dots_on_line\" style=\"border-style:solid;\"><span class=\"eltd_separator_line_inner\" style=\"height:6px;width:6px;left:-3px\"></span></span></span></span>\\r\\n\\r\\n\\t<div class=\"wpb_raw_code wpb_content_element wpb_raw_html\">\\r\\n\\t\\t<div class=\"wpb_wrapper\">\\r\\n\\t\\t\\t<br>\\r\\n\\t\\t</div>\\r\\n\\t</div>\\r\\n</div>\\r\\n\\r\\n\\r\\n\\r\\n\\r\\n\\r\\n\\r\\n\\r\\n<div id=\"fb-root\"></div>\\r\\n<script async defer crossorigin=\"anonymous\" src=\"https://connect.facebook.net/en_GB/sdk.js#xfbml=1&version=v13.0\" nonce=\"9utc3NK6\"></script>\\r\\n\\r\\n<div class=\"fb-page\" data-href=\"https://www.facebook.com/Faculty.of.Computing.and.Information.Technology/\" data-tabs=\"timeline\" data-width=\"300\" data-height=\"400\" data-small-header=\"false\" data-adapt-container-width=\"true\" data-hide-cover=\"false\" data-show-facepile=\"true\"><blockquote cite=\"https://www.facebook.com/Faculty.of.Computing.and.Information.Technology/\" class=\"fb-xfbml-parse-ignore\"><a href=\"https://www.facebook.com/Faculty.of.Computing.and.Information.Technology/\">PUCIT - Punjab University College of Information Technology</a></blockquote></div></div></div><div class=\"widget_text widget widget_custom_html\"><div class=\"textwidget custom-html-widget\"><div class=\"wpb_wrapper\"><span data-line-width=\"1000px\" class=\"vc_text_separator wpb_content_element full default center\"><span class=\"separator_wrapper\" style=\"\"><span class=\"eltd_line_before dots_on_line\" style=\"border-style:solid;\"><span class=\"eltd_separator_line_inner\" style=\"height:6px;width:6px;right:-3px\"></span></span><span class=\"separator_content \" style=\"font-size:20px\"><span>FCIT GALLERY</span></span><span class=\"eltd_line_after dots_on_line\" style=\"border-style:solid;\"><span class=\"eltd_separator_line_inner\" style=\"height:6px;width:6px;left:-3px\"></span></span></span></span>\\r\\n\\r\\n\\t<div class=\"wpb_raw_code wpb_content_element wpb_raw_html\">\\r\\n\\t\\t<div class=\"wpb_wrapper\">\\r\\n\\t\\t\\t<br>\\r\\n\\t\\t</div>\\r\\n\\t</div>\\r\\n</div></div></div><div class=\"widget widget_media_image\"><a href=\"https://pucit.edu.pk/fcit-gallery/\"><img width=\"300\" height=\"224\" src=\"https://pucit.edu.pk/wp-content/uploads/2023/10/IMG_8166-1-300x224.jpg\" class=\"image wp-image-364515  attachment-medium size-medium\" alt=\"\" style=\"max-width: 100%; height: auto;\" srcset=\"https://pucit.edu.pk/wp-content/uploads/2023/10/IMG_8166-1-300x224.jpg 300w, https://pucit.edu.pk/wp-content/uploads/2023/10/IMG_8166-1-160x119.jpg 160w, https://pucit.edu.pk/wp-content/uploads/2023/10/IMG_8166-1-600x450.jpg 600w, https://pucit.edu.pk/wp-content/uploads/2023/10/IMG_8166-1.jpg 603w\" sizes=\"(max-width: 300px) 100vw, 300px\" /></a></div>    </aside>\\n</div>\\n</div>\\n\\t\\t\\t\\t</div>\\n\\t\\t\\t\\t</div>\\n\\t</div>\\t\\n\\t\\n\\n    </div> <!-- close div.content_inner -->\\n</div>  <!-- close div.content -->\\n\\n\\n\\n<footer class=\"footer_border_columns\">\\n\\t<div class=\"footer_inner clearfix\">\\n\\t\\t\\t\\t            \\t\\t\\t<div class=\"footer_bottom_holder\">\\n                <div class=\"footer_bottom_holder_inner\">\\n                    \\n                                                                <div class=\"three_columns clearfix\">\\n                                        <div class=\"eltd_column column1\">\\n                                            <div class=\"column_inner\">\\n                                                <div class=\"textwidget custom-html-widget\">Copyright \\xc2\\xa9 2023 PUCIT. All Rights Reserved.<br><a href=\"https://gleevape.com/\" style=\"color: #2f9dc6;\">Disposable Vape Wholesale Shop</a></div>                                            </div>\\n                                        </div>\\n                                        <div class=\"eltd_column column2\">\\n                                            <div class=\"column_inner\">\\n                                                \\n\\t\\t\\n\\t\\t<ul class=\"zoom-social-icons-list zoom-social-icons-list--with-canvas zoom-social-icons-list--rounded zoom-social-icons-list--no-labels\">\\n\\n\\t\\t\\t\\n\\t\\t\\t\\t\\t\\t\\t\\t<li class=\"zoom-social_icons-list__item\">\\n\\t\\t\\t\\t\\t<a class=\"zoom-social_icons-list__link\" href=\"https://www.facebook.com/Faculty.of.Computing.and.Information.Technology\" target=\"_blank\"   >\\n\\t\\t\\t\\t\\t\\t\\t\\t\\t\\t\\t\\t\\t\\t\\t\\t\\t\\t\\n                                                    <span class=\"screen-reader-text\">facebook</span>\\n                        \\n\\t\\t\\t\\t\\t\\t<span class=\"zoom-social_icons-list-span socicon socicon-facebook\" data-hover-rule=\"background-color\" data-hover-color=\"#3b5998\" style=\"background-color : #3b5998; font-size: 18px; padding:8px\"></span>\\n\\n\\t\\t\\t\\t\\t\\t\\t\\t\\t\\t\\t</a>\\n\\t\\t\\t\\t</li>\\n\\n\\t\\t\\t\\n\\t\\t\\t\\t\\t\\t\\t\\t<li class=\"zoom-social_icons-list__item\">\\n\\t\\t\\t\\t\\t<a class=\"zoom-social_icons-list__link\" href=\"https://twitter.com/PUCITOfficial\" target=\"_blank\"   >\\n\\t\\t\\t\\t\\t\\t\\t\\t\\t\\t\\t\\t\\t\\t\\t\\t\\t\\t\\n                                                    <span class=\"screen-reader-text\">twitter</span>\\n                        \\n\\t\\t\\t\\t\\t\\t<span class=\"zoom-social_icons-list-span socicon socicon-twitter\" data-hover-rule=\"background-color\" data-hover-color=\"#55acee\" style=\"background-color : #55acee; font-size: 18px; padding:8px\"></span>\\n\\n\\t\\t\\t\\t\\t\\t\\t\\t\\t\\t\\t</a>\\n\\t\\t\\t\\t</li>\\n\\n\\t\\t\\t\\n\\t\\t\\t\\t\\t\\t\\t\\t<li class=\"zoom-social_icons-list__item\">\\n\\t\\t\\t\\t\\t<a class=\"zoom-social_icons-list__link\" href=\"https://www.youtube.com/channel/UCXlweM44UogZ6tLOMMUqtkg/videos\" target=\"_blank\"   >\\n\\t\\t\\t\\t\\t\\t\\t\\t\\t\\t\\t\\t\\t\\t\\t\\t\\t\\t\\n                                                    <span class=\"screen-reader-text\">youtube</span>\\n                        \\n\\t\\t\\t\\t\\t\\t<span class=\"zoom-social_icons-list-span socicon socicon-youtube\" data-hover-rule=\"background-color\" data-hover-color=\"#e02a20\" style=\"background-color : #e02a20; font-size: 18px; padding:8px\"></span>\\n\\n\\t\\t\\t\\t\\t\\t\\t\\t\\t\\t\\t</a>\\n\\t\\t\\t\\t</li>\\n\\n\\t\\t\\t\\n\\t\\t\\t\\t\\t\\t\\t\\t<li class=\"zoom-social_icons-list__item\">\\n\\t\\t\\t\\t\\t<a class=\"zoom-social_icons-list__link\" href=\"https://www.instagram.com/pucitfcit/\" target=\"_blank\"   >\\n\\t\\t\\t\\t\\t\\t\\t\\t\\t\\t\\t\\t\\t\\t\\t\\t\\t\\t\\n                                                    <span class=\"screen-reader-text\">instagram</span>\\n                        \\n\\t\\t\\t\\t\\t\\t<span class=\"zoom-social_icons-list-span socicon socicon-instagram\" data-hover-rule=\"background-color\" data-hover-color=\"#E1306C\" style=\"background-color : #E1306C; font-size: 18px; padding:8px\"></span>\\n\\n\\t\\t\\t\\t\\t\\t\\t\\t\\t\\t\\t</a>\\n\\t\\t\\t\\t</li>\\n\\n\\t\\t\\t\\n\\t\\t\\t\\t\\t\\t\\t\\t<li class=\"zoom-social_icons-list__item\">\\n\\t\\t\\t\\t\\t<a class=\"zoom-social_icons-list__link\" href=\"https://www.linkedin.com/company/faculty-of-computing-and-information-technology/\" target=\"_blank\"   >\\n\\t\\t\\t\\t\\t\\t\\t\\t\\t\\t\\t\\t\\t\\t\\t\\t\\t\\t\\n                                                    <span class=\"screen-reader-text\">linkedin</span>\\n                        \\n\\t\\t\\t\\t\\t\\t<span class=\"zoom-social_icons-list-span socicon socicon-linkedin\" data-hover-rule=\"background-color\" data-hover-color=\"#3371b7\" style=\"background-color : #3371b7; font-size: 18px; padding:8px\"></span>\\n\\n\\t\\t\\t\\t\\t\\t\\t\\t\\t\\t\\t</a>\\n\\t\\t\\t\\t</li>\\n\\n\\t\\t\\t\\n\\t\\t</ul>\\n\\n\\t\\t                                            </div>\\n                                        </div>\\n                                        <div class=\"eltd_column column3\">\\n                                            <div class=\"column_inner\">\\n                                                <div class=\"textwidget custom-html-widget\"><a href=\"https://pucit.edu.pk/contact-us/\" class=\"\" style=\"\\r\\n    font-size: 17px;\\r\\n    color: White;\\r\\n    text-transform: uppercase;\\r\\n    font-weight: bold;\\r\\n\"><span class=\"item_inner\"><span class=\"menu_icon_wrapper\"><i class=\"menu_icon blank fa\"></i></span><span class=\"item_text\">Contact Us</span></span><span class=\"plus\"></span></a></div>                                            </div>\\n                                        </div>\\n                                    </div>\\n                                                                                </div>\\n\\t\\t\\t</div>\\n            \\t\\t\\n\\n\\t</div>\\n</footer>\\n</div> <!-- close div.wrapper_inner  -->\\n</div> <!-- close div.wrapper -->\\n<!-- ngg_resource_manager_marker --><script type=\\'text/javascript\\'>\\n/* <![CDATA[ */\\nvar eltdLike = {\"ajaxurl\":\"https:\\\\/\\\\/pucit.edu.pk\\\\/wp-admin\\\\/admin-ajax.php\"};\\n/* ]]> */\\n</script>\\n<script type=\\'text/javascript\\' src=\\'https://pucit.edu.pk/wp-content/themes/moose/js/eltd-like.js?ver=1.0\\'></script>\\n<script type=\\'text/javascript\\' src=\\'https://pucit.edu.pk/wp-includes/js/jquery/ui/core.min.js?ver=1.11.4\\'></script>\\n<script type=\\'text/javascript\\' src=\\'https://pucit.edu.pk/wp-includes/js/jquery/ui/widget.min.js?ver=1.11.4\\'></script>\\n<script type=\\'text/javascript\\' src=\\'https://pucit.edu.pk/wp-includes/js/jquery/ui/mouse.min.js?ver=1.11.4\\'></script>\\n<script type=\\'text/javascript\\' src=\\'https://pucit.edu.pk/wp-includes/js/jquery/ui/draggable.min.js?ver=1.11.4\\'></script>\\n<script type=\\'text/javascript\\' src=\\'https://pucit.edu.pk/wp-includes/js/jquery/ui/droppable.min.js?ver=1.11.4\\'></script>\\n<script type=\\'text/javascript\\' src=\\'https://pucit.edu.pk/wp-includes/js/jquery/ui/resizable.min.js?ver=1.11.4\\'></script>\\n<script type=\\'text/javascript\\' src=\\'https://pucit.edu.pk/wp-includes/js/jquery/ui/selectable.min.js?ver=1.11.4\\'></script>\\n<script type=\\'text/javascript\\' src=\\'https://pucit.edu.pk/wp-includes/js/jquery/ui/sortable.min.js?ver=1.11.4\\'></script>\\n<script type=\\'text/javascript\\' src=\\'https://pucit.edu.pk/wp-includes/js/jquery/ui/accordion.min.js?ver=1.11.4\\'></script>\\n<script type=\\'text/javascript\\' src=\\'https://pucit.edu.pk/wp-includes/js/jquery/ui/position.min.js?ver=1.11.4\\'></script>\\n<script type=\\'text/javascript\\' src=\\'https://pucit.edu.pk/wp-includes/js/jquery/ui/menu.min.js?ver=1.11.4\\'></script>\\n<script type=\\'text/javascript\\' src=\\'https://pucit.edu.pk/wp-includes/js/wp-a11y.min.js?ver=5.1.1\\'></script>\\n<script type=\\'text/javascript\\'>\\n/* <![CDATA[ */\\nvar uiAutocompleteL10n = {\"noResults\":\"No results found.\",\"oneResult\":\"1 result found. Use up and down arrow keys to navigate.\",\"manyResults\":\"%d results found. Use up and down arrow keys to navigate.\",\"itemSelected\":\"Item selected.\"};\\n/* ]]> */\\n</script>\\n<script type=\\'text/javascript\\' src=\\'https://pucit.edu.pk/wp-includes/js/jquery/ui/autocomplete.min.js?ver=1.11.4\\'></script>\\n<script type=\\'text/javascript\\' src=\\'https://pucit.edu.pk/wp-includes/js/jquery/ui/button.min.js?ver=1.11.4\\'></script>\\n<script type=\\'text/javascript\\' src=\\'https://pucit.edu.pk/wp-includes/js/jquery/ui/datepicker.min.js?ver=1.11.4\\'></script>\\n<script type=\\'text/javascript\\'>\\njQuery(document).ready(function(jQuery){jQuery.datepicker.setDefaults({\"closeText\":\"Close\",\"currentText\":\"Today\",\"monthNames\":[\"January\",\"February\",\"March\",\"April\",\"May\",\"June\",\"July\",\"August\",\"September\",\"October\",\"November\",\"December\"],\"monthNamesShort\":[\"Jan\",\"Feb\",\"Mar\",\"Apr\",\"May\",\"Jun\",\"Jul\",\"Aug\",\"Sep\",\"Oct\",\"Nov\",\"Dec\"],\"nextText\":\"Next\",\"prevText\":\"Previous\",\"dayNames\":[\"Sunday\",\"Monday\",\"Tuesday\",\"Wednesday\",\"Thursday\",\"Friday\",\"Saturday\"],\"dayNamesShort\":[\"Sun\",\"Mon\",\"Tue\",\"Wed\",\"Thu\",\"Fri\",\"Sat\"],\"dayNamesMin\":[\"S\",\"M\",\"T\",\"W\",\"T\",\"F\",\"S\"],\"dateFormat\":\"MM d, yy\",\"firstDay\":1,\"isRTL\":false});});\\n</script>\\n<script type=\\'text/javascript\\' src=\\'https://pucit.edu.pk/wp-includes/js/jquery/ui/dialog.min.js?ver=1.11.4\\'></script>\\n<script type=\\'text/javascript\\' src=\\'https://pucit.edu.pk/wp-includes/js/jquery/ui/effect.min.js?ver=1.11.4\\'></script>\\n<script type=\\'text/javascript\\' src=\\'https://pucit.edu.pk/wp-includes/js/jquery/ui/effect-blind.min.js?ver=1.11.4\\'></script>\\n<script type=\\'text/javascript\\' src=\\'https://pucit.edu.pk/wp-includes/js/jquery/ui/effect-bounce.min.js?ver=1.11.4\\'></script>\\n<script type=\\'text/javascript\\' src=\\'https://pucit.edu.pk/wp-includes/js/jquery/ui/effect-clip.min.js?ver=1.11.4\\'></script>\\n<script type=\\'text/javascript\\' src=\\'https://pucit.edu.pk/wp-includes/js/jquery/ui/effect-drop.min.js?ver=1.11.4\\'></script>\\n<script type=\\'text/javascript\\' src=\\'https://pucit.edu.pk/wp-includes/js/jquery/ui/effect-explode.min.js?ver=1.11.4\\'></script>\\n<script type=\\'text/javascript\\' src=\\'https://pucit.edu.pk/wp-includes/js/jquery/ui/effect-fade.min.js?ver=1.11.4\\'></script>\\n<script type=\\'text/javascript\\' src=\\'https://pucit.edu.pk/wp-includes/js/jquery/ui/effect-fold.min.js?ver=1.11.4\\'></script>\\n<script type=\\'text/javascript\\' src=\\'https://pucit.edu.pk/wp-includes/js/jquery/ui/effect-highlight.min.js?ver=1.11.4\\'></script>\\n<script type=\\'text/javascript\\' src=\\'https://pucit.edu.pk/wp-includes/js/jquery/ui/effect-pulsate.min.js?ver=1.11.4\\'></script>\\n<script type=\\'text/javascript\\' src=\\'https://pucit.edu.pk/wp-includes/js/jquery/ui/effect-size.min.js?ver=1.11.4\\'></script>\\n<script type=\\'text/javascript\\' src=\\'https://pucit.edu.pk/wp-includes/js/jquery/ui/effect-scale.min.js?ver=1.11.4\\'></script>\\n<script type=\\'text/javascript\\' src=\\'https://pucit.edu.pk/wp-includes/js/jquery/ui/effect-shake.min.js?ver=1.11.4\\'></script>\\n<script type=\\'text/javascript\\' src=\\'https://pucit.edu.pk/wp-includes/js/jquery/ui/effect-slide.min.js?ver=1.11.4\\'></script>\\n<script type=\\'text/javascript\\' src=\\'https://pucit.edu.pk/wp-includes/js/jquery/ui/effect-transfer.min.js?ver=1.11.4\\'></script>\\n<script type=\\'text/javascript\\' src=\\'https://pucit.edu.pk/wp-includes/js/jquery/ui/progressbar.min.js?ver=1.11.4\\'></script>\\n<script type=\\'text/javascript\\' src=\\'https://pucit.edu.pk/wp-includes/js/jquery/ui/slider.min.js?ver=1.11.4\\'></script>\\n<script type=\\'text/javascript\\' src=\\'https://pucit.edu.pk/wp-includes/js/jquery/ui/spinner.min.js?ver=1.11.4\\'></script>\\n<script type=\\'text/javascript\\' src=\\'https://pucit.edu.pk/wp-includes/js/jquery/ui/tabs.min.js?ver=1.11.4\\'></script>\\n<script type=\\'text/javascript\\' src=\\'https://pucit.edu.pk/wp-includes/js/jquery/ui/tooltip.min.js?ver=1.11.4\\'></script>\\n<script type=\\'text/javascript\\' src=\\'https://pucit.edu.pk/wp-includes/js/jquery/jquery.form.min.js?ver=4.2.1\\'></script>\\n<script type=\\'text/javascript\\' src=\\'https://pucit.edu.pk/wp-includes/js/mediaelement/wp-mediaelement.min.js?ver=5.1.1\\'></script>\\n<script type=\\'text/javascript\\' src=\\'https://pucit.edu.pk/wp-content/themes/moose/js/plugins/doubletaptogo.js?ver=5.1.1\\'></script>\\n<script type=\\'text/javascript\\' src=\\'https://pucit.edu.pk/wp-content/themes/moose/js/plugins/modernizr.min.js?ver=5.1.1\\'></script>\\n<script type=\\'text/javascript\\' src=\\'https://pucit.edu.pk/wp-content/themes/moose/js/plugins/jquery.appear.js?ver=5.1.1\\'></script>\\n<script type=\\'text/javascript\\' src=\\'https://pucit.edu.pk/wp-includes/js/hoverIntent.min.js?ver=1.8.1\\'></script>\\n<script type=\\'text/javascript\\' src=\\'https://pucit.edu.pk/wp-content/themes/moose/js/plugins/absoluteCounter.min.js?ver=5.1.1\\'></script>\\n<script type=\\'text/javascript\\' src=\\'https://pucit.edu.pk/wp-content/themes/moose/js/plugins/easypiechart.js?ver=5.1.1\\'></script>\\n<script type=\\'text/javascript\\' src=\\'https://pucit.edu.pk/wp-content/themes/moose/js/plugins/jquery.mixitup.min.js?ver=5.1.1\\'></script>\\n<script type=\\'text/javascript\\' src=\\'https://pucit.edu.pk/wp-content/themes/moose/js/plugins/jquery.nicescroll.min.js?ver=5.1.1\\'></script>\\n<script type=\\'text/javascript\\' src=\\'https://pucit.edu.pk/wp-content/themes/moose/js/plugins/jquery.prettyPhoto.js?ver=5.1.1\\'></script>\\n<script type=\\'text/javascript\\' src=\\'https://pucit.edu.pk/wp-content/themes/moose/js/plugins/jquery.fitvids.js?ver=5.1.1\\'></script>\\n<script type=\\'text/javascript\\' src=\\'https://pucit.edu.pk/wp-content/plugins/js_composer/assets/lib/bower/flexslider/jquery.flexslider-min.js?ver=5.7\\'></script>\\n<script type=\\'text/javascript\\' src=\\'https://pucit.edu.pk/wp-content/themes/moose/js/plugins/infiniteScroll.js?ver=5.1.1\\'></script>\\n<script type=\\'text/javascript\\' src=\\'https://pucit.edu.pk/wp-content/themes/moose/js/plugins/jquery.waitforimages.js?ver=5.1.1\\'></script>\\n<script type=\\'text/javascript\\' src=\\'https://pucit.edu.pk/wp-content/themes/moose/js/plugins/waypoints.min.js?ver=5.1.1\\'></script>\\n<script type=\\'text/javascript\\' src=\\'https://pucit.edu.pk/wp-content/themes/moose/js/plugins/jplayer.min.js?ver=5.1.1\\'></script>\\n<script type=\\'text/javascript\\' src=\\'https://pucit.edu.pk/wp-content/themes/moose/js/plugins/bootstrap.carousel.js?ver=5.1.1\\'></script>\\n<script type=\\'text/javascript\\' src=\\'https://pucit.edu.pk/wp-content/themes/moose/js/plugins/skrollr.js?ver=5.1.1\\'></script>\\n<script type=\\'text/javascript\\' src=\\'https://pucit.edu.pk/wp-content/themes/moose/js/plugins/Chart.min.js?ver=5.1.1\\'></script>\\n<script type=\\'text/javascript\\' src=\\'https://pucit.edu.pk/wp-content/themes/moose/js/plugins/jquery.easing.1.3.js?ver=5.1.1\\'></script>\\n<script type=\\'text/javascript\\' src=\\'https://pucit.edu.pk/wp-content/themes/moose/js/plugins/countdown.js?ver=5.1.1\\'></script>\\n<script type=\\'text/javascript\\' src=\\'https://pucit.edu.pk/wp-content/themes/moose/js/plugins/jquery.multiscroll.min.js?ver=5.1.1\\'></script>\\n<script type=\\'text/javascript\\' src=\\'https://pucit.edu.pk/wp-content/themes/moose/js/plugins/jquery.carouFredSel-6.2.1.js?ver=5.1.1\\'></script>\\n<script type=\\'text/javascript\\' src=\\'https://pucit.edu.pk/wp-content/themes/moose/js/plugins/jquery.fullPage.min.js?ver=5.1.1\\'></script>\\n<script type=\\'text/javascript\\' src=\\'https://pucit.edu.pk/wp-content/themes/moose/js/plugins/lemmon-slider.js?ver=5.1.1\\'></script>\\n<script type=\\'text/javascript\\' src=\\'https://pucit.edu.pk/wp-content/themes/moose/js/plugins/jquery.mousewheel.min.js?ver=5.1.1\\'></script>\\n<script type=\\'text/javascript\\' src=\\'https://pucit.edu.pk/wp-content/themes/moose/js/plugins/jquery.touchSwipe.min.js?ver=5.1.1\\'></script>\\n<script type=\\'text/javascript\\' src=\\'https://pucit.edu.pk/wp-content/plugins/js_composer/assets/lib/bower/isotope/dist/isotope.pkgd.min.js?ver=5.7\\'></script>\\n<script type=\\'text/javascript\\' src=\\'https://pucit.edu.pk/wp-content/themes/moose/js/plugins/typed.js?ver=5.1.1\\'></script>\\n<script type=\\'text/javascript\\' src=\\'https://pucit.edu.pk/wp-content/themes/moose/js/default_dynamic.js?ver=1556606065\\'></script>\\n<script type=\\'text/javascript\\' src=\\'https://pucit.edu.pk/wp-content/themes/moose/js/default.min.js?ver=5.1.1\\'></script>\\n<script type=\\'text/javascript\\' src=\\'https://pucit.edu.pk/wp-content/themes/moose/js/blog.min.js?ver=5.1.1\\'></script>\\n<script type=\\'text/javascript\\' src=\\'https://pucit.edu.pk/wp-content/themes/moose/js/plugins/TweenLite.min.js?ver=5.1.1\\'></script>\\n<script type=\\'text/javascript\\' src=\\'https://pucit.edu.pk/wp-content/themes/moose/js/plugins/ScrollToPlugin.min.js?ver=5.1.1\\'></script>\\n<script type=\\'text/javascript\\' src=\\'https://pucit.edu.pk/wp-content/themes/moose/js/plugins/smoothPageScroll.js?ver=5.1.1\\'></script>\\n<script type=\\'text/javascript\\' src=\\'https://pucit.edu.pk/wp-includes/js/comment-reply.min.js?ver=5.1.1\\'></script>\\n<script type=\\'text/javascript\\' src=\\'https://pucit.edu.pk/wp-content/plugins/js_composer/assets/js/dist/js_composer_front.min.js?ver=5.7\\'></script>\\n<script type=\\'text/javascript\\' src=\\'https://pucit.edu.pk/wp-content/plugins/social-icons-widget-by-wpzoom/assets/js/social-icons-widget-frontend.js?ver=20170209\\'></script>\\n<script type=\\'text/javascript\\' src=\\'https://pucit.edu.pk/wp-content/plugins/teampress/js/glightbox.min.js?ver=1.0\\'></script>\\n<script type=\\'text/javascript\\' src=\\'https://pucit.edu.pk/wp-content/plugins/teampress/js/jquery.nicescroll.min.js?ver=1.0\\'></script>\\n<script type=\\'text/javascript\\' src=\\'https://pucit.edu.pk/wp-includes/js/wp-embed.min.js?ver=5.1.1\\'></script>\\n</body>\\n</html>'\n"
     ]
    }
   ],
   "source": [
    "import urllib\n",
    "try:\n",
    "    link = \"https://pucit.edu.pk/\"\n",
    "    request_url = urllib.request.urlopen(link)\n",
    "    print(type(request_url))\n",
    "    print(request_url.read())\n",
    "except Exception as e:\n",
    "    print(str(e))"
   ]
  },
  {
   "cell_type": "code",
   "execution_count": null,
   "id": "99f26742",
   "metadata": {},
   "outputs": [],
   "source": []
  },
  {
   "cell_type": "markdown",
   "id": "da95afdf",
   "metadata": {},
   "source": [
    "### With Wrong URL"
   ]
  },
  {
   "cell_type": "code",
   "execution_count": null,
   "id": "78781da7",
   "metadata": {},
   "outputs": [],
   "source": [
    "import urllib\n",
    "try:\n",
    "    link = \"https://google1.com/\"\n",
    "    request_url = urllib.request.urlopen(link)\n",
    "    print(type(request_url))\n",
    "    print(request_url.status)\n",
    "    print(request_url.read())\n",
    "except Exception as e:\n",
    "    print(str(e))"
   ]
  },
  {
   "cell_type": "code",
   "execution_count": null,
   "id": "ae569385",
   "metadata": {},
   "outputs": [],
   "source": []
  },
  {
   "cell_type": "code",
   "execution_count": null,
   "id": "6a9d335f",
   "metadata": {},
   "outputs": [],
   "source": []
  },
  {
   "cell_type": "markdown",
   "id": "da51eeb9",
   "metadata": {},
   "source": [
    "## Create a GitHub Gist"
   ]
  },
  {
   "cell_type": "code",
   "execution_count": 34,
   "id": "c9c12e2a",
   "metadata": {},
   "outputs": [
    {
     "name": "stdout",
     "output_type": "stream",
     "text": [
      "https://raw.githubusercontent.com/ehtisham-sadiq/P0Q6R9S2-MLZone/main/Module%2002%20-%20Introduction%20to%20Python%20Programming/datasets/student.csv\n"
     ]
    }
   ],
   "source": [
    "url = \"https://raw.githubusercontent.com/ehtisham-sadiq/P0Q6R9S2-MLZone/main/Module%2002%20-%20Introduction%20to%20Python%20Programming/datasets/student.csv\"\n",
    "print(url)"
   ]
  },
  {
   "cell_type": "code",
   "execution_count": 35,
   "id": "054ea853",
   "metadata": {},
   "outputs": [
    {
     "name": "stdout",
     "output_type": "stream",
     "text": [
      "('myfile.csv', <http.client.HTTPMessage object at 0x10a429210>)\n"
     ]
    }
   ],
   "source": [
    "import urllib\n",
    "try:\n",
    "    dataset = urllib.request.urlretrieve(url,\"myfile.csv\")\n",
    "    print(dataset)\n",
    "except:\n",
    "    print(\"Invalid URL!\")"
   ]
  },
  {
   "cell_type": "code",
   "execution_count": 36,
   "id": "f5b69d1d",
   "metadata": {},
   "outputs": [
    {
     "name": "stdout",
     "output_type": "stream",
     "text": [
      "Fred,23,34,56\n",
      "Joe,99,45,56\n",
      "Jane,65,34,57\n",
      "Gigi,77,99,12\n",
      "Karla,76,84,45"
     ]
    }
   ],
   "source": [
    "!cat myfile.csv"
   ]
  },
  {
   "cell_type": "code",
   "execution_count": null,
   "id": "f282a39a",
   "metadata": {},
   "outputs": [],
   "source": []
  },
  {
   "cell_type": "code",
   "execution_count": null,
   "id": "7771c3b9",
   "metadata": {},
   "outputs": [],
   "source": []
  },
  {
   "cell_type": "markdown",
   "id": "025b1001",
   "metadata": {},
   "source": [
    "### With Wrong Path"
   ]
  },
  {
   "cell_type": "code",
   "execution_count": null,
   "id": "4e18fbd1",
   "metadata": {},
   "outputs": [],
   "source": [
    "url = \"https://raw.githubusercontent.com/ehtisham-sadiq/P0Q6R9S2-MLZone/main/Module%2002%20-%20Int1roduction%20to%20Python%20Programming/datasets/student.csv\"\n",
    "import urllib\n",
    "try:\n",
    "    dataset = urllib.request.urlretrieve(url,\"students.csv\")\n",
    "    print(dataset)\n",
    "except:\n",
    "    print(\"Invalid URL!\")"
   ]
  },
  {
   "cell_type": "code",
   "execution_count": null,
   "id": "834758db",
   "metadata": {},
   "outputs": [],
   "source": []
  },
  {
   "cell_type": "markdown",
   "id": "c040707d",
   "metadata": {},
   "source": [
    ">**The `urllib.request.urlopen()`, may return a URLError saying `SSL: CERTIFICATE_VERIFY_FAILED`. To handle this error set  the `_create_default_https_context` attribute of `ssl` to `_create_unverified_context`**"
   ]
  },
  {
   "cell_type": "code",
   "execution_count": 26,
   "id": "29a5f041",
   "metadata": {},
   "outputs": [],
   "source": [
    "import ssl\n",
    "ssl._create_default_https_context = ssl._create_unverified_context"
   ]
  },
  {
   "cell_type": "code",
   "execution_count": null,
   "id": "6eea4c4f",
   "metadata": {},
   "outputs": [],
   "source": []
  },
  {
   "cell_type": "markdown",
   "id": "38075fc1",
   "metadata": {},
   "source": [
    "### b. The   `urllib.request.urlretrieve()` Function\n",
    "- The `urllib.request.urlretrieve(url, filename=None)` method is used to retrieve a remote file into a temporary location on disk.\n",
    "- Let us download a public csv file from github gist"
   ]
  },
  {
   "cell_type": "code",
   "execution_count": null,
   "id": "89333523",
   "metadata": {},
   "outputs": [],
   "source": [
    "import os\n",
    "os.getcwd()"
   ]
  },
  {
   "cell_type": "code",
   "execution_count": null,
   "id": "8897314d",
   "metadata": {},
   "outputs": [],
   "source": []
  },
  {
   "cell_type": "code",
   "execution_count": null,
   "id": "2c6a656d",
   "metadata": {},
   "outputs": [],
   "source": [
    "Link = \"https://raw.githubusercontent.com/ehtisham-sadiq/P0Q6R9S2-MLZone/main/Module%2002%20-%20Introduction%20to%20Python%20Programming/datasets/names_addresses.txt\"\n",
    "Link"
   ]
  },
  {
   "cell_type": "code",
   "execution_count": null,
   "id": "52d9c88b",
   "metadata": {},
   "outputs": [],
   "source": [
    "import urllib\n",
    "dataset = urllib.request.urlretrieve(Link, 'details.txt')\n",
    "dataset"
   ]
  },
  {
   "cell_type": "code",
   "execution_count": null,
   "id": "b763f593",
   "metadata": {},
   "outputs": [],
   "source": [
    "os.listdir()"
   ]
  },
  {
   "cell_type": "code",
   "execution_count": null,
   "id": "2aadea15",
   "metadata": {},
   "outputs": [],
   "source": [
    "!cat details.txt"
   ]
  },
  {
   "cell_type": "code",
   "execution_count": null,
   "id": "4c8d322e",
   "metadata": {},
   "outputs": [],
   "source": []
  },
  {
   "cell_type": "code",
   "execution_count": null,
   "id": "87491b77",
   "metadata": {},
   "outputs": [],
   "source": []
  },
  {
   "cell_type": "code",
   "execution_count": null,
   "id": "6ae7b87f",
   "metadata": {},
   "outputs": [],
   "source": []
  },
  {
   "cell_type": "code",
   "execution_count": null,
   "id": "unauthorized-vegetarian",
   "metadata": {},
   "outputs": [],
   "source": []
  },
  {
   "cell_type": "code",
   "execution_count": null,
   "id": "e305f27f",
   "metadata": {},
   "outputs": [],
   "source": []
  },
  {
   "cell_type": "markdown",
   "id": "aa105473",
   "metadata": {},
   "source": [
    "## Check your Concepts\n",
    "\n",
    "Try answering the following questions to test your understanding of the topics covered in this notebook:\n",
    "\n",
    "1. What are modules in Python?\n",
    "2. What is a Python library?\n",
    "3. What is the Python Standard Library?\n",
    "4. What are some popular Python libraries?\n",
    "5. Where can you learn about the modules and functions available in the Python standard library?\n",
    "6. How do you install a third-party library?\n",
    "7. What is a module namespace? How is it useful?\n",
    "8. What problems would you run into if Python modules did not provide namespaces?\n",
    "9. How do you import a module?\n",
    "10. How do you use a function from an imported module? Illustrate with an example.\n",
    "11. What are some popular Python libraries?\n",
    "12. What is the purpose of the `os` module in Python?\n",
    "13. How do you identify the current working directory in a Jupyter notebook?\n",
    "14. How do you retrieve the list of files within a directory using Python?\n",
    "15. How do you create a directory using Python?\n",
    "16. How do you check whether a file or directory exists on the filesystem? Hint: `os.path.exists`.\n",
    "17. Where can you find the full list of functions contained in the `os` module?\n",
    "18. Give examples of 5 useful functions from the `os` and `os.path` modules.\n",
    "19. What are some popular Python libraries?\n"
   ]
  },
  {
   "cell_type": "markdown",
   "id": "81333f37",
   "metadata": {},
   "source": [
    "#### What is a Python library?\n",
    "- A Python library is a collection of related modules. \n",
    "- It contains bundles of code that can be used repeatedly in different programs. \n",
    "- It makes Python Programming simpler and convenient for the programmer. As we don’t need to write the same code again and again for different programs. \n",
    "- Python libraries play a very vital role in fields of Machine Learning, Data Science, Data Visualization, etc."
   ]
  },
  {
   "cell_type": "markdown",
   "id": "ff9f2d1b",
   "metadata": {},
   "source": [
    "### What is Python Standard Library?\n",
    "- The Python Standard Library is a collection of script modules accessible to a Python program to simplify the programming process and removing the need to rewrite commonly used commands. \n",
    "- They can be used by 'calling/importing' them at the beginning of a script."
   ]
  },
  {
   "cell_type": "code",
   "execution_count": null,
   "id": "fed6dc79",
   "metadata": {},
   "outputs": [],
   "source": []
  },
  {
   "cell_type": "code",
   "execution_count": null,
   "id": "b195ab72",
   "metadata": {},
   "outputs": [],
   "source": []
  },
  {
   "cell_type": "code",
   "execution_count": null,
   "id": "c7e7860f",
   "metadata": {},
   "outputs": [],
   "source": []
  },
  {
   "cell_type": "code",
   "execution_count": null,
   "id": "8b7b7cd8",
   "metadata": {},
   "outputs": [],
   "source": []
  },
  {
   "cell_type": "code",
   "execution_count": null,
   "id": "725bed49",
   "metadata": {},
   "outputs": [],
   "source": [
    "\n"
   ]
  },
  {
   "cell_type": "code",
   "execution_count": null,
   "id": "cde80539",
   "metadata": {},
   "outputs": [],
   "source": []
  },
  {
   "cell_type": "code",
   "execution_count": null,
   "id": "7603a75e",
   "metadata": {},
   "outputs": [],
   "source": []
  },
  {
   "cell_type": "code",
   "execution_count": 1,
   "id": "109c3cdc",
   "metadata": {},
   "outputs": [
    {
     "data": {
      "text/html": [
       "\n",
       "    <style>\n",
       "        body {\n",
       "            background-color: #f2fff2;\n",
       "        }\n",
       "        h1 {\n",
       "            text-align: center;\n",
       "            font-weight: bold;\n",
       "            font-size: 36px;\n",
       "            color: #4295F4;\n",
       "            text-decoration: underline;\n",
       "            padding-top: 15px;\n",
       "        }\n",
       "        \n",
       "        h2 {\n",
       "            text-align: left;\n",
       "            font-weight: bold;\n",
       "            font-size: 30px;\n",
       "            color: #4A000A;\n",
       "            text-decoration: underline;\n",
       "            padding-top: 10px;\n",
       "        }\n",
       "        \n",
       "        h3 {\n",
       "            text-align: left;\n",
       "            font-weight: bold;\n",
       "            font-size: 30px;\n",
       "            color: #f0081e;\n",
       "            text-decoration: underline;\n",
       "            padding-top: 5px;\n",
       "        }\n",
       "\n",
       "        \n",
       "        p {\n",
       "            text-align: center;\n",
       "            font-size: 12 px;\n",
       "            color: #0B9923;\n",
       "        }\n",
       "    </style>\n",
       "\n",
       "<h1>Hello</h1>\n",
       "<p>Hello World</p>\n",
       "<h2> Hello</h2>\n",
       "<h3> World </h3>\n"
      ],
      "text/plain": [
       "<IPython.core.display.HTML object>"
      ]
     },
     "execution_count": 1,
     "metadata": {},
     "output_type": "execute_result"
    }
   ],
   "source": [
    "from IPython.core.display import HTML\n",
    "\n",
    "style = \"\"\"\n",
    "    <style>\n",
    "        body {\n",
    "            background-color: #f2fff2;\n",
    "        }\n",
    "        h1 {\n",
    "            text-align: center;\n",
    "            font-weight: bold;\n",
    "            font-size: 36px;\n",
    "            color: #4295F4;\n",
    "            text-decoration: underline;\n",
    "            padding-top: 15px;\n",
    "        }\n",
    "        \n",
    "        h2 {\n",
    "            text-align: left;\n",
    "            font-weight: bold;\n",
    "            font-size: 30px;\n",
    "            color: #4A000A;\n",
    "            text-decoration: underline;\n",
    "            padding-top: 10px;\n",
    "        }\n",
    "        \n",
    "        h3 {\n",
    "            text-align: left;\n",
    "            font-weight: bold;\n",
    "            font-size: 30px;\n",
    "            color: #f0081e;\n",
    "            text-decoration: underline;\n",
    "            padding-top: 5px;\n",
    "        }\n",
    "\n",
    "        \n",
    "        p {\n",
    "            text-align: center;\n",
    "            font-size: 12 px;\n",
    "            color: #0B9923;\n",
    "        }\n",
    "    </style>\n",
    "\"\"\"\n",
    "\n",
    "html_content = \"\"\"\n",
    "<h1>Hello</h1>\n",
    "<p>Hello World</p>\n",
    "<h2> Hello</h2>\n",
    "<h3> World </h3>\n",
    "\"\"\"\n",
    "\n",
    "HTML(style + html_content)"
   ]
  },
  {
   "cell_type": "code",
   "execution_count": null,
   "id": "4d9456ce-2d4a-43b4-8519-c6ff1f4b6bcd",
   "metadata": {},
   "outputs": [],
   "source": []
  }
 ],
 "metadata": {
  "kernelspec": {
   "display_name": "Python 3 (ipykernel)",
   "language": "python",
   "name": "python3"
  },
  "language_info": {
   "codemirror_mode": {
    "name": "ipython",
    "version": 3
   },
   "file_extension": ".py",
   "mimetype": "text/x-python",
   "name": "python",
   "nbconvert_exporter": "python",
   "pygments_lexer": "ipython3",
   "version": "3.11.7"
  }
 },
 "nbformat": 4,
 "nbformat_minor": 5
}
