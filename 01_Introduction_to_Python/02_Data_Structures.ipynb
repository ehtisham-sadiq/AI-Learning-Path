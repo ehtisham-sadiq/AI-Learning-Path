{
 "cells": [
  {
   "cell_type": "markdown",
   "id": "59fa90c0-52fa-444f-90c9-2bc33caf699e",
   "metadata": {},
   "source": [
    "\n",
    "<h1> Python Built-in Data structures and Control Structures </h1>"
   ]
  },
  {
   "cell_type": "markdown",
   "id": "f9b4e082-49f8-4e48-aafd-d2510db88921",
   "metadata": {},
   "source": [
    "### Learning agenda of this notebook\n",
    "\n",
    "\n",
    "- **Python Indentation**\n",
    "- **Mutable vs Immutable**\n",
    "- **String Data Structure**\n",
    "    - Defining Strings in the Python\n",
    "    - Accessing characters  of  a  String (Indexing)\n",
    "    - Strings  are  immutable(Reassigning String)\n",
    "    - Strings  Slicing \n",
    "    - String  Concatenation\n",
    "    - Create large Strings\n",
    "    - Operations on string Data structure\n",
    "    - Strings method\n",
    "    - String  Deletion\n",
    "    - String Membership test\n",
    "- **List Data Structure**\n",
    "    - How to create lists?\n",
    "    - Proof of concepts: Lists are heterogeneous, ordered, mutable, nested, and allow duplicate elements\n",
    "    - Different ways to access list elements\n",
    "    - Slicing Lists\n",
    "    - List concatenation and repetition\n",
    "    - Modifying/Adding elements to a List using `append()`, `extend()`, and `insert()` methods\n",
    "    - Removing elements from a list using `pop()` and `remove()` methods\n",
    "    - Converting string object to list and vice-versa (using type casting, `split()` and `join()`)\n",
    "    - Aliasing vs Shallow Copy vs Deep Copy\n",
    "    - Sorting a list and Custom sorting\n",
    "- **Branching with `if`, `else`, and `elif`**\n",
    "- **The `pass` statement**"
   ]
  },
  {
   "cell_type": "code",
   "execution_count": 13,
   "id": "6008ace9-46f7-43f0-bdc8-c3422ec96193",
   "metadata": {},
   "outputs": [],
   "source": [
    "str1 = \"I'm a student of SE\"\n",
    "str2 = str1.replace(\"SE\",\"CS\")"
   ]
  },
  {
   "cell_type": "code",
   "execution_count": 17,
   "id": "0965a9ff-84e6-4d26-bd67-7ca85bad8511",
   "metadata": {},
   "outputs": [
    {
     "data": {
      "text/plain": [
       "\"I'm a student of SEI'm a student of CS23\""
      ]
     },
     "execution_count": 17,
     "metadata": {},
     "output_type": "execute_result"
    }
   ],
   "source": [
    "str1 + str2 + str(23)"
   ]
  },
  {
   "cell_type": "code",
   "execution_count": 20,
   "id": "af6fbd2a-afb8-4762-94a0-5067940ebdf1",
   "metadata": {},
   "outputs": [
    {
     "name": "stdout",
     "output_type": "stream",
     "text": [
      "I'm a student of SE\n",
      "I'm a student of CS\n"
     ]
    }
   ],
   "source": [
    "print(str1, str2, sep=\"\\n\")"
   ]
  },
  {
   "cell_type": "markdown",
   "id": "5a272bcf-7667-4e33-80cf-c94236c5b127",
   "metadata": {},
   "source": [
    "#### Recap:\n",
    "- **Introduction to Python(Why, and what Python)**\n",
    "- **Code Editor and IDE, why jupyter Notebook?**\n",
    "- **Variables in Python**\n",
    "- **Datatypes**\n",
    "- **Comments in Python**\n",
    "- **Type Casting**\n",
    "- **Operators in Python**"
   ]
  },
  {
   "cell_type": "code",
   "execution_count": null,
   "id": "cb34a3c2-9afa-4b45-a09b-0c92720386fa",
   "metadata": {},
   "outputs": [],
   "source": [
    "int(\"20a\", base=9)"
   ]
  },
  {
   "cell_type": "code",
   "execution_count": null,
   "id": "78e72725-ec9e-43e6-bbd2-ce42200e74f5",
   "metadata": {},
   "outputs": [],
   "source": []
  },
  {
   "cell_type": "code",
   "execution_count": null,
   "id": "5874942f-4a2a-4cd0-b8cc-260fe3779c4c",
   "metadata": {},
   "outputs": [],
   "source": []
  },
  {
   "cell_type": "markdown",
   "id": "5739e9da-d10d-483a-ae20-488232cf0ccf",
   "metadata": {},
   "source": [
    "## Python Expression, Statements and Indentation\n",
    "\n",
    "> **Expressions and Statements**: An expression is some code that evaluates to a value. As a rule of thumb, an expression is anything that can appear on the right side of the assignment operator `=`. On the contrary a statement is an instruction that can be executed. \n",
    "\n",
    "> **Python Indentation**:\n",
    ">- Most programming languages like C, C++, Java use braces { } to define a block of code. \n",
    ">- Python use indentation to tell the interpreter that the group of statements belongs to a particular block of code. \n",
    ">- Python uses 4 spaces as indentation by default. However, the number of spaces is up to you, but a minimum of 1 space has to be used. \n",
    ">- Pressing `Tab` in a Jupyter notebook cell, will indent the code by 4 spaces, and pressing `Shift+Tab` will reduce the indentation by 4 spaces. \n",
    "\n",
    "\n",
    "<br>\n",
    "<br>\n",
    "<img src=\"images/indentation.jpg\" height=700px width=700px>"
   ]
  },
  {
   "cell_type": "code",
   "execution_count": null,
   "id": "de902188-97cb-49ae-a80b-1852f3f206e9",
   "metadata": {},
   "outputs": [],
   "source": [
    "age = 20\n",
    "if age >= 28:\n",
    "    print(\"Voted\")\n",
    "else:\n",
    "    print(\"Not Voted\")\n",
    "    \n",
    "if age == 20:\n",
    "    print(\"Yes\")"
   ]
  },
  {
   "cell_type": "code",
   "execution_count": null,
   "id": "f7a0baea-60fe-4905-9c33-1d2a7636e38e",
   "metadata": {},
   "outputs": [],
   "source": [
    "# == (Values comp) , is (Object References)"
   ]
  },
  {
   "cell_type": "code",
   "execution_count": null,
   "id": "d5f74a13-0662-4ce6-8cc2-b7885ec494fd",
   "metadata": {},
   "outputs": [],
   "source": []
  },
  {
   "cell_type": "markdown",
   "id": "50588f91-e177-4184-9613-c9c298b8b23a",
   "metadata": {},
   "source": [
    "## Mutable vs Immutable\n",
    "<img src=\"images/datatypes1.png\" height=700px width=700px>"
   ]
  },
  {
   "cell_type": "code",
   "execution_count": null,
   "id": "c81856eb-e76f-46f9-bd0e-4ba5956efd27",
   "metadata": {},
   "outputs": [],
   "source": []
  },
  {
   "cell_type": "markdown",
   "id": "2eaff226-2a63-411e-8397-e566b685e8d9",
   "metadata": {},
   "source": [
    "#### Numbers:\n",
    "Number stores numeric values. The `integer`, `float`, and `complex` values belong to a Python `Numbers` data-type. Python provides the `type()` function to know the data-type of the variable.\n",
    "\n",
    "\n",
    "<img src=\"images/numbers-in-python--image.webp\" height=700px width=700px>\n",
    "\n",
    "\n",
    "\n",
    "\n",
    "Python supports three types of numeric data.\n",
    "\n",
    "1. **Int** - Integer value can be any length such as integers 10, 2, 29, -20, -150 etc. Python has no restriction on the length of an integer. Its value belongs to int\n",
    "2. **Float** - Float is used to store floating-point numbers like 1.9, 9.902, 15.2, etc. It is accurate upto 15 decimal points.\n",
    "3. **complex** - A complex number contains an ordered pair, i.e., x + iy where x and y denote the real and imaginary parts, respectively. The complex numbers like 2.14j, 2.0 + 2.3j, etc.\n",
    "4. **Boolean:** Also known as bool data type allows us to choose between two values: True and False. Booleans have the type bool. A Boolean is used to determine whether the logic of an expression or a comparison is correct. It plays a huge role in data comparisons."
   ]
  },
  {
   "cell_type": "code",
   "execution_count": null,
   "id": "933450d2-c6c9-4067-aa8d-34f28e157b43",
   "metadata": {},
   "outputs": [],
   "source": [
    "a = 5  \n",
    "print(\"The type of a\", type(a))  \n",
    "  \n",
    "b = 40.5  \n",
    "print(\"The type of b\", type(b))  \n",
    "  \n",
    "c = 1+3j  \n",
    "print(\"The type of c\", type(c))  "
   ]
  },
  {
   "cell_type": "code",
   "execution_count": null,
   "id": "0c3724c8-530a-4d04-a289-e96e188fd534",
   "metadata": {},
   "outputs": [],
   "source": [
    "# ==, != <, >, >=, <= comparsion operators"
   ]
  },
  {
   "cell_type": "code",
   "execution_count": null,
   "id": "1905e299-b112-4b18-a3b1-84958fc30a83",
   "metadata": {},
   "outputs": [],
   "source": [
    "result = 5 < 2\n",
    "print(result)\n",
    "print(type(result))"
   ]
  },
  {
   "cell_type": "code",
   "execution_count": null,
   "id": "83f5ce0f-5f11-4113-8aa0-303bd09e372b",
   "metadata": {},
   "outputs": [],
   "source": [
    "# In Python, True represents the value as 1 or other than 0 and False as 0. \n",
    "print(bool(1))\n",
    "print(bool(0))\n",
    "\n",
    "print(bool(True))\n",
    "print(bool(False))\n",
    "\n",
    "print(bool(-100))\n",
    "print(bool('ehtisham'))"
   ]
  },
  {
   "cell_type": "markdown",
   "id": "4f09f338-e013-4783-ad8d-18e5cf6fc484",
   "metadata": {},
   "source": [
    "#### **Test Yourself**\n",
    "- What are the data types of the results of the division operators `/` and `//`?\n",
    "- What kind of data does the Boolean data type represent?\n",
    "- Which types of Python operators return booleans as a result?\n",
    "- What happens if you try to use a boolean in arithmetic operation?\n",
    "- How can any value in Python be covered to a boolean?"
   ]
  },
  {
   "cell_type": "code",
   "execution_count": null,
   "id": "69283506-5658-4463-aae3-ccb76a2ff912",
   "metadata": {},
   "outputs": [],
   "source": [
    "# Which types of Python operators return booleans as a result?\n",
    "# - Comparison Operators\n",
    "# - Logical Operations\n",
    "# - Membership\n",
    "# - Identity"
   ]
  },
  {
   "cell_type": "code",
   "execution_count": null,
   "id": "9204214e-f267-4b8b-90c9-0ee75095a757",
   "metadata": {},
   "outputs": [],
   "source": [
    "# True + 100, False*100"
   ]
  },
  {
   "cell_type": "code",
   "execution_count": null,
   "id": "847f47a8-0059-460d-bcd6-3f9ff898adcd",
   "metadata": {},
   "outputs": [],
   "source": [
    "# bool('')"
   ]
  },
  {
   "cell_type": "code",
   "execution_count": null,
   "id": "bd947622-b99a-4f72-b48f-e00fb675e752",
   "metadata": {},
   "outputs": [],
   "source": [
    "92 + False"
   ]
  },
  {
   "cell_type": "code",
   "execution_count": null,
   "id": "65898845-e7e9-4503-93f6-bfc09bfb323b",
   "metadata": {},
   "outputs": [],
   "source": [
    "-10 // 4"
   ]
  },
  {
   "cell_type": "markdown",
   "id": "b1d8074e-ded3-445c-b5dd-425f0cda35be",
   "metadata": {},
   "source": [
    "<h2  > String Data Structure </h2>\n",
    "\n",
    "\n",
    "- What is Data  Structure?\n",
    "- String Data Structure\n",
    "- Accessing characters  of  a  String (Indexing)\n",
    "- Strings  are  immutable(Reassigning String)\n",
    "- Strings  Slicing \n",
    "- String  Concatenation\n",
    "- Create large Strings\n",
    "- Operations on string Data structure\n",
    "- Strings method\n",
    "    - `lower()`, `upper()`, `strip()`, `startswith()`, `endswith()`, `split()`, `join()`, `find()`, `replace()`, `format()`, `len()`, `min()`, `max()`, `sorted()`, `title()/capitalize`, `swapcase()`, `count()`, `find()`, `index()`, `isalnum() / isalpha()`, `isdigit()`, \n",
    "- String  Deletion\n",
    "- String Membership test\n",
    "\n"
   ]
  },
  {
   "cell_type": "markdown",
   "id": "85aefe43-5ae9-434f-b026-ff1fb28f0f39",
   "metadata": {},
   "source": [
    "### What is Data Structure?\n",
    "\n",
    "\n",
    "- Data structure is a particular way of storing and organizing data in a computer so that it can be used efficiently. A data structure is a special format for organizing and storing data .\n",
    "\n",
    "\n",
    "<img src=\"images/data_structure.gif\" height=500px width=500px align=\"center\">"
   ]
  },
  {
   "cell_type": "markdown",
   "id": "b6b186a0-9c12-4295-a5bd-d32a959a4a16",
   "metadata": {},
   "source": [
    "### String Data Structure\n",
    "\n",
    "\n",
    "- Python string is the collection of the characters surrounded by single quotes, double quotes, or triple quotes.\n",
    "\n",
    "<img src=\"images/Ways-to-declare-a-string-In-Python-1024x576.png\" height=600px width=600px align ='left'>\n",
    "<img src=\"images/string-ds.gif\" height=400px width=400px right=\"right\">"
   ]
  },
  {
   "cell_type": "code",
   "execution_count": null,
   "id": "a04b52b5-4cb5-417d-a4aa-e8ba5f37cfe4",
   "metadata": {},
   "outputs": [],
   "source": [
    "str1 = \"Ehtisham\"\n",
    "str2 = 'Ehtisham'\n",
    "str3 = \"\"\"Ehtisham\"\"\""
   ]
  },
  {
   "cell_type": "code",
   "execution_count": null,
   "id": "0353f94c-4053-4077-b1d9-5832409f6dc0",
   "metadata": {},
   "outputs": [],
   "source": [
    "print(type(str1))\n",
    "print(type(str2))\n",
    "print(type(str3))"
   ]
  },
  {
   "cell_type": "code",
   "execution_count": null,
   "id": "15e6e536-94cb-4ce4-9ba0-74b53217e6b9",
   "metadata": {},
   "outputs": [],
   "source": [
    "# triple quotes string can extend multiple lines\n",
    "\n",
    "string5 = \"\"\"Hello, This is\n",
    "            multi-line string\"\"\"\n",
    "print(string5)\n",
    "\n",
    "string5 = '''Hello, This is\n",
    "            multi-line string'''\n",
    "print(string5)"
   ]
  },
  {
   "cell_type": "code",
   "execution_count": null,
   "id": "445fe56a-3c11-442b-8a6a-a964878d7e13",
   "metadata": {},
   "outputs": [],
   "source": []
  },
  {
   "cell_type": "code",
   "execution_count": null,
   "id": "68786bed-f83c-4aa1-939c-a5e0a699ac7a",
   "metadata": {},
   "outputs": [],
   "source": [
    "# Be careful with quotes!\n",
    "'I' m using single quotes, but will create an error'"
   ]
  },
  {
   "cell_type": "markdown",
   "id": "57af8923-c147-4d18-b0bf-fd4c8794d16c",
   "metadata": {},
   "source": [
    "> The reason for the error above is because the single quote in `I'm` stopped the string. You can use combinations of double and single quotes to get the complete statement."
   ]
  },
  {
   "cell_type": "code",
   "execution_count": null,
   "id": "ddb857f0-30b0-409f-b7a0-37e6aac7e859",
   "metadata": {},
   "outputs": [],
   "source": [
    "# Be careful with quotes!\n",
    "\"I'm using single quotes, but will create an error\""
   ]
  },
  {
   "cell_type": "code",
   "execution_count": null,
   "id": "bada3836-0ee6-4c31-a5eb-dae7ec22fc41",
   "metadata": {},
   "outputs": [],
   "source": []
  },
  {
   "cell_type": "markdown",
   "id": "55c1a04b-a141-49f8-a1f5-a154895ad994",
   "metadata": {},
   "source": [
    "### **Indexing**: Accessing Characters of a String\n",
    "\n",
    "Like other languages, the indexing of the Python strings starts from 0. Since string is of type sequence, and any component within a sequence can be accessed by entrying an `index within square brackets`. So naturally this work for strings as well List.\n",
    "For example, The string \"HELLO\" is indexed as given in the below figure.\n",
    "\n",
    "![](images/2.png)\n",
    "\n",
    "\n",
    "As shown in Python, the `slice operator []` is used to access the individual characters of the string. However, we can use the `: (colon)` operator in Python to access the substring from the given string. Consider the following example.\n",
    "### Syntax:    \n",
    "**str[start:end-1]**"
   ]
  },
  {
   "cell_type": "code",
   "execution_count": null,
   "id": "ccfa513d-ae1a-4086-80b9-58d85d84bcd5",
   "metadata": {},
   "outputs": [],
   "source": [
    "string = \"HELLO\"  \n",
    "print(len(string)) "
   ]
  },
  {
   "cell_type": "code",
   "execution_count": null,
   "id": "c3d1701d-1d0f-4fa5-a78c-32f44bfa69d6",
   "metadata": {},
   "outputs": [],
   "source": [
    "print(string[0])  \n",
    "print(string[1])  \n",
    "print(string[2])  \n",
    "print(string[3])  \n",
    "print(string[4]) "
   ]
  },
  {
   "cell_type": "code",
   "execution_count": null,
   "id": "31f564da-fcba-429c-8627-b86a22a462b2",
   "metadata": {},
   "outputs": [],
   "source": [
    "# It returns the IndexError because 6th index doesn't exist  \n",
    "print(string[6])\n",
    "# 1-4"
   ]
  },
  {
   "cell_type": "markdown",
   "id": "ce097f45-f7ed-4066-a1ee-c7d1c8963f0d",
   "metadata": {},
   "source": [
    "![](images/3.png)\n",
    "\n",
    "Here, we must notice that the upper range given in the slice operator is always exclusive i.e., if str = 'HELLO' is given, then `str[1:3]` will always include `str[1] = 'E'`, `str[2] = 'L'` and nothing else."
   ]
  },
  {
   "cell_type": "code",
   "execution_count": null,
   "id": "e07706c6-47cb-49f4-9be5-1acd1eef1e0d",
   "metadata": {},
   "outputs": [],
   "source": [
    "string2 = \"Dua Sadiq\"  \n",
    "print(len(string2))"
   ]
  },
  {
   "cell_type": "code",
   "execution_count": null,
   "id": "d9dbf0fc-4a48-4734-8895-092ca0fbcb93",
   "metadata": {},
   "outputs": [],
   "source": [
    "# Start Oth index to end  \n",
    "print(string2[0:])  \n",
    "\n",
    "# Starts 1th index to 4th index  \n",
    "print(string2[1:5])  \n",
    "\n",
    "# Starts 2nd index to 3rd index  \n",
    "print(string2[2:4])  \n",
    "\n",
    "# Starts 0th to 2nd index  \n",
    "print(string2[:3])  \n",
    "\n",
    "#Starts 4th to 6th index  \n",
    "print(string2[4:7])  "
   ]
  },
  {
   "cell_type": "markdown",
   "id": "48a342c2-62bb-4780-a1ea-da994f4e2d92",
   "metadata": {},
   "source": [
    "We can do the negative slicing in the string; it starts from the rightmost character, which is indicated as -1. The second rightmost index indicates -2, and so on.\n",
    "\n",
    "\n",
    "![](images/4.png)"
   ]
  },
  {
   "cell_type": "code",
   "execution_count": null,
   "id": "539c9758-eee9-4a7e-b528-f9bd28ad0a42",
   "metadata": {},
   "outputs": [],
   "source": [
    "string3 = 'Ali Sadiq'  \n",
    "print(len(string3))\n",
    "print(string3[-1])  \n",
    "print(string3[-3])  \n",
    "print(string3[-2:])  \n",
    "print(string3[-4:-1])  \n",
    "print(string3[-7:-2])  "
   ]
  },
  {
   "cell_type": "code",
   "execution_count": null,
   "id": "789af1bb-9832-4e6e-9af3-98e074c502d9",
   "metadata": {},
   "outputs": [],
   "source": [
    "# Reversing the given string  \n",
    "print(string3[::-1])  "
   ]
  },
  {
   "cell_type": "code",
   "execution_count": null,
   "id": "f75af799-841c-4716-b78e-5ca5d8aeeabc",
   "metadata": {},
   "outputs": [],
   "source": [
    "name = \"Ehtisham Sadiq\"\n",
    "# output: \"mahsithE qidaS\""
   ]
  },
  {
   "cell_type": "code",
   "execution_count": null,
   "id": "ab3b4052-1c45-4552-a48c-87f239b0082a",
   "metadata": {},
   "outputs": [],
   "source": [
    "print(string3[-12])"
   ]
  },
  {
   "cell_type": "markdown",
   "id": "e0fcced7-f702-40ec-acf9-8490077d25fe",
   "metadata": {},
   "source": [
    "###  Strings are immutable/ Reassigning Strings\n",
    "Updating the content of the strings is as easy as assigning it to a new string. `The string object doesn't support item assignment` i.e., A string can only be replaced with new string since its content cannot be partially replaced. Strings are immutable in Python."
   ]
  },
  {
   "cell_type": "code",
   "execution_count": null,
   "id": "854e2129-6e79-4f85-8bca-ae82116d6505",
   "metadata": {},
   "outputs": [],
   "source": [
    "str1 = \"Ayesha Sadiq\"\n",
    "str1[3] = \"M\"\n",
    "print(str1)"
   ]
  },
  {
   "cell_type": "code",
   "execution_count": null,
   "id": "b8b0fab4-0f82-4bac-bdde-59a030f287a2",
   "metadata": {},
   "outputs": [],
   "source": [
    "str1.replace(\"s\", \"M\")"
   ]
  },
  {
   "cell_type": "code",
   "execution_count": null,
   "id": "608745eb-ad19-4ae2-9c94-21bbba766144",
   "metadata": {},
   "outputs": [],
   "source": [
    "#assigning a new value is valid\n",
    "print(id(str1))\n",
    "str1 = 'python'\n",
    "print(id(str1))"
   ]
  },
  {
   "cell_type": "markdown",
   "id": "e63336a6-45e4-4b46-a8f2-9f8be4f065f9",
   "metadata": {},
   "source": [
    "The object `Ayesha Sadiq` is now orphan, since there is no variable referring to it now and will be collected by Python garbage collector."
   ]
  },
  {
   "cell_type": "code",
   "execution_count": null,
   "id": "7b01e91a-4414-43eb-8f32-46dd2bef379e",
   "metadata": {},
   "outputs": [],
   "source": []
  },
  {
   "cell_type": "markdown",
   "id": "43e673f4-a259-436b-a218-668ef4e37d61",
   "metadata": {},
   "source": [
    "###  String Slicing\n",
    "- Slicing is the process of obtaining a portion (substring) of a string by using its indices.\n",
    "- Given a string, we can use the following syntax to slice it and obtain a substring:\n",
    "```\n",
    "string[start:end]\n",
    "```\n",
    "- **start** is the index from where we want the substring to start. If start is not provided, slicing starts from the beginning.\n",
    "- **end** is the index where we want our substring to end (not inclusive in the substring). If end is not provided, slicing goes till the end of the string (includes the last character of the string).\n",
    "\n",
    "\n",
    "<img src=\"images/Python-String.png\" height=500px width=500px>"
   ]
  },
  {
   "cell_type": "markdown",
   "id": "3d3a886b-2093-4427-af2a-47fa21b5aacb",
   "metadata": {},
   "source": [
    "- `var[:]` -> Full string return\n",
    "- `var[0:]` -> Full string return\n",
    "- `var[:len(string)]` -> Full string return \n",
    "- `var[::-1]` -> Full reverse string return"
   ]
  },
  {
   "cell_type": "code",
   "execution_count": null,
   "id": "72ae4024-427d-46d1-8e2a-12183c9c40be",
   "metadata": {},
   "outputs": [],
   "source": [
    "str1 = 'Introductiontodatasciencewithusingpython'\n",
    "print(len(str1))"
   ]
  },
  {
   "cell_type": "code",
   "execution_count": null,
   "id": "67c0db36-20cb-4317-8f10-9bc89103ef0f",
   "metadata": {},
   "outputs": [],
   "source": [
    "print(str1[::])  # A default step of 1\n"
   ]
  },
  {
   "cell_type": "code",
   "execution_count": null,
   "id": "3509ae87-b2a3-478d-ba22-031435b4a43a",
   "metadata": {},
   "outputs": [],
   "source": [
    "print(str1[::1])  "
   ]
  },
  {
   "cell_type": "code",
   "execution_count": null,
   "id": "f5e4b765-d7ce-4cf4-b4dc-b0c1f732385a",
   "metadata": {},
   "outputs": [],
   "source": [
    "print(str1)\n",
    "print(str1[::2])  # A step of 2"
   ]
  },
  {
   "cell_type": "code",
   "execution_count": null,
   "id": "b358d604-c1fb-46c9-91cb-9444441de445",
   "metadata": {},
   "outputs": [],
   "source": [
    "print(str1)\n",
    "print(str1[10:30:3])  # A step of 2"
   ]
  },
  {
   "cell_type": "markdown",
   "id": "f54535f9-7dbd-4b9f-9d32-09c9d90b51df",
   "metadata": {},
   "source": [
    "### String Concatenation\n",
    "- Two strings can be joined or concatenated using the `+` operator"
   ]
  },
  {
   "cell_type": "code",
   "execution_count": null,
   "id": "054a9f3f-08ac-4d38-aab3-80908a059c96",
   "metadata": {},
   "outputs": [],
   "source": []
  },
  {
   "cell_type": "markdown",
   "id": "967b9c91-8704-43e2-ba35-d175c16c6adc",
   "metadata": {},
   "source": [
    "### Creating large strings\n",
    "- A string can be replicated/repeated using the `*` operator"
   ]
  },
  {
   "cell_type": "code",
   "execution_count": null,
   "id": "019aa314-8309-4bfc-84f9-adcd3c00cb79",
   "metadata": {},
   "outputs": [],
   "source": [
    "str2 = \"Ehtisham\"\n",
    "print(str2 * 10)"
   ]
  },
  {
   "cell_type": "markdown",
   "id": "e5d879c3-8464-4176-9b4b-a9b75d6a14df",
   "metadata": {},
   "source": [
    "###  Operations on String Data Structure \n",
    "\n",
    "\n",
    "|Operator|Description|\n",
    "|--------|-----------|\n",
    "|+|It is known as concatenation operator used to join the strings given either side of the operator. |\n",
    "|*|It is known as repetition operator. It concatenates the multiple copies of the same string. |\n",
    "|[]|It is known as slice operator. It is used to access the sub-strings of a particular string. |\n",
    "|[:]|It is known as range slice operator. It is used to access the characters from the specified range. |\n",
    "|in|It is known as membership operator. It returns if a particular sub-string is present in the specified string. |\n",
    "|not in |It is also a membership operator and does the exact reverse of in. It returns true if a particular substring is not present in the specified string. |\n"
   ]
  },
  {
   "cell_type": "markdown",
   "id": "371c2ff2-dccd-4686-b698-2a7d538e6a9e",
   "metadata": {},
   "source": [
    "### String Membership test using `in` operator"
   ]
  },
  {
   "cell_type": "code",
   "execution_count": null,
   "id": "97547c42-ec15-459d-9832-b654cb8250d0",
   "metadata": {},
   "outputs": [],
   "source": [
    "'a' in 'DataScience'\n",
    "# if \"a\" in str1:\n",
    "    # print(\"Yes\")"
   ]
  },
  {
   "cell_type": "code",
   "execution_count": null,
   "id": "7edf4225-1433-4988-9d83-eb70bb0e6394",
   "metadata": {},
   "outputs": [],
   "source": [
    "'thf' not in 'python'"
   ]
  },
  {
   "cell_type": "markdown",
   "id": "c2d3312b-7613-4c1b-97eb-7930e942ce43",
   "metadata": {},
   "source": [
    "### String Deletion\n",
    "As we know that strings are immutable. We cannot delete or remove the characters from the string.  But we can delete the entire string using the `del` keyword."
   ]
  },
  {
   "cell_type": "markdown",
   "id": "faa341af-5998-4272-9dd6-82867ad2af2f",
   "metadata": {},
   "source": [
    "###  Comparing two strings using `is` operator and `==` operator"
   ]
  },
  {
   "cell_type": "code",
   "execution_count": 21,
   "id": "4dd2d373-9ebd-4714-ba3d-6c1e8b82def8",
   "metadata": {},
   "outputs": [
    {
     "name": "stderr",
     "output_type": "stream",
     "text": [
      "<>:1: SyntaxWarning: \"is\" with a literal. Did you mean \"==\"?\n",
      "<>:1: SyntaxWarning: \"is\" with a literal. Did you mean \"==\"?\n",
      "/var/folders/qb/lf_2q09x7wj115gvfnkv6tkm0000gn/T/ipykernel_87948/2784403596.py:1: SyntaxWarning: \"is\" with a literal. Did you mean \"==\"?\n",
      "  \"ali\" is \"ALI\", \"ali\" == \"ALI\"\n"
     ]
    },
    {
     "data": {
      "text/plain": [
       "(False, False)"
      ]
     },
     "execution_count": 21,
     "metadata": {},
     "output_type": "execute_result"
    }
   ],
   "source": [
    "\"ali\" is \"ALI\", \"ali\" == \"ALI\""
   ]
  },
  {
   "cell_type": "code",
   "execution_count": 23,
   "id": "57f9b43e-5fe3-4ef8-87bd-aff205f382aa",
   "metadata": {},
   "outputs": [
    {
     "name": "stdout",
     "output_type": "stream",
     "text": [
      "Yes\n",
      "NO\n",
      "NO\n"
     ]
    },
    {
     "name": "stderr",
     "output_type": "stream",
     "text": [
      "<>:1: SyntaxWarning: \"is\" with a literal. Did you mean \"==\"?\n",
      "<>:1: SyntaxWarning: \"is\" with a literal. Did you mean \"==\"?\n",
      "/var/folders/qb/lf_2q09x7wj115gvfnkv6tkm0000gn/T/ipykernel_87948/3900937.py:1: SyntaxWarning: \"is\" with a literal. Did you mean \"==\"?\n",
      "  if \"ali\" is \"ALI\":\n"
     ]
    }
   ],
   "source": [
    "if \"ali\" is \"ALI\":\n",
    "    print(\"Yes\")\n",
    "else:\n",
    "    print(\"Yes\")\n",
    "print(\"NO\")\n",
    "print(\"NO\")"
   ]
  },
  {
   "cell_type": "code",
   "execution_count": 24,
   "id": "d9c126b2-4532-433b-8c9e-e20fcbea2cf4",
   "metadata": {},
   "outputs": [
    {
     "ename": "SyntaxError",
     "evalue": "'return' outside function (1523518458.py, line 3)",
     "output_type": "error",
     "traceback": [
      "\u001b[0;36m  Cell \u001b[0;32mIn[24], line 3\u001b[0;36m\u001b[0m\n\u001b[0;31m    return \"Yes\"\u001b[0m\n\u001b[0m    ^\u001b[0m\n\u001b[0;31mSyntaxError\u001b[0m\u001b[0;31m:\u001b[0m 'return' outside function\n"
     ]
    }
   ],
   "source": [
    "if \"ali\" in \"ali\":\n",
    "    print(\"Yes\")\n",
    "    return \"Yes\"\n",
    "    print(\"NO\")\n",
    "else:\n",
    "    print(\"Else\")\n",
    "\n",
    "print(\"Done\")"
   ]
  },
  {
   "cell_type": "code",
   "execution_count": 25,
   "id": "b03dc426-0bbb-46ae-83c7-b159cdcba5ac",
   "metadata": {},
   "outputs": [
    {
     "name": "stdout",
     "output_type": "stream",
     "text": [
      "Yes\n",
      "NO\n",
      "Done\n"
     ]
    }
   ],
   "source": [
    "if \"ali\" in \"ali\":\n",
    "    print(\"Yes\")\n",
    "    # return \"Yes\"\n",
    "    print(\"NO\")\n",
    "else:\n",
    "    print(\"Else\")\n",
    "\n",
    "print(\"Done\")"
   ]
  },
  {
   "cell_type": "markdown",
   "id": "24cb021d-72e5-4e02-a1ff-fab940b99ce2",
   "metadata": {},
   "source": [
    "###  String Methods\n",
    "\n",
    "- Now the most important part of a string is string methods which you used everywhere whenever you built any project. Now we will study all-important string methods which are frequently used.\n",
    "\n",
    "####  The `len()`, `str.lower()`, `str.upper()` and `str.capitalize()` methods\n",
    "- The `len()` is a built-in function that returns the number of items of a container data type passed as argument. We can check the length of any data types that are collections with built-in `len()` function.\n",
    "It is considered a built-in function.\n",
    "- The `str.lower()` method return a copy of the string converted to lowercase.\n",
    "- The `str.upper()` method return a copy of the string converted to uppercase.\n",
    "- The `str.capitalize()` method return a capitalized version of the string."
   ]
  },
  {
   "cell_type": "code",
   "execution_count": null,
   "id": "4b15d6e9-c295-4575-bd2c-26f540a810b8",
   "metadata": {},
   "outputs": [],
   "source": [
    "print(dir(str))"
   ]
  },
  {
   "cell_type": "code",
   "execution_count": null,
   "id": "7706a1c0-cb9a-426c-a48d-1a538567f763",
   "metadata": {},
   "outputs": [],
   "source": [
    "# str."
   ]
  },
  {
   "cell_type": "code",
   "execution_count": null,
   "id": "30a62e63-43ca-46a9-a03c-70f6319cb999",
   "metadata": {},
   "outputs": [],
   "source": [
    "string1 = \"introduction to Data science using python\"\n",
    "print('Orignial string = ', string1)\n",
    "\n",
    "rv = len(string1)\n",
    "print('len(string1) = ', rv)"
   ]
  },
  {
   "cell_type": "code",
   "execution_count": null,
   "id": "38a12e8f-c54c-414a-b373-783128c8d093",
   "metadata": {},
   "outputs": [],
   "source": [
    "# string1."
   ]
  },
  {
   "cell_type": "code",
   "execution_count": null,
   "id": "32823809-85ae-4824-830d-8d05de7b7c65",
   "metadata": {},
   "outputs": [],
   "source": [
    "rv1 = string1.lower()\n",
    "print('string1.lower() = ', rv1)\n",
    "      \n",
    "print('string1.upper() = ', string1.upper())"
   ]
  },
  {
   "cell_type": "markdown",
   "id": "618c34b2-d6c9-4e20-9ea1-6ffda72d0f88",
   "metadata": {},
   "source": [
    "####  The `str.strip()` method\n",
    "- The `str.strip()` method removes whitespace characters from the beginning and end of a string.\n",
    "- The `str.lstrip()` method removes whitespace characters from the beginning of a string.\n",
    "- The `str.rstrip()` method removes whitespace characters from the end of a string."
   ]
  },
  {
   "cell_type": "code",
   "execution_count": null,
   "id": "46398376-c850-4bf4-a5d7-f9e41e1a603d",
   "metadata": {},
   "outputs": [],
   "source": [
    "buffer =\"    hello world, this is       Ehtisham Sadiq      \"\n",
    "rv = buffer.strip()\n",
    "print(buffer)\n",
    "print(rv)"
   ]
  },
  {
   "cell_type": "code",
   "execution_count": null,
   "id": "560787f0-17d2-4fe7-957d-d4c106f04ad3",
   "metadata": {},
   "outputs": [],
   "source": [
    "print(buffer)\n",
    "print(buffer.lstrip())\n",
    "print(buffer.rstrip())"
   ]
  },
  {
   "cell_type": "markdown",
   "id": "049d3823-1cad-41a7-a8fa-cdcd5ec6343a",
   "metadata": {},
   "source": [
    "#### The `str.split()` and `str.join()` method\n",
    "\n",
    "- The `str.split()` method splits a string into a list of strings at every occurrence of space character by default. You may pass a parameter `sep='i'` to split method to split at that specific character instead.\n",
    "- The `sep.join(list)` method is passed a list/iterable as parameter and is called on a separater character. It joins the strings inside the list to a single string and returns"
   ]
  },
  {
   "cell_type": "code",
   "execution_count": 28,
   "id": "39f0a5fe-fe95-4f63-ada0-089681b46d10",
   "metadata": {},
   "outputs": [
    {
     "data": {
      "text/plain": [
       "['Learning', 'Practical', 'Data', 'Science', 'with', 'Ehtisham', 'Sadiq']"
      ]
     },
     "execution_count": 28,
     "metadata": {},
     "output_type": "execute_result"
    }
   ],
   "source": [
    "str1 =  \"Learning Practical Data Science with Ehtisham Sadiq\"\n",
    "rv = str1.split(\" \")\n",
    "rv"
   ]
  },
  {
   "cell_type": "code",
   "execution_count": 30,
   "id": "8e0b7e98-83b6-453c-85f6-c2ae1dc82219",
   "metadata": {},
   "outputs": [
    {
     "data": {
      "text/plain": [
       "['Learn', 'ng Pract', 'cal Data Sc', 'ence with Ehtisham Sadiq']"
      ]
     },
     "execution_count": 30,
     "metadata": {},
     "output_type": "execute_result"
    }
   ],
   "source": [
    "str1 =  \"Learning Practical Data Science with Ehtisham Sadiq\"\n",
    "rv = str1.split(sep='i', maxsplit=3)\n",
    "rv"
   ]
  },
  {
   "cell_type": "code",
   "execution_count": 31,
   "id": "00622f5b-c025-4f23-9ae0-f37958076d4c",
   "metadata": {},
   "outputs": [],
   "source": [
    "# The join() method takes all items in an iterable and joins them into one string.\n",
    "mylist = ['Learning', 'Practical', 'Data', 'Science', 'with', 'Ehtisham', 'Sadiq']\n",
    "\n",
    "#Note the separator is space character\n",
    "mystr = ' '.join(mylist)"
   ]
  },
  {
   "cell_type": "code",
   "execution_count": 32,
   "id": "f3590799-e606-4281-b765-9edfbedf8621",
   "metadata": {},
   "outputs": [
    {
     "data": {
      "text/plain": [
       "'Learning Practical Data Science with Ehtisham Sadiq'"
      ]
     },
     "execution_count": 32,
     "metadata": {},
     "output_type": "execute_result"
    }
   ],
   "source": [
    "mystr"
   ]
  },
  {
   "cell_type": "code",
   "execution_count": 33,
   "id": "c77b6216-2f82-4eb3-b3be-ffe565d93ffd",
   "metadata": {},
   "outputs": [],
   "source": [
    "# You can call join() method on a separator or your choice\n",
    "mylist = ['Ehtisham', 'Ali', 'Ayesha', 'Dua', 'Adeen', 'Khubaib', str(21), str(18)]\n",
    "\n",
    "#Note the separator is hash character\n",
    "mystr = '#'.join(mylist)"
   ]
  },
  {
   "cell_type": "code",
   "execution_count": 34,
   "id": "3a2bf2a7-a1fe-41ba-9b0a-a7f256360cbc",
   "metadata": {},
   "outputs": [
    {
     "data": {
      "text/plain": [
       "'Ehtisham#Ali#Ayesha#Dua#Adeen#Khubaib#21#18'"
      ]
     },
     "execution_count": 34,
     "metadata": {},
     "output_type": "execute_result"
    }
   ],
   "source": [
    "mystr"
   ]
  },
  {
   "cell_type": "code",
   "execution_count": 35,
   "id": "db56d26e-92c4-47d0-ab33-4ad2d4661410",
   "metadata": {},
   "outputs": [
    {
     "name": "stdout",
     "output_type": "stream",
     "text": [
      "['Ehtisham', 'Ali', 'Ayesha', 'Dua', 'Adeen', 'Khubaib', '21', '18'] <class 'list'>\n",
      "Ehtisham#Ali#Ayesha#Dua#Adeen#Khubaib#21#18 <class 'str'>\n"
     ]
    }
   ],
   "source": [
    "print(mylist, type(mylist))\n",
    "print(mystr, type(mystr))"
   ]
  },
  {
   "cell_type": "markdown",
   "id": "898fda74-cda4-4e31-9b79-95acf152d533",
   "metadata": {},
   "source": [
    "- The `str.startswith()` method\n",
    "- The `str.endsswith()` method\n",
    "- The `str.find()` method\n",
    "- Use `str.replace()` method to find a substring\n",
    "- The `str.format()` method\n"
   ]
  },
  {
   "cell_type": "markdown",
   "id": "9f8aac1f-a9ba-4127-b1a6-2560d613a658",
   "metadata": {},
   "source": [
    "#### Check your Concepts\n",
    "\n",
    "Try answering the following questions to test your understanding of the topics covered in this notebook:\n",
    "\n",
    "1. What are the container types available in Python?\n",
    "2. What kind of data does the String data type represent?\n",
    "3. What are the different ways of creating strings in Python?\n",
    "4. What is the difference between strings created using single quotes, i.e. `'` and `'` vs. those created using double quotes, i.e. `\"` and `\"`?\n",
    "5. How do you create multi-line strings in Python?\n",
    "6. What is the newline character, `\\n`?\n",
    "8. How do you check the length of a string?\n",
    "9. How do you convert a string into a list of characters?\n",
    "10. How do you access a specific character from a string?\n",
    "11. How do you access a range of characters from a string?\n",
    "12. How do you check if a specific character occurs in a string?\n",
    "13. How do you check if a smaller string occurs within a bigger string?\n",
    "14. How do you join two or more strings?\n",
    "15. What are \"methods\" in Python? How are they different from functions?\n",
    "16. What do the `.count`, `.isalnum` and `.isalpha` methods on strings do?\n",
    "17. How do you replace a specific part of a string with something else?\n",
    "18. How do you split the string \"Sun,Mon,Tue,Wed,Thu,Fri,Sat\" into a list of days?\n",
    "19. How do you remove whitespace from the beginning and end of a string?\n",
    "20. What is the string `.format` method used for? Can you give an example?\n",
    "21. What are the benefits of using the `.format` method instead of string concatenation?\n",
    "22. How do you convert a value of another type to a string?\n",
    "23. How do you check if two strings have the same value?\n",
    "24. Where can you find the list of all the methods supported by strings?"
   ]
  },
  {
   "cell_type": "code",
   "execution_count": 36,
   "id": "523332c8-202c-44ca-a711-8f887478ed30",
   "metadata": {},
   "outputs": [
    {
     "data": {
      "text/plain": [
       "('Ehtisham', 'Sadiq')"
      ]
     },
     "execution_count": 36,
     "metadata": {},
     "output_type": "execute_result"
    }
   ],
   "source": [
    "name = \"Ehtisham\", \"Sadiq\" # packing\n",
    "name"
   ]
  },
  {
   "cell_type": "code",
   "execution_count": 37,
   "id": "c47aee80-0e60-4566-ab55-15207ea0d8c1",
   "metadata": {},
   "outputs": [
    {
     "name": "stdout",
     "output_type": "stream",
     "text": [
      "Ehtisham\n",
      "Sadiq\n"
     ]
    }
   ],
   "source": [
    "first_name , last_name = name # unpacking\n",
    "print(first_name)\n",
    "print(last_name)"
   ]
  },
  {
   "cell_type": "code",
   "execution_count": 40,
   "id": "45faa766-dbd4-4f6d-8498-46888798bce0",
   "metadata": {},
   "outputs": [
    {
     "data": {
      "text/plain": [
       "'EhtishamSadiqali'"
      ]
     },
     "execution_count": 40,
     "metadata": {},
     "output_type": "execute_result"
    }
   ],
   "source": [
    "name = \"Ehtisham\"                \"Sadiq\"        'ali'\n",
    "name"
   ]
  },
  {
   "cell_type": "code",
   "execution_count": null,
   "id": "0245ba9a-993a-408b-925b-e728d6d37963",
   "metadata": {},
   "outputs": [],
   "source": []
  },
  {
   "cell_type": "code",
   "execution_count": null,
   "id": "7c7525d2-fa02-4893-a161-7430de7a42a6",
   "metadata": {},
   "outputs": [],
   "source": [
    "# str1 = \"ALI\"\n",
    "# str1[-1:-5]\n",
    "name = \"Ali\"\n",
    "age = 20\n",
    "marks = -90\n",
    "print(\"My name is \"+name+\"and I'm\"+str(age)+\"years old.\"+\"I have\"+str(marks)+\"in English\")  "
   ]
  },
  {
   "cell_type": "code",
   "execution_count": 42,
   "id": "3829849b-0a79-484b-b64f-2637d55cb9d2",
   "metadata": {},
   "outputs": [
    {
     "data": {
      "text/plain": [
       "0"
      ]
     },
     "execution_count": 42,
     "metadata": {},
     "output_type": "execute_result"
    }
   ],
   "source": [
    "\"abcdabefabgh\".count(\"acb\") # ab"
   ]
  },
  {
   "cell_type": "code",
   "execution_count": null,
   "id": "4b4e0d0c-202a-4963-8854-71eeb8901401",
   "metadata": {},
   "outputs": [],
   "source": []
  },
  {
   "cell_type": "markdown",
   "id": "b5dcc605-0998-48df-93fa-f98d9ac208ab",
   "metadata": {},
   "source": [
    "<h2>List Data Structure</h2>\n",
    "\n",
    "> **A List is a `numerically ordered sequence` of elements that can store elements of `heterogeneous types`, is `iterable`, `mutable` and allows `duplicate` elements.**\n",
    "\n",
    "\n",
    "* **Collections** allows us to put many values in a single variable. Lists, Sets, Tuples, and Dictionaries are some types of Python collections\n",
    "* **Sequences** are collections of objects, however, each object in a sequence is assigned an index and the items of a sequence can be manipulated using its respective index. List and Tuples fall into this category."
   ]
  },
  {
   "cell_type": "code",
   "execution_count": null,
   "id": "16197d10-26c4-4a9f-a3f4-a419edc04913",
   "metadata": {},
   "outputs": [],
   "source": [
    "# collection -> l1=[2,3,4,5,6,7,8]\n",
    " # sequences (l1, l2, set1,set2))"
   ]
  },
  {
   "cell_type": "markdown",
   "id": "a6702052-f3ae-4383-a6c3-47d896f00974",
   "metadata": {},
   "source": [
    "### How to Create Lists?\n",
    ">- **A Python List is a numerically ordered sequence of elements that can store multiple items of heterogeneous types and allows duplicate elements.**\n",
    ">- **A Python List can be created by placing comma separated values in square brackets.**"
   ]
  },
  {
   "cell_type": "code",
   "execution_count": null,
   "id": "61e7eaa8-6381-4664-a1f1-aa109aab3053",
   "metadata": {},
   "outputs": [],
   "source": [
    "# It allows us to store elements of different data types (number, boolean, string, list) in one container.\n",
    "\n",
    "list1 = [1,2,3,4,5]   #list of integers\n",
    "print(list1)\n",
    "type(list1)"
   ]
  },
  {
   "cell_type": "code",
   "execution_count": null,
   "id": "1691b363-f025-403a-9378-1dca669e1ee5",
   "metadata": {},
   "outputs": [],
   "source": [
    "list2 = [3.7, 6.5, 3.8, 7.95 ]   #list of floats\n",
    "print(list2)"
   ]
  },
  {
   "cell_type": "code",
   "execution_count": null,
   "id": "53cdeee3-ca1d-48d9-9eed-cb4225afbac6",
   "metadata": {},
   "outputs": [],
   "source": [
    "list3 = [\"hello\", \"this\", \"F\", \"good show\"]   #list of strings\n",
    "print(list3)\n",
    "\n",
    "list4 = [True, False, True]   #list of boolean\n",
    "print(list4)\n",
    "\n",
    "list5 = []   #this will create an empty list\n",
    "print(list5)\n"
   ]
  },
  {
   "cell_type": "code",
   "execution_count": null,
   "id": "d6a77e38-03ea-4045-a10c-2699ec1a0d70",
   "metadata": {},
   "outputs": [],
   "source": []
  },
  {
   "cell_type": "markdown",
   "id": "c9dd5e7e-0ec3-4343-a1a5-1b8a1342372b",
   "metadata": {},
   "source": [
    "### Proof of concepts\n",
    "\n",
    "#### a. Lists are heterogeneous\n",
    "- Lists are heterogeneous, as their elements/items can be of any data type"
   ]
  },
  {
   "cell_type": "code",
   "execution_count": null,
   "id": "d07ef249-8a9b-4a25-9a37-8c71060af82f",
   "metadata": {},
   "outputs": [],
   "source": [
    "list1 = [\"Ehtisham\", 30, 5.5, \"\", []]\n",
    "print(\"list1: \", list1)\n",
    "print(\"Ehtisham\", \"Sadiq\")\n",
    "print(\"Ehtisham\", \"Sadiq\", sep=\"\")\n",
    "print(\"Ehtisham\"+\"Sadiq\")"
   ]
  },
  {
   "cell_type": "markdown",
   "id": "112d4965-e679-4404-ad76-d9f0ee89de0f",
   "metadata": {},
   "source": [
    "#### b. Lists are ordered\n",
    "- Lists are ordered means every element is associated by an index\n",
    "- Every time you access list elements they will show up in same sequence. \n",
    "- Moreover, `two lists having same elements in different order are not same`."
   ]
  },
  {
   "cell_type": "code",
   "execution_count": 43,
   "id": "ad2e93ab-7d24-4f54-b9ed-dd5b1a50a268",
   "metadata": {},
   "outputs": [
    {
     "name": "stdout",
     "output_type": "stream",
     "text": [
      "4426415296\n",
      "4426312960\n",
      "False\n",
      "False\n"
     ]
    }
   ],
   "source": [
    "a = [1, 2, 3]\n",
    "b = [2, 3, 1]\n",
    "print(id(a), id(b), a is b, a == b, sep=\"\\n\")"
   ]
  },
  {
   "cell_type": "code",
   "execution_count": null,
   "id": "3d86d6ad-f5cb-45ac-bf44-896116e225bb",
   "metadata": {},
   "outputs": [],
   "source": []
  },
  {
   "cell_type": "markdown",
   "id": "1088818f-bd68-4944-bd3f-7e2000d0b437",
   "metadata": {},
   "source": [
    "#### c. Lists are mutable\n",
    "- We have seen in previous session that Strings are **immutable**, i.e., we cannot change the contents of a string, however, we can assign an entirely new string to a variable\n",
    "- List on the contrary are **mutable**, i.e., once a List object is created, you can change an element of the list using the index `[]` and assignment `=' operator"
   ]
  },
  {
   "cell_type": "code",
   "execution_count": null,
   "id": "ff4bfe91-1f32-4c74-b32a-1e87f24ec7a3",
   "metadata": {},
   "outputs": [],
   "source": [
    "numbers = [10, 20, 30, 40, 50]\n",
    "numbers"
   ]
  },
  {
   "cell_type": "code",
   "execution_count": null,
   "id": "ab75ee50-dc6d-4b4c-bd9a-c519b8745212",
   "metadata": {},
   "outputs": [],
   "source": [
    "numbers[2] = 555\n",
    "\n",
    "print(\"numbers: \", numbers)"
   ]
  },
  {
   "cell_type": "markdown",
   "id": "72f8c87c-a0b2-4567-8c93-31b3e05dbbd3",
   "metadata": {},
   "source": [
    "#### d. Lists can have duplicate emements"
   ]
  },
  {
   "cell_type": "code",
   "execution_count": null,
   "id": "c39fb063-fec2-4e70-b51c-c91849d64d29",
   "metadata": {},
   "outputs": [],
   "source": [
    "# lists allow duplicate elements\n",
    "names = ['Ehtisham', 'Ali', 'Ayesha', 'Ehtisham', 'Ahmed']\n",
    "names"
   ]
  },
  {
   "cell_type": "code",
   "execution_count": null,
   "id": "a293ae36-cb9e-4b02-9c5a-bfc0a6640d25",
   "metadata": {},
   "outputs": [],
   "source": [
    "set1 = set(names) # set does not allow duplicate elements\n",
    "set1"
   ]
  },
  {
   "cell_type": "code",
   "execution_count": null,
   "id": "64b4804c-40a4-415b-9499-57c85bbbb8cf",
   "metadata": {},
   "outputs": [],
   "source": [
    "print(names)\n",
    "print(set1)"
   ]
  },
  {
   "cell_type": "markdown",
   "id": "e48a49c4-86c5-4c91-abcc-ef8530f2b0ba",
   "metadata": {},
   "source": [
    "#### e. Lists can be nested to arbitrary depth\n",
    "- You can have list within list and that can be done to an arbitrary depth. You are only restricted to the available memory on your system"
   ]
  },
  {
   "cell_type": "code",
   "execution_count": null,
   "id": "d6d64329-7092-451d-9559-9de455b4c7d1",
   "metadata": {},
   "outputs": [],
   "source": [
    "# A list having two sub-lists within it\n",
    "a = [1,2,3,[4,5],[6,7,8,9],10,11]\n",
    "print(a), len(a)"
   ]
  },
  {
   "cell_type": "code",
   "execution_count": null,
   "id": "e01b8781-f562-4f24-95cd-a3a1cfa0f7d1",
   "metadata": {},
   "outputs": [],
   "source": [
    "# A list having a sublist, which is further having a sublist and that again having a sublist\n",
    "b = [1,2,3,[4,5,[6,7,8,[9,10,11]]]]\n",
    "# a, b\n",
    "print(b , len(b))"
   ]
  },
  {
   "cell_type": "markdown",
   "id": "78750530-5f8e-44b8-9fd3-8a1666033e22",
   "metadata": {},
   "source": [
    "#### f. Packing and Unpacking Lists"
   ]
  },
  {
   "cell_type": "code",
   "execution_count": null,
   "id": "8ce581ec-6177-46b8-9df0-3e55d4b9b95c",
   "metadata": {},
   "outputs": [],
   "source": [
    "# you can unpack list elements\n",
    "mylist = ['Learning', 'Practical', 'Data', 'Science', 'with', 'Ehtisham', 'Sadiq']\n",
    "mylist"
   ]
  },
  {
   "cell_type": "code",
   "execution_count": null,
   "id": "0db41f3a-b4ef-4010-9e2f-64556f232c2f",
   "metadata": {},
   "outputs": [],
   "source": [
    "a, b, c, d, e, f, g = mylist # the number of variables on the left must match the number of elements in the list\n",
    "\n",
    "print (a, b,c,d, e,f,g, sep=\"\\n\")"
   ]
  },
  {
   "cell_type": "code",
   "execution_count": null,
   "id": "be0ff919-c315-46b6-813e-d11bef375634",
   "metadata": {},
   "outputs": [],
   "source": [
    "# you can pack individual elements to a list\n",
    "tuple1 = a,b,c,d,e,f,g\n",
    "print(tuple1)\n",
    "print(type(tuple1))"
   ]
  },
  {
   "cell_type": "code",
   "execution_count": null,
   "id": "be359872-ea80-44a2-bb1b-b22aa1e36513",
   "metadata": {},
   "outputs": [],
   "source": [
    "mylist2 = list(tuple1)"
   ]
  },
  {
   "cell_type": "code",
   "execution_count": null,
   "id": "176704ce-6897-4b91-81d2-ebe99eaff502",
   "metadata": {},
   "outputs": [],
   "source": [
    "print(mylist2)\n",
    "print(type(mylist2))"
   ]
  },
  {
   "cell_type": "code",
   "execution_count": null,
   "id": "51a855e7-6cc1-478f-be32-c2e072171150",
   "metadata": {},
   "outputs": [],
   "source": [
    "list1 = [22, 34, \"Ehtisham\", \"Ali\"]\n",
    "list1[4:3] = \"Ayesha\"\n",
    "list1"
   ]
  },
  {
   "cell_type": "markdown",
   "id": "0f4310c1-6846-4b9f-88d5-626c638b24a5",
   "metadata": {},
   "source": [
    "###  `Index()` method to access elements of a list\n",
    "- Since Lists like Strings are of type sequence, and any element within a sequence can be accessed by entrying an index within square brackets. So naturally this must work for Lists as well strings.\n",
    "- Similarly, if we want to find out the index of a specific item/element, we can use the `index()` method of List class"
   ]
  },
  {
   "cell_type": "code",
   "execution_count": null,
   "id": "03cb51c0-d8b4-4394-832f-22579877f44c",
   "metadata": {},
   "outputs": [],
   "source": [
    "# index(value) method is used when you know the list element and want to get its index\n",
    "# index(value) method returns the index of the first matched item with its only argument\n",
    "mylist = [27, 4.5, 'Ehtisham', 64, 'ali', 19, 'Ehtisham']\n",
    "mylist"
   ]
  },
  {
   "cell_type": "code",
   "execution_count": null,
   "id": "d0527e86-bf1d-4160-a6f0-6870c4a7550c",
   "metadata": {},
   "outputs": [],
   "source": [
    "help(list.index)"
   ]
  },
  {
   "cell_type": "code",
   "execution_count": null,
   "id": "6f1ecea3-35b8-49e5-b151-c424d67d93fa",
   "metadata": {},
   "outputs": [],
   "source": [
    "mylist.index('ahmed')"
   ]
  },
  {
   "cell_type": "code",
   "execution_count": null,
   "id": "53c1fca9-a58c-4973-9a30-c7f490a10379",
   "metadata": {},
   "outputs": [],
   "source": [
    "mylist.index('Ehtisham')"
   ]
  },
  {
   "cell_type": "code",
   "execution_count": null,
   "id": "a7805d19-18a4-459b-9fcc-16746adced36",
   "metadata": {},
   "outputs": [],
   "source": []
  },
  {
   "cell_type": "markdown",
   "id": "a01dedb8-354f-4958-a140-63c6474bb3ec",
   "metadata": {},
   "source": [
    "### Slicing Lists\n",
    "- Like anyother sequence object we can perform slicing with lists as well.\n",
    "- Slicing is the process of obtaining a portion of a list by using its indices.\n",
    "- Given a list, we can use the following template to slice it and obtain a sublist:\n",
    "```\n",
    "mylist[start:end:step]\n",
    "```\n",
    "\n",
    "- **start** is the index from where we want the sublist to start. If start is not provided, slicing starts from the beginning.\n",
    "- **end** is the index where we want our sublist to end (not inclusive in the sublist). If end is not provided, slicing goes till the last element of the list.\n",
    "- **step** is the step through which we want to skip elements in the list. The default step is 1, so we iterate through every element of the list."
   ]
  },
  {
   "cell_type": "code",
   "execution_count": null,
   "id": "ceebd7df-0c27-47c0-851e-e95686866655",
   "metadata": {},
   "outputs": [],
   "source": [
    "list1 = ['a','b','c','d','e','f','g','h','i']\n",
    "list1"
   ]
  },
  {
   "cell_type": "code",
   "execution_count": null,
   "id": "eb1d65e1-657c-4fde-96c7-ae7f04924600",
   "metadata": {},
   "outputs": [],
   "source": [
    "list1[::]"
   ]
  },
  {
   "cell_type": "code",
   "execution_count": null,
   "id": "b85b9a7d-1d52-412f-b61d-c73bea50417a",
   "metadata": {},
   "outputs": [],
   "source": [
    "list1[3:]"
   ]
  },
  {
   "cell_type": "code",
   "execution_count": null,
   "id": "64f27f0b-9cfa-41c5-90ed-c33eef2149f2",
   "metadata": {},
   "outputs": [],
   "source": [
    "list1[2:5]"
   ]
  },
  {
   "cell_type": "code",
   "execution_count": null,
   "id": "7548fbc0-8c49-48a6-8a89-4a6b19725f76",
   "metadata": {},
   "outputs": [],
   "source": [
    "list1[2:7:2]"
   ]
  },
  {
   "cell_type": "markdown",
   "id": "4c7485af-5c78-486b-a73a-c3f1d6ada1e5",
   "metadata": {},
   "source": [
    "Here are some experiments you should try out:\n",
    "\n",
    "* Try setting one or both indices of the range are larger than the size of the list, e.g., `a_list[2:10]`\n",
    "* Try setting the start index of the range to be larger than the end index, e.g., `a_list[12:10]`\n",
    "* Try leaving out the start or end index of a range, e.g., `a_list[2:]` or `a_list[:5]`\n",
    "* Try using negative indices for the range, e.g., `a_list[-2:-5]` or `a_list[-5:-2]` (can you explain the results?)\n",
    "\n",
    "> The flexible and interactive nature of Jupyter notebooks makes them an excellent tool for learning and experimentation. If you are new to Python, you can resolve most questions as soon as they arise simply by typing the code into a cell and executing it. **Let your curiosity run wild, discover what Python is capable of and what it isn't!**"
   ]
  },
  {
   "cell_type": "markdown",
   "id": "744cce06-fad7-41a1-b74d-069696367a83",
   "metadata": {},
   "source": [
    "###  List Concatenation and Repetition using `+` and `*`"
   ]
  },
  {
   "cell_type": "code",
   "execution_count": null,
   "id": "a7da64f4-db9b-4010-9e99-530550dfcbdb",
   "metadata": {},
   "outputs": [],
   "source": []
  },
  {
   "cell_type": "markdown",
   "id": "cdbf6a7e-a80d-4fbc-bc2f-a2237e71a914",
   "metadata": {},
   "source": [
    "### Modifying/Adding elements to a list\n",
    "\n",
    "- We have worked on different methods of String class . Similarly there are several built-in methods of the List class. \n",
    "> **Remember, unlike String methods, most methods of List class modify the original List rather than returning a new one.**\n",
    "- Lists are dynamic, as we write our Python program, we can actually make changes to our already created list, whithout having to go for compiling it again. \n",
    "- If we have to add certain elements to an already created list, the original list gorws dynamically without the need of compiling/running the program again (as in case of heap memory in C/C++)\n",
    "\n",
    "- We can use a list methods to perform various tasks on a list object and modify it. \n",
    "- Some list methods that can be used to alter a list are (append, insert, extend, remove, pop, clear, index, count, sort, reverse, split and join)\n",
    "- Check out some common list operations here: https://www.w3schools.com/python/python_ref_list.asp ."
   ]
  },
  {
   "cell_type": "markdown",
   "id": "dcc45680-9ea0-4658-b816-6c3f6bddc31d",
   "metadata": {},
   "source": [
    "#### a. Modifying/Adding elements to a list using [ ] operator"
   ]
  },
  {
   "cell_type": "code",
   "execution_count": 50,
   "id": "e27e9868-efba-42df-a79c-f90ffb6083f9",
   "metadata": {},
   "outputs": [
    {
     "data": {
      "text/plain": [
       "['data science', 'machine learning', 2, 5, 7, 'Big Data', 'Deep Learning']"
      ]
     },
     "execution_count": 50,
     "metadata": {},
     "output_type": "execute_result"
    }
   ],
   "source": [
    "mylist = ['data science', 'machine learning', 2, 5, 7]\n",
    "mylist[7:8] = [\"Big Data\", \"Deep Learning\"]\n",
    "mylist"
   ]
  },
  {
   "cell_type": "code",
   "execution_count": null,
   "id": "b8e9090c-948e-4c0f-901a-0c092c517767",
   "metadata": {},
   "outputs": [],
   "source": [
    "mylist = ['data science', 'machine learning', 2, 5, 7]\n",
    "# Let us change the second element of this list\n",
    "print(\"Original List : \", mylist)"
   ]
  },
  {
   "cell_type": "code",
   "execution_count": null,
   "id": "b8573836-a721-4628-a184-06f405b6f40e",
   "metadata": {},
   "outputs": [],
   "source": [
    "mylist[1] = 'big data' #item assignment\n",
    "print(len(mylist))\n",
    "print(\"New List/ Modified List : \",mylist)"
   ]
  },
  {
   "cell_type": "code",
   "execution_count": null,
   "id": "cde37875-cb0f-42ee-b859-8fcecebbfebd",
   "metadata": {},
   "outputs": [],
   "source": [
    "# We can use the slice index to modify multiple list elements in one go\n",
    "mylist = ['data science', 'machine learning', 2, 5, 7]\n",
    "print(\"Original List : \", mylist)"
   ]
  },
  {
   "cell_type": "code",
   "execution_count": null,
   "id": "9db61942-8d5b-4215-8507-b9107ca8fe5f",
   "metadata": {},
   "outputs": [],
   "source": [
    "mylist[0:2] = ['english', 'urdu'] # Note we are replacing two elements with two elements\n",
    "print(len(mylist))\n",
    "print(\"Modified List : \", mylist)"
   ]
  },
  {
   "cell_type": "code",
   "execution_count": null,
   "id": "0e1132d2-f23c-447d-bcaf-661fd1aa57a5",
   "metadata": {},
   "outputs": [],
   "source": [
    "# We can replace more number of elements with lesser number of elements in a list\n",
    "mylist = ['data science', 'machine learning', 2, 5, 7]\n",
    "mylist"
   ]
  },
  {
   "cell_type": "code",
   "execution_count": null,
   "id": "2cb914e4-82b3-44c4-8c33-998c775329f9",
   "metadata": {},
   "outputs": [],
   "source": [
    "mylist[0:2] = ['BIG DATA'] # Note we are replacing two elements with one element\n",
    "mylist"
   ]
  },
  {
   "cell_type": "markdown",
   "id": "63b0c30b-af3f-4695-a804-7e370d4ce685",
   "metadata": {},
   "source": [
    "#### b. Adding elements to a list using `list.append(value)` method\n",
    "- `list.append(value)` method is used when you want to add a single element at the end of the list\n",
    "- It is passed one argument which is the element to be inserted and returns none/void"
   ]
  },
  {
   "cell_type": "code",
   "execution_count": null,
   "id": "9f4778e8-1714-40c4-b30d-82e29598d568",
   "metadata": {},
   "outputs": [],
   "source": [
    "list1 = [2, 4, 6, 8]\n",
    "print(list1)"
   ]
  },
  {
   "cell_type": "code",
   "execution_count": null,
   "id": "779c6359-8dd0-4427-8647-c235b98a133e",
   "metadata": {},
   "outputs": [],
   "source": [
    "list1.append(4.631)"
   ]
  },
  {
   "cell_type": "code",
   "execution_count": null,
   "id": "d6ec728f-c499-41f0-b81f-80cd2b2d8f1b",
   "metadata": {},
   "outputs": [],
   "source": [
    "list1"
   ]
  },
  {
   "cell_type": "code",
   "execution_count": 52,
   "id": "7d52e7bf-6ed2-407b-a6ce-24d1eb84e580",
   "metadata": {},
   "outputs": [],
   "source": [
    "# You cannot add multiple elements using an append\n",
    "# If you try it will actually add those elements as a sub-list\n",
    "list1 = [2, 4, 6, 8]\n",
    "list1.append([4.631, 'hello'])"
   ]
  },
  {
   "cell_type": "code",
   "execution_count": 53,
   "id": "7d00d638-4f43-48c7-8866-c2c6b55d620a",
   "metadata": {},
   "outputs": [
    {
     "data": {
      "text/plain": [
       "[2, 4, 6, 8, [4.631, 'hello']]"
      ]
     },
     "execution_count": 53,
     "metadata": {},
     "output_type": "execute_result"
    }
   ],
   "source": [
    "list1"
   ]
  },
  {
   "cell_type": "code",
   "execution_count": null,
   "id": "7877d311-fdf4-4b7b-aa05-98dddd2bf79c",
   "metadata": {},
   "outputs": [],
   "source": []
  },
  {
   "cell_type": "code",
   "execution_count": null,
   "id": "e009c67b-93cc-409e-99ef-29372ece344b",
   "metadata": {},
   "outputs": [],
   "source": [
    "list1 = [\"Ali\", \"Ehtisham\", \"Ayesha\", [\"Dua\", \"Adeen\",[\"Khubaib\",22,34,\"waniya\"]]]\n",
    "list1[3][2][0] = list1[3][2][0].upper()\n",
    "list1"
   ]
  },
  {
   "cell_type": "code",
   "execution_count": 51,
   "id": "71bdf25f-006d-4cb9-ac1b-b588b0e8254b",
   "metadata": {},
   "outputs": [
    {
     "ename": "AttributeError",
     "evalue": "'tuple' object has no attribute 'append'",
     "output_type": "error",
     "traceback": [
      "\u001b[0;31m---------------------------------------------------------------------------\u001b[0m",
      "\u001b[0;31mAttributeError\u001b[0m                            Traceback (most recent call last)",
      "Cell \u001b[0;32mIn[51], line 2\u001b[0m\n\u001b[1;32m      1\u001b[0m list1 \u001b[38;5;241m=\u001b[39m [\u001b[38;5;124m\"\u001b[39m\u001b[38;5;124mAli\u001b[39m\u001b[38;5;124m\"\u001b[39m, \u001b[38;5;124m\"\u001b[39m\u001b[38;5;124mEhtisham\u001b[39m\u001b[38;5;124m\"\u001b[39m, \u001b[38;5;124m\"\u001b[39m\u001b[38;5;124mAyesha\u001b[39m\u001b[38;5;124m\"\u001b[39m, [\u001b[38;5;124m\"\u001b[39m\u001b[38;5;124mDua\u001b[39m\u001b[38;5;124m\"\u001b[39m, \u001b[38;5;124m\"\u001b[39m\u001b[38;5;124mAdeen\u001b[39m\u001b[38;5;124m\"\u001b[39m,(\u001b[38;5;124m\"\u001b[39m\u001b[38;5;124mKhubaib\u001b[39m\u001b[38;5;124m\"\u001b[39m,\u001b[38;5;241m22\u001b[39m,\u001b[38;5;241m34\u001b[39m,\u001b[38;5;124m\"\u001b[39m\u001b[38;5;124mwaniya\u001b[39m\u001b[38;5;124m\"\u001b[39m)]]\n\u001b[0;32m----> 2\u001b[0m list1[\u001b[38;5;241m3\u001b[39m][\u001b[38;5;241m2\u001b[39m]\u001b[38;5;241m.\u001b[39mappend(\u001b[38;5;241m3\u001b[39m)\n",
      "\u001b[0;31mAttributeError\u001b[0m: 'tuple' object has no attribute 'append'"
     ]
    }
   ],
   "source": [
    "list1 = [\"Ali\", \"Ehtisham\", \"Ayesha\", [\"Dua\", \"Adeen\",(\"Khubaib\",22,34,\"waniya\")]]\n",
    "list1[3][2].append(3)"
   ]
  },
  {
   "cell_type": "code",
   "execution_count": null,
   "id": "d534f378-06d5-405c-a803-97cbd260119e",
   "metadata": {},
   "outputs": [],
   "source": []
  },
  {
   "cell_type": "code",
   "execution_count": null,
   "id": "f698b7a8-2dbd-48cc-b946-2ddb0279345f",
   "metadata": {},
   "outputs": [],
   "source": [
    "# append\n",
    "# extend\n",
    "# insert"
   ]
  },
  {
   "cell_type": "markdown",
   "id": "4a3a4804-1089-4138-b6f8-993dcc93ad21",
   "metadata": {},
   "source": [
    "#### c. Adding elements to a list using `list.extend(sublist)` method\n",
    "- `list.extend(sublist)` method is used when you want to add multiple elements at the end of the list\n",
    "- It is passed a list to be added at the end and returns none/void"
   ]
  },
  {
   "cell_type": "code",
   "execution_count": 54,
   "id": "7ac82963-f408-46a1-8ca5-04b5b2d16f0d",
   "metadata": {},
   "outputs": [
    {
     "name": "stdout",
     "output_type": "stream",
     "text": [
      "Original List :  [2, 4, 6, 8]\n"
     ]
    }
   ],
   "source": [
    "list1 = [2, 4, 6, 8]\n",
    "print(\"Original List : \", list1)\n",
    "list1.extend([4.631, 'hello'])"
   ]
  },
  {
   "cell_type": "code",
   "execution_count": 55,
   "id": "f093c8d1-3240-4a5a-b398-20a00c3e47ab",
   "metadata": {},
   "outputs": [
    {
     "data": {
      "text/plain": [
       "[2, 4, 6, 8, 4.631, 'hello']"
      ]
     },
     "execution_count": 55,
     "metadata": {},
     "output_type": "execute_result"
    }
   ],
   "source": [
    "list1"
   ]
  },
  {
   "cell_type": "code",
   "execution_count": 56,
   "id": "db792b7f-54c7-48b4-9dbe-5c2ad9c2343c",
   "metadata": {},
   "outputs": [],
   "source": [
    "list1.extend(\"ali\")"
   ]
  },
  {
   "cell_type": "code",
   "execution_count": 57,
   "id": "47bdfe3c-aa56-45bf-a063-839912dde469",
   "metadata": {},
   "outputs": [
    {
     "data": {
      "text/plain": [
       "[2, 4, 6, 8, 4.631, 'hello', 'a', 'l', 'i']"
      ]
     },
     "execution_count": 57,
     "metadata": {},
     "output_type": "execute_result"
    }
   ],
   "source": [
    "list1"
   ]
  },
  {
   "cell_type": "code",
   "execution_count": null,
   "id": "63e00b42-ca0c-434e-94f2-4fdeb31864b0",
   "metadata": {},
   "outputs": [],
   "source": []
  },
  {
   "cell_type": "code",
   "execution_count": null,
   "id": "4bcf0641-7225-4b46-9135-301348bb2436",
   "metadata": {},
   "outputs": [],
   "source": []
  },
  {
   "cell_type": "code",
   "execution_count": null,
   "id": "efaa84ca-3031-46aa-991f-4f8545062602",
   "metadata": {},
   "outputs": [],
   "source": [
    "# list1.extend('Ali')\n",
    "# list1"
   ]
  },
  {
   "cell_type": "markdown",
   "id": "48664b53-72dc-4845-944c-a3a6cb72d325",
   "metadata": {},
   "source": [
    "#### d. Adding elements to a list using `list.insert(index, value)` method\n",
    "- `list.insert(index, value)` method is used when you want to add an element at a specific location in the list\n",
    "- It is passed index and value and returns none/void"
   ]
  },
  {
   "cell_type": "code",
   "execution_count": null,
   "id": "a1aa9c62-ddf8-4b4c-a1ab-c55b2fb1bd97",
   "metadata": {},
   "outputs": [],
   "source": [
    "myfamily = [\"Ehtisham\", 'Ali', 'Ayesha']\n",
    "\n",
    "print(\"\\nOriginal family list: \", myfamily)"
   ]
  },
  {
   "cell_type": "code",
   "execution_count": null,
   "id": "185d5bab-907b-4e1b-a5fc-93fa13eb577c",
   "metadata": {},
   "outputs": [],
   "source": [
    "myfamily.insert(2,'Dua')\n",
    "print(\"After insert: \", myfamily)"
   ]
  },
  {
   "cell_type": "code",
   "execution_count": null,
   "id": "e0188e8b-6f8a-4aea-a2b0-55e9e3a43a93",
   "metadata": {},
   "outputs": [],
   "source": [
    "myfamily.insert(3,'Adeen')\n",
    "print(\"After insert: \", myfamily)"
   ]
  },
  {
   "cell_type": "markdown",
   "id": "b4e18ae5-cc35-4ad9-8bbb-c9c48857a21c",
   "metadata": {},
   "source": [
    "###  Removing elements from a list using `list.pop()` and `list.remove()` methods\n",
    "- Lists are dynamic, as we write our Python program, we can actually make changes to our already created list, whithout having to go for compiling it again. \n",
    "- If we have to remove certain elements from an already created list, the original list shrinks dynamically without the need of compiling/running the program again (as in case of heap memory in C/C++)"
   ]
  },
  {
   "cell_type": "markdown",
   "id": "8d53ee2a-b4b8-4b9b-9a0a-b5c02260c4ae",
   "metadata": {},
   "source": [
    "#### a. Removing element from a List using `list.pop(index)` method\n",
    "- The `list.pop()` method without any argument removes the last item (right most element) in the list and returns it\n",
    "- If given an argument/index, will remove that item from list whose index is given and returns it"
   ]
  },
  {
   "cell_type": "code",
   "execution_count": null,
   "id": "dec2f368-66e5-4e95-9d7e-a77b892de593",
   "metadata": {},
   "outputs": [],
   "source": [
    "mylist = ['Learning', 'Practical', 'Data', 'Science', 'with', 'Ehtisham', 'Sadiq']\n",
    "print(\"Original list: \", mylist)"
   ]
  },
  {
   "cell_type": "code",
   "execution_count": null,
   "id": "4446505c-e6b2-42c0-965b-9ba64445e9d5",
   "metadata": {},
   "outputs": [],
   "source": [
    "x  = mylist.pop()\n",
    "print(\"\\nAfter pop(): \", mylist)\n",
    "print(\"Element popped is: \", x)"
   ]
  },
  {
   "cell_type": "code",
   "execution_count": null,
   "id": "b96bc40e-7ea3-4d71-ad2c-c6dfcf69f9d7",
   "metadata": {},
   "outputs": [],
   "source": [
    "mylist.pop()"
   ]
  },
  {
   "cell_type": "markdown",
   "id": "df7ef568-cf81-499b-bf28-8e2ae169e72e",
   "metadata": {},
   "source": [
    "#### b. Removing element from a list using `list.remove(val)` method\n",
    "- The `list.remove(value)` method is used when you want to remove a specific element without returning it\n",
    "- It is passed exactly one argument, which is the value to be removed and returns none/void\n",
    "- In case of multiple occurrances, it removes the first occurrence of the element"
   ]
  },
  {
   "cell_type": "code",
   "execution_count": 58,
   "id": "bbd4e26d-5b37-4053-9264-2f3d4d251e33",
   "metadata": {},
   "outputs": [
    {
     "name": "stdout",
     "output_type": "stream",
     "text": [
      "\n",
      "Original list:  ['Learning', 'Practical', 'Data', 'Science', 'with', 'Ehtisham', 'Sadiq', 'Data']\n"
     ]
    }
   ],
   "source": [
    "mylist = ['Learning', 'Practical', 'Data', 'Science', 'with', 'Ehtisham', 'Sadiq', 'Data']\n",
    "print(\"\\nOriginal list: \", mylist)"
   ]
  },
  {
   "cell_type": "code",
   "execution_count": 59,
   "id": "1c1c4d11-8171-4391-9386-d8d5a28503b4",
   "metadata": {},
   "outputs": [
    {
     "name": "stdout",
     "output_type": "stream",
     "text": [
      "After remove('Data'):  ['Learning', 'Practical', 'Science', 'with', 'Ehtisham', 'Sadiq', 'Data']\n",
      "Return value of remove() is:  None\n"
     ]
    }
   ],
   "source": [
    "x = mylist.remove('Data')\n",
    "print(\"After remove('Data'): \", mylist)\n",
    "print(\"Return value of remove() is: \", x)"
   ]
  },
  {
   "cell_type": "code",
   "execution_count": 60,
   "id": "65ac0d2a-8b1b-447a-b459-a7749038aecb",
   "metadata": {},
   "outputs": [
    {
     "ename": "ValueError",
     "evalue": "list.remove(x): x not in list",
     "output_type": "error",
     "traceback": [
      "\u001b[0;31m---------------------------------------------------------------------------\u001b[0m",
      "\u001b[0;31mValueError\u001b[0m                                Traceback (most recent call last)",
      "Cell \u001b[0;32mIn[60], line 1\u001b[0m\n\u001b[0;32m----> 1\u001b[0m x \u001b[38;5;241m=\u001b[39m mylist\u001b[38;5;241m.\u001b[39mremove(\u001b[38;5;124m'\u001b[39m\u001b[38;5;124mAli\u001b[39m\u001b[38;5;124m'\u001b[39m)\n\u001b[1;32m      3\u001b[0m \u001b[38;5;28mprint\u001b[39m(\u001b[38;5;124m\"\u001b[39m\u001b[38;5;124mAfter remove(\u001b[39m\u001b[38;5;124m'\u001b[39m\u001b[38;5;124mData\u001b[39m\u001b[38;5;124m'\u001b[39m\u001b[38;5;124m): \u001b[39m\u001b[38;5;124m\"\u001b[39m, mylist)\n\u001b[1;32m      4\u001b[0m \u001b[38;5;28mprint\u001b[39m(\u001b[38;5;124m\"\u001b[39m\u001b[38;5;124mReturn value of remove() is: \u001b[39m\u001b[38;5;124m\"\u001b[39m, x)\n",
      "\u001b[0;31mValueError\u001b[0m: list.remove(x): x not in list"
     ]
    }
   ],
   "source": [
    "x = mylist.remove('Ali')\n",
    "\n",
    "print(\"After remove('Data'): \", mylist)\n",
    "print(\"Return value of remove() is: \", x)"
   ]
  },
  {
   "cell_type": "markdown",
   "id": "46a70346-075d-45d0-bce8-7f8c0d5cd9b1",
   "metadata": {},
   "source": [
    "#### c. Using `list.clear()` method to remove all the list elements"
   ]
  },
  {
   "cell_type": "code",
   "execution_count": null,
   "id": "579e7341-5dc6-4c91-9c33-deda0035106a",
   "metadata": {},
   "outputs": [],
   "source": [
    "# Do by yourself"
   ]
  },
  {
   "cell_type": "markdown",
   "id": "f2058ea0-5136-401e-8960-4175ab5e1883",
   "metadata": {},
   "source": [
    "#### d. Using `del` Keyword to delete one or more list items or delete the list entirely from memory"
   ]
  },
  {
   "cell_type": "markdown",
   "id": "781aeea1-cc00-45ff-bcdf-dc88ae44ca17",
   "metadata": {},
   "source": [
    "### Converting String object to List and vice-versa (IMP)"
   ]
  },
  {
   "cell_type": "code",
   "execution_count": null,
   "id": "7fcbc6a8-34ef-4961-a659-82a0ec001d26",
   "metadata": {},
   "outputs": [],
   "source": [
    "# Name of both methods"
   ]
  },
  {
   "cell_type": "markdown",
   "id": "7c89d4f2-8983-4b5d-87da-cde896fdb815",
   "metadata": {},
   "source": [
    "### Some Built-in Functions that can be used on Lists"
   ]
  },
  {
   "cell_type": "code",
   "execution_count": null,
   "id": "7f7ab872-ebbb-47c7-a700-73e14358011e",
   "metadata": {},
   "outputs": [],
   "source": [
    "list_num = [3, 8, 1, 6, 0, 8, 4]\n",
    "list_num"
   ]
  },
  {
   "cell_type": "code",
   "execution_count": null,
   "id": "dc0e5629-ec3c-43fa-804b-ccaf40a6804b",
   "metadata": {},
   "outputs": [],
   "source": [
    "print(\"length of list: \", len(list_num))\n",
    "print(\"max element in list: \", max(list_num))\n",
    "print(\"min element in list: \",min(list_num))\n",
    "print(\"Sum of element in list: \",sum(list_num))"
   ]
  },
  {
   "cell_type": "markdown",
   "id": "d5143dd6-c145-4fef-b78b-5531d42a7140",
   "metadata": {},
   "source": [
    "### Simple Assignment (aliasing) vs Shallow Copy vs Deep Copy\n",
    "\n",
    "<img src=\"images/deep-shallow.png\" height=500px width=500px>"
   ]
  },
  {
   "cell_type": "code",
   "execution_count": null,
   "id": "e44fda25-c079-411c-bdc0-733eb86dcdd4",
   "metadata": {},
   "outputs": [],
   "source": []
  },
  {
   "cell_type": "markdown",
   "id": "357afe04-fb34-4b86-b55a-08e0eab6dd70",
   "metadata": {},
   "source": [
    "###  Sorting a List\n",
    "- You can use following three methods to sort list elements\n",
    "    - The `list.sort()` method can sort the list elements (ascending + descending) on which it is called and returns None (modifies the list on which it is called).\n",
    "    - The `list.reverse()` method simply reverse the list elements on which it is called and returns None (modifies the list on which it is called).\n",
    "    - The `sorted(iterable)` is a built-in function, which returns a sorted version of the list, which is passed to it as parameter (list remains as it is). Limitation is it is a bit slow as it makes a copy of the list. Advantage is that it can sort any iterable."
   ]
  },
  {
   "cell_type": "markdown",
   "id": "772a0c10-0ac3-43cb-8984-5e8f8708a72f",
   "metadata": {},
   "source": [
    "#### a. The `list.sort()` method"
   ]
  },
  {
   "cell_type": "code",
   "execution_count": null,
   "id": "3aa95332-999b-4581-9414-e4df3ee94a9c",
   "metadata": {},
   "outputs": [],
   "source": [
    "list_num = [3, 8, 1, 6, 0, 8, 4]\n",
    "print(\"Original numbers list: \", list_num)"
   ]
  },
  {
   "cell_type": "code",
   "execution_count": null,
   "id": "7a0ba2c6-3ad0-4140-96c4-61fe68f9bba5",
   "metadata": {},
   "outputs": [],
   "source": [
    "list_num.sort()\n",
    "print(\"Ascending Sort: \", list_num)\n",
    "\n",
    "list_num.sort(reverse=True)\n",
    "print(\"Descending Sort: \", list_num)"
   ]
  },
  {
   "cell_type": "code",
   "execution_count": null,
   "id": "9023a338-109a-46be-9182-0fa33162d0da",
   "metadata": {},
   "outputs": [],
   "source": []
  },
  {
   "cell_type": "markdown",
   "id": "daf995cd-140d-43d5-9457-f1099895adfa",
   "metadata": {},
   "source": [
    "#### b. Custom Sorting using `list.sort()` Method\n",
    "**Example 1: Suppose given a list with elements `['ccc', 'aaaaa', 'd', 'bb']` and I want to sort it by length of strings within the list so that the output list is like : `['d', 'bb', 'ccc', 'aaaaa']`**\n",
    "\n",
    "```\n",
    "    list.sort(*, key=None, reverse=False)\n",
    "```\n",
    "- We write a one argument function, and pass that function to the `key` parameter of `list.sort()` method\n",
    "- The `list.sort()` method will run this one argument function on all the elements of the list and return a single value, and build up a shadow list of those new values. \n",
    "- Suppose the one argument function in this case is the Python built-in function `len()`, which when called on every element of `list1` will return a shadow list containing length of every string within the original list containing `[3,4,2,1]`\n",
    "- The `list1.sort()` method will then sort `list1` elements based on the values of the shadow list and generate the required sorted list :)"
   ]
  },
  {
   "cell_type": "code",
   "execution_count": 61,
   "id": "bdbaa548-4b53-45c4-8e12-01738906afe0",
   "metadata": {},
   "outputs": [
    {
     "data": {
      "text/plain": [
       "['aaaaa', 'bb', 'ccc', 'd']"
      ]
     },
     "execution_count": 61,
     "metadata": {},
     "output_type": "execute_result"
    }
   ],
   "source": [
    "list1 = ['ccc', 'aaaaa', 'd', 'bb']\n",
    "list1.sort()\n",
    "list1"
   ]
  },
  {
   "cell_type": "code",
   "execution_count": 62,
   "id": "eb74fe44-99cb-47a9-a45f-8a9b449ce764",
   "metadata": {},
   "outputs": [
    {
     "data": {
      "text/plain": [
       "['d', 'bb', 'ccc', 'aaaaa']"
      ]
     },
     "execution_count": 62,
     "metadata": {},
     "output_type": "execute_result"
    }
   ],
   "source": [
    "list1 = ['ccc', 'aaaaa', 'd', 'bb']\n",
    "list1.sort(key=len)\n",
    "list1"
   ]
  },
  {
   "cell_type": "code",
   "execution_count": 63,
   "id": "1034fef0-6221-4028-92e8-b4b3436f27a4",
   "metadata": {},
   "outputs": [
    {
     "data": {
      "text/plain": [
       "['aaaaa', 'ccc', 'bb', 'd']"
      ]
     },
     "execution_count": 63,
     "metadata": {},
     "output_type": "execute_result"
    }
   ],
   "source": [
    "list1 = ['ccc', 'aaaaa', 'd', 'bb']\n",
    "list1.sort(key=len, reverse=True)\n",
    "list1"
   ]
  },
  {
   "cell_type": "code",
   "execution_count": null,
   "id": "2be06bd7-5470-4c2c-bb4b-3d9b70f80028",
   "metadata": {},
   "outputs": [],
   "source": []
  },
  {
   "cell_type": "markdown",
   "id": "89330233-07a2-4e43-8423-3af5e5ac6d96",
   "metadata": {},
   "source": [
    "**Example 2: Suppose given a list with elements `['abcz', 'xyza', 'bas', 'Ehtisham']` and I want to sort it by last character of strings within the list so that the output list is like : `['xyza', 'Ehtisham', 'bas', 'abcz']`**\n",
    "\n",
    "```\n",
    "    list.sort(*, key=None, reverse=False)\n",
    "```\n",
    "- We write a one argument function, and pass that function to the `key` parameter of `list.sort()` method\n",
    "- The `list.sort()` method will run this one argument function on all the elements of the list and return a single value, and build up a shadow list of those new values. \n",
    "- This time the one argument function is a custom built function that receives a string and returns its last character. When called on every element of `list1` will return a shadow list containing only the last character of every string within the original list containing `['z', 'a', 's', 'f']`\n",
    "- The `list1.sort()` method will then sort `list1` elements based on the values of the shadow list and generate the required sorted list :)"
   ]
  },
  {
   "cell_type": "code",
   "execution_count": 64,
   "id": "cd8784f6-818b-496c-b8fd-11970e72852b",
   "metadata": {},
   "outputs": [
    {
     "data": {
      "text/plain": [
       "'m'"
      ]
     },
     "execution_count": 64,
     "metadata": {},
     "output_type": "execute_result"
    }
   ],
   "source": [
    "def last(s):\n",
    "    return s[-1] \n",
    "last(\"Ehtisham\")"
   ]
  },
  {
   "cell_type": "code",
   "execution_count": 65,
   "id": "53a353e6-3e79-4663-aba8-7c7f2bfbc9bf",
   "metadata": {},
   "outputs": [
    {
     "data": {
      "text/plain": [
       "['abcz', 'xyza', 'bas', 'Ehtisham']"
      ]
     },
     "execution_count": 65,
     "metadata": {},
     "output_type": "execute_result"
    }
   ],
   "source": [
    "list1 = ['abcz', 'xyza', 'bas', 'Ehtisham']\n",
    "list1"
   ]
  },
  {
   "cell_type": "code",
   "execution_count": 66,
   "id": "06af12b0-35c7-4e03-9ea0-9d89ef6e253a",
   "metadata": {},
   "outputs": [
    {
     "data": {
      "text/plain": [
       "['xyza', 'Ehtisham', 'bas', 'abcz']"
      ]
     },
     "execution_count": 66,
     "metadata": {},
     "output_type": "execute_result"
    }
   ],
   "source": [
    "list1.sort(key=last)\n",
    "list1"
   ]
  },
  {
   "cell_type": "code",
   "execution_count": null,
   "id": "5d6aa6bd-28d3-43a9-8064-ba13e9fa0f9f",
   "metadata": {},
   "outputs": [],
   "source": []
  },
  {
   "cell_type": "markdown",
   "id": "cc9c85c4-1f4e-4da3-bbba-f5d5ea35917e",
   "metadata": {},
   "source": [
    "### More Concepts\n",
    "#### a. Use of  `in` Operator on Lists\n",
    "#### b. Comparing objects and values"
   ]
  },
  {
   "cell_type": "code",
   "execution_count": null,
   "id": "a82e8b30-1ac0-484e-886b-20a111d6a689",
   "metadata": {},
   "outputs": [],
   "source": [
    "# is, =="
   ]
  },
  {
   "cell_type": "code",
   "execution_count": null,
   "id": "0cf06daa-78ff-47ac-8730-5a1ac578a7c4",
   "metadata": {},
   "outputs": [],
   "source": []
  },
  {
   "cell_type": "markdown",
   "id": "75d77813-c1a9-43d1-870a-4dc4cd7b2893",
   "metadata": {},
   "source": [
    "## Check your Concepts\n",
    "\n",
    "Try answering the following questions to test your understanding of the topics covered in this notebook:\n",
    "\n",
    "1. What is a list in Python?\n",
    "2. How do you create a list?\n",
    "3. Can a Python list contain values of different data types?\n",
    "4. Can a list contain another list as an element within it?\n",
    "5. Can you create a list without any values?\n",
    "6. How do you check the length of a list in Python?\n",
    "7. How do you retrieve a value from a list?\n",
    "8. What is the smallest and largest index you can use to access elements from a list containing five elements?\n",
    "9. What happens if you try to access an index equal to or larger than the size of a list?\n",
    "10. What happens if you try to access a negative index within a list?\n",
    "11. How do you access a range of elements from a list?\n",
    "12. How many elements does the list returned by the expression `a_list[2:5]` contain?\n",
    "13. What do the ranges `a_list[:2]` and `a_list[2:]` represent?\n",
    "14. How do you change the item stored at a specific index within a list?\n",
    "15. How do you insert a new item at the beginning, middle, or end of a list?\n",
    "16. How do you remove an item from al list?\n",
    "17. How do you remove the item at a given index from a list?\n",
    "18. How do you check if a list contains a value?\n",
    "19. How do you combine two or most lists to create a larger list?\n",
    "20. How do you create a copy of a list?\n",
    "21. Does the expression `a_new_list = a_list` create a copy of the list `a_list`?\n",
    "22. How can you find the list of all the methods supported by lists?\n",
    "23. Understand the difference between creating an alias of a list, and shallow copy and deep copy"
   ]
  },
  {
   "cell_type": "code",
   "execution_count": null,
   "id": "dd1d1cde-677b-441f-8755-20a1ff858d53",
   "metadata": {},
   "outputs": [],
   "source": []
  },
  {
   "cell_type": "code",
   "execution_count": null,
   "id": "bf01ef9c-dccf-4ec7-a2d1-4b57b15e670a",
   "metadata": {},
   "outputs": [],
   "source": []
  },
  {
   "cell_type": "code",
   "execution_count": null,
   "id": "c1a63f29-b7e6-4eb4-8ff8-34684534f246",
   "metadata": {},
   "outputs": [],
   "source": []
  },
  {
   "cell_type": "code",
   "execution_count": null,
   "id": "da2be196-60aa-46ab-bf20-853dd3316039",
   "metadata": {},
   "outputs": [],
   "source": []
  },
  {
   "cell_type": "code",
   "execution_count": null,
   "id": "545c75bb-03cc-45e7-bb2c-0ec38e67d22d",
   "metadata": {},
   "outputs": [],
   "source": []
  },
  {
   "cell_type": "code",
   "execution_count": null,
   "id": "3adf6be1-8635-43f8-8d7d-462ec6289d50",
   "metadata": {},
   "outputs": [],
   "source": []
  },
  {
   "cell_type": "code",
   "execution_count": null,
   "id": "d949f838-5a5c-41d1-91ca-0c16e94b1e7e",
   "metadata": {},
   "outputs": [],
   "source": []
  },
  {
   "cell_type": "code",
   "execution_count": null,
   "id": "bbab30f3-0170-464c-af74-ad43570f9840",
   "metadata": {},
   "outputs": [],
   "source": []
  },
  {
   "cell_type": "code",
   "execution_count": null,
   "id": "688af94f-db40-43aa-8999-33b597dc245a",
   "metadata": {},
   "outputs": [],
   "source": []
  },
  {
   "cell_type": "code",
   "execution_count": null,
   "id": "0a40061e-f33b-4b6d-953d-6de035ee3b14",
   "metadata": {},
   "outputs": [],
   "source": [
    "from IPython.core.display import HTML\n",
    "\n",
    "style = \"\"\"\n",
    "    <style>\n",
    "        body {\n",
    "            background-color: #f2fff2;\n",
    "        }\n",
    "        h1 {\n",
    "            text-align: center;\n",
    "            font-weight: bold;\n",
    "            font-size: 36px;\n",
    "            color: #4295F4;\n",
    "            text-decoration: underline;\n",
    "            padding-top: 15px;\n",
    "        }\n",
    "        \n",
    "        h2 {\n",
    "            text-align: left;\n",
    "            font-weight: bold;\n",
    "            font-size: 30px;\n",
    "            color: #4A000A;\n",
    "            text-decoration: underline;\n",
    "            padding-top: 10px;\n",
    "        }\n",
    "        \n",
    "        h3 {\n",
    "            text-align: left;\n",
    "            font-weight: bold;\n",
    "            font-size: 30px;\n",
    "            color: #f0081e;\n",
    "            text-decoration: underline;\n",
    "            padding-top: 5px;\n",
    "        }\n",
    "\n",
    "        \n",
    "        p {\n",
    "            text-align: center;\n",
    "            font-size: 12 px;\n",
    "            color: #0B9923;\n",
    "        }\n",
    "    </style>\n",
    "\"\"\"\n",
    "\n",
    "html_content = \"\"\"\n",
    "<h1>Hello</h1>\n",
    "<p>Hello World</p>\n",
    "<h2> Hello</h2>\n",
    "<h3> World </h3>\n",
    "\"\"\"\n",
    "\n",
    "HTML(style + html_content)"
   ]
  },
  {
   "cell_type": "code",
   "execution_count": null,
   "id": "b77ff231-d099-49d1-8ead-7ca9118e7b65",
   "metadata": {},
   "outputs": [],
   "source": []
  },
  {
   "cell_type": "markdown",
   "id": "f06c412f-7047-4f2a-8327-1140f8b4fd2a",
   "metadata": {},
   "source": [
    "\n",
    "<h1> Dictionary Data structures and Control Structures </h1>"
   ]
  },
  {
   "cell_type": "markdown",
   "id": "b3b999b7-527d-452a-8366-3ca5b0d275b3",
   "metadata": {},
   "source": [
    "## Learning agenda of this notebook\n",
    "* **Motivation to use Dictionary**\n",
    "1. How to create dictionaries?\n",
    "2. Proof of concepts\n",
    "3. Accessing elements of a dictionary\n",
    "4. Adding/Modifying elements of a dictionary\n",
    "5. Removing elements from a dictionary\n",
    "6. Dictionary, tuple and list conversions\n",
    "7. Sorting Dictionary values\n",
    "8. Aliasing vs Shallow Copy vs Deep Copy"
   ]
  },
  {
   "cell_type": "code",
   "execution_count": null,
   "id": "f5f94833-290d-411a-97c4-2d6c5d45bf1c",
   "metadata": {},
   "outputs": [],
   "source": []
  },
  {
   "cell_type": "markdown",
   "id": "e3e56bcf-3262-4bc0-9de6-6be74451c39b",
   "metadata": {},
   "source": [
    "### Motivation to use Dictionary\n",
    "Let's solve a problem to see benefits of dictionary.  \n",
    "How you can get marks of a specific student by using both lists students and name.  "
   ]
  },
  {
   "cell_type": "code",
   "execution_count": 67,
   "id": "f7211565-6d6d-42aa-97ef-8f959fcafe3f",
   "metadata": {},
   "outputs": [],
   "source": [
    "students = ['Ehtisham', 'Ali', 'Ayesha', 'Dua', 'Adeen']\n",
    "marks = [81, 52, 70, 74, 78]\n",
    "# add\n",
    "# phone"
   ]
  },
  {
   "cell_type": "code",
   "execution_count": null,
   "id": "8b79793d-3c44-485b-85c4-ab5233fbed33",
   "metadata": {},
   "outputs": [],
   "source": []
  },
  {
   "cell_type": "code",
   "execution_count": null,
   "id": "154d1731-70e3-4494-9972-2ddb0f7d7a6c",
   "metadata": {},
   "outputs": [],
   "source": []
  },
  {
   "cell_type": "code",
   "execution_count": null,
   "id": "95f3d10a-b28b-46fb-8329-b86c0c13d246",
   "metadata": {},
   "outputs": [],
   "source": []
  },
  {
   "cell_type": "code",
   "execution_count": null,
   "id": "395377c0-5526-49d0-90cb-1b442f51c2e8",
   "metadata": {},
   "outputs": [],
   "source": []
  },
  {
   "cell_type": "code",
   "execution_count": 68,
   "id": "5aa92886-55a4-4212-88a3-3a5132ac30fd",
   "metadata": {},
   "outputs": [
    {
     "data": {
      "text/plain": [
       "52"
      ]
     },
     "execution_count": 68,
     "metadata": {},
     "output_type": "execute_result"
    }
   ],
   "source": [
    "def get_marks(name):\n",
    "    index = students.index(name)\n",
    "    return marks[index]\n",
    "get_marks('Ali')"
   ]
  },
  {
   "cell_type": "code",
   "execution_count": null,
   "id": "cf1f2c48-521b-4885-9c77-ea3d6aae9480",
   "metadata": {},
   "outputs": [],
   "source": []
  },
  {
   "cell_type": "code",
   "execution_count": null,
   "id": "1ac65dfc-e5b9-4152-87c4-660ce3a81c61",
   "metadata": {},
   "outputs": [],
   "source": []
  },
  {
   "cell_type": "markdown",
   "id": "27a256b7-16e5-4c9d-9917-f6fe15812a62",
   "metadata": {},
   "source": [
    "### 1. How to create Dictionaries?\n",
    "- A Dictionary object  is created by placing comma separated `key:value` pairs in curly braces.\n",
    "- The keys of a dictionary has to be unique and can be of heterogeneous immutable types only (int, string or tuple).\n",
    "- The values can be duplicated and can be of heterogeneous types (mutable + immutable).\n",
    "\n",
    "<img align=\"center\" width=\"900\" height=\"900\"  src=\"images/dict_main.png\" > "
   ]
  },
  {
   "cell_type": "code",
   "execution_count": 69,
   "id": "920e5566-a55f-41c2-940c-62e8c66b2157",
   "metadata": {},
   "outputs": [],
   "source": [
    "# A dictionary with string keys, and integer values, showing age of person\n",
    "dict1 = {\n",
    "    'Ehtisham':51, \n",
    "    'Ali':52, \n",
    "    'Dua':22,\n",
    "}"
   ]
  },
  {
   "cell_type": "code",
   "execution_count": 71,
   "id": "d9a80145-3f60-458c-8bcc-9d1627a90739",
   "metadata": {},
   "outputs": [
    {
     "data": {
      "text/plain": [
       "52"
      ]
     },
     "execution_count": 71,
     "metadata": {},
     "output_type": "execute_result"
    }
   ],
   "source": [
    "dict1['Ali']"
   ]
  },
  {
   "cell_type": "code",
   "execution_count": 70,
   "id": "0c06a5f0-ba26-44c3-b982-fb9fd349beca",
   "metadata": {},
   "outputs": [
    {
     "name": "stdout",
     "output_type": "stream",
     "text": [
      "{'Ehtisham': 51, 'Ali': 52, 'Dua': 22}\n",
      "<class 'dict'>\n",
      "4425739584\n"
     ]
    }
   ],
   "source": [
    "print(dict1)\n",
    "print(type(dict1))\n",
    "print(id(dict1))"
   ]
  },
  {
   "cell_type": "code",
   "execution_count": null,
   "id": "99ea5198-d4c4-4fda-ad98-76ddfc954a9d",
   "metadata": {},
   "outputs": [],
   "source": [
    "# dictionary with mixed keys (immutable types only)\n",
    "dict2 = {\n",
    "    'name': 'ali', \n",
    "    1: 10,\n",
    "    'abc':25,\n",
    "    33: 'xyz'\n",
    "}\n",
    "print(dict2)"
   ]
  },
  {
   "cell_type": "code",
   "execution_count": null,
   "id": "dc4ef864-c89d-4fa9-aba0-6855d80933ec",
   "metadata": {},
   "outputs": [],
   "source": []
  },
  {
   "cell_type": "markdown",
   "id": "8e7476ac-14a3-4cc5-b3bb-5eda91ebb099",
   "metadata": {},
   "source": [
    "### 2. Proof of concepts\n",
    "#### a. Dictionary allows Duplicate Values"
   ]
  },
  {
   "cell_type": "code",
   "execution_count": null,
   "id": "b458ff73-acd7-420e-a4dc-d1f60c86f3a6",
   "metadata": {},
   "outputs": [],
   "source": [
    "# Duplicate values are allowed\n",
    "d1 = {\n",
    "    'name1' : 'ali',\n",
    "     'name2' : 'ali'\n",
    "     }\n",
    "d1"
   ]
  },
  {
   "cell_type": "markdown",
   "id": "0f146991-8bcb-4ae5-8be3-82504dd1e724",
   "metadata": {},
   "source": [
    "#### b. Dictionary DOESNOT allows Duplicate Keys"
   ]
  },
  {
   "cell_type": "code",
   "execution_count": 72,
   "id": "345fc069-b0be-4954-85d1-bbae6f2c2ce1",
   "metadata": {},
   "outputs": [
    {
     "data": {
      "text/plain": [
       "{'name': 'AYESHA'}"
      ]
     },
     "execution_count": 72,
     "metadata": {},
     "output_type": "execute_result"
    }
   ],
   "source": [
    "# Duplicate keys are not allowed\n",
    "# This will not raise an error, but will overwrite the value corresponding to the key\n",
    "d1 = { \n",
    "     'name' : 'ali',\n",
    "     'name' : 'ehtisham',\n",
    "     'name' : 'AYESHA'\n",
    "     }\n",
    "d1"
   ]
  },
  {
   "cell_type": "markdown",
   "id": "4d8b8c67-c9b8-4181-a01a-0fa78c14b8b8",
   "metadata": {},
   "source": [
    "#### c. Keys inside Dictionaries Must be of Immutable data types\n",
    "- The keys of a dictionary has to be of immutable data type `(number, string, tuple)`"
   ]
  },
  {
   "cell_type": "code",
   "execution_count": null,
   "id": "c3cc9187-7121-46bb-bb79-739611e04b2c",
   "metadata": {},
   "outputs": [],
   "source": [
    "# Tuple being immutable can be used as a key\n",
    "d1 = {\n",
    "        'ali':'name', \n",
    "      (60, 78, 83): 'marks' \n",
    "     }\n",
    "d1"
   ]
  },
  {
   "cell_type": "code",
   "execution_count": null,
   "id": "9b8c4add-bb86-476f-b802-80880be75b6b",
   "metadata": {},
   "outputs": [],
   "source": [
    "# List being mutable cannot be used as a key\n",
    "d1 = {\n",
    "      'ali':'name', \n",
    "      [60, 78, 83]:'marks' \n",
    "     }\n",
    "d1"
   ]
  },
  {
   "cell_type": "markdown",
   "id": "a2028649-ced3-4637-98a9-00854cc68b3a",
   "metadata": {},
   "source": [
    "#### d. Values inside Dictionaies can be of mutable/immutable data type"
   ]
  },
  {
   "cell_type": "code",
   "execution_count": null,
   "id": "45d14017-cb0b-4ad2-9edc-caf2b7256609",
   "metadata": {},
   "outputs": [],
   "source": [
    "# List being mutable can be used as a value\n",
    "d1 = {\n",
    "     'name':'Ali', \n",
    "      'marks':[60,78,83] \n",
    "     }\n",
    "d1"
   ]
  },
  {
   "cell_type": "code",
   "execution_count": null,
   "id": "4c659842-2f35-4cde-9a5e-b1cbfa5d0d1d",
   "metadata": {},
   "outputs": [],
   "source": [
    "# Tuple being immutable can also be used as a value\n",
    "d1 = {\n",
    "    'name':'ali', \n",
    "      'marks': (60,78,83) \n",
    "     }\n",
    "d1"
   ]
  },
  {
   "cell_type": "code",
   "execution_count": null,
   "id": "6bdc9f5f-4ae4-4a73-8c7d-57cdec890490",
   "metadata": {},
   "outputs": [],
   "source": []
  },
  {
   "cell_type": "markdown",
   "id": "b2bc90d6-76e1-4093-b8f2-c77e5b50758a",
   "metadata": {},
   "source": [
    "#### e. Dictionaries are heterogeneous\n",
    "- The keys of a dictionary can be of integer, string, or tuple type\n",
    "- The values of a dictionary can be of any data type"
   ]
  },
  {
   "cell_type": "code",
   "execution_count": null,
   "id": "a02b21a2-addf-45b0-99d1-b66d56c9da4f",
   "metadata": {},
   "outputs": [],
   "source": [
    "# dictionary with mixed keys (immutable types only)\n",
    "dict2 = {\n",
    "    'name': 'ali', \n",
    "    1: 10,\n",
    "    'abc':25,\n",
    "    33: 'xyz'\n",
    "}\n",
    "print(dict2)"
   ]
  },
  {
   "cell_type": "code",
   "execution_count": null,
   "id": "c6259588-6125-4154-ba5d-e0ded3cac10f",
   "metadata": {},
   "outputs": [],
   "source": []
  },
  {
   "cell_type": "markdown",
   "id": "196e92d0-189a-4189-8507-bab2689ac858",
   "metadata": {},
   "source": [
    "#### f. Dictionaries can be nested to arbitrary depth"
   ]
  },
  {
   "cell_type": "code",
   "execution_count": null,
   "id": "000ccb7c-4371-4ff9-a8d4-5e1177801526",
   "metadata": {},
   "outputs": [],
   "source": [
    "# Creating a Nested Dictionary\n",
    "dict7 = {\n",
    "        'name':'ehtisham', \n",
    "         'status':'ML Engineer',\n",
    "        'address':{'house#' : 35, 'area' : 'Pak Villas Housing Society', 'city' : 'Okara'},\n",
    "         'phone': '03460000000'\n",
    "        }\n",
    "dict7"
   ]
  },
  {
   "cell_type": "code",
   "execution_count": null,
   "id": "675b0876-447d-4814-8210-779ea6ea536f",
   "metadata": {},
   "outputs": [],
   "source": []
  },
  {
   "cell_type": "markdown",
   "id": "440d6a9e-1dc1-4460-a416-0ee82a1fe805",
   "metadata": {},
   "source": [
    "### 3. Accessing Elements of a Dictionary\n",
    "#### a. Retrieving a `value`of a Dictionary given a `key`\n",
    "- Given a key, you can retrieve corresponding value from a dictionary using two ways:\n",
    "    - Use key inside `[]` operator\n",
    "    - Pass the key as argument to `dict.get(key)` method"
   ]
  },
  {
   "cell_type": "code",
   "execution_count": null,
   "id": "7f8136bd-6454-4e56-99ab-7fbb92972a96",
   "metadata": {},
   "outputs": [],
   "source": [
    "# List[5], str[4:10]"
   ]
  },
  {
   "cell_type": "code",
   "execution_count": 73,
   "id": "69b4a115-51c9-432d-9949-c5b5b875df31",
   "metadata": {},
   "outputs": [
    {
     "data": {
      "text/plain": [
       "{'name': 'Ehisham', 'age': 22, 'address': 'Pak Villas', 'marks': [60, 75, 80]}"
      ]
     },
     "execution_count": 73,
     "metadata": {},
     "output_type": "execute_result"
    }
   ],
   "source": [
    "d1 = {\n",
    "    'name':'Ehisham', \n",
    "    'age':22, \n",
    "    'address':'Pak Villas', \n",
    "    'marks':[60, 75, 80]\n",
    "}\n",
    "d1"
   ]
  },
  {
   "cell_type": "code",
   "execution_count": 74,
   "id": "9adce9bb-84be-473b-9fd3-36724d1d04fc",
   "metadata": {},
   "outputs": [
    {
     "data": {
      "text/plain": [
       "'Pak Villas'"
      ]
     },
     "execution_count": 74,
     "metadata": {},
     "output_type": "execute_result"
    }
   ],
   "source": [
    "d1['address']"
   ]
  },
  {
   "cell_type": "code",
   "execution_count": null,
   "id": "eb9bb280-652d-41c1-9101-f9e6aa12d36a",
   "metadata": {},
   "outputs": [],
   "source": [
    "d1.get('marks')"
   ]
  },
  {
   "cell_type": "code",
   "execution_count": null,
   "id": "1a9ec817-a0d3-4364-a087-7265e41a23ae",
   "metadata": {},
   "outputs": [],
   "source": [
    "d1['add'] # error"
   ]
  },
  {
   "cell_type": "code",
   "execution_count": null,
   "id": "fbfe7cfb-41d4-41a7-9927-d6a89f6daf4a",
   "metadata": {},
   "outputs": [],
   "source": [
    "d1.get('mark', None)"
   ]
  },
  {
   "cell_type": "code",
   "execution_count": null,
   "id": "5a008d2a-4612-4b2c-8374-3f051ccb82cc",
   "metadata": {},
   "outputs": [],
   "source": []
  },
  {
   "cell_type": "markdown",
   "id": "7974d73d-241b-4a00-b0e7-b8b276b8a1ec",
   "metadata": {},
   "source": [
    "**To retrieve a value from a nested dictionary**"
   ]
  },
  {
   "cell_type": "code",
   "execution_count": null,
   "id": "4569e75d-ab31-4e12-b8f3-7d13387c32cb",
   "metadata": {},
   "outputs": [],
   "source": [
    "# mat1 = # list 4th row 5th value"
   ]
  },
  {
   "cell_type": "code",
   "execution_count": null,
   "id": "2f5b4b03-2a88-42a3-857d-b39d261c10a2",
   "metadata": {},
   "outputs": [],
   "source": [
    "d2 = {\n",
    "        'name':'ehtisham', \n",
    "         'status':'ML Engineer',\n",
    "        'address':{'house#' : 35, \n",
    "                   'area' : 'Pak Villas Housing Society', \n",
    "                   'city' : 'Okara'},\n",
    "         'phone': '03460000000'\n",
    "        }\n",
    "d2"
   ]
  },
  {
   "cell_type": "code",
   "execution_count": null,
   "id": "d3c7f673-28c2-4d60-92fe-0d769d20282e",
   "metadata": {},
   "outputs": [],
   "source": [
    "d2['address']"
   ]
  },
  {
   "cell_type": "code",
   "execution_count": null,
   "id": "c9b4650c-a6df-474b-8ca8-8762933c90c7",
   "metadata": {},
   "outputs": [],
   "source": [
    "d2['address']['city']"
   ]
  },
  {
   "cell_type": "code",
   "execution_count": null,
   "id": "4a1e44f7-2732-4bdb-b3e0-a5bf8ea2367f",
   "metadata": {},
   "outputs": [],
   "source": [
    "d2.get('address').get('city')"
   ]
  },
  {
   "cell_type": "code",
   "execution_count": null,
   "id": "9f9d05be-2303-4925-9eeb-63dfb4ef38e5",
   "metadata": {},
   "outputs": [],
   "source": [
    "# d2['city']"
   ]
  },
  {
   "cell_type": "markdown",
   "id": "dbffbe4b-97ae-4c43-939f-05a40cc6b75a",
   "metadata": {},
   "source": [
    "#### c. Retrieving all `key:value` pairs from a Dictionary using `dict.items()`  method\n",
    "- The `dict.items()` method returns all the key-value pairs of a dictionary as a two object tuple"
   ]
  },
  {
   "cell_type": "code",
   "execution_count": 75,
   "id": "c5ce42c1-20c7-44e5-9e19-9680789f0543",
   "metadata": {},
   "outputs": [
    {
     "data": {
      "text/plain": [
       "{'name': 'ehtisham',\n",
       " 'status': 'ML Engineer',\n",
       " 'address': {'house#': 35,\n",
       "  'area': 'Pak Villas Housing Society',\n",
       "  'city': 'Okara'},\n",
       " 'phone': '03460000000'}"
      ]
     },
     "execution_count": 75,
     "metadata": {},
     "output_type": "execute_result"
    }
   ],
   "source": [
    "# Creating a Nested Dictionary\n",
    "d1 = {\n",
    "        'name':'ehtisham', \n",
    "         'status':'ML Engineer',\n",
    "        'address':{'house#' : 35, 'area' : 'Pak Villas Housing Society', 'city' : 'Okara'},\n",
    "         'phone': '03460000000'\n",
    "        }\n",
    " \n",
    "d1"
   ]
  },
  {
   "cell_type": "code",
   "execution_count": 78,
   "id": "8845d68e-a55b-41a8-8f92-1493878018a0",
   "metadata": {},
   "outputs": [
    {
     "name": "stdout",
     "output_type": "stream",
     "text": [
      "address {'house#': 35, 'area': 'Pak Villas Housing Society', 'city': 'Okara'}\n"
     ]
    }
   ],
   "source": [
    "for key, value in d1.items():\n",
    "    if key == 'address':\n",
    "        print(key, value)\n",
    "\n",
    "#  list -> [], tuple -> ()"
   ]
  },
  {
   "cell_type": "markdown",
   "id": "8fe31e98-1e1f-4630-ab3c-8c5222e4e713",
   "metadata": {},
   "source": [
    "#### d. Retrieving all `keys` of a Dictionary using `dict.keys()`  method\n",
    "- The `dict.keys()` method returns all the keys  of a dictionary object"
   ]
  },
  {
   "cell_type": "markdown",
   "id": "2847252c-0c4d-4906-a7e3-d1ddffe1ead0",
   "metadata": {},
   "source": [
    "#### e. Retrieving all `values` from a Dictionary using `dict.values()`  method\n",
    "- The `dict.values()` method returns all the values  of a dict object\n",
    "- If a value occurs multiple times in the dictionary, it will appear that many times"
   ]
  },
  {
   "cell_type": "code",
   "execution_count": null,
   "id": "f7f1d38e-d483-47e4-96ce-96fd7e3bb356",
   "metadata": {},
   "outputs": [],
   "source": [
    "d1.keys()"
   ]
  },
  {
   "cell_type": "code",
   "execution_count": null,
   "id": "0d8fb398-0cde-4906-bf9a-14e0acbd5fed",
   "metadata": {},
   "outputs": [],
   "source": [
    "d1.values()"
   ]
  },
  {
   "cell_type": "code",
   "execution_count": null,
   "id": "da028878-872e-4687-b20a-e24ff6755205",
   "metadata": {},
   "outputs": [],
   "source": []
  },
  {
   "cell_type": "markdown",
   "id": "505976f8-7c3f-4d8b-be91-046c22b1fb0d",
   "metadata": {},
   "source": [
    "### 4. Adding/Modifying Elements of a Dictionary\n",
    "#### a. Adding/Modifying Elements using `[]` Operator\n",
    "- You can  modify value associated with a key using `[]` operator and assignment statement\n",
    "```\n",
    "dict[key] = value\n",
    "```\n",
    "- If the key donot already exist, a new key:value is inserted in the dictionary"
   ]
  },
  {
   "cell_type": "code",
   "execution_count": null,
   "id": "198b9fd4-8987-4c34-a2ab-a2be2009f7df",
   "metadata": {},
   "outputs": [],
   "source": [
    "d1 = {\n",
    "    'name':'Ehtisham', \n",
    "    'age':22, \n",
    "    'address':'Pak Villas', \n",
    "    'marks':[60, 75, 80]\n",
    "}\n",
    "d1"
   ]
  },
  {
   "cell_type": "code",
   "execution_count": null,
   "id": "664665a9-1b24-4f61-9093-797c9b60ae3d",
   "metadata": {},
   "outputs": [],
   "source": [
    "d1['address']"
   ]
  },
  {
   "cell_type": "code",
   "execution_count": null,
   "id": "fd87d2a1-f4ea-4a2d-b30f-95948d8f7ce3",
   "metadata": {},
   "outputs": [],
   "source": [
    "# Modify value corresponding to an existing key\n",
    "d1['address'] = 'Township'\n",
    "d1"
   ]
  },
  {
   "cell_type": "code",
   "execution_count": null,
   "id": "f06b963e-1402-40f0-8243-ae9795e92ca7",
   "metadata": {},
   "outputs": [],
   "source": [
    "# Adding a new key:value pair\n",
    "d1['key1'] = 'value1'\n",
    "d1"
   ]
  },
  {
   "cell_type": "code",
   "execution_count": null,
   "id": "984b190e-e434-4667-8125-d7637dd6405d",
   "metadata": {},
   "outputs": [],
   "source": []
  },
  {
   "cell_type": "markdown",
   "id": "3b735121-5428-4f8e-a377-53cdc316aec5",
   "metadata": {},
   "source": [
    "#### b. Modifying Elements using `d1.update()` method \n",
    "- The `d1.update()` method is used to update the value corresponding to an existing key inside the dictionary\n",
    "```\n",
    "dict.update(key:value)\n",
    "```\n",
    "- If the key donot already exist, a new key:value is inserted in the dictionary"
   ]
  },
  {
   "cell_type": "code",
   "execution_count": null,
   "id": "193addc6-fafb-4f79-a42d-2fb87f226f80",
   "metadata": {},
   "outputs": [],
   "source": [
    "# Create a simple dictionary\n",
    "d1 = {\n",
    "    'name':'Ali', \n",
    "    'age':20, \n",
    "    'address':'Pak Villas', \n",
    "    'marks':[60, 75, 80]\n",
    "}\n",
    "d1"
   ]
  },
  {
   "cell_type": "code",
   "execution_count": null,
   "id": "f0d7fe11-160e-4f2f-9bd8-817f2136d277",
   "metadata": {},
   "outputs": [],
   "source": [
    "# Modify value corresponding to an existing key\n",
    "d1.update({'name':'Ehtisham Sadiq'})\n",
    "d1"
   ]
  },
  {
   "cell_type": "markdown",
   "id": "4ade9691-b88a-4c15-80ca-894abe2b61eb",
   "metadata": {},
   "source": [
    "**You can use the `dict.update()` method to merge two dictionaries**\n",
    "\n"
   ]
  },
  {
   "cell_type": "code",
   "execution_count": null,
   "id": "fd116ec0-fa8d-4e95-85a5-deb4645123ce",
   "metadata": {},
   "outputs": [],
   "source": [
    "d1 = {\n",
    "    'name':'Ehtisham Sadiq', \n",
    "    'age':22, \n",
    "}\n",
    "\n",
    "d2 = {\n",
    "    'address':'Pak Villas', \n",
    "    'marks':[60, 75, 80],\n",
    "    'age':21\n",
    "}"
   ]
  },
  {
   "cell_type": "code",
   "execution_count": null,
   "id": "1c52af03-e1c2-4e5d-b5fb-1a63f9c2af40",
   "metadata": {},
   "outputs": [],
   "source": [
    "d1.update(d2)\n",
    "d1"
   ]
  },
  {
   "cell_type": "code",
   "execution_count": null,
   "id": "dd8f9db6-2cc2-4d7a-9562-812ebb7dae6f",
   "metadata": {},
   "outputs": [],
   "source": []
  },
  {
   "cell_type": "markdown",
   "id": "246bde1a-ff99-4eb4-9055-794dd8c68b6c",
   "metadata": {},
   "source": [
    "### 5. Removing Elements from a Dictionary\n",
    "#### a. Removing Element using `[]` operator\n",
    "- To delete a dictionary element use the `del d1[key]` \n",
    "- To delete an entire dictionary from memory use `del d1` "
   ]
  },
  {
   "cell_type": "code",
   "execution_count": null,
   "id": "3da26e21-32a7-4d2b-b3e6-4fc7b31aef2f",
   "metadata": {},
   "outputs": [],
   "source": [
    "d1 = {\n",
    "    'name':'Ali', \n",
    "    'age':20, \n",
    "    'address':'Pak Villas', \n",
    "    'marks':[60, 75, 80]\n",
    "}\n",
    "d1"
   ]
  },
  {
   "cell_type": "code",
   "execution_count": null,
   "id": "c74a04da-20d5-4697-9be4-b3a48cfaf172",
   "metadata": {},
   "outputs": [],
   "source": [
    "del d1['age']\n",
    "d1"
   ]
  },
  {
   "cell_type": "code",
   "execution_count": null,
   "id": "eb09dd3b-585e-44d6-9791-ab350fb5179d",
   "metadata": {},
   "outputs": [],
   "source": [
    "# this will delete the whole directory\n",
    "del d1\n",
    "print(d1)  # will generate an error now"
   ]
  },
  {
   "cell_type": "markdown",
   "id": "cb06caae-b655-4262-8a16-429ac38cab24",
   "metadata": {},
   "source": [
    "#### b. Removing Element using `d1.popitem()` Method\n",
    "- The `d1.popitem()` removes and returns a (key,value) pair as a 2-tuple\n",
    "- Pairs are returned in LIFO order, i.e., last inserted element is returned\n",
    "- Raises KeyError if the dict is empty"
   ]
  },
  {
   "cell_type": "code",
   "execution_count": null,
   "id": "9ec7df8c-d7a9-45bf-a69d-eadcf07ef38b",
   "metadata": {},
   "outputs": [],
   "source": [
    "d1 = {\n",
    "    'name':'Ehtisham', \n",
    "    'age':22, \n",
    "    'address':'Pak Villas', \n",
    "    'marks':[60, 75, 80]\n",
    "}\n",
    "d1"
   ]
  },
  {
   "cell_type": "code",
   "execution_count": null,
   "id": "1805973b-6217-41ec-9b69-4af2955e99ba",
   "metadata": {},
   "outputs": [],
   "source": [
    "d1.popitem()"
   ]
  },
  {
   "cell_type": "markdown",
   "id": "16ba9f8e-6e4d-4139-9c2d-629de2c494b3",
   "metadata": {},
   "source": [
    "#### c. Removing Element using `d1.pop(key)` Method\n",
    "- The `d1.pop(key)` returns the value only of the key passed as its required argument\n",
    "- Moreover, the corresponding key-value pair is also removed from the dictionary\n",
    "- If key is not found a KeyError is raised"
   ]
  },
  {
   "cell_type": "code",
   "execution_count": 79,
   "id": "c6394428-7dab-4fc8-b6e3-5f2406c8644e",
   "metadata": {},
   "outputs": [
    {
     "data": {
      "text/plain": [
       "{'name': 'Ehtisham', 'age': 22, 'address': 'Pak Villas', 'marks': [60, 75, 80]}"
      ]
     },
     "execution_count": 79,
     "metadata": {},
     "output_type": "execute_result"
    }
   ],
   "source": [
    "d1 = {\n",
    "    'name':'Ehtisham', \n",
    "    'age':22, \n",
    "    'address':'Pak Villas', \n",
    "    'marks':[60, 75, 80]\n",
    "}\n",
    "d1"
   ]
  },
  {
   "cell_type": "code",
   "execution_count": 80,
   "id": "945c878c-3f2e-4a56-98fb-bde05c567fc9",
   "metadata": {},
   "outputs": [
    {
     "data": {
      "text/plain": [
       "'Ehtisham'"
      ]
     },
     "execution_count": 80,
     "metadata": {},
     "output_type": "execute_result"
    }
   ],
   "source": [
    "d1.pop('name')"
   ]
  },
  {
   "cell_type": "code",
   "execution_count": 81,
   "id": "e86955d7-04da-4cfb-a5be-dd710e243821",
   "metadata": {},
   "outputs": [
    {
     "data": {
      "text/plain": [
       "{'age': 22, 'address': 'Pak Villas', 'marks': [60, 75, 80]}"
      ]
     },
     "execution_count": 81,
     "metadata": {},
     "output_type": "execute_result"
    }
   ],
   "source": [
    "d1"
   ]
  },
  {
   "cell_type": "code",
   "execution_count": null,
   "id": "350c3c2e-85a8-4cf0-998a-55d8065b3ab2",
   "metadata": {},
   "outputs": [],
   "source": [
    "d1.pop('nok?ey') #This will raise an error"
   ]
  },
  {
   "cell_type": "markdown",
   "id": "747f0993-4bcd-447e-bf77-1eeaff983bc0",
   "metadata": {},
   "source": [
    "#### d. Removing Element using `d1.clear()` Method\n",
    "- The `d1.clear()` removes all items from the dictionary and returns None"
   ]
  },
  {
   "cell_type": "code",
   "execution_count": null,
   "id": "9684ccae-4bc3-4e34-b605-32ddd94facaa",
   "metadata": {},
   "outputs": [],
   "source": [
    "# Try it by yourself"
   ]
  },
  {
   "cell_type": "code",
   "execution_count": null,
   "id": "b2374c1e-5f74-49cc-b947-56dc9590d73f",
   "metadata": {},
   "outputs": [],
   "source": []
  },
  {
   "cell_type": "markdown",
   "id": "d651c54a-6734-4b6c-b4ab-0533c51a0e5e",
   "metadata": {},
   "source": [
    "### 6. Dictionary, Tuple and List conversions"
   ]
  },
  {
   "cell_type": "code",
   "execution_count": null,
   "id": "07af5955-47d5-45d7-af02-c9d762a36d02",
   "metadata": {},
   "outputs": [],
   "source": [
    "# Create a simple dictionary for these operations\n",
    "d1 = {\n",
    "    'Name': 'Ehtisham Sadiq', \n",
    "    'Sex': 'Male', \n",
    "    'Age': 23, \n",
    "    'Height': 5.7, \n",
    "    'Profession': 'ML Engineer'\n",
    "}\n",
    "d1"
   ]
  },
  {
   "cell_type": "code",
   "execution_count": null,
   "id": "8e4cdaf1-c41c-4eab-806a-1a30cf0627c2",
   "metadata": {},
   "outputs": [],
   "source": [
    "# The items() method, returns an object of dict_items containing two value tuples\n",
    "rv = d1.items()"
   ]
  },
  {
   "cell_type": "code",
   "execution_count": null,
   "id": "2992c1dc-1126-4998-ac28-36fa09111506",
   "metadata": {},
   "outputs": [],
   "source": [
    "print(rv)\n",
    "print(\"\\n\", type(rv))"
   ]
  },
  {
   "cell_type": "code",
   "execution_count": null,
   "id": "947079d1-0776-47a3-9d4e-04d8858cd594",
   "metadata": {},
   "outputs": [],
   "source": [
    "# You can convert dictionary key-value pairs into a tuple containing two valued tuples\n",
    "t1 = tuple(d1.items())\n",
    "print(t1)\n",
    "print(\"\\n\", type(t1))"
   ]
  },
  {
   "cell_type": "code",
   "execution_count": null,
   "id": "21e7f6b3-0a97-46f5-b1ed-ce557a235280",
   "metadata": {},
   "outputs": [],
   "source": []
  },
  {
   "cell_type": "code",
   "execution_count": null,
   "id": "a2f4234a-0589-4ffd-a410-671cb2bea1ee",
   "metadata": {},
   "outputs": [],
   "source": [
    "#converting dictionary keys only into a tuple\n",
    "t1 = tuple(d1.keys())\n",
    "print(t1)\n",
    "print(\"\\n\", type(t1))"
   ]
  },
  {
   "cell_type": "code",
   "execution_count": null,
   "id": "3cd36a4d-0e75-4676-a512-23e5cb0568bb",
   "metadata": {},
   "outputs": [],
   "source": []
  },
  {
   "cell_type": "code",
   "execution_count": null,
   "id": "0d74be8d-0a7d-4480-9825-3241865531ef",
   "metadata": {},
   "outputs": [],
   "source": [
    "#converting dictionary values only into a list\n",
    "mylist = list(d1.values())\n",
    "print(\"\\n\", mylist)\n",
    "print(type(mylist))"
   ]
  },
  {
   "cell_type": "code",
   "execution_count": null,
   "id": "3fe87b57-da58-44d9-9b62-44c196ced45e",
   "metadata": {},
   "outputs": [],
   "source": []
  },
  {
   "cell_type": "markdown",
   "id": "d10fc9db-c731-49df-aaa4-2cb0fa58331e",
   "metadata": {},
   "source": [
    "### 7. Sorting a Dictionary by Values\n",
    "- We can use the built-in function `sorted(iterable)` to get a sorted copy of a dictionary (by value). \n",
    "- The `sorted(iterable)` returns a sorted version of the iterable, without making any change to the iterable. \n",
    "- It's syntax is quite similar to `list.sort()` method, however, the iterator to be sorted needs to be passed as a required parameteras shown below:\n",
    "```\n",
    "    sorted(iterable, key=None, reverse=False)\n",
    "```\n",
    "- By default the `reverse` argument is `False`, you override the default behavior by passing a `True` value to this argument to perform a descending sort\n",
    "- A custom key function can also be supplied to customize the sort order."
   ]
  },
  {
   "cell_type": "markdown",
   "id": "33e46fee-2e3e-4e90-b232-3cb450e7b277",
   "metadata": {},
   "source": [
    "**Consider the following dictionary having `names` as keys and `marks` as values**"
   ]
  },
  {
   "cell_type": "code",
   "execution_count": null,
   "id": "93e3f387-139c-4c98-8df2-42b8610929fe",
   "metadata": {},
   "outputs": [],
   "source": [
    "dict1 = {\n",
    "        'Ehtisham Sadiq': 81, \n",
    "        'Ayesha Sadiq':90, \n",
    "        'Ali Sadiq':76, \n",
    "        'Dua Sadiq':73,\n",
    "        'Khubaib Sadiq':93,\n",
    "        'Adeen Sadiq': 88\n",
    "        }\n",
    "dict1"
   ]
  },
  {
   "cell_type": "code",
   "execution_count": null,
   "id": "4cb79bcc-698b-4b70-ba9c-de2723df32cd",
   "metadata": {},
   "outputs": [],
   "source": [
    "sorted(dict1)"
   ]
  },
  {
   "cell_type": "code",
   "execution_count": null,
   "id": "d63abc86-00dd-40da-b015-1f6dd31e4113",
   "metadata": {},
   "outputs": [],
   "source": [
    "sorted(dict1, reverse=True)"
   ]
  },
  {
   "cell_type": "markdown",
   "id": "08c1c0b5-1c0a-48d8-918b-9d4c6826b536",
   "metadata": {},
   "source": [
    "**When you pass a dictionary object to the `sorted()` function, it will return the list of sorted dictionary keys**"
   ]
  },
  {
   "cell_type": "code",
   "execution_count": null,
   "id": "587be72f-3909-4b9b-900b-a976180e6990",
   "metadata": {},
   "outputs": [],
   "source": [
    "sorted(dict1.keys())"
   ]
  },
  {
   "cell_type": "markdown",
   "id": "d7bf0d77-622e-4826-91e7-02ccbaca47eb",
   "metadata": {},
   "source": [
    "**Similarly you can pass the values only to the `sorted()` function, and it will return the list of sorted values**"
   ]
  },
  {
   "cell_type": "code",
   "execution_count": null,
   "id": "23190a1d-016e-4df0-b890-4ba1351ddc3c",
   "metadata": {},
   "outputs": [],
   "source": [
    "d2 = sorted(dict1.values())\n",
    "d2"
   ]
  },
  {
   "cell_type": "markdown",
   "id": "7ac7ec30-7cba-4038-8c07-1a5c12a22b2d",
   "metadata": {},
   "source": [
    "**Let us do customized sorting with Python Dictionaries**"
   ]
  },
  {
   "cell_type": "markdown",
   "id": "10f603bf-cbb0-4afe-8884-166deb2608d5",
   "metadata": {},
   "source": [
    "**Example 1: Suppose we have a dictionary containing student names along with their marks and we want to sort the dictionary by highest marks of the students first**"
   ]
  },
  {
   "cell_type": "code",
   "execution_count": null,
   "id": "bb6a56d8-d2ac-4157-bf41-2633d7fe26c0",
   "metadata": {},
   "outputs": [],
   "source": [
    "dict1 = {\n",
    "        'Ehtisham Sadiq': 81, \n",
    "        'Ayesha Sadiq':90, \n",
    "        'Ali Sadiq':76, \n",
    "        'Dua Sadiq':73,\n",
    "        'Khubaib Sadiq':93,\n",
    "        'Adeen Sadiq': 88\n",
    "        }\n",
    "dict1"
   ]
  },
  {
   "cell_type": "code",
   "execution_count": null,
   "id": "bd44916a-384b-4f04-bb4a-3014b268bf99",
   "metadata": {},
   "outputs": [],
   "source": [
    "ls = list(dict1.items())\n",
    "type(ls)"
   ]
  },
  {
   "cell_type": "code",
   "execution_count": null,
   "id": "0af9a70b-64d7-4334-9a89-587d683ee1dc",
   "metadata": {},
   "outputs": [],
   "source": [
    "print(ls)"
   ]
  },
  {
   "cell_type": "code",
   "execution_count": null,
   "id": "a2b9aaca-aea9-4726-829e-00d57d66d92a",
   "metadata": {},
   "outputs": [],
   "source": [
    "ls[0][0], ls[0][1]"
   ]
  },
  {
   "cell_type": "code",
   "execution_count": null,
   "id": "22d32e6e-4da0-41dc-8f59-5be166a130fe",
   "metadata": {},
   "outputs": [],
   "source": [
    "for i in ls:\n",
    "    print(type(i))\n",
    "    print(i)\n",
    "    print(\"\\n\")"
   ]
  },
  {
   "cell_type": "code",
   "execution_count": null,
   "id": "67a7c3c9-c758-4f4c-8e5a-31589fed6a96",
   "metadata": {},
   "outputs": [],
   "source": [
    "for i in ls:\n",
    "    print(i[1])"
   ]
  },
  {
   "cell_type": "code",
   "execution_count": null,
   "id": "4098e752-a0de-4196-9f05-1447e514672c",
   "metadata": {},
   "outputs": [],
   "source": [
    "# dict1.items()\n",
    "for m in dict1.items():\n",
    "    print(m, m[1])"
   ]
  },
  {
   "cell_type": "markdown",
   "id": "4bc43488-3041-487e-9c1a-b6a957e18d1b",
   "metadata": {},
   "source": [
    "**Answer**"
   ]
  },
  {
   "cell_type": "code",
   "execution_count": null,
   "id": "4bf9836c-c041-4c98-95bc-78e066f47367",
   "metadata": {},
   "outputs": [],
   "source": [
    "# Function receives a key:value tuple (key, value) and returns the value\n",
    "def func1(item):\n",
    "    return item[1]"
   ]
  },
  {
   "cell_type": "code",
   "execution_count": null,
   "id": "3ad40897-29d3-4e61-b338-a196b44c4b42",
   "metadata": {},
   "outputs": [],
   "source": [
    "mylist = sorted(dict1.items(), key = func1, reverse=True)"
   ]
  },
  {
   "cell_type": "code",
   "execution_count": null,
   "id": "c93a5056-828b-4115-b7d4-74f88540bd98",
   "metadata": {},
   "outputs": [],
   "source": [
    "mylist"
   ]
  },
  {
   "cell_type": "markdown",
   "id": "208513c1-46ca-48fe-80fc-904a266d0114",
   "metadata": {},
   "source": [
    "Note the `sorted()` function returned a list object in which each element is a two valued tuple having (key,value) pairs. You can always typecast such lists to a dictionary object"
   ]
  },
  {
   "cell_type": "code",
   "execution_count": null,
   "id": "ca026ce0-e82f-44c6-963f-32725ecdf42c",
   "metadata": {},
   "outputs": [],
   "source": [
    "sorted_dict = dict(mylist)\n",
    "print(sorted_dict)"
   ]
  },
  {
   "cell_type": "code",
   "execution_count": null,
   "id": "8a780345-932a-4ee3-aca7-1d422e0e3e25",
   "metadata": {},
   "outputs": [],
   "source": [
    "type(sorted_dict)"
   ]
  },
  {
   "cell_type": "markdown",
   "id": "46bdd09d-a8c9-4cde-9326-44b00167d605",
   "metadata": {},
   "source": [
    "**Example 2: Suppose we have a JSON array containing name, age and grades of students. We want to sort it by the age of the students.**\n",
    "- JSON stands for JavaScript Object Notation\n",
    "- JSON is a text format for storing and transporting data\n",
    "- A JSON string has comma separated `key:value` pairs"
   ]
  },
  {
   "cell_type": "code",
   "execution_count": null,
   "id": "9aa965df-9bc2-4b24-ba4a-0f89623e68e5",
   "metadata": {},
   "outputs": [],
   "source": [
    "# The following JSON array defines a student object with 3 properties: `name`, `age`, and `grade`\n",
    "# It is actually a list containing dictionary objects each object containing three key:value pairs\n",
    "students = [\n",
    "         {\"name\": \"Ehtisham Sadiq\", \"age\": 23, \"grade\": \"B\"},\n",
    "         {\"name\": \"Ali Sadiq\", \"age\": 20, \"grade\": \"A\"},\n",
    "         {\"name\": \"Ayesha Sadiq\", \"age\": 17, \"grade\": \"C\"},\n",
    "         {\"name\": \"Dua Sadiq\", \"age\": 7, \"grade\": \"D\"},\n",
    "         {\"name\": \"Adeen Sadiq\", \"age\": 3, \"grade\": \"A\"},\n",
    "         {\"name\": \"Khubaib Sadiq\", \"age\": 5, \"grade\": \"B\"}\n",
    "        ]\n",
    "students"
   ]
  },
  {
   "cell_type": "code",
   "execution_count": null,
   "id": "d229c7e5-4f1a-453f-8209-3740541a6301",
   "metadata": {},
   "outputs": [],
   "source": [
    "for i in students:\n",
    "    print(i)\n",
    "    print(i.get('age'))\n",
    "    print(i.get('grade'))\n",
    "    print(\"\\n\")"
   ]
  },
  {
   "cell_type": "code",
   "execution_count": null,
   "id": "05268539-60ad-4a9a-9c5a-04514a0d7118",
   "metadata": {},
   "outputs": [],
   "source": [
    "# Function receives a dictionary object and returns the value corresponding to key age in that dictionary\n",
    "def func2(item):\n",
    "     return item.get('age') #return item['age']"
   ]
  },
  {
   "cell_type": "code",
   "execution_count": null,
   "id": "463a88ce-17c6-4eff-980e-5249ad83d378",
   "metadata": {},
   "outputs": [],
   "source": [
    "sorted_students = sorted(students, key = func2, reverse=False)\n",
    "\n",
    "sorted_students"
   ]
  },
  {
   "cell_type": "code",
   "execution_count": null,
   "id": "3912191d-fb44-41ca-9c3d-03178fa2803f",
   "metadata": {},
   "outputs": [],
   "source": []
  },
  {
   "cell_type": "markdown",
   "id": "6d8048e2-b234-48cf-8db4-26cdce805d6f",
   "metadata": {},
   "source": [
    "Note the `sorted()` function returned a list object in which each element is a dictionary object having three key:value pairs"
   ]
  },
  {
   "cell_type": "markdown",
   "id": "7bd94bd9-561d-4158-80fc-318f43842289",
   "metadata": {},
   "source": [
    "### 8. Simple Assignment (aliasing) vs Shallow Copy vs Deep Copy"
   ]
  },
  {
   "cell_type": "code",
   "execution_count": null,
   "id": "fc3bbdc1-968e-4143-bee6-bfd23fa086dd",
   "metadata": {},
   "outputs": [],
   "source": [
    "# Do it by yourself"
   ]
  },
  {
   "cell_type": "code",
   "execution_count": null,
   "id": "e811cffe-db6f-43b9-a79d-0e0b36cf14c0",
   "metadata": {},
   "outputs": [],
   "source": []
  },
  {
   "cell_type": "markdown",
   "id": "04130fa8-7ad8-4f90-a68a-11efc56a8647",
   "metadata": {},
   "source": [
    "![](images/dict_operations.jpg)"
   ]
  },
  {
   "cell_type": "code",
   "execution_count": null,
   "id": "ef6dfe5e-cffc-40ed-af1e-970d012061c3",
   "metadata": {},
   "outputs": [],
   "source": []
  },
  {
   "cell_type": "markdown",
   "id": "428f06af-0a15-4cda-bcd6-87e7b83489f9",
   "metadata": {},
   "source": [
    "## Check your Concepts\n",
    "\n",
    "Try answering the following questions to test your understanding of the topics covered in this notebook:\n",
    "\n",
    "\n",
    "1. What is a dictionary in Python?\n",
    "2. How do you create a dictionary?\n",
    "3. What are keys and values?\n",
    "4. How do you access the value associated with a specific key in a dictionary?\n",
    "5. What happens if you try to access the value for a key that doesn't exist in a dictionary?\n",
    "6. Can a dictionary have two keys with the same value? Two values with the same key?\n",
    "7. Define a dictionary that maps month name abbreviations to month names.\n",
    "8. Define a dictionary with five entries that maps student identification numbers to \n",
    "their full names.\n",
    "9. What is the `.get` method of a dictionary used for?\n",
    "10. How do you change the value associated with a key in a dictionary?\n",
    "11. How do you add or remove a key-value pair in a dictionary?\n",
    "12. How do you access the keys, values, and key-value pairs within a dictionary?\n",
    "13. Describe/Differentiate the concept of aliasing, shallow copy and deep copy using assignment statement, `dict.copy()`, `copy.copy()` and `copy.deepcopy()` methods\n",
    "14. Practice sorting dictionaries having different types of `key:value` combinations\n",
    "15. Create and initialize a dictionary that maps the English words `one` through `five` to the numbers 1 through 5.\n",
    "16. Which part of a dictionary element must be immutable?\n",
    "17. What is the difference between the dictionary methods pop and popitem?\n",
    "18.  What does the items method return?\n",
    "19.  What does the keys method return?\n",
    "20.  What does the values method return?"
   ]
  },
  {
   "cell_type": "code",
   "execution_count": null,
   "id": "23ddd558-3288-4b60-8a6c-590c4c69d689",
   "metadata": {},
   "outputs": [],
   "source": []
  },
  {
   "cell_type": "code",
   "execution_count": null,
   "id": "38fbc900-2b0c-4dc1-a14e-25711d17876d",
   "metadata": {},
   "outputs": [],
   "source": []
  },
  {
   "cell_type": "code",
   "execution_count": null,
   "id": "3f466580-e8a8-4485-8f19-00319ef490a4",
   "metadata": {},
   "outputs": [],
   "source": []
  },
  {
   "cell_type": "code",
   "execution_count": null,
   "id": "65b03c8a-d76a-4b34-a41e-043e8bb68608",
   "metadata": {},
   "outputs": [],
   "source": []
  },
  {
   "cell_type": "code",
   "execution_count": null,
   "id": "0e1bf999-0579-49e4-b07d-461103f39637",
   "metadata": {},
   "outputs": [],
   "source": []
  },
  {
   "cell_type": "code",
   "execution_count": null,
   "id": "5297021b-2663-492b-a1a3-fbd65d9c3275",
   "metadata": {},
   "outputs": [],
   "source": []
  },
  {
   "cell_type": "code",
   "execution_count": null,
   "id": "3111a7b7-7eb6-4269-9e2c-b9a3d8d47ace",
   "metadata": {},
   "outputs": [],
   "source": []
  },
  {
   "cell_type": "code",
   "execution_count": null,
   "id": "39b27de3-3009-422c-930c-ac7fd1269101",
   "metadata": {},
   "outputs": [],
   "source": []
  },
  {
   "cell_type": "code",
   "execution_count": null,
   "id": "5c0a6bc3-050d-40b6-ba08-6267ef5a45ce",
   "metadata": {},
   "outputs": [],
   "source": []
  },
  {
   "cell_type": "code",
   "execution_count": null,
   "id": "26897994-5c3f-49ba-bd4d-157ee817fdbb",
   "metadata": {},
   "outputs": [],
   "source": []
  },
  {
   "cell_type": "code",
   "execution_count": null,
   "id": "7f963433-32ed-4d3a-acf5-c85f47867abd",
   "metadata": {},
   "outputs": [],
   "source": []
  },
  {
   "cell_type": "code",
   "execution_count": null,
   "id": "4969f3c8-a2b3-4a74-bd8d-6286531a74ea",
   "metadata": {},
   "outputs": [],
   "source": []
  },
  {
   "cell_type": "code",
   "execution_count": null,
   "id": "22740125-e570-4a6c-a746-5e7fb450bb5d",
   "metadata": {},
   "outputs": [],
   "source": []
  },
  {
   "cell_type": "code",
   "execution_count": null,
   "id": "88340ff5-47e3-43e0-ac9f-106864d75bac",
   "metadata": {},
   "outputs": [],
   "source": []
  },
  {
   "cell_type": "code",
   "execution_count": null,
   "id": "eda21130-11a0-4265-9b34-008b6e177927",
   "metadata": {},
   "outputs": [],
   "source": []
  },
  {
   "cell_type": "code",
   "execution_count": null,
   "id": "c0986945-fd0b-4eb9-9f54-de0782de75de",
   "metadata": {},
   "outputs": [],
   "source": [
    "mylist = sorted(dict1.items(), key = func1, reverse=True)\n",
    "\n",
    "print(mylist)"
   ]
  },
  {
   "cell_type": "code",
   "execution_count": 1,
   "id": "e25c32e4-9dcc-4695-981d-e46c6cf5fd48",
   "metadata": {},
   "outputs": [
    {
     "data": {
      "text/html": [
       "\n",
       "    <style>\n",
       "        body {\n",
       "            background-color: #f2fff2;\n",
       "        }\n",
       "        h1 {\n",
       "            text-align: center;\n",
       "            font-weight: bold;\n",
       "            font-size: 36px;\n",
       "            color: #4295F4;\n",
       "            text-decoration: underline;\n",
       "            padding-top: 15px;\n",
       "        }\n",
       "        \n",
       "        h2 {\n",
       "            text-align: left;\n",
       "            font-weight: bold;\n",
       "            font-size: 30px;\n",
       "            color: #4A000A;\n",
       "            text-decoration: underline;\n",
       "            padding-top: 10px;\n",
       "        }\n",
       "        \n",
       "        h3 {\n",
       "            text-align: left;\n",
       "            font-weight: bold;\n",
       "            font-size: 30px;\n",
       "            color: #f0081e;\n",
       "            text-decoration: underline;\n",
       "            padding-top: 5px;\n",
       "        }\n",
       "\n",
       "        \n",
       "        p {\n",
       "            text-align: center;\n",
       "            font-size: 12 px;\n",
       "            color: #0B9923;\n",
       "        }\n",
       "    </style>\n",
       "\n",
       "<h1>Hello</h1>\n",
       "<p>Hello World</p>\n",
       "<h2> Hello</h2>\n",
       "<h3> World </h3>\n"
      ],
      "text/plain": [
       "<IPython.core.display.HTML object>"
      ]
     },
     "execution_count": 1,
     "metadata": {},
     "output_type": "execute_result"
    }
   ],
   "source": [
    "from IPython.core.display import HTML\n",
    "\n",
    "style = \"\"\"\n",
    "    <style>\n",
    "        body {\n",
    "            background-color: #f2fff2;\n",
    "        }\n",
    "        h1 {\n",
    "            text-align: center;\n",
    "            font-weight: bold;\n",
    "            font-size: 36px;\n",
    "            color: #4295F4;\n",
    "            text-decoration: underline;\n",
    "            padding-top: 15px;\n",
    "        }\n",
    "        \n",
    "        h2 {\n",
    "            text-align: left;\n",
    "            font-weight: bold;\n",
    "            font-size: 30px;\n",
    "            color: #4A000A;\n",
    "            text-decoration: underline;\n",
    "            padding-top: 10px;\n",
    "        }\n",
    "        \n",
    "        h3 {\n",
    "            text-align: left;\n",
    "            font-weight: bold;\n",
    "            font-size: 30px;\n",
    "            color: #f0081e;\n",
    "            text-decoration: underline;\n",
    "            padding-top: 5px;\n",
    "        }\n",
    "\n",
    "        \n",
    "        p {\n",
    "            text-align: center;\n",
    "            font-size: 12 px;\n",
    "            color: #0B9923;\n",
    "        }\n",
    "    </style>\n",
    "\"\"\"\n",
    "\n",
    "html_content = \"\"\"\n",
    "<h1>Hello</h1>\n",
    "<p>Hello World</p>\n",
    "<h2> Hello</h2>\n",
    "<h3> World </h3>\n",
    "\"\"\"\n",
    "\n",
    "HTML(style + html_content)"
   ]
  },
  {
   "cell_type": "code",
   "execution_count": null,
   "id": "fd2eaf12-7c7a-4ad5-ba7a-39ab466a0b1d",
   "metadata": {},
   "outputs": [],
   "source": []
  }
 ],
 "metadata": {
  "kernelspec": {
   "display_name": "Python 3 (ipykernel)",
   "language": "python",
   "name": "python3"
  },
  "language_info": {
   "codemirror_mode": {
    "name": "ipython",
    "version": 3
   },
   "file_extension": ".py",
   "mimetype": "text/x-python",
   "name": "python",
   "nbconvert_exporter": "python",
   "pygments_lexer": "ipython3",
   "version": "3.11.7"
  }
 },
 "nbformat": 4,
 "nbformat_minor": 5
}
