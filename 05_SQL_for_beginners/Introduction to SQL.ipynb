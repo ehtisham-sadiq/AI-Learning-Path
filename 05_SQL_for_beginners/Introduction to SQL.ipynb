{
 "cells": [
  {
   "cell_type": "markdown",
   "id": "e97f3f85",
   "metadata": {},
   "source": [
    "---   \n",
    "\n",
    "<h1 align=\"center\">Introduction to Data Analyst and Data Science for beginners</h1>\n",
    "<h1 align=\"center\">Introduction to DBMS and SQL for beginners</h1>\n",
    "\n",
    "---\n",
    "<h3><div align=\"right\">Ehtisham Sadiq</div></h3>    "
   ]
  },
  {
   "cell_type": "markdown",
   "id": "bdba0667",
   "metadata": {},
   "source": [
    "# Learning Agenda of this Notebook:\n",
    "- What is Data?\n",
    "- What is Database?\n",
    "- Famous types of Databases\n",
    "- What is RDBMS?\n",
    "- DBMS vs RDBMS?\n",
    "- What is SQL?\n",
    "- SQL vs MySQL\n",
    "- Why SQL?\n",
    "- Types of SQL Commands?\n",
    " >- DDL\n",
    " >- DML\n",
    " >- DCL\n",
    " >- TCL\n",
    " >- DQL\n",
    "- Difference between SQL AND NoSQL\n",
    "- Advantages and Dis-advantages of SQL\n",
    "- What is SQL Syntax?\n",
    "- Datatypes in SQL\n",
    "- SQL Operators\n",
    "- What is SQL Statement?\n",
    "- SQL Database Commands\n",
    " >- SQL CREATE Database\n",
    " >- SQL DROP Database\n",
    " >- SQL RENAME Database\n",
    " >- SQL SELECT Database\n",
    " \n",
    "- SQL Table Commands\n",
    " >- What is Table\n",
    " >- SQL CREATE TABLE\n",
    " >- SQL DROP TABLE\n",
    " >- SQL DELETE TABLE\n",
    " >- SQL RENAME TABLE\n",
    " >- SQL TRUNCATE TABLE\n",
    " >- SQL COPY TABLE\n",
    " >- SQL TEMP TABLE\n",
    " >- SQL ALTER TABLE\n",
    " \n",
    "- SQL SELECT Commands\n",
    " >- SELECT Statement\n",
    " >- SQL SELECT UNIQUE\n",
    " >- SQL SELECT DISTINCT\n",
    " >- SQL SELECT COUNT\n",
    " >- SQL SELECT TOP\n",
    " >- SQL SELECT FIRST\n",
    " >- SQL SELECT LAST\n",
    " >- SQL SELECT RANDOM\n",
    " >- SQL SELECT IN\n",
    " >- SQL SELECT Multiple\n",
    " >- SQL SELECT DATE\n",
    " >- SQL SELECT SUM\n",
    " >- SQL SELECT NULL\n",
    "\n",
    "- SQL Clause\n",
    ">- SQL WHERE\n",
    ">- SQL AND\n",
    ">- SQL OR\n",
    ">- SQL WITH\n",
    ">- SQL AS\n",
    ">- SQL HAVING Clause\n",
    "\n",
    "- SQL Order By\n",
    ">- ORDER BY Clause\n",
    ">- ORDER BY ASC\n",
    ">- ORDER BY DESC\n",
    ">- ORDER BY RANDOM\n",
    ">- ORDER BY LIMIT\n",
    ">- ORDER BY Multiple Cols\n",
    "\n",
    "- SQL Insert commands\n",
    ">- INSERT Statement\n",
    ">- INSERT INTO Values\n",
    ">- INSERT INTO SELECT\n",
    ">- INSERT Multiple Rows\n",
    "\n",
    "- SQL Update\n",
    ">- UPDATE Statement\n",
    ">- SQL UPDATE JOIN\n",
    ">- SQL UPDATE DATE\n",
    "\n",
    "- SQL Delete\n",
    ">- DELETE Statement\n",
    ">- SQL DELETE TABLE\n",
    ">- SQL DELETE ROW\n",
    ">- SQL DELETE All Rows\n",
    ">- DELETE Duplicate Rows\n",
    ">- SQL DELETE DATABASE\n",
    ">- SQL DELETE VIEW\n",
    ">- SQL DELETE JOIN\n",
    "\n",
    "- SQL Join commands\n",
    ">- SQL JOIN\n",
    ">- SQL Outer Join\n",
    ">- SQL Left Join\n",
    ">- SQL Right Join\n",
    ">- SQL Full Join\n",
    ">- SQL Cross Join\n",
    "\n",
    "- SQL Keys\n",
    ">- Primary Key\n",
    ">- Foreign Key\n",
    ">- Composite Key\n",
    ">- Unique Key\n",
    ">- Alternate Key\n",
    "\n",
    "- SQL Data Types\n",
    " >- String Data types\n",
    " >- Numeric Data types\n",
    " >- Date and time Data types\n",
    "- SQL Operators\n",
    " >- What is SQL Operator?\n",
    " >- What is the Precedence of SQL Operator?\n",
    " >- Types of Operator\n",
    "  - SQL Arithmetic Operators\n",
    "  >- SQL Comparison Operators\n",
    "  >- SQL Logical Operators\n",
    "  >- SQL Set Operators\n",
    "  >- SQL Bit-wise Operators\n",
    "  >- SQL Unary Operators\n",
    "  \n",
    "- Difference\n",
    ">- IN vs EXISTS\n",
    ">- Group By vs Order By\n",
    ">- WHERE vs HAVING\n",
    ">- Where condition in SQL\n",
    "\n",
    "- Interview Questions Answers\n",
    "- Case Studies\n",
    "- Python MySQL\n",
    " >- Environment Setup\n",
    " >- Database Connection\n",
    " >- Creating New Database\n",
    " >- Creating Tables\n",
    " >- Insert Operation\n",
    " >- Read Operation\n",
    " >- Update Operation\n",
    " >- Join Operation\n",
    " >- Performing Transactions\n"
   ]
  },
  {
   "cell_type": "markdown",
   "id": "4d7bc029",
   "metadata": {},
   "source": [
    "# What is Data?\n",
    "- Data is a collection of a distinct small unit of information. It can be used in a variety of forms like text, numbers, media, bytes, etc. it can be stored in pieces of paper or electronic memory, etc.\n",
    "- In computing, Data is information that can be translated into a form for efficient movement and processing. Data is interchangeable."
   ]
  },
  {
   "cell_type": "markdown",
   "id": "736aea14",
   "metadata": {},
   "source": [
    "# What is Database?\n",
    "- A database is an organized collection of data, so that it can be easily accessed and managed.\n",
    "- You can organize data into tables, rows, columns, and index it to make it easier to find relevant information.\n",
    "- Database handlers create a database in such a way that only one set of software program provides access of data to all the users.\n",
    "- The main purpose of the database is to operate a large amount of information by storing, retrieving, and managing data.\n",
    "- There are many dynamic websites on the World Wide Web nowadays which are handled through databases. For example, a model that checks the availability of rooms in a hotel. It is an example of a dynamic website that uses a database.\n",
    "- There are many databases available like MySQL, Sybase, Oracle, MongoDB, Informix, PostgreSQL, SQL Server, etc.\n",
    "- Modern databases are managed by the database management system (DBMS).\n",
    "- SQL or Structured Query Language is used to operate on the data stored in a database. SQL depends on relational algebra and tuple relational calculus."
   ]
  },
  {
   "cell_type": "markdown",
   "id": "86074f06",
   "metadata": {},
   "source": [
    "# Types of Databases:\n",
    "There are various types of databases used for storing different varieties of data.\n",
    "![](types-of-databases.png)"
   ]
  },
  {
   "cell_type": "markdown",
   "id": "f56586aa",
   "metadata": {},
   "source": [
    "### Centralized Database\n",
    "- It is the type of database that stores data at a centralized database system. It comforts the users to access the stored data from different locations through several applications. These applications contain the authentication process to let users access data securely. \n",
    "- An example of a Centralized database can be Central Library that carries a central database of each library in a college/university."
   ]
  },
  {
   "cell_type": "markdown",
   "id": "075a2e03",
   "metadata": {},
   "source": [
    "### Distributed Database\n",
    "- Unlike a centralized database system, in distributed systems, data is distributed among different database systems of an organization. These database systems are connected via communication links. Such links help the end-users to access the data easily. \n",
    "- Examples of the Distributed database are Apache Cassandra, HBase, Ignite, etc."
   ]
  },
  {
   "cell_type": "code",
   "execution_count": null,
   "id": "bde5a2c6",
   "metadata": {},
   "outputs": [],
   "source": []
  },
  {
   "cell_type": "markdown",
   "id": "868651b5",
   "metadata": {},
   "source": [
    "### Relational Database\n",
    "- This database is based on the relational data model, which stores data in the form of rows(tuple) and columns(attributes), and together forms a table(relation). A relational database uses SQL for storing, manipulating, as well as maintaining the data. E.F. Codd invented the database in 1970. Each table in the database carries a key that makes the data unique from others. \n",
    "- Examples of Relational databases are MySQL, Microsoft SQL Server, Oracle, etc.\n",
    "\n",
    "<img src=\"images/Relational_theory.png\">"
   ]
  },
  {
   "cell_type": "markdown",
   "id": "32a9e44d",
   "metadata": {},
   "source": [
    "### NoSQL Database\n",
    "Non-SQL/Not Only SQL is a type of database that is used for storing a wide range of data sets. It is not a relational database as it stores data not only in tabular form but in several different ways. It came into existence when the demand for building modern applications increased. Thus, NoSQL presented a wide variety of database technologies in response to the demands. "
   ]
  },
  {
   "cell_type": "markdown",
   "id": "39c3c277",
   "metadata": {},
   "source": [
    "### Cloud Database\n",
    "A type of database where data is stored in a virtual environment and executes over the cloud computing platform. It provides users with various cloud computing services (SaaS, PaaS, IaaS, etc.) for accessing the database. There are numerous cloud platforms, but the best options are:\n",
    "\n",
    "- Amazon Web Services(AWS)\n",
    "- Microsoft Azure\n",
    "- Kamatera\n",
    "- PhonixNAP\n",
    "- ScienceSoft\n",
    "- Google Cloud SQL, etc."
   ]
  },
  {
   "cell_type": "markdown",
   "id": "789d759f",
   "metadata": {},
   "source": [
    "### Object-oriented Databases\n",
    "The type of database that uses the object-based data model approach for storing data in the database system. The data is represented and stored as objects which are similar to the objects used in the object-oriented programming language."
   ]
  },
  {
   "cell_type": "code",
   "execution_count": null,
   "id": "9394eee7",
   "metadata": {},
   "outputs": [],
   "source": []
  },
  {
   "cell_type": "markdown",
   "id": "8b399931",
   "metadata": {},
   "source": [
    "### Hierarchical Databases\n",
    "- It is the type of database that stores data in the form of parent-children relationship nodes. Here, it organizes data in a tree-like structure.\n",
    "- Data get stored in the form of records that are connected via links. Each child record in the tree will contain only one parent. On the other hand, each parent record can have multiple child records.\n",
    "\n",
    "<img src=\"images/types-of-databases4 (1).png\">"
   ]
  },
  {
   "cell_type": "markdown",
   "id": "54c7af00",
   "metadata": {},
   "source": [
    "### Personal Database\n",
    "Collecting and storing data on the user's system defines a Personal Database. This database is basically designed for a single user."
   ]
  },
  {
   "cell_type": "markdown",
   "id": "3f85c962",
   "metadata": {},
   "source": [
    "# What is RDBMS (Relational Database Management System)\n",
    "- `RDBMS` stands for Relational Database Management System.\n",
    "- All modern database management systems like SQL, MS SQL Server, IBM DB2, ORACLE, My-SQL, and Microsoft Access are based on RDBMS.\n",
    "- It is called Relational Database Management System (RDBMS) because it is based on the relational model introduced by E.F. Codd.\n",
    "\n",
    "### How it works\n",
    "- Data is represented in terms of tuples (rows) in RDBMS.\n",
    "- A relational database is the most commonly used database. It contains several tables, and each table has its primary key.\n",
    "- Due to a collection of an organized set of tables, data can be accessed easily in RDBMS.\n",
    "<img src=\"images/what-is-rdbms (1).png\">"
   ]
  },
  {
   "cell_type": "markdown",
   "id": "62a44c6d",
   "metadata": {},
   "source": [
    "# Difference between DBMS and RDBMS\n",
    "### DBMS:\n",
    "- DBMS applications store data as file.\n",
    "- In DBMS, data is generally stored in either a hierarchical form or a navigational form.\n",
    "- DBMS uses file system to store data, so there will be no relation between the tables.\n",
    "- DBMS has to provide some uniform methods to access the stored information.\n",
    "- DBMS does not support distributed database.\n",
    "- DBMS is meant to be for small organization and deal with small data. it supports single user.\n",
    "- Examples of DBMS are file systems, xml etc.\n",
    "\n",
    "### RDBMS:\n",
    "- RDBMS applications store data in a tabular form.\n",
    "- In RDBMS, the tables have an identifier called primary key and the data values are stored in the form of tables.\n",
    "- In RDBMS, data values are stored in the form of tables, so a relationship between these data values will be stored in the form of a table as well.\n",
    "- RDBMS system supports a tabular structure of the data and a relationship between them to access the stored information.\n",
    "- RDBMS supports distributed database.\n",
    "- RDBMS is designed to handle large amount of data. it supports multiple users.\n",
    "- Example of RDBMS are mysql, postgre, sql server, oracle etc."
   ]
  },
  {
   "cell_type": "markdown",
   "id": "bcd395b6",
   "metadata": {},
   "source": [
    "# What is SQL?\n",
    "- SQL is a short-form of the structured query language.\n",
    "- This database language is mainly designed for maintaining the data in relational database management systems. It is a special tool used by data professionals for handling structured data (data which is stored in the form of tables). It is also designed for stream processing in RDSMS.\n",
    "- You can easily create and manipulate the database, access and modify the table rows and columns, etc. "
   ]
  },
  {
   "cell_type": "markdown",
   "id": "89fbae4e",
   "metadata": {},
   "source": [
    "# SQL vs MySQL\n",
    "<img src=\"images/Difference-Between-SQL-and-MySQL-Comparison-Summary.jpg\" height=600px width=600px>"
   ]
  },
  {
   "cell_type": "code",
   "execution_count": null,
   "id": "faf3d247",
   "metadata": {},
   "outputs": [],
   "source": []
  },
  {
   "cell_type": "code",
   "execution_count": null,
   "id": "b24df016",
   "metadata": {},
   "outputs": [],
   "source": []
  },
  {
   "cell_type": "code",
   "execution_count": null,
   "id": "b001ced6",
   "metadata": {},
   "outputs": [],
   "source": []
  },
  {
   "cell_type": "markdown",
   "id": "0bc8f4e5",
   "metadata": {},
   "source": [
    "# Why SQL?\n",
    "Nowadays, SQL is widely used in data science and analytics. Following are the reasons which explain why it is widely used:\n",
    "\n",
    "- The basic use of SQL for data professionals and SQL users is to insert, update, and delete the data from the relational database.\n",
    "- SQL allows the data professionals and users to retrieve the data from the relational database management systems.\n",
    "- It also helps them to describe the structured data.\n",
    "- It allows SQL users to create, drop, and manipulate the database and its tables.\n",
    "- It also helps in creating the view, stored procedure, and functions in the relational database.\n",
    "- It allows you to define the data and modify that stored data in the relational database.\n",
    "- It also allows SQL users to set the permissions or constraints on table columns, views, and stored procedures.\n",
    "\n",
    "<img src='images/60115data scientist skills.png'>"
   ]
  },
  {
   "cell_type": "code",
   "execution_count": null,
   "id": "282f87a0",
   "metadata": {},
   "outputs": [],
   "source": []
  },
  {
   "cell_type": "markdown",
   "id": "4dde7718",
   "metadata": {},
   "source": [
    "## Key elements of SQL for Data Science\n",
    "Following are the key aspects of SQL which are most useful for Data Science. Every aspiring Data Scientists must know these necessary SQL skills and features.\n",
    "<img src='images/91429sql for data science.jpg'>"
   ]
  },
  {
   "cell_type": "code",
   "execution_count": null,
   "id": "713dc0a0",
   "metadata": {},
   "outputs": [],
   "source": []
  },
  {
   "cell_type": "markdown",
   "id": "55349a17",
   "metadata": {},
   "source": [
    "# Types of SQL Commands\n",
    "- SQL commands are instructions. It is used to communicate with the database. It is also used to perform specific tasks, functions, and queries of data.\n",
    "- SQL can perform various tasks like create a table, add data to tables, drop the table, modify the table, set permission for users.\n",
    "### Types of SQL Commands\n",
    "- There are five types of SQL commands: DDL, DML, DCL, TCL, and DQL.\n",
    "<img src=\" images/dbms-sql-command (1).png\">\n",
    "\n",
    "### Data Definition Language (DDL)\n",
    "- DDL changes the structure of the table like creating a table, deleting a table, altering a table, etc.\n",
    "- All the command of DDL are auto-committed that means it permanently save all the changes in the database.\n",
    "Here are some commands that come under DDL:\n",
    " >- CREATE(t is used to create a new table in the database.)\n",
    " >- ALTER (It is used to delete both the structure and record stored in the table.)\n",
    " >- DROP (It is used to alter the structure of the database. This change could be either to modify the characteristics of an existing attribute or probably to add a new attribute.)\n",
    " >- TRUNCATE ( It is used to delete all the rows from the table and free the space containing the table.)\n",
    " \n",
    " \n",
    "### Data Manipulation Language\n",
    "- DML commands are used to modify the database. It is responsible for all form of changes in the database.\n",
    "- The command of DML is not auto-committed that means it can't permanently save all the changes in the database. They can be rollback.\n",
    "Here are some commands that come under DML:\n",
    "\n",
    " >- INSERT(The INSERT statement is a SQL query. It is used to insert data into the row of a table.)\n",
    " >- UPDATE(This command is used to update or modify the value of a column in the table.)\n",
    " >- DELETE(It is used to remove one or more row from a table.)\n",
    " \n",
    " \n",
    "### Data Control Language\n",
    "- DCL commands are used to grant and take back authority from any database user.\n",
    "Here are some commands that come under DCL:\n",
    " >- grant(It is used to give user access privileges to a database)\n",
    " >- Revoke(It is used to take back permissions from the user.)\n",
    "\n",
    "\n",
    "### Transaction Control Language\n",
    "- TCL commands can only use with DML commands like INSERT, DELETE and UPDATE only.\n",
    "- These operations are automatically committed in the database that's why they cannot be used while creating tables or dropping them.\n",
    "Here are some commands that come under TCL:\n",
    " >- COMMIT(Commit command is used to save all the transactions to the database.)\n",
    " >- ROLLBACK(Rollback command is used to undo transactions that have not already been saved to the database.)\n",
    " >- SAVEPOINT(It is used to roll the transaction back to a certain point without rolling back the entire transaction.)\n",
    " \n",
    "### Data Query Language\n",
    "- DQL is used to fetch the data from the database.\n",
    "It uses only one command:\n",
    " >- SELECT(This is the same as the projection operation of relational algebra. It is used to select the attribute based on the condition described by WHERE clause.)"
   ]
  },
  {
   "cell_type": "markdown",
   "id": "3670e1bd",
   "metadata": {},
   "source": [
    "# SQL vs NoSQL\n",
    "- Databases are categorized as Relational Database Management System (RDBMS) while NoSQL databases are categorized as Non-relational or distributed database system.\n",
    "- SQL databases have fixed or static or predefined schema while NoSQL databases have dynamic schema.\n",
    "- SQL databases display data in form of tables so it is known as table-based database while NoSQL databases display data as collection of key-value pair, documents, graph databases or wide-column stores.\n",
    "- SQL databases are vertically scalable while NoSQL databases are horizontally scalable.\n",
    "- SQL databases are not best suited for hierarchical data storage while NoSQL databases are best suited for hierarchical data storage.\n",
    "- MySQL, Oracle, Sqlite, PostgreSQL and MS-SQL etc. are the example of SQL database while MongoDB, BigTable, Redis, RavenDB, Cassandra, Hbase, Neo4j, CouchDB etc. are the example of nosql database\n",
    "<img src=\"images/nosql_vs_sql-1024x724 (1).jpeg\" height=600px width=600px >"
   ]
  },
  {
   "cell_type": "markdown",
   "id": "dfb449e6",
   "metadata": {},
   "source": [
    "# Advantages and Disadvantages of SQL\n",
    "### Advantages:\n",
    "- No programming needed\n",
    "- High Speed Query Processing\n",
    "- Standardized Language\n",
    "- Portability\n",
    "- Interactive language\n",
    "- More than one Data View\n",
    "\n",
    "### Disadvantages\n",
    "- Cost\n",
    "- Interface is Complex\n",
    "- Partial Database control"
   ]
  },
  {
   "cell_type": "markdown",
   "id": "6f465d5a",
   "metadata": {},
   "source": [
    "# SQL Syntax\n",
    "When you want to do some operations on the data in the database, then you must have to write the query in the predefined syntax of SQL.\n",
    "Following are some most important points about the SQL syntax which are to remember:\n",
    "- You can write the keywords of SQL in both uppercase and lowercase, but writing the SQL keywords in uppercase improves the readability of the SQL query.\n",
    "- SQL statements or syntax are dependent on text lines. We can place a single SQL statement on one or multiple text lines.\n",
    "- You can perform most of the action in a database with SQL statements.\n",
    "- SQL syntax depends on relational algebra and tuple relational calculus.\n"
   ]
  },
  {
   "cell_type": "markdown",
   "id": "9a68fbf8",
   "metadata": {},
   "source": [
    "# SQL Statement\n",
    "- SQL statements tell the database what operation you want to perform on the structured data and what information you would like to access from the database.\n",
    "\n",
    "- The statements of SQL are very simple and easy to use and understand. They are like plain English but with a particular syntax.\n",
    "\n",
    "#### Simple Example of SQL statement:\n",
    "\n",
    "`SELECT \"column_name\" FROM \"table_name\";`     \n",
    "Each SQL statement begins with any of the SQL keywords and ends with the semicolon (;). The semicolon is used in the SQL for separating the multiple Sql statements which are going to execute in the same call. In this SQL tutorial, we will use the semicolon (;) at the end of each SQL query or statement."
   ]
  },
  {
   "cell_type": "markdown",
   "id": "cb174f60",
   "metadata": {},
   "source": [
    "# Datatypes in SQL\n",
    "### MySQL String Data Types:\n",
    "\n",
    "- CHAR(Size)\n",
    " >- It is used to specify a fixed length string that can contain numbers, letters, and special characters. Its size can be 0 to 255 characters. Default is 1.\n",
    "- VARCHAR(Size)\t\n",
    " >- It is used to specify a variable length string that can contain numbers, letters, and special characters. Its size can be from 0 to 65535 characters.\n",
    "- BINARY(Size)\t\n",
    " >- It is equal to CHAR() but stores binary byte strings. Its size parameter specifies the column length in the bytes. Default is 1.\n",
    "- VARBINARY(Size)\t\n",
    " >- It is equal to VARCHAR() but stores binary byte strings. Its size parameter specifies the maximum column length in bytes.\n",
    "- TEXT(Size)\t\n",
    " >- It holds a string that can contain a maximum length of 255 characters.\n",
    "- MEDIUMTEXT\t\n",
    " >- It holds a string with a maximum length of 16,777,215."
   ]
  },
  {
   "cell_type": "markdown",
   "id": "7d727f02",
   "metadata": {},
   "source": [
    "### MySQL Numeric Data Types\n",
    "- BIT(Size)\n",
    " >- It is used for a bit-value type. The number of bits per value is specified in size. Its size can be 1 to 64. The default value is 1.\n",
    "- INT(size)\n",
    " >- It is used for the integer value. Its signed range varies from -2147483648 to 2147483647 and unsigned range varies from 0 to 4294967295. The size parameter specifies the max display width that is 255.\n",
    "- FLOAT(size, d)\n",
    " >- It is used to specify a floating point number. Its size parameter specifies the total number of digits. The number of digits after the decimal point is specified by d parameter.\n",
    "- DOUBLE(size, d)\n",
    " >- It is a normal size floating point number. Its size parameter specifies the total number of digits. The number of digits after the decimal is specified by d parameter.\n",
    "- DECIMAL(size, d)\n",
    " >- It is used to specify a fixed point number. Its size parameter specifies the total number of digits. The number of digits after the decimal parameter is specified by d parameter. The maximum value for the size is 65, and the default value is 10. The maximum value for d is 30, and the default value is 0.\n",
    "- BOOL\n",
    " >- It is used to specify Boolean values true and false. Zero is considered as false, and nonzero values are considered as true."
   ]
  },
  {
   "cell_type": "markdown",
   "id": "16188156",
   "metadata": {},
   "source": [
    "### MySQL Date and Time Data Types\n",
    "- DATE\n",
    " >- It is used to specify date format YYYY-MM-DD. Its supported range is from '1000-01-01' to '9999-12-31'.\n",
    "- DATETIME(fsp)\n",
    " >- It is used to specify date and time combination. Its format is YYYY-MM-DD hh:mm:ss. Its supported range is from '1000-01-01 00:00:00' to 9999-12-31 23:59:59'.\n",
    "- YEAR\t\n",
    " >- It is used to specify a year in four-digit format. Values allowed in four digit format from 1901 to 2155, and 0000."
   ]
  },
  {
   "cell_type": "markdown",
   "id": "f8dd305f",
   "metadata": {},
   "source": [
    "# SQL Database Commands"
   ]
  },
  {
   "cell_type": "markdown",
   "id": "08892762",
   "metadata": {},
   "source": [
    "#### 1. CREATE Database:\n",
    "This command is used in MySQL to create the new database for storing the structured data.\n",
    "#### Syntax:\n",
    "CREATE DATABASE database_name;"
   ]
  },
  {
   "cell_type": "markdown",
   "id": "842a9d0c",
   "metadata": {},
   "source": [
    "#### 2. SHOW Database:\n",
    "This command shows all the databases in our database.\n",
    "#### Syntax:\n",
    "SHOW Databases;"
   ]
  },
  {
   "cell_type": "markdown",
   "id": "13e09086",
   "metadata": {},
   "source": [
    "#### 3. SQL DROP Database\n",
    "The SQL Drop Database statement deletes the existing database permanently from the database system. This statement deletes all the views and tables if stored in the database, so be careful while using this query in SQL.\n",
    "\n",
    "Following are the most important points which are required to learn before removing the database from the database system:\n",
    "- This statement deletes all the data from the database. If you want to restore the deleted data in the future, you should keep the backup of data of that database which you want to delete.\n",
    "- Another most important point is that you cannot delete that database from the system which is currently in use by another database user. If you do so, then the drop statement shows the following error on screen:   \n",
    "`Cannot drop database \"name_of_the_database\" because it is currently in use.`   \n",
    "#### Syntax: \n",
    "DROP DATABASE database_name;\n"
   ]
  },
  {
   "cell_type": "markdown",
   "id": "7eca71b8",
   "metadata": {},
   "source": [
    "We can also delete multiple databases easily by using the single DROP syntax:\n",
    "\n",
    "`DROP DATABASE Database_Name1, Database_Name2, ......., Database_NameN;  `"
   ]
  },
  {
   "cell_type": "markdown",
   "id": "365128a9",
   "metadata": {},
   "source": [
    "#### 4. SQL USE Command\n",
    "#### Syntax of USE statement in SQL\n",
    "`USE database_name;`\n",
    "In this syntax, we have to define the name of the database after the USE keyword and the name of the database must be unique."
   ]
  },
  {
   "cell_type": "markdown",
   "id": "22f76ef8",
   "metadata": {},
   "source": [
    "### Example 1: \n",
    "Suppose, you want to work with the `Hospital` database. For this firstly, you have to check that if the Hospital database exists on the current database server or not by using the following query:     \n",
    "`SHOW DATABASES;`      \n",
    "\n",
    "If the Hospital database is shown in the output, then you have to execute the following query to select the Hospital database:\n",
    "\n",
    "`USE Hospital`;\n",
    "\n"
   ]
  },
  {
   "cell_type": "markdown",
   "id": "1c955504",
   "metadata": {},
   "source": [
    "### Example 2: \n",
    "Suppose, you want to work with another `College` database in SQL. For this firstly, you have to check that the College database exists on the current database server or not by using the following query:\n",
    "\n",
    "`SHOW DATABASES;`  \n",
    "\n",
    "If the College database is shown in the result, then you have to execute the following query to select the College database:\n",
    "\n",
    "`USE College;`  "
   ]
  },
  {
   "cell_type": "markdown",
   "id": "8656c7da",
   "metadata": {},
   "source": [
    "# SQL TABLE Commands\n",
    "- Table is a collection of data, organized in terms of rows and columns. In DBMS term, table is known as relation and rowS as tuple.\n",
    "### 1. SQL TABLE Variable\n",
    "The SQL Table variable is used to create, modify, rename, copy and delete tables. Table variable was introduced by Microsoft.\n",
    "- Table variables are used to store a set of records. So declaration syntax generally looks like CREATE TABLE syntax.\n",
    "\n",
    "```\n",
    "create table \"tablename\"  \n",
    "(\"column1\" \"data type\",  \n",
    "\"column2\" \"data type\",  \n",
    "...  \n",
    "\"columnN\" \"data type\");  \n",
    "```\n",
    "- When a transaction rolled back the data associated with table variable is not rolled back.\n",
    "\n",
    "- A table variable generally uses lesser resources than a temporary variable.\n",
    "\n",
    "- Table variable cannot be used as an input or an output parameter."
   ]
  },
  {
   "cell_type": "markdown",
   "id": "6fde9f50",
   "metadata": {},
   "source": [
    "### 2. SQL CREATE TABLE\n",
    "- SQL CREATE TABLE statement is used to create table in a database.\n",
    "- If you want to create a table, you should name the table and define its column and each column's data type.\n",
    "\n",
    "Let's see the simple syntax to create the table.\n",
    "```\n",
    "create table \"tablename\"  \n",
    "(\"column1\" \"data type\",  \n",
    "\"column2\" \"data type\",  \n",
    "\"column3\" \"data type\",  \n",
    "...  \n",
    "\"columnN\" \"data type\");  \n",
    "```\n",
    "\n",
    "- The data type of the columns may vary from one database to another. For example, NUMBER is supported in Oracle database for integer value whereas INT is supported in MySQL.\n"
   ]
  },
  {
   "cell_type": "markdown",
   "id": "a1a75edd",
   "metadata": {},
   "source": [
    "### Example 3:\n",
    "Create a database `College` , in this database create a table  `STUDENTS` with ID as primary key and NOT NULL are the constraint showing that these fields cannot be NULL while creating records in the table. Other columns names are name, age, address."
   ]
  },
  {
   "cell_type": "markdown",
   "id": "354726cd",
   "metadata": {},
   "source": [
    "```\n",
    "CREATE TABLE STUDENTS (  \n",
    "ID INT                           NOT NULL,  \n",
    "NAME VARCHAR (20) NOT NULL,  \n",
    "AGE INT                         NOT NULL,  \n",
    "ADDRESS CHAR (25),  \n",
    "PRIMARY KEY (ID)  \n",
    ");  \n",
    "```"
   ]
  },
  {
   "cell_type": "markdown",
   "id": "19f81767",
   "metadata": {},
   "source": [
    "Note:\n",
    " >- DESC command is used to give the descriptive view of database table."
   ]
  },
  {
   "cell_type": "markdown",
   "id": "f0489e29",
   "metadata": {},
   "source": [
    "### 3. Create a Table using another table\n",
    "- We can create a copy of an existing table using the create table command. The new table gets the same column signature as the old table. We can select all columns or some specific columns.\n",
    "- If we create a new table using an old table, the new table will be filled with the existing value from the old table.\n",
    "\n",
    "\n",
    "\n",
    "```\n",
    "CREATE TABLE table_name  AS  \n",
    "SELECT column1, column2,...   \n",
    "FROM old_table_name WHERE ..... ;  \n",
    "```\n",
    "### Example: \n",
    "The following SQL creates a copy of the employee table.  \n",
    "```\n",
    "CREATE TABLE EmployeeCopy AS  \n",
    "SELECT EmployeeID, FirstName, Email  \n",
    "FROM Employee;  \n",
    "```"
   ]
  },
  {
   "cell_type": "markdown",
   "id": "5d378fae",
   "metadata": {},
   "source": [
    "### 4. SQL Primary Key with CREATE TABLE Statement\n",
    "The following query creates a PRIMARY KEY on the `ID` column when the \"Employee\" table is created.\n",
    "```\n",
    "CREATE TABLE Employee(  \n",
    "EmployeeID NOT NULL,  \n",
    "FirstName varchar(255) NOT NULL,  \n",
    "LastName varchar(255),  \n",
    "City varchar(255),  \n",
    "PRIMARY KEY (EmployeeID)  \n",
    "); \n",
    "```"
   ]
  },
  {
   "cell_type": "markdown",
   "id": "b0a47c56",
   "metadata": {},
   "source": [
    "### 5. SQL DROP TABLE\n",
    "- A SQL DROP TABLE statement is used to delete a table definition and all data from a table.\n",
    "- This is very important to know that once a table is deleted all the information available in the table is lost forever, so we have to be very careful when using this command.\n",
    "\n",
    "#### Syntax:\n",
    "`DROP TABLE \"table_name\";  `"
   ]
  },
  {
   "cell_type": "markdown",
   "id": "904c4395",
   "metadata": {},
   "source": [
    "### 6. SQL DELETE TABLE\n",
    "The DELETE statement is used to delete rows from a table. If you want to remove a specific row from a table you should use WHERE condition.\n",
    "\n",
    "```\n",
    "DELETE FROM table_name [WHERE condition];  \n",
    "```\n",
    "But if you do not specify the WHERE condition it will remove all the rows from the table.\n",
    "\n",
    "```\n",
    "DELETE FROM table_name;\n",
    "```\n",
    "There are some more terms similar to DELETE statement like as DROP statement and TRUNCATE statement but they are not exactly same there are some differences between them."
   ]
  },
  {
   "cell_type": "markdown",
   "id": "96d7508b",
   "metadata": {},
   "source": [
    "### Difference between DELETE and TRUNCATE statements\n",
    "- There is a slight difference b/w delete and truncate statement. The DELETE statement only deletes the rows from the table based on the condition defined by WHERE clause or delete all the rows from the table when condition is not specified.\n",
    "- But it does not free the space containing by the table.\n",
    "- The TRUNCATE statement: it is used to delete all the rows from the table and free the containing space."
   ]
  },
  {
   "cell_type": "markdown",
   "id": "84b6220c",
   "metadata": {},
   "source": [
    "### Difference b/w DROP and TRUNCATE statements\n",
    "When you use the drop statement it deletes the table's row together with the table's definition so all the relationships of that table with other tables will no longer be valid.\n",
    "\n",
    "When you drop a table:\n",
    "\n",
    " >- Table structure will be dropped\n",
    " >- Relationship will be dropped\n",
    " >- Integrity constraints will be dropped\n",
    " >- Access privileges will also be dropped\n",
    " \n",
    "On the other hand when we `TRUNCATE` a table, the table structure remains the same, so you will not face any of the above problems."
   ]
  },
  {
   "cell_type": "markdown",
   "id": "9fb3e5fd",
   "metadata": {},
   "source": [
    "### 7. SQL RENAME TABLE\n",
    "- Any database user can easily change the name by using the RENAME TABLE and ALTER TABLE statement in Structured Query Language.\n",
    "- The RENAME TABLE and ALTER TABLE syntax help in changing the name of the table.\n",
    "### Syntax\n",
    "```\n",
    "RENAME TABLE old_table _name To new_table_name ;    \n",
    "```"
   ]
  },
  {
   "cell_type": "markdown",
   "id": "b25ff964",
   "metadata": {},
   "source": [
    "### 8. SQL TRUNCATE TABLE\n",
    "- A truncate SQL statement is used to remove all rows (complete data) from a table. It is similar to the DELETE statement with no WHERE clause.\n",
    "- Truncate table is faster and uses lesser resources than DELETE TABLE command.\n",
    "- Drop table command can also be used to delete complete table but it deletes table structure too. TRUNCATE TABLE doesn't delete the structure of the table.\n",
    "Syntax: \n",
    "```\n",
    "TRUNCATE TABLE table_name;  \n",
    "```"
   ]
  },
  {
   "cell_type": "markdown",
   "id": "375f394c",
   "metadata": {},
   "source": [
    "### 9. SQL COPY TABLE\n",
    "- If you want to copy the data of one SQL table into another SQL table in the same SQL server, then it is possible by using the SELECT INTO statement in SQL.\n",
    "\n",
    "- The SELECT INTO statement in Structured Query Language copies the content from one existing table into the new table. SQL creates the new table by using the structure of the existing table.\n",
    "\n",
    "### Syntax of SELECT INTO statement in SQL\n",
    "```\n",
    "SELECT * INTO New_table_name FROM old_table_name;  \n",
    "```"
   ]
  },
  {
   "cell_type": "markdown",
   "id": "126535b7",
   "metadata": {},
   "source": [
    "### Syntax of SELECT INTO statement with WHERE clause in SQL\n",
    "```\n",
    "SELECT * INTO New_table_name FROM old_table_name WHERE [ condition ] ;  \n",
    "```"
   ]
  },
  {
   "cell_type": "markdown",
   "id": "0deb1318",
   "metadata": {},
   "source": [
    "### 10. SQL ALTER TABLE\n",
    "- The ALTER TABLE statement in Structured Query Language allows you to add, modify, and delete columns of an existing table. This statement also allows database users to add and remove various SQL constraints on the existing tables.\n",
    "- Any user can also change the name of the table using this statement.\n",
    "### ALTER TABLE ADD Column statement in SQL\n",
    "In many situations, you may require to add the columns in the existing table. Instead of creating a whole table or database again you can easily add single and multiple columns using the ADD keyword.\n",
    "\n",
    "### Syntax of ALTER TABLE ADD Column statement in SQL\n",
    "```\n",
    "ALTER TABLE table_name ADD column_name column-definition;\n",
    "```\n",
    "\n",
    "The above syntax only allows you to add a single column to the existing table. If you want to add more than one column to the table in a single SQL statement, then use the following syntax:\n",
    "```\n",
    "ALTER TABLE table_name     \n",
    "ADD (column_Name1 column-definition,    \n",
    "column_Name2 column-definition,    \n",
    ".....    \n",
    "column_NameN column-definition);    \n",
    "```\n"
   ]
  },
  {
   "cell_type": "markdown",
   "id": "d2d74bc0",
   "metadata": {},
   "source": [
    "#### ALTER TABLE MODIFY Column statement in SQL\n",
    "The MODIFY keyword is used for changing the column definition of the existing table.\n",
    "\n",
    "#### Syntax of ALTER TABLE MODIFY Column statement in SQL\n",
    "```\n",
    "ALTER TABLE table_name MODIFY column_name column-definition;  \n",
    "```\n",
    "This syntax only allows you to modify a single column of the existing table. If you want to modify more than one column of the table in a single SQL statement, then use the following syntax:\n",
    "\n",
    "```\n",
    "ALTER TABLE table_name     \n",
    "MODIFY (column_Name1 column-definition,    \n",
    "column_Name2 column-definition,    \n",
    ".....    \n",
    "column_NameN column-definition);    \n",
    "```"
   ]
  },
  {
   "cell_type": "markdown",
   "id": "1630b4d7",
   "metadata": {},
   "source": [
    "#### ALTER TABLE DROP Column statement in SQL\n",
    "In many situations, you may require to delete the columns from the existing table. Instead of deleting the whole table or database you can use DROP keyword for deleting the columns.\n",
    "\n",
    "#### Syntax of ALTER TABLE DROP Column statement in SQL\n",
    "```\n",
    "ALTER TABLE table_name DROP Column column_name ;  \n",
    "```\n",
    "#### Note:\n",
    "```\n",
    "This is equal to del df['col'] in pandas library.\n",
    "```"
   ]
  },
  {
   "cell_type": "markdown",
   "id": "265ae914",
   "metadata": {},
   "source": [
    "#### ALTER TABLE RENAME Column statement in SQL\n",
    "The RENAME keyword is used for changing the name of columns or fields of the existing table.\n",
    "\n",
    "#### Syntax of ALTER TABLE RENAME Column statement in SQL\n",
    "```\n",
    "ALTER TABLE table_name RENAME COLUMN old_name to new_name;   \n",
    "```\n",
    "#### Note:\n",
    "```\n",
    "This is equal to df.rename(columns={\"oldName\":\"NewName\"}, inplace=True)\n",
    "```."
   ]
  },
  {
   "cell_type": "markdown",
   "id": "656ab47e",
   "metadata": {},
   "source": [
    "# SQL SELECT Statement\n",
    "The SELECT statement is the most commonly used command in Structured Query Language. It is used to access the records from one or more database tables and views. It also retrieves the selected data that follow the conditions we want."
   ]
  },
  {
   "cell_type": "markdown",
   "id": "724d894c",
   "metadata": {},
   "source": [
    "#### Syntax of SELECT Statement in SQL\n",
    "```\n",
    "SELECT Column_Name_1, Column_Name_2, ....., Column_Name_N FROM Table_Name;  \n",
    "```\n",
    "\n",
    "If you want to access all rows from all fields of the table, use the following SQL SELECT syntax with * asterisk sign:\n",
    "```\n",
    "SELECT * FROM table_name;  \n",
    "```\n",
    "#### Note:\n",
    "```\n",
    "This is equal to df[[col1,col2,col2]].\n",
    "```\n",
    "\n",
    "#### SELECT Statement with WHERE clause\n",
    "- The WHERE clause is used with SELECT statement to return only those rows from the table, which satisfy the specified condition in the query.\n",
    "\n",
    "- In SQL, the WHERE clause is not only used with SELECT, but it is also used with other SQL statements such as UPDATE, ALTER, and DELETE statements.\n",
    "\n",
    "#### Syntax of SELECT Statement with WHERE clause\n",
    "```\n",
    "SELECT * FROM Name_of_Table WHERE [condition];  \n",
    "```\n",
    "#### Note:\n",
    "```\n",
    "This is equal to df[df[col]=='condition'].\n",
    "```"
   ]
  },
  {
   "cell_type": "markdown",
   "id": "ea06f2b0",
   "metadata": {},
   "source": [
    "### Example : Select all the student from the table `student` whose belong to `Lahore`.\n",
    "##### Note: This is similar to pandas syntax\n",
    "```\n",
    "df[df['Address'] =='Lahore']\n",
    "```"
   ]
  },
  {
   "cell_type": "markdown",
   "id": "977bb3eb",
   "metadata": {},
   "source": [
    "#### SQL SELECT Statement with GROUP BY clause\n",
    "- The GROUP BY clause is used with the SELECT statement to show the common data of the column from the table:\n",
    "\n",
    "#### Syntax of SELECT Statement with GROUP BY clause\n",
    "```\n",
    "SELECT column_Name_1, column_Name_2, ....., column_Name_N aggregate_function_name(column_Name2) FROM table_name GROUP BY column_Name1;  \n",
    "```"
   ]
  },
  {
   "cell_type": "markdown",
   "id": "3176ef70",
   "metadata": {},
   "source": [
    "### Example:\n",
    "SELECT COUNT(Grade), Age FROM Student_Records sr  GROUP BY Age;  \n",
    "\n",
    "#### Note : \n",
    "```\n",
    "This is equal pd.crosstab(df.col1, df.col2) pandas.\n",
    "\n",
    "```"
   ]
  },
  {
   "cell_type": "markdown",
   "id": "b7be0a02",
   "metadata": {},
   "source": [
    "#### SQL SELECT Statement with HAVING clause\n",
    "The HAVING clause in the SELECT statement creates a selection in those groups which are defined by the GROUP BY clause.\n",
    "\n",
    "#### Syntax of SELECT Statement with HAVING clause\n",
    "```\n",
    "SELECT column_Name_1, column_Name_2, ....., column_Name_N aggregate_function_name(column_Name_2) FROM table_name GROUP BY column_Name1 HAVING ;\n",
    "```"
   ]
  },
  {
   "cell_type": "markdown",
   "id": "8eb9cdcd",
   "metadata": {},
   "source": [
    "### Example: Display the total salary of those employees having more than 5000 from the  Employee_Having table."
   ]
  },
  {
   "cell_type": "markdown",
   "id": "f31d015f",
   "metadata": {},
   "source": [
    "```\n",
    "SELECT SUM(Employee_Salary), Employee_Name \n",
    "FROM ehtisham.Employee_Having eh \n",
    "GROUP BY Employee_Name \n",
    "HAVING SUM(Employee_Salary)>40000;\n",
    "```\n",
    "\n",
    "or \n",
    "\n",
    "```\n",
    "SELECT Employee_Salary, Employee_Name,Employee_City \n",
    "FROM ehtisham.Employee_Having eh \n",
    "WHERE Employee_Salary > 40000;\n",
    "```\n",
    "\n",
    "#### Note:\n",
    "```\n",
    "This is equal to df[(df.Age >= 20) & (df.First_Name)].\n",
    "```"
   ]
  },
  {
   "cell_type": "markdown",
   "id": "fcd36da0",
   "metadata": {},
   "source": [
    "#### SELECT Statement with ORDER BY clause\n",
    "- The ORDER BY clause with the SQL SELECT statement shows the records or rows in a sorted manner.\n",
    "- The ORDER BY clause arranges the values in both ascending and descending order. Few database systems arrange the values of column in ascending order by default.\n",
    "\n",
    "#### Syntax of SELECT Statement with ORDER BY clause\n",
    "```\n",
    "SELECT Column_Name_1, Column_Name_2, ....., column_Name_N FROM table_name \n",
    "WHERE [Condition] ORDER BY[column_Name_1, column_Na];\n",
    "```"
   ]
  },
  {
   "cell_type": "markdown",
   "id": "ae6e0df3",
   "metadata": {},
   "source": [
    "### Example: Sorts the salary of employees in descending order from the  Employee_Having Table.\n",
    "```\n",
    "SELECT * FROM ehtisham.Employee_Having eh \n",
    "ORDER BY Employee_Salary desc;\n",
    "```\n",
    "### Example: Sorts the percentage of students in descending order from the Student_Records Table.\n",
    "\n",
    "```\n",
    "SELECT * FROM ehtisham.Student_Records sr \n",
    "ORDER BY Percentage ASC;\n",
    "```\n",
    "#### Note: \n",
    "```\n",
    "This is equal to df.sort_values('Percentage', ascending=True) in pandas.\n",
    "```"
   ]
  },
  {
   "cell_type": "code",
   "execution_count": null,
   "id": "8d64a33e",
   "metadata": {},
   "outputs": [],
   "source": []
  },
  {
   "cell_type": "markdown",
   "id": "e50df41a",
   "metadata": {},
   "source": [
    "# SQL SELECT UNIQUE\n",
    "- Actually, there is no difference between DISTINCT and UNIQUE.\n",
    "- In simple words, we can say that SELECT UNIQUE statement is used to retrieve a unique or distinct element from the table.\n",
    "\n",
    "Syntax:\n",
    "```\n",
    "SELECT UNIQUE column_name  \n",
    "FROM table_name;  \n",
    "```"
   ]
  },
  {
   "cell_type": "markdown",
   "id": "74a1efdb",
   "metadata": {},
   "source": [
    "### Example: Select Unique Values from Age column of Student_Records Table.\n",
    "This is similar to:   \n",
    "```\n",
    "df['Age'].unique()\n",
    "```"
   ]
  },
  {
   "cell_type": "markdown",
   "id": "1d1b8186",
   "metadata": {},
   "source": [
    "## SQL SELECT DISTINCT\n",
    "- The SQL DISTINCT command is used with SELECT key word to retrieve only distinct or unique data.\n",
    "\n",
    "- In a table, there may be a chance to exist a duplicate value and sometimes we want to retrieve only unique values. In such scenarios, SQL SELECT DISTINCT statement is used.\n",
    "\n",
    "#### Note: SQL SELECT UNIQUE and SQL SELECT DISTINCT statements are same.\n",
    "#### Syntax:\n",
    "```\n",
    "SELECT DISTINCT column_name ,column_name  \n",
    "FROM  table_name; \n",
    "```\n",
    "\n",
    "#### Note:\n",
    "```\n",
    "This is equal to df['col'].unique() method of pandas.\n",
    "```"
   ]
  },
  {
   "cell_type": "code",
   "execution_count": null,
   "id": "247860a1",
   "metadata": {},
   "outputs": [],
   "source": []
  },
  {
   "cell_type": "markdown",
   "id": "ef07394c",
   "metadata": {},
   "source": [
    "## SQL SELECT COUNT\n",
    "- The SQL COUNT() is a function that returns the number of records of the table in the output.\n",
    "- This function is used with the SQL SELECT statement.\n",
    "#### Example:\n",
    "If you have a record of the voters in the selected area and want to count the number of voters, then it is very difficult to do it manually, but you can do it easily by using SQL SELECT COUNT query.\n",
    "\n",
    "#### Syntax:\n",
    "```\n",
    "SELECT COUNT(column_name) FROM table_name;  \n",
    "OR \n",
    "SELECT COUNT(location) AS TotalCountries from ranking.DataTable dt ; \n",
    "```\n",
    "#### Note:\n",
    "```\n",
    "This is equal to len(df['col']), df['col'].size, df['col'].shape method of pandas.\n",
    "```"
   ]
  },
  {
   "cell_type": "code",
   "execution_count": null,
   "id": "c8847e9c",
   "metadata": {},
   "outputs": [],
   "source": []
  },
  {
   "cell_type": "markdown",
   "id": "4a78d42d",
   "metadata": {},
   "source": [
    "### Select Count(*) Function in SQL\n",
    "- The count(*) function in SQL shows all the Null and Non-Null records present in the table.\n",
    "\n",
    "#### Syntax:\n",
    "```\n",
    "SELECT COUNT(*) FROM table_name;  \n",
    "```\n",
    "#### Note:\n",
    "```\n",
    "This is equal to len(df), df.size, df.shape method of pandas.\n",
    "```"
   ]
  },
  {
   "cell_type": "markdown",
   "id": "cd8f6842",
   "metadata": {},
   "source": [
    "### SQL Count() Function With WHERE Clause\n",
    "- We can also use the Count() function with the WHERE clause. The Count Function with WHERE clause in the SELECT statement shows those records that matched the specified criteria.\n",
    "\n",
    "#### Syntax:\n",
    "```\n",
    "SELECT COUNT(column_name) FROM table_name WHERE [condition];  \n",
    "```\n",
    "#### Note:\n",
    "```\n",
    "This is equal to len(df=='condition), df=='condition'.size, df.shape method of pandas.\n",
    "```\n"
   ]
  },
  {
   "cell_type": "markdown",
   "id": "8b1fa4e1",
   "metadata": {},
   "source": [
    "## Example:\n",
    "```\n",
    "SELECT COUNT(*) FROM ranking.DataTable dt \n",
    "WHERE `location code` ='UK';\n",
    "```"
   ]
  },
  {
   "cell_type": "markdown",
   "id": "964c8229",
   "metadata": {},
   "source": [
    "### SQL Count Function With DISTINCT keyword\n",
    "- The DISTINCT keyword with the COUNT function shows only the numbers of unique rows of a column.\n",
    "\n",
    "#### Syntax:\n",
    "```\n",
    "\n",
    "SELECT COUNT(DISTINCT column_name) FROM table_name WHERE [condition];  \n",
    "\n",
    "```\n",
    "#### Note:\n",
    "```\n",
    "This is equal to len(df['col'].unique()) method of pandas.\n",
    "```"
   ]
  },
  {
   "cell_type": "markdown",
   "id": "429abbcd",
   "metadata": {},
   "source": [
    "## SQL SELECT TOP\n",
    "- The SELECT TOP statement in SQL shows the limited number of records or rows from the database table. The TOP clause in the statement specifies how many rows are returned.\n",
    "\n",
    "- It shows the top N number of rows from the tables in the output. This clause is used when there are thousands of records stored in the database tables.\n",
    "\n",
    "### Note: \n",
    "- All the database systems do not support the TOP keyword for selecting the limited number of records. Oracle supports the ROWNUM keyword, and MySQL supports the LIMIT keyword.\n",
    "\n",
    "### Syntax of LIMIT Clause in MySQL\n",
    "```\n",
    "SELECT column_Name1,column_Name2, ....., column_NameN FROM table_name LIMIT value;  \n",
    "```\n",
    "\n",
    "- In the syntax, we have to specify the value after the LIMIT keyword. The value denotes the number of rows to be shown from the top in the output.\n",
    "\n",
    "#### Note:\n",
    "- This is equal to df.head() of pandas library."
   ]
  },
  {
   "cell_type": "markdown",
   "id": "341556dc",
   "metadata": {},
   "source": [
    "## Example:\n",
    "```    \n",
    "SELECT  * FROM ranking.DataTable dt \n",
    "LIMIT 5;\n",
    "```"
   ]
  },
  {
   "cell_type": "markdown",
   "id": "ba3eadde",
   "metadata": {},
   "source": [
    "### EXAMPLE\n",
    "```\n",
    "SELECT * \n",
    "FROM ranking.DataTable dt \n",
    "WHERE `location code`  = 'US'\n",
    "LIMIT 3;\n",
    "```"
   ]
  },
  {
   "cell_type": "markdown",
   "id": "c70ef474",
   "metadata": {},
   "source": [
    "## SQL SELECT RANDOM\n",
    "- The SQL SELECT RANDOM() function returns the random row. It can be used in online exam to display the random questions.\n",
    "\n",
    "- There are a lot of ways to select a random record or row from a database table. Each database server needs different SQL syntax.\n",
    "\n",
    "#### Syntax:\n",
    "\n",
    "```\n",
    "SELECT column FROM table  \n",
    "ORDER BY RAND ( )  \n",
    "LIMIT 1  \n",
    "```\n",
    "#### Note:\n",
    "```\n",
    "This is equal to df.sample() method.\n",
    "```"
   ]
  },
  {
   "cell_type": "code",
   "execution_count": null,
   "id": "b997e7fc",
   "metadata": {},
   "outputs": [],
   "source": []
  },
  {
   "cell_type": "code",
   "execution_count": null,
   "id": "39eb44d3",
   "metadata": {},
   "outputs": [],
   "source": []
  },
  {
   "cell_type": "markdown",
   "id": "79921f12",
   "metadata": {},
   "source": [
    "### Example:\n",
    "```\n",
    "SELECT * FROM ranking.DataTable dt \n",
    "ORDER BY RAND()\n",
    "LIMIT 5;\n",
    "```"
   ]
  },
  {
   "cell_type": "markdown",
   "id": "98c75580",
   "metadata": {},
   "source": [
    "## SQL SELECT AS\n",
    "- SQL 'AS' is used to assign a new name temporarily to a table column or even a table.\n",
    "- It makes an easy presentation of query results and allows the developer to label results more accurately without permanently renaming table columns or even the table itself.\n",
    "#### Syntax:\n",
    "```\n",
    "SELECT Column_Name1 AS New_Column_Name, Column_Name2  As New_Column_Name FROM Table_Name;  \n",
    "```"
   ]
  },
  {
   "cell_type": "markdown",
   "id": "e3209b5d",
   "metadata": {},
   "source": [
    "## Example 1:\n",
    "\n",
    "Write a query to get the student name and the average of the percentage of the student under the temporary column name 'Student' and 'Student_Percentage', respectively.\n",
    "\n",
    "## Query:\n",
    "```\n",
    "SELECT Student_Name AS Student, AVG (Student_Percentage) AS Average_Percentage FROM students;  \n",
    "```"
   ]
  },
  {
   "cell_type": "markdown",
   "id": "4707ad28",
   "metadata": {},
   "source": [
    "## Example 2:\n",
    "Write a query to get the student roll number and the student mobile number under the temporary column name 'Roll No' and 'Mobile Number', respectively.\n",
    "## Query:\n",
    "SELECT Student_RollNo AS 'Roll No', Student_PhoneNumber AS 'Mobile Number' FROM students;  "
   ]
  },
  {
   "cell_type": "markdown",
   "id": "42c93376",
   "metadata": {},
   "source": [
    "## Example 3:\n",
    "Write a query to get the student roll number and the student phone number, home town under the temporary column name 'Roll No' and 'Student_Info', respectively.\n",
    "\n",
    "## Query:\n",
    "```\n",
    "SELECT Student_RollNo AS 'Roll No', CONCAT (Student_PhoneNumber, ', ', Student_HomeTown) AS Student_Info FROM students; \n",
    "```\n",
    "#### Note : \n",
    "- Here, the CONCAT () function combines two different columns, student phone number and the home town, together in a single column. Further, the combined values of both these columns are stored under the temporarily assigned name 'Student_Info'."
   ]
  },
  {
   "cell_type": "markdown",
   "id": "31c3ee9d",
   "metadata": {},
   "source": [
    "### Assigning a temporary name to a table\n",
    "- Instead of remembering the table names, we can create an alias of them. We can assign a temporary name to the columns of a table; similarly, we can create an alias of a table.\n",
    "\n",
    "- Write a query to create an alias of a table named 'students'.\n",
    "\n",
    "### Query:\n",
    "```\n",
    "SELECT s.Student_RollNo, s.Student_Name, s.Student_Gender, s.Student_PhoneNumber, s.Student_HomeTown FROM students AS s WHERE s.Student_RollNo = 3;  \n",
    "```"
   ]
  },
  {
   "cell_type": "markdown",
   "id": "97f0970a",
   "metadata": {},
   "source": [
    "## HAVING Clause in SQL\n",
    "- The HAVING clause places the condition in the groups defined by the GROUP BY clause in the SELECT statement.\n",
    "- This SQL clause is implemented after the 'GROUP BY' clause in the 'SELECT' statement.\n",
    "- This clause is used in SQL because we cannot use the WHERE clause with the SQL aggregate functions. Both WHERE and HAVING clauses are used for filtering the records in SQL queries.\n",
    "\n",
    "### Difference between HAVING and WHERE Clause\n",
    "- The difference between the WHERE and HAVING clauses in the database is the most important question asked during an IT interview.\n",
    "- The HAVING clause is used in database systems to fetch the data/values from the groups according to the given condition while The WHERE clause is used in database systems to fetch the data/values from the tables according to the given condition.\n",
    "- The HAVING clause is always executed with the GROUP BY clause while The WHERE clause can be executed without the GROUP BY clause.\n",
    "- The HAVING clause can include SQL aggregate functions in a query or statement while We cannot use the SQL aggregate function with WHERE clause in statements.\n",
    "- We can only use SELECT statement with HAVING clause for filtering the records while Whereas, we can easily use WHERE clause with UPDATE, DELETE, and SELECT statements.\n",
    "- The HAVING clause is used in SQL queries after the GROUP BY clause while The WHERE clause is always used before the GROUP BY clause in SQL queries.\n",
    "- We can implements this SQL clause in column operations while We can implements this SQL clause in row operations.\n",
    "- It is a post-filter while It is a pre-filter.\n",
    "- It is used to filter groups while It is used to filter the single record of the table.\n",
    "\n",
    "### Syntax of HAVING clause:\n",
    "```\n",
    "SELECT column_Name1, column_Name2, ....., column_NameN aggregate_function_name(column_Name) FROM table_name GROUP BY column_Name1 HAVING condition;  \n",
    "```"
   ]
  },
  {
   "cell_type": "markdown",
   "id": "f334f6db",
   "metadata": {},
   "source": [
    "### Example: Show how we can add the salary of employees for each city in employee table?\n",
    "```\n",
    "SELECT SUM(Emp_Salary), Emp_City FROM Employee GROUP BY Emp_City;  \n",
    "```"
   ]
  },
  {
   "cell_type": "markdown",
   "id": "59776182",
   "metadata": {},
   "source": [
    "### Example: Show those cities whose total salary of employees is more than 5000 in employee table?\n",
    "```\n",
    "SELECT SUM(Emp_Salary), Emp_City FROM Employee GROUP BY Emp_City HAVING SUM(Emp_Salary)>5000;  \n",
    "```"
   ]
  },
  {
   "cell_type": "markdown",
   "id": "7672dbe3",
   "metadata": {},
   "source": [
    "### Example : show the age of those students whose roll number is more than and equals 502 in student table.\n",
    "```\n",
    "SELECT COUNT(Roll_No), Age FROM Student_details GROUP BY Age HAVING COUNT(Roll_No) >= 2 ;  \n",
    "```"
   ]
  },
  {
   "cell_type": "markdown",
   "id": "ea9ded01",
   "metadata": {},
   "source": [
    "### Example : Show each city and the minimum salary in each city in employee table.\n",
    "```\n",
    "SELECT MIN(Emp_Salary), Emp_City FROM Employee GROUP BY Emp_City;  \n",
    "```"
   ]
  },
  {
   "cell_type": "markdown",
   "id": "3a66e626",
   "metadata": {},
   "source": [
    "- MAX Function with HAVING Clause\n",
    "- MIN  Function with HAVING Clause\n",
    "- AVG Function with HAVING Clause."
   ]
  },
  {
   "cell_type": "markdown",
   "id": "15808518",
   "metadata": {},
   "source": [
    "## SQL ORDER BY Clause\n",
    "- Whenever we want to sort the records based on the columns stored in the tables of the SQL database, then we consider using the ORDER BY clause in SQL.\n",
    "- The ORDER BY clause in SQL will help us to sort the records based on the specific column of a table. This means that all the values stored in the column on which we are applying ORDER BY clause will be sorted, and the corresponding column values will be displayed in the sequence in which we have obtained the values in the earlier step.\n",
    "- Using the ORDER BY clause, we can sort the records in ascending or descending order as per our requirement. The records will be sorted in ascending order whenever the ASC keyword is used with ORDER by clause. DESC keyword will sort the records in descending order.\n",
    "- If no keyword is specified after the column based on which we have to sort the records, in that case, the sorting will be done by default in the ascending order.\n",
    "\n",
    "### Syntax to sort the records in ascending order:\n",
    "```\n",
    "SELECT ColumnName1,...,ColumnNameN FROM TableName  ORDER BY ColumnName ASC;    \n",
    "```\n",
    "\n",
    "### Syntax to sort the records in descending order:\n",
    "```\n",
    "SELECT ColumnName1,...,ColumnNameN FROM TableName  ORDER BY ColumnNameDESC;    \n",
    "```\n",
    "\n",
    "### Syntax to sort the records in ascending order without using ASC keyword:\n",
    "\n",
    "```\n",
    "SELECT ColumnName1,...,ColumnNameN FROM TableName  ORDER BY ColumnName;    \n",
    "``` "
   ]
  },
  {
   "cell_type": "markdown",
   "id": "0dc10e36",
   "metadata": {},
   "source": [
    "### Example: Write a query to sort the records in the ascending order of the customer names stored in the customers table.\n",
    "SELECT *FROM customers ORDER BY Name ASC;  "
   ]
  },
  {
   "cell_type": "markdown",
   "id": "ca8b51c8",
   "metadata": {},
   "source": [
    "### Example 2: Write a query to sort the records in the ascending order of the addresses stored in the customers table.\n",
    "SELECT *FROM customers ORDER BY Address; "
   ]
  },
  {
   "cell_type": "markdown",
   "id": "fc147dbc",
   "metadata": {},
   "source": [
    "### Example 3: Write a query to sort the records in the descending order of the customer salary stored in the customers table.\n",
    "SELECT *FROM customers ORDER BY Salary DESC;  "
   ]
  },
  {
   "cell_type": "markdown",
   "id": "63f40cba",
   "metadata": {},
   "source": [
    "### Example 4: Write a query to sort the records in the descending order of the customer age stored in the customers table.\n",
    "SELECT *FROM customers ORDER BY Age DESC;  "
   ]
  },
  {
   "cell_type": "markdown",
   "id": "84460dd7",
   "metadata": {},
   "source": [
    "## SQL ORDER BY RANDOM\n",
    "- If you want the resulting record to be ordered randomly, you should use the following codes according to several databases.\n",
    "```\n",
    "Here is a question: what is the need to fetch a random record or a row from a database?\n",
    "```\n",
    "- Sometimes you may want to display random information like articles, links, pages, etc., to your user.\n",
    "- If you want to fetch random rows from any of the databases, you have to use some altered queries according to the databases.\n",
    "\n",
    "### Select a random row with MySQL:\n",
    "```\n",
    "SELECT column FROM table ORDER BY RAND () LIMIT 1;   \n",
    "```"
   ]
  },
  {
   "cell_type": "markdown",
   "id": "2858f2d0",
   "metadata": {},
   "source": [
    "### SQL SORTING ON MULTIPLE COLUMNS\n",
    "- Let's take an example of customer table which has many columns, the following SQL statement selects all customers from the table named \"customer\", stored by the \"country\" and \"Customer-Name\" columns:\n",
    "```\n",
    "SELECT * FROM customers  \n",
    "ORDER BY country, Customer-Name;  \n",
    "```"
   ]
  },
  {
   "cell_type": "markdown",
   "id": "b944a20c",
   "metadata": {},
   "source": [
    "## SQL INSERT STATEMENT\n",
    "- SQL INSERT statement is a SQL query. It is used to insert a single or a multiple records in a table.\n",
    "- There are two ways to insert data in a table:\n",
    "\n",
    "- By SQL insert into statement\n",
    " >- By specifying column names\n",
    " >- Without specifying column names\n",
    "- By SQL insert into select statement"
   ]
  },
  {
   "cell_type": "markdown",
   "id": "c6fef59a",
   "metadata": {},
   "source": [
    "### Inserting data directly into a table\n",
    "You can insert a row in the table by using SQL INSERT INTO command.\n",
    "```\n",
    "INSERT INTO table_name  \n",
    "VALUES (value1, value2, value3....);  \n",
    "``` \n",
    "\n",
    "```\n",
    "INSERT INTO table_name (column1, column2, column3....)  \n",
    "VALUES (value1, value2, value3.....);  \n",
    "```\n",
    "First Example\n",
    "\n",
    "```\n",
    "INSERT INTO STUDENTS (ROLL_NO, NAME, AGE, CITY)  \n",
    "VALUES (1, Talha, 22, Lahore);  \n",
    "INSERT INTO STUDENTS (ROLL_NO, NAME, AGE, CITY)  \n",
    "VALUES (2, Dua, 20, Okara);  \n",
    "INSERT INTO STUDENTS (ROLL_NO, NAME, AGE, CITY)  \n",
    "VALUES (3, Imran, 21, Sahiwal);  \n",
    "INSERT INTO STUDENTS (ROLL_NO, NAME, AGE, CITY)  \n",
    "VALUES (4, Esha, 21, Multan);  \n",
    "INSERT INTO STUDENTS (ROLL_NO, NAME, AGE, CITY)  \n",
    "VALUES (5, Zainab, 23, Lahore);  \n",
    "``` \n",
    "\n",
    "Second Example\n",
    "```\n",
    "INSERT INTO STUDENTS\n",
    "VALUES (1, Talha, 22, Lahore);  \n",
    "VALUES (2, Dua, 20, Okara);  \n",
    "VALUES (3, Imran, 21, Sahiwal);  \n",
    "VALUES (4, Esha, 21, Multan);  \n",
    "VALUES (5, Zainab, 23, Lahore);\n",
    "```\n"
   ]
  },
  {
   "cell_type": "markdown",
   "id": "4e4a9964",
   "metadata": {},
   "source": [
    "# MySQL Conditions:\n",
    "    \n",
    "- MySQL AND \n",
    "- MySQL OR\n",
    "- MySQL AND OR\n",
    "- MySQL Boolean\n",
    "- MySQL LIKE\n",
    "- MySQL IN\n",
    "- MySQL ANY\n",
    "- MySQL Exists\n",
    "- MySQL NOT\n",
    "- MySQL Not Equal\n",
    "- MySQL IS NULL\n",
    "- MySQL IS NOT NULL\n",
    "- MySQL BETWEEN"
   ]
  },
  {
   "cell_type": "markdown",
   "id": "4b79b7fb",
   "metadata": {},
   "source": [
    "### MySQL AND Condition\n",
    "- The MySQL AND condition is used with SELECT, INSERT, UPDATE or DELETE statements to test two or more conditions in an individual query.\n",
    "\n",
    "#### Syntax:\n",
    "```\n",
    "WHERE condition1  \n",
    "AND condition2  \n",
    "...  \n",
    "AND condition_n;  \n",
    "```"
   ]
  },
  {
   "cell_type": "markdown",
   "id": "af730105",
   "metadata": {},
   "source": [
    "### MySQL OR Condition\n",
    "The MySQL OR condition specifies that if you take two or more conditions then one of the conditions must be fulfilled to get the records as result.\n",
    "\n",
    "### Syntax:\n",
    "```\n",
    "WHERE condition1  \n",
    "OR condition2  \n",
    "...  \n",
    "OR condition_n;  \n",
    "```"
   ]
  },
  {
   "cell_type": "markdown",
   "id": "fd37c769",
   "metadata": {},
   "source": [
    "### MySQL AND & OR condition\n",
    "In MySQL, you can use AND & OR condition both together with the SELECT, INSERT, UPDATE and DELETE statement. While combine these conditions, you must be aware where to use round brackets so that the database know the order to evaluate each condition.\n",
    "\n",
    "#### Syntax:\n",
    "```\n",
    "WHERE condition1  \n",
    "AND condition2  \n",
    "...  \n",
    "OR condition_n;  \n",
    "```\n",
    "\n",
    "## Example\n",
    "```\n",
    "SELECT *  \n",
    "FROM students  \n",
    "WHERE (course_name = 'Java' AND student_name = 'Ali')  \n",
    "OR (student_id < 2);  \n",
    "```"
   ]
  },
  {
   "cell_type": "markdown",
   "id": "043d4aa2",
   "metadata": {},
   "source": [
    "## MySQL Like\n",
    "- The LIKE is a logical operator in the Structured Query Language. This SQL operator is used in the WHERE clause with the following three statements:\n",
    "\n",
    ">- SELECT Statement\n",
    ">- UPDATE Statement\n",
    ">- DELETE Statement\n",
    "\n",
    "- It filters the records from the columns based on the pattern specified in the SQL query.\n",
    "\n",
    "Following are two wildcard characters that are used either in conjunction or independently with the SQL LIKE operator:\n",
    "\n",
    "- % (percent sign): This wildcard character matches zero, one, or more than one character.\n",
    "- _ (underscore sign): This wildcard character matches only one or a single character.\n",
    "\n",
    "#### Syntax of the LIKE operator\n",
    "```\n",
    "SELECT column_Name1, column_Name2 ...., column_NameN FROM table_Name WHERE column_name LIKE pattern;   \n",
    "```\n",
    "- In this syntax, the pattern is a sequence of characters that have to be searched in that column which is just specified after the WHERE clause."
   ]
  },
  {
   "cell_type": "markdown",
   "id": "e75741d2",
   "metadata": {},
   "source": [
    "### Examples of LIKE Operator in MySQL\n",
    "- Suppose, you want to filter the records of those employees whose names start with \"S\". \n",
    "- Suppose, you want to filter the records of those employees whose department name ends with \"g\".\n",
    "- Suppose, you want to show the name and salary of those employees whose department name starts with \"C\" and ends with \"g\". \n",
    "- Suppose, you want to show all records of those employees from the above employee table whose Name contains the letter \"a\" in any position.\n",
    "- Suppose, you want to show all records of those students whose Name contains \"a\" at the second position.\n",
    "- Suppose, you want to access records of those students whose names contain at least 3 characters and starts with the letter \"S\".\n",
    "- Suppose, you want to access Roll_No, Name, and Marks of those students whose Marks is 2 digits long and ends with '5':\n",
    "- \n"
   ]
  },
  {
   "cell_type": "markdown",
   "id": "02e362f5",
   "metadata": {},
   "source": [
    "## MySQL IN Condition\n",
    "- The MySQL IN condition is used to reduce the use of multiple OR conditions in a SELECT, INSERT, UPDATE and DELETE statement.\n",
    "\n",
    "### Syntax:\n",
    "```\n",
    "expression IN (value1, value2, .... value_n);  \n",
    "```\n",
    "### Parameters:\n",
    "\n",
    "- value1, value2, ... or value_n: These are the values to test against expression. If any of these values matches expression, then the IN condition will evaluate to true. This is a quick method to test if any one of the values matches expression.\n",
    "\n",
    "### Example:\n",
    "Write a MySQL statement to check which books have either 300 or 400 or 500 pages.\n",
    "\n",
    "#### Note:\n",
    " >- The MySQL NOT condition is opposite of MySQL IN condition. It is used to negate a condition in a SELECT, INSERT, UPDATE or DELETE statement.\n",
    " \n",
    " \n",
    "### MySQL NOT Operator with IS NULL condition:\n",
    "```\n",
    "SELECT *  \n",
    "FROM officers  \n",
    "WHERE officer_name IS NOT NULL;  \n",
    "``` \n",
    "\n",
    "### MySQL NOT Operator with LIKE condition:\n",
    "```\n",
    "SELECT *  \n",
    "FROM officers  \n",
    "WHERE officer_name NOT LIKE 'A%';  \n",
    "``` \n",
    "\n",
    "### MySQL NOT Operator with BETWEEN condition:\n",
    "```\n",
    "SELECT *  \n",
    "FROM officers  \n",
    "WHERE officer_id NOT BETWEEN 3 AND 5;  \n",
    "``` "
   ]
  },
  {
   "cell_type": "markdown",
   "id": "d06c98fc",
   "metadata": {},
   "source": [
    "## The SQL ANY and ALL Operators\n",
    "- The ANY and ALL operators allow you to perform a comparison between a single column value and a range of other values.\n",
    "\n",
    "## The SQL ANY Operator\n",
    "\n",
    "- returns a boolean value as a result\n",
    "- returns TRUE if ANY of the subquery values meet the condition\n",
    "- ANY means that the condition will be true if the operation is true for any of the values in the range.\n",
    "\n",
    "\n",
    "#### ANY Syntax:\n",
    "```\n",
    "SELECT column_name(s)\n",
    "FROM table_name\n",
    "WHERE column_name operator ANY\n",
    "  (SELECT column_name\n",
    "  FROM table_name\n",
    "  WHERE condition);\n",
    "```\n",
    "#### Note:\n",
    " >- The operator must be a standard comparison operator (=, <>, !=, >, >=, <, or <=)."
   ]
  },
  {
   "cell_type": "markdown",
   "id": "0a8277f9",
   "metadata": {},
   "source": [
    "## The SQL ALL Operator\n",
    "\n",
    "- returns a boolean value as a result\n",
    "- returns TRUE if ALL of the subquery values meet the condition\n",
    "- is used with SELECT, WHERE and HAVING statements\n",
    "- ALL means that the condition will be true only if the operation is true for all values in the range. \n",
    "\n",
    "### ALL Syntax With SELECT\n",
    "```\n",
    "SELECT ALL column_name(s)\n",
    "FROM table_name\n",
    "WHERE condition;\n",
    "```\n",
    "\n",
    "### ALL Syntax With WHERE or HAVING\n",
    "```\n",
    "SELECT column_name(s)\n",
    "FROM table_name\n",
    "WHERE column_name operator ALL\n",
    "  (SELECT column_name\n",
    "  FROM table_name\n",
    "  WHERE condition);\n",
    "```\n",
    "#### Note: \n",
    " >- The operator must be a standard comparison operator (=, <>, !=, >, >=, <, or <=)."
   ]
  },
  {
   "cell_type": "markdown",
   "id": "d08f90eb",
   "metadata": {},
   "source": [
    "## Examples\n",
    "\n",
    "- 1 . The following SQL statement lists the ProductName if it finds ANY records in the OrderDetails table has Quantity equal to 10 (this will return TRUE because the Quantity column has some values of 10):\n",
    "```\n",
    "SELECT ProductName               \n",
    "FROM Products            \n",
    "WHERE ProductID = ANY                 \n",
    "  (SELECT ProductID                \n",
    "  FROM OrderDetails                 \n",
    "  WHERE Quantity = 10);             \n",
    "  \n",
    "```\n",
    "\n",
    "- 2. The following SQL statement lists the ProductName if it finds ANY records in the OrderDetails table has Quantity larger than 99 (this will return TRUE because the Quantity column has some values larger than 99):\n",
    "\n",
    "```   \n",
    "SELECT ProductName    \n",
    "FROM Products     \n",
    "WHERE ProductID = ANY    \n",
    "  (SELECT ProductID     \n",
    "  FROM OrderDetails     \n",
    "  WHERE Quantity > 99);    \n",
    "     \n",
    "```\n",
    "\n",
    "- 3. The following SQL statement lists the ProductName if it finds ANY records in the OrderDetails table has Quantity larger than 1000 (this will return FALSE because the Quantity column has no values larger than 1000):\n",
    "```\n",
    "SELECT ProductName             \n",
    "FROM Products        \n",
    "WHERE ProductID = ANY             \n",
    "  (SELECT ProductID           \n",
    "  FROM OrderDetails              \n",
    "  WHERE Quantity > 1000);           \n",
    "```\n",
    "\n",
    "- The following SQL statement lists ALL the product names:\n",
    "\n",
    "```\n",
    "SELECT ALL ProductName        \n",
    "FROM Products       \n",
    "WHERE TRUE;     \n",
    "```\n",
    "\n",
    "- The following SQL statement lists the ProductName if ALL the records in the OrderDetails table has Quantity equal to 10. This will of course return FALSE because the Quantity column has many different values (not only the value of 10):\n",
    "\n",
    "\n",
    "```\n",
    "SELECT ProductName     \n",
    "FROM Products     \n",
    "WHERE ProductID = ALL     \n",
    "  (SELECT ProductID     \n",
    "  FROM OrderDetails      \n",
    "  WHERE Quantity = 10);     \n",
    "```"
   ]
  },
  {
   "cell_type": "markdown",
   "id": "c7eed21c",
   "metadata": {},
   "source": [
    "## MySQL Exists\n",
    "- The EXISTS operator in MySQL is a type of Boolean operator which returns the true or false result. It is used in combination with a subquery and checks the existence of data in a subquery. It means if a subquery returns any record, this operator returns true. Otherwise, it will return false. The true value is always represented numeric value 1, and the false value represents 0. We can use it with SELECT, UPDATE, DELETE, INSERT statement.\n",
    "\n",
    "### Syntax\n",
    "```\n",
    "SELECT col_names  \n",
    "FROM tab_name  \n",
    "WHERE [NOT] EXISTS (  \n",
    "    SELECT col_names   \n",
    "    FROM tab_name   \n",
    "    WHERE condition  \n",
    "); \n",
    "``` \n",
    "- The NOT operator is used to negates the EXISTS operator. It returns true when the subquery does not return any row. Otherwise, it returns false.\n",
    "\n",
    "- Generally, the EXISTS query begins with SELECT *, but it can start with the SELECT column, SELECT a_constant, or anything in the subquery. It will give the same output because MySQL ignores the select list in the SUBQUERY.\n",
    "\n",
    "- This operator terminates immediately for further processing after the matching result found. This feature improves the performance of the query in MySQL.\n",
    "\n",
    "#### Note \n",
    " >- MySQL EXISTS With DELETE Statement Example\n",
    " >- What is difference between IN and EXIST."
   ]
  },
  {
   "cell_type": "markdown",
   "id": "037d9015",
   "metadata": {},
   "source": [
    "## MySQL Not Equal\n",
    "- MySQL Not Equal is an inequality operator that used for returning a set of rows after comparing two expressions that are not equal. The MySQL contains two types of Not Equal operator, which are (< >) and (! =).\n",
    "\n",
    "### Difference Between (< >) and (! =) Operator\n",
    "- The Not Equal operators in MySQL works the same to perform an inequality test between two expressions. They always give the same result. However, they contain one difference that `< >` follows the ISO standard whereas `!=` does not follow ISO standard.\n",
    "\n",
    "### Examples:\n",
    "If ou want to get the student details who do not belong to England, then you need to execute the following statement:\n",
    "```\n",
    "SELECT * FROM students WHERE city <> \"England\";  \n",
    "OR,\n",
    "\n",
    "SELECT * FROM students WHERE city != \"England\";  \n",
    "``` \n",
    "\n",
    "Inthis example, we are going to understand how the Not Equal operator works with multiple conditions in the WHERE clause. For example, we want to get the customer details where income is higher than 40000, and occupation is not a developer. \n",
    "```\n",
    "SELECT * FROM customers Where income>40000 and occupation<>\"Developer\";  \n",
    "\n",
    "```"
   ]
  },
  {
   "cell_type": "markdown",
   "id": "daf4337a",
   "metadata": {},
   "source": [
    "## MySQL IS NULL Condition\n",
    "- MySQL IS NULL condition is used to check if there is a NULL value in the expression. It is used with SELECT, INSERT, UPDATE and DELETE statement.\n",
    "\n",
    "### Syntax:\n",
    "```\n",
    "expression IS NULL;  \n",
    "```\n",
    "\n",
    "## MySQL IS NOT NULL Condition\n",
    "- MySQL IS NOT NULL condition is used to check the NOT NULL value in the expression. It is used with SELECT, INSERT, UPDATE and DELETE statements.\n",
    "\n",
    "### Syntax:\n",
    "```\n",
    "expression IS NOT NULL ;\n",
    "```"
   ]
  },
  {
   "cell_type": "markdown",
   "id": "7e40af85",
   "metadata": {},
   "source": [
    "## MySQL BETWEEN Condition\n",
    "- The MYSQL BETWEEN condition specifies how to retrieve values from an expression within a specific range. It is used with SELECT, INSERT, UPDATE and DELETE statement.\n",
    "\n",
    "### Syntax:\n",
    "```\n",
    "expression BETWEEN value1 AND value2;    \n",
    "```\n",
    "\n",
    "#### MySQL BETWEEN condition with numeric value:\n",
    "```\n",
    "SELECT *  \n",
    "FROM officers  \n",
    "WHERE officer_id BETWEEN 1 AND 3; \n",
    "``` \n",
    "\n",
    "\n",
    "#### MySQL BETWEEN condition with date:\n",
    "```\n",
    "SELECT *  \n",
    "FROM employees  \n",
    "WHERE working_date BETWEEN CAST ('2015-01-24' AS DATE) AND CAST ('2015-01-25' AS DATE);  \n",
    "```"
   ]
  },
  {
   "cell_type": "markdown",
   "id": "3ec5ba8c",
   "metadata": {},
   "source": [
    "## MySQL Aggregate Functions\n",
    "- MySQL's aggregate function is used to perform calculations on multiple values and return the result in a single value like the average of all values, the sum of all values, and maximum & minimum value among certain groups of values. We mostly use the aggregate functions with SELECT statements in the data query languages.\n",
    "\n",
    "### Syntax:\n",
    "```\n",
    "function_name (DISTINCT | ALL expression)  \n",
    "```\n",
    "In the above syntax, we had used the following parameters:\n",
    "\n",
    "- First, we need to specify the name of the aggregate function.\n",
    "- Second, we use the DISTINCT modifier when we want to calculate the result based on distinct values or ALL modifiers when we calculate all values, including duplicates. The default is ALL.\n",
    "- Third, we need to specify the expression that involves columns and arithmetic operators.\n",
    "\n",
    "\n",
    "### There are various aggregate functions available in MySQL.\n",
    "- count()\tIt returns the number of rows, including rows with NULL values in a group.\n",
    "- sum()\tIt returns the total summed values (Non-NULL) in a set.\n",
    "- average()\tIt returns the average value of an expression.\n",
    "- min()\tIt returns the minimum (lowest) value in a set.\n",
    "- max()\tIt returns the maximum (highest) value in a set.\n",
    "- first()\tIt returns the first value of an expression.\n",
    "- last()\tIt returns the last value of an expression.\n",
    "\n",
    "### Why we use aggregate functions?\n",
    "- We mainly use the aggregate functions in databases, spreadsheets and many other data manipulation software packages. In the context of business, different organization levels need different information such as top levels managers interested in knowing whole figures and not the individual details. These functions produce the summarised data from our database. Thus they are extensively used in economics and finance to represent the economic health or stock and sector performance.\n",
    "\n",
    "Let us take an example of netflix (video streaming website which has huge collections of the movie) database, where management may require the following details:\n",
    "\n",
    " >- Most rented movies.\n",
    " >- Least rented movies.\n",
    " >- Average number that each movie is rented out in a month.\n",
    "\n",
    "We can easily produce these details with the help of aggregate functions."
   ]
  },
  {
   "cell_type": "markdown",
   "id": "c86b9bf6",
   "metadata": {},
   "source": [
    "## Eaxmples:\n",
    "- Suppose we want to get the total number of employees in the employee table.\n",
    "- Suppose can see the total working hours of all employees in the table.\n",
    "- Suppose we can see that the average working hours of all employees in the organization.\n",
    "- Suppose we can see that the minimum working hours of an employee available in the table.\n",
    "- Suppose we can see that the maximum working hours of an employee available in the table.\n",
    "- Suppose we can see that the first working date of an employee available in the table.\n",
    "- Suppose we want to get the last working hour of an employee available in the table.\n",
    "- "
   ]
  },
  {
   "cell_type": "markdown",
   "id": "08b9aaee",
   "metadata": {},
   "source": [
    "## Examples of MySQL Count() Function\n",
    "\n",
    "- COUNT(*) Function: This function uses the SELECT statement to returns the count of rows in a result set. The result set contains all Non-Null, Null, and duplicates rows.\n",
    "\n",
    "- COUNT(expression) Function: This function returns the result set without containing Null rows as the result of an expression.\n",
    "\n",
    "- COUNT(distinct expression) Function: This function returns the count of distinct rows without containing NULL values as the result of the expression.\n",
    "\n",
    "#### Syntax\n",
    "```\n",
    "SELECT COUNT (aggregate_expression)    \n",
    "FROM table_name    \n",
    "[WHERE conditions];    \n",
    "```\n",
    "\n",
    "#### Parameter explanation\n",
    "- aggregate_expression: It specifies the column or expression whose NON-NULL values will be counted.\n",
    "- table_name: It specifies the tables from where you want to retrieve records. There must be at least one table listed in the FROM clause.\n",
    "- WHERE conditions: It is optional. It specifies the conditions that must be fulfilled for the records to be selected.\n",
    "\n",
    "### Examples\n",
    "\n",
    "- Execute the query that uses the COUNT(expression) function to calculates the total number of employees name available in the table.\n",
    "- Execute the statement that returns all rows from the employee table and WHERE clause specifies the rows whose value in the column emp_age is greater than 32.\n",
    "- Execute the statement that uses the COUNT(distinct expression) function that counts the Non-Null and distinct rows in the column emp_age/student_age.\n",
    "\n",
    "\n",
    "#### MySQL Count() Function with GROUP BY Clause\n",
    "We can also use the count() function with the GROUP BY clause that returns the count of the element in each group. For example, the following statement returns the number of employee in each city:\n",
    "```\n",
    "SELECT emp_name, city, COUNT(*) FROM employees GROUP BY city;  \n",
    "```\n",
    "\n",
    "#### MySQL Count() Function with HAVING and ORDER BY Clause\n",
    "Let us see another clause that uses ORDER BY and Having clause with the count() function. Execute the following statement that gives the employee name who has at least two age same and sorts them based on the count result:\n",
    "```\n",
    "SELECT emp_name, emp_age, COUNT(*) FROM employees   \n",
    "GROUP BY emp_age   \n",
    "HAVING COUNT(*)>=2   \n",
    "ORDER BY COUNT(*);  \n",
    "```"
   ]
  },
  {
   "cell_type": "markdown",
   "id": "e6edb6af",
   "metadata": {},
   "source": [
    "## Examples of MySQL sum() function\n",
    "- Execute the query that calculates the total number of working hours of all employees in the table.\n",
    "- Execute the query to calculate the total working hours of employees whose working_hours >= 12.\n",
    "- Execute the statement to calculates the total working hours of each employee by using the SUM() function with the GROUP BY clause.\n",
    "-  Execute the statement that calculates the working hours of all employees, grouping them based on their occupation and returns the result whose Total_working_hours>24.\n",
    "- Execute the  query that removes the duplicate records in the working_hours column of the employee table and then calculates the sum.\n",
    " >- Note: Use MySQL sum() function with DISTINCT clause"
   ]
  },
  {
   "cell_type": "markdown",
   "id": "c5d46882",
   "metadata": {},
   "source": [
    "## Examples of MySQL AVG() function\n",
    "- Execute the  query that calculates the average working hours of all employees in the table.\n",
    "- Execute the query to calculate the total average working hours of employees whose working_hours >= 12.\n",
    "- Execute the query to calculates the average working hours of each employee using the AVG() function and then group the result with the GROUP BY clause. Here GROUP BY `DEPARTMENT` Column.\n",
    "- Execute the  query statement that calculates the average working hours of all employees, grouping them based on their occupation/department and returns the result whose Avg_working_hours>9.\n",
    "- Execute the query that removes the duplicate records in the working_hours column of the employee table and then returns the average value. \n",
    " >- Note: MySQL AVG() function with DISTINCT clause"
   ]
  },
  {
   "cell_type": "markdown",
   "id": "c1ffcbe7",
   "metadata": {},
   "source": [
    "## Examples of MySQL MIN() Function\n",
    "- Execute the query that uses the MIN function to find the minimum income of the employee available in the table:\n",
    "- Execute the statement to find the minimum income in all rows from the employee table and WHERE clause specifies all those rows whose emp_age column is greater than or equal to 32 and less than or equal to 40.\n",
    "- Execute the statement  that uses the MIN() function with the GROUP BY clause to find the minimum income in all rows from the employee table for each emp_age/department group.\n",
    " >- NOTE: Use MySQL MIN() Function with GROUP BY Clause\n",
    "\n",
    "- Execute the statement that returns the minimum income of all employees, grouping them based on their department/city and returns the result whose MIN(income)>150000.\n",
    " >- Note: Use MySQL MIN() Function with HAVING Clause\n",
    "- Execute the query that removes the duplicate records in the salary/income column of the employee table, group by city/department, and then returns the minimum value. \n",
    " >- Use: MySQL MIN() Function with DISTINCT Clause\n"
   ]
  },
  {
   "cell_type": "markdown",
   "id": "93542bd2",
   "metadata": {},
   "source": [
    "## Example of MySQL MAX Function\n",
    "- Execute the query that uses the MAX function to find the maximum income/salary of the employee available in the table.\n",
    "- Execute the query that finds the maximum income/salary in all rows from the employee table. The WHERE clause specifies all those rows whose emp_age column is greater than 35 or department is `HR`.\n",
    "- Execute the statement uses the MAX() function with the GROUP BY clause to find the maximum income/salary in all rows from the employee table for each emp_age/department group.\n",
    "- Execute the statement that returns the maximum income/salary among all employees, grouping them based on their city/department and returns the result whose MAX(income) >= 200000.\n",
    "- Execute the query that removes the duplicate records in the employee table's income/salary column, group by city/department, and then returns the maximum value.\n",
    "\n",
    "-------------------------------------------\n",
    "##### IMP Question:\n",
    "-  Execute the query that returns all the details of a employee which has maximum/minimum salary from table.\n",
    "```\n",
    "SELECT * FROM ORG.Worker w \n",
    "WHERE   SALARY = \n",
    "(SELECT MAX(SALARY)\n",
    "FROM ORG.Worker);\n",
    "```\n",
    "-  Select `first/last` five rows or values of specific column using `limit` and `desc` keyword."
   ]
  },
  {
   "cell_type": "markdown",
   "id": "384aeed5",
   "metadata": {},
   "source": [
    "# MySQL Unique Key\n",
    "![](images/unique-key.png)\n",
    "\n",
    "- A unique key in MySQL is a single field or combination of fields that ensure all values going to store into the column will be unique. It means a column cannot stores duplicate values. For example, the email addresses and roll numbers of students in the \"student_info\" table or contact number of employees in the \"Employee\" table should be unique.\n",
    "- MySQL allows us to use more than one column with UNIQUE constraint in a table. \n",
    "- It ensures the integrity of the column or group of columns to store different values into a table.\n",
    "\n",
    "### Needs of Unique Key\n",
    "- It is useful in preventing the two records from storing identical values into the column.\n",
    "- It stores only distinct values that maintain the integrity and reliability of the database for accessing the information in an organized way.\n",
    "- It also works with a foreign key in preserving the uniqueness of a table.\n",
    "- It can contain null value into the table.\n",
    "\n",
    "### Syntax\n",
    "\n",
    "- If we want to create only one unique key column into a table, use the syntax as below\n",
    "```\n",
    "CREATE TABLE table_name(  \n",
    "    col1 datatype,  \n",
    "    col2 datatype UNIQUE,  \n",
    "    ...  \n",
    "); \n",
    "```\n",
    "\n",
    "- If we want to create more than one unique key column into a table, use the syntax as below\n",
    "```\n",
    "CREATE TABLE table_name(  \n",
    "  col1 col_definition,  \n",
    "  col2 col_definition,  \n",
    "  ...  \n",
    "  [CONSTRAINT constraint_name]  \n",
    "  UNIQUE(column_name(s))  \n",
    "); \n",
    "``` \n",
    "- If we have not specified the name for a unique constraint, MySQL generates a name for this column automatically. So, it is recommended to use the constraint name while creating a table.\n",
    "\n",
    "\n",
    "#### Unique Key Example\n",
    "\n",
    "- This statement creates a table \"Student2\" with a UNIQUE constraint.\n",
    "```\n",
    "CREATE TABLE Student2 (  \n",
    "    Stud_ID int NOT NULL UNIQUE,   \n",
    "    Name varchar(45),   \n",
    "    Email varchar(45),  \n",
    "    Age int,   \n",
    "    City varchar(25)  \n",
    "); \n",
    "```\n",
    "            \n",
    "Next, execute the insert queries listed below to understand how it works:\n",
    "```            \n",
    "INSERT INTO Student2 (Stud_ID, Name, Email, Age, City)  \n",
    "VALUES (1, 'Peter', 'peter@javatpoint.com', 22, 'Texas'),  \n",
    "(2, 'Suzi', 'suzi@javatpoint.com', 24, 'California'),  \n",
    "(3, 'Joseph', 'joseph@javatpoint.com', 23, 'Alaska');  \n",
    "  \n",
    "INSERT INTO Student2 (Stud_ID, Name, Email, Age, City)  \n",
    "VALUES (1, 'Stephen', 'stephen@javatpoint.com', 22, 'Texas');  \n",
    "\n",
    "```\n",
    "![](images/mysql-unique-key.png)\n",
    "\n",
    "- If you want to define the unique key on multiple columns, use the query as below:\n",
    "\n",
    "```\n",
    "CREATE TABLE Student3 (  \n",
    "    Stud_ID int,   \n",
    "    Roll_No int,  \n",
    "    Name varchar(45) NOT NULL,   \n",
    "    Email varchar(45),  \n",
    "    Age int,   \n",
    "    City varchar(25),  \n",
    "    CONSTRAINT uc_rollno_email Unique(Roll_No, Email)  \n",
    "); \n",
    "```\n",
    "![](images/mysql-unique-key2.png)"
   ]
  },
  {
   "cell_type": "markdown",
   "id": "ac9661f1",
   "metadata": {},
   "source": [
    "To verify this, execute the following statement:\n",
    "```\n",
    "SHOW INDEX FROM Student3;  \n",
    "```"
   ]
  },
  {
   "cell_type": "markdown",
   "id": "0c634fc3",
   "metadata": {},
   "source": [
    "### DROP Unique Key\n",
    "- The ALTER TABLE statement also allows us to drop the unique key from the table. \n",
    "#### Syntax:\n",
    "Syntax:\n",
    "```\n",
    "ALTER TABLE table_name  DROP INDEX constraint_name;  \n",
    "```\n",
    "- In the above syntax, the table_name is the name of the table that we want to modify, and constraint_name is the name of the unique key we are going to remove."
   ]
  },
  {
   "cell_type": "markdown",
   "id": "02bc8c3e",
   "metadata": {},
   "source": [
    "### Unique Key Using ALTER TABLE Statement\n",
    "- This statement allows us to do the modification into the existing table. Sometimes we want to add a unique key to the column of an existing table; then, this statement is used to add the unique key for that column.\n",
    "\n",
    "#### Syntax\n",
    "```\n",
    "ALTER TABLE table_name ADD CONSTRAINT constraint_name UNIQUE(column_list); \n",
    "```"
   ]
  },
  {
   "cell_type": "markdown",
   "id": "44437e5d",
   "metadata": {},
   "source": [
    "## MySQL Primary Key\n",
    "- MySQL primary key is a single or combination of the field, which is used to identify each record in a table uniquely. If the column contains primary key constraints, then it cannot be null or empty. A table may have duplicate columns, but it can contain only one primary key. It always contains unique value into a column.\n",
    "\n",
    "\n",
    "### Rules for Primary key\n",
    "\n",
    "- The primary key column value must be unique.\n",
    "- Each table can contain only one primary key.\n",
    "- The primary key column cannot be null or empty.\n",
    "- MySQL does not allow us to insert a new row with the existing primary key.\n",
    "- It is recommended to use INT or BIGINT data type for the primary key column.\n",
    "\n",
    "#### We can create a primary key in two ways:\n",
    " >- CREATE TABLE Statement\n",
    " >- ALTER TABLE Statement\n",
    " \n",
    "<img src=\"images/030819_0835_SQLServerPR1.png\" height=600px width=600px>"
   ]
  },
  {
   "cell_type": "markdown",
   "id": "eda80f51",
   "metadata": {},
   "source": [
    "### Example to create primary key\n",
    "```\n",
    "CREATE TABLE Login(  \n",
    "   login_id INT AUTO_INCREMENT PRIMARY KEY,  \n",
    "   username VARCHAR(40),  \n",
    "   password VARCHAR(55),  \n",
    "   email VARCHAR(55)  \n",
    "); \n",
    "```\n",
    "```\n",
    "INSERT INTO Login(login_id, username, password, email)   \n",
    "VALUES (1,'Stephen', 15343434532, 'stephen@javatpoint.com'),   \n",
    "(2, 'Joseph', 35435479495, 'Joseph@javatpoint.com');  \n",
    "  \n",
    "INSERT INTO Login(login_id, username, password, email)   \n",
    "VALUES (1,'Peter', 15343434532, 'peter@javatpoint.com');  \n",
    "```\n",
    "![](images/mysql-primary-key.png)\n",
    "\n",
    "#### IMP Questions:\n",
    "- Can we define the primary key on multiple columns?\n",
    "-  Add a column of a table using `primary key using alter table statement`.\\\n",
    "- How we can drop primary key from the table using `DROP Primary Key`.\n",
    "\n",
    "#### Difference between Primary and Unique key\n",
    "- It is a single or combination of the field, which is used to identify each record in a table uniquely while It also determines each row of the table uniquely in the absence of a primary key.\n",
    "- A table can have only one primary key while A table can have more than one unique key.\n",
    "- It creates a clustered index while unique key creates a non-clustered index."
   ]
  },
  {
   "cell_type": "markdown",
   "id": "6c80cd51",
   "metadata": {},
   "source": [
    "## MySQL Foreign Key\n",
    "- The foreign key is used to link one or more than one table together. It is also known as the referencing key. A foreign key matches the primary key field of another table. It means a foreign key field in one table refers to the primary key field of the other table. It identifies each row of another table uniquely that maintains the referential integrity in MySQL.\n",
    "\n",
    "- A foreign key makes it possible to create a parent-child relationship with the tables. In this relationship, the parent table holds the initial column values, and column values of child table reference the parent column values. MySQL allows us to define a foreign key constraint on the child table.\n",
    "\n",
    "- MySQL defines the foreign key in two ways:\n",
    " >- Using CREATE TABLE Statement\n",
    " >- Using ALTER TABLE Statement\n",
    " \n",
    "<img src='images/foreign-key-in-dbms3.png'>"
   ]
  },
  {
   "cell_type": "markdown",
   "id": "872cbefd",
   "metadata": {},
   "source": [
    "### SQL FOREIGN KEY on CREATE TABLE\n",
    "- The following SQL creates a FOREIGN KEY on the \"PersonID\" column when the \"Orders\" table is created:\n",
    "```\n",
    "CREATE TABLE Orders (\n",
    "    OrderID int NOT NULL,\n",
    "    OrderNumber int NOT NULL,\n",
    "    PersonID int,\n",
    "    PRIMARY KEY (OrderID),\n",
    "    FOREIGN KEY (PersonID) REFERENCES Persons(PersonID)\n",
    ");\n",
    "```"
   ]
  },
  {
   "cell_type": "code",
   "execution_count": null,
   "id": "694179ca",
   "metadata": {},
   "outputs": [],
   "source": []
  },
  {
   "cell_type": "code",
   "execution_count": null,
   "id": "2666a371",
   "metadata": {},
   "outputs": [],
   "source": []
  },
  {
   "cell_type": "code",
   "execution_count": null,
   "id": "dcdc1279",
   "metadata": {},
   "outputs": [],
   "source": []
  },
  {
   "cell_type": "code",
   "execution_count": null,
   "id": "54007a89",
   "metadata": {},
   "outputs": [],
   "source": []
  },
  {
   "cell_type": "code",
   "execution_count": null,
   "id": "aa719e3d",
   "metadata": {},
   "outputs": [],
   "source": []
  },
  {
   "cell_type": "markdown",
   "id": "f748f625",
   "metadata": {},
   "source": [
    "## Introduction to MySQL LIMIT clause\n"
   ]
  },
  {
   "cell_type": "code",
   "execution_count": null,
   "id": "16ac0e52",
   "metadata": {},
   "outputs": [],
   "source": []
  },
  {
   "cell_type": "code",
   "execution_count": null,
   "id": "35668ba8",
   "metadata": {},
   "outputs": [],
   "source": []
  },
  {
   "cell_type": "code",
   "execution_count": null,
   "id": "99fb8c30",
   "metadata": {},
   "outputs": [],
   "source": []
  },
  {
   "cell_type": "code",
   "execution_count": null,
   "id": "f472e9d2",
   "metadata": {},
   "outputs": [],
   "source": []
  },
  {
   "cell_type": "markdown",
   "id": "f356dffb",
   "metadata": {},
   "source": [
    "# Environment Setup\n",
    "- To build the real world applications, connecting with the databases is the necessity for the programming languages. However, python allows us to connect our application to the databases like MySQL, SQLite, MongoDB, and many others.\n",
    "\n",
    "### Install mysql.connector\n",
    "- To connect the python application with the MySQL database, we must import the mysql.connector module in the program.\n",
    "- The mysql.connector is not a built-in module that comes with the python installation. We need to install it to get it working.\n",
    "- Execute the following command to install it using pip installer.\n",
    "\n",
    "`pip install mysql-connector`"
   ]
  },
  {
   "cell_type": "markdown",
   "id": "53a8be55",
   "metadata": {},
   "source": [
    "## Database Connection\n",
    "There are the following steps to connect a python application to our database.\n",
    "\n",
    "- Import mysql.connector module\n",
    "- Create the connection object.\n",
    "- Create the cursor object\n",
    "- Execute the query"
   ]
  },
  {
   "cell_type": "markdown",
   "id": "32abd5d4",
   "metadata": {},
   "source": [
    "## Creating the connection\n",
    "- To create a connection between the MySQL database and the python application, the connect() method of mysql.connector module is used.\n",
    "- Pass the database details like HostName, username, and the database password in the method call. The method returns the connection object.\n",
    "\n",
    "#### The syntax to use the connect() is given below.\n",
    "```\n",
    "Connection-Object= mysql.connector.connect(host = <host-name> , user = <username> , passwd = <password> , databaseName = <database>)  \n",
    "```"
   ]
  },
  {
   "cell_type": "code",
   "execution_count": null,
   "id": "49414327",
   "metadata": {},
   "outputs": [],
   "source": [
    "import mysql.connector\n",
    "conn = mysql.connector.connect(host=\"localhost\", user='root', password = 'Pucit12345#', database = 'Hospital')\n",
    "print(conn)\n",
    "cur = conn.cursor()\n",
    "print(cur)"
   ]
  },
  {
   "cell_type": "code",
   "execution_count": null,
   "id": "ae9e826b",
   "metadata": {},
   "outputs": [],
   "source": [
    "import mysql.connector  \n",
    "  \n",
    "#Create the connection object   \n",
    "myconn = mysql.connector.connect(host = \"localhost\", user = \"root\",passwd = \"google\")  \n",
    "  \n",
    "#printing the connection object   \n",
    "print(myconn)  "
   ]
  },
  {
   "cell_type": "markdown",
   "id": "62933a69",
   "metadata": {},
   "source": [
    "## Creating a cursor object\n",
    "The cursor object can be defined as an abstraction specified in the Python DB-API 2.0. It facilitates us to have multiple separate working environments through the same connection to the database. We can create the cursor object by calling the 'cursor' function of the connection object. The cursor object is an important aspect of executing queries to the databases.\n",
    "\n",
    "#### The syntax to create the cursor object is given below.\n",
    "```\n",
    "<my_cur>  = conn.cursor()  \n",
    "```"
   ]
  },
  {
   "cell_type": "code",
   "execution_count": 41,
   "id": "e50b0584",
   "metadata": {},
   "outputs": [],
   "source": [
    "# import mysql.connector  \n",
    "# #Create the connection object   \n",
    "# myconn = mysql.connector.connect(host = \"localhost\", user = \"root\",passwd = \"google\", database = \"mydb\")  \n",
    "  \n",
    "# #printing the connection object   \n",
    "# print(myconn)   \n",
    "  \n",
    "# #creating the cursor object  \n",
    "# cur = myconn.cursor()  \n",
    "  \n",
    "# print(cur)  "
   ]
  },
  {
   "cell_type": "markdown",
   "id": "c81be381",
   "metadata": {},
   "source": [
    "### Getting the list of existing databases\n",
    "We can get the list of all the databases by using the following MySQL query.\n",
    "```\n",
    "show databases;  \n",
    "```"
   ]
  },
  {
   "cell_type": "code",
   "execution_count": null,
   "id": "6af60e0f",
   "metadata": {},
   "outputs": [],
   "source": [
    "import mysql.connector  \n",
    "  \n",
    "#Create the connection object   \n",
    "myconn = mysql.connector.connect(host = \"localhost\", user = \"root\",passwd = \"google\")  \n",
    "  \n",
    "#creating the cursor object  \n",
    "cur = myconn.cursor()  \n",
    "  \n",
    "try:  \n",
    "    dbs = cur.execute(\"show databases\")  \n",
    "except:  \n",
    "    myconn.rollback()  \n",
    "for x in cur:  \n",
    "    print(x)  \n",
    "myconn.close()  "
   ]
  },
  {
   "cell_type": "code",
   "execution_count": null,
   "id": "3fd60232",
   "metadata": {},
   "outputs": [],
   "source": []
  },
  {
   "cell_type": "code",
   "execution_count": null,
   "id": "0843ee35",
   "metadata": {},
   "outputs": [],
   "source": [
    "import mysql.connector\n",
    "conn = mysql.connector.connect(host=\"localhost\", user='root', password = 'Pucit12345#', database = 'Hospital')\n",
    "print(conn)\n",
    "cur = conn.cursor()\n",
    "print(cur)\n",
    "try:\n",
    "    dbNames = cur.execute(\"show databases\")\n",
    "except:\n",
    "    conn.rollback()\n",
    "for x in cur:\n",
    "    print(x)\n",
    "conn.close()"
   ]
  },
  {
   "cell_type": "code",
   "execution_count": null,
   "id": "6e148c81",
   "metadata": {},
   "outputs": [],
   "source": []
  },
  {
   "cell_type": "code",
   "execution_count": 53,
   "id": "479fdafc",
   "metadata": {},
   "outputs": [],
   "source": [
    "conn.close()"
   ]
  },
  {
   "cell_type": "code",
   "execution_count": null,
   "id": "baf3126f",
   "metadata": {},
   "outputs": [],
   "source": []
  },
  {
   "cell_type": "markdown",
   "id": "accf5cbb",
   "metadata": {},
   "source": [
    "### Creating the new database\n",
    "The new database can be created by using the following SQL query.\n",
    "```\n",
    "create database <database-name>    \n",
    "```"
   ]
  },
  {
   "cell_type": "code",
   "execution_count": null,
   "id": "dc28e34d",
   "metadata": {},
   "outputs": [],
   "source": [
    "import mysql.connector  \n",
    "  \n",
    "#Create the connection object   \n",
    "myconn = mysql.connector.connect(host = \"localhost\", user = \"root\",passwd = \"google\")  \n",
    "  \n",
    "#creating the cursor object  \n",
    "cur = myconn.cursor()  \n",
    "  \n",
    "try:  \n",
    "    #creating a new database  \n",
    "    cur.execute(\"create database PythonDB2\")  \n",
    "  \n",
    "    #getting the list of all the databases which will now include the new database PythonDB  \n",
    "    dbs = cur.execute(\"show databases\")  \n",
    "      \n",
    "except:  \n",
    "    myconn.rollback()  \n",
    "for x in cur:  \n",
    "        print(x)  \n",
    "          \n",
    "myconn.close()  "
   ]
  },
  {
   "cell_type": "code",
   "execution_count": null,
   "id": "792422d3",
   "metadata": {},
   "outputs": [],
   "source": []
  },
  {
   "cell_type": "code",
   "execution_count": null,
   "id": "b7a11c3a",
   "metadata": {},
   "outputs": [],
   "source": []
  },
  {
   "cell_type": "code",
   "execution_count": null,
   "id": "0cc9490e",
   "metadata": {},
   "outputs": [],
   "source": []
  },
  {
   "cell_type": "code",
   "execution_count": null,
   "id": "d280be7e",
   "metadata": {},
   "outputs": [],
   "source": [
    "import mysql.connector\n",
    "\n",
    "mydb = mysql.connector.connect(\n",
    "  host=\"localhost\",\n",
    "  user=\"root\",\n",
    "  password=\"Pucit12345#\",\n",
    "  database=\"ehtisham\",\n",
    "  auth_plugin='mysql_native_password'\n",
    ")\n",
    "cur = mydb.cursor()  \n",
    "sql = \"insert into STUDENTS(ID, NAME, AGE, ADDRESS) values (%s, %s, %s, %s)\"  \n",
    "  \n",
    "#The row values are provided in the form of tuple   \n",
    "val = (110,'Ahmed', 20 , \"Lahore\")  \n",
    "  \n",
    "try:  \n",
    "    cur.execute(sql,val)  \n",
    "    mydb.commit()\n",
    "except:  \n",
    "    mydb.rollback()  \n",
    "print(cur.rowcount,\"record inserted!\")  \n",
    "mydb.close()   "
   ]
  },
  {
   "cell_type": "code",
   "execution_count": null,
   "id": "604ec4d9",
   "metadata": {},
   "outputs": [],
   "source": [
    "import mysql.connector\n",
    "\n",
    "mydb = mysql.connector.connect(\n",
    "  host=\"localhost\",\n",
    "  user=\"root\",\n",
    "  password=\"Pucit12345#\",\n",
    "  database=\"ehtisham\",\n",
    "  auth_plugin='mysql_native_password'\n",
    ")\n",
    "cur = mydb.cursor()  \n",
    "try:  \n",
    "    #Reading the Employee data      \n",
    "    cur.execute(\"select * from STUDENTS\")  \n",
    "  \n",
    "    #fetching the rows from the cursor object  \n",
    "    result = cur.fetchall()  \n",
    "    #printing the result  \n",
    "      \n",
    "    for x in result:  \n",
    "        print(x);  \n",
    "except:  \n",
    "    mydb.rollback()  \n",
    "mydb.close()  "
   ]
  },
  {
   "cell_type": "code",
   "execution_count": null,
   "id": "41171607",
   "metadata": {},
   "outputs": [],
   "source": [
    "import mysql.connector\n",
    "conn = mysql.connector.connect(host='localhost', user= 'root', password = 'Pucit12345#', database='DB3')\n",
    "cur = conn.cursor()\n",
    "sql = \"insert into students(ROLL_NO, NAME, Age, City) values (%s, %s, %s, %s)\"\n",
    "values = (6, 'Azka Noreen', 21, 'Multan')\n",
    "try:\n",
    "    cur.execute(sql,values)\n",
    "    conn.commit()\n",
    "except:\n",
    "    conn.rollback()\n",
    "    \n",
    "print(\"Total rows : \", cur.rowcount, 'inserted!')\n",
    "conn.close()"
   ]
  },
  {
   "cell_type": "code",
   "execution_count": null,
   "id": "f6294867",
   "metadata": {},
   "outputs": [],
   "source": [
    "import mysql.connector\n",
    "conn = mysql.connector.connect(host='localhost', user= 'root', password = 'Pucit12345#', database='DB3')\n",
    "cur = conn.cursor()\n",
    "try:\n",
    "    cur.execute(\"select * from students\")\n",
    "    for i in cur.fetchall():\n",
    "        print(i)\n",
    "except:\n",
    "    conn.rollback()\n",
    "conn.close()"
   ]
  },
  {
   "cell_type": "markdown",
   "id": "604e0d07",
   "metadata": {},
   "source": [
    "### Update operation"
   ]
  },
  {
   "cell_type": "code",
   "execution_count": null,
   "id": "1f49e7bf",
   "metadata": {},
   "outputs": [],
   "source": [
    "import mysql.connector  \n",
    "  \n",
    "#Create the connection object   \n",
    "myconn = mysql.connector.connect(host = \"localhost\", user = \"root\",passwd = \"google\",database = \"PythonDB\")  \n",
    "  \n",
    "#creating the cursor object  \n",
    "cur = myconn.cursor()  \n",
    "  \n",
    "try:  \n",
    "    #updating the name of the employee whose id is 110  \n",
    "    cur.execute(\"update Employee set name = 'alex' where id = 110\")  \n",
    "    myconn.commit()  \n",
    "except:  \n",
    "      \n",
    "    myconn.rollback()  \n",
    "myconn.close()  "
   ]
  },
  {
   "cell_type": "code",
   "execution_count": null,
   "id": "d27352ca",
   "metadata": {},
   "outputs": [],
   "source": []
  },
  {
   "cell_type": "code",
   "execution_count": null,
   "id": "86d1e336",
   "metadata": {},
   "outputs": [],
   "source": [
    "import mysql.connector  \n",
    "  \n",
    "#Create the connection object   \n",
    "myconn = mysql.connector.connect(host = \"localhost\", user = \"root\",passwd = \"google\",database = \"PythonDB\")  \n",
    "  \n",
    "#creating the cursor object  \n",
    "cur = myconn.cursor()  \n",
    "  \n",
    "try:  \n",
    "    #Deleting the employee details whose id is 110  \n",
    "    cur.execute(\"delete from Employee where id = 110\")  \n",
    "    myconn.commit()  \n",
    "except:  \n",
    "      \n",
    "    myconn.rollback()  \n",
    "  \n",
    "myconn.close()  "
   ]
  },
  {
   "cell_type": "markdown",
   "id": "45fb260b",
   "metadata": {},
   "source": [
    "## Performing Transactions\n",
    "Transactions ensure the data consistency of the database. We have to make sure that more than one applications must not modify the records while performing the database operations. The transactions have the following properties.\n",
    "\n",
    "- Atomicity : Either the transaction completes, or nothing happens. If a transaction contains 4 queries then all these queries must be executed, or none of them must be executed.\n",
    "- Consistency : The database must be consistent before the transaction starts and the database must also be consistent after the transaction is completed.\n",
    "- Isolation : Intermediate results of a transaction are not visible outside the current transaction.\n",
    "- Durability : Once a transaction was committed, the effects are persistent, even after a system failure.\n"
   ]
  },
  {
   "cell_type": "markdown",
   "id": "8451c58c",
   "metadata": {},
   "source": [
    "### Python commit() method\n",
    "Python provides the commit() method which ensures the changes made to the database consistently take place.\n",
    "#### The syntax to use the commit() method\n",
    "```\n",
    "conn.commit() #conn is the connection object  \n",
    "```\n",
    "- All the operations that modify the records of the database do not take place until the commit() is called."
   ]
  },
  {
   "cell_type": "markdown",
   "id": "130c9c0f",
   "metadata": {},
   "source": [
    "### Python rollback() method\n",
    "- The rollback() method is used to revert the changes that are done to the database. This method is useful in the sense that, if some error occurs during the database operations, we can rollback that transaction to maintain the database consistency.\n",
    "\n",
    "#### The syntax to use the rollback() \n",
    "```\n",
    "Conn.rollback()  \n",
    "```"
   ]
  },
  {
   "cell_type": "markdown",
   "id": "f8274ae5",
   "metadata": {},
   "source": [
    "### Closing the connection\n",
    "We need to close the database connection once we have done all the operations regarding the database. Python provides the close() method. \n",
    "#### The syntax to use the close() method \n",
    "```\n",
    "conn.close()   \n",
    "```"
   ]
  },
  {
   "cell_type": "code",
   "execution_count": null,
   "id": "19f5d8c5",
   "metadata": {},
   "outputs": [],
   "source": []
  },
  {
   "cell_type": "code",
   "execution_count": null,
   "id": "10668d94",
   "metadata": {},
   "outputs": [],
   "source": []
  },
  {
   "cell_type": "code",
   "execution_count": null,
   "id": "e7bbc174",
   "metadata": {},
   "outputs": [],
   "source": []
  },
  {
   "cell_type": "code",
   "execution_count": null,
   "id": "da731112",
   "metadata": {},
   "outputs": [],
   "source": []
  },
  {
   "cell_type": "code",
   "execution_count": null,
   "id": "0f934f67",
   "metadata": {},
   "outputs": [],
   "source": [
    "\n",
    "# import mysql.connector\n",
    "# create connection object using, connect function of mysql.connector\n",
    "# create cursor object\n",
    "# Execute query using execute functionm of cur object.\n",
    "# Commit your connection.\n",
    "# if there is error in your connection, then conn.rollback"
   ]
  },
  {
   "cell_type": "code",
   "execution_count": null,
   "id": "1fb71e90",
   "metadata": {},
   "outputs": [],
   "source": [
    "import mysql.connector\n",
    "conn = mysql.connector.connect(host = 'localhost', user = 'root', password = 'Pucit12345#', database = 'DB3')\n",
    "cur = conn.cursor()\n",
    "sql = \"select * from students\"\n",
    "try:\n",
    "    cur.execute(sql)\n",
    "    result  = cur.fetchall()\n",
    "    for i in result:\n",
    "        print(i)\n",
    "    conn.commit()\n",
    "except:\n",
    "    print(\"Error in your connection\")\n",
    "    conn.rollback()\n",
    "conn.close()  "
   ]
  },
  {
   "cell_type": "code",
   "execution_count": null,
   "id": "3a1f3d2a",
   "metadata": {},
   "outputs": [],
   "source": []
  },
  {
   "cell_type": "code",
   "execution_count": null,
   "id": "13e13beb",
   "metadata": {},
   "outputs": [],
   "source": []
  },
  {
   "cell_type": "code",
   "execution_count": 1,
   "id": "4ba3582a",
   "metadata": {},
   "outputs": [
    {
     "data": {
      "text/html": [
       "\n",
       "    <style>\n",
       "        body {\n",
       "            background-color: #f2fff2;\n",
       "        }\n",
       "        h1 {\n",
       "            text-align: center;\n",
       "            font-weight: bold;\n",
       "            font-size: 36px;\n",
       "            color: #4295F4;\n",
       "            text-decoration: underline;\n",
       "            padding-top: 15px;\n",
       "        }\n",
       "        \n",
       "        h2 {\n",
       "            text-align: left;\n",
       "            font-weight: bold;\n",
       "            font-size: 30px;\n",
       "            color: #4A000A;\n",
       "            text-decoration: underline;\n",
       "            padding-top: 10px;\n",
       "        }\n",
       "        \n",
       "        h3 {\n",
       "            text-align: left;\n",
       "            font-weight: bold;\n",
       "            font-size: 30px;\n",
       "            color: #f0081e;\n",
       "            text-decoration: underline;\n",
       "            padding-top: 5px;\n",
       "        }\n",
       "\n",
       "        \n",
       "        p {\n",
       "            text-align: center;\n",
       "            font-size: 12 px;\n",
       "            color: #0B9923;\n",
       "        }\n",
       "    </style>\n",
       "\n",
       "<h1>Hello</h1>\n",
       "<p>Hello World</p>\n",
       "<h2> Hello</h2>\n",
       "<h3> World </h3>\n"
      ],
      "text/plain": [
       "<IPython.core.display.HTML object>"
      ]
     },
     "execution_count": 1,
     "metadata": {},
     "output_type": "execute_result"
    }
   ],
   "source": [
    "from IPython.core.display import HTML\n",
    "\n",
    "style = \"\"\"\n",
    "    <style>\n",
    "        body {\n",
    "            background-color: #f2fff2;\n",
    "        }\n",
    "        h1 {\n",
    "            text-align: center;\n",
    "            font-weight: bold;\n",
    "            font-size: 36px;\n",
    "            color: #4295F4;\n",
    "            text-decoration: underline;\n",
    "            padding-top: 15px;\n",
    "        }\n",
    "        \n",
    "        h2 {\n",
    "            text-align: left;\n",
    "            font-weight: bold;\n",
    "            font-size: 30px;\n",
    "            color: #4A000A;\n",
    "            text-decoration: underline;\n",
    "            padding-top: 10px;\n",
    "        }\n",
    "        \n",
    "        h3 {\n",
    "            text-align: left;\n",
    "            font-weight: bold;\n",
    "            font-size: 30px;\n",
    "            color: #f0081e;\n",
    "            text-decoration: underline;\n",
    "            padding-top: 5px;\n",
    "        }\n",
    "\n",
    "        \n",
    "        p {\n",
    "            text-align: center;\n",
    "            font-size: 12 px;\n",
    "            color: #0B9923;\n",
    "        }\n",
    "    </style>\n",
    "\"\"\"\n",
    "\n",
    "html_content = \"\"\"\n",
    "<h1>Hello</h1>\n",
    "<p>Hello World</p>\n",
    "<h2> Hello</h2>\n",
    "<h3> World </h3>\n",
    "\"\"\"\n",
    "\n",
    "HTML(style + html_content)"
   ]
  },
  {
   "cell_type": "code",
   "execution_count": null,
   "id": "08f2140c",
   "metadata": {},
   "outputs": [],
   "source": []
  }
 ],
 "metadata": {
  "kernelspec": {
   "display_name": "Python 3 (ipykernel)",
   "language": "python",
   "name": "python3"
  },
  "language_info": {
   "codemirror_mode": {
    "name": "ipython",
    "version": 3
   },
   "file_extension": ".py",
   "mimetype": "text/x-python",
   "name": "python",
   "nbconvert_exporter": "python",
   "pygments_lexer": "ipython3",
   "version": "3.11.7"
  }
 },
 "nbformat": 4,
 "nbformat_minor": 5
}
